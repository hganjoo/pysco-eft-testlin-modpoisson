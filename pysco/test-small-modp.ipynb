{
 "cells": [
  {
   "cell_type": "code",
   "execution_count": 1,
   "id": "b849885c-861b-4f15-a951-6cf85cb9fcee",
   "metadata": {},
   "outputs": [],
   "source": [
    "import main\n",
    "import pandas as pd"
   ]
  },
  {
   "cell_type": "code",
   "execution_count": 6,
   "id": "5ef8bd61-eb79-4e13-8a29-daebb50df2ed",
   "metadata": {},
   "outputs": [
    {
     "data": {
      "text/html": [
       "<pre style=\"white-space:pre;overflow-x:auto;line-height:normal;font-family:Menlo,'DejaVu Sans Mono',consolas,'Courier New',monospace\">param<span style=\"font-weight: bold\">[</span><span style=\"color: #008000; text-decoration-color: #008000\">'nthreads'</span><span style=\"font-weight: bold\">]</span>=<span style=\"color: #008080; text-decoration-color: #008080; font-weight: bold\">1</span>                                                                                                \n",
       "</pre>\n"
      ],
      "text/plain": [
       "param\u001b[1m[\u001b[0m\u001b[32m'nthreads'\u001b[0m\u001b[1m]\u001b[0m=\u001b[1;36m1\u001b[0m                                                                                                \n"
      ]
     },
     "metadata": {},
     "output_type": "display_data"
    },
    {
     "data": {
      "text/html": [
       "<pre style=\"white-space:pre;overflow-x:auto;line-height:normal;font-family:Menlo,'DejaVu Sans Mono',consolas,'Courier New',monospace\">                                                                                                                   \n",
       "<span style=\"color: #008000; text-decoration-color: #008000; font-weight: bold\">FFT module: NumPy</span>                                                                                                  \n",
       "</pre>\n"
      ],
      "text/plain": [
       "                                                                                                                   \n",
       "\u001b[1;32mFFT module: NumPy\u001b[0m                                                                                                  \n"
      ]
     },
     "metadata": {},
     "output_type": "display_data"
    },
    {
     "data": {
      "text/html": [
       "<pre style=\"white-space:pre;overflow-x:auto;line-height:normal;font-family:Menlo,'DejaVu Sans Mono',consolas,'Courier New',monospace\">                                                                                                                   \n",
       "<span style=\"color: #000080; text-decoration-color: #000080; font-weight: bold\">----- Compute background cosmology -----</span>                                                                           \n",
       "                                                                                                                   \n",
       "</pre>\n"
      ],
      "text/plain": [
       "                                                                                                                   \n",
       "\u001b[1;34m----- Compute background cosmology -----\u001b[0m                                                                           \n",
       "                                                                                                                   \n"
      ]
     },
     "metadata": {},
     "output_type": "display_data"
    },
    {
     "data": {
      "text/html": [
       "<pre style=\"white-space:pre;overflow-x:auto;line-height:normal;font-family:Menlo,'DejaVu Sans Mono',consolas,'Courier New',monospace\">Write table in: .<span style=\"color: #800080; text-decoration-color: #800080\">/small//</span><span style=\"color: #ff00ff; text-decoration-color: #ff00ff\">evolution_table_pysco_eft_multigrid_ncoarse5.txt</span>                                          \n",
       "</pre>\n"
      ],
      "text/plain": [
       "Write table in: .\u001b[35m/small/\u001b[0m\u001b[35m/\u001b[0m\u001b[95mevolution_table_pysco_eft_multigrid_ncoarse5.txt\u001b[0m                                          \n"
      ]
     },
     "metadata": {},
     "output_type": "display_data"
    },
    {
     "data": {
      "text/html": [
       "<pre style=\"white-space:pre;overflow-x:auto;line-height:normal;font-family:Menlo,'DejaVu Sans Mono',consolas,'Courier New',monospace\">                                                                                                                   \n",
       "<span style=\"color: #000080; text-decoration-color: #000080; font-weight: bold\">----- Initial conditions -----</span>                                                                                     \n",
       "                                                                                                                   \n",
       "</pre>\n"
      ],
      "text/plain": [
       "                                                                                                                   \n",
       "\u001b[1;34m----- Initial conditions -----\u001b[0m                                                                                     \n",
       "                                                                                                                   \n"
      ]
     },
     "metadata": {},
     "output_type": "display_data"
    },
    {
     "data": {
      "text/html": [
       "<pre style=\"white-space:pre;overflow-x:auto;line-height:normal;font-family:Menlo,'DejaVu Sans Mono',consolas,'Courier New',monospace\">param<span style=\"font-weight: bold\">[</span><span style=\"color: #008000; text-decoration-color: #008000\">'z_start'</span><span style=\"font-weight: bold\">]</span>=<span style=\"color: #008080; text-decoration-color: #008080; font-weight: bold\">60</span>                                                                                                \n",
       "</pre>\n"
      ],
      "text/plain": [
       "param\u001b[1m[\u001b[0m\u001b[32m'z_start'\u001b[0m\u001b[1m]\u001b[0m=\u001b[1;36m60\u001b[0m                                                                                                \n"
      ]
     },
     "metadata": {},
     "output_type": "display_data"
    },
    {
     "data": {
      "text/html": [
       "<pre style=\"white-space:pre;overflow-x:auto;line-height:normal;font-family:Menlo,'DejaVu Sans Mono',consolas,'Courier New',monospace\">Compute 1LPT contribution                                                                                          \n",
       "</pre>\n"
      ],
      "text/plain": [
       "Compute 1LPT contribution                                                                                          \n"
      ]
     },
     "metadata": {},
     "output_type": "display_data"
    },
    {
     "data": {
      "text/html": [
       "<pre style=\"white-space:pre;overflow-x:auto;line-height:normal;font-family:Menlo,'DejaVu Sans Mono',consolas,'Courier New',monospace\">Compute 2LPT contribution                                                                                          \n",
       "</pre>\n"
      ],
      "text/plain": [
       "Compute 2LPT contribution                                                                                          \n"
      ]
     },
     "metadata": {},
     "output_type": "display_data"
    },
    {
     "data": {
      "text/html": [
       "<pre style=\"white-space:pre;overflow-x:auto;line-height:normal;font-family:Menlo,'DejaVu Sans Mono',consolas,'Courier New',monospace\">Write initial snapshot<span style=\"color: #808000; text-decoration-color: #808000\">...</span><span style=\"color: #808000; text-decoration-color: #808000\">snap_name</span>=<span style=\"color: #008000; text-decoration-color: #008000\">'./small//output_00000/particles_eft_multigrid_ncoarse5.h5'</span>                     \n",
       "</pre>\n"
      ],
      "text/plain": [
       "Write initial snapshot\u001b[33m...\u001b[0m\u001b[33msnap_name\u001b[0m=\u001b[32m'./small//output_00000/particles_eft_multigrid_ncoarse5.h5'\u001b[0m                     \n"
      ]
     },
     "metadata": {},
     "output_type": "display_data"
    },
    {
     "name": "stdout",
     "output_type": "stream",
     "text": [
      "ICs [0.01612854 0.01594476 0.01564018] [6.4481828e-05 4.1046082e-05 2.0077648e-06]\n"
     ]
    },
    {
     "data": {
      "text/html": [
       "<pre style=\"white-space:pre;overflow-x:auto;line-height:normal;font-family:Menlo,'DejaVu Sans Mono',consolas,'Courier New',monospace\">param<span style=\"font-weight: bold\">[</span><span style=\"color: #008000; text-decoration-color: #008000\">'aexp'</span><span style=\"font-weight: bold\">]</span>=<span style=\"color: #008080; text-decoration-color: #008080; font-weight: bold\">0.01639344262295082</span> param<span style=\"font-weight: bold\">[</span><span style=\"color: #008000; text-decoration-color: #008000\">'t'</span><span style=\"font-weight: bold\">]</span>=<span style=\"color: #800080; text-decoration-color: #800080; font-weight: bold\">array</span><span style=\"font-weight: bold\">(</span><span style=\"color: #008080; text-decoration-color: #008080; font-weight: bold\">-13.62049933</span><span style=\"font-weight: bold\">)</span>                                                   \n",
       "</pre>\n"
      ],
      "text/plain": [
       "param\u001b[1m[\u001b[0m\u001b[32m'aexp'\u001b[0m\u001b[1m]\u001b[0m=\u001b[1;36m0.01639344262295082\u001b[0m param\u001b[1m[\u001b[0m\u001b[32m't'\u001b[0m\u001b[1m]\u001b[0m=\u001b[1;35marray\u001b[0m\u001b[1m(\u001b[0m\u001b[1;36m-13.62049933\u001b[0m\u001b[1m)\u001b[0m                                                   \n"
      ]
     },
     "metadata": {},
     "output_type": "display_data"
    },
    {
     "data": {
      "text/html": [
       "<pre style=\"white-space:pre;overflow-x:auto;line-height:normal;font-family:Menlo,'DejaVu Sans Mono',consolas,'Courier New',monospace\">                                                                                                                   \n",
       "<span style=\"color: #000080; text-decoration-color: #000080; font-weight: bold\">----- Run N-body -----</span>                                                                                             \n",
       "                                                                                                                   \n",
       "</pre>\n"
      ],
      "text/plain": [
       "                                                                                                                   \n",
       "\u001b[1;34m----- Run N-body -----\u001b[0m                                                                                             \n",
       "                                                                                                                   \n"
      ]
     },
     "metadata": {},
     "output_type": "display_data"
    },
    {
     "data": {
      "text/html": [
       "<pre style=\"white-space:pre;overflow-x:auto;line-height:normal;font-family:Menlo,'DejaVu Sans Mono',consolas,'Courier New',monospace\">Tables, <span style=\"color: #008080; text-decoration-color: #008080; font-weight: bold\">13</span>                                                                                                         \n",
       "</pre>\n"
      ],
      "text/plain": [
       "Tables, \u001b[1;36m13\u001b[0m                                                                                                         \n"
      ]
     },
     "metadata": {},
     "output_type": "display_data"
    },
    {
     "name": "stdout",
     "output_type": "stream",
     "text": [
      "EFT-reserr\n",
      "rese-xc-before: 5.155442704563029e-05\n",
      "EFT-reserr\n",
      "rese-xc-before: 3.8378057070076466e-05\n",
      "EFT-reserr\n",
      "reserr: 1.6110909200506285e-05\n",
      "EFT-reserr\n",
      "rese-xc-before: 5.135907849762589e-05\n",
      "EFT-reserr\n",
      "rese-xc-before: 3.841530633508228e-05\n",
      "EFT-reserr\n",
      "reserr: 1.6726784451748244e-05\n",
      "EFT-reserr\n",
      "rese-xc-before: 5.135905303177424e-05\n",
      "EFT-reserr\n",
      "rese-xc-before: 3.8415309973061085e-05\n",
      "EFT-reserr\n",
      "reserr: 1.672714643063955e-05\n",
      "EFT-reserr\n",
      "rese-xc-before: 5.135906030773185e-05\n",
      "EFT-reserr\n",
      "rese-xc-before: 3.84153172490187e-05\n",
      "EFT-reserr\n",
      "reserr: 1.6727026377338916e-05\n",
      "EFT-reserr\n",
      "rese-xc-before: 5.1359056669753045e-05\n",
      "EFT-reserr\n",
      "rese-xc-before: 3.8415309973061085e-05\n",
      "EFT-reserr\n",
      "reserr: 1.6727131878724322e-05\n",
      "EFT-reserr\n",
      "rese-xc-before: 5.1359056669753045e-05\n",
      "EFT-reserr\n",
      "rese-xc-before: 3.841530633508228e-05\n",
      "EFT-reserr\n",
      "reserr: 1.6726815374568105e-05\n",
      "EFT-reserr\n",
      "2.5025384\n",
      "EFT-reserr\n",
      "rese-xc-before: 6.240957736736163e-05\n",
      "EFT-reserr\n",
      "rese-xc-before: 4.646500019589439e-05\n",
      "EFT-reserr\n",
      "reserr: 1.9443530618445948e-05\n",
      "EFT-reserr\n",
      "rese-xc-before: 6.217301415745169e-05\n",
      "EFT-reserr\n",
      "rese-xc-before: 4.651008566725068e-05\n",
      "EFT-reserr\n",
      "reserr: 2.0191222574794665e-05\n",
      "EFT-reserr\n",
      "rese-xc-before: 6.217297777766362e-05\n",
      "EFT-reserr\n",
      "rese-xc-before: 4.651009294320829e-05\n",
      "EFT-reserr\n",
      "reserr: 2.0191238945699297e-05\n",
      "EFT-reserr\n",
      "rese-xc-before: 6.217297777766362e-05\n",
      "EFT-reserr\n",
      "rese-xc-before: 4.651008566725068e-05\n",
      "EFT-reserr\n",
      "reserr: 2.0191231669741683e-05\n",
      "EFT-reserr\n",
      "rese-xc-before: 6.217298505362123e-05\n",
      "EFT-reserr\n",
      "rese-xc-before: 4.651008202927187e-05\n",
      "EFT-reserr\n",
      "reserr: 2.0191129806335084e-05\n",
      "EFT-reserr\n",
      "rese-xc-before: 6.217298505362123e-05\n",
      "EFT-reserr\n",
      "rese-xc-before: 4.651007475331426e-05\n",
      "EFT-reserr\n",
      "reserr: 2.0191453586448915e-05\n",
      "EFT-reserr\n",
      "2.499035\n",
      "Step: 1 [0.01617974 0.01597624 0.01564139] [7.7637393e-05 4.6028195e-05 1.2420003e-06] [[ 0.00120705  0.00158005  0.00231809 ... -0.00051772 -0.00056544\n",
      "   0.00054976]\n",
      " [ 0.00123195  0.00119848  0.00216705 ... -0.00023508 -0.00015578\n",
      "   0.00069912]\n",
      " [-0.0002695   0.00069967  0.00260397 ...  0.00035838  0.00084603\n",
      "   0.00058862]\n",
      " ...\n",
      " [ 0.00060892 -0.00070897 -0.00071922 ... -0.00099286 -0.00112499\n",
      "  -0.00072078]\n",
      " [-0.00017604 -0.00071284 -0.00038555 ... -0.00109525 -0.00098288\n",
      "  -0.00146919]\n",
      " [-0.00016511  0.00064856  0.00172813 ... -0.00162532 -0.0008907\n",
      "  -0.00081633]]\n"
     ]
    },
    {
     "data": {
      "text/html": [
       "<pre style=\"white-space:pre;overflow-x:auto;line-height:normal;font-family:Menlo,'DejaVu Sans Mono',consolas,'Courier New',monospace\">param<span style=\"font-weight: bold\">[</span><span style=\"color: #008000; text-decoration-color: #008000\">'nsteps'</span><span style=\"font-weight: bold\">]</span>=<span style=\"color: #008080; text-decoration-color: #008080; font-weight: bold\">1</span> param<span style=\"font-weight: bold\">[</span><span style=\"color: #008000; text-decoration-color: #008000\">'aexp'</span><span style=\"font-weight: bold\">]</span>=<span style=\"color: #008080; text-decoration-color: #008080; font-weight: bold\">0.018032786886296715</span> z = <span style=\"color: #008080; text-decoration-color: #008080; font-weight: bold\">54.45454545131398</span>                                         \n",
       "</pre>\n"
      ],
      "text/plain": [
       "param\u001b[1m[\u001b[0m\u001b[32m'nsteps'\u001b[0m\u001b[1m]\u001b[0m=\u001b[1;36m1\u001b[0m param\u001b[1m[\u001b[0m\u001b[32m'aexp'\u001b[0m\u001b[1m]\u001b[0m=\u001b[1;36m0.018032786886296715\u001b[0m z = \u001b[1;36m54.45454545131398\u001b[0m                                         \n"
      ]
     },
     "metadata": {},
     "output_type": "display_data"
    },
    {
     "name": "stdout",
     "output_type": "stream",
     "text": [
      "EFT-reserr\n",
      "rese-xc-before: 7.569013541797176e-05\n",
      "EFT-reserr\n",
      "rese-xc-before: 5.636905916617252e-05\n",
      "EFT-reserr\n",
      "reserr: 2.3416505428031087e-05\n",
      "EFT-reserr\n",
      "rese-xc-before: 7.540292426710948e-05\n",
      "EFT-reserr\n",
      "rese-xc-before: 5.6423716159770265e-05\n",
      "EFT-reserr\n",
      "reserr: 2.432936707918998e-05\n",
      "EFT-reserr\n",
      "rese-xc-before: 7.540289516327903e-05\n",
      "EFT-reserr\n",
      "rese-xc-before: 5.642370888381265e-05\n",
      "EFT-reserr\n",
      "reserr: 2.4329779989784583e-05\n",
      "EFT-reserr\n",
      "rese-xc-before: 7.540288788732141e-05\n",
      "EFT-reserr\n",
      "rese-xc-before: 5.6423705245833844e-05\n",
      "EFT-reserr\n",
      "reserr: 2.4329807274625637e-05\n",
      "EFT-reserr\n",
      "rese-xc-before: 7.540288788732141e-05\n",
      "EFT-reserr\n",
      "rese-xc-before: 5.6423705245833844e-05\n",
      "EFT-reserr\n",
      "reserr: 2.4329661755473353e-05\n",
      "EFT-reserr\n",
      "rese-xc-before: 7.54028806113638e-05\n",
      "EFT-reserr\n",
      "rese-xc-before: 5.642369796987623e-05\n",
      "EFT-reserr\n",
      "reserr: 2.432998371659778e-05\n",
      "EFT-reserr\n",
      "2.5726485\n",
      "Step: 2 [0.01623831 0.01600995 0.01564197] [9.287124e-05 5.178340e-05 3.363822e-07] [[ 0.00145654  0.00191647  0.00280825 ... -0.00063087 -0.00068252\n",
      "   0.00065834]\n",
      " [ 0.00149085  0.00146115  0.00262271 ... -0.00029248 -0.00018656\n",
      "   0.00084393]\n",
      " [-0.00030419  0.00086466  0.00314684 ...  0.00042576  0.00101507\n",
      "   0.00071192]\n",
      " ...\n",
      " [ 0.00071761 -0.00086812 -0.00086682 ... -0.00119045 -0.00136002\n",
      "  -0.0008727 ]\n",
      " [-0.00021259 -0.00085805 -0.00045644 ... -0.00131806 -0.00119406\n",
      "  -0.00175683]\n",
      " [-0.00019044  0.00078661  0.00208582 ... -0.00194712 -0.00107768\n",
      "  -0.000977  ]]\n"
     ]
    },
    {
     "data": {
      "text/html": [
       "<pre style=\"white-space:pre;overflow-x:auto;line-height:normal;font-family:Menlo,'DejaVu Sans Mono',consolas,'Courier New',monospace\">param<span style=\"font-weight: bold\">[</span><span style=\"color: #008000; text-decoration-color: #008000\">'nsteps'</span><span style=\"font-weight: bold\">]</span>=<span style=\"color: #008080; text-decoration-color: #008080; font-weight: bold\">2</span> param<span style=\"font-weight: bold\">[</span><span style=\"color: #008000; text-decoration-color: #008000\">'aexp'</span><span style=\"font-weight: bold\">]</span>=<span style=\"color: #008080; text-decoration-color: #008080; font-weight: bold\">0.019836065532935567</span> z = <span style=\"color: #008080; text-decoration-color: #008080; font-weight: bold\">49.413223244277546</span>                                        \n",
       "</pre>\n"
      ],
      "text/plain": [
       "param\u001b[1m[\u001b[0m\u001b[32m'nsteps'\u001b[0m\u001b[1m]\u001b[0m=\u001b[1;36m2\u001b[0m param\u001b[1m[\u001b[0m\u001b[32m'aexp'\u001b[0m\u001b[1m]\u001b[0m=\u001b[1;36m0.019836065532935567\u001b[0m z = \u001b[1;36m49.413223244277546\u001b[0m                                        \n"
      ]
     },
     "metadata": {},
     "output_type": "display_data"
    },
    {
     "name": "stdout",
     "output_type": "stream",
     "text": [
      "EFT-reserr\n",
      "rese-xc-before: 9.193050937028602e-05\n",
      "EFT-reserr\n",
      "rese-xc-before: 6.849211786175147e-05\n",
      "EFT-reserr\n",
      "reserr: 2.815911648212932e-05\n",
      "EFT-reserr\n",
      "rese-xc-before: 9.158116881735623e-05\n",
      "EFT-reserr\n",
      "rese-xc-before: 6.855838728370145e-05\n",
      "EFT-reserr\n",
      "reserr: 2.927958485088311e-05\n",
      "EFT-reserr\n",
      "rese-xc-before: 9.158111060969532e-05\n",
      "EFT-reserr\n",
      "rese-xc-before: 6.855840183561668e-05\n",
      "EFT-reserr\n",
      "reserr: 2.928005596913863e-05\n",
      "EFT-reserr\n",
      "rese-xc-before: 9.158111060969532e-05\n",
      "EFT-reserr\n",
      "rese-xc-before: 6.855840183561668e-05\n",
      "EFT-reserr\n",
      "reserr: 2.9279808586579747e-05\n",
      "EFT-reserr\n",
      "rese-xc-before: 9.158111788565293e-05\n",
      "EFT-reserr\n",
      "rese-xc-before: 6.855840183561668e-05\n",
      "EFT-reserr\n",
      "reserr: 2.9280216040206142e-05\n",
      "EFT-reserr\n",
      "rese-xc-before: 9.158111060969532e-05\n",
      "EFT-reserr\n",
      "rese-xc-before: 6.855840183561668e-05\n",
      "EFT-reserr\n",
      "reserr: 2.9280285161803477e-05\n",
      "EFT-reserr\n",
      "2.5079532\n",
      "Step: 3 [0.01630496 0.01604615 0.01564188] [ 1.1057346e-04  5.8433143e-05 -7.5743856e-07] [[ 0.00175437  0.00232581  0.00339914 ... -0.00076987 -0.0008227\n",
      "   0.00078389]\n",
      " [ 0.00180204  0.00178658  0.00317202 ... -0.00036512 -0.00022154\n",
      "   0.00101701]\n",
      " [-0.00033094  0.00107553  0.00379444 ...  0.00050376  0.0012141\n",
      "   0.00086093]\n",
      " ...\n",
      " [ 0.00083448 -0.00106268 -0.0010437  ... -0.00141962 -0.00164203\n",
      "  -0.00105532]\n",
      " [-0.00025784 -0.00102787 -0.00053561 ... -0.0015815  -0.00145071\n",
      "  -0.00209022]\n",
      " [-0.00021473  0.00095586  0.00251247 ... -0.00232273 -0.001303\n",
      "  -0.00116363]]\n"
     ]
    },
    {
     "data": {
      "text/html": [
       "<pre style=\"white-space:pre;overflow-x:auto;line-height:normal;font-family:Menlo,'DejaVu Sans Mono',consolas,'Courier New',monospace\">param<span style=\"font-weight: bold\">[</span><span style=\"color: #008000; text-decoration-color: #008000\">'nsteps'</span><span style=\"font-weight: bold\">]</span>=<span style=\"color: #008080; text-decoration-color: #008080; font-weight: bold\">3</span> param<span style=\"font-weight: bold\">[</span><span style=\"color: #008000; text-decoration-color: #008000\">'aexp'</span><span style=\"font-weight: bold\">]</span>=<span style=\"color: #008080; text-decoration-color: #008080; font-weight: bold\">0.021819672134484495</span> z = <span style=\"color: #008080; text-decoration-color: #008080; font-weight: bold\">44.83020284798728</span>                                         \n",
       "</pre>\n"
      ],
      "text/plain": [
       "param\u001b[1m[\u001b[0m\u001b[32m'nsteps'\u001b[0m\u001b[1m]\u001b[0m=\u001b[1;36m3\u001b[0m param\u001b[1m[\u001b[0m\u001b[32m'aexp'\u001b[0m\u001b[1m]\u001b[0m=\u001b[1;36m0.021819672134484495\u001b[0m z = \u001b[1;36m44.83020284798728\u001b[0m                                         \n"
      ]
     },
     "metadata": {},
     "output_type": "display_data"
    },
    {
     "name": "stdout",
     "output_type": "stream",
     "text": [
      "EFT-reserr\n",
      "rese-xc-before: 0.00011178338172612712\n",
      "EFT-reserr\n",
      "rese-xc-before: 8.332527795573696e-05\n",
      "EFT-reserr\n",
      "reserr: 3.382442082511261e-05\n",
      "EFT-reserr\n",
      "rese-xc-before: 0.00011135783279314637\n",
      "EFT-reserr\n",
      "rese-xc-before: 8.34057354950346e-05\n",
      "EFT-reserr\n",
      "reserr: 3.520376412780024e-05\n",
      "EFT-reserr\n",
      "rese-xc-before: 0.00011135776730952784\n",
      "EFT-reserr\n",
      "rese-xc-before: 8.34057354950346e-05\n",
      "EFT-reserr\n",
      "reserr: 3.520450263749808e-05\n",
      "EFT-reserr\n",
      "rese-xc-before: 0.00011135777458548546\n",
      "EFT-reserr\n",
      "rese-xc-before: 8.340572821907699e-05\n",
      "EFT-reserr\n",
      "reserr: 3.520386599120684e-05\n",
      "EFT-reserr\n",
      "rese-xc-before: 0.00011135777458548546\n",
      "EFT-reserr\n",
      "rese-xc-before: 8.340572821907699e-05\n",
      "EFT-reserr\n",
      "reserr: 3.520475729601458e-05\n",
      "EFT-reserr\n",
      "rese-xc-before: 0.00011135777458548546\n",
      "EFT-reserr\n",
      "rese-xc-before: 8.340572094311938e-05\n",
      "EFT-reserr\n",
      "reserr: 3.5204695450374857e-05\n",
      "EFT-reserr\n",
      "2.495791\n",
      "Step: 4 [0.01638047 0.01608516 0.01564103] [ 1.3119972e-04  6.6118628e-05 -2.0973805e-06] [[ 0.00211038  0.00282414  0.00411193 ... -0.00094066 -0.00099042\n",
      "   0.00092932]\n",
      " [ 0.00217663  0.00218954  0.00383464 ... -0.00045693 -0.00026128\n",
      "   0.00122402]\n",
      " [-0.00034535  0.00134425  0.0045679  ...  0.00059389  0.00144852\n",
      "   0.00104114]\n",
      " ...\n",
      " [ 0.00095869 -0.00130054 -0.00125565 ... -0.00168569 -0.0019806\n",
      "  -0.00127513]\n",
      " [-0.00031382 -0.00122667 -0.00062371 ... -0.0018933  -0.00176271\n",
      "  -0.00247699]\n",
      " [-0.00023661  0.00116329  0.00302168 ... -0.00276153 -0.00157459\n",
      "  -0.00138057]]\n"
     ]
    },
    {
     "data": {
      "text/html": [
       "<pre style=\"white-space:pre;overflow-x:auto;line-height:normal;font-family:Menlo,'DejaVu Sans Mono',consolas,'Courier New',monospace\">param<span style=\"font-weight: bold\">[</span><span style=\"color: #008000; text-decoration-color: #008000\">'nsteps'</span><span style=\"font-weight: bold\">]</span>=<span style=\"color: #008080; text-decoration-color: #008080; font-weight: bold\">4</span> param<span style=\"font-weight: bold\">[</span><span style=\"color: #008000; text-decoration-color: #008000\">'aexp'</span><span style=\"font-weight: bold\">]</span>=<span style=\"color: #008080; text-decoration-color: #008080; font-weight: bold\">0.02400163929799238</span> z = <span style=\"color: #008080; text-decoration-color: #008080; font-weight: bold\">40.66382085758806</span>                                          \n",
       "</pre>\n"
      ],
      "text/plain": [
       "param\u001b[1m[\u001b[0m\u001b[32m'nsteps'\u001b[0m\u001b[1m]\u001b[0m=\u001b[1;36m4\u001b[0m param\u001b[1m[\u001b[0m\u001b[32m'aexp'\u001b[0m\u001b[1m]\u001b[0m=\u001b[1;36m0.02400163929799238\u001b[0m z = \u001b[1;36m40.66382085758806\u001b[0m                                          \n"
      ]
     },
     "metadata": {},
     "output_type": "display_data"
    },
    {
     "name": "stdout",
     "output_type": "stream",
     "text": [
      "EFT-reserr\n",
      "rese-xc-before: 0.00013604623381979764\n",
      "EFT-reserr\n",
      "rese-xc-before: 0.00010146886052098125\n",
      "EFT-reserr\n",
      "reserr: 4.0595154132461175e-05\n",
      "EFT-reserr\n",
      "rese-xc-before: 0.00013552729797083884\n",
      "EFT-reserr\n",
      "rese-xc-before: 0.00010156659845961258\n",
      "EFT-reserr\n",
      "reserr: 4.229934711474925e-05\n",
      "EFT-reserr\n",
      "rese-xc-before: 0.00013552723976317793\n",
      "EFT-reserr\n",
      "rese-xc-before: 0.0001015666130115278\n",
      "EFT-reserr\n",
      "reserr: 4.230012928019278e-05\n",
      "EFT-reserr\n",
      "rese-xc-before: 0.00013552723976317793\n",
      "EFT-reserr\n",
      "rese-xc-before: 0.00010156656935578212\n",
      "EFT-reserr\n",
      "reserr: 4.230103513691574e-05\n",
      "EFT-reserr\n",
      "rese-xc-before: 0.0001355272252112627\n",
      "EFT-reserr\n",
      "rese-xc-before: 0.00010156656935578212\n",
      "EFT-reserr\n",
      "reserr: 4.229985279380344e-05\n",
      "EFT-reserr\n",
      "rese-xc-before: 0.0001355272252112627\n",
      "EFT-reserr\n",
      "rese-xc-before: 0.00010156658390769735\n",
      "EFT-reserr\n",
      "reserr: 4.2300358472857624e-05\n",
      "EFT-reserr\n",
      "2.5049396\n",
      "Step: 5 [0.0164658  0.0161273  0.01563934] [ 1.5528299e-04  7.5004005e-05 -3.7531249e-06] [[ 0.00253641  0.00343098  0.00497205 ... -0.00115043 -0.00119118\n",
      "   0.001098  ]\n",
      " [ 0.00262803  0.00268816  0.00463441 ... -0.00057283 -0.00030626\n",
      "   0.00147217]\n",
      " [-0.0003416   0.00168583  0.0054929  ...  0.00069737  0.00172485\n",
      "   0.00125955]\n",
      " ...\n",
      " [ 0.001089   -0.00159146 -0.00150965 ... -0.0019951  -0.00238728\n",
      "  -0.00153998]\n",
      " [-0.0003828  -0.00145947 -0.00072145 ... -0.00226247 -0.0021417\n",
      "  -0.00292586]\n",
      " [-0.00025425  0.00141763  0.00362975 ... -0.00327434 -0.00190179\n",
      "  -0.00163262]]\n"
     ]
    },
    {
     "data": {
      "text/html": [
       "<pre style=\"white-space:pre;overflow-x:auto;line-height:normal;font-family:Menlo,'DejaVu Sans Mono',consolas,'Courier New',monospace\">param<span style=\"font-weight: bold\">[</span><span style=\"color: #008000; text-decoration-color: #008000\">'nsteps'</span><span style=\"font-weight: bold\">]</span>=<span style=\"color: #008080; text-decoration-color: #008080; font-weight: bold\">5</span> param<span style=\"font-weight: bold\">[</span><span style=\"color: #008000; text-decoration-color: #008000\">'aexp'</span><span style=\"font-weight: bold\">]</span>=<span style=\"color: #008080; text-decoration-color: #008080; font-weight: bold\">0.026401803288958612</span> z = <span style=\"color: #008080; text-decoration-color: #008080; font-weight: bold\">36.87620069187493</span>                                         \n",
       "</pre>\n"
      ],
      "text/plain": [
       "param\u001b[1m[\u001b[0m\u001b[32m'nsteps'\u001b[0m\u001b[1m]\u001b[0m=\u001b[1;36m5\u001b[0m param\u001b[1m[\u001b[0m\u001b[32m'aexp'\u001b[0m\u001b[1m]\u001b[0m=\u001b[1;36m0.026401803288958612\u001b[0m z = \u001b[1;36m36.87620069187493\u001b[0m                                         \n"
      ]
     },
     "metadata": {},
     "output_type": "display_data"
    },
    {
     "name": "stdout",
     "output_type": "stream",
     "text": [
      "EFT-reserr\n",
      "rese-xc-before: 0.00016569328727200627\n",
      "EFT-reserr\n",
      "rese-xc-before: 0.00012365655857138336\n",
      "EFT-reserr\n",
      "reserr: 4.869300755672157e-05\n",
      "EFT-reserr\n",
      "rese-xc-before: 0.00016505988605786115\n",
      "EFT-reserr\n",
      "rese-xc-before: 0.00012377534585539252\n",
      "EFT-reserr\n",
      "reserr: 5.080087066744454e-05\n",
      "EFT-reserr\n",
      "rese-xc-before: 0.00016505982785020024\n",
      "EFT-reserr\n",
      "rese-xc-before: 0.00012377536040730774\n",
      "EFT-reserr\n",
      "reserr: 5.080151095171459e-05\n",
      "EFT-reserr\n",
      "rese-xc-before: 0.00016505979874636978\n",
      "EFT-reserr\n",
      "rese-xc-before: 0.00012377534585539252\n",
      "EFT-reserr\n",
      "reserr: 5.080129994894378e-05\n",
      "EFT-reserr\n",
      "rese-xc-before: 0.000165059813298285\n",
      "EFT-reserr\n",
      "rese-xc-before: 0.00012377536040730774\n",
      "EFT-reserr\n",
      "reserr: 5.080146002001129e-05\n",
      "EFT-reserr\n",
      "rese-xc-before: 0.00016505982785020024\n",
      "EFT-reserr\n",
      "rese-xc-before: 0.00012377536040730774\n",
      "EFT-reserr\n",
      "reserr: 5.080170012661256e-05\n",
      "EFT-reserr\n",
      "2.5040617\n",
      "Step: 6 [0.01656199 0.01617292 0.01563668] [ 1.8344737e-04  8.5280495e-05 -5.8087194e-06] [[ 0.00304711  0.00417025  0.0060105  ... -0.00140797 -0.00143161\n",
      "   0.00129408]\n",
      " [ 0.0031729   0.00330509  0.00560028 ... -0.00071909 -0.00035734\n",
      "   0.00177013]\n",
      " [-0.0003117   0.0021192   0.0066007  ...  0.00081557  0.00205071\n",
      "   0.00152463]\n",
      " ...\n",
      " [ 0.00122332 -0.00194726 -0.00181384 ... -0.00235558 -0.00287605\n",
      "  -0.0018596 ]\n",
      " [-0.00046761 -0.00173209 -0.0008294  ... -0.00270007 -0.00260203\n",
      "  -0.00344724]\n",
      " [-0.00026497  0.00172943  0.00435631 ... -0.00387423 -0.00229615\n",
      "  -0.00192548]]\n"
     ]
    },
    {
     "data": {
      "text/html": [
       "<pre style=\"white-space:pre;overflow-x:auto;line-height:normal;font-family:Menlo,'DejaVu Sans Mono',consolas,'Courier New',monospace\">param<span style=\"font-weight: bold\">[</span><span style=\"color: #008000; text-decoration-color: #008000\">'nsteps'</span><span style=\"font-weight: bold\">]</span>=<span style=\"color: #008080; text-decoration-color: #008080; font-weight: bold\">6</span> param<span style=\"font-weight: bold\">[</span><span style=\"color: #008000; text-decoration-color: #008000\">'aexp'</span><span style=\"font-weight: bold\">]</span>=<span style=\"color: #008080; text-decoration-color: #008080; font-weight: bold\">0.02904198366294012</span> z = <span style=\"color: #008080; text-decoration-color: #008080; font-weight: bold\">33.43290966643162</span>                                          \n",
       "</pre>\n"
      ],
      "text/plain": [
       "param\u001b[1m[\u001b[0m\u001b[32m'nsteps'\u001b[0m\u001b[1m]\u001b[0m=\u001b[1;36m6\u001b[0m param\u001b[1m[\u001b[0m\u001b[32m'aexp'\u001b[0m\u001b[1m]\u001b[0m=\u001b[1;36m0.02904198366294012\u001b[0m z = \u001b[1;36m33.43290966643162\u001b[0m                                          \n"
      ]
     },
     "metadata": {},
     "output_type": "display_data"
    },
    {
     "name": "stdout",
     "output_type": "stream",
     "text": [
      "EFT-reserr\n",
      "rese-xc-before: 0.00020191469229757786\n",
      "EFT-reserr\n",
      "rese-xc-before: 0.00015078531578183174\n",
      "EFT-reserr\n",
      "reserr: 5.839195364387706e-05\n",
      "EFT-reserr\n",
      "rese-xc-before: 0.0002011411706916988\n",
      "EFT-reserr\n",
      "rese-xc-before: 0.00015092968533281237\n",
      "EFT-reserr\n",
      "reserr: 6.1005328461760655e-05\n",
      "EFT-reserr\n",
      "rese-xc-before: 0.00020114105427637696\n",
      "EFT-reserr\n",
      "rese-xc-before: 0.0001509296998847276\n",
      "EFT-reserr\n",
      "reserr: 6.100649625295773e-05\n",
      "EFT-reserr\n",
      "rese-xc-before: 0.00020114108338020742\n",
      "EFT-reserr\n",
      "rese-xc-before: 0.00015092968533281237\n",
      "EFT-reserr\n",
      "reserr: 6.10066854278557e-05\n",
      "EFT-reserr\n",
      "rese-xc-before: 0.00020114108338020742\n",
      "EFT-reserr\n",
      "rese-xc-before: 0.00015092968533281237\n",
      "EFT-reserr\n",
      "reserr: 6.100667451391928e-05\n",
      "EFT-reserr\n",
      "rese-xc-before: 0.00020114108338020742\n",
      "EFT-reserr\n",
      "rese-xc-before: 0.00015092972898855805\n",
      "EFT-reserr\n",
      "reserr: 6.100731479818933e-05\n",
      "EFT-reserr\n",
      "2.473205\n",
      "Step: 7 [0.01667026 0.01622243 0.0156329 ] [ 2.1642403e-04  9.7171054e-05 -8.3654022e-06] [[ 0.00366009  0.00507149  0.00726495 ... -0.00172421 -0.00171957\n",
      "   0.00152226]\n",
      " [ 0.00383159  0.00406814  0.00676751 ... -0.00090375 -0.00041503\n",
      "   0.00212852]\n",
      " [-0.00024552  0.00266809  0.00792937 ...  0.00094968  0.0024352\n",
      "   0.00184686]\n",
      " ...\n",
      " [ 0.00135854 -0.00238255 -0.00217821 ... -0.00277629 -0.00346381\n",
      "  -0.00224553]\n",
      " [-0.00057155 -0.00205135 -0.00094805 ... -0.00321924 -0.00316097\n",
      "  -0.00405326]\n",
      " [-0.0002654   0.00211191  0.00522485 ... -0.00457648 -0.00277121\n",
      "  -0.00226562]]\n"
     ]
    },
    {
     "data": {
      "text/html": [
       "<pre style=\"white-space:pre;overflow-x:auto;line-height:normal;font-family:Menlo,'DejaVu Sans Mono',consolas,'Courier New',monospace\">param<span style=\"font-weight: bold\">[</span><span style=\"color: #008000; text-decoration-color: #008000\">'nsteps'</span><span style=\"font-weight: bold\">]</span>=<span style=\"color: #008080; text-decoration-color: #008080; font-weight: bold\">7</span> param<span style=\"font-weight: bold\">[</span><span style=\"color: #008000; text-decoration-color: #008000\">'aexp'</span><span style=\"font-weight: bold\">]</span>=<span style=\"color: #008080; text-decoration-color: #008080; font-weight: bold\">0.031946182012235105</span> z = <span style=\"color: #008080; text-decoration-color: #008080; font-weight: bold\">30.30264516795806</span>                                         \n",
       "</pre>\n"
      ],
      "text/plain": [
       "param\u001b[1m[\u001b[0m\u001b[32m'nsteps'\u001b[0m\u001b[1m]\u001b[0m=\u001b[1;36m7\u001b[0m param\u001b[1m[\u001b[0m\u001b[32m'aexp'\u001b[0m\u001b[1m]\u001b[0m=\u001b[1;36m0.031946182012235105\u001b[0m z = \u001b[1;36m30.30264516795806\u001b[0m                                         \n"
      ]
     },
     "metadata": {},
     "output_type": "display_data"
    },
    {
     "name": "stdout",
     "output_type": "stream",
     "text": [
      "EFT-reserr\n",
      "rese-xc-before: 0.000246164359850809\n",
      "EFT-reserr\n",
      "rese-xc-before: 0.00018395112419966608\n",
      "EFT-reserr\n",
      "reserr: 7.001886115176603e-05\n",
      "EFT-reserr\n",
      "rese-xc-before: 0.0002452193002682179\n",
      "EFT-reserr\n",
      "rese-xc-before: 0.00018412669305689633\n",
      "EFT-reserr\n",
      "reserr: 7.326020568143576e-05\n",
      "EFT-reserr\n",
      "rese-xc-before: 0.0002452191838528961\n",
      "EFT-reserr\n",
      "rese-xc-before: 0.00018412675126455724\n",
      "EFT-reserr\n",
      "reserr: 7.326174818444997e-05\n",
      "EFT-reserr\n",
      "rese-xc-before: 0.0002452191838528961\n",
      "EFT-reserr\n",
      "rese-xc-before: 0.00018412672216072679\n",
      "EFT-reserr\n",
      "reserr: 7.326198829105124e-05\n",
      "EFT-reserr\n",
      "rese-xc-before: 0.0002452191838528961\n",
      "EFT-reserr\n",
      "rese-xc-before: 0.00018412672216072679\n",
      "EFT-reserr\n",
      "reserr: 7.326152262976393e-05\n",
      "EFT-reserr\n",
      "rese-xc-before: 0.0002452191838528961\n",
      "EFT-reserr\n",
      "rese-xc-before: 0.00018412673671264201\n",
      "EFT-reserr\n",
      "reserr: 7.326146442210302e-05\n",
      "EFT-reserr\n",
      "2.5023375\n",
      "Step: 8 [0.01679199 0.01627627 0.01562782] [ 2.5506993e-04  1.1093582e-04 -1.1545302e-05] [[ 0.00439705  0.0061707   0.00878083 ... -0.00211232 -0.00206446\n",
      "   0.00178863]\n",
      " [ 0.00462933  0.00501179  0.00817902 ... -0.00113665 -0.00048029\n",
      "   0.00256016]\n",
      " [-0.00012926  0.00336242  0.00952539 ...  0.0011006   0.00288914\n",
      "   0.00223937]\n",
      " ...\n",
      " [ 0.00149019 -0.00291522 -0.00261449 ... -0.00326853 -0.00417085\n",
      "  -0.00271248]\n",
      " [-0.00069869 -0.00242527 -0.00107796 ... -0.00383561 -0.00383942\n",
      "  -0.00475818]\n",
      " [-0.00025075  0.00258135  0.00626364 ... -0.00539903 -0.00334339\n",
      "  -0.00266072]]\n"
     ]
    },
    {
     "data": {
      "text/html": [
       "<pre style=\"white-space:pre;overflow-x:auto;line-height:normal;font-family:Menlo,'DejaVu Sans Mono',consolas,'Courier New',monospace\">param<span style=\"font-weight: bold\">[</span><span style=\"color: #008000; text-decoration-color: #008000\">'nsteps'</span><span style=\"font-weight: bold\">]</span>=<span style=\"color: #008080; text-decoration-color: #008080; font-weight: bold\">8</span> param<span style=\"font-weight: bold\">[</span><span style=\"color: #008000; text-decoration-color: #008000\">'aexp'</span><span style=\"font-weight: bold\">]</span>=<span style=\"color: #008080; text-decoration-color: #008080; font-weight: bold\">0.03514080040818484</span> z = <span style=\"color: #008080; text-decoration-color: #008080; font-weight: bold\">27.45694999500024</span>                                          \n",
       "</pre>\n"
      ],
      "text/plain": [
       "param\u001b[1m[\u001b[0m\u001b[32m'nsteps'\u001b[0m\u001b[1m]\u001b[0m=\u001b[1;36m8\u001b[0m param\u001b[1m[\u001b[0m\u001b[32m'aexp'\u001b[0m\u001b[1m]\u001b[0m=\u001b[1;36m0.03514080040818484\u001b[0m z = \u001b[1;36m27.45694999500024\u001b[0m                                          \n"
      ]
     },
     "metadata": {},
     "output_type": "display_data"
    },
    {
     "name": "stdout",
     "output_type": "stream",
     "text": [
      "EFT-reserr\n",
      "rese-xc-before: 0.0003002183511853218\n",
      "EFT-reserr\n",
      "rese-xc-before: 0.0002244939241791144\n",
      "EFT-reserr\n",
      "reserr: 8.395646727876738e-05\n",
      "EFT-reserr\n",
      "rese-xc-before: 0.00029906336567364633\n",
      "EFT-reserr\n",
      "rese-xc-before: 0.00022470757539849728\n",
      "EFT-reserr\n",
      "reserr: 8.797982445685193e-05\n",
      "EFT-reserr\n",
      "rese-xc-before: 0.00029906327836215496\n",
      "EFT-reserr\n",
      "rese-xc-before: 0.0002247075317427516\n",
      "EFT-reserr\n",
      "reserr: 8.798207272775471e-05\n",
      "EFT-reserr\n",
      "rese-xc-before: 0.0002990632492583245\n",
      "EFT-reserr\n",
      "rese-xc-before: 0.00022470751719083637\n",
      "EFT-reserr\n",
      "reserr: 8.798323688097298e-05\n",
      "EFT-reserr\n",
      "rese-xc-before: 0.0002990632492583245\n",
      "EFT-reserr\n",
      "rese-xc-before: 0.00022470756084658206\n",
      "EFT-reserr\n",
      "reserr: 8.79831932252273e-05\n",
      "EFT-reserr\n",
      "rese-xc-before: 0.0002990632492583245\n",
      "EFT-reserr\n",
      "rese-xc-before: 0.00022470751719083637\n",
      "EFT-reserr\n",
      "reserr: 8.798337512416765e-05\n",
      "EFT-reserr\n",
      "2.501317\n",
      "Step: 9 [0.01692872 0.01633492 0.01562124] [ 3.0039006e-04  1.2687892e-04 -1.5495809e-05] [[ 5.2846186e-03  7.5123608e-03  1.0613598e-02 ... -2.5887303e-03\n",
      "  -2.4776310e-03  2.1003932e-03]\n",
      " [ 5.5971183e-03  6.1790012e-03  9.8870844e-03 ... -1.4306195e-03\n",
      "  -5.5396929e-04  3.0813627e-03]\n",
      " [ 5.4713339e-05  4.2399578e-03  1.1445604e-02 ...  1.2686178e-03\n",
      "   3.4251660e-03  2.7184635e-03]\n",
      " ...\n",
      " [ 1.6118810e-03 -3.5670809e-03 -3.1366423e-03 ... -3.8457029e-03\n",
      "  -5.0219037e-03 -3.2780282e-03]\n",
      " [-8.5379183e-04 -2.8630197e-03 -1.2193434e-03 ... -4.5680776e-03\n",
      "  -4.6628416e-03 -5.5790134e-03]\n",
      " [-2.1482632e-04  3.1576231e-03  7.5065009e-03 ... -6.3635372e-03\n",
      "  -4.0325597e-03 -3.1194724e-03]]\n"
     ]
    },
    {
     "data": {
      "text/html": [
       "<pre style=\"white-space:pre;overflow-x:auto;line-height:normal;font-family:Menlo,'DejaVu Sans Mono',consolas,'Courier New',monospace\">param<span style=\"font-weight: bold\">[</span><span style=\"color: #008000; text-decoration-color: #008000\">'nsteps'</span><span style=\"font-weight: bold\">]</span>=<span style=\"color: #008080; text-decoration-color: #008080; font-weight: bold\">9</span> param<span style=\"font-weight: bold\">[</span><span style=\"color: #008000; text-decoration-color: #008000\">'aexp'</span><span style=\"font-weight: bold\">]</span>=<span style=\"color: #008080; text-decoration-color: #008080; font-weight: bold\">0.038654880412808304</span> z = <span style=\"color: #008080; text-decoration-color: #008080; font-weight: bold\">24.86995456513299</span>                                         \n",
       "</pre>\n"
      ],
      "text/plain": [
       "param\u001b[1m[\u001b[0m\u001b[32m'nsteps'\u001b[0m\u001b[1m]\u001b[0m=\u001b[1;36m9\u001b[0m param\u001b[1m[\u001b[0m\u001b[32m'aexp'\u001b[0m\u001b[1m]\u001b[0m=\u001b[1;36m0.038654880412808304\u001b[0m z = \u001b[1;36m24.86995456513299\u001b[0m                                         \n"
      ]
     },
     "metadata": {},
     "output_type": "display_data"
    },
    {
     "name": "stdout",
     "output_type": "stream",
     "text": [
      "EFT-reserr\n",
      "rese-xc-before: 0.00036624728818424046\n",
      "EFT-reserr\n",
      "rese-xc-before: 0.0002740516501944512\n",
      "EFT-reserr\n",
      "reserr: 0.00010070424468722194\n",
      "EFT-reserr\n",
      "rese-xc-before: 0.00036483557778410614\n",
      "EFT-reserr\n",
      "rese-xc-before: 0.00027431160560809076\n",
      "EFT-reserr\n",
      "reserr: 0.00010570031008683145\n",
      "EFT-reserr\n",
      "rese-xc-before: 0.0003648354031611234\n",
      "EFT-reserr\n",
      "rese-xc-before: 0.00027431154740042984\n",
      "EFT-reserr\n",
      "reserr: 0.0001057016706909053\n",
      "EFT-reserr\n",
      "rese-xc-before: 0.00036483537405729294\n",
      "EFT-reserr\n",
      "rese-xc-before: 0.0002743115765042603\n",
      "EFT-reserr\n",
      "reserr: 0.00010570167796686292\n",
      "EFT-reserr\n",
      "rese-xc-before: 0.00036483543226495385\n",
      "EFT-reserr\n",
      "rese-xc-before: 0.0002743115182965994\n",
      "EFT-reserr\n",
      "reserr: 0.00010570096492301673\n",
      "EFT-reserr\n",
      "rese-xc-before: 0.00036483537405729294\n",
      "EFT-reserr\n",
      "rese-xc-before: 0.00027431154740042984\n",
      "EFT-reserr\n",
      "reserr: 0.00010570137237664312\n",
      "EFT-reserr\n",
      "2.503389\n",
      "Step: 10 [0.01708221 0.01639893 0.01561289] [ 3.5356326e-04  1.4535614e-04 -2.0394653e-05] [[ 0.00635554  0.0091511   0.01283059 ... -0.00317338 -0.00297256\n",
      "   0.00246634]\n",
      " [ 0.00677319  0.0076229   0.01195544 ... -0.00180152 -0.00063694\n",
      "   0.00371206]\n",
      " [ 0.00032967  0.00534815  0.01375978 ...  0.00145324  0.00405884\n",
      "   0.00330435]\n",
      " ...\n",
      " [ 0.00171494 -0.00436508 -0.00376166 ... -0.00452435 -0.00604699\n",
      "  -0.00396388]\n",
      " [-0.00104272 -0.00337554 -0.00137192 ... -0.00543967 -0.00566179\n",
      "  -0.00653569]\n",
      " [-0.00014951  0.00386551  0.00899406 ... -0.00749541 -0.00486237\n",
      "  -0.00365205]]\n"
     ]
    },
    {
     "data": {
      "text/html": [
       "<pre style=\"white-space:pre;overflow-x:auto;line-height:normal;font-family:Menlo,'DejaVu Sans Mono',consolas,'Courier New',monospace\">param<span style=\"font-weight: bold\">[</span><span style=\"color: #008000; text-decoration-color: #008000\">'nsteps'</span><span style=\"font-weight: bold\">]</span>=<span style=\"color: #008080; text-decoration-color: #008080; font-weight: bold\">10</span> param<span style=\"font-weight: bold\">[</span><span style=\"color: #008000; text-decoration-color: #008000\">'aexp'</span><span style=\"font-weight: bold\">]</span>=<span style=\"color: #008080; text-decoration-color: #008080; font-weight: bold\">0.0425203685592925</span> z = <span style=\"color: #008080; text-decoration-color: #008080; font-weight: bold\">22.518140455568975</span>                                         \n",
       "</pre>\n"
      ],
      "text/plain": [
       "param\u001b[1m[\u001b[0m\u001b[32m'nsteps'\u001b[0m\u001b[1m]\u001b[0m=\u001b[1;36m10\u001b[0m param\u001b[1m[\u001b[0m\u001b[32m'aexp'\u001b[0m\u001b[1m]\u001b[0m=\u001b[1;36m0.0425203685592925\u001b[0m z = \u001b[1;36m22.518140455568975\u001b[0m                                         \n"
      ]
     },
     "metadata": {},
     "output_type": "display_data"
    },
    {
     "name": "stdout",
     "output_type": "stream",
     "text": [
      "EFT-reserr\n",
      "rese-xc-before: 0.0004469031118787825\n",
      "EFT-reserr\n",
      "rese-xc-before: 0.0003346267621964216\n",
      "EFT-reserr\n",
      "reserr: 0.00012085002526873723\n",
      "EFT-reserr\n",
      "rese-xc-before: 0.0004451775748748332\n",
      "EFT-reserr\n",
      "rese-xc-before: 0.00033494309172965586\n",
      "EFT-reserr\n",
      "reserr: 0.00012704879918601364\n",
      "EFT-reserr\n",
      "rese-xc-before: 0.00044517734204418957\n",
      "EFT-reserr\n",
      "rese-xc-before: 0.00033494317904114723\n",
      "EFT-reserr\n",
      "reserr: 0.0001270543725695461\n",
      "EFT-reserr\n",
      "rese-xc-before: 0.0004451773129403591\n",
      "EFT-reserr\n",
      "rese-xc-before: 0.0003349432081449777\n",
      "EFT-reserr\n",
      "reserr: 0.00012705429980996996\n",
      "EFT-reserr\n",
      "rese-xc-before: 0.0004451773129403591\n",
      "EFT-reserr\n",
      "rese-xc-before: 0.00033494309172965586\n",
      "EFT-reserr\n",
      "reserr: 0.00012705633707810193\n",
      "EFT-reserr\n",
      "rese-xc-before: 0.00044517728383652866\n",
      "EFT-reserr\n",
      "rese-xc-before: 0.0003349431208334863\n",
      "EFT-reserr\n",
      "reserr: 0.0001270565262529999\n",
      "EFT-reserr\n",
      "2.4988089\n",
      "Step: 11 [0.01725443 0.01646891 0.0156025 ] [ 4.1597243e-04  1.6678443e-04 -2.6456071e-05] [[ 7.6500997e-03  1.1154667e-02  1.5513517e-02 ... -3.8912520e-03\n",
      "  -3.5654604e-03  2.8975680e-03]\n",
      " [ 8.2051456e-03  9.4096959e-03  1.4462158e-02 ... -2.2696406e-03\n",
      "  -7.3016435e-04  4.4766665e-03]\n",
      " [ 7.2590262e-04  6.7471489e-03  1.6553283e-02 ...  1.6524494e-03\n",
      "   4.8080683e-03  4.0224046e-03]\n",
      " ...\n",
      " [ 1.7870516e-03 -5.3420290e-03 -4.5093335e-03 ... -5.3250417e-03\n",
      "  -7.2825551e-03 -4.7971308e-03]\n",
      " [-1.2726262e-03 -3.9752722e-03 -1.5357286e-03 ... -6.4777657e-03\n",
      "  -6.8733245e-03 -7.6517239e-03]\n",
      " [-4.3816864e-05  4.7356114e-03  1.0775141e-02 ... -8.8249594e-03\n",
      "  -5.8612823e-03 -4.2700320e-03]]\n"
     ]
    },
    {
     "data": {
      "text/html": [
       "<pre style=\"white-space:pre;overflow-x:auto;line-height:normal;font-family:Menlo,'DejaVu Sans Mono',consolas,'Courier New',monospace\">param<span style=\"font-weight: bold\">[</span><span style=\"color: #008000; text-decoration-color: #008000\">'nsteps'</span><span style=\"font-weight: bold\">]</span>=<span style=\"color: #008080; text-decoration-color: #008080; font-weight: bold\">11</span> param<span style=\"font-weight: bold\">[</span><span style=\"color: #008000; text-decoration-color: #008000\">'aexp'</span><span style=\"font-weight: bold\">]</span>=<span style=\"color: #008080; text-decoration-color: #008080; font-weight: bold\">0.04677240535336491</span> z = <span style=\"color: #008080; text-decoration-color: #008080; font-weight: bold\">20.380127715156256</span>                                        \n",
       "</pre>\n"
      ],
      "text/plain": [
       "param\u001b[1m[\u001b[0m\u001b[32m'nsteps'\u001b[0m\u001b[1m]\u001b[0m=\u001b[1;36m11\u001b[0m param\u001b[1m[\u001b[0m\u001b[32m'aexp'\u001b[0m\u001b[1m]\u001b[0m=\u001b[1;36m0.04677240535336491\u001b[0m z = \u001b[1;36m20.380127715156256\u001b[0m                                        \n"
      ]
     },
     "metadata": {},
     "output_type": "display_data"
    },
    {
     "name": "stdout",
     "output_type": "stream",
     "text": [
      "EFT-reserr\n",
      "rese-xc-before: 0.0004640170081984252\n",
      "EFT-reserr\n",
      "rese-xc-before: 0.00034748492180369794\n",
      "EFT-reserr\n",
      "reserr: 0.00012508050713222474\n",
      "EFT-reserr\n",
      "rese-xc-before: 0.0004622248525265604\n",
      "EFT-reserr\n",
      "rese-xc-before: 0.0003478132712189108\n",
      "EFT-reserr\n",
      "reserr: 0.00013154238695278764\n",
      "EFT-reserr\n",
      "rese-xc-before: 0.00046222464879974723\n",
      "EFT-reserr\n",
      "rese-xc-before: 0.0003478132712189108\n",
      "EFT-reserr\n",
      "reserr: 0.00013154299813322723\n",
      "EFT-reserr\n",
      "rese-xc-before: 0.0004622246779035777\n",
      "EFT-reserr\n",
      "rese-xc-before: 0.00034781324211508036\n",
      "EFT-reserr\n",
      "reserr: 0.0001315441186306998\n",
      "EFT-reserr\n",
      "rese-xc-before: 0.00046222464879974723\n",
      "EFT-reserr\n",
      "rese-xc-before: 0.00034781324211508036\n",
      "EFT-reserr\n",
      "reserr: 0.00013154602493159473\n",
      "EFT-reserr\n",
      "rese-xc-before: 0.0004622245905920863\n",
      "EFT-reserr\n",
      "rese-xc-before: 0.00034781338763423264\n",
      "EFT-reserr\n",
      "reserr: 0.0001315440604230389\n",
      "EFT-reserr\n",
      "2.5018632\n",
      "Step: 12 [0.0172893  0.01648286 0.01560026] [ 4.2882553e-04  1.7116930e-04 -2.7739457e-05] [[ 7.9232827e-03  1.1580095e-02  1.6079552e-02 ... -4.0440112e-03\n",
      "  -3.6898032e-03  2.9872283e-03]\n",
      " [ 8.5087270e-03  9.7917691e-03  1.4991447e-02 ... -2.3709238e-03\n",
      "  -7.4888021e-04  4.6383664e-03]\n",
      " [ 8.1768632e-04  7.0499182e-03  1.7142177e-02 ...  1.6912967e-03\n",
      "   4.9640685e-03  4.1752458e-03]\n",
      " ...\n",
      " [ 1.7957613e-03 -5.5496171e-03 -4.6660416e-03 ... -5.4915324e-03\n",
      "  -7.5427815e-03 -4.9733296e-03]\n",
      " [-1.3212264e-03 -4.0992498e-03 -1.5678033e-03 ... -6.6947415e-03\n",
      "  -7.1292669e-03 -7.8819916e-03]\n",
      " [-1.8022954e-05  4.9209744e-03  1.1148386e-02 ... -9.1004446e-03\n",
      "  -6.0714111e-03 -4.3970421e-03]]\n"
     ]
    },
    {
     "data": {
      "text/html": [
       "<pre style=\"white-space:pre;overflow-x:auto;line-height:normal;font-family:Menlo,'DejaVu Sans Mono',consolas,'Courier New',monospace\">Snapshot written at <span style=\"color: #808000; text-decoration-color: #808000\">...</span><span style=\"color: #808000; text-decoration-color: #808000\">filename</span>=<span style=\"color: #008000; text-decoration-color: #008000\">'./small//output_00001/particles_eft_multigrid_ncoarse5.h5'</span>                        \n",
       "param<span style=\"font-weight: bold\">[</span><span style=\"color: #008000; text-decoration-color: #008000\">'aexp'</span><span style=\"font-weight: bold\">]</span>=<span style=\"color: #008080; text-decoration-color: #008080; font-weight: bold\">0.047619047619047616</span>                                                                                 \n",
       "</pre>\n"
      ],
      "text/plain": [
       "Snapshot written at \u001b[33m...\u001b[0m\u001b[33mfilename\u001b[0m=\u001b[32m'./small//output_00001/particles_eft_multigrid_ncoarse5.h5'\u001b[0m                        \n",
       "param\u001b[1m[\u001b[0m\u001b[32m'aexp'\u001b[0m\u001b[1m]\u001b[0m=\u001b[1;36m0.047619047619047616\u001b[0m                                                                                 \n"
      ]
     },
     "metadata": {},
     "output_type": "display_data"
    },
    {
     "data": {
      "text/html": [
       "<pre style=\"white-space:pre;overflow-x:auto;line-height:normal;font-family:Menlo,'DejaVu Sans Mono',consolas,'Courier New',monospace\">param<span style=\"font-weight: bold\">[</span><span style=\"color: #008000; text-decoration-color: #008000\">'nsteps'</span><span style=\"font-weight: bold\">]</span>=<span style=\"color: #008080; text-decoration-color: #008080; font-weight: bold\">12</span> param<span style=\"font-weight: bold\">[</span><span style=\"color: #008000; text-decoration-color: #008000\">'aexp'</span><span style=\"font-weight: bold\">]</span>=<span style=\"color: #008080; text-decoration-color: #008080; font-weight: bold\">0.047619047619047616</span> z = <span style=\"color: #008080; text-decoration-color: #008080; font-weight: bold\">20.0</span>                                                     \n",
       "</pre>\n"
      ],
      "text/plain": [
       "param\u001b[1m[\u001b[0m\u001b[32m'nsteps'\u001b[0m\u001b[1m]\u001b[0m=\u001b[1;36m12\u001b[0m param\u001b[1m[\u001b[0m\u001b[32m'aexp'\u001b[0m\u001b[1m]\u001b[0m=\u001b[1;36m0.047619047619047616\u001b[0m z = \u001b[1;36m20.0\u001b[0m                                                     \n"
      ]
     },
     "metadata": {},
     "output_type": "display_data"
    },
    {
     "name": "stdout",
     "output_type": "stream",
     "text": [
      "EFT-reserr\n",
      "rese-xc-before: 0.0005139273125678301\n",
      "EFT-reserr\n",
      "rese-xc-before: 0.00038499198853969574\n",
      "EFT-reserr\n",
      "reserr: 0.00013735771062783897\n",
      "EFT-reserr\n",
      "rese-xc-before: 0.0005119406851008534\n",
      "EFT-reserr\n",
      "rese-xc-before: 0.0003853549715131521\n",
      "EFT-reserr\n",
      "reserr: 0.00014457957877311856\n",
      "EFT-reserr\n",
      "rese-xc-before: 0.0005119404522702098\n",
      "EFT-reserr\n",
      "rese-xc-before: 0.00038535508792847395\n",
      "EFT-reserr\n",
      "reserr: 0.00014458018995355815\n",
      "EFT-reserr\n",
      "rese-xc-before: 0.0005119403940625489\n",
      "EFT-reserr\n",
      "rese-xc-before: 0.0003853551170323044\n",
      "EFT-reserr\n",
      "reserr: 0.000144584322697483\n",
      "EFT-reserr\n",
      "rese-xc-before: 0.0005119404522702098\n",
      "EFT-reserr\n",
      "rese-xc-before: 0.0003853549715131521\n",
      "EFT-reserr\n",
      "reserr: 0.00014458055375143886\n",
      "EFT-reserr\n",
      "rese-xc-before: 0.0005119403940625489\n",
      "EFT-reserr\n",
      "rese-xc-before: 0.00038535508792847395\n",
      "EFT-reserr\n",
      "reserr: 0.00014458407531492412\n",
      "EFT-reserr\n",
      "2.501399\n",
      "Step: 13 [0.01738789 0.01652198 0.01559375] [ 4.6585477e-04  1.8374970e-04 -3.1504263e-05] [[ 8.71773064e-03  1.28215775e-02  1.77254900e-02 ... -4.49035317e-03\n",
      "  -4.04999405e-03  3.24558467e-03]\n",
      " [ 9.39363986e-03  1.09115094e-02  1.65316761e-02 ... -2.66967714e-03\n",
      "  -8.02047551e-04  5.10893762e-03]\n",
      " [ 1.09807402e-03  7.94279575e-03  1.88537464e-02 ...  1.79863721e-03\n",
      "   5.41369617e-03  4.62171435e-03]\n",
      " ...\n",
      " [ 1.80970877e-03 -6.15555048e-03 -5.11971116e-03 ... -5.97192347e-03\n",
      "  -8.29796493e-03 -5.48665226e-03]\n",
      " [-1.46264583e-03 -4.45541739e-03 -1.65666640e-03 ... -7.32234865e-03\n",
      "  -7.87345320e-03 -8.54348391e-03]\n",
      " [ 6.23911619e-05  5.46291471e-03  1.22296661e-02 ... -9.89361852e-03\n",
      "  -6.68086857e-03 -4.76078689e-03]]\n"
     ]
    },
    {
     "data": {
      "text/html": [
       "<pre style=\"white-space:pre;overflow-x:auto;line-height:normal;font-family:Menlo,'DejaVu Sans Mono',consolas,'Courier New',monospace\">Snapshot written at <span style=\"color: #808000; text-decoration-color: #808000\">...</span><span style=\"color: #808000; text-decoration-color: #808000\">filename</span>=<span style=\"color: #008000; text-decoration-color: #008000\">'./small//output_00002/particles_eft_multigrid_ncoarse5.h5'</span>                        \n",
       "param<span style=\"font-weight: bold\">[</span><span style=\"color: #008000; text-decoration-color: #008000\">'aexp'</span><span style=\"font-weight: bold\">]</span>=<span style=\"color: #008080; text-decoration-color: #008080; font-weight: bold\">0.05000000000000001</span>                                                                                  \n",
       "</pre>\n"
      ],
      "text/plain": [
       "Snapshot written at \u001b[33m...\u001b[0m\u001b[33mfilename\u001b[0m=\u001b[32m'./small//output_00002/particles_eft_multigrid_ncoarse5.h5'\u001b[0m                        \n",
       "param\u001b[1m[\u001b[0m\u001b[32m'aexp'\u001b[0m\u001b[1m]\u001b[0m=\u001b[1;36m0.05000000000000001\u001b[0m                                                                                  \n"
      ]
     },
     "metadata": {},
     "output_type": "display_data"
    },
    {
     "data": {
      "text/html": [
       "<pre style=\"white-space:pre;overflow-x:auto;line-height:normal;font-family:Menlo,'DejaVu Sans Mono',consolas,'Courier New',monospace\">param<span style=\"font-weight: bold\">[</span><span style=\"color: #008000; text-decoration-color: #008000\">'nsteps'</span><span style=\"font-weight: bold\">]</span>=<span style=\"color: #008080; text-decoration-color: #008080; font-weight: bold\">13</span> param<span style=\"font-weight: bold\">[</span><span style=\"color: #008000; text-decoration-color: #008000\">'aexp'</span><span style=\"font-weight: bold\">]</span>=<span style=\"color: #008080; text-decoration-color: #008080; font-weight: bold\">0.05000000000000001</span> z = <span style=\"color: #008080; text-decoration-color: #008080; font-weight: bold\">18.999999999999996</span>                                        \n",
       "</pre>\n"
      ],
      "text/plain": [
       "param\u001b[1m[\u001b[0m\u001b[32m'nsteps'\u001b[0m\u001b[1m]\u001b[0m=\u001b[1;36m13\u001b[0m param\u001b[1m[\u001b[0m\u001b[32m'aexp'\u001b[0m\u001b[1m]\u001b[0m=\u001b[1;36m0.05000000000000001\u001b[0m z = \u001b[1;36m18.999999999999996\u001b[0m                                        \n"
      ]
     },
     "metadata": {},
     "output_type": "display_data"
    },
    {
     "name": "stdout",
     "output_type": "stream",
     "text": [
      "EFT-reserr\n",
      "rese-xc-before: 0.0005722083733417094\n",
      "EFT-reserr\n",
      "rese-xc-before: 0.00042880381806753576\n",
      "EFT-reserr\n",
      "reserr: 0.00015157161396928132\n",
      "EFT-reserr\n",
      "rese-xc-before: 0.0005699947359971702\n",
      "EFT-reserr\n",
      "rese-xc-before: 0.0004292074008844793\n",
      "EFT-reserr\n",
      "reserr: 0.000159683360834606\n",
      "EFT-reserr\n",
      "rese-xc-before: 0.0005699944449588656\n",
      "EFT-reserr\n",
      "rese-xc-before: 0.00042920742998830974\n",
      "EFT-reserr\n",
      "reserr: 0.00015968560182955116\n",
      "EFT-reserr\n",
      "rese-xc-before: 0.0005699944449588656\n",
      "EFT-reserr\n",
      "rese-xc-before: 0.0004292074590921402\n",
      "EFT-reserr\n",
      "reserr: 0.00015968925436027348\n",
      "EFT-reserr\n",
      "rese-xc-before: 0.0005699945031665266\n",
      "EFT-reserr\n",
      "rese-xc-before: 0.0004292076046112925\n",
      "EFT-reserr\n",
      "reserr: 0.00015968887601047754\n",
      "EFT-reserr\n",
      "rese-xc-before: 0.0005699944449588656\n",
      "EFT-reserr\n",
      "rese-xc-before: 0.0004292076046112925\n",
      "EFT-reserr\n",
      "reserr: 0.00015968158550094813\n",
      "EFT-reserr\n",
      "2.5024698\n",
      "Step: 14 [0.01749792 0.01656513 0.01558615] [ 5.0822238e-04  1.9805921e-04 -3.5923706e-05] [[ 0.00964206  0.01427335  0.01963902 ... -0.00501288 -0.00446615\n",
      "   0.00354292]\n",
      " [ 0.0104271   0.01222861  0.01832398 ... -0.00302484 -0.00086102\n",
      "   0.00565758]\n",
      " [ 0.00144821  0.00900349  0.02084327 ...  0.00191341  0.00593019\n",
      "   0.00514506]\n",
      " ...\n",
      " [ 0.00180703 -0.00686409 -0.00564363 ... -0.00652454 -0.00917443\n",
      "  -0.00608552]\n",
      " [-0.00162727 -0.00486181 -0.00175307 ... -0.0080463  -0.00873957\n",
      "  -0.00929838]\n",
      " [ 0.00016594  0.00609808  0.01347934 ... -0.01080187 -0.00738703\n",
      "  -0.00517399]]\n"
     ]
    },
    {
     "data": {
      "text/html": [
       "<pre style=\"white-space:pre;overflow-x:auto;line-height:normal;font-family:Menlo,'DejaVu Sans Mono',consolas,'Courier New',monospace\">Snapshot written at <span style=\"color: #808000; text-decoration-color: #808000\">...</span><span style=\"color: #808000; text-decoration-color: #808000\">filename</span>=<span style=\"color: #008000; text-decoration-color: #008000\">'./small//output_00003/particles_eft_multigrid_ncoarse5.h5'</span>                        \n",
       "param<span style=\"font-weight: bold\">[</span><span style=\"color: #008000; text-decoration-color: #008000\">'aexp'</span><span style=\"font-weight: bold\">]</span>=<span style=\"color: #008080; text-decoration-color: #008080; font-weight: bold\">0.05263157894736841</span>                                                                                  \n",
       "</pre>\n"
      ],
      "text/plain": [
       "Snapshot written at \u001b[33m...\u001b[0m\u001b[33mfilename\u001b[0m=\u001b[32m'./small//output_00003/particles_eft_multigrid_ncoarse5.h5'\u001b[0m                        \n",
       "param\u001b[1m[\u001b[0m\u001b[32m'aexp'\u001b[0m\u001b[1m]\u001b[0m=\u001b[1;36m0.05263157894736841\u001b[0m                                                                                  \n"
      ]
     },
     "metadata": {},
     "output_type": "display_data"
    },
    {
     "data": {
      "text/html": [
       "<pre style=\"white-space:pre;overflow-x:auto;line-height:normal;font-family:Menlo,'DejaVu Sans Mono',consolas,'Courier New',monospace\">param<span style=\"font-weight: bold\">[</span><span style=\"color: #008000; text-decoration-color: #008000\">'nsteps'</span><span style=\"font-weight: bold\">]</span>=<span style=\"color: #008080; text-decoration-color: #008080; font-weight: bold\">14</span> param<span style=\"font-weight: bold\">[</span><span style=\"color: #008000; text-decoration-color: #008000\">'aexp'</span><span style=\"font-weight: bold\">]</span>=<span style=\"color: #008080; text-decoration-color: #008080; font-weight: bold\">0.05263157894736841</span> z = <span style=\"color: #008080; text-decoration-color: #008080; font-weight: bold\">18.000000000000004</span>                                        \n",
       "</pre>\n"
      ],
      "text/plain": [
       "param\u001b[1m[\u001b[0m\u001b[32m'nsteps'\u001b[0m\u001b[1m]\u001b[0m=\u001b[1;36m14\u001b[0m param\u001b[1m[\u001b[0m\u001b[32m'aexp'\u001b[0m\u001b[1m]\u001b[0m=\u001b[1;36m0.05263157894736841\u001b[0m z = \u001b[1;36m18.000000000000004\u001b[0m                                        \n"
      ]
     },
     "metadata": {},
     "output_type": "display_data"
    },
    {
     "name": "stdout",
     "output_type": "stream",
     "text": [
      "EFT-reserr\n",
      "rese-xc-before: 0.0006408244953490794\n",
      "EFT-reserr\n",
      "rese-xc-before: 0.0004804018244612962\n",
      "EFT-reserr\n",
      "reserr: 0.00016819601296447217\n",
      "EFT-reserr\n",
      "rese-xc-before: 0.0006383436266332865\n",
      "EFT-reserr\n",
      "rese-xc-before: 0.00048085348680615425\n",
      "EFT-reserr\n",
      "reserr: 0.00017736898735165596\n",
      "EFT-reserr\n",
      "rese-xc-before: 0.0006383433355949819\n",
      "EFT-reserr\n",
      "rese-xc-before: 0.00048085334128700197\n",
      "EFT-reserr\n",
      "reserr: 0.0001773728581611067\n",
      "EFT-reserr\n",
      "rese-xc-before: 0.000638343277387321\n",
      "EFT-reserr\n",
      "rese-xc-before: 0.00048085342859849334\n",
      "EFT-reserr\n",
      "reserr: 0.00017737261077854782\n",
      "EFT-reserr\n",
      "rese-xc-before: 0.000638343277387321\n",
      "EFT-reserr\n",
      "rese-xc-before: 0.0004808535159099847\n",
      "EFT-reserr\n",
      "reserr: 0.00017737077723722905\n",
      "EFT-reserr\n",
      "rese-xc-before: 0.0006383433355949819\n",
      "EFT-reserr\n",
      "rese-xc-before: 0.0004808534577023238\n",
      "EFT-reserr\n",
      "reserr: 0.00017736996232997626\n",
      "EFT-reserr\n",
      "2.5060065\n",
      "Step: 15 [0.01762143 0.01661298 0.01557723] [ 5.5704464e-04  2.1445029e-04 -4.1151619e-05] [[ 0.01072697  0.01598544  0.02188176 ... -0.00563007 -0.00495085\n",
      "   0.00388741]\n",
      " [ 0.01164489  0.01379166  0.02042686 ... -0.00345059 -0.0009273\n",
      "   0.00630289]\n",
      " [ 0.00188819  0.01027507  0.0231754  ...  0.00203492  0.00652801\n",
      "   0.0057641 ]\n",
      " ...\n",
      " [ 0.00178019 -0.00769977 -0.00625348 ... -0.0071654  -0.0102\n",
      "  -0.00678959]\n",
      " [-0.00182033 -0.005329   -0.00185746 ... -0.00888841 -0.00975505\n",
      "  -0.01016582]\n",
      " [ 0.00029962  0.00684923  0.01493454 ... -0.01184957 -0.0082115\n",
      "  -0.00564637]]\n"
     ]
    },
    {
     "data": {
      "text/html": [
       "<pre style=\"white-space:pre;overflow-x:auto;line-height:normal;font-family:Menlo,'DejaVu Sans Mono',consolas,'Courier New',monospace\">Snapshot written at <span style=\"color: #808000; text-decoration-color: #808000\">...</span><span style=\"color: #808000; text-decoration-color: #808000\">filename</span>=<span style=\"color: #008000; text-decoration-color: #008000\">'./small//output_00004/particles_eft_multigrid_ncoarse5.h5'</span>                        \n",
       "param<span style=\"font-weight: bold\">[</span><span style=\"color: #008000; text-decoration-color: #008000\">'aexp'</span><span style=\"font-weight: bold\">]</span>=<span style=\"color: #008080; text-decoration-color: #008080; font-weight: bold\">0.05555555555555554</span>                                                                                  \n",
       "</pre>\n"
      ],
      "text/plain": [
       "Snapshot written at \u001b[33m...\u001b[0m\u001b[33mfilename\u001b[0m=\u001b[32m'./small//output_00004/particles_eft_multigrid_ncoarse5.h5'\u001b[0m                        \n",
       "param\u001b[1m[\u001b[0m\u001b[32m'aexp'\u001b[0m\u001b[1m]\u001b[0m=\u001b[1;36m0.05555555555555554\u001b[0m                                                                                  \n"
      ]
     },
     "metadata": {},
     "output_type": "display_data"
    },
    {
     "data": {
      "text/html": [
       "<pre style=\"white-space:pre;overflow-x:auto;line-height:normal;font-family:Menlo,'DejaVu Sans Mono',consolas,'Courier New',monospace\">param<span style=\"font-weight: bold\">[</span><span style=\"color: #008000; text-decoration-color: #008000\">'nsteps'</span><span style=\"font-weight: bold\">]</span>=<span style=\"color: #008080; text-decoration-color: #008080; font-weight: bold\">15</span> param<span style=\"font-weight: bold\">[</span><span style=\"color: #008000; text-decoration-color: #008000\">'aexp'</span><span style=\"font-weight: bold\">]</span>=<span style=\"color: #008080; text-decoration-color: #008080; font-weight: bold\">0.05555555555555554</span> z = <span style=\"color: #008080; text-decoration-color: #008080; font-weight: bold\">17.000000000000007</span>                                        \n",
       "</pre>\n"
      ],
      "text/plain": [
       "param\u001b[1m[\u001b[0m\u001b[32m'nsteps'\u001b[0m\u001b[1m]\u001b[0m=\u001b[1;36m15\u001b[0m param\u001b[1m[\u001b[0m\u001b[32m'aexp'\u001b[0m\u001b[1m]\u001b[0m=\u001b[1;36m0.05555555555555554\u001b[0m z = \u001b[1;36m17.000000000000007\u001b[0m                                        \n"
      ]
     },
     "metadata": {},
     "output_type": "display_data"
    },
    {
     "name": "stdout",
     "output_type": "stream",
     "text": [
      "EFT-reserr\n",
      "rese-xc-before: 0.0007223470020107925\n",
      "EFT-reserr\n",
      "rese-xc-before: 0.0005417265929281712\n",
      "EFT-reserr\n",
      "reserr: 0.0001878001494333148\n",
      "EFT-reserr\n",
      "rese-xc-before: 0.0007195486105047166\n",
      "EFT-reserr\n",
      "rese-xc-before: 0.0005422349204309285\n",
      "EFT-reserr\n",
      "reserr: 0.00019823823822662234\n",
      "EFT-reserr\n",
      "rese-xc-before: 0.0007195482030510902\n",
      "EFT-reserr\n",
      "rese-xc-before: 0.0005422349786385894\n",
      "EFT-reserr\n",
      "reserr: 0.00019824266200885177\n",
      "EFT-reserr\n",
      "rese-xc-before: 0.0007195482030510902\n",
      "EFT-reserr\n",
      "rese-xc-before: 0.0005422348040156066\n",
      "EFT-reserr\n",
      "reserr: 0.00019824561604764313\n",
      "EFT-reserr\n",
      "rese-xc-before: 0.0007195482612587512\n",
      "EFT-reserr\n",
      "rese-xc-before: 0.0005422348040156066\n",
      "EFT-reserr\n",
      "reserr: 0.00019824266200885177\n",
      "EFT-reserr\n",
      "rese-xc-before: 0.0007195482612587512\n",
      "EFT-reserr\n",
      "rese-xc-before: 0.0005422348040156066\n",
      "EFT-reserr\n",
      "reserr: 0.00019824522314593196\n",
      "EFT-reserr\n",
      "2.5000784\n",
      "Step: 16 [0.01776096 0.01666638 0.0155667 ] [ 6.1375217e-04  2.3337352e-04 -4.7388683e-05] [[ 0.01201253  0.01802424  0.02453381 ... -0.00636595 -0.00552016\n",
      "   0.0042908 ]\n",
      " [ 0.01309383  0.01566468  0.02291671 ... -0.00396637 -0.00100179\n",
      "   0.00706905]\n",
      " [ 0.00244612  0.01181519  0.02593528 ...  0.00216195  0.00722571\n",
      "   0.00650345]\n",
      " ...\n",
      " [ 0.00171931 -0.00869463 -0.00696947 ... -0.00791612 -0.01141064\n",
      "  -0.00762573]\n",
      " [-0.00204873 -0.00587004 -0.00197088 ... -0.00987627 -0.01095635\n",
      "  -0.01117113]\n",
      " [ 0.00047319  0.00774602  0.01664381 ... -0.01306842 -0.0091826\n",
      "  -0.00619026]]\n"
     ]
    },
    {
     "data": {
      "text/html": [
       "<pre style=\"white-space:pre;overflow-x:auto;line-height:normal;font-family:Menlo,'DejaVu Sans Mono',consolas,'Courier New',monospace\">Snapshot written at <span style=\"color: #808000; text-decoration-color: #808000\">...</span><span style=\"color: #808000; text-decoration-color: #808000\">filename</span>=<span style=\"color: #008000; text-decoration-color: #008000\">'./small//output_00005/particles_eft_multigrid_ncoarse5.h5'</span>                        \n",
       "param<span style=\"font-weight: bold\">[</span><span style=\"color: #008000; text-decoration-color: #008000\">'aexp'</span><span style=\"font-weight: bold\">]</span>=<span style=\"color: #008080; text-decoration-color: #008080; font-weight: bold\">0.0588235294117647</span>                                                                                   \n",
       "</pre>\n"
      ],
      "text/plain": [
       "Snapshot written at \u001b[33m...\u001b[0m\u001b[33mfilename\u001b[0m=\u001b[32m'./small//output_00005/particles_eft_multigrid_ncoarse5.h5'\u001b[0m                        \n",
       "param\u001b[1m[\u001b[0m\u001b[32m'aexp'\u001b[0m\u001b[1m]\u001b[0m=\u001b[1;36m0.0588235294117647\u001b[0m                                                                                   \n"
      ]
     },
     "metadata": {},
     "output_type": "display_data"
    },
    {
     "data": {
      "text/html": [
       "<pre style=\"white-space:pre;overflow-x:auto;line-height:normal;font-family:Menlo,'DejaVu Sans Mono',consolas,'Courier New',monospace\">param<span style=\"font-weight: bold\">[</span><span style=\"color: #008000; text-decoration-color: #008000\">'nsteps'</span><span style=\"font-weight: bold\">]</span>=<span style=\"color: #008080; text-decoration-color: #008080; font-weight: bold\">16</span> param<span style=\"font-weight: bold\">[</span><span style=\"color: #008000; text-decoration-color: #008000\">'aexp'</span><span style=\"font-weight: bold\">]</span>=<span style=\"color: #008080; text-decoration-color: #008080; font-weight: bold\">0.0588235294117647</span> z = <span style=\"color: #008080; text-decoration-color: #008080; font-weight: bold\">16.000000000000004</span>                                         \n",
       "</pre>\n"
      ],
      "text/plain": [
       "param\u001b[1m[\u001b[0m\u001b[32m'nsteps'\u001b[0m\u001b[1m]\u001b[0m=\u001b[1;36m16\u001b[0m param\u001b[1m[\u001b[0m\u001b[32m'aexp'\u001b[0m\u001b[1m]\u001b[0m=\u001b[1;36m0.0588235294117647\u001b[0m z = \u001b[1;36m16.000000000000004\u001b[0m                                         \n"
      ]
     },
     "metadata": {},
     "output_type": "display_data"
    },
    {
     "name": "stdout",
     "output_type": "stream",
     "text": [
      "EFT-reserr\n",
      "rese-xc-before: 0.0008201946038752794\n",
      "EFT-reserr\n",
      "rese-xc-before: 0.0006153585854917765\n",
      "EFT-reserr\n",
      "reserr: 0.0002111494104610756\n",
      "EFT-reserr\n",
      "rese-xc-before: 0.000817015185020864\n",
      "EFT-reserr\n",
      "rese-xc-before: 0.0006159350741654634\n",
      "EFT-reserr\n",
      "reserr: 0.00022311738575808704\n",
      "EFT-reserr\n",
      "rese-xc-before: 0.0008170149521902204\n",
      "EFT-reserr\n",
      "rese-xc-before: 0.0006159348995424807\n",
      "EFT-reserr\n",
      "reserr: 0.00022312455985229462\n",
      "EFT-reserr\n",
      "rese-xc-before: 0.0008170149521902204\n",
      "EFT-reserr\n",
      "rese-xc-before: 0.0006159350159578025\n",
      "EFT-reserr\n",
      "reserr: 0.00022312437067739666\n",
      "EFT-reserr\n",
      "rese-xc-before: 0.0008170148939825594\n",
      "EFT-reserr\n",
      "rese-xc-before: 0.0006159349577501416\n",
      "EFT-reserr\n",
      "reserr: 0.0002231222460977733\n",
      "EFT-reserr\n",
      "rese-xc-before: 0.0008170148939825594\n",
      "EFT-reserr\n",
      "rese-xc-before: 0.0006159348995424807\n",
      "EFT-reserr\n",
      "reserr: 0.0002231235266663134\n",
      "EFT-reserr\n",
      "2.5026813\n",
      "Step: 17 [0.01791971 0.01672638 0.01555418] [ 6.8020396e-04  2.5541330e-04 -5.4900567e-05] [[ 0.01355268  0.02047801  0.02770202 ... -0.00725235 -0.00619556\n",
      "   0.00476837]\n",
      " [ 0.0148374   0.01793388  0.02589574 ... -0.00459896 -0.00108589\n",
      "   0.007989  ]\n",
      " [ 0.00316031  0.01370203  0.02923606 ...  0.00229213  0.00804728\n",
      "   0.00739703]\n",
      " ...\n",
      " [ 0.00160983 -0.00989088 -0.00781789 ... -0.00880535 -0.01285475\n",
      "  -0.00862968]\n",
      " [-0.00232163 -0.00650156 -0.00209437 ... -0.01104732 -0.01239187\n",
      "  -0.01234664]\n",
      " [ 0.00070071  0.00882812  0.01867051 ... -0.01450017 -0.01033726\n",
      "  -0.00682153]]\n"
     ]
    },
    {
     "data": {
      "text/html": [
       "<pre style=\"white-space:pre;overflow-x:auto;line-height:normal;font-family:Menlo,'DejaVu Sans Mono',consolas,'Courier New',monospace\">Snapshot written at <span style=\"color: #808000; text-decoration-color: #808000\">...</span><span style=\"color: #808000; text-decoration-color: #808000\">filename</span>=<span style=\"color: #008000; text-decoration-color: #008000\">'./small//output_00006/particles_eft_multigrid_ncoarse5.h5'</span> param<span style=\"font-weight: bold\">[</span><span style=\"color: #008000; text-decoration-color: #008000\">'aexp'</span><span style=\"font-weight: bold\">]</span>=<span style=\"color: #008080; text-decoration-color: #008080; font-weight: bold\">0.0625</span>   \n",
       "</pre>\n"
      ],
      "text/plain": [
       "Snapshot written at \u001b[33m...\u001b[0m\u001b[33mfilename\u001b[0m=\u001b[32m'./small//output_00006/particles_eft_multigrid_ncoarse5.h5'\u001b[0m param\u001b[1m[\u001b[0m\u001b[32m'aexp'\u001b[0m\u001b[1m]\u001b[0m=\u001b[1;36m0.0625\u001b[0m   \n"
      ]
     },
     "metadata": {},
     "output_type": "display_data"
    },
    {
     "data": {
      "text/html": [
       "<pre style=\"white-space:pre;overflow-x:auto;line-height:normal;font-family:Menlo,'DejaVu Sans Mono',consolas,'Courier New',monospace\">param<span style=\"font-weight: bold\">[</span><span style=\"color: #008000; text-decoration-color: #008000\">'nsteps'</span><span style=\"font-weight: bold\">]</span>=<span style=\"color: #008080; text-decoration-color: #008080; font-weight: bold\">17</span> param<span style=\"font-weight: bold\">[</span><span style=\"color: #008000; text-decoration-color: #008000\">'aexp'</span><span style=\"font-weight: bold\">]</span>=<span style=\"color: #008080; text-decoration-color: #008080; font-weight: bold\">0.0625</span> z = <span style=\"color: #008080; text-decoration-color: #008080; font-weight: bold\">15.0</span>                                                                   \n",
       "</pre>\n"
      ],
      "text/plain": [
       "param\u001b[1m[\u001b[0m\u001b[32m'nsteps'\u001b[0m\u001b[1m]\u001b[0m=\u001b[1;36m17\u001b[0m param\u001b[1m[\u001b[0m\u001b[32m'aexp'\u001b[0m\u001b[1m]\u001b[0m=\u001b[1;36m0.0625\u001b[0m z = \u001b[1;36m15.0\u001b[0m                                                                   \n"
      ]
     },
     "metadata": {},
     "output_type": "display_data"
    },
    {
     "name": "stdout",
     "output_type": "stream",
     "text": [
      "EFT-reserr\n",
      "rese-xc-before: 0.0009389907936565578\n",
      "EFT-reserr\n",
      "rese-xc-before: 0.0007047888357192278\n",
      "EFT-reserr\n",
      "reserr: 0.0002392809110460803\n",
      "EFT-reserr\n",
      "rese-xc-before: 0.0009353490313515067\n",
      "EFT-reserr\n",
      "rese-xc-before: 0.0007054478046484292\n",
      "EFT-reserr\n",
      "reserr: 0.0002531259669922292\n",
      "EFT-reserr\n",
      "rese-xc-before: 0.0009353487985208631\n",
      "EFT-reserr\n",
      "rese-xc-before: 0.0007054477464407682\n",
      "EFT-reserr\n",
      "reserr: 0.0002531294012442231\n",
      "EFT-reserr\n",
      "rese-xc-before: 0.0009353487985208631\n",
      "EFT-reserr\n",
      "rese-xc-before: 0.0007054475718177855\n",
      "EFT-reserr\n",
      "reserr: 0.00025313132209703326\n",
      "EFT-reserr\n",
      "rese-xc-before: 0.0009353487985208631\n",
      "EFT-reserr\n",
      "rese-xc-before: 0.0007054478046484292\n",
      "EFT-reserr\n",
      "reserr: 0.0002531320496927947\n",
      "EFT-reserr\n",
      "rese-xc-before: 0.0009353487403132021\n",
      "EFT-reserr\n",
      "rese-xc-before: 0.0007054477464407682\n",
      "EFT-reserr\n",
      "reserr: 0.0002531363570597023\n",
      "EFT-reserr\n",
      "2.4981234\n",
      "Step: 18 [0.01810179 0.01679434 0.01553917] [ 7.5885374e-04  2.8133986e-04 -6.4044732e-05] [[ 0.01542033  0.02346781  0.03152971 ... -0.00833333 -0.00700514\n",
      "   0.00534055]\n",
      " [ 0.01696178  0.02071811  0.02950059 ... -0.00538409 -0.00118175\n",
      "   0.00910793]\n",
      " [ 0.0040856   0.01604335  0.03323194 ...  0.00242008  0.00902559\n",
      "   0.0084904 ]\n",
      " ...\n",
      " [ 0.00143047 -0.01134664 -0.00883442 ... -0.00987153 -0.01459701\n",
      "  -0.00984979]\n",
      " [-0.00265069 -0.00724611 -0.00222866 ... -0.01245138 -0.01412654\n",
      "  -0.01373515]\n",
      " [ 0.00100105  0.01014979  0.02109866 ... -0.01619925 -0.01172516\n",
      "  -0.00756045]]\n"
     ]
    },
    {
     "data": {
      "text/html": [
       "<pre style=\"white-space:pre;overflow-x:auto;line-height:normal;font-family:Menlo,'DejaVu Sans Mono',consolas,'Courier New',monospace\">Snapshot written at <span style=\"color: #808000; text-decoration-color: #808000\">...</span><span style=\"color: #808000; text-decoration-color: #808000\">filename</span>=<span style=\"color: #008000; text-decoration-color: #008000\">'./small//output_00007/particles_eft_multigrid_ncoarse5.h5'</span>                        \n",
       "param<span style=\"font-weight: bold\">[</span><span style=\"color: #008000; text-decoration-color: #008000\">'aexp'</span><span style=\"font-weight: bold\">]</span>=<span style=\"color: #008080; text-decoration-color: #008080; font-weight: bold\">0.06666666666666667</span>                                                                                  \n",
       "</pre>\n"
      ],
      "text/plain": [
       "Snapshot written at \u001b[33m...\u001b[0m\u001b[33mfilename\u001b[0m=\u001b[32m'./small//output_00007/particles_eft_multigrid_ncoarse5.h5'\u001b[0m                        \n",
       "param\u001b[1m[\u001b[0m\u001b[32m'aexp'\u001b[0m\u001b[1m]\u001b[0m=\u001b[1;36m0.06666666666666667\u001b[0m                                                                                  \n"
      ]
     },
     "metadata": {},
     "output_type": "display_data"
    },
    {
     "data": {
      "text/html": [
       "<pre style=\"white-space:pre;overflow-x:auto;line-height:normal;font-family:Menlo,'DejaVu Sans Mono',consolas,'Courier New',monospace\">param<span style=\"font-weight: bold\">[</span><span style=\"color: #008000; text-decoration-color: #008000\">'nsteps'</span><span style=\"font-weight: bold\">]</span>=<span style=\"color: #008080; text-decoration-color: #008080; font-weight: bold\">18</span> param<span style=\"font-weight: bold\">[</span><span style=\"color: #008000; text-decoration-color: #008000\">'aexp'</span><span style=\"font-weight: bold\">]</span>=<span style=\"color: #008080; text-decoration-color: #008080; font-weight: bold\">0.06666666666666667</span> z = <span style=\"color: #008080; text-decoration-color: #008080; font-weight: bold\">14.0</span>                                                      \n",
       "</pre>\n"
      ],
      "text/plain": [
       "param\u001b[1m[\u001b[0m\u001b[32m'nsteps'\u001b[0m\u001b[1m]\u001b[0m=\u001b[1;36m18\u001b[0m param\u001b[1m[\u001b[0m\u001b[32m'aexp'\u001b[0m\u001b[1m]\u001b[0m=\u001b[1;36m0.06666666666666667\u001b[0m z = \u001b[1;36m14.0\u001b[0m                                                      \n"
      ]
     },
     "metadata": {},
     "output_type": "display_data"
    },
    {
     "name": "stdout",
     "output_type": "stream",
     "text": [
      "EFT-reserr\n",
      "rese-xc-before: 0.0010851089609786868\n",
      "EFT-reserr\n",
      "rese-xc-before: 0.0008148317574523389\n",
      "EFT-reserr\n",
      "reserr: 0.00027361826505512\n",
      "EFT-reserr\n",
      "rese-xc-before: 0.001080899266526103\n",
      "EFT-reserr\n",
      "rese-xc-before: 0.0008155916584655643\n",
      "EFT-reserr\n",
      "reserr: 0.0002897865488193929\n",
      "EFT-reserr\n",
      "rese-xc-before: 0.0010808988008648157\n",
      "EFT-reserr\n",
      "rese-xc-before: 0.0008155917166732252\n",
      "EFT-reserr\n",
      "reserr: 0.0002897934173233807\n",
      "EFT-reserr\n",
      "rese-xc-before: 0.0010808989172801375\n",
      "EFT-reserr\n",
      "rese-xc-before: 0.0008155917748808861\n",
      "EFT-reserr\n",
      "reserr: 0.00028978861519135535\n",
      "EFT-reserr\n",
      "rese-xc-before: 0.0010808989172801375\n",
      "EFT-reserr\n",
      "rese-xc-before: 0.0008155920077115297\n",
      "EFT-reserr\n",
      "reserr: 0.0002897998201660812\n",
      "EFT-reserr\n",
      "rese-xc-before: 0.0010808988008648157\n",
      "EFT-reserr\n",
      "rese-xc-before: 0.0008155917748808861\n",
      "EFT-reserr\n",
      "reserr: 0.00028978774207644165\n",
      "EFT-reserr\n",
      "2.5095582\n",
      "Step: 19 [0.01831253 0.01687199 0.015521  ] [ 8.5299771e-04  3.1218698e-04 -7.5310949e-05] [[ 0.01771776  0.02716126  0.03621401 ... -0.0096689  -0.00798716\n",
      "   0.00603625]\n",
      " [ 0.01958783  0.02418189  0.03392136 ... -0.00637411 -0.00129123\n",
      "   0.01048802]\n",
      " [ 0.0053      0.01899227  0.03813493 ...  0.00253648  0.01020387\n",
      "   0.00984859]\n",
      " ...\n",
      " [ 0.00114933 -0.0131416  -0.01006722 ... -0.01116857 -0.01672684\n",
      "  -0.01135349]\n",
      " [-0.00305356 -0.00813283 -0.00237533 ... -0.01415648 -0.01624939\n",
      "  -0.0153949 ]\n",
      " [ 0.00140241  0.01178688  0.02404355 ... -0.01824082 -0.01341368\n",
      "  -0.0084341 ]]\n"
     ]
    },
    {
     "data": {
      "text/html": [
       "<pre style=\"white-space:pre;overflow-x:auto;line-height:normal;font-family:Menlo,'DejaVu Sans Mono',consolas,'Courier New',monospace\">Snapshot written at <span style=\"color: #808000; text-decoration-color: #808000\">...</span><span style=\"color: #808000; text-decoration-color: #808000\">filename</span>=<span style=\"color: #008000; text-decoration-color: #008000\">'./small//output_00008/particles_eft_multigrid_ncoarse5.h5'</span>                        \n",
       "param<span style=\"font-weight: bold\">[</span><span style=\"color: #008000; text-decoration-color: #008000\">'aexp'</span><span style=\"font-weight: bold\">]</span>=<span style=\"color: #008080; text-decoration-color: #008080; font-weight: bold\">0.07142857142857141</span>                                                                                  \n",
       "</pre>\n"
      ],
      "text/plain": [
       "Snapshot written at \u001b[33m...\u001b[0m\u001b[33mfilename\u001b[0m=\u001b[32m'./small//output_00008/particles_eft_multigrid_ncoarse5.h5'\u001b[0m                        \n",
       "param\u001b[1m[\u001b[0m\u001b[32m'aexp'\u001b[0m\u001b[1m]\u001b[0m=\u001b[1;36m0.07142857142857141\u001b[0m                                                                                  \n"
      ]
     },
     "metadata": {},
     "output_type": "display_data"
    },
    {
     "data": {
      "text/html": [
       "<pre style=\"white-space:pre;overflow-x:auto;line-height:normal;font-family:Menlo,'DejaVu Sans Mono',consolas,'Courier New',monospace\">param<span style=\"font-weight: bold\">[</span><span style=\"color: #008000; text-decoration-color: #008000\">'nsteps'</span><span style=\"font-weight: bold\">]</span>=<span style=\"color: #008080; text-decoration-color: #008080; font-weight: bold\">19</span> param<span style=\"font-weight: bold\">[</span><span style=\"color: #008000; text-decoration-color: #008000\">'aexp'</span><span style=\"font-weight: bold\">]</span>=<span style=\"color: #008080; text-decoration-color: #008080; font-weight: bold\">0.07142857142857141</span> z = <span style=\"color: #008080; text-decoration-color: #008080; font-weight: bold\">13.000000000000004</span>                                        \n",
       "</pre>\n"
      ],
      "text/plain": [
       "param\u001b[1m[\u001b[0m\u001b[32m'nsteps'\u001b[0m\u001b[1m]\u001b[0m=\u001b[1;36m19\u001b[0m param\u001b[1m[\u001b[0m\u001b[32m'aexp'\u001b[0m\u001b[1m]\u001b[0m=\u001b[1;36m0.07142857142857141\u001b[0m z = \u001b[1;36m13.000000000000004\u001b[0m                                        \n"
      ]
     },
     "metadata": {},
     "output_type": "display_data"
    },
    {
     "name": "stdout",
     "output_type": "stream",
     "text": [
      "EFT-reserr\n",
      "rese-xc-before: 0.0012675279285758734\n",
      "EFT-reserr\n",
      "rese-xc-before: 0.0009522713953629136\n",
      "EFT-reserr\n",
      "reserr: 0.00031617077183909714\n",
      "EFT-reserr\n",
      "rese-xc-before: 0.0012626101961359382\n",
      "EFT-reserr\n",
      "rese-xc-before: 0.0009531579562462866\n",
      "EFT-reserr\n",
      "reserr: 0.00033525103935971856\n",
      "EFT-reserr\n",
      "rese-xc-before: 0.001262609614059329\n",
      "EFT-reserr\n",
      "rese-xc-before: 0.0009531580144539475\n",
      "EFT-reserr\n",
      "reserr: 0.0003352661442477256\n",
      "EFT-reserr\n",
      "rese-xc-before: 0.001262609614059329\n",
      "EFT-reserr\n",
      "rese-xc-before: 0.0009531580144539475\n",
      "EFT-reserr\n",
      "reserr: 0.00033526078914292157\n",
      "EFT-reserr\n",
      "rese-xc-before: 0.0012626094976440072\n",
      "EFT-reserr\n",
      "rese-xc-before: 0.0009531581308692694\n",
      "EFT-reserr\n",
      "reserr: 0.00033525851904414594\n",
      "EFT-reserr\n",
      "rese-xc-before: 0.0012626094976440072\n",
      "EFT-reserr\n",
      "rese-xc-before: 0.0009531580726616085\n",
      "EFT-reserr\n",
      "reserr: 0.00033526960760354996\n",
      "EFT-reserr\n",
      "2.5100946\n",
      "Step: 20 [0.01855901 0.01696164 0.01549877] [ 9.671528e-04  3.493711e-04 -8.938424e-05] [[ 0.02058993  0.03179802  0.04203178 ... -0.01134565 -0.00919464\n",
      "   0.00689624]\n",
      " [ 0.02288736  0.02856308  0.03942443 ... -0.00764275 -0.00141698\n",
      "   0.01221919]\n",
      " [ 0.00692017  0.02276933  0.04424682 ...  0.00262552  0.01164284\n",
      "   0.01156421]\n",
      " ...\n",
      " [ 0.00071739 -0.01538879 -0.01158342 ... -0.01277304 -0.0193703\n",
      "  -0.01323614]\n",
      " [-0.0035532  -0.00920214 -0.00253591 ... -0.01625937 -0.01888487\n",
      "  -0.01740597]\n",
      " [ 0.00194655  0.01384644  0.02766314 ... -0.02072735 -0.0154974\n",
      "  -0.00947809]]\n"
     ]
    },
    {
     "data": {
      "text/html": [
       "<pre style=\"white-space:pre;overflow-x:auto;line-height:normal;font-family:Menlo,'DejaVu Sans Mono',consolas,'Courier New',monospace\">Snapshot written at <span style=\"color: #808000; text-decoration-color: #808000\">...</span><span style=\"color: #808000; text-decoration-color: #808000\">filename</span>=<span style=\"color: #008000; text-decoration-color: #008000\">'./small//output_00009/particles_eft_multigrid_ncoarse5.h5'</span>                        \n",
       "param<span style=\"font-weight: bold\">[</span><span style=\"color: #008000; text-decoration-color: #008000\">'aexp'</span><span style=\"font-weight: bold\">]</span>=<span style=\"color: #008080; text-decoration-color: #008080; font-weight: bold\">0.07692307692307693</span>                                                                                  \n",
       "</pre>\n"
      ],
      "text/plain": [
       "Snapshot written at \u001b[33m...\u001b[0m\u001b[33mfilename\u001b[0m=\u001b[32m'./small//output_00009/particles_eft_multigrid_ncoarse5.h5'\u001b[0m                        \n",
       "param\u001b[1m[\u001b[0m\u001b[32m'aexp'\u001b[0m\u001b[1m]\u001b[0m=\u001b[1;36m0.07692307692307693\u001b[0m                                                                                  \n"
      ]
     },
     "metadata": {},
     "output_type": "display_data"
    },
    {
     "data": {
      "text/html": [
       "<pre style=\"white-space:pre;overflow-x:auto;line-height:normal;font-family:Menlo,'DejaVu Sans Mono',consolas,'Courier New',monospace\">param<span style=\"font-weight: bold\">[</span><span style=\"color: #008000; text-decoration-color: #008000\">'nsteps'</span><span style=\"font-weight: bold\">]</span>=<span style=\"color: #008080; text-decoration-color: #008080; font-weight: bold\">20</span> param<span style=\"font-weight: bold\">[</span><span style=\"color: #008000; text-decoration-color: #008000\">'aexp'</span><span style=\"font-weight: bold\">]</span>=<span style=\"color: #008080; text-decoration-color: #008080; font-weight: bold\">0.07692307692307693</span> z = <span style=\"color: #008080; text-decoration-color: #008080; font-weight: bold\">12.0</span>                                                      \n",
       "</pre>\n"
      ],
      "text/plain": [
       "param\u001b[1m[\u001b[0m\u001b[32m'nsteps'\u001b[0m\u001b[1m]\u001b[0m=\u001b[1;36m20\u001b[0m param\u001b[1m[\u001b[0m\u001b[32m'aexp'\u001b[0m\u001b[1m]\u001b[0m=\u001b[1;36m0.07692307692307693\u001b[0m z = \u001b[1;36m12.0\u001b[0m                                                      \n"
      ]
     },
     "metadata": {},
     "output_type": "display_data"
    },
    {
     "name": "stdout",
     "output_type": "stream",
     "text": [
      "EFT-reserr\n",
      "rese-xc-before: 0.0014992181677371264\n",
      "EFT-reserr\n",
      "rese-xc-before: 0.00112691312097013\n",
      "EFT-reserr\n",
      "reserr: 0.0003698225482366979\n",
      "EFT-reserr\n",
      "rese-xc-before: 0.00149340252391994\n",
      "EFT-reserr\n",
      "rese-xc-before: 0.0011279601603746414\n",
      "EFT-reserr\n",
      "reserr: 0.00039264484075829387\n",
      "EFT-reserr\n",
      "rese-xc-before: 0.0014934020582586527\n",
      "EFT-reserr\n",
      "rese-xc-before: 0.0011279601603746414\n",
      "EFT-reserr\n",
      "reserr: 0.00039266154635697603\n",
      "EFT-reserr\n",
      "rese-xc-before: 0.0014934020582586527\n",
      "EFT-reserr\n",
      "rese-xc-before: 0.0011279602767899632\n",
      "EFT-reserr\n",
      "reserr: 0.000392651796573773\n",
      "EFT-reserr\n",
      "rese-xc-before: 0.0014934020582586527\n",
      "EFT-reserr\n",
      "rese-xc-before: 0.0011279602767899632\n",
      "EFT-reserr\n",
      "reserr: 0.00039265627856366336\n",
      "EFT-reserr\n",
      "rese-xc-before: 0.0014934019418433309\n",
      "EFT-reserr\n",
      "rese-xc-before: 0.001127960509620607\n",
      "EFT-reserr\n",
      "reserr: 0.0003926543577108532\n",
      "EFT-reserr\n",
      "2.5197325\n",
      "Step: 21 [0.01885076 0.01706637 0.01547122] [ 0.00110765  0.00039488 -0.00010725] [[ 2.42490470e-02  3.77284288e-02  4.93810028e-02 ... -1.34879053e-02\n",
      "  -1.07043684e-02  7.98031688e-03]\n",
      " [ 2.71146297e-02  3.42098176e-02  4.63955998e-02 ... -9.30178165e-03\n",
      "  -1.56188011e-03  1.44325495e-02]\n",
      " [ 9.12216306e-03  2.77041495e-02  5.20055592e-02 ...  2.65899301e-03\n",
      "   1.34277344e-02  1.37737393e-02]\n",
      " ...\n",
      " [ 5.89787960e-05 -1.82518363e-02 -1.34787261e-02 ... -1.47982240e-02\n",
      "  -2.27091908e-02 -1.56384706e-02]\n",
      " [-4.18391824e-03 -1.05092973e-02 -2.71293521e-03 ... -1.88974142e-02\n",
      "  -2.22139060e-02 -1.98801756e-02]\n",
      " [ 2.69725919e-03  1.64855719e-02  3.21818590e-02 ... -2.38059461e-02\n",
      "  -1.81093216e-02 -1.07420385e-02]]\n"
     ]
    },
    {
     "data": {
      "text/html": [
       "<pre style=\"white-space:pre;overflow-x:auto;line-height:normal;font-family:Menlo,'DejaVu Sans Mono',consolas,'Courier New',monospace\">Snapshot written at <span style=\"color: #808000; text-decoration-color: #808000\">...</span><span style=\"color: #808000; text-decoration-color: #808000\">filename</span>=<span style=\"color: #008000; text-decoration-color: #008000\">'./small//output_00010/particles_eft_multigrid_ncoarse5.h5'</span>                        \n",
       "param<span style=\"font-weight: bold\">[</span><span style=\"color: #008000; text-decoration-color: #008000\">'aexp'</span><span style=\"font-weight: bold\">]</span>=<span style=\"color: #008080; text-decoration-color: #008080; font-weight: bold\">0.08333333333333333</span>                                                                                  \n",
       "</pre>\n"
      ],
      "text/plain": [
       "Snapshot written at \u001b[33m...\u001b[0m\u001b[33mfilename\u001b[0m=\u001b[32m'./small//output_00010/particles_eft_multigrid_ncoarse5.h5'\u001b[0m                        \n",
       "param\u001b[1m[\u001b[0m\u001b[32m'aexp'\u001b[0m\u001b[1m]\u001b[0m=\u001b[1;36m0.08333333333333333\u001b[0m                                                                                  \n"
      ]
     },
     "metadata": {},
     "output_type": "display_data"
    },
    {
     "data": {
      "text/html": [
       "<pre style=\"white-space:pre;overflow-x:auto;line-height:normal;font-family:Menlo,'DejaVu Sans Mono',consolas,'Courier New',monospace\">param<span style=\"font-weight: bold\">[</span><span style=\"color: #008000; text-decoration-color: #008000\">'nsteps'</span><span style=\"font-weight: bold\">]</span>=<span style=\"color: #008080; text-decoration-color: #008080; font-weight: bold\">21</span> param<span style=\"font-weight: bold\">[</span><span style=\"color: #008000; text-decoration-color: #008000\">'aexp'</span><span style=\"font-weight: bold\">]</span>=<span style=\"color: #008080; text-decoration-color: #008080; font-weight: bold\">0.08333333333333333</span> z = <span style=\"color: #008080; text-decoration-color: #008080; font-weight: bold\">11.0</span>                                                      \n",
       "</pre>\n"
      ],
      "text/plain": [
       "param\u001b[1m[\u001b[0m\u001b[32m'nsteps'\u001b[0m\u001b[1m]\u001b[0m=\u001b[1;36m21\u001b[0m param\u001b[1m[\u001b[0m\u001b[32m'aexp'\u001b[0m\u001b[1m]\u001b[0m=\u001b[1;36m0.08333333333333333\u001b[0m z = \u001b[1;36m11.0\u001b[0m                                                      \n"
      ]
     },
     "metadata": {},
     "output_type": "display_data"
    },
    {
     "name": "stdout",
     "output_type": "stream",
     "text": [
      "EFT-reserr\n",
      "rese-xc-before: 0.001799468882381916\n",
      "EFT-reserr\n",
      "rese-xc-before: 0.0013533475575968623\n",
      "EFT-reserr\n",
      "reserr: 0.00043870441731996834\n",
      "EFT-reserr\n",
      "rese-xc-before: 0.0017924928106367588\n",
      "EFT-reserr\n",
      "rese-xc-before: 0.0013546026311814785\n",
      "EFT-reserr\n",
      "reserr: 0.00046638623462058604\n",
      "EFT-reserr\n",
      "rese-xc-before: 0.0017924924613907933\n",
      "EFT-reserr\n",
      "rese-xc-before: 0.0013546025147661567\n",
      "EFT-reserr\n",
      "reserr: 0.0004663963336497545\n",
      "EFT-reserr\n",
      "rese-xc-before: 0.0017924921121448278\n",
      "EFT-reserr\n",
      "rese-xc-before: 0.0013546026311814785\n",
      "EFT-reserr\n",
      "reserr: 0.00046639383072033525\n",
      "EFT-reserr\n",
      "rese-xc-before: 0.0017924923449754715\n",
      "EFT-reserr\n",
      "rese-xc-before: 0.0013546025147661567\n",
      "EFT-reserr\n",
      "reserr: 0.00046639915672130883\n",
      "EFT-reserr\n",
      "rese-xc-before: 0.0017924922285601497\n",
      "EFT-reserr\n",
      "rese-xc-before: 0.001354602281935513\n",
      "EFT-reserr\n",
      "reserr: 0.00046640686923637986\n",
      "EFT-reserr\n",
      "2.5065355\n",
      "Step: 22 [0.01920095 0.01719043 0.01543656] [ 0.00128362  0.00045158 -0.00013034] [[ 0.0290179   0.04548076  0.05885071 ... -0.01628438 -0.01262653\n",
      "   0.0093779 ]\n",
      " [ 0.03265387  0.0416536   0.0554077  ... -0.01152092 -0.0017308\n",
      "   0.01732787]\n",
      " [ 0.01218367  0.03430134  0.06206796 ...  0.00258559  0.01568359\n",
      "   0.01668608]\n",
      " ...\n",
      " [-0.00094971 -0.02197355 -0.01589432 ... -0.01741406 -0.02701497\n",
      "  -0.01877207]\n",
      " [-0.00499597 -0.01213303 -0.00290978 ... -0.02227756 -0.02650064\n",
      "  -0.02298105]\n",
      " [ 0.00375402  0.01994139  0.03792498 ... -0.02768984 -0.02144748\n",
      "  -0.01229295]]\n"
     ]
    },
    {
     "data": {
      "text/html": [
       "<pre style=\"white-space:pre;overflow-x:auto;line-height:normal;font-family:Menlo,'DejaVu Sans Mono',consolas,'Courier New',monospace\">Snapshot written at <span style=\"color: #808000; text-decoration-color: #808000\">...</span><span style=\"color: #808000; text-decoration-color: #808000\">filename</span>=<span style=\"color: #008000; text-decoration-color: #008000\">'./small//output_00011/particles_eft_multigrid_ncoarse5.h5'</span>                        \n",
       "param<span style=\"font-weight: bold\">[</span><span style=\"color: #008000; text-decoration-color: #008000\">'aexp'</span><span style=\"font-weight: bold\">]</span>=<span style=\"color: #008080; text-decoration-color: #008080; font-weight: bold\">0.0909090909090909</span>                                                                                   \n",
       "</pre>\n"
      ],
      "text/plain": [
       "Snapshot written at \u001b[33m...\u001b[0m\u001b[33mfilename\u001b[0m=\u001b[32m'./small//output_00011/particles_eft_multigrid_ncoarse5.h5'\u001b[0m                        \n",
       "param\u001b[1m[\u001b[0m\u001b[32m'aexp'\u001b[0m\u001b[1m]\u001b[0m=\u001b[1;36m0.0909090909090909\u001b[0m                                                                                   \n"
      ]
     },
     "metadata": {},
     "output_type": "display_data"
    },
    {
     "data": {
      "text/html": [
       "<pre style=\"white-space:pre;overflow-x:auto;line-height:normal;font-family:Menlo,'DejaVu Sans Mono',consolas,'Courier New',monospace\">param<span style=\"font-weight: bold\">[</span><span style=\"color: #008000; text-decoration-color: #008000\">'nsteps'</span><span style=\"font-weight: bold\">]</span>=<span style=\"color: #008080; text-decoration-color: #008080; font-weight: bold\">22</span> param<span style=\"font-weight: bold\">[</span><span style=\"color: #008000; text-decoration-color: #008000\">'aexp'</span><span style=\"font-weight: bold\">]</span>=<span style=\"color: #008080; text-decoration-color: #008080; font-weight: bold\">0.0909090909090909</span> z = <span style=\"color: #008080; text-decoration-color: #008080; font-weight: bold\">10.000000000000002</span>                                         \n",
       "</pre>\n"
      ],
      "text/plain": [
       "param\u001b[1m[\u001b[0m\u001b[32m'nsteps'\u001b[0m\u001b[1m]\u001b[0m=\u001b[1;36m22\u001b[0m param\u001b[1m[\u001b[0m\u001b[32m'aexp'\u001b[0m\u001b[1m]\u001b[0m=\u001b[1;36m0.0909090909090909\u001b[0m z = \u001b[1;36m10.000000000000002\u001b[0m                                         \n"
      ]
     },
     "metadata": {},
     "output_type": "display_data"
    },
    {
     "name": "stdout",
     "output_type": "stream",
     "text": [
      "EFT-reserr\n",
      "rese-xc-before: 0.002197973197326064\n",
      "EFT-reserr\n",
      "rese-xc-before: 0.0016540527576580644\n",
      "EFT-reserr\n",
      "reserr: 0.0005284444778226316\n",
      "EFT-reserr\n",
      "rese-xc-before: 0.002189463470131159\n",
      "EFT-reserr\n",
      "rese-xc-before: 0.0016555838519707322\n",
      "EFT-reserr\n",
      "reserr: 0.000562530942261219\n",
      "EFT-reserr\n",
      "rese-xc-before: 0.002189462538808584\n",
      "EFT-reserr\n",
      "rese-xc-before: 0.0016555838519707322\n",
      "EFT-reserr\n",
      "reserr: 0.0005625386838801205\n",
      "EFT-reserr\n",
      "rese-xc-before: 0.0021894623059779406\n",
      "EFT-reserr\n",
      "rese-xc-before: 0.0016555844340473413\n",
      "EFT-reserr\n",
      "reserr: 0.0005625470657832921\n",
      "EFT-reserr\n",
      "rese-xc-before: 0.002189462538808584\n",
      "EFT-reserr\n",
      "rese-xc-before: 0.0016555842012166977\n",
      "EFT-reserr\n",
      "reserr: 0.0005625550402328372\n",
      "EFT-reserr\n",
      "rese-xc-before: 0.002189462538808584\n",
      "EFT-reserr\n",
      "rese-xc-before: 0.001655583968386054\n",
      "EFT-reserr\n",
      "reserr: 0.000562551838811487\n",
      "EFT-reserr\n",
      "2.5151567\n",
      "Step: 23 [0.01962832 0.01733983 0.01539218] [ 0.00150859  0.00052376 -0.00016085] [[ 0.03539869  0.05588415  0.07134175 ... -0.02002746 -0.01512864\n",
      "   0.01123235]\n",
      " [ 0.04011306  0.0517287   0.06734285 ... -0.01457319 -0.0019269\n",
      "   0.02121833]\n",
      " [ 0.0165551   0.04336828  0.07545358 ...  0.0023101   0.01859725\n",
      "   0.0206323 ]\n",
      " ...\n",
      " [-0.00251421 -0.02692977 -0.01904431 ... -0.02089146 -0.03270546\n",
      "  -0.02296779]\n",
      " [-0.00606823 -0.01418763 -0.00313541 ... -0.02671623 -0.03215253\n",
      "  -0.02695167]\n",
      " [ 0.00528073  0.02458164  0.04537696 ... -0.03270349 -0.02580822\n",
      "  -0.01422855]]\n"
     ]
    },
    {
     "data": {
      "text/html": [
       "<pre style=\"white-space:pre;overflow-x:auto;line-height:normal;font-family:Menlo,'DejaVu Sans Mono',consolas,'Courier New',monospace\">Snapshot written at <span style=\"color: #808000; text-decoration-color: #808000\">...</span><span style=\"color: #808000; text-decoration-color: #808000\">filename</span>=<span style=\"color: #008000; text-decoration-color: #008000\">'./small//output_00012/particles_eft_multigrid_ncoarse5.h5'</span>                        \n",
       "param<span style=\"font-weight: bold\">[</span><span style=\"color: #008000; text-decoration-color: #008000\">'aexp'</span><span style=\"font-weight: bold\">]</span>=<span style=\"color: #008080; text-decoration-color: #008080; font-weight: bold\">0.10000000000000002</span>                                                                                  \n",
       "</pre>\n"
      ],
      "text/plain": [
       "Snapshot written at \u001b[33m...\u001b[0m\u001b[33mfilename\u001b[0m=\u001b[32m'./small//output_00012/particles_eft_multigrid_ncoarse5.h5'\u001b[0m                        \n",
       "param\u001b[1m[\u001b[0m\u001b[32m'aexp'\u001b[0m\u001b[1m]\u001b[0m=\u001b[1;36m0.10000000000000002\u001b[0m                                                                                  \n"
      ]
     },
     "metadata": {},
     "output_type": "display_data"
    },
    {
     "data": {
      "text/html": [
       "<pre style=\"white-space:pre;overflow-x:auto;line-height:normal;font-family:Menlo,'DejaVu Sans Mono',consolas,'Courier New',monospace\">param<span style=\"font-weight: bold\">[</span><span style=\"color: #008000; text-decoration-color: #008000\">'nsteps'</span><span style=\"font-weight: bold\">]</span>=<span style=\"color: #008080; text-decoration-color: #008080; font-weight: bold\">23</span> param<span style=\"font-weight: bold\">[</span><span style=\"color: #008000; text-decoration-color: #008000\">'aexp'</span><span style=\"font-weight: bold\">]</span>=<span style=\"color: #008080; text-decoration-color: #008080; font-weight: bold\">0.10000000000000002</span> z = <span style=\"color: #008080; text-decoration-color: #008080; font-weight: bold\">8.999999999999998</span>                                         \n",
       "</pre>\n"
      ],
      "text/plain": [
       "param\u001b[1m[\u001b[0m\u001b[32m'nsteps'\u001b[0m\u001b[1m]\u001b[0m=\u001b[1;36m23\u001b[0m param\u001b[1m[\u001b[0m\u001b[32m'aexp'\u001b[0m\u001b[1m]\u001b[0m=\u001b[1;36m0.10000000000000002\u001b[0m z = \u001b[1;36m8.999999999999998\u001b[0m                                         \n"
      ]
     },
     "metadata": {},
     "output_type": "display_data"
    },
    {
     "name": "stdout",
     "output_type": "stream",
     "text": [
      "EFT-reserr\n",
      "rese-xc-before: 0.002685403684154153\n",
      "EFT-reserr\n",
      "rese-xc-before: 0.0020220777951180935\n",
      "EFT-reserr\n",
      "reserr: 0.0006370297633111477\n",
      "EFT-reserr\n",
      "rese-xc-before: 0.002675027819350362\n",
      "EFT-reserr\n",
      "rese-xc-before: 0.002023945329710841\n",
      "EFT-reserr\n",
      "reserr: 0.0006789540057070553\n",
      "EFT-reserr\n",
      "rese-xc-before: 0.0026750273536890745\n",
      "EFT-reserr\n",
      "rese-xc-before: 0.002023945562541485\n",
      "EFT-reserr\n",
      "reserr: 0.0006789678591303527\n",
      "EFT-reserr\n",
      "rese-xc-before: 0.002675027120858431\n",
      "EFT-reserr\n",
      "rese-xc-before: 0.002023945329710841\n",
      "EFT-reserr\n",
      "reserr: 0.0006789726321585476\n",
      "EFT-reserr\n",
      "rese-xc-before: 0.002675027120858431\n",
      "EFT-reserr\n",
      "rese-xc-before: 0.0020239457953721285\n",
      "EFT-reserr\n",
      "reserr: 0.0006789608160033822\n",
      "EFT-reserr\n",
      "rese-xc-before: 0.002675027120858431\n",
      "EFT-reserr\n",
      "rese-xc-before: 0.002023945562541485\n",
      "EFT-reserr\n",
      "reserr: 0.0006789739127270877\n",
      "EFT-reserr\n",
      "2.5047145\n",
      "Step: 24 [0.02010718 0.01750515 0.01534004] [ 0.00177276  0.00060823 -0.00019787] [[ 0.04329222  0.06877503  0.08651471 ... -0.02464837 -0.01812509\n",
      "   0.01350921]\n",
      " [ 0.04939672  0.06432435  0.08191082 ... -0.0184499  -0.0021323\n",
      "   0.02605215]\n",
      " [ 0.02231205  0.05487996  0.09188637 ...  0.00173491  0.02206022\n",
      "   0.02557266]\n",
      " ...\n",
      " [-0.0047217  -0.03300908 -0.02282801 ... -0.02517146 -0.03964382\n",
      "  -0.02815539]\n",
      " [-0.00737408 -0.01657289 -0.00337964 ... -0.03209522 -0.03901532\n",
      "  -0.03163281]\n",
      " [ 0.00730866  0.03032967  0.05426106 ... -0.03866458 -0.03105021\n",
      "  -0.0164375 ]]\n"
     ]
    },
    {
     "data": {
      "text/html": [
       "<pre style=\"white-space:pre;overflow-x:auto;line-height:normal;font-family:Menlo,'DejaVu Sans Mono',consolas,'Courier New',monospace\">param<span style=\"font-weight: bold\">[</span><span style=\"color: #008000; text-decoration-color: #008000\">'nsteps'</span><span style=\"font-weight: bold\">]</span>=<span style=\"color: #008080; text-decoration-color: #008080; font-weight: bold\">24</span> param<span style=\"font-weight: bold\">[</span><span style=\"color: #008000; text-decoration-color: #008000\">'aexp'</span><span style=\"font-weight: bold\">]</span>=<span style=\"color: #008080; text-decoration-color: #008080; font-weight: bold\">0.1099999997327191</span> z = <span style=\"color: #008080; text-decoration-color: #008080; font-weight: bold\">8.090909112998421</span>                                          \n",
       "</pre>\n"
      ],
      "text/plain": [
       "param\u001b[1m[\u001b[0m\u001b[32m'nsteps'\u001b[0m\u001b[1m]\u001b[0m=\u001b[1;36m24\u001b[0m param\u001b[1m[\u001b[0m\u001b[32m'aexp'\u001b[0m\u001b[1m]\u001b[0m=\u001b[1;36m0.1099999997327191\u001b[0m z = \u001b[1;36m8.090909112998421\u001b[0m                                          \n"
      ]
     },
     "metadata": {},
     "output_type": "display_data"
    },
    {
     "name": "stdout",
     "output_type": "stream",
     "text": [
      "EFT-reserr\n",
      "rese-xc-before: 0.002742927987128496\n",
      "EFT-reserr\n",
      "rese-xc-before: 0.00206552492454648\n",
      "EFT-reserr\n",
      "reserr: 0.0006498244474641979\n",
      "EFT-reserr\n",
      "rese-xc-before: 0.0027323332615196705\n",
      "EFT-reserr\n",
      "rese-xc-before: 0.0020674322731792927\n",
      "EFT-reserr\n",
      "reserr: 0.0006926825153641403\n",
      "EFT-reserr\n",
      "rese-xc-before: 0.0027323320973664522\n",
      "EFT-reserr\n",
      "rese-xc-before: 0.0020674325060099363\n",
      "EFT-reserr\n",
      "reserr: 0.000692703586537391\n",
      "EFT-reserr\n",
      "rese-xc-before: 0.0027323320973664522\n",
      "EFT-reserr\n",
      "rese-xc-before: 0.0020674325060099363\n",
      "EFT-reserr\n",
      "reserr: 0.0006927113863639534\n",
      "EFT-reserr\n",
      "rese-xc-before: 0.0027323318645358086\n",
      "EFT-reserr\n",
      "rese-xc-before: 0.0020674322731792927\n",
      "EFT-reserr\n",
      "reserr: 0.0006927083595655859\n",
      "EFT-reserr\n",
      "rese-xc-before: 0.0027323320973664522\n",
      "EFT-reserr\n",
      "rese-xc-before: 0.0020674325060099363\n",
      "EFT-reserr\n",
      "reserr: 0.0006927003851160407\n",
      "EFT-reserr\n",
      "2.490575\n",
      "Step: 25 [0.02016122 0.01752368 0.01533399] [ 0.00180304  0.00061791 -0.00020218] [[ 0.04423022  0.07030711  0.08829811 ... -0.02519619 -0.01847422\n",
      "   0.01377839]\n",
      " [ 0.05050331  0.06582963  0.08362716 ... -0.01891682 -0.00215432\n",
      "   0.02662784]\n",
      " [ 0.02301902  0.05626661  0.09382966 ...  0.00165111  0.02246237\n",
      "   0.02616316]\n",
      " ...\n",
      " [-0.00500166 -0.03372741 -0.02327052 ... -0.02567875 -0.04046118\n",
      "  -0.02877176]\n",
      " [-0.00752783 -0.01684651 -0.00340691 ... -0.03272715 -0.03982097\n",
      "  -0.03217417]\n",
      " [ 0.00755847  0.03101277  0.05529281 ... -0.03935632 -0.03166252\n",
      "  -0.01668769]]\n"
     ]
    },
    {
     "data": {
      "text/html": [
       "<pre style=\"white-space:pre;overflow-x:auto;line-height:normal;font-family:Menlo,'DejaVu Sans Mono',consolas,'Courier New',monospace\">Snapshot written at <span style=\"color: #808000; text-decoration-color: #808000\">...</span><span style=\"color: #808000; text-decoration-color: #808000\">filename</span>=<span style=\"color: #008000; text-decoration-color: #008000\">'./small//output_00013/particles_eft_multigrid_ncoarse5.h5'</span>                        \n",
       "param<span style=\"font-weight: bold\">[</span><span style=\"color: #008000; text-decoration-color: #008000\">'aexp'</span><span style=\"font-weight: bold\">]</span>=<span style=\"color: #008080; text-decoration-color: #008080; font-weight: bold\">0.11111111111111109</span>                                                                                  \n",
       "</pre>\n"
      ],
      "text/plain": [
       "Snapshot written at \u001b[33m...\u001b[0m\u001b[33mfilename\u001b[0m=\u001b[32m'./small//output_00013/particles_eft_multigrid_ncoarse5.h5'\u001b[0m                        \n",
       "param\u001b[1m[\u001b[0m\u001b[32m'aexp'\u001b[0m\u001b[1m]\u001b[0m=\u001b[1;36m0.11111111111111109\u001b[0m                                                                                  \n"
      ]
     },
     "metadata": {},
     "output_type": "display_data"
    },
    {
     "data": {
      "text/html": [
       "<pre style=\"white-space:pre;overflow-x:auto;line-height:normal;font-family:Menlo,'DejaVu Sans Mono',consolas,'Courier New',monospace\">param<span style=\"font-weight: bold\">[</span><span style=\"color: #008000; text-decoration-color: #008000\">'nsteps'</span><span style=\"font-weight: bold\">]</span>=<span style=\"color: #008080; text-decoration-color: #008080; font-weight: bold\">25</span> param<span style=\"font-weight: bold\">[</span><span style=\"color: #008000; text-decoration-color: #008000\">'aexp'</span><span style=\"font-weight: bold\">]</span>=<span style=\"color: #008080; text-decoration-color: #008080; font-weight: bold\">0.11111111111111109</span> z = <span style=\"color: #008080; text-decoration-color: #008080; font-weight: bold\">8.000000000000002</span>                                         \n",
       "</pre>\n"
      ],
      "text/plain": [
       "param\u001b[1m[\u001b[0m\u001b[32m'nsteps'\u001b[0m\u001b[1m]\u001b[0m=\u001b[1;36m25\u001b[0m param\u001b[1m[\u001b[0m\u001b[32m'aexp'\u001b[0m\u001b[1m]\u001b[0m=\u001b[1;36m0.11111111111111109\u001b[0m z = \u001b[1;36m8.000000000000002\u001b[0m                                         \n"
      ]
     },
     "metadata": {},
     "output_type": "display_data"
    },
    {
     "name": "stdout",
     "output_type": "stream",
     "text": [
      "EFT-reserr\n",
      "rese-xc-before: 0.0033520455472171307\n",
      "EFT-reserr\n",
      "rese-xc-before: 0.0025257617235183716\n",
      "EFT-reserr\n",
      "reserr: 0.0007854605792090297\n",
      "EFT-reserr\n",
      "rese-xc-before: 0.003339136252179742\n",
      "EFT-reserr\n",
      "rese-xc-before: 0.0025280907284468412\n",
      "EFT-reserr\n",
      "reserr: 0.0008382605155929923\n",
      "EFT-reserr\n",
      "rese-xc-before: 0.0033391350880265236\n",
      "EFT-reserr\n",
      "rese-xc-before: 0.0025280911941081285\n",
      "EFT-reserr\n",
      "reserr: 0.0008382825762964785\n",
      "EFT-reserr\n",
      "rese-xc-before: 0.00333913485519588\n",
      "EFT-reserr\n",
      "rese-xc-before: 0.0025280907284468412\n",
      "EFT-reserr\n",
      "reserr: 0.0008383051608689129\n",
      "EFT-reserr\n",
      "rese-xc-before: 0.00333913485519588\n",
      "EFT-reserr\n",
      "rese-xc-before: 0.0025280904956161976\n",
      "EFT-reserr\n",
      "reserr: 0.0008382888045161963\n",
      "EFT-reserr\n",
      "rese-xc-before: 0.0033391346223652363\n",
      "EFT-reserr\n",
      "rese-xc-before: 0.0025280904956161976\n",
      "EFT-reserr\n",
      "reserr: 0.0008382893865928054\n",
      "EFT-reserr\n",
      "2.5021029\n",
      "Step: 26 [0.02070415 0.01770882 0.01527191] [ 0.00211857  0.00071863 -0.00024792] [[ 0.05425608  0.08669013  0.10711467 ... -0.03103524 -0.02212948\n",
      "   0.01665366]\n",
      " [ 0.06237096  0.08198923  0.10179973 ... -0.02397192 -0.00236434\n",
      "   0.03279656]\n",
      " [ 0.03080744  0.07128239  0.11448926 ...  0.00058389  0.02665776\n",
      "   0.03251839]\n",
      " ...\n",
      " [-0.00817388 -0.04134214 -0.02791116 ... -0.03110129 -0.04911798\n",
      "  -0.03534943]\n",
      " [-0.00915587 -0.01965207 -0.0036943  ... -0.03940141 -0.04833025\n",
      "  -0.03779584]\n",
      " [ 0.01032025  0.03830332  0.06605402 ... -0.04659021 -0.03808469\n",
      "  -0.01922971]]\n"
     ]
    },
    {
     "data": {
      "text/html": [
       "<pre style=\"white-space:pre;overflow-x:auto;line-height:normal;font-family:Menlo,'DejaVu Sans Mono',consolas,'Courier New',monospace\">param<span style=\"font-weight: bold\">[</span><span style=\"color: #008000; text-decoration-color: #008000\">'nsteps'</span><span style=\"font-weight: bold\">]</span>=<span style=\"color: #008080; text-decoration-color: #008080; font-weight: bold\">26</span> param<span style=\"font-weight: bold\">[</span><span style=\"color: #008000; text-decoration-color: #008000\">'aexp'</span><span style=\"font-weight: bold\">]</span>=<span style=\"color: #008080; text-decoration-color: #008080; font-weight: bold\">0.12222222184337919</span> z = <span style=\"color: #008080; text-decoration-color: #008080; font-weight: bold\">7.181818207178749</span>                                         \n",
       "</pre>\n"
      ],
      "text/plain": [
       "param\u001b[1m[\u001b[0m\u001b[32m'nsteps'\u001b[0m\u001b[1m]\u001b[0m=\u001b[1;36m26\u001b[0m param\u001b[1m[\u001b[0m\u001b[32m'aexp'\u001b[0m\u001b[1m]\u001b[0m=\u001b[1;36m0.12222222184337919\u001b[0m z = \u001b[1;36m7.181818207178749\u001b[0m                                         \n"
      ]
     },
     "metadata": {},
     "output_type": "display_data"
    },
    {
     "name": "stdout",
     "output_type": "stream",
     "text": [
      "EFT-reserr\n",
      "rese-xc-before: 0.0035148202441632748\n",
      "EFT-reserr\n",
      "rese-xc-before: 0.0026488094590604305\n",
      "EFT-reserr\n",
      "reserr: 0.0008221148746088147\n",
      "EFT-reserr\n",
      "rese-xc-before: 0.003501296741887927\n",
      "EFT-reserr\n",
      "rese-xc-before: 0.0026512511540204287\n",
      "EFT-reserr\n",
      "reserr: 0.0008775609894655645\n",
      "EFT-reserr\n",
      "rese-xc-before: 0.003501294646412134\n",
      "EFT-reserr\n",
      "rese-xc-before: 0.0026512506883591413\n",
      "EFT-reserr\n",
      "reserr: 0.0008776052272878587\n",
      "EFT-reserr\n",
      "rese-xc-before: 0.0035012944135814905\n",
      "EFT-reserr\n",
      "rese-xc-before: 0.0026512511540204287\n",
      "EFT-reserr\n",
      "reserr: 0.0008775936439633369\n",
      "EFT-reserr\n",
      "rese-xc-before: 0.003501294646412134\n",
      "EFT-reserr\n",
      "rese-xc-before: 0.0026512511540204287\n",
      "EFT-reserr\n",
      "reserr: 0.0008775809546932578\n",
      "EFT-reserr\n",
      "rese-xc-before: 0.003501294646412134\n",
      "EFT-reserr\n",
      "rese-xc-before: 0.0026512513868510723\n",
      "EFT-reserr\n",
      "reserr: 0.0008775967289693654\n",
      "EFT-reserr\n",
      "2.501579\n",
      "Step: 27 [0.02084212 0.01775557 0.01525569] [ 0.00220031  0.00074472 -0.00025997] [[ 0.05696404  0.09111434  0.11212158 ... -0.03260624 -0.02309394\n",
      "   0.01742852]\n",
      " [ 0.06558836  0.08637571  0.10665202 ... -0.02535665 -0.00241321\n",
      "   0.03446686]\n",
      " [ 0.03298217  0.07539552  0.12003285 ...  0.0002445   0.02775872\n",
      "   0.03424621]\n",
      " ...\n",
      " [-0.00908643 -0.04338008 -0.02913949 ... -0.03256422 -0.05143064\n",
      "  -0.03712344]\n",
      " [-0.00959182 -0.0203768  -0.00377101 ... -0.0411799  -0.05059487\n",
      "  -0.03926617]\n",
      " [ 0.01109302  0.04026854  0.06887567 ... -0.04849261 -0.03978175\n",
      "  -0.01987642]]\n"
     ]
    },
    {
     "data": {
      "text/html": [
       "<pre style=\"white-space:pre;overflow-x:auto;line-height:normal;font-family:Menlo,'DejaVu Sans Mono',consolas,'Courier New',monospace\">Snapshot written at <span style=\"color: #808000; text-decoration-color: #808000\">...</span><span style=\"color: #808000; text-decoration-color: #808000\">filename</span>=<span style=\"color: #008000; text-decoration-color: #008000\">'./small//output_00014/particles_eft_multigrid_ncoarse5.h5'</span>                        \n",
       "param<span style=\"font-weight: bold\">[</span><span style=\"color: #008000; text-decoration-color: #008000\">'aexp'</span><span style=\"font-weight: bold\">]</span>=<span style=\"color: #008080; text-decoration-color: #008080; font-weight: bold\">0.12500000000000003</span>                                                                                  \n",
       "</pre>\n"
      ],
      "text/plain": [
       "Snapshot written at \u001b[33m...\u001b[0m\u001b[33mfilename\u001b[0m=\u001b[32m'./small//output_00014/particles_eft_multigrid_ncoarse5.h5'\u001b[0m                        \n",
       "param\u001b[1m[\u001b[0m\u001b[32m'aexp'\u001b[0m\u001b[1m]\u001b[0m=\u001b[1;36m0.12500000000000003\u001b[0m                                                                                  \n"
      ]
     },
     "metadata": {},
     "output_type": "display_data"
    },
    {
     "data": {
      "text/html": [
       "<pre style=\"white-space:pre;overflow-x:auto;line-height:normal;font-family:Menlo,'DejaVu Sans Mono',consolas,'Courier New',monospace\">param<span style=\"font-weight: bold\">[</span><span style=\"color: #008000; text-decoration-color: #008000\">'nsteps'</span><span style=\"font-weight: bold\">]</span>=<span style=\"color: #008080; text-decoration-color: #008080; font-weight: bold\">27</span> param<span style=\"font-weight: bold\">[</span><span style=\"color: #008000; text-decoration-color: #008000\">'aexp'</span><span style=\"font-weight: bold\">]</span>=<span style=\"color: #008080; text-decoration-color: #008080; font-weight: bold\">0.12500000000000003</span> z = <span style=\"color: #008080; text-decoration-color: #008080; font-weight: bold\">6.999999999999998</span>                                         \n",
       "</pre>\n"
      ],
      "text/plain": [
       "param\u001b[1m[\u001b[0m\u001b[32m'nsteps'\u001b[0m\u001b[1m]\u001b[0m=\u001b[1;36m27\u001b[0m param\u001b[1m[\u001b[0m\u001b[32m'aexp'\u001b[0m\u001b[1m]\u001b[0m=\u001b[1;36m0.12500000000000003\u001b[0m z = \u001b[1;36m6.999999999999998\u001b[0m                                         \n"
      ]
     },
     "metadata": {},
     "output_type": "display_data"
    },
    {
     "name": "stdout",
     "output_type": "stream",
     "text": [
      "EFT-reserr\n",
      "rese-xc-before: 0.004295560996979475\n",
      "EFT-reserr\n",
      "rese-xc-before: 0.003239432815462351\n",
      "EFT-reserr\n",
      "reserr: 0.0009931977838277817\n",
      "EFT-reserr\n",
      "rese-xc-before: 0.004279090091586113\n",
      "EFT-reserr\n",
      "rese-xc-before: 0.003242417238652706\n",
      "EFT-reserr\n",
      "reserr: 0.0010612386977300048\n",
      "EFT-reserr\n",
      "rese-xc-before: 0.004279088694602251\n",
      "EFT-reserr\n",
      "rese-xc-before: 0.003242417238652706\n",
      "EFT-reserr\n",
      "reserr: 0.0010612618643790483\n",
      "EFT-reserr\n",
      "rese-xc-before: 0.004279088694602251\n",
      "EFT-reserr\n",
      "rese-xc-before: 0.003242417238652706\n",
      "EFT-reserr\n",
      "reserr: 0.00106127152685076\n",
      "EFT-reserr\n",
      "rese-xc-before: 0.004279089160263538\n",
      "EFT-reserr\n",
      "rese-xc-before: 0.003242416772991419\n",
      "EFT-reserr\n",
      "reserr: 0.0010612738551571965\n",
      "EFT-reserr\n",
      "rese-xc-before: 0.004279088694602251\n",
      "EFT-reserr\n",
      "rese-xc-before: 0.003242417238652706\n",
      "EFT-reserr\n",
      "reserr: 0.0010612530168145895\n",
      "EFT-reserr\n",
      "2.4964943\n",
      "Step: 28 [0.02146677 0.01796611 0.01518054] [ 0.00258518  0.00086764 -0.00031779] [[ 0.07013112  0.11260808  0.1360504  ... -0.04020488 -0.02765745\n",
      "   0.02119046]\n",
      " [ 0.08128059  0.10779417  0.12993729 ... -0.03217208 -0.00261742\n",
      "   0.04260755]\n",
      " [ 0.04388601  0.09565693  0.14678705 ... -0.00165832  0.03295988\n",
      "   0.0427019 ]\n",
      " ...\n",
      " [-0.01377261 -0.05316633 -0.03498155 ... -0.03968871 -0.06254905\n",
      "  -0.04573154]\n",
      " [-0.0116865  -0.02373022 -0.00416172 ... -0.04970992 -0.06142086\n",
      "  -0.04617614]\n",
      " [ 0.01497436  0.04978669  0.08215082 ... -0.05749595 -0.04783642\n",
      "  -0.02282536]]\n"
     ]
    },
    {
     "data": {
      "text/html": [
       "<pre style=\"white-space:pre;overflow-x:auto;line-height:normal;font-family:Menlo,'DejaVu Sans Mono',consolas,'Courier New',monospace\">param<span style=\"font-weight: bold\">[</span><span style=\"color: #008000; text-decoration-color: #008000\">'nsteps'</span><span style=\"font-weight: bold\">]</span>=<span style=\"color: #008080; text-decoration-color: #008080; font-weight: bold\">28</span> param<span style=\"font-weight: bold\">[</span><span style=\"color: #008000; text-decoration-color: #008000\">'aexp'</span><span style=\"font-weight: bold\">]</span>=<span style=\"color: #008080; text-decoration-color: #008080; font-weight: bold\">0.1375000004223509</span> z = <span style=\"color: #008080; text-decoration-color: #008080; font-weight: bold\">6.272727250388052</span>                                          \n",
       "</pre>\n"
      ],
      "text/plain": [
       "param\u001b[1m[\u001b[0m\u001b[32m'nsteps'\u001b[0m\u001b[1m]\u001b[0m=\u001b[1;36m28\u001b[0m param\u001b[1m[\u001b[0m\u001b[32m'aexp'\u001b[0m\u001b[1m]\u001b[0m=\u001b[1;36m0.1375000004223509\u001b[0m z = \u001b[1;36m6.272727250388052\u001b[0m                                          \n"
      ]
     },
     "metadata": {},
     "output_type": "display_data"
    },
    {
     "name": "stdout",
     "output_type": "stream",
     "text": [
      "EFT-reserr\n",
      "rese-xc-before: 0.004656337667256594\n",
      "EFT-reserr\n",
      "rese-xc-before: 0.00351258204318583\n",
      "EFT-reserr\n",
      "reserr: 0.0010714937234297395\n",
      "EFT-reserr\n",
      "rese-xc-before: 0.004638513550162315\n",
      "EFT-reserr\n",
      "rese-xc-before: 0.003515816992148757\n",
      "EFT-reserr\n",
      "reserr: 0.0011452357284724712\n",
      "EFT-reserr\n",
      "rese-xc-before: 0.0046385121531784534\n",
      "EFT-reserr\n",
      "rese-xc-before: 0.003515816992148757\n",
      "EFT-reserr\n",
      "reserr: 0.001145247253589332\n",
      "EFT-reserr\n",
      "rese-xc-before: 0.0046385121531784534\n",
      "EFT-reserr\n",
      "rese-xc-before: 0.0035158172249794006\n",
      "EFT-reserr\n",
      "reserr: 0.001145283575169742\n",
      "EFT-reserr\n",
      "rese-xc-before: 0.004638511687517166\n",
      "EFT-reserr\n",
      "rese-xc-before: 0.0035158167593181133\n",
      "EFT-reserr\n",
      "reserr: 0.0011452503968030214\n",
      "EFT-reserr\n",
      "rese-xc-before: 0.004638511221855879\n",
      "EFT-reserr\n",
      "rese-xc-before: 0.003515817690640688\n",
      "EFT-reserr\n",
      "reserr: 0.0011452693725004792\n",
      "EFT-reserr\n",
      "2.5035677\n",
      "Step: 29 [0.02173911 0.01805738 0.01514681] [ 0.00275712  0.00092262 -0.0003441 ] [[ 0.07631165  0.12268245  0.14705026 ... -0.0437479  -0.02973366\n",
      "   0.0229553 ]\n",
      " [ 0.08867329  0.1178903   0.14069259 ... -0.03541517 -0.00269657\n",
      "   0.04643786]\n",
      " [ 0.04917794  0.1053043   0.15923917 ... -0.00268519  0.03531522\n",
      "   0.04669726]\n",
      " ...\n",
      " [-0.01610702 -0.0576914  -0.03765655 ... -0.0430367  -0.06769711\n",
      "  -0.04976296]\n",
      " [-0.01266062 -0.02521688 -0.00435829 ... -0.05364996 -0.06640267\n",
      "  -0.04929513]\n",
      " [ 0.01685804  0.05422926  0.08813524 ... -0.06159008 -0.05151033\n",
      "  -0.02410555]]\n"
     ]
    },
    {
     "data": {
      "text/html": [
       "<pre style=\"white-space:pre;overflow-x:auto;line-height:normal;font-family:Menlo,'DejaVu Sans Mono',consolas,'Courier New',monospace\">Snapshot written at <span style=\"color: #808000; text-decoration-color: #808000\">...</span><span style=\"color: #808000; text-decoration-color: #808000\">filename</span>=<span style=\"color: #008000; text-decoration-color: #008000\">'./small//output_00015/particles_eft_multigrid_ncoarse5.h5'</span>                        \n",
       "param<span style=\"font-weight: bold\">[</span><span style=\"color: #008000; text-decoration-color: #008000\">'aexp'</span><span style=\"font-weight: bold\">]</span>=<span style=\"color: #008080; text-decoration-color: #008080; font-weight: bold\">0.14285714285714285</span>                                                                                  \n",
       "</pre>\n"
      ],
      "text/plain": [
       "Snapshot written at \u001b[33m...\u001b[0m\u001b[33mfilename\u001b[0m=\u001b[32m'./small//output_00015/particles_eft_multigrid_ncoarse5.h5'\u001b[0m                        \n",
       "param\u001b[1m[\u001b[0m\u001b[32m'aexp'\u001b[0m\u001b[1m]\u001b[0m=\u001b[1;36m0.14285714285714285\u001b[0m                                                                                  \n"
      ]
     },
     "metadata": {},
     "output_type": "display_data"
    },
    {
     "data": {
      "text/html": [
       "<pre style=\"white-space:pre;overflow-x:auto;line-height:normal;font-family:Menlo,'DejaVu Sans Mono',consolas,'Courier New',monospace\">param<span style=\"font-weight: bold\">[</span><span style=\"color: #008000; text-decoration-color: #008000\">'nsteps'</span><span style=\"font-weight: bold\">]</span>=<span style=\"color: #008080; text-decoration-color: #008080; font-weight: bold\">29</span> param<span style=\"font-weight: bold\">[</span><span style=\"color: #008000; text-decoration-color: #008000\">'aexp'</span><span style=\"font-weight: bold\">]</span>=<span style=\"color: #008080; text-decoration-color: #008080; font-weight: bold\">0.14285714285714285</span> z = <span style=\"color: #008080; text-decoration-color: #008080; font-weight: bold\">6.0</span>                                                       \n",
       "</pre>\n"
      ],
      "text/plain": [
       "param\u001b[1m[\u001b[0m\u001b[32m'nsteps'\u001b[0m\u001b[1m]\u001b[0m=\u001b[1;36m29\u001b[0m param\u001b[1m[\u001b[0m\u001b[32m'aexp'\u001b[0m\u001b[1m]\u001b[0m=\u001b[1;36m0.14285714285714285\u001b[0m z = \u001b[1;36m6.0\u001b[0m                                                       \n"
      ]
     },
     "metadata": {},
     "output_type": "display_data"
    },
    {
     "name": "stdout",
     "output_type": "stream",
     "text": [
      "EFT-reserr\n",
      "rese-xc-before: 0.005691953003406525\n",
      "EFT-reserr\n",
      "rese-xc-before: 0.004297275561839342\n",
      "EFT-reserr\n",
      "reserr: 0.0012890622019767761\n",
      "EFT-reserr\n",
      "rese-xc-before: 0.0056702434085309505\n",
      "EFT-reserr\n",
      "rese-xc-before: 0.004301235545426607\n",
      "EFT-reserr\n",
      "reserr: 0.0013788692886009812\n",
      "EFT-reserr\n",
      "rese-xc-before: 0.005670241545885801\n",
      "EFT-reserr\n",
      "rese-xc-before: 0.004301235545426607\n",
      "EFT-reserr\n",
      "reserr: 0.0013788959477096796\n",
      "EFT-reserr\n",
      "rese-xc-before: 0.005670241545885801\n",
      "EFT-reserr\n",
      "rese-xc-before: 0.004301236476749182\n",
      "EFT-reserr\n",
      "reserr: 0.0013789229560643435\n",
      "EFT-reserr\n",
      "rese-xc-before: 0.005670241080224514\n",
      "EFT-reserr\n",
      "rese-xc-before: 0.004301236476749182\n",
      "EFT-reserr\n",
      "reserr: 0.001378910499624908\n",
      "EFT-reserr\n",
      "rese-xc-before: 0.005670241545885801\n",
      "EFT-reserr\n",
      "rese-xc-before: 0.0043012360110878944\n",
      "EFT-reserr\n",
      "reserr: 0.0013789079384878278\n",
      "EFT-reserr\n",
      "2.4915397\n",
      "Step: 30 [0.02247126 0.0183016  0.01505389] [ 0.00323924  0.00107719 -0.00041933] [[ 0.09437644  0.1520685   0.17844826 ... -0.05401742 -0.03559971\n",
      "   0.02810991]\n",
      " [ 0.11035347  0.14750624  0.17157274 ... -0.04500663 -0.00287557\n",
      "   0.05766046]\n",
      " [ 0.0651387   0.13393784  0.19564772 ... -0.00607884  0.04195273\n",
      "   0.05844545]\n",
      " ...\n",
      " [-0.02330577 -0.07067424 -0.04526699 ... -0.05285561 -0.08253288\n",
      "  -0.06150198]\n",
      " [-0.0154767  -0.02929944 -0.00500435 ... -0.06498563 -0.08064115\n",
      "  -0.05804753]\n",
      " [ 0.02253318  0.06711519  0.10484815 ... -0.07316923 -0.06191611\n",
      "  -0.02754092]]\n"
     ]
    },
    {
     "data": {
      "text/html": [
       "<pre style=\"white-space:pre;overflow-x:auto;line-height:normal;font-family:Menlo,'DejaVu Sans Mono',consolas,'Courier New',monospace\">param<span style=\"font-weight: bold\">[</span><span style=\"color: #008000; text-decoration-color: #008000\">'nsteps'</span><span style=\"font-weight: bold\">]</span>=<span style=\"color: #008080; text-decoration-color: #008080; font-weight: bold\">30</span> param<span style=\"font-weight: bold\">[</span><span style=\"color: #008000; text-decoration-color: #008000\">'aexp'</span><span style=\"font-weight: bold\">]</span>=<span style=\"color: #008080; text-decoration-color: #008080; font-weight: bold\">0.15714285739197312</span> z = <span style=\"color: #008080; text-decoration-color: #008080; font-weight: bold\">5.363636353548196</span>                                         \n",
       "</pre>\n"
      ],
      "text/plain": [
       "param\u001b[1m[\u001b[0m\u001b[32m'nsteps'\u001b[0m\u001b[1m]\u001b[0m=\u001b[1;36m30\u001b[0m param\u001b[1m[\u001b[0m\u001b[32m'aexp'\u001b[0m\u001b[1m]\u001b[0m=\u001b[1;36m0.15714285739197312\u001b[0m z = \u001b[1;36m5.363636353548196\u001b[0m                                         \n"
      ]
     },
     "metadata": {},
     "output_type": "display_data"
    },
    {
     "name": "stdout",
     "output_type": "stream",
     "text": [
      "EFT-reserr\n",
      "rese-xc-before: 0.0064453184604644775\n",
      "EFT-reserr\n",
      "rese-xc-before: 0.004868493415415287\n",
      "EFT-reserr\n",
      "reserr: 0.0014432152966037393\n",
      "EFT-reserr\n",
      "rese-xc-before: 0.006420779973268509\n",
      "EFT-reserr\n",
      "rese-xc-before: 0.004872985649853945\n",
      "EFT-reserr\n",
      "reserr: 0.0015443823067471385\n",
      "EFT-reserr\n",
      "rese-xc-before: 0.006420777644962072\n",
      "EFT-reserr\n",
      "rese-xc-before: 0.004872987046837807\n",
      "EFT-reserr\n",
      "reserr: 0.001544418977573514\n",
      "EFT-reserr\n",
      "rese-xc-before: 0.006420777179300785\n",
      "EFT-reserr\n",
      "rese-xc-before: 0.004872986581176519\n",
      "EFT-reserr\n",
      "reserr: 0.0015444258460775018\n",
      "EFT-reserr\n",
      "rese-xc-before: 0.006420777644962072\n",
      "EFT-reserr\n",
      "rese-xc-before: 0.004872987046837807\n",
      "EFT-reserr\n",
      "reserr: 0.0015444413293153048\n",
      "EFT-reserr\n",
      "rese-xc-before: 0.006420777179300785\n",
      "EFT-reserr\n",
      "rese-xc-before: 0.004872987046837807\n",
      "EFT-reserr\n",
      "reserr: 0.0015444124583154917\n",
      "EFT-reserr\n",
      "2.4991875\n",
      "Step: 31 [0.02296818 0.01846658 0.01498891] [ 0.00357709  0.00118588 -0.00047311] [[ 0.10781801  0.17386103  0.20112383 ... -0.06157207 -0.0397855\n",
      "   0.03194809]\n",
      " [ 0.12654614  0.16963482  0.19413567 ... -0.05223072 -0.00296664\n",
      "   0.06602907]\n",
      " [ 0.07743132  0.15575373  0.22312152 ... -0.00893426  0.04667187\n",
      "   0.06724381]\n",
      " ...\n",
      " [-0.02900517 -0.08010352 -0.05075163 ... -0.06018519 -0.09338021\n",
      "  -0.07022417]\n",
      " [-0.01755154 -0.03211486 -0.00556111 ... -0.07325387 -0.09094548\n",
      "  -0.06425035]\n",
      " [ 0.02688777  0.07659543  0.11658442 ... -0.08145213 -0.0693599\n",
      "  -0.02983522]]\n"
     ]
    },
    {
     "data": {
      "text/html": [
       "<pre style=\"white-space:pre;overflow-x:auto;line-height:normal;font-family:Menlo,'DejaVu Sans Mono',consolas,'Courier New',monospace\">Snapshot written at <span style=\"color: #808000; text-decoration-color: #808000\">...</span><span style=\"color: #808000; text-decoration-color: #808000\">filename</span>=<span style=\"color: #008000; text-decoration-color: #008000\">'./small//output_00016/particles_eft_multigrid_ncoarse5.h5'</span>                        \n",
       "param<span style=\"font-weight: bold\">[</span><span style=\"color: #008000; text-decoration-color: #008000\">'aexp'</span><span style=\"font-weight: bold\">]</span>=<span style=\"color: #008080; text-decoration-color: #008080; font-weight: bold\">0.16666666666666669</span>                                                                                  \n",
       "</pre>\n"
      ],
      "text/plain": [
       "Snapshot written at \u001b[33m...\u001b[0m\u001b[33mfilename\u001b[0m=\u001b[32m'./small//output_00016/particles_eft_multigrid_ncoarse5.h5'\u001b[0m                        \n",
       "param\u001b[1m[\u001b[0m\u001b[32m'aexp'\u001b[0m\u001b[1m]\u001b[0m=\u001b[1;36m0.16666666666666669\u001b[0m                                                                                  \n"
      ]
     },
     "metadata": {},
     "output_type": "display_data"
    },
    {
     "data": {
      "text/html": [
       "<pre style=\"white-space:pre;overflow-x:auto;line-height:normal;font-family:Menlo,'DejaVu Sans Mono',consolas,'Courier New',monospace\">param<span style=\"font-weight: bold\">[</span><span style=\"color: #008000; text-decoration-color: #008000\">'nsteps'</span><span style=\"font-weight: bold\">]</span>=<span style=\"color: #008080; text-decoration-color: #008080; font-weight: bold\">31</span> param<span style=\"font-weight: bold\">[</span><span style=\"color: #008000; text-decoration-color: #008000\">'aexp'</span><span style=\"font-weight: bold\">]</span>=<span style=\"color: #008080; text-decoration-color: #008080; font-weight: bold\">0.16666666666666669</span> z = <span style=\"color: #008080; text-decoration-color: #008080; font-weight: bold\">4.999999999999999</span>                                         \n",
       "</pre>\n"
      ],
      "text/plain": [
       "param\u001b[1m[\u001b[0m\u001b[32m'nsteps'\u001b[0m\u001b[1m]\u001b[0m=\u001b[1;36m31\u001b[0m param\u001b[1m[\u001b[0m\u001b[32m'aexp'\u001b[0m\u001b[1m]\u001b[0m=\u001b[1;36m0.16666666666666669\u001b[0m z = \u001b[1;36m4.999999999999999\u001b[0m                                         \n"
      ]
     },
     "metadata": {},
     "output_type": "display_data"
    },
    {
     "name": "stdout",
     "output_type": "stream",
     "text": [
      "EFT-reserr\n",
      "rese-xc-before: 0.00788167119026184\n",
      "EFT-reserr\n",
      "rese-xc-before: 0.005957949440926313\n",
      "EFT-reserr\n",
      "reserr: 0.0017431258456781507\n",
      "EFT-reserr\n",
      "rese-xc-before: 0.007851745933294296\n",
      "EFT-reserr\n",
      "rese-xc-before: 0.00596346752718091\n",
      "EFT-reserr\n",
      "reserr: 0.001865816069766879\n",
      "EFT-reserr\n",
      "rese-xc-before: 0.007851743139326572\n",
      "EFT-reserr\n",
      "rese-xc-before: 0.0059634665958583355\n",
      "EFT-reserr\n",
      "reserr: 0.0018659057095646858\n",
      "EFT-reserr\n",
      "rese-xc-before: 0.007851744070649147\n",
      "EFT-reserr\n",
      "rese-xc-before: 0.0059634665958583355\n",
      "EFT-reserr\n",
      "reserr: 0.0018658752087503672\n",
      "EFT-reserr\n",
      "rese-xc-before: 0.007851743139326572\n",
      "EFT-reserr\n",
      "rese-xc-before: 0.00596346752718091\n",
      "EFT-reserr\n",
      "reserr: 0.0018658807966858149\n",
      "EFT-reserr\n",
      "rese-xc-before: 0.007851744070649147\n",
      "EFT-reserr\n",
      "rese-xc-before: 0.005963467061519623\n",
      "EFT-reserr\n",
      "reserr: 0.0018658933695405722\n",
      "EFT-reserr\n",
      "2.5014768\n",
      "Step: 32 [0.0238476  0.01875754 0.0148708 ] [ 0.00420257  0.00138821 -0.00057474] [[ 0.13412678  0.21651864  0.24438679 ... -0.07615805 -0.04760504\n",
      "   0.03947127]\n",
      " [ 0.15835226  0.21351409  0.23849785 ... -0.06651092 -0.00306523\n",
      "   0.08244109]\n",
      " [ 0.10241973  0.20004523  0.27819765 ... -0.01514053  0.05545592\n",
      "   0.08459651]\n",
      " ...\n",
      " [-0.04086375 -0.09794295 -0.06109774 ... -0.07460546 -0.11429393\n",
      "  -0.08768713]\n",
      " [-0.02158833 -0.03718626 -0.00686872 ... -0.08911395 -0.11050332\n",
      "  -0.0758096 ]\n",
      " [ 0.03563726  0.09489191  0.13803375 ... -0.09700596 -0.08331525\n",
      "  -0.03380704]]\n"
     ]
    },
    {
     "data": {
      "text/html": [
       "<pre style=\"white-space:pre;overflow-x:auto;line-height:normal;font-family:Menlo,'DejaVu Sans Mono',consolas,'Courier New',monospace\">param<span style=\"font-weight: bold\">[</span><span style=\"color: #008000; text-decoration-color: #008000\">'nsteps'</span><span style=\"font-weight: bold\">]</span>=<span style=\"color: #008080; text-decoration-color: #008080; font-weight: bold\">32</span> param<span style=\"font-weight: bold\">[</span><span style=\"color: #008000; text-decoration-color: #008000\">'aexp'</span><span style=\"font-weight: bold\">]</span>=<span style=\"color: #008080; text-decoration-color: #008080; font-weight: bold\">0.18333333282846506</span> z = <span style=\"color: #008080; text-decoration-color: #008080; font-weight: bold\">4.4545454695663285</span>                                        \n",
       "</pre>\n"
      ],
      "text/plain": [
       "param\u001b[1m[\u001b[0m\u001b[32m'nsteps'\u001b[0m\u001b[1m]\u001b[0m=\u001b[1;36m32\u001b[0m param\u001b[1m[\u001b[0m\u001b[32m'aexp'\u001b[0m\u001b[1m]\u001b[0m=\u001b[1;36m0.18333333282846506\u001b[0m z = \u001b[1;36m4.4545454695663285\u001b[0m                                        \n"
      ]
     },
     "metadata": {},
     "output_type": "display_data"
    },
    {
     "name": "stdout",
     "output_type": "stream",
     "text": [
      "EFT-reserr\n",
      "rese-xc-before: 0.009473179467022419\n",
      "EFT-reserr\n",
      "rese-xc-before: 0.007165646646171808\n",
      "EFT-reserr\n",
      "reserr: 0.002091988455504179\n",
      "EFT-reserr\n",
      "rese-xc-before: 0.009437303990125656\n",
      "EFT-reserr\n",
      "rese-xc-before: 0.007172306999564171\n",
      "EFT-reserr\n",
      "reserr: 0.002237910870462656\n",
      "EFT-reserr\n",
      "rese-xc-before: 0.009437300264835358\n",
      "EFT-reserr\n",
      "rese-xc-before: 0.00717230886220932\n",
      "EFT-reserr\n",
      "reserr: 0.0022379558067768812\n",
      "EFT-reserr\n",
      "rese-xc-before: 0.009437300264835358\n",
      "EFT-reserr\n",
      "rese-xc-before: 0.007172307465225458\n",
      "EFT-reserr\n",
      "reserr: 0.002237944398075342\n",
      "EFT-reserr\n",
      "rese-xc-before: 0.009437300264835358\n",
      "EFT-reserr\n",
      "rese-xc-before: 0.007172305602580309\n",
      "EFT-reserr\n",
      "reserr: 0.002237992826849222\n",
      "EFT-reserr\n",
      "rese-xc-before: 0.009437302127480507\n",
      "EFT-reserr\n",
      "rese-xc-before: 0.0071723065339028835\n",
      "EFT-reserr\n",
      "reserr: 0.002237987471744418\n",
      "EFT-reserr\n",
      "2.5095115\n",
      "Step: 33 [0.02474319 0.01905302 0.01474668] [ 0.00486808  0.0016052  -0.00068526] [[ 0.16443336  0.26601183  0.29132676 ... -0.09257579 -0.05605185\n",
      "   0.04812717]\n",
      " [ 0.1952753   0.2653067   0.28876758 ... -0.08295572 -0.00307882\n",
      "   0.1013149 ]\n",
      " [ 0.13297796  0.2539209   0.34266615 ... -0.02254558  0.06470561\n",
      "   0.10472703]\n",
      " ...\n",
      " [-0.0550667  -0.11680257 -0.07162905 ... -0.09122884 -0.13773727\n",
      "  -0.10796773]\n",
      " [-0.02615511 -0.04231572 -0.00880027 ... -0.10684097 -0.13206577\n",
      "  -0.08831167]\n",
      " [ 0.04594064  0.11550617  0.15928662 ... -0.11394727 -0.09844911\n",
      "  -0.03767073]]\n"
     ]
    },
    {
     "data": {
      "text/html": [
       "<pre style=\"white-space:pre;overflow-x:auto;line-height:normal;font-family:Menlo,'DejaVu Sans Mono',consolas,'Courier New',monospace\">Snapshot written at <span style=\"color: #808000; text-decoration-color: #808000\">...</span><span style=\"color: #808000; text-decoration-color: #808000\">filename</span>=<span style=\"color: #008000; text-decoration-color: #008000\">'./small//output_00017/particles_eft_multigrid_ncoarse5.h5'</span> param<span style=\"font-weight: bold\">[</span><span style=\"color: #008000; text-decoration-color: #008000\">'aexp'</span><span style=\"font-weight: bold\">]</span>=<span style=\"color: #008080; text-decoration-color: #008080; font-weight: bold\">0.2</span>      \n",
       "</pre>\n"
      ],
      "text/plain": [
       "Snapshot written at \u001b[33m...\u001b[0m\u001b[33mfilename\u001b[0m=\u001b[32m'./small//output_00017/particles_eft_multigrid_ncoarse5.h5'\u001b[0m param\u001b[1m[\u001b[0m\u001b[32m'aexp'\u001b[0m\u001b[1m]\u001b[0m=\u001b[1;36m0.2\u001b[0m      \n"
      ]
     },
     "metadata": {},
     "output_type": "display_data"
    },
    {
     "data": {
      "text/html": [
       "<pre style=\"white-space:pre;overflow-x:auto;line-height:normal;font-family:Menlo,'DejaVu Sans Mono',consolas,'Courier New',monospace\">param<span style=\"font-weight: bold\">[</span><span style=\"color: #008000; text-decoration-color: #008000\">'nsteps'</span><span style=\"font-weight: bold\">]</span>=<span style=\"color: #008080; text-decoration-color: #008080; font-weight: bold\">33</span> param<span style=\"font-weight: bold\">[</span><span style=\"color: #008000; text-decoration-color: #008000\">'aexp'</span><span style=\"font-weight: bold\">]</span>=<span style=\"color: #008080; text-decoration-color: #008080; font-weight: bold\">0.2</span> z = <span style=\"color: #008080; text-decoration-color: #008080; font-weight: bold\">4.0</span>                                                                       \n",
       "</pre>\n"
      ],
      "text/plain": [
       "param\u001b[1m[\u001b[0m\u001b[32m'nsteps'\u001b[0m\u001b[1m]\u001b[0m=\u001b[1;36m33\u001b[0m param\u001b[1m[\u001b[0m\u001b[32m'aexp'\u001b[0m\u001b[1m]\u001b[0m=\u001b[1;36m0.2\u001b[0m z = \u001b[1;36m4.0\u001b[0m                                                                       \n"
      ]
     },
     "metadata": {},
     "output_type": "display_data"
    },
    {
     "name": "stdout",
     "output_type": "stream",
     "text": [
      "EFT-reserr\n",
      "rese-xc-before: 0.011588668450713158\n",
      "EFT-reserr\n",
      "rese-xc-before: 0.008772076107561588\n",
      "EFT-reserr\n",
      "reserr: 0.002576347440481186\n",
      "EFT-reserr\n",
      "rese-xc-before: 0.011544940993189812\n",
      "EFT-reserr\n",
      "rese-xc-before: 0.008780264295637608\n",
      "EFT-reserr\n",
      "reserr: 0.0027522242162376642\n",
      "EFT-reserr\n",
      "rese-xc-before: 0.011544938199222088\n",
      "EFT-reserr\n",
      "rese-xc-before: 0.008780265226960182\n",
      "EFT-reserr\n",
      "reserr: 0.002752256114035845\n",
      "EFT-reserr\n",
      "rese-xc-before: 0.011544938199222088\n",
      "EFT-reserr\n",
      "rese-xc-before: 0.008780265226960182\n",
      "EFT-reserr\n",
      "reserr: 0.002752207685261965\n",
      "EFT-reserr\n",
      "rese-xc-before: 0.011544937267899513\n",
      "EFT-reserr\n",
      "rese-xc-before: 0.008780265226960182\n",
      "EFT-reserr\n",
      "reserr: 0.0027522349264472723\n",
      "EFT-reserr\n",
      "rese-xc-before: 0.011544936336576939\n",
      "EFT-reserr\n",
      "rese-xc-before: 0.008780266158282757\n",
      "EFT-reserr\n",
      "reserr: 0.0027522919699549675\n",
      "EFT-reserr\n",
      "2.410305\n",
      "Step: 34 [0.02583572 0.01941308 0.01459076] [ 0.00571953  0.00188563 -0.0008299 ] [[ 0.20721054  0.33479333  0.34635234 ... -0.1146493  -0.06698322\n",
      "   0.06016946]\n",
      " [ 0.24823761  0.3383038   0.35129595 ... -0.10521746 -0.00287914\n",
      "   0.12789154]\n",
      " [ 0.17948937  0.331465    0.4279108  ... -0.03280854  0.07681847\n",
      "   0.1339674 ]\n",
      " ...\n",
      " [-0.07117343 -0.13606131 -0.08311868 ... -0.11414433 -0.16821575\n",
      "  -0.1325016 ]\n",
      " [-0.03212929 -0.04718161 -0.01420176 ... -0.13066792 -0.16066456\n",
      "  -0.10509133]\n",
      " [ 0.06061673  0.14350879  0.17978752 ... -0.13612294 -0.11812496\n",
      "  -0.04212332]]\n"
     ]
    },
    {
     "data": {
      "text/html": [
       "<pre style=\"white-space:pre;overflow-x:auto;line-height:normal;font-family:Menlo,'DejaVu Sans Mono',consolas,'Courier New',monospace\">param<span style=\"font-weight: bold\">[</span><span style=\"color: #008000; text-decoration-color: #008000\">'nsteps'</span><span style=\"font-weight: bold\">]</span>=<span style=\"color: #008080; text-decoration-color: #008080; font-weight: bold\">34</span> param<span style=\"font-weight: bold\">[</span><span style=\"color: #008000; text-decoration-color: #008000\">'aexp'</span><span style=\"font-weight: bold\">]</span>=<span style=\"color: #008080; text-decoration-color: #008080; font-weight: bold\">0.21999999996869113</span> z = <span style=\"color: #008080; text-decoration-color: #008080; font-weight: bold\">3.545454546101423</span>                                         \n",
       "</pre>\n"
      ],
      "text/plain": [
       "param\u001b[1m[\u001b[0m\u001b[32m'nsteps'\u001b[0m\u001b[1m]\u001b[0m=\u001b[1;36m34\u001b[0m param\u001b[1m[\u001b[0m\u001b[32m'aexp'\u001b[0m\u001b[1m]\u001b[0m=\u001b[1;36m0.21999999996869113\u001b[0m z = \u001b[1;36m3.545454546101423\u001b[0m                                         \n"
      ]
     },
     "metadata": {},
     "output_type": "display_data"
    },
    {
     "name": "stdout",
     "output_type": "stream",
     "text": [
      "EFT-reserr\n",
      "rese-xc-before: 0.014179795049130917\n",
      "EFT-reserr\n",
      "rese-xc-before: 0.010741746984422207\n",
      "EFT-reserr\n",
      "reserr: 0.003200971521437168\n",
      "EFT-reserr\n",
      "rese-xc-before: 0.014126571826636791\n",
      "EFT-reserr\n",
      "rese-xc-before: 0.010751817375421524\n",
      "EFT-reserr\n",
      "reserr: 0.0034127461258322\n",
      "EFT-reserr\n",
      "rese-xc-before: 0.014126564376056194\n",
      "EFT-reserr\n",
      "rese-xc-before: 0.010751819238066673\n",
      "EFT-reserr\n",
      "reserr: 0.0034129745326936245\n",
      "EFT-reserr\n",
      "rese-xc-before: 0.014126568101346493\n",
      "EFT-reserr\n",
      "rese-xc-before: 0.010751818306744099\n",
      "EFT-reserr\n",
      "reserr: 0.0034128373954445124\n",
      "EFT-reserr\n",
      "rese-xc-before: 0.014126567170023918\n",
      "EFT-reserr\n",
      "rese-xc-before: 0.010751817375421524\n",
      "EFT-reserr\n",
      "reserr: 0.0034127207472920418\n",
      "EFT-reserr\n",
      "rese-xc-before: 0.014126566238701344\n",
      "EFT-reserr\n",
      "rese-xc-before: 0.010751818306744099\n",
      "EFT-reserr\n",
      "reserr: 0.0034128520637750626\n",
      "EFT-reserr\n",
      "2.5528514\n",
      "Step: 35 [0.02705962 0.0198167  0.0144108 ] [ 0.00672086  0.00221922 -0.00100434] [[ 0.26486683  0.42394614  0.39658356 ... -0.1415329  -0.0798533\n",
      "   0.07624412]\n",
      " [ 0.3198924   0.4315138   0.41564393 ... -0.13128662 -0.00182915\n",
      "   0.1642375 ]\n",
      " [ 0.24425149  0.43026567  0.5270293  ... -0.0465579   0.09081149\n",
      "   0.17379427]\n",
      " ...\n",
      " [-0.08598185 -0.15138197 -0.10042632 ... -0.14171576 -0.20146728\n",
      "  -0.15801263]\n",
      " [-0.03931546 -0.04879475 -0.02542496 ... -0.15980387 -0.19395375\n",
      "  -0.12513375]\n",
      " [ 0.08085823  0.18022084  0.19225621 ... -0.16282248 -0.14147115\n",
      "  -0.04647017]]\n"
     ]
    },
    {
     "data": {
      "text/html": [
       "<pre style=\"white-space:pre;overflow-x:auto;line-height:normal;font-family:Menlo,'DejaVu Sans Mono',consolas,'Courier New',monospace\">param<span style=\"font-weight: bold\">[</span><span style=\"color: #008000; text-decoration-color: #008000\">'nsteps'</span><span style=\"font-weight: bold\">]</span>=<span style=\"color: #008080; text-decoration-color: #008080; font-weight: bold\">35</span> param<span style=\"font-weight: bold\">[</span><span style=\"color: #008000; text-decoration-color: #008000\">'aexp'</span><span style=\"font-weight: bold\">]</span>=<span style=\"color: #008080; text-decoration-color: #008080; font-weight: bold\">0.24199999989765836</span> z = <span style=\"color: #008080; text-decoration-color: #008080; font-weight: bold\">3.132231406706196</span>                                         \n",
       "</pre>\n"
      ],
      "text/plain": [
       "param\u001b[1m[\u001b[0m\u001b[32m'nsteps'\u001b[0m\u001b[1m]\u001b[0m=\u001b[1;36m35\u001b[0m param\u001b[1m[\u001b[0m\u001b[32m'aexp'\u001b[0m\u001b[1m]\u001b[0m=\u001b[1;36m0.24199999989765836\u001b[0m z = \u001b[1;36m3.132231406706196\u001b[0m                                         \n"
      ]
     },
     "metadata": {},
     "output_type": "display_data"
    },
    {
     "name": "stdout",
     "output_type": "stream",
     "text": [
      "EFT-reserr\n",
      "rese-xc-before: 0.015193880535662174\n",
      "EFT-reserr\n",
      "rese-xc-before: 0.01151310745626688\n",
      "EFT-reserr\n",
      "reserr: 0.003454956691712141\n",
      "EFT-reserr\n",
      "rese-xc-before: 0.015136981382966042\n",
      "EFT-reserr\n",
      "rese-xc-before: 0.011523920111358166\n",
      "EFT-reserr\n",
      "reserr: 0.0036809397861361504\n",
      "EFT-reserr\n",
      "rese-xc-before: 0.015136978588998318\n",
      "EFT-reserr\n",
      "rese-xc-before: 0.011523920111358166\n",
      "EFT-reserr\n",
      "reserr: 0.0036810676101595163\n",
      "EFT-reserr\n",
      "rese-xc-before: 0.015136977657675743\n",
      "EFT-reserr\n",
      "rese-xc-before: 0.011523920111358166\n",
      "EFT-reserr\n",
      "reserr: 0.0036809693556278944\n",
      "EFT-reserr\n",
      "rese-xc-before: 0.015136978588998318\n",
      "EFT-reserr\n",
      "rese-xc-before: 0.01152392104268074\n",
      "EFT-reserr\n",
      "reserr: 0.0036810406018048525\n",
      "EFT-reserr\n",
      "rese-xc-before: 0.015136980451643467\n",
      "EFT-reserr\n",
      "rese-xc-before: 0.011523919180035591\n",
      "EFT-reserr\n",
      "reserr: 0.0036810217425227165\n",
      "EFT-reserr\n",
      "2.49794\n",
      "Step: 36 [0.02751235 0.01996624 0.01434283] [ 0.00710013  0.00234647 -0.00107154] [[ 0.28887153  0.4594245   0.4115243  ... -0.15135694 -0.08463216\n",
      "   0.08299732]\n",
      " [ 0.34954405  0.46854877  0.4362979  ... -0.14066601 -0.00104308\n",
      "   0.17959905]\n",
      " [ 0.27094293  0.4695711   0.56321025 ... -0.052109    0.09566784\n",
      "   0.18964314]\n",
      " ...\n",
      " [-0.09045243 -0.15562606 -0.10887957 ... -0.15158057 -0.21306396\n",
      "  -0.1664753 ]\n",
      " [-0.04095626 -0.04734516 -0.03144002 ... -0.17099977 -0.20595121\n",
      "  -0.13184166]\n",
      " [ 0.08969831  0.19535494  0.19364476 ... -0.17302608 -0.15051508\n",
      "  -0.04784679]]\n"
     ]
    },
    {
     "data": {
      "text/html": [
       "<pre style=\"white-space:pre;overflow-x:auto;line-height:normal;font-family:Menlo,'DejaVu Sans Mono',consolas,'Courier New',monospace\">Snapshot written at <span style=\"color: #808000; text-decoration-color: #808000\">...</span><span style=\"color: #808000; text-decoration-color: #808000\">filename</span>=<span style=\"color: #008000; text-decoration-color: #008000\">'./small//output_00018/particles_eft_multigrid_ncoarse5.h5'</span> param<span style=\"font-weight: bold\">[</span><span style=\"color: #008000; text-decoration-color: #008000\">'aexp'</span><span style=\"font-weight: bold\">]</span>=<span style=\"color: #008080; text-decoration-color: #008080; font-weight: bold\">0.25</span>     \n",
       "</pre>\n"
      ],
      "text/plain": [
       "Snapshot written at \u001b[33m...\u001b[0m\u001b[33mfilename\u001b[0m=\u001b[32m'./small//output_00018/particles_eft_multigrid_ncoarse5.h5'\u001b[0m param\u001b[1m[\u001b[0m\u001b[32m'aexp'\u001b[0m\u001b[1m]\u001b[0m=\u001b[1;36m0.25\u001b[0m     \n"
      ]
     },
     "metadata": {},
     "output_type": "display_data"
    },
    {
     "data": {
      "text/html": [
       "<pre style=\"white-space:pre;overflow-x:auto;line-height:normal;font-family:Menlo,'DejaVu Sans Mono',consolas,'Courier New',monospace\">param<span style=\"font-weight: bold\">[</span><span style=\"color: #008000; text-decoration-color: #008000\">'nsteps'</span><span style=\"font-weight: bold\">]</span>=<span style=\"color: #008080; text-decoration-color: #008080; font-weight: bold\">36</span> param<span style=\"font-weight: bold\">[</span><span style=\"color: #008000; text-decoration-color: #008000\">'aexp'</span><span style=\"font-weight: bold\">]</span>=<span style=\"color: #008080; text-decoration-color: #008080; font-weight: bold\">0.25</span> z = <span style=\"color: #008080; text-decoration-color: #008080; font-weight: bold\">3.0</span>                                                                      \n",
       "</pre>\n"
      ],
      "text/plain": [
       "param\u001b[1m[\u001b[0m\u001b[32m'nsteps'\u001b[0m\u001b[1m]\u001b[0m=\u001b[1;36m36\u001b[0m param\u001b[1m[\u001b[0m\u001b[32m'aexp'\u001b[0m\u001b[1m]\u001b[0m=\u001b[1;36m0.25\u001b[0m z = \u001b[1;36m3.0\u001b[0m                                                                      \n"
      ]
     },
     "metadata": {},
     "output_type": "display_data"
    },
    {
     "name": "stdout",
     "output_type": "stream",
     "text": [
      "EFT-reserr\n",
      "rese-xc-before: 0.01859809271991253\n",
      "EFT-reserr\n",
      "rese-xc-before: 0.014103635214269161\n",
      "EFT-reserr\n",
      "reserr: 0.004342393949627876\n",
      "EFT-reserr\n",
      "rese-xc-before: 0.018529048189520836\n",
      "EFT-reserr\n",
      "rese-xc-before: 0.014116941951215267\n",
      "EFT-reserr\n",
      "reserr: 0.0046159084886312485\n",
      "EFT-reserr\n",
      "rese-xc-before: 0.018529044464230537\n",
      "EFT-reserr\n",
      "rese-xc-before: 0.014116940088570118\n",
      "EFT-reserr\n",
      "reserr: 0.004615992307662964\n",
      "EFT-reserr\n",
      "rese-xc-before: 0.018529044464230537\n",
      "EFT-reserr\n",
      "rese-xc-before: 0.014116943813860416\n",
      "EFT-reserr\n",
      "reserr: 0.004615936428308487\n",
      "EFT-reserr\n",
      "rese-xc-before: 0.018529044464230537\n",
      "EFT-reserr\n",
      "rese-xc-before: 0.014116941019892693\n",
      "EFT-reserr\n",
      "reserr: 0.004615951329469681\n",
      "EFT-reserr\n",
      "rese-xc-before: 0.018529042601585388\n",
      "EFT-reserr\n",
      "rese-xc-before: 0.014116941019892693\n",
      "EFT-reserr\n",
      "reserr: 0.004615986254066229\n",
      "EFT-reserr\n",
      "2.4964247\n",
      "Step: 37 [0.02893785 0.02043794 0.01412488] [ 0.00834706  0.00276799 -0.00129763] [[ 0.37353897  0.5774789   0.44710398 ... -0.18064809 -0.09898758\n",
      "   0.10842204]\n",
      " [ 0.45099092  0.59339976  0.48879838 ... -0.1719141   0.00346684\n",
      "   0.23415184]\n",
      " [ 0.36190057  0.6033473   0.67199016 ... -0.0715754   0.11235023\n",
      "   0.24243689]\n",
      " ...\n",
      " [-0.10354829 -0.16898751 -0.14013672 ... -0.18023992 -0.24637222\n",
      "  -0.18995333]\n",
      " [-0.04258251 -0.04051566 -0.05662012 ... -0.20451689 -0.24147558\n",
      "  -0.1498053 ]\n",
      " [ 0.12258053  0.24461794  0.18913126 ... -0.20355558 -0.17804766\n",
      "  -0.05076671]]\n"
     ]
    },
    {
     "data": {
      "text/html": [
       "<pre style=\"white-space:pre;overflow-x:auto;line-height:normal;font-family:Menlo,'DejaVu Sans Mono',consolas,'Courier New',monospace\">param<span style=\"font-weight: bold\">[</span><span style=\"color: #008000; text-decoration-color: #008000\">'nsteps'</span><span style=\"font-weight: bold\">]</span>=<span style=\"color: #008080; text-decoration-color: #008080; font-weight: bold\">37</span> param<span style=\"font-weight: bold\">[</span><span style=\"color: #008000; text-decoration-color: #008000\">'aexp'</span><span style=\"font-weight: bold\">]</span>=<span style=\"color: #008080; text-decoration-color: #008080; font-weight: bold\">0.27499999986292756</span> z = <span style=\"color: #008080; text-decoration-color: #008080; font-weight: bold\">2.6363636381761646</span>                                        \n",
       "</pre>\n"
      ],
      "text/plain": [
       "param\u001b[1m[\u001b[0m\u001b[32m'nsteps'\u001b[0m\u001b[1m]\u001b[0m=\u001b[1;36m37\u001b[0m param\u001b[1m[\u001b[0m\u001b[32m'aexp'\u001b[0m\u001b[1m]\u001b[0m=\u001b[1;36m0.27499999986292756\u001b[0m z = \u001b[1;36m2.6363636381761646\u001b[0m                                        \n"
      ]
     },
     "metadata": {},
     "output_type": "display_data"
    },
    {
     "name": "stdout",
     "output_type": "stream",
     "text": [
      "EFT-reserr\n",
      "rese-xc-before: 0.022785060107707977\n",
      "EFT-reserr\n",
      "rese-xc-before: 0.017289265990257263\n",
      "EFT-reserr\n",
      "reserr: 0.005417084787040949\n",
      "EFT-reserr\n",
      "rese-xc-before: 0.022701511159539223\n",
      "EFT-reserr\n",
      "rese-xc-before: 0.017305642366409302\n",
      "EFT-reserr\n",
      "reserr: 0.005745647009462118\n",
      "EFT-reserr\n",
      "rese-xc-before: 0.022701507434248924\n",
      "EFT-reserr\n",
      "rese-xc-before: 0.017305642366409302\n",
      "EFT-reserr\n",
      "reserr: 0.005745683331042528\n",
      "EFT-reserr\n",
      "rese-xc-before: 0.022701505571603775\n",
      "EFT-reserr\n",
      "rese-xc-before: 0.017305640503764153\n",
      "EFT-reserr\n",
      "reserr: 0.0057456642389297485\n",
      "EFT-reserr\n",
      "rese-xc-before: 0.022701507434248924\n",
      "EFT-reserr\n",
      "rese-xc-before: 0.017305640503764153\n",
      "EFT-reserr\n",
      "reserr: 0.005745806731283665\n",
      "EFT-reserr\n",
      "rese-xc-before: 0.022701503708958626\n",
      "EFT-reserr\n",
      "rese-xc-before: 0.017305638641119003\n",
      "EFT-reserr\n",
      "reserr: 0.0057458714582026005\n",
      "EFT-reserr\n",
      "2.5000446\n",
      "Step: 38 [0.03053598 0.02096883 0.01387311] [ 0.00981686  0.00326995 -0.00157388] [[ 0.48224068  0.71540356  0.47198367 ... -0.21324062 -0.11160898\n",
      "   0.14266825]\n",
      " [ 0.5769429   0.744915    0.52766895 ... -0.2117486   0.01213264\n",
      "   0.30176878]\n",
      " [ 0.47585917  0.7708764   0.77887917 ... -0.09772825  0.13342047\n",
      "   0.30733824]\n",
      " ...\n",
      " [-0.115345   -0.18512034 -0.18063211 ... -0.21126795 -0.2799964\n",
      "  -0.21357775]\n",
      " [-0.0386467  -0.03255177 -0.09494591 ... -0.23687124 -0.2755046\n",
      "  -0.16363573]\n",
      " [ 0.16947365  0.29930043  0.17097569 ... -0.23328018 -0.20357609\n",
      "  -0.04631567]]\n"
     ]
    },
    {
     "data": {
      "text/html": [
       "<pre style=\"white-space:pre;overflow-x:auto;line-height:normal;font-family:Menlo,'DejaVu Sans Mono',consolas,'Courier New',monospace\">param<span style=\"font-weight: bold\">[</span><span style=\"color: #008000; text-decoration-color: #008000\">'nsteps'</span><span style=\"font-weight: bold\">]</span>=<span style=\"color: #008080; text-decoration-color: #008080; font-weight: bold\">38</span> param<span style=\"font-weight: bold\">[</span><span style=\"color: #008000; text-decoration-color: #008000\">'aexp'</span><span style=\"font-weight: bold\">]</span>=<span style=\"color: #008080; text-decoration-color: #008080; font-weight: bold\">0.30249999937366523</span> z = <span style=\"color: #008080; text-decoration-color: #008080; font-weight: bold\">2.3057851308116635</span>                                        \n",
       "</pre>\n"
      ],
      "text/plain": [
       "param\u001b[1m[\u001b[0m\u001b[32m'nsteps'\u001b[0m\u001b[1m]\u001b[0m=\u001b[1;36m38\u001b[0m param\u001b[1m[\u001b[0m\u001b[32m'aexp'\u001b[0m\u001b[1m]\u001b[0m=\u001b[1;36m0.30249999937366523\u001b[0m z = \u001b[1;36m2.3057851308116635\u001b[0m                                        \n"
      ]
     },
     "metadata": {},
     "output_type": "display_data"
    },
    {
     "name": "stdout",
     "output_type": "stream",
     "text": [
      "EFT-reserr\n",
      "rese-xc-before: 0.027963869273662567\n",
      "EFT-reserr\n",
      "rese-xc-before: 0.02122039534151554\n",
      "EFT-reserr\n",
      "reserr: 0.006761014461517334\n",
      "EFT-reserr\n",
      "rese-xc-before: 0.02786310389637947\n",
      "EFT-reserr\n",
      "rese-xc-before: 0.02124059945344925\n",
      "EFT-reserr\n",
      "reserr: 0.007158573251217604\n",
      "EFT-reserr\n",
      "rese-xc-before: 0.027863100171089172\n",
      "EFT-reserr\n",
      "rese-xc-before: 0.02124059945344925\n",
      "EFT-reserr\n",
      "reserr: 0.007159057073295116\n",
      "EFT-reserr\n",
      "rese-xc-before: 0.027863096445798874\n",
      "EFT-reserr\n",
      "rese-xc-before: 0.0212405975908041\n",
      "EFT-reserr\n",
      "reserr: 0.007158796768635511\n",
      "EFT-reserr\n",
      "rese-xc-before: 0.027863098308444023\n",
      "EFT-reserr\n",
      "rese-xc-before: 0.021240603178739548\n",
      "EFT-reserr\n",
      "reserr: 0.007159019820392132\n",
      "EFT-reserr\n",
      "rese-xc-before: 0.027863100171089172\n",
      "EFT-reserr\n",
      "rese-xc-before: 0.021240603178739548\n",
      "EFT-reserr\n",
      "reserr: 0.007158792577683926\n",
      "EFT-reserr\n",
      "2.5012255\n",
      "Step: 39 [0.03232838 0.02156718 0.0135817 ] [ 0.01155007  0.00386907 -0.00191305] [[ 0.6264348   0.8738761   0.48357964 ... -0.2537942  -0.12381887\n",
      "   0.18846941]\n",
      " [ 0.73669004  0.92597103  0.55315065 ... -0.26245165  0.02464485\n",
      "   0.38593054]\n",
      " [ 0.62119627  0.9792738   0.87444496 ... -0.13263226  0.15850258\n",
      "   0.39128304]\n",
      " ...\n",
      " [-0.12369919 -0.2033863  -0.23233962 ... -0.24931765 -0.31806803\n",
      "  -0.23854065]\n",
      " [-0.02458811 -0.02792025 -0.14857006 ... -0.26914644 -0.30837536\n",
      "  -0.1740694 ]\n",
      " [ 0.23791885  0.3569045   0.13556576 ... -0.26228952 -0.22569132\n",
      "  -0.03131247]]\n"
     ]
    },
    {
     "data": {
      "text/html": [
       "<pre style=\"white-space:pre;overflow-x:auto;line-height:normal;font-family:Menlo,'DejaVu Sans Mono',consolas,'Courier New',monospace\">param<span style=\"font-weight: bold\">[</span><span style=\"color: #008000; text-decoration-color: #008000\">'nsteps'</span><span style=\"font-weight: bold\">]</span>=<span style=\"color: #008080; text-decoration-color: #008080; font-weight: bold\">39</span> param<span style=\"font-weight: bold\">[</span><span style=\"color: #008000; text-decoration-color: #008000\">'aexp'</span><span style=\"font-weight: bold\">]</span>=<span style=\"color: #008080; text-decoration-color: #008080; font-weight: bold\">0.33274999856188375</span> z = <span style=\"color: #008080; text-decoration-color: #008080; font-weight: bold\">2.0052592165947773</span>                                        \n",
       "</pre>\n"
      ],
      "text/plain": [
       "param\u001b[1m[\u001b[0m\u001b[32m'nsteps'\u001b[0m\u001b[1m]\u001b[0m=\u001b[1;36m39\u001b[0m param\u001b[1m[\u001b[0m\u001b[32m'aexp'\u001b[0m\u001b[1m]\u001b[0m=\u001b[1;36m0.33274999856188375\u001b[0m z = \u001b[1;36m2.0052592165947773\u001b[0m                                        \n"
      ]
     },
     "metadata": {},
     "output_type": "display_data"
    },
    {
     "name": "stdout",
     "output_type": "stream",
     "text": [
      "EFT-reserr\n",
      "rese-xc-before: 0.02807020954787731\n",
      "EFT-reserr\n",
      "rese-xc-before: 0.021300967782735825\n",
      "EFT-reserr\n",
      "reserr: 0.00678892619907856\n",
      "EFT-reserr\n",
      "rese-xc-before: 0.027969105169177055\n",
      "EFT-reserr\n",
      "rese-xc-before: 0.02132124826312065\n",
      "EFT-reserr\n",
      "reserr: 0.007188183721154928\n",
      "EFT-reserr\n",
      "rese-xc-before: 0.02796909585595131\n",
      "EFT-reserr\n",
      "rese-xc-before: 0.02132124826312065\n",
      "EFT-reserr\n",
      "reserr: 0.007188375107944012\n",
      "EFT-reserr\n",
      "rese-xc-before: 0.02796909399330616\n",
      "EFT-reserr\n",
      "rese-xc-before: 0.0213212501257658\n",
      "EFT-reserr\n",
      "reserr: 0.007188370451331139\n",
      "EFT-reserr\n",
      "rese-xc-before: 0.02796909213066101\n",
      "EFT-reserr\n",
      "rese-xc-before: 0.02132124826312065\n",
      "EFT-reserr\n",
      "reserr: 0.007188510615378618\n",
      "EFT-reserr\n",
      "rese-xc-before: 0.02796909771859646\n",
      "EFT-reserr\n",
      "rese-xc-before: 0.021321246400475502\n",
      "EFT-reserr\n",
      "reserr: 0.0071883052587509155\n",
      "EFT-reserr\n",
      "2.4999847\n",
      "Step: 40 [0.03236349 0.02157894 0.01357588] [ 0.01158451  0.00388105 -0.00191992] [[ 0.6295686   0.8769598   0.48365927 ... -0.25463247 -0.12403584\n",
      "   0.18946934]\n",
      " [ 0.7400756   0.9296074   0.5534911  ... -0.26349592  0.02491999\n",
      "   0.38771534]\n",
      " [ 0.62429     0.98355484  0.87604713 ... -0.13337755  0.15899944\n",
      "   0.39305162]\n",
      " ...\n",
      " [-0.12382746 -0.20372105 -0.23344445 ... -0.25010538 -0.31882\n",
      "  -0.23898888]\n",
      " [-0.02420425 -0.02789783 -0.14972925 ... -0.26978636 -0.30900574\n",
      "  -0.17422295]\n",
      " [ 0.23944092  0.35793304  0.13472271 ... -0.2628522  -0.2261014\n",
      "  -0.03094435]]\n"
     ]
    },
    {
     "data": {
      "text/html": [
       "<pre style=\"white-space:pre;overflow-x:auto;line-height:normal;font-family:Menlo,'DejaVu Sans Mono',consolas,'Courier New',monospace\">Snapshot written at <span style=\"color: #808000; text-decoration-color: #808000\">...</span><span style=\"color: #808000; text-decoration-color: #808000\">filename</span>=<span style=\"color: #008000; text-decoration-color: #008000\">'./small//output_00019/particles_eft_multigrid_ncoarse5.h5'</span>                        \n",
       "param<span style=\"font-weight: bold\">[</span><span style=\"color: #008000; text-decoration-color: #008000\">'aexp'</span><span style=\"font-weight: bold\">]</span>=<span style=\"color: #008080; text-decoration-color: #008080; font-weight: bold\">0.3333333333333333</span>                                                                                   \n",
       "</pre>\n"
      ],
      "text/plain": [
       "Snapshot written at \u001b[33m...\u001b[0m\u001b[33mfilename\u001b[0m=\u001b[32m'./small//output_00019/particles_eft_multigrid_ncoarse5.h5'\u001b[0m                        \n",
       "param\u001b[1m[\u001b[0m\u001b[32m'aexp'\u001b[0m\u001b[1m]\u001b[0m=\u001b[1;36m0.3333333333333333\u001b[0m                                                                                   \n"
      ]
     },
     "metadata": {},
     "output_type": "display_data"
    },
    {
     "data": {
      "text/html": [
       "<pre style=\"white-space:pre;overflow-x:auto;line-height:normal;font-family:Menlo,'DejaVu Sans Mono',consolas,'Courier New',monospace\">param<span style=\"font-weight: bold\">[</span><span style=\"color: #008000; text-decoration-color: #008000\">'nsteps'</span><span style=\"font-weight: bold\">]</span>=<span style=\"color: #008080; text-decoration-color: #008080; font-weight: bold\">40</span> param<span style=\"font-weight: bold\">[</span><span style=\"color: #008000; text-decoration-color: #008000\">'aexp'</span><span style=\"font-weight: bold\">]</span>=<span style=\"color: #008080; text-decoration-color: #008080; font-weight: bold\">0.3333333333333333</span> z = <span style=\"color: #008080; text-decoration-color: #008080; font-weight: bold\">2.0</span>                                                        \n",
       "</pre>\n"
      ],
      "text/plain": [
       "param\u001b[1m[\u001b[0m\u001b[32m'nsteps'\u001b[0m\u001b[1m]\u001b[0m=\u001b[1;36m40\u001b[0m param\u001b[1m[\u001b[0m\u001b[32m'aexp'\u001b[0m\u001b[1m]\u001b[0m=\u001b[1;36m0.3333333333333333\u001b[0m z = \u001b[1;36m2.0\u001b[0m                                                        \n"
      ]
     },
     "metadata": {},
     "output_type": "display_data"
    },
    {
     "name": "stdout",
     "output_type": "stream",
     "text": [
      "EFT-reserr\n",
      "rese-xc-before: 0.03452847898006439\n",
      "EFT-reserr\n",
      "rese-xc-before: 0.0261783916503191\n",
      "EFT-reserr\n",
      "reserr: 0.008608323521912098\n",
      "EFT-reserr\n",
      "rese-xc-before: 0.03440696746110916\n",
      "EFT-reserr\n",
      "rese-xc-before: 0.026203487068414688\n",
      "EFT-reserr\n",
      "reserr: 0.009102690033614635\n",
      "EFT-reserr\n",
      "rese-xc-before: 0.03440696373581886\n",
      "EFT-reserr\n",
      "rese-xc-before: 0.02620347961783409\n",
      "EFT-reserr\n",
      "reserr: 0.00910263229161501\n",
      "EFT-reserr\n",
      "rese-xc-before: 0.03440696373581886\n",
      "EFT-reserr\n",
      "rese-xc-before: 0.02620348334312439\n",
      "EFT-reserr\n",
      "reserr: 0.00910288654267788\n",
      "EFT-reserr\n",
      "rese-xc-before: 0.03440696746110916\n",
      "EFT-reserr\n",
      "rese-xc-before: 0.02620347961783409\n",
      "EFT-reserr\n",
      "reserr: 0.009102622047066689\n",
      "EFT-reserr\n",
      "rese-xc-before: 0.03440696746110916\n",
      "EFT-reserr\n",
      "rese-xc-before: 0.02620348148047924\n",
      "EFT-reserr\n",
      "reserr: 0.009102566167712212\n",
      "EFT-reserr\n",
      "2.5133667\n",
      "Step: 41 [0.03437879 0.022256   0.01323689] [ 0.01363452  0.00460199 -0.00234045] [[ 0.8329654   1.050559    0.47895288 ... -0.3053174  -0.13479328\n",
      "   0.25475788]\n",
      " [ 0.9596782   1.1415882   0.56496096 ... -0.3267784   0.0432086\n",
      "   0.501153  ]\n",
      " [ 0.8228607   1.2466035   0.9589653  ... -0.17976475  0.18780565\n",
      "   0.50333834]\n",
      " ...\n",
      " [-0.1287508  -0.22237825 -0.30452347 ... -0.29852533 -0.36163378\n",
      "  -0.26014853]\n",
      " [ 0.00214624 -0.02882099 -0.22493982 ... -0.30823088 -0.34435844\n",
      "  -0.17848635]\n",
      " [ 0.3375249   0.40900993  0.07532406 ... -0.2963357  -0.24748945\n",
      "  -0.0036788 ]]\n"
     ]
    },
    {
     "data": {
      "text/html": [
       "<pre style=\"white-space:pre;overflow-x:auto;line-height:normal;font-family:Menlo,'DejaVu Sans Mono',consolas,'Courier New',monospace\">param<span style=\"font-weight: bold\">[</span><span style=\"color: #008000; text-decoration-color: #008000\">'nsteps'</span><span style=\"font-weight: bold\">]</span>=<span style=\"color: #008080; text-decoration-color: #008080; font-weight: bold\">41</span> param<span style=\"font-weight: bold\">[</span><span style=\"color: #008000; text-decoration-color: #008000\">'aexp'</span><span style=\"font-weight: bold\">]</span>=<span style=\"color: #008080; text-decoration-color: #008080; font-weight: bold\">0.366666665251145</span> z = <span style=\"color: #008080; text-decoration-color: #008080; font-weight: bold\">1.727272737801401</span>                                           \n",
       "</pre>\n"
      ],
      "text/plain": [
       "param\u001b[1m[\u001b[0m\u001b[32m'nsteps'\u001b[0m\u001b[1m]\u001b[0m=\u001b[1;36m41\u001b[0m param\u001b[1m[\u001b[0m\u001b[32m'aexp'\u001b[0m\u001b[1m]\u001b[0m=\u001b[1;36m0.366666665251145\u001b[0m z = \u001b[1;36m1.727272737801401\u001b[0m                                           \n"
      ]
     },
     "metadata": {},
     "output_type": "display_data"
    },
    {
     "name": "stdout",
     "output_type": "stream",
     "text": [
      "EFT-reserr\n",
      "rese-xc-before: 0.04258418828248978\n",
      "EFT-reserr\n",
      "rese-xc-before: 0.03221515938639641\n",
      "EFT-reserr\n",
      "reserr: 0.011113669723272324\n",
      "EFT-reserr\n",
      "rese-xc-before: 0.04243895038962364\n",
      "EFT-reserr\n",
      "rese-xc-before: 0.03224621340632439\n",
      "EFT-reserr\n",
      "reserr: 0.011731671169400215\n",
      "EFT-reserr\n",
      "rese-xc-before: 0.04243895038962364\n",
      "EFT-reserr\n",
      "rese-xc-before: 0.03224621340632439\n",
      "EFT-reserr\n",
      "reserr: 0.011732150800526142\n",
      "EFT-reserr\n",
      "rese-xc-before: 0.04243895411491394\n",
      "EFT-reserr\n",
      "rese-xc-before: 0.032246217131614685\n",
      "EFT-reserr\n",
      "reserr: 0.011732243932783604\n",
      "EFT-reserr\n",
      "rese-xc-before: 0.04243895038962364\n",
      "EFT-reserr\n",
      "rese-xc-before: 0.032246220856904984\n",
      "EFT-reserr\n",
      "reserr: 0.011732082813978195\n",
      "EFT-reserr\n",
      "rese-xc-before: 0.04243895411491394\n",
      "EFT-reserr\n",
      "rese-xc-before: 0.032246217131614685\n",
      "EFT-reserr\n",
      "reserr: 0.011732182465493679\n",
      "EFT-reserr\n",
      "2.501825\n",
      "Step: 42 [0.03664063 0.02302229 0.01284232] [ 0.01605227  0.00547198 -0.00286456] [[ 1.114728    1.228982    0.44775963 ... -0.36610413 -0.14184761\n",
      "   0.3487625 ]\n",
      " [ 1.2677135   1.3790445   0.55701256 ... -0.40484524  0.0690403\n",
      "   0.6539955 ]\n",
      " [ 1.101656    1.5752134   1.0380731  ... -0.24067497  0.21979141\n",
      "   0.64730453]\n",
      " ...\n",
      " [-0.1283617  -0.24348974 -0.4041419  ... -0.35748386 -0.40597916\n",
      "  -0.2712412 ]\n",
      " [ 0.03872681 -0.03431845 -0.33116627 ... -0.3537159  -0.37904072\n",
      "  -0.16969967]\n",
      " [ 0.4685526   0.4450717  -0.01953554 ... -0.3352003  -0.2653923\n",
      "   0.04341221]]\n"
     ]
    },
    {
     "data": {
      "text/html": [
       "<pre style=\"white-space:pre;overflow-x:auto;line-height:normal;font-family:Menlo,'DejaVu Sans Mono',consolas,'Courier New',monospace\">param<span style=\"font-weight: bold\">[</span><span style=\"color: #008000; text-decoration-color: #008000\">'nsteps'</span><span style=\"font-weight: bold\">]</span>=<span style=\"color: #008080; text-decoration-color: #008080; font-weight: bold\">42</span> param<span style=\"font-weight: bold\">[</span><span style=\"color: #008000; text-decoration-color: #008000\">'aexp'</span><span style=\"font-weight: bold\">]</span>=<span style=\"color: #008080; text-decoration-color: #008080; font-weight: bold\">0.4033333321886691</span> z = <span style=\"color: #008080; text-decoration-color: #008080; font-weight: bold\">1.479338850011596</span>                                          \n",
       "</pre>\n"
      ],
      "text/plain": [
       "param\u001b[1m[\u001b[0m\u001b[32m'nsteps'\u001b[0m\u001b[1m]\u001b[0m=\u001b[1;36m42\u001b[0m param\u001b[1m[\u001b[0m\u001b[32m'aexp'\u001b[0m\u001b[1m]\u001b[0m=\u001b[1;36m0.4033333321886691\u001b[0m z = \u001b[1;36m1.479338850011596\u001b[0m                                          \n"
      ]
     },
     "metadata": {},
     "output_type": "display_data"
    },
    {
     "name": "stdout",
     "output_type": "stream",
     "text": [
      "EFT-reserr\n",
      "rese-xc-before: 0.052686657756567\n",
      "EFT-reserr\n",
      "rese-xc-before: 0.03970088064670563\n",
      "EFT-reserr\n",
      "reserr: 0.01486863661557436\n",
      "EFT-reserr\n",
      "rese-xc-before: 0.05251402035355568\n",
      "EFT-reserr\n",
      "rese-xc-before: 0.03973938152194023\n",
      "EFT-reserr\n",
      "reserr: 0.01563812978565693\n",
      "EFT-reserr\n",
      "rese-xc-before: 0.05251401290297508\n",
      "EFT-reserr\n",
      "rese-xc-before: 0.03973938897252083\n",
      "EFT-reserr\n",
      "reserr: 0.015638425946235657\n",
      "EFT-reserr\n",
      "rese-xc-before: 0.05251401290297508\n",
      "EFT-reserr\n",
      "rese-xc-before: 0.039739374071359634\n",
      "EFT-reserr\n",
      "reserr: 0.01563837192952633\n",
      "EFT-reserr\n",
      "rese-xc-before: 0.05251402035355568\n",
      "EFT-reserr\n",
      "rese-xc-before: 0.03973938524723053\n",
      "EFT-reserr\n",
      "reserr: 0.015638191252946854\n",
      "EFT-reserr\n",
      "rese-xc-before: 0.05251401662826538\n",
      "EFT-reserr\n",
      "rese-xc-before: 0.03973938524723053\n",
      "EFT-reserr\n",
      "reserr: 0.015638498589396477\n",
      "EFT-reserr\n",
      "2.4998322\n",
      "Step: 43 [0.03918    0.02389223 0.01238093] [ 0.01890584  0.0065291  -0.00352428] [[ 1.4929628   1.3976488   0.37144852 ... -0.4376421  -0.14200687\n",
      "   0.4876747 ]\n",
      " [ 1.6960173   1.6345882   0.5204544  ... -0.50089264  0.1051712\n",
      "   0.8627138 ]\n",
      " [ 1.5083284   1.9707022   1.0990419  ... -0.31999207  0.25382423\n",
      "   0.83704185]\n",
      " ...\n",
      " [-0.12100315 -0.2725067  -0.5449858  ... -0.4285059  -0.4491291\n",
      "  -0.26401043]\n",
      " [ 0.08519459 -0.04679585 -0.48007727 ... -0.40401173 -0.40905094\n",
      "  -0.13898277]\n",
      " [ 0.6304436   0.45967865 -0.16716528 ... -0.3787756  -0.275918\n",
      "   0.12317848]]\n"
     ]
    },
    {
     "data": {
      "text/html": [
       "<pre style=\"white-space:pre;overflow-x:auto;line-height:normal;font-family:Menlo,'DejaVu Sans Mono',consolas,'Courier New',monospace\">param<span style=\"font-weight: bold\">[</span><span style=\"color: #008000; text-decoration-color: #008000\">'nsteps'</span><span style=\"font-weight: bold\">]</span>=<span style=\"color: #008080; text-decoration-color: #008080; font-weight: bold\">43</span> param<span style=\"font-weight: bold\">[</span><span style=\"color: #008000; text-decoration-color: #008000\">'aexp'</span><span style=\"font-weight: bold\">]</span>=<span style=\"color: #008080; text-decoration-color: #008080; font-weight: bold\">0.44366666725922005</span> z = <span style=\"color: #008080; text-decoration-color: #008080; font-weight: bold\">1.2539443996944049</span>                                        \n",
       "</pre>\n"
      ],
      "text/plain": [
       "param\u001b[1m[\u001b[0m\u001b[32m'nsteps'\u001b[0m\u001b[1m]\u001b[0m=\u001b[1;36m43\u001b[0m param\u001b[1m[\u001b[0m\u001b[32m'aexp'\u001b[0m\u001b[1m]\u001b[0m=\u001b[1;36m0.44366666725922005\u001b[0m z = \u001b[1;36m1.2539443996944049\u001b[0m                                        \n"
      ]
     },
     "metadata": {},
     "output_type": "display_data"
    },
    {
     "name": "stdout",
     "output_type": "stream",
     "text": [
      "EFT-reserr\n",
      "rese-xc-before: 0.06540987640619278\n",
      "EFT-reserr\n",
      "rese-xc-before: 0.04899011179804802\n",
      "EFT-reserr\n",
      "reserr: 0.0204904954880476\n",
      "EFT-reserr\n",
      "rese-xc-before: 0.06520546972751617\n",
      "EFT-reserr\n",
      "rese-xc-before: 0.04903789237141609\n",
      "EFT-reserr\n",
      "reserr: 0.02142333984375\n",
      "EFT-reserr\n",
      "rese-xc-before: 0.06520546227693558\n",
      "EFT-reserr\n",
      "rese-xc-before: 0.04903788864612579\n",
      "EFT-reserr\n",
      "reserr: 0.021423663944005966\n",
      "EFT-reserr\n",
      "rese-xc-before: 0.06520545482635498\n",
      "EFT-reserr\n",
      "rese-xc-before: 0.04903789237141609\n",
      "EFT-reserr\n",
      "reserr: 0.021423695608973503\n",
      "EFT-reserr\n",
      "rese-xc-before: 0.06520546227693558\n",
      "EFT-reserr\n",
      "rese-xc-before: 0.049037907272577286\n",
      "EFT-reserr\n",
      "reserr: 0.021423595026135445\n",
      "EFT-reserr\n",
      "rese-xc-before: 0.06520546227693558\n",
      "EFT-reserr\n",
      "rese-xc-before: 0.04903789609670639\n",
      "EFT-reserr\n",
      "reserr: 0.021423596888780594\n",
      "EFT-reserr\n",
      "2.4964955\n",
      "Step: 44 [0.04203214 0.0248836  0.01183836] [ 0.02227794  0.0078237  -0.00436149] [[ 1.9797096   1.5221567   0.21174335 ... -0.5212059  -0.13039684\n",
      "   0.69990253]\n",
      " [ 2.2956638   1.8570547   0.40568542 ... -0.6179209   0.1555357\n",
      "   1.1628962 ]\n",
      " [ 2.1311016   2.3677368   1.0642757  ... -0.421072    0.28577995\n",
      "   1.109787  ]\n",
      " ...\n",
      " [-0.10654736 -0.32133484 -0.7447448  ... -0.5162554  -0.486557\n",
      "  -0.22718334]\n",
      " [ 0.14175129 -0.07157898 -0.6824136  ... -0.45928    -0.4290228\n",
      "  -0.07459545]\n",
      " [ 0.8190298   0.4413948  -0.38429642 ... -0.42740536 -0.27344418\n",
      "   0.25294495]]\n"
     ]
    },
    {
     "data": {
      "text/html": [
       "<pre style=\"white-space:pre;overflow-x:auto;line-height:normal;font-family:Menlo,'DejaVu Sans Mono',consolas,'Courier New',monospace\">param<span style=\"font-weight: bold\">[</span><span style=\"color: #008000; text-decoration-color: #008000\">'nsteps'</span><span style=\"font-weight: bold\">]</span>=<span style=\"color: #008080; text-decoration-color: #008080; font-weight: bold\">44</span> param<span style=\"font-weight: bold\">[</span><span style=\"color: #008000; text-decoration-color: #008000\">'aexp'</span><span style=\"font-weight: bold\">]</span>=<span style=\"color: #008080; text-decoration-color: #008080; font-weight: bold\">0.4880333332986013</span> z = <span style=\"color: #008080; text-decoration-color: #008080; font-weight: bold\">1.0490403662410368</span>                                         \n",
       "</pre>\n"
      ],
      "text/plain": [
       "param\u001b[1m[\u001b[0m\u001b[32m'nsteps'\u001b[0m\u001b[1m]\u001b[0m=\u001b[1;36m44\u001b[0m param\u001b[1m[\u001b[0m\u001b[32m'aexp'\u001b[0m\u001b[1m]\u001b[0m=\u001b[1;36m0.4880333332986013\u001b[0m z = \u001b[1;36m1.0490403662410368\u001b[0m                                         \n"
      ]
     },
     "metadata": {},
     "output_type": "display_data"
    },
    {
     "name": "stdout",
     "output_type": "stream",
     "text": [
      "EFT-reserr\n",
      "rese-xc-before: 0.06916745752096176\n",
      "EFT-reserr\n",
      "rese-xc-before: 0.051702748984098434\n",
      "EFT-reserr\n",
      "reserr: 0.022267257794737816\n",
      "EFT-reserr\n",
      "rese-xc-before: 0.06895417720079422\n",
      "EFT-reserr\n",
      "rese-xc-before: 0.051753271371126175\n",
      "EFT-reserr\n",
      "reserr: 0.023241383954882622\n",
      "EFT-reserr\n",
      "rese-xc-before: 0.06895418465137482\n",
      "EFT-reserr\n",
      "rese-xc-before: 0.051753267645835876\n",
      "EFT-reserr\n",
      "reserr: 0.02324141003191471\n",
      "EFT-reserr\n",
      "rese-xc-before: 0.06895418465137482\n",
      "EFT-reserr\n",
      "rese-xc-before: 0.05175326392054558\n",
      "EFT-reserr\n",
      "reserr: 0.023241348564624786\n",
      "EFT-reserr\n",
      "rese-xc-before: 0.06895418465137482\n",
      "EFT-reserr\n",
      "rese-xc-before: 0.05175326019525528\n",
      "EFT-reserr\n",
      "reserr: 0.02324175089597702\n",
      "EFT-reserr\n",
      "rese-xc-before: 0.06895418465137482\n",
      "EFT-reserr\n",
      "rese-xc-before: 0.05175327509641647\n",
      "EFT-reserr\n",
      "reserr: 0.023241793736815453\n",
      "EFT-reserr\n",
      "2.5007987\n",
      "Step: 45 [0.04281586 0.02515946 0.01168397] [ 0.02322504  0.00819566 -0.00460678] [[ 2.1235952   1.5333862   0.14978218 ... -0.5446243  -0.12460804\n",
      "   0.7719393 ]\n",
      " [ 2.4843235   1.8923359   0.3526249  ... -0.6513443   0.1716404\n",
      "   1.2645226 ]\n",
      " [ 2.3300533   2.451684    1.0316086  ... -0.44995403  0.29248905\n",
      "   1.1990805 ]\n",
      " ...\n",
      " [-0.1014061  -0.33943558 -0.8069949  ... -0.54196835 -0.4941244\n",
      "  -0.21203041]\n",
      " [ 0.1579094  -0.08117485 -0.74074745 ... -0.47416878 -0.43144512\n",
      "  -0.05113506]\n",
      " [ 0.87039375  0.43059826 -0.44872665 ... -0.44067955 -0.26973438\n",
      "   0.29687595]]\n"
     ]
    },
    {
     "data": {
      "text/html": [
       "<pre style=\"white-space:pre;overflow-x:auto;line-height:normal;font-family:Menlo,'DejaVu Sans Mono',consolas,'Courier New',monospace\">Snapshot written at <span style=\"color: #808000; text-decoration-color: #808000\">...</span><span style=\"color: #808000; text-decoration-color: #808000\">filename</span>=<span style=\"color: #008000; text-decoration-color: #008000\">'./small//output_00020/particles_eft_multigrid_ncoarse5.h5'</span> param<span style=\"font-weight: bold\">[</span><span style=\"color: #008000; text-decoration-color: #008000\">'aexp'</span><span style=\"font-weight: bold\">]</span>=<span style=\"color: #008080; text-decoration-color: #008080; font-weight: bold\">0.5</span>      \n",
       "</pre>\n"
      ],
      "text/plain": [
       "Snapshot written at \u001b[33m...\u001b[0m\u001b[33mfilename\u001b[0m=\u001b[32m'./small//output_00020/particles_eft_multigrid_ncoarse5.h5'\u001b[0m param\u001b[1m[\u001b[0m\u001b[32m'aexp'\u001b[0m\u001b[1m]\u001b[0m=\u001b[1;36m0.5\u001b[0m      \n"
      ]
     },
     "metadata": {},
     "output_type": "display_data"
    },
    {
     "data": {
      "text/html": [
       "<pre style=\"white-space:pre;overflow-x:auto;line-height:normal;font-family:Menlo,'DejaVu Sans Mono',consolas,'Courier New',monospace\">param<span style=\"font-weight: bold\">[</span><span style=\"color: #008000; text-decoration-color: #008000\">'nsteps'</span><span style=\"font-weight: bold\">]</span>=<span style=\"color: #008080; text-decoration-color: #008080; font-weight: bold\">45</span> param<span style=\"font-weight: bold\">[</span><span style=\"color: #008000; text-decoration-color: #008000\">'aexp'</span><span style=\"font-weight: bold\">]</span>=<span style=\"color: #008080; text-decoration-color: #008080; font-weight: bold\">0.5</span> z = <span style=\"color: #008080; text-decoration-color: #008080; font-weight: bold\">1.0</span>                                                                       \n",
       "</pre>\n"
      ],
      "text/plain": [
       "param\u001b[1m[\u001b[0m\u001b[32m'nsteps'\u001b[0m\u001b[1m]\u001b[0m=\u001b[1;36m45\u001b[0m param\u001b[1m[\u001b[0m\u001b[32m'aexp'\u001b[0m\u001b[1m]\u001b[0m=\u001b[1;36m0.5\u001b[0m z = \u001b[1;36m1.0\u001b[0m                                                                       \n"
      ]
     },
     "metadata": {},
     "output_type": "display_data"
    },
    {
     "name": "stdout",
     "output_type": "stream",
     "text": [
      "EFT-reserr\n",
      "rese-xc-before: 0.07335440814495087\n",
      "EFT-reserr\n",
      "rese-xc-before: 0.05470919981598854\n",
      "EFT-reserr\n",
      "reserr: 0.024295153096318245\n",
      "EFT-reserr\n",
      "rese-xc-before: 0.0731314942240715\n",
      "EFT-reserr\n",
      "rese-xc-before: 0.05476275086402893\n",
      "EFT-reserr\n",
      "reserr: 0.025313029065728188\n",
      "EFT-reserr\n",
      "rese-xc-before: 0.0731314867734909\n",
      "EFT-reserr\n",
      "rese-xc-before: 0.05476274713873863\n",
      "EFT-reserr\n",
      "reserr: 0.025313278660178185\n",
      "EFT-reserr\n",
      "rese-xc-before: 0.0731314942240715\n",
      "EFT-reserr\n",
      "rese-xc-before: 0.05476274713873863\n",
      "EFT-reserr\n",
      "reserr: 0.02531363070011139\n",
      "EFT-reserr\n",
      "rese-xc-before: 0.0731314867734909\n",
      "EFT-reserr\n",
      "rese-xc-before: 0.05476275086402893\n",
      "EFT-reserr\n",
      "reserr: 0.0253136083483696\n",
      "EFT-reserr\n",
      "rese-xc-before: 0.0731314942240715\n",
      "EFT-reserr\n",
      "rese-xc-before: 0.05476274713873863\n",
      "EFT-reserr\n",
      "reserr: 0.02531299740076065\n",
      "EFT-reserr\n",
      "2.4926944\n",
      "Step: 46 [0.04366006 0.02545811 0.01151539] [ 0.02425968  0.00860673 -0.00488017] [[ 2.2837753   1.5346498   0.07997608 ... -0.5700779  -0.11694431\n",
      "   0.8585367 ]\n",
      " [ 2.6954222   1.9158211   0.288476   ... -0.6879606   0.1911974\n",
      "   1.3863535 ]\n",
      " [ 2.5510597   2.525425    0.98470116 ... -0.4830246   0.29952717\n",
      "   1.3023577 ]\n",
      " ...\n",
      " [-0.09683418 -0.36408043 -0.8757539  ... -0.5705128  -0.50085354\n",
      "  -0.19532299]\n",
      " [ 0.17625332 -0.09493446 -0.80181026 ... -0.490057   -0.4324646\n",
      "  -0.02305698]\n",
      " [ 0.9256067   0.41514015 -0.51920414 ... -0.4549532  -0.26418877\n",
      "   0.34859562]]\n"
     ]
    },
    {
     "data": {
      "text/html": [
       "<pre style=\"white-space:pre;overflow-x:auto;line-height:normal;font-family:Menlo,'DejaVu Sans Mono',consolas,'Courier New',monospace\">Snapshot written at <span style=\"color: #808000; text-decoration-color: #808000\">...</span><span style=\"color: #808000; text-decoration-color: #808000\">filename</span>=<span style=\"color: #008000; text-decoration-color: #008000\">'./small//output_00021/particles_eft_multigrid_ncoarse5.h5'</span>                        \n",
       "param<span style=\"font-weight: bold\">[</span><span style=\"color: #008000; text-decoration-color: #008000\">'aexp'</span><span style=\"font-weight: bold\">]</span>=<span style=\"color: #008080; text-decoration-color: #008080; font-weight: bold\">0.5128205128205129</span>                                                                                   \n",
       "</pre>\n"
      ],
      "text/plain": [
       "Snapshot written at \u001b[33m...\u001b[0m\u001b[33mfilename\u001b[0m=\u001b[32m'./small//output_00021/particles_eft_multigrid_ncoarse5.h5'\u001b[0m                        \n",
       "param\u001b[1m[\u001b[0m\u001b[32m'aexp'\u001b[0m\u001b[1m]\u001b[0m=\u001b[1;36m0.5128205128205129\u001b[0m                                                                                   \n"
      ]
     },
     "metadata": {},
     "output_type": "display_data"
    },
    {
     "data": {
      "text/html": [
       "<pre style=\"white-space:pre;overflow-x:auto;line-height:normal;font-family:Menlo,'DejaVu Sans Mono',consolas,'Courier New',monospace\">param<span style=\"font-weight: bold\">[</span><span style=\"color: #008000; text-decoration-color: #008000\">'nsteps'</span><span style=\"font-weight: bold\">]</span>=<span style=\"color: #008080; text-decoration-color: #008080; font-weight: bold\">46</span> param<span style=\"font-weight: bold\">[</span><span style=\"color: #008000; text-decoration-color: #008000\">'aexp'</span><span style=\"font-weight: bold\">]</span>=<span style=\"color: #008080; text-decoration-color: #008080; font-weight: bold\">0.5128205128205129</span> z = <span style=\"color: #008080; text-decoration-color: #008080; font-weight: bold\">0.9499999999999997</span>                                         \n",
       "</pre>\n"
      ],
      "text/plain": [
       "param\u001b[1m[\u001b[0m\u001b[32m'nsteps'\u001b[0m\u001b[1m]\u001b[0m=\u001b[1;36m46\u001b[0m param\u001b[1m[\u001b[0m\u001b[32m'aexp'\u001b[0m\u001b[1m]\u001b[0m=\u001b[1;36m0.5128205128205129\u001b[0m z = \u001b[1;36m0.9499999999999997\u001b[0m                                         \n"
      ]
     },
     "metadata": {},
     "output_type": "display_data"
    },
    {
     "name": "stdout",
     "output_type": "stream",
     "text": [
      "EFT-reserr\n",
      "rese-xc-before: 0.0779472291469574\n",
      "EFT-reserr\n",
      "rese-xc-before: 0.05798770859837532\n",
      "EFT-reserr\n",
      "reserr: 0.026598844677209854\n",
      "EFT-reserr\n",
      "rese-xc-before: 0.07771410048007965\n",
      "EFT-reserr\n",
      "rese-xc-before: 0.05804454907774925\n",
      "EFT-reserr\n",
      "reserr: 0.027661003172397614\n",
      "EFT-reserr\n",
      "rese-xc-before: 0.07771407812833786\n",
      "EFT-reserr\n",
      "rese-xc-before: 0.058044563978910446\n",
      "EFT-reserr\n",
      "reserr: 0.027661412954330444\n",
      "EFT-reserr\n",
      "rese-xc-before: 0.07771408557891846\n",
      "EFT-reserr\n",
      "rese-xc-before: 0.05804453790187836\n",
      "EFT-reserr\n",
      "reserr: 0.027661509811878204\n",
      "EFT-reserr\n",
      "rese-xc-before: 0.07771409302949905\n",
      "EFT-reserr\n",
      "rese-xc-before: 0.058044541627168655\n",
      "EFT-reserr\n",
      "reserr: 0.027661243453621864\n",
      "EFT-reserr\n",
      "rese-xc-before: 0.07771409302949905\n",
      "EFT-reserr\n",
      "rese-xc-before: 0.05804456025362015\n",
      "EFT-reserr\n",
      "reserr: 0.027661005035042763\n",
      "EFT-reserr\n",
      "2.5069997\n",
      "Step: 47 [0.04455376 0.02577605 0.01133433] [ 0.02537123  0.00905382 -0.00518017] [[ 2.454217    1.5220232   0.00353527 ... -0.5973282  -0.10714817\n",
      "   0.96099377]\n",
      " [ 2.923852    1.9239874   0.21549606 ... -0.7272854   0.21471691\n",
      "   1.5294065 ]\n",
      " [ 2.7895718   2.584921    0.92479134 ... -0.5210533   0.30646706\n",
      "   1.4162769 ]\n",
      " ...\n",
      " [-0.09425449 -0.39705372 -0.94636345 ... -0.60161495 -0.5067549\n",
      "  -0.17892551]\n",
      " [ 0.19736385 -0.11241531 -0.85941315 ... -0.5067024  -0.43161774\n",
      "   0.00980091]\n",
      " [ 0.9844036   0.39327812 -0.5939646  ... -0.47006512 -0.25648594\n",
      "   0.40861225]]\n"
     ]
    },
    {
     "data": {
      "text/html": [
       "<pre style=\"white-space:pre;overflow-x:auto;line-height:normal;font-family:Menlo,'DejaVu Sans Mono',consolas,'Courier New',monospace\">Snapshot written at <span style=\"color: #808000; text-decoration-color: #808000\">...</span><span style=\"color: #808000; text-decoration-color: #808000\">filename</span>=<span style=\"color: #008000; text-decoration-color: #008000\">'./small//output_00022/particles_eft_multigrid_ncoarse5.h5'</span>                        \n",
       "param<span style=\"font-weight: bold\">[</span><span style=\"color: #008000; text-decoration-color: #008000\">'aexp'</span><span style=\"font-weight: bold\">]</span>=<span style=\"color: #008080; text-decoration-color: #008080; font-weight: bold\">0.5263157894736842</span>                                                                                   \n",
       "</pre>\n"
      ],
      "text/plain": [
       "Snapshot written at \u001b[33m...\u001b[0m\u001b[33mfilename\u001b[0m=\u001b[32m'./small//output_00022/particles_eft_multigrid_ncoarse5.h5'\u001b[0m                        \n",
       "param\u001b[1m[\u001b[0m\u001b[32m'aexp'\u001b[0m\u001b[1m]\u001b[0m=\u001b[1;36m0.5263157894736842\u001b[0m                                                                                   \n"
      ]
     },
     "metadata": {},
     "output_type": "display_data"
    },
    {
     "data": {
      "text/html": [
       "<pre style=\"white-space:pre;overflow-x:auto;line-height:normal;font-family:Menlo,'DejaVu Sans Mono',consolas,'Courier New',monospace\">param<span style=\"font-weight: bold\">[</span><span style=\"color: #008000; text-decoration-color: #008000\">'nsteps'</span><span style=\"font-weight: bold\">]</span>=<span style=\"color: #008080; text-decoration-color: #008080; font-weight: bold\">47</span> param<span style=\"font-weight: bold\">[</span><span style=\"color: #008000; text-decoration-color: #008000\">'aexp'</span><span style=\"font-weight: bold\">]</span>=<span style=\"color: #008080; text-decoration-color: #008080; font-weight: bold\">0.5263157894736842</span> z = <span style=\"color: #008080; text-decoration-color: #008080; font-weight: bold\">0.9000000000000001</span>                                         \n",
       "</pre>\n"
      ],
      "text/plain": [
       "param\u001b[1m[\u001b[0m\u001b[32m'nsteps'\u001b[0m\u001b[1m]\u001b[0m=\u001b[1;36m47\u001b[0m param\u001b[1m[\u001b[0m\u001b[32m'aexp'\u001b[0m\u001b[1m]\u001b[0m=\u001b[1;36m0.5263157894736842\u001b[0m z = \u001b[1;36m0.9000000000000001\u001b[0m                                         \n"
      ]
     },
     "metadata": {},
     "output_type": "display_data"
    },
    {
     "name": "stdout",
     "output_type": "stream",
     "text": [
      "EFT-reserr\n",
      "rese-xc-before: 0.08299996703863144\n",
      "EFT-reserr\n",
      "rese-xc-before: 0.06157175451517105\n",
      "EFT-reserr\n",
      "reserr: 0.029130714014172554\n",
      "EFT-reserr\n",
      "rese-xc-before: 0.0827559158205986\n",
      "EFT-reserr\n",
      "rese-xc-before: 0.06163224205374718\n",
      "EFT-reserr\n",
      "reserr: 0.030240371823310852\n",
      "EFT-reserr\n",
      "rese-xc-before: 0.08275590091943741\n",
      "EFT-reserr\n",
      "rese-xc-before: 0.06163223087787628\n",
      "EFT-reserr\n",
      "reserr: 0.030240828171372414\n",
      "EFT-reserr\n",
      "rese-xc-before: 0.0827559158205986\n",
      "EFT-reserr\n",
      "rese-xc-before: 0.061632245779037476\n",
      "EFT-reserr\n",
      "reserr: 0.030241021886467934\n",
      "EFT-reserr\n",
      "rese-xc-before: 0.082755908370018\n",
      "EFT-reserr\n",
      "rese-xc-before: 0.06163224205374718\n",
      "EFT-reserr\n",
      "reserr: 0.030240271240472794\n",
      "EFT-reserr\n",
      "rese-xc-before: 0.0827559158205986\n",
      "EFT-reserr\n",
      "rese-xc-before: 0.06163223832845688\n",
      "EFT-reserr\n",
      "reserr: 0.03024095855653286\n",
      "EFT-reserr\n",
      "2.4920983\n",
      "Step: 48 [0.04550139 0.02611522 0.0111394 ] [ 0.02656805  0.00954144 -0.0055105 ] [[ 2.6335583   1.49228    -0.07758617 ... -0.626564   -0.09468937\n",
      "   1.0825634 ]\n",
      " [ 3.1658554   1.9175234   0.13506413 ... -0.76929665  0.24303246\n",
      "   1.6958504 ]\n",
      " [ 3.044344    2.6332607   0.8550129  ... -0.56377316  0.31308556\n",
      "   1.5398655 ]\n",
      " ...\n",
      " [-0.09417439 -0.43834114 -1.0204306  ... -0.6350403  -0.5118351\n",
      "  -0.16344929]\n",
      " [ 0.22282028 -0.13321972 -0.91353226 ... -0.52406025 -0.42823982\n",
      "   0.04760647]\n",
      " [ 1.0474215   0.36027622 -0.6718273  ... -0.48606873 -0.2460823\n",
      "   0.478487  ]]\n"
     ]
    },
    {
     "data": {
      "text/html": [
       "<pre style=\"white-space:pre;overflow-x:auto;line-height:normal;font-family:Menlo,'DejaVu Sans Mono',consolas,'Courier New',monospace\">Snapshot written at <span style=\"color: #808000; text-decoration-color: #808000\">...</span><span style=\"color: #808000; text-decoration-color: #808000\">filename</span>=<span style=\"color: #008000; text-decoration-color: #008000\">'./small//output_00023/particles_eft_multigrid_ncoarse5.h5'</span>                        \n",
       "param<span style=\"font-weight: bold\">[</span><span style=\"color: #008000; text-decoration-color: #008000\">'aexp'</span><span style=\"font-weight: bold\">]</span>=<span style=\"color: #008080; text-decoration-color: #008080; font-weight: bold\">0.5405405405405405</span>                                                                                   \n",
       "</pre>\n"
      ],
      "text/plain": [
       "Snapshot written at \u001b[33m...\u001b[0m\u001b[33mfilename\u001b[0m=\u001b[32m'./small//output_00023/particles_eft_multigrid_ncoarse5.h5'\u001b[0m                        \n",
       "param\u001b[1m[\u001b[0m\u001b[32m'aexp'\u001b[0m\u001b[1m]\u001b[0m=\u001b[1;36m0.5405405405405405\u001b[0m                                                                                   \n"
      ]
     },
     "metadata": {},
     "output_type": "display_data"
    },
    {
     "data": {
      "text/html": [
       "<pre style=\"white-space:pre;overflow-x:auto;line-height:normal;font-family:Menlo,'DejaVu Sans Mono',consolas,'Courier New',monospace\">param<span style=\"font-weight: bold\">[</span><span style=\"color: #008000; text-decoration-color: #008000\">'nsteps'</span><span style=\"font-weight: bold\">]</span>=<span style=\"color: #008080; text-decoration-color: #008080; font-weight: bold\">48</span> param<span style=\"font-weight: bold\">[</span><span style=\"color: #008000; text-decoration-color: #008000\">'aexp'</span><span style=\"font-weight: bold\">]</span>=<span style=\"color: #008080; text-decoration-color: #008080; font-weight: bold\">0.5405405405405405</span> z = <span style=\"color: #008080; text-decoration-color: #008080; font-weight: bold\">0.8500000000000003</span>                                         \n",
       "</pre>\n"
      ],
      "text/plain": [
       "param\u001b[1m[\u001b[0m\u001b[32m'nsteps'\u001b[0m\u001b[1m]\u001b[0m=\u001b[1;36m48\u001b[0m param\u001b[1m[\u001b[0m\u001b[32m'aexp'\u001b[0m\u001b[1m]\u001b[0m=\u001b[1;36m0.5405405405405405\u001b[0m z = \u001b[1;36m0.8500000000000003\u001b[0m                                         \n"
      ]
     },
     "metadata": {},
     "output_type": "display_data"
    },
    {
     "name": "stdout",
     "output_type": "stream",
     "text": [
      "EFT-reserr\n",
      "rese-xc-before: 0.08857087790966034\n",
      "EFT-reserr\n",
      "rese-xc-before: 0.06549591571092606\n",
      "EFT-reserr\n",
      "reserr: 0.0318981297314167\n",
      "EFT-reserr\n",
      "rese-xc-before: 0.0883152037858963\n",
      "EFT-reserr\n",
      "rese-xc-before: 0.06556036323308945\n",
      "EFT-reserr\n",
      "reserr: 0.03305676579475403\n",
      "EFT-reserr\n",
      "rese-xc-before: 0.0883152112364769\n",
      "EFT-reserr\n",
      "rese-xc-before: 0.06556037068367004\n",
      "EFT-reserr\n",
      "reserr: 0.033057667315006256\n",
      "EFT-reserr\n",
      "rese-xc-before: 0.0883152037858963\n",
      "EFT-reserr\n",
      "rese-xc-before: 0.06556036323308945\n",
      "EFT-reserr\n",
      "reserr: 0.03305751085281372\n",
      "EFT-reserr\n",
      "rese-xc-before: 0.0883151963353157\n",
      "EFT-reserr\n",
      "rese-xc-before: 0.06556037068367004\n",
      "EFT-reserr\n",
      "reserr: 0.03305703401565552\n",
      "EFT-reserr\n",
      "rese-xc-before: 0.0883152112364769\n",
      "EFT-reserr\n",
      "rese-xc-before: 0.06556036323308945\n",
      "EFT-reserr\n",
      "reserr: 0.03305729478597641\n",
      "EFT-reserr\n",
      "2.5126283\n",
      "Step: 49 [0.04650788 0.02647787 0.01092898] [ 0.0278597   0.01007479 -0.0058757 ] [[ 2.823       1.4462833  -0.1599226  ... -0.6580448  -0.07803535\n",
      "   1.2291393 ]\n",
      " [ 3.4185276   1.8980713   0.04765892 ... -0.8132849   0.27637672\n",
      "   1.8882923 ]\n",
      " [ 3.3148632   2.6714077   0.7765312  ... -0.60694313  0.3173523\n",
      "   1.6713791 ]\n",
      " ...\n",
      " [-0.09675121 -0.4909668  -1.0969906  ... -0.67092514 -0.51592827\n",
      "  -0.14975166]\n",
      " [ 0.25467587 -0.15975666 -0.9648113  ... -0.5421238  -0.42161942\n",
      "   0.09110832]\n",
      " [ 1.1186132   0.31355572 -0.75014496 ... -0.5030384  -0.23202515\n",
      "   0.56173706]]\n"
     ]
    },
    {
     "data": {
      "text/html": [
       "<pre style=\"white-space:pre;overflow-x:auto;line-height:normal;font-family:Menlo,'DejaVu Sans Mono',consolas,'Courier New',monospace\">Snapshot written at <span style=\"color: #808000; text-decoration-color: #808000\">...</span><span style=\"color: #808000; text-decoration-color: #808000\">filename</span>=<span style=\"color: #008000; text-decoration-color: #008000\">'./small//output_00024/particles_eft_multigrid_ncoarse5.h5'</span>                        \n",
       "param<span style=\"font-weight: bold\">[</span><span style=\"color: #008000; text-decoration-color: #008000\">'aexp'</span><span style=\"font-weight: bold\">]</span>=<span style=\"color: #008080; text-decoration-color: #008080; font-weight: bold\">0.5555555555555556</span>                                                                                   \n",
       "</pre>\n"
      ],
      "text/plain": [
       "Snapshot written at \u001b[33m...\u001b[0m\u001b[33mfilename\u001b[0m=\u001b[32m'./small//output_00024/particles_eft_multigrid_ncoarse5.h5'\u001b[0m                        \n",
       "param\u001b[1m[\u001b[0m\u001b[32m'aexp'\u001b[0m\u001b[1m]\u001b[0m=\u001b[1;36m0.5555555555555556\u001b[0m                                                                                   \n"
      ]
     },
     "metadata": {},
     "output_type": "display_data"
    },
    {
     "data": {
      "text/html": [
       "<pre style=\"white-space:pre;overflow-x:auto;line-height:normal;font-family:Menlo,'DejaVu Sans Mono',consolas,'Courier New',monospace\">param<span style=\"font-weight: bold\">[</span><span style=\"color: #008000; text-decoration-color: #008000\">'nsteps'</span><span style=\"font-weight: bold\">]</span>=<span style=\"color: #008080; text-decoration-color: #008080; font-weight: bold\">49</span> param<span style=\"font-weight: bold\">[</span><span style=\"color: #008000; text-decoration-color: #008000\">'aexp'</span><span style=\"font-weight: bold\">]</span>=<span style=\"color: #008080; text-decoration-color: #008080; font-weight: bold\">0.5555555555555556</span> z = <span style=\"color: #008080; text-decoration-color: #008080; font-weight: bold\">0.7999999999999998</span>                                         \n",
       "</pre>\n"
      ],
      "text/plain": [
       "param\u001b[1m[\u001b[0m\u001b[32m'nsteps'\u001b[0m\u001b[1m]\u001b[0m=\u001b[1;36m49\u001b[0m param\u001b[1m[\u001b[0m\u001b[32m'aexp'\u001b[0m\u001b[1m]\u001b[0m=\u001b[1;36m0.5555555555555556\u001b[0m z = \u001b[1;36m0.7999999999999998\u001b[0m                                         \n"
      ]
     },
     "metadata": {},
     "output_type": "display_data"
    },
    {
     "name": "stdout",
     "output_type": "stream",
     "text": [
      "EFT-reserr\n",
      "rese-xc-before: 0.09472653269767761\n",
      "EFT-reserr\n",
      "rese-xc-before: 0.06979960948228836\n",
      "EFT-reserr\n",
      "reserr: 0.03490103781223297\n",
      "EFT-reserr\n",
      "rese-xc-before: 0.09445847570896149\n",
      "EFT-reserr\n",
      "rese-xc-before: 0.06986843794584274\n",
      "EFT-reserr\n",
      "reserr: 0.03611117601394653\n",
      "EFT-reserr\n",
      "rese-xc-before: 0.09445849806070328\n",
      "EFT-reserr\n",
      "rese-xc-before: 0.06986843794584274\n",
      "EFT-reserr\n",
      "reserr: 0.036111220717430115\n",
      "EFT-reserr\n",
      "rese-xc-before: 0.09445849061012268\n",
      "EFT-reserr\n",
      "rese-xc-before: 0.06986846029758453\n",
      "EFT-reserr\n",
      "reserr: 0.036111071705818176\n",
      "EFT-reserr\n",
      "rese-xc-before: 0.09445848315954208\n",
      "EFT-reserr\n",
      "rese-xc-before: 0.06986846774816513\n",
      "EFT-reserr\n",
      "reserr: 0.03611117973923683\n",
      "EFT-reserr\n",
      "rese-xc-before: 0.09445849061012268\n",
      "EFT-reserr\n",
      "rese-xc-before: 0.06986845284700394\n",
      "EFT-reserr\n",
      "reserr: 0.036111775785684586\n",
      "EFT-reserr\n",
      "2.5081332\n",
      "Step: 50 [0.04757882 0.02686652 0.01070121] [ 0.02925718  0.01065989 -0.00628141] [[ 3.0190277   1.3807259  -0.24253273 ... -0.6921654  -0.05472946\n",
      "   1.4047985 ]\n",
      " [ 3.679243    1.8619194  -0.04511833 ... -0.8591347   0.316885\n",
      "   2.1075287 ]\n",
      " [ 3.6039867   2.7002697   0.68972397 ... -0.64733124  0.32060814\n",
      "   1.8085499 ]\n",
      " ...\n",
      " [-0.10213661 -0.5577879  -1.1738815  ... -0.7099323  -0.52023125\n",
      "  -0.1389637 ]\n",
      " [ 0.29556465 -0.19835758 -1.018753   ... -0.56085205 -0.410923\n",
      "   0.14144135]\n",
      " [ 1.1962299   0.24900723 -0.8309345  ... -0.52100754 -0.21326637\n",
      "   0.66106987]]\n"
     ]
    },
    {
     "data": {
      "text/html": [
       "<pre style=\"white-space:pre;overflow-x:auto;line-height:normal;font-family:Menlo,'DejaVu Sans Mono',consolas,'Courier New',monospace\">Snapshot written at <span style=\"color: #808000; text-decoration-color: #808000\">...</span><span style=\"color: #808000; text-decoration-color: #808000\">filename</span>=<span style=\"color: #008000; text-decoration-color: #008000\">'./small//output_00025/particles_eft_multigrid_ncoarse5.h5'</span>                        \n",
       "param<span style=\"font-weight: bold\">[</span><span style=\"color: #008000; text-decoration-color: #008000\">'aexp'</span><span style=\"font-weight: bold\">]</span>=<span style=\"color: #008080; text-decoration-color: #008080; font-weight: bold\">0.5714285714285714</span>                                                                                   \n",
       "</pre>\n"
      ],
      "text/plain": [
       "Snapshot written at \u001b[33m...\u001b[0m\u001b[33mfilename\u001b[0m=\u001b[32m'./small//output_00025/particles_eft_multigrid_ncoarse5.h5'\u001b[0m                        \n",
       "param\u001b[1m[\u001b[0m\u001b[32m'aexp'\u001b[0m\u001b[1m]\u001b[0m=\u001b[1;36m0.5714285714285714\u001b[0m                                                                                   \n"
      ]
     },
     "metadata": {},
     "output_type": "display_data"
    },
    {
     "data": {
      "text/html": [
       "<pre style=\"white-space:pre;overflow-x:auto;line-height:normal;font-family:Menlo,'DejaVu Sans Mono',consolas,'Courier New',monospace\">param<span style=\"font-weight: bold\">[</span><span style=\"color: #008000; text-decoration-color: #008000\">'nsteps'</span><span style=\"font-weight: bold\">]</span>=<span style=\"color: #008080; text-decoration-color: #008080; font-weight: bold\">50</span> param<span style=\"font-weight: bold\">[</span><span style=\"color: #008000; text-decoration-color: #008000\">'aexp'</span><span style=\"font-weight: bold\">]</span>=<span style=\"color: #008080; text-decoration-color: #008080; font-weight: bold\">0.5714285714285714</span> z = <span style=\"color: #008080; text-decoration-color: #008080; font-weight: bold\">0.75</span>                                                       \n",
       "</pre>\n"
      ],
      "text/plain": [
       "param\u001b[1m[\u001b[0m\u001b[32m'nsteps'\u001b[0m\u001b[1m]\u001b[0m=\u001b[1;36m50\u001b[0m param\u001b[1m[\u001b[0m\u001b[32m'aexp'\u001b[0m\u001b[1m]\u001b[0m=\u001b[1;36m0.5714285714285714\u001b[0m z = \u001b[1;36m0.75\u001b[0m                                                       \n"
      ]
     },
     "metadata": {},
     "output_type": "display_data"
    },
    {
     "name": "stdout",
     "output_type": "stream",
     "text": [
      "EFT-reserr\n",
      "rese-xc-before: 0.10154172033071518\n",
      "EFT-reserr\n",
      "rese-xc-before: 0.07452691346406937\n",
      "EFT-reserr\n",
      "reserr: 0.038111887872219086\n",
      "EFT-reserr\n",
      "rese-xc-before: 0.10126043856143951\n",
      "EFT-reserr\n",
      "rese-xc-before: 0.07460062950849533\n",
      "EFT-reserr\n",
      "reserr: 0.039372652769088745\n",
      "EFT-reserr\n",
      "rese-xc-before: 0.10126042366027832\n",
      "EFT-reserr\n",
      "rese-xc-before: 0.07460062950849533\n",
      "EFT-reserr\n",
      "reserr: 0.0393737331032753\n",
      "EFT-reserr\n",
      "rese-xc-before: 0.10126043856143951\n",
      "EFT-reserr\n",
      "rese-xc-before: 0.07460062950849533\n",
      "EFT-reserr\n",
      "reserr: 0.03937368467450142\n",
      "EFT-reserr\n",
      "rese-xc-before: 0.10126044601202011\n",
      "EFT-reserr\n",
      "rese-xc-before: 0.07460063695907593\n",
      "EFT-reserr\n",
      "reserr: 0.03937336057424545\n",
      "EFT-reserr\n",
      "rese-xc-before: 0.10126043856143951\n",
      "EFT-reserr\n",
      "rese-xc-before: 0.07460063695907593\n",
      "EFT-reserr\n",
      "reserr: 0.039373546838760376\n",
      "EFT-reserr\n",
      "2.521568\n",
      "Step: 51 [0.00286524 0.02309565 0.00318592] [ 0.04467841  0.00810929 -0.01231698] [[ 3.2143707   1.2884159  -0.32417202 ... -0.7294197  -0.02278519\n",
      "   1.6108875 ]\n",
      " [ 3.9453278   1.801508   -0.13605976 ... -0.90644646  0.3662033\n",
      "   2.3509579 ]\n",
      " [ 3.918478    2.7226734   0.59407616 ... -0.68363     0.32749748\n",
      "   1.9536915 ]\n",
      " ...\n",
      " [-0.10741997 -0.6344118  -1.2501736  ... -0.75273705 -0.5256939\n",
      "  -0.1322937 ]\n",
      " [ 0.35347557 -0.2485075  -1.0771036  ... -0.58018684 -0.3950863\n",
      "   0.20049858]\n",
      " [ 1.2790546   0.16560268 -0.9164076  ... -0.5400181  -0.18852234\n",
      "   0.7789879 ]]\n"
     ]
    },
    {
     "data": {
      "text/html": [
       "<pre style=\"white-space:pre;overflow-x:auto;line-height:normal;font-family:Menlo,'DejaVu Sans Mono',consolas,'Courier New',monospace\">Snapshot written at <span style=\"color: #808000; text-decoration-color: #808000\">...</span><span style=\"color: #808000; text-decoration-color: #808000\">filename</span>=<span style=\"color: #008000; text-decoration-color: #008000\">'./small//output_00026/particles_eft_multigrid_ncoarse5.h5'</span>                        \n",
       "param<span style=\"font-weight: bold\">[</span><span style=\"color: #008000; text-decoration-color: #008000\">'aexp'</span><span style=\"font-weight: bold\">]</span>=<span style=\"color: #008080; text-decoration-color: #008080; font-weight: bold\">0.5882352941176471</span>                                                                                   \n",
       "</pre>\n"
      ],
      "text/plain": [
       "Snapshot written at \u001b[33m...\u001b[0m\u001b[33mfilename\u001b[0m=\u001b[32m'./small//output_00026/particles_eft_multigrid_ncoarse5.h5'\u001b[0m                        \n",
       "param\u001b[1m[\u001b[0m\u001b[32m'aexp'\u001b[0m\u001b[1m]\u001b[0m=\u001b[1;36m0.5882352941176471\u001b[0m                                                                                   \n"
      ]
     },
     "metadata": {},
     "output_type": "display_data"
    },
    {
     "data": {
      "text/html": [
       "<pre style=\"white-space:pre;overflow-x:auto;line-height:normal;font-family:Menlo,'DejaVu Sans Mono',consolas,'Courier New',monospace\">param<span style=\"font-weight: bold\">[</span><span style=\"color: #008000; text-decoration-color: #008000\">'nsteps'</span><span style=\"font-weight: bold\">]</span>=<span style=\"color: #008080; text-decoration-color: #008080; font-weight: bold\">51</span> param<span style=\"font-weight: bold\">[</span><span style=\"color: #008000; text-decoration-color: #008000\">'aexp'</span><span style=\"font-weight: bold\">]</span>=<span style=\"color: #008080; text-decoration-color: #008080; font-weight: bold\">0.5882352941176471</span> z = <span style=\"color: #008080; text-decoration-color: #008080; font-weight: bold\">0.7</span>                                                        \n",
       "</pre>\n"
      ],
      "text/plain": [
       "param\u001b[1m[\u001b[0m\u001b[32m'nsteps'\u001b[0m\u001b[1m]\u001b[0m=\u001b[1;36m51\u001b[0m param\u001b[1m[\u001b[0m\u001b[32m'aexp'\u001b[0m\u001b[1m]\u001b[0m=\u001b[1;36m0.5882352941176471\u001b[0m z = \u001b[1;36m0.7\u001b[0m                                                        \n"
      ]
     },
     "metadata": {},
     "output_type": "display_data"
    },
    {
     "name": "stdout",
     "output_type": "stream",
     "text": [
      "EFT-reserr\n",
      "rese-xc-before: 0.10910733044147491\n",
      "EFT-reserr\n",
      "rese-xc-before: 0.07973142713308334\n",
      "EFT-reserr\n",
      "reserr: 0.04160429164767265\n",
      "EFT-reserr\n",
      "rese-xc-before: 0.10881201177835464\n",
      "EFT-reserr\n",
      "rese-xc-before: 0.0798104777932167\n",
      "EFT-reserr\n",
      "reserr: 0.04291652888059616\n",
      "EFT-reserr\n",
      "rese-xc-before: 0.10881201177835464\n",
      "EFT-reserr\n",
      "rese-xc-before: 0.07981050759553909\n",
      "EFT-reserr\n",
      "reserr: 0.04291698709130287\n",
      "EFT-reserr\n",
      "rese-xc-before: 0.10881200432777405\n",
      "EFT-reserr\n",
      "rese-xc-before: 0.0798104926943779\n",
      "EFT-reserr\n",
      "reserr: 0.04291742295026779\n",
      "EFT-reserr\n",
      "rese-xc-before: 0.10881199687719345\n",
      "EFT-reserr\n",
      "rese-xc-before: 0.07981051504611969\n",
      "EFT-reserr\n",
      "reserr: 0.04291721433401108\n",
      "EFT-reserr\n",
      "rese-xc-before: 0.10881199687719345\n",
      "EFT-reserr\n",
      "rese-xc-before: 0.0798105001449585\n",
      "EFT-reserr\n",
      "reserr: 0.04291720688343048\n",
      "EFT-reserr\n",
      "2.2032871\n",
      "Step: 52 [0.0046347  0.02341869 0.00269769] [ 0.04700032  0.00863521 -0.01298035] [[ 3.4058876   1.164669   -0.40532494 ... -0.77036476  0.02028084\n",
      "   1.8526382 ]\n",
      " [ 4.2181625   1.7155323  -0.22350311 ... -0.9554634   0.4253807\n",
      "   2.622242  ]\n",
      " [ 4.2653427   2.7374058   0.48503494 ... -0.7151661   0.34114075\n",
      "   2.1141815 ]\n",
      " ...\n",
      " [-0.11406898 -0.71770763 -1.3264284  ... -0.79968834 -0.53294563\n",
      "  -0.13117027]\n",
      " [ 0.42669296 -0.31420517 -1.1414547  ... -0.59976006 -0.3736763\n",
      "   0.2691822 ]\n",
      " [ 1.3654118   0.05996895 -1.0067263  ... -0.56007767 -0.15614128\n",
      "   0.9190788 ]]\n"
     ]
    },
    {
     "data": {
      "text/html": [
       "<pre style=\"white-space:pre;overflow-x:auto;line-height:normal;font-family:Menlo,'DejaVu Sans Mono',consolas,'Courier New',monospace\">Snapshot written at <span style=\"color: #808000; text-decoration-color: #808000\">...</span><span style=\"color: #808000; text-decoration-color: #808000\">filename</span>=<span style=\"color: #008000; text-decoration-color: #008000\">'./small//output_00027/particles_eft_multigrid_ncoarse5.h5'</span>                        \n",
       "param<span style=\"font-weight: bold\">[</span><span style=\"color: #008000; text-decoration-color: #008000\">'aexp'</span><span style=\"font-weight: bold\">]</span>=<span style=\"color: #008080; text-decoration-color: #008080; font-weight: bold\">0.6060606060606061</span>                                                                                   \n",
       "</pre>\n"
      ],
      "text/plain": [
       "Snapshot written at \u001b[33m...\u001b[0m\u001b[33mfilename\u001b[0m=\u001b[32m'./small//output_00027/particles_eft_multigrid_ncoarse5.h5'\u001b[0m                        \n",
       "param\u001b[1m[\u001b[0m\u001b[32m'aexp'\u001b[0m\u001b[1m]\u001b[0m=\u001b[1;36m0.6060606060606061\u001b[0m                                                                                   \n"
      ]
     },
     "metadata": {},
     "output_type": "display_data"
    },
    {
     "data": {
      "text/html": [
       "<pre style=\"white-space:pre;overflow-x:auto;line-height:normal;font-family:Menlo,'DejaVu Sans Mono',consolas,'Courier New',monospace\">param<span style=\"font-weight: bold\">[</span><span style=\"color: #008000; text-decoration-color: #008000\">'nsteps'</span><span style=\"font-weight: bold\">]</span>=<span style=\"color: #008080; text-decoration-color: #008080; font-weight: bold\">52</span> param<span style=\"font-weight: bold\">[</span><span style=\"color: #008000; text-decoration-color: #008000\">'aexp'</span><span style=\"font-weight: bold\">]</span>=<span style=\"color: #008080; text-decoration-color: #008080; font-weight: bold\">0.6060606060606061</span> z = <span style=\"color: #008080; text-decoration-color: #008080; font-weight: bold\">0.6499999999999999</span>                                         \n",
       "</pre>\n"
      ],
      "text/plain": [
       "param\u001b[1m[\u001b[0m\u001b[32m'nsteps'\u001b[0m\u001b[1m]\u001b[0m=\u001b[1;36m52\u001b[0m param\u001b[1m[\u001b[0m\u001b[32m'aexp'\u001b[0m\u001b[1m]\u001b[0m=\u001b[1;36m0.6060606060606061\u001b[0m z = \u001b[1;36m0.6499999999999999\u001b[0m                                         \n"
      ]
     },
     "metadata": {},
     "output_type": "display_data"
    },
    {
     "name": "stdout",
     "output_type": "stream",
     "text": [
      "EFT-reserr\n",
      "rese-xc-before: 0.11752650886774063\n",
      "EFT-reserr\n",
      "rese-xc-before: 0.08547578752040863\n",
      "EFT-reserr\n",
      "reserr: 0.04534389451146126\n",
      "EFT-reserr\n",
      "rese-xc-before: 0.11721634119749069\n",
      "EFT-reserr\n",
      "rese-xc-before: 0.08556079119443893\n",
      "EFT-reserr\n",
      "reserr: 0.046709515154361725\n",
      "EFT-reserr\n",
      "rese-xc-before: 0.11721636354923248\n",
      "EFT-reserr\n",
      "rese-xc-before: 0.08556079119443893\n",
      "EFT-reserr\n",
      "reserr: 0.04670995473861694\n",
      "EFT-reserr\n",
      "rese-xc-before: 0.11721634119749069\n",
      "EFT-reserr\n",
      "rese-xc-before: 0.08556077629327774\n",
      "EFT-reserr\n",
      "reserr: 0.04670938476920128\n",
      "EFT-reserr\n",
      "rese-xc-before: 0.11721635609865189\n",
      "EFT-reserr\n",
      "rese-xc-before: 0.08556079119443893\n",
      "EFT-reserr\n",
      "reserr: 0.04670949652791023\n",
      "EFT-reserr\n",
      "rese-xc-before: 0.11721634864807129\n",
      "EFT-reserr\n",
      "rese-xc-before: 0.08556076884269714\n",
      "EFT-reserr\n",
      "reserr: 0.046709928661584854\n",
      "EFT-reserr\n",
      "2.5069592\n",
      "Step: 53 [0.00652606 0.02376831 0.00217487] [ 0.04952656  0.00921618 -0.01370381] [[ 3.5916348   1.0122013  -0.49049377 ... -0.8153038   0.07762146\n",
      "   2.1368198 ]\n",
      " [ 4.5004387   1.6026115  -0.31307793 ... -1.0073948   0.49191093\n",
      "   2.925354  ]\n",
      " [ 4.6637344   2.7324371   0.35202026 ... -0.7423229   0.35824585\n",
      "   2.3057728 ]\n",
      " ...\n",
      " [-0.11934662 -0.8064518  -1.4089746  ... -0.8512268  -0.5437641\n",
      "  -0.13563156]\n",
      " [ 0.5064068  -0.39486313 -1.2139015  ... -0.61929893 -0.3473091\n",
      "   0.3508377 ]\n",
      " [ 1.4466362  -0.06656837 -1.1033621  ... -0.5812378  -0.11232948\n",
      "   1.0871773 ]]\n"
     ]
    },
    {
     "data": {
      "text/html": [
       "<pre style=\"white-space:pre;overflow-x:auto;line-height:normal;font-family:Menlo,'DejaVu Sans Mono',consolas,'Courier New',monospace\">Snapshot written at <span style=\"color: #808000; text-decoration-color: #808000\">...</span><span style=\"color: #808000; text-decoration-color: #808000\">filename</span>=<span style=\"color: #008000; text-decoration-color: #008000\">'./small//output_00028/particles_eft_multigrid_ncoarse5.h5'</span> param<span style=\"font-weight: bold\">[</span><span style=\"color: #008000; text-decoration-color: #008000\">'aexp'</span><span style=\"font-weight: bold\">]</span>=<span style=\"color: #008080; text-decoration-color: #008080; font-weight: bold\">0.625</span>    \n",
       "</pre>\n"
      ],
      "text/plain": [
       "Snapshot written at \u001b[33m...\u001b[0m\u001b[33mfilename\u001b[0m=\u001b[32m'./small//output_00028/particles_eft_multigrid_ncoarse5.h5'\u001b[0m param\u001b[1m[\u001b[0m\u001b[32m'aexp'\u001b[0m\u001b[1m]\u001b[0m=\u001b[1;36m0.625\u001b[0m    \n"
      ]
     },
     "metadata": {},
     "output_type": "display_data"
    },
    {
     "data": {
      "text/html": [
       "<pre style=\"white-space:pre;overflow-x:auto;line-height:normal;font-family:Menlo,'DejaVu Sans Mono',consolas,'Courier New',monospace\">param<span style=\"font-weight: bold\">[</span><span style=\"color: #008000; text-decoration-color: #008000\">'nsteps'</span><span style=\"font-weight: bold\">]</span>=<span style=\"color: #008080; text-decoration-color: #008080; font-weight: bold\">53</span> param<span style=\"font-weight: bold\">[</span><span style=\"color: #008000; text-decoration-color: #008000\">'aexp'</span><span style=\"font-weight: bold\">]</span>=<span style=\"color: #008080; text-decoration-color: #008080; font-weight: bold\">0.625</span> z = <span style=\"color: #008080; text-decoration-color: #008080; font-weight: bold\">0.6000000000000001</span>                                                      \n",
       "</pre>\n"
      ],
      "text/plain": [
       "param\u001b[1m[\u001b[0m\u001b[32m'nsteps'\u001b[0m\u001b[1m]\u001b[0m=\u001b[1;36m53\u001b[0m param\u001b[1m[\u001b[0m\u001b[32m'aexp'\u001b[0m\u001b[1m]\u001b[0m=\u001b[1;36m0.625\u001b[0m z = \u001b[1;36m0.6000000000000001\u001b[0m                                                      \n"
      ]
     },
     "metadata": {},
     "output_type": "display_data"
    },
    {
     "name": "stdout",
     "output_type": "stream",
     "text": [
      "EFT-reserr\n",
      "rese-xc-before: 0.12691658735275269\n",
      "EFT-reserr\n",
      "rese-xc-before: 0.09183292090892792\n",
      "EFT-reserr\n",
      "reserr: 0.04935133084654808\n",
      "EFT-reserr\n",
      "rese-xc-before: 0.12659089267253876\n",
      "EFT-reserr\n",
      "rese-xc-before: 0.09192442148923874\n",
      "EFT-reserr\n",
      "reserr: 0.0507684201002121\n",
      "EFT-reserr\n",
      "rese-xc-before: 0.12659090757369995\n",
      "EFT-reserr\n",
      "rese-xc-before: 0.09192440658807755\n",
      "EFT-reserr\n",
      "reserr: 0.05076900124549866\n",
      "EFT-reserr\n",
      "rese-xc-before: 0.12659090757369995\n",
      "EFT-reserr\n",
      "rese-xc-before: 0.09192442148923874\n",
      "EFT-reserr\n",
      "reserr: 0.05076875165104866\n",
      "EFT-reserr\n",
      "rese-xc-before: 0.12659090757369995\n",
      "EFT-reserr\n",
      "rese-xc-before: 0.09192442893981934\n",
      "EFT-reserr\n",
      "reserr: 0.050769560039043427\n",
      "EFT-reserr\n",
      "rese-xc-before: 0.12659090757369995\n",
      "EFT-reserr\n",
      "rese-xc-before: 0.09192441403865814\n",
      "EFT-reserr\n",
      "reserr: 0.05076966434717178\n",
      "EFT-reserr\n",
      "2.5125055\n",
      "Step: 54 [0.00855223 0.02414776 0.00161371] [ 0.05228388  0.0098602  -0.01449581] [[ 3.7673225   0.8354931  -0.58384323 ... -0.8616829   0.15161133\n",
      "   2.4607162 ]\n",
      " [ 4.7979965   1.4558907  -0.40439606 ... -1.0561047   0.56132126\n",
      "   3.2617893 ]\n",
      " [ 5.128771    2.6742535   0.2079792  ... -0.761816    0.37806892\n",
      "   2.5409431 ]\n",
      " ...\n",
      " [-0.11174774 -0.90576935 -1.5030136  ... -0.9082966  -0.5595722\n",
      "  -0.14062881]\n",
      " [ 0.59025574 -0.49074554 -1.2970858  ... -0.63879776 -0.31526375\n",
      "   0.44934082]\n",
      " [ 1.5149708  -0.21005821 -1.2084093  ... -0.60352135 -0.05191231\n",
      "   1.2834148 ]]\n"
     ]
    },
    {
     "data": {
      "text/html": [
       "<pre style=\"white-space:pre;overflow-x:auto;line-height:normal;font-family:Menlo,'DejaVu Sans Mono',consolas,'Courier New',monospace\">Snapshot written at <span style=\"color: #808000; text-decoration-color: #808000\">...</span><span style=\"color: #808000; text-decoration-color: #808000\">filename</span>=<span style=\"color: #008000; text-decoration-color: #008000\">'./small//output_00029/particles_eft_multigrid_ncoarse5.h5'</span>                        \n",
       "param<span style=\"font-weight: bold\">[</span><span style=\"color: #008000; text-decoration-color: #008000\">'aexp'</span><span style=\"font-weight: bold\">]</span>=<span style=\"color: #008080; text-decoration-color: #008080; font-weight: bold\">0.6451612903225806</span>                                                                                   \n",
       "</pre>\n"
      ],
      "text/plain": [
       "Snapshot written at \u001b[33m...\u001b[0m\u001b[33mfilename\u001b[0m=\u001b[32m'./small//output_00029/particles_eft_multigrid_ncoarse5.h5'\u001b[0m                        \n",
       "param\u001b[1m[\u001b[0m\u001b[32m'aexp'\u001b[0m\u001b[1m]\u001b[0m=\u001b[1;36m0.6451612903225806\u001b[0m                                                                                   \n"
      ]
     },
     "metadata": {},
     "output_type": "display_data"
    },
    {
     "data": {
      "text/html": [
       "<pre style=\"white-space:pre;overflow-x:auto;line-height:normal;font-family:Menlo,'DejaVu Sans Mono',consolas,'Courier New',monospace\">param<span style=\"font-weight: bold\">[</span><span style=\"color: #008000; text-decoration-color: #008000\">'nsteps'</span><span style=\"font-weight: bold\">]</span>=<span style=\"color: #008080; text-decoration-color: #008080; font-weight: bold\">54</span> param<span style=\"font-weight: bold\">[</span><span style=\"color: #008000; text-decoration-color: #008000\">'aexp'</span><span style=\"font-weight: bold\">]</span>=<span style=\"color: #008080; text-decoration-color: #008080; font-weight: bold\">0.6451612903225806</span> z = <span style=\"color: #008080; text-decoration-color: #008080; font-weight: bold\">0.55</span>                                                       \n",
       "</pre>\n"
      ],
      "text/plain": [
       "param\u001b[1m[\u001b[0m\u001b[32m'nsteps'\u001b[0m\u001b[1m]\u001b[0m=\u001b[1;36m54\u001b[0m param\u001b[1m[\u001b[0m\u001b[32m'aexp'\u001b[0m\u001b[1m]\u001b[0m=\u001b[1;36m0.6451612903225806\u001b[0m z = \u001b[1;36m0.55\u001b[0m                                                       \n"
      ]
     },
     "metadata": {},
     "output_type": "display_data"
    },
    {
     "name": "stdout",
     "output_type": "stream",
     "text": [
      "EFT-reserr\n",
      "rese-xc-before: 0.13740453124046326\n",
      "EFT-reserr\n",
      "rese-xc-before: 0.09887868911027908\n",
      "EFT-reserr\n",
      "reserr: 0.0535505972802639\n",
      "EFT-reserr\n",
      "rese-xc-before: 0.13706263899803162\n",
      "EFT-reserr\n",
      "rese-xc-before: 0.09897737205028534\n",
      "EFT-reserr\n",
      "reserr: 0.05501982197165489\n",
      "EFT-reserr\n",
      "rese-xc-before: 0.1370626538991928\n",
      "EFT-reserr\n",
      "rese-xc-before: 0.09897737205028534\n",
      "EFT-reserr\n",
      "reserr: 0.0550200529396534\n",
      "EFT-reserr\n",
      "rese-xc-before: 0.13706263899803162\n",
      "EFT-reserr\n",
      "rese-xc-before: 0.09897735714912415\n",
      "EFT-reserr\n",
      "reserr: 0.055020369589328766\n",
      "EFT-reserr\n",
      "rese-xc-before: 0.13706263899803162\n",
      "EFT-reserr\n",
      "rese-xc-before: 0.09897735714912415\n",
      "EFT-reserr\n",
      "reserr: 0.055020347237586975\n",
      "EFT-reserr\n",
      "rese-xc-before: 0.13706263899803162\n",
      "EFT-reserr\n",
      "rese-xc-before: 0.09897734969854355\n",
      "EFT-reserr\n",
      "reserr: 0.05502067878842354\n",
      "EFT-reserr\n",
      "2.5044053\n",
      "Step: 55 [0.01072802 0.02456084 0.00100985] [ 0.05530352  0.01057687 -0.01536612] [[ 3.9203491   0.63680077 -0.6906376  ... -0.9097004   0.24866295\n",
      "   2.825695  ]\n",
      " [ 5.116888    1.278017   -0.4995823  ... -1.09379     0.64110756\n",
      "   3.6457329 ]\n",
      " [ 5.671856    2.5601196   0.06672478 ... -0.77074623  0.40330887\n",
      "   2.8393135 ]\n",
      " ...\n",
      " [-0.09295654 -1.0176277  -1.6112671  ... -0.97229385 -0.58132553\n",
      "  -0.13255692]\n",
      " [ 0.67339325 -0.6017685  -1.3941908  ... -0.65829086 -0.27591324\n",
      "   0.5679321 ]\n",
      " [ 1.5656109  -0.3702736  -1.3233728  ... -0.6276169   0.03044891\n",
      "   1.5106411 ]]\n"
     ]
    },
    {
     "data": {
      "text/html": [
       "<pre style=\"white-space:pre;overflow-x:auto;line-height:normal;font-family:Menlo,'DejaVu Sans Mono',consolas,'Courier New',monospace\">Snapshot written at <span style=\"color: #808000; text-decoration-color: #808000\">...</span><span style=\"color: #808000; text-decoration-color: #808000\">filename</span>=<span style=\"color: #008000; text-decoration-color: #008000\">'./small//output_00030/particles_eft_multigrid_ncoarse5.h5'</span>                        \n",
       "param<span style=\"font-weight: bold\">[</span><span style=\"color: #008000; text-decoration-color: #008000\">'aexp'</span><span style=\"font-weight: bold\">]</span>=<span style=\"color: #008080; text-decoration-color: #008080; font-weight: bold\">0.6666666666666666</span>                                                                                   \n",
       "</pre>\n"
      ],
      "text/plain": [
       "Snapshot written at \u001b[33m...\u001b[0m\u001b[33mfilename\u001b[0m=\u001b[32m'./small//output_00030/particles_eft_multigrid_ncoarse5.h5'\u001b[0m                        \n",
       "param\u001b[1m[\u001b[0m\u001b[32m'aexp'\u001b[0m\u001b[1m]\u001b[0m=\u001b[1;36m0.6666666666666666\u001b[0m                                                                                   \n"
      ]
     },
     "metadata": {},
     "output_type": "display_data"
    },
    {
     "data": {
      "text/html": [
       "<pre style=\"white-space:pre;overflow-x:auto;line-height:normal;font-family:Menlo,'DejaVu Sans Mono',consolas,'Courier New',monospace\">param<span style=\"font-weight: bold\">[</span><span style=\"color: #008000; text-decoration-color: #008000\">'nsteps'</span><span style=\"font-weight: bold\">]</span>=<span style=\"color: #008080; text-decoration-color: #008080; font-weight: bold\">55</span> param<span style=\"font-weight: bold\">[</span><span style=\"color: #008000; text-decoration-color: #008000\">'aexp'</span><span style=\"font-weight: bold\">]</span>=<span style=\"color: #008080; text-decoration-color: #008080; font-weight: bold\">0.6666666666666666</span> z = <span style=\"color: #008080; text-decoration-color: #008080; font-weight: bold\">0.5</span>                                                        \n",
       "</pre>\n"
      ],
      "text/plain": [
       "param\u001b[1m[\u001b[0m\u001b[32m'nsteps'\u001b[0m\u001b[1m]\u001b[0m=\u001b[1;36m55\u001b[0m param\u001b[1m[\u001b[0m\u001b[32m'aexp'\u001b[0m\u001b[1m]\u001b[0m=\u001b[1;36m0.6666666666666666\u001b[0m z = \u001b[1;36m0.5\u001b[0m                                                        \n"
      ]
     },
     "metadata": {},
     "output_type": "display_data"
    },
    {
     "name": "stdout",
     "output_type": "stream",
     "text": [
      "EFT-reserr\n",
      "rese-xc-before: 0.14915454387664795\n",
      "EFT-reserr\n",
      "rese-xc-before: 0.10671771317720413\n",
      "EFT-reserr\n",
      "reserr: 0.05801363289356232\n",
      "EFT-reserr\n",
      "rese-xc-before: 0.14879558980464935\n",
      "EFT-reserr\n",
      "rese-xc-before: 0.10682442039251328\n",
      "EFT-reserr\n",
      "reserr: 0.05953267961740494\n",
      "EFT-reserr\n",
      "rese-xc-before: 0.14879560470581055\n",
      "EFT-reserr\n",
      "rese-xc-before: 0.10682444274425507\n",
      "EFT-reserr\n",
      "reserr: 0.05953416973352432\n",
      "EFT-reserr\n",
      "rese-xc-before: 0.14879560470581055\n",
      "EFT-reserr\n",
      "rese-xc-before: 0.10682442039251328\n",
      "EFT-reserr\n",
      "reserr: 0.05953337624669075\n",
      "EFT-reserr\n",
      "rese-xc-before: 0.14879560470581055\n",
      "EFT-reserr\n",
      "rese-xc-before: 0.10682445019483566\n",
      "EFT-reserr\n",
      "reserr: 0.059532858431339264\n",
      "EFT-reserr\n",
      "rese-xc-before: 0.14879560470581055\n",
      "EFT-reserr\n",
      "rese-xc-before: 0.10682442784309387\n",
      "EFT-reserr\n",
      "reserr: 0.05953385308384895\n",
      "EFT-reserr\n",
      "2.5028412\n",
      "Step: 56 [0.01307052 0.02501199 0.00035828] [ 0.05862201  0.01137813 -0.01632616] [[ 4.0434895   0.41691017 -0.8149071  ... -0.9590149   0.37625504\n",
      "   3.242113  ]\n",
      " [ 5.4600353   1.0740108  -0.60233307 ... -1.1210403   0.74230385\n",
      "   4.10956   ]\n",
      " [ 6.270916    2.390316   -0.06575012 ... -0.7725868   0.44617653\n",
      "   3.2155018 ]\n",
      " ...\n",
      " [-0.07232666 -1.143507   -1.7355652  ... -1.0454826  -0.60988426\n",
      "  -0.10066032]\n",
      " [ 0.7501373  -0.7261696  -1.506217   ... -0.6782818  -0.22733307\n",
      "   0.7181301 ]\n",
      " [ 1.5919323  -0.54426384 -1.4493456  ... -0.6553478   0.13814735\n",
      "   1.7750263 ]]\n"
     ]
    },
    {
     "data": {
      "text/html": [
       "<pre style=\"white-space:pre;overflow-x:auto;line-height:normal;font-family:Menlo,'DejaVu Sans Mono',consolas,'Courier New',monospace\">Snapshot written at <span style=\"color: #808000; text-decoration-color: #808000\">...</span><span style=\"color: #808000; text-decoration-color: #808000\">filename</span>=<span style=\"color: #008000; text-decoration-color: #008000\">'./small//output_00031/particles_eft_multigrid_ncoarse5.h5'</span>                        \n",
       "param<span style=\"font-weight: bold\">[</span><span style=\"color: #008000; text-decoration-color: #008000\">'aexp'</span><span style=\"font-weight: bold\">]</span>=<span style=\"color: #008080; text-decoration-color: #008080; font-weight: bold\">0.6896551724137931</span>                                                                                   \n",
       "</pre>\n"
      ],
      "text/plain": [
       "Snapshot written at \u001b[33m...\u001b[0m\u001b[33mfilename\u001b[0m=\u001b[32m'./small//output_00031/particles_eft_multigrid_ncoarse5.h5'\u001b[0m                        \n",
       "param\u001b[1m[\u001b[0m\u001b[32m'aexp'\u001b[0m\u001b[1m]\u001b[0m=\u001b[1;36m0.6896551724137931\u001b[0m                                                                                   \n"
      ]
     },
     "metadata": {},
     "output_type": "display_data"
    },
    {
     "data": {
      "text/html": [
       "<pre style=\"white-space:pre;overflow-x:auto;line-height:normal;font-family:Menlo,'DejaVu Sans Mono',consolas,'Courier New',monospace\">param<span style=\"font-weight: bold\">[</span><span style=\"color: #008000; text-decoration-color: #008000\">'nsteps'</span><span style=\"font-weight: bold\">]</span>=<span style=\"color: #008080; text-decoration-color: #008080; font-weight: bold\">56</span> param<span style=\"font-weight: bold\">[</span><span style=\"color: #008000; text-decoration-color: #008000\">'aexp'</span><span style=\"font-weight: bold\">]</span>=<span style=\"color: #008080; text-decoration-color: #008080; font-weight: bold\">0.6896551724137931</span> z = <span style=\"color: #008080; text-decoration-color: #008080; font-weight: bold\">0.44999999999999996</span>                                        \n",
       "</pre>\n"
      ],
      "text/plain": [
       "param\u001b[1m[\u001b[0m\u001b[32m'nsteps'\u001b[0m\u001b[1m]\u001b[0m=\u001b[1;36m56\u001b[0m param\u001b[1m[\u001b[0m\u001b[32m'aexp'\u001b[0m\u001b[1m]\u001b[0m=\u001b[1;36m0.6896551724137931\u001b[0m z = \u001b[1;36m0.44999999999999996\u001b[0m                                        \n"
      ]
     },
     "metadata": {},
     "output_type": "display_data"
    },
    {
     "name": "stdout",
     "output_type": "stream",
     "text": [
      "EFT-reserr\n",
      "rese-xc-before: 0.16236577928066254\n",
      "EFT-reserr\n",
      "rese-xc-before: 0.11548478901386261\n",
      "EFT-reserr\n",
      "reserr: 0.0628092885017395\n",
      "EFT-reserr\n",
      "rese-xc-before: 0.1619887799024582\n",
      "EFT-reserr\n",
      "rese-xc-before: 0.11560052633285522\n",
      "EFT-reserr\n",
      "reserr: 0.06438005715608597\n",
      "EFT-reserr\n",
      "rese-xc-before: 0.16198880970478058\n",
      "EFT-reserr\n",
      "rese-xc-before: 0.11560054123401642\n",
      "EFT-reserr\n",
      "reserr: 0.06438086181879044\n",
      "EFT-reserr\n",
      "rese-xc-before: 0.16198880970478058\n",
      "EFT-reserr\n",
      "rese-xc-before: 0.11560051888227463\n",
      "EFT-reserr\n",
      "reserr: 0.06438108533620834\n",
      "EFT-reserr\n",
      "rese-xc-before: 0.16198879480361938\n",
      "EFT-reserr\n",
      "rese-xc-before: 0.11560054123401642\n",
      "EFT-reserr\n",
      "reserr: 0.0643806979060173\n",
      "EFT-reserr\n",
      "rese-xc-before: 0.16198880970478058\n",
      "EFT-reserr\n",
      "rese-xc-before: 0.1156005710363388\n",
      "EFT-reserr\n",
      "reserr: 0.06438057869672775\n",
      "EFT-reserr\n",
      "2.4980288\n",
      "Step: 57 [0.01559953 0.02550649 0.9996531 ] [ 0.06228231  0.01227857 -0.01738956] [[ 4.1300793   0.17649269 -0.9602127  ... -1.0066185   0.5422058\n",
      "   3.7317047 ]\n",
      " [ 5.8170166   0.835022   -0.72203064 ... -1.1347809   0.8740654\n",
      "   4.6889114 ]\n",
      " [ 6.8809776   2.1717167  -0.19147682 ... -0.7648525   0.5156994\n",
      "   3.662632  ]\n",
      " ...\n",
      " [-0.063694   -1.2849331  -1.8764725  ... -1.1297169  -0.63819695\n",
      "  -0.03070831]\n",
      " [ 0.81316185 -0.8646107  -1.6349354  ... -0.70189285 -0.16423607\n",
      "   0.9038868 ]\n",
      " [ 1.5911674  -0.72971535 -1.5874557  ... -0.689476    0.27407265\n",
      "   2.0779572 ]]\n"
     ]
    },
    {
     "data": {
      "text/html": [
       "<pre style=\"white-space:pre;overflow-x:auto;line-height:normal;font-family:Menlo,'DejaVu Sans Mono',consolas,'Courier New',monospace\">Snapshot written at <span style=\"color: #808000; text-decoration-color: #808000\">...</span><span style=\"color: #808000; text-decoration-color: #808000\">filename</span>=<span style=\"color: #008000; text-decoration-color: #008000\">'./small//output_00032/particles_eft_multigrid_ncoarse5.h5'</span>                        \n",
       "param<span style=\"font-weight: bold\">[</span><span style=\"color: #008000; text-decoration-color: #008000\">'aexp'</span><span style=\"font-weight: bold\">]</span>=<span style=\"color: #008080; text-decoration-color: #008080; font-weight: bold\">0.7142857142857143</span>                                                                                   \n",
       "</pre>\n"
      ],
      "text/plain": [
       "Snapshot written at \u001b[33m...\u001b[0m\u001b[33mfilename\u001b[0m=\u001b[32m'./small//output_00032/particles_eft_multigrid_ncoarse5.h5'\u001b[0m                        \n",
       "param\u001b[1m[\u001b[0m\u001b[32m'aexp'\u001b[0m\u001b[1m]\u001b[0m=\u001b[1;36m0.7142857142857143\u001b[0m                                                                                   \n"
      ]
     },
     "metadata": {},
     "output_type": "display_data"
    },
    {
     "data": {
      "text/html": [
       "<pre style=\"white-space:pre;overflow-x:auto;line-height:normal;font-family:Menlo,'DejaVu Sans Mono',consolas,'Courier New',monospace\">param<span style=\"font-weight: bold\">[</span><span style=\"color: #008000; text-decoration-color: #008000\">'nsteps'</span><span style=\"font-weight: bold\">]</span>=<span style=\"color: #008080; text-decoration-color: #008080; font-weight: bold\">57</span> param<span style=\"font-weight: bold\">[</span><span style=\"color: #008000; text-decoration-color: #008000\">'aexp'</span><span style=\"font-weight: bold\">]</span>=<span style=\"color: #008080; text-decoration-color: #008080; font-weight: bold\">0.7142857142857143</span> z = <span style=\"color: #008080; text-decoration-color: #008080; font-weight: bold\">0.3999999999999999</span>                                         \n",
       "</pre>\n"
      ],
      "text/plain": [
       "param\u001b[1m[\u001b[0m\u001b[32m'nsteps'\u001b[0m\u001b[1m]\u001b[0m=\u001b[1;36m57\u001b[0m param\u001b[1m[\u001b[0m\u001b[32m'aexp'\u001b[0m\u001b[1m]\u001b[0m=\u001b[1;36m0.7142857142857143\u001b[0m z = \u001b[1;36m0.3999999999999999\u001b[0m                                         \n"
      ]
     },
     "metadata": {},
     "output_type": "display_data"
    },
    {
     "name": "stdout",
     "output_type": "stream",
     "text": [
      "EFT-reserr\n",
      "rese-xc-before: 0.1772756427526474\n",
      "EFT-reserr\n",
      "rese-xc-before: 0.12533389031887054\n",
      "EFT-reserr\n",
      "reserr: 0.06803472340106964\n",
      "EFT-reserr\n",
      "rese-xc-before: 0.17687933146953583\n",
      "EFT-reserr\n",
      "rese-xc-before: 0.12546004354953766\n",
      "EFT-reserr\n",
      "reserr: 0.06967078894376755\n",
      "EFT-reserr\n",
      "rese-xc-before: 0.17687933146953583\n",
      "EFT-reserr\n",
      "rese-xc-before: 0.12546005845069885\n",
      "EFT-reserr\n",
      "reserr: 0.06967122107744217\n",
      "EFT-reserr\n",
      "rese-xc-before: 0.1768793761730194\n",
      "EFT-reserr\n",
      "rese-xc-before: 0.12546001374721527\n",
      "EFT-reserr\n",
      "reserr: 0.06967099756002426\n",
      "EFT-reserr\n",
      "rese-xc-before: 0.17687934637069702\n",
      "EFT-reserr\n",
      "rese-xc-before: 0.12546004354953766\n",
      "EFT-reserr\n",
      "reserr: 0.06967046111822128\n",
      "EFT-reserr\n",
      "rese-xc-before: 0.17687934637069702\n",
      "EFT-reserr\n",
      "rese-xc-before: 0.12546002864837646\n",
      "EFT-reserr\n",
      "reserr: 0.0696713998913765\n",
      "EFT-reserr\n",
      "2.502955\n",
      "Step: 58 [0.01833808 0.02605061 0.9988875 ] [ 0.06633499  0.01329529 -0.01857325] [[ 4.164654   -0.08374596 -1.127037   ... -1.0408707   0.75387955\n",
      "   4.3168983 ]\n",
      " [ 6.1206474   0.5501118  -0.8701935  ... -1.1323776   1.0519218\n",
      "   5.394989  ]\n",
      " [ 7.4840393   1.9154663  -0.30711365 ... -0.74158096  0.62005615\n",
      "   4.158684  ]\n",
      " ...\n",
      " [-0.08053398 -1.4426689  -2.0354862  ... -1.2176056  -0.6495857\n",
      "   0.08819962]\n",
      " [ 0.8526802  -1.01865    -1.7828369  ... -0.7292328  -0.0803833\n",
      "   1.1312656 ]\n",
      " [ 1.5541496  -0.925436   -1.7382812  ... -0.7218132   0.43990326\n",
      "   2.4115028 ]]\n"
     ]
    },
    {
     "data": {
      "text/html": [
       "<pre style=\"white-space:pre;overflow-x:auto;line-height:normal;font-family:Menlo,'DejaVu Sans Mono',consolas,'Courier New',monospace\">Snapshot written at <span style=\"color: #808000; text-decoration-color: #808000\">...</span><span style=\"color: #808000; text-decoration-color: #808000\">filename</span>=<span style=\"color: #008000; text-decoration-color: #008000\">'./small//output_00033/particles_eft_multigrid_ncoarse5.h5'</span>                        \n",
       "param<span style=\"font-weight: bold\">[</span><span style=\"color: #008000; text-decoration-color: #008000\">'aexp'</span><span style=\"font-weight: bold\">]</span>=<span style=\"color: #008080; text-decoration-color: #008080; font-weight: bold\">0.7407407407407407</span>                                                                                   \n",
       "</pre>\n"
      ],
      "text/plain": [
       "Snapshot written at \u001b[33m...\u001b[0m\u001b[33mfilename\u001b[0m=\u001b[32m'./small//output_00033/particles_eft_multigrid_ncoarse5.h5'\u001b[0m                        \n",
       "param\u001b[1m[\u001b[0m\u001b[32m'aexp'\u001b[0m\u001b[1m]\u001b[0m=\u001b[1;36m0.7407407407407407\u001b[0m                                                                                   \n"
      ]
     },
     "metadata": {},
     "output_type": "display_data"
    },
    {
     "data": {
      "text/html": [
       "<pre style=\"white-space:pre;overflow-x:auto;line-height:normal;font-family:Menlo,'DejaVu Sans Mono',consolas,'Courier New',monospace\">param<span style=\"font-weight: bold\">[</span><span style=\"color: #008000; text-decoration-color: #008000\">'nsteps'</span><span style=\"font-weight: bold\">]</span>=<span style=\"color: #008080; text-decoration-color: #008080; font-weight: bold\">58</span> param<span style=\"font-weight: bold\">[</span><span style=\"color: #008000; text-decoration-color: #008000\">'aexp'</span><span style=\"font-weight: bold\">]</span>=<span style=\"color: #008080; text-decoration-color: #008080; font-weight: bold\">0.7407407407407407</span> z = <span style=\"color: #008080; text-decoration-color: #008080; font-weight: bold\">0.3500000000000001</span>                                         \n",
       "</pre>\n"
      ],
      "text/plain": [
       "param\u001b[1m[\u001b[0m\u001b[32m'nsteps'\u001b[0m\u001b[1m]\u001b[0m=\u001b[1;36m58\u001b[0m param\u001b[1m[\u001b[0m\u001b[32m'aexp'\u001b[0m\u001b[1m]\u001b[0m=\u001b[1;36m0.7407407407407407\u001b[0m z = \u001b[1;36m0.3500000000000001\u001b[0m                                         \n"
      ]
     },
     "metadata": {},
     "output_type": "display_data"
    },
    {
     "name": "stdout",
     "output_type": "stream",
     "text": [
      "EFT-reserr\n",
      "rese-xc-before: 0.194149911403656\n",
      "EFT-reserr\n",
      "rese-xc-before: 0.1364315003156662\n",
      "EFT-reserr\n",
      "reserr: 0.07364960759878159\n",
      "EFT-reserr\n",
      "rese-xc-before: 0.19373252987861633\n",
      "EFT-reserr\n",
      "rese-xc-before: 0.13656970858573914\n",
      "EFT-reserr\n",
      "reserr: 0.07535848021507263\n",
      "EFT-reserr\n",
      "rese-xc-before: 0.19373254477977753\n",
      "EFT-reserr\n",
      "rese-xc-before: 0.13656973838806152\n",
      "EFT-reserr\n",
      "reserr: 0.07535894215106964\n",
      "EFT-reserr\n",
      "rese-xc-before: 0.19373257458209991\n",
      "EFT-reserr\n",
      "rese-xc-before: 0.13656973838806152\n",
      "EFT-reserr\n",
      "reserr: 0.0753583163022995\n",
      "EFT-reserr\n",
      "rese-xc-before: 0.19373255968093872\n",
      "EFT-reserr\n",
      "rese-xc-before: 0.13656975328922272\n",
      "EFT-reserr\n",
      "reserr: 0.07535791397094727\n",
      "EFT-reserr\n",
      "rese-xc-before: 0.19373255968093872\n",
      "EFT-reserr\n",
      "rese-xc-before: 0.13656973838806152\n",
      "EFT-reserr\n",
      "reserr: 0.07535848021507263\n",
      "EFT-reserr\n",
      "2.544383\n",
      "Step: 59 [0.02131311 0.02665182 0.9980533 ] [ 0.07083936  0.01444807 -0.01989804] [[ 4.124508   -0.34638786 -1.3101902  ... -1.0512543   1.026268\n",
      "   5.0109406 ]\n",
      " [ 6.3451996   0.27877045 -1.0310459  ... -1.1087494   1.2880173\n",
      "   6.2137947 ]\n",
      " [ 8.036934    1.6137543  -0.41246223 ... -0.6834526   0.75668716\n",
      "   4.705082  ]\n",
      " ...\n",
      " [-0.13483429 -1.6166725  -2.2092018  ... -1.2989349  -0.6277847\n",
      "   0.25421143]\n",
      " [ 0.8594227  -1.1918926  -1.9537907  ... -0.7579689   0.04247284\n",
      "   1.4193077 ]\n",
      " [ 1.4719658  -1.1293964  -1.9042912  ... -0.7386818   0.65097046\n",
      "   2.793789  ]]\n"
     ]
    },
    {
     "data": {
      "text/html": [
       "<pre style=\"white-space:pre;overflow-x:auto;line-height:normal;font-family:Menlo,'DejaVu Sans Mono',consolas,'Courier New',monospace\">Snapshot written at <span style=\"color: #808000; text-decoration-color: #808000\">...</span><span style=\"color: #808000; text-decoration-color: #808000\">filename</span>=<span style=\"color: #008000; text-decoration-color: #008000\">'./small//output_00034/particles_eft_multigrid_ncoarse5.h5'</span>                        \n",
       "param<span style=\"font-weight: bold\">[</span><span style=\"color: #008000; text-decoration-color: #008000\">'aexp'</span><span style=\"font-weight: bold\">]</span>=<span style=\"color: #008080; text-decoration-color: #008080; font-weight: bold\">0.7692307692307692</span>                                                                                   \n",
       "</pre>\n"
      ],
      "text/plain": [
       "Snapshot written at \u001b[33m...\u001b[0m\u001b[33mfilename\u001b[0m=\u001b[32m'./small//output_00034/particles_eft_multigrid_ncoarse5.h5'\u001b[0m                        \n",
       "param\u001b[1m[\u001b[0m\u001b[32m'aexp'\u001b[0m\u001b[1m]\u001b[0m=\u001b[1;36m0.7692307692307692\u001b[0m                                                                                   \n"
      ]
     },
     "metadata": {},
     "output_type": "display_data"
    },
    {
     "data": {
      "text/html": [
       "<pre style=\"white-space:pre;overflow-x:auto;line-height:normal;font-family:Menlo,'DejaVu Sans Mono',consolas,'Courier New',monospace\">param<span style=\"font-weight: bold\">[</span><span style=\"color: #008000; text-decoration-color: #008000\">'nsteps'</span><span style=\"font-weight: bold\">]</span>=<span style=\"color: #008080; text-decoration-color: #008080; font-weight: bold\">59</span> param<span style=\"font-weight: bold\">[</span><span style=\"color: #008000; text-decoration-color: #008000\">'aexp'</span><span style=\"font-weight: bold\">]</span>=<span style=\"color: #008080; text-decoration-color: #008080; font-weight: bold\">0.7692307692307692</span> z = <span style=\"color: #008080; text-decoration-color: #008080; font-weight: bold\">0.30000000000000004</span>                                        \n",
       "</pre>\n"
      ],
      "text/plain": [
       "param\u001b[1m[\u001b[0m\u001b[32m'nsteps'\u001b[0m\u001b[1m]\u001b[0m=\u001b[1;36m59\u001b[0m param\u001b[1m[\u001b[0m\u001b[32m'aexp'\u001b[0m\u001b[1m]\u001b[0m=\u001b[1;36m0.7692307692307692\u001b[0m z = \u001b[1;36m0.30000000000000004\u001b[0m                                        \n"
      ]
     },
     "metadata": {},
     "output_type": "display_data"
    },
    {
     "name": "stdout",
     "output_type": "stream",
     "text": [
      "EFT-reserr\n",
      "rese-xc-before: 0.21331046521663666\n",
      "EFT-reserr\n",
      "rese-xc-before: 0.14895938336849213\n",
      "EFT-reserr\n",
      "reserr: 0.07961773872375488\n",
      "EFT-reserr\n",
      "rese-xc-before: 0.21287059783935547\n",
      "EFT-reserr\n",
      "rese-xc-before: 0.14911164343357086\n",
      "EFT-reserr\n",
      "reserr: 0.08140446245670319\n",
      "EFT-reserr\n",
      "rese-xc-before: 0.21287064254283905\n",
      "EFT-reserr\n",
      "rese-xc-before: 0.14911161363124847\n",
      "EFT-reserr\n",
      "reserr: 0.08140529692173004\n",
      "EFT-reserr\n",
      "rese-xc-before: 0.21287064254283905\n",
      "EFT-reserr\n",
      "rese-xc-before: 0.14911164343357086\n",
      "EFT-reserr\n",
      "reserr: 0.08140455186367035\n",
      "EFT-reserr\n",
      "rese-xc-before: 0.21287062764167786\n",
      "EFT-reserr\n",
      "rese-xc-before: 0.14911161363124847\n",
      "EFT-reserr\n",
      "reserr: 0.08140634000301361\n",
      "EFT-reserr\n",
      "rese-xc-before: 0.21287065744400024\n",
      "EFT-reserr\n",
      "rese-xc-before: 0.14911164343357086\n",
      "EFT-reserr\n",
      "reserr: 0.08140507340431213\n",
      "EFT-reserr\n",
      "2.5256858\n",
      "Step: 60 [0.02455626 0.02731906 0.9971408 ] [ 0.07586632  0.0157605  -0.0213888 ] [[ 3.9384155  -0.62179756 -1.5164909  ... -1.0236359   1.3840675\n",
      "   5.7830315 ]\n",
      " [ 6.488415    0.04948425 -1.1548939  ... -1.0538597   1.5718117\n",
      "   7.0794144 ]\n",
      " [ 8.499153    1.2813377  -0.51397324 ... -0.56290436  0.9353714\n",
      "   5.321312  ]\n",
      " ...\n",
      " [-0.22486877 -1.809042   -2.3945293  ... -1.364254   -0.5532341\n",
      "   0.45480728]\n",
      " [ 0.82683563 -1.3948689  -2.1520653  ... -0.7751312   0.22327423\n",
      "   1.7645073 ]\n",
      " [ 1.3418388  -1.3414173  -2.095335   ... -0.7229576   0.93987274\n",
      "   3.2400055 ]]\n"
     ]
    },
    {
     "data": {
      "text/html": [
       "<pre style=\"white-space:pre;overflow-x:auto;line-height:normal;font-family:Menlo,'DejaVu Sans Mono',consolas,'Courier New',monospace\">Snapshot written at <span style=\"color: #808000; text-decoration-color: #808000\">...</span><span style=\"color: #808000; text-decoration-color: #808000\">filename</span>=<span style=\"color: #008000; text-decoration-color: #008000\">'./small//output_00035/particles_eft_multigrid_ncoarse5.h5'</span> param<span style=\"font-weight: bold\">[</span><span style=\"color: #008000; text-decoration-color: #008000\">'aexp'</span><span style=\"font-weight: bold\">]</span>=<span style=\"color: #008080; text-decoration-color: #008080; font-weight: bold\">0.8</span>      \n",
       "</pre>\n"
      ],
      "text/plain": [
       "Snapshot written at \u001b[33m...\u001b[0m\u001b[33mfilename\u001b[0m=\u001b[32m'./small//output_00035/particles_eft_multigrid_ncoarse5.h5'\u001b[0m param\u001b[1m[\u001b[0m\u001b[32m'aexp'\u001b[0m\u001b[1m]\u001b[0m=\u001b[1;36m0.8\u001b[0m      \n"
      ]
     },
     "metadata": {},
     "output_type": "display_data"
    },
    {
     "data": {
      "text/html": [
       "<pre style=\"white-space:pre;overflow-x:auto;line-height:normal;font-family:Menlo,'DejaVu Sans Mono',consolas,'Courier New',monospace\">param<span style=\"font-weight: bold\">[</span><span style=\"color: #008000; text-decoration-color: #008000\">'nsteps'</span><span style=\"font-weight: bold\">]</span>=<span style=\"color: #008080; text-decoration-color: #008080; font-weight: bold\">60</span> param<span style=\"font-weight: bold\">[</span><span style=\"color: #008000; text-decoration-color: #008000\">'aexp'</span><span style=\"font-weight: bold\">]</span>=<span style=\"color: #008080; text-decoration-color: #008080; font-weight: bold\">0.8</span> z = <span style=\"color: #008080; text-decoration-color: #008080; font-weight: bold\">0.25</span>                                                                      \n",
       "</pre>\n"
      ],
      "text/plain": [
       "param\u001b[1m[\u001b[0m\u001b[32m'nsteps'\u001b[0m\u001b[1m]\u001b[0m=\u001b[1;36m60\u001b[0m param\u001b[1m[\u001b[0m\u001b[32m'aexp'\u001b[0m\u001b[1m]\u001b[0m=\u001b[1;36m0.8\u001b[0m z = \u001b[1;36m0.25\u001b[0m                                                                      \n"
      ]
     },
     "metadata": {},
     "output_type": "display_data"
    },
    {
     "name": "stdout",
     "output_type": "stream",
     "text": [
      "EFT-reserr\n",
      "rese-xc-before: 0.23507177829742432\n",
      "EFT-reserr\n",
      "rese-xc-before: 0.16310742497444153\n",
      "EFT-reserr\n",
      "reserr: 0.08616787940263748\n",
      "EFT-reserr\n",
      "rese-xc-before: 0.23460914194583893\n",
      "EFT-reserr\n",
      "rese-xc-before: 0.1632758229970932\n",
      "EFT-reserr\n",
      "reserr: 0.08802004903554916\n",
      "EFT-reserr\n",
      "rese-xc-before: 0.2346092164516449\n",
      "EFT-reserr\n",
      "rese-xc-before: 0.1632758229970932\n",
      "EFT-reserr\n",
      "reserr: 0.08802254498004913\n",
      "EFT-reserr\n",
      "rese-xc-before: 0.2346092015504837\n",
      "EFT-reserr\n",
      "rese-xc-before: 0.1632758527994156\n",
      "EFT-reserr\n",
      "reserr: 0.08801957219839096\n",
      "EFT-reserr\n",
      "rese-xc-before: 0.2346091866493225\n",
      "EFT-reserr\n",
      "rese-xc-before: 0.1632758378982544\n",
      "EFT-reserr\n",
      "reserr: 0.08802144974470139\n",
      "EFT-reserr\n",
      "rese-xc-before: 0.23460917174816132\n",
      "EFT-reserr\n",
      "rese-xc-before: 0.1632757931947708\n",
      "EFT-reserr\n",
      "reserr: 0.08802053332328796\n",
      "EFT-reserr\n",
      "2.498062\n",
      "Step: 61 [0.02810491 0.02806302 0.99613845] [ 0.08150318  0.01726302 -0.02307487] [[ 3.6138763  -0.898674   -1.7245445  ... -0.9347458   1.8780556\n",
      "   6.5975456 ]\n",
      " [ 6.5749893  -0.16412735 -1.245863   ... -0.9557266   1.8933716\n",
      "   7.9633713 ]\n",
      " [ 8.850399    0.972126   -0.5981102  ... -0.3668251   1.1553307\n",
      "   5.994087  ]\n",
      " ...\n",
      " [-0.3600769  -2.0307865  -2.6006603  ... -1.3955345  -0.41558075\n",
      "   0.6736336 ]\n",
      " [ 0.7480087  -1.638916   -2.3793373  ... -0.7444229   0.49474716\n",
      "   2.158638  ]\n",
      " [ 1.1743851  -1.5567722  -2.308607   ... -0.6404114   1.3550606\n",
      "   3.756916  ]]\n"
     ]
    },
    {
     "data": {
      "text/html": [
       "<pre style=\"white-space:pre;overflow-x:auto;line-height:normal;font-family:Menlo,'DejaVu Sans Mono',consolas,'Courier New',monospace\">Snapshot written at <span style=\"color: #808000; text-decoration-color: #808000\">...</span><span style=\"color: #808000; text-decoration-color: #808000\">filename</span>=<span style=\"color: #008000; text-decoration-color: #008000\">'./small//output_00036/particles_eft_multigrid_ncoarse5.h5'</span>                        \n",
       "param<span style=\"font-weight: bold\">[</span><span style=\"color: #008000; text-decoration-color: #008000\">'aexp'</span><span style=\"font-weight: bold\">]</span>=<span style=\"color: #008080; text-decoration-color: #008080; font-weight: bold\">0.8333333333333334</span>                                                                                   \n",
       "</pre>\n"
      ],
      "text/plain": [
       "Snapshot written at \u001b[33m...\u001b[0m\u001b[33mfilename\u001b[0m=\u001b[32m'./small//output_00036/particles_eft_multigrid_ncoarse5.h5'\u001b[0m                        \n",
       "param\u001b[1m[\u001b[0m\u001b[32m'aexp'\u001b[0m\u001b[1m]\u001b[0m=\u001b[1;36m0.8333333333333334\u001b[0m                                                                                   \n"
      ]
     },
     "metadata": {},
     "output_type": "display_data"
    },
    {
     "data": {
      "text/html": [
       "<pre style=\"white-space:pre;overflow-x:auto;line-height:normal;font-family:Menlo,'DejaVu Sans Mono',consolas,'Courier New',monospace\">param<span style=\"font-weight: bold\">[</span><span style=\"color: #008000; text-decoration-color: #008000\">'nsteps'</span><span style=\"font-weight: bold\">]</span>=<span style=\"color: #008080; text-decoration-color: #008080; font-weight: bold\">61</span> param<span style=\"font-weight: bold\">[</span><span style=\"color: #008000; text-decoration-color: #008000\">'aexp'</span><span style=\"font-weight: bold\">]</span>=<span style=\"color: #008080; text-decoration-color: #008080; font-weight: bold\">0.8333333333333334</span> z = <span style=\"color: #008080; text-decoration-color: #008080; font-weight: bold\">0.19999999999999996</span>                                        \n",
       "</pre>\n"
      ],
      "text/plain": [
       "param\u001b[1m[\u001b[0m\u001b[32m'nsteps'\u001b[0m\u001b[1m]\u001b[0m=\u001b[1;36m61\u001b[0m param\u001b[1m[\u001b[0m\u001b[32m'aexp'\u001b[0m\u001b[1m]\u001b[0m=\u001b[1;36m0.8333333333333334\u001b[0m z = \u001b[1;36m0.19999999999999996\u001b[0m                                        \n"
      ]
     },
     "metadata": {},
     "output_type": "display_data"
    },
    {
     "name": "stdout",
     "output_type": "stream",
     "text": [
      "EFT-reserr\n",
      "rese-xc-before: 0.2598596215248108\n",
      "EFT-reserr\n",
      "rese-xc-before: 0.1791432797908783\n",
      "EFT-reserr\n",
      "reserr: 0.09374034404754639\n",
      "EFT-reserr\n",
      "rese-xc-before: 0.25937530398368835\n",
      "EFT-reserr\n",
      "rese-xc-before: 0.17933014035224915\n",
      "EFT-reserr\n",
      "reserr: 0.09562532603740692\n",
      "EFT-reserr\n",
      "rese-xc-before: 0.25937530398368835\n",
      "EFT-reserr\n",
      "rese-xc-before: 0.17933014035224915\n",
      "EFT-reserr\n",
      "reserr: 0.09562700241804123\n",
      "EFT-reserr\n",
      "rese-xc-before: 0.25937536358833313\n",
      "EFT-reserr\n",
      "rese-xc-before: 0.17933011054992676\n",
      "EFT-reserr\n",
      "reserr: 0.09562664479017258\n",
      "EFT-reserr\n",
      "rese-xc-before: 0.25937530398368835\n",
      "EFT-reserr\n",
      "rese-xc-before: 0.17933017015457153\n",
      "EFT-reserr\n",
      "reserr: 0.09562662243843079\n",
      "EFT-reserr\n",
      "rese-xc-before: 0.25937536358833313\n",
      "EFT-reserr\n",
      "rese-xc-before: 0.17933018505573273\n",
      "EFT-reserr\n",
      "reserr: 0.09562677145004272\n",
      "EFT-reserr\n",
      "2.4485662\n",
      "Step: 62 [0.03200374 0.02889682 0.99503225] [ 0.08785981  0.01899746 -0.02499117] [[ 3.2085114  -1.1571465  -1.9303875  ... -0.77822876  2.5311127\n",
      "   7.3857765 ]\n",
      " [ 6.640564   -0.3887291  -1.3519917  ... -0.79354477  2.2762527\n",
      "   8.885273  ]\n",
      " [ 9.012619    0.7101822  -0.6630821  ... -0.09388733  1.445549\n",
      "   6.6496315 ]\n",
      " ...\n",
      " [-0.58338547 -2.2805367  -2.8220825  ... -1.3745689  -0.19761276\n",
      "   0.9138298 ]\n",
      " [ 0.56752396 -1.9140854  -2.6313477  ... -0.63323593  0.8918228\n",
      "   2.6315117 ]\n",
      " [ 0.9200554  -1.7975082  -2.5392952  ... -0.4839096   1.9285698\n",
      "   4.298687  ]]\n"
     ]
    },
    {
     "data": {
      "text/html": [
       "<pre style=\"white-space:pre;overflow-x:auto;line-height:normal;font-family:Menlo,'DejaVu Sans Mono',consolas,'Courier New',monospace\">Snapshot written at <span style=\"color: #808000; text-decoration-color: #808000\">...</span><span style=\"color: #808000; text-decoration-color: #808000\">filename</span>=<span style=\"color: #008000; text-decoration-color: #008000\">'./small//output_00037/particles_eft_multigrid_ncoarse5.h5'</span>                        \n",
       "param<span style=\"font-weight: bold\">[</span><span style=\"color: #008000; text-decoration-color: #008000\">'aexp'</span><span style=\"font-weight: bold\">]</span>=<span style=\"color: #008080; text-decoration-color: #008080; font-weight: bold\">0.8695652173913044</span>                                                                                   \n",
       "</pre>\n"
      ],
      "text/plain": [
       "Snapshot written at \u001b[33m...\u001b[0m\u001b[33mfilename\u001b[0m=\u001b[32m'./small//output_00037/particles_eft_multigrid_ncoarse5.h5'\u001b[0m                        \n",
       "param\u001b[1m[\u001b[0m\u001b[32m'aexp'\u001b[0m\u001b[1m]\u001b[0m=\u001b[1;36m0.8695652173913044\u001b[0m                                                                                   \n"
      ]
     },
     "metadata": {},
     "output_type": "display_data"
    },
    {
     "data": {
      "text/html": [
       "<pre style=\"white-space:pre;overflow-x:auto;line-height:normal;font-family:Menlo,'DejaVu Sans Mono',consolas,'Courier New',monospace\">param<span style=\"font-weight: bold\">[</span><span style=\"color: #008000; text-decoration-color: #008000\">'nsteps'</span><span style=\"font-weight: bold\">]</span>=<span style=\"color: #008080; text-decoration-color: #008080; font-weight: bold\">62</span> param<span style=\"font-weight: bold\">[</span><span style=\"color: #008000; text-decoration-color: #008000\">'aexp'</span><span style=\"font-weight: bold\">]</span>=<span style=\"color: #008080; text-decoration-color: #008080; font-weight: bold\">0.8695652173913044</span> z = <span style=\"color: #008080; text-decoration-color: #008080; font-weight: bold\">0.1499999999999999</span>                                         \n",
       "</pre>\n"
      ],
      "text/plain": [
       "param\u001b[1m[\u001b[0m\u001b[32m'nsteps'\u001b[0m\u001b[1m]\u001b[0m=\u001b[1;36m62\u001b[0m param\u001b[1m[\u001b[0m\u001b[32m'aexp'\u001b[0m\u001b[1m]\u001b[0m=\u001b[1;36m0.8695652173913044\u001b[0m z = \u001b[1;36m0.1499999999999999\u001b[0m                                         \n"
      ]
     },
     "metadata": {},
     "output_type": "display_data"
    },
    {
     "name": "stdout",
     "output_type": "stream",
     "text": [
      "EFT-reserr\n",
      "rese-xc-before: 0.2883675694465637\n",
      "EFT-reserr\n",
      "rese-xc-before: 0.1975262314081192\n",
      "EFT-reserr\n",
      "reserr: 0.10388610512018204\n",
      "EFT-reserr\n",
      "rese-xc-before: 0.2878634035587311\n",
      "EFT-reserr\n",
      "rese-xc-before: 0.19773419201374054\n",
      "EFT-reserr\n",
      "reserr: 0.10576427727937698\n",
      "EFT-reserr\n",
      "rese-xc-before: 0.28786349296569824\n",
      "EFT-reserr\n",
      "rese-xc-before: 0.19773419201374054\n",
      "EFT-reserr\n",
      "reserr: 0.10576487332582474\n",
      "EFT-reserr\n",
      "rese-xc-before: 0.28786346316337585\n",
      "EFT-reserr\n",
      "rese-xc-before: 0.19773417711257935\n",
      "EFT-reserr\n",
      "reserr: 0.10576439648866653\n",
      "EFT-reserr\n",
      "rese-xc-before: 0.28786346316337585\n",
      "EFT-reserr\n",
      "rese-xc-before: 0.19773419201374054\n",
      "EFT-reserr\n",
      "reserr: 0.1057651937007904\n",
      "EFT-reserr\n",
      "rese-xc-before: 0.28786346316337585\n",
      "EFT-reserr\n",
      "rese-xc-before: 0.19773422181606293\n",
      "EFT-reserr\n",
      "reserr: 0.10576514899730682\n",
      "EFT-reserr\n",
      "2.5031564\n",
      "Step: 63 [0.03630667 0.02983685 0.9938054 ] [ 0.09507682  0.02101652 -0.02718965] [[ 2.7670212  -1.3760109  -2.1304798  ... -0.5232506   3.2985306\n",
      "   8.081894  ]\n",
      " [ 6.654747   -0.6542816  -1.4752922  ... -0.5283394   2.702034\n",
      "   9.778019  ]\n",
      " [ 8.754467    0.34006882 -0.7764549  ...  0.29626846  1.7692642\n",
      "   7.1167336 ]\n",
      " ...\n",
      " [-0.93191147 -2.571598   -3.0362492  ... -1.2957993   0.12244797\n",
      "   1.1777344 ]\n",
      " [ 0.28877258 -2.1724606  -2.8702927  ... -0.41706848  1.4758873\n",
      "   3.1939812 ]\n",
      " [ 0.5494461  -2.0628586  -2.7643242  ... -0.22402954  2.7035408\n",
      "   4.772999  ]]\n"
     ]
    },
    {
     "data": {
      "text/html": [
       "<pre style=\"white-space:pre;overflow-x:auto;line-height:normal;font-family:Menlo,'DejaVu Sans Mono',consolas,'Courier New',monospace\">Snapshot written at <span style=\"color: #808000; text-decoration-color: #808000\">...</span><span style=\"color: #808000; text-decoration-color: #808000\">filename</span>=<span style=\"color: #008000; text-decoration-color: #008000\">'./small//output_00038/particles_eft_multigrid_ncoarse5.h5'</span>                        \n",
       "param<span style=\"font-weight: bold\">[</span><span style=\"color: #008000; text-decoration-color: #008000\">'aexp'</span><span style=\"font-weight: bold\">]</span>=<span style=\"color: #008080; text-decoration-color: #008080; font-weight: bold\">0.9090909090909091</span>                                                                                   \n",
       "</pre>\n"
      ],
      "text/plain": [
       "Snapshot written at \u001b[33m...\u001b[0m\u001b[33mfilename\u001b[0m=\u001b[32m'./small//output_00038/particles_eft_multigrid_ncoarse5.h5'\u001b[0m                        \n",
       "param\u001b[1m[\u001b[0m\u001b[32m'aexp'\u001b[0m\u001b[1m]\u001b[0m=\u001b[1;36m0.9090909090909091\u001b[0m                                                                                   \n"
      ]
     },
     "metadata": {},
     "output_type": "display_data"
    },
    {
     "data": {
      "text/html": [
       "<pre style=\"white-space:pre;overflow-x:auto;line-height:normal;font-family:Menlo,'DejaVu Sans Mono',consolas,'Courier New',monospace\">param<span style=\"font-weight: bold\">[</span><span style=\"color: #008000; text-decoration-color: #008000\">'nsteps'</span><span style=\"font-weight: bold\">]</span>=<span style=\"color: #008080; text-decoration-color: #008080; font-weight: bold\">63</span> param<span style=\"font-weight: bold\">[</span><span style=\"color: #008000; text-decoration-color: #008000\">'aexp'</span><span style=\"font-weight: bold\">]</span>=<span style=\"color: #008080; text-decoration-color: #008080; font-weight: bold\">0.9090909090909091</span> z = <span style=\"color: #008080; text-decoration-color: #008080; font-weight: bold\">0.10000000000000009</span>                                        \n",
       "</pre>\n"
      ],
      "text/plain": [
       "param\u001b[1m[\u001b[0m\u001b[32m'nsteps'\u001b[0m\u001b[1m]\u001b[0m=\u001b[1;36m63\u001b[0m param\u001b[1m[\u001b[0m\u001b[32m'aexp'\u001b[0m\u001b[1m]\u001b[0m=\u001b[1;36m0.9090909090909091\u001b[0m z = \u001b[1;36m0.10000000000000009\u001b[0m                                        \n"
      ]
     },
     "metadata": {},
     "output_type": "display_data"
    },
    {
     "name": "stdout",
     "output_type": "stream",
     "text": [
      "EFT-reserr\n",
      "rese-xc-before: 0.3214203119277954\n",
      "EFT-reserr\n",
      "rese-xc-before: 0.2188768833875656\n",
      "EFT-reserr\n",
      "reserr: 0.11911079287528992\n",
      "EFT-reserr\n",
      "rese-xc-before: 0.3208978772163391\n",
      "EFT-reserr\n",
      "rese-xc-before: 0.21910926699638367\n",
      "EFT-reserr\n",
      "reserr: 0.12096498161554337\n",
      "EFT-reserr\n",
      "rese-xc-before: 0.3208979368209839\n",
      "EFT-reserr\n",
      "rese-xc-before: 0.21910923719406128\n",
      "EFT-reserr\n",
      "reserr: 0.1209634318947792\n",
      "EFT-reserr\n",
      "rese-xc-before: 0.3208979368209839\n",
      "EFT-reserr\n",
      "rese-xc-before: 0.21910923719406128\n",
      "EFT-reserr\n",
      "reserr: 0.12096361815929413\n",
      "EFT-reserr\n",
      "rese-xc-before: 0.3208979666233063\n",
      "EFT-reserr\n",
      "rese-xc-before: 0.21910922229290009\n",
      "EFT-reserr\n",
      "reserr: 0.12096340954303741\n",
      "EFT-reserr\n",
      "rese-xc-before: 0.3208979070186615\n",
      "EFT-reserr\n",
      "rese-xc-before: 0.21910925209522247\n",
      "EFT-reserr\n",
      "reserr: 0.12096298485994339\n",
      "EFT-reserr\n",
      "2.501305\n",
      "Step: 64 [0.04107964 0.03090355 0.9924366 ] [ 0.1033361   0.0233834  -0.02975518] [[ 2.3027458  -1.5080719  -2.3688145  ... -0.10037613  4.1736336\n",
      "   8.673     ]\n",
      " [ 6.6531334  -0.8904991  -1.6094017  ... -0.13622665  3.1976852\n",
      "  10.541275  ]\n",
      " [ 8.096687   -0.10429001 -0.9301567  ...  0.77562714  2.0211487\n",
      "   7.222763  ]\n",
      " ...\n",
      " [-1.4544106  -2.8982658  -3.2391071  ... -1.1404762   0.5937958\n",
      "   1.4117546 ]\n",
      " [-0.11454391 -2.3610725  -3.1013947  ... -0.0517807   2.3144417\n",
      "   3.730091  ]\n",
      " [ 0.0328331  -2.3117752  -3.0133438  ...  0.2079277   3.7362251\n",
      "   5.1151237 ]]\n"
     ]
    },
    {
     "data": {
      "text/html": [
       "<pre style=\"white-space:pre;overflow-x:auto;line-height:normal;font-family:Menlo,'DejaVu Sans Mono',consolas,'Courier New',monospace\">Snapshot written at <span style=\"color: #808000; text-decoration-color: #808000\">...</span><span style=\"color: #808000; text-decoration-color: #808000\">filename</span>=<span style=\"color: #008000; text-decoration-color: #008000\">'./small//output_00039/particles_eft_multigrid_ncoarse5.h5'</span>                        \n",
       "param<span style=\"font-weight: bold\">[</span><span style=\"color: #008000; text-decoration-color: #008000\">'aexp'</span><span style=\"font-weight: bold\">]</span>=<span style=\"color: #008080; text-decoration-color: #008080; font-weight: bold\">0.9523809523809523</span>                                                                                   \n",
       "</pre>\n"
      ],
      "text/plain": [
       "Snapshot written at \u001b[33m...\u001b[0m\u001b[33mfilename\u001b[0m=\u001b[32m'./small//output_00039/particles_eft_multigrid_ncoarse5.h5'\u001b[0m                        \n",
       "param\u001b[1m[\u001b[0m\u001b[32m'aexp'\u001b[0m\u001b[1m]\u001b[0m=\u001b[1;36m0.9523809523809523\u001b[0m                                                                                   \n"
      ]
     },
     "metadata": {},
     "output_type": "display_data"
    },
    {
     "data": {
      "text/html": [
       "<pre style=\"white-space:pre;overflow-x:auto;line-height:normal;font-family:Menlo,'DejaVu Sans Mono',consolas,'Courier New',monospace\">param<span style=\"font-weight: bold\">[</span><span style=\"color: #008000; text-decoration-color: #008000\">'nsteps'</span><span style=\"font-weight: bold\">]</span>=<span style=\"color: #008080; text-decoration-color: #008080; font-weight: bold\">64</span> param<span style=\"font-weight: bold\">[</span><span style=\"color: #008000; text-decoration-color: #008000\">'aexp'</span><span style=\"font-weight: bold\">]</span>=<span style=\"color: #008080; text-decoration-color: #008080; font-weight: bold\">0.9523809523809523</span> z = <span style=\"color: #008080; text-decoration-color: #008080; font-weight: bold\">0.050000000000000044</span>                                       \n",
       "</pre>\n"
      ],
      "text/plain": [
       "param\u001b[1m[\u001b[0m\u001b[32m'nsteps'\u001b[0m\u001b[1m]\u001b[0m=\u001b[1;36m64\u001b[0m param\u001b[1m[\u001b[0m\u001b[32m'aexp'\u001b[0m\u001b[1m]\u001b[0m=\u001b[1;36m0.9523809523809523\u001b[0m z = \u001b[1;36m0.050000000000000044\u001b[0m                                       \n"
      ]
     },
     "metadata": {},
     "output_type": "display_data"
    },
    {
     "name": "stdout",
     "output_type": "stream",
     "text": [
      "EFT-reserr\n",
      "rese-xc-before: 0.3598012626171112\n",
      "EFT-reserr\n",
      "rese-xc-before: 0.24388408660888672\n",
      "EFT-reserr\n",
      "reserr: 0.1416243016719818\n",
      "EFT-reserr\n",
      "rese-xc-before: 0.3592609167098999\n",
      "EFT-reserr\n",
      "rese-xc-before: 0.24414531886577606\n",
      "EFT-reserr\n",
      "reserr: 0.143434539437294\n",
      "EFT-reserr\n",
      "rese-xc-before: 0.35926103591918945\n",
      "EFT-reserr\n",
      "rese-xc-before: 0.24414531886577606\n",
      "EFT-reserr\n",
      "reserr: 0.14343507587909698\n",
      "EFT-reserr\n",
      "rese-xc-before: 0.35926100611686707\n",
      "EFT-reserr\n",
      "rese-xc-before: 0.24414531886577606\n",
      "EFT-reserr\n",
      "reserr: 0.14343586564064026\n",
      "EFT-reserr\n",
      "rese-xc-before: 0.35926103591918945\n",
      "EFT-reserr\n",
      "rese-xc-before: 0.24414528906345367\n",
      "EFT-reserr\n",
      "reserr: 0.14343605935573578\n",
      "EFT-reserr\n",
      "rese-xc-before: 0.35926100611686707\n",
      "EFT-reserr\n",
      "rese-xc-before: 0.24414530396461487\n",
      "EFT-reserr\n",
      "reserr: 0.14343483746051788\n",
      "EFT-reserr\n",
      "2.4979072\n",
      "Step: 65 [0.04640438 0.03212247 0.99089754] [ 0.1128721   0.02617597 -0.03281249] [[ 1.8618813  -1.5749779  -2.6387615  ...  0.5655594   5.120514\n",
      "   9.187561  ]\n",
      " [ 6.7151413  -0.98516464 -1.7550011  ...  0.3609085   3.591484\n",
      "  11.055641  ]\n",
      " [ 7.0782394  -0.4501686  -1.0017319  ...  1.3430557   2.1098251\n",
      "   6.652458  ]\n",
      " ...\n",
      " [-2.0963516  -3.234909   -3.426035   ... -0.85860443  1.2658768\n",
      "   1.3874817 ]\n",
      " [-0.5989952  -2.4808693  -3.3376694  ...  0.5251007   3.4254532\n",
      "   4.030941  ]\n",
      " [-0.5763092  -2.5572472  -3.2815762  ...  0.8732681   4.9984665\n",
      "   5.2553177 ]]\n"
     ]
    },
    {
     "data": {
      "text/html": [
       "<pre style=\"white-space:pre;overflow-x:auto;line-height:normal;font-family:Menlo,'DejaVu Sans Mono',consolas,'Courier New',monospace\">Snapshot written at <span style=\"color: #808000; text-decoration-color: #808000\">...</span><span style=\"color: #808000; text-decoration-color: #808000\">filename</span>=<span style=\"color: #008000; text-decoration-color: #008000\">'./small//output_00040/particles_eft_multigrid_ncoarse5.h5'</span> param<span style=\"font-weight: bold\">[</span><span style=\"color: #008000; text-decoration-color: #008000\">'aexp'</span><span style=\"font-weight: bold\">]</span>=<span style=\"color: #008080; text-decoration-color: #008080; font-weight: bold\">1.0</span>      \n",
       "</pre>\n"
      ],
      "text/plain": [
       "Snapshot written at \u001b[33m...\u001b[0m\u001b[33mfilename\u001b[0m=\u001b[32m'./small//output_00040/particles_eft_multigrid_ncoarse5.h5'\u001b[0m param\u001b[1m[\u001b[0m\u001b[32m'aexp'\u001b[0m\u001b[1m]\u001b[0m=\u001b[1;36m1.0\u001b[0m      \n"
      ]
     },
     "metadata": {},
     "output_type": "display_data"
    },
    {
     "data": {
      "text/html": [
       "<pre style=\"white-space:pre;overflow-x:auto;line-height:normal;font-family:Menlo,'DejaVu Sans Mono',consolas,'Courier New',monospace\">param<span style=\"font-weight: bold\">[</span><span style=\"color: #008000; text-decoration-color: #008000\">'nsteps'</span><span style=\"font-weight: bold\">]</span>=<span style=\"color: #008080; text-decoration-color: #008080; font-weight: bold\">65</span> param<span style=\"font-weight: bold\">[</span><span style=\"color: #008000; text-decoration-color: #008000\">'aexp'</span><span style=\"font-weight: bold\">]</span>=<span style=\"color: #008080; text-decoration-color: #008080; font-weight: bold\">1.0</span> z = <span style=\"color: #008080; text-decoration-color: #008080; font-weight: bold\">0.0</span>                                                                       \n",
       "</pre>\n"
      ],
      "text/plain": [
       "param\u001b[1m[\u001b[0m\u001b[32m'nsteps'\u001b[0m\u001b[1m]\u001b[0m=\u001b[1;36m65\u001b[0m param\u001b[1m[\u001b[0m\u001b[32m'aexp'\u001b[0m\u001b[1m]\u001b[0m=\u001b[1;36m1.0\u001b[0m z = \u001b[1;36m0.0\u001b[0m                                                                       \n"
      ]
     },
     "metadata": {},
     "output_type": "display_data"
    }
   ],
   "source": [
    "path = '.'\n",
    "\n",
    "param = pd.Series({\n",
    "    \"theory\": \"eft\",\n",
    "    \"alphaB0\": 0.1,\n",
    "    \"alphaM0\": 0.0,\n",
    "    \"extra\":'04_01',\n",
    "    \"nthreads\": 1,\n",
    "    \"H0\": 72,\n",
    "    \"Om_m\": 1.,\n",
    "    \"T_cmb\": 0.1,\n",
    "    \"N_eff\": 3.044,\n",
    "    \"w0\": -1.0,\n",
    "    \"wa\": 0.0,\n",
    "    \"boxlen\": 100,\n",
    "    \"ncoarse\": 5,\n",
    "    \"npart\": 32**3,\n",
    "    \"z_start\": 60,\n",
    "    \"seed\": 42,\n",
    "    \"position_ICS\": \"center\",\n",
    "    \"fixed_ICS\": False,\n",
    "    \"paired_ICS\": False,\n",
    "    \"dealiased_ICS\": False,\n",
    "    \"power_spectrum_file\": f\"{path}/pk_lcdmw7v2.dat\",\n",
    "    \"initial_conditions\": \"2LPT\",\n",
    "    \"base\": f\"{path}/small/\",\n",
    "    \"z_out\": \"[20,19,18,17,16,15,14,13,12,11,10,9,8,7,6,5,4,3,2,1,0.95,0.9,0.85,0.8,0.75,0.7,0.65,0.6,0.55,0.5,0.45,0.4,0.35,0.3,0.25,0.2,0.15,0.1,0.05,0]\",\n",
    "    \"output_snapshot_format\": \"HDF5\",\n",
    "    \"save_power_spectrum\": \"no\",\n",
    "    \"integrator\": \"leapfrog\",\n",
    "    \"n_reorder\": 50,\n",
    "    \"mass_scheme\": \"TSC\",\n",
    "    \"Courant_factor\": 1.0,\n",
    "    \"max_aexp_stepping\": 10,\n",
    "    \"linear_newton_solver\": \"multigrid\",\n",
    "    \"gradient_stencil_order\": 5,\n",
    "    \"Npre\": 25,\n",
    "    \"Npost\":25,\n",
    "    \"domg\": True,\n",
    "    \"epsrel\": 1e-2,\n",
    "    \"verbose\": 1,\n",
    "    \"evolution_table\":'no',\n",
    "    \"Om_lambda\":0\n",
    "    })\n",
    "\n",
    "main.run(param)"
   ]
  },
  {
   "cell_type": "code",
   "execution_count": null,
   "id": "745e13f5-a86b-4a56-b006-0e6a506f8f7b",
   "metadata": {},
   "outputs": [],
   "source": [
    "pwd"
   ]
  },
  {
   "cell_type": "code",
   "execution_count": null,
   "id": "12253e6e-2e12-4e89-a94b-c0ea49c2d8f8",
   "metadata": {},
   "outputs": [],
   "source": [
    "import numpy as np\n",
    "import matplotlib.pyplot as plt"
   ]
  },
  {
   "cell_type": "code",
   "execution_count": null,
   "id": "8f245db8-f29f-4115-974c-0ab46feafe97",
   "metadata": {},
   "outputs": [],
   "source": [
    "x = np.loadtxt('/Users/himanishganjoo/Dropbox/prograceray/pysco-eft/pysco/t5/power/pk_eft_multigrid_ncoarse6_00039.dat')\n",
    "plt.loglog(x[:,0],x[:,1],'.')\n",
    "\n",
    "x = np.loadtxt('/Users/himanishganjoo/Dropbox/prograceray/pysco-eft/pysco/t5/power/pk_newton_multigrid_ncoarse6_00039.dat')\n",
    "plt.loglog(x[:,0],x[:,1],'.')\n",
    "\n",
    "\n"
   ]
  },
  {
   "cell_type": "code",
   "execution_count": null,
   "id": "18c0644b-f819-404f-b213-67c3af37c818",
   "metadata": {},
   "outputs": [],
   "source": []
  }
 ],
 "metadata": {
  "kernelspec": {
   "display_name": "Python 3 (ipykernel)",
   "language": "python",
   "name": "python3"
  },
  "language_info": {
   "codemirror_mode": {
    "name": "ipython",
    "version": 3
   },
   "file_extension": ".py",
   "mimetype": "text/x-python",
   "name": "python",
   "nbconvert_exporter": "python",
   "pygments_lexer": "ipython3",
   "version": "3.12.7"
  }
 },
 "nbformat": 4,
 "nbformat_minor": 5
}
