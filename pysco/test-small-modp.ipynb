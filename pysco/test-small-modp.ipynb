{
 "cells": [
  {
   "cell_type": "code",
   "execution_count": 1,
   "id": "b849885c-861b-4f15-a951-6cf85cb9fcee",
   "metadata": {},
   "outputs": [],
   "source": [
    "import main\n",
    "import pandas as pd"
   ]
  },
  {
   "cell_type": "code",
   "execution_count": 3,
   "id": "5ef8bd61-eb79-4e13-8a29-daebb50df2ed",
   "metadata": {},
   "outputs": [
    {
     "data": {
      "text/html": [
       "<pre style=\"white-space:pre;overflow-x:auto;line-height:normal;font-family:Menlo,'DejaVu Sans Mono',consolas,'Courier New',monospace\">param<span style=\"font-weight: bold\">[</span><span style=\"color: #008000; text-decoration-color: #008000\">'nthreads'</span><span style=\"font-weight: bold\">]</span>=<span style=\"color: #008080; text-decoration-color: #008080; font-weight: bold\">1</span>                                                                                                \n",
       "</pre>\n"
      ],
      "text/plain": [
       "param\u001b[1m[\u001b[0m\u001b[32m'nthreads'\u001b[0m\u001b[1m]\u001b[0m=\u001b[1;36m1\u001b[0m                                                                                                \n"
      ]
     },
     "metadata": {},
     "output_type": "display_data"
    },
    {
     "data": {
      "text/html": [
       "<pre style=\"white-space:pre;overflow-x:auto;line-height:normal;font-family:Menlo,'DejaVu Sans Mono',consolas,'Courier New',monospace\">                                                                                                                   \n",
       "<span style=\"color: #008000; text-decoration-color: #008000; font-weight: bold\">FFT module: NumPy</span>                                                                                                  \n",
       "</pre>\n"
      ],
      "text/plain": [
       "                                                                                                                   \n",
       "\u001b[1;32mFFT module: NumPy\u001b[0m                                                                                                  \n"
      ]
     },
     "metadata": {},
     "output_type": "display_data"
    },
    {
     "data": {
      "text/html": [
       "<pre style=\"white-space:pre;overflow-x:auto;line-height:normal;font-family:Menlo,'DejaVu Sans Mono',consolas,'Courier New',monospace\">                                                                                                                   \n",
       "<span style=\"color: #000080; text-decoration-color: #000080; font-weight: bold\">----- Compute background cosmology -----</span>                                                                           \n",
       "                                                                                                                   \n",
       "</pre>\n"
      ],
      "text/plain": [
       "                                                                                                                   \n",
       "\u001b[1;34m----- Compute background cosmology -----\u001b[0m                                                                           \n",
       "                                                                                                                   \n"
      ]
     },
     "metadata": {},
     "output_type": "display_data"
    },
    {
     "data": {
      "text/html": [
       "<pre style=\"white-space:pre;overflow-x:auto;line-height:normal;font-family:Menlo,'DejaVu Sans Mono',consolas,'Courier New',monospace\">Write table in: .<span style=\"color: #800080; text-decoration-color: #800080\">/smalln//</span><span style=\"color: #ff00ff; text-decoration-color: #ff00ff\">evolution_table_pysco_eft_multigrid_ncoarse6.txt</span>                                         \n",
       "</pre>\n"
      ],
      "text/plain": [
       "Write table in: .\u001b[35m/smalln/\u001b[0m\u001b[35m/\u001b[0m\u001b[95mevolution_table_pysco_eft_multigrid_ncoarse6.txt\u001b[0m                                         \n"
      ]
     },
     "metadata": {},
     "output_type": "display_data"
    },
    {
     "data": {
      "text/html": [
       "<pre style=\"white-space:pre;overflow-x:auto;line-height:normal;font-family:Menlo,'DejaVu Sans Mono',consolas,'Courier New',monospace\">                                                                                                                   \n",
       "<span style=\"color: #000080; text-decoration-color: #000080; font-weight: bold\">----- Initial conditions -----</span>                                                                                     \n",
       "                                                                                                                   \n",
       "</pre>\n"
      ],
      "text/plain": [
       "                                                                                                                   \n",
       "\u001b[1;34m----- Initial conditions -----\u001b[0m                                                                                     \n",
       "                                                                                                                   \n"
      ]
     },
     "metadata": {},
     "output_type": "display_data"
    },
    {
     "data": {
      "text/html": [
       "<pre style=\"white-space:pre;overflow-x:auto;line-height:normal;font-family:Menlo,'DejaVu Sans Mono',consolas,'Courier New',monospace\">param<span style=\"font-weight: bold\">[</span><span style=\"color: #008000; text-decoration-color: #008000\">'z_start'</span><span style=\"font-weight: bold\">]</span>=<span style=\"color: #008080; text-decoration-color: #008080; font-weight: bold\">50</span>                                                                                                \n",
       "</pre>\n"
      ],
      "text/plain": [
       "param\u001b[1m[\u001b[0m\u001b[32m'z_start'\u001b[0m\u001b[1m]\u001b[0m=\u001b[1;36m50\u001b[0m                                                                                                \n"
      ]
     },
     "metadata": {},
     "output_type": "display_data"
    },
    {
     "data": {
      "text/html": [
       "<pre style=\"white-space:pre;overflow-x:auto;line-height:normal;font-family:Menlo,'DejaVu Sans Mono',consolas,'Courier New',monospace\">Compute 1LPT contribution                                                                                          \n",
       "</pre>\n"
      ],
      "text/plain": [
       "Compute 1LPT contribution                                                                                          \n"
      ]
     },
     "metadata": {},
     "output_type": "display_data"
    },
    {
     "data": {
      "text/html": [
       "<pre style=\"white-space:pre;overflow-x:auto;line-height:normal;font-family:Menlo,'DejaVu Sans Mono',consolas,'Courier New',monospace\">Compute 2LPT contribution                                                                                          \n",
       "</pre>\n"
      ],
      "text/plain": [
       "Compute 2LPT contribution                                                                                          \n"
      ]
     },
     "metadata": {},
     "output_type": "display_data"
    },
    {
     "data": {
      "text/html": [
       "<pre style=\"white-space:pre;overflow-x:auto;line-height:normal;font-family:Menlo,'DejaVu Sans Mono',consolas,'Courier New',monospace\">Write initial snapshot<span style=\"color: #808000; text-decoration-color: #808000\">...</span><span style=\"color: #808000; text-decoration-color: #808000\">snap_name</span>=<span style=\"color: #008000; text-decoration-color: #008000\">'./smalln//output_00000/particles_eft_multigrid_ncoarse6.h5'</span>                    \n",
       "</pre>\n"
      ],
      "text/plain": [
       "Write initial snapshot\u001b[33m...\u001b[0m\u001b[33msnap_name\u001b[0m=\u001b[32m'./smalln//output_00000/particles_eft_multigrid_ncoarse6.h5'\u001b[0m                    \n"
      ]
     },
     "metadata": {},
     "output_type": "display_data"
    },
    {
     "name": "stdout",
     "output_type": "stream",
     "text": [
      "ICs [0.00762959 0.00748253 0.00774562] [-2.5826224e-05 -4.6566678e-05 -9.2738574e-06]\n"
     ]
    },
    {
     "data": {
      "text/html": [
       "<pre style=\"white-space:pre;overflow-x:auto;line-height:normal;font-family:Menlo,'DejaVu Sans Mono',consolas,'Courier New',monospace\">param<span style=\"font-weight: bold\">[</span><span style=\"color: #008000; text-decoration-color: #008000\">'aexp'</span><span style=\"font-weight: bold\">]</span>=<span style=\"color: #008080; text-decoration-color: #008080; font-weight: bold\">0.0196078431372549</span> param<span style=\"font-weight: bold\">[</span><span style=\"color: #008000; text-decoration-color: #008000\">'t'</span><span style=\"font-weight: bold\">]</span>=<span style=\"color: #800080; text-decoration-color: #800080; font-weight: bold\">array</span><span style=\"font-weight: bold\">(</span><span style=\"color: #008080; text-decoration-color: #008080; font-weight: bold\">-12.28285684</span><span style=\"font-weight: bold\">)</span>                                                    \n",
       "</pre>\n"
      ],
      "text/plain": [
       "param\u001b[1m[\u001b[0m\u001b[32m'aexp'\u001b[0m\u001b[1m]\u001b[0m=\u001b[1;36m0.0196078431372549\u001b[0m param\u001b[1m[\u001b[0m\u001b[32m't'\u001b[0m\u001b[1m]\u001b[0m=\u001b[1;35marray\u001b[0m\u001b[1m(\u001b[0m\u001b[1;36m-12.28285684\u001b[0m\u001b[1m)\u001b[0m                                                    \n"
      ]
     },
     "metadata": {},
     "output_type": "display_data"
    },
    {
     "data": {
      "text/html": [
       "<pre style=\"white-space:pre;overflow-x:auto;line-height:normal;font-family:Menlo,'DejaVu Sans Mono',consolas,'Courier New',monospace\">                                                                                                                   \n",
       "<span style=\"color: #000080; text-decoration-color: #000080; font-weight: bold\">----- Run N-body -----</span>                                                                                             \n",
       "                                                                                                                   \n",
       "</pre>\n"
      ],
      "text/plain": [
       "                                                                                                                   \n",
       "\u001b[1;34m----- Run N-body -----\u001b[0m                                                                                             \n",
       "                                                                                                                   \n"
      ]
     },
     "metadata": {},
     "output_type": "display_data"
    },
    {
     "data": {
      "text/html": [
       "<pre style=\"white-space:pre;overflow-x:auto;line-height:normal;font-family:Menlo,'DejaVu Sans Mono',consolas,'Courier New',monospace\">Tables, <span style=\"color: #008080; text-decoration-color: #008080; font-weight: bold\">13</span>                                                                                                         \n",
       "</pre>\n"
      ],
      "text/plain": [
       "Tables, \u001b[1;36m13\u001b[0m                                                                                                         \n"
      ]
     },
     "metadata": {},
     "output_type": "display_data"
    },
    {
     "name": "stdout",
     "output_type": "stream",
     "text": [
      "Chi Laplacian Factor: 2.499999156660759\n",
      "Chi Laplacian Factor: 2.499999253059836\n"
     ]
    },
    {
     "data": {
      "text/html": [
       "<pre style=\"white-space:pre;overflow-x:auto;line-height:normal;font-family:Menlo,'DejaVu Sans Mono',consolas,'Courier New',monospace\">param<span style=\"font-weight: bold\">[</span><span style=\"color: #008000; text-decoration-color: #008000\">'nsteps'</span><span style=\"font-weight: bold\">]</span>=<span style=\"color: #008080; text-decoration-color: #008080; font-weight: bold\">1</span> param<span style=\"font-weight: bold\">[</span><span style=\"color: #008000; text-decoration-color: #008000\">'aexp'</span><span style=\"font-weight: bold\">]</span>=<span style=\"color: #008080; text-decoration-color: #008080; font-weight: bold\">0.021568627395171482</span> z = <span style=\"color: #008080; text-decoration-color: #008080; font-weight: bold\">45.363636483602455</span>                                        \n",
       "</pre>\n"
      ],
      "text/plain": [
       "param\u001b[1m[\u001b[0m\u001b[32m'nsteps'\u001b[0m\u001b[1m]\u001b[0m=\u001b[1;36m1\u001b[0m param\u001b[1m[\u001b[0m\u001b[32m'aexp'\u001b[0m\u001b[1m]\u001b[0m=\u001b[1;36m0.021568627395171482\u001b[0m z = \u001b[1;36m45.363636483602455\u001b[0m                                        \n"
      ]
     },
     "metadata": {},
     "output_type": "display_data"
    },
    {
     "name": "stdout",
     "output_type": "stream",
     "text": [
      "Chi Laplacian Factor: 2.499999376661675\n"
     ]
    },
    {
     "data": {
      "text/html": [
       "<pre style=\"white-space:pre;overflow-x:auto;line-height:normal;font-family:Menlo,'DejaVu Sans Mono',consolas,'Courier New',monospace\">param<span style=\"font-weight: bold\">[</span><span style=\"color: #008000; text-decoration-color: #008000\">'nsteps'</span><span style=\"font-weight: bold\">]</span>=<span style=\"color: #008080; text-decoration-color: #008080; font-weight: bold\">2</span> param<span style=\"font-weight: bold\">[</span><span style=\"color: #008000; text-decoration-color: #008000\">'aexp'</span><span style=\"font-weight: bold\">]</span>=<span style=\"color: #008080; text-decoration-color: #008080; font-weight: bold\">0.023725490197135993</span> z = <span style=\"color: #008080; text-decoration-color: #008080; font-weight: bold\">41.14876032869974</span>                                         \n",
       "</pre>\n"
      ],
      "text/plain": [
       "param\u001b[1m[\u001b[0m\u001b[32m'nsteps'\u001b[0m\u001b[1m]\u001b[0m=\u001b[1;36m2\u001b[0m param\u001b[1m[\u001b[0m\u001b[32m'aexp'\u001b[0m\u001b[1m]\u001b[0m=\u001b[1;36m0.023725490197135993\u001b[0m z = \u001b[1;36m41.14876032869974\u001b[0m                                         \n"
      ]
     },
     "metadata": {},
     "output_type": "display_data"
    },
    {
     "name": "stdout",
     "output_type": "stream",
     "text": [
      "Chi Laplacian Factor: 2.4999994297490726\n"
     ]
    },
    {
     "data": {
      "text/html": [
       "<pre style=\"white-space:pre;overflow-x:auto;line-height:normal;font-family:Menlo,'DejaVu Sans Mono',consolas,'Courier New',monospace\">param<span style=\"font-weight: bold\">[</span><span style=\"color: #008000; text-decoration-color: #008000\">'nsteps'</span><span style=\"font-weight: bold\">]</span>=<span style=\"color: #008080; text-decoration-color: #008080; font-weight: bold\">3</span> param<span style=\"font-weight: bold\">[</span><span style=\"color: #008000; text-decoration-color: #008000\">'aexp'</span><span style=\"font-weight: bold\">]</span>=<span style=\"color: #008080; text-decoration-color: #008080; font-weight: bold\">0.02609803910326114</span> z = <span style=\"color: #008080; text-decoration-color: #008080; font-weight: bold\">37.317055011042676</span>                                         \n",
       "</pre>\n"
      ],
      "text/plain": [
       "param\u001b[1m[\u001b[0m\u001b[32m'nsteps'\u001b[0m\u001b[1m]\u001b[0m=\u001b[1;36m3\u001b[0m param\u001b[1m[\u001b[0m\u001b[32m'aexp'\u001b[0m\u001b[1m]\u001b[0m=\u001b[1;36m0.02609803910326114\u001b[0m z = \u001b[1;36m37.317055011042676\u001b[0m                                         \n"
      ]
     },
     "metadata": {},
     "output_type": "display_data"
    },
    {
     "name": "stdout",
     "output_type": "stream",
     "text": [
      "Chi Laplacian Factor: 2.499999411444002\n"
     ]
    },
    {
     "data": {
      "text/html": [
       "<pre style=\"white-space:pre;overflow-x:auto;line-height:normal;font-family:Menlo,'DejaVu Sans Mono',consolas,'Courier New',monospace\">param<span style=\"font-weight: bold\">[</span><span style=\"color: #008000; text-decoration-color: #008000\">'nsteps'</span><span style=\"font-weight: bold\">]</span>=<span style=\"color: #008080; text-decoration-color: #008080; font-weight: bold\">4</span> param<span style=\"font-weight: bold\">[</span><span style=\"color: #008000; text-decoration-color: #008000\">'aexp'</span><span style=\"font-weight: bold\">]</span>=<span style=\"color: #008080; text-decoration-color: #008080; font-weight: bold\">0.02870784311611884</span> z = <span style=\"color: #008080; text-decoration-color: #008080; font-weight: bold\">33.8336862492648</span>                                           \n",
       "</pre>\n"
      ],
      "text/plain": [
       "param\u001b[1m[\u001b[0m\u001b[32m'nsteps'\u001b[0m\u001b[1m]\u001b[0m=\u001b[1;36m4\u001b[0m param\u001b[1m[\u001b[0m\u001b[32m'aexp'\u001b[0m\u001b[1m]\u001b[0m=\u001b[1;36m0.02870784311611884\u001b[0m z = \u001b[1;36m33.8336862492648\u001b[0m                                           \n"
      ]
     },
     "metadata": {},
     "output_type": "display_data"
    },
    {
     "name": "stdout",
     "output_type": "stream",
     "text": [
      "Chi Laplacian Factor: 2.499999421771805\n"
     ]
    },
    {
     "data": {
      "text/html": [
       "<pre style=\"white-space:pre;overflow-x:auto;line-height:normal;font-family:Menlo,'DejaVu Sans Mono',consolas,'Courier New',monospace\">param<span style=\"font-weight: bold\">[</span><span style=\"color: #008000; text-decoration-color: #008000\">'nsteps'</span><span style=\"font-weight: bold\">]</span>=<span style=\"color: #008080; text-decoration-color: #008080; font-weight: bold\">5</span> param<span style=\"font-weight: bold\">[</span><span style=\"color: #008000; text-decoration-color: #008000\">'aexp'</span><span style=\"font-weight: bold\">]</span>=<span style=\"color: #008080; text-decoration-color: #008080; font-weight: bold\">0.0315786275623169</span> z = <span style=\"color: #008080; text-decoration-color: #008080; font-weight: bold\">30.666987364368875</span>                                          \n",
       "</pre>\n"
      ],
      "text/plain": [
       "param\u001b[1m[\u001b[0m\u001b[32m'nsteps'\u001b[0m\u001b[1m]\u001b[0m=\u001b[1;36m5\u001b[0m param\u001b[1m[\u001b[0m\u001b[32m'aexp'\u001b[0m\u001b[1m]\u001b[0m=\u001b[1;36m0.0315786275623169\u001b[0m z = \u001b[1;36m30.666987364368875\u001b[0m                                          \n"
      ]
     },
     "metadata": {},
     "output_type": "display_data"
    },
    {
     "name": "stdout",
     "output_type": "stream",
     "text": [
      "Chi Laplacian Factor: 2.499999461135605\n"
     ]
    },
    {
     "data": {
      "text/html": [
       "<pre style=\"white-space:pre;overflow-x:auto;line-height:normal;font-family:Menlo,'DejaVu Sans Mono',consolas,'Courier New',monospace\">param<span style=\"font-weight: bold\">[</span><span style=\"color: #008000; text-decoration-color: #008000\">'nsteps'</span><span style=\"font-weight: bold\">]</span>=<span style=\"color: #008080; text-decoration-color: #008080; font-weight: bold\">6</span> param<span style=\"font-weight: bold\">[</span><span style=\"color: #008000; text-decoration-color: #008000\">'aexp'</span><span style=\"font-weight: bold\">]</span>=<span style=\"color: #008080; text-decoration-color: #008080; font-weight: bold\">0.0347364904864863</span> z = <span style=\"color: #008080; text-decoration-color: #008080; font-weight: bold\">27.788170192064587</span>                                          \n",
       "</pre>\n"
      ],
      "text/plain": [
       "param\u001b[1m[\u001b[0m\u001b[32m'nsteps'\u001b[0m\u001b[1m]\u001b[0m=\u001b[1;36m6\u001b[0m param\u001b[1m[\u001b[0m\u001b[32m'aexp'\u001b[0m\u001b[1m]\u001b[0m=\u001b[1;36m0.0347364904864863\u001b[0m z = \u001b[1;36m27.788170192064587\u001b[0m                                          \n"
      ]
     },
     "metadata": {},
     "output_type": "display_data"
    },
    {
     "name": "stdout",
     "output_type": "stream",
     "text": [
      "Chi Laplacian Factor: 2.499999529881989\n"
     ]
    },
    {
     "data": {
      "text/html": [
       "<pre style=\"white-space:pre;overflow-x:auto;line-height:normal;font-family:Menlo,'DejaVu Sans Mono',consolas,'Courier New',monospace\">param<span style=\"font-weight: bold\">[</span><span style=\"color: #008000; text-decoration-color: #008000\">'nsteps'</span><span style=\"font-weight: bold\">]</span>=<span style=\"color: #008080; text-decoration-color: #008080; font-weight: bold\">7</span> param<span style=\"font-weight: bold\">[</span><span style=\"color: #008000; text-decoration-color: #008000\">'aexp'</span><span style=\"font-weight: bold\">]</span>=<span style=\"color: #008080; text-decoration-color: #008080; font-weight: bold\">0.03821013960913581</span> z = <span style=\"color: #008080; text-decoration-color: #008080; font-weight: bold\">25.171063760282784</span>                                         \n",
       "</pre>\n"
      ],
      "text/plain": [
       "param\u001b[1m[\u001b[0m\u001b[32m'nsteps'\u001b[0m\u001b[1m]\u001b[0m=\u001b[1;36m7\u001b[0m param\u001b[1m[\u001b[0m\u001b[32m'aexp'\u001b[0m\u001b[1m]\u001b[0m=\u001b[1;36m0.03821013960913581\u001b[0m z = \u001b[1;36m25.171063760282784\u001b[0m                                         \n"
      ]
     },
     "metadata": {},
     "output_type": "display_data"
    },
    {
     "name": "stdout",
     "output_type": "stream",
     "text": [
      "Chi Laplacian Factor: 2.4999996283098325\n"
     ]
    },
    {
     "data": {
      "text/html": [
       "<pre style=\"white-space:pre;overflow-x:auto;line-height:normal;font-family:Menlo,'DejaVu Sans Mono',consolas,'Courier New',monospace\">param<span style=\"font-weight: bold\">[</span><span style=\"color: #008000; text-decoration-color: #008000\">'nsteps'</span><span style=\"font-weight: bold\">]</span>=<span style=\"color: #008080; text-decoration-color: #008080; font-weight: bold\">8</span> param<span style=\"font-weight: bold\">[</span><span style=\"color: #008000; text-decoration-color: #008000\">'aexp'</span><span style=\"font-weight: bold\">]</span>=<span style=\"color: #008080; text-decoration-color: #008080; font-weight: bold\">0.042031153548907685</span> z = <span style=\"color: #008080; text-decoration-color: #008080; font-weight: bold\">22.791876157678956</span>                                        \n",
       "</pre>\n"
      ],
      "text/plain": [
       "param\u001b[1m[\u001b[0m\u001b[32m'nsteps'\u001b[0m\u001b[1m]\u001b[0m=\u001b[1;36m8\u001b[0m param\u001b[1m[\u001b[0m\u001b[32m'aexp'\u001b[0m\u001b[1m]\u001b[0m=\u001b[1;36m0.042031153548907685\u001b[0m z = \u001b[1;36m22.791876157678956\u001b[0m                                        \n"
      ]
     },
     "metadata": {},
     "output_type": "display_data"
    },
    {
     "name": "stdout",
     "output_type": "stream",
     "text": [
      "Chi Laplacian Factor: 2.4999996584519906\n"
     ]
    },
    {
     "data": {
      "text/html": [
       "<pre style=\"white-space:pre;overflow-x:auto;line-height:normal;font-family:Menlo,'DejaVu Sans Mono',consolas,'Courier New',monospace\">param<span style=\"font-weight: bold\">[</span><span style=\"color: #008000; text-decoration-color: #008000\">'nsteps'</span><span style=\"font-weight: bold\">]</span>=<span style=\"color: #008080; text-decoration-color: #008080; font-weight: bold\">9</span> param<span style=\"font-weight: bold\">[</span><span style=\"color: #008000; text-decoration-color: #008000\">'aexp'</span><span style=\"font-weight: bold\">]</span>=<span style=\"color: #008080; text-decoration-color: #008080; font-weight: bold\">0.046234268889304174</span> z = <span style=\"color: #008080; text-decoration-color: #008080; font-weight: bold\">20.628978331943294</span>                                        \n",
       "</pre>\n"
      ],
      "text/plain": [
       "param\u001b[1m[\u001b[0m\u001b[32m'nsteps'\u001b[0m\u001b[1m]\u001b[0m=\u001b[1;36m9\u001b[0m param\u001b[1m[\u001b[0m\u001b[32m'aexp'\u001b[0m\u001b[1m]\u001b[0m=\u001b[1;36m0.046234268889304174\u001b[0m z = \u001b[1;36m20.628978331943294\u001b[0m                                        \n"
      ]
     },
     "metadata": {},
     "output_type": "display_data"
    },
    {
     "name": "stdout",
     "output_type": "stream",
     "text": [
      "Chi Laplacian Factor: 2.49999956544167\n"
     ]
    },
    {
     "data": {
      "text/html": [
       "<pre style=\"white-space:pre;overflow-x:auto;line-height:normal;font-family:Menlo,'DejaVu Sans Mono',consolas,'Courier New',monospace\">Snapshot written at <span style=\"color: #808000; text-decoration-color: #808000\">...</span><span style=\"color: #808000; text-decoration-color: #808000\">filename</span>=<span style=\"color: #008000; text-decoration-color: #008000\">'./smalln//output_00001/particles_eft_multigrid_ncoarse6.h5'</span>                       \n",
       "param<span style=\"font-weight: bold\">[</span><span style=\"color: #008000; text-decoration-color: #008000\">'aexp'</span><span style=\"font-weight: bold\">]</span>=<span style=\"color: #008080; text-decoration-color: #008080; font-weight: bold\">0.047619047619047616</span>                                                                                 \n",
       "</pre>\n"
      ],
      "text/plain": [
       "Snapshot written at \u001b[33m...\u001b[0m\u001b[33mfilename\u001b[0m=\u001b[32m'./smalln//output_00001/particles_eft_multigrid_ncoarse6.h5'\u001b[0m                       \n",
       "param\u001b[1m[\u001b[0m\u001b[32m'aexp'\u001b[0m\u001b[1m]\u001b[0m=\u001b[1;36m0.047619047619047616\u001b[0m                                                                                 \n"
      ]
     },
     "metadata": {},
     "output_type": "display_data"
    },
    {
     "data": {
      "text/html": [
       "<pre style=\"white-space:pre;overflow-x:auto;line-height:normal;font-family:Menlo,'DejaVu Sans Mono',consolas,'Courier New',monospace\">param<span style=\"font-weight: bold\">[</span><span style=\"color: #008000; text-decoration-color: #008000\">'nsteps'</span><span style=\"font-weight: bold\">]</span>=<span style=\"color: #008080; text-decoration-color: #008080; font-weight: bold\">10</span> param<span style=\"font-weight: bold\">[</span><span style=\"color: #008000; text-decoration-color: #008000\">'aexp'</span><span style=\"font-weight: bold\">]</span>=<span style=\"color: #008080; text-decoration-color: #008080; font-weight: bold\">0.047619047619047616</span> z = <span style=\"color: #008080; text-decoration-color: #008080; font-weight: bold\">20.0</span>                                                     \n",
       "</pre>\n"
      ],
      "text/plain": [
       "param\u001b[1m[\u001b[0m\u001b[32m'nsteps'\u001b[0m\u001b[1m]\u001b[0m=\u001b[1;36m10\u001b[0m param\u001b[1m[\u001b[0m\u001b[32m'aexp'\u001b[0m\u001b[1m]\u001b[0m=\u001b[1;36m0.047619047619047616\u001b[0m z = \u001b[1;36m20.0\u001b[0m                                                     \n"
      ]
     },
     "metadata": {},
     "output_type": "display_data"
    },
    {
     "name": "stdout",
     "output_type": "stream",
     "text": [
      "Chi Laplacian Factor: 2.4999995784091675\n"
     ]
    },
    {
     "data": {
      "text/html": [
       "<pre style=\"white-space:pre;overflow-x:auto;line-height:normal;font-family:Menlo,'DejaVu Sans Mono',consolas,'Courier New',monospace\">Snapshot written at <span style=\"color: #808000; text-decoration-color: #808000\">...</span><span style=\"color: #808000; text-decoration-color: #808000\">filename</span>=<span style=\"color: #008000; text-decoration-color: #008000\">'./smalln//output_00002/particles_eft_multigrid_ncoarse6.h5'</span>                       \n",
       "param<span style=\"font-weight: bold\">[</span><span style=\"color: #008000; text-decoration-color: #008000\">'aexp'</span><span style=\"font-weight: bold\">]</span>=<span style=\"color: #008080; text-decoration-color: #008080; font-weight: bold\">0.05000000000000001</span>                                                                                  \n",
       "</pre>\n"
      ],
      "text/plain": [
       "Snapshot written at \u001b[33m...\u001b[0m\u001b[33mfilename\u001b[0m=\u001b[32m'./smalln//output_00002/particles_eft_multigrid_ncoarse6.h5'\u001b[0m                       \n",
       "param\u001b[1m[\u001b[0m\u001b[32m'aexp'\u001b[0m\u001b[1m]\u001b[0m=\u001b[1;36m0.05000000000000001\u001b[0m                                                                                  \n"
      ]
     },
     "metadata": {},
     "output_type": "display_data"
    },
    {
     "data": {
      "text/html": [
       "<pre style=\"white-space:pre;overflow-x:auto;line-height:normal;font-family:Menlo,'DejaVu Sans Mono',consolas,'Courier New',monospace\">param<span style=\"font-weight: bold\">[</span><span style=\"color: #008000; text-decoration-color: #008000\">'nsteps'</span><span style=\"font-weight: bold\">]</span>=<span style=\"color: #008080; text-decoration-color: #008080; font-weight: bold\">11</span> param<span style=\"font-weight: bold\">[</span><span style=\"color: #008000; text-decoration-color: #008000\">'aexp'</span><span style=\"font-weight: bold\">]</span>=<span style=\"color: #008080; text-decoration-color: #008080; font-weight: bold\">0.05000000000000001</span> z = <span style=\"color: #008080; text-decoration-color: #008080; font-weight: bold\">18.999999999999996</span>                                        \n",
       "</pre>\n"
      ],
      "text/plain": [
       "param\u001b[1m[\u001b[0m\u001b[32m'nsteps'\u001b[0m\u001b[1m]\u001b[0m=\u001b[1;36m11\u001b[0m param\u001b[1m[\u001b[0m\u001b[32m'aexp'\u001b[0m\u001b[1m]\u001b[0m=\u001b[1;36m0.05000000000000001\u001b[0m z = \u001b[1;36m18.999999999999996\u001b[0m                                        \n"
      ]
     },
     "metadata": {},
     "output_type": "display_data"
    },
    {
     "name": "stdout",
     "output_type": "stream",
     "text": [
      "Chi Laplacian Factor: 2.499999620939536\n"
     ]
    },
    {
     "data": {
      "text/html": [
       "<pre style=\"white-space:pre;overflow-x:auto;line-height:normal;font-family:Menlo,'DejaVu Sans Mono',consolas,'Courier New',monospace\">Snapshot written at <span style=\"color: #808000; text-decoration-color: #808000\">...</span><span style=\"color: #808000; text-decoration-color: #808000\">filename</span>=<span style=\"color: #008000; text-decoration-color: #008000\">'./smalln//output_00003/particles_eft_multigrid_ncoarse6.h5'</span>                       \n",
       "param<span style=\"font-weight: bold\">[</span><span style=\"color: #008000; text-decoration-color: #008000\">'aexp'</span><span style=\"font-weight: bold\">]</span>=<span style=\"color: #008080; text-decoration-color: #008080; font-weight: bold\">0.05263157894736841</span>                                                                                  \n",
       "</pre>\n"
      ],
      "text/plain": [
       "Snapshot written at \u001b[33m...\u001b[0m\u001b[33mfilename\u001b[0m=\u001b[32m'./smalln//output_00003/particles_eft_multigrid_ncoarse6.h5'\u001b[0m                       \n",
       "param\u001b[1m[\u001b[0m\u001b[32m'aexp'\u001b[0m\u001b[1m]\u001b[0m=\u001b[1;36m0.05263157894736841\u001b[0m                                                                                  \n"
      ]
     },
     "metadata": {},
     "output_type": "display_data"
    },
    {
     "data": {
      "text/html": [
       "<pre style=\"white-space:pre;overflow-x:auto;line-height:normal;font-family:Menlo,'DejaVu Sans Mono',consolas,'Courier New',monospace\">param<span style=\"font-weight: bold\">[</span><span style=\"color: #008000; text-decoration-color: #008000\">'nsteps'</span><span style=\"font-weight: bold\">]</span>=<span style=\"color: #008080; text-decoration-color: #008080; font-weight: bold\">12</span> param<span style=\"font-weight: bold\">[</span><span style=\"color: #008000; text-decoration-color: #008000\">'aexp'</span><span style=\"font-weight: bold\">]</span>=<span style=\"color: #008080; text-decoration-color: #008080; font-weight: bold\">0.05263157894736841</span> z = <span style=\"color: #008080; text-decoration-color: #008080; font-weight: bold\">18.000000000000004</span>                                        \n",
       "</pre>\n"
      ],
      "text/plain": [
       "param\u001b[1m[\u001b[0m\u001b[32m'nsteps'\u001b[0m\u001b[1m]\u001b[0m=\u001b[1;36m12\u001b[0m param\u001b[1m[\u001b[0m\u001b[32m'aexp'\u001b[0m\u001b[1m]\u001b[0m=\u001b[1;36m0.05263157894736841\u001b[0m z = \u001b[1;36m18.000000000000004\u001b[0m                                        \n"
      ]
     },
     "metadata": {},
     "output_type": "display_data"
    },
    {
     "name": "stdout",
     "output_type": "stream",
     "text": [
      "Chi Laplacian Factor: 2.499999653443554\n"
     ]
    },
    {
     "data": {
      "text/html": [
       "<pre style=\"white-space:pre;overflow-x:auto;line-height:normal;font-family:Menlo,'DejaVu Sans Mono',consolas,'Courier New',monospace\">Snapshot written at <span style=\"color: #808000; text-decoration-color: #808000\">...</span><span style=\"color: #808000; text-decoration-color: #808000\">filename</span>=<span style=\"color: #008000; text-decoration-color: #008000\">'./smalln//output_00004/particles_eft_multigrid_ncoarse6.h5'</span>                       \n",
       "param<span style=\"font-weight: bold\">[</span><span style=\"color: #008000; text-decoration-color: #008000\">'aexp'</span><span style=\"font-weight: bold\">]</span>=<span style=\"color: #008080; text-decoration-color: #008080; font-weight: bold\">0.05555555555555554</span>                                                                                  \n",
       "</pre>\n"
      ],
      "text/plain": [
       "Snapshot written at \u001b[33m...\u001b[0m\u001b[33mfilename\u001b[0m=\u001b[32m'./smalln//output_00004/particles_eft_multigrid_ncoarse6.h5'\u001b[0m                       \n",
       "param\u001b[1m[\u001b[0m\u001b[32m'aexp'\u001b[0m\u001b[1m]\u001b[0m=\u001b[1;36m0.05555555555555554\u001b[0m                                                                                  \n"
      ]
     },
     "metadata": {},
     "output_type": "display_data"
    },
    {
     "data": {
      "text/html": [
       "<pre style=\"white-space:pre;overflow-x:auto;line-height:normal;font-family:Menlo,'DejaVu Sans Mono',consolas,'Courier New',monospace\">param<span style=\"font-weight: bold\">[</span><span style=\"color: #008000; text-decoration-color: #008000\">'nsteps'</span><span style=\"font-weight: bold\">]</span>=<span style=\"color: #008080; text-decoration-color: #008080; font-weight: bold\">13</span> param<span style=\"font-weight: bold\">[</span><span style=\"color: #008000; text-decoration-color: #008000\">'aexp'</span><span style=\"font-weight: bold\">]</span>=<span style=\"color: #008080; text-decoration-color: #008080; font-weight: bold\">0.05555555555555554</span> z = <span style=\"color: #008080; text-decoration-color: #008080; font-weight: bold\">17.000000000000007</span>                                        \n",
       "</pre>\n"
      ],
      "text/plain": [
       "param\u001b[1m[\u001b[0m\u001b[32m'nsteps'\u001b[0m\u001b[1m]\u001b[0m=\u001b[1;36m13\u001b[0m param\u001b[1m[\u001b[0m\u001b[32m'aexp'\u001b[0m\u001b[1m]\u001b[0m=\u001b[1;36m0.05555555555555554\u001b[0m z = \u001b[1;36m17.000000000000007\u001b[0m                                        \n"
      ]
     },
     "metadata": {},
     "output_type": "display_data"
    },
    {
     "name": "stdout",
     "output_type": "stream",
     "text": [
      "Chi Laplacian Factor: 2.4999997621899848\n"
     ]
    },
    {
     "data": {
      "text/html": [
       "<pre style=\"white-space:pre;overflow-x:auto;line-height:normal;font-family:Menlo,'DejaVu Sans Mono',consolas,'Courier New',monospace\">Snapshot written at <span style=\"color: #808000; text-decoration-color: #808000\">...</span><span style=\"color: #808000; text-decoration-color: #808000\">filename</span>=<span style=\"color: #008000; text-decoration-color: #008000\">'./smalln//output_00005/particles_eft_multigrid_ncoarse6.h5'</span>                       \n",
       "param<span style=\"font-weight: bold\">[</span><span style=\"color: #008000; text-decoration-color: #008000\">'aexp'</span><span style=\"font-weight: bold\">]</span>=<span style=\"color: #008080; text-decoration-color: #008080; font-weight: bold\">0.0588235294117647</span>                                                                                   \n",
       "</pre>\n"
      ],
      "text/plain": [
       "Snapshot written at \u001b[33m...\u001b[0m\u001b[33mfilename\u001b[0m=\u001b[32m'./smalln//output_00005/particles_eft_multigrid_ncoarse6.h5'\u001b[0m                       \n",
       "param\u001b[1m[\u001b[0m\u001b[32m'aexp'\u001b[0m\u001b[1m]\u001b[0m=\u001b[1;36m0.0588235294117647\u001b[0m                                                                                   \n"
      ]
     },
     "metadata": {},
     "output_type": "display_data"
    },
    {
     "data": {
      "text/html": [
       "<pre style=\"white-space:pre;overflow-x:auto;line-height:normal;font-family:Menlo,'DejaVu Sans Mono',consolas,'Courier New',monospace\">param<span style=\"font-weight: bold\">[</span><span style=\"color: #008000; text-decoration-color: #008000\">'nsteps'</span><span style=\"font-weight: bold\">]</span>=<span style=\"color: #008080; text-decoration-color: #008080; font-weight: bold\">14</span> param<span style=\"font-weight: bold\">[</span><span style=\"color: #008000; text-decoration-color: #008000\">'aexp'</span><span style=\"font-weight: bold\">]</span>=<span style=\"color: #008080; text-decoration-color: #008080; font-weight: bold\">0.0588235294117647</span> z = <span style=\"color: #008080; text-decoration-color: #008080; font-weight: bold\">16.000000000000004</span>                                         \n",
       "</pre>\n"
      ],
      "text/plain": [
       "param\u001b[1m[\u001b[0m\u001b[32m'nsteps'\u001b[0m\u001b[1m]\u001b[0m=\u001b[1;36m14\u001b[0m param\u001b[1m[\u001b[0m\u001b[32m'aexp'\u001b[0m\u001b[1m]\u001b[0m=\u001b[1;36m0.0588235294117647\u001b[0m z = \u001b[1;36m16.000000000000004\u001b[0m                                         \n"
      ]
     },
     "metadata": {},
     "output_type": "display_data"
    },
    {
     "name": "stdout",
     "output_type": "stream",
     "text": [
      "Chi Laplacian Factor: 2.4999997142844124\n"
     ]
    },
    {
     "data": {
      "text/html": [
       "<pre style=\"white-space:pre;overflow-x:auto;line-height:normal;font-family:Menlo,'DejaVu Sans Mono',consolas,'Courier New',monospace\">Snapshot written at <span style=\"color: #808000; text-decoration-color: #808000\">...</span><span style=\"color: #808000; text-decoration-color: #808000\">filename</span>=<span style=\"color: #008000; text-decoration-color: #008000\">'./smalln//output_00006/particles_eft_multigrid_ncoarse6.h5'</span> param<span style=\"font-weight: bold\">[</span><span style=\"color: #008000; text-decoration-color: #008000\">'aexp'</span><span style=\"font-weight: bold\">]</span>=<span style=\"color: #008080; text-decoration-color: #008080; font-weight: bold\">0.0625</span>  \n",
       "</pre>\n"
      ],
      "text/plain": [
       "Snapshot written at \u001b[33m...\u001b[0m\u001b[33mfilename\u001b[0m=\u001b[32m'./smalln//output_00006/particles_eft_multigrid_ncoarse6.h5'\u001b[0m param\u001b[1m[\u001b[0m\u001b[32m'aexp'\u001b[0m\u001b[1m]\u001b[0m=\u001b[1;36m0.0625\u001b[0m  \n"
      ]
     },
     "metadata": {},
     "output_type": "display_data"
    },
    {
     "data": {
      "text/html": [
       "<pre style=\"white-space:pre;overflow-x:auto;line-height:normal;font-family:Menlo,'DejaVu Sans Mono',consolas,'Courier New',monospace\">param<span style=\"font-weight: bold\">[</span><span style=\"color: #008000; text-decoration-color: #008000\">'nsteps'</span><span style=\"font-weight: bold\">]</span>=<span style=\"color: #008080; text-decoration-color: #008080; font-weight: bold\">15</span> param<span style=\"font-weight: bold\">[</span><span style=\"color: #008000; text-decoration-color: #008000\">'aexp'</span><span style=\"font-weight: bold\">]</span>=<span style=\"color: #008080; text-decoration-color: #008080; font-weight: bold\">0.0625</span> z = <span style=\"color: #008080; text-decoration-color: #008080; font-weight: bold\">15.0</span>                                                                   \n",
       "</pre>\n"
      ],
      "text/plain": [
       "param\u001b[1m[\u001b[0m\u001b[32m'nsteps'\u001b[0m\u001b[1m]\u001b[0m=\u001b[1;36m15\u001b[0m param\u001b[1m[\u001b[0m\u001b[32m'aexp'\u001b[0m\u001b[1m]\u001b[0m=\u001b[1;36m0.0625\u001b[0m z = \u001b[1;36m15.0\u001b[0m                                                                   \n"
      ]
     },
     "metadata": {},
     "output_type": "display_data"
    },
    {
     "name": "stdout",
     "output_type": "stream",
     "text": [
      "Chi Laplacian Factor: 2.4999997581628177\n"
     ]
    },
    {
     "data": {
      "text/html": [
       "<pre style=\"white-space:pre;overflow-x:auto;line-height:normal;font-family:Menlo,'DejaVu Sans Mono',consolas,'Courier New',monospace\">Snapshot written at <span style=\"color: #808000; text-decoration-color: #808000\">...</span><span style=\"color: #808000; text-decoration-color: #808000\">filename</span>=<span style=\"color: #008000; text-decoration-color: #008000\">'./smalln//output_00007/particles_eft_multigrid_ncoarse6.h5'</span>                       \n",
       "param<span style=\"font-weight: bold\">[</span><span style=\"color: #008000; text-decoration-color: #008000\">'aexp'</span><span style=\"font-weight: bold\">]</span>=<span style=\"color: #008080; text-decoration-color: #008080; font-weight: bold\">0.06666666666666667</span>                                                                                  \n",
       "</pre>\n"
      ],
      "text/plain": [
       "Snapshot written at \u001b[33m...\u001b[0m\u001b[33mfilename\u001b[0m=\u001b[32m'./smalln//output_00007/particles_eft_multigrid_ncoarse6.h5'\u001b[0m                       \n",
       "param\u001b[1m[\u001b[0m\u001b[32m'aexp'\u001b[0m\u001b[1m]\u001b[0m=\u001b[1;36m0.06666666666666667\u001b[0m                                                                                  \n"
      ]
     },
     "metadata": {},
     "output_type": "display_data"
    },
    {
     "data": {
      "text/html": [
       "<pre style=\"white-space:pre;overflow-x:auto;line-height:normal;font-family:Menlo,'DejaVu Sans Mono',consolas,'Courier New',monospace\">param<span style=\"font-weight: bold\">[</span><span style=\"color: #008000; text-decoration-color: #008000\">'nsteps'</span><span style=\"font-weight: bold\">]</span>=<span style=\"color: #008080; text-decoration-color: #008080; font-weight: bold\">16</span> param<span style=\"font-weight: bold\">[</span><span style=\"color: #008000; text-decoration-color: #008000\">'aexp'</span><span style=\"font-weight: bold\">]</span>=<span style=\"color: #008080; text-decoration-color: #008080; font-weight: bold\">0.06666666666666667</span> z = <span style=\"color: #008080; text-decoration-color: #008080; font-weight: bold\">14.0</span>                                                      \n",
       "</pre>\n"
      ],
      "text/plain": [
       "param\u001b[1m[\u001b[0m\u001b[32m'nsteps'\u001b[0m\u001b[1m]\u001b[0m=\u001b[1;36m16\u001b[0m param\u001b[1m[\u001b[0m\u001b[32m'aexp'\u001b[0m\u001b[1m]\u001b[0m=\u001b[1;36m0.06666666666666667\u001b[0m z = \u001b[1;36m14.0\u001b[0m                                                      \n"
      ]
     },
     "metadata": {},
     "output_type": "display_data"
    },
    {
     "name": "stdout",
     "output_type": "stream",
     "text": [
      "Chi Laplacian Factor: 2.499999804199401\n"
     ]
    },
    {
     "data": {
      "text/html": [
       "<pre style=\"white-space:pre;overflow-x:auto;line-height:normal;font-family:Menlo,'DejaVu Sans Mono',consolas,'Courier New',monospace\">Snapshot written at <span style=\"color: #808000; text-decoration-color: #808000\">...</span><span style=\"color: #808000; text-decoration-color: #808000\">filename</span>=<span style=\"color: #008000; text-decoration-color: #008000\">'./smalln//output_00008/particles_eft_multigrid_ncoarse6.h5'</span>                       \n",
       "param<span style=\"font-weight: bold\">[</span><span style=\"color: #008000; text-decoration-color: #008000\">'aexp'</span><span style=\"font-weight: bold\">]</span>=<span style=\"color: #008080; text-decoration-color: #008080; font-weight: bold\">0.07142857142857141</span>                                                                                  \n",
       "</pre>\n"
      ],
      "text/plain": [
       "Snapshot written at \u001b[33m...\u001b[0m\u001b[33mfilename\u001b[0m=\u001b[32m'./smalln//output_00008/particles_eft_multigrid_ncoarse6.h5'\u001b[0m                       \n",
       "param\u001b[1m[\u001b[0m\u001b[32m'aexp'\u001b[0m\u001b[1m]\u001b[0m=\u001b[1;36m0.07142857142857141\u001b[0m                                                                                  \n"
      ]
     },
     "metadata": {},
     "output_type": "display_data"
    },
    {
     "data": {
      "text/html": [
       "<pre style=\"white-space:pre;overflow-x:auto;line-height:normal;font-family:Menlo,'DejaVu Sans Mono',consolas,'Courier New',monospace\">param<span style=\"font-weight: bold\">[</span><span style=\"color: #008000; text-decoration-color: #008000\">'nsteps'</span><span style=\"font-weight: bold\">]</span>=<span style=\"color: #008080; text-decoration-color: #008080; font-weight: bold\">17</span> param<span style=\"font-weight: bold\">[</span><span style=\"color: #008000; text-decoration-color: #008000\">'aexp'</span><span style=\"font-weight: bold\">]</span>=<span style=\"color: #008080; text-decoration-color: #008080; font-weight: bold\">0.07142857142857141</span> z = <span style=\"color: #008080; text-decoration-color: #008080; font-weight: bold\">13.000000000000004</span>                                        \n",
       "</pre>\n"
      ],
      "text/plain": [
       "param\u001b[1m[\u001b[0m\u001b[32m'nsteps'\u001b[0m\u001b[1m]\u001b[0m=\u001b[1;36m17\u001b[0m param\u001b[1m[\u001b[0m\u001b[32m'aexp'\u001b[0m\u001b[1m]\u001b[0m=\u001b[1;36m0.07142857142857141\u001b[0m z = \u001b[1;36m13.000000000000004\u001b[0m                                        \n"
      ]
     },
     "metadata": {},
     "output_type": "display_data"
    },
    {
     "name": "stdout",
     "output_type": "stream",
     "text": [
      "Chi Laplacian Factor: 2.499999683258405\n"
     ]
    },
    {
     "data": {
      "text/html": [
       "<pre style=\"white-space:pre;overflow-x:auto;line-height:normal;font-family:Menlo,'DejaVu Sans Mono',consolas,'Courier New',monospace\">Snapshot written at <span style=\"color: #808000; text-decoration-color: #808000\">...</span><span style=\"color: #808000; text-decoration-color: #808000\">filename</span>=<span style=\"color: #008000; text-decoration-color: #008000\">'./smalln//output_00009/particles_eft_multigrid_ncoarse6.h5'</span>                       \n",
       "param<span style=\"font-weight: bold\">[</span><span style=\"color: #008000; text-decoration-color: #008000\">'aexp'</span><span style=\"font-weight: bold\">]</span>=<span style=\"color: #008080; text-decoration-color: #008080; font-weight: bold\">0.07692307692307693</span>                                                                                  \n",
       "</pre>\n"
      ],
      "text/plain": [
       "Snapshot written at \u001b[33m...\u001b[0m\u001b[33mfilename\u001b[0m=\u001b[32m'./smalln//output_00009/particles_eft_multigrid_ncoarse6.h5'\u001b[0m                       \n",
       "param\u001b[1m[\u001b[0m\u001b[32m'aexp'\u001b[0m\u001b[1m]\u001b[0m=\u001b[1;36m0.07692307692307693\u001b[0m                                                                                  \n"
      ]
     },
     "metadata": {},
     "output_type": "display_data"
    },
    {
     "data": {
      "text/html": [
       "<pre style=\"white-space:pre;overflow-x:auto;line-height:normal;font-family:Menlo,'DejaVu Sans Mono',consolas,'Courier New',monospace\">param<span style=\"font-weight: bold\">[</span><span style=\"color: #008000; text-decoration-color: #008000\">'nsteps'</span><span style=\"font-weight: bold\">]</span>=<span style=\"color: #008080; text-decoration-color: #008080; font-weight: bold\">18</span> param<span style=\"font-weight: bold\">[</span><span style=\"color: #008000; text-decoration-color: #008000\">'aexp'</span><span style=\"font-weight: bold\">]</span>=<span style=\"color: #008080; text-decoration-color: #008080; font-weight: bold\">0.07692307692307693</span> z = <span style=\"color: #008080; text-decoration-color: #008080; font-weight: bold\">12.0</span>                                                      \n",
       "</pre>\n"
      ],
      "text/plain": [
       "param\u001b[1m[\u001b[0m\u001b[32m'nsteps'\u001b[0m\u001b[1m]\u001b[0m=\u001b[1;36m18\u001b[0m param\u001b[1m[\u001b[0m\u001b[32m'aexp'\u001b[0m\u001b[1m]\u001b[0m=\u001b[1;36m0.07692307692307693\u001b[0m z = \u001b[1;36m12.0\u001b[0m                                                      \n"
      ]
     },
     "metadata": {},
     "output_type": "display_data"
    },
    {
     "name": "stdout",
     "output_type": "stream",
     "text": [
      "Chi Laplacian Factor: 2.4999997014847652\n"
     ]
    },
    {
     "data": {
      "text/html": [
       "<pre style=\"white-space:pre;overflow-x:auto;line-height:normal;font-family:Menlo,'DejaVu Sans Mono',consolas,'Courier New',monospace\">Snapshot written at <span style=\"color: #808000; text-decoration-color: #808000\">...</span><span style=\"color: #808000; text-decoration-color: #808000\">filename</span>=<span style=\"color: #008000; text-decoration-color: #008000\">'./smalln//output_00010/particles_eft_multigrid_ncoarse6.h5'</span>                       \n",
       "param<span style=\"font-weight: bold\">[</span><span style=\"color: #008000; text-decoration-color: #008000\">'aexp'</span><span style=\"font-weight: bold\">]</span>=<span style=\"color: #008080; text-decoration-color: #008080; font-weight: bold\">0.08333333333333333</span>                                                                                  \n",
       "</pre>\n"
      ],
      "text/plain": [
       "Snapshot written at \u001b[33m...\u001b[0m\u001b[33mfilename\u001b[0m=\u001b[32m'./smalln//output_00010/particles_eft_multigrid_ncoarse6.h5'\u001b[0m                       \n",
       "param\u001b[1m[\u001b[0m\u001b[32m'aexp'\u001b[0m\u001b[1m]\u001b[0m=\u001b[1;36m0.08333333333333333\u001b[0m                                                                                  \n"
      ]
     },
     "metadata": {},
     "output_type": "display_data"
    },
    {
     "data": {
      "text/html": [
       "<pre style=\"white-space:pre;overflow-x:auto;line-height:normal;font-family:Menlo,'DejaVu Sans Mono',consolas,'Courier New',monospace\">param<span style=\"font-weight: bold\">[</span><span style=\"color: #008000; text-decoration-color: #008000\">'nsteps'</span><span style=\"font-weight: bold\">]</span>=<span style=\"color: #008080; text-decoration-color: #008080; font-weight: bold\">19</span> param<span style=\"font-weight: bold\">[</span><span style=\"color: #008000; text-decoration-color: #008000\">'aexp'</span><span style=\"font-weight: bold\">]</span>=<span style=\"color: #008080; text-decoration-color: #008080; font-weight: bold\">0.08333333333333333</span> z = <span style=\"color: #008080; text-decoration-color: #008080; font-weight: bold\">11.0</span>                                                      \n",
       "</pre>\n"
      ],
      "text/plain": [
       "param\u001b[1m[\u001b[0m\u001b[32m'nsteps'\u001b[0m\u001b[1m]\u001b[0m=\u001b[1;36m19\u001b[0m param\u001b[1m[\u001b[0m\u001b[32m'aexp'\u001b[0m\u001b[1m]\u001b[0m=\u001b[1;36m0.08333333333333333\u001b[0m z = \u001b[1;36m11.0\u001b[0m                                                      \n"
      ]
     },
     "metadata": {},
     "output_type": "display_data"
    },
    {
     "name": "stdout",
     "output_type": "stream",
     "text": [
      "Chi Laplacian Factor: 2.4999997161345706\n"
     ]
    },
    {
     "data": {
      "text/html": [
       "<pre style=\"white-space:pre;overflow-x:auto;line-height:normal;font-family:Menlo,'DejaVu Sans Mono',consolas,'Courier New',monospace\">Snapshot written at <span style=\"color: #808000; text-decoration-color: #808000\">...</span><span style=\"color: #808000; text-decoration-color: #808000\">filename</span>=<span style=\"color: #008000; text-decoration-color: #008000\">'./smalln//output_00011/particles_eft_multigrid_ncoarse6.h5'</span>                       \n",
       "param<span style=\"font-weight: bold\">[</span><span style=\"color: #008000; text-decoration-color: #008000\">'aexp'</span><span style=\"font-weight: bold\">]</span>=<span style=\"color: #008080; text-decoration-color: #008080; font-weight: bold\">0.0909090909090909</span>                                                                                   \n",
       "</pre>\n"
      ],
      "text/plain": [
       "Snapshot written at \u001b[33m...\u001b[0m\u001b[33mfilename\u001b[0m=\u001b[32m'./smalln//output_00011/particles_eft_multigrid_ncoarse6.h5'\u001b[0m                       \n",
       "param\u001b[1m[\u001b[0m\u001b[32m'aexp'\u001b[0m\u001b[1m]\u001b[0m=\u001b[1;36m0.0909090909090909\u001b[0m                                                                                   \n"
      ]
     },
     "metadata": {},
     "output_type": "display_data"
    },
    {
     "data": {
      "text/html": [
       "<pre style=\"white-space:pre;overflow-x:auto;line-height:normal;font-family:Menlo,'DejaVu Sans Mono',consolas,'Courier New',monospace\">param<span style=\"font-weight: bold\">[</span><span style=\"color: #008000; text-decoration-color: #008000\">'nsteps'</span><span style=\"font-weight: bold\">]</span>=<span style=\"color: #008080; text-decoration-color: #008080; font-weight: bold\">20</span> param<span style=\"font-weight: bold\">[</span><span style=\"color: #008000; text-decoration-color: #008000\">'aexp'</span><span style=\"font-weight: bold\">]</span>=<span style=\"color: #008080; text-decoration-color: #008080; font-weight: bold\">0.0909090909090909</span> z = <span style=\"color: #008080; text-decoration-color: #008080; font-weight: bold\">10.000000000000002</span>                                         \n",
       "</pre>\n"
      ],
      "text/plain": [
       "param\u001b[1m[\u001b[0m\u001b[32m'nsteps'\u001b[0m\u001b[1m]\u001b[0m=\u001b[1;36m20\u001b[0m param\u001b[1m[\u001b[0m\u001b[32m'aexp'\u001b[0m\u001b[1m]\u001b[0m=\u001b[1;36m0.0909090909090909\u001b[0m z = \u001b[1;36m10.000000000000002\u001b[0m                                         \n"
      ]
     },
     "metadata": {},
     "output_type": "display_data"
    },
    {
     "name": "stdout",
     "output_type": "stream",
     "text": [
      "Chi Laplacian Factor: 2.4999997146422785\n"
     ]
    },
    {
     "data": {
      "text/html": [
       "<pre style=\"white-space:pre;overflow-x:auto;line-height:normal;font-family:Menlo,'DejaVu Sans Mono',consolas,'Courier New',monospace\">Snapshot written at <span style=\"color: #808000; text-decoration-color: #808000\">...</span><span style=\"color: #808000; text-decoration-color: #808000\">filename</span>=<span style=\"color: #008000; text-decoration-color: #008000\">'./smalln//output_00012/particles_eft_multigrid_ncoarse6.h5'</span>                       \n",
       "param<span style=\"font-weight: bold\">[</span><span style=\"color: #008000; text-decoration-color: #008000\">'aexp'</span><span style=\"font-weight: bold\">]</span>=<span style=\"color: #008080; text-decoration-color: #008080; font-weight: bold\">0.10000000000000002</span>                                                                                  \n",
       "</pre>\n"
      ],
      "text/plain": [
       "Snapshot written at \u001b[33m...\u001b[0m\u001b[33mfilename\u001b[0m=\u001b[32m'./smalln//output_00012/particles_eft_multigrid_ncoarse6.h5'\u001b[0m                       \n",
       "param\u001b[1m[\u001b[0m\u001b[32m'aexp'\u001b[0m\u001b[1m]\u001b[0m=\u001b[1;36m0.10000000000000002\u001b[0m                                                                                  \n"
      ]
     },
     "metadata": {},
     "output_type": "display_data"
    },
    {
     "data": {
      "text/html": [
       "<pre style=\"white-space:pre;overflow-x:auto;line-height:normal;font-family:Menlo,'DejaVu Sans Mono',consolas,'Courier New',monospace\">param<span style=\"font-weight: bold\">[</span><span style=\"color: #008000; text-decoration-color: #008000\">'nsteps'</span><span style=\"font-weight: bold\">]</span>=<span style=\"color: #008080; text-decoration-color: #008080; font-weight: bold\">21</span> param<span style=\"font-weight: bold\">[</span><span style=\"color: #008000; text-decoration-color: #008000\">'aexp'</span><span style=\"font-weight: bold\">]</span>=<span style=\"color: #008080; text-decoration-color: #008080; font-weight: bold\">0.10000000000000002</span> z = <span style=\"color: #008080; text-decoration-color: #008080; font-weight: bold\">8.999999999999998</span>                                         \n",
       "</pre>\n"
      ],
      "text/plain": [
       "param\u001b[1m[\u001b[0m\u001b[32m'nsteps'\u001b[0m\u001b[1m]\u001b[0m=\u001b[1;36m21\u001b[0m param\u001b[1m[\u001b[0m\u001b[32m'aexp'\u001b[0m\u001b[1m]\u001b[0m=\u001b[1;36m0.10000000000000002\u001b[0m z = \u001b[1;36m8.999999999999998\u001b[0m                                         \n"
      ]
     },
     "metadata": {},
     "output_type": "display_data"
    },
    {
     "name": "stdout",
     "output_type": "stream",
     "text": [
      "Chi Laplacian Factor: 2.4999997448451956\n"
     ]
    },
    {
     "data": {
      "text/html": [
       "<pre style=\"white-space:pre;overflow-x:auto;line-height:normal;font-family:Menlo,'DejaVu Sans Mono',consolas,'Courier New',monospace\">param<span style=\"font-weight: bold\">[</span><span style=\"color: #008000; text-decoration-color: #008000\">'nsteps'</span><span style=\"font-weight: bold\">]</span>=<span style=\"color: #008080; text-decoration-color: #008080; font-weight: bold\">22</span> param<span style=\"font-weight: bold\">[</span><span style=\"color: #008000; text-decoration-color: #008000\">'aexp'</span><span style=\"font-weight: bold\">]</span>=<span style=\"color: #008080; text-decoration-color: #008080; font-weight: bold\">0.1099999997327191</span> z = <span style=\"color: #008080; text-decoration-color: #008080; font-weight: bold\">8.090909112998421</span>                                          \n",
       "</pre>\n"
      ],
      "text/plain": [
       "param\u001b[1m[\u001b[0m\u001b[32m'nsteps'\u001b[0m\u001b[1m]\u001b[0m=\u001b[1;36m22\u001b[0m param\u001b[1m[\u001b[0m\u001b[32m'aexp'\u001b[0m\u001b[1m]\u001b[0m=\u001b[1;36m0.1099999997327191\u001b[0m z = \u001b[1;36m8.090909112998421\u001b[0m                                          \n"
      ]
     },
     "metadata": {},
     "output_type": "display_data"
    },
    {
     "name": "stdout",
     "output_type": "stream",
     "text": [
      "Chi Laplacian Factor: 2.499999788330958\n"
     ]
    },
    {
     "data": {
      "text/html": [
       "<pre style=\"white-space:pre;overflow-x:auto;line-height:normal;font-family:Menlo,'DejaVu Sans Mono',consolas,'Courier New',monospace\">Snapshot written at <span style=\"color: #808000; text-decoration-color: #808000\">...</span><span style=\"color: #808000; text-decoration-color: #808000\">filename</span>=<span style=\"color: #008000; text-decoration-color: #008000\">'./smalln//output_00013/particles_eft_multigrid_ncoarse6.h5'</span>                       \n",
       "param<span style=\"font-weight: bold\">[</span><span style=\"color: #008000; text-decoration-color: #008000\">'aexp'</span><span style=\"font-weight: bold\">]</span>=<span style=\"color: #008080; text-decoration-color: #008080; font-weight: bold\">0.11111111111111109</span>                                                                                  \n",
       "</pre>\n"
      ],
      "text/plain": [
       "Snapshot written at \u001b[33m...\u001b[0m\u001b[33mfilename\u001b[0m=\u001b[32m'./smalln//output_00013/particles_eft_multigrid_ncoarse6.h5'\u001b[0m                       \n",
       "param\u001b[1m[\u001b[0m\u001b[32m'aexp'\u001b[0m\u001b[1m]\u001b[0m=\u001b[1;36m0.11111111111111109\u001b[0m                                                                                  \n"
      ]
     },
     "metadata": {},
     "output_type": "display_data"
    },
    {
     "data": {
      "text/html": [
       "<pre style=\"white-space:pre;overflow-x:auto;line-height:normal;font-family:Menlo,'DejaVu Sans Mono',consolas,'Courier New',monospace\">param<span style=\"font-weight: bold\">[</span><span style=\"color: #008000; text-decoration-color: #008000\">'nsteps'</span><span style=\"font-weight: bold\">]</span>=<span style=\"color: #008080; text-decoration-color: #008080; font-weight: bold\">23</span> param<span style=\"font-weight: bold\">[</span><span style=\"color: #008000; text-decoration-color: #008000\">'aexp'</span><span style=\"font-weight: bold\">]</span>=<span style=\"color: #008080; text-decoration-color: #008080; font-weight: bold\">0.11111111111111109</span> z = <span style=\"color: #008080; text-decoration-color: #008080; font-weight: bold\">8.000000000000002</span>                                         \n",
       "</pre>\n"
      ],
      "text/plain": [
       "param\u001b[1m[\u001b[0m\u001b[32m'nsteps'\u001b[0m\u001b[1m]\u001b[0m=\u001b[1;36m23\u001b[0m param\u001b[1m[\u001b[0m\u001b[32m'aexp'\u001b[0m\u001b[1m]\u001b[0m=\u001b[1;36m0.11111111111111109\u001b[0m z = \u001b[1;36m8.000000000000002\u001b[0m                                         \n"
      ]
     },
     "metadata": {},
     "output_type": "display_data"
    },
    {
     "name": "stdout",
     "output_type": "stream",
     "text": [
      "Chi Laplacian Factor: 2.499999753157559\n"
     ]
    },
    {
     "data": {
      "text/html": [
       "<pre style=\"white-space:pre;overflow-x:auto;line-height:normal;font-family:Menlo,'DejaVu Sans Mono',consolas,'Courier New',monospace\">param<span style=\"font-weight: bold\">[</span><span style=\"color: #008000; text-decoration-color: #008000\">'nsteps'</span><span style=\"font-weight: bold\">]</span>=<span style=\"color: #008080; text-decoration-color: #008080; font-weight: bold\">24</span> param<span style=\"font-weight: bold\">[</span><span style=\"color: #008000; text-decoration-color: #008000\">'aexp'</span><span style=\"font-weight: bold\">]</span>=<span style=\"color: #008080; text-decoration-color: #008080; font-weight: bold\">0.12222222184337919</span> z = <span style=\"color: #008080; text-decoration-color: #008080; font-weight: bold\">7.181818207178749</span>                                         \n",
       "</pre>\n"
      ],
      "text/plain": [
       "param\u001b[1m[\u001b[0m\u001b[32m'nsteps'\u001b[0m\u001b[1m]\u001b[0m=\u001b[1;36m24\u001b[0m param\u001b[1m[\u001b[0m\u001b[32m'aexp'\u001b[0m\u001b[1m]\u001b[0m=\u001b[1;36m0.12222222184337919\u001b[0m z = \u001b[1;36m7.181818207178749\u001b[0m                                         \n"
      ]
     },
     "metadata": {},
     "output_type": "display_data"
    },
    {
     "name": "stdout",
     "output_type": "stream",
     "text": [
      "Chi Laplacian Factor: 2.4999998387345763\n"
     ]
    },
    {
     "data": {
      "text/html": [
       "<pre style=\"white-space:pre;overflow-x:auto;line-height:normal;font-family:Menlo,'DejaVu Sans Mono',consolas,'Courier New',monospace\">Snapshot written at <span style=\"color: #808000; text-decoration-color: #808000\">...</span><span style=\"color: #808000; text-decoration-color: #808000\">filename</span>=<span style=\"color: #008000; text-decoration-color: #008000\">'./smalln//output_00014/particles_eft_multigrid_ncoarse6.h5'</span>                       \n",
       "param<span style=\"font-weight: bold\">[</span><span style=\"color: #008000; text-decoration-color: #008000\">'aexp'</span><span style=\"font-weight: bold\">]</span>=<span style=\"color: #008080; text-decoration-color: #008080; font-weight: bold\">0.12500000000000003</span>                                                                                  \n",
       "</pre>\n"
      ],
      "text/plain": [
       "Snapshot written at \u001b[33m...\u001b[0m\u001b[33mfilename\u001b[0m=\u001b[32m'./smalln//output_00014/particles_eft_multigrid_ncoarse6.h5'\u001b[0m                       \n",
       "param\u001b[1m[\u001b[0m\u001b[32m'aexp'\u001b[0m\u001b[1m]\u001b[0m=\u001b[1;36m0.12500000000000003\u001b[0m                                                                                  \n"
      ]
     },
     "metadata": {},
     "output_type": "display_data"
    },
    {
     "data": {
      "text/html": [
       "<pre style=\"white-space:pre;overflow-x:auto;line-height:normal;font-family:Menlo,'DejaVu Sans Mono',consolas,'Courier New',monospace\">param<span style=\"font-weight: bold\">[</span><span style=\"color: #008000; text-decoration-color: #008000\">'nsteps'</span><span style=\"font-weight: bold\">]</span>=<span style=\"color: #008080; text-decoration-color: #008080; font-weight: bold\">25</span> param<span style=\"font-weight: bold\">[</span><span style=\"color: #008000; text-decoration-color: #008000\">'aexp'</span><span style=\"font-weight: bold\">]</span>=<span style=\"color: #008080; text-decoration-color: #008080; font-weight: bold\">0.12500000000000003</span> z = <span style=\"color: #008080; text-decoration-color: #008080; font-weight: bold\">6.999999999999998</span>                                         \n",
       "</pre>\n"
      ],
      "text/plain": [
       "param\u001b[1m[\u001b[0m\u001b[32m'nsteps'\u001b[0m\u001b[1m]\u001b[0m=\u001b[1;36m25\u001b[0m param\u001b[1m[\u001b[0m\u001b[32m'aexp'\u001b[0m\u001b[1m]\u001b[0m=\u001b[1;36m0.12500000000000003\u001b[0m z = \u001b[1;36m6.999999999999998\u001b[0m                                         \n"
      ]
     },
     "metadata": {},
     "output_type": "display_data"
    },
    {
     "name": "stdout",
     "output_type": "stream",
     "text": [
      "Chi Laplacian Factor: 2.499999785349066\n"
     ]
    },
    {
     "data": {
      "text/html": [
       "<pre style=\"white-space:pre;overflow-x:auto;line-height:normal;font-family:Menlo,'DejaVu Sans Mono',consolas,'Courier New',monospace\">param<span style=\"font-weight: bold\">[</span><span style=\"color: #008000; text-decoration-color: #008000\">'nsteps'</span><span style=\"font-weight: bold\">]</span>=<span style=\"color: #008080; text-decoration-color: #008080; font-weight: bold\">26</span> param<span style=\"font-weight: bold\">[</span><span style=\"color: #008000; text-decoration-color: #008000\">'aexp'</span><span style=\"font-weight: bold\">]</span>=<span style=\"color: #008080; text-decoration-color: #008080; font-weight: bold\">0.1375000004223509</span> z = <span style=\"color: #008080; text-decoration-color: #008080; font-weight: bold\">6.272727250388052</span>                                          \n",
       "</pre>\n"
      ],
      "text/plain": [
       "param\u001b[1m[\u001b[0m\u001b[32m'nsteps'\u001b[0m\u001b[1m]\u001b[0m=\u001b[1;36m26\u001b[0m param\u001b[1m[\u001b[0m\u001b[32m'aexp'\u001b[0m\u001b[1m]\u001b[0m=\u001b[1;36m0.1375000004223509\u001b[0m z = \u001b[1;36m6.272727250388052\u001b[0m                                          \n"
      ]
     },
     "metadata": {},
     "output_type": "display_data"
    },
    {
     "name": "stdout",
     "output_type": "stream",
     "text": [
      "Chi Laplacian Factor: 2.4999998820067213\n"
     ]
    },
    {
     "data": {
      "text/html": [
       "<pre style=\"white-space:pre;overflow-x:auto;line-height:normal;font-family:Menlo,'DejaVu Sans Mono',consolas,'Courier New',monospace\">Snapshot written at <span style=\"color: #808000; text-decoration-color: #808000\">...</span><span style=\"color: #808000; text-decoration-color: #808000\">filename</span>=<span style=\"color: #008000; text-decoration-color: #008000\">'./smalln//output_00015/particles_eft_multigrid_ncoarse6.h5'</span>                       \n",
       "param<span style=\"font-weight: bold\">[</span><span style=\"color: #008000; text-decoration-color: #008000\">'aexp'</span><span style=\"font-weight: bold\">]</span>=<span style=\"color: #008080; text-decoration-color: #008080; font-weight: bold\">0.14285714285714285</span>                                                                                  \n",
       "</pre>\n"
      ],
      "text/plain": [
       "Snapshot written at \u001b[33m...\u001b[0m\u001b[33mfilename\u001b[0m=\u001b[32m'./smalln//output_00015/particles_eft_multigrid_ncoarse6.h5'\u001b[0m                       \n",
       "param\u001b[1m[\u001b[0m\u001b[32m'aexp'\u001b[0m\u001b[1m]\u001b[0m=\u001b[1;36m0.14285714285714285\u001b[0m                                                                                  \n"
      ]
     },
     "metadata": {},
     "output_type": "display_data"
    },
    {
     "data": {
      "text/html": [
       "<pre style=\"white-space:pre;overflow-x:auto;line-height:normal;font-family:Menlo,'DejaVu Sans Mono',consolas,'Courier New',monospace\">param<span style=\"font-weight: bold\">[</span><span style=\"color: #008000; text-decoration-color: #008000\">'nsteps'</span><span style=\"font-weight: bold\">]</span>=<span style=\"color: #008080; text-decoration-color: #008080; font-weight: bold\">27</span> param<span style=\"font-weight: bold\">[</span><span style=\"color: #008000; text-decoration-color: #008000\">'aexp'</span><span style=\"font-weight: bold\">]</span>=<span style=\"color: #008080; text-decoration-color: #008080; font-weight: bold\">0.14285714285714285</span> z = <span style=\"color: #008080; text-decoration-color: #008080; font-weight: bold\">6.0</span>                                                       \n",
       "</pre>\n"
      ],
      "text/plain": [
       "param\u001b[1m[\u001b[0m\u001b[32m'nsteps'\u001b[0m\u001b[1m]\u001b[0m=\u001b[1;36m27\u001b[0m param\u001b[1m[\u001b[0m\u001b[32m'aexp'\u001b[0m\u001b[1m]\u001b[0m=\u001b[1;36m0.14285714285714285\u001b[0m z = \u001b[1;36m6.0\u001b[0m                                                       \n"
      ]
     },
     "metadata": {},
     "output_type": "display_data"
    },
    {
     "name": "stdout",
     "output_type": "stream",
     "text": [
      "Chi Laplacian Factor: 2.499999846623085\n"
     ]
    },
    {
     "data": {
      "text/html": [
       "<pre style=\"white-space:pre;overflow-x:auto;line-height:normal;font-family:Menlo,'DejaVu Sans Mono',consolas,'Courier New',monospace\">param<span style=\"font-weight: bold\">[</span><span style=\"color: #008000; text-decoration-color: #008000\">'nsteps'</span><span style=\"font-weight: bold\">]</span>=<span style=\"color: #008080; text-decoration-color: #008080; font-weight: bold\">28</span> param<span style=\"font-weight: bold\">[</span><span style=\"color: #008000; text-decoration-color: #008000\">'aexp'</span><span style=\"font-weight: bold\">]</span>=<span style=\"color: #008080; text-decoration-color: #008080; font-weight: bold\">0.15714285739197312</span> z = <span style=\"color: #008080; text-decoration-color: #008080; font-weight: bold\">5.363636353548196</span>                                         \n",
       "</pre>\n"
      ],
      "text/plain": [
       "param\u001b[1m[\u001b[0m\u001b[32m'nsteps'\u001b[0m\u001b[1m]\u001b[0m=\u001b[1;36m28\u001b[0m param\u001b[1m[\u001b[0m\u001b[32m'aexp'\u001b[0m\u001b[1m]\u001b[0m=\u001b[1;36m0.15714285739197312\u001b[0m z = \u001b[1;36m5.363636353548196\u001b[0m                                         \n"
      ]
     },
     "metadata": {},
     "output_type": "display_data"
    },
    {
     "name": "stdout",
     "output_type": "stream",
     "text": [
      "Chi Laplacian Factor: 2.499999778486987\n"
     ]
    },
    {
     "data": {
      "text/html": [
       "<pre style=\"white-space:pre;overflow-x:auto;line-height:normal;font-family:Menlo,'DejaVu Sans Mono',consolas,'Courier New',monospace\">Snapshot written at <span style=\"color: #808000; text-decoration-color: #808000\">...</span><span style=\"color: #808000; text-decoration-color: #808000\">filename</span>=<span style=\"color: #008000; text-decoration-color: #008000\">'./smalln//output_00016/particles_eft_multigrid_ncoarse6.h5'</span>                       \n",
       "param<span style=\"font-weight: bold\">[</span><span style=\"color: #008000; text-decoration-color: #008000\">'aexp'</span><span style=\"font-weight: bold\">]</span>=<span style=\"color: #008080; text-decoration-color: #008080; font-weight: bold\">0.16666666666666669</span>                                                                                  \n",
       "</pre>\n"
      ],
      "text/plain": [
       "Snapshot written at \u001b[33m...\u001b[0m\u001b[33mfilename\u001b[0m=\u001b[32m'./smalln//output_00016/particles_eft_multigrid_ncoarse6.h5'\u001b[0m                       \n",
       "param\u001b[1m[\u001b[0m\u001b[32m'aexp'\u001b[0m\u001b[1m]\u001b[0m=\u001b[1;36m0.16666666666666669\u001b[0m                                                                                  \n"
      ]
     },
     "metadata": {},
     "output_type": "display_data"
    },
    {
     "data": {
      "text/html": [
       "<pre style=\"white-space:pre;overflow-x:auto;line-height:normal;font-family:Menlo,'DejaVu Sans Mono',consolas,'Courier New',monospace\">param<span style=\"font-weight: bold\">[</span><span style=\"color: #008000; text-decoration-color: #008000\">'nsteps'</span><span style=\"font-weight: bold\">]</span>=<span style=\"color: #008080; text-decoration-color: #008080; font-weight: bold\">29</span> param<span style=\"font-weight: bold\">[</span><span style=\"color: #008000; text-decoration-color: #008000\">'aexp'</span><span style=\"font-weight: bold\">]</span>=<span style=\"color: #008080; text-decoration-color: #008080; font-weight: bold\">0.16666666666666669</span> z = <span style=\"color: #008080; text-decoration-color: #008080; font-weight: bold\">4.999999999999999</span>                                         \n",
       "</pre>\n"
      ],
      "text/plain": [
       "param\u001b[1m[\u001b[0m\u001b[32m'nsteps'\u001b[0m\u001b[1m]\u001b[0m=\u001b[1;36m29\u001b[0m param\u001b[1m[\u001b[0m\u001b[32m'aexp'\u001b[0m\u001b[1m]\u001b[0m=\u001b[1;36m0.16666666666666669\u001b[0m z = \u001b[1;36m4.999999999999999\u001b[0m                                         \n"
      ]
     },
     "metadata": {},
     "output_type": "display_data"
    },
    {
     "name": "stdout",
     "output_type": "stream",
     "text": [
      "Chi Laplacian Factor: 2.4999998267805847\n"
     ]
    },
    {
     "data": {
      "text/html": [
       "<pre style=\"white-space:pre;overflow-x:auto;line-height:normal;font-family:Menlo,'DejaVu Sans Mono',consolas,'Courier New',monospace\">param<span style=\"font-weight: bold\">[</span><span style=\"color: #008000; text-decoration-color: #008000\">'nsteps'</span><span style=\"font-weight: bold\">]</span>=<span style=\"color: #008080; text-decoration-color: #008080; font-weight: bold\">30</span> param<span style=\"font-weight: bold\">[</span><span style=\"color: #008000; text-decoration-color: #008000\">'aexp'</span><span style=\"font-weight: bold\">]</span>=<span style=\"color: #008080; text-decoration-color: #008080; font-weight: bold\">0.18333333282846506</span> z = <span style=\"color: #008080; text-decoration-color: #008080; font-weight: bold\">4.4545454695663285</span>                                        \n",
       "</pre>\n"
      ],
      "text/plain": [
       "param\u001b[1m[\u001b[0m\u001b[32m'nsteps'\u001b[0m\u001b[1m]\u001b[0m=\u001b[1;36m30\u001b[0m param\u001b[1m[\u001b[0m\u001b[32m'aexp'\u001b[0m\u001b[1m]\u001b[0m=\u001b[1;36m0.18333333282846506\u001b[0m z = \u001b[1;36m4.4545454695663285\u001b[0m                                        \n"
      ]
     },
     "metadata": {},
     "output_type": "display_data"
    },
    {
     "name": "stdout",
     "output_type": "stream",
     "text": [
      "Chi Laplacian Factor: 2.499999783643361\n"
     ]
    },
    {
     "data": {
      "text/html": [
       "<pre style=\"white-space:pre;overflow-x:auto;line-height:normal;font-family:Menlo,'DejaVu Sans Mono',consolas,'Courier New',monospace\">Snapshot written at <span style=\"color: #808000; text-decoration-color: #808000\">...</span><span style=\"color: #808000; text-decoration-color: #808000\">filename</span>=<span style=\"color: #008000; text-decoration-color: #008000\">'./smalln//output_00017/particles_eft_multigrid_ncoarse6.h5'</span> param<span style=\"font-weight: bold\">[</span><span style=\"color: #008000; text-decoration-color: #008000\">'aexp'</span><span style=\"font-weight: bold\">]</span>=<span style=\"color: #008080; text-decoration-color: #008080; font-weight: bold\">0.2</span>     \n",
       "</pre>\n"
      ],
      "text/plain": [
       "Snapshot written at \u001b[33m...\u001b[0m\u001b[33mfilename\u001b[0m=\u001b[32m'./smalln//output_00017/particles_eft_multigrid_ncoarse6.h5'\u001b[0m param\u001b[1m[\u001b[0m\u001b[32m'aexp'\u001b[0m\u001b[1m]\u001b[0m=\u001b[1;36m0.2\u001b[0m     \n"
      ]
     },
     "metadata": {},
     "output_type": "display_data"
    },
    {
     "data": {
      "text/html": [
       "<pre style=\"white-space:pre;overflow-x:auto;line-height:normal;font-family:Menlo,'DejaVu Sans Mono',consolas,'Courier New',monospace\">param<span style=\"font-weight: bold\">[</span><span style=\"color: #008000; text-decoration-color: #008000\">'nsteps'</span><span style=\"font-weight: bold\">]</span>=<span style=\"color: #008080; text-decoration-color: #008080; font-weight: bold\">31</span> param<span style=\"font-weight: bold\">[</span><span style=\"color: #008000; text-decoration-color: #008000\">'aexp'</span><span style=\"font-weight: bold\">]</span>=<span style=\"color: #008080; text-decoration-color: #008080; font-weight: bold\">0.2</span> z = <span style=\"color: #008080; text-decoration-color: #008080; font-weight: bold\">4.0</span>                                                                       \n",
       "</pre>\n"
      ],
      "text/plain": [
       "param\u001b[1m[\u001b[0m\u001b[32m'nsteps'\u001b[0m\u001b[1m]\u001b[0m=\u001b[1;36m31\u001b[0m param\u001b[1m[\u001b[0m\u001b[32m'aexp'\u001b[0m\u001b[1m]\u001b[0m=\u001b[1;36m0.2\u001b[0m z = \u001b[1;36m4.0\u001b[0m                                                                       \n"
      ]
     },
     "metadata": {},
     "output_type": "display_data"
    },
    {
     "name": "stdout",
     "output_type": "stream",
     "text": [
      "Chi Laplacian Factor: 2.499999801309019\n"
     ]
    },
    {
     "data": {
      "text/html": [
       "<pre style=\"white-space:pre;overflow-x:auto;line-height:normal;font-family:Menlo,'DejaVu Sans Mono',consolas,'Courier New',monospace\">param<span style=\"font-weight: bold\">[</span><span style=\"color: #008000; text-decoration-color: #008000\">'nsteps'</span><span style=\"font-weight: bold\">]</span>=<span style=\"color: #008080; text-decoration-color: #008080; font-weight: bold\">32</span> param<span style=\"font-weight: bold\">[</span><span style=\"color: #008000; text-decoration-color: #008000\">'aexp'</span><span style=\"font-weight: bold\">]</span>=<span style=\"color: #008080; text-decoration-color: #008080; font-weight: bold\">0.21999999996869113</span> z = <span style=\"color: #008080; text-decoration-color: #008080; font-weight: bold\">3.545454546101423</span>                                         \n",
       "</pre>\n"
      ],
      "text/plain": [
       "param\u001b[1m[\u001b[0m\u001b[32m'nsteps'\u001b[0m\u001b[1m]\u001b[0m=\u001b[1;36m32\u001b[0m param\u001b[1m[\u001b[0m\u001b[32m'aexp'\u001b[0m\u001b[1m]\u001b[0m=\u001b[1;36m0.21999999996869113\u001b[0m z = \u001b[1;36m3.545454546101423\u001b[0m                                         \n"
      ]
     },
     "metadata": {},
     "output_type": "display_data"
    },
    {
     "name": "stdout",
     "output_type": "stream",
     "text": [
      "Chi Laplacian Factor: 2.4999998513686212\n"
     ]
    },
    {
     "data": {
      "text/html": [
       "<pre style=\"white-space:pre;overflow-x:auto;line-height:normal;font-family:Menlo,'DejaVu Sans Mono',consolas,'Courier New',monospace\">param<span style=\"font-weight: bold\">[</span><span style=\"color: #008000; text-decoration-color: #008000\">'nsteps'</span><span style=\"font-weight: bold\">]</span>=<span style=\"color: #008080; text-decoration-color: #008080; font-weight: bold\">33</span> param<span style=\"font-weight: bold\">[</span><span style=\"color: #008000; text-decoration-color: #008000\">'aexp'</span><span style=\"font-weight: bold\">]</span>=<span style=\"color: #008080; text-decoration-color: #008080; font-weight: bold\">0.24199999989765836</span> z = <span style=\"color: #008080; text-decoration-color: #008080; font-weight: bold\">3.132231406706196</span>                                         \n",
       "</pre>\n"
      ],
      "text/plain": [
       "param\u001b[1m[\u001b[0m\u001b[32m'nsteps'\u001b[0m\u001b[1m]\u001b[0m=\u001b[1;36m33\u001b[0m param\u001b[1m[\u001b[0m\u001b[32m'aexp'\u001b[0m\u001b[1m]\u001b[0m=\u001b[1;36m0.24199999989765836\u001b[0m z = \u001b[1;36m3.132231406706196\u001b[0m                                         \n"
      ]
     },
     "metadata": {},
     "output_type": "display_data"
    },
    {
     "name": "stdout",
     "output_type": "stream",
     "text": [
      "Chi Laplacian Factor: 2.4999999097404926\n"
     ]
    },
    {
     "data": {
      "text/html": [
       "<pre style=\"white-space:pre;overflow-x:auto;line-height:normal;font-family:Menlo,'DejaVu Sans Mono',consolas,'Courier New',monospace\">Snapshot written at <span style=\"color: #808000; text-decoration-color: #808000\">...</span><span style=\"color: #808000; text-decoration-color: #808000\">filename</span>=<span style=\"color: #008000; text-decoration-color: #008000\">'./smalln//output_00018/particles_eft_multigrid_ncoarse6.h5'</span> param<span style=\"font-weight: bold\">[</span><span style=\"color: #008000; text-decoration-color: #008000\">'aexp'</span><span style=\"font-weight: bold\">]</span>=<span style=\"color: #008080; text-decoration-color: #008080; font-weight: bold\">0.25</span>    \n",
       "</pre>\n"
      ],
      "text/plain": [
       "Snapshot written at \u001b[33m...\u001b[0m\u001b[33mfilename\u001b[0m=\u001b[32m'./smalln//output_00018/particles_eft_multigrid_ncoarse6.h5'\u001b[0m param\u001b[1m[\u001b[0m\u001b[32m'aexp'\u001b[0m\u001b[1m]\u001b[0m=\u001b[1;36m0.25\u001b[0m    \n"
      ]
     },
     "metadata": {},
     "output_type": "display_data"
    },
    {
     "data": {
      "text/html": [
       "<pre style=\"white-space:pre;overflow-x:auto;line-height:normal;font-family:Menlo,'DejaVu Sans Mono',consolas,'Courier New',monospace\">param<span style=\"font-weight: bold\">[</span><span style=\"color: #008000; text-decoration-color: #008000\">'nsteps'</span><span style=\"font-weight: bold\">]</span>=<span style=\"color: #008080; text-decoration-color: #008080; font-weight: bold\">34</span> param<span style=\"font-weight: bold\">[</span><span style=\"color: #008000; text-decoration-color: #008000\">'aexp'</span><span style=\"font-weight: bold\">]</span>=<span style=\"color: #008080; text-decoration-color: #008080; font-weight: bold\">0.25</span> z = <span style=\"color: #008080; text-decoration-color: #008080; font-weight: bold\">3.0</span>                                                                      \n",
       "</pre>\n"
      ],
      "text/plain": [
       "param\u001b[1m[\u001b[0m\u001b[32m'nsteps'\u001b[0m\u001b[1m]\u001b[0m=\u001b[1;36m34\u001b[0m param\u001b[1m[\u001b[0m\u001b[32m'aexp'\u001b[0m\u001b[1m]\u001b[0m=\u001b[1;36m0.25\u001b[0m z = \u001b[1;36m3.0\u001b[0m                                                                      \n"
      ]
     },
     "metadata": {},
     "output_type": "display_data"
    },
    {
     "name": "stdout",
     "output_type": "stream",
     "text": [
      "Chi Laplacian Factor: 2.4999998451047714\n"
     ]
    },
    {
     "data": {
      "text/html": [
       "<pre style=\"white-space:pre;overflow-x:auto;line-height:normal;font-family:Menlo,'DejaVu Sans Mono',consolas,'Courier New',monospace\">param<span style=\"font-weight: bold\">[</span><span style=\"color: #008000; text-decoration-color: #008000\">'nsteps'</span><span style=\"font-weight: bold\">]</span>=<span style=\"color: #008080; text-decoration-color: #008080; font-weight: bold\">35</span> param<span style=\"font-weight: bold\">[</span><span style=\"color: #008000; text-decoration-color: #008000\">'aexp'</span><span style=\"font-weight: bold\">]</span>=<span style=\"color: #008080; text-decoration-color: #008080; font-weight: bold\">0.27499999986292756</span> z = <span style=\"color: #008080; text-decoration-color: #008080; font-weight: bold\">2.6363636381761646</span>                                        \n",
       "</pre>\n"
      ],
      "text/plain": [
       "param\u001b[1m[\u001b[0m\u001b[32m'nsteps'\u001b[0m\u001b[1m]\u001b[0m=\u001b[1;36m35\u001b[0m param\u001b[1m[\u001b[0m\u001b[32m'aexp'\u001b[0m\u001b[1m]\u001b[0m=\u001b[1;36m0.27499999986292756\u001b[0m z = \u001b[1;36m2.6363636381761646\u001b[0m                                        \n"
      ]
     },
     "metadata": {},
     "output_type": "display_data"
    },
    {
     "name": "stdout",
     "output_type": "stream",
     "text": [
      "Chi Laplacian Factor: 2.4999998129865095\n"
     ]
    },
    {
     "data": {
      "text/html": [
       "<pre style=\"white-space:pre;overflow-x:auto;line-height:normal;font-family:Menlo,'DejaVu Sans Mono',consolas,'Courier New',monospace\">param<span style=\"font-weight: bold\">[</span><span style=\"color: #008000; text-decoration-color: #008000\">'nsteps'</span><span style=\"font-weight: bold\">]</span>=<span style=\"color: #008080; text-decoration-color: #008080; font-weight: bold\">36</span> param<span style=\"font-weight: bold\">[</span><span style=\"color: #008000; text-decoration-color: #008000\">'aexp'</span><span style=\"font-weight: bold\">]</span>=<span style=\"color: #008080; text-decoration-color: #008080; font-weight: bold\">0.30249999937366523</span> z = <span style=\"color: #008080; text-decoration-color: #008080; font-weight: bold\">2.3057851308116635</span>                                        \n",
       "</pre>\n"
      ],
      "text/plain": [
       "param\u001b[1m[\u001b[0m\u001b[32m'nsteps'\u001b[0m\u001b[1m]\u001b[0m=\u001b[1;36m36\u001b[0m param\u001b[1m[\u001b[0m\u001b[32m'aexp'\u001b[0m\u001b[1m]\u001b[0m=\u001b[1;36m0.30249999937366523\u001b[0m z = \u001b[1;36m2.3057851308116635\u001b[0m                                        \n"
      ]
     },
     "metadata": {},
     "output_type": "display_data"
    },
    {
     "name": "stdout",
     "output_type": "stream",
     "text": [
      "Chi Laplacian Factor: 2.4999998134240484\n"
     ]
    },
    {
     "data": {
      "text/html": [
       "<pre style=\"white-space:pre;overflow-x:auto;line-height:normal;font-family:Menlo,'DejaVu Sans Mono',consolas,'Courier New',monospace\">param<span style=\"font-weight: bold\">[</span><span style=\"color: #008000; text-decoration-color: #008000\">'nsteps'</span><span style=\"font-weight: bold\">]</span>=<span style=\"color: #008080; text-decoration-color: #008080; font-weight: bold\">37</span> param<span style=\"font-weight: bold\">[</span><span style=\"color: #008000; text-decoration-color: #008000\">'aexp'</span><span style=\"font-weight: bold\">]</span>=<span style=\"color: #008080; text-decoration-color: #008080; font-weight: bold\">0.33274999856188375</span> z = <span style=\"color: #008080; text-decoration-color: #008080; font-weight: bold\">2.0052592165947773</span>                                        \n",
       "</pre>\n"
      ],
      "text/plain": [
       "param\u001b[1m[\u001b[0m\u001b[32m'nsteps'\u001b[0m\u001b[1m]\u001b[0m=\u001b[1;36m37\u001b[0m param\u001b[1m[\u001b[0m\u001b[32m'aexp'\u001b[0m\u001b[1m]\u001b[0m=\u001b[1;36m0.33274999856188375\u001b[0m z = \u001b[1;36m2.0052592165947773\u001b[0m                                        \n"
      ]
     },
     "metadata": {},
     "output_type": "display_data"
    },
    {
     "name": "stdout",
     "output_type": "stream",
     "text": [
      "Chi Laplacian Factor: 2.4999998159774224\n"
     ]
    },
    {
     "data": {
      "text/html": [
       "<pre style=\"white-space:pre;overflow-x:auto;line-height:normal;font-family:Menlo,'DejaVu Sans Mono',consolas,'Courier New',monospace\">Snapshot written at <span style=\"color: #808000; text-decoration-color: #808000\">...</span><span style=\"color: #808000; text-decoration-color: #808000\">filename</span>=<span style=\"color: #008000; text-decoration-color: #008000\">'./smalln//output_00019/particles_eft_multigrid_ncoarse6.h5'</span>                       \n",
       "param<span style=\"font-weight: bold\">[</span><span style=\"color: #008000; text-decoration-color: #008000\">'aexp'</span><span style=\"font-weight: bold\">]</span>=<span style=\"color: #008080; text-decoration-color: #008080; font-weight: bold\">0.3333333333333333</span>                                                                                   \n",
       "</pre>\n"
      ],
      "text/plain": [
       "Snapshot written at \u001b[33m...\u001b[0m\u001b[33mfilename\u001b[0m=\u001b[32m'./smalln//output_00019/particles_eft_multigrid_ncoarse6.h5'\u001b[0m                       \n",
       "param\u001b[1m[\u001b[0m\u001b[32m'aexp'\u001b[0m\u001b[1m]\u001b[0m=\u001b[1;36m0.3333333333333333\u001b[0m                                                                                   \n"
      ]
     },
     "metadata": {},
     "output_type": "display_data"
    },
    {
     "data": {
      "text/html": [
       "<pre style=\"white-space:pre;overflow-x:auto;line-height:normal;font-family:Menlo,'DejaVu Sans Mono',consolas,'Courier New',monospace\">param<span style=\"font-weight: bold\">[</span><span style=\"color: #008000; text-decoration-color: #008000\">'nsteps'</span><span style=\"font-weight: bold\">]</span>=<span style=\"color: #008080; text-decoration-color: #008080; font-weight: bold\">38</span> param<span style=\"font-weight: bold\">[</span><span style=\"color: #008000; text-decoration-color: #008000\">'aexp'</span><span style=\"font-weight: bold\">]</span>=<span style=\"color: #008080; text-decoration-color: #008080; font-weight: bold\">0.3333333333333333</span> z = <span style=\"color: #008080; text-decoration-color: #008080; font-weight: bold\">2.0</span>                                                        \n",
       "</pre>\n"
      ],
      "text/plain": [
       "param\u001b[1m[\u001b[0m\u001b[32m'nsteps'\u001b[0m\u001b[1m]\u001b[0m=\u001b[1;36m38\u001b[0m param\u001b[1m[\u001b[0m\u001b[32m'aexp'\u001b[0m\u001b[1m]\u001b[0m=\u001b[1;36m0.3333333333333333\u001b[0m z = \u001b[1;36m2.0\u001b[0m                                                        \n"
      ]
     },
     "metadata": {},
     "output_type": "display_data"
    },
    {
     "name": "stdout",
     "output_type": "stream",
     "text": [
      "Chi Laplacian Factor: 2.4999998543277955\n"
     ]
    },
    {
     "data": {
      "text/html": [
       "<pre style=\"white-space:pre;overflow-x:auto;line-height:normal;font-family:Menlo,'DejaVu Sans Mono',consolas,'Courier New',monospace\">param<span style=\"font-weight: bold\">[</span><span style=\"color: #008000; text-decoration-color: #008000\">'nsteps'</span><span style=\"font-weight: bold\">]</span>=<span style=\"color: #008080; text-decoration-color: #008080; font-weight: bold\">39</span> param<span style=\"font-weight: bold\">[</span><span style=\"color: #008000; text-decoration-color: #008000\">'aexp'</span><span style=\"font-weight: bold\">]</span>=<span style=\"color: #008080; text-decoration-color: #008080; font-weight: bold\">0.366666665251145</span> z = <span style=\"color: #008080; text-decoration-color: #008080; font-weight: bold\">1.727272737801401</span>                                           \n",
       "</pre>\n"
      ],
      "text/plain": [
       "param\u001b[1m[\u001b[0m\u001b[32m'nsteps'\u001b[0m\u001b[1m]\u001b[0m=\u001b[1;36m39\u001b[0m param\u001b[1m[\u001b[0m\u001b[32m'aexp'\u001b[0m\u001b[1m]\u001b[0m=\u001b[1;36m0.366666665251145\u001b[0m z = \u001b[1;36m1.727272737801401\u001b[0m                                           \n"
      ]
     },
     "metadata": {},
     "output_type": "display_data"
    },
    {
     "name": "stdout",
     "output_type": "stream",
     "text": [
      "Chi Laplacian Factor: 2.4999999253626064\n"
     ]
    },
    {
     "data": {
      "text/html": [
       "<pre style=\"white-space:pre;overflow-x:auto;line-height:normal;font-family:Menlo,'DejaVu Sans Mono',consolas,'Courier New',monospace\">param<span style=\"font-weight: bold\">[</span><span style=\"color: #008000; text-decoration-color: #008000\">'nsteps'</span><span style=\"font-weight: bold\">]</span>=<span style=\"color: #008080; text-decoration-color: #008080; font-weight: bold\">40</span> param<span style=\"font-weight: bold\">[</span><span style=\"color: #008000; text-decoration-color: #008000\">'aexp'</span><span style=\"font-weight: bold\">]</span>=<span style=\"color: #008080; text-decoration-color: #008080; font-weight: bold\">0.4033333321886691</span> z = <span style=\"color: #008080; text-decoration-color: #008080; font-weight: bold\">1.479338850011596</span>                                          \n",
       "</pre>\n"
      ],
      "text/plain": [
       "param\u001b[1m[\u001b[0m\u001b[32m'nsteps'\u001b[0m\u001b[1m]\u001b[0m=\u001b[1;36m40\u001b[0m param\u001b[1m[\u001b[0m\u001b[32m'aexp'\u001b[0m\u001b[1m]\u001b[0m=\u001b[1;36m0.4033333321886691\u001b[0m z = \u001b[1;36m1.479338850011596\u001b[0m                                          \n"
      ]
     },
     "metadata": {},
     "output_type": "display_data"
    },
    {
     "name": "stdout",
     "output_type": "stream",
     "text": [
      "Chi Laplacian Factor: 2.499999921254115\n"
     ]
    },
    {
     "data": {
      "text/html": [
       "<pre style=\"white-space:pre;overflow-x:auto;line-height:normal;font-family:Menlo,'DejaVu Sans Mono',consolas,'Courier New',monospace\">param<span style=\"font-weight: bold\">[</span><span style=\"color: #008000; text-decoration-color: #008000\">'nsteps'</span><span style=\"font-weight: bold\">]</span>=<span style=\"color: #008080; text-decoration-color: #008080; font-weight: bold\">41</span> param<span style=\"font-weight: bold\">[</span><span style=\"color: #008000; text-decoration-color: #008000\">'aexp'</span><span style=\"font-weight: bold\">]</span>=<span style=\"color: #008080; text-decoration-color: #008080; font-weight: bold\">0.44366666725922005</span> z = <span style=\"color: #008080; text-decoration-color: #008080; font-weight: bold\">1.2539443996944049</span>                                        \n",
       "</pre>\n"
      ],
      "text/plain": [
       "param\u001b[1m[\u001b[0m\u001b[32m'nsteps'\u001b[0m\u001b[1m]\u001b[0m=\u001b[1;36m41\u001b[0m param\u001b[1m[\u001b[0m\u001b[32m'aexp'\u001b[0m\u001b[1m]\u001b[0m=\u001b[1;36m0.44366666725922005\u001b[0m z = \u001b[1;36m1.2539443996944049\u001b[0m                                        \n"
      ]
     },
     "metadata": {},
     "output_type": "display_data"
    },
    {
     "name": "stdout",
     "output_type": "stream",
     "text": [
      "Chi Laplacian Factor: 2.499999860059946\n"
     ]
    },
    {
     "data": {
      "text/html": [
       "<pre style=\"white-space:pre;overflow-x:auto;line-height:normal;font-family:Menlo,'DejaVu Sans Mono',consolas,'Courier New',monospace\">param<span style=\"font-weight: bold\">[</span><span style=\"color: #008000; text-decoration-color: #008000\">'nsteps'</span><span style=\"font-weight: bold\">]</span>=<span style=\"color: #008080; text-decoration-color: #008080; font-weight: bold\">42</span> param<span style=\"font-weight: bold\">[</span><span style=\"color: #008000; text-decoration-color: #008000\">'aexp'</span><span style=\"font-weight: bold\">]</span>=<span style=\"color: #008080; text-decoration-color: #008080; font-weight: bold\">0.4880333332986013</span> z = <span style=\"color: #008080; text-decoration-color: #008080; font-weight: bold\">1.0490403662410368</span>                                         \n",
       "</pre>\n"
      ],
      "text/plain": [
       "param\u001b[1m[\u001b[0m\u001b[32m'nsteps'\u001b[0m\u001b[1m]\u001b[0m=\u001b[1;36m42\u001b[0m param\u001b[1m[\u001b[0m\u001b[32m'aexp'\u001b[0m\u001b[1m]\u001b[0m=\u001b[1;36m0.4880333332986013\u001b[0m z = \u001b[1;36m1.0490403662410368\u001b[0m                                         \n"
      ]
     },
     "metadata": {},
     "output_type": "display_data"
    },
    {
     "name": "stdout",
     "output_type": "stream",
     "text": [
      "Chi Laplacian Factor: 2.499999955865344\n"
     ]
    },
    {
     "data": {
      "text/html": [
       "<pre style=\"white-space:pre;overflow-x:auto;line-height:normal;font-family:Menlo,'DejaVu Sans Mono',consolas,'Courier New',monospace\">Snapshot written at <span style=\"color: #808000; text-decoration-color: #808000\">...</span><span style=\"color: #808000; text-decoration-color: #808000\">filename</span>=<span style=\"color: #008000; text-decoration-color: #008000\">'./smalln//output_00020/particles_eft_multigrid_ncoarse6.h5'</span> param<span style=\"font-weight: bold\">[</span><span style=\"color: #008000; text-decoration-color: #008000\">'aexp'</span><span style=\"font-weight: bold\">]</span>=<span style=\"color: #008080; text-decoration-color: #008080; font-weight: bold\">0.5</span>     \n",
       "</pre>\n"
      ],
      "text/plain": [
       "Snapshot written at \u001b[33m...\u001b[0m\u001b[33mfilename\u001b[0m=\u001b[32m'./smalln//output_00020/particles_eft_multigrid_ncoarse6.h5'\u001b[0m param\u001b[1m[\u001b[0m\u001b[32m'aexp'\u001b[0m\u001b[1m]\u001b[0m=\u001b[1;36m0.5\u001b[0m     \n"
      ]
     },
     "metadata": {},
     "output_type": "display_data"
    },
    {
     "data": {
      "text/html": [
       "<pre style=\"white-space:pre;overflow-x:auto;line-height:normal;font-family:Menlo,'DejaVu Sans Mono',consolas,'Courier New',monospace\">param<span style=\"font-weight: bold\">[</span><span style=\"color: #008000; text-decoration-color: #008000\">'nsteps'</span><span style=\"font-weight: bold\">]</span>=<span style=\"color: #008080; text-decoration-color: #008080; font-weight: bold\">43</span> param<span style=\"font-weight: bold\">[</span><span style=\"color: #008000; text-decoration-color: #008000\">'aexp'</span><span style=\"font-weight: bold\">]</span>=<span style=\"color: #008080; text-decoration-color: #008080; font-weight: bold\">0.5</span> z = <span style=\"color: #008080; text-decoration-color: #008080; font-weight: bold\">1.0</span>                                                                       \n",
       "</pre>\n"
      ],
      "text/plain": [
       "param\u001b[1m[\u001b[0m\u001b[32m'nsteps'\u001b[0m\u001b[1m]\u001b[0m=\u001b[1;36m43\u001b[0m param\u001b[1m[\u001b[0m\u001b[32m'aexp'\u001b[0m\u001b[1m]\u001b[0m=\u001b[1;36m0.5\u001b[0m z = \u001b[1;36m1.0\u001b[0m                                                                       \n"
      ]
     },
     "metadata": {},
     "output_type": "display_data"
    },
    {
     "name": "stdout",
     "output_type": "stream",
     "text": [
      "Chi Laplacian Factor: 2.499999830215822\n"
     ]
    },
    {
     "data": {
      "text/html": [
       "<pre style=\"white-space:pre;overflow-x:auto;line-height:normal;font-family:Menlo,'DejaVu Sans Mono',consolas,'Courier New',monospace\">Snapshot written at <span style=\"color: #808000; text-decoration-color: #808000\">...</span><span style=\"color: #808000; text-decoration-color: #808000\">filename</span>=<span style=\"color: #008000; text-decoration-color: #008000\">'./smalln//output_00021/particles_eft_multigrid_ncoarse6.h5'</span>                       \n",
       "param<span style=\"font-weight: bold\">[</span><span style=\"color: #008000; text-decoration-color: #008000\">'aexp'</span><span style=\"font-weight: bold\">]</span>=<span style=\"color: #008080; text-decoration-color: #008080; font-weight: bold\">0.5128205128205129</span>                                                                                   \n",
       "</pre>\n"
      ],
      "text/plain": [
       "Snapshot written at \u001b[33m...\u001b[0m\u001b[33mfilename\u001b[0m=\u001b[32m'./smalln//output_00021/particles_eft_multigrid_ncoarse6.h5'\u001b[0m                       \n",
       "param\u001b[1m[\u001b[0m\u001b[32m'aexp'\u001b[0m\u001b[1m]\u001b[0m=\u001b[1;36m0.5128205128205129\u001b[0m                                                                                   \n"
      ]
     },
     "metadata": {},
     "output_type": "display_data"
    },
    {
     "data": {
      "text/html": [
       "<pre style=\"white-space:pre;overflow-x:auto;line-height:normal;font-family:Menlo,'DejaVu Sans Mono',consolas,'Courier New',monospace\">param<span style=\"font-weight: bold\">[</span><span style=\"color: #008000; text-decoration-color: #008000\">'nsteps'</span><span style=\"font-weight: bold\">]</span>=<span style=\"color: #008080; text-decoration-color: #008080; font-weight: bold\">44</span> param<span style=\"font-weight: bold\">[</span><span style=\"color: #008000; text-decoration-color: #008000\">'aexp'</span><span style=\"font-weight: bold\">]</span>=<span style=\"color: #008080; text-decoration-color: #008080; font-weight: bold\">0.5128205128205129</span> z = <span style=\"color: #008080; text-decoration-color: #008080; font-weight: bold\">0.9499999999999997</span>                                         \n",
       "</pre>\n"
      ],
      "text/plain": [
       "param\u001b[1m[\u001b[0m\u001b[32m'nsteps'\u001b[0m\u001b[1m]\u001b[0m=\u001b[1;36m44\u001b[0m param\u001b[1m[\u001b[0m\u001b[32m'aexp'\u001b[0m\u001b[1m]\u001b[0m=\u001b[1;36m0.5128205128205129\u001b[0m z = \u001b[1;36m0.9499999999999997\u001b[0m                                         \n"
      ]
     },
     "metadata": {},
     "output_type": "display_data"
    },
    {
     "name": "stdout",
     "output_type": "stream",
     "text": [
      "Chi Laplacian Factor: 2.499999875042501\n"
     ]
    },
    {
     "data": {
      "text/html": [
       "<pre style=\"white-space:pre;overflow-x:auto;line-height:normal;font-family:Menlo,'DejaVu Sans Mono',consolas,'Courier New',monospace\">Snapshot written at <span style=\"color: #808000; text-decoration-color: #808000\">...</span><span style=\"color: #808000; text-decoration-color: #808000\">filename</span>=<span style=\"color: #008000; text-decoration-color: #008000\">'./smalln//output_00022/particles_eft_multigrid_ncoarse6.h5'</span>                       \n",
       "param<span style=\"font-weight: bold\">[</span><span style=\"color: #008000; text-decoration-color: #008000\">'aexp'</span><span style=\"font-weight: bold\">]</span>=<span style=\"color: #008080; text-decoration-color: #008080; font-weight: bold\">0.5263157894736842</span>                                                                                   \n",
       "</pre>\n"
      ],
      "text/plain": [
       "Snapshot written at \u001b[33m...\u001b[0m\u001b[33mfilename\u001b[0m=\u001b[32m'./smalln//output_00022/particles_eft_multigrid_ncoarse6.h5'\u001b[0m                       \n",
       "param\u001b[1m[\u001b[0m\u001b[32m'aexp'\u001b[0m\u001b[1m]\u001b[0m=\u001b[1;36m0.5263157894736842\u001b[0m                                                                                   \n"
      ]
     },
     "metadata": {},
     "output_type": "display_data"
    },
    {
     "data": {
      "text/html": [
       "<pre style=\"white-space:pre;overflow-x:auto;line-height:normal;font-family:Menlo,'DejaVu Sans Mono',consolas,'Courier New',monospace\">param<span style=\"font-weight: bold\">[</span><span style=\"color: #008000; text-decoration-color: #008000\">'nsteps'</span><span style=\"font-weight: bold\">]</span>=<span style=\"color: #008080; text-decoration-color: #008080; font-weight: bold\">45</span> param<span style=\"font-weight: bold\">[</span><span style=\"color: #008000; text-decoration-color: #008000\">'aexp'</span><span style=\"font-weight: bold\">]</span>=<span style=\"color: #008080; text-decoration-color: #008080; font-weight: bold\">0.5263157894736842</span> z = <span style=\"color: #008080; text-decoration-color: #008080; font-weight: bold\">0.9000000000000001</span>                                         \n",
       "</pre>\n"
      ],
      "text/plain": [
       "param\u001b[1m[\u001b[0m\u001b[32m'nsteps'\u001b[0m\u001b[1m]\u001b[0m=\u001b[1;36m45\u001b[0m param\u001b[1m[\u001b[0m\u001b[32m'aexp'\u001b[0m\u001b[1m]\u001b[0m=\u001b[1;36m0.5263157894736842\u001b[0m z = \u001b[1;36m0.9000000000000001\u001b[0m                                         \n"
      ]
     },
     "metadata": {},
     "output_type": "display_data"
    },
    {
     "name": "stdout",
     "output_type": "stream",
     "text": [
      "Chi Laplacian Factor: 2.499999936556998\n"
     ]
    },
    {
     "data": {
      "text/html": [
       "<pre style=\"white-space:pre;overflow-x:auto;line-height:normal;font-family:Menlo,'DejaVu Sans Mono',consolas,'Courier New',monospace\">Snapshot written at <span style=\"color: #808000; text-decoration-color: #808000\">...</span><span style=\"color: #808000; text-decoration-color: #808000\">filename</span>=<span style=\"color: #008000; text-decoration-color: #008000\">'./smalln//output_00023/particles_eft_multigrid_ncoarse6.h5'</span>                       \n",
       "param<span style=\"font-weight: bold\">[</span><span style=\"color: #008000; text-decoration-color: #008000\">'aexp'</span><span style=\"font-weight: bold\">]</span>=<span style=\"color: #008080; text-decoration-color: #008080; font-weight: bold\">0.5405405405405405</span>                                                                                   \n",
       "</pre>\n"
      ],
      "text/plain": [
       "Snapshot written at \u001b[33m...\u001b[0m\u001b[33mfilename\u001b[0m=\u001b[32m'./smalln//output_00023/particles_eft_multigrid_ncoarse6.h5'\u001b[0m                       \n",
       "param\u001b[1m[\u001b[0m\u001b[32m'aexp'\u001b[0m\u001b[1m]\u001b[0m=\u001b[1;36m0.5405405405405405\u001b[0m                                                                                   \n"
      ]
     },
     "metadata": {},
     "output_type": "display_data"
    },
    {
     "data": {
      "text/html": [
       "<pre style=\"white-space:pre;overflow-x:auto;line-height:normal;font-family:Menlo,'DejaVu Sans Mono',consolas,'Courier New',monospace\">param<span style=\"font-weight: bold\">[</span><span style=\"color: #008000; text-decoration-color: #008000\">'nsteps'</span><span style=\"font-weight: bold\">]</span>=<span style=\"color: #008080; text-decoration-color: #008080; font-weight: bold\">46</span> param<span style=\"font-weight: bold\">[</span><span style=\"color: #008000; text-decoration-color: #008000\">'aexp'</span><span style=\"font-weight: bold\">]</span>=<span style=\"color: #008080; text-decoration-color: #008080; font-weight: bold\">0.5405405405405405</span> z = <span style=\"color: #008080; text-decoration-color: #008080; font-weight: bold\">0.8500000000000003</span>                                         \n",
       "</pre>\n"
      ],
      "text/plain": [
       "param\u001b[1m[\u001b[0m\u001b[32m'nsteps'\u001b[0m\u001b[1m]\u001b[0m=\u001b[1;36m46\u001b[0m param\u001b[1m[\u001b[0m\u001b[32m'aexp'\u001b[0m\u001b[1m]\u001b[0m=\u001b[1;36m0.5405405405405405\u001b[0m z = \u001b[1;36m0.8500000000000003\u001b[0m                                         \n"
      ]
     },
     "metadata": {},
     "output_type": "display_data"
    },
    {
     "name": "stdout",
     "output_type": "stream",
     "text": [
      "Chi Laplacian Factor: 2.4999998549382654\n"
     ]
    },
    {
     "data": {
      "text/html": [
       "<pre style=\"white-space:pre;overflow-x:auto;line-height:normal;font-family:Menlo,'DejaVu Sans Mono',consolas,'Courier New',monospace\">Snapshot written at <span style=\"color: #808000; text-decoration-color: #808000\">...</span><span style=\"color: #808000; text-decoration-color: #808000\">filename</span>=<span style=\"color: #008000; text-decoration-color: #008000\">'./smalln//output_00024/particles_eft_multigrid_ncoarse6.h5'</span>                       \n",
       "param<span style=\"font-weight: bold\">[</span><span style=\"color: #008000; text-decoration-color: #008000\">'aexp'</span><span style=\"font-weight: bold\">]</span>=<span style=\"color: #008080; text-decoration-color: #008080; font-weight: bold\">0.5555555555555556</span>                                                                                   \n",
       "</pre>\n"
      ],
      "text/plain": [
       "Snapshot written at \u001b[33m...\u001b[0m\u001b[33mfilename\u001b[0m=\u001b[32m'./smalln//output_00024/particles_eft_multigrid_ncoarse6.h5'\u001b[0m                       \n",
       "param\u001b[1m[\u001b[0m\u001b[32m'aexp'\u001b[0m\u001b[1m]\u001b[0m=\u001b[1;36m0.5555555555555556\u001b[0m                                                                                   \n"
      ]
     },
     "metadata": {},
     "output_type": "display_data"
    },
    {
     "data": {
      "text/html": [
       "<pre style=\"white-space:pre;overflow-x:auto;line-height:normal;font-family:Menlo,'DejaVu Sans Mono',consolas,'Courier New',monospace\">param<span style=\"font-weight: bold\">[</span><span style=\"color: #008000; text-decoration-color: #008000\">'nsteps'</span><span style=\"font-weight: bold\">]</span>=<span style=\"color: #008080; text-decoration-color: #008080; font-weight: bold\">47</span> param<span style=\"font-weight: bold\">[</span><span style=\"color: #008000; text-decoration-color: #008000\">'aexp'</span><span style=\"font-weight: bold\">]</span>=<span style=\"color: #008080; text-decoration-color: #008080; font-weight: bold\">0.5555555555555556</span> z = <span style=\"color: #008080; text-decoration-color: #008080; font-weight: bold\">0.7999999999999998</span>                                         \n",
       "</pre>\n"
      ],
      "text/plain": [
       "param\u001b[1m[\u001b[0m\u001b[32m'nsteps'\u001b[0m\u001b[1m]\u001b[0m=\u001b[1;36m47\u001b[0m param\u001b[1m[\u001b[0m\u001b[32m'aexp'\u001b[0m\u001b[1m]\u001b[0m=\u001b[1;36m0.5555555555555556\u001b[0m z = \u001b[1;36m0.7999999999999998\u001b[0m                                         \n"
      ]
     },
     "metadata": {},
     "output_type": "display_data"
    },
    {
     "name": "stdout",
     "output_type": "stream",
     "text": [
      "Chi Laplacian Factor: 2.4999999237949715\n"
     ]
    },
    {
     "data": {
      "text/html": [
       "<pre style=\"white-space:pre;overflow-x:auto;line-height:normal;font-family:Menlo,'DejaVu Sans Mono',consolas,'Courier New',monospace\">Snapshot written at <span style=\"color: #808000; text-decoration-color: #808000\">...</span><span style=\"color: #808000; text-decoration-color: #808000\">filename</span>=<span style=\"color: #008000; text-decoration-color: #008000\">'./smalln//output_00025/particles_eft_multigrid_ncoarse6.h5'</span>                       \n",
       "param<span style=\"font-weight: bold\">[</span><span style=\"color: #008000; text-decoration-color: #008000\">'aexp'</span><span style=\"font-weight: bold\">]</span>=<span style=\"color: #008080; text-decoration-color: #008080; font-weight: bold\">0.5714285714285714</span>                                                                                   \n",
       "</pre>\n"
      ],
      "text/plain": [
       "Snapshot written at \u001b[33m...\u001b[0m\u001b[33mfilename\u001b[0m=\u001b[32m'./smalln//output_00025/particles_eft_multigrid_ncoarse6.h5'\u001b[0m                       \n",
       "param\u001b[1m[\u001b[0m\u001b[32m'aexp'\u001b[0m\u001b[1m]\u001b[0m=\u001b[1;36m0.5714285714285714\u001b[0m                                                                                   \n"
      ]
     },
     "metadata": {},
     "output_type": "display_data"
    },
    {
     "data": {
      "text/html": [
       "<pre style=\"white-space:pre;overflow-x:auto;line-height:normal;font-family:Menlo,'DejaVu Sans Mono',consolas,'Courier New',monospace\">param<span style=\"font-weight: bold\">[</span><span style=\"color: #008000; text-decoration-color: #008000\">'nsteps'</span><span style=\"font-weight: bold\">]</span>=<span style=\"color: #008080; text-decoration-color: #008080; font-weight: bold\">48</span> param<span style=\"font-weight: bold\">[</span><span style=\"color: #008000; text-decoration-color: #008000\">'aexp'</span><span style=\"font-weight: bold\">]</span>=<span style=\"color: #008080; text-decoration-color: #008080; font-weight: bold\">0.5714285714285714</span> z = <span style=\"color: #008080; text-decoration-color: #008080; font-weight: bold\">0.75</span>                                                       \n",
       "</pre>\n"
      ],
      "text/plain": [
       "param\u001b[1m[\u001b[0m\u001b[32m'nsteps'\u001b[0m\u001b[1m]\u001b[0m=\u001b[1;36m48\u001b[0m param\u001b[1m[\u001b[0m\u001b[32m'aexp'\u001b[0m\u001b[1m]\u001b[0m=\u001b[1;36m0.5714285714285714\u001b[0m z = \u001b[1;36m0.75\u001b[0m                                                       \n"
      ]
     },
     "metadata": {},
     "output_type": "display_data"
    },
    {
     "name": "stdout",
     "output_type": "stream",
     "text": [
      "Chi Laplacian Factor: 2.499999831294265\n"
     ]
    },
    {
     "data": {
      "text/html": [
       "<pre style=\"white-space:pre;overflow-x:auto;line-height:normal;font-family:Menlo,'DejaVu Sans Mono',consolas,'Courier New',monospace\">Snapshot written at <span style=\"color: #808000; text-decoration-color: #808000\">...</span><span style=\"color: #808000; text-decoration-color: #808000\">filename</span>=<span style=\"color: #008000; text-decoration-color: #008000\">'./smalln//output_00026/particles_eft_multigrid_ncoarse6.h5'</span>                       \n",
       "param<span style=\"font-weight: bold\">[</span><span style=\"color: #008000; text-decoration-color: #008000\">'aexp'</span><span style=\"font-weight: bold\">]</span>=<span style=\"color: #008080; text-decoration-color: #008080; font-weight: bold\">0.5882352941176471</span>                                                                                   \n",
       "</pre>\n"
      ],
      "text/plain": [
       "Snapshot written at \u001b[33m...\u001b[0m\u001b[33mfilename\u001b[0m=\u001b[32m'./smalln//output_00026/particles_eft_multigrid_ncoarse6.h5'\u001b[0m                       \n",
       "param\u001b[1m[\u001b[0m\u001b[32m'aexp'\u001b[0m\u001b[1m]\u001b[0m=\u001b[1;36m0.5882352941176471\u001b[0m                                                                                   \n"
      ]
     },
     "metadata": {},
     "output_type": "display_data"
    },
    {
     "data": {
      "text/html": [
       "<pre style=\"white-space:pre;overflow-x:auto;line-height:normal;font-family:Menlo,'DejaVu Sans Mono',consolas,'Courier New',monospace\">param<span style=\"font-weight: bold\">[</span><span style=\"color: #008000; text-decoration-color: #008000\">'nsteps'</span><span style=\"font-weight: bold\">]</span>=<span style=\"color: #008080; text-decoration-color: #008080; font-weight: bold\">49</span> param<span style=\"font-weight: bold\">[</span><span style=\"color: #008000; text-decoration-color: #008000\">'aexp'</span><span style=\"font-weight: bold\">]</span>=<span style=\"color: #008080; text-decoration-color: #008080; font-weight: bold\">0.5882352941176471</span> z = <span style=\"color: #008080; text-decoration-color: #008080; font-weight: bold\">0.7</span>                                                        \n",
       "</pre>\n"
      ],
      "text/plain": [
       "param\u001b[1m[\u001b[0m\u001b[32m'nsteps'\u001b[0m\u001b[1m]\u001b[0m=\u001b[1;36m49\u001b[0m param\u001b[1m[\u001b[0m\u001b[32m'aexp'\u001b[0m\u001b[1m]\u001b[0m=\u001b[1;36m0.5882352941176471\u001b[0m z = \u001b[1;36m0.7\u001b[0m                                                        \n"
      ]
     },
     "metadata": {},
     "output_type": "display_data"
    },
    {
     "name": "stdout",
     "output_type": "stream",
     "text": [
      "Chi Laplacian Factor: 2.4999998390036806\n"
     ]
    },
    {
     "data": {
      "text/html": [
       "<pre style=\"white-space:pre;overflow-x:auto;line-height:normal;font-family:Menlo,'DejaVu Sans Mono',consolas,'Courier New',monospace\">Snapshot written at <span style=\"color: #808000; text-decoration-color: #808000\">...</span><span style=\"color: #808000; text-decoration-color: #808000\">filename</span>=<span style=\"color: #008000; text-decoration-color: #008000\">'./smalln//output_00027/particles_eft_multigrid_ncoarse6.h5'</span>                       \n",
       "param<span style=\"font-weight: bold\">[</span><span style=\"color: #008000; text-decoration-color: #008000\">'aexp'</span><span style=\"font-weight: bold\">]</span>=<span style=\"color: #008080; text-decoration-color: #008080; font-weight: bold\">0.6060606060606061</span>                                                                                   \n",
       "</pre>\n"
      ],
      "text/plain": [
       "Snapshot written at \u001b[33m...\u001b[0m\u001b[33mfilename\u001b[0m=\u001b[32m'./smalln//output_00027/particles_eft_multigrid_ncoarse6.h5'\u001b[0m                       \n",
       "param\u001b[1m[\u001b[0m\u001b[32m'aexp'\u001b[0m\u001b[1m]\u001b[0m=\u001b[1;36m0.6060606060606061\u001b[0m                                                                                   \n"
      ]
     },
     "metadata": {},
     "output_type": "display_data"
    },
    {
     "data": {
      "text/html": [
       "<pre style=\"white-space:pre;overflow-x:auto;line-height:normal;font-family:Menlo,'DejaVu Sans Mono',consolas,'Courier New',monospace\">param<span style=\"font-weight: bold\">[</span><span style=\"color: #008000; text-decoration-color: #008000\">'nsteps'</span><span style=\"font-weight: bold\">]</span>=<span style=\"color: #008080; text-decoration-color: #008080; font-weight: bold\">50</span> param<span style=\"font-weight: bold\">[</span><span style=\"color: #008000; text-decoration-color: #008000\">'aexp'</span><span style=\"font-weight: bold\">]</span>=<span style=\"color: #008080; text-decoration-color: #008080; font-weight: bold\">0.6060606060606061</span> z = <span style=\"color: #008080; text-decoration-color: #008080; font-weight: bold\">0.6499999999999999</span>                                         \n",
       "</pre>\n"
      ],
      "text/plain": [
       "param\u001b[1m[\u001b[0m\u001b[32m'nsteps'\u001b[0m\u001b[1m]\u001b[0m=\u001b[1;36m50\u001b[0m param\u001b[1m[\u001b[0m\u001b[32m'aexp'\u001b[0m\u001b[1m]\u001b[0m=\u001b[1;36m0.6060606060606061\u001b[0m z = \u001b[1;36m0.6499999999999999\u001b[0m                                         \n"
      ]
     },
     "metadata": {},
     "output_type": "display_data"
    },
    {
     "name": "stdout",
     "output_type": "stream",
     "text": [
      "Chi Laplacian Factor: 2.4999998419201943\n"
     ]
    },
    {
     "data": {
      "text/html": [
       "<pre style=\"white-space:pre;overflow-x:auto;line-height:normal;font-family:Menlo,'DejaVu Sans Mono',consolas,'Courier New',monospace\">Snapshot written at <span style=\"color: #808000; text-decoration-color: #808000\">...</span><span style=\"color: #808000; text-decoration-color: #808000\">filename</span>=<span style=\"color: #008000; text-decoration-color: #008000\">'./smalln//output_00028/particles_eft_multigrid_ncoarse6.h5'</span> param<span style=\"font-weight: bold\">[</span><span style=\"color: #008000; text-decoration-color: #008000\">'aexp'</span><span style=\"font-weight: bold\">]</span>=<span style=\"color: #008080; text-decoration-color: #008080; font-weight: bold\">0.625</span>   \n",
       "</pre>\n"
      ],
      "text/plain": [
       "Snapshot written at \u001b[33m...\u001b[0m\u001b[33mfilename\u001b[0m=\u001b[32m'./smalln//output_00028/particles_eft_multigrid_ncoarse6.h5'\u001b[0m param\u001b[1m[\u001b[0m\u001b[32m'aexp'\u001b[0m\u001b[1m]\u001b[0m=\u001b[1;36m0.625\u001b[0m   \n"
      ]
     },
     "metadata": {},
     "output_type": "display_data"
    },
    {
     "data": {
      "text/html": [
       "<pre style=\"white-space:pre;overflow-x:auto;line-height:normal;font-family:Menlo,'DejaVu Sans Mono',consolas,'Courier New',monospace\">param<span style=\"font-weight: bold\">[</span><span style=\"color: #008000; text-decoration-color: #008000\">'nsteps'</span><span style=\"font-weight: bold\">]</span>=<span style=\"color: #008080; text-decoration-color: #008080; font-weight: bold\">51</span> param<span style=\"font-weight: bold\">[</span><span style=\"color: #008000; text-decoration-color: #008000\">'aexp'</span><span style=\"font-weight: bold\">]</span>=<span style=\"color: #008080; text-decoration-color: #008080; font-weight: bold\">0.625</span> z = <span style=\"color: #008080; text-decoration-color: #008080; font-weight: bold\">0.6000000000000001</span>                                                      \n",
       "</pre>\n"
      ],
      "text/plain": [
       "param\u001b[1m[\u001b[0m\u001b[32m'nsteps'\u001b[0m\u001b[1m]\u001b[0m=\u001b[1;36m51\u001b[0m param\u001b[1m[\u001b[0m\u001b[32m'aexp'\u001b[0m\u001b[1m]\u001b[0m=\u001b[1;36m0.625\u001b[0m z = \u001b[1;36m0.6000000000000001\u001b[0m                                                      \n"
      ]
     },
     "metadata": {},
     "output_type": "display_data"
    },
    {
     "name": "stdout",
     "output_type": "stream",
     "text": [
      "Chi Laplacian Factor: 2.499999864226293\n"
     ]
    },
    {
     "data": {
      "text/html": [
       "<pre style=\"white-space:pre;overflow-x:auto;line-height:normal;font-family:Menlo,'DejaVu Sans Mono',consolas,'Courier New',monospace\">Snapshot written at <span style=\"color: #808000; text-decoration-color: #808000\">...</span><span style=\"color: #808000; text-decoration-color: #808000\">filename</span>=<span style=\"color: #008000; text-decoration-color: #008000\">'./smalln//output_00029/particles_eft_multigrid_ncoarse6.h5'</span>                       \n",
       "param<span style=\"font-weight: bold\">[</span><span style=\"color: #008000; text-decoration-color: #008000\">'aexp'</span><span style=\"font-weight: bold\">]</span>=<span style=\"color: #008080; text-decoration-color: #008080; font-weight: bold\">0.6451612903225806</span>                                                                                   \n",
       "</pre>\n"
      ],
      "text/plain": [
       "Snapshot written at \u001b[33m...\u001b[0m\u001b[33mfilename\u001b[0m=\u001b[32m'./smalln//output_00029/particles_eft_multigrid_ncoarse6.h5'\u001b[0m                       \n",
       "param\u001b[1m[\u001b[0m\u001b[32m'aexp'\u001b[0m\u001b[1m]\u001b[0m=\u001b[1;36m0.6451612903225806\u001b[0m                                                                                   \n"
      ]
     },
     "metadata": {},
     "output_type": "display_data"
    },
    {
     "data": {
      "text/html": [
       "<pre style=\"white-space:pre;overflow-x:auto;line-height:normal;font-family:Menlo,'DejaVu Sans Mono',consolas,'Courier New',monospace\">param<span style=\"font-weight: bold\">[</span><span style=\"color: #008000; text-decoration-color: #008000\">'nsteps'</span><span style=\"font-weight: bold\">]</span>=<span style=\"color: #008080; text-decoration-color: #008080; font-weight: bold\">52</span> param<span style=\"font-weight: bold\">[</span><span style=\"color: #008000; text-decoration-color: #008000\">'aexp'</span><span style=\"font-weight: bold\">]</span>=<span style=\"color: #008080; text-decoration-color: #008080; font-weight: bold\">0.6451612903225806</span> z = <span style=\"color: #008080; text-decoration-color: #008080; font-weight: bold\">0.55</span>                                                       \n",
       "</pre>\n"
      ],
      "text/plain": [
       "param\u001b[1m[\u001b[0m\u001b[32m'nsteps'\u001b[0m\u001b[1m]\u001b[0m=\u001b[1;36m52\u001b[0m param\u001b[1m[\u001b[0m\u001b[32m'aexp'\u001b[0m\u001b[1m]\u001b[0m=\u001b[1;36m0.6451612903225806\u001b[0m z = \u001b[1;36m0.55\u001b[0m                                                       \n"
      ]
     },
     "metadata": {},
     "output_type": "display_data"
    },
    {
     "name": "stdout",
     "output_type": "stream",
     "text": [
      "Chi Laplacian Factor: 2.4999998372386063\n"
     ]
    },
    {
     "data": {
      "text/html": [
       "<pre style=\"white-space:pre;overflow-x:auto;line-height:normal;font-family:Menlo,'DejaVu Sans Mono',consolas,'Courier New',monospace\">Snapshot written at <span style=\"color: #808000; text-decoration-color: #808000\">...</span><span style=\"color: #808000; text-decoration-color: #808000\">filename</span>=<span style=\"color: #008000; text-decoration-color: #008000\">'./smalln//output_00030/particles_eft_multigrid_ncoarse6.h5'</span>                       \n",
       "param<span style=\"font-weight: bold\">[</span><span style=\"color: #008000; text-decoration-color: #008000\">'aexp'</span><span style=\"font-weight: bold\">]</span>=<span style=\"color: #008080; text-decoration-color: #008080; font-weight: bold\">0.6666666666666666</span>                                                                                   \n",
       "</pre>\n"
      ],
      "text/plain": [
       "Snapshot written at \u001b[33m...\u001b[0m\u001b[33mfilename\u001b[0m=\u001b[32m'./smalln//output_00030/particles_eft_multigrid_ncoarse6.h5'\u001b[0m                       \n",
       "param\u001b[1m[\u001b[0m\u001b[32m'aexp'\u001b[0m\u001b[1m]\u001b[0m=\u001b[1;36m0.6666666666666666\u001b[0m                                                                                   \n"
      ]
     },
     "metadata": {},
     "output_type": "display_data"
    },
    {
     "data": {
      "text/html": [
       "<pre style=\"white-space:pre;overflow-x:auto;line-height:normal;font-family:Menlo,'DejaVu Sans Mono',consolas,'Courier New',monospace\">param<span style=\"font-weight: bold\">[</span><span style=\"color: #008000; text-decoration-color: #008000\">'nsteps'</span><span style=\"font-weight: bold\">]</span>=<span style=\"color: #008080; text-decoration-color: #008080; font-weight: bold\">53</span> param<span style=\"font-weight: bold\">[</span><span style=\"color: #008000; text-decoration-color: #008000\">'aexp'</span><span style=\"font-weight: bold\">]</span>=<span style=\"color: #008080; text-decoration-color: #008080; font-weight: bold\">0.6666666666666666</span> z = <span style=\"color: #008080; text-decoration-color: #008080; font-weight: bold\">0.5</span>                                                        \n",
       "</pre>\n"
      ],
      "text/plain": [
       "param\u001b[1m[\u001b[0m\u001b[32m'nsteps'\u001b[0m\u001b[1m]\u001b[0m=\u001b[1;36m53\u001b[0m param\u001b[1m[\u001b[0m\u001b[32m'aexp'\u001b[0m\u001b[1m]\u001b[0m=\u001b[1;36m0.6666666666666666\u001b[0m z = \u001b[1;36m0.5\u001b[0m                                                        \n"
      ]
     },
     "metadata": {},
     "output_type": "display_data"
    },
    {
     "name": "stdout",
     "output_type": "stream",
     "text": [
      "Chi Laplacian Factor: 2.4999998917798334\n"
     ]
    },
    {
     "data": {
      "text/html": [
       "<pre style=\"white-space:pre;overflow-x:auto;line-height:normal;font-family:Menlo,'DejaVu Sans Mono',consolas,'Courier New',monospace\">Snapshot written at <span style=\"color: #808000; text-decoration-color: #808000\">...</span><span style=\"color: #808000; text-decoration-color: #808000\">filename</span>=<span style=\"color: #008000; text-decoration-color: #008000\">'./smalln//output_00031/particles_eft_multigrid_ncoarse6.h5'</span>                       \n",
       "param<span style=\"font-weight: bold\">[</span><span style=\"color: #008000; text-decoration-color: #008000\">'aexp'</span><span style=\"font-weight: bold\">]</span>=<span style=\"color: #008080; text-decoration-color: #008080; font-weight: bold\">0.6896551724137931</span>                                                                                   \n",
       "</pre>\n"
      ],
      "text/plain": [
       "Snapshot written at \u001b[33m...\u001b[0m\u001b[33mfilename\u001b[0m=\u001b[32m'./smalln//output_00031/particles_eft_multigrid_ncoarse6.h5'\u001b[0m                       \n",
       "param\u001b[1m[\u001b[0m\u001b[32m'aexp'\u001b[0m\u001b[1m]\u001b[0m=\u001b[1;36m0.6896551724137931\u001b[0m                                                                                   \n"
      ]
     },
     "metadata": {},
     "output_type": "display_data"
    },
    {
     "data": {
      "text/html": [
       "<pre style=\"white-space:pre;overflow-x:auto;line-height:normal;font-family:Menlo,'DejaVu Sans Mono',consolas,'Courier New',monospace\">param<span style=\"font-weight: bold\">[</span><span style=\"color: #008000; text-decoration-color: #008000\">'nsteps'</span><span style=\"font-weight: bold\">]</span>=<span style=\"color: #008080; text-decoration-color: #008080; font-weight: bold\">54</span> param<span style=\"font-weight: bold\">[</span><span style=\"color: #008000; text-decoration-color: #008000\">'aexp'</span><span style=\"font-weight: bold\">]</span>=<span style=\"color: #008080; text-decoration-color: #008080; font-weight: bold\">0.6896551724137931</span> z = <span style=\"color: #008080; text-decoration-color: #008080; font-weight: bold\">0.44999999999999996</span>                                        \n",
       "</pre>\n"
      ],
      "text/plain": [
       "param\u001b[1m[\u001b[0m\u001b[32m'nsteps'\u001b[0m\u001b[1m]\u001b[0m=\u001b[1;36m54\u001b[0m param\u001b[1m[\u001b[0m\u001b[32m'aexp'\u001b[0m\u001b[1m]\u001b[0m=\u001b[1;36m0.6896551724137931\u001b[0m z = \u001b[1;36m0.44999999999999996\u001b[0m                                        \n"
      ]
     },
     "metadata": {},
     "output_type": "display_data"
    },
    {
     "name": "stdout",
     "output_type": "stream",
     "text": [
      "Chi Laplacian Factor: 2.499999837587175\n"
     ]
    },
    {
     "data": {
      "text/html": [
       "<pre style=\"white-space:pre;overflow-x:auto;line-height:normal;font-family:Menlo,'DejaVu Sans Mono',consolas,'Courier New',monospace\">Snapshot written at <span style=\"color: #808000; text-decoration-color: #808000\">...</span><span style=\"color: #808000; text-decoration-color: #808000\">filename</span>=<span style=\"color: #008000; text-decoration-color: #008000\">'./smalln//output_00032/particles_eft_multigrid_ncoarse6.h5'</span>                       \n",
       "param<span style=\"font-weight: bold\">[</span><span style=\"color: #008000; text-decoration-color: #008000\">'aexp'</span><span style=\"font-weight: bold\">]</span>=<span style=\"color: #008080; text-decoration-color: #008080; font-weight: bold\">0.7142857142857143</span>                                                                                   \n",
       "</pre>\n"
      ],
      "text/plain": [
       "Snapshot written at \u001b[33m...\u001b[0m\u001b[33mfilename\u001b[0m=\u001b[32m'./smalln//output_00032/particles_eft_multigrid_ncoarse6.h5'\u001b[0m                       \n",
       "param\u001b[1m[\u001b[0m\u001b[32m'aexp'\u001b[0m\u001b[1m]\u001b[0m=\u001b[1;36m0.7142857142857143\u001b[0m                                                                                   \n"
      ]
     },
     "metadata": {},
     "output_type": "display_data"
    },
    {
     "data": {
      "text/html": [
       "<pre style=\"white-space:pre;overflow-x:auto;line-height:normal;font-family:Menlo,'DejaVu Sans Mono',consolas,'Courier New',monospace\">param<span style=\"font-weight: bold\">[</span><span style=\"color: #008000; text-decoration-color: #008000\">'nsteps'</span><span style=\"font-weight: bold\">]</span>=<span style=\"color: #008080; text-decoration-color: #008080; font-weight: bold\">55</span> param<span style=\"font-weight: bold\">[</span><span style=\"color: #008000; text-decoration-color: #008000\">'aexp'</span><span style=\"font-weight: bold\">]</span>=<span style=\"color: #008080; text-decoration-color: #008080; font-weight: bold\">0.7142857142857143</span> z = <span style=\"color: #008080; text-decoration-color: #008080; font-weight: bold\">0.3999999999999999</span>                                         \n",
       "</pre>\n"
      ],
      "text/plain": [
       "param\u001b[1m[\u001b[0m\u001b[32m'nsteps'\u001b[0m\u001b[1m]\u001b[0m=\u001b[1;36m55\u001b[0m param\u001b[1m[\u001b[0m\u001b[32m'aexp'\u001b[0m\u001b[1m]\u001b[0m=\u001b[1;36m0.7142857142857143\u001b[0m z = \u001b[1;36m0.3999999999999999\u001b[0m                                         \n"
      ]
     },
     "metadata": {},
     "output_type": "display_data"
    },
    {
     "name": "stdout",
     "output_type": "stream",
     "text": [
      "Chi Laplacian Factor: 2.4999998805861634\n"
     ]
    },
    {
     "data": {
      "text/html": [
       "<pre style=\"white-space:pre;overflow-x:auto;line-height:normal;font-family:Menlo,'DejaVu Sans Mono',consolas,'Courier New',monospace\">Snapshot written at <span style=\"color: #808000; text-decoration-color: #808000\">...</span><span style=\"color: #808000; text-decoration-color: #808000\">filename</span>=<span style=\"color: #008000; text-decoration-color: #008000\">'./smalln//output_00033/particles_eft_multigrid_ncoarse6.h5'</span>                       \n",
       "param<span style=\"font-weight: bold\">[</span><span style=\"color: #008000; text-decoration-color: #008000\">'aexp'</span><span style=\"font-weight: bold\">]</span>=<span style=\"color: #008080; text-decoration-color: #008080; font-weight: bold\">0.7407407407407407</span>                                                                                   \n",
       "</pre>\n"
      ],
      "text/plain": [
       "Snapshot written at \u001b[33m...\u001b[0m\u001b[33mfilename\u001b[0m=\u001b[32m'./smalln//output_00033/particles_eft_multigrid_ncoarse6.h5'\u001b[0m                       \n",
       "param\u001b[1m[\u001b[0m\u001b[32m'aexp'\u001b[0m\u001b[1m]\u001b[0m=\u001b[1;36m0.7407407407407407\u001b[0m                                                                                   \n"
      ]
     },
     "metadata": {},
     "output_type": "display_data"
    },
    {
     "data": {
      "text/html": [
       "<pre style=\"white-space:pre;overflow-x:auto;line-height:normal;font-family:Menlo,'DejaVu Sans Mono',consolas,'Courier New',monospace\">param<span style=\"font-weight: bold\">[</span><span style=\"color: #008000; text-decoration-color: #008000\">'nsteps'</span><span style=\"font-weight: bold\">]</span>=<span style=\"color: #008080; text-decoration-color: #008080; font-weight: bold\">56</span> param<span style=\"font-weight: bold\">[</span><span style=\"color: #008000; text-decoration-color: #008000\">'aexp'</span><span style=\"font-weight: bold\">]</span>=<span style=\"color: #008080; text-decoration-color: #008080; font-weight: bold\">0.7407407407407407</span> z = <span style=\"color: #008080; text-decoration-color: #008080; font-weight: bold\">0.3500000000000001</span>                                         \n",
       "</pre>\n"
      ],
      "text/plain": [
       "param\u001b[1m[\u001b[0m\u001b[32m'nsteps'\u001b[0m\u001b[1m]\u001b[0m=\u001b[1;36m56\u001b[0m param\u001b[1m[\u001b[0m\u001b[32m'aexp'\u001b[0m\u001b[1m]\u001b[0m=\u001b[1;36m0.7407407407407407\u001b[0m z = \u001b[1;36m0.3500000000000001\u001b[0m                                         \n"
      ]
     },
     "metadata": {},
     "output_type": "display_data"
    },
    {
     "name": "stdout",
     "output_type": "stream",
     "text": [
      "Chi Laplacian Factor: 2.4999999192398654\n"
     ]
    },
    {
     "data": {
      "text/html": [
       "<pre style=\"white-space:pre;overflow-x:auto;line-height:normal;font-family:Menlo,'DejaVu Sans Mono',consolas,'Courier New',monospace\">Snapshot written at <span style=\"color: #808000; text-decoration-color: #808000\">...</span><span style=\"color: #808000; text-decoration-color: #808000\">filename</span>=<span style=\"color: #008000; text-decoration-color: #008000\">'./smalln//output_00034/particles_eft_multigrid_ncoarse6.h5'</span>                       \n",
       "param<span style=\"font-weight: bold\">[</span><span style=\"color: #008000; text-decoration-color: #008000\">'aexp'</span><span style=\"font-weight: bold\">]</span>=<span style=\"color: #008080; text-decoration-color: #008080; font-weight: bold\">0.7692307692307692</span>                                                                                   \n",
       "</pre>\n"
      ],
      "text/plain": [
       "Snapshot written at \u001b[33m...\u001b[0m\u001b[33mfilename\u001b[0m=\u001b[32m'./smalln//output_00034/particles_eft_multigrid_ncoarse6.h5'\u001b[0m                       \n",
       "param\u001b[1m[\u001b[0m\u001b[32m'aexp'\u001b[0m\u001b[1m]\u001b[0m=\u001b[1;36m0.7692307692307692\u001b[0m                                                                                   \n"
      ]
     },
     "metadata": {},
     "output_type": "display_data"
    },
    {
     "data": {
      "text/html": [
       "<pre style=\"white-space:pre;overflow-x:auto;line-height:normal;font-family:Menlo,'DejaVu Sans Mono',consolas,'Courier New',monospace\">param<span style=\"font-weight: bold\">[</span><span style=\"color: #008000; text-decoration-color: #008000\">'nsteps'</span><span style=\"font-weight: bold\">]</span>=<span style=\"color: #008080; text-decoration-color: #008080; font-weight: bold\">57</span> param<span style=\"font-weight: bold\">[</span><span style=\"color: #008000; text-decoration-color: #008000\">'aexp'</span><span style=\"font-weight: bold\">]</span>=<span style=\"color: #008080; text-decoration-color: #008080; font-weight: bold\">0.7692307692307692</span> z = <span style=\"color: #008080; text-decoration-color: #008080; font-weight: bold\">0.30000000000000004</span>                                        \n",
       "</pre>\n"
      ],
      "text/plain": [
       "param\u001b[1m[\u001b[0m\u001b[32m'nsteps'\u001b[0m\u001b[1m]\u001b[0m=\u001b[1;36m57\u001b[0m param\u001b[1m[\u001b[0m\u001b[32m'aexp'\u001b[0m\u001b[1m]\u001b[0m=\u001b[1;36m0.7692307692307692\u001b[0m z = \u001b[1;36m0.30000000000000004\u001b[0m                                        \n"
      ]
     },
     "metadata": {},
     "output_type": "display_data"
    },
    {
     "name": "stdout",
     "output_type": "stream",
     "text": [
      "Chi Laplacian Factor: 2.499999846356992\n"
     ]
    },
    {
     "data": {
      "text/html": [
       "<pre style=\"white-space:pre;overflow-x:auto;line-height:normal;font-family:Menlo,'DejaVu Sans Mono',consolas,'Courier New',monospace\">Snapshot written at <span style=\"color: #808000; text-decoration-color: #808000\">...</span><span style=\"color: #808000; text-decoration-color: #808000\">filename</span>=<span style=\"color: #008000; text-decoration-color: #008000\">'./smalln//output_00035/particles_eft_multigrid_ncoarse6.h5'</span> param<span style=\"font-weight: bold\">[</span><span style=\"color: #008000; text-decoration-color: #008000\">'aexp'</span><span style=\"font-weight: bold\">]</span>=<span style=\"color: #008080; text-decoration-color: #008080; font-weight: bold\">0.8</span>     \n",
       "</pre>\n"
      ],
      "text/plain": [
       "Snapshot written at \u001b[33m...\u001b[0m\u001b[33mfilename\u001b[0m=\u001b[32m'./smalln//output_00035/particles_eft_multigrid_ncoarse6.h5'\u001b[0m param\u001b[1m[\u001b[0m\u001b[32m'aexp'\u001b[0m\u001b[1m]\u001b[0m=\u001b[1;36m0.8\u001b[0m     \n"
      ]
     },
     "metadata": {},
     "output_type": "display_data"
    },
    {
     "data": {
      "text/html": [
       "<pre style=\"white-space:pre;overflow-x:auto;line-height:normal;font-family:Menlo,'DejaVu Sans Mono',consolas,'Courier New',monospace\">param<span style=\"font-weight: bold\">[</span><span style=\"color: #008000; text-decoration-color: #008000\">'nsteps'</span><span style=\"font-weight: bold\">]</span>=<span style=\"color: #008080; text-decoration-color: #008080; font-weight: bold\">58</span> param<span style=\"font-weight: bold\">[</span><span style=\"color: #008000; text-decoration-color: #008000\">'aexp'</span><span style=\"font-weight: bold\">]</span>=<span style=\"color: #008080; text-decoration-color: #008080; font-weight: bold\">0.8</span> z = <span style=\"color: #008080; text-decoration-color: #008080; font-weight: bold\">0.25</span>                                                                      \n",
       "</pre>\n"
      ],
      "text/plain": [
       "param\u001b[1m[\u001b[0m\u001b[32m'nsteps'\u001b[0m\u001b[1m]\u001b[0m=\u001b[1;36m58\u001b[0m param\u001b[1m[\u001b[0m\u001b[32m'aexp'\u001b[0m\u001b[1m]\u001b[0m=\u001b[1;36m0.8\u001b[0m z = \u001b[1;36m0.25\u001b[0m                                                                      \n"
      ]
     },
     "metadata": {},
     "output_type": "display_data"
    },
    {
     "name": "stdout",
     "output_type": "stream",
     "text": [
      "Chi Laplacian Factor: 2.49999991635849\n"
     ]
    },
    {
     "data": {
      "text/html": [
       "<pre style=\"white-space:pre;overflow-x:auto;line-height:normal;font-family:Menlo,'DejaVu Sans Mono',consolas,'Courier New',monospace\">Snapshot written at <span style=\"color: #808000; text-decoration-color: #808000\">...</span><span style=\"color: #808000; text-decoration-color: #808000\">filename</span>=<span style=\"color: #008000; text-decoration-color: #008000\">'./smalln//output_00036/particles_eft_multigrid_ncoarse6.h5'</span>                       \n",
       "param<span style=\"font-weight: bold\">[</span><span style=\"color: #008000; text-decoration-color: #008000\">'aexp'</span><span style=\"font-weight: bold\">]</span>=<span style=\"color: #008080; text-decoration-color: #008080; font-weight: bold\">0.8333333333333334</span>                                                                                   \n",
       "</pre>\n"
      ],
      "text/plain": [
       "Snapshot written at \u001b[33m...\u001b[0m\u001b[33mfilename\u001b[0m=\u001b[32m'./smalln//output_00036/particles_eft_multigrid_ncoarse6.h5'\u001b[0m                       \n",
       "param\u001b[1m[\u001b[0m\u001b[32m'aexp'\u001b[0m\u001b[1m]\u001b[0m=\u001b[1;36m0.8333333333333334\u001b[0m                                                                                   \n"
      ]
     },
     "metadata": {},
     "output_type": "display_data"
    },
    {
     "data": {
      "text/html": [
       "<pre style=\"white-space:pre;overflow-x:auto;line-height:normal;font-family:Menlo,'DejaVu Sans Mono',consolas,'Courier New',monospace\">param<span style=\"font-weight: bold\">[</span><span style=\"color: #008000; text-decoration-color: #008000\">'nsteps'</span><span style=\"font-weight: bold\">]</span>=<span style=\"color: #008080; text-decoration-color: #008080; font-weight: bold\">59</span> param<span style=\"font-weight: bold\">[</span><span style=\"color: #008000; text-decoration-color: #008000\">'aexp'</span><span style=\"font-weight: bold\">]</span>=<span style=\"color: #008080; text-decoration-color: #008080; font-weight: bold\">0.8333333333333334</span> z = <span style=\"color: #008080; text-decoration-color: #008080; font-weight: bold\">0.19999999999999996</span>                                        \n",
       "</pre>\n"
      ],
      "text/plain": [
       "param\u001b[1m[\u001b[0m\u001b[32m'nsteps'\u001b[0m\u001b[1m]\u001b[0m=\u001b[1;36m59\u001b[0m param\u001b[1m[\u001b[0m\u001b[32m'aexp'\u001b[0m\u001b[1m]\u001b[0m=\u001b[1;36m0.8333333333333334\u001b[0m z = \u001b[1;36m0.19999999999999996\u001b[0m                                        \n"
      ]
     },
     "metadata": {},
     "output_type": "display_data"
    },
    {
     "name": "stdout",
     "output_type": "stream",
     "text": [
      "Chi Laplacian Factor: 2.4999998586197645\n"
     ]
    },
    {
     "data": {
      "text/html": [
       "<pre style=\"white-space:pre;overflow-x:auto;line-height:normal;font-family:Menlo,'DejaVu Sans Mono',consolas,'Courier New',monospace\">Snapshot written at <span style=\"color: #808000; text-decoration-color: #808000\">...</span><span style=\"color: #808000; text-decoration-color: #808000\">filename</span>=<span style=\"color: #008000; text-decoration-color: #008000\">'./smalln//output_00037/particles_eft_multigrid_ncoarse6.h5'</span>                       \n",
       "param<span style=\"font-weight: bold\">[</span><span style=\"color: #008000; text-decoration-color: #008000\">'aexp'</span><span style=\"font-weight: bold\">]</span>=<span style=\"color: #008080; text-decoration-color: #008080; font-weight: bold\">0.8695652173913044</span>                                                                                   \n",
       "</pre>\n"
      ],
      "text/plain": [
       "Snapshot written at \u001b[33m...\u001b[0m\u001b[33mfilename\u001b[0m=\u001b[32m'./smalln//output_00037/particles_eft_multigrid_ncoarse6.h5'\u001b[0m                       \n",
       "param\u001b[1m[\u001b[0m\u001b[32m'aexp'\u001b[0m\u001b[1m]\u001b[0m=\u001b[1;36m0.8695652173913044\u001b[0m                                                                                   \n"
      ]
     },
     "metadata": {},
     "output_type": "display_data"
    },
    {
     "data": {
      "text/html": [
       "<pre style=\"white-space:pre;overflow-x:auto;line-height:normal;font-family:Menlo,'DejaVu Sans Mono',consolas,'Courier New',monospace\">param<span style=\"font-weight: bold\">[</span><span style=\"color: #008000; text-decoration-color: #008000\">'nsteps'</span><span style=\"font-weight: bold\">]</span>=<span style=\"color: #008080; text-decoration-color: #008080; font-weight: bold\">60</span> param<span style=\"font-weight: bold\">[</span><span style=\"color: #008000; text-decoration-color: #008000\">'aexp'</span><span style=\"font-weight: bold\">]</span>=<span style=\"color: #008080; text-decoration-color: #008080; font-weight: bold\">0.8695652173913044</span> z = <span style=\"color: #008080; text-decoration-color: #008080; font-weight: bold\">0.1499999999999999</span>                                         \n",
       "</pre>\n"
      ],
      "text/plain": [
       "param\u001b[1m[\u001b[0m\u001b[32m'nsteps'\u001b[0m\u001b[1m]\u001b[0m=\u001b[1;36m60\u001b[0m param\u001b[1m[\u001b[0m\u001b[32m'aexp'\u001b[0m\u001b[1m]\u001b[0m=\u001b[1;36m0.8695652173913044\u001b[0m z = \u001b[1;36m0.1499999999999999\u001b[0m                                         \n"
      ]
     },
     "metadata": {},
     "output_type": "display_data"
    },
    {
     "name": "stdout",
     "output_type": "stream",
     "text": [
      "Chi Laplacian Factor: 2.4999999128296047\n"
     ]
    },
    {
     "data": {
      "text/html": [
       "<pre style=\"white-space:pre;overflow-x:auto;line-height:normal;font-family:Menlo,'DejaVu Sans Mono',consolas,'Courier New',monospace\">Snapshot written at <span style=\"color: #808000; text-decoration-color: #808000\">...</span><span style=\"color: #808000; text-decoration-color: #808000\">filename</span>=<span style=\"color: #008000; text-decoration-color: #008000\">'./smalln//output_00038/particles_eft_multigrid_ncoarse6.h5'</span>                       \n",
       "param<span style=\"font-weight: bold\">[</span><span style=\"color: #008000; text-decoration-color: #008000\">'aexp'</span><span style=\"font-weight: bold\">]</span>=<span style=\"color: #008080; text-decoration-color: #008080; font-weight: bold\">0.9090909090909091</span>                                                                                   \n",
       "</pre>\n"
      ],
      "text/plain": [
       "Snapshot written at \u001b[33m...\u001b[0m\u001b[33mfilename\u001b[0m=\u001b[32m'./smalln//output_00038/particles_eft_multigrid_ncoarse6.h5'\u001b[0m                       \n",
       "param\u001b[1m[\u001b[0m\u001b[32m'aexp'\u001b[0m\u001b[1m]\u001b[0m=\u001b[1;36m0.9090909090909091\u001b[0m                                                                                   \n"
      ]
     },
     "metadata": {},
     "output_type": "display_data"
    },
    {
     "data": {
      "text/html": [
       "<pre style=\"white-space:pre;overflow-x:auto;line-height:normal;font-family:Menlo,'DejaVu Sans Mono',consolas,'Courier New',monospace\">param<span style=\"font-weight: bold\">[</span><span style=\"color: #008000; text-decoration-color: #008000\">'nsteps'</span><span style=\"font-weight: bold\">]</span>=<span style=\"color: #008080; text-decoration-color: #008080; font-weight: bold\">61</span> param<span style=\"font-weight: bold\">[</span><span style=\"color: #008000; text-decoration-color: #008000\">'aexp'</span><span style=\"font-weight: bold\">]</span>=<span style=\"color: #008080; text-decoration-color: #008080; font-weight: bold\">0.9090909090909091</span> z = <span style=\"color: #008080; text-decoration-color: #008080; font-weight: bold\">0.10000000000000009</span>                                        \n",
       "</pre>\n"
      ],
      "text/plain": [
       "param\u001b[1m[\u001b[0m\u001b[32m'nsteps'\u001b[0m\u001b[1m]\u001b[0m=\u001b[1;36m61\u001b[0m param\u001b[1m[\u001b[0m\u001b[32m'aexp'\u001b[0m\u001b[1m]\u001b[0m=\u001b[1;36m0.9090909090909091\u001b[0m z = \u001b[1;36m0.10000000000000009\u001b[0m                                        \n"
      ]
     },
     "metadata": {},
     "output_type": "display_data"
    },
    {
     "name": "stdout",
     "output_type": "stream",
     "text": [
      "Chi Laplacian Factor: 2.4999999894064437\n"
     ]
    },
    {
     "data": {
      "text/html": [
       "<pre style=\"white-space:pre;overflow-x:auto;line-height:normal;font-family:Menlo,'DejaVu Sans Mono',consolas,'Courier New',monospace\">Snapshot written at <span style=\"color: #808000; text-decoration-color: #808000\">...</span><span style=\"color: #808000; text-decoration-color: #808000\">filename</span>=<span style=\"color: #008000; text-decoration-color: #008000\">'./smalln//output_00039/particles_eft_multigrid_ncoarse6.h5'</span>                       \n",
       "param<span style=\"font-weight: bold\">[</span><span style=\"color: #008000; text-decoration-color: #008000\">'aexp'</span><span style=\"font-weight: bold\">]</span>=<span style=\"color: #008080; text-decoration-color: #008080; font-weight: bold\">0.9523809523809523</span>                                                                                   \n",
       "</pre>\n"
      ],
      "text/plain": [
       "Snapshot written at \u001b[33m...\u001b[0m\u001b[33mfilename\u001b[0m=\u001b[32m'./smalln//output_00039/particles_eft_multigrid_ncoarse6.h5'\u001b[0m                       \n",
       "param\u001b[1m[\u001b[0m\u001b[32m'aexp'\u001b[0m\u001b[1m]\u001b[0m=\u001b[1;36m0.9523809523809523\u001b[0m                                                                                   \n"
      ]
     },
     "metadata": {},
     "output_type": "display_data"
    },
    {
     "data": {
      "text/html": [
       "<pre style=\"white-space:pre;overflow-x:auto;line-height:normal;font-family:Menlo,'DejaVu Sans Mono',consolas,'Courier New',monospace\">param<span style=\"font-weight: bold\">[</span><span style=\"color: #008000; text-decoration-color: #008000\">'nsteps'</span><span style=\"font-weight: bold\">]</span>=<span style=\"color: #008080; text-decoration-color: #008080; font-weight: bold\">62</span> param<span style=\"font-weight: bold\">[</span><span style=\"color: #008000; text-decoration-color: #008000\">'aexp'</span><span style=\"font-weight: bold\">]</span>=<span style=\"color: #008080; text-decoration-color: #008080; font-weight: bold\">0.9523809523809523</span> z = <span style=\"color: #008080; text-decoration-color: #008080; font-weight: bold\">0.050000000000000044</span>                                       \n",
       "</pre>\n"
      ],
      "text/plain": [
       "param\u001b[1m[\u001b[0m\u001b[32m'nsteps'\u001b[0m\u001b[1m]\u001b[0m=\u001b[1;36m62\u001b[0m param\u001b[1m[\u001b[0m\u001b[32m'aexp'\u001b[0m\u001b[1m]\u001b[0m=\u001b[1;36m0.9523809523809523\u001b[0m z = \u001b[1;36m0.050000000000000044\u001b[0m                                       \n"
      ]
     },
     "metadata": {},
     "output_type": "display_data"
    },
    {
     "name": "stdout",
     "output_type": "stream",
     "text": [
      "Chi Laplacian Factor: 2.4999999999999973\n"
     ]
    },
    {
     "data": {
      "text/html": [
       "<pre style=\"white-space:pre;overflow-x:auto;line-height:normal;font-family:Menlo,'DejaVu Sans Mono',consolas,'Courier New',monospace\">Snapshot written at <span style=\"color: #808000; text-decoration-color: #808000\">...</span><span style=\"color: #808000; text-decoration-color: #808000\">filename</span>=<span style=\"color: #008000; text-decoration-color: #008000\">'./smalln//output_00040/particles_eft_multigrid_ncoarse6.h5'</span> param<span style=\"font-weight: bold\">[</span><span style=\"color: #008000; text-decoration-color: #008000\">'aexp'</span><span style=\"font-weight: bold\">]</span>=<span style=\"color: #008080; text-decoration-color: #008080; font-weight: bold\">1.0</span>     \n",
       "</pre>\n"
      ],
      "text/plain": [
       "Snapshot written at \u001b[33m...\u001b[0m\u001b[33mfilename\u001b[0m=\u001b[32m'./smalln//output_00040/particles_eft_multigrid_ncoarse6.h5'\u001b[0m param\u001b[1m[\u001b[0m\u001b[32m'aexp'\u001b[0m\u001b[1m]\u001b[0m=\u001b[1;36m1.0\u001b[0m     \n"
      ]
     },
     "metadata": {},
     "output_type": "display_data"
    },
    {
     "data": {
      "text/html": [
       "<pre style=\"white-space:pre;overflow-x:auto;line-height:normal;font-family:Menlo,'DejaVu Sans Mono',consolas,'Courier New',monospace\">param<span style=\"font-weight: bold\">[</span><span style=\"color: #008000; text-decoration-color: #008000\">'nsteps'</span><span style=\"font-weight: bold\">]</span>=<span style=\"color: #008080; text-decoration-color: #008080; font-weight: bold\">63</span> param<span style=\"font-weight: bold\">[</span><span style=\"color: #008000; text-decoration-color: #008000\">'aexp'</span><span style=\"font-weight: bold\">]</span>=<span style=\"color: #008080; text-decoration-color: #008080; font-weight: bold\">1.0</span> z = <span style=\"color: #008080; text-decoration-color: #008080; font-weight: bold\">0.0</span>                                                                       \n",
       "</pre>\n"
      ],
      "text/plain": [
       "param\u001b[1m[\u001b[0m\u001b[32m'nsteps'\u001b[0m\u001b[1m]\u001b[0m=\u001b[1;36m63\u001b[0m param\u001b[1m[\u001b[0m\u001b[32m'aexp'\u001b[0m\u001b[1m]\u001b[0m=\u001b[1;36m1.0\u001b[0m z = \u001b[1;36m0.0\u001b[0m                                                                       \n"
      ]
     },
     "metadata": {},
     "output_type": "display_data"
    }
   ],
   "source": [
    "path = '.'\n",
    "\n",
    "param = pd.Series({\n",
    "    \"theory\": \"eft\",\n",
    "    \"alphaB0\": 0.1,\n",
    "    \"alphaM0\": 0.0,\n",
    "    \"extra\":'04_01',\n",
    "    \"nthreads\": 1,\n",
    "    \"H0\": 72,\n",
    "    \"Om_m\": 1.,\n",
    "    \"T_cmb\": 0.1,\n",
    "    \"N_eff\": 3.044,\n",
    "    \"w0\": -1.0,\n",
    "    \"wa\": 0.0,\n",
    "    \"boxlen\": 100,\n",
    "    \"ncoarse\": 6,\n",
    "    \"npart\": 64**3,\n",
    "    \"z_start\": 50,\n",
    "    \"seed\": 42,\n",
    "    \"position_ICS\": \"center\",\n",
    "    \"fixed_ICS\": False,\n",
    "    \"paired_ICS\": False,\n",
    "    \"dealiased_ICS\": False,\n",
    "    \"power_spectrum_file\": f\"{path}/pk_lcdmw7v2.dat\",\n",
    "    \"initial_conditions\": \"2LPT\",\n",
    "    \"base\": f\"{path}/smalln/\",\n",
    "    \"z_out\": \"[20,19,18,17,16,15,14,13,12,11,10,9,8,7,6,5,4,3,2,1,0.95,0.9,0.85,0.8,0.75,0.7,0.65,0.6,0.55,0.5,0.45,0.4,0.35,0.3,0.25,0.2,0.15,0.1,0.05,0]\",\n",
    "    \"output_snapshot_format\": \"HDF5\",\n",
    "    \"save_power_spectrum\": \"no\",\n",
    "    \"integrator\": \"leapfrog\",\n",
    "    \"n_reorder\": 50,\n",
    "    \"mass_scheme\": \"TSC\",\n",
    "    \"Courant_factor\": 1.0,\n",
    "    \"max_aexp_stepping\": 10,\n",
    "    \"linear_newton_solver\": \"multigrid\",\n",
    "    \"gradient_stencil_order\": 5,\n",
    "    \"Npre\": 3,\n",
    "    \"Npost\": 3,\n",
    "    \"domg\": True,\n",
    "    \"epsrel\": 1e-2,\n",
    "    \"verbose\": 1,\n",
    "    \"evolution_table\":'no',\n",
    "    \"Om_lambda\":0,\n",
    "    'newton': True\n",
    "    })\n",
    "\n",
    "main.run(param)"
   ]
  },
  {
   "cell_type": "code",
   "execution_count": null,
   "id": "745e13f5-a86b-4a56-b006-0e6a506f8f7b",
   "metadata": {},
   "outputs": [],
   "source": [
    "pwd"
   ]
  },
  {
   "cell_type": "code",
   "execution_count": null,
   "id": "12253e6e-2e12-4e89-a94b-c0ea49c2d8f8",
   "metadata": {},
   "outputs": [],
   "source": [
    "import numpy as np\n",
    "import matplotlib.pyplot as plt"
   ]
  },
  {
   "cell_type": "code",
   "execution_count": null,
   "id": "8f245db8-f29f-4115-974c-0ab46feafe97",
   "metadata": {},
   "outputs": [],
   "source": [
    "x = np.loadtxt('/Users/himanishganjoo/Dropbox/prograceray/pysco-eft/pysco/t5/power/pk_eft_multigrid_ncoarse6_00039.dat')\n",
    "plt.loglog(x[:,0],x[:,1],'.')\n",
    "\n",
    "x = np.loadtxt('/Users/himanishganjoo/Dropbox/prograceray/pysco-eft/pysco/t5/power/pk_newton_multigrid_ncoarse6_00039.dat')\n",
    "plt.loglog(x[:,0],x[:,1],'.')\n",
    "\n",
    "\n"
   ]
  },
  {
   "cell_type": "code",
   "execution_count": null,
   "id": "18c0644b-f819-404f-b213-67c3af37c818",
   "metadata": {},
   "outputs": [],
   "source": []
  }
 ],
 "metadata": {
  "kernelspec": {
   "display_name": "Python 3 (ipykernel)",
   "language": "python",
   "name": "python3"
  },
  "language_info": {
   "codemirror_mode": {
    "name": "ipython",
    "version": 3
   },
   "file_extension": ".py",
   "mimetype": "text/x-python",
   "name": "python",
   "nbconvert_exporter": "python",
   "pygments_lexer": "ipython3",
   "version": "3.12.7"
  }
 },
 "nbformat": 4,
 "nbformat_minor": 5
}
