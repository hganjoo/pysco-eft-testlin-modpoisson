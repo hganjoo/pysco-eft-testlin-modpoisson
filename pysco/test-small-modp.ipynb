{
 "cells": [
  {
   "cell_type": "code",
   "execution_count": 1,
   "id": "b849885c-861b-4f15-a951-6cf85cb9fcee",
   "metadata": {},
   "outputs": [],
   "source": [
    "import main\n",
    "import pandas as pd"
   ]
  },
  {
   "cell_type": "code",
   "execution_count": 3,
   "id": "5ef8bd61-eb79-4e13-8a29-daebb50df2ed",
   "metadata": {},
   "outputs": [
    {
     "data": {
      "text/html": [
       "<pre style=\"white-space:pre;overflow-x:auto;line-height:normal;font-family:Menlo,'DejaVu Sans Mono',consolas,'Courier New',monospace\">param<span style=\"font-weight: bold\">[</span><span style=\"color: #008000; text-decoration-color: #008000\">'nthreads'</span><span style=\"font-weight: bold\">]</span>=<span style=\"color: #008080; text-decoration-color: #008080; font-weight: bold\">1</span>                                                                                                \n",
       "</pre>\n"
      ],
      "text/plain": [
       "param\u001b[1m[\u001b[0m\u001b[32m'nthreads'\u001b[0m\u001b[1m]\u001b[0m=\u001b[1;36m1\u001b[0m                                                                                                \n"
      ]
     },
     "metadata": {},
     "output_type": "display_data"
    },
    {
     "data": {
      "text/html": [
       "<pre style=\"white-space:pre;overflow-x:auto;line-height:normal;font-family:Menlo,'DejaVu Sans Mono',consolas,'Courier New',monospace\">                                                                                                                   \n",
       "<span style=\"color: #008000; text-decoration-color: #008000; font-weight: bold\">FFT module: NumPy</span>                                                                                                  \n",
       "</pre>\n"
      ],
      "text/plain": [
       "                                                                                                                   \n",
       "\u001b[1;32mFFT module: NumPy\u001b[0m                                                                                                  \n"
      ]
     },
     "metadata": {},
     "output_type": "display_data"
    },
    {
     "data": {
      "text/html": [
       "<pre style=\"white-space:pre;overflow-x:auto;line-height:normal;font-family:Menlo,'DejaVu Sans Mono',consolas,'Courier New',monospace\">                                                                                                                   \n",
       "<span style=\"color: #000080; text-decoration-color: #000080; font-weight: bold\">----- Compute background cosmology -----</span>                                                                           \n",
       "                                                                                                                   \n",
       "</pre>\n"
      ],
      "text/plain": [
       "                                                                                                                   \n",
       "\u001b[1;34m----- Compute background cosmology -----\u001b[0m                                                                           \n",
       "                                                                                                                   \n"
      ]
     },
     "metadata": {},
     "output_type": "display_data"
    },
    {
     "data": {
      "text/html": [
       "<pre style=\"white-space:pre;overflow-x:auto;line-height:normal;font-family:Menlo,'DejaVu Sans Mono',consolas,'Courier New',monospace\">Write table in: .<span style=\"color: #800080; text-decoration-color: #800080\">/smalln//</span><span style=\"color: #ff00ff; text-decoration-color: #ff00ff\">evolution_table_pysco_eft_multigrid_ncoarse6.txt</span>                                         \n",
       "</pre>\n"
      ],
      "text/plain": [
       "Write table in: .\u001b[35m/smalln/\u001b[0m\u001b[35m/\u001b[0m\u001b[95mevolution_table_pysco_eft_multigrid_ncoarse6.txt\u001b[0m                                         \n"
      ]
     },
     "metadata": {},
     "output_type": "display_data"
    },
    {
     "data": {
      "text/html": [
       "<pre style=\"white-space:pre;overflow-x:auto;line-height:normal;font-family:Menlo,'DejaVu Sans Mono',consolas,'Courier New',monospace\">                                                                                                                   \n",
       "<span style=\"color: #000080; text-decoration-color: #000080; font-weight: bold\">----- Initial conditions -----</span>                                                                                     \n",
       "                                                                                                                   \n",
       "</pre>\n"
      ],
      "text/plain": [
       "                                                                                                                   \n",
       "\u001b[1;34m----- Initial conditions -----\u001b[0m                                                                                     \n",
       "                                                                                                                   \n"
      ]
     },
     "metadata": {},
     "output_type": "display_data"
    },
    {
     "data": {
      "text/html": [
       "<pre style=\"white-space:pre;overflow-x:auto;line-height:normal;font-family:Menlo,'DejaVu Sans Mono',consolas,'Courier New',monospace\">param<span style=\"font-weight: bold\">[</span><span style=\"color: #008000; text-decoration-color: #008000\">'z_start'</span><span style=\"font-weight: bold\">]</span>=<span style=\"color: #008080; text-decoration-color: #008080; font-weight: bold\">50</span>                                                                                                \n",
       "</pre>\n"
      ],
      "text/plain": [
       "param\u001b[1m[\u001b[0m\u001b[32m'z_start'\u001b[0m\u001b[1m]\u001b[0m=\u001b[1;36m50\u001b[0m                                                                                                \n"
      ]
     },
     "metadata": {},
     "output_type": "display_data"
    },
    {
     "data": {
      "text/html": [
       "<pre style=\"white-space:pre;overflow-x:auto;line-height:normal;font-family:Menlo,'DejaVu Sans Mono',consolas,'Courier New',monospace\">Compute 1LPT contribution                                                                                          \n",
       "</pre>\n"
      ],
      "text/plain": [
       "Compute 1LPT contribution                                                                                          \n"
      ]
     },
     "metadata": {},
     "output_type": "display_data"
    },
    {
     "data": {
      "text/html": [
       "<pre style=\"white-space:pre;overflow-x:auto;line-height:normal;font-family:Menlo,'DejaVu Sans Mono',consolas,'Courier New',monospace\">Compute 2LPT contribution                                                                                          \n",
       "</pre>\n"
      ],
      "text/plain": [
       "Compute 2LPT contribution                                                                                          \n"
      ]
     },
     "metadata": {},
     "output_type": "display_data"
    },
    {
     "data": {
      "text/html": [
       "<pre style=\"white-space:pre;overflow-x:auto;line-height:normal;font-family:Menlo,'DejaVu Sans Mono',consolas,'Courier New',monospace\">Write initial snapshot<span style=\"color: #808000; text-decoration-color: #808000\">...</span><span style=\"color: #808000; text-decoration-color: #808000\">snap_name</span>=<span style=\"color: #008000; text-decoration-color: #008000\">'./smalln//output_00000/particles_eft_multigrid_ncoarse6.h5'</span>                    \n",
       "</pre>\n"
      ],
      "text/plain": [
       "Write initial snapshot\u001b[33m...\u001b[0m\u001b[33msnap_name\u001b[0m=\u001b[32m'./smalln//output_00000/particles_eft_multigrid_ncoarse6.h5'\u001b[0m                    \n"
      ]
     },
     "metadata": {},
     "output_type": "display_data"
    },
    {
     "name": "stdout",
     "output_type": "stream",
     "text": [
      "ICs [0.00762959 0.00748253 0.00774562] [-2.5826224e-05 -4.6566678e-05 -9.2738574e-06]\n"
     ]
    },
    {
     "data": {
      "text/html": [
       "<pre style=\"white-space:pre;overflow-x:auto;line-height:normal;font-family:Menlo,'DejaVu Sans Mono',consolas,'Courier New',monospace\">param<span style=\"font-weight: bold\">[</span><span style=\"color: #008000; text-decoration-color: #008000\">'aexp'</span><span style=\"font-weight: bold\">]</span>=<span style=\"color: #008080; text-decoration-color: #008080; font-weight: bold\">0.0196078431372549</span> param<span style=\"font-weight: bold\">[</span><span style=\"color: #008000; text-decoration-color: #008000\">'t'</span><span style=\"font-weight: bold\">]</span>=<span style=\"color: #800080; text-decoration-color: #800080; font-weight: bold\">array</span><span style=\"font-weight: bold\">(</span><span style=\"color: #008080; text-decoration-color: #008080; font-weight: bold\">-12.28285684</span><span style=\"font-weight: bold\">)</span>                                                    \n",
       "</pre>\n"
      ],
      "text/plain": [
       "param\u001b[1m[\u001b[0m\u001b[32m'aexp'\u001b[0m\u001b[1m]\u001b[0m=\u001b[1;36m0.0196078431372549\u001b[0m param\u001b[1m[\u001b[0m\u001b[32m't'\u001b[0m\u001b[1m]\u001b[0m=\u001b[1;35marray\u001b[0m\u001b[1m(\u001b[0m\u001b[1;36m-12.28285684\u001b[0m\u001b[1m)\u001b[0m                                                    \n"
      ]
     },
     "metadata": {},
     "output_type": "display_data"
    },
    {
     "data": {
      "text/html": [
       "<pre style=\"white-space:pre;overflow-x:auto;line-height:normal;font-family:Menlo,'DejaVu Sans Mono',consolas,'Courier New',monospace\">                                                                                                                   \n",
       "<span style=\"color: #000080; text-decoration-color: #000080; font-weight: bold\">----- Run N-body -----</span>                                                                                             \n",
       "                                                                                                                   \n",
       "</pre>\n"
      ],
      "text/plain": [
       "                                                                                                                   \n",
       "\u001b[1;34m----- Run N-body -----\u001b[0m                                                                                             \n",
       "                                                                                                                   \n"
      ]
     },
     "metadata": {},
     "output_type": "display_data"
    },
    {
     "data": {
      "text/html": [
       "<pre style=\"white-space:pre;overflow-x:auto;line-height:normal;font-family:Menlo,'DejaVu Sans Mono',consolas,'Courier New',monospace\">Tables, <span style=\"color: #008080; text-decoration-color: #008080; font-weight: bold\">13</span>                                                                                                         \n",
       "</pre>\n"
      ],
      "text/plain": [
       "Tables, \u001b[1;36m13\u001b[0m                                                                                                         \n"
      ]
     },
     "metadata": {},
     "output_type": "display_data"
    },
    {
     "name": "stdout",
     "output_type": "stream",
     "text": [
      "Step: 1 [0.00760996 0.00744881 0.00773956] [-3.4021232e-05 -5.5765184e-05 -8.9020396e-06] [[-1.4059246e-04 -2.6889145e-05 -7.4190646e-04 ...  1.4786422e-03\n",
      "   1.9053891e-03  1.7055720e-03]\n",
      " [ 1.6272441e-03  7.9490244e-04  4.8313290e-04 ...  3.6248490e-03\n",
      "   2.4785250e-03  1.2261197e-03]\n",
      " [ 4.9792528e-03  3.2763407e-03  2.3658723e-03 ...  6.3401014e-03\n",
      "   4.9968362e-03  3.9452389e-03]\n",
      " ...\n",
      " [ 3.0161664e-03  1.3220012e-03  1.6677454e-03 ... -7.9335272e-04\n",
      "   6.2661618e-04  2.5073737e-03]\n",
      " [ 1.7505661e-03 -4.8617274e-04 -3.2994896e-04 ...  3.2579899e-04\n",
      "   2.4594665e-03  2.9413402e-03]\n",
      " [ 1.8956512e-04 -5.3860247e-04 -9.7783655e-04 ...  1.4011487e-03\n",
      "   2.4583712e-03  2.4980009e-03]]\n"
     ]
    },
    {
     "data": {
      "text/html": [
       "<pre style=\"white-space:pre;overflow-x:auto;line-height:normal;font-family:Menlo,'DejaVu Sans Mono',consolas,'Courier New',monospace\">param<span style=\"font-weight: bold\">[</span><span style=\"color: #008000; text-decoration-color: #008000\">'nsteps'</span><span style=\"font-weight: bold\">]</span>=<span style=\"color: #008080; text-decoration-color: #008080; font-weight: bold\">1</span> param<span style=\"font-weight: bold\">[</span><span style=\"color: #008000; text-decoration-color: #008000\">'aexp'</span><span style=\"font-weight: bold\">]</span>=<span style=\"color: #008080; text-decoration-color: #008080; font-weight: bold\">0.021568627395171482</span> z = <span style=\"color: #008080; text-decoration-color: #008080; font-weight: bold\">45.363636483602455</span>                                        \n",
       "</pre>\n"
      ],
      "text/plain": [
       "param\u001b[1m[\u001b[0m\u001b[32m'nsteps'\u001b[0m\u001b[1m]\u001b[0m=\u001b[1;36m1\u001b[0m param\u001b[1m[\u001b[0m\u001b[32m'aexp'\u001b[0m\u001b[1m]\u001b[0m=\u001b[1;36m0.021568627395171482\u001b[0m z = \u001b[1;36m45.363636483602455\u001b[0m                                        \n"
      ]
     },
     "metadata": {},
     "output_type": "display_data"
    },
    {
     "name": "stdout",
     "output_type": "stream",
     "text": [
      "Step: 2 [0.00758568 0.00741043 0.00773405] [-4.3575194e-05 -6.6431217e-05 -8.4516705e-06] [[-1.4212728e-04 -1.2770295e-05 -8.7590516e-04 ...  1.8256158e-03\n",
      "   2.3263693e-03  2.0719618e-03]\n",
      " [ 1.9938648e-03  9.9197030e-04  6.0744584e-04 ...  4.4138581e-03\n",
      "   3.0373037e-03  1.5164018e-03]\n",
      " [ 6.0196817e-03  3.9677918e-03  2.8647482e-03 ...  7.7032745e-03\n",
      "   6.0893744e-03  4.7937930e-03]\n",
      " ...\n",
      " [ 3.6435276e-03  1.6183406e-03  2.0353198e-03 ... -9.4145536e-04\n",
      "   7.6667964e-04  3.0240268e-03]\n",
      " [ 2.1038651e-03 -5.7148933e-04 -3.8649142e-04 ...  4.2246282e-04\n",
      "   2.9699504e-03  3.5495013e-03]\n",
      " [ 2.3154914e-04 -6.3236058e-04 -1.1652708e-03 ...  1.7143339e-03\n",
      "   2.9785335e-03  3.0210763e-03]]\n"
     ]
    },
    {
     "data": {
      "text/html": [
       "<pre style=\"white-space:pre;overflow-x:auto;line-height:normal;font-family:Menlo,'DejaVu Sans Mono',consolas,'Courier New',monospace\">param<span style=\"font-weight: bold\">[</span><span style=\"color: #008000; text-decoration-color: #008000\">'nsteps'</span><span style=\"font-weight: bold\">]</span>=<span style=\"color: #008080; text-decoration-color: #008080; font-weight: bold\">2</span> param<span style=\"font-weight: bold\">[</span><span style=\"color: #008000; text-decoration-color: #008000\">'aexp'</span><span style=\"font-weight: bold\">]</span>=<span style=\"color: #008080; text-decoration-color: #008080; font-weight: bold\">0.023725490197135993</span> z = <span style=\"color: #008080; text-decoration-color: #008080; font-weight: bold\">41.14876032869974</span>                                         \n",
       "</pre>\n"
      ],
      "text/plain": [
       "param\u001b[1m[\u001b[0m\u001b[32m'nsteps'\u001b[0m\u001b[1m]\u001b[0m=\u001b[1;36m2\u001b[0m param\u001b[1m[\u001b[0m\u001b[32m'aexp'\u001b[0m\u001b[1m]\u001b[0m=\u001b[1;36m0.023725490197135993\u001b[0m z = \u001b[1;36m41.14876032869974\u001b[0m                                         \n"
      ]
     },
     "metadata": {},
     "output_type": "display_data"
    },
    {
     "name": "stdout",
     "output_type": "stream",
     "text": [
      "Step: 3 [0.00755632 0.00736691 0.00772908] [-5.4777494e-05 -7.8841367e-05 -7.8948151e-06] [[-1.2688339e-04  1.3947487e-05 -1.0257363e-03 ...  2.2609234e-03\n",
      "   2.8424263e-03  2.5152266e-03]\n",
      " [ 2.4498999e-03  1.2493879e-03  7.6797605e-04 ...  5.3743273e-03\n",
      "   3.7300587e-03  1.8887520e-03]\n",
      " [ 7.2662979e-03  4.8022568e-03  3.4615993e-03 ...  9.3468875e-03\n",
      "   7.4247271e-03  5.8328807e-03]\n",
      " ...\n",
      " [ 4.3913871e-03  1.9913912e-03  2.5015026e-03 ... -1.1052638e-03\n",
      "   9.4132125e-04  3.6379397e-03]\n",
      " [ 2.5253743e-03 -6.5888464e-04 -4.3857098e-04 ...  5.5648386e-04\n",
      "   3.5819411e-03  4.2772889e-03]\n",
      " [ 2.8854609e-04 -7.3711574e-04 -1.3808161e-03 ...  2.1013170e-03\n",
      "   3.6076754e-03  3.6489666e-03]]\n"
     ]
    },
    {
     "data": {
      "text/html": [
       "<pre style=\"white-space:pre;overflow-x:auto;line-height:normal;font-family:Menlo,'DejaVu Sans Mono',consolas,'Courier New',monospace\">param<span style=\"font-weight: bold\">[</span><span style=\"color: #008000; text-decoration-color: #008000\">'nsteps'</span><span style=\"font-weight: bold\">]</span>=<span style=\"color: #008080; text-decoration-color: #008080; font-weight: bold\">3</span> param<span style=\"font-weight: bold\">[</span><span style=\"color: #008000; text-decoration-color: #008000\">'aexp'</span><span style=\"font-weight: bold\">]</span>=<span style=\"color: #008080; text-decoration-color: #008080; font-weight: bold\">0.02609803910326114</span> z = <span style=\"color: #008080; text-decoration-color: #008080; font-weight: bold\">37.317055011042676</span>                                         \n",
       "</pre>\n"
      ],
      "text/plain": [
       "param\u001b[1m[\u001b[0m\u001b[32m'nsteps'\u001b[0m\u001b[1m]\u001b[0m=\u001b[1;36m3\u001b[0m param\u001b[1m[\u001b[0m\u001b[32m'aexp'\u001b[0m\u001b[1m]\u001b[0m=\u001b[1;36m0.02609803910326114\u001b[0m z = \u001b[1;36m37.317055011042676\u001b[0m                                         \n"
      ]
     },
     "metadata": {},
     "output_type": "display_data"
    },
    {
     "name": "stdout",
     "output_type": "stream",
     "text": [
      "Step: 4 [0.00752136 0.00731774 0.00772471] [-6.797060e-05 -9.332001e-05 -7.197669e-06] [[-8.7320805e-05  5.9291720e-05 -1.1913329e-03 ...  2.8073937e-03\n",
      "   3.4759641e-03  3.0527413e-03]\n",
      " [ 3.0174106e-03  1.5837103e-03  9.7464025e-04 ...  6.5448731e-03\n",
      "   4.5890808e-03  2.3643523e-03]\n",
      " [ 8.7610930e-03  5.8105439e-03  4.1763037e-03 ...  1.1331096e-02\n",
      "   9.0579093e-03  7.1052164e-03]\n",
      " ...\n",
      " [ 5.2846223e-03  2.4601221e-03  3.0904561e-03 ... -1.2846589e-03\n",
      "   1.1594892e-03  4.3691397e-03]\n",
      " [ 3.0288100e-03 -7.4727833e-04 -4.8278272e-04 ...  7.3899329e-04\n",
      "   4.3170601e-03  5.1499605e-03]\n",
      " [ 3.6484003e-04 -8.5276365e-04 -1.6281456e-03 ...  2.5804937e-03\n",
      "   4.3693930e-03  4.4035017e-03]]\n"
     ]
    },
    {
     "data": {
      "text/html": [
       "<pre style=\"white-space:pre;overflow-x:auto;line-height:normal;font-family:Menlo,'DejaVu Sans Mono',consolas,'Courier New',monospace\">param<span style=\"font-weight: bold\">[</span><span style=\"color: #008000; text-decoration-color: #008000\">'nsteps'</span><span style=\"font-weight: bold\">]</span>=<span style=\"color: #008080; text-decoration-color: #008080; font-weight: bold\">4</span> param<span style=\"font-weight: bold\">[</span><span style=\"color: #008000; text-decoration-color: #008000\">'aexp'</span><span style=\"font-weight: bold\">]</span>=<span style=\"color: #008080; text-decoration-color: #008080; font-weight: bold\">0.02870784311611884</span> z = <span style=\"color: #008080; text-decoration-color: #008080; font-weight: bold\">33.8336862492648</span>                                           \n",
       "</pre>\n"
      ],
      "text/plain": [
       "param\u001b[1m[\u001b[0m\u001b[32m'nsteps'\u001b[0m\u001b[1m]\u001b[0m=\u001b[1;36m4\u001b[0m param\u001b[1m[\u001b[0m\u001b[32m'aexp'\u001b[0m\u001b[1m]\u001b[0m=\u001b[1;36m0.02870784311611884\u001b[0m z = \u001b[1;36m33.8336862492648\u001b[0m                                           \n"
      ]
     },
     "metadata": {},
     "output_type": "display_data"
    },
    {
     "name": "stdout",
     "output_type": "stream",
     "text": [
      "Step: 5 [0.0074802  0.0072623  0.00772096] [-8.35604733e-05 -1.10247915e-04 -6.31930106e-06] [[-1.3604760e-05  1.3083220e-04 -1.3721734e-03 ...  3.4939796e-03\n",
      "   4.2556524e-03  3.7061274e-03]\n",
      " [ 3.7243068e-03  2.0164549e-03  1.2401789e-03 ...  7.9742074e-03\n",
      "   5.6549907e-03  2.9706359e-03]\n",
      " [ 1.0556042e-02  7.0302337e-03  5.0327480e-03 ...  1.3729498e-02\n",
      "   1.1057258e-02  8.6638331e-03]\n",
      " ...\n",
      " [ 6.3530505e-03  3.0480027e-03  3.8317442e-03 ... -1.4792681e-03\n",
      "   1.4325678e-03  5.2417815e-03]\n",
      " [ 3.6300719e-03 -8.3354115e-04 -5.1593781e-04 ...  9.8532438e-04\n",
      "   5.2018166e-03  6.1974376e-03]\n",
      " [ 4.6621263e-04 -9.7888708e-04 -1.9115508e-03 ...  3.1742603e-03\n",
      "   5.2932799e-03  5.3118616e-03]]\n"
     ]
    },
    {
     "data": {
      "text/html": [
       "<pre style=\"white-space:pre;overflow-x:auto;line-height:normal;font-family:Menlo,'DejaVu Sans Mono',consolas,'Courier New',monospace\">param<span style=\"font-weight: bold\">[</span><span style=\"color: #008000; text-decoration-color: #008000\">'nsteps'</span><span style=\"font-weight: bold\">]</span>=<span style=\"color: #008080; text-decoration-color: #008080; font-weight: bold\">5</span> param<span style=\"font-weight: bold\">[</span><span style=\"color: #008000; text-decoration-color: #008000\">'aexp'</span><span style=\"font-weight: bold\">]</span>=<span style=\"color: #008080; text-decoration-color: #008080; font-weight: bold\">0.0315786275623169</span> z = <span style=\"color: #008080; text-decoration-color: #008080; font-weight: bold\">30.666987364368875</span>                                          \n",
       "</pre>\n"
      ],
      "text/plain": [
       "param\u001b[1m[\u001b[0m\u001b[32m'nsteps'\u001b[0m\u001b[1m]\u001b[0m=\u001b[1;36m5\u001b[0m param\u001b[1m[\u001b[0m\u001b[32m'aexp'\u001b[0m\u001b[1m]\u001b[0m=\u001b[1;36m0.0315786275623169\u001b[0m z = \u001b[1;36m30.666987364368875\u001b[0m                                          \n"
      ]
     },
     "metadata": {},
     "output_type": "display_data"
    },
    {
     "name": "stdout",
     "output_type": "stream",
     "text": [
      "Step: 6 [0.00743213 0.0071999  0.0077179 ] [-1.02029124e-04 -1.30072614e-04 -5.20994081e-06] [[ 0.00010762  0.00023976 -0.00156617 ...  0.00435695  0.00521639\n",
      "   0.00450242]\n",
      " [ 0.00460449  0.00257486  0.00158048 ...  0.00972161  0.00697869\n",
      "   0.00374201]\n",
      " [ 0.01271391  0.00850752  0.00606    ...  0.01663178  0.0135068\n",
      "   0.01057339]\n",
      " ...\n",
      " [ 0.0076341   0.00378352  0.00476122 ... -0.00168687  0.00177428\n",
      "   0.00628567]\n",
      " [ 0.00434932 -0.00091451 -0.00053269 ...  0.00131464  0.00626859\n",
      "   0.00745657]\n",
      " [ 0.00060061 -0.0011135  -0.00223491 ...  0.0039115   0.00641564\n",
      "   0.00640652]]\n"
     ]
    },
    {
     "data": {
      "text/html": [
       "<pre style=\"white-space:pre;overflow-x:auto;line-height:normal;font-family:Menlo,'DejaVu Sans Mono',consolas,'Courier New',monospace\">param<span style=\"font-weight: bold\">[</span><span style=\"color: #008000; text-decoration-color: #008000\">'nsteps'</span><span style=\"font-weight: bold\">]</span>=<span style=\"color: #008080; text-decoration-color: #008080; font-weight: bold\">6</span> param<span style=\"font-weight: bold\">[</span><span style=\"color: #008000; text-decoration-color: #008000\">'aexp'</span><span style=\"font-weight: bold\">]</span>=<span style=\"color: #008080; text-decoration-color: #008080; font-weight: bold\">0.0347364904864863</span> z = <span style=\"color: #008080; text-decoration-color: #008080; font-weight: bold\">27.788170192064587</span>                                          \n",
       "</pre>\n"
      ],
      "text/plain": [
       "param\u001b[1m[\u001b[0m\u001b[32m'nsteps'\u001b[0m\u001b[1m]\u001b[0m=\u001b[1;36m6\u001b[0m param\u001b[1m[\u001b[0m\u001b[32m'aexp'\u001b[0m\u001b[1m]\u001b[0m=\u001b[1;36m0.0347364904864863\u001b[0m z = \u001b[1;36m27.788170192064587\u001b[0m                                          \n"
      ]
     },
     "metadata": {},
     "output_type": "display_data"
    },
    {
     "name": "stdout",
     "output_type": "stream",
     "text": [
      "Step: 7 [0.0073763  0.00712973 0.0077156 ] [-1.2394947e-04 -1.5332081e-04 -3.8091232e-06] [[ 0.00029483  0.00040057 -0.00176901 ...  0.00544199  0.00640219\n",
      "   0.00547591]\n",
      " [ 0.00570175  0.00329331  0.00201672 ...  0.01186177  0.00862414\n",
      "   0.00472096]\n",
      " [ 0.01531142  0.01029977  0.00729281 ...  0.02014893  0.01651105\n",
      "   0.0129146 ]\n",
      " ...\n",
      " [ 0.00917229  0.00470346  0.00592393 ... -0.0019041   0.00220311\n",
      "   0.00753832]\n",
      " [ 0.00521055 -0.00098559 -0.00052774 ...  0.00175282  0.00755778\n",
      "   0.00897267]\n",
      " [ 0.00077781 -0.00125408 -0.00260282 ...  0.00482783  0.00778115\n",
      "   0.00772771]]\n"
     ]
    },
    {
     "data": {
      "text/html": [
       "<pre style=\"white-space:pre;overflow-x:auto;line-height:normal;font-family:Menlo,'DejaVu Sans Mono',consolas,'Courier New',monospace\">param<span style=\"font-weight: bold\">[</span><span style=\"color: #008000; text-decoration-color: #008000\">'nsteps'</span><span style=\"font-weight: bold\">]</span>=<span style=\"color: #008080; text-decoration-color: #008080; font-weight: bold\">7</span> param<span style=\"font-weight: bold\">[</span><span style=\"color: #008000; text-decoration-color: #008000\">'aexp'</span><span style=\"font-weight: bold\">]</span>=<span style=\"color: #008080; text-decoration-color: #008080; font-weight: bold\">0.03821013960913581</span> z = <span style=\"color: #008080; text-decoration-color: #008080; font-weight: bold\">25.171063760282784</span>                                         \n",
       "</pre>\n"
      ],
      "text/plain": [
       "param\u001b[1m[\u001b[0m\u001b[32m'nsteps'\u001b[0m\u001b[1m]\u001b[0m=\u001b[1;36m7\u001b[0m param\u001b[1m[\u001b[0m\u001b[32m'aexp'\u001b[0m\u001b[1m]\u001b[0m=\u001b[1;36m0.03821013960913581\u001b[0m z = \u001b[1;36m25.171063760282784\u001b[0m                                         \n"
      ]
     },
     "metadata": {},
     "output_type": "display_data"
    },
    {
     "name": "stdout",
     "output_type": "stream",
     "text": [
      "Step: 8 [0.00731176 0.00705091 0.00771415] [-1.5000311e-04 -1.8061299e-04 -2.0436016e-06] [[ 0.00057176  0.00063446 -0.00197446 ...  0.00680774  0.00786924\n",
      "   0.00666857]\n",
      " [ 0.00707063  0.00421643  0.00257453 ...  0.0144864   0.01067078\n",
      "   0.00596285]\n",
      " [ 0.01844332  0.01247719  0.00877377 ...  0.02441654  0.02019912\n",
      "   0.01578563]\n",
      " ...\n",
      " [ 0.01102421  0.00585249  0.00737473 ... -0.00212395  0.00274181\n",
      "   0.00904554]\n",
      " [ 0.00624272 -0.001041   -0.00049359 ...  0.00233248  0.00911927\n",
      "   0.01080182]\n",
      " [ 0.00101095 -0.00139537 -0.00302026 ...  0.00596958  0.00944567\n",
      "   0.0093255 ]]\n"
     ]
    },
    {
     "data": {
      "text/html": [
       "<pre style=\"white-space:pre;overflow-x:auto;line-height:normal;font-family:Menlo,'DejaVu Sans Mono',consolas,'Courier New',monospace\">param<span style=\"font-weight: bold\">[</span><span style=\"color: #008000; text-decoration-color: #008000\">'nsteps'</span><span style=\"font-weight: bold\">]</span>=<span style=\"color: #008080; text-decoration-color: #008080; font-weight: bold\">8</span> param<span style=\"font-weight: bold\">[</span><span style=\"color: #008000; text-decoration-color: #008000\">'aexp'</span><span style=\"font-weight: bold\">]</span>=<span style=\"color: #008080; text-decoration-color: #008080; font-weight: bold\">0.042031153548907685</span> z = <span style=\"color: #008080; text-decoration-color: #008080; font-weight: bold\">22.791876157678956</span>                                        \n",
       "</pre>\n"
      ],
      "text/plain": [
       "param\u001b[1m[\u001b[0m\u001b[32m'nsteps'\u001b[0m\u001b[1m]\u001b[0m=\u001b[1;36m8\u001b[0m param\u001b[1m[\u001b[0m\u001b[32m'aexp'\u001b[0m\u001b[1m]\u001b[0m=\u001b[1;36m0.042031153548907685\u001b[0m z = \u001b[1;36m22.791876157678956\u001b[0m                                        \n"
      ]
     },
     "metadata": {},
     "output_type": "display_data"
    },
    {
     "name": "stdout",
     "output_type": "stream",
     "text": [
      "Step: 9 [0.0072374  0.00696239 0.00771366] [-1.8100157e-04 -2.1268084e-04  1.7532120e-07] [[ 0.00097072  0.00096822 -0.00217074 ...  0.0085277   0.00968665\n",
      "   0.00813472]\n",
      " [ 0.00878024  0.00540096  0.0032872  ...  0.01771021  0.0132193\n",
      "   0.00753659]\n",
      " [ 0.02222443  0.01512724  0.01055342 ...  0.02960056  0.0247314\n",
      "   0.01930916]\n",
      " ...\n",
      " [ 0.01325744  0.00728714  0.00918078 ... -0.00233716  0.00342125\n",
      "   0.01086456]\n",
      " [ 0.00748056 -0.00107306 -0.00042194 ...  0.00309652  0.01101589\n",
      "   0.01301366]\n",
      " [ 0.00131726 -0.00152862 -0.00349045 ...  0.00739396  0.01147825\n",
      "   0.01126117]]\n"
     ]
    },
    {
     "data": {
      "text/html": [
       "<pre style=\"white-space:pre;overflow-x:auto;line-height:normal;font-family:Menlo,'DejaVu Sans Mono',consolas,'Courier New',monospace\">param<span style=\"font-weight: bold\">[</span><span style=\"color: #008000; text-decoration-color: #008000\">'nsteps'</span><span style=\"font-weight: bold\">]</span>=<span style=\"color: #008080; text-decoration-color: #008080; font-weight: bold\">9</span> param<span style=\"font-weight: bold\">[</span><span style=\"color: #008000; text-decoration-color: #008000\">'aexp'</span><span style=\"font-weight: bold\">]</span>=<span style=\"color: #008080; text-decoration-color: #008080; font-weight: bold\">0.046234268889304174</span> z = <span style=\"color: #008080; text-decoration-color: #008080; font-weight: bold\">20.628978331943294</span>                                        \n",
       "</pre>\n"
      ],
      "text/plain": [
       "param\u001b[1m[\u001b[0m\u001b[32m'nsteps'\u001b[0m\u001b[1m]\u001b[0m=\u001b[1;36m9\u001b[0m param\u001b[1m[\u001b[0m\u001b[32m'aexp'\u001b[0m\u001b[1m]\u001b[0m=\u001b[1;36m0.046234268889304174\u001b[0m z = \u001b[1;36m20.628978331943294\u001b[0m                                        \n"
      ]
     },
     "metadata": {},
     "output_type": "display_data"
    },
    {
     "name": "stdout",
     "output_type": "stream",
     "text": [
      "Step: 10 [0.00721204 0.00693269 0.00771373] [-1.917009e-04 -2.236651e-04  9.656268e-07] [[ 0.00112611  0.00109816 -0.0022276  ...  0.00914782  0.01033515\n",
      "   0.00865567]\n",
      " [ 0.00939339  0.00583273  0.003546   ...  0.01885396  0.01413149\n",
      "   0.0081054 ]\n",
      " [ 0.02355039  0.0160616   0.01117545 ...  0.03142583  0.02633911\n",
      "   0.02055764]\n",
      " ...\n",
      " [ 0.01404095  0.00780118  0.00982624 ... -0.00239873  0.00366575\n",
      "   0.01150221]\n",
      " [ 0.00791341 -0.00107622 -0.0003897  ...  0.00337976  0.01168406\n",
      "   0.01379013]\n",
      " [ 0.00143057 -0.00156683 -0.00364769 ...  0.00790411  0.01219684\n",
      "   0.01194173]]\n"
     ]
    },
    {
     "data": {
      "text/html": [
       "<pre style=\"white-space:pre;overflow-x:auto;line-height:normal;font-family:Menlo,'DejaVu Sans Mono',consolas,'Courier New',monospace\">Snapshot written at <span style=\"color: #808000; text-decoration-color: #808000\">...</span><span style=\"color: #808000; text-decoration-color: #808000\">filename</span>=<span style=\"color: #008000; text-decoration-color: #008000\">'./smalln//output_00001/particles_eft_multigrid_ncoarse6.h5'</span>                       \n",
       "param<span style=\"font-weight: bold\">[</span><span style=\"color: #008000; text-decoration-color: #008000\">'aexp'</span><span style=\"font-weight: bold\">]</span>=<span style=\"color: #008080; text-decoration-color: #008080; font-weight: bold\">0.047619047619047616</span>                                                                                 \n",
       "</pre>\n"
      ],
      "text/plain": [
       "Snapshot written at \u001b[33m...\u001b[0m\u001b[33mfilename\u001b[0m=\u001b[32m'./smalln//output_00001/particles_eft_multigrid_ncoarse6.h5'\u001b[0m                       \n",
       "param\u001b[1m[\u001b[0m\u001b[32m'aexp'\u001b[0m\u001b[1m]\u001b[0m=\u001b[1;36m0.047619047619047616\u001b[0m                                                                                 \n"
      ]
     },
     "metadata": {},
     "output_type": "display_data"
    },
    {
     "data": {
      "text/html": [
       "<pre style=\"white-space:pre;overflow-x:auto;line-height:normal;font-family:Menlo,'DejaVu Sans Mono',consolas,'Courier New',monospace\">param<span style=\"font-weight: bold\">[</span><span style=\"color: #008000; text-decoration-color: #008000\">'nsteps'</span><span style=\"font-weight: bold\">]</span>=<span style=\"color: #008080; text-decoration-color: #008080; font-weight: bold\">10</span> param<span style=\"font-weight: bold\">[</span><span style=\"color: #008000; text-decoration-color: #008000\">'aexp'</span><span style=\"font-weight: bold\">]</span>=<span style=\"color: #008080; text-decoration-color: #008080; font-weight: bold\">0.047619047619047616</span> z = <span style=\"color: #008080; text-decoration-color: #008080; font-weight: bold\">20.0</span>                                                     \n",
       "</pre>\n"
      ],
      "text/plain": [
       "param\u001b[1m[\u001b[0m\u001b[32m'nsteps'\u001b[0m\u001b[1m]\u001b[0m=\u001b[1;36m10\u001b[0m param\u001b[1m[\u001b[0m\u001b[32m'aexp'\u001b[0m\u001b[1m]\u001b[0m=\u001b[1;36m0.047619047619047616\u001b[0m z = \u001b[1;36m20.0\u001b[0m                                                     \n"
      ]
     },
     "metadata": {},
     "output_type": "display_data"
    },
    {
     "name": "stdout",
     "output_type": "stream",
     "text": [
      "Step: 11 [0.00716771 0.00688126 0.00771409] [-2.1073049e-04 -2.4309813e-04  2.4009739e-06] [[ 0.00142115  0.00134557 -0.00231338 ...  0.01027471  0.01150709\n",
      "   0.00959319]\n",
      " [ 0.01050436  0.00662363  0.00401956 ...  0.02091306  0.01578182\n",
      "   0.00914192]\n",
      " [ 0.02592146  0.01773763  0.01228476 ...  0.03469646  0.02923435\n",
      "   0.02280325]\n",
      " ...\n",
      " [ 0.01544106  0.00873154  0.01099259 ... -0.00249481  0.00411123\n",
      "   0.01264387]\n",
      " [ 0.00868452 -0.00107408 -0.00032705 ...  0.00390279  0.01288211\n",
      "   0.01517969]\n",
      " [ 0.00164038 -0.00162494 -0.00392008 ...  0.00882882  0.01348794\n",
      "   0.01316011]]\n"
     ]
    },
    {
     "data": {
      "text/html": [
       "<pre style=\"white-space:pre;overflow-x:auto;line-height:normal;font-family:Menlo,'DejaVu Sans Mono',consolas,'Courier New',monospace\">Snapshot written at <span style=\"color: #808000; text-decoration-color: #808000\">...</span><span style=\"color: #808000; text-decoration-color: #808000\">filename</span>=<span style=\"color: #008000; text-decoration-color: #008000\">'./smalln//output_00002/particles_eft_multigrid_ncoarse6.h5'</span>                       \n",
       "param<span style=\"font-weight: bold\">[</span><span style=\"color: #008000; text-decoration-color: #008000\">'aexp'</span><span style=\"font-weight: bold\">]</span>=<span style=\"color: #008080; text-decoration-color: #008080; font-weight: bold\">0.05000000000000001</span>                                                                                  \n",
       "</pre>\n"
      ],
      "text/plain": [
       "Snapshot written at \u001b[33m...\u001b[0m\u001b[33mfilename\u001b[0m=\u001b[32m'./smalln//output_00002/particles_eft_multigrid_ncoarse6.h5'\u001b[0m                       \n",
       "param\u001b[1m[\u001b[0m\u001b[32m'aexp'\u001b[0m\u001b[1m]\u001b[0m=\u001b[1;36m0.05000000000000001\u001b[0m                                                                                  \n"
      ]
     },
     "metadata": {},
     "output_type": "display_data"
    },
    {
     "data": {
      "text/html": [
       "<pre style=\"white-space:pre;overflow-x:auto;line-height:normal;font-family:Menlo,'DejaVu Sans Mono',consolas,'Courier New',monospace\">param<span style=\"font-weight: bold\">[</span><span style=\"color: #008000; text-decoration-color: #008000\">'nsteps'</span><span style=\"font-weight: bold\">]</span>=<span style=\"color: #008080; text-decoration-color: #008080; font-weight: bold\">11</span> param<span style=\"font-weight: bold\">[</span><span style=\"color: #008000; text-decoration-color: #008000\">'aexp'</span><span style=\"font-weight: bold\">]</span>=<span style=\"color: #008080; text-decoration-color: #008080; font-weight: bold\">0.05000000000000001</span> z = <span style=\"color: #008080; text-decoration-color: #008080; font-weight: bold\">18.999999999999996</span>                                        \n",
       "</pre>\n"
      ],
      "text/plain": [
       "param\u001b[1m[\u001b[0m\u001b[32m'nsteps'\u001b[0m\u001b[1m]\u001b[0m=\u001b[1;36m11\u001b[0m param\u001b[1m[\u001b[0m\u001b[32m'aexp'\u001b[0m\u001b[1m]\u001b[0m=\u001b[1;36m0.05000000000000001\u001b[0m z = \u001b[1;36m18.999999999999996\u001b[0m                                        \n"
      ]
     },
     "metadata": {},
     "output_type": "display_data"
    },
    {
     "name": "stdout",
     "output_type": "stream",
     "text": [
      "Step: 12 [0.00711765 0.00682382 0.00771482] [-2.3267059e-04 -2.6535557e-04  4.0981681e-06] [[ 0.0017913   0.00165653 -0.00239152 ...  0.01161253  0.01288843\n",
      "   0.01069623]\n",
      " [ 0.01181823  0.00757056  0.00458533 ...  0.02332824  0.01773077\n",
      "   0.01037568]\n",
      " [ 0.02867806  0.01969451  0.01356989 ...  0.03850985  0.0326286\n",
      "   0.02543342]\n",
      " ...\n",
      " [ 0.01706958  0.00982952  0.012366   ... -0.00258327  0.00464094\n",
      "   0.01397252]\n",
      " [ 0.00957739 -0.00105953 -0.00024408 ...  0.00453717  0.01428062\n",
      "   0.0167979 ]\n",
      " [ 0.00189489 -0.00167561 -0.00422299 ...  0.00992286  0.01499856\n",
      "   0.01457882]]\n"
     ]
    },
    {
     "data": {
      "text/html": [
       "<pre style=\"white-space:pre;overflow-x:auto;line-height:normal;font-family:Menlo,'DejaVu Sans Mono',consolas,'Courier New',monospace\">Snapshot written at <span style=\"color: #808000; text-decoration-color: #808000\">...</span><span style=\"color: #808000; text-decoration-color: #808000\">filename</span>=<span style=\"color: #008000; text-decoration-color: #008000\">'./smalln//output_00003/particles_eft_multigrid_ncoarse6.h5'</span>                       \n",
       "param<span style=\"font-weight: bold\">[</span><span style=\"color: #008000; text-decoration-color: #008000\">'aexp'</span><span style=\"font-weight: bold\">]</span>=<span style=\"color: #008080; text-decoration-color: #008080; font-weight: bold\">0.05263157894736841</span>                                                                                  \n",
       "</pre>\n"
      ],
      "text/plain": [
       "Snapshot written at \u001b[33m...\u001b[0m\u001b[33mfilename\u001b[0m=\u001b[32m'./smalln//output_00003/particles_eft_multigrid_ncoarse6.h5'\u001b[0m                       \n",
       "param\u001b[1m[\u001b[0m\u001b[32m'aexp'\u001b[0m\u001b[1m]\u001b[0m=\u001b[1;36m0.05263157894736841\u001b[0m                                                                                  \n"
      ]
     },
     "metadata": {},
     "output_type": "display_data"
    },
    {
     "data": {
      "text/html": [
       "<pre style=\"white-space:pre;overflow-x:auto;line-height:normal;font-family:Menlo,'DejaVu Sans Mono',consolas,'Courier New',monospace\">param<span style=\"font-weight: bold\">[</span><span style=\"color: #008000; text-decoration-color: #008000\">'nsteps'</span><span style=\"font-weight: bold\">]</span>=<span style=\"color: #008080; text-decoration-color: #008080; font-weight: bold\">12</span> param<span style=\"font-weight: bold\">[</span><span style=\"color: #008000; text-decoration-color: #008000\">'aexp'</span><span style=\"font-weight: bold\">]</span>=<span style=\"color: #008080; text-decoration-color: #008080; font-weight: bold\">0.05263157894736841</span> z = <span style=\"color: #008080; text-decoration-color: #008080; font-weight: bold\">18.000000000000004</span>                                        \n",
       "</pre>\n"
      ],
      "text/plain": [
       "param\u001b[1m[\u001b[0m\u001b[32m'nsteps'\u001b[0m\u001b[1m]\u001b[0m=\u001b[1;36m12\u001b[0m param\u001b[1m[\u001b[0m\u001b[32m'aexp'\u001b[0m\u001b[1m]\u001b[0m=\u001b[1;36m0.05263157894736841\u001b[0m z = \u001b[1;36m18.000000000000004\u001b[0m                                        \n"
      ]
     },
     "metadata": {},
     "output_type": "display_data"
    },
    {
     "name": "stdout",
     "output_type": "stream",
     "text": [
      "Step: 13 [0.00706078 0.00675932 0.00771599] [-2.5815965e-04 -2.9103499e-04  6.1206865e-06] [[ 0.00225931  0.00205177 -0.00245363 ...  0.01321673  0.01453149\n",
      "   0.0120036 ]\n",
      " [ 0.01338691  0.00871593  0.00526828 ...  0.02618617  0.02005339\n",
      "   0.01185608]\n",
      " [ 0.03190893  0.02199888  0.01506954 ...  0.04299265  0.0366447\n",
      "   0.02854103]\n",
      " ...\n",
      " [ 0.01897913  0.01113778  0.01399624 ... -0.00265867  0.0052762\n",
      "   0.01553392]\n",
      " [ 0.01062036 -0.00102895 -0.00013798 ...  0.00531358  0.01592863\n",
      "   0.01869816]\n",
      " [ 0.00220591 -0.00171494 -0.00456113 ...  0.01122826  0.01678056\n",
      "   0.01624697]]\n"
     ]
    },
    {
     "data": {
      "text/html": [
       "<pre style=\"white-space:pre;overflow-x:auto;line-height:normal;font-family:Menlo,'DejaVu Sans Mono',consolas,'Courier New',monospace\">Snapshot written at <span style=\"color: #808000; text-decoration-color: #808000\">...</span><span style=\"color: #808000; text-decoration-color: #808000\">filename</span>=<span style=\"color: #008000; text-decoration-color: #008000\">'./smalln//output_00004/particles_eft_multigrid_ncoarse6.h5'</span>                       \n",
       "param<span style=\"font-weight: bold\">[</span><span style=\"color: #008000; text-decoration-color: #008000\">'aexp'</span><span style=\"font-weight: bold\">]</span>=<span style=\"color: #008080; text-decoration-color: #008080; font-weight: bold\">0.05555555555555554</span>                                                                                  \n",
       "</pre>\n"
      ],
      "text/plain": [
       "Snapshot written at \u001b[33m...\u001b[0m\u001b[33mfilename\u001b[0m=\u001b[32m'./smalln//output_00004/particles_eft_multigrid_ncoarse6.h5'\u001b[0m                       \n",
       "param\u001b[1m[\u001b[0m\u001b[32m'aexp'\u001b[0m\u001b[1m]\u001b[0m=\u001b[1;36m0.05555555555555554\u001b[0m                                                                                  \n"
      ]
     },
     "metadata": {},
     "output_type": "display_data"
    },
    {
     "data": {
      "text/html": [
       "<pre style=\"white-space:pre;overflow-x:auto;line-height:normal;font-family:Menlo,'DejaVu Sans Mono',consolas,'Courier New',monospace\">param<span style=\"font-weight: bold\">[</span><span style=\"color: #008000; text-decoration-color: #008000\">'nsteps'</span><span style=\"font-weight: bold\">]</span>=<span style=\"color: #008080; text-decoration-color: #008080; font-weight: bold\">13</span> param<span style=\"font-weight: bold\">[</span><span style=\"color: #008000; text-decoration-color: #008000\">'aexp'</span><span style=\"font-weight: bold\">]</span>=<span style=\"color: #008080; text-decoration-color: #008080; font-weight: bold\">0.05555555555555554</span> z = <span style=\"color: #008080; text-decoration-color: #008080; font-weight: bold\">17.000000000000007</span>                                        \n",
       "</pre>\n"
      ],
      "text/plain": [
       "param\u001b[1m[\u001b[0m\u001b[32m'nsteps'\u001b[0m\u001b[1m]\u001b[0m=\u001b[1;36m13\u001b[0m param\u001b[1m[\u001b[0m\u001b[32m'aexp'\u001b[0m\u001b[1m]\u001b[0m=\u001b[1;36m0.05555555555555554\u001b[0m z = \u001b[1;36m17.000000000000007\u001b[0m                                        \n"
      ]
     },
     "metadata": {},
     "output_type": "display_data"
    },
    {
     "name": "stdout",
     "output_type": "stream",
     "text": [
      "Step: 14 [0.00699573 0.00668639 0.00771772] [-2.8802306e-04 -3.2090425e-04  8.5518004e-06] [[ 2.8565526e-03  2.5583506e-03 -2.4901032e-03 ...  1.5158594e-02\n",
      "   1.6505778e-02  1.3570666e-02]\n",
      " [ 1.5279889e-02  1.0115683e-02  6.0998797e-03 ...  2.9601812e-02\n",
      "   2.2848547e-02  1.3652325e-02]\n",
      " [ 3.5732746e-02  2.4740219e-02  1.6835749e-02 ...  4.8312962e-02\n",
      "   4.1443825e-02  3.2247603e-02]\n",
      " ...\n",
      " [ 2.1239579e-02  1.2709260e-02  1.5950084e-02 ... -2.7104020e-03\n",
      "   6.0471892e-03  1.7386436e-02]\n",
      " [ 1.1848509e-02 -9.7602606e-04 -1.3113022e-06 ...  6.2733889e-03\n",
      "   1.7889380e-02  2.0951450e-02]\n",
      " [ 2.5918484e-03 -1.7350316e-03 -4.9408078e-03 ...  1.2804031e-02\n",
      "   1.8906236e-02  1.8225312e-02]]\n"
     ]
    },
    {
     "data": {
      "text/html": [
       "<pre style=\"white-space:pre;overflow-x:auto;line-height:normal;font-family:Menlo,'DejaVu Sans Mono',consolas,'Courier New',monospace\">Snapshot written at <span style=\"color: #808000; text-decoration-color: #808000\">...</span><span style=\"color: #808000; text-decoration-color: #808000\">filename</span>=<span style=\"color: #008000; text-decoration-color: #008000\">'./smalln//output_00005/particles_eft_multigrid_ncoarse6.h5'</span>                       \n",
       "param<span style=\"font-weight: bold\">[</span><span style=\"color: #008000; text-decoration-color: #008000\">'aexp'</span><span style=\"font-weight: bold\">]</span>=<span style=\"color: #008080; text-decoration-color: #008080; font-weight: bold\">0.0588235294117647</span>                                                                                   \n",
       "</pre>\n"
      ],
      "text/plain": [
       "Snapshot written at \u001b[33m...\u001b[0m\u001b[33mfilename\u001b[0m=\u001b[32m'./smalln//output_00005/particles_eft_multigrid_ncoarse6.h5'\u001b[0m                       \n",
       "param\u001b[1m[\u001b[0m\u001b[32m'aexp'\u001b[0m\u001b[1m]\u001b[0m=\u001b[1;36m0.0588235294117647\u001b[0m                                                                                   \n"
      ]
     },
     "metadata": {},
     "output_type": "display_data"
    },
    {
     "data": {
      "text/html": [
       "<pre style=\"white-space:pre;overflow-x:auto;line-height:normal;font-family:Menlo,'DejaVu Sans Mono',consolas,'Courier New',monospace\">param<span style=\"font-weight: bold\">[</span><span style=\"color: #008000; text-decoration-color: #008000\">'nsteps'</span><span style=\"font-weight: bold\">]</span>=<span style=\"color: #008080; text-decoration-color: #008080; font-weight: bold\">14</span> param<span style=\"font-weight: bold\">[</span><span style=\"color: #008000; text-decoration-color: #008000\">'aexp'</span><span style=\"font-weight: bold\">]</span>=<span style=\"color: #008080; text-decoration-color: #008080; font-weight: bold\">0.0588235294117647</span> z = <span style=\"color: #008080; text-decoration-color: #008080; font-weight: bold\">16.000000000000004</span>                                         \n",
       "</pre>\n"
      ],
      "text/plain": [
       "param\u001b[1m[\u001b[0m\u001b[32m'nsteps'\u001b[0m\u001b[1m]\u001b[0m=\u001b[1;36m14\u001b[0m param\u001b[1m[\u001b[0m\u001b[32m'aexp'\u001b[0m\u001b[1m]\u001b[0m=\u001b[1;36m0.0588235294117647\u001b[0m z = \u001b[1;36m16.000000000000004\u001b[0m                                         \n"
      ]
     },
     "metadata": {},
     "output_type": "display_data"
    },
    {
     "name": "stdout",
     "output_type": "stream",
     "text": [
      "Step: 15 [0.00692078 0.00660336 0.00772016] [-3.2334341e-04 -3.5596421e-04  1.1501987e-05] [[ 0.00362694  0.00321794 -0.00248456 ...  0.01753742  0.01890469\n",
      "   0.01546979]\n",
      " [ 0.01759028  0.0118469   0.00712508 ...  0.03372884  0.02625245\n",
      "   0.01585656]\n",
      " [ 0.04030639  0.02803546  0.01893574 ...  0.05469352  0.04723877\n",
      "   0.03671515]\n",
      " ...\n",
      " [ 0.02394652  0.01461995  0.01831317 ... -0.00272298  0.00699484\n",
      "   0.01960945]\n",
      " [ 0.01331282 -0.00089443  0.00017345 ...  0.00747609  0.02024996\n",
      "   0.02365482]\n",
      " [ 0.0030756  -0.00172472 -0.0053674  ...  0.01472586  0.02146947\n",
      "   0.02059865]]\n"
     ]
    },
    {
     "data": {
      "text/html": [
       "<pre style=\"white-space:pre;overflow-x:auto;line-height:normal;font-family:Menlo,'DejaVu Sans Mono',consolas,'Courier New',monospace\">Snapshot written at <span style=\"color: #808000; text-decoration-color: #808000\">...</span><span style=\"color: #808000; text-decoration-color: #808000\">filename</span>=<span style=\"color: #008000; text-decoration-color: #008000\">'./smalln//output_00006/particles_eft_multigrid_ncoarse6.h5'</span> param<span style=\"font-weight: bold\">[</span><span style=\"color: #008000; text-decoration-color: #008000\">'aexp'</span><span style=\"font-weight: bold\">]</span>=<span style=\"color: #008080; text-decoration-color: #008080; font-weight: bold\">0.0625</span>  \n",
       "</pre>\n"
      ],
      "text/plain": [
       "Snapshot written at \u001b[33m...\u001b[0m\u001b[33mfilename\u001b[0m=\u001b[32m'./smalln//output_00006/particles_eft_multigrid_ncoarse6.h5'\u001b[0m param\u001b[1m[\u001b[0m\u001b[32m'aexp'\u001b[0m\u001b[1m]\u001b[0m=\u001b[1;36m0.0625\u001b[0m  \n"
      ]
     },
     "metadata": {},
     "output_type": "display_data"
    },
    {
     "data": {
      "text/html": [
       "<pre style=\"white-space:pre;overflow-x:auto;line-height:normal;font-family:Menlo,'DejaVu Sans Mono',consolas,'Courier New',monospace\">param<span style=\"font-weight: bold\">[</span><span style=\"color: #008000; text-decoration-color: #008000\">'nsteps'</span><span style=\"font-weight: bold\">]</span>=<span style=\"color: #008080; text-decoration-color: #008080; font-weight: bold\">15</span> param<span style=\"font-weight: bold\">[</span><span style=\"color: #008000; text-decoration-color: #008000\">'aexp'</span><span style=\"font-weight: bold\">]</span>=<span style=\"color: #008080; text-decoration-color: #008080; font-weight: bold\">0.0625</span> z = <span style=\"color: #008080; text-decoration-color: #008080; font-weight: bold\">15.0</span>                                                                   \n",
       "</pre>\n"
      ],
      "text/plain": [
       "param\u001b[1m[\u001b[0m\u001b[32m'nsteps'\u001b[0m\u001b[1m]\u001b[0m=\u001b[1;36m15\u001b[0m param\u001b[1m[\u001b[0m\u001b[32m'aexp'\u001b[0m\u001b[1m]\u001b[0m=\u001b[1;36m0.0625\u001b[0m z = \u001b[1;36m15.0\u001b[0m                                                                   \n"
      ]
     },
     "metadata": {},
     "output_type": "display_data"
    },
    {
     "name": "stdout",
     "output_type": "stream",
     "text": [
      "Step: 16 [0.00683368 0.00650803 0.0077235 ] [-3.6556314e-04 -3.9754025e-04  1.5121162e-05] [[ 0.00463474  0.00408566 -0.00241113 ...  0.02048934  0.02185941\n",
      "   0.0178026 ]\n",
      " [ 0.0204469   0.01401865  0.00840557 ...  0.0387789   0.03044999\n",
      "   0.01859426]\n",
      " [ 0.04584336  0.03204834  0.02146006 ...  0.06243718  0.05432498\n",
      "   0.04216754]\n",
      " ...\n",
      " [ 0.02722633  0.01696849  0.02120578 ... -0.00267112  0.00817573\n",
      "   0.02231228]\n",
      " [ 0.01507461 -0.00077116  0.00039768 ...  0.00900185  0.02312982\n",
      "   0.0269382 ]\n",
      " [ 0.00368917 -0.001665   -0.00584912 ...  0.01710248  0.02459896\n",
      "   0.02347946]]\n"
     ]
    },
    {
     "data": {
      "text/html": [
       "<pre style=\"white-space:pre;overflow-x:auto;line-height:normal;font-family:Menlo,'DejaVu Sans Mono',consolas,'Courier New',monospace\">Snapshot written at <span style=\"color: #808000; text-decoration-color: #808000\">...</span><span style=\"color: #808000; text-decoration-color: #808000\">filename</span>=<span style=\"color: #008000; text-decoration-color: #008000\">'./smalln//output_00007/particles_eft_multigrid_ncoarse6.h5'</span>                       \n",
       "param<span style=\"font-weight: bold\">[</span><span style=\"color: #008000; text-decoration-color: #008000\">'aexp'</span><span style=\"font-weight: bold\">]</span>=<span style=\"color: #008080; text-decoration-color: #008080; font-weight: bold\">0.06666666666666667</span>                                                                                  \n",
       "</pre>\n"
      ],
      "text/plain": [
       "Snapshot written at \u001b[33m...\u001b[0m\u001b[33mfilename\u001b[0m=\u001b[32m'./smalln//output_00007/particles_eft_multigrid_ncoarse6.h5'\u001b[0m                       \n",
       "param\u001b[1m[\u001b[0m\u001b[32m'aexp'\u001b[0m\u001b[1m]\u001b[0m=\u001b[1;36m0.06666666666666667\u001b[0m                                                                                  \n"
      ]
     },
     "metadata": {},
     "output_type": "display_data"
    },
    {
     "data": {
      "text/html": [
       "<pre style=\"white-space:pre;overflow-x:auto;line-height:normal;font-family:Menlo,'DejaVu Sans Mono',consolas,'Courier New',monospace\">param<span style=\"font-weight: bold\">[</span><span style=\"color: #008000; text-decoration-color: #008000\">'nsteps'</span><span style=\"font-weight: bold\">]</span>=<span style=\"color: #008080; text-decoration-color: #008080; font-weight: bold\">16</span> param<span style=\"font-weight: bold\">[</span><span style=\"color: #008000; text-decoration-color: #008000\">'aexp'</span><span style=\"font-weight: bold\">]</span>=<span style=\"color: #008080; text-decoration-color: #008080; font-weight: bold\">0.06666666666666667</span> z = <span style=\"color: #008080; text-decoration-color: #008080; font-weight: bold\">14.0</span>                                                      \n",
       "</pre>\n"
      ],
      "text/plain": [
       "param\u001b[1m[\u001b[0m\u001b[32m'nsteps'\u001b[0m\u001b[1m]\u001b[0m=\u001b[1;36m16\u001b[0m param\u001b[1m[\u001b[0m\u001b[32m'aexp'\u001b[0m\u001b[1m]\u001b[0m=\u001b[1;36m0.06666666666666667\u001b[0m z = \u001b[1;36m14.0\u001b[0m                                                      \n"
      ]
     },
     "metadata": {},
     "output_type": "display_data"
    },
    {
     "name": "stdout",
     "output_type": "stream",
     "text": [
      "Step: 17 [0.0067315  0.00639756 0.007728  ] [-4.1663984e-04 -4.4741997e-04  1.9615665e-05] [[ 0.00597227  0.00525105 -0.002231   ...  0.02420437  0.02555037\n",
      "   0.02071166]\n",
      " [ 0.02403307  0.01678443  0.01002765 ...  0.04504633  0.03570259\n",
      "   0.0220474 ]\n",
      " [ 0.05263889  0.03700471  0.02453136 ...  0.07196021  0.0631144\n",
      "   0.04891109]\n",
      " ...\n",
      " [ 0.03125834  0.0198977   0.02479422 ... -0.00251496  0.00966871\n",
      "   0.02564871]\n",
      " [ 0.01722491 -0.0005945   0.00068319 ...  0.01096869  0.02669501\n",
      "   0.03098559]\n",
      " [ 0.00448549 -0.00152838 -0.00639415 ...  0.0200851   0.02847397\n",
      "   0.02702582]]\n"
     ]
    },
    {
     "data": {
      "text/html": [
       "<pre style=\"white-space:pre;overflow-x:auto;line-height:normal;font-family:Menlo,'DejaVu Sans Mono',consolas,'Courier New',monospace\">Snapshot written at <span style=\"color: #808000; text-decoration-color: #808000\">...</span><span style=\"color: #808000; text-decoration-color: #808000\">filename</span>=<span style=\"color: #008000; text-decoration-color: #008000\">'./smalln//output_00008/particles_eft_multigrid_ncoarse6.h5'</span>                       \n",
       "param<span style=\"font-weight: bold\">[</span><span style=\"color: #008000; text-decoration-color: #008000\">'aexp'</span><span style=\"font-weight: bold\">]</span>=<span style=\"color: #008080; text-decoration-color: #008080; font-weight: bold\">0.07142857142857141</span>                                                                                  \n",
       "</pre>\n"
      ],
      "text/plain": [
       "Snapshot written at \u001b[33m...\u001b[0m\u001b[33mfilename\u001b[0m=\u001b[32m'./smalln//output_00008/particles_eft_multigrid_ncoarse6.h5'\u001b[0m                       \n",
       "param\u001b[1m[\u001b[0m\u001b[32m'aexp'\u001b[0m\u001b[1m]\u001b[0m=\u001b[1;36m0.07142857142857141\u001b[0m                                                                                  \n"
      ]
     },
     "metadata": {},
     "output_type": "display_data"
    },
    {
     "data": {
      "text/html": [
       "<pre style=\"white-space:pre;overflow-x:auto;line-height:normal;font-family:Menlo,'DejaVu Sans Mono',consolas,'Courier New',monospace\">param<span style=\"font-weight: bold\">[</span><span style=\"color: #008000; text-decoration-color: #008000\">'nsteps'</span><span style=\"font-weight: bold\">]</span>=<span style=\"color: #008080; text-decoration-color: #008080; font-weight: bold\">17</span> param<span style=\"font-weight: bold\">[</span><span style=\"color: #008000; text-decoration-color: #008000\">'aexp'</span><span style=\"font-weight: bold\">]</span>=<span style=\"color: #008080; text-decoration-color: #008080; font-weight: bold\">0.07142857142857141</span> z = <span style=\"color: #008080; text-decoration-color: #008080; font-weight: bold\">13.000000000000004</span>                                        \n",
       "</pre>\n"
      ],
      "text/plain": [
       "param\u001b[1m[\u001b[0m\u001b[32m'nsteps'\u001b[0m\u001b[1m]\u001b[0m=\u001b[1;36m17\u001b[0m param\u001b[1m[\u001b[0m\u001b[32m'aexp'\u001b[0m\u001b[1m]\u001b[0m=\u001b[1;36m0.07142857142857141\u001b[0m z = \u001b[1;36m13.000000000000004\u001b[0m                                        \n"
      ]
     },
     "metadata": {},
     "output_type": "display_data"
    },
    {
     "name": "stdout",
     "output_type": "stream",
     "text": [
      "Step: 18 [0.00661029 0.0062682  0.00773404] [-4.7928721e-04 -5.0806557e-04  2.5274270e-05] [[ 0.00777817  0.00684345 -0.00187922 ...  0.02896547  0.03023851\n",
      "   0.02440274]\n",
      " [ 0.02861404  0.02037084  0.01211894 ...  0.05295396  0.0423857\n",
      "   0.02647519]\n",
      " [ 0.06111085  0.04322696  0.02831852 ...  0.08386624  0.07419491\n",
      "   0.05738509]\n",
      " ...\n",
      " [ 0.0362916   0.02360833  0.02931309 ... -0.00218904  0.01159227\n",
      "   0.02983761]\n",
      " [ 0.01989043 -0.00034297  0.00104749 ...  0.01355016  0.03118742\n",
      "   0.03606009]\n",
      " [ 0.00553203 -0.00126898 -0.00700927 ...  0.02389371  0.03335345\n",
      "   0.03146529]]\n"
     ]
    },
    {
     "data": {
      "text/html": [
       "<pre style=\"white-space:pre;overflow-x:auto;line-height:normal;font-family:Menlo,'DejaVu Sans Mono',consolas,'Courier New',monospace\">Snapshot written at <span style=\"color: #808000; text-decoration-color: #808000\">...</span><span style=\"color: #808000; text-decoration-color: #808000\">filename</span>=<span style=\"color: #008000; text-decoration-color: #008000\">'./smalln//output_00009/particles_eft_multigrid_ncoarse6.h5'</span>                       \n",
       "param<span style=\"font-weight: bold\">[</span><span style=\"color: #008000; text-decoration-color: #008000\">'aexp'</span><span style=\"font-weight: bold\">]</span>=<span style=\"color: #008080; text-decoration-color: #008080; font-weight: bold\">0.07692307692307693</span>                                                                                  \n",
       "</pre>\n"
      ],
      "text/plain": [
       "Snapshot written at \u001b[33m...\u001b[0m\u001b[33mfilename\u001b[0m=\u001b[32m'./smalln//output_00009/particles_eft_multigrid_ncoarse6.h5'\u001b[0m                       \n",
       "param\u001b[1m[\u001b[0m\u001b[32m'aexp'\u001b[0m\u001b[1m]\u001b[0m=\u001b[1;36m0.07692307692307693\u001b[0m                                                                                  \n"
      ]
     },
     "metadata": {},
     "output_type": "display_data"
    },
    {
     "data": {
      "text/html": [
       "<pre style=\"white-space:pre;overflow-x:auto;line-height:normal;font-family:Menlo,'DejaVu Sans Mono',consolas,'Courier New',monospace\">param<span style=\"font-weight: bold\">[</span><span style=\"color: #008000; text-decoration-color: #008000\">'nsteps'</span><span style=\"font-weight: bold\">]</span>=<span style=\"color: #008080; text-decoration-color: #008080; font-weight: bold\">18</span> param<span style=\"font-weight: bold\">[</span><span style=\"color: #008000; text-decoration-color: #008000\">'aexp'</span><span style=\"font-weight: bold\">]</span>=<span style=\"color: #008080; text-decoration-color: #008080; font-weight: bold\">0.07692307692307693</span> z = <span style=\"color: #008080; text-decoration-color: #008080; font-weight: bold\">12.0</span>                                                      \n",
       "</pre>\n"
      ],
      "text/plain": [
       "param\u001b[1m[\u001b[0m\u001b[32m'nsteps'\u001b[0m\u001b[1m]\u001b[0m=\u001b[1;36m18\u001b[0m param\u001b[1m[\u001b[0m\u001b[32m'aexp'\u001b[0m\u001b[1m]\u001b[0m=\u001b[1;36m0.07692307692307693\u001b[0m z = \u001b[1;36m12.0\u001b[0m                                                      \n"
      ]
     },
     "metadata": {},
     "output_type": "display_data"
    },
    {
     "name": "stdout",
     "output_type": "stream",
     "text": [
      "Step: 19 [0.0064647  0.00611482 0.0077421 ] [-5.5736018e-04 -5.8295339e-04  3.2508233e-05] [[ 1.0268211e-02  9.0650320e-03 -1.2537241e-03 ...  3.5489917e-02\n",
      "   3.6391854e-02  2.9183030e-02]\n",
      " [ 3.4585357e-02  2.5118589e-02  1.4865875e-02 ...  6.3438177e-02\n",
      "   5.1205516e-02  3.2285094e-02]\n",
      " [ 7.1868777e-02  5.1186919e-02  3.3063054e-02 ...  9.9374175e-02\n",
      "   8.8665724e-02  6.8271637e-02]\n",
      " ...\n",
      " [ 4.2696238e-02  2.8391361e-02  3.5103321e-02 ... -1.5872717e-03\n",
      "   1.4122367e-02  3.5201550e-02]\n",
      " [ 2.3253202e-02  8.3446503e-06  1.5099049e-03 ...  1.7042041e-02\n",
      "   3.6975861e-02  4.2552114e-02]\n",
      " [ 6.9404840e-03 -8.1098080e-04 -7.7080727e-03 ...  2.9023886e-02\n",
      "   3.9669156e-02  3.7122250e-02]]\n"
     ]
    },
    {
     "data": {
      "text/html": [
       "<pre style=\"white-space:pre;overflow-x:auto;line-height:normal;font-family:Menlo,'DejaVu Sans Mono',consolas,'Courier New',monospace\">Snapshot written at <span style=\"color: #808000; text-decoration-color: #808000\">...</span><span style=\"color: #808000; text-decoration-color: #808000\">filename</span>=<span style=\"color: #008000; text-decoration-color: #008000\">'./smalln//output_00010/particles_eft_multigrid_ncoarse6.h5'</span>                       \n",
       "param<span style=\"font-weight: bold\">[</span><span style=\"color: #008000; text-decoration-color: #008000\">'aexp'</span><span style=\"font-weight: bold\">]</span>=<span style=\"color: #008080; text-decoration-color: #008080; font-weight: bold\">0.08333333333333333</span>                                                                                  \n",
       "</pre>\n"
      ],
      "text/plain": [
       "Snapshot written at \u001b[33m...\u001b[0m\u001b[33mfilename\u001b[0m=\u001b[32m'./smalln//output_00010/particles_eft_multigrid_ncoarse6.h5'\u001b[0m                       \n",
       "param\u001b[1m[\u001b[0m\u001b[32m'aexp'\u001b[0m\u001b[1m]\u001b[0m=\u001b[1;36m0.08333333333333333\u001b[0m                                                                                  \n"
      ]
     },
     "metadata": {},
     "output_type": "display_data"
    },
    {
     "data": {
      "text/html": [
       "<pre style=\"white-space:pre;overflow-x:auto;line-height:normal;font-family:Menlo,'DejaVu Sans Mono',consolas,'Courier New',monospace\">param<span style=\"font-weight: bold\">[</span><span style=\"color: #008000; text-decoration-color: #008000\">'nsteps'</span><span style=\"font-weight: bold\">]</span>=<span style=\"color: #008080; text-decoration-color: #008080; font-weight: bold\">19</span> param<span style=\"font-weight: bold\">[</span><span style=\"color: #008000; text-decoration-color: #008000\">'aexp'</span><span style=\"font-weight: bold\">]</span>=<span style=\"color: #008080; text-decoration-color: #008080; font-weight: bold\">0.08333333333333333</span> z = <span style=\"color: #008080; text-decoration-color: #008080; font-weight: bold\">11.0</span>                                                      \n",
       "</pre>\n"
      ],
      "text/plain": [
       "param\u001b[1m[\u001b[0m\u001b[32m'nsteps'\u001b[0m\u001b[1m]\u001b[0m=\u001b[1;36m19\u001b[0m param\u001b[1m[\u001b[0m\u001b[32m'aexp'\u001b[0m\u001b[1m]\u001b[0m=\u001b[1;36m0.08333333333333333\u001b[0m z = \u001b[1;36m11.0\u001b[0m                                                      \n"
      ]
     },
     "metadata": {},
     "output_type": "display_data"
    },
    {
     "name": "stdout",
     "output_type": "stream",
     "text": [
      "Step: 20 [0.00628717 0.00593033 0.00775292] [-6.5650523e-04 -6.7713397e-04  4.1916377e-05] [[ 1.37820244e-02  1.22470856e-02 -1.77621841e-04 ...  4.50351238e-02\n",
      "   4.51190472e-02  3.56338024e-02]\n",
      " [ 4.25550938e-02  3.15604210e-02  1.85527802e-02 ...  7.81233311e-02\n",
      "   6.36174679e-02  4.02076244e-02]\n",
      " [ 8.58473778e-02  6.16030693e-02  3.91132832e-02 ...  1.20399952e-01\n",
      "   1.08457565e-01  8.27400684e-02]\n",
      " ...\n",
      " [ 5.10201454e-02  3.46908569e-02  4.26697731e-02 ... -4.82082367e-04\n",
      "   1.75445080e-02  4.22375202e-02]\n",
      " [ 2.75838375e-02  4.99010086e-04  2.08830833e-03 ...  2.21066475e-02\n",
      "   4.47707176e-02  5.10854721e-02]\n",
      " [ 8.88085365e-03 -3.26633453e-05 -8.49699974e-03 ...  3.65436077e-02\n",
      "   4.84826565e-02  4.46064472e-02]]\n"
     ]
    },
    {
     "data": {
      "text/html": [
       "<pre style=\"white-space:pre;overflow-x:auto;line-height:normal;font-family:Menlo,'DejaVu Sans Mono',consolas,'Courier New',monospace\">Snapshot written at <span style=\"color: #808000; text-decoration-color: #808000\">...</span><span style=\"color: #808000; text-decoration-color: #808000\">filename</span>=<span style=\"color: #008000; text-decoration-color: #008000\">'./smalln//output_00011/particles_eft_multigrid_ncoarse6.h5'</span>                       \n",
       "param<span style=\"font-weight: bold\">[</span><span style=\"color: #008000; text-decoration-color: #008000\">'aexp'</span><span style=\"font-weight: bold\">]</span>=<span style=\"color: #008080; text-decoration-color: #008080; font-weight: bold\">0.0909090909090909</span>                                                                                   \n",
       "</pre>\n"
      ],
      "text/plain": [
       "Snapshot written at \u001b[33m...\u001b[0m\u001b[33mfilename\u001b[0m=\u001b[32m'./smalln//output_00011/particles_eft_multigrid_ncoarse6.h5'\u001b[0m                       \n",
       "param\u001b[1m[\u001b[0m\u001b[32m'aexp'\u001b[0m\u001b[1m]\u001b[0m=\u001b[1;36m0.0909090909090909\u001b[0m                                                                                   \n"
      ]
     },
     "metadata": {},
     "output_type": "display_data"
    },
    {
     "data": {
      "text/html": [
       "<pre style=\"white-space:pre;overflow-x:auto;line-height:normal;font-family:Menlo,'DejaVu Sans Mono',consolas,'Courier New',monospace\">param<span style=\"font-weight: bold\">[</span><span style=\"color: #008000; text-decoration-color: #008000\">'nsteps'</span><span style=\"font-weight: bold\">]</span>=<span style=\"color: #008080; text-decoration-color: #008080; font-weight: bold\">20</span> param<span style=\"font-weight: bold\">[</span><span style=\"color: #008000; text-decoration-color: #008000\">'aexp'</span><span style=\"font-weight: bold\">]</span>=<span style=\"color: #008080; text-decoration-color: #008080; font-weight: bold\">0.0909090909090909</span> z = <span style=\"color: #008080; text-decoration-color: #008080; font-weight: bold\">10.000000000000002</span>                                         \n",
       "</pre>\n"
      ],
      "text/plain": [
       "param\u001b[1m[\u001b[0m\u001b[32m'nsteps'\u001b[0m\u001b[1m]\u001b[0m=\u001b[1;36m20\u001b[0m param\u001b[1m[\u001b[0m\u001b[32m'aexp'\u001b[0m\u001b[1m]\u001b[0m=\u001b[1;36m0.0909090909090909\u001b[0m z = \u001b[1;36m10.000000000000002\u001b[0m                                         \n"
      ]
     },
     "metadata": {},
     "output_type": "display_data"
    },
    {
     "name": "stdout",
     "output_type": "stream",
     "text": [
      "Step: 21 [0.00606686 0.00570461 0.00776755] [-7.8528887e-04 -7.9819030e-04  5.4395732e-05] [[ 0.01892447  0.01695323  0.00166059 ...  0.0594902   0.0581212\n",
      "   0.04480696]\n",
      " [ 0.05362582  0.04055953  0.02363014 ...  0.09930205  0.08178854\n",
      "   0.05178595]\n",
      " [ 0.10465288  0.07560611  0.04700112 ...  0.14925647  0.13642979\n",
      "   0.10310769]\n",
      " ...\n",
      " [ 0.06212997  0.04318905  0.05276036 ...  0.00171423  0.02245998\n",
      "   0.05176425]\n",
      " [ 0.03330112  0.0011723   0.00285077 ...  0.03022456  0.05609584\n",
      "   0.06278181]\n",
      " [ 0.01164174  0.0012846  -0.00939965 ...  0.04812074  0.06153512\n",
      "   0.05495214]]\n"
     ]
    },
    {
     "data": {
      "text/html": [
       "<pre style=\"white-space:pre;overflow-x:auto;line-height:normal;font-family:Menlo,'DejaVu Sans Mono',consolas,'Courier New',monospace\">Snapshot written at <span style=\"color: #808000; text-decoration-color: #808000\">...</span><span style=\"color: #808000; text-decoration-color: #808000\">filename</span>=<span style=\"color: #008000; text-decoration-color: #008000\">'./smalln//output_00012/particles_eft_multigrid_ncoarse6.h5'</span>                       \n",
       "param<span style=\"font-weight: bold\">[</span><span style=\"color: #008000; text-decoration-color: #008000\">'aexp'</span><span style=\"font-weight: bold\">]</span>=<span style=\"color: #008080; text-decoration-color: #008080; font-weight: bold\">0.10000000000000002</span>                                                                                  \n",
       "</pre>\n"
      ],
      "text/plain": [
       "Snapshot written at \u001b[33m...\u001b[0m\u001b[33mfilename\u001b[0m=\u001b[32m'./smalln//output_00012/particles_eft_multigrid_ncoarse6.h5'\u001b[0m                       \n",
       "param\u001b[1m[\u001b[0m\u001b[32m'aexp'\u001b[0m\u001b[1m]\u001b[0m=\u001b[1;36m0.10000000000000002\u001b[0m                                                                                  \n"
      ]
     },
     "metadata": {},
     "output_type": "display_data"
    },
    {
     "data": {
      "text/html": [
       "<pre style=\"white-space:pre;overflow-x:auto;line-height:normal;font-family:Menlo,'DejaVu Sans Mono',consolas,'Courier New',monospace\">param<span style=\"font-weight: bold\">[</span><span style=\"color: #008000; text-decoration-color: #008000\">'nsteps'</span><span style=\"font-weight: bold\">]</span>=<span style=\"color: #008080; text-decoration-color: #008080; font-weight: bold\">21</span> param<span style=\"font-weight: bold\">[</span><span style=\"color: #008000; text-decoration-color: #008000\">'aexp'</span><span style=\"font-weight: bold\">]</span>=<span style=\"color: #008080; text-decoration-color: #008080; font-weight: bold\">0.10000000000000002</span> z = <span style=\"color: #008080; text-decoration-color: #008080; font-weight: bold\">8.999999999999998</span>                                         \n",
       "</pre>\n"
      ],
      "text/plain": [
       "param\u001b[1m[\u001b[0m\u001b[32m'nsteps'\u001b[0m\u001b[1m]\u001b[0m=\u001b[1;36m21\u001b[0m param\u001b[1m[\u001b[0m\u001b[32m'aexp'\u001b[0m\u001b[1m]\u001b[0m=\u001b[1;36m0.10000000000000002\u001b[0m z = \u001b[1;36m8.999999999999998\u001b[0m                                         \n"
      ]
     },
     "metadata": {},
     "output_type": "display_data"
    },
    {
     "name": "stdout",
     "output_type": "stream",
     "text": [
      "Step: 22 [0.00581563 0.00545088 0.00778553] [-9.392168e-04 -9.412716e-04  6.955676e-05] [[ 0.02607989  0.02338123  0.00443125 ...  0.07939053  0.07602668\n",
      "   0.05750823]\n",
      " [ 0.06802106  0.05219221  0.03008437 ...  0.12591362  0.10592985\n",
      "   0.06777453]\n",
      " [ 0.12819886  0.09302402  0.05653167 ...  0.18361616  0.17130923\n",
      "   0.12955189]\n",
      " ...\n",
      " [ 0.07585812  0.0538094   0.064991   ...  0.00599527  0.02941346\n",
      "   0.06392646]\n",
      " [ 0.04039955  0.0020082   0.00404239 ...  0.04240489  0.07188964\n",
      "   0.07822442]\n",
      " [ 0.01545191  0.00329638 -0.01037025 ...  0.06454945  0.07953882\n",
      "   0.06878757]]\n"
     ]
    },
    {
     "data": {
      "text/html": [
       "<pre style=\"white-space:pre;overflow-x:auto;line-height:normal;font-family:Menlo,'DejaVu Sans Mono',consolas,'Courier New',monospace\">param<span style=\"font-weight: bold\">[</span><span style=\"color: #008000; text-decoration-color: #008000\">'nsteps'</span><span style=\"font-weight: bold\">]</span>=<span style=\"color: #008080; text-decoration-color: #008080; font-weight: bold\">22</span> param<span style=\"font-weight: bold\">[</span><span style=\"color: #008000; text-decoration-color: #008000\">'aexp'</span><span style=\"font-weight: bold\">]</span>=<span style=\"color: #008080; text-decoration-color: #008080; font-weight: bold\">0.1099999997327191</span> z = <span style=\"color: #008080; text-decoration-color: #008080; font-weight: bold\">8.090909112998421</span>                                          \n",
       "</pre>\n"
      ],
      "text/plain": [
       "param\u001b[1m[\u001b[0m\u001b[32m'nsteps'\u001b[0m\u001b[1m]\u001b[0m=\u001b[1;36m22\u001b[0m param\u001b[1m[\u001b[0m\u001b[32m'aexp'\u001b[0m\u001b[1m]\u001b[0m=\u001b[1;36m0.1099999997327191\u001b[0m z = \u001b[1;36m8.090909112998421\u001b[0m                                          \n"
      ]
     },
     "metadata": {},
     "output_type": "display_data"
    },
    {
     "name": "stdout",
     "output_type": "stream",
     "text": [
      "Step: 23 [0.00578698 0.00542219 0.00778765] [-9.5702417e-04 -9.5772947e-04  7.1322771e-05] [[ 0.02699184  0.02418447  0.00479031 ...  0.08182573  0.07825923\n",
      "   0.05911446]\n",
      " [ 0.06978631  0.05361176  0.03086138 ...  0.12900925  0.10883045\n",
      "   0.06977487]\n",
      " [ 0.13104129  0.09510708  0.05765724 ...  0.18754745  0.17537522\n",
      "   0.13273644]\n",
      " ...\n",
      " [ 0.07750082  0.05510426  0.06642771 ...  0.00662827  0.03032684\n",
      "   0.06542754]\n",
      " [ 0.04126     0.00211406  0.00421667 ...  0.0439961   0.07389355\n",
      "   0.08016586]\n",
      " [ 0.015939    0.0035603  -0.01047325 ...  0.06662774  0.08180141\n",
      "   0.07052803]]\n"
     ]
    },
    {
     "data": {
      "text/html": [
       "<pre style=\"white-space:pre;overflow-x:auto;line-height:normal;font-family:Menlo,'DejaVu Sans Mono',consolas,'Courier New',monospace\">Snapshot written at <span style=\"color: #808000; text-decoration-color: #808000\">...</span><span style=\"color: #808000; text-decoration-color: #808000\">filename</span>=<span style=\"color: #008000; text-decoration-color: #008000\">'./smalln//output_00013/particles_eft_multigrid_ncoarse6.h5'</span>                       \n",
       "param<span style=\"font-weight: bold\">[</span><span style=\"color: #008000; text-decoration-color: #008000\">'aexp'</span><span style=\"font-weight: bold\">]</span>=<span style=\"color: #008080; text-decoration-color: #008080; font-weight: bold\">0.11111111111111109</span>                                                                                  \n",
       "</pre>\n"
      ],
      "text/plain": [
       "Snapshot written at \u001b[33m...\u001b[0m\u001b[33mfilename\u001b[0m=\u001b[32m'./smalln//output_00013/particles_eft_multigrid_ncoarse6.h5'\u001b[0m                       \n",
       "param\u001b[1m[\u001b[0m\u001b[32m'aexp'\u001b[0m\u001b[1m]\u001b[0m=\u001b[1;36m0.11111111111111109\u001b[0m                                                                                  \n"
      ]
     },
     "metadata": {},
     "output_type": "display_data"
    },
    {
     "data": {
      "text/html": [
       "<pre style=\"white-space:pre;overflow-x:auto;line-height:normal;font-family:Menlo,'DejaVu Sans Mono',consolas,'Courier New',monospace\">param<span style=\"font-weight: bold\">[</span><span style=\"color: #008000; text-decoration-color: #008000\">'nsteps'</span><span style=\"font-weight: bold\">]</span>=<span style=\"color: #008080; text-decoration-color: #008080; font-weight: bold\">23</span> param<span style=\"font-weight: bold\">[</span><span style=\"color: #008000; text-decoration-color: #008000\">'aexp'</span><span style=\"font-weight: bold\">]</span>=<span style=\"color: #008080; text-decoration-color: #008080; font-weight: bold\">0.11111111111111109</span> z = <span style=\"color: #008080; text-decoration-color: #008080; font-weight: bold\">8.000000000000002</span>                                         \n",
       "</pre>\n"
      ],
      "text/plain": [
       "param\u001b[1m[\u001b[0m\u001b[32m'nsteps'\u001b[0m\u001b[1m]\u001b[0m=\u001b[1;36m23\u001b[0m param\u001b[1m[\u001b[0m\u001b[32m'aexp'\u001b[0m\u001b[1m]\u001b[0m=\u001b[1;36m0.11111111111111109\u001b[0m z = \u001b[1;36m8.000000000000002\u001b[0m                                         \n"
      ]
     },
     "metadata": {},
     "output_type": "display_data"
    },
    {
     "name": "stdout",
     "output_type": "stream",
     "text": [
      "Step: 24 [0.00549651 0.0051333  0.00780988] [-1.1449490e-03 -1.1301123e-03  9.0102534e-05] [[ 0.03755713  0.0333147   0.00885439 ...  0.10746288  0.10267305\n",
      "   0.07740402]\n",
      " [ 0.08972406  0.06930971  0.03941345 ...  0.16097498  0.13932943\n",
      "   0.09196281]\n",
      " [ 0.16187906  0.11762142  0.06984568 ...  0.22754765  0.21748781\n",
      "   0.16608047]\n",
      " ...\n",
      " [ 0.09582043  0.06928635  0.08139944 ...  0.01496458  0.04126167\n",
      "   0.08258486]\n",
      " [ 0.05098438  0.00349283  0.00716352 ...  0.06270695  0.09690475\n",
      "   0.10239077]\n",
      " [ 0.02165604  0.00660753 -0.01161051 ...  0.08981895  0.10731554\n",
      "   0.09029007]]\n"
     ]
    },
    {
     "data": {
      "text/html": [
       "<pre style=\"white-space:pre;overflow-x:auto;line-height:normal;font-family:Menlo,'DejaVu Sans Mono',consolas,'Courier New',monospace\">param<span style=\"font-weight: bold\">[</span><span style=\"color: #008000; text-decoration-color: #008000\">'nsteps'</span><span style=\"font-weight: bold\">]</span>=<span style=\"color: #008080; text-decoration-color: #008080; font-weight: bold\">24</span> param<span style=\"font-weight: bold\">[</span><span style=\"color: #008000; text-decoration-color: #008000\">'aexp'</span><span style=\"font-weight: bold\">]</span>=<span style=\"color: #008080; text-decoration-color: #008080; font-weight: bold\">0.12222222184337919</span> z = <span style=\"color: #008080; text-decoration-color: #008080; font-weight: bold\">7.181818207178749</span>                                         \n",
       "</pre>\n"
      ],
      "text/plain": [
       "param\u001b[1m[\u001b[0m\u001b[32m'nsteps'\u001b[0m\u001b[1m]\u001b[0m=\u001b[1;36m24\u001b[0m param\u001b[1m[\u001b[0m\u001b[32m'aexp'\u001b[0m\u001b[1m]\u001b[0m=\u001b[1;36m0.12222222184337919\u001b[0m z = \u001b[1;36m7.181818207178749\u001b[0m                                         \n"
      ]
     },
     "metadata": {},
     "output_type": "display_data"
    },
    {
     "name": "stdout",
     "output_type": "stream",
     "text": [
      "Step: 25 [0.00542179 0.00505966 0.00781579] [-1.1942262e-03 -1.1749922e-03  9.5062504e-05] [[ 0.04071999  0.03596067  0.01001787 ...  0.11422491  0.10924244\n",
      "   0.08261681]\n",
      " [ 0.09542322  0.07371235  0.04178333 ...  0.16924715  0.14737368\n",
      "   0.09815884]\n",
      " [ 0.17034626  0.12378883  0.07315016 ...  0.23771095  0.22841549\n",
      "   0.17485857]\n",
      " ...\n",
      " [ 0.10100889  0.07327127  0.08546877 ...  0.01766062  0.04456234\n",
      "   0.08756828]\n",
      " [ 0.05384207  0.00403404  0.00824404 ...  0.06821203  0.1035862\n",
      "   0.10885429]\n",
      " [ 0.02341652  0.00751305 -0.0119133  ...  0.09622717  0.11450958\n",
      "   0.09596682]]\n"
     ]
    },
    {
     "data": {
      "text/html": [
       "<pre style=\"white-space:pre;overflow-x:auto;line-height:normal;font-family:Menlo,'DejaVu Sans Mono',consolas,'Courier New',monospace\">Snapshot written at <span style=\"color: #808000; text-decoration-color: #808000\">...</span><span style=\"color: #808000; text-decoration-color: #808000\">filename</span>=<span style=\"color: #008000; text-decoration-color: #008000\">'./smalln//output_00014/particles_eft_multigrid_ncoarse6.h5'</span>                       \n",
       "param<span style=\"font-weight: bold\">[</span><span style=\"color: #008000; text-decoration-color: #008000\">'aexp'</span><span style=\"font-weight: bold\">]</span>=<span style=\"color: #008080; text-decoration-color: #008080; font-weight: bold\">0.12500000000000003</span>                                                                                  \n",
       "</pre>\n"
      ],
      "text/plain": [
       "Snapshot written at \u001b[33m...\u001b[0m\u001b[33mfilename\u001b[0m=\u001b[32m'./smalln//output_00014/particles_eft_multigrid_ncoarse6.h5'\u001b[0m                       \n",
       "param\u001b[1m[\u001b[0m\u001b[32m'aexp'\u001b[0m\u001b[1m]\u001b[0m=\u001b[1;36m0.12500000000000003\u001b[0m                                                                                  \n"
      ]
     },
     "metadata": {},
     "output_type": "display_data"
    },
    {
     "data": {
      "text/html": [
       "<pre style=\"white-space:pre;overflow-x:auto;line-height:normal;font-family:Menlo,'DejaVu Sans Mono',consolas,'Courier New',monospace\">param<span style=\"font-weight: bold\">[</span><span style=\"color: #008000; text-decoration-color: #008000\">'nsteps'</span><span style=\"font-weight: bold\">]</span>=<span style=\"color: #008080; text-decoration-color: #008080; font-weight: bold\">25</span> param<span style=\"font-weight: bold\">[</span><span style=\"color: #008000; text-decoration-color: #008000\">'aexp'</span><span style=\"font-weight: bold\">]</span>=<span style=\"color: #008080; text-decoration-color: #008080; font-weight: bold\">0.12500000000000003</span> z = <span style=\"color: #008080; text-decoration-color: #008080; font-weight: bold\">6.999999999999998</span>                                         \n",
       "</pre>\n"
      ],
      "text/plain": [
       "param\u001b[1m[\u001b[0m\u001b[32m'nsteps'\u001b[0m\u001b[1m]\u001b[0m=\u001b[1;36m25\u001b[0m param\u001b[1m[\u001b[0m\u001b[32m'aexp'\u001b[0m\u001b[1m]\u001b[0m=\u001b[1;36m0.12500000000000003\u001b[0m z = \u001b[1;36m6.999999999999998\u001b[0m                                         \n"
      ]
     },
     "metadata": {},
     "output_type": "display_data"
    },
    {
     "name": "stdout",
     "output_type": "stream",
     "text": [
      "Step: 26 [0.00507996 0.00472538 0.00784358] [-0.00143012 -0.00138783  0.00011907] [[ 0.0579319   0.04988194  0.01580906 ...  0.14588594  0.14023924\n",
      "   0.10875988]\n",
      " [ 0.12441301  0.09621429  0.05353117 ...  0.2073307   0.18506384\n",
      "   0.12779093]\n",
      " [ 0.21187305  0.15479231  0.08863258 ...  0.28345728  0.27890062\n",
      "   0.21575928]\n",
      " ...\n",
      " [ 0.12764502  0.09385157  0.10633707 ...  0.03241968  0.06209707\n",
      "   0.11367989]\n",
      " [ 0.06946611  0.00886059  0.01565981 ...  0.09619379  0.13806725\n",
      "   0.14281416]\n",
      " [ 0.03347969  0.01199532 -0.01331043 ...  0.12635899  0.14994192\n",
      "   0.12520075]]\n"
     ]
    },
    {
     "data": {
      "text/html": [
       "<pre style=\"white-space:pre;overflow-x:auto;line-height:normal;font-family:Menlo,'DejaVu Sans Mono',consolas,'Courier New',monospace\">param<span style=\"font-weight: bold\">[</span><span style=\"color: #008000; text-decoration-color: #008000\">'nsteps'</span><span style=\"font-weight: bold\">]</span>=<span style=\"color: #008080; text-decoration-color: #008080; font-weight: bold\">26</span> param<span style=\"font-weight: bold\">[</span><span style=\"color: #008000; text-decoration-color: #008000\">'aexp'</span><span style=\"font-weight: bold\">]</span>=<span style=\"color: #008080; text-decoration-color: #008080; font-weight: bold\">0.1375000004223509</span> z = <span style=\"color: #008080; text-decoration-color: #008080; font-weight: bold\">6.272727250388052</span>                                          \n",
       "</pre>\n"
      ],
      "text/plain": [
       "param\u001b[1m[\u001b[0m\u001b[32m'nsteps'\u001b[0m\u001b[1m]\u001b[0m=\u001b[1;36m26\u001b[0m param\u001b[1m[\u001b[0m\u001b[32m'aexp'\u001b[0m\u001b[1m]\u001b[0m=\u001b[1;36m0.1375000004223509\u001b[0m z = \u001b[1;36m6.272727250388052\u001b[0m                                          \n"
      ]
     },
     "metadata": {},
     "output_type": "display_data"
    },
    {
     "name": "stdout",
     "output_type": "stream",
     "text": [
      "Step: 27 [0.00492874 0.00457902 0.00785627] [-0.00153731 -0.00148364  0.00013012] [[ 0.06687117  0.05700731  0.01845837 ...  0.16001463  0.15412712\n",
      "   0.12100124]\n",
      " [ 0.13863087  0.10755968  0.0591054  ...  0.22397327  0.20190954\n",
      "   0.14131308]\n",
      " [ 0.23108292  0.17009687  0.0951376  ...  0.30286026  0.3010559\n",
      "   0.2338829 ]\n",
      " ...\n",
      " [ 0.14098644  0.1041975   0.11669302 ...  0.03954792  0.07057619\n",
      "   0.1267991 ]\n",
      " [ 0.07781935  0.01236105  0.01983452 ...  0.1092062   0.15449142\n",
      "   0.1599145 ]\n",
      " [ 0.03893614  0.01416302 -0.01342726 ...  0.13979673  0.16619444\n",
      "   0.13942385]]\n"
     ]
    },
    {
     "data": {
      "text/html": [
       "<pre style=\"white-space:pre;overflow-x:auto;line-height:normal;font-family:Menlo,'DejaVu Sans Mono',consolas,'Courier New',monospace\">Snapshot written at <span style=\"color: #808000; text-decoration-color: #808000\">...</span><span style=\"color: #808000; text-decoration-color: #808000\">filename</span>=<span style=\"color: #008000; text-decoration-color: #008000\">'./smalln//output_00015/particles_eft_multigrid_ncoarse6.h5'</span>                       \n",
       "param<span style=\"font-weight: bold\">[</span><span style=\"color: #008000; text-decoration-color: #008000\">'aexp'</span><span style=\"font-weight: bold\">]</span>=<span style=\"color: #008080; text-decoration-color: #008080; font-weight: bold\">0.14285714285714285</span>                                                                                  \n",
       "</pre>\n"
      ],
      "text/plain": [
       "Snapshot written at \u001b[33m...\u001b[0m\u001b[33mfilename\u001b[0m=\u001b[32m'./smalln//output_00015/particles_eft_multigrid_ncoarse6.h5'\u001b[0m                       \n",
       "param\u001b[1m[\u001b[0m\u001b[32m'aexp'\u001b[0m\u001b[1m]\u001b[0m=\u001b[1;36m0.14285714285714285\u001b[0m                                                                                  \n"
      ]
     },
     "metadata": {},
     "output_type": "display_data"
    },
    {
     "data": {
      "text/html": [
       "<pre style=\"white-space:pre;overflow-x:auto;line-height:normal;font-family:Menlo,'DejaVu Sans Mono',consolas,'Courier New',monospace\">param<span style=\"font-weight: bold\">[</span><span style=\"color: #008000; text-decoration-color: #008000\">'nsteps'</span><span style=\"font-weight: bold\">]</span>=<span style=\"color: #008080; text-decoration-color: #008080; font-weight: bold\">27</span> param<span style=\"font-weight: bold\">[</span><span style=\"color: #008000; text-decoration-color: #008000\">'aexp'</span><span style=\"font-weight: bold\">]</span>=<span style=\"color: #008080; text-decoration-color: #008080; font-weight: bold\">0.14285714285714285</span> z = <span style=\"color: #008080; text-decoration-color: #008080; font-weight: bold\">6.0</span>                                                       \n",
       "</pre>\n"
      ],
      "text/plain": [
       "param\u001b[1m[\u001b[0m\u001b[32m'nsteps'\u001b[0m\u001b[1m]\u001b[0m=\u001b[1;36m27\u001b[0m param\u001b[1m[\u001b[0m\u001b[32m'aexp'\u001b[0m\u001b[1m]\u001b[0m=\u001b[1;36m0.14285714285714285\u001b[0m z = \u001b[1;36m6.0\u001b[0m                                                       \n"
      ]
     },
     "metadata": {},
     "output_type": "display_data"
    },
    {
     "name": "stdout",
     "output_type": "stream",
     "text": [
      "Step: 28 [0.00451683 0.00418395 0.00789177] [-0.00184443 -0.00175516  0.00016252] [[ 0.09544373  0.08009243  0.02617216 ...  0.19869995  0.19223404\n",
      "   0.15552425]\n",
      " [ 0.18184853  0.14355183  0.07551765 ...  0.2684183   0.2481699\n",
      "   0.17922258]\n",
      " [ 0.28575468  0.2174449   0.11107254 ...  0.35260057  0.36044598\n",
      "   0.28300238]\n",
      " ...\n",
      " [ 0.18149185  0.13542366  0.14769077 ...  0.05889511  0.09288502\n",
      "   0.16627836]\n",
      " [ 0.107584    0.02723408  0.03350925 ...  0.14553499  0.20157337\n",
      "   0.21283293]\n",
      " [ 0.0562191   0.02150917 -0.01109171 ...  0.17629957  0.21118593\n",
      "   0.18092585]]\n"
     ]
    },
    {
     "data": {
      "text/html": [
       "<pre style=\"white-space:pre;overflow-x:auto;line-height:normal;font-family:Menlo,'DejaVu Sans Mono',consolas,'Courier New',monospace\">param<span style=\"font-weight: bold\">[</span><span style=\"color: #008000; text-decoration-color: #008000\">'nsteps'</span><span style=\"font-weight: bold\">]</span>=<span style=\"color: #008080; text-decoration-color: #008080; font-weight: bold\">28</span> param<span style=\"font-weight: bold\">[</span><span style=\"color: #008000; text-decoration-color: #008000\">'aexp'</span><span style=\"font-weight: bold\">]</span>=<span style=\"color: #008080; text-decoration-color: #008080; font-weight: bold\">0.15714285739197312</span> z = <span style=\"color: #008080; text-decoration-color: #008080; font-weight: bold\">5.363636353548196</span>                                         \n",
       "</pre>\n"
      ],
      "text/plain": [
       "param\u001b[1m[\u001b[0m\u001b[32m'nsteps'\u001b[0m\u001b[1m]\u001b[0m=\u001b[1;36m28\u001b[0m param\u001b[1m[\u001b[0m\u001b[32m'aexp'\u001b[0m\u001b[1m]\u001b[0m=\u001b[1;36m0.15714285739197312\u001b[0m z = \u001b[1;36m5.363636353548196\u001b[0m                                         \n"
      ]
     },
     "metadata": {},
     "output_type": "display_data"
    },
    {
     "name": "stdout",
     "output_type": "stream",
     "text": [
      "Step: 29 [0.00423213 0.00391412 0.00791714] [-0.00206477 -0.00194778  0.00018648] [[ 0.11842346  0.09919834  0.03253174 ...  0.22497892  0.21815777\n",
      "   0.17980385]\n",
      " [ 0.21426582  0.17259312  0.08739758 ...  0.2977109   0.2797451\n",
      "   0.20570755]\n",
      " [ 0.32490826  0.25497723  0.12008381 ...  0.38377237  0.3996172\n",
      "   0.3159237 ]\n",
      " ...\n",
      " [ 0.21321774  0.15954208  0.17083263 ...  0.07331181  0.10737133\n",
      "   0.19583797]\n",
      " [ 0.13380146  0.04183292  0.04477787 ...  0.17004776  0.23508549\n",
      "   0.25290585]\n",
      " [ 0.06984901  0.0289793  -0.00656509 ...  0.2006669   0.24193382\n",
      "   0.2103777 ]]\n"
     ]
    },
    {
     "data": {
      "text/html": [
       "<pre style=\"white-space:pre;overflow-x:auto;line-height:normal;font-family:Menlo,'DejaVu Sans Mono',consolas,'Courier New',monospace\">Snapshot written at <span style=\"color: #808000; text-decoration-color: #808000\">...</span><span style=\"color: #808000; text-decoration-color: #808000\">filename</span>=<span style=\"color: #008000; text-decoration-color: #008000\">'./smalln//output_00016/particles_eft_multigrid_ncoarse6.h5'</span>                       \n",
       "param<span style=\"font-weight: bold\">[</span><span style=\"color: #008000; text-decoration-color: #008000\">'aexp'</span><span style=\"font-weight: bold\">]</span>=<span style=\"color: #008080; text-decoration-color: #008080; font-weight: bold\">0.16666666666666669</span>                                                                                  \n",
       "</pre>\n"
      ],
      "text/plain": [
       "Snapshot written at \u001b[33m...\u001b[0m\u001b[33mfilename\u001b[0m=\u001b[32m'./smalln//output_00016/particles_eft_multigrid_ncoarse6.h5'\u001b[0m                       \n",
       "param\u001b[1m[\u001b[0m\u001b[32m'aexp'\u001b[0m\u001b[1m]\u001b[0m=\u001b[1;36m0.16666666666666669\u001b[0m                                                                                  \n"
      ]
     },
     "metadata": {},
     "output_type": "display_data"
    },
    {
     "data": {
      "text/html": [
       "<pre style=\"white-space:pre;overflow-x:auto;line-height:normal;font-family:Menlo,'DejaVu Sans Mono',consolas,'Courier New',monospace\">param<span style=\"font-weight: bold\">[</span><span style=\"color: #008000; text-decoration-color: #008000\">'nsteps'</span><span style=\"font-weight: bold\">]</span>=<span style=\"color: #008080; text-decoration-color: #008080; font-weight: bold\">29</span> param<span style=\"font-weight: bold\">[</span><span style=\"color: #008000; text-decoration-color: #008000\">'aexp'</span><span style=\"font-weight: bold\">]</span>=<span style=\"color: #008080; text-decoration-color: #008080; font-weight: bold\">0.16666666666666669</span> z = <span style=\"color: #008080; text-decoration-color: #008080; font-weight: bold\">4.999999999999999</span>                                         \n",
       "</pre>\n"
      ],
      "text/plain": [
       "param\u001b[1m[\u001b[0m\u001b[32m'nsteps'\u001b[0m\u001b[1m]\u001b[0m=\u001b[1;36m29\u001b[0m param\u001b[1m[\u001b[0m\u001b[32m'aexp'\u001b[0m\u001b[1m]\u001b[0m=\u001b[1;36m0.16666666666666669\u001b[0m z = \u001b[1;36m4.999999999999999\u001b[0m                                         \n"
      ]
     },
     "metadata": {},
     "output_type": "display_data"
    },
    {
     "name": "stdout",
     "output_type": "stream",
     "text": [
      "Step: 30 [0.00371934 0.00343344 0.00796428] [-0.00248418 -0.00231033  0.00023421] [[0.16497898 0.14014816 0.04583263 ... 0.27139282 0.26334858 0.22348976]\n",
      " [0.27702427 0.23490524 0.10746002 ... 0.34848404 0.3353901  0.2534542 ]\n",
      " [0.39790726 0.3326769  0.13251019 ... 0.43664265 0.46815014 0.37313175]\n",
      " ...\n",
      " [0.27428722 0.20589161 0.21541119 ... 0.10466576 0.13510895 0.25235748]\n",
      " [0.1907301  0.07518482 0.06839848 ... 0.21131134 0.29505825 0.33187485]\n",
      " [0.09869289 0.05036163 0.00854778 ... 0.2417345  0.29523563 0.26308823]]\n"
     ]
    },
    {
     "data": {
      "text/html": [
       "<pre style=\"white-space:pre;overflow-x:auto;line-height:normal;font-family:Menlo,'DejaVu Sans Mono',consolas,'Courier New',monospace\">param<span style=\"font-weight: bold\">[</span><span style=\"color: #008000; text-decoration-color: #008000\">'nsteps'</span><span style=\"font-weight: bold\">]</span>=<span style=\"color: #008080; text-decoration-color: #008080; font-weight: bold\">30</span> param<span style=\"font-weight: bold\">[</span><span style=\"color: #008000; text-decoration-color: #008000\">'aexp'</span><span style=\"font-weight: bold\">]</span>=<span style=\"color: #008080; text-decoration-color: #008080; font-weight: bold\">0.18333333282846506</span> z = <span style=\"color: #008080; text-decoration-color: #008080; font-weight: bold\">4.4545454695663285</span>                                        \n",
       "</pre>\n"
      ],
      "text/plain": [
       "param\u001b[1m[\u001b[0m\u001b[32m'nsteps'\u001b[0m\u001b[1m]\u001b[0m=\u001b[1;36m30\u001b[0m param\u001b[1m[\u001b[0m\u001b[32m'aexp'\u001b[0m\u001b[1m]\u001b[0m=\u001b[1;36m0.18333333282846506\u001b[0m z = \u001b[1;36m4.4545454695663285\u001b[0m                                        \n"
      ]
     },
     "metadata": {},
     "output_type": "display_data"
    },
    {
     "name": "stdout",
     "output_type": "stream",
     "text": [
      "Step: 31 [0.00318458 0.00293898 0.00801561] [-0.00294518 -0.00270471  0.00028985] [[0.21597004 0.19157791 0.06335926 ... 0.3198166  0.30739975 0.2662964 ]\n",
      " [0.34743595 0.313447   0.12479496 ... 0.4003172  0.391366   0.30212593]\n",
      " [0.47641373 0.4222231  0.14174366 ... 0.4882412  0.5386629  0.43130302]\n",
      " ...\n",
      " [0.3411646  0.25459576 0.26252747 ... 0.14538956 0.16723633 0.3146963 ]\n",
      " [0.25904942 0.11680317 0.09677124 ... 0.25512886 0.35747623 0.42263603]\n",
      " [0.13416576 0.08618832 0.0344429  ... 0.2809267  0.34605122 0.31613922]]\n"
     ]
    },
    {
     "data": {
      "text/html": [
       "<pre style=\"white-space:pre;overflow-x:auto;line-height:normal;font-family:Menlo,'DejaVu Sans Mono',consolas,'Courier New',monospace\">Snapshot written at <span style=\"color: #808000; text-decoration-color: #808000\">...</span><span style=\"color: #808000; text-decoration-color: #808000\">filename</span>=<span style=\"color: #008000; text-decoration-color: #008000\">'./smalln//output_00017/particles_eft_multigrid_ncoarse6.h5'</span> param<span style=\"font-weight: bold\">[</span><span style=\"color: #008000; text-decoration-color: #008000\">'aexp'</span><span style=\"font-weight: bold\">]</span>=<span style=\"color: #008080; text-decoration-color: #008080; font-weight: bold\">0.2</span>     \n",
       "</pre>\n"
      ],
      "text/plain": [
       "Snapshot written at \u001b[33m...\u001b[0m\u001b[33mfilename\u001b[0m=\u001b[32m'./smalln//output_00017/particles_eft_multigrid_ncoarse6.h5'\u001b[0m param\u001b[1m[\u001b[0m\u001b[32m'aexp'\u001b[0m\u001b[1m]\u001b[0m=\u001b[1;36m0.2\u001b[0m     \n"
      ]
     },
     "metadata": {},
     "output_type": "display_data"
    },
    {
     "data": {
      "text/html": [
       "<pre style=\"white-space:pre;overflow-x:auto;line-height:normal;font-family:Menlo,'DejaVu Sans Mono',consolas,'Courier New',monospace\">param<span style=\"font-weight: bold\">[</span><span style=\"color: #008000; text-decoration-color: #008000\">'nsteps'</span><span style=\"font-weight: bold\">]</span>=<span style=\"color: #008080; text-decoration-color: #008080; font-weight: bold\">31</span> param<span style=\"font-weight: bold\">[</span><span style=\"color: #008000; text-decoration-color: #008000\">'aexp'</span><span style=\"font-weight: bold\">]</span>=<span style=\"color: #008080; text-decoration-color: #008080; font-weight: bold\">0.2</span> z = <span style=\"color: #008080; text-decoration-color: #008080; font-weight: bold\">4.0</span>                                                                       \n",
       "</pre>\n"
      ],
      "text/plain": [
       "param\u001b[1m[\u001b[0m\u001b[32m'nsteps'\u001b[0m\u001b[1m]\u001b[0m=\u001b[1;36m31\u001b[0m param\u001b[1m[\u001b[0m\u001b[32m'aexp'\u001b[0m\u001b[1m]\u001b[0m=\u001b[1;36m0.2\u001b[0m z = \u001b[1;36m4.0\u001b[0m                                                                       \n"
      ]
     },
     "metadata": {},
     "output_type": "display_data"
    },
    {
     "name": "stdout",
     "output_type": "stream",
     "text": [
      "Step: 32 [0.00251586 0.00232854 0.00808285] [-0.00355573 -0.0032236   0.00036847] [[0.27896976 0.2699232  0.09498405 ... 0.38976192 0.36423206 0.31373405]\n",
      " [0.44171906 0.42819595 0.13845539 ... 0.4733219  0.4671936  0.3619814 ]\n",
      " [0.57828426 0.5404644  0.14945889 ... 0.54957294 0.62832737 0.5033531 ]\n",
      " ...\n",
      " [0.43052483 0.31460953 0.32151985 ... 0.20682526 0.21072388 0.3980236 ]\n",
      " [0.35360527 0.1782608  0.13969994 ... 0.32837105 0.4508705  0.54963684]\n",
      " [0.18993282 0.15176678 0.07938385 ... 0.33158493 0.406991   0.38839436]]\n"
     ]
    },
    {
     "data": {
      "text/html": [
       "<pre style=\"white-space:pre;overflow-x:auto;line-height:normal;font-family:Menlo,'DejaVu Sans Mono',consolas,'Courier New',monospace\">param<span style=\"font-weight: bold\">[</span><span style=\"color: #008000; text-decoration-color: #008000\">'nsteps'</span><span style=\"font-weight: bold\">]</span>=<span style=\"color: #008080; text-decoration-color: #008080; font-weight: bold\">32</span> param<span style=\"font-weight: bold\">[</span><span style=\"color: #008000; text-decoration-color: #008000\">'aexp'</span><span style=\"font-weight: bold\">]</span>=<span style=\"color: #008080; text-decoration-color: #008080; font-weight: bold\">0.21999999996869113</span> z = <span style=\"color: #008080; text-decoration-color: #008080; font-weight: bold\">3.545454546101423</span>                                         \n",
       "</pre>\n"
      ],
      "text/plain": [
       "param\u001b[1m[\u001b[0m\u001b[32m'nsteps'\u001b[0m\u001b[1m]\u001b[0m=\u001b[1;36m32\u001b[0m param\u001b[1m[\u001b[0m\u001b[32m'aexp'\u001b[0m\u001b[1m]\u001b[0m=\u001b[1;36m0.21999999996869113\u001b[0m z = \u001b[1;36m3.545454546101423\u001b[0m                                         \n"
      ]
     },
     "metadata": {},
     "output_type": "display_data"
    },
    {
     "name": "stdout",
     "output_type": "stream",
     "text": [
      "Step: 33 [0.00174546 0.00163389 0.00816455] [-0.00430088 -0.00385572  0.00047074] [[0.34757233 0.37717247 0.1420517  ... 0.44696617 0.41754913 0.36066055]\n",
      " [0.55856895 0.5764122  0.1442051  ... 0.5263519  0.5436821  0.4336872 ]\n",
      " [0.703619   0.6799965  0.15010834 ... 0.5780029  0.7019539  0.58047676]\n",
      " ...\n",
      " [0.55269814 0.3836956  0.3899479  ... 0.30231857 0.28207397 0.51745987]\n",
      " [0.48376274 0.25951004 0.19651604 ... 0.43359566 0.5763016  0.71652985]\n",
      " [0.2786026  0.2566681  0.14849472 ... 0.36966324 0.46886063 0.48651695]]\n"
     ]
    },
    {
     "data": {
      "text/html": [
       "<pre style=\"white-space:pre;overflow-x:auto;line-height:normal;font-family:Menlo,'DejaVu Sans Mono',consolas,'Courier New',monospace\">param<span style=\"font-weight: bold\">[</span><span style=\"color: #008000; text-decoration-color: #008000\">'nsteps'</span><span style=\"font-weight: bold\">]</span>=<span style=\"color: #008080; text-decoration-color: #008080; font-weight: bold\">33</span> param<span style=\"font-weight: bold\">[</span><span style=\"color: #008000; text-decoration-color: #008000\">'aexp'</span><span style=\"font-weight: bold\">]</span>=<span style=\"color: #008080; text-decoration-color: #008080; font-weight: bold\">0.24199999989765836</span> z = <span style=\"color: #008080; text-decoration-color: #008080; font-weight: bold\">3.132231406706196</span>                                         \n",
       "</pre>\n"
      ],
      "text/plain": [
       "param\u001b[1m[\u001b[0m\u001b[32m'nsteps'\u001b[0m\u001b[1m]\u001b[0m=\u001b[1;36m33\u001b[0m param\u001b[1m[\u001b[0m\u001b[32m'aexp'\u001b[0m\u001b[1m]\u001b[0m=\u001b[1;36m0.24199999989765836\u001b[0m z = \u001b[1;36m3.132231406706196\u001b[0m                                         \n"
      ]
     },
     "metadata": {},
     "output_type": "display_data"
    },
    {
     "name": "stdout",
     "output_type": "stream",
     "text": [
      "Step: 34 [0.00145434 0.00137335 0.0081967 ] [-0.00458986 -0.00410106  0.00051193] [[0.37370872 0.42162323 0.16156578 ... 0.4568653  0.42873764 0.37309837]\n",
      " [0.606411   0.63482285 0.14469719 ... 0.5330677  0.56321335 0.45944595]\n",
      " [0.75294304 0.7329445  0.14778519 ... 0.57208824 0.71549225 0.6035366 ]\n",
      " ...\n",
      " [0.6089115  0.41236877 0.4168396  ... 0.34254837 0.31490707 0.5705261 ]\n",
      " [0.5404339  0.2943039  0.21922874 ... 0.4696083  0.62031746 0.7804432 ]\n",
      " [0.32081032 0.30497932 0.17904282 ... 0.3727665  0.48418236 0.5238991 ]]\n"
     ]
    },
    {
     "data": {
      "text/html": [
       "<pre style=\"white-space:pre;overflow-x:auto;line-height:normal;font-family:Menlo,'DejaVu Sans Mono',consolas,'Courier New',monospace\">Snapshot written at <span style=\"color: #808000; text-decoration-color: #808000\">...</span><span style=\"color: #808000; text-decoration-color: #808000\">filename</span>=<span style=\"color: #008000; text-decoration-color: #008000\">'./smalln//output_00018/particles_eft_multigrid_ncoarse6.h5'</span> param<span style=\"font-weight: bold\">[</span><span style=\"color: #008000; text-decoration-color: #008000\">'aexp'</span><span style=\"font-weight: bold\">]</span>=<span style=\"color: #008080; text-decoration-color: #008080; font-weight: bold\">0.25</span>    \n",
       "</pre>\n"
      ],
      "text/plain": [
       "Snapshot written at \u001b[33m...\u001b[0m\u001b[33mfilename\u001b[0m=\u001b[32m'./smalln//output_00018/particles_eft_multigrid_ncoarse6.h5'\u001b[0m param\u001b[1m[\u001b[0m\u001b[32m'aexp'\u001b[0m\u001b[1m]\u001b[0m=\u001b[1;36m0.25\u001b[0m    \n"
      ]
     },
     "metadata": {},
     "output_type": "display_data"
    },
    {
     "data": {
      "text/html": [
       "<pre style=\"white-space:pre;overflow-x:auto;line-height:normal;font-family:Menlo,'DejaVu Sans Mono',consolas,'Courier New',monospace\">param<span style=\"font-weight: bold\">[</span><span style=\"color: #008000; text-decoration-color: #008000\">'nsteps'</span><span style=\"font-weight: bold\">]</span>=<span style=\"color: #008080; text-decoration-color: #008080; font-weight: bold\">34</span> param<span style=\"font-weight: bold\">[</span><span style=\"color: #008000; text-decoration-color: #008000\">'aexp'</span><span style=\"font-weight: bold\">]</span>=<span style=\"color: #008080; text-decoration-color: #008080; font-weight: bold\">0.25</span> z = <span style=\"color: #008080; text-decoration-color: #008080; font-weight: bold\">3.0</span>                                                                      \n",
       "</pre>\n"
      ],
      "text/plain": [
       "param\u001b[1m[\u001b[0m\u001b[32m'nsteps'\u001b[0m\u001b[1m]\u001b[0m=\u001b[1;36m34\u001b[0m param\u001b[1m[\u001b[0m\u001b[32m'aexp'\u001b[0m\u001b[1m]\u001b[0m=\u001b[1;36m0.25\u001b[0m z = \u001b[1;36m3.0\u001b[0m                                                                      \n"
      ]
     },
     "metadata": {},
     "output_type": "display_data"
    },
    {
     "name": "stdout",
     "output_type": "stream",
     "text": [
      "Step: 35 [0.00052033 0.00054231 0.00830346] [-0.00556744 -0.0049342   0.00065788] [[0.45863342 0.58586884 0.22579765 ... 0.44039536 0.43037605 0.38838196]\n",
      " [0.7678776  0.82709885 0.13957977 ... 0.501915   0.58742714 0.5221443 ]\n",
      " [0.91176414 0.90483665 0.12626839 ... 0.4953804  0.6991253  0.63850784]\n",
      " ...\n",
      " [0.8369694  0.5327759  0.5185528  ... 0.45902252 0.41374207 0.74931335]\n",
      " [0.75170517 0.4345169  0.30005455 ... 0.55592346 0.7257271  0.9700794 ]\n",
      " [0.4911518  0.49824333 0.28484344 ... 0.34619904 0.5002003  0.63694763]]\n"
     ]
    },
    {
     "data": {
      "text/html": [
       "<pre style=\"white-space:pre;overflow-x:auto;line-height:normal;font-family:Menlo,'DejaVu Sans Mono',consolas,'Courier New',monospace\">param<span style=\"font-weight: bold\">[</span><span style=\"color: #008000; text-decoration-color: #008000\">'nsteps'</span><span style=\"font-weight: bold\">]</span>=<span style=\"color: #008080; text-decoration-color: #008080; font-weight: bold\">35</span> param<span style=\"font-weight: bold\">[</span><span style=\"color: #008000; text-decoration-color: #008000\">'aexp'</span><span style=\"font-weight: bold\">]</span>=<span style=\"color: #008080; text-decoration-color: #008080; font-weight: bold\">0.27499999986292756</span> z = <span style=\"color: #008080; text-decoration-color: #008080; font-weight: bold\">2.6363636381761646</span>                                        \n",
       "</pre>\n"
      ],
      "text/plain": [
       "param\u001b[1m[\u001b[0m\u001b[32m'nsteps'\u001b[0m\u001b[1m]\u001b[0m=\u001b[1;36m35\u001b[0m param\u001b[1m[\u001b[0m\u001b[32m'aexp'\u001b[0m\u001b[1m]\u001b[0m=\u001b[1;36m0.27499999986292756\u001b[0m z = \u001b[1;36m2.6363636381761646\u001b[0m                                        \n"
      ]
     },
     "metadata": {},
     "output_type": "display_data"
    },
    {
     "name": "stdout",
     "output_type": "stream",
     "text": [
      "Step: 36 [0.9994391  0.99958706 0.0084345 ] [-0.00676605 -0.00596337  0.00084794] [[0.5450306  0.8302574  0.2963524  ... 0.34074402 0.36351776 0.34660912]\n",
      " [0.95334244 1.061758   0.12127113 ... 0.41304207 0.54479027 0.54216003]\n",
      " [1.0865517  1.115181   0.07122421 ... 0.3625698  0.6017399  0.608469  ]\n",
      " ...\n",
      " [1.1521454  0.7404442  0.6836815  ... 0.53320503 0.48457336 0.91744614]\n",
      " [1.0110168  0.6687279  0.4192772  ... 0.58491516 0.76976585 1.110836  ]\n",
      " [0.7173519  0.803154   0.41358185 ... 0.25653648 0.45687294 0.7194042 ]]\n"
     ]
    },
    {
     "data": {
      "text/html": [
       "<pre style=\"white-space:pre;overflow-x:auto;line-height:normal;font-family:Menlo,'DejaVu Sans Mono',consolas,'Courier New',monospace\">param<span style=\"font-weight: bold\">[</span><span style=\"color: #008000; text-decoration-color: #008000\">'nsteps'</span><span style=\"font-weight: bold\">]</span>=<span style=\"color: #008080; text-decoration-color: #008080; font-weight: bold\">36</span> param<span style=\"font-weight: bold\">[</span><span style=\"color: #008000; text-decoration-color: #008000\">'aexp'</span><span style=\"font-weight: bold\">]</span>=<span style=\"color: #008080; text-decoration-color: #008080; font-weight: bold\">0.30249999937366523</span> z = <span style=\"color: #008080; text-decoration-color: #008080; font-weight: bold\">2.3057851308116635</span>                                        \n",
       "</pre>\n"
      ],
      "text/plain": [
       "param\u001b[1m[\u001b[0m\u001b[32m'nsteps'\u001b[0m\u001b[1m]\u001b[0m=\u001b[1;36m36\u001b[0m param\u001b[1m[\u001b[0m\u001b[32m'aexp'\u001b[0m\u001b[1m]\u001b[0m=\u001b[1;36m0.30249999937366523\u001b[0m z = \u001b[1;36m2.3057851308116635\u001b[0m                                        \n"
      ]
     },
     "metadata": {},
     "output_type": "display_data"
    },
    {
     "name": "stdout",
     "output_type": "stream",
     "text": [
      "Step: 37 [0.99818534 0.99848413 0.00859569] [-0.00823565 -0.00723668  0.00109203] [[ 0.62474823  1.1858978   0.3754425  ...  0.13783264  0.19992065\n",
      "   0.23313522]\n",
      " [ 1.1193771   1.3378105   0.0982933  ...  0.26047134  0.43214035\n",
      "   0.50320435]\n",
      " [ 1.2476921   1.372551   -0.02285004 ...  0.17794418  0.4289589\n",
      "   0.516716  ]\n",
      " ...\n",
      " [ 1.4920044   1.0577164   0.94734955 ...  0.4918518   0.46117783\n",
      "   1.0087814 ]\n",
      " [ 1.2760048   1.0528183   0.62171555 ...  0.501297    0.66853714\n",
      "   1.1264725 ]\n",
      " [ 0.9731064   1.2662354   0.57927704 ...  0.09653473  0.31698608\n",
      "   0.72764206]]\n"
     ]
    },
    {
     "data": {
      "text/html": [
       "<pre style=\"white-space:pre;overflow-x:auto;line-height:normal;font-family:Menlo,'DejaVu Sans Mono',consolas,'Courier New',monospace\">param<span style=\"font-weight: bold\">[</span><span style=\"color: #008000; text-decoration-color: #008000\">'nsteps'</span><span style=\"font-weight: bold\">]</span>=<span style=\"color: #008080; text-decoration-color: #008080; font-weight: bold\">37</span> param<span style=\"font-weight: bold\">[</span><span style=\"color: #008000; text-decoration-color: #008000\">'aexp'</span><span style=\"font-weight: bold\">]</span>=<span style=\"color: #008080; text-decoration-color: #008080; font-weight: bold\">0.33274999856188375</span> z = <span style=\"color: #008080; text-decoration-color: #008080; font-weight: bold\">2.0052592165947773</span>                                        \n",
       "</pre>\n"
      ],
      "text/plain": [
       "param\u001b[1m[\u001b[0m\u001b[32m'nsteps'\u001b[0m\u001b[1m]\u001b[0m=\u001b[1;36m37\u001b[0m param\u001b[1m[\u001b[0m\u001b[32m'aexp'\u001b[0m\u001b[1m]\u001b[0m=\u001b[1;36m0.33274999856188375\u001b[0m z = \u001b[1;36m2.0052592165947773\u001b[0m                                        \n"
      ]
     },
     "metadata": {},
     "output_type": "display_data"
    },
    {
     "name": "stdout",
     "output_type": "stream",
     "text": [
      "Step: 38 [0.9981603  0.99846214 0.00859901] [-0.00826537 -0.00726254  0.00109705] [[ 0.62592316  1.1936073   0.37704468 ...  0.13215256  0.1953392\n",
      "   0.23022842]\n",
      " [ 1.1219292   1.3433876   0.09785843 ...  0.2557869   0.42850113\n",
      "   0.5017433 ]\n",
      " [ 1.2504349   1.377964   -0.02501297 ...  0.1733284   0.42416382\n",
      "   0.5143585 ]\n",
      " ...\n",
      " [ 1.4981766   1.064682    0.95282364 ...  0.48934937  0.45907974\n",
      "   1.0091171 ]\n",
      " [ 1.2805939   1.0615005   0.6267891  ...  0.49799347  0.6645012\n",
      "   1.1245766 ]\n",
      " [ 0.9777603   1.2762604   0.58273697 ...  0.09223557  0.31298828\n",
      "   0.7265854 ]]\n"
     ]
    },
    {
     "data": {
      "text/html": [
       "<pre style=\"white-space:pre;overflow-x:auto;line-height:normal;font-family:Menlo,'DejaVu Sans Mono',consolas,'Courier New',monospace\">Snapshot written at <span style=\"color: #808000; text-decoration-color: #808000\">...</span><span style=\"color: #808000; text-decoration-color: #808000\">filename</span>=<span style=\"color: #008000; text-decoration-color: #008000\">'./smalln//output_00019/particles_eft_multigrid_ncoarse6.h5'</span>                       \n",
       "param<span style=\"font-weight: bold\">[</span><span style=\"color: #008000; text-decoration-color: #008000\">'aexp'</span><span style=\"font-weight: bold\">]</span>=<span style=\"color: #008080; text-decoration-color: #008080; font-weight: bold\">0.3333333333333333</span>                                                                                   \n",
       "</pre>\n"
      ],
      "text/plain": [
       "Snapshot written at \u001b[33m...\u001b[0m\u001b[33mfilename\u001b[0m=\u001b[32m'./smalln//output_00019/particles_eft_multigrid_ncoarse6.h5'\u001b[0m                       \n",
       "param\u001b[1m[\u001b[0m\u001b[32m'aexp'\u001b[0m\u001b[1m]\u001b[0m=\u001b[1;36m0.3333333333333333\u001b[0m                                                                                   \n"
      ]
     },
     "metadata": {},
     "output_type": "display_data"
    },
    {
     "data": {
      "text/html": [
       "<pre style=\"white-space:pre;overflow-x:auto;line-height:normal;font-family:Menlo,'DejaVu Sans Mono',consolas,'Courier New',monospace\">param<span style=\"font-weight: bold\">[</span><span style=\"color: #008000; text-decoration-color: #008000\">'nsteps'</span><span style=\"font-weight: bold\">]</span>=<span style=\"color: #008080; text-decoration-color: #008080; font-weight: bold\">38</span> param<span style=\"font-weight: bold\">[</span><span style=\"color: #008000; text-decoration-color: #008000\">'aexp'</span><span style=\"font-weight: bold\">]</span>=<span style=\"color: #008080; text-decoration-color: #008080; font-weight: bold\">0.3333333333333333</span> z = <span style=\"color: #008080; text-decoration-color: #008080; font-weight: bold\">2.0</span>                                                        \n",
       "</pre>\n"
      ],
      "text/plain": [
       "param\u001b[1m[\u001b[0m\u001b[32m'nsteps'\u001b[0m\u001b[1m]\u001b[0m=\u001b[1;36m38\u001b[0m param\u001b[1m[\u001b[0m\u001b[32m'aexp'\u001b[0m\u001b[1m]\u001b[0m=\u001b[1;36m0.3333333333333333\u001b[0m z = \u001b[1;36m2.0\u001b[0m                                                        \n"
      ]
     },
     "metadata": {},
     "output_type": "display_data"
    },
    {
     "name": "stdout",
     "output_type": "stream",
     "text": [
      "Step: 39 [0.9967003  0.99718034 0.00879741] [-0.01007668 -0.00884361  0.00140509] [[ 0.6828499   1.6912384   0.47520447 ... -0.24318314 -0.12635803\n",
      "   0.01041412]\n",
      " [ 1.2238693   1.6731949   0.07754517 ... -0.06142426  0.13877869\n",
      "   0.3512268 ]\n",
      " [ 1.3716011   1.6912651  -0.16617584 ... -0.12370682  0.08415985\n",
      "   0.28536606]\n",
      " ...\n",
      " [ 1.7336006   1.5251465   1.3072433  ...  0.24549484  0.22184753\n",
      "   0.84778595]\n",
      " [ 1.4625397   1.6395264   1.0059319  ...  0.20698547  0.32671738\n",
      "   0.8673248 ]\n",
      " [ 1.2086868   1.9208183   0.807354   ... -0.2009201   0.01583481\n",
      "   0.564518  ]]\n"
     ]
    },
    {
     "data": {
      "text/html": [
       "<pre style=\"white-space:pre;overflow-x:auto;line-height:normal;font-family:Menlo,'DejaVu Sans Mono',consolas,'Courier New',monospace\">param<span style=\"font-weight: bold\">[</span><span style=\"color: #008000; text-decoration-color: #008000\">'nsteps'</span><span style=\"font-weight: bold\">]</span>=<span style=\"color: #008080; text-decoration-color: #008080; font-weight: bold\">39</span> param<span style=\"font-weight: bold\">[</span><span style=\"color: #008000; text-decoration-color: #008000\">'aexp'</span><span style=\"font-weight: bold\">]</span>=<span style=\"color: #008080; text-decoration-color: #008080; font-weight: bold\">0.366666665251145</span> z = <span style=\"color: #008080; text-decoration-color: #008080; font-weight: bold\">1.727272737801401</span>                                           \n",
       "</pre>\n"
      ],
      "text/plain": [
       "param\u001b[1m[\u001b[0m\u001b[32m'nsteps'\u001b[0m\u001b[1m]\u001b[0m=\u001b[1;36m39\u001b[0m param\u001b[1m[\u001b[0m\u001b[32m'aexp'\u001b[0m\u001b[1m]\u001b[0m=\u001b[1;36m0.366666665251145\u001b[0m z = \u001b[1;36m1.727272737801401\u001b[0m                                           \n"
      ]
     },
     "metadata": {},
     "output_type": "display_data"
    },
    {
     "name": "stdout",
     "output_type": "stream",
     "text": [
      "Step: 40 [0.9950019  0.99569017 0.00903894] [-0.0123102  -0.01079757  0.00178412] [[ 0.6847725   2.3338356   0.5825691  ... -0.63936234 -0.5106964\n",
      "  -0.31209946]\n",
      " [ 1.180027    2.0239983   0.06049347 ... -0.40076447 -0.23707962\n",
      "   0.05612183]\n",
      " [ 1.3816681   2.010872   -0.3477173  ... -0.41373825 -0.29074478\n",
      "  -0.06777191]\n",
      " ...\n",
      " [ 1.5596046   2.065178    1.8524055  ... -0.1907959  -0.24798203\n",
      "   0.3155594 ]\n",
      " [ 1.3220024   2.4019775   1.6344872  ... -0.27565384 -0.19831848\n",
      "   0.2951889 ]\n",
      " [ 1.3001251   2.7434464   1.1543503  ... -0.52531815 -0.36754608\n",
      "   0.19415665]]\n"
     ]
    },
    {
     "data": {
      "text/html": [
       "<pre style=\"white-space:pre;overflow-x:auto;line-height:normal;font-family:Menlo,'DejaVu Sans Mono',consolas,'Courier New',monospace\">param<span style=\"font-weight: bold\">[</span><span style=\"color: #008000; text-decoration-color: #008000\">'nsteps'</span><span style=\"font-weight: bold\">]</span>=<span style=\"color: #008080; text-decoration-color: #008080; font-weight: bold\">40</span> param<span style=\"font-weight: bold\">[</span><span style=\"color: #008000; text-decoration-color: #008000\">'aexp'</span><span style=\"font-weight: bold\">]</span>=<span style=\"color: #008080; text-decoration-color: #008080; font-weight: bold\">0.4033333321886691</span> z = <span style=\"color: #008080; text-decoration-color: #008080; font-weight: bold\">1.479338850011596</span>                                          \n",
       "</pre>\n"
      ],
      "text/plain": [
       "param\u001b[1m[\u001b[0m\u001b[32m'nsteps'\u001b[0m\u001b[1m]\u001b[0m=\u001b[1;36m40\u001b[0m param\u001b[1m[\u001b[0m\u001b[32m'aexp'\u001b[0m\u001b[1m]\u001b[0m=\u001b[1;36m0.4033333321886691\u001b[0m z = \u001b[1;36m1.479338850011596\u001b[0m                                          \n"
      ]
     },
     "metadata": {},
     "output_type": "display_data"
    },
    {
     "name": "stdout",
     "output_type": "stream",
     "text": [
      "Step: 41 [0.9930216  0.99395365 0.00933014] [-0.01507723 -0.0132106   0.00224834] [[ 0.5677185   3.0694199   0.68746185 ... -0.98911667 -0.87602234\n",
      "  -0.6747513 ]\n",
      " [ 0.92562103  2.3466034   0.0721283  ... -0.7261429  -0.62615967\n",
      "  -0.3393097 ]\n",
      " [ 1.2111511   2.2509155  -0.5235748  ... -0.6903305  -0.6497345\n",
      "  -0.47777557]\n",
      " ...\n",
      " [ 1.0526352   2.5491486   2.5268936  ... -0.5281906  -0.70041656\n",
      "  -0.36837006]\n",
      " [ 0.69132996  3.1450424   2.5781403  ... -0.87415314 -0.8038864\n",
      "  -0.46938324]\n",
      " [ 1.0795822   3.5895157   1.7483826  ... -0.8121109  -0.7440567\n",
      "  -0.2970047 ]]\n"
     ]
    },
    {
     "data": {
      "text/html": [
       "<pre style=\"white-space:pre;overflow-x:auto;line-height:normal;font-family:Menlo,'DejaVu Sans Mono',consolas,'Courier New',monospace\">param<span style=\"font-weight: bold\">[</span><span style=\"color: #008000; text-decoration-color: #008000\">'nsteps'</span><span style=\"font-weight: bold\">]</span>=<span style=\"color: #008080; text-decoration-color: #008080; font-weight: bold\">41</span> param<span style=\"font-weight: bold\">[</span><span style=\"color: #008000; text-decoration-color: #008000\">'aexp'</span><span style=\"font-weight: bold\">]</span>=<span style=\"color: #008080; text-decoration-color: #008080; font-weight: bold\">0.44366666725922005</span> z = <span style=\"color: #008080; text-decoration-color: #008080; font-weight: bold\">1.2539443996944049</span>                                        \n",
       "</pre>\n"
      ],
      "text/plain": [
       "param\u001b[1m[\u001b[0m\u001b[32m'nsteps'\u001b[0m\u001b[1m]\u001b[0m=\u001b[1;36m41\u001b[0m param\u001b[1m[\u001b[0m\u001b[32m'aexp'\u001b[0m\u001b[1m]\u001b[0m=\u001b[1;36m0.44366666725922005\u001b[0m z = \u001b[1;36m1.2539443996944049\u001b[0m                                        \n"
      ]
     },
     "metadata": {},
     "output_type": "display_data"
    },
    {
     "name": "stdout",
     "output_type": "stream",
     "text": [
      "Step: 42 [0.9907063  0.99192625 0.00967913] [-0.01851147 -0.01619744  0.00283527] [[ 0.30891418  3.6317215   0.79956055 ... -1.1922989  -1.0966339\n",
      "  -1.0279617 ]\n",
      " [ 0.51937103  2.5428467   0.11776733 ... -0.8800049  -0.8508606\n",
      "  -0.7394943 ]\n",
      " [ 0.8295746   2.27816    -0.65699005 ... -0.9183655  -0.901001\n",
      "  -0.816803  ]\n",
      " ...\n",
      " [ 0.23132324  2.6730042   3.342987   ... -0.6780853  -0.902153\n",
      "  -0.9544983 ]\n",
      " [-0.2572403   3.5383987   3.8460236  ... -1.4052963  -1.3372726\n",
      "  -1.2518234 ]\n",
      " [ 0.54782104  4.114197    2.5567703  ... -0.90631866 -0.9143295\n",
      "  -0.8211212 ]]\n"
     ]
    },
    {
     "data": {
      "text/html": [
       "<pre style=\"white-space:pre;overflow-x:auto;line-height:normal;font-family:Menlo,'DejaVu Sans Mono',consolas,'Courier New',monospace\">param<span style=\"font-weight: bold\">[</span><span style=\"color: #008000; text-decoration-color: #008000\">'nsteps'</span><span style=\"font-weight: bold\">]</span>=<span style=\"color: #008080; text-decoration-color: #008080; font-weight: bold\">42</span> param<span style=\"font-weight: bold\">[</span><span style=\"color: #008000; text-decoration-color: #008000\">'aexp'</span><span style=\"font-weight: bold\">]</span>=<span style=\"color: #008080; text-decoration-color: #008080; font-weight: bold\">0.4880333332986013</span> z = <span style=\"color: #008080; text-decoration-color: #008080; font-weight: bold\">1.0490403662410368</span>                                         \n",
       "</pre>\n"
      ],
      "text/plain": [
       "param\u001b[1m[\u001b[0m\u001b[32m'nsteps'\u001b[0m\u001b[1m]\u001b[0m=\u001b[1;36m42\u001b[0m param\u001b[1m[\u001b[0m\u001b[32m'aexp'\u001b[0m\u001b[1m]\u001b[0m=\u001b[1;36m0.4880333332986013\u001b[0m z = \u001b[1;36m1.0490403662410368\u001b[0m                                         \n"
      ]
     },
     "metadata": {},
     "output_type": "display_data"
    },
    {
     "name": "stdout",
     "output_type": "stream",
     "text": [
      "Step: 43 [0.9900518  0.99135363 0.00977973] [-0.01950313 -0.01706043  0.00300947] [[ 0.19807434  3.7049713   0.84304047 ... -1.2530823  -1.159378\n",
      "  -1.119545  ]\n",
      " [ 0.3907013   2.5793533   0.13754272 ... -0.9251251  -0.9132385\n",
      "  -0.84295654]\n",
      " [ 0.69213104  2.2563782  -0.6815796  ... -0.98526764 -0.979805\n",
      "  -0.89510345]\n",
      " ...\n",
      " [-0.01542664  2.5877914   3.5704498  ... -0.72592163 -0.9472809\n",
      "  -1.0787048 ]\n",
      " [-0.50964355  3.5240784   4.168129   ... -1.5213776  -1.4550018\n",
      "  -1.4118118 ]\n",
      " [ 0.3444748   4.123314    2.789688   ... -0.93364716 -0.9481888\n",
      "  -0.9436188 ]]\n"
     ]
    },
    {
     "data": {
      "text/html": [
       "<pre style=\"white-space:pre;overflow-x:auto;line-height:normal;font-family:Menlo,'DejaVu Sans Mono',consolas,'Courier New',monospace\">Snapshot written at <span style=\"color: #808000; text-decoration-color: #808000\">...</span><span style=\"color: #808000; text-decoration-color: #808000\">filename</span>=<span style=\"color: #008000; text-decoration-color: #008000\">'./smalln//output_00020/particles_eft_multigrid_ncoarse6.h5'</span> param<span style=\"font-weight: bold\">[</span><span style=\"color: #008000; text-decoration-color: #008000\">'aexp'</span><span style=\"font-weight: bold\">]</span>=<span style=\"color: #008080; text-decoration-color: #008080; font-weight: bold\">0.5</span>     \n",
       "</pre>\n"
      ],
      "text/plain": [
       "Snapshot written at \u001b[33m...\u001b[0m\u001b[33mfilename\u001b[0m=\u001b[32m'./smalln//output_00020/particles_eft_multigrid_ncoarse6.h5'\u001b[0m param\u001b[1m[\u001b[0m\u001b[32m'aexp'\u001b[0m\u001b[1m]\u001b[0m=\u001b[1;36m0.5\u001b[0m     \n"
      ]
     },
     "metadata": {},
     "output_type": "display_data"
    },
    {
     "data": {
      "text/html": [
       "<pre style=\"white-space:pre;overflow-x:auto;line-height:normal;font-family:Menlo,'DejaVu Sans Mono',consolas,'Courier New',monospace\">param<span style=\"font-weight: bold\">[</span><span style=\"color: #008000; text-decoration-color: #008000\">'nsteps'</span><span style=\"font-weight: bold\">]</span>=<span style=\"color: #008080; text-decoration-color: #008080; font-weight: bold\">43</span> param<span style=\"font-weight: bold\">[</span><span style=\"color: #008000; text-decoration-color: #008000\">'aexp'</span><span style=\"font-weight: bold\">]</span>=<span style=\"color: #008080; text-decoration-color: #008080; font-weight: bold\">0.5</span> z = <span style=\"color: #008080; text-decoration-color: #008080; font-weight: bold\">1.0</span>                                                                       \n",
       "</pre>\n"
      ],
      "text/plain": [
       "param\u001b[1m[\u001b[0m\u001b[32m'nsteps'\u001b[0m\u001b[1m]\u001b[0m=\u001b[1;36m43\u001b[0m param\u001b[1m[\u001b[0m\u001b[32m'aexp'\u001b[0m\u001b[1m]\u001b[0m=\u001b[1;36m0.5\u001b[0m z = \u001b[1;36m1.0\u001b[0m                                                                       \n"
      ]
     },
     "metadata": {},
     "output_type": "display_data"
    },
    {
     "name": "stdout",
     "output_type": "stream",
     "text": [
      "Step: 44 [0.98933905 0.9907302  0.00989014] [-0.02060016 -0.01801751  0.00320612] [[ 0.05826569  3.7313995   0.8957672  ... -1.3228989  -1.2349167\n",
      "  -1.2174835 ]\n",
      " [ 0.24199677  2.6097412   0.15978241 ... -0.9741745  -0.9880829\n",
      "  -0.95467377]\n",
      " [ 0.5352478   2.2190323  -0.70414734 ... -1.057106   -1.075119\n",
      "  -0.9886246 ]\n",
      " ...\n",
      " [-0.27964783  2.4428864   3.8001938  ... -0.79387665 -1.0029907\n",
      "  -1.1992493 ]\n",
      " [-0.7619095   3.4627304   4.496567   ... -1.6328278  -1.5691376\n",
      "  -1.5570297 ]\n",
      " [ 0.10662079  4.0671387   3.0509567  ... -0.97193146 -0.9916229\n",
      "  -1.0635681 ]]\n"
     ]
    },
    {
     "data": {
      "text/html": [
       "<pre style=\"white-space:pre;overflow-x:auto;line-height:normal;font-family:Menlo,'DejaVu Sans Mono',consolas,'Courier New',monospace\">Snapshot written at <span style=\"color: #808000; text-decoration-color: #808000\">...</span><span style=\"color: #808000; text-decoration-color: #808000\">filename</span>=<span style=\"color: #008000; text-decoration-color: #008000\">'./smalln//output_00021/particles_eft_multigrid_ncoarse6.h5'</span>                       \n",
       "param<span style=\"font-weight: bold\">[</span><span style=\"color: #008000; text-decoration-color: #008000\">'aexp'</span><span style=\"font-weight: bold\">]</span>=<span style=\"color: #008080; text-decoration-color: #008080; font-weight: bold\">0.5128205128205129</span>                                                                                   \n",
       "</pre>\n"
      ],
      "text/plain": [
       "Snapshot written at \u001b[33m...\u001b[0m\u001b[33mfilename\u001b[0m=\u001b[32m'./smalln//output_00021/particles_eft_multigrid_ncoarse6.h5'\u001b[0m                       \n",
       "param\u001b[1m[\u001b[0m\u001b[32m'aexp'\u001b[0m\u001b[1m]\u001b[0m=\u001b[1;36m0.5128205128205129\u001b[0m                                                                                   \n"
      ]
     },
     "metadata": {},
     "output_type": "display_data"
    },
    {
     "data": {
      "text/html": [
       "<pre style=\"white-space:pre;overflow-x:auto;line-height:normal;font-family:Menlo,'DejaVu Sans Mono',consolas,'Courier New',monospace\">param<span style=\"font-weight: bold\">[</span><span style=\"color: #008000; text-decoration-color: #008000\">'nsteps'</span><span style=\"font-weight: bold\">]</span>=<span style=\"color: #008080; text-decoration-color: #008080; font-weight: bold\">44</span> param<span style=\"font-weight: bold\">[</span><span style=\"color: #008000; text-decoration-color: #008000\">'aexp'</span><span style=\"font-weight: bold\">]</span>=<span style=\"color: #008080; text-decoration-color: #008080; font-weight: bold\">0.5128205128205129</span> z = <span style=\"color: #008080; text-decoration-color: #008080; font-weight: bold\">0.9499999999999997</span>                                         \n",
       "</pre>\n"
      ],
      "text/plain": [
       "param\u001b[1m[\u001b[0m\u001b[32m'nsteps'\u001b[0m\u001b[1m]\u001b[0m=\u001b[1;36m44\u001b[0m param\u001b[1m[\u001b[0m\u001b[32m'aexp'\u001b[0m\u001b[1m]\u001b[0m=\u001b[1;36m0.5128205128205129\u001b[0m z = \u001b[1;36m0.9499999999999997\u001b[0m                                         \n"
      ]
     },
     "metadata": {},
     "output_type": "display_data"
    },
    {
     "name": "stdout",
     "output_type": "stream",
     "text": [
      "Step: 45 [0.98857594 0.9900628  0.01000944] [-0.02179361 -0.01906325  0.00342424] [[-0.10884857  3.6913834   0.95480347 ... -1.3989182  -1.3222427\n",
      "  -1.3205414 ]\n",
      " [ 0.07242584  2.623352    0.18505096 ... -1.0268021  -1.0730286\n",
      "  -1.0729675 ]\n",
      " [ 0.370636    2.1661606  -0.71907043 ... -1.1328812  -1.1867828\n",
      "  -1.0966187 ]\n",
      " ...\n",
      " [-0.55171967  2.2255325   4.009163   ... -0.8925781  -1.0815125\n",
      "  -1.3125916 ]\n",
      " [-0.9988861   3.3554306   4.8259964  ... -1.7389526  -1.6811066\n",
      "  -1.684021  ]\n",
      " [-0.14389801  3.9518967   3.3205109  ... -1.0162354  -1.0476532\n",
      "  -1.178894  ]]\n"
     ]
    },
    {
     "data": {
      "text/html": [
       "<pre style=\"white-space:pre;overflow-x:auto;line-height:normal;font-family:Menlo,'DejaVu Sans Mono',consolas,'Courier New',monospace\">Snapshot written at <span style=\"color: #808000; text-decoration-color: #808000\">...</span><span style=\"color: #808000; text-decoration-color: #808000\">filename</span>=<span style=\"color: #008000; text-decoration-color: #008000\">'./smalln//output_00022/particles_eft_multigrid_ncoarse6.h5'</span>                       \n",
       "param<span style=\"font-weight: bold\">[</span><span style=\"color: #008000; text-decoration-color: #008000\">'aexp'</span><span style=\"font-weight: bold\">]</span>=<span style=\"color: #008080; text-decoration-color: #008080; font-weight: bold\">0.5263157894736842</span>                                                                                   \n",
       "</pre>\n"
      ],
      "text/plain": [
       "Snapshot written at \u001b[33m...\u001b[0m\u001b[33mfilename\u001b[0m=\u001b[32m'./smalln//output_00022/particles_eft_multigrid_ncoarse6.h5'\u001b[0m                       \n",
       "param\u001b[1m[\u001b[0m\u001b[32m'aexp'\u001b[0m\u001b[1m]\u001b[0m=\u001b[1;36m0.5263157894736842\u001b[0m                                                                                   \n"
      ]
     },
     "metadata": {},
     "output_type": "display_data"
    },
    {
     "data": {
      "text/html": [
       "<pre style=\"white-space:pre;overflow-x:auto;line-height:normal;font-family:Menlo,'DejaVu Sans Mono',consolas,'Courier New',monospace\">param<span style=\"font-weight: bold\">[</span><span style=\"color: #008000; text-decoration-color: #008000\">'nsteps'</span><span style=\"font-weight: bold\">]</span>=<span style=\"color: #008080; text-decoration-color: #008080; font-weight: bold\">45</span> param<span style=\"font-weight: bold\">[</span><span style=\"color: #008000; text-decoration-color: #008000\">'aexp'</span><span style=\"font-weight: bold\">]</span>=<span style=\"color: #008080; text-decoration-color: #008080; font-weight: bold\">0.5263157894736842</span> z = <span style=\"color: #008080; text-decoration-color: #008080; font-weight: bold\">0.9000000000000001</span>                                         \n",
       "</pre>\n"
      ],
      "text/plain": [
       "param\u001b[1m[\u001b[0m\u001b[32m'nsteps'\u001b[0m\u001b[1m]\u001b[0m=\u001b[1;36m45\u001b[0m param\u001b[1m[\u001b[0m\u001b[32m'aexp'\u001b[0m\u001b[1m]\u001b[0m=\u001b[1;36m0.5263157894736842\u001b[0m z = \u001b[1;36m0.9000000000000001\u001b[0m                                         \n"
      ]
     },
     "metadata": {},
     "output_type": "display_data"
    },
    {
     "name": "stdout",
     "output_type": "stream",
     "text": [
      "Step: 46 [0.98775727 0.98934656 0.01013869] [-0.02309421 -0.02021063  0.00366567] [[-0.29885864  3.5807571   1.0280609  ... -1.4812927  -1.4191666\n",
      "  -1.428009  ]\n",
      " [-0.11573792  2.6146317   0.20991516 ... -1.0836105  -1.1650391\n",
      "  -1.1985397 ]\n",
      " [ 0.19477844  2.102478   -0.7206726  ... -1.2130432  -1.3106995\n",
      "  -1.215622  ]\n",
      " ...\n",
      " [-0.8317261   1.9203644   4.1601105  ... -1.0236053  -1.1883926\n",
      "  -1.4204483 ]\n",
      " [-1.2187729   3.1948624   5.139038   ... -1.8377151  -1.7888184\n",
      "  -1.7948685 ]\n",
      " [-0.39759064  3.7549973   3.557602   ... -1.0668488  -1.1143875\n",
      "  -1.2860565 ]]\n"
     ]
    },
    {
     "data": {
      "text/html": [
       "<pre style=\"white-space:pre;overflow-x:auto;line-height:normal;font-family:Menlo,'DejaVu Sans Mono',consolas,'Courier New',monospace\">Snapshot written at <span style=\"color: #808000; text-decoration-color: #808000\">...</span><span style=\"color: #808000; text-decoration-color: #808000\">filename</span>=<span style=\"color: #008000; text-decoration-color: #008000\">'./smalln//output_00023/particles_eft_multigrid_ncoarse6.h5'</span>                       \n",
       "param<span style=\"font-weight: bold\">[</span><span style=\"color: #008000; text-decoration-color: #008000\">'aexp'</span><span style=\"font-weight: bold\">]</span>=<span style=\"color: #008080; text-decoration-color: #008080; font-weight: bold\">0.5405405405405405</span>                                                                                   \n",
       "</pre>\n"
      ],
      "text/plain": [
       "Snapshot written at \u001b[33m...\u001b[0m\u001b[33mfilename\u001b[0m=\u001b[32m'./smalln//output_00023/particles_eft_multigrid_ncoarse6.h5'\u001b[0m                       \n",
       "param\u001b[1m[\u001b[0m\u001b[32m'aexp'\u001b[0m\u001b[1m]\u001b[0m=\u001b[1;36m0.5405405405405405\u001b[0m                                                                                   \n"
      ]
     },
     "metadata": {},
     "output_type": "display_data"
    },
    {
     "data": {
      "text/html": [
       "<pre style=\"white-space:pre;overflow-x:auto;line-height:normal;font-family:Menlo,'DejaVu Sans Mono',consolas,'Courier New',monospace\">param<span style=\"font-weight: bold\">[</span><span style=\"color: #008000; text-decoration-color: #008000\">'nsteps'</span><span style=\"font-weight: bold\">]</span>=<span style=\"color: #008080; text-decoration-color: #008080; font-weight: bold\">46</span> param<span style=\"font-weight: bold\">[</span><span style=\"color: #008000; text-decoration-color: #008000\">'aexp'</span><span style=\"font-weight: bold\">]</span>=<span style=\"color: #008080; text-decoration-color: #008080; font-weight: bold\">0.5405405405405405</span> z = <span style=\"color: #008080; text-decoration-color: #008080; font-weight: bold\">0.8500000000000003</span>                                         \n",
       "</pre>\n"
      ],
      "text/plain": [
       "param\u001b[1m[\u001b[0m\u001b[32m'nsteps'\u001b[0m\u001b[1m]\u001b[0m=\u001b[1;36m46\u001b[0m param\u001b[1m[\u001b[0m\u001b[32m'aexp'\u001b[0m\u001b[1m]\u001b[0m=\u001b[1;36m0.5405405405405405\u001b[0m z = \u001b[1;36m0.8500000000000003\u001b[0m                                         \n"
      ]
     },
     "metadata": {},
     "output_type": "display_data"
    },
    {
     "name": "stdout",
     "output_type": "stream",
     "text": [
      "Step: 47 [0.9868772  0.9885761  0.01027909] [-0.02451365 -0.0214751   0.0039316 ] [[-0.5128403   3.3980026   1.1268158  ... -1.5712128  -1.5266647\n",
      "  -1.5412903 ]\n",
      " [-0.320961    2.5775604   0.23323822 ... -1.1480331  -1.2658997\n",
      "  -1.3302841 ]\n",
      " [-0.01431274  2.008232   -0.7026596  ... -1.2985992  -1.451355\n",
      "  -1.3460617 ]\n",
      " ...\n",
      " [-1.1184845   1.5440063   4.2615128  ... -1.1861572  -1.3239899\n",
      "  -1.5330048 ]\n",
      " [-1.4234467   2.9751892   5.4319077  ... -1.9255753  -1.8892441\n",
      "  -1.8956451 ]\n",
      " [-0.65260315  3.479805    3.7492447  ... -1.126297   -1.1950378\n",
      "  -1.392189  ]]\n"
     ]
    },
    {
     "data": {
      "text/html": [
       "<pre style=\"white-space:pre;overflow-x:auto;line-height:normal;font-family:Menlo,'DejaVu Sans Mono',consolas,'Courier New',monospace\">Snapshot written at <span style=\"color: #808000; text-decoration-color: #808000\">...</span><span style=\"color: #808000; text-decoration-color: #808000\">filename</span>=<span style=\"color: #008000; text-decoration-color: #008000\">'./smalln//output_00024/particles_eft_multigrid_ncoarse6.h5'</span>                       \n",
       "param<span style=\"font-weight: bold\">[</span><span style=\"color: #008000; text-decoration-color: #008000\">'aexp'</span><span style=\"font-weight: bold\">]</span>=<span style=\"color: #008080; text-decoration-color: #008080; font-weight: bold\">0.5555555555555556</span>                                                                                   \n",
       "</pre>\n"
      ],
      "text/plain": [
       "Snapshot written at \u001b[33m...\u001b[0m\u001b[33mfilename\u001b[0m=\u001b[32m'./smalln//output_00024/particles_eft_multigrid_ncoarse6.h5'\u001b[0m                       \n",
       "param\u001b[1m[\u001b[0m\u001b[32m'aexp'\u001b[0m\u001b[1m]\u001b[0m=\u001b[1;36m0.5555555555555556\u001b[0m                                                                                   \n"
      ]
     },
     "metadata": {},
     "output_type": "display_data"
    },
    {
     "data": {
      "text/html": [
       "<pre style=\"white-space:pre;overflow-x:auto;line-height:normal;font-family:Menlo,'DejaVu Sans Mono',consolas,'Courier New',monospace\">param<span style=\"font-weight: bold\">[</span><span style=\"color: #008000; text-decoration-color: #008000\">'nsteps'</span><span style=\"font-weight: bold\">]</span>=<span style=\"color: #008080; text-decoration-color: #008080; font-weight: bold\">47</span> param<span style=\"font-weight: bold\">[</span><span style=\"color: #008000; text-decoration-color: #008000\">'aexp'</span><span style=\"font-weight: bold\">]</span>=<span style=\"color: #008080; text-decoration-color: #008080; font-weight: bold\">0.5555555555555556</span> z = <span style=\"color: #008080; text-decoration-color: #008080; font-weight: bold\">0.7999999999999998</span>                                         \n",
       "</pre>\n"
      ],
      "text/plain": [
       "param\u001b[1m[\u001b[0m\u001b[32m'nsteps'\u001b[0m\u001b[1m]\u001b[0m=\u001b[1;36m47\u001b[0m param\u001b[1m[\u001b[0m\u001b[32m'aexp'\u001b[0m\u001b[1m]\u001b[0m=\u001b[1;36m0.5555555555555556\u001b[0m z = \u001b[1;36m0.7999999999999998\u001b[0m                                         \n"
      ]
     },
     "metadata": {},
     "output_type": "display_data"
    },
    {
     "name": "stdout",
     "output_type": "stream",
     "text": [
      "Step: 48 [0.9859292  0.98774505 0.01043191] [-0.02606421 -0.02287475  0.00422249] [[-0.7514267   3.1390915   1.2618942  ... -1.6763229  -1.6525269\n",
      "  -1.6644516 ]\n",
      " [-0.5416336   2.5151443   0.2566681  ... -1.237175   -1.3931885\n",
      "  -1.4727783 ]\n",
      " [-0.2694931   1.8753815  -0.66545105 ... -1.3947525  -1.6118393\n",
      "  -1.4896088 ]\n",
      " ...\n",
      " [-1.3641815   1.1157684   4.318207   ... -1.3804321  -1.4890442\n",
      "  -1.6491852 ]\n",
      " [-1.6069565   2.6765976   5.692093   ... -2.0023346  -1.9820099\n",
      "  -1.9878387 ]\n",
      " [-0.9074936   3.147873    3.9188461  ... -1.2110062  -1.3046417\n",
      "  -1.5061569 ]]\n"
     ]
    },
    {
     "data": {
      "text/html": [
       "<pre style=\"white-space:pre;overflow-x:auto;line-height:normal;font-family:Menlo,'DejaVu Sans Mono',consolas,'Courier New',monospace\">Snapshot written at <span style=\"color: #808000; text-decoration-color: #808000\">...</span><span style=\"color: #808000; text-decoration-color: #808000\">filename</span>=<span style=\"color: #008000; text-decoration-color: #008000\">'./smalln//output_00025/particles_eft_multigrid_ncoarse6.h5'</span>                       \n",
       "param<span style=\"font-weight: bold\">[</span><span style=\"color: #008000; text-decoration-color: #008000\">'aexp'</span><span style=\"font-weight: bold\">]</span>=<span style=\"color: #008080; text-decoration-color: #008080; font-weight: bold\">0.5714285714285714</span>                                                                                   \n",
       "</pre>\n"
      ],
      "text/plain": [
       "Snapshot written at \u001b[33m...\u001b[0m\u001b[33mfilename\u001b[0m=\u001b[32m'./smalln//output_00025/particles_eft_multigrid_ncoarse6.h5'\u001b[0m                       \n",
       "param\u001b[1m[\u001b[0m\u001b[32m'aexp'\u001b[0m\u001b[1m]\u001b[0m=\u001b[1;36m0.5714285714285714\u001b[0m                                                                                   \n"
      ]
     },
     "metadata": {},
     "output_type": "display_data"
    },
    {
     "data": {
      "text/html": [
       "<pre style=\"white-space:pre;overflow-x:auto;line-height:normal;font-family:Menlo,'DejaVu Sans Mono',consolas,'Courier New',monospace\">param<span style=\"font-weight: bold\">[</span><span style=\"color: #008000; text-decoration-color: #008000\">'nsteps'</span><span style=\"font-weight: bold\">]</span>=<span style=\"color: #008080; text-decoration-color: #008080; font-weight: bold\">48</span> param<span style=\"font-weight: bold\">[</span><span style=\"color: #008000; text-decoration-color: #008000\">'aexp'</span><span style=\"font-weight: bold\">]</span>=<span style=\"color: #008080; text-decoration-color: #008080; font-weight: bold\">0.5714285714285714</span> z = <span style=\"color: #008080; text-decoration-color: #008080; font-weight: bold\">0.75</span>                                                       \n",
       "</pre>\n"
      ],
      "text/plain": [
       "param\u001b[1m[\u001b[0m\u001b[32m'nsteps'\u001b[0m\u001b[1m]\u001b[0m=\u001b[1;36m48\u001b[0m param\u001b[1m[\u001b[0m\u001b[32m'aexp'\u001b[0m\u001b[1m]\u001b[0m=\u001b[1;36m0.5714285714285714\u001b[0m z = \u001b[1;36m0.75\u001b[0m                                                       \n"
      ]
     },
     "metadata": {},
     "output_type": "display_data"
    },
    {
     "name": "stdout",
     "output_type": "stream",
     "text": [
      "Step: 49 [0.98490584 0.98684597 0.01059848] [-0.02775856 -0.02443048  0.00453815] [[-1.0161438   2.790886    1.4157333  ... -1.779335   -1.7759628\n",
      "  -1.7875061 ]\n",
      " [-0.7808151   2.4334488   0.2751999  ... -1.3164368  -1.5115585\n",
      "  -1.6082001 ]\n",
      " [-0.5698395   1.7161636  -0.60627747 ... -1.4698105  -1.7498322\n",
      "  -1.63517   ]\n",
      " ...\n",
      " [-1.5301208   0.7061157   4.3306885  ... -1.5679169  -1.6366577\n",
      "  -1.7480469 ]\n",
      " [-1.7706909   2.3108215   5.909561   ... -2.0635529  -2.0612946\n",
      "  -2.0704346 ]\n",
      " [-1.154129    2.7937012   4.0739746  ... -1.2949295  -1.4262924\n",
      "  -1.6207504 ]]\n"
     ]
    },
    {
     "data": {
      "text/html": [
       "<pre style=\"white-space:pre;overflow-x:auto;line-height:normal;font-family:Menlo,'DejaVu Sans Mono',consolas,'Courier New',monospace\">Snapshot written at <span style=\"color: #808000; text-decoration-color: #808000\">...</span><span style=\"color: #808000; text-decoration-color: #808000\">filename</span>=<span style=\"color: #008000; text-decoration-color: #008000\">'./smalln//output_00026/particles_eft_multigrid_ncoarse6.h5'</span>                       \n",
       "param<span style=\"font-weight: bold\">[</span><span style=\"color: #008000; text-decoration-color: #008000\">'aexp'</span><span style=\"font-weight: bold\">]</span>=<span style=\"color: #008080; text-decoration-color: #008080; font-weight: bold\">0.5882352941176471</span>                                                                                   \n",
       "</pre>\n"
      ],
      "text/plain": [
       "Snapshot written at \u001b[33m...\u001b[0m\u001b[33mfilename\u001b[0m=\u001b[32m'./smalln//output_00026/particles_eft_multigrid_ncoarse6.h5'\u001b[0m                       \n",
       "param\u001b[1m[\u001b[0m\u001b[32m'aexp'\u001b[0m\u001b[1m]\u001b[0m=\u001b[1;36m0.5882352941176471\u001b[0m                                                                                   \n"
      ]
     },
     "metadata": {},
     "output_type": "display_data"
    },
    {
     "data": {
      "text/html": [
       "<pre style=\"white-space:pre;overflow-x:auto;line-height:normal;font-family:Menlo,'DejaVu Sans Mono',consolas,'Courier New',monospace\">param<span style=\"font-weight: bold\">[</span><span style=\"color: #008000; text-decoration-color: #008000\">'nsteps'</span><span style=\"font-weight: bold\">]</span>=<span style=\"color: #008080; text-decoration-color: #008080; font-weight: bold\">49</span> param<span style=\"font-weight: bold\">[</span><span style=\"color: #008000; text-decoration-color: #008000\">'aexp'</span><span style=\"font-weight: bold\">]</span>=<span style=\"color: #008080; text-decoration-color: #008080; font-weight: bold\">0.5882352941176471</span> z = <span style=\"color: #008080; text-decoration-color: #008080; font-weight: bold\">0.7</span>                                                        \n",
       "</pre>\n"
      ],
      "text/plain": [
       "param\u001b[1m[\u001b[0m\u001b[32m'nsteps'\u001b[0m\u001b[1m]\u001b[0m=\u001b[1;36m49\u001b[0m param\u001b[1m[\u001b[0m\u001b[32m'aexp'\u001b[0m\u001b[1m]\u001b[0m=\u001b[1;36m0.5882352941176471\u001b[0m z = \u001b[1;36m0.7\u001b[0m                                                        \n"
      ]
     },
     "metadata": {},
     "output_type": "display_data"
    },
    {
     "name": "stdout",
     "output_type": "stream",
     "text": [
      "Step: 50 [0.983799   0.9858702  0.01078019] [-0.02961028 -0.02616663  0.00487844] [[-1.2831879   2.3663025   1.5800323  ... -1.8603668  -1.8712463\n",
      "  -1.8907623 ]\n",
      " [-1.0144043   2.3415985   0.29660034 ... -1.355835   -1.5853729\n",
      "  -1.7115707 ]\n",
      " [-0.890213    1.5527954  -0.5196228  ... -1.5023346  -1.8528137\n",
      "  -1.7640533 ]\n",
      " ...\n",
      " [-1.6196136   0.35968018  4.2851715  ... -1.7271576  -1.7475128\n",
      "  -1.8250275 ]\n",
      " [-1.914856    1.8707886   6.0509796  ... -2.1037292  -2.1232452\n",
      "  -2.1424866 ]\n",
      " [-1.3437805   2.4239502   4.1911163  ... -1.327858   -1.5077362\n",
      "  -1.6989899 ]]\n"
     ]
    },
    {
     "data": {
      "text/html": [
       "<pre style=\"white-space:pre;overflow-x:auto;line-height:normal;font-family:Menlo,'DejaVu Sans Mono',consolas,'Courier New',monospace\">Snapshot written at <span style=\"color: #808000; text-decoration-color: #808000\">...</span><span style=\"color: #808000; text-decoration-color: #808000\">filename</span>=<span style=\"color: #008000; text-decoration-color: #008000\">'./smalln//output_00027/particles_eft_multigrid_ncoarse6.h5'</span>                       \n",
       "param<span style=\"font-weight: bold\">[</span><span style=\"color: #008000; text-decoration-color: #008000\">'aexp'</span><span style=\"font-weight: bold\">]</span>=<span style=\"color: #008080; text-decoration-color: #008080; font-weight: bold\">0.6060606060606061</span>                                                                                   \n",
       "</pre>\n"
      ],
      "text/plain": [
       "Snapshot written at \u001b[33m...\u001b[0m\u001b[33mfilename\u001b[0m=\u001b[32m'./smalln//output_00027/particles_eft_multigrid_ncoarse6.h5'\u001b[0m                       \n",
       "param\u001b[1m[\u001b[0m\u001b[32m'aexp'\u001b[0m\u001b[1m]\u001b[0m=\u001b[1;36m0.6060606060606061\u001b[0m                                                                                   \n"
      ]
     },
     "metadata": {},
     "output_type": "display_data"
    },
    {
     "data": {
      "text/html": [
       "<pre style=\"white-space:pre;overflow-x:auto;line-height:normal;font-family:Menlo,'DejaVu Sans Mono',consolas,'Courier New',monospace\">param<span style=\"font-weight: bold\">[</span><span style=\"color: #008000; text-decoration-color: #008000\">'nsteps'</span><span style=\"font-weight: bold\">]</span>=<span style=\"color: #008080; text-decoration-color: #008080; font-weight: bold\">50</span> param<span style=\"font-weight: bold\">[</span><span style=\"color: #008000; text-decoration-color: #008000\">'aexp'</span><span style=\"font-weight: bold\">]</span>=<span style=\"color: #008080; text-decoration-color: #008080; font-weight: bold\">0.6060606060606061</span> z = <span style=\"color: #008080; text-decoration-color: #008080; font-weight: bold\">0.6499999999999999</span>                                         \n",
       "</pre>\n"
      ],
      "text/plain": [
       "param\u001b[1m[\u001b[0m\u001b[32m'nsteps'\u001b[0m\u001b[1m]\u001b[0m=\u001b[1;36m50\u001b[0m param\u001b[1m[\u001b[0m\u001b[32m'aexp'\u001b[0m\u001b[1m]\u001b[0m=\u001b[1;36m0.6060606060606061\u001b[0m z = \u001b[1;36m0.6499999999999999\u001b[0m                                         \n"
      ]
     },
     "metadata": {},
     "output_type": "display_data"
    },
    {
     "name": "stdout",
     "output_type": "stream",
     "text": [
      "Step: 51 [3.9428630e-04 9.9902600e-01 2.6147828e-02] [-0.04001385 -0.02651675 -0.00763026] [[-1.5257874   1.8737488   1.7619934  ... -1.9251709  -1.9338684\n",
      "  -1.9640656 ]\n",
      " [-1.2032471   2.2282867   0.32589722 ... -1.3695374  -1.607605\n",
      "  -1.766098  ]\n",
      " [-1.1688995   1.3740997  -0.41567993 ... -1.5056763  -1.9157715\n",
      "  -1.837143  ]\n",
      " ...\n",
      " [-1.6299286   0.10691833  4.222824   ... -1.8565216  -1.816452\n",
      "  -1.8746338 ]\n",
      " [-2.0472565   1.3517609   6.1141815  ... -2.1195984  -2.1634827\n",
      "  -2.2042847 ]\n",
      " [-1.4686584   2.0714264   4.28096    ... -1.302597   -1.530304\n",
      "  -1.7362366 ]]\n"
     ]
    },
    {
     "data": {
      "text/html": [
       "<pre style=\"white-space:pre;overflow-x:auto;line-height:normal;font-family:Menlo,'DejaVu Sans Mono',consolas,'Courier New',monospace\">Snapshot written at <span style=\"color: #808000; text-decoration-color: #808000\">...</span><span style=\"color: #808000; text-decoration-color: #808000\">filename</span>=<span style=\"color: #008000; text-decoration-color: #008000\">'./smalln//output_00028/particles_eft_multigrid_ncoarse6.h5'</span> param<span style=\"font-weight: bold\">[</span><span style=\"color: #008000; text-decoration-color: #008000\">'aexp'</span><span style=\"font-weight: bold\">]</span>=<span style=\"color: #008080; text-decoration-color: #008080; font-weight: bold\">0.625</span>   \n",
       "</pre>\n"
      ],
      "text/plain": [
       "Snapshot written at \u001b[33m...\u001b[0m\u001b[33mfilename\u001b[0m=\u001b[32m'./smalln//output_00028/particles_eft_multigrid_ncoarse6.h5'\u001b[0m param\u001b[1m[\u001b[0m\u001b[32m'aexp'\u001b[0m\u001b[1m]\u001b[0m=\u001b[1;36m0.625\u001b[0m   \n"
      ]
     },
     "metadata": {},
     "output_type": "display_data"
    },
    {
     "data": {
      "text/html": [
       "<pre style=\"white-space:pre;overflow-x:auto;line-height:normal;font-family:Menlo,'DejaVu Sans Mono',consolas,'Courier New',monospace\">param<span style=\"font-weight: bold\">[</span><span style=\"color: #008000; text-decoration-color: #008000\">'nsteps'</span><span style=\"font-weight: bold\">]</span>=<span style=\"color: #008080; text-decoration-color: #008080; font-weight: bold\">51</span> param<span style=\"font-weight: bold\">[</span><span style=\"color: #008000; text-decoration-color: #008000\">'aexp'</span><span style=\"font-weight: bold\">]</span>=<span style=\"color: #008080; text-decoration-color: #008080; font-weight: bold\">0.625</span> z = <span style=\"color: #008080; text-decoration-color: #008080; font-weight: bold\">0.6000000000000001</span>                                                      \n",
       "</pre>\n"
      ],
      "text/plain": [
       "param\u001b[1m[\u001b[0m\u001b[32m'nsteps'\u001b[0m\u001b[1m]\u001b[0m=\u001b[1;36m51\u001b[0m param\u001b[1m[\u001b[0m\u001b[32m'aexp'\u001b[0m\u001b[1m]\u001b[0m=\u001b[1;36m0.625\u001b[0m z = \u001b[1;36m0.6000000000000001\u001b[0m                                                      \n"
      ]
     },
     "metadata": {},
     "output_type": "display_data"
    },
    {
     "name": "stdout",
     "output_type": "stream",
     "text": [
      "Step: 52 [0.9987527  0.99793386 0.0258387 ] [-0.04247945 -0.0284003  -0.00789948] [[-1.7280731   1.3309174   1.9718933  ... -2.0021973  -1.9730835\n",
      "  -1.998291  ]\n",
      " [-1.3348236   2.088684    0.35983276 ... -1.4170685  -1.601532\n",
      "  -1.7602081 ]\n",
      " [-1.4076385   1.1473694  -0.3190918  ... -1.5364838  -1.9477081\n",
      "  -1.83638   ]\n",
      " ...\n",
      " [-1.5890198  -0.11024475  4.1669006  ... -1.9650421  -1.8549042\n",
      "  -1.8944397 ]\n",
      " [-2.161972    0.7798462   6.039154   ... -2.1132355  -2.172409\n",
      "  -2.2492828 ]\n",
      " [-1.517273    1.7628479   4.370102   ... -1.2597351  -1.4828949\n",
      "  -1.7172089 ]]\n"
     ]
    },
    {
     "data": {
      "text/html": [
       "<pre style=\"white-space:pre;overflow-x:auto;line-height:normal;font-family:Menlo,'DejaVu Sans Mono',consolas,'Courier New',monospace\">Snapshot written at <span style=\"color: #808000; text-decoration-color: #808000\">...</span><span style=\"color: #808000; text-decoration-color: #808000\">filename</span>=<span style=\"color: #008000; text-decoration-color: #008000\">'./smalln//output_00029/particles_eft_multigrid_ncoarse6.h5'</span>                       \n",
       "param<span style=\"font-weight: bold\">[</span><span style=\"color: #008000; text-decoration-color: #008000\">'aexp'</span><span style=\"font-weight: bold\">]</span>=<span style=\"color: #008080; text-decoration-color: #008080; font-weight: bold\">0.6451612903225806</span>                                                                                   \n",
       "</pre>\n"
      ],
      "text/plain": [
       "Snapshot written at \u001b[33m...\u001b[0m\u001b[33mfilename\u001b[0m=\u001b[32m'./smalln//output_00029/particles_eft_multigrid_ncoarse6.h5'\u001b[0m                       \n",
       "param\u001b[1m[\u001b[0m\u001b[32m'aexp'\u001b[0m\u001b[1m]\u001b[0m=\u001b[1;36m0.6451612903225806\u001b[0m                                                                                   \n"
      ]
     },
     "metadata": {},
     "output_type": "display_data"
    },
    {
     "data": {
      "text/html": [
       "<pre style=\"white-space:pre;overflow-x:auto;line-height:normal;font-family:Menlo,'DejaVu Sans Mono',consolas,'Courier New',monospace\">param<span style=\"font-weight: bold\">[</span><span style=\"color: #008000; text-decoration-color: #008000\">'nsteps'</span><span style=\"font-weight: bold\">]</span>=<span style=\"color: #008080; text-decoration-color: #008080; font-weight: bold\">52</span> param<span style=\"font-weight: bold\">[</span><span style=\"color: #008000; text-decoration-color: #008000\">'aexp'</span><span style=\"font-weight: bold\">]</span>=<span style=\"color: #008080; text-decoration-color: #008080; font-weight: bold\">0.6451612903225806</span> z = <span style=\"color: #008080; text-decoration-color: #008080; font-weight: bold\">0.55</span>                                                       \n",
       "</pre>\n"
      ],
      "text/plain": [
       "param\u001b[1m[\u001b[0m\u001b[32m'nsteps'\u001b[0m\u001b[1m]\u001b[0m=\u001b[1;36m52\u001b[0m param\u001b[1m[\u001b[0m\u001b[32m'aexp'\u001b[0m\u001b[1m]\u001b[0m=\u001b[1;36m0.6451612903225806\u001b[0m z = \u001b[1;36m0.55\u001b[0m                                                       \n"
      ]
     },
     "metadata": {},
     "output_type": "display_data"
    },
    {
     "name": "stdout",
     "output_type": "stream",
     "text": [
      "Step: 53 [0.99698013 0.99674326 0.02551306] [-0.04518166 -0.03052092 -0.00819733] [[-1.8644257   0.8183899   2.2140656  ... -2.1029816  -2.0136108\n",
      "  -2.009018  ]\n",
      " [-1.3996887   1.9451294   0.42211914 ... -1.5157928  -1.6037598\n",
      "  -1.7265167 ]\n",
      " [-1.6090698   0.8725586  -0.22921753 ... -1.6067047  -1.9631042\n",
      "  -1.7629089 ]\n",
      " ...\n",
      " [-1.5964508  -0.3567047   4.0498962  ... -2.083664   -1.8973846\n",
      "  -1.9161224 ]\n",
      " [-2.2504578   0.21308899  5.7914124  ... -2.0992737  -2.1558838\n",
      "  -2.269806  ]\n",
      " [-1.4977722   1.4986725   4.4711456  ... -1.2642212  -1.4330597\n",
      "  -1.658905  ]]\n"
     ]
    },
    {
     "data": {
      "text/html": [
       "<pre style=\"white-space:pre;overflow-x:auto;line-height:normal;font-family:Menlo,'DejaVu Sans Mono',consolas,'Courier New',monospace\">Snapshot written at <span style=\"color: #808000; text-decoration-color: #808000\">...</span><span style=\"color: #808000; text-decoration-color: #808000\">filename</span>=<span style=\"color: #008000; text-decoration-color: #008000\">'./smalln//output_00030/particles_eft_multigrid_ncoarse6.h5'</span>                       \n",
       "param<span style=\"font-weight: bold\">[</span><span style=\"color: #008000; text-decoration-color: #008000\">'aexp'</span><span style=\"font-weight: bold\">]</span>=<span style=\"color: #008080; text-decoration-color: #008080; font-weight: bold\">0.6666666666666666</span>                                                                                   \n",
       "</pre>\n"
      ],
      "text/plain": [
       "Snapshot written at \u001b[33m...\u001b[0m\u001b[33mfilename\u001b[0m=\u001b[32m'./smalln//output_00030/particles_eft_multigrid_ncoarse6.h5'\u001b[0m                       \n",
       "param\u001b[1m[\u001b[0m\u001b[32m'aexp'\u001b[0m\u001b[1m]\u001b[0m=\u001b[1;36m0.6666666666666666\u001b[0m                                                                                   \n"
      ]
     },
     "metadata": {},
     "output_type": "display_data"
    },
    {
     "data": {
      "text/html": [
       "<pre style=\"white-space:pre;overflow-x:auto;line-height:normal;font-family:Menlo,'DejaVu Sans Mono',consolas,'Courier New',monospace\">param<span style=\"font-weight: bold\">[</span><span style=\"color: #008000; text-decoration-color: #008000\">'nsteps'</span><span style=\"font-weight: bold\">]</span>=<span style=\"color: #008080; text-decoration-color: #008080; font-weight: bold\">53</span> param<span style=\"font-weight: bold\">[</span><span style=\"color: #008000; text-decoration-color: #008000\">'aexp'</span><span style=\"font-weight: bold\">]</span>=<span style=\"color: #008080; text-decoration-color: #008080; font-weight: bold\">0.6666666666666666</span> z = <span style=\"color: #008080; text-decoration-color: #008080; font-weight: bold\">0.5</span>                                                        \n",
       "</pre>\n"
      ],
      "text/plain": [
       "param\u001b[1m[\u001b[0m\u001b[32m'nsteps'\u001b[0m\u001b[1m]\u001b[0m=\u001b[1;36m53\u001b[0m param\u001b[1m[\u001b[0m\u001b[32m'aexp'\u001b[0m\u001b[1m]\u001b[0m=\u001b[1;36m0.6666666666666666\u001b[0m z = \u001b[1;36m0.5\u001b[0m                                                        \n"
      ]
     },
     "metadata": {},
     "output_type": "display_data"
    },
    {
     "name": "stdout",
     "output_type": "stream",
     "text": [
      "Step: 54 [0.9950612  0.99544    0.02516908] [-0.0481567  -0.03291963 -0.00852491] [[-1.9432678   0.3807068   2.436386   ... -2.2293854  -2.0743256\n",
      "  -2.0222015 ]\n",
      " [-1.4064484   1.8295135   0.53904724 ... -1.6733398  -1.6446075\n",
      "  -1.7107544 ]\n",
      " [-1.7369232   0.6371765  -0.14147949 ... -1.7299194  -2.013855\n",
      "  -1.6965942 ]\n",
      " ...\n",
      " [-1.7127686  -0.67985535  3.8422852  ... -2.2552795  -2.025299\n",
      "  -2.0151825 ]\n",
      " [-2.3114471  -0.30256653  5.3802643  ... -2.092743   -2.1250305\n",
      "  -2.265915  ]\n",
      " [-1.5007324   1.1947632   4.627533   ... -1.3445282  -1.4406586\n",
      "  -1.6271667 ]]\n"
     ]
    },
    {
     "data": {
      "text/html": [
       "<pre style=\"white-space:pre;overflow-x:auto;line-height:normal;font-family:Menlo,'DejaVu Sans Mono',consolas,'Courier New',monospace\">Snapshot written at <span style=\"color: #808000; text-decoration-color: #808000\">...</span><span style=\"color: #808000; text-decoration-color: #808000\">filename</span>=<span style=\"color: #008000; text-decoration-color: #008000\">'./smalln//output_00031/particles_eft_multigrid_ncoarse6.h5'</span>                       \n",
       "param<span style=\"font-weight: bold\">[</span><span style=\"color: #008000; text-decoration-color: #008000\">'aexp'</span><span style=\"font-weight: bold\">]</span>=<span style=\"color: #008080; text-decoration-color: #008080; font-weight: bold\">0.6896551724137931</span>                                                                                   \n",
       "</pre>\n"
      ],
      "text/plain": [
       "Snapshot written at \u001b[33m...\u001b[0m\u001b[33mfilename\u001b[0m=\u001b[32m'./smalln//output_00031/particles_eft_multigrid_ncoarse6.h5'\u001b[0m                       \n",
       "param\u001b[1m[\u001b[0m\u001b[32m'aexp'\u001b[0m\u001b[1m]\u001b[0m=\u001b[1;36m0.6896551724137931\u001b[0m                                                                                   \n"
      ]
     },
     "metadata": {},
     "output_type": "display_data"
    },
    {
     "data": {
      "text/html": [
       "<pre style=\"white-space:pre;overflow-x:auto;line-height:normal;font-family:Menlo,'DejaVu Sans Mono',consolas,'Courier New',monospace\">param<span style=\"font-weight: bold\">[</span><span style=\"color: #008000; text-decoration-color: #008000\">'nsteps'</span><span style=\"font-weight: bold\">]</span>=<span style=\"color: #008080; text-decoration-color: #008080; font-weight: bold\">54</span> param<span style=\"font-weight: bold\">[</span><span style=\"color: #008000; text-decoration-color: #008000\">'aexp'</span><span style=\"font-weight: bold\">]</span>=<span style=\"color: #008080; text-decoration-color: #008080; font-weight: bold\">0.6896551724137931</span> z = <span style=\"color: #008080; text-decoration-color: #008080; font-weight: bold\">0.44999999999999996</span>                                        \n",
       "</pre>\n"
      ],
      "text/plain": [
       "param\u001b[1m[\u001b[0m\u001b[32m'nsteps'\u001b[0m\u001b[1m]\u001b[0m=\u001b[1;36m54\u001b[0m param\u001b[1m[\u001b[0m\u001b[32m'aexp'\u001b[0m\u001b[1m]\u001b[0m=\u001b[1;36m0.6896551724137931\u001b[0m z = \u001b[1;36m0.44999999999999996\u001b[0m                                        \n"
      ]
     },
     "metadata": {},
     "output_type": "display_data"
    },
    {
     "name": "stdout",
     "output_type": "stream",
     "text": [
      "Step: 55 [0.9929781  0.99400723 0.02480475] [-0.0514483  -0.03564501 -0.00888505] [[-1.9971771   0.05281067  2.5884247  ... -2.3856964  -2.182907\n",
      "  -2.0644531 ]\n",
      " [-1.4435883   1.7259979   0.7357483  ... -1.9034882  -1.7817688\n",
      "  -1.7621918 ]\n",
      " [-1.7684174   0.5460205  -0.06211853 ... -1.9528351  -2.1409912\n",
      "  -1.6958313 ]\n",
      " ...\n",
      " [-1.9807281  -1.15625     3.4036102  ... -2.469345   -2.2394867\n",
      "  -2.2035217 ]\n",
      " [-2.3361053  -0.7044678   4.853058   ... -2.1251678  -2.1030273\n",
      "  -2.2485352 ]\n",
      " [-1.5728302   0.78349304  4.774231   ... -1.5560913  -1.5481262\n",
      "  -1.6625061 ]]\n"
     ]
    },
    {
     "data": {
      "text/html": [
       "<pre style=\"white-space:pre;overflow-x:auto;line-height:normal;font-family:Menlo,'DejaVu Sans Mono',consolas,'Courier New',monospace\">Snapshot written at <span style=\"color: #808000; text-decoration-color: #808000\">...</span><span style=\"color: #808000; text-decoration-color: #808000\">filename</span>=<span style=\"color: #008000; text-decoration-color: #008000\">'./smalln//output_00032/particles_eft_multigrid_ncoarse6.h5'</span>                       \n",
       "param<span style=\"font-weight: bold\">[</span><span style=\"color: #008000; text-decoration-color: #008000\">'aexp'</span><span style=\"font-weight: bold\">]</span>=<span style=\"color: #008080; text-decoration-color: #008080; font-weight: bold\">0.7142857142857143</span>                                                                                   \n",
       "</pre>\n"
      ],
      "text/plain": [
       "Snapshot written at \u001b[33m...\u001b[0m\u001b[33mfilename\u001b[0m=\u001b[32m'./smalln//output_00032/particles_eft_multigrid_ncoarse6.h5'\u001b[0m                       \n",
       "param\u001b[1m[\u001b[0m\u001b[32m'aexp'\u001b[0m\u001b[1m]\u001b[0m=\u001b[1;36m0.7142857142857143\u001b[0m                                                                                   \n"
      ]
     },
     "metadata": {},
     "output_type": "display_data"
    },
    {
     "data": {
      "text/html": [
       "<pre style=\"white-space:pre;overflow-x:auto;line-height:normal;font-family:Menlo,'DejaVu Sans Mono',consolas,'Courier New',monospace\">param<span style=\"font-weight: bold\">[</span><span style=\"color: #008000; text-decoration-color: #008000\">'nsteps'</span><span style=\"font-weight: bold\">]</span>=<span style=\"color: #008080; text-decoration-color: #008080; font-weight: bold\">55</span> param<span style=\"font-weight: bold\">[</span><span style=\"color: #008000; text-decoration-color: #008000\">'aexp'</span><span style=\"font-weight: bold\">]</span>=<span style=\"color: #008080; text-decoration-color: #008080; font-weight: bold\">0.7142857142857143</span> z = <span style=\"color: #008080; text-decoration-color: #008080; font-weight: bold\">0.3999999999999999</span>                                         \n",
       "</pre>\n"
      ],
      "text/plain": [
       "param\u001b[1m[\u001b[0m\u001b[32m'nsteps'\u001b[0m\u001b[1m]\u001b[0m=\u001b[1;36m55\u001b[0m param\u001b[1m[\u001b[0m\u001b[32m'aexp'\u001b[0m\u001b[1m]\u001b[0m=\u001b[1;36m0.7142857142857143\u001b[0m z = \u001b[1;36m0.3999999999999999\u001b[0m                                         \n"
      ]
     },
     "metadata": {},
     "output_type": "display_data"
    },
    {
     "name": "stdout",
     "output_type": "stream",
     "text": [
      "Step: 56 [0.9907097  0.9924248  0.02441775] [-0.05510986 -0.03875659 -0.00928451] [[-2.064743   -0.13879395  2.6586304  ... -2.5615845  -2.366806\n",
      "  -2.1704712 ]\n",
      " [-1.5811768   1.5929108   1.036499   ... -2.1499634  -2.063736\n",
      "  -1.9264984 ]\n",
      " [-1.8305511   0.5586548  -0.0229187  ... -2.2617188  -2.3563843\n",
      "  -1.8125    ]\n",
      " ...\n",
      " [-2.3443604  -1.7451477   2.6362915  ... -2.6884308  -2.5064545\n",
      "  -2.4541626 ]\n",
      " [-2.3649902  -0.98809814  4.2741394  ... -2.238083   -2.140213\n",
      "  -2.256195  ]\n",
      " [-1.7759705   0.23275757  4.815048   ... -1.9433289  -1.8177643\n",
      "  -1.8323212 ]]\n"
     ]
    },
    {
     "data": {
      "text/html": [
       "<pre style=\"white-space:pre;overflow-x:auto;line-height:normal;font-family:Menlo,'DejaVu Sans Mono',consolas,'Courier New',monospace\">Snapshot written at <span style=\"color: #808000; text-decoration-color: #808000\">...</span><span style=\"color: #808000; text-decoration-color: #808000\">filename</span>=<span style=\"color: #008000; text-decoration-color: #008000\">'./smalln//output_00033/particles_eft_multigrid_ncoarse6.h5'</span>                       \n",
       "param<span style=\"font-weight: bold\">[</span><span style=\"color: #008000; text-decoration-color: #008000\">'aexp'</span><span style=\"font-weight: bold\">]</span>=<span style=\"color: #008080; text-decoration-color: #008080; font-weight: bold\">0.7407407407407407</span>                                                                                   \n",
       "</pre>\n"
      ],
      "text/plain": [
       "Snapshot written at \u001b[33m...\u001b[0m\u001b[33mfilename\u001b[0m=\u001b[32m'./smalln//output_00033/particles_eft_multigrid_ncoarse6.h5'\u001b[0m                       \n",
       "param\u001b[1m[\u001b[0m\u001b[32m'aexp'\u001b[0m\u001b[1m]\u001b[0m=\u001b[1;36m0.7407407407407407\u001b[0m                                                                                   \n"
      ]
     },
     "metadata": {},
     "output_type": "display_data"
    },
    {
     "data": {
      "text/html": [
       "<pre style=\"white-space:pre;overflow-x:auto;line-height:normal;font-family:Menlo,'DejaVu Sans Mono',consolas,'Courier New',monospace\">param<span style=\"font-weight: bold\">[</span><span style=\"color: #008000; text-decoration-color: #008000\">'nsteps'</span><span style=\"font-weight: bold\">]</span>=<span style=\"color: #008080; text-decoration-color: #008080; font-weight: bold\">56</span> param<span style=\"font-weight: bold\">[</span><span style=\"color: #008000; text-decoration-color: #008000\">'aexp'</span><span style=\"font-weight: bold\">]</span>=<span style=\"color: #008080; text-decoration-color: #008080; font-weight: bold\">0.7407407407407407</span> z = <span style=\"color: #008080; text-decoration-color: #008080; font-weight: bold\">0.3500000000000001</span>                                         \n",
       "</pre>\n"
      ],
      "text/plain": [
       "param\u001b[1m[\u001b[0m\u001b[32m'nsteps'\u001b[0m\u001b[1m]\u001b[0m=\u001b[1;36m56\u001b[0m param\u001b[1m[\u001b[0m\u001b[32m'aexp'\u001b[0m\u001b[1m]\u001b[0m=\u001b[1;36m0.7407407407407407\u001b[0m z = \u001b[1;36m0.3500000000000001\u001b[0m                                         \n"
      ]
     },
     "metadata": {},
     "output_type": "display_data"
    },
    {
     "name": "stdout",
     "output_type": "stream",
     "text": [
      "Step: 57 [0.9882311  0.99066836 0.0240052 ] [-0.05920429 -0.04232973 -0.00973566] [[-2.1894684  -0.2032013   2.6438446  ... -2.7001038  -2.5652466\n",
      "  -2.3713226 ]\n",
      " [-1.8455658   1.3431702   1.3469696  ... -2.2848816  -2.3776855\n",
      "  -2.2274628 ]\n",
      " [-1.9788666   0.585907   -0.048172   ... -2.5128632  -2.580841\n",
      "  -2.0917816 ]\n",
      " ...\n",
      " [-2.7009888  -2.2703552   1.6309204  ... -2.8631897  -2.770935\n",
      "  -2.726303  ]\n",
      " [-2.457199   -1.2381439   3.7686768  ... -2.390915   -2.27211\n",
      "  -2.3428955 ]\n",
      " [-2.1259155  -0.42817688  4.6465607  ... -2.3980255  -2.2432404\n",
      "  -2.165207  ]]\n"
     ]
    },
    {
     "data": {
      "text/html": [
       "<pre style=\"white-space:pre;overflow-x:auto;line-height:normal;font-family:Menlo,'DejaVu Sans Mono',consolas,'Courier New',monospace\">Snapshot written at <span style=\"color: #808000; text-decoration-color: #808000\">...</span><span style=\"color: #808000; text-decoration-color: #808000\">filename</span>=<span style=\"color: #008000; text-decoration-color: #008000\">'./smalln//output_00034/particles_eft_multigrid_ncoarse6.h5'</span>                       \n",
       "param<span style=\"font-weight: bold\">[</span><span style=\"color: #008000; text-decoration-color: #008000\">'aexp'</span><span style=\"font-weight: bold\">]</span>=<span style=\"color: #008080; text-decoration-color: #008080; font-weight: bold\">0.7692307692307692</span>                                                                                   \n",
       "</pre>\n"
      ],
      "text/plain": [
       "Snapshot written at \u001b[33m...\u001b[0m\u001b[33mfilename\u001b[0m=\u001b[32m'./smalln//output_00034/particles_eft_multigrid_ncoarse6.h5'\u001b[0m                       \n",
       "param\u001b[1m[\u001b[0m\u001b[32m'aexp'\u001b[0m\u001b[1m]\u001b[0m=\u001b[1;36m0.7692307692307692\u001b[0m                                                                                   \n"
      ]
     },
     "metadata": {},
     "output_type": "display_data"
    },
    {
     "data": {
      "text/html": [
       "<pre style=\"white-space:pre;overflow-x:auto;line-height:normal;font-family:Menlo,'DejaVu Sans Mono',consolas,'Courier New',monospace\">param<span style=\"font-weight: bold\">[</span><span style=\"color: #008000; text-decoration-color: #008000\">'nsteps'</span><span style=\"font-weight: bold\">]</span>=<span style=\"color: #008080; text-decoration-color: #008080; font-weight: bold\">57</span> param<span style=\"font-weight: bold\">[</span><span style=\"color: #008000; text-decoration-color: #008000\">'aexp'</span><span style=\"font-weight: bold\">]</span>=<span style=\"color: #008080; text-decoration-color: #008080; font-weight: bold\">0.7692307692307692</span> z = <span style=\"color: #008080; text-decoration-color: #008080; font-weight: bold\">0.30000000000000004</span>                                        \n",
       "</pre>\n"
      ],
      "text/plain": [
       "param\u001b[1m[\u001b[0m\u001b[32m'nsteps'\u001b[0m\u001b[1m]\u001b[0m=\u001b[1;36m57\u001b[0m param\u001b[1m[\u001b[0m\u001b[32m'aexp'\u001b[0m\u001b[1m]\u001b[0m=\u001b[1;36m0.7692307692307692\u001b[0m z = \u001b[1;36m0.30000000000000004\u001b[0m                                        \n"
      ]
     },
     "metadata": {},
     "output_type": "display_data"
    },
    {
     "name": "stdout",
     "output_type": "stream",
     "text": [
      "Step: 58 [0.98551255 0.9887083  0.02356331] [-0.0638031  -0.04646183 -0.01025702] [[-2.41008    -0.22833252  2.535675   ... -2.7620697  -2.6992798\n",
      "  -2.6331177 ]\n",
      " [-2.2262573   0.9022064   1.6006775  ... -2.2103577  -2.5985413\n",
      "  -2.5882568 ]\n",
      " [-2.190384    0.553421   -0.02178955 ... -2.6549225  -2.7447205\n",
      "  -2.5055695 ]\n",
      " ...\n",
      " [-2.9482422  -2.6167908   0.69000244 ... -2.9761963  -2.9622192\n",
      "  -2.9594727 ]\n",
      " [-2.663971   -1.5783691   3.3023071  ... -2.4837952  -2.4154968\n",
      "  -2.5448303 ]\n",
      " [-2.584732   -1.1367188   4.1593018  ... -2.7687988  -2.6619568\n",
      "  -2.603012  ]]\n"
     ]
    },
    {
     "data": {
      "text/html": [
       "<pre style=\"white-space:pre;overflow-x:auto;line-height:normal;font-family:Menlo,'DejaVu Sans Mono',consolas,'Courier New',monospace\">Snapshot written at <span style=\"color: #808000; text-decoration-color: #808000\">...</span><span style=\"color: #808000; text-decoration-color: #808000\">filename</span>=<span style=\"color: #008000; text-decoration-color: #008000\">'./smalln//output_00035/particles_eft_multigrid_ncoarse6.h5'</span> param<span style=\"font-weight: bold\">[</span><span style=\"color: #008000; text-decoration-color: #008000\">'aexp'</span><span style=\"font-weight: bold\">]</span>=<span style=\"color: #008080; text-decoration-color: #008080; font-weight: bold\">0.8</span>     \n",
       "</pre>\n"
      ],
      "text/plain": [
       "Snapshot written at \u001b[33m...\u001b[0m\u001b[33mfilename\u001b[0m=\u001b[32m'./smalln//output_00035/particles_eft_multigrid_ncoarse6.h5'\u001b[0m param\u001b[1m[\u001b[0m\u001b[32m'aexp'\u001b[0m\u001b[1m]\u001b[0m=\u001b[1;36m0.8\u001b[0m     \n"
      ]
     },
     "metadata": {},
     "output_type": "display_data"
    },
    {
     "data": {
      "text/html": [
       "<pre style=\"white-space:pre;overflow-x:auto;line-height:normal;font-family:Menlo,'DejaVu Sans Mono',consolas,'Courier New',monospace\">param<span style=\"font-weight: bold\">[</span><span style=\"color: #008000; text-decoration-color: #008000\">'nsteps'</span><span style=\"font-weight: bold\">]</span>=<span style=\"color: #008080; text-decoration-color: #008080; font-weight: bold\">58</span> param<span style=\"font-weight: bold\">[</span><span style=\"color: #008000; text-decoration-color: #008000\">'aexp'</span><span style=\"font-weight: bold\">]</span>=<span style=\"color: #008080; text-decoration-color: #008080; font-weight: bold\">0.8</span> z = <span style=\"color: #008080; text-decoration-color: #008080; font-weight: bold\">0.25</span>                                                                      \n",
       "</pre>\n"
      ],
      "text/plain": [
       "param\u001b[1m[\u001b[0m\u001b[32m'nsteps'\u001b[0m\u001b[1m]\u001b[0m=\u001b[1;36m58\u001b[0m param\u001b[1m[\u001b[0m\u001b[32m'aexp'\u001b[0m\u001b[1m]\u001b[0m=\u001b[1;36m0.8\u001b[0m z = \u001b[1;36m0.25\u001b[0m                                                                      \n"
      ]
     },
     "metadata": {},
     "output_type": "display_data"
    },
    {
     "name": "stdout",
     "output_type": "stream",
     "text": [
      "Step: 59 [0.98251885 0.9865079  0.02308709] [-0.06899457 -0.0512813  -0.01087192] [[-2.7020264  -0.37210083  2.451233   ... -2.7594604  -2.7016602\n",
      "  -2.8171997 ]\n",
      " [-2.6533203   0.27087402  1.7920837  ... -1.9778442  -2.6628723\n",
      "  -2.8420105 ]\n",
      " [-2.4039612   0.40927124  0.13598633 ... -2.7276     -2.7748108\n",
      "  -2.8282166 ]\n",
      " ...\n",
      " [-3.0936584  -2.7934265   0.12634277 ... -3.0127563  -3.0339966\n",
      "  -3.1056213 ]\n",
      " [-2.9015198  -2.016693    2.7331848  ... -2.4466858  -2.4361267\n",
      "  -2.7280273 ]\n",
      " [-2.9448547  -1.7127075   3.3433838  ... -3.0273132  -2.9637146\n",
      "  -2.9365234 ]]\n"
     ]
    },
    {
     "data": {
      "text/html": [
       "<pre style=\"white-space:pre;overflow-x:auto;line-height:normal;font-family:Menlo,'DejaVu Sans Mono',consolas,'Courier New',monospace\">Snapshot written at <span style=\"color: #808000; text-decoration-color: #808000\">...</span><span style=\"color: #808000; text-decoration-color: #808000\">filename</span>=<span style=\"color: #008000; text-decoration-color: #008000\">'./smalln//output_00036/particles_eft_multigrid_ncoarse6.h5'</span>                       \n",
       "param<span style=\"font-weight: bold\">[</span><span style=\"color: #008000; text-decoration-color: #008000\">'aexp'</span><span style=\"font-weight: bold\">]</span>=<span style=\"color: #008080; text-decoration-color: #008080; font-weight: bold\">0.8333333333333334</span>                                                                                   \n",
       "</pre>\n"
      ],
      "text/plain": [
       "Snapshot written at \u001b[33m...\u001b[0m\u001b[33mfilename\u001b[0m=\u001b[32m'./smalln//output_00036/particles_eft_multigrid_ncoarse6.h5'\u001b[0m                       \n",
       "param\u001b[1m[\u001b[0m\u001b[32m'aexp'\u001b[0m\u001b[1m]\u001b[0m=\u001b[1;36m0.8333333333333334\u001b[0m                                                                                   \n"
      ]
     },
     "metadata": {},
     "output_type": "display_data"
    },
    {
     "data": {
      "text/html": [
       "<pre style=\"white-space:pre;overflow-x:auto;line-height:normal;font-family:Menlo,'DejaVu Sans Mono',consolas,'Courier New',monospace\">param<span style=\"font-weight: bold\">[</span><span style=\"color: #008000; text-decoration-color: #008000\">'nsteps'</span><span style=\"font-weight: bold\">]</span>=<span style=\"color: #008080; text-decoration-color: #008080; font-weight: bold\">59</span> param<span style=\"font-weight: bold\">[</span><span style=\"color: #008000; text-decoration-color: #008000\">'aexp'</span><span style=\"font-weight: bold\">]</span>=<span style=\"color: #008080; text-decoration-color: #008080; font-weight: bold\">0.8333333333333334</span> z = <span style=\"color: #008080; text-decoration-color: #008080; font-weight: bold\">0.19999999999999996</span>                                        \n",
       "</pre>\n"
      ],
      "text/plain": [
       "param\u001b[1m[\u001b[0m\u001b[32m'nsteps'\u001b[0m\u001b[1m]\u001b[0m=\u001b[1;36m59\u001b[0m param\u001b[1m[\u001b[0m\u001b[32m'aexp'\u001b[0m\u001b[1m]\u001b[0m=\u001b[1;36m0.8333333333333334\u001b[0m z = \u001b[1;36m0.19999999999999996\u001b[0m                                        \n"
      ]
     },
     "metadata": {},
     "output_type": "display_data"
    },
    {
     "name": "stdout",
     "output_type": "stream",
     "text": [
      "Step: 60 [0.9792237 0.9840333 0.0225725] [-0.07487508 -0.05692768 -0.01160396] [[-2.914215   -0.6208191   2.4681396  ... -2.7808533  -2.524414\n",
      "  -2.8132324 ]\n",
      " [-2.960846   -0.432312    1.9078674  ... -1.909729   -2.583496\n",
      "  -2.9359741 ]\n",
      " [-2.5493774   0.06500244  0.44284058 ... -2.8306274  -2.646759\n",
      "  -2.9804382 ]\n",
      " ...\n",
      " [-3.2157288  -2.9094849  -0.09771729 ... -2.936676   -2.9622192\n",
      "  -3.1732178 ]\n",
      " [-3.0708313  -2.5049438   1.9160767  ... -2.2442017  -2.2306213\n",
      "  -2.7407532 ]\n",
      " [-3.15271    -2.1166992   2.4641418  ... -3.2067566  -3.1741638\n",
      "  -3.1447144 ]]\n"
     ]
    },
    {
     "data": {
      "text/html": [
       "<pre style=\"white-space:pre;overflow-x:auto;line-height:normal;font-family:Menlo,'DejaVu Sans Mono',consolas,'Courier New',monospace\">param<span style=\"font-weight: bold\">[</span><span style=\"color: #008000; text-decoration-color: #008000\">'nsteps'</span><span style=\"font-weight: bold\">]</span>=<span style=\"color: #008080; text-decoration-color: #008080; font-weight: bold\">60</span> param<span style=\"font-weight: bold\">[</span><span style=\"color: #008000; text-decoration-color: #008000\">'aexp'</span><span style=\"font-weight: bold\">]</span>=<span style=\"color: #008080; text-decoration-color: #008080; font-weight: bold\">0.8693896218135059</span> z = <span style=\"color: #008080; text-decoration-color: #008080; font-weight: bold\">0.15023227205547607</span>                                        \n",
       "</pre>\n"
      ],
      "text/plain": [
       "param\u001b[1m[\u001b[0m\u001b[32m'nsteps'\u001b[0m\u001b[1m]\u001b[0m=\u001b[1;36m60\u001b[0m param\u001b[1m[\u001b[0m\u001b[32m'aexp'\u001b[0m\u001b[1m]\u001b[0m=\u001b[1;36m0.8693896218135059\u001b[0m z = \u001b[1;36m0.15023227205547607\u001b[0m                                        \n"
      ]
     },
     "metadata": {},
     "output_type": "display_data"
    },
    {
     "name": "stdout",
     "output_type": "stream",
     "text": [
      "Step: 61 [0.9792075  0.98402095 0.02256998] [-0.0749044  -0.05695627 -0.0116077 ] [[-2.914734   -0.6221924   2.4683228  ... -2.7810974  -2.523468\n",
      "  -2.812622  ]\n",
      " [-2.9618835  -0.43572998  1.9084473  ... -1.9100037  -2.5830688\n",
      "  -2.9361267 ]\n",
      " [-2.5496826   0.06338501  0.44470215 ... -2.8316956  -2.6459045\n",
      "  -2.9807434 ]\n",
      " ...\n",
      " [-3.2164307  -2.9101562  -0.09817505 ... -2.9361572  -2.9612427\n",
      "  -3.1734314 ]\n",
      " [-3.070984   -2.5072937   1.9117737  ... -2.2431946  -2.2295227\n",
      "  -2.740265  ]\n",
      " [-3.1533508  -2.117859    2.4606323  ... -3.207367   -3.175171\n",
      "  -3.1452332 ]]\n"
     ]
    },
    {
     "data": {
      "text/html": [
       "<pre style=\"white-space:pre;overflow-x:auto;line-height:normal;font-family:Menlo,'DejaVu Sans Mono',consolas,'Courier New',monospace\">Snapshot written at <span style=\"color: #808000; text-decoration-color: #808000\">...</span><span style=\"color: #808000; text-decoration-color: #808000\">filename</span>=<span style=\"color: #008000; text-decoration-color: #008000\">'./smalln//output_00037/particles_eft_multigrid_ncoarse6.h5'</span>                       \n",
       "param<span style=\"font-weight: bold\">[</span><span style=\"color: #008000; text-decoration-color: #008000\">'aexp'</span><span style=\"font-weight: bold\">]</span>=<span style=\"color: #008080; text-decoration-color: #008080; font-weight: bold\">0.8695652173913044</span>                                                                                   \n",
       "</pre>\n"
      ],
      "text/plain": [
       "Snapshot written at \u001b[33m...\u001b[0m\u001b[33mfilename\u001b[0m=\u001b[32m'./smalln//output_00037/particles_eft_multigrid_ncoarse6.h5'\u001b[0m                       \n",
       "param\u001b[1m[\u001b[0m\u001b[32m'aexp'\u001b[0m\u001b[1m]\u001b[0m=\u001b[1;36m0.8695652173913044\u001b[0m                                                                                   \n"
      ]
     },
     "metadata": {},
     "output_type": "display_data"
    },
    {
     "data": {
      "text/html": [
       "<pre style=\"white-space:pre;overflow-x:auto;line-height:normal;font-family:Menlo,'DejaVu Sans Mono',consolas,'Courier New',monospace\">param<span style=\"font-weight: bold\">[</span><span style=\"color: #008000; text-decoration-color: #008000\">'nsteps'</span><span style=\"font-weight: bold\">]</span>=<span style=\"color: #008080; text-decoration-color: #008080; font-weight: bold\">61</span> param<span style=\"font-weight: bold\">[</span><span style=\"color: #008000; text-decoration-color: #008000\">'aexp'</span><span style=\"font-weight: bold\">]</span>=<span style=\"color: #008080; text-decoration-color: #008080; font-weight: bold\">0.8695652173913044</span> z = <span style=\"color: #008080; text-decoration-color: #008080; font-weight: bold\">0.1499999999999999</span>                                         \n",
       "</pre>\n"
      ],
      "text/plain": [
       "param\u001b[1m[\u001b[0m\u001b[32m'nsteps'\u001b[0m\u001b[1m]\u001b[0m=\u001b[1;36m61\u001b[0m param\u001b[1m[\u001b[0m\u001b[32m'aexp'\u001b[0m\u001b[1m]\u001b[0m=\u001b[1;36m0.8695652173913044\u001b[0m z = \u001b[1;36m0.1499999999999999\u001b[0m                                         \n"
      ]
     },
     "metadata": {},
     "output_type": "display_data"
    },
    {
     "name": "stdout",
     "output_type": "stream",
     "text": [
      "Step: 62 [0.97584754 0.98143893 0.02205276] [-0.08109801 -0.06308951 -0.01241885] [[-2.917572   -0.94137573  2.5378723  ... -2.9039307  -2.4058838\n",
      "  -2.620758  ]\n",
      " [-3.103241   -1.0849304   2.0592346  ... -2.1651917  -2.6112976\n",
      "  -2.9370728 ]\n",
      " [-2.5119934  -0.20141602  1.054718   ... -3.0713806  -2.5835266\n",
      "  -2.9615173 ]\n",
      " ...\n",
      " [-3.338501   -3.054535   -0.16003418 ... -2.8094177  -2.7247314\n",
      "  -3.1066284 ]\n",
      " [-3.0160522  -2.8078003   1.0079956  ... -2.2504883  -1.9846497\n",
      "  -2.507019  ]\n",
      " [-3.2332764  -2.2718506   1.9769897  ... -3.37677    -3.3399963\n",
      "  -3.2738647 ]]\n"
     ]
    },
    {
     "data": {
      "text/html": [
       "<pre style=\"white-space:pre;overflow-x:auto;line-height:normal;font-family:Menlo,'DejaVu Sans Mono',consolas,'Courier New',monospace\">param<span style=\"font-weight: bold\">[</span><span style=\"color: #008000; text-decoration-color: #008000\">'nsteps'</span><span style=\"font-weight: bold\">]</span>=<span style=\"color: #008080; text-decoration-color: #008080; font-weight: bold\">62</span> param<span style=\"font-weight: bold\">[</span><span style=\"color: #008000; text-decoration-color: #008000\">'aexp'</span><span style=\"font-weight: bold\">]</span>=<span style=\"color: #008080; text-decoration-color: #008080; font-weight: bold\">0.9056591198001337</span> z = <span style=\"color: #008080; text-decoration-color: #008080; font-weight: bold\">0.10416819986385839</span>                                        \n",
       "</pre>\n"
      ],
      "text/plain": [
       "param\u001b[1m[\u001b[0m\u001b[32m'nsteps'\u001b[0m\u001b[1m]\u001b[0m=\u001b[1;36m62\u001b[0m param\u001b[1m[\u001b[0m\u001b[32m'aexp'\u001b[0m\u001b[1m]\u001b[0m=\u001b[1;36m0.9056591198001337\u001b[0m z = \u001b[1;36m0.10416819986385839\u001b[0m                                        \n"
      ]
     },
     "metadata": {},
     "output_type": "display_data"
    },
    {
     "name": "stdout",
     "output_type": "stream",
     "text": [
      "Step: 63 [0.97552437 0.9811872  0.0220033 ] [-0.08170297 -0.06369738 -0.01250016] [[-2.9046326  -0.9723816   2.5534973  ... -2.922821   -2.4067383\n",
      "  -2.598999  ]\n",
      " [-3.1098633  -1.1383972   2.0907898  ... -2.2066956  -2.6255493\n",
      "  -2.9382935 ]\n",
      " [-2.4994812  -0.2102356   1.1385498  ... -3.0993042  -2.5870056\n",
      "  -2.956604  ]\n",
      " ...\n",
      " [-3.3484497  -3.0723572  -0.17144775 ... -2.798645   -2.6986084\n",
      "  -3.0927734 ]\n",
      " [-2.9953613  -2.8184814   0.93426514 ... -2.2701416  -1.9803467\n",
      "  -2.4801025 ]\n",
      " [-3.237152   -2.2781982   1.952301   ... -3.3927917  -3.3556824\n",
      "  -3.2853394 ]]\n"
     ]
    },
    {
     "data": {
      "text/html": [
       "<pre style=\"white-space:pre;overflow-x:auto;line-height:normal;font-family:Menlo,'DejaVu Sans Mono',consolas,'Courier New',monospace\">Snapshot written at <span style=\"color: #808000; text-decoration-color: #808000\">...</span><span style=\"color: #808000; text-decoration-color: #808000\">filename</span>=<span style=\"color: #008000; text-decoration-color: #008000\">'./smalln//output_00038/particles_eft_multigrid_ncoarse6.h5'</span>                       \n",
       "param<span style=\"font-weight: bold\">[</span><span style=\"color: #008000; text-decoration-color: #008000\">'aexp'</span><span style=\"font-weight: bold\">]</span>=<span style=\"color: #008080; text-decoration-color: #008080; font-weight: bold\">0.9090909090909091</span>                                                                                   \n",
       "</pre>\n"
      ],
      "text/plain": [
       "Snapshot written at \u001b[33m...\u001b[0m\u001b[33mfilename\u001b[0m=\u001b[32m'./smalln//output_00038/particles_eft_multigrid_ncoarse6.h5'\u001b[0m                       \n",
       "param\u001b[1m[\u001b[0m\u001b[32m'aexp'\u001b[0m\u001b[1m]\u001b[0m=\u001b[1;36m0.9090909090909091\u001b[0m                                                                                   \n"
      ]
     },
     "metadata": {},
     "output_type": "display_data"
    },
    {
     "data": {
      "text/html": [
       "<pre style=\"white-space:pre;overflow-x:auto;line-height:normal;font-family:Menlo,'DejaVu Sans Mono',consolas,'Courier New',monospace\">param<span style=\"font-weight: bold\">[</span><span style=\"color: #008000; text-decoration-color: #008000\">'nsteps'</span><span style=\"font-weight: bold\">]</span>=<span style=\"color: #008080; text-decoration-color: #008080; font-weight: bold\">63</span> param<span style=\"font-weight: bold\">[</span><span style=\"color: #008000; text-decoration-color: #008000\">'aexp'</span><span style=\"font-weight: bold\">]</span>=<span style=\"color: #008080; text-decoration-color: #008080; font-weight: bold\">0.9090909090909091</span> z = <span style=\"color: #008080; text-decoration-color: #008080; font-weight: bold\">0.10000000000000009</span>                                        \n",
       "</pre>\n"
      ],
      "text/plain": [
       "param\u001b[1m[\u001b[0m\u001b[32m'nsteps'\u001b[0m\u001b[1m]\u001b[0m=\u001b[1;36m63\u001b[0m param\u001b[1m[\u001b[0m\u001b[32m'aexp'\u001b[0m\u001b[1m]\u001b[0m=\u001b[1;36m0.9090909090909091\u001b[0m z = \u001b[1;36m0.10000000000000009\u001b[0m                                        \n"
      ]
     },
     "metadata": {},
     "output_type": "display_data"
    },
    {
     "name": "stdout",
     "output_type": "stream",
     "text": [
      "Step: 64 [0.9720911  0.9784821  0.02148032] [-0.08827151 -0.07039068 -0.01340595] [[-2.6464233  -1.2484436   3.0329895  ... -3.1997375  -2.5604248\n",
      "  -2.4092407 ]\n",
      " [-3.1304932  -1.5401611   2.8884888  ... -2.7971802  -2.896759\n",
      "  -3.0014343 ]\n",
      " [-2.260376   -0.04772949  2.368103   ... -3.3866882  -2.727478\n",
      "  -2.924286  ]\n",
      " ...\n",
      " [-3.4004517  -3.2953186  -0.3246765  ... -2.7550964  -2.4483032\n",
      "  -2.8793945 ]\n",
      " [-2.6582642  -2.7730713   0.73931885 ... -2.6441956  -2.2001038\n",
      "  -2.2978516 ]\n",
      " [-3.2835083  -2.328064    2.042511   ... -3.549652   -3.513214\n",
      "  -3.4129333 ]]\n"
     ]
    },
    {
     "data": {
      "text/html": [
       "<pre style=\"white-space:pre;overflow-x:auto;line-height:normal;font-family:Menlo,'DejaVu Sans Mono',consolas,'Courier New',monospace\">param<span style=\"font-weight: bold\">[</span><span style=\"color: #008000; text-decoration-color: #008000\">'nsteps'</span><span style=\"font-weight: bold\">]</span>=<span style=\"color: #008080; text-decoration-color: #008080; font-weight: bold\">64</span> param<span style=\"font-weight: bold\">[</span><span style=\"color: #008000; text-decoration-color: #008000\">'aexp'</span><span style=\"font-weight: bold\">]</span>=<span style=\"color: #008080; text-decoration-color: #008080; font-weight: bold\">0.9452251974483462</span> z = <span style=\"color: #008080; text-decoration-color: #008080; font-weight: bold\">0.05794894454730937</span>                                        \n",
       "</pre>\n"
      ],
      "text/plain": [
       "param\u001b[1m[\u001b[0m\u001b[32m'nsteps'\u001b[0m\u001b[1m]\u001b[0m=\u001b[1;36m64\u001b[0m param\u001b[1m[\u001b[0m\u001b[32m'aexp'\u001b[0m\u001b[1m]\u001b[0m=\u001b[1;36m0.9452251974483462\u001b[0m z = \u001b[1;36m0.05794894454730937\u001b[0m                                        \n"
      ]
     },
     "metadata": {},
     "output_type": "display_data"
    },
    {
     "name": "stdout",
     "output_type": "stream",
     "text": [
      "Step: 65 [0.97140247 0.9779318  0.0213758 ] [-0.08961269 -0.07177598 -0.0135956 ] [[-2.5681458  -1.2829285   3.2263489  ... -3.2609863  -2.6202087\n",
      "  -2.386963  ]\n",
      " [-3.1278992  -1.5848083   3.1861877  ... -2.9184875  -2.9683533\n",
      "  -3.0253906 ]\n",
      " [-2.1933594   0.03277588  2.676361   ... -3.438507   -2.7768555\n",
      "  -2.9262085 ]\n",
      " ...\n",
      " [-3.3924866  -3.3372803  -0.2866516  ... -2.76828    -2.4127502\n",
      "  -2.8265991 ]\n",
      " [-2.5716553  -2.7377625   0.86380005 ... -2.7489014  -2.2955933\n",
      "  -2.2947388 ]\n",
      " [-3.2938843  -2.3370056   2.1739197  ... -3.5766907  -3.5398865\n",
      "  -3.4379272 ]]\n"
     ]
    },
    {
     "data": {
      "text/html": [
       "<pre style=\"white-space:pre;overflow-x:auto;line-height:normal;font-family:Menlo,'DejaVu Sans Mono',consolas,'Courier New',monospace\">Snapshot written at <span style=\"color: #808000; text-decoration-color: #808000\">...</span><span style=\"color: #808000; text-decoration-color: #808000\">filename</span>=<span style=\"color: #008000; text-decoration-color: #008000\">'./smalln//output_00039/particles_eft_multigrid_ncoarse6.h5'</span>                       \n",
       "param<span style=\"font-weight: bold\">[</span><span style=\"color: #008000; text-decoration-color: #008000\">'aexp'</span><span style=\"font-weight: bold\">]</span>=<span style=\"color: #008080; text-decoration-color: #008080; font-weight: bold\">0.9523809523809523</span>                                                                                   \n",
       "</pre>\n"
      ],
      "text/plain": [
       "Snapshot written at \u001b[33m...\u001b[0m\u001b[33mfilename\u001b[0m=\u001b[32m'./smalln//output_00039/particles_eft_multigrid_ncoarse6.h5'\u001b[0m                       \n",
       "param\u001b[1m[\u001b[0m\u001b[32m'aexp'\u001b[0m\u001b[1m]\u001b[0m=\u001b[1;36m0.9523809523809523\u001b[0m                                                                                   \n"
      ]
     },
     "metadata": {},
     "output_type": "display_data"
    },
    {
     "data": {
      "text/html": [
       "<pre style=\"white-space:pre;overflow-x:auto;line-height:normal;font-family:Menlo,'DejaVu Sans Mono',consolas,'Courier New',monospace\">param<span style=\"font-weight: bold\">[</span><span style=\"color: #008000; text-decoration-color: #008000\">'nsteps'</span><span style=\"font-weight: bold\">]</span>=<span style=\"color: #008080; text-decoration-color: #008080; font-weight: bold\">65</span> param<span style=\"font-weight: bold\">[</span><span style=\"color: #008000; text-decoration-color: #008000\">'aexp'</span><span style=\"font-weight: bold\">]</span>=<span style=\"color: #008080; text-decoration-color: #008080; font-weight: bold\">0.9523809523809523</span> z = <span style=\"color: #008080; text-decoration-color: #008080; font-weight: bold\">0.050000000000000044</span>                                       \n",
       "</pre>\n"
      ],
      "text/plain": [
       "param\u001b[1m[\u001b[0m\u001b[32m'nsteps'\u001b[0m\u001b[1m]\u001b[0m=\u001b[1;36m65\u001b[0m param\u001b[1m[\u001b[0m\u001b[32m'aexp'\u001b[0m\u001b[1m]\u001b[0m=\u001b[1;36m0.9523809523809523\u001b[0m z = \u001b[1;36m0.050000000000000044\u001b[0m                                       \n"
      ]
     },
     "metadata": {},
     "output_type": "display_data"
    },
    {
     "name": "stdout",
     "output_type": "stream",
     "text": [
      "Step: 66 [0.9678174  0.9750298  0.02083315] [-0.09676742 -0.0792667  -0.01464313] [[-2.2078552 -1.3196716  4.8094788 ... -3.550232  -3.0255737 -2.4727478]\n",
      " [-3.1539612 -1.6107483  5.72348   ... -3.4322205 -3.3513184 -3.2309875]\n",
      " [-1.8849487  0.7732849  4.4474487 ... -3.656189  -3.1329956 -3.0410461]\n",
      " ...\n",
      " [-3.268341  -3.4926147  1.1062927 ... -3.040039  -2.4719543 -2.6191711]\n",
      " [-2.2502441 -2.4214172  2.6602783 ... -3.306305  -2.9255981 -2.5487366]\n",
      " [-3.3708496 -2.3745422  3.748291  ... -3.7055054 -3.665619  -3.5604553]]\n"
     ]
    },
    {
     "data": {
      "text/html": [
       "<pre style=\"white-space:pre;overflow-x:auto;line-height:normal;font-family:Menlo,'DejaVu Sans Mono',consolas,'Courier New',monospace\">param<span style=\"font-weight: bold\">[</span><span style=\"color: #008000; text-decoration-color: #008000\">'nsteps'</span><span style=\"font-weight: bold\">]</span>=<span style=\"color: #008080; text-decoration-color: #008080; font-weight: bold\">66</span> param<span style=\"font-weight: bold\">[</span><span style=\"color: #008000; text-decoration-color: #008000\">'aexp'</span><span style=\"font-weight: bold\">]</span>=<span style=\"color: #008080; text-decoration-color: #008080; font-weight: bold\">0.9892509287666362</span> z = <span style=\"color: #008080; text-decoration-color: #008080; font-weight: bold\">0.010865869235791692</span>                                       \n",
       "</pre>\n"
      ],
      "text/plain": [
       "param\u001b[1m[\u001b[0m\u001b[32m'nsteps'\u001b[0m\u001b[1m]\u001b[0m=\u001b[1;36m66\u001b[0m param\u001b[1m[\u001b[0m\u001b[32m'aexp'\u001b[0m\u001b[1m]\u001b[0m=\u001b[1;36m0.9892509287666362\u001b[0m z = \u001b[1;36m0.010865869235791692\u001b[0m                                       \n"
      ]
     },
     "metadata": {},
     "output_type": "display_data"
    },
    {
     "name": "stdout",
     "output_type": "stream",
     "text": [
      "Step: 67 [0.9667573  0.9741587  0.02067274] [-0.09892753 -0.08155731 -0.01497079] [[-2.1410217 -1.2835083  5.488312  ... -3.6227417 -3.1679688 -2.5752869]\n",
      " [-3.1785889 -1.5448303  6.7977905 ... -3.5422974 -3.4600525 -3.3116455]\n",
      " [-1.8104248  1.1109619  5.0003357 ... -3.6995544 -3.2618408 -3.1083374]\n",
      " ...\n",
      " [-3.2114563 -3.5119324  2.0581665 ... -3.1690063 -2.594818  -2.6135254]\n",
      " [-2.2151794 -2.2904358  3.6040344 ... -3.4469604 -3.1213074 -2.6838684]\n",
      " [-3.396515  -2.3815002  4.560425  ... -3.738739  -3.7015076 -3.5932922]]\n"
     ]
    },
    {
     "data": {
      "text/html": [
       "<pre style=\"white-space:pre;overflow-x:auto;line-height:normal;font-family:Menlo,'DejaVu Sans Mono',consolas,'Courier New',monospace\">Snapshot written at <span style=\"color: #808000; text-decoration-color: #808000\">...</span><span style=\"color: #808000; text-decoration-color: #808000\">filename</span>=<span style=\"color: #008000; text-decoration-color: #008000\">'./smalln//output_00040/particles_eft_multigrid_ncoarse6.h5'</span> param<span style=\"font-weight: bold\">[</span><span style=\"color: #008000; text-decoration-color: #008000\">'aexp'</span><span style=\"font-weight: bold\">]</span>=<span style=\"color: #008080; text-decoration-color: #008080; font-weight: bold\">1.0</span>     \n",
       "</pre>\n"
      ],
      "text/plain": [
       "Snapshot written at \u001b[33m...\u001b[0m\u001b[33mfilename\u001b[0m=\u001b[32m'./smalln//output_00040/particles_eft_multigrid_ncoarse6.h5'\u001b[0m param\u001b[1m[\u001b[0m\u001b[32m'aexp'\u001b[0m\u001b[1m]\u001b[0m=\u001b[1;36m1.0\u001b[0m     \n"
      ]
     },
     "metadata": {},
     "output_type": "display_data"
    },
    {
     "data": {
      "text/html": [
       "<pre style=\"white-space:pre;overflow-x:auto;line-height:normal;font-family:Menlo,'DejaVu Sans Mono',consolas,'Courier New',monospace\">param<span style=\"font-weight: bold\">[</span><span style=\"color: #008000; text-decoration-color: #008000\">'nsteps'</span><span style=\"font-weight: bold\">]</span>=<span style=\"color: #008080; text-decoration-color: #008080; font-weight: bold\">67</span> param<span style=\"font-weight: bold\">[</span><span style=\"color: #008000; text-decoration-color: #008000\">'aexp'</span><span style=\"font-weight: bold\">]</span>=<span style=\"color: #008080; text-decoration-color: #008080; font-weight: bold\">1.0</span> z = <span style=\"color: #008080; text-decoration-color: #008080; font-weight: bold\">0.0</span>                                                                       \n",
       "</pre>\n"
      ],
      "text/plain": [
       "param\u001b[1m[\u001b[0m\u001b[32m'nsteps'\u001b[0m\u001b[1m]\u001b[0m=\u001b[1;36m67\u001b[0m param\u001b[1m[\u001b[0m\u001b[32m'aexp'\u001b[0m\u001b[1m]\u001b[0m=\u001b[1;36m1.0\u001b[0m z = \u001b[1;36m0.0\u001b[0m                                                                       \n"
      ]
     },
     "metadata": {},
     "output_type": "display_data"
    }
   ],
   "source": [
    "path = '.'\n",
    "\n",
    "param = pd.Series({\n",
    "    \"theory\": \"eft\",\n",
    "    \"alphaB0\": 0.1,\n",
    "    \"alphaM0\": 0.0,\n",
    "    \"extra\":'04_01',\n",
    "    \"nthreads\": 1,\n",
    "    \"H0\": 72,\n",
    "    \"Om_m\": 1.,\n",
    "    \"T_cmb\": 0.1,\n",
    "    \"N_eff\": 3.044,\n",
    "    \"w0\": -1.0,\n",
    "    \"wa\": 0.0,\n",
    "    \"boxlen\": 100,\n",
    "    \"ncoarse\": 6,\n",
    "    \"npart\": 64**3,\n",
    "    \"z_start\": 50,\n",
    "    \"seed\": 42,\n",
    "    \"position_ICS\": \"center\",\n",
    "    \"fixed_ICS\": False,\n",
    "    \"paired_ICS\": False,\n",
    "    \"dealiased_ICS\": False,\n",
    "    \"power_spectrum_file\": f\"{path}/pk_lcdmw7v2.dat\",\n",
    "    \"initial_conditions\": \"2LPT\",\n",
    "    \"base\": f\"{path}/smalln/\",\n",
    "    \"z_out\": \"[20,19,18,17,16,15,14,13,12,11,10,9,8,7,6,5,4,3,2,1,0.95,0.9,0.85,0.8,0.75,0.7,0.65,0.6,0.55,0.5,0.45,0.4,0.35,0.3,0.25,0.2,0.15,0.1,0.05,0]\",\n",
    "    \"output_snapshot_format\": \"HDF5\",\n",
    "    \"save_power_spectrum\": \"no\",\n",
    "    \"integrator\": \"leapfrog\",\n",
    "    \"n_reorder\": 50,\n",
    "    \"mass_scheme\": \"TSC\",\n",
    "    \"Courant_factor\": 1.0,\n",
    "    \"max_aexp_stepping\": 10,\n",
    "    \"linear_newton_solver\": \"multigrid\",\n",
    "    \"gradient_stencil_order\": 5,\n",
    "    \"Npre\": 10,\n",
    "    \"Npost\": 10,\n",
    "    \"domg\": True,\n",
    "    \"epsrel\": 1e-2,\n",
    "    \"verbose\": 1,\n",
    "    \"evolution_table\":'no',\n",
    "    \"Om_lambda\":0\n",
    "    })\n",
    "\n",
    "main.run(param)"
   ]
  },
  {
   "cell_type": "code",
   "execution_count": null,
   "id": "745e13f5-a86b-4a56-b006-0e6a506f8f7b",
   "metadata": {},
   "outputs": [],
   "source": [
    "pwd"
   ]
  },
  {
   "cell_type": "code",
   "execution_count": null,
   "id": "12253e6e-2e12-4e89-a94b-c0ea49c2d8f8",
   "metadata": {},
   "outputs": [],
   "source": [
    "import numpy as np\n",
    "import matplotlib.pyplot as plt"
   ]
  },
  {
   "cell_type": "code",
   "execution_count": null,
   "id": "8f245db8-f29f-4115-974c-0ab46feafe97",
   "metadata": {},
   "outputs": [],
   "source": [
    "x = np.loadtxt('/Users/himanishganjoo/Dropbox/prograceray/pysco-eft/pysco/t5/power/pk_eft_multigrid_ncoarse6_00039.dat')\n",
    "plt.loglog(x[:,0],x[:,1],'.')\n",
    "\n",
    "x = np.loadtxt('/Users/himanishganjoo/Dropbox/prograceray/pysco-eft/pysco/t5/power/pk_newton_multigrid_ncoarse6_00039.dat')\n",
    "plt.loglog(x[:,0],x[:,1],'.')\n",
    "\n",
    "\n"
   ]
  },
  {
   "cell_type": "code",
   "execution_count": null,
   "id": "18c0644b-f819-404f-b213-67c3af37c818",
   "metadata": {},
   "outputs": [],
   "source": []
  }
 ],
 "metadata": {
  "kernelspec": {
   "display_name": "Python 3 (ipykernel)",
   "language": "python",
   "name": "python3"
  },
  "language_info": {
   "codemirror_mode": {
    "name": "ipython",
    "version": 3
   },
   "file_extension": ".py",
   "mimetype": "text/x-python",
   "name": "python",
   "nbconvert_exporter": "python",
   "pygments_lexer": "ipython3",
   "version": "3.12.7"
  }
 },
 "nbformat": 4,
 "nbformat_minor": 5
}
