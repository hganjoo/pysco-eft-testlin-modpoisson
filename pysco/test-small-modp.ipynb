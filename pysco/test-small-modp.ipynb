{
 "cells": [
  {
   "cell_type": "code",
   "execution_count": 1,
   "id": "b849885c-861b-4f15-a951-6cf85cb9fcee",
   "metadata": {},
   "outputs": [],
   "source": [
    "import main\n",
    "import pandas as pd"
   ]
  },
  {
   "cell_type": "code",
   "execution_count": 2,
   "id": "5ef8bd61-eb79-4e13-8a29-daebb50df2ed",
   "metadata": {},
   "outputs": [
    {
     "data": {
      "text/html": [
       "<pre style=\"white-space:pre;overflow-x:auto;line-height:normal;font-family:Menlo,'DejaVu Sans Mono',consolas,'Courier New',monospace\">param<span style=\"font-weight: bold\">[</span><span style=\"color: #008000; text-decoration-color: #008000\">'nthreads'</span><span style=\"font-weight: bold\">]</span>=<span style=\"color: #008080; text-decoration-color: #008080; font-weight: bold\">1</span>                                                                                                \n",
       "</pre>\n"
      ],
      "text/plain": [
       "param\u001b[1m[\u001b[0m\u001b[32m'nthreads'\u001b[0m\u001b[1m]\u001b[0m=\u001b[1;36m1\u001b[0m                                                                                                \n"
      ]
     },
     "metadata": {},
     "output_type": "display_data"
    },
    {
     "data": {
      "text/html": [
       "<pre style=\"white-space:pre;overflow-x:auto;line-height:normal;font-family:Menlo,'DejaVu Sans Mono',consolas,'Courier New',monospace\">                                                                                                                   \n",
       "<span style=\"color: #008000; text-decoration-color: #008000; font-weight: bold\">FFT module: NumPy</span>                                                                                                  \n",
       "</pre>\n"
      ],
      "text/plain": [
       "                                                                                                                   \n",
       "\u001b[1;32mFFT module: NumPy\u001b[0m                                                                                                  \n"
      ]
     },
     "metadata": {},
     "output_type": "display_data"
    },
    {
     "data": {
      "text/html": [
       "<pre style=\"white-space:pre;overflow-x:auto;line-height:normal;font-family:Menlo,'DejaVu Sans Mono',consolas,'Courier New',monospace\">                                                                                                                   \n",
       "<span style=\"color: #000080; text-decoration-color: #000080; font-weight: bold\">----- Compute background cosmology -----</span>                                                                           \n",
       "                                                                                                                   \n",
       "</pre>\n"
      ],
      "text/plain": [
       "                                                                                                                   \n",
       "\u001b[1;34m----- Compute background cosmology -----\u001b[0m                                                                           \n",
       "                                                                                                                   \n"
      ]
     },
     "metadata": {},
     "output_type": "display_data"
    },
    {
     "data": {
      "text/html": [
       "<pre style=\"white-space:pre;overflow-x:auto;line-height:normal;font-family:Menlo,'DejaVu Sans Mono',consolas,'Courier New',monospace\">Write table in: .<span style=\"color: #800080; text-decoration-color: #800080\">/smalln//</span><span style=\"color: #ff00ff; text-decoration-color: #ff00ff\">evolution_table_pysco_eft_multigrid_ncoarse6.txt</span>                                         \n",
       "</pre>\n"
      ],
      "text/plain": [
       "Write table in: .\u001b[35m/smalln/\u001b[0m\u001b[35m/\u001b[0m\u001b[95mevolution_table_pysco_eft_multigrid_ncoarse6.txt\u001b[0m                                         \n"
      ]
     },
     "metadata": {},
     "output_type": "display_data"
    },
    {
     "data": {
      "text/html": [
       "<pre style=\"white-space:pre;overflow-x:auto;line-height:normal;font-family:Menlo,'DejaVu Sans Mono',consolas,'Courier New',monospace\">                                                                                                                   \n",
       "<span style=\"color: #000080; text-decoration-color: #000080; font-weight: bold\">----- Initial conditions -----</span>                                                                                     \n",
       "                                                                                                                   \n",
       "</pre>\n"
      ],
      "text/plain": [
       "                                                                                                                   \n",
       "\u001b[1;34m----- Initial conditions -----\u001b[0m                                                                                     \n",
       "                                                                                                                   \n"
      ]
     },
     "metadata": {},
     "output_type": "display_data"
    },
    {
     "data": {
      "text/html": [
       "<pre style=\"white-space:pre;overflow-x:auto;line-height:normal;font-family:Menlo,'DejaVu Sans Mono',consolas,'Courier New',monospace\">param<span style=\"font-weight: bold\">[</span><span style=\"color: #008000; text-decoration-color: #008000\">'z_start'</span><span style=\"font-weight: bold\">]</span>=<span style=\"color: #008080; text-decoration-color: #008080; font-weight: bold\">60</span>                                                                                                \n",
       "</pre>\n"
      ],
      "text/plain": [
       "param\u001b[1m[\u001b[0m\u001b[32m'z_start'\u001b[0m\u001b[1m]\u001b[0m=\u001b[1;36m60\u001b[0m                                                                                                \n"
      ]
     },
     "metadata": {},
     "output_type": "display_data"
    },
    {
     "data": {
      "text/html": [
       "<pre style=\"white-space:pre;overflow-x:auto;line-height:normal;font-family:Menlo,'DejaVu Sans Mono',consolas,'Courier New',monospace\">Compute 1LPT contribution                                                                                          \n",
       "</pre>\n"
      ],
      "text/plain": [
       "Compute 1LPT contribution                                                                                          \n"
      ]
     },
     "metadata": {},
     "output_type": "display_data"
    },
    {
     "data": {
      "text/html": [
       "<pre style=\"white-space:pre;overflow-x:auto;line-height:normal;font-family:Menlo,'DejaVu Sans Mono',consolas,'Courier New',monospace\">Compute 2LPT contribution                                                                                          \n",
       "</pre>\n"
      ],
      "text/plain": [
       "Compute 2LPT contribution                                                                                          \n"
      ]
     },
     "metadata": {},
     "output_type": "display_data"
    },
    {
     "data": {
      "text/html": [
       "<pre style=\"white-space:pre;overflow-x:auto;line-height:normal;font-family:Menlo,'DejaVu Sans Mono',consolas,'Courier New',monospace\">Write initial snapshot<span style=\"color: #808000; text-decoration-color: #808000\">...</span><span style=\"color: #808000; text-decoration-color: #808000\">snap_name</span>=<span style=\"color: #008000; text-decoration-color: #008000\">'./smalln//output_00000/particles_eft_multigrid_ncoarse6.h5'</span>                    \n",
       "</pre>\n"
      ],
      "text/plain": [
       "Write initial snapshot\u001b[33m...\u001b[0m\u001b[33msnap_name\u001b[0m=\u001b[32m'./smalln//output_00000/particles_eft_multigrid_ncoarse6.h5'\u001b[0m                    \n"
      ]
     },
     "metadata": {},
     "output_type": "display_data"
    },
    {
     "name": "stdout",
     "output_type": "stream",
     "text": [
      "ICs [0.00765978 0.00753698 0.00775649] [-1.9689942e-05 -3.5508259e-05 -7.1125546e-06]\n"
     ]
    },
    {
     "data": {
      "text/html": [
       "<pre style=\"white-space:pre;overflow-x:auto;line-height:normal;font-family:Menlo,'DejaVu Sans Mono',consolas,'Courier New',monospace\">param<span style=\"font-weight: bold\">[</span><span style=\"color: #008000; text-decoration-color: #008000\">'aexp'</span><span style=\"font-weight: bold\">]</span>=<span style=\"color: #008080; text-decoration-color: #008080; font-weight: bold\">0.01639344262295082</span> param<span style=\"font-weight: bold\">[</span><span style=\"color: #008000; text-decoration-color: #008000\">'t'</span><span style=\"font-weight: bold\">]</span>=<span style=\"color: #800080; text-decoration-color: #800080; font-weight: bold\">array</span><span style=\"font-weight: bold\">(</span><span style=\"color: #008080; text-decoration-color: #008080; font-weight: bold\">-13.62049933</span><span style=\"font-weight: bold\">)</span>                                                   \n",
       "</pre>\n"
      ],
      "text/plain": [
       "param\u001b[1m[\u001b[0m\u001b[32m'aexp'\u001b[0m\u001b[1m]\u001b[0m=\u001b[1;36m0.01639344262295082\u001b[0m param\u001b[1m[\u001b[0m\u001b[32m't'\u001b[0m\u001b[1m]\u001b[0m=\u001b[1;35marray\u001b[0m\u001b[1m(\u001b[0m\u001b[1;36m-13.62049933\u001b[0m\u001b[1m)\u001b[0m                                                   \n"
      ]
     },
     "metadata": {},
     "output_type": "display_data"
    },
    {
     "data": {
      "text/html": [
       "<pre style=\"white-space:pre;overflow-x:auto;line-height:normal;font-family:Menlo,'DejaVu Sans Mono',consolas,'Courier New',monospace\">                                                                                                                   \n",
       "<span style=\"color: #000080; text-decoration-color: #000080; font-weight: bold\">----- Run N-body -----</span>                                                                                             \n",
       "                                                                                                                   \n",
       "</pre>\n"
      ],
      "text/plain": [
       "                                                                                                                   \n",
       "\u001b[1;34m----- Run N-body -----\u001b[0m                                                                                             \n",
       "                                                                                                                   \n"
      ]
     },
     "metadata": {},
     "output_type": "display_data"
    },
    {
     "data": {
      "text/html": [
       "<pre style=\"white-space:pre;overflow-x:auto;line-height:normal;font-family:Menlo,'DejaVu Sans Mono',consolas,'Courier New',monospace\">Tables, <span style=\"color: #008080; text-decoration-color: #008080; font-weight: bold\">13</span>                                                                                                         \n",
       "</pre>\n"
      ],
      "text/plain": [
       "Tables, \u001b[1;36m13\u001b[0m                                                                                                         \n"
      ]
     },
     "metadata": {},
     "output_type": "display_data"
    },
    {
     "name": "stdout",
     "output_type": "stream",
     "text": [
      "Full solver.\n",
      "Smoothing RHS EFT\n",
      "Smoothing RHS EFT\n",
      "Smoothing RHS EFT\n",
      "Smoothing RHS EFT\n",
      "Smoothing RHS EFT\n",
      "Smoothing RHS EFT\n",
      "Smoothing RHS EFT\n",
      "Smoothing RHS EFT\n",
      "Smoothing RHS EFT\n",
      "Smoothing RHS EFT\n",
      "Smoothing RHS EFT\n",
      "Smoothing RHS EFT\n",
      "Smoothing RHS EFT\n",
      "Smoothing RHS EFT\n",
      "Smoothing RHS EFT\n",
      "Smoothing RHS EFT\n",
      "Smoothing RHS EFT\n",
      "Smoothing RHS EFT\n",
      "Smoothing RHS EFT\n",
      "Smoothing RHS EFT\n",
      "Smoothing RHS EFT\n",
      "Smoothing RHS EFT\n",
      "Smoothing RHS EFT\n",
      "Smoothing RHS EFT\n",
      "Smoothing RHS EFT\n",
      "Smoothing RHS EFT\n",
      "reserr-FAS: 0.0004288663621991873\n",
      "Full solver.\n",
      "Smoothing RHS EFT\n",
      "Smoothing RHS EFT\n",
      "Smoothing RHS EFT\n",
      "Smoothing RHS EFT\n",
      "Smoothing RHS EFT\n",
      "Smoothing RHS EFT\n",
      "Smoothing RHS EFT\n",
      "Smoothing RHS EFT\n",
      "Smoothing RHS EFT\n",
      "Smoothing RHS EFT\n",
      "Smoothing RHS EFT\n",
      "Smoothing RHS EFT\n",
      "Smoothing RHS EFT\n",
      "Smoothing RHS EFT\n",
      "Smoothing RHS EFT\n",
      "Smoothing RHS EFT\n",
      "Smoothing RHS EFT\n",
      "Smoothing RHS EFT\n",
      "Smoothing RHS EFT\n",
      "Smoothing RHS EFT\n",
      "Smoothing RHS EFT\n",
      "Smoothing RHS EFT\n",
      "Smoothing RHS EFT\n",
      "Smoothing RHS EFT\n",
      "Smoothing RHS EFT\n",
      "Smoothing RHS EFT\n",
      "reserr-FAS: 0.0005189041839912534\n"
     ]
    },
    {
     "data": {
      "text/html": [
       "<pre style=\"white-space:pre;overflow-x:auto;line-height:normal;font-family:Menlo,'DejaVu Sans Mono',consolas,'Courier New',monospace\">param<span style=\"font-weight: bold\">[</span><span style=\"color: #008000; text-decoration-color: #008000\">'nsteps'</span><span style=\"font-weight: bold\">]</span>=<span style=\"color: #008080; text-decoration-color: #008080; font-weight: bold\">1</span> param<span style=\"font-weight: bold\">[</span><span style=\"color: #008000; text-decoration-color: #008000\">'aexp'</span><span style=\"font-weight: bold\">]</span>=<span style=\"color: #008080; text-decoration-color: #008080; font-weight: bold\">0.018032786886296715</span> z = <span style=\"color: #008080; text-decoration-color: #008080; font-weight: bold\">54.45454545131398</span>                                         \n",
       "</pre>\n"
      ],
      "text/plain": [
       "param\u001b[1m[\u001b[0m\u001b[32m'nsteps'\u001b[0m\u001b[1m]\u001b[0m=\u001b[1;36m1\u001b[0m param\u001b[1m[\u001b[0m\u001b[32m'aexp'\u001b[0m\u001b[1m]\u001b[0m=\u001b[1;36m0.018032786886296715\u001b[0m z = \u001b[1;36m54.45454545131398\u001b[0m                                         \n"
      ]
     },
     "metadata": {},
     "output_type": "display_data"
    },
    {
     "name": "stdout",
     "output_type": "stream",
     "text": [
      "Full solver.\n",
      "Smoothing RHS EFT\n",
      "Smoothing RHS EFT\n",
      "Smoothing RHS EFT\n",
      "Smoothing RHS EFT\n",
      "Smoothing RHS EFT\n",
      "Smoothing RHS EFT\n",
      "Smoothing RHS EFT\n",
      "Smoothing RHS EFT\n",
      "Smoothing RHS EFT\n",
      "Smoothing RHS EFT\n",
      "Smoothing RHS EFT\n",
      "Smoothing RHS EFT\n",
      "Smoothing RHS EFT\n",
      "Smoothing RHS EFT\n",
      "Smoothing RHS EFT\n",
      "Smoothing RHS EFT\n",
      "Smoothing RHS EFT\n",
      "Smoothing RHS EFT\n",
      "Smoothing RHS EFT\n",
      "Smoothing RHS EFT\n",
      "Smoothing RHS EFT\n",
      "Smoothing RHS EFT\n",
      "Smoothing RHS EFT\n",
      "Smoothing RHS EFT\n",
      "Smoothing RHS EFT\n",
      "Smoothing RHS EFT\n",
      "reserr-FAS: 0.0006281612440943718\n"
     ]
    },
    {
     "data": {
      "text/html": [
       "<pre style=\"white-space:pre;overflow-x:auto;line-height:normal;font-family:Menlo,'DejaVu Sans Mono',consolas,'Courier New',monospace\">param<span style=\"font-weight: bold\">[</span><span style=\"color: #008000; text-decoration-color: #008000\">'nsteps'</span><span style=\"font-weight: bold\">]</span>=<span style=\"color: #008080; text-decoration-color: #008080; font-weight: bold\">2</span> param<span style=\"font-weight: bold\">[</span><span style=\"color: #008000; text-decoration-color: #008000\">'aexp'</span><span style=\"font-weight: bold\">]</span>=<span style=\"color: #008080; text-decoration-color: #008080; font-weight: bold\">0.019836065532935567</span> z = <span style=\"color: #008080; text-decoration-color: #008080; font-weight: bold\">49.413223244277546</span>                                        \n",
       "</pre>\n"
      ],
      "text/plain": [
       "param\u001b[1m[\u001b[0m\u001b[32m'nsteps'\u001b[0m\u001b[1m]\u001b[0m=\u001b[1;36m2\u001b[0m param\u001b[1m[\u001b[0m\u001b[32m'aexp'\u001b[0m\u001b[1m]\u001b[0m=\u001b[1;36m0.019836065532935567\u001b[0m z = \u001b[1;36m49.413223244277546\u001b[0m                                        \n"
      ]
     },
     "metadata": {},
     "output_type": "display_data"
    },
    {
     "name": "stdout",
     "output_type": "stream",
     "text": [
      "Full solver.\n",
      "Smoothing RHS EFT\n",
      "Smoothing RHS EFT\n",
      "Smoothing RHS EFT\n",
      "Smoothing RHS EFT\n",
      "Smoothing RHS EFT\n",
      "Smoothing RHS EFT\n",
      "Smoothing RHS EFT\n",
      "Smoothing RHS EFT\n",
      "Smoothing RHS EFT\n",
      "Smoothing RHS EFT\n",
      "Smoothing RHS EFT\n",
      "Smoothing RHS EFT\n",
      "Smoothing RHS EFT\n",
      "Smoothing RHS EFT\n",
      "Smoothing RHS EFT\n",
      "Smoothing RHS EFT\n",
      "Smoothing RHS EFT\n",
      "Smoothing RHS EFT\n",
      "Smoothing RHS EFT\n",
      "Smoothing RHS EFT\n",
      "Smoothing RHS EFT\n",
      "Smoothing RHS EFT\n",
      "Smoothing RHS EFT\n",
      "Smoothing RHS EFT\n",
      "Smoothing RHS EFT\n",
      "Smoothing RHS EFT\n",
      "reserr-FAS: 0.0007607460720464587\n"
     ]
    },
    {
     "data": {
      "text/html": [
       "<pre style=\"white-space:pre;overflow-x:auto;line-height:normal;font-family:Menlo,'DejaVu Sans Mono',consolas,'Courier New',monospace\">param<span style=\"font-weight: bold\">[</span><span style=\"color: #008000; text-decoration-color: #008000\">'nsteps'</span><span style=\"font-weight: bold\">]</span>=<span style=\"color: #008080; text-decoration-color: #008080; font-weight: bold\">3</span> param<span style=\"font-weight: bold\">[</span><span style=\"color: #008000; text-decoration-color: #008000\">'aexp'</span><span style=\"font-weight: bold\">]</span>=<span style=\"color: #008080; text-decoration-color: #008080; font-weight: bold\">0.021819672134484495</span> z = <span style=\"color: #008080; text-decoration-color: #008080; font-weight: bold\">44.83020284798728</span>                                         \n",
       "</pre>\n"
      ],
      "text/plain": [
       "param\u001b[1m[\u001b[0m\u001b[32m'nsteps'\u001b[0m\u001b[1m]\u001b[0m=\u001b[1;36m3\u001b[0m param\u001b[1m[\u001b[0m\u001b[32m'aexp'\u001b[0m\u001b[1m]\u001b[0m=\u001b[1;36m0.021819672134484495\u001b[0m z = \u001b[1;36m44.83020284798728\u001b[0m                                         \n"
      ]
     },
     "metadata": {},
     "output_type": "display_data"
    },
    {
     "name": "stdout",
     "output_type": "stream",
     "text": [
      "Full solver.\n",
      "Smoothing RHS EFT\n",
      "Smoothing RHS EFT\n",
      "Smoothing RHS EFT\n",
      "Smoothing RHS EFT\n",
      "Smoothing RHS EFT\n",
      "Smoothing RHS EFT\n",
      "Smoothing RHS EFT\n",
      "Smoothing RHS EFT\n",
      "Smoothing RHS EFT\n",
      "Smoothing RHS EFT\n",
      "Smoothing RHS EFT\n",
      "Smoothing RHS EFT\n",
      "Smoothing RHS EFT\n",
      "Smoothing RHS EFT\n",
      "Smoothing RHS EFT\n",
      "Smoothing RHS EFT\n",
      "Smoothing RHS EFT\n",
      "Smoothing RHS EFT\n",
      "Smoothing RHS EFT\n",
      "Smoothing RHS EFT\n",
      "Smoothing RHS EFT\n",
      "Smoothing RHS EFT\n",
      "Smoothing RHS EFT\n",
      "Smoothing RHS EFT\n",
      "Smoothing RHS EFT\n",
      "Smoothing RHS EFT\n",
      "reserr-FAS: 0.0009216630132868886\n"
     ]
    },
    {
     "data": {
      "text/html": [
       "<pre style=\"white-space:pre;overflow-x:auto;line-height:normal;font-family:Menlo,'DejaVu Sans Mono',consolas,'Courier New',monospace\">param<span style=\"font-weight: bold\">[</span><span style=\"color: #008000; text-decoration-color: #008000\">'nsteps'</span><span style=\"font-weight: bold\">]</span>=<span style=\"color: #008080; text-decoration-color: #008080; font-weight: bold\">4</span> param<span style=\"font-weight: bold\">[</span><span style=\"color: #008000; text-decoration-color: #008000\">'aexp'</span><span style=\"font-weight: bold\">]</span>=<span style=\"color: #008080; text-decoration-color: #008080; font-weight: bold\">0.02400163929799238</span> z = <span style=\"color: #008080; text-decoration-color: #008080; font-weight: bold\">40.66382085758806</span>                                          \n",
       "</pre>\n"
      ],
      "text/plain": [
       "param\u001b[1m[\u001b[0m\u001b[32m'nsteps'\u001b[0m\u001b[1m]\u001b[0m=\u001b[1;36m4\u001b[0m param\u001b[1m[\u001b[0m\u001b[32m'aexp'\u001b[0m\u001b[1m]\u001b[0m=\u001b[1;36m0.02400163929799238\u001b[0m z = \u001b[1;36m40.66382085758806\u001b[0m                                          \n"
      ]
     },
     "metadata": {},
     "output_type": "display_data"
    },
    {
     "name": "stdout",
     "output_type": "stream",
     "text": [
      "Full solver.\n",
      "Smoothing RHS EFT\n",
      "Smoothing RHS EFT\n",
      "Smoothing RHS EFT\n",
      "Smoothing RHS EFT\n",
      "Smoothing RHS EFT\n",
      "Smoothing RHS EFT\n",
      "Smoothing RHS EFT\n",
      "Smoothing RHS EFT\n",
      "Smoothing RHS EFT\n",
      "Smoothing RHS EFT\n",
      "Smoothing RHS EFT\n",
      "Smoothing RHS EFT\n",
      "Smoothing RHS EFT\n",
      "Smoothing RHS EFT\n",
      "Smoothing RHS EFT\n",
      "Smoothing RHS EFT\n",
      "Smoothing RHS EFT\n",
      "Smoothing RHS EFT\n",
      "Smoothing RHS EFT\n",
      "Smoothing RHS EFT\n",
      "Smoothing RHS EFT\n",
      "Smoothing RHS EFT\n",
      "Smoothing RHS EFT\n",
      "Smoothing RHS EFT\n",
      "Smoothing RHS EFT\n",
      "Smoothing RHS EFT\n",
      "reserr-FAS: 0.0011169902281835675\n"
     ]
    },
    {
     "data": {
      "text/html": [
       "<pre style=\"white-space:pre;overflow-x:auto;line-height:normal;font-family:Menlo,'DejaVu Sans Mono',consolas,'Courier New',monospace\">param<span style=\"font-weight: bold\">[</span><span style=\"color: #008000; text-decoration-color: #008000\">'nsteps'</span><span style=\"font-weight: bold\">]</span>=<span style=\"color: #008080; text-decoration-color: #008080; font-weight: bold\">5</span> param<span style=\"font-weight: bold\">[</span><span style=\"color: #008000; text-decoration-color: #008000\">'aexp'</span><span style=\"font-weight: bold\">]</span>=<span style=\"color: #008080; text-decoration-color: #008080; font-weight: bold\">0.026401803288958612</span> z = <span style=\"color: #008080; text-decoration-color: #008080; font-weight: bold\">36.87620069187493</span>                                         \n",
       "</pre>\n"
      ],
      "text/plain": [
       "param\u001b[1m[\u001b[0m\u001b[32m'nsteps'\u001b[0m\u001b[1m]\u001b[0m=\u001b[1;36m5\u001b[0m param\u001b[1m[\u001b[0m\u001b[32m'aexp'\u001b[0m\u001b[1m]\u001b[0m=\u001b[1;36m0.026401803288958612\u001b[0m z = \u001b[1;36m36.87620069187493\u001b[0m                                         \n"
      ]
     },
     "metadata": {},
     "output_type": "display_data"
    },
    {
     "name": "stdout",
     "output_type": "stream",
     "text": [
      "Full solver.\n",
      "Smoothing RHS EFT\n",
      "Smoothing RHS EFT\n",
      "Smoothing RHS EFT\n",
      "Smoothing RHS EFT\n",
      "Smoothing RHS EFT\n",
      "Smoothing RHS EFT\n",
      "Smoothing RHS EFT\n",
      "Smoothing RHS EFT\n",
      "Smoothing RHS EFT\n",
      "Smoothing RHS EFT\n",
      "Smoothing RHS EFT\n",
      "Smoothing RHS EFT\n",
      "Smoothing RHS EFT\n",
      "Smoothing RHS EFT\n",
      "Smoothing RHS EFT\n",
      "Smoothing RHS EFT\n",
      "Smoothing RHS EFT\n",
      "Smoothing RHS EFT\n",
      "Smoothing RHS EFT\n",
      "Smoothing RHS EFT\n",
      "Smoothing RHS EFT\n",
      "Smoothing RHS EFT\n",
      "Smoothing RHS EFT\n",
      "Smoothing RHS EFT\n",
      "Smoothing RHS EFT\n",
      "Smoothing RHS EFT\n",
      "reserr-FAS: 0.0013541736407205462\n"
     ]
    },
    {
     "data": {
      "text/html": [
       "<pre style=\"white-space:pre;overflow-x:auto;line-height:normal;font-family:Menlo,'DejaVu Sans Mono',consolas,'Courier New',monospace\">param<span style=\"font-weight: bold\">[</span><span style=\"color: #008000; text-decoration-color: #008000\">'nsteps'</span><span style=\"font-weight: bold\">]</span>=<span style=\"color: #008080; text-decoration-color: #008080; font-weight: bold\">6</span> param<span style=\"font-weight: bold\">[</span><span style=\"color: #008000; text-decoration-color: #008000\">'aexp'</span><span style=\"font-weight: bold\">]</span>=<span style=\"color: #008080; text-decoration-color: #008080; font-weight: bold\">0.02904198366294012</span> z = <span style=\"color: #008080; text-decoration-color: #008080; font-weight: bold\">33.43290966643162</span>                                          \n",
       "</pre>\n"
      ],
      "text/plain": [
       "param\u001b[1m[\u001b[0m\u001b[32m'nsteps'\u001b[0m\u001b[1m]\u001b[0m=\u001b[1;36m6\u001b[0m param\u001b[1m[\u001b[0m\u001b[32m'aexp'\u001b[0m\u001b[1m]\u001b[0m=\u001b[1;36m0.02904198366294012\u001b[0m z = \u001b[1;36m33.43290966643162\u001b[0m                                          \n"
      ]
     },
     "metadata": {},
     "output_type": "display_data"
    },
    {
     "name": "stdout",
     "output_type": "stream",
     "text": [
      "Full solver.\n",
      "Smoothing RHS EFT\n",
      "Smoothing RHS EFT\n",
      "Smoothing RHS EFT\n",
      "Smoothing RHS EFT\n",
      "Smoothing RHS EFT\n",
      "Smoothing RHS EFT\n",
      "Smoothing RHS EFT\n",
      "Smoothing RHS EFT\n",
      "Smoothing RHS EFT\n",
      "Smoothing RHS EFT\n",
      "Smoothing RHS EFT\n",
      "Smoothing RHS EFT\n",
      "Smoothing RHS EFT\n",
      "Smoothing RHS EFT\n",
      "Smoothing RHS EFT\n",
      "Smoothing RHS EFT\n",
      "Smoothing RHS EFT\n",
      "Smoothing RHS EFT\n",
      "Smoothing RHS EFT\n",
      "Smoothing RHS EFT\n",
      "Smoothing RHS EFT\n",
      "Smoothing RHS EFT\n",
      "Smoothing RHS EFT\n",
      "Smoothing RHS EFT\n",
      "Smoothing RHS EFT\n",
      "Smoothing RHS EFT\n",
      "reserr-FAS: 0.0016422136686742306\n"
     ]
    },
    {
     "data": {
      "text/html": [
       "<pre style=\"white-space:pre;overflow-x:auto;line-height:normal;font-family:Menlo,'DejaVu Sans Mono',consolas,'Courier New',monospace\">param<span style=\"font-weight: bold\">[</span><span style=\"color: #008000; text-decoration-color: #008000\">'nsteps'</span><span style=\"font-weight: bold\">]</span>=<span style=\"color: #008080; text-decoration-color: #008080; font-weight: bold\">7</span> param<span style=\"font-weight: bold\">[</span><span style=\"color: #008000; text-decoration-color: #008000\">'aexp'</span><span style=\"font-weight: bold\">]</span>=<span style=\"color: #008080; text-decoration-color: #008080; font-weight: bold\">0.031946182012235105</span> z = <span style=\"color: #008080; text-decoration-color: #008080; font-weight: bold\">30.30264516795806</span>                                         \n",
       "</pre>\n"
      ],
      "text/plain": [
       "param\u001b[1m[\u001b[0m\u001b[32m'nsteps'\u001b[0m\u001b[1m]\u001b[0m=\u001b[1;36m7\u001b[0m param\u001b[1m[\u001b[0m\u001b[32m'aexp'\u001b[0m\u001b[1m]\u001b[0m=\u001b[1;36m0.031946182012235105\u001b[0m z = \u001b[1;36m30.30264516795806\u001b[0m                                         \n"
      ]
     },
     "metadata": {},
     "output_type": "display_data"
    },
    {
     "name": "stdout",
     "output_type": "stream",
     "text": [
      "Full solver.\n",
      "Smoothing RHS EFT\n",
      "Smoothing RHS EFT\n",
      "Smoothing RHS EFT\n",
      "Smoothing RHS EFT\n",
      "Smoothing RHS EFT\n",
      "Smoothing RHS EFT\n",
      "Smoothing RHS EFT\n",
      "Smoothing RHS EFT\n",
      "Smoothing RHS EFT\n",
      "Smoothing RHS EFT\n",
      "Smoothing RHS EFT\n",
      "Smoothing RHS EFT\n",
      "Smoothing RHS EFT\n",
      "Smoothing RHS EFT\n",
      "Smoothing RHS EFT\n",
      "Smoothing RHS EFT\n",
      "Smoothing RHS EFT\n",
      "Smoothing RHS EFT\n",
      "Smoothing RHS EFT\n",
      "Smoothing RHS EFT\n",
      "Smoothing RHS EFT\n",
      "Smoothing RHS EFT\n",
      "Smoothing RHS EFT\n",
      "Smoothing RHS EFT\n",
      "Smoothing RHS EFT\n",
      "Smoothing RHS EFT\n",
      "reserr-FAS: 0.001992180710658431\n"
     ]
    },
    {
     "data": {
      "text/html": [
       "<pre style=\"white-space:pre;overflow-x:auto;line-height:normal;font-family:Menlo,'DejaVu Sans Mono',consolas,'Courier New',monospace\">param<span style=\"font-weight: bold\">[</span><span style=\"color: #008000; text-decoration-color: #008000\">'nsteps'</span><span style=\"font-weight: bold\">]</span>=<span style=\"color: #008080; text-decoration-color: #008080; font-weight: bold\">8</span> param<span style=\"font-weight: bold\">[</span><span style=\"color: #008000; text-decoration-color: #008000\">'aexp'</span><span style=\"font-weight: bold\">]</span>=<span style=\"color: #008080; text-decoration-color: #008080; font-weight: bold\">0.03514080040818484</span> z = <span style=\"color: #008080; text-decoration-color: #008080; font-weight: bold\">27.45694999500024</span>                                          \n",
       "</pre>\n"
      ],
      "text/plain": [
       "param\u001b[1m[\u001b[0m\u001b[32m'nsteps'\u001b[0m\u001b[1m]\u001b[0m=\u001b[1;36m8\u001b[0m param\u001b[1m[\u001b[0m\u001b[32m'aexp'\u001b[0m\u001b[1m]\u001b[0m=\u001b[1;36m0.03514080040818484\u001b[0m z = \u001b[1;36m27.45694999500024\u001b[0m                                          \n"
      ]
     },
     "metadata": {},
     "output_type": "display_data"
    },
    {
     "name": "stdout",
     "output_type": "stream",
     "text": [
      "Full solver.\n",
      "Smoothing RHS EFT\n",
      "Smoothing RHS EFT\n",
      "Smoothing RHS EFT\n",
      "Smoothing RHS EFT\n",
      "Smoothing RHS EFT\n",
      "Smoothing RHS EFT\n",
      "Smoothing RHS EFT\n",
      "Smoothing RHS EFT\n",
      "Smoothing RHS EFT\n",
      "Smoothing RHS EFT\n",
      "Smoothing RHS EFT\n",
      "Smoothing RHS EFT\n",
      "Smoothing RHS EFT\n",
      "Smoothing RHS EFT\n",
      "Smoothing RHS EFT\n",
      "Smoothing RHS EFT\n",
      "Smoothing RHS EFT\n",
      "Smoothing RHS EFT\n",
      "Smoothing RHS EFT\n",
      "Smoothing RHS EFT\n",
      "Smoothing RHS EFT\n",
      "Smoothing RHS EFT\n",
      "Smoothing RHS EFT\n",
      "Smoothing RHS EFT\n",
      "Smoothing RHS EFT\n",
      "Smoothing RHS EFT\n",
      "reserr-FAS: 0.0024175641592592\n"
     ]
    },
    {
     "data": {
      "text/html": [
       "<pre style=\"white-space:pre;overflow-x:auto;line-height:normal;font-family:Menlo,'DejaVu Sans Mono',consolas,'Courier New',monospace\">param<span style=\"font-weight: bold\">[</span><span style=\"color: #008000; text-decoration-color: #008000\">'nsteps'</span><span style=\"font-weight: bold\">]</span>=<span style=\"color: #008080; text-decoration-color: #008080; font-weight: bold\">9</span> param<span style=\"font-weight: bold\">[</span><span style=\"color: #008000; text-decoration-color: #008000\">'aexp'</span><span style=\"font-weight: bold\">]</span>=<span style=\"color: #008080; text-decoration-color: #008080; font-weight: bold\">0.038654880412808304</span> z = <span style=\"color: #008080; text-decoration-color: #008080; font-weight: bold\">24.86995456513299</span>                                         \n",
       "</pre>\n"
      ],
      "text/plain": [
       "param\u001b[1m[\u001b[0m\u001b[32m'nsteps'\u001b[0m\u001b[1m]\u001b[0m=\u001b[1;36m9\u001b[0m param\u001b[1m[\u001b[0m\u001b[32m'aexp'\u001b[0m\u001b[1m]\u001b[0m=\u001b[1;36m0.038654880412808304\u001b[0m z = \u001b[1;36m24.86995456513299\u001b[0m                                         \n"
      ]
     },
     "metadata": {},
     "output_type": "display_data"
    },
    {
     "name": "stdout",
     "output_type": "stream",
     "text": [
      "Full solver.\n",
      "Smoothing RHS EFT\n",
      "Smoothing RHS EFT\n",
      "Smoothing RHS EFT\n",
      "Smoothing RHS EFT\n",
      "Smoothing RHS EFT\n",
      "Smoothing RHS EFT\n",
      "Smoothing RHS EFT\n",
      "Smoothing RHS EFT\n",
      "Smoothing RHS EFT\n",
      "Smoothing RHS EFT\n",
      "Smoothing RHS EFT\n",
      "Smoothing RHS EFT\n",
      "Smoothing RHS EFT\n",
      "Smoothing RHS EFT\n",
      "Smoothing RHS EFT\n",
      "Smoothing RHS EFT\n",
      "Smoothing RHS EFT\n",
      "Smoothing RHS EFT\n",
      "Smoothing RHS EFT\n",
      "Smoothing RHS EFT\n",
      "Smoothing RHS EFT\n",
      "Smoothing RHS EFT\n",
      "Smoothing RHS EFT\n",
      "Smoothing RHS EFT\n",
      "Smoothing RHS EFT\n",
      "Smoothing RHS EFT\n",
      "reserr-FAS: 0.0029348686803132296\n"
     ]
    },
    {
     "data": {
      "text/html": [
       "<pre style=\"white-space:pre;overflow-x:auto;line-height:normal;font-family:Menlo,'DejaVu Sans Mono',consolas,'Courier New',monospace\">param<span style=\"font-weight: bold\">[</span><span style=\"color: #008000; text-decoration-color: #008000\">'nsteps'</span><span style=\"font-weight: bold\">]</span>=<span style=\"color: #008080; text-decoration-color: #008080; font-weight: bold\">10</span> param<span style=\"font-weight: bold\">[</span><span style=\"color: #008000; text-decoration-color: #008000\">'aexp'</span><span style=\"font-weight: bold\">]</span>=<span style=\"color: #008080; text-decoration-color: #008080; font-weight: bold\">0.0425203685592925</span> z = <span style=\"color: #008080; text-decoration-color: #008080; font-weight: bold\">22.518140455568975</span>                                         \n",
       "</pre>\n"
      ],
      "text/plain": [
       "param\u001b[1m[\u001b[0m\u001b[32m'nsteps'\u001b[0m\u001b[1m]\u001b[0m=\u001b[1;36m10\u001b[0m param\u001b[1m[\u001b[0m\u001b[32m'aexp'\u001b[0m\u001b[1m]\u001b[0m=\u001b[1;36m0.0425203685592925\u001b[0m z = \u001b[1;36m22.518140455568975\u001b[0m                                         \n"
      ]
     },
     "metadata": {},
     "output_type": "display_data"
    },
    {
     "name": "stdout",
     "output_type": "stream",
     "text": [
      "Full solver.\n",
      "Smoothing RHS EFT\n",
      "Smoothing RHS EFT\n",
      "Smoothing RHS EFT\n",
      "Smoothing RHS EFT\n",
      "Smoothing RHS EFT\n",
      "Smoothing RHS EFT\n",
      "Smoothing RHS EFT\n",
      "Smoothing RHS EFT\n",
      "Smoothing RHS EFT\n",
      "Smoothing RHS EFT\n",
      "Smoothing RHS EFT\n",
      "Smoothing RHS EFT\n",
      "Smoothing RHS EFT\n",
      "Smoothing RHS EFT\n",
      "Smoothing RHS EFT\n",
      "Smoothing RHS EFT\n",
      "Smoothing RHS EFT\n",
      "Smoothing RHS EFT\n",
      "Smoothing RHS EFT\n",
      "Smoothing RHS EFT\n",
      "Smoothing RHS EFT\n",
      "Smoothing RHS EFT\n",
      "Smoothing RHS EFT\n",
      "Smoothing RHS EFT\n",
      "Smoothing RHS EFT\n",
      "Smoothing RHS EFT\n",
      "reserr-FAS: 0.003564346581697464\n"
     ]
    },
    {
     "data": {
      "text/html": [
       "<pre style=\"white-space:pre;overflow-x:auto;line-height:normal;font-family:Menlo,'DejaVu Sans Mono',consolas,'Courier New',monospace\">param<span style=\"font-weight: bold\">[</span><span style=\"color: #008000; text-decoration-color: #008000\">'nsteps'</span><span style=\"font-weight: bold\">]</span>=<span style=\"color: #008080; text-decoration-color: #008080; font-weight: bold\">11</span> param<span style=\"font-weight: bold\">[</span><span style=\"color: #008000; text-decoration-color: #008000\">'aexp'</span><span style=\"font-weight: bold\">]</span>=<span style=\"color: #008080; text-decoration-color: #008080; font-weight: bold\">0.04677240535336491</span> z = <span style=\"color: #008080; text-decoration-color: #008080; font-weight: bold\">20.380127715156256</span>                                        \n",
       "</pre>\n"
      ],
      "text/plain": [
       "param\u001b[1m[\u001b[0m\u001b[32m'nsteps'\u001b[0m\u001b[1m]\u001b[0m=\u001b[1;36m11\u001b[0m param\u001b[1m[\u001b[0m\u001b[32m'aexp'\u001b[0m\u001b[1m]\u001b[0m=\u001b[1;36m0.04677240535336491\u001b[0m z = \u001b[1;36m20.380127715156256\u001b[0m                                        \n"
      ]
     },
     "metadata": {},
     "output_type": "display_data"
    },
    {
     "name": "stdout",
     "output_type": "stream",
     "text": [
      "Full solver.\n",
      "Smoothing RHS EFT\n",
      "Smoothing RHS EFT\n",
      "Smoothing RHS EFT\n",
      "Smoothing RHS EFT\n",
      "Smoothing RHS EFT\n",
      "Smoothing RHS EFT\n",
      "Smoothing RHS EFT\n",
      "Smoothing RHS EFT\n",
      "Smoothing RHS EFT\n",
      "Smoothing RHS EFT\n",
      "Smoothing RHS EFT\n",
      "Smoothing RHS EFT\n",
      "Smoothing RHS EFT\n",
      "Smoothing RHS EFT\n",
      "Smoothing RHS EFT\n",
      "Smoothing RHS EFT\n",
      "Smoothing RHS EFT\n",
      "Smoothing RHS EFT\n",
      "Smoothing RHS EFT\n",
      "Smoothing RHS EFT\n",
      "Smoothing RHS EFT\n",
      "Smoothing RHS EFT\n",
      "Smoothing RHS EFT\n",
      "Smoothing RHS EFT\n",
      "Smoothing RHS EFT\n",
      "Smoothing RHS EFT\n",
      "reserr-FAS: 0.0036976251285523176\n"
     ]
    },
    {
     "data": {
      "text/html": [
       "<pre style=\"white-space:pre;overflow-x:auto;line-height:normal;font-family:Menlo,'DejaVu Sans Mono',consolas,'Courier New',monospace\">Snapshot written at <span style=\"color: #808000; text-decoration-color: #808000\">...</span><span style=\"color: #808000; text-decoration-color: #808000\">filename</span>=<span style=\"color: #008000; text-decoration-color: #008000\">'./smalln//output_00001/particles_eft_multigrid_ncoarse6.h5'</span>                       \n",
       "param<span style=\"font-weight: bold\">[</span><span style=\"color: #008000; text-decoration-color: #008000\">'aexp'</span><span style=\"font-weight: bold\">]</span>=<span style=\"color: #008080; text-decoration-color: #008080; font-weight: bold\">0.047619047619047616</span>                                                                                 \n",
       "</pre>\n"
      ],
      "text/plain": [
       "Snapshot written at \u001b[33m...\u001b[0m\u001b[33mfilename\u001b[0m=\u001b[32m'./smalln//output_00001/particles_eft_multigrid_ncoarse6.h5'\u001b[0m                       \n",
       "param\u001b[1m[\u001b[0m\u001b[32m'aexp'\u001b[0m\u001b[1m]\u001b[0m=\u001b[1;36m0.047619047619047616\u001b[0m                                                                                 \n"
      ]
     },
     "metadata": {},
     "output_type": "display_data"
    },
    {
     "data": {
      "text/html": [
       "<pre style=\"white-space:pre;overflow-x:auto;line-height:normal;font-family:Menlo,'DejaVu Sans Mono',consolas,'Courier New',monospace\">param<span style=\"font-weight: bold\">[</span><span style=\"color: #008000; text-decoration-color: #008000\">'nsteps'</span><span style=\"font-weight: bold\">]</span>=<span style=\"color: #008080; text-decoration-color: #008080; font-weight: bold\">12</span> param<span style=\"font-weight: bold\">[</span><span style=\"color: #008000; text-decoration-color: #008000\">'aexp'</span><span style=\"font-weight: bold\">]</span>=<span style=\"color: #008080; text-decoration-color: #008080; font-weight: bold\">0.047619047619047616</span> z = <span style=\"color: #008080; text-decoration-color: #008080; font-weight: bold\">20.0</span>                                                     \n",
       "</pre>\n"
      ],
      "text/plain": [
       "param\u001b[1m[\u001b[0m\u001b[32m'nsteps'\u001b[0m\u001b[1m]\u001b[0m=\u001b[1;36m12\u001b[0m param\u001b[1m[\u001b[0m\u001b[32m'aexp'\u001b[0m\u001b[1m]\u001b[0m=\u001b[1;36m0.047619047619047616\u001b[0m z = \u001b[1;36m20.0\u001b[0m                                                     \n"
      ]
     },
     "metadata": {},
     "output_type": "display_data"
    },
    {
     "name": "stdout",
     "output_type": "stream",
     "text": [
      "Full solver.\n",
      "Smoothing RHS EFT\n",
      "Smoothing RHS EFT\n",
      "Smoothing RHS EFT\n",
      "Smoothing RHS EFT\n",
      "Smoothing RHS EFT\n",
      "Smoothing RHS EFT\n",
      "Smoothing RHS EFT\n",
      "Smoothing RHS EFT\n",
      "Smoothing RHS EFT\n",
      "Smoothing RHS EFT\n",
      "Smoothing RHS EFT\n",
      "Smoothing RHS EFT\n",
      "Smoothing RHS EFT\n",
      "Smoothing RHS EFT\n",
      "Smoothing RHS EFT\n",
      "Smoothing RHS EFT\n",
      "Smoothing RHS EFT\n",
      "Smoothing RHS EFT\n",
      "Smoothing RHS EFT\n",
      "Smoothing RHS EFT\n",
      "Smoothing RHS EFT\n",
      "Smoothing RHS EFT\n",
      "Smoothing RHS EFT\n",
      "Smoothing RHS EFT\n",
      "Smoothing RHS EFT\n",
      "Smoothing RHS EFT\n",
      "reserr-FAS: 0.004085951019078493\n"
     ]
    },
    {
     "data": {
      "text/html": [
       "<pre style=\"white-space:pre;overflow-x:auto;line-height:normal;font-family:Menlo,'DejaVu Sans Mono',consolas,'Courier New',monospace\">Snapshot written at <span style=\"color: #808000; text-decoration-color: #808000\">...</span><span style=\"color: #808000; text-decoration-color: #808000\">filename</span>=<span style=\"color: #008000; text-decoration-color: #008000\">'./smalln//output_00002/particles_eft_multigrid_ncoarse6.h5'</span>                       \n",
       "param<span style=\"font-weight: bold\">[</span><span style=\"color: #008000; text-decoration-color: #008000\">'aexp'</span><span style=\"font-weight: bold\">]</span>=<span style=\"color: #008080; text-decoration-color: #008080; font-weight: bold\">0.05000000000000001</span>                                                                                  \n",
       "</pre>\n"
      ],
      "text/plain": [
       "Snapshot written at \u001b[33m...\u001b[0m\u001b[33mfilename\u001b[0m=\u001b[32m'./smalln//output_00002/particles_eft_multigrid_ncoarse6.h5'\u001b[0m                       \n",
       "param\u001b[1m[\u001b[0m\u001b[32m'aexp'\u001b[0m\u001b[1m]\u001b[0m=\u001b[1;36m0.05000000000000001\u001b[0m                                                                                  \n"
      ]
     },
     "metadata": {},
     "output_type": "display_data"
    },
    {
     "data": {
      "text/html": [
       "<pre style=\"white-space:pre;overflow-x:auto;line-height:normal;font-family:Menlo,'DejaVu Sans Mono',consolas,'Courier New',monospace\">param<span style=\"font-weight: bold\">[</span><span style=\"color: #008000; text-decoration-color: #008000\">'nsteps'</span><span style=\"font-weight: bold\">]</span>=<span style=\"color: #008080; text-decoration-color: #008080; font-weight: bold\">13</span> param<span style=\"font-weight: bold\">[</span><span style=\"color: #008000; text-decoration-color: #008000\">'aexp'</span><span style=\"font-weight: bold\">]</span>=<span style=\"color: #008080; text-decoration-color: #008080; font-weight: bold\">0.05000000000000001</span> z = <span style=\"color: #008080; text-decoration-color: #008080; font-weight: bold\">18.999999999999996</span>                                        \n",
       "</pre>\n"
      ],
      "text/plain": [
       "param\u001b[1m[\u001b[0m\u001b[32m'nsteps'\u001b[0m\u001b[1m]\u001b[0m=\u001b[1;36m13\u001b[0m param\u001b[1m[\u001b[0m\u001b[32m'aexp'\u001b[0m\u001b[1m]\u001b[0m=\u001b[1;36m0.05000000000000001\u001b[0m z = \u001b[1;36m18.999999999999996\u001b[0m                                        \n"
      ]
     },
     "metadata": {},
     "output_type": "display_data"
    },
    {
     "name": "stdout",
     "output_type": "stream",
     "text": [
      "Full solver.\n",
      "Smoothing RHS EFT\n",
      "Smoothing RHS EFT\n",
      "Smoothing RHS EFT\n",
      "Smoothing RHS EFT\n",
      "Smoothing RHS EFT\n",
      "Smoothing RHS EFT\n",
      "Smoothing RHS EFT\n",
      "Smoothing RHS EFT\n",
      "Smoothing RHS EFT\n",
      "Smoothing RHS EFT\n",
      "Smoothing RHS EFT\n",
      "Smoothing RHS EFT\n",
      "Smoothing RHS EFT\n",
      "Smoothing RHS EFT\n",
      "Smoothing RHS EFT\n",
      "Smoothing RHS EFT\n",
      "Smoothing RHS EFT\n",
      "Smoothing RHS EFT\n",
      "Smoothing RHS EFT\n",
      "Smoothing RHS EFT\n",
      "Smoothing RHS EFT\n",
      "Smoothing RHS EFT\n",
      "Smoothing RHS EFT\n",
      "Smoothing RHS EFT\n",
      "Smoothing RHS EFT\n",
      "Smoothing RHS EFT\n",
      "reserr-FAS: 0.004538857378065586\n"
     ]
    },
    {
     "data": {
      "text/html": [
       "<pre style=\"white-space:pre;overflow-x:auto;line-height:normal;font-family:Menlo,'DejaVu Sans Mono',consolas,'Courier New',monospace\">Snapshot written at <span style=\"color: #808000; text-decoration-color: #808000\">...</span><span style=\"color: #808000; text-decoration-color: #808000\">filename</span>=<span style=\"color: #008000; text-decoration-color: #008000\">'./smalln//output_00003/particles_eft_multigrid_ncoarse6.h5'</span>                       \n",
       "param<span style=\"font-weight: bold\">[</span><span style=\"color: #008000; text-decoration-color: #008000\">'aexp'</span><span style=\"font-weight: bold\">]</span>=<span style=\"color: #008080; text-decoration-color: #008080; font-weight: bold\">0.05263157894736841</span>                                                                                  \n",
       "</pre>\n"
      ],
      "text/plain": [
       "Snapshot written at \u001b[33m...\u001b[0m\u001b[33mfilename\u001b[0m=\u001b[32m'./smalln//output_00003/particles_eft_multigrid_ncoarse6.h5'\u001b[0m                       \n",
       "param\u001b[1m[\u001b[0m\u001b[32m'aexp'\u001b[0m\u001b[1m]\u001b[0m=\u001b[1;36m0.05263157894736841\u001b[0m                                                                                  \n"
      ]
     },
     "metadata": {},
     "output_type": "display_data"
    },
    {
     "data": {
      "text/html": [
       "<pre style=\"white-space:pre;overflow-x:auto;line-height:normal;font-family:Menlo,'DejaVu Sans Mono',consolas,'Courier New',monospace\">param<span style=\"font-weight: bold\">[</span><span style=\"color: #008000; text-decoration-color: #008000\">'nsteps'</span><span style=\"font-weight: bold\">]</span>=<span style=\"color: #008080; text-decoration-color: #008080; font-weight: bold\">14</span> param<span style=\"font-weight: bold\">[</span><span style=\"color: #008000; text-decoration-color: #008000\">'aexp'</span><span style=\"font-weight: bold\">]</span>=<span style=\"color: #008080; text-decoration-color: #008080; font-weight: bold\">0.05263157894736841</span> z = <span style=\"color: #008080; text-decoration-color: #008080; font-weight: bold\">18.000000000000004</span>                                        \n",
       "</pre>\n"
      ],
      "text/plain": [
       "param\u001b[1m[\u001b[0m\u001b[32m'nsteps'\u001b[0m\u001b[1m]\u001b[0m=\u001b[1;36m14\u001b[0m param\u001b[1m[\u001b[0m\u001b[32m'aexp'\u001b[0m\u001b[1m]\u001b[0m=\u001b[1;36m0.05263157894736841\u001b[0m z = \u001b[1;36m18.000000000000004\u001b[0m                                        \n"
      ]
     },
     "metadata": {},
     "output_type": "display_data"
    },
    {
     "name": "stdout",
     "output_type": "stream",
     "text": [
      "Full solver.\n",
      "Smoothing RHS EFT\n",
      "Smoothing RHS EFT\n",
      "Smoothing RHS EFT\n",
      "Smoothing RHS EFT\n",
      "Smoothing RHS EFT\n",
      "Smoothing RHS EFT\n",
      "Smoothing RHS EFT\n",
      "Smoothing RHS EFT\n",
      "Smoothing RHS EFT\n",
      "Smoothing RHS EFT\n",
      "Smoothing RHS EFT\n",
      "Smoothing RHS EFT\n",
      "Smoothing RHS EFT\n",
      "Smoothing RHS EFT\n",
      "Smoothing RHS EFT\n",
      "Smoothing RHS EFT\n",
      "Smoothing RHS EFT\n",
      "Smoothing RHS EFT\n",
      "Smoothing RHS EFT\n",
      "Smoothing RHS EFT\n",
      "Smoothing RHS EFT\n",
      "Smoothing RHS EFT\n",
      "Smoothing RHS EFT\n",
      "Smoothing RHS EFT\n",
      "Smoothing RHS EFT\n",
      "Smoothing RHS EFT\n",
      "reserr-FAS: 0.005071410909295082\n"
     ]
    },
    {
     "data": {
      "text/html": [
       "<pre style=\"white-space:pre;overflow-x:auto;line-height:normal;font-family:Menlo,'DejaVu Sans Mono',consolas,'Courier New',monospace\">Snapshot written at <span style=\"color: #808000; text-decoration-color: #808000\">...</span><span style=\"color: #808000; text-decoration-color: #808000\">filename</span>=<span style=\"color: #008000; text-decoration-color: #008000\">'./smalln//output_00004/particles_eft_multigrid_ncoarse6.h5'</span>                       \n",
       "param<span style=\"font-weight: bold\">[</span><span style=\"color: #008000; text-decoration-color: #008000\">'aexp'</span><span style=\"font-weight: bold\">]</span>=<span style=\"color: #008080; text-decoration-color: #008080; font-weight: bold\">0.05555555555555554</span>                                                                                  \n",
       "</pre>\n"
      ],
      "text/plain": [
       "Snapshot written at \u001b[33m...\u001b[0m\u001b[33mfilename\u001b[0m=\u001b[32m'./smalln//output_00004/particles_eft_multigrid_ncoarse6.h5'\u001b[0m                       \n",
       "param\u001b[1m[\u001b[0m\u001b[32m'aexp'\u001b[0m\u001b[1m]\u001b[0m=\u001b[1;36m0.05555555555555554\u001b[0m                                                                                  \n"
      ]
     },
     "metadata": {},
     "output_type": "display_data"
    },
    {
     "data": {
      "text/html": [
       "<pre style=\"white-space:pre;overflow-x:auto;line-height:normal;font-family:Menlo,'DejaVu Sans Mono',consolas,'Courier New',monospace\">param<span style=\"font-weight: bold\">[</span><span style=\"color: #008000; text-decoration-color: #008000\">'nsteps'</span><span style=\"font-weight: bold\">]</span>=<span style=\"color: #008080; text-decoration-color: #008080; font-weight: bold\">15</span> param<span style=\"font-weight: bold\">[</span><span style=\"color: #008000; text-decoration-color: #008000\">'aexp'</span><span style=\"font-weight: bold\">]</span>=<span style=\"color: #008080; text-decoration-color: #008080; font-weight: bold\">0.05555555555555554</span> z = <span style=\"color: #008080; text-decoration-color: #008080; font-weight: bold\">17.000000000000007</span>                                        \n",
       "</pre>\n"
      ],
      "text/plain": [
       "param\u001b[1m[\u001b[0m\u001b[32m'nsteps'\u001b[0m\u001b[1m]\u001b[0m=\u001b[1;36m15\u001b[0m param\u001b[1m[\u001b[0m\u001b[32m'aexp'\u001b[0m\u001b[1m]\u001b[0m=\u001b[1;36m0.05555555555555554\u001b[0m z = \u001b[1;36m17.000000000000007\u001b[0m                                        \n"
      ]
     },
     "metadata": {},
     "output_type": "display_data"
    },
    {
     "name": "stdout",
     "output_type": "stream",
     "text": [
      "Full solver.\n",
      "Smoothing RHS EFT\n",
      "Smoothing RHS EFT\n",
      "Smoothing RHS EFT\n",
      "Smoothing RHS EFT\n",
      "Smoothing RHS EFT\n",
      "Smoothing RHS EFT\n",
      "Smoothing RHS EFT\n",
      "Smoothing RHS EFT\n",
      "Smoothing RHS EFT\n",
      "Smoothing RHS EFT\n",
      "Smoothing RHS EFT\n",
      "Smoothing RHS EFT\n",
      "Smoothing RHS EFT\n",
      "Smoothing RHS EFT\n",
      "Smoothing RHS EFT\n",
      "Smoothing RHS EFT\n",
      "Smoothing RHS EFT\n",
      "Smoothing RHS EFT\n",
      "Smoothing RHS EFT\n",
      "Smoothing RHS EFT\n",
      "Smoothing RHS EFT\n",
      "Smoothing RHS EFT\n",
      "Smoothing RHS EFT\n",
      "Smoothing RHS EFT\n",
      "Smoothing RHS EFT\n",
      "Smoothing RHS EFT\n",
      "reserr-FAS: 0.005703526083379984\n"
     ]
    },
    {
     "data": {
      "text/html": [
       "<pre style=\"white-space:pre;overflow-x:auto;line-height:normal;font-family:Menlo,'DejaVu Sans Mono',consolas,'Courier New',monospace\">Snapshot written at <span style=\"color: #808000; text-decoration-color: #808000\">...</span><span style=\"color: #808000; text-decoration-color: #808000\">filename</span>=<span style=\"color: #008000; text-decoration-color: #008000\">'./smalln//output_00005/particles_eft_multigrid_ncoarse6.h5'</span>                       \n",
       "param<span style=\"font-weight: bold\">[</span><span style=\"color: #008000; text-decoration-color: #008000\">'aexp'</span><span style=\"font-weight: bold\">]</span>=<span style=\"color: #008080; text-decoration-color: #008080; font-weight: bold\">0.0588235294117647</span>                                                                                   \n",
       "</pre>\n"
      ],
      "text/plain": [
       "Snapshot written at \u001b[33m...\u001b[0m\u001b[33mfilename\u001b[0m=\u001b[32m'./smalln//output_00005/particles_eft_multigrid_ncoarse6.h5'\u001b[0m                       \n",
       "param\u001b[1m[\u001b[0m\u001b[32m'aexp'\u001b[0m\u001b[1m]\u001b[0m=\u001b[1;36m0.0588235294117647\u001b[0m                                                                                   \n"
      ]
     },
     "metadata": {},
     "output_type": "display_data"
    },
    {
     "data": {
      "text/html": [
       "<pre style=\"white-space:pre;overflow-x:auto;line-height:normal;font-family:Menlo,'DejaVu Sans Mono',consolas,'Courier New',monospace\">param<span style=\"font-weight: bold\">[</span><span style=\"color: #008000; text-decoration-color: #008000\">'nsteps'</span><span style=\"font-weight: bold\">]</span>=<span style=\"color: #008080; text-decoration-color: #008080; font-weight: bold\">16</span> param<span style=\"font-weight: bold\">[</span><span style=\"color: #008000; text-decoration-color: #008000\">'aexp'</span><span style=\"font-weight: bold\">]</span>=<span style=\"color: #008080; text-decoration-color: #008080; font-weight: bold\">0.0588235294117647</span> z = <span style=\"color: #008080; text-decoration-color: #008080; font-weight: bold\">16.000000000000004</span>                                         \n",
       "</pre>\n"
      ],
      "text/plain": [
       "param\u001b[1m[\u001b[0m\u001b[32m'nsteps'\u001b[0m\u001b[1m]\u001b[0m=\u001b[1;36m16\u001b[0m param\u001b[1m[\u001b[0m\u001b[32m'aexp'\u001b[0m\u001b[1m]\u001b[0m=\u001b[1;36m0.0588235294117647\u001b[0m z = \u001b[1;36m16.000000000000004\u001b[0m                                         \n"
      ]
     },
     "metadata": {},
     "output_type": "display_data"
    },
    {
     "name": "stdout",
     "output_type": "stream",
     "text": [
      "Full solver.\n",
      "Smoothing RHS EFT\n",
      "Smoothing RHS EFT\n",
      "Smoothing RHS EFT\n",
      "Smoothing RHS EFT\n",
      "Smoothing RHS EFT\n",
      "Smoothing RHS EFT\n",
      "Smoothing RHS EFT\n",
      "Smoothing RHS EFT\n",
      "Smoothing RHS EFT\n",
      "Smoothing RHS EFT\n",
      "Smoothing RHS EFT\n",
      "Smoothing RHS EFT\n",
      "Smoothing RHS EFT\n",
      "Smoothing RHS EFT\n",
      "Smoothing RHS EFT\n",
      "Smoothing RHS EFT\n",
      "Smoothing RHS EFT\n",
      "Smoothing RHS EFT\n",
      "Smoothing RHS EFT\n",
      "Smoothing RHS EFT\n",
      "Smoothing RHS EFT\n",
      "Smoothing RHS EFT\n",
      "Smoothing RHS EFT\n",
      "Smoothing RHS EFT\n",
      "Smoothing RHS EFT\n",
      "Smoothing RHS EFT\n",
      "reserr-FAS: 0.0064616454765200615\n"
     ]
    },
    {
     "data": {
      "text/html": [
       "<pre style=\"white-space:pre;overflow-x:auto;line-height:normal;font-family:Menlo,'DejaVu Sans Mono',consolas,'Courier New',monospace\">Snapshot written at <span style=\"color: #808000; text-decoration-color: #808000\">...</span><span style=\"color: #808000; text-decoration-color: #808000\">filename</span>=<span style=\"color: #008000; text-decoration-color: #008000\">'./smalln//output_00006/particles_eft_multigrid_ncoarse6.h5'</span> param<span style=\"font-weight: bold\">[</span><span style=\"color: #008000; text-decoration-color: #008000\">'aexp'</span><span style=\"font-weight: bold\">]</span>=<span style=\"color: #008080; text-decoration-color: #008080; font-weight: bold\">0.0625</span>  \n",
       "</pre>\n"
      ],
      "text/plain": [
       "Snapshot written at \u001b[33m...\u001b[0m\u001b[33mfilename\u001b[0m=\u001b[32m'./smalln//output_00006/particles_eft_multigrid_ncoarse6.h5'\u001b[0m param\u001b[1m[\u001b[0m\u001b[32m'aexp'\u001b[0m\u001b[1m]\u001b[0m=\u001b[1;36m0.0625\u001b[0m  \n"
      ]
     },
     "metadata": {},
     "output_type": "display_data"
    },
    {
     "data": {
      "text/html": [
       "<pre style=\"white-space:pre;overflow-x:auto;line-height:normal;font-family:Menlo,'DejaVu Sans Mono',consolas,'Courier New',monospace\">param<span style=\"font-weight: bold\">[</span><span style=\"color: #008000; text-decoration-color: #008000\">'nsteps'</span><span style=\"font-weight: bold\">]</span>=<span style=\"color: #008080; text-decoration-color: #008080; font-weight: bold\">17</span> param<span style=\"font-weight: bold\">[</span><span style=\"color: #008000; text-decoration-color: #008000\">'aexp'</span><span style=\"font-weight: bold\">]</span>=<span style=\"color: #008080; text-decoration-color: #008080; font-weight: bold\">0.0625</span> z = <span style=\"color: #008080; text-decoration-color: #008080; font-weight: bold\">15.0</span>                                                                   \n",
       "</pre>\n"
      ],
      "text/plain": [
       "param\u001b[1m[\u001b[0m\u001b[32m'nsteps'\u001b[0m\u001b[1m]\u001b[0m=\u001b[1;36m17\u001b[0m param\u001b[1m[\u001b[0m\u001b[32m'aexp'\u001b[0m\u001b[1m]\u001b[0m=\u001b[1;36m0.0625\u001b[0m z = \u001b[1;36m15.0\u001b[0m                                                                   \n"
      ]
     },
     "metadata": {},
     "output_type": "display_data"
    },
    {
     "name": "stdout",
     "output_type": "stream",
     "text": [
      "Full solver.\n",
      "Smoothing RHS EFT\n",
      "Smoothing RHS EFT\n",
      "Smoothing RHS EFT\n",
      "Smoothing RHS EFT\n",
      "Smoothing RHS EFT\n",
      "Smoothing RHS EFT\n",
      "Smoothing RHS EFT\n",
      "Smoothing RHS EFT\n",
      "Smoothing RHS EFT\n",
      "Smoothing RHS EFT\n",
      "Smoothing RHS EFT\n",
      "Smoothing RHS EFT\n",
      "Smoothing RHS EFT\n",
      "Smoothing RHS EFT\n",
      "Smoothing RHS EFT\n",
      "Smoothing RHS EFT\n",
      "Smoothing RHS EFT\n",
      "Smoothing RHS EFT\n",
      "Smoothing RHS EFT\n",
      "Smoothing RHS EFT\n",
      "Smoothing RHS EFT\n",
      "Smoothing RHS EFT\n",
      "Smoothing RHS EFT\n",
      "Smoothing RHS EFT\n",
      "Smoothing RHS EFT\n",
      "Smoothing RHS EFT\n",
      "reserr-FAS: 0.007381390314549208\n"
     ]
    },
    {
     "data": {
      "text/html": [
       "<pre style=\"white-space:pre;overflow-x:auto;line-height:normal;font-family:Menlo,'DejaVu Sans Mono',consolas,'Courier New',monospace\">Snapshot written at <span style=\"color: #808000; text-decoration-color: #808000\">...</span><span style=\"color: #808000; text-decoration-color: #808000\">filename</span>=<span style=\"color: #008000; text-decoration-color: #008000\">'./smalln//output_00007/particles_eft_multigrid_ncoarse6.h5'</span>                       \n",
       "param<span style=\"font-weight: bold\">[</span><span style=\"color: #008000; text-decoration-color: #008000\">'aexp'</span><span style=\"font-weight: bold\">]</span>=<span style=\"color: #008080; text-decoration-color: #008080; font-weight: bold\">0.06666666666666667</span>                                                                                  \n",
       "</pre>\n"
      ],
      "text/plain": [
       "Snapshot written at \u001b[33m...\u001b[0m\u001b[33mfilename\u001b[0m=\u001b[32m'./smalln//output_00007/particles_eft_multigrid_ncoarse6.h5'\u001b[0m                       \n",
       "param\u001b[1m[\u001b[0m\u001b[32m'aexp'\u001b[0m\u001b[1m]\u001b[0m=\u001b[1;36m0.06666666666666667\u001b[0m                                                                                  \n"
      ]
     },
     "metadata": {},
     "output_type": "display_data"
    },
    {
     "data": {
      "text/html": [
       "<pre style=\"white-space:pre;overflow-x:auto;line-height:normal;font-family:Menlo,'DejaVu Sans Mono',consolas,'Courier New',monospace\">param<span style=\"font-weight: bold\">[</span><span style=\"color: #008000; text-decoration-color: #008000\">'nsteps'</span><span style=\"font-weight: bold\">]</span>=<span style=\"color: #008080; text-decoration-color: #008080; font-weight: bold\">18</span> param<span style=\"font-weight: bold\">[</span><span style=\"color: #008000; text-decoration-color: #008000\">'aexp'</span><span style=\"font-weight: bold\">]</span>=<span style=\"color: #008080; text-decoration-color: #008080; font-weight: bold\">0.06666666666666667</span> z = <span style=\"color: #008080; text-decoration-color: #008080; font-weight: bold\">14.0</span>                                                      \n",
       "</pre>\n"
      ],
      "text/plain": [
       "param\u001b[1m[\u001b[0m\u001b[32m'nsteps'\u001b[0m\u001b[1m]\u001b[0m=\u001b[1;36m18\u001b[0m param\u001b[1m[\u001b[0m\u001b[32m'aexp'\u001b[0m\u001b[1m]\u001b[0m=\u001b[1;36m0.06666666666666667\u001b[0m z = \u001b[1;36m14.0\u001b[0m                                                      \n"
      ]
     },
     "metadata": {},
     "output_type": "display_data"
    },
    {
     "name": "stdout",
     "output_type": "stream",
     "text": [
      "Full solver.\n",
      "Smoothing RHS EFT\n",
      "Smoothing RHS EFT\n",
      "Smoothing RHS EFT\n",
      "Smoothing RHS EFT\n",
      "Smoothing RHS EFT\n",
      "Smoothing RHS EFT\n",
      "Smoothing RHS EFT\n",
      "Smoothing RHS EFT\n",
      "Smoothing RHS EFT\n",
      "Smoothing RHS EFT\n",
      "Smoothing RHS EFT\n",
      "Smoothing RHS EFT\n",
      "Smoothing RHS EFT\n",
      "Smoothing RHS EFT\n",
      "Smoothing RHS EFT\n",
      "Smoothing RHS EFT\n",
      "Smoothing RHS EFT\n",
      "Smoothing RHS EFT\n",
      "Smoothing RHS EFT\n",
      "Smoothing RHS EFT\n",
      "Smoothing RHS EFT\n",
      "Smoothing RHS EFT\n",
      "Smoothing RHS EFT\n",
      "Smoothing RHS EFT\n",
      "Smoothing RHS EFT\n",
      "Smoothing RHS EFT\n",
      "reserr-FAS: 0.008511995896697044\n"
     ]
    },
    {
     "data": {
      "text/html": [
       "<pre style=\"white-space:pre;overflow-x:auto;line-height:normal;font-family:Menlo,'DejaVu Sans Mono',consolas,'Courier New',monospace\">Snapshot written at <span style=\"color: #808000; text-decoration-color: #808000\">...</span><span style=\"color: #808000; text-decoration-color: #808000\">filename</span>=<span style=\"color: #008000; text-decoration-color: #008000\">'./smalln//output_00008/particles_eft_multigrid_ncoarse6.h5'</span>                       \n",
       "param<span style=\"font-weight: bold\">[</span><span style=\"color: #008000; text-decoration-color: #008000\">'aexp'</span><span style=\"font-weight: bold\">]</span>=<span style=\"color: #008080; text-decoration-color: #008080; font-weight: bold\">0.07142857142857141</span>                                                                                  \n",
       "</pre>\n"
      ],
      "text/plain": [
       "Snapshot written at \u001b[33m...\u001b[0m\u001b[33mfilename\u001b[0m=\u001b[32m'./smalln//output_00008/particles_eft_multigrid_ncoarse6.h5'\u001b[0m                       \n",
       "param\u001b[1m[\u001b[0m\u001b[32m'aexp'\u001b[0m\u001b[1m]\u001b[0m=\u001b[1;36m0.07142857142857141\u001b[0m                                                                                  \n"
      ]
     },
     "metadata": {},
     "output_type": "display_data"
    },
    {
     "data": {
      "text/html": [
       "<pre style=\"white-space:pre;overflow-x:auto;line-height:normal;font-family:Menlo,'DejaVu Sans Mono',consolas,'Courier New',monospace\">param<span style=\"font-weight: bold\">[</span><span style=\"color: #008000; text-decoration-color: #008000\">'nsteps'</span><span style=\"font-weight: bold\">]</span>=<span style=\"color: #008080; text-decoration-color: #008080; font-weight: bold\">19</span> param<span style=\"font-weight: bold\">[</span><span style=\"color: #008000; text-decoration-color: #008000\">'aexp'</span><span style=\"font-weight: bold\">]</span>=<span style=\"color: #008080; text-decoration-color: #008080; font-weight: bold\">0.07142857142857141</span> z = <span style=\"color: #008080; text-decoration-color: #008080; font-weight: bold\">13.000000000000004</span>                                        \n",
       "</pre>\n"
      ],
      "text/plain": [
       "param\u001b[1m[\u001b[0m\u001b[32m'nsteps'\u001b[0m\u001b[1m]\u001b[0m=\u001b[1;36m19\u001b[0m param\u001b[1m[\u001b[0m\u001b[32m'aexp'\u001b[0m\u001b[1m]\u001b[0m=\u001b[1;36m0.07142857142857141\u001b[0m z = \u001b[1;36m13.000000000000004\u001b[0m                                        \n"
      ]
     },
     "metadata": {},
     "output_type": "display_data"
    },
    {
     "name": "stdout",
     "output_type": "stream",
     "text": [
      "Full solver.\n",
      "Smoothing RHS EFT\n",
      "Smoothing RHS EFT\n",
      "Smoothing RHS EFT\n",
      "Smoothing RHS EFT\n",
      "Smoothing RHS EFT\n",
      "Smoothing RHS EFT\n",
      "Smoothing RHS EFT\n",
      "Smoothing RHS EFT\n",
      "Smoothing RHS EFT\n",
      "Smoothing RHS EFT\n",
      "Smoothing RHS EFT\n",
      "Smoothing RHS EFT\n",
      "Smoothing RHS EFT\n",
      "Smoothing RHS EFT\n",
      "Smoothing RHS EFT\n",
      "Smoothing RHS EFT\n",
      "Smoothing RHS EFT\n",
      "Smoothing RHS EFT\n",
      "Smoothing RHS EFT\n",
      "Smoothing RHS EFT\n",
      "Smoothing RHS EFT\n",
      "Smoothing RHS EFT\n",
      "Smoothing RHS EFT\n",
      "Smoothing RHS EFT\n",
      "Smoothing RHS EFT\n",
      "Smoothing RHS EFT\n",
      "reserr-FAS: 0.009922796860337257\n"
     ]
    },
    {
     "data": {
      "text/html": [
       "<pre style=\"white-space:pre;overflow-x:auto;line-height:normal;font-family:Menlo,'DejaVu Sans Mono',consolas,'Courier New',monospace\">Snapshot written at <span style=\"color: #808000; text-decoration-color: #808000\">...</span><span style=\"color: #808000; text-decoration-color: #808000\">filename</span>=<span style=\"color: #008000; text-decoration-color: #008000\">'./smalln//output_00009/particles_eft_multigrid_ncoarse6.h5'</span>                       \n",
       "param<span style=\"font-weight: bold\">[</span><span style=\"color: #008000; text-decoration-color: #008000\">'aexp'</span><span style=\"font-weight: bold\">]</span>=<span style=\"color: #008080; text-decoration-color: #008080; font-weight: bold\">0.07692307692307693</span>                                                                                  \n",
       "</pre>\n"
      ],
      "text/plain": [
       "Snapshot written at \u001b[33m...\u001b[0m\u001b[33mfilename\u001b[0m=\u001b[32m'./smalln//output_00009/particles_eft_multigrid_ncoarse6.h5'\u001b[0m                       \n",
       "param\u001b[1m[\u001b[0m\u001b[32m'aexp'\u001b[0m\u001b[1m]\u001b[0m=\u001b[1;36m0.07692307692307693\u001b[0m                                                                                  \n"
      ]
     },
     "metadata": {},
     "output_type": "display_data"
    },
    {
     "data": {
      "text/html": [
       "<pre style=\"white-space:pre;overflow-x:auto;line-height:normal;font-family:Menlo,'DejaVu Sans Mono',consolas,'Courier New',monospace\">param<span style=\"font-weight: bold\">[</span><span style=\"color: #008000; text-decoration-color: #008000\">'nsteps'</span><span style=\"font-weight: bold\">]</span>=<span style=\"color: #008080; text-decoration-color: #008080; font-weight: bold\">20</span> param<span style=\"font-weight: bold\">[</span><span style=\"color: #008000; text-decoration-color: #008000\">'aexp'</span><span style=\"font-weight: bold\">]</span>=<span style=\"color: #008080; text-decoration-color: #008080; font-weight: bold\">0.07692307692307693</span> z = <span style=\"color: #008080; text-decoration-color: #008080; font-weight: bold\">12.0</span>                                                      \n",
       "</pre>\n"
      ],
      "text/plain": [
       "param\u001b[1m[\u001b[0m\u001b[32m'nsteps'\u001b[0m\u001b[1m]\u001b[0m=\u001b[1;36m20\u001b[0m param\u001b[1m[\u001b[0m\u001b[32m'aexp'\u001b[0m\u001b[1m]\u001b[0m=\u001b[1;36m0.07692307692307693\u001b[0m z = \u001b[1;36m12.0\u001b[0m                                                      \n"
      ]
     },
     "metadata": {},
     "output_type": "display_data"
    },
    {
     "name": "stdout",
     "output_type": "stream",
     "text": [
      "Full solver.\n",
      "Smoothing RHS EFT\n",
      "Smoothing RHS EFT\n",
      "Smoothing RHS EFT\n",
      "Smoothing RHS EFT\n",
      "Smoothing RHS EFT\n",
      "Smoothing RHS EFT\n",
      "Smoothing RHS EFT\n",
      "Smoothing RHS EFT\n",
      "Smoothing RHS EFT\n",
      "Smoothing RHS EFT\n",
      "Smoothing RHS EFT\n",
      "Smoothing RHS EFT\n",
      "Smoothing RHS EFT\n",
      "Smoothing RHS EFT\n",
      "Smoothing RHS EFT\n",
      "Smoothing RHS EFT\n",
      "Smoothing RHS EFT\n",
      "Smoothing RHS EFT\n",
      "Smoothing RHS EFT\n",
      "Smoothing RHS EFT\n",
      "Smoothing RHS EFT\n",
      "Smoothing RHS EFT\n",
      "Smoothing RHS EFT\n",
      "Smoothing RHS EFT\n",
      "Smoothing RHS EFT\n",
      "Smoothing RHS EFT\n",
      "reserr-FAS: 0.011713770218193531\n"
     ]
    },
    {
     "data": {
      "text/html": [
       "<pre style=\"white-space:pre;overflow-x:auto;line-height:normal;font-family:Menlo,'DejaVu Sans Mono',consolas,'Courier New',monospace\">Snapshot written at <span style=\"color: #808000; text-decoration-color: #808000\">...</span><span style=\"color: #808000; text-decoration-color: #808000\">filename</span>=<span style=\"color: #008000; text-decoration-color: #008000\">'./smalln//output_00010/particles_eft_multigrid_ncoarse6.h5'</span>                       \n",
       "param<span style=\"font-weight: bold\">[</span><span style=\"color: #008000; text-decoration-color: #008000\">'aexp'</span><span style=\"font-weight: bold\">]</span>=<span style=\"color: #008080; text-decoration-color: #008080; font-weight: bold\">0.08333333333333333</span>                                                                                  \n",
       "</pre>\n"
      ],
      "text/plain": [
       "Snapshot written at \u001b[33m...\u001b[0m\u001b[33mfilename\u001b[0m=\u001b[32m'./smalln//output_00010/particles_eft_multigrid_ncoarse6.h5'\u001b[0m                       \n",
       "param\u001b[1m[\u001b[0m\u001b[32m'aexp'\u001b[0m\u001b[1m]\u001b[0m=\u001b[1;36m0.08333333333333333\u001b[0m                                                                                  \n"
      ]
     },
     "metadata": {},
     "output_type": "display_data"
    },
    {
     "data": {
      "text/html": [
       "<pre style=\"white-space:pre;overflow-x:auto;line-height:normal;font-family:Menlo,'DejaVu Sans Mono',consolas,'Courier New',monospace\">param<span style=\"font-weight: bold\">[</span><span style=\"color: #008000; text-decoration-color: #008000\">'nsteps'</span><span style=\"font-weight: bold\">]</span>=<span style=\"color: #008080; text-decoration-color: #008080; font-weight: bold\">21</span> param<span style=\"font-weight: bold\">[</span><span style=\"color: #008000; text-decoration-color: #008000\">'aexp'</span><span style=\"font-weight: bold\">]</span>=<span style=\"color: #008080; text-decoration-color: #008080; font-weight: bold\">0.08333333333333333</span> z = <span style=\"color: #008080; text-decoration-color: #008080; font-weight: bold\">11.0</span>                                                      \n",
       "</pre>\n"
      ],
      "text/plain": [
       "param\u001b[1m[\u001b[0m\u001b[32m'nsteps'\u001b[0m\u001b[1m]\u001b[0m=\u001b[1;36m21\u001b[0m param\u001b[1m[\u001b[0m\u001b[32m'aexp'\u001b[0m\u001b[1m]\u001b[0m=\u001b[1;36m0.08333333333333333\u001b[0m z = \u001b[1;36m11.0\u001b[0m                                                      \n"
      ]
     },
     "metadata": {},
     "output_type": "display_data"
    },
    {
     "name": "stdout",
     "output_type": "stream",
     "text": [
      "Full solver.\n",
      "Smoothing RHS EFT\n",
      "Smoothing RHS EFT\n",
      "Smoothing RHS EFT\n",
      "Smoothing RHS EFT\n",
      "Smoothing RHS EFT\n",
      "Smoothing RHS EFT\n",
      "Smoothing RHS EFT\n",
      "Smoothing RHS EFT\n",
      "Smoothing RHS EFT\n",
      "Smoothing RHS EFT\n",
      "Smoothing RHS EFT\n",
      "Smoothing RHS EFT\n",
      "Smoothing RHS EFT\n",
      "Smoothing RHS EFT\n",
      "Smoothing RHS EFT\n",
      "Smoothing RHS EFT\n",
      "Smoothing RHS EFT\n",
      "Smoothing RHS EFT\n",
      "Smoothing RHS EFT\n",
      "Smoothing RHS EFT\n",
      "Smoothing RHS EFT\n",
      "Smoothing RHS EFT\n",
      "Smoothing RHS EFT\n",
      "Smoothing RHS EFT\n",
      "Smoothing RHS EFT\n",
      "Smoothing RHS EFT\n",
      "reserr-FAS: 0.01403367705643177\n"
     ]
    },
    {
     "data": {
      "text/html": [
       "<pre style=\"white-space:pre;overflow-x:auto;line-height:normal;font-family:Menlo,'DejaVu Sans Mono',consolas,'Courier New',monospace\">Snapshot written at <span style=\"color: #808000; text-decoration-color: #808000\">...</span><span style=\"color: #808000; text-decoration-color: #808000\">filename</span>=<span style=\"color: #008000; text-decoration-color: #008000\">'./smalln//output_00011/particles_eft_multigrid_ncoarse6.h5'</span>                       \n",
       "param<span style=\"font-weight: bold\">[</span><span style=\"color: #008000; text-decoration-color: #008000\">'aexp'</span><span style=\"font-weight: bold\">]</span>=<span style=\"color: #008080; text-decoration-color: #008080; font-weight: bold\">0.0909090909090909</span>                                                                                   \n",
       "</pre>\n"
      ],
      "text/plain": [
       "Snapshot written at \u001b[33m...\u001b[0m\u001b[33mfilename\u001b[0m=\u001b[32m'./smalln//output_00011/particles_eft_multigrid_ncoarse6.h5'\u001b[0m                       \n",
       "param\u001b[1m[\u001b[0m\u001b[32m'aexp'\u001b[0m\u001b[1m]\u001b[0m=\u001b[1;36m0.0909090909090909\u001b[0m                                                                                   \n"
      ]
     },
     "metadata": {},
     "output_type": "display_data"
    },
    {
     "data": {
      "text/html": [
       "<pre style=\"white-space:pre;overflow-x:auto;line-height:normal;font-family:Menlo,'DejaVu Sans Mono',consolas,'Courier New',monospace\">param<span style=\"font-weight: bold\">[</span><span style=\"color: #008000; text-decoration-color: #008000\">'nsteps'</span><span style=\"font-weight: bold\">]</span>=<span style=\"color: #008080; text-decoration-color: #008080; font-weight: bold\">22</span> param<span style=\"font-weight: bold\">[</span><span style=\"color: #008000; text-decoration-color: #008000\">'aexp'</span><span style=\"font-weight: bold\">]</span>=<span style=\"color: #008080; text-decoration-color: #008080; font-weight: bold\">0.0909090909090909</span> z = <span style=\"color: #008080; text-decoration-color: #008080; font-weight: bold\">10.000000000000002</span>                                         \n",
       "</pre>\n"
      ],
      "text/plain": [
       "param\u001b[1m[\u001b[0m\u001b[32m'nsteps'\u001b[0m\u001b[1m]\u001b[0m=\u001b[1;36m22\u001b[0m param\u001b[1m[\u001b[0m\u001b[32m'aexp'\u001b[0m\u001b[1m]\u001b[0m=\u001b[1;36m0.0909090909090909\u001b[0m z = \u001b[1;36m10.000000000000002\u001b[0m                                         \n"
      ]
     },
     "metadata": {},
     "output_type": "display_data"
    },
    {
     "name": "stdout",
     "output_type": "stream",
     "text": [
      "Full solver.\n",
      "Smoothing RHS EFT\n",
      "Smoothing RHS EFT\n",
      "Smoothing RHS EFT\n",
      "Smoothing RHS EFT\n",
      "Smoothing RHS EFT\n",
      "Smoothing RHS EFT\n",
      "Smoothing RHS EFT\n",
      "Smoothing RHS EFT\n",
      "Smoothing RHS EFT\n",
      "Smoothing RHS EFT\n",
      "Smoothing RHS EFT\n",
      "Smoothing RHS EFT\n",
      "Smoothing RHS EFT\n",
      "Smoothing RHS EFT\n",
      "Smoothing RHS EFT\n",
      "Smoothing RHS EFT\n",
      "Smoothing RHS EFT\n",
      "Smoothing RHS EFT\n",
      "Smoothing RHS EFT\n",
      "Smoothing RHS EFT\n",
      "Smoothing RHS EFT\n",
      "Smoothing RHS EFT\n",
      "Smoothing RHS EFT\n",
      "Smoothing RHS EFT\n",
      "Smoothing RHS EFT\n",
      "Smoothing RHS EFT\n",
      "reserr-FAS: 0.01711142621934414\n"
     ]
    },
    {
     "data": {
      "text/html": [
       "<pre style=\"white-space:pre;overflow-x:auto;line-height:normal;font-family:Menlo,'DejaVu Sans Mono',consolas,'Courier New',monospace\">Snapshot written at <span style=\"color: #808000; text-decoration-color: #808000\">...</span><span style=\"color: #808000; text-decoration-color: #808000\">filename</span>=<span style=\"color: #008000; text-decoration-color: #008000\">'./smalln//output_00012/particles_eft_multigrid_ncoarse6.h5'</span>                       \n",
       "param<span style=\"font-weight: bold\">[</span><span style=\"color: #008000; text-decoration-color: #008000\">'aexp'</span><span style=\"font-weight: bold\">]</span>=<span style=\"color: #008080; text-decoration-color: #008080; font-weight: bold\">0.10000000000000002</span>                                                                                  \n",
       "</pre>\n"
      ],
      "text/plain": [
       "Snapshot written at \u001b[33m...\u001b[0m\u001b[33mfilename\u001b[0m=\u001b[32m'./smalln//output_00012/particles_eft_multigrid_ncoarse6.h5'\u001b[0m                       \n",
       "param\u001b[1m[\u001b[0m\u001b[32m'aexp'\u001b[0m\u001b[1m]\u001b[0m=\u001b[1;36m0.10000000000000002\u001b[0m                                                                                  \n"
      ]
     },
     "metadata": {},
     "output_type": "display_data"
    },
    {
     "data": {
      "text/html": [
       "<pre style=\"white-space:pre;overflow-x:auto;line-height:normal;font-family:Menlo,'DejaVu Sans Mono',consolas,'Courier New',monospace\">param<span style=\"font-weight: bold\">[</span><span style=\"color: #008000; text-decoration-color: #008000\">'nsteps'</span><span style=\"font-weight: bold\">]</span>=<span style=\"color: #008080; text-decoration-color: #008080; font-weight: bold\">23</span> param<span style=\"font-weight: bold\">[</span><span style=\"color: #008000; text-decoration-color: #008000\">'aexp'</span><span style=\"font-weight: bold\">]</span>=<span style=\"color: #008080; text-decoration-color: #008080; font-weight: bold\">0.10000000000000002</span> z = <span style=\"color: #008080; text-decoration-color: #008080; font-weight: bold\">8.999999999999998</span>                                         \n",
       "</pre>\n"
      ],
      "text/plain": [
       "param\u001b[1m[\u001b[0m\u001b[32m'nsteps'\u001b[0m\u001b[1m]\u001b[0m=\u001b[1;36m23\u001b[0m param\u001b[1m[\u001b[0m\u001b[32m'aexp'\u001b[0m\u001b[1m]\u001b[0m=\u001b[1;36m0.10000000000000002\u001b[0m z = \u001b[1;36m8.999999999999998\u001b[0m                                         \n"
      ]
     },
     "metadata": {},
     "output_type": "display_data"
    },
    {
     "name": "stdout",
     "output_type": "stream",
     "text": [
      "Full solver.\n",
      "Smoothing RHS EFT\n",
      "Smoothing RHS EFT\n",
      "Smoothing RHS EFT\n",
      "Smoothing RHS EFT\n",
      "Smoothing RHS EFT\n",
      "Smoothing RHS EFT\n",
      "Smoothing RHS EFT\n",
      "Smoothing RHS EFT\n",
      "Smoothing RHS EFT\n",
      "Smoothing RHS EFT\n",
      "Smoothing RHS EFT\n",
      "Smoothing RHS EFT\n",
      "Smoothing RHS EFT\n",
      "Smoothing RHS EFT\n",
      "Smoothing RHS EFT\n",
      "Smoothing RHS EFT\n",
      "Smoothing RHS EFT\n",
      "Smoothing RHS EFT\n",
      "Smoothing RHS EFT\n",
      "Smoothing RHS EFT\n",
      "Smoothing RHS EFT\n",
      "Smoothing RHS EFT\n",
      "Smoothing RHS EFT\n",
      "Smoothing RHS EFT\n",
      "Smoothing RHS EFT\n",
      "Smoothing RHS EFT\n",
      "reserr-FAS: 0.02087576687335968\n"
     ]
    },
    {
     "data": {
      "text/html": [
       "<pre style=\"white-space:pre;overflow-x:auto;line-height:normal;font-family:Menlo,'DejaVu Sans Mono',consolas,'Courier New',monospace\">param<span style=\"font-weight: bold\">[</span><span style=\"color: #008000; text-decoration-color: #008000\">'nsteps'</span><span style=\"font-weight: bold\">]</span>=<span style=\"color: #008080; text-decoration-color: #008080; font-weight: bold\">24</span> param<span style=\"font-weight: bold\">[</span><span style=\"color: #008000; text-decoration-color: #008000\">'aexp'</span><span style=\"font-weight: bold\">]</span>=<span style=\"color: #008080; text-decoration-color: #008080; font-weight: bold\">0.1099999997327191</span> z = <span style=\"color: #008080; text-decoration-color: #008080; font-weight: bold\">8.090909112998421</span>                                          \n",
       "</pre>\n"
      ],
      "text/plain": [
       "param\u001b[1m[\u001b[0m\u001b[32m'nsteps'\u001b[0m\u001b[1m]\u001b[0m=\u001b[1;36m24\u001b[0m param\u001b[1m[\u001b[0m\u001b[32m'aexp'\u001b[0m\u001b[1m]\u001b[0m=\u001b[1;36m0.1099999997327191\u001b[0m z = \u001b[1;36m8.090909112998421\u001b[0m                                          \n"
      ]
     },
     "metadata": {},
     "output_type": "display_data"
    },
    {
     "name": "stdout",
     "output_type": "stream",
     "text": [
      "Full solver.\n",
      "Smoothing RHS EFT\n",
      "Smoothing RHS EFT\n",
      "Smoothing RHS EFT\n",
      "Smoothing RHS EFT\n",
      "Smoothing RHS EFT\n",
      "Smoothing RHS EFT\n",
      "Smoothing RHS EFT\n",
      "Smoothing RHS EFT\n",
      "Smoothing RHS EFT\n",
      "Smoothing RHS EFT\n",
      "Smoothing RHS EFT\n",
      "Smoothing RHS EFT\n",
      "Smoothing RHS EFT\n",
      "Smoothing RHS EFT\n",
      "Smoothing RHS EFT\n",
      "Smoothing RHS EFT\n",
      "Smoothing RHS EFT\n",
      "Smoothing RHS EFT\n",
      "Smoothing RHS EFT\n",
      "Smoothing RHS EFT\n",
      "Smoothing RHS EFT\n",
      "Smoothing RHS EFT\n",
      "Smoothing RHS EFT\n",
      "Smoothing RHS EFT\n",
      "Smoothing RHS EFT\n",
      "Smoothing RHS EFT\n",
      "reserr-FAS: 0.02132008597254753\n"
     ]
    },
    {
     "data": {
      "text/html": [
       "<pre style=\"white-space:pre;overflow-x:auto;line-height:normal;font-family:Menlo,'DejaVu Sans Mono',consolas,'Courier New',monospace\">Snapshot written at <span style=\"color: #808000; text-decoration-color: #808000\">...</span><span style=\"color: #808000; text-decoration-color: #808000\">filename</span>=<span style=\"color: #008000; text-decoration-color: #008000\">'./smalln//output_00013/particles_eft_multigrid_ncoarse6.h5'</span>                       \n",
       "param<span style=\"font-weight: bold\">[</span><span style=\"color: #008000; text-decoration-color: #008000\">'aexp'</span><span style=\"font-weight: bold\">]</span>=<span style=\"color: #008080; text-decoration-color: #008080; font-weight: bold\">0.11111111111111109</span>                                                                                  \n",
       "</pre>\n"
      ],
      "text/plain": [
       "Snapshot written at \u001b[33m...\u001b[0m\u001b[33mfilename\u001b[0m=\u001b[32m'./smalln//output_00013/particles_eft_multigrid_ncoarse6.h5'\u001b[0m                       \n",
       "param\u001b[1m[\u001b[0m\u001b[32m'aexp'\u001b[0m\u001b[1m]\u001b[0m=\u001b[1;36m0.11111111111111109\u001b[0m                                                                                  \n"
      ]
     },
     "metadata": {},
     "output_type": "display_data"
    },
    {
     "data": {
      "text/html": [
       "<pre style=\"white-space:pre;overflow-x:auto;line-height:normal;font-family:Menlo,'DejaVu Sans Mono',consolas,'Courier New',monospace\">param<span style=\"font-weight: bold\">[</span><span style=\"color: #008000; text-decoration-color: #008000\">'nsteps'</span><span style=\"font-weight: bold\">]</span>=<span style=\"color: #008080; text-decoration-color: #008080; font-weight: bold\">25</span> param<span style=\"font-weight: bold\">[</span><span style=\"color: #008000; text-decoration-color: #008000\">'aexp'</span><span style=\"font-weight: bold\">]</span>=<span style=\"color: #008080; text-decoration-color: #008080; font-weight: bold\">0.11111111111111109</span> z = <span style=\"color: #008080; text-decoration-color: #008080; font-weight: bold\">8.000000000000002</span>                                         \n",
       "</pre>\n"
      ],
      "text/plain": [
       "param\u001b[1m[\u001b[0m\u001b[32m'nsteps'\u001b[0m\u001b[1m]\u001b[0m=\u001b[1;36m25\u001b[0m param\u001b[1m[\u001b[0m\u001b[32m'aexp'\u001b[0m\u001b[1m]\u001b[0m=\u001b[1;36m0.11111111111111109\u001b[0m z = \u001b[1;36m8.000000000000002\u001b[0m                                         \n"
      ]
     },
     "metadata": {},
     "output_type": "display_data"
    },
    {
     "name": "stdout",
     "output_type": "stream",
     "text": [
      "Full solver.\n",
      "Smoothing RHS EFT\n",
      "Smoothing RHS EFT\n",
      "Smoothing RHS EFT\n",
      "Smoothing RHS EFT\n",
      "Smoothing RHS EFT\n",
      "Smoothing RHS EFT\n",
      "Smoothing RHS EFT\n",
      "Smoothing RHS EFT\n",
      "Smoothing RHS EFT\n",
      "Smoothing RHS EFT\n",
      "Smoothing RHS EFT\n",
      "Smoothing RHS EFT\n",
      "Smoothing RHS EFT\n",
      "Smoothing RHS EFT\n",
      "Smoothing RHS EFT\n",
      "Smoothing RHS EFT\n",
      "Smoothing RHS EFT\n",
      "Smoothing RHS EFT\n",
      "Smoothing RHS EFT\n",
      "Smoothing RHS EFT\n",
      "Smoothing RHS EFT\n",
      "Smoothing RHS EFT\n",
      "Smoothing RHS EFT\n",
      "Smoothing RHS EFT\n",
      "Smoothing RHS EFT\n",
      "Smoothing RHS EFT\n",
      "reserr-FAS: 0.026030994951725006\n"
     ]
    },
    {
     "data": {
      "text/html": [
       "<pre style=\"white-space:pre;overflow-x:auto;line-height:normal;font-family:Menlo,'DejaVu Sans Mono',consolas,'Courier New',monospace\">param<span style=\"font-weight: bold\">[</span><span style=\"color: #008000; text-decoration-color: #008000\">'nsteps'</span><span style=\"font-weight: bold\">]</span>=<span style=\"color: #008080; text-decoration-color: #008080; font-weight: bold\">26</span> param<span style=\"font-weight: bold\">[</span><span style=\"color: #008000; text-decoration-color: #008000\">'aexp'</span><span style=\"font-weight: bold\">]</span>=<span style=\"color: #008080; text-decoration-color: #008080; font-weight: bold\">0.12222222184337919</span> z = <span style=\"color: #008080; text-decoration-color: #008080; font-weight: bold\">7.181818207178749</span>                                         \n",
       "</pre>\n"
      ],
      "text/plain": [
       "param\u001b[1m[\u001b[0m\u001b[32m'nsteps'\u001b[0m\u001b[1m]\u001b[0m=\u001b[1;36m26\u001b[0m param\u001b[1m[\u001b[0m\u001b[32m'aexp'\u001b[0m\u001b[1m]\u001b[0m=\u001b[1;36m0.12222222184337919\u001b[0m z = \u001b[1;36m7.181818207178749\u001b[0m                                         \n"
      ]
     },
     "metadata": {},
     "output_type": "display_data"
    },
    {
     "name": "stdout",
     "output_type": "stream",
     "text": [
      "Full solver.\n",
      "Smoothing RHS EFT\n",
      "Smoothing RHS EFT\n",
      "Smoothing RHS EFT\n",
      "Smoothing RHS EFT\n",
      "Smoothing RHS EFT\n",
      "Smoothing RHS EFT\n",
      "Smoothing RHS EFT\n",
      "Smoothing RHS EFT\n",
      "Smoothing RHS EFT\n",
      "Smoothing RHS EFT\n",
      "Smoothing RHS EFT\n",
      "Smoothing RHS EFT\n",
      "Smoothing RHS EFT\n",
      "Smoothing RHS EFT\n",
      "Smoothing RHS EFT\n",
      "Smoothing RHS EFT\n",
      "Smoothing RHS EFT\n",
      "Smoothing RHS EFT\n",
      "Smoothing RHS EFT\n",
      "Smoothing RHS EFT\n",
      "Smoothing RHS EFT\n",
      "Smoothing RHS EFT\n",
      "Smoothing RHS EFT\n",
      "Smoothing RHS EFT\n",
      "Smoothing RHS EFT\n",
      "Smoothing RHS EFT\n",
      "reserr-FAS: 0.02729177661240101\n"
     ]
    },
    {
     "data": {
      "text/html": [
       "<pre style=\"white-space:pre;overflow-x:auto;line-height:normal;font-family:Menlo,'DejaVu Sans Mono',consolas,'Courier New',monospace\">Snapshot written at <span style=\"color: #808000; text-decoration-color: #808000\">...</span><span style=\"color: #808000; text-decoration-color: #808000\">filename</span>=<span style=\"color: #008000; text-decoration-color: #008000\">'./smalln//output_00014/particles_eft_multigrid_ncoarse6.h5'</span>                       \n",
       "param<span style=\"font-weight: bold\">[</span><span style=\"color: #008000; text-decoration-color: #008000\">'aexp'</span><span style=\"font-weight: bold\">]</span>=<span style=\"color: #008080; text-decoration-color: #008080; font-weight: bold\">0.12500000000000003</span>                                                                                  \n",
       "</pre>\n"
      ],
      "text/plain": [
       "Snapshot written at \u001b[33m...\u001b[0m\u001b[33mfilename\u001b[0m=\u001b[32m'./smalln//output_00014/particles_eft_multigrid_ncoarse6.h5'\u001b[0m                       \n",
       "param\u001b[1m[\u001b[0m\u001b[32m'aexp'\u001b[0m\u001b[1m]\u001b[0m=\u001b[1;36m0.12500000000000003\u001b[0m                                                                                  \n"
      ]
     },
     "metadata": {},
     "output_type": "display_data"
    },
    {
     "data": {
      "text/html": [
       "<pre style=\"white-space:pre;overflow-x:auto;line-height:normal;font-family:Menlo,'DejaVu Sans Mono',consolas,'Courier New',monospace\">param<span style=\"font-weight: bold\">[</span><span style=\"color: #008000; text-decoration-color: #008000\">'nsteps'</span><span style=\"font-weight: bold\">]</span>=<span style=\"color: #008080; text-decoration-color: #008080; font-weight: bold\">27</span> param<span style=\"font-weight: bold\">[</span><span style=\"color: #008000; text-decoration-color: #008000\">'aexp'</span><span style=\"font-weight: bold\">]</span>=<span style=\"color: #008080; text-decoration-color: #008080; font-weight: bold\">0.12500000000000003</span> z = <span style=\"color: #008080; text-decoration-color: #008080; font-weight: bold\">6.999999999999998</span>                                         \n",
       "</pre>\n"
      ],
      "text/plain": [
       "param\u001b[1m[\u001b[0m\u001b[32m'nsteps'\u001b[0m\u001b[1m]\u001b[0m=\u001b[1;36m27\u001b[0m param\u001b[1m[\u001b[0m\u001b[32m'aexp'\u001b[0m\u001b[1m]\u001b[0m=\u001b[1;36m0.12500000000000003\u001b[0m z = \u001b[1;36m6.999999999999998\u001b[0m                                         \n"
      ]
     },
     "metadata": {},
     "output_type": "display_data"
    },
    {
     "name": "stdout",
     "output_type": "stream",
     "text": [
      "Full solver.\n",
      "Smoothing RHS EFT\n",
      "Smoothing RHS EFT\n",
      "Smoothing RHS EFT\n",
      "Smoothing RHS EFT\n",
      "Smoothing RHS EFT\n",
      "Smoothing RHS EFT\n",
      "Smoothing RHS EFT\n",
      "Smoothing RHS EFT\n",
      "Smoothing RHS EFT\n",
      "Smoothing RHS EFT\n",
      "Smoothing RHS EFT\n",
      "Smoothing RHS EFT\n",
      "Smoothing RHS EFT\n",
      "Smoothing RHS EFT\n",
      "Smoothing RHS EFT\n",
      "Smoothing RHS EFT\n",
      "Smoothing RHS EFT\n",
      "Smoothing RHS EFT\n",
      "Smoothing RHS EFT\n",
      "Smoothing RHS EFT\n",
      "Smoothing RHS EFT\n",
      "Smoothing RHS EFT\n",
      "Smoothing RHS EFT\n",
      "Smoothing RHS EFT\n",
      "Smoothing RHS EFT\n",
      "Smoothing RHS EFT\n",
      "reserr-FAS: 0.03336721286177635\n"
     ]
    },
    {
     "data": {
      "text/html": [
       "<pre style=\"white-space:pre;overflow-x:auto;line-height:normal;font-family:Menlo,'DejaVu Sans Mono',consolas,'Courier New',monospace\">param<span style=\"font-weight: bold\">[</span><span style=\"color: #008000; text-decoration-color: #008000\">'nsteps'</span><span style=\"font-weight: bold\">]</span>=<span style=\"color: #008080; text-decoration-color: #008080; font-weight: bold\">28</span> param<span style=\"font-weight: bold\">[</span><span style=\"color: #008000; text-decoration-color: #008000\">'aexp'</span><span style=\"font-weight: bold\">]</span>=<span style=\"color: #008080; text-decoration-color: #008080; font-weight: bold\">0.1375000004223509</span> z = <span style=\"color: #008080; text-decoration-color: #008080; font-weight: bold\">6.272727250388052</span>                                          \n",
       "</pre>\n"
      ],
      "text/plain": [
       "param\u001b[1m[\u001b[0m\u001b[32m'nsteps'\u001b[0m\u001b[1m]\u001b[0m=\u001b[1;36m28\u001b[0m param\u001b[1m[\u001b[0m\u001b[32m'aexp'\u001b[0m\u001b[1m]\u001b[0m=\u001b[1;36m0.1375000004223509\u001b[0m z = \u001b[1;36m6.272727250388052\u001b[0m                                          \n"
      ]
     },
     "metadata": {},
     "output_type": "display_data"
    },
    {
     "name": "stdout",
     "output_type": "stream",
     "text": [
      "Full solver.\n",
      "Smoothing RHS EFT\n",
      "Smoothing RHS EFT\n",
      "Smoothing RHS EFT\n",
      "Smoothing RHS EFT\n",
      "Smoothing RHS EFT\n",
      "Smoothing RHS EFT\n",
      "Smoothing RHS EFT\n",
      "Smoothing RHS EFT\n",
      "Smoothing RHS EFT\n",
      "Smoothing RHS EFT\n",
      "Smoothing RHS EFT\n",
      "Smoothing RHS EFT\n",
      "Smoothing RHS EFT\n",
      "Smoothing RHS EFT\n",
      "Smoothing RHS EFT\n",
      "Smoothing RHS EFT\n",
      "Smoothing RHS EFT\n",
      "Smoothing RHS EFT\n",
      "Smoothing RHS EFT\n",
      "Smoothing RHS EFT\n",
      "Smoothing RHS EFT\n",
      "Smoothing RHS EFT\n",
      "Smoothing RHS EFT\n",
      "Smoothing RHS EFT\n",
      "Smoothing RHS EFT\n",
      "Smoothing RHS EFT\n",
      "reserr-FAS: 0.03618800640106201\n"
     ]
    },
    {
     "data": {
      "text/html": [
       "<pre style=\"white-space:pre;overflow-x:auto;line-height:normal;font-family:Menlo,'DejaVu Sans Mono',consolas,'Courier New',monospace\">Snapshot written at <span style=\"color: #808000; text-decoration-color: #808000\">...</span><span style=\"color: #808000; text-decoration-color: #808000\">filename</span>=<span style=\"color: #008000; text-decoration-color: #008000\">'./smalln//output_00015/particles_eft_multigrid_ncoarse6.h5'</span>                       \n",
       "param<span style=\"font-weight: bold\">[</span><span style=\"color: #008000; text-decoration-color: #008000\">'aexp'</span><span style=\"font-weight: bold\">]</span>=<span style=\"color: #008080; text-decoration-color: #008080; font-weight: bold\">0.14285714285714285</span>                                                                                  \n",
       "</pre>\n"
      ],
      "text/plain": [
       "Snapshot written at \u001b[33m...\u001b[0m\u001b[33mfilename\u001b[0m=\u001b[32m'./smalln//output_00015/particles_eft_multigrid_ncoarse6.h5'\u001b[0m                       \n",
       "param\u001b[1m[\u001b[0m\u001b[32m'aexp'\u001b[0m\u001b[1m]\u001b[0m=\u001b[1;36m0.14285714285714285\u001b[0m                                                                                  \n"
      ]
     },
     "metadata": {},
     "output_type": "display_data"
    },
    {
     "data": {
      "text/html": [
       "<pre style=\"white-space:pre;overflow-x:auto;line-height:normal;font-family:Menlo,'DejaVu Sans Mono',consolas,'Courier New',monospace\">param<span style=\"font-weight: bold\">[</span><span style=\"color: #008000; text-decoration-color: #008000\">'nsteps'</span><span style=\"font-weight: bold\">]</span>=<span style=\"color: #008080; text-decoration-color: #008080; font-weight: bold\">29</span> param<span style=\"font-weight: bold\">[</span><span style=\"color: #008000; text-decoration-color: #008000\">'aexp'</span><span style=\"font-weight: bold\">]</span>=<span style=\"color: #008080; text-decoration-color: #008080; font-weight: bold\">0.14285714285714285</span> z = <span style=\"color: #008080; text-decoration-color: #008080; font-weight: bold\">6.0</span>                                                       \n",
       "</pre>\n"
      ],
      "text/plain": [
       "param\u001b[1m[\u001b[0m\u001b[32m'nsteps'\u001b[0m\u001b[1m]\u001b[0m=\u001b[1;36m29\u001b[0m param\u001b[1m[\u001b[0m\u001b[32m'aexp'\u001b[0m\u001b[1m]\u001b[0m=\u001b[1;36m0.14285714285714285\u001b[0m z = \u001b[1;36m6.0\u001b[0m                                                       \n"
      ]
     },
     "metadata": {},
     "output_type": "display_data"
    },
    {
     "name": "stdout",
     "output_type": "stream",
     "text": [
      "Full solver.\n",
      "Smoothing RHS EFT\n",
      "Smoothing RHS EFT\n",
      "Smoothing RHS EFT\n",
      "Smoothing RHS EFT\n",
      "Smoothing RHS EFT\n",
      "Smoothing RHS EFT\n",
      "Smoothing RHS EFT\n",
      "Smoothing RHS EFT\n",
      "Smoothing RHS EFT\n",
      "Smoothing RHS EFT\n",
      "Smoothing RHS EFT\n",
      "Smoothing RHS EFT\n",
      "Smoothing RHS EFT\n",
      "Smoothing RHS EFT\n",
      "Smoothing RHS EFT\n",
      "Smoothing RHS EFT\n",
      "Smoothing RHS EFT\n",
      "Smoothing RHS EFT\n",
      "Smoothing RHS EFT\n",
      "Smoothing RHS EFT\n",
      "Smoothing RHS EFT\n",
      "Smoothing RHS EFT\n",
      "Smoothing RHS EFT\n",
      "Smoothing RHS EFT\n",
      "Smoothing RHS EFT\n",
      "Smoothing RHS EFT\n",
      "reserr-FAS: 0.04434521123766899\n"
     ]
    },
    {
     "data": {
      "text/html": [
       "<pre style=\"white-space:pre;overflow-x:auto;line-height:normal;font-family:Menlo,'DejaVu Sans Mono',consolas,'Courier New',monospace\">param<span style=\"font-weight: bold\">[</span><span style=\"color: #008000; text-decoration-color: #008000\">'nsteps'</span><span style=\"font-weight: bold\">]</span>=<span style=\"color: #008080; text-decoration-color: #008080; font-weight: bold\">30</span> param<span style=\"font-weight: bold\">[</span><span style=\"color: #008000; text-decoration-color: #008000\">'aexp'</span><span style=\"font-weight: bold\">]</span>=<span style=\"color: #008080; text-decoration-color: #008080; font-weight: bold\">0.15714285739197312</span> z = <span style=\"color: #008080; text-decoration-color: #008080; font-weight: bold\">5.363636353548196</span>                                         \n",
       "</pre>\n"
      ],
      "text/plain": [
       "param\u001b[1m[\u001b[0m\u001b[32m'nsteps'\u001b[0m\u001b[1m]\u001b[0m=\u001b[1;36m30\u001b[0m param\u001b[1m[\u001b[0m\u001b[32m'aexp'\u001b[0m\u001b[1m]\u001b[0m=\u001b[1;36m0.15714285739197312\u001b[0m z = \u001b[1;36m5.363636353548196\u001b[0m                                         \n"
      ]
     },
     "metadata": {},
     "output_type": "display_data"
    },
    {
     "name": "stdout",
     "output_type": "stream",
     "text": [
      "Full solver.\n",
      "Smoothing RHS EFT\n",
      "Smoothing RHS EFT\n",
      "Smoothing RHS EFT\n",
      "Smoothing RHS EFT\n",
      "Smoothing RHS EFT\n",
      "Smoothing RHS EFT\n",
      "Smoothing RHS EFT\n",
      "Smoothing RHS EFT\n",
      "Smoothing RHS EFT\n",
      "Smoothing RHS EFT\n",
      "Smoothing RHS EFT\n",
      "Smoothing RHS EFT\n",
      "Smoothing RHS EFT\n",
      "Smoothing RHS EFT\n",
      "Smoothing RHS EFT\n",
      "Smoothing RHS EFT\n",
      "Smoothing RHS EFT\n",
      "Smoothing RHS EFT\n",
      "Smoothing RHS EFT\n",
      "Smoothing RHS EFT\n",
      "Smoothing RHS EFT\n",
      "Smoothing RHS EFT\n",
      "Smoothing RHS EFT\n",
      "Smoothing RHS EFT\n",
      "Smoothing RHS EFT\n",
      "Smoothing RHS EFT\n",
      "reserr-FAS: 0.05034123733639717\n"
     ]
    },
    {
     "data": {
      "text/html": [
       "<pre style=\"white-space:pre;overflow-x:auto;line-height:normal;font-family:Menlo,'DejaVu Sans Mono',consolas,'Courier New',monospace\">Snapshot written at <span style=\"color: #808000; text-decoration-color: #808000\">...</span><span style=\"color: #808000; text-decoration-color: #808000\">filename</span>=<span style=\"color: #008000; text-decoration-color: #008000\">'./smalln//output_00016/particles_eft_multigrid_ncoarse6.h5'</span>                       \n",
       "param<span style=\"font-weight: bold\">[</span><span style=\"color: #008000; text-decoration-color: #008000\">'aexp'</span><span style=\"font-weight: bold\">]</span>=<span style=\"color: #008080; text-decoration-color: #008080; font-weight: bold\">0.16666666666666669</span>                                                                                  \n",
       "</pre>\n"
      ],
      "text/plain": [
       "Snapshot written at \u001b[33m...\u001b[0m\u001b[33mfilename\u001b[0m=\u001b[32m'./smalln//output_00016/particles_eft_multigrid_ncoarse6.h5'\u001b[0m                       \n",
       "param\u001b[1m[\u001b[0m\u001b[32m'aexp'\u001b[0m\u001b[1m]\u001b[0m=\u001b[1;36m0.16666666666666669\u001b[0m                                                                                  \n"
      ]
     },
     "metadata": {},
     "output_type": "display_data"
    },
    {
     "data": {
      "text/html": [
       "<pre style=\"white-space:pre;overflow-x:auto;line-height:normal;font-family:Menlo,'DejaVu Sans Mono',consolas,'Courier New',monospace\">param<span style=\"font-weight: bold\">[</span><span style=\"color: #008000; text-decoration-color: #008000\">'nsteps'</span><span style=\"font-weight: bold\">]</span>=<span style=\"color: #008080; text-decoration-color: #008080; font-weight: bold\">31</span> param<span style=\"font-weight: bold\">[</span><span style=\"color: #008000; text-decoration-color: #008000\">'aexp'</span><span style=\"font-weight: bold\">]</span>=<span style=\"color: #008080; text-decoration-color: #008080; font-weight: bold\">0.16666666666666669</span> z = <span style=\"color: #008080; text-decoration-color: #008080; font-weight: bold\">4.999999999999999</span>                                         \n",
       "</pre>\n"
      ],
      "text/plain": [
       "param\u001b[1m[\u001b[0m\u001b[32m'nsteps'\u001b[0m\u001b[1m]\u001b[0m=\u001b[1;36m31\u001b[0m param\u001b[1m[\u001b[0m\u001b[32m'aexp'\u001b[0m\u001b[1m]\u001b[0m=\u001b[1;36m0.16666666666666669\u001b[0m z = \u001b[1;36m4.999999999999999\u001b[0m                                         \n"
      ]
     },
     "metadata": {},
     "output_type": "display_data"
    },
    {
     "name": "stdout",
     "output_type": "stream",
     "text": [
      "Full solver.\n",
      "Smoothing RHS EFT\n",
      "Smoothing RHS EFT\n",
      "Smoothing RHS EFT\n",
      "Smoothing RHS EFT\n",
      "Smoothing RHS EFT\n",
      "Smoothing RHS EFT\n",
      "Smoothing RHS EFT\n",
      "Smoothing RHS EFT\n",
      "Smoothing RHS EFT\n",
      "Smoothing RHS EFT\n",
      "Smoothing RHS EFT\n",
      "Smoothing RHS EFT\n",
      "Smoothing RHS EFT\n",
      "Smoothing RHS EFT\n",
      "Smoothing RHS EFT\n",
      "Smoothing RHS EFT\n",
      "Smoothing RHS EFT\n",
      "Smoothing RHS EFT\n",
      "Smoothing RHS EFT\n",
      "Smoothing RHS EFT\n",
      "Smoothing RHS EFT\n",
      "Smoothing RHS EFT\n",
      "Smoothing RHS EFT\n",
      "Smoothing RHS EFT\n",
      "Smoothing RHS EFT\n",
      "Smoothing RHS EFT\n",
      "reserr-FAS: 0.061927590519189835\n"
     ]
    },
    {
     "data": {
      "text/html": [
       "<pre style=\"white-space:pre;overflow-x:auto;line-height:normal;font-family:Menlo,'DejaVu Sans Mono',consolas,'Courier New',monospace\">param<span style=\"font-weight: bold\">[</span><span style=\"color: #008000; text-decoration-color: #008000\">'nsteps'</span><span style=\"font-weight: bold\">]</span>=<span style=\"color: #008080; text-decoration-color: #008080; font-weight: bold\">32</span> param<span style=\"font-weight: bold\">[</span><span style=\"color: #008000; text-decoration-color: #008000\">'aexp'</span><span style=\"font-weight: bold\">]</span>=<span style=\"color: #008080; text-decoration-color: #008080; font-weight: bold\">0.18333333282846506</span> z = <span style=\"color: #008080; text-decoration-color: #008080; font-weight: bold\">4.4545454695663285</span>                                        \n",
       "</pre>\n"
      ],
      "text/plain": [
       "param\u001b[1m[\u001b[0m\u001b[32m'nsteps'\u001b[0m\u001b[1m]\u001b[0m=\u001b[1;36m32\u001b[0m param\u001b[1m[\u001b[0m\u001b[32m'aexp'\u001b[0m\u001b[1m]\u001b[0m=\u001b[1;36m0.18333333282846506\u001b[0m z = \u001b[1;36m4.4545454695663285\u001b[0m                                        \n"
      ]
     },
     "metadata": {},
     "output_type": "display_data"
    },
    {
     "name": "stdout",
     "output_type": "stream",
     "text": [
      "Full solver.\n",
      "Smoothing RHS EFT\n",
      "Smoothing RHS EFT\n",
      "Smoothing RHS EFT\n",
      "Smoothing RHS EFT\n",
      "Smoothing RHS EFT\n",
      "Smoothing RHS EFT\n",
      "Smoothing RHS EFT\n",
      "Smoothing RHS EFT\n",
      "Smoothing RHS EFT\n",
      "Smoothing RHS EFT\n",
      "Smoothing RHS EFT\n",
      "Smoothing RHS EFT\n",
      "Smoothing RHS EFT\n",
      "Smoothing RHS EFT\n",
      "Smoothing RHS EFT\n",
      "Smoothing RHS EFT\n",
      "Smoothing RHS EFT\n",
      "Smoothing RHS EFT\n",
      "Smoothing RHS EFT\n",
      "Smoothing RHS EFT\n",
      "Smoothing RHS EFT\n",
      "Smoothing RHS EFT\n",
      "Smoothing RHS EFT\n",
      "Smoothing RHS EFT\n",
      "Smoothing RHS EFT\n",
      "Smoothing RHS EFT\n",
      "reserr-FAS: 0.07502513378858566\n"
     ]
    },
    {
     "data": {
      "text/html": [
       "<pre style=\"white-space:pre;overflow-x:auto;line-height:normal;font-family:Menlo,'DejaVu Sans Mono',consolas,'Courier New',monospace\">Snapshot written at <span style=\"color: #808000; text-decoration-color: #808000\">...</span><span style=\"color: #808000; text-decoration-color: #808000\">filename</span>=<span style=\"color: #008000; text-decoration-color: #008000\">'./smalln//output_00017/particles_eft_multigrid_ncoarse6.h5'</span> param<span style=\"font-weight: bold\">[</span><span style=\"color: #008000; text-decoration-color: #008000\">'aexp'</span><span style=\"font-weight: bold\">]</span>=<span style=\"color: #008080; text-decoration-color: #008080; font-weight: bold\">0.2</span>     \n",
       "</pre>\n"
      ],
      "text/plain": [
       "Snapshot written at \u001b[33m...\u001b[0m\u001b[33mfilename\u001b[0m=\u001b[32m'./smalln//output_00017/particles_eft_multigrid_ncoarse6.h5'\u001b[0m param\u001b[1m[\u001b[0m\u001b[32m'aexp'\u001b[0m\u001b[1m]\u001b[0m=\u001b[1;36m0.2\u001b[0m     \n"
      ]
     },
     "metadata": {},
     "output_type": "display_data"
    },
    {
     "data": {
      "text/html": [
       "<pre style=\"white-space:pre;overflow-x:auto;line-height:normal;font-family:Menlo,'DejaVu Sans Mono',consolas,'Courier New',monospace\">param<span style=\"font-weight: bold\">[</span><span style=\"color: #008000; text-decoration-color: #008000\">'nsteps'</span><span style=\"font-weight: bold\">]</span>=<span style=\"color: #008080; text-decoration-color: #008080; font-weight: bold\">33</span> param<span style=\"font-weight: bold\">[</span><span style=\"color: #008000; text-decoration-color: #008000\">'aexp'</span><span style=\"font-weight: bold\">]</span>=<span style=\"color: #008080; text-decoration-color: #008080; font-weight: bold\">0.2</span> z = <span style=\"color: #008080; text-decoration-color: #008080; font-weight: bold\">4.0</span>                                                                       \n",
       "</pre>\n"
      ],
      "text/plain": [
       "param\u001b[1m[\u001b[0m\u001b[32m'nsteps'\u001b[0m\u001b[1m]\u001b[0m=\u001b[1;36m33\u001b[0m param\u001b[1m[\u001b[0m\u001b[32m'aexp'\u001b[0m\u001b[1m]\u001b[0m=\u001b[1;36m0.2\u001b[0m z = \u001b[1;36m4.0\u001b[0m                                                                       \n"
      ]
     },
     "metadata": {},
     "output_type": "display_data"
    },
    {
     "name": "stdout",
     "output_type": "stream",
     "text": [
      "Full solver.\n",
      "Smoothing RHS EFT\n",
      "Smoothing RHS EFT\n",
      "Smoothing RHS EFT\n",
      "Smoothing RHS EFT\n",
      "Smoothing RHS EFT\n",
      "Smoothing RHS EFT\n",
      "Smoothing RHS EFT\n",
      "Smoothing RHS EFT\n",
      "Smoothing RHS EFT\n",
      "Smoothing RHS EFT\n",
      "Smoothing RHS EFT\n",
      "Smoothing RHS EFT\n",
      "Smoothing RHS EFT\n",
      "Smoothing RHS EFT\n",
      "Smoothing RHS EFT\n",
      "Smoothing RHS EFT\n",
      "Smoothing RHS EFT\n",
      "Smoothing RHS EFT\n",
      "Smoothing RHS EFT\n",
      "Smoothing RHS EFT\n",
      "Smoothing RHS EFT\n",
      "Smoothing RHS EFT\n",
      "Smoothing RHS EFT\n",
      "Smoothing RHS EFT\n",
      "Smoothing RHS EFT\n",
      "Smoothing RHS EFT\n",
      "reserr-FAS: 0.09288133680820465\n"
     ]
    },
    {
     "data": {
      "text/html": [
       "<pre style=\"white-space:pre;overflow-x:auto;line-height:normal;font-family:Menlo,'DejaVu Sans Mono',consolas,'Courier New',monospace\">param<span style=\"font-weight: bold\">[</span><span style=\"color: #008000; text-decoration-color: #008000\">'nsteps'</span><span style=\"font-weight: bold\">]</span>=<span style=\"color: #008080; text-decoration-color: #008080; font-weight: bold\">34</span> param<span style=\"font-weight: bold\">[</span><span style=\"color: #008000; text-decoration-color: #008000\">'aexp'</span><span style=\"font-weight: bold\">]</span>=<span style=\"color: #008080; text-decoration-color: #008080; font-weight: bold\">0.21999999996869113</span> z = <span style=\"color: #008080; text-decoration-color: #008080; font-weight: bold\">3.545454546101423</span>                                         \n",
       "</pre>\n"
      ],
      "text/plain": [
       "param\u001b[1m[\u001b[0m\u001b[32m'nsteps'\u001b[0m\u001b[1m]\u001b[0m=\u001b[1;36m34\u001b[0m param\u001b[1m[\u001b[0m\u001b[32m'aexp'\u001b[0m\u001b[1m]\u001b[0m=\u001b[1;36m0.21999999996869113\u001b[0m z = \u001b[1;36m3.545454546101423\u001b[0m                                         \n"
      ]
     },
     "metadata": {},
     "output_type": "display_data"
    },
    {
     "name": "stdout",
     "output_type": "stream",
     "text": [
      "Full solver.\n",
      "Smoothing RHS EFT\n",
      "Smoothing RHS EFT\n",
      "Smoothing RHS EFT\n",
      "Smoothing RHS EFT\n",
      "Smoothing RHS EFT\n",
      "Smoothing RHS EFT\n",
      "Smoothing RHS EFT\n",
      "Smoothing RHS EFT\n",
      "Smoothing RHS EFT\n",
      "Smoothing RHS EFT\n",
      "Smoothing RHS EFT\n",
      "Smoothing RHS EFT\n",
      "Smoothing RHS EFT\n",
      "Smoothing RHS EFT\n",
      "Smoothing RHS EFT\n",
      "Smoothing RHS EFT\n",
      "Smoothing RHS EFT\n",
      "Smoothing RHS EFT\n",
      "Smoothing RHS EFT\n",
      "Smoothing RHS EFT\n",
      "Smoothing RHS EFT\n",
      "Smoothing RHS EFT\n",
      "Smoothing RHS EFT\n",
      "Smoothing RHS EFT\n",
      "Smoothing RHS EFT\n",
      "Smoothing RHS EFT\n",
      "reserr-FAS: 0.11547109484672546\n"
     ]
    },
    {
     "data": {
      "text/html": [
       "<pre style=\"white-space:pre;overflow-x:auto;line-height:normal;font-family:Menlo,'DejaVu Sans Mono',consolas,'Courier New',monospace\">param<span style=\"font-weight: bold\">[</span><span style=\"color: #008000; text-decoration-color: #008000\">'nsteps'</span><span style=\"font-weight: bold\">]</span>=<span style=\"color: #008080; text-decoration-color: #008080; font-weight: bold\">35</span> param<span style=\"font-weight: bold\">[</span><span style=\"color: #008000; text-decoration-color: #008000\">'aexp'</span><span style=\"font-weight: bold\">]</span>=<span style=\"color: #008080; text-decoration-color: #008080; font-weight: bold\">0.24199999989765836</span> z = <span style=\"color: #008080; text-decoration-color: #008080; font-weight: bold\">3.132231406706196</span>                                         \n",
       "</pre>\n"
      ],
      "text/plain": [
       "param\u001b[1m[\u001b[0m\u001b[32m'nsteps'\u001b[0m\u001b[1m]\u001b[0m=\u001b[1;36m35\u001b[0m param\u001b[1m[\u001b[0m\u001b[32m'aexp'\u001b[0m\u001b[1m]\u001b[0m=\u001b[1;36m0.24199999989765836\u001b[0m z = \u001b[1;36m3.132231406706196\u001b[0m                                         \n"
      ]
     },
     "metadata": {},
     "output_type": "display_data"
    },
    {
     "name": "stdout",
     "output_type": "stream",
     "text": [
      "Full solver.\n",
      "Smoothing RHS EFT\n",
      "Smoothing RHS EFT\n",
      "Smoothing RHS EFT\n",
      "Smoothing RHS EFT\n",
      "Smoothing RHS EFT\n",
      "Smoothing RHS EFT\n",
      "Smoothing RHS EFT\n",
      "Smoothing RHS EFT\n",
      "Smoothing RHS EFT\n",
      "Smoothing RHS EFT\n",
      "Smoothing RHS EFT\n",
      "Smoothing RHS EFT\n",
      "Smoothing RHS EFT\n",
      "Smoothing RHS EFT\n",
      "Smoothing RHS EFT\n",
      "Smoothing RHS EFT\n",
      "Smoothing RHS EFT\n",
      "Smoothing RHS EFT\n",
      "Smoothing RHS EFT\n",
      "Smoothing RHS EFT\n",
      "Smoothing RHS EFT\n",
      "Smoothing RHS EFT\n",
      "Smoothing RHS EFT\n",
      "Smoothing RHS EFT\n",
      "Smoothing RHS EFT\n",
      "Smoothing RHS EFT\n",
      "reserr-FAS: 0.12453768402338028\n"
     ]
    },
    {
     "data": {
      "text/html": [
       "<pre style=\"white-space:pre;overflow-x:auto;line-height:normal;font-family:Menlo,'DejaVu Sans Mono',consolas,'Courier New',monospace\">Snapshot written at <span style=\"color: #808000; text-decoration-color: #808000\">...</span><span style=\"color: #808000; text-decoration-color: #808000\">filename</span>=<span style=\"color: #008000; text-decoration-color: #008000\">'./smalln//output_00018/particles_eft_multigrid_ncoarse6.h5'</span> param<span style=\"font-weight: bold\">[</span><span style=\"color: #008000; text-decoration-color: #008000\">'aexp'</span><span style=\"font-weight: bold\">]</span>=<span style=\"color: #008080; text-decoration-color: #008080; font-weight: bold\">0.25</span>    \n",
       "</pre>\n"
      ],
      "text/plain": [
       "Snapshot written at \u001b[33m...\u001b[0m\u001b[33mfilename\u001b[0m=\u001b[32m'./smalln//output_00018/particles_eft_multigrid_ncoarse6.h5'\u001b[0m param\u001b[1m[\u001b[0m\u001b[32m'aexp'\u001b[0m\u001b[1m]\u001b[0m=\u001b[1;36m0.25\u001b[0m    \n"
      ]
     },
     "metadata": {},
     "output_type": "display_data"
    },
    {
     "data": {
      "text/html": [
       "<pre style=\"white-space:pre;overflow-x:auto;line-height:normal;font-family:Menlo,'DejaVu Sans Mono',consolas,'Courier New',monospace\">param<span style=\"font-weight: bold\">[</span><span style=\"color: #008000; text-decoration-color: #008000\">'nsteps'</span><span style=\"font-weight: bold\">]</span>=<span style=\"color: #008080; text-decoration-color: #008080; font-weight: bold\">36</span> param<span style=\"font-weight: bold\">[</span><span style=\"color: #008000; text-decoration-color: #008000\">'aexp'</span><span style=\"font-weight: bold\">]</span>=<span style=\"color: #008080; text-decoration-color: #008080; font-weight: bold\">0.25</span> z = <span style=\"color: #008080; text-decoration-color: #008080; font-weight: bold\">3.0</span>                                                                      \n",
       "</pre>\n"
      ],
      "text/plain": [
       "param\u001b[1m[\u001b[0m\u001b[32m'nsteps'\u001b[0m\u001b[1m]\u001b[0m=\u001b[1;36m36\u001b[0m param\u001b[1m[\u001b[0m\u001b[32m'aexp'\u001b[0m\u001b[1m]\u001b[0m=\u001b[1;36m0.25\u001b[0m z = \u001b[1;36m3.0\u001b[0m                                                                      \n"
      ]
     },
     "metadata": {},
     "output_type": "display_data"
    },
    {
     "name": "stdout",
     "output_type": "stream",
     "text": [
      "Full solver.\n",
      "Smoothing RHS EFT\n",
      "Smoothing RHS EFT\n",
      "Smoothing RHS EFT\n",
      "Smoothing RHS EFT\n",
      "Smoothing RHS EFT\n",
      "Smoothing RHS EFT\n",
      "Smoothing RHS EFT\n",
      "Smoothing RHS EFT\n",
      "Smoothing RHS EFT\n",
      "Smoothing RHS EFT\n",
      "Smoothing RHS EFT\n",
      "Smoothing RHS EFT\n",
      "Smoothing RHS EFT\n",
      "Smoothing RHS EFT\n",
      "Smoothing RHS EFT\n",
      "Smoothing RHS EFT\n",
      "Smoothing RHS EFT\n",
      "Smoothing RHS EFT\n",
      "Smoothing RHS EFT\n",
      "Smoothing RHS EFT\n",
      "Smoothing RHS EFT\n",
      "Smoothing RHS EFT\n",
      "Smoothing RHS EFT\n",
      "Smoothing RHS EFT\n",
      "Smoothing RHS EFT\n",
      "Smoothing RHS EFT\n",
      "reserr-FAS: 0.15583959221839905\n"
     ]
    },
    {
     "data": {
      "text/html": [
       "<pre style=\"white-space:pre;overflow-x:auto;line-height:normal;font-family:Menlo,'DejaVu Sans Mono',consolas,'Courier New',monospace\">param<span style=\"font-weight: bold\">[</span><span style=\"color: #008000; text-decoration-color: #008000\">'nsteps'</span><span style=\"font-weight: bold\">]</span>=<span style=\"color: #008080; text-decoration-color: #008080; font-weight: bold\">37</span> param<span style=\"font-weight: bold\">[</span><span style=\"color: #008000; text-decoration-color: #008000\">'aexp'</span><span style=\"font-weight: bold\">]</span>=<span style=\"color: #008080; text-decoration-color: #008080; font-weight: bold\">0.27499999986292756</span> z = <span style=\"color: #008080; text-decoration-color: #008080; font-weight: bold\">2.6363636381761646</span>                                        \n",
       "</pre>\n"
      ],
      "text/plain": [
       "param\u001b[1m[\u001b[0m\u001b[32m'nsteps'\u001b[0m\u001b[1m]\u001b[0m=\u001b[1;36m37\u001b[0m param\u001b[1m[\u001b[0m\u001b[32m'aexp'\u001b[0m\u001b[1m]\u001b[0m=\u001b[1;36m0.27499999986292756\u001b[0m z = \u001b[1;36m2.6363636381761646\u001b[0m                                        \n"
      ]
     },
     "metadata": {},
     "output_type": "display_data"
    },
    {
     "name": "stdout",
     "output_type": "stream",
     "text": [
      "Full solver.\n",
      "Smoothing RHS EFT\n",
      "Smoothing RHS EFT\n",
      "Smoothing RHS EFT\n",
      "Smoothing RHS EFT\n",
      "Smoothing RHS EFT\n",
      "Smoothing RHS EFT\n",
      "Smoothing RHS EFT\n",
      "Smoothing RHS EFT\n",
      "Smoothing RHS EFT\n",
      "Smoothing RHS EFT\n",
      "Smoothing RHS EFT\n",
      "Smoothing RHS EFT\n",
      "Smoothing RHS EFT\n",
      "Smoothing RHS EFT\n",
      "Smoothing RHS EFT\n",
      "Smoothing RHS EFT\n",
      "Smoothing RHS EFT\n",
      "Smoothing RHS EFT\n",
      "Smoothing RHS EFT\n",
      "Smoothing RHS EFT\n",
      "Smoothing RHS EFT\n",
      "Smoothing RHS EFT\n",
      "Smoothing RHS EFT\n",
      "Smoothing RHS EFT\n",
      "Smoothing RHS EFT\n",
      "Smoothing RHS EFT\n",
      "reserr-FAS: 0.19610759615898132\n"
     ]
    },
    {
     "data": {
      "text/html": [
       "<pre style=\"white-space:pre;overflow-x:auto;line-height:normal;font-family:Menlo,'DejaVu Sans Mono',consolas,'Courier New',monospace\">param<span style=\"font-weight: bold\">[</span><span style=\"color: #008000; text-decoration-color: #008000\">'nsteps'</span><span style=\"font-weight: bold\">]</span>=<span style=\"color: #008080; text-decoration-color: #008080; font-weight: bold\">38</span> param<span style=\"font-weight: bold\">[</span><span style=\"color: #008000; text-decoration-color: #008000\">'aexp'</span><span style=\"font-weight: bold\">]</span>=<span style=\"color: #008080; text-decoration-color: #008080; font-weight: bold\">0.30249999937366523</span> z = <span style=\"color: #008080; text-decoration-color: #008080; font-weight: bold\">2.3057851308116635</span>                                        \n",
       "</pre>\n"
      ],
      "text/plain": [
       "param\u001b[1m[\u001b[0m\u001b[32m'nsteps'\u001b[0m\u001b[1m]\u001b[0m=\u001b[1;36m38\u001b[0m param\u001b[1m[\u001b[0m\u001b[32m'aexp'\u001b[0m\u001b[1m]\u001b[0m=\u001b[1;36m0.30249999937366523\u001b[0m z = \u001b[1;36m2.3057851308116635\u001b[0m                                        \n"
      ]
     },
     "metadata": {},
     "output_type": "display_data"
    },
    {
     "name": "stdout",
     "output_type": "stream",
     "text": [
      "Full solver.\n",
      "Smoothing RHS EFT\n",
      "Smoothing RHS EFT\n",
      "Smoothing RHS EFT\n",
      "Smoothing RHS EFT\n",
      "Smoothing RHS EFT\n",
      "Smoothing RHS EFT\n",
      "Smoothing RHS EFT\n",
      "Smoothing RHS EFT\n",
      "Smoothing RHS EFT\n",
      "Smoothing RHS EFT\n",
      "Smoothing RHS EFT\n",
      "Smoothing RHS EFT\n",
      "Smoothing RHS EFT\n",
      "Smoothing RHS EFT\n",
      "Smoothing RHS EFT\n",
      "Smoothing RHS EFT\n",
      "Smoothing RHS EFT\n",
      "Smoothing RHS EFT\n",
      "Smoothing RHS EFT\n",
      "Smoothing RHS EFT\n",
      "Smoothing RHS EFT\n",
      "Smoothing RHS EFT\n",
      "Smoothing RHS EFT\n",
      "Smoothing RHS EFT\n",
      "Smoothing RHS EFT\n",
      "Smoothing RHS EFT\n",
      "reserr-FAS: 0.24832797050476074\n"
     ]
    },
    {
     "data": {
      "text/html": [
       "<pre style=\"white-space:pre;overflow-x:auto;line-height:normal;font-family:Menlo,'DejaVu Sans Mono',consolas,'Courier New',monospace\">param<span style=\"font-weight: bold\">[</span><span style=\"color: #008000; text-decoration-color: #008000\">'nsteps'</span><span style=\"font-weight: bold\">]</span>=<span style=\"color: #008080; text-decoration-color: #008080; font-weight: bold\">39</span> param<span style=\"font-weight: bold\">[</span><span style=\"color: #008000; text-decoration-color: #008000\">'aexp'</span><span style=\"font-weight: bold\">]</span>=<span style=\"color: #008080; text-decoration-color: #008080; font-weight: bold\">0.33274999856188375</span> z = <span style=\"color: #008080; text-decoration-color: #008080; font-weight: bold\">2.0052592165947773</span>                                        \n",
       "</pre>\n"
      ],
      "text/plain": [
       "param\u001b[1m[\u001b[0m\u001b[32m'nsteps'\u001b[0m\u001b[1m]\u001b[0m=\u001b[1;36m39\u001b[0m param\u001b[1m[\u001b[0m\u001b[32m'aexp'\u001b[0m\u001b[1m]\u001b[0m=\u001b[1;36m0.33274999856188375\u001b[0m z = \u001b[1;36m2.0052592165947773\u001b[0m                                        \n"
      ]
     },
     "metadata": {},
     "output_type": "display_data"
    },
    {
     "name": "stdout",
     "output_type": "stream",
     "text": [
      "Full solver.\n",
      "Smoothing RHS EFT\n",
      "Smoothing RHS EFT\n",
      "Smoothing RHS EFT\n",
      "Smoothing RHS EFT\n",
      "Smoothing RHS EFT\n",
      "Smoothing RHS EFT\n",
      "Smoothing RHS EFT\n",
      "Smoothing RHS EFT\n",
      "Smoothing RHS EFT\n",
      "Smoothing RHS EFT\n",
      "Smoothing RHS EFT\n",
      "Smoothing RHS EFT\n",
      "Smoothing RHS EFT\n",
      "Smoothing RHS EFT\n",
      "Smoothing RHS EFT\n",
      "Smoothing RHS EFT\n",
      "Smoothing RHS EFT\n",
      "Smoothing RHS EFT\n",
      "Smoothing RHS EFT\n",
      "Smoothing RHS EFT\n",
      "Smoothing RHS EFT\n",
      "Smoothing RHS EFT\n",
      "Smoothing RHS EFT\n",
      "Smoothing RHS EFT\n",
      "Smoothing RHS EFT\n",
      "Smoothing RHS EFT\n",
      "reserr-FAS: 0.24942801892757416\n"
     ]
    },
    {
     "data": {
      "text/html": [
       "<pre style=\"white-space:pre;overflow-x:auto;line-height:normal;font-family:Menlo,'DejaVu Sans Mono',consolas,'Courier New',monospace\">Snapshot written at <span style=\"color: #808000; text-decoration-color: #808000\">...</span><span style=\"color: #808000; text-decoration-color: #808000\">filename</span>=<span style=\"color: #008000; text-decoration-color: #008000\">'./smalln//output_00019/particles_eft_multigrid_ncoarse6.h5'</span>                       \n",
       "param<span style=\"font-weight: bold\">[</span><span style=\"color: #008000; text-decoration-color: #008000\">'aexp'</span><span style=\"font-weight: bold\">]</span>=<span style=\"color: #008080; text-decoration-color: #008080; font-weight: bold\">0.3333333333333333</span>                                                                                   \n",
       "</pre>\n"
      ],
      "text/plain": [
       "Snapshot written at \u001b[33m...\u001b[0m\u001b[33mfilename\u001b[0m=\u001b[32m'./smalln//output_00019/particles_eft_multigrid_ncoarse6.h5'\u001b[0m                       \n",
       "param\u001b[1m[\u001b[0m\u001b[32m'aexp'\u001b[0m\u001b[1m]\u001b[0m=\u001b[1;36m0.3333333333333333\u001b[0m                                                                                   \n"
      ]
     },
     "metadata": {},
     "output_type": "display_data"
    },
    {
     "data": {
      "text/html": [
       "<pre style=\"white-space:pre;overflow-x:auto;line-height:normal;font-family:Menlo,'DejaVu Sans Mono',consolas,'Courier New',monospace\">param<span style=\"font-weight: bold\">[</span><span style=\"color: #008000; text-decoration-color: #008000\">'nsteps'</span><span style=\"font-weight: bold\">]</span>=<span style=\"color: #008080; text-decoration-color: #008080; font-weight: bold\">40</span> param<span style=\"font-weight: bold\">[</span><span style=\"color: #008000; text-decoration-color: #008000\">'aexp'</span><span style=\"font-weight: bold\">]</span>=<span style=\"color: #008080; text-decoration-color: #008080; font-weight: bold\">0.3333333333333333</span> z = <span style=\"color: #008080; text-decoration-color: #008080; font-weight: bold\">2.0</span>                                                        \n",
       "</pre>\n"
      ],
      "text/plain": [
       "param\u001b[1m[\u001b[0m\u001b[32m'nsteps'\u001b[0m\u001b[1m]\u001b[0m=\u001b[1;36m40\u001b[0m param\u001b[1m[\u001b[0m\u001b[32m'aexp'\u001b[0m\u001b[1m]\u001b[0m=\u001b[1;36m0.3333333333333333\u001b[0m z = \u001b[1;36m2.0\u001b[0m                                                        \n"
      ]
     },
     "metadata": {},
     "output_type": "display_data"
    },
    {
     "name": "stdout",
     "output_type": "stream",
     "text": [
      "Full solver.\n",
      "Smoothing RHS EFT\n",
      "Smoothing RHS EFT\n",
      "Smoothing RHS EFT\n",
      "Smoothing RHS EFT\n",
      "Smoothing RHS EFT\n",
      "Smoothing RHS EFT\n",
      "Smoothing RHS EFT\n",
      "Smoothing RHS EFT\n",
      "Smoothing RHS EFT\n",
      "Smoothing RHS EFT\n",
      "Smoothing RHS EFT\n",
      "Smoothing RHS EFT\n",
      "Smoothing RHS EFT\n",
      "Smoothing RHS EFT\n",
      "Smoothing RHS EFT\n",
      "Smoothing RHS EFT\n",
      "Smoothing RHS EFT\n",
      "Smoothing RHS EFT\n",
      "Smoothing RHS EFT\n",
      "Smoothing RHS EFT\n",
      "Smoothing RHS EFT\n",
      "Smoothing RHS EFT\n",
      "Smoothing RHS EFT\n",
      "Smoothing RHS EFT\n",
      "Smoothing RHS EFT\n",
      "Smoothing RHS EFT\n",
      "reserr-FAS: 0.3177849352359772\n"
     ]
    },
    {
     "data": {
      "text/html": [
       "<pre style=\"white-space:pre;overflow-x:auto;line-height:normal;font-family:Menlo,'DejaVu Sans Mono',consolas,'Courier New',monospace\">param<span style=\"font-weight: bold\">[</span><span style=\"color: #008000; text-decoration-color: #008000\">'nsteps'</span><span style=\"font-weight: bold\">]</span>=<span style=\"color: #008080; text-decoration-color: #008080; font-weight: bold\">41</span> param<span style=\"font-weight: bold\">[</span><span style=\"color: #008000; text-decoration-color: #008000\">'aexp'</span><span style=\"font-weight: bold\">]</span>=<span style=\"color: #008080; text-decoration-color: #008080; font-weight: bold\">0.366666665251145</span> z = <span style=\"color: #008080; text-decoration-color: #008080; font-weight: bold\">1.727272737801401</span>                                           \n",
       "</pre>\n"
      ],
      "text/plain": [
       "param\u001b[1m[\u001b[0m\u001b[32m'nsteps'\u001b[0m\u001b[1m]\u001b[0m=\u001b[1;36m41\u001b[0m param\u001b[1m[\u001b[0m\u001b[32m'aexp'\u001b[0m\u001b[1m]\u001b[0m=\u001b[1;36m0.366666665251145\u001b[0m z = \u001b[1;36m1.727272737801401\u001b[0m                                           \n"
      ]
     },
     "metadata": {},
     "output_type": "display_data"
    },
    {
     "name": "stdout",
     "output_type": "stream",
     "text": [
      "Full solver.\n",
      "Smoothing RHS EFT\n",
      "Smoothing RHS EFT\n",
      "Smoothing RHS EFT\n",
      "Smoothing RHS EFT\n",
      "Smoothing RHS EFT\n",
      "Smoothing RHS EFT\n",
      "Smoothing RHS EFT\n",
      "Smoothing RHS EFT\n",
      "Smoothing RHS EFT\n",
      "Smoothing RHS EFT\n",
      "Smoothing RHS EFT\n",
      "Smoothing RHS EFT\n",
      "Smoothing RHS EFT\n",
      "Smoothing RHS EFT\n",
      "Smoothing RHS EFT\n",
      "Smoothing RHS EFT\n",
      "Smoothing RHS EFT\n",
      "Smoothing RHS EFT\n",
      "Smoothing RHS EFT\n",
      "Smoothing RHS EFT\n",
      "Smoothing RHS EFT\n",
      "Smoothing RHS EFT\n",
      "Smoothing RHS EFT\n",
      "Smoothing RHS EFT\n",
      "Smoothing RHS EFT\n",
      "Smoothing RHS EFT\n",
      "reserr-FAS: 0.4069008231163025\n"
     ]
    },
    {
     "data": {
      "text/html": [
       "<pre style=\"white-space:pre;overflow-x:auto;line-height:normal;font-family:Menlo,'DejaVu Sans Mono',consolas,'Courier New',monospace\">param<span style=\"font-weight: bold\">[</span><span style=\"color: #008000; text-decoration-color: #008000\">'nsteps'</span><span style=\"font-weight: bold\">]</span>=<span style=\"color: #008080; text-decoration-color: #008080; font-weight: bold\">42</span> param<span style=\"font-weight: bold\">[</span><span style=\"color: #008000; text-decoration-color: #008000\">'aexp'</span><span style=\"font-weight: bold\">]</span>=<span style=\"color: #008080; text-decoration-color: #008080; font-weight: bold\">0.4033333321886691</span> z = <span style=\"color: #008080; text-decoration-color: #008080; font-weight: bold\">1.479338850011596</span>                                          \n",
       "</pre>\n"
      ],
      "text/plain": [
       "param\u001b[1m[\u001b[0m\u001b[32m'nsteps'\u001b[0m\u001b[1m]\u001b[0m=\u001b[1;36m42\u001b[0m param\u001b[1m[\u001b[0m\u001b[32m'aexp'\u001b[0m\u001b[1m]\u001b[0m=\u001b[1;36m0.4033333321886691\u001b[0m z = \u001b[1;36m1.479338850011596\u001b[0m                                          \n"
      ]
     },
     "metadata": {},
     "output_type": "display_data"
    },
    {
     "name": "stdout",
     "output_type": "stream",
     "text": [
      "Full solver.\n",
      "Smoothing RHS EFT\n",
      "Smoothing RHS EFT\n",
      "Smoothing RHS EFT\n",
      "Smoothing RHS EFT\n",
      "Smoothing RHS EFT\n",
      "Smoothing RHS EFT\n",
      "Smoothing RHS EFT\n",
      "Smoothing RHS EFT\n",
      "Smoothing RHS EFT\n",
      "Smoothing RHS EFT\n",
      "Smoothing RHS EFT\n",
      "Smoothing RHS EFT\n",
      "Smoothing RHS EFT\n",
      "Smoothing RHS EFT\n",
      "Smoothing RHS EFT\n",
      "Smoothing RHS EFT\n",
      "Smoothing RHS EFT\n",
      "Smoothing RHS EFT\n",
      "Smoothing RHS EFT\n",
      "Smoothing RHS EFT\n",
      "Smoothing RHS EFT\n",
      "Smoothing RHS EFT\n",
      "Smoothing RHS EFT\n",
      "Smoothing RHS EFT\n",
      "Smoothing RHS EFT\n",
      "Smoothing RHS EFT\n",
      "reserr-FAS: 0.5226338505744934\n"
     ]
    },
    {
     "data": {
      "text/html": [
       "<pre style=\"white-space:pre;overflow-x:auto;line-height:normal;font-family:Menlo,'DejaVu Sans Mono',consolas,'Courier New',monospace\">param<span style=\"font-weight: bold\">[</span><span style=\"color: #008000; text-decoration-color: #008000\">'nsteps'</span><span style=\"font-weight: bold\">]</span>=<span style=\"color: #008080; text-decoration-color: #008080; font-weight: bold\">43</span> param<span style=\"font-weight: bold\">[</span><span style=\"color: #008000; text-decoration-color: #008000\">'aexp'</span><span style=\"font-weight: bold\">]</span>=<span style=\"color: #008080; text-decoration-color: #008080; font-weight: bold\">0.44366666725922005</span> z = <span style=\"color: #008080; text-decoration-color: #008080; font-weight: bold\">1.2539443996944049</span>                                        \n",
       "</pre>\n"
      ],
      "text/plain": [
       "param\u001b[1m[\u001b[0m\u001b[32m'nsteps'\u001b[0m\u001b[1m]\u001b[0m=\u001b[1;36m43\u001b[0m param\u001b[1m[\u001b[0m\u001b[32m'aexp'\u001b[0m\u001b[1m]\u001b[0m=\u001b[1;36m0.44366666725922005\u001b[0m z = \u001b[1;36m1.2539443996944049\u001b[0m                                        \n"
      ]
     },
     "metadata": {},
     "output_type": "display_data"
    },
    {
     "name": "stdout",
     "output_type": "stream",
     "text": [
      "Full solver.\n",
      "Smoothing RHS EFT\n",
      "Smoothing RHS EFT\n",
      "Smoothing RHS EFT\n",
      "Smoothing RHS EFT\n",
      "Smoothing RHS EFT\n",
      "Smoothing RHS EFT\n",
      "Smoothing RHS EFT\n",
      "Smoothing RHS EFT\n",
      "Smoothing RHS EFT\n",
      "Smoothing RHS EFT\n",
      "Smoothing RHS EFT\n",
      "Smoothing RHS EFT\n",
      "Smoothing RHS EFT\n",
      "Smoothing RHS EFT\n",
      "Smoothing RHS EFT\n",
      "Smoothing RHS EFT\n",
      "Smoothing RHS EFT\n",
      "Smoothing RHS EFT\n",
      "Smoothing RHS EFT\n",
      "Smoothing RHS EFT\n",
      "Smoothing RHS EFT\n",
      "Smoothing RHS EFT\n",
      "Smoothing RHS EFT\n",
      "Smoothing RHS EFT\n",
      "Smoothing RHS EFT\n",
      "Smoothing RHS EFT\n",
      "reserr-FAS: 0.672196626663208\n"
     ]
    },
    {
     "data": {
      "text/html": [
       "<pre style=\"white-space:pre;overflow-x:auto;line-height:normal;font-family:Menlo,'DejaVu Sans Mono',consolas,'Courier New',monospace\">param<span style=\"font-weight: bold\">[</span><span style=\"color: #008000; text-decoration-color: #008000\">'nsteps'</span><span style=\"font-weight: bold\">]</span>=<span style=\"color: #008080; text-decoration-color: #008080; font-weight: bold\">44</span> param<span style=\"font-weight: bold\">[</span><span style=\"color: #008000; text-decoration-color: #008000\">'aexp'</span><span style=\"font-weight: bold\">]</span>=<span style=\"color: #008080; text-decoration-color: #008080; font-weight: bold\">0.4880333332986013</span> z = <span style=\"color: #008080; text-decoration-color: #008080; font-weight: bold\">1.0490403662410368</span>                                         \n",
       "</pre>\n"
      ],
      "text/plain": [
       "param\u001b[1m[\u001b[0m\u001b[32m'nsteps'\u001b[0m\u001b[1m]\u001b[0m=\u001b[1;36m44\u001b[0m param\u001b[1m[\u001b[0m\u001b[32m'aexp'\u001b[0m\u001b[1m]\u001b[0m=\u001b[1;36m0.4880333332986013\u001b[0m z = \u001b[1;36m1.0490403662410368\u001b[0m                                         \n"
      ]
     },
     "metadata": {},
     "output_type": "display_data"
    },
    {
     "name": "stdout",
     "output_type": "stream",
     "text": [
      "Full solver.\n",
      "Smoothing RHS EFT\n",
      "Smoothing RHS EFT\n",
      "Smoothing RHS EFT\n",
      "Smoothing RHS EFT\n",
      "Smoothing RHS EFT\n",
      "Smoothing RHS EFT\n",
      "Smoothing RHS EFT\n",
      "Smoothing RHS EFT\n",
      "Smoothing RHS EFT\n",
      "Smoothing RHS EFT\n",
      "Smoothing RHS EFT\n",
      "Smoothing RHS EFT\n",
      "Smoothing RHS EFT\n",
      "Smoothing RHS EFT\n",
      "Smoothing RHS EFT\n",
      "Smoothing RHS EFT\n",
      "Smoothing RHS EFT\n",
      "Smoothing RHS EFT\n",
      "Smoothing RHS EFT\n",
      "Smoothing RHS EFT\n",
      "Smoothing RHS EFT\n",
      "Smoothing RHS EFT\n",
      "Smoothing RHS EFT\n",
      "Smoothing RHS EFT\n",
      "Smoothing RHS EFT\n",
      "Smoothing RHS EFT\n",
      "reserr-FAS: 0.7171198129653931\n"
     ]
    },
    {
     "data": {
      "text/html": [
       "<pre style=\"white-space:pre;overflow-x:auto;line-height:normal;font-family:Menlo,'DejaVu Sans Mono',consolas,'Courier New',monospace\">Snapshot written at <span style=\"color: #808000; text-decoration-color: #808000\">...</span><span style=\"color: #808000; text-decoration-color: #808000\">filename</span>=<span style=\"color: #008000; text-decoration-color: #008000\">'./smalln//output_00020/particles_eft_multigrid_ncoarse6.h5'</span> param<span style=\"font-weight: bold\">[</span><span style=\"color: #008000; text-decoration-color: #008000\">'aexp'</span><span style=\"font-weight: bold\">]</span>=<span style=\"color: #008080; text-decoration-color: #008080; font-weight: bold\">0.5</span>     \n",
       "</pre>\n"
      ],
      "text/plain": [
       "Snapshot written at \u001b[33m...\u001b[0m\u001b[33mfilename\u001b[0m=\u001b[32m'./smalln//output_00020/particles_eft_multigrid_ncoarse6.h5'\u001b[0m param\u001b[1m[\u001b[0m\u001b[32m'aexp'\u001b[0m\u001b[1m]\u001b[0m=\u001b[1;36m0.5\u001b[0m     \n"
      ]
     },
     "metadata": {},
     "output_type": "display_data"
    },
    {
     "data": {
      "text/html": [
       "<pre style=\"white-space:pre;overflow-x:auto;line-height:normal;font-family:Menlo,'DejaVu Sans Mono',consolas,'Courier New',monospace\">param<span style=\"font-weight: bold\">[</span><span style=\"color: #008000; text-decoration-color: #008000\">'nsteps'</span><span style=\"font-weight: bold\">]</span>=<span style=\"color: #008080; text-decoration-color: #008080; font-weight: bold\">45</span> param<span style=\"font-weight: bold\">[</span><span style=\"color: #008000; text-decoration-color: #008000\">'aexp'</span><span style=\"font-weight: bold\">]</span>=<span style=\"color: #008080; text-decoration-color: #008080; font-weight: bold\">0.5</span> z = <span style=\"color: #008080; text-decoration-color: #008080; font-weight: bold\">1.0</span>                                                                       \n",
       "</pre>\n"
      ],
      "text/plain": [
       "param\u001b[1m[\u001b[0m\u001b[32m'nsteps'\u001b[0m\u001b[1m]\u001b[0m=\u001b[1;36m45\u001b[0m param\u001b[1m[\u001b[0m\u001b[32m'aexp'\u001b[0m\u001b[1m]\u001b[0m=\u001b[1;36m0.5\u001b[0m z = \u001b[1;36m1.0\u001b[0m                                                                       \n"
      ]
     },
     "metadata": {},
     "output_type": "display_data"
    },
    {
     "name": "stdout",
     "output_type": "stream",
     "text": [
      "Full solver.\n",
      "Smoothing RHS EFT\n",
      "Smoothing RHS EFT\n",
      "Smoothing RHS EFT\n",
      "Smoothing RHS EFT\n",
      "Smoothing RHS EFT\n",
      "Smoothing RHS EFT\n",
      "Smoothing RHS EFT\n",
      "Smoothing RHS EFT\n",
      "Smoothing RHS EFT\n",
      "Smoothing RHS EFT\n",
      "Smoothing RHS EFT\n",
      "Smoothing RHS EFT\n",
      "Smoothing RHS EFT\n",
      "Smoothing RHS EFT\n",
      "Smoothing RHS EFT\n",
      "Smoothing RHS EFT\n",
      "Smoothing RHS EFT\n",
      "Smoothing RHS EFT\n",
      "Smoothing RHS EFT\n",
      "Smoothing RHS EFT\n",
      "Smoothing RHS EFT\n",
      "Smoothing RHS EFT\n",
      "Smoothing RHS EFT\n",
      "Smoothing RHS EFT\n",
      "Smoothing RHS EFT\n",
      "Smoothing RHS EFT\n",
      "reserr-FAS: 0.7673562169075012\n"
     ]
    },
    {
     "data": {
      "text/html": [
       "<pre style=\"white-space:pre;overflow-x:auto;line-height:normal;font-family:Menlo,'DejaVu Sans Mono',consolas,'Courier New',monospace\">Snapshot written at <span style=\"color: #808000; text-decoration-color: #808000\">...</span><span style=\"color: #808000; text-decoration-color: #808000\">filename</span>=<span style=\"color: #008000; text-decoration-color: #008000\">'./smalln//output_00021/particles_eft_multigrid_ncoarse6.h5'</span>                       \n",
       "param<span style=\"font-weight: bold\">[</span><span style=\"color: #008000; text-decoration-color: #008000\">'aexp'</span><span style=\"font-weight: bold\">]</span>=<span style=\"color: #008080; text-decoration-color: #008080; font-weight: bold\">0.5128205128205129</span>                                                                                   \n",
       "</pre>\n"
      ],
      "text/plain": [
       "Snapshot written at \u001b[33m...\u001b[0m\u001b[33mfilename\u001b[0m=\u001b[32m'./smalln//output_00021/particles_eft_multigrid_ncoarse6.h5'\u001b[0m                       \n",
       "param\u001b[1m[\u001b[0m\u001b[32m'aexp'\u001b[0m\u001b[1m]\u001b[0m=\u001b[1;36m0.5128205128205129\u001b[0m                                                                                   \n"
      ]
     },
     "metadata": {},
     "output_type": "display_data"
    },
    {
     "data": {
      "text/html": [
       "<pre style=\"white-space:pre;overflow-x:auto;line-height:normal;font-family:Menlo,'DejaVu Sans Mono',consolas,'Courier New',monospace\">param<span style=\"font-weight: bold\">[</span><span style=\"color: #008000; text-decoration-color: #008000\">'nsteps'</span><span style=\"font-weight: bold\">]</span>=<span style=\"color: #008080; text-decoration-color: #008080; font-weight: bold\">46</span> param<span style=\"font-weight: bold\">[</span><span style=\"color: #008000; text-decoration-color: #008000\">'aexp'</span><span style=\"font-weight: bold\">]</span>=<span style=\"color: #008080; text-decoration-color: #008080; font-weight: bold\">0.5128205128205129</span> z = <span style=\"color: #008080; text-decoration-color: #008080; font-weight: bold\">0.9499999999999997</span>                                         \n",
       "</pre>\n"
      ],
      "text/plain": [
       "param\u001b[1m[\u001b[0m\u001b[32m'nsteps'\u001b[0m\u001b[1m]\u001b[0m=\u001b[1;36m46\u001b[0m param\u001b[1m[\u001b[0m\u001b[32m'aexp'\u001b[0m\u001b[1m]\u001b[0m=\u001b[1;36m0.5128205128205129\u001b[0m z = \u001b[1;36m0.9499999999999997\u001b[0m                                         \n"
      ]
     },
     "metadata": {},
     "output_type": "display_data"
    },
    {
     "name": "stdout",
     "output_type": "stream",
     "text": [
      "Full solver.\n",
      "Smoothing RHS EFT\n",
      "Smoothing RHS EFT\n",
      "Smoothing RHS EFT\n",
      "Smoothing RHS EFT\n",
      "Smoothing RHS EFT\n",
      "Smoothing RHS EFT\n",
      "Smoothing RHS EFT\n",
      "Smoothing RHS EFT\n",
      "Smoothing RHS EFT\n",
      "Smoothing RHS EFT\n",
      "Smoothing RHS EFT\n",
      "Smoothing RHS EFT\n",
      "Smoothing RHS EFT\n",
      "Smoothing RHS EFT\n",
      "Smoothing RHS EFT\n",
      "Smoothing RHS EFT\n",
      "Smoothing RHS EFT\n",
      "Smoothing RHS EFT\n",
      "Smoothing RHS EFT\n",
      "Smoothing RHS EFT\n",
      "Smoothing RHS EFT\n",
      "Smoothing RHS EFT\n",
      "Smoothing RHS EFT\n",
      "Smoothing RHS EFT\n",
      "Smoothing RHS EFT\n",
      "Smoothing RHS EFT\n",
      "reserr-FAS: 0.8225234150886536\n"
     ]
    },
    {
     "data": {
      "text/html": [
       "<pre style=\"white-space:pre;overflow-x:auto;line-height:normal;font-family:Menlo,'DejaVu Sans Mono',consolas,'Courier New',monospace\">Snapshot written at <span style=\"color: #808000; text-decoration-color: #808000\">...</span><span style=\"color: #808000; text-decoration-color: #808000\">filename</span>=<span style=\"color: #008000; text-decoration-color: #008000\">'./smalln//output_00022/particles_eft_multigrid_ncoarse6.h5'</span>                       \n",
       "param<span style=\"font-weight: bold\">[</span><span style=\"color: #008000; text-decoration-color: #008000\">'aexp'</span><span style=\"font-weight: bold\">]</span>=<span style=\"color: #008080; text-decoration-color: #008080; font-weight: bold\">0.5263157894736842</span>                                                                                   \n",
       "</pre>\n"
      ],
      "text/plain": [
       "Snapshot written at \u001b[33m...\u001b[0m\u001b[33mfilename\u001b[0m=\u001b[32m'./smalln//output_00022/particles_eft_multigrid_ncoarse6.h5'\u001b[0m                       \n",
       "param\u001b[1m[\u001b[0m\u001b[32m'aexp'\u001b[0m\u001b[1m]\u001b[0m=\u001b[1;36m0.5263157894736842\u001b[0m                                                                                   \n"
      ]
     },
     "metadata": {},
     "output_type": "display_data"
    },
    {
     "data": {
      "text/html": [
       "<pre style=\"white-space:pre;overflow-x:auto;line-height:normal;font-family:Menlo,'DejaVu Sans Mono',consolas,'Courier New',monospace\">param<span style=\"font-weight: bold\">[</span><span style=\"color: #008000; text-decoration-color: #008000\">'nsteps'</span><span style=\"font-weight: bold\">]</span>=<span style=\"color: #008080; text-decoration-color: #008080; font-weight: bold\">47</span> param<span style=\"font-weight: bold\">[</span><span style=\"color: #008000; text-decoration-color: #008000\">'aexp'</span><span style=\"font-weight: bold\">]</span>=<span style=\"color: #008080; text-decoration-color: #008080; font-weight: bold\">0.5263157894736842</span> z = <span style=\"color: #008080; text-decoration-color: #008080; font-weight: bold\">0.9000000000000001</span>                                         \n",
       "</pre>\n"
      ],
      "text/plain": [
       "param\u001b[1m[\u001b[0m\u001b[32m'nsteps'\u001b[0m\u001b[1m]\u001b[0m=\u001b[1;36m47\u001b[0m param\u001b[1m[\u001b[0m\u001b[32m'aexp'\u001b[0m\u001b[1m]\u001b[0m=\u001b[1;36m0.5263157894736842\u001b[0m z = \u001b[1;36m0.9000000000000001\u001b[0m                                         \n"
      ]
     },
     "metadata": {},
     "output_type": "display_data"
    },
    {
     "name": "stdout",
     "output_type": "stream",
     "text": [
      "Full solver.\n",
      "Smoothing RHS EFT\n",
      "Smoothing RHS EFT\n",
      "Smoothing RHS EFT\n",
      "Smoothing RHS EFT\n",
      "Smoothing RHS EFT\n",
      "Smoothing RHS EFT\n",
      "Smoothing RHS EFT\n",
      "Smoothing RHS EFT\n",
      "Smoothing RHS EFT\n",
      "Smoothing RHS EFT\n",
      "Smoothing RHS EFT\n",
      "Smoothing RHS EFT\n",
      "Smoothing RHS EFT\n",
      "Smoothing RHS EFT\n",
      "Smoothing RHS EFT\n",
      "Smoothing RHS EFT\n",
      "Smoothing RHS EFT\n",
      "Smoothing RHS EFT\n",
      "Smoothing RHS EFT\n",
      "Smoothing RHS EFT\n",
      "Smoothing RHS EFT\n",
      "Smoothing RHS EFT\n",
      "Smoothing RHS EFT\n",
      "Smoothing RHS EFT\n",
      "Smoothing RHS EFT\n",
      "Smoothing RHS EFT\n",
      "reserr-FAS: 0.8831759095191956\n"
     ]
    },
    {
     "data": {
      "text/html": [
       "<pre style=\"white-space:pre;overflow-x:auto;line-height:normal;font-family:Menlo,'DejaVu Sans Mono',consolas,'Courier New',monospace\">Snapshot written at <span style=\"color: #808000; text-decoration-color: #808000\">...</span><span style=\"color: #808000; text-decoration-color: #808000\">filename</span>=<span style=\"color: #008000; text-decoration-color: #008000\">'./smalln//output_00023/particles_eft_multigrid_ncoarse6.h5'</span>                       \n",
       "param<span style=\"font-weight: bold\">[</span><span style=\"color: #008000; text-decoration-color: #008000\">'aexp'</span><span style=\"font-weight: bold\">]</span>=<span style=\"color: #008080; text-decoration-color: #008080; font-weight: bold\">0.5405405405405405</span>                                                                                   \n",
       "</pre>\n"
      ],
      "text/plain": [
       "Snapshot written at \u001b[33m...\u001b[0m\u001b[33mfilename\u001b[0m=\u001b[32m'./smalln//output_00023/particles_eft_multigrid_ncoarse6.h5'\u001b[0m                       \n",
       "param\u001b[1m[\u001b[0m\u001b[32m'aexp'\u001b[0m\u001b[1m]\u001b[0m=\u001b[1;36m0.5405405405405405\u001b[0m                                                                                   \n"
      ]
     },
     "metadata": {},
     "output_type": "display_data"
    },
    {
     "data": {
      "text/html": [
       "<pre style=\"white-space:pre;overflow-x:auto;line-height:normal;font-family:Menlo,'DejaVu Sans Mono',consolas,'Courier New',monospace\">param<span style=\"font-weight: bold\">[</span><span style=\"color: #008000; text-decoration-color: #008000\">'nsteps'</span><span style=\"font-weight: bold\">]</span>=<span style=\"color: #008080; text-decoration-color: #008080; font-weight: bold\">48</span> param<span style=\"font-weight: bold\">[</span><span style=\"color: #008000; text-decoration-color: #008000\">'aexp'</span><span style=\"font-weight: bold\">]</span>=<span style=\"color: #008080; text-decoration-color: #008080; font-weight: bold\">0.5405405405405405</span> z = <span style=\"color: #008080; text-decoration-color: #008080; font-weight: bold\">0.8500000000000003</span>                                         \n",
       "</pre>\n"
      ],
      "text/plain": [
       "param\u001b[1m[\u001b[0m\u001b[32m'nsteps'\u001b[0m\u001b[1m]\u001b[0m=\u001b[1;36m48\u001b[0m param\u001b[1m[\u001b[0m\u001b[32m'aexp'\u001b[0m\u001b[1m]\u001b[0m=\u001b[1;36m0.5405405405405405\u001b[0m z = \u001b[1;36m0.8500000000000003\u001b[0m                                         \n"
      ]
     },
     "metadata": {},
     "output_type": "display_data"
    },
    {
     "name": "stdout",
     "output_type": "stream",
     "text": [
      "Full solver.\n",
      "Smoothing RHS EFT\n",
      "Smoothing RHS EFT\n",
      "Smoothing RHS EFT\n",
      "Smoothing RHS EFT\n",
      "Smoothing RHS EFT\n",
      "Smoothing RHS EFT\n",
      "Smoothing RHS EFT\n",
      "Smoothing RHS EFT\n",
      "Smoothing RHS EFT\n",
      "Smoothing RHS EFT\n",
      "Smoothing RHS EFT\n",
      "Smoothing RHS EFT\n",
      "Smoothing RHS EFT\n",
      "Smoothing RHS EFT\n",
      "Smoothing RHS EFT\n",
      "Smoothing RHS EFT\n",
      "Smoothing RHS EFT\n",
      "Smoothing RHS EFT\n",
      "Smoothing RHS EFT\n",
      "Smoothing RHS EFT\n",
      "Smoothing RHS EFT\n",
      "Smoothing RHS EFT\n",
      "Smoothing RHS EFT\n",
      "Smoothing RHS EFT\n",
      "Smoothing RHS EFT\n",
      "Smoothing RHS EFT\n",
      "reserr-FAS: 0.949819028377533\n"
     ]
    },
    {
     "data": {
      "text/html": [
       "<pre style=\"white-space:pre;overflow-x:auto;line-height:normal;font-family:Menlo,'DejaVu Sans Mono',consolas,'Courier New',monospace\">Snapshot written at <span style=\"color: #808000; text-decoration-color: #808000\">...</span><span style=\"color: #808000; text-decoration-color: #808000\">filename</span>=<span style=\"color: #008000; text-decoration-color: #008000\">'./smalln//output_00024/particles_eft_multigrid_ncoarse6.h5'</span>                       \n",
       "param<span style=\"font-weight: bold\">[</span><span style=\"color: #008000; text-decoration-color: #008000\">'aexp'</span><span style=\"font-weight: bold\">]</span>=<span style=\"color: #008080; text-decoration-color: #008080; font-weight: bold\">0.5555555555555556</span>                                                                                   \n",
       "</pre>\n"
      ],
      "text/plain": [
       "Snapshot written at \u001b[33m...\u001b[0m\u001b[33mfilename\u001b[0m=\u001b[32m'./smalln//output_00024/particles_eft_multigrid_ncoarse6.h5'\u001b[0m                       \n",
       "param\u001b[1m[\u001b[0m\u001b[32m'aexp'\u001b[0m\u001b[1m]\u001b[0m=\u001b[1;36m0.5555555555555556\u001b[0m                                                                                   \n"
      ]
     },
     "metadata": {},
     "output_type": "display_data"
    },
    {
     "data": {
      "text/html": [
       "<pre style=\"white-space:pre;overflow-x:auto;line-height:normal;font-family:Menlo,'DejaVu Sans Mono',consolas,'Courier New',monospace\">param<span style=\"font-weight: bold\">[</span><span style=\"color: #008000; text-decoration-color: #008000\">'nsteps'</span><span style=\"font-weight: bold\">]</span>=<span style=\"color: #008080; text-decoration-color: #008080; font-weight: bold\">49</span> param<span style=\"font-weight: bold\">[</span><span style=\"color: #008000; text-decoration-color: #008000\">'aexp'</span><span style=\"font-weight: bold\">]</span>=<span style=\"color: #008080; text-decoration-color: #008080; font-weight: bold\">0.5555555555555556</span> z = <span style=\"color: #008080; text-decoration-color: #008080; font-weight: bold\">0.7999999999999998</span>                                         \n",
       "</pre>\n"
      ],
      "text/plain": [
       "param\u001b[1m[\u001b[0m\u001b[32m'nsteps'\u001b[0m\u001b[1m]\u001b[0m=\u001b[1;36m49\u001b[0m param\u001b[1m[\u001b[0m\u001b[32m'aexp'\u001b[0m\u001b[1m]\u001b[0m=\u001b[1;36m0.5555555555555556\u001b[0m z = \u001b[1;36m0.7999999999999998\u001b[0m                                         \n"
      ]
     },
     "metadata": {},
     "output_type": "display_data"
    },
    {
     "name": "stdout",
     "output_type": "stream",
     "text": [
      "Full solver.\n",
      "Smoothing RHS EFT\n",
      "Smoothing RHS EFT\n",
      "Smoothing RHS EFT\n",
      "Smoothing RHS EFT\n",
      "Smoothing RHS EFT\n",
      "Smoothing RHS EFT\n",
      "Smoothing RHS EFT\n",
      "Smoothing RHS EFT\n",
      "Smoothing RHS EFT\n",
      "Smoothing RHS EFT\n",
      "Smoothing RHS EFT\n",
      "Smoothing RHS EFT\n",
      "Smoothing RHS EFT\n",
      "Smoothing RHS EFT\n",
      "Smoothing RHS EFT\n",
      "Smoothing RHS EFT\n",
      "Smoothing RHS EFT\n",
      "Smoothing RHS EFT\n",
      "Smoothing RHS EFT\n",
      "Smoothing RHS EFT\n",
      "Smoothing RHS EFT\n",
      "Smoothing RHS EFT\n",
      "Smoothing RHS EFT\n",
      "Smoothing RHS EFT\n",
      "Smoothing RHS EFT\n",
      "Smoothing RHS EFT\n",
      "reserr-FAS: 1.0230525732040405\n"
     ]
    },
    {
     "data": {
      "text/html": [
       "<pre style=\"white-space:pre;overflow-x:auto;line-height:normal;font-family:Menlo,'DejaVu Sans Mono',consolas,'Courier New',monospace\">Snapshot written at <span style=\"color: #808000; text-decoration-color: #808000\">...</span><span style=\"color: #808000; text-decoration-color: #808000\">filename</span>=<span style=\"color: #008000; text-decoration-color: #008000\">'./smalln//output_00025/particles_eft_multigrid_ncoarse6.h5'</span>                       \n",
       "param<span style=\"font-weight: bold\">[</span><span style=\"color: #008000; text-decoration-color: #008000\">'aexp'</span><span style=\"font-weight: bold\">]</span>=<span style=\"color: #008080; text-decoration-color: #008080; font-weight: bold\">0.5714285714285714</span>                                                                                   \n",
       "</pre>\n"
      ],
      "text/plain": [
       "Snapshot written at \u001b[33m...\u001b[0m\u001b[33mfilename\u001b[0m=\u001b[32m'./smalln//output_00025/particles_eft_multigrid_ncoarse6.h5'\u001b[0m                       \n",
       "param\u001b[1m[\u001b[0m\u001b[32m'aexp'\u001b[0m\u001b[1m]\u001b[0m=\u001b[1;36m0.5714285714285714\u001b[0m                                                                                   \n"
      ]
     },
     "metadata": {},
     "output_type": "display_data"
    },
    {
     "data": {
      "text/html": [
       "<pre style=\"white-space:pre;overflow-x:auto;line-height:normal;font-family:Menlo,'DejaVu Sans Mono',consolas,'Courier New',monospace\">param<span style=\"font-weight: bold\">[</span><span style=\"color: #008000; text-decoration-color: #008000\">'nsteps'</span><span style=\"font-weight: bold\">]</span>=<span style=\"color: #008080; text-decoration-color: #008080; font-weight: bold\">50</span> param<span style=\"font-weight: bold\">[</span><span style=\"color: #008000; text-decoration-color: #008000\">'aexp'</span><span style=\"font-weight: bold\">]</span>=<span style=\"color: #008080; text-decoration-color: #008080; font-weight: bold\">0.5714285714285714</span> z = <span style=\"color: #008080; text-decoration-color: #008080; font-weight: bold\">0.75</span>                                                       \n",
       "</pre>\n"
      ],
      "text/plain": [
       "param\u001b[1m[\u001b[0m\u001b[32m'nsteps'\u001b[0m\u001b[1m]\u001b[0m=\u001b[1;36m50\u001b[0m param\u001b[1m[\u001b[0m\u001b[32m'aexp'\u001b[0m\u001b[1m]\u001b[0m=\u001b[1;36m0.5714285714285714\u001b[0m z = \u001b[1;36m0.75\u001b[0m                                                       \n"
      ]
     },
     "metadata": {},
     "output_type": "display_data"
    },
    {
     "name": "stdout",
     "output_type": "stream",
     "text": [
      "Full solver.\n",
      "Smoothing RHS EFT\n",
      "Smoothing RHS EFT\n",
      "Smoothing RHS EFT\n",
      "Smoothing RHS EFT\n",
      "Smoothing RHS EFT\n",
      "Smoothing RHS EFT\n",
      "Smoothing RHS EFT\n",
      "Smoothing RHS EFT\n",
      "Smoothing RHS EFT\n",
      "Smoothing RHS EFT\n",
      "Smoothing RHS EFT\n",
      "Smoothing RHS EFT\n",
      "Smoothing RHS EFT\n",
      "Smoothing RHS EFT\n",
      "Smoothing RHS EFT\n",
      "Smoothing RHS EFT\n",
      "Smoothing RHS EFT\n",
      "Smoothing RHS EFT\n",
      "Smoothing RHS EFT\n",
      "Smoothing RHS EFT\n",
      "Smoothing RHS EFT\n",
      "Smoothing RHS EFT\n",
      "Smoothing RHS EFT\n",
      "Smoothing RHS EFT\n",
      "Smoothing RHS EFT\n",
      "Smoothing RHS EFT\n",
      "reserr-FAS: 1.1034523248672485\n"
     ]
    },
    {
     "data": {
      "text/html": [
       "<pre style=\"white-space:pre;overflow-x:auto;line-height:normal;font-family:Menlo,'DejaVu Sans Mono',consolas,'Courier New',monospace\">Snapshot written at <span style=\"color: #808000; text-decoration-color: #808000\">...</span><span style=\"color: #808000; text-decoration-color: #808000\">filename</span>=<span style=\"color: #008000; text-decoration-color: #008000\">'./smalln//output_00026/particles_eft_multigrid_ncoarse6.h5'</span>                       \n",
       "param<span style=\"font-weight: bold\">[</span><span style=\"color: #008000; text-decoration-color: #008000\">'aexp'</span><span style=\"font-weight: bold\">]</span>=<span style=\"color: #008080; text-decoration-color: #008080; font-weight: bold\">0.5882352941176471</span>                                                                                   \n",
       "</pre>\n"
      ],
      "text/plain": [
       "Snapshot written at \u001b[33m...\u001b[0m\u001b[33mfilename\u001b[0m=\u001b[32m'./smalln//output_00026/particles_eft_multigrid_ncoarse6.h5'\u001b[0m                       \n",
       "param\u001b[1m[\u001b[0m\u001b[32m'aexp'\u001b[0m\u001b[1m]\u001b[0m=\u001b[1;36m0.5882352941176471\u001b[0m                                                                                   \n"
      ]
     },
     "metadata": {},
     "output_type": "display_data"
    },
    {
     "data": {
      "text/html": [
       "<pre style=\"white-space:pre;overflow-x:auto;line-height:normal;font-family:Menlo,'DejaVu Sans Mono',consolas,'Courier New',monospace\">param<span style=\"font-weight: bold\">[</span><span style=\"color: #008000; text-decoration-color: #008000\">'nsteps'</span><span style=\"font-weight: bold\">]</span>=<span style=\"color: #008080; text-decoration-color: #008080; font-weight: bold\">51</span> param<span style=\"font-weight: bold\">[</span><span style=\"color: #008000; text-decoration-color: #008000\">'aexp'</span><span style=\"font-weight: bold\">]</span>=<span style=\"color: #008080; text-decoration-color: #008080; font-weight: bold\">0.5882352941176471</span> z = <span style=\"color: #008080; text-decoration-color: #008080; font-weight: bold\">0.7</span>                                                        \n",
       "</pre>\n"
      ],
      "text/plain": [
       "param\u001b[1m[\u001b[0m\u001b[32m'nsteps'\u001b[0m\u001b[1m]\u001b[0m=\u001b[1;36m51\u001b[0m param\u001b[1m[\u001b[0m\u001b[32m'aexp'\u001b[0m\u001b[1m]\u001b[0m=\u001b[1;36m0.5882352941176471\u001b[0m z = \u001b[1;36m0.7\u001b[0m                                                        \n"
      ]
     },
     "metadata": {},
     "output_type": "display_data"
    },
    {
     "name": "stdout",
     "output_type": "stream",
     "text": [
      "Full solver.\n",
      "Smoothing RHS EFT\n",
      "Smoothing RHS EFT\n",
      "Smoothing RHS EFT\n",
      "Smoothing RHS EFT\n",
      "Smoothing RHS EFT\n",
      "Smoothing RHS EFT\n",
      "Smoothing RHS EFT\n",
      "Smoothing RHS EFT\n",
      "Smoothing RHS EFT\n",
      "Smoothing RHS EFT\n",
      "Smoothing RHS EFT\n",
      "Smoothing RHS EFT\n",
      "Smoothing RHS EFT\n",
      "Smoothing RHS EFT\n",
      "Smoothing RHS EFT\n",
      "Smoothing RHS EFT\n",
      "Smoothing RHS EFT\n",
      "Smoothing RHS EFT\n",
      "Smoothing RHS EFT\n",
      "Smoothing RHS EFT\n",
      "Smoothing RHS EFT\n",
      "Smoothing RHS EFT\n",
      "Smoothing RHS EFT\n",
      "Smoothing RHS EFT\n",
      "Smoothing RHS EFT\n",
      "Smoothing RHS EFT\n",
      "reserr-FAS: 1.1917052268981934\n"
     ]
    },
    {
     "data": {
      "text/html": [
       "<pre style=\"white-space:pre;overflow-x:auto;line-height:normal;font-family:Menlo,'DejaVu Sans Mono',consolas,'Courier New',monospace\">Snapshot written at <span style=\"color: #808000; text-decoration-color: #808000\">...</span><span style=\"color: #808000; text-decoration-color: #808000\">filename</span>=<span style=\"color: #008000; text-decoration-color: #008000\">'./smalln//output_00027/particles_eft_multigrid_ncoarse6.h5'</span>                       \n",
       "param<span style=\"font-weight: bold\">[</span><span style=\"color: #008000; text-decoration-color: #008000\">'aexp'</span><span style=\"font-weight: bold\">]</span>=<span style=\"color: #008080; text-decoration-color: #008080; font-weight: bold\">0.6060606060606061</span>                                                                                   \n",
       "</pre>\n"
      ],
      "text/plain": [
       "Snapshot written at \u001b[33m...\u001b[0m\u001b[33mfilename\u001b[0m=\u001b[32m'./smalln//output_00027/particles_eft_multigrid_ncoarse6.h5'\u001b[0m                       \n",
       "param\u001b[1m[\u001b[0m\u001b[32m'aexp'\u001b[0m\u001b[1m]\u001b[0m=\u001b[1;36m0.6060606060606061\u001b[0m                                                                                   \n"
      ]
     },
     "metadata": {},
     "output_type": "display_data"
    },
    {
     "data": {
      "text/html": [
       "<pre style=\"white-space:pre;overflow-x:auto;line-height:normal;font-family:Menlo,'DejaVu Sans Mono',consolas,'Courier New',monospace\">param<span style=\"font-weight: bold\">[</span><span style=\"color: #008000; text-decoration-color: #008000\">'nsteps'</span><span style=\"font-weight: bold\">]</span>=<span style=\"color: #008080; text-decoration-color: #008080; font-weight: bold\">52</span> param<span style=\"font-weight: bold\">[</span><span style=\"color: #008000; text-decoration-color: #008000\">'aexp'</span><span style=\"font-weight: bold\">]</span>=<span style=\"color: #008080; text-decoration-color: #008080; font-weight: bold\">0.6060606060606061</span> z = <span style=\"color: #008080; text-decoration-color: #008080; font-weight: bold\">0.6499999999999999</span>                                         \n",
       "</pre>\n"
      ],
      "text/plain": [
       "param\u001b[1m[\u001b[0m\u001b[32m'nsteps'\u001b[0m\u001b[1m]\u001b[0m=\u001b[1;36m52\u001b[0m param\u001b[1m[\u001b[0m\u001b[32m'aexp'\u001b[0m\u001b[1m]\u001b[0m=\u001b[1;36m0.6060606060606061\u001b[0m z = \u001b[1;36m0.6499999999999999\u001b[0m                                         \n"
      ]
     },
     "metadata": {},
     "output_type": "display_data"
    },
    {
     "name": "stdout",
     "output_type": "stream",
     "text": [
      "Full solver.\n",
      "Smoothing RHS EFT\n",
      "Smoothing RHS EFT\n",
      "Smoothing RHS EFT\n",
      "Smoothing RHS EFT\n",
      "Smoothing RHS EFT\n",
      "Smoothing RHS EFT\n",
      "Smoothing RHS EFT\n",
      "Smoothing RHS EFT\n",
      "Smoothing RHS EFT\n",
      "Smoothing RHS EFT\n",
      "Smoothing RHS EFT\n",
      "Smoothing RHS EFT\n",
      "Smoothing RHS EFT\n",
      "Smoothing RHS EFT\n",
      "Smoothing RHS EFT\n",
      "Smoothing RHS EFT\n",
      "Smoothing RHS EFT\n",
      "Smoothing RHS EFT\n",
      "Smoothing RHS EFT\n",
      "Smoothing RHS EFT\n",
      "Smoothing RHS EFT\n",
      "Smoothing RHS EFT\n",
      "Smoothing RHS EFT\n",
      "Smoothing RHS EFT\n",
      "Smoothing RHS EFT\n",
      "Smoothing RHS EFT\n",
      "reserr-FAS: 1.2887629270553589\n"
     ]
    },
    {
     "data": {
      "text/html": [
       "<pre style=\"white-space:pre;overflow-x:auto;line-height:normal;font-family:Menlo,'DejaVu Sans Mono',consolas,'Courier New',monospace\">Snapshot written at <span style=\"color: #808000; text-decoration-color: #808000\">...</span><span style=\"color: #808000; text-decoration-color: #808000\">filename</span>=<span style=\"color: #008000; text-decoration-color: #008000\">'./smalln//output_00028/particles_eft_multigrid_ncoarse6.h5'</span> param<span style=\"font-weight: bold\">[</span><span style=\"color: #008000; text-decoration-color: #008000\">'aexp'</span><span style=\"font-weight: bold\">]</span>=<span style=\"color: #008080; text-decoration-color: #008080; font-weight: bold\">0.625</span>   \n",
       "</pre>\n"
      ],
      "text/plain": [
       "Snapshot written at \u001b[33m...\u001b[0m\u001b[33mfilename\u001b[0m=\u001b[32m'./smalln//output_00028/particles_eft_multigrid_ncoarse6.h5'\u001b[0m param\u001b[1m[\u001b[0m\u001b[32m'aexp'\u001b[0m\u001b[1m]\u001b[0m=\u001b[1;36m0.625\u001b[0m   \n"
      ]
     },
     "metadata": {},
     "output_type": "display_data"
    },
    {
     "data": {
      "text/html": [
       "<pre style=\"white-space:pre;overflow-x:auto;line-height:normal;font-family:Menlo,'DejaVu Sans Mono',consolas,'Courier New',monospace\">param<span style=\"font-weight: bold\">[</span><span style=\"color: #008000; text-decoration-color: #008000\">'nsteps'</span><span style=\"font-weight: bold\">]</span>=<span style=\"color: #008080; text-decoration-color: #008080; font-weight: bold\">53</span> param<span style=\"font-weight: bold\">[</span><span style=\"color: #008000; text-decoration-color: #008000\">'aexp'</span><span style=\"font-weight: bold\">]</span>=<span style=\"color: #008080; text-decoration-color: #008080; font-weight: bold\">0.625</span> z = <span style=\"color: #008080; text-decoration-color: #008080; font-weight: bold\">0.6000000000000001</span>                                                      \n",
       "</pre>\n"
      ],
      "text/plain": [
       "param\u001b[1m[\u001b[0m\u001b[32m'nsteps'\u001b[0m\u001b[1m]\u001b[0m=\u001b[1;36m53\u001b[0m param\u001b[1m[\u001b[0m\u001b[32m'aexp'\u001b[0m\u001b[1m]\u001b[0m=\u001b[1;36m0.625\u001b[0m z = \u001b[1;36m0.6000000000000001\u001b[0m                                                      \n"
      ]
     },
     "metadata": {},
     "output_type": "display_data"
    },
    {
     "name": "stdout",
     "output_type": "stream",
     "text": [
      "Full solver.\n",
      "Smoothing RHS EFT\n",
      "Smoothing RHS EFT\n",
      "Smoothing RHS EFT\n",
      "Smoothing RHS EFT\n",
      "Smoothing RHS EFT\n",
      "Smoothing RHS EFT\n",
      "Smoothing RHS EFT\n",
      "Smoothing RHS EFT\n",
      "Smoothing RHS EFT\n",
      "Smoothing RHS EFT\n",
      "Smoothing RHS EFT\n",
      "Smoothing RHS EFT\n",
      "Smoothing RHS EFT\n",
      "Smoothing RHS EFT\n",
      "Smoothing RHS EFT\n",
      "Smoothing RHS EFT\n",
      "Smoothing RHS EFT\n",
      "Smoothing RHS EFT\n",
      "Smoothing RHS EFT\n",
      "Smoothing RHS EFT\n",
      "Smoothing RHS EFT\n",
      "Smoothing RHS EFT\n",
      "Smoothing RHS EFT\n",
      "Smoothing RHS EFT\n",
      "Smoothing RHS EFT\n",
      "Smoothing RHS EFT\n",
      "reserr-FAS: 1.3958234786987305\n"
     ]
    },
    {
     "data": {
      "text/html": [
       "<pre style=\"white-space:pre;overflow-x:auto;line-height:normal;font-family:Menlo,'DejaVu Sans Mono',consolas,'Courier New',monospace\">Snapshot written at <span style=\"color: #808000; text-decoration-color: #808000\">...</span><span style=\"color: #808000; text-decoration-color: #808000\">filename</span>=<span style=\"color: #008000; text-decoration-color: #008000\">'./smalln//output_00029/particles_eft_multigrid_ncoarse6.h5'</span>                       \n",
       "param<span style=\"font-weight: bold\">[</span><span style=\"color: #008000; text-decoration-color: #008000\">'aexp'</span><span style=\"font-weight: bold\">]</span>=<span style=\"color: #008080; text-decoration-color: #008080; font-weight: bold\">0.6451612903225806</span>                                                                                   \n",
       "</pre>\n"
      ],
      "text/plain": [
       "Snapshot written at \u001b[33m...\u001b[0m\u001b[33mfilename\u001b[0m=\u001b[32m'./smalln//output_00029/particles_eft_multigrid_ncoarse6.h5'\u001b[0m                       \n",
       "param\u001b[1m[\u001b[0m\u001b[32m'aexp'\u001b[0m\u001b[1m]\u001b[0m=\u001b[1;36m0.6451612903225806\u001b[0m                                                                                   \n"
      ]
     },
     "metadata": {},
     "output_type": "display_data"
    },
    {
     "data": {
      "text/html": [
       "<pre style=\"white-space:pre;overflow-x:auto;line-height:normal;font-family:Menlo,'DejaVu Sans Mono',consolas,'Courier New',monospace\">param<span style=\"font-weight: bold\">[</span><span style=\"color: #008000; text-decoration-color: #008000\">'nsteps'</span><span style=\"font-weight: bold\">]</span>=<span style=\"color: #008080; text-decoration-color: #008080; font-weight: bold\">54</span> param<span style=\"font-weight: bold\">[</span><span style=\"color: #008000; text-decoration-color: #008000\">'aexp'</span><span style=\"font-weight: bold\">]</span>=<span style=\"color: #008080; text-decoration-color: #008080; font-weight: bold\">0.6451612903225806</span> z = <span style=\"color: #008080; text-decoration-color: #008080; font-weight: bold\">0.55</span>                                                       \n",
       "</pre>\n"
      ],
      "text/plain": [
       "param\u001b[1m[\u001b[0m\u001b[32m'nsteps'\u001b[0m\u001b[1m]\u001b[0m=\u001b[1;36m54\u001b[0m param\u001b[1m[\u001b[0m\u001b[32m'aexp'\u001b[0m\u001b[1m]\u001b[0m=\u001b[1;36m0.6451612903225806\u001b[0m z = \u001b[1;36m0.55\u001b[0m                                                       \n"
      ]
     },
     "metadata": {},
     "output_type": "display_data"
    },
    {
     "name": "stdout",
     "output_type": "stream",
     "text": [
      "Full solver.\n",
      "Smoothing RHS EFT\n",
      "Smoothing RHS EFT\n",
      "Smoothing RHS EFT\n",
      "Smoothing RHS EFT\n",
      "Smoothing RHS EFT\n",
      "Smoothing RHS EFT\n",
      "Smoothing RHS EFT\n",
      "Smoothing RHS EFT\n",
      "Smoothing RHS EFT\n",
      "Smoothing RHS EFT\n",
      "Smoothing RHS EFT\n",
      "Smoothing RHS EFT\n",
      "Smoothing RHS EFT\n",
      "Smoothing RHS EFT\n",
      "Smoothing RHS EFT\n",
      "Smoothing RHS EFT\n",
      "Smoothing RHS EFT\n",
      "Smoothing RHS EFT\n",
      "Smoothing RHS EFT\n",
      "Smoothing RHS EFT\n",
      "Smoothing RHS EFT\n",
      "Smoothing RHS EFT\n",
      "Smoothing RHS EFT\n",
      "Smoothing RHS EFT\n",
      "Smoothing RHS EFT\n",
      "Smoothing RHS EFT\n",
      "reserr-FAS: 1.51486337184906\n"
     ]
    },
    {
     "data": {
      "text/html": [
       "<pre style=\"white-space:pre;overflow-x:auto;line-height:normal;font-family:Menlo,'DejaVu Sans Mono',consolas,'Courier New',monospace\">Snapshot written at <span style=\"color: #808000; text-decoration-color: #808000\">...</span><span style=\"color: #808000; text-decoration-color: #808000\">filename</span>=<span style=\"color: #008000; text-decoration-color: #008000\">'./smalln//output_00030/particles_eft_multigrid_ncoarse6.h5'</span>                       \n",
       "param<span style=\"font-weight: bold\">[</span><span style=\"color: #008000; text-decoration-color: #008000\">'aexp'</span><span style=\"font-weight: bold\">]</span>=<span style=\"color: #008080; text-decoration-color: #008080; font-weight: bold\">0.6666666666666666</span>                                                                                   \n",
       "</pre>\n"
      ],
      "text/plain": [
       "Snapshot written at \u001b[33m...\u001b[0m\u001b[33mfilename\u001b[0m=\u001b[32m'./smalln//output_00030/particles_eft_multigrid_ncoarse6.h5'\u001b[0m                       \n",
       "param\u001b[1m[\u001b[0m\u001b[32m'aexp'\u001b[0m\u001b[1m]\u001b[0m=\u001b[1;36m0.6666666666666666\u001b[0m                                                                                   \n"
      ]
     },
     "metadata": {},
     "output_type": "display_data"
    },
    {
     "data": {
      "text/html": [
       "<pre style=\"white-space:pre;overflow-x:auto;line-height:normal;font-family:Menlo,'DejaVu Sans Mono',consolas,'Courier New',monospace\">param<span style=\"font-weight: bold\">[</span><span style=\"color: #008000; text-decoration-color: #008000\">'nsteps'</span><span style=\"font-weight: bold\">]</span>=<span style=\"color: #008080; text-decoration-color: #008080; font-weight: bold\">55</span> param<span style=\"font-weight: bold\">[</span><span style=\"color: #008000; text-decoration-color: #008000\">'aexp'</span><span style=\"font-weight: bold\">]</span>=<span style=\"color: #008080; text-decoration-color: #008080; font-weight: bold\">0.6666666666666666</span> z = <span style=\"color: #008080; text-decoration-color: #008080; font-weight: bold\">0.5</span>                                                        \n",
       "</pre>\n"
      ],
      "text/plain": [
       "param\u001b[1m[\u001b[0m\u001b[32m'nsteps'\u001b[0m\u001b[1m]\u001b[0m=\u001b[1;36m55\u001b[0m param\u001b[1m[\u001b[0m\u001b[32m'aexp'\u001b[0m\u001b[1m]\u001b[0m=\u001b[1;36m0.6666666666666666\u001b[0m z = \u001b[1;36m0.5\u001b[0m                                                        \n"
      ]
     },
     "metadata": {},
     "output_type": "display_data"
    },
    {
     "name": "stdout",
     "output_type": "stream",
     "text": [
      "Full solver.\n",
      "Smoothing RHS EFT\n",
      "Smoothing RHS EFT\n",
      "Smoothing RHS EFT\n",
      "Smoothing RHS EFT\n",
      "Smoothing RHS EFT\n",
      "Smoothing RHS EFT\n",
      "Smoothing RHS EFT\n",
      "Smoothing RHS EFT\n",
      "Smoothing RHS EFT\n",
      "Smoothing RHS EFT\n",
      "Smoothing RHS EFT\n",
      "Smoothing RHS EFT\n",
      "Smoothing RHS EFT\n",
      "Smoothing RHS EFT\n",
      "Smoothing RHS EFT\n",
      "Smoothing RHS EFT\n",
      "Smoothing RHS EFT\n",
      "Smoothing RHS EFT\n",
      "Smoothing RHS EFT\n",
      "Smoothing RHS EFT\n",
      "Smoothing RHS EFT\n",
      "Smoothing RHS EFT\n",
      "Smoothing RHS EFT\n",
      "Smoothing RHS EFT\n",
      "Smoothing RHS EFT\n",
      "Smoothing RHS EFT\n",
      "reserr-FAS: 1.6482301950454712\n"
     ]
    },
    {
     "data": {
      "text/html": [
       "<pre style=\"white-space:pre;overflow-x:auto;line-height:normal;font-family:Menlo,'DejaVu Sans Mono',consolas,'Courier New',monospace\">Snapshot written at <span style=\"color: #808000; text-decoration-color: #808000\">...</span><span style=\"color: #808000; text-decoration-color: #808000\">filename</span>=<span style=\"color: #008000; text-decoration-color: #008000\">'./smalln//output_00031/particles_eft_multigrid_ncoarse6.h5'</span>                       \n",
       "param<span style=\"font-weight: bold\">[</span><span style=\"color: #008000; text-decoration-color: #008000\">'aexp'</span><span style=\"font-weight: bold\">]</span>=<span style=\"color: #008080; text-decoration-color: #008080; font-weight: bold\">0.6896551724137931</span>                                                                                   \n",
       "</pre>\n"
      ],
      "text/plain": [
       "Snapshot written at \u001b[33m...\u001b[0m\u001b[33mfilename\u001b[0m=\u001b[32m'./smalln//output_00031/particles_eft_multigrid_ncoarse6.h5'\u001b[0m                       \n",
       "param\u001b[1m[\u001b[0m\u001b[32m'aexp'\u001b[0m\u001b[1m]\u001b[0m=\u001b[1;36m0.6896551724137931\u001b[0m                                                                                   \n"
      ]
     },
     "metadata": {},
     "output_type": "display_data"
    },
    {
     "data": {
      "text/html": [
       "<pre style=\"white-space:pre;overflow-x:auto;line-height:normal;font-family:Menlo,'DejaVu Sans Mono',consolas,'Courier New',monospace\">param<span style=\"font-weight: bold\">[</span><span style=\"color: #008000; text-decoration-color: #008000\">'nsteps'</span><span style=\"font-weight: bold\">]</span>=<span style=\"color: #008080; text-decoration-color: #008080; font-weight: bold\">56</span> param<span style=\"font-weight: bold\">[</span><span style=\"color: #008000; text-decoration-color: #008000\">'aexp'</span><span style=\"font-weight: bold\">]</span>=<span style=\"color: #008080; text-decoration-color: #008080; font-weight: bold\">0.6896551724137931</span> z = <span style=\"color: #008080; text-decoration-color: #008080; font-weight: bold\">0.44999999999999996</span>                                        \n",
       "</pre>\n"
      ],
      "text/plain": [
       "param\u001b[1m[\u001b[0m\u001b[32m'nsteps'\u001b[0m\u001b[1m]\u001b[0m=\u001b[1;36m56\u001b[0m param\u001b[1m[\u001b[0m\u001b[32m'aexp'\u001b[0m\u001b[1m]\u001b[0m=\u001b[1;36m0.6896551724137931\u001b[0m z = \u001b[1;36m0.44999999999999996\u001b[0m                                        \n"
      ]
     },
     "metadata": {},
     "output_type": "display_data"
    },
    {
     "name": "stdout",
     "output_type": "stream",
     "text": [
      "Full solver.\n",
      "Smoothing RHS EFT\n",
      "Smoothing RHS EFT\n",
      "Smoothing RHS EFT\n",
      "Smoothing RHS EFT\n",
      "Smoothing RHS EFT\n",
      "Smoothing RHS EFT\n",
      "Smoothing RHS EFT\n",
      "Smoothing RHS EFT\n",
      "Smoothing RHS EFT\n",
      "Smoothing RHS EFT\n",
      "Smoothing RHS EFT\n",
      "Smoothing RHS EFT\n",
      "Smoothing RHS EFT\n",
      "Smoothing RHS EFT\n",
      "Smoothing RHS EFT\n",
      "Smoothing RHS EFT\n",
      "Smoothing RHS EFT\n",
      "Smoothing RHS EFT\n",
      "Smoothing RHS EFT\n",
      "Smoothing RHS EFT\n",
      "Smoothing RHS EFT\n",
      "Smoothing RHS EFT\n",
      "Smoothing RHS EFT\n",
      "Smoothing RHS EFT\n",
      "Smoothing RHS EFT\n",
      "Smoothing RHS EFT\n",
      "reserr-FAS: 1.7975943088531494\n"
     ]
    },
    {
     "data": {
      "text/html": [
       "<pre style=\"white-space:pre;overflow-x:auto;line-height:normal;font-family:Menlo,'DejaVu Sans Mono',consolas,'Courier New',monospace\">Snapshot written at <span style=\"color: #808000; text-decoration-color: #808000\">...</span><span style=\"color: #808000; text-decoration-color: #808000\">filename</span>=<span style=\"color: #008000; text-decoration-color: #008000\">'./smalln//output_00032/particles_eft_multigrid_ncoarse6.h5'</span>                       \n",
       "param<span style=\"font-weight: bold\">[</span><span style=\"color: #008000; text-decoration-color: #008000\">'aexp'</span><span style=\"font-weight: bold\">]</span>=<span style=\"color: #008080; text-decoration-color: #008080; font-weight: bold\">0.7142857142857143</span>                                                                                   \n",
       "</pre>\n"
      ],
      "text/plain": [
       "Snapshot written at \u001b[33m...\u001b[0m\u001b[33mfilename\u001b[0m=\u001b[32m'./smalln//output_00032/particles_eft_multigrid_ncoarse6.h5'\u001b[0m                       \n",
       "param\u001b[1m[\u001b[0m\u001b[32m'aexp'\u001b[0m\u001b[1m]\u001b[0m=\u001b[1;36m0.7142857142857143\u001b[0m                                                                                   \n"
      ]
     },
     "metadata": {},
     "output_type": "display_data"
    },
    {
     "data": {
      "text/html": [
       "<pre style=\"white-space:pre;overflow-x:auto;line-height:normal;font-family:Menlo,'DejaVu Sans Mono',consolas,'Courier New',monospace\">param<span style=\"font-weight: bold\">[</span><span style=\"color: #008000; text-decoration-color: #008000\">'nsteps'</span><span style=\"font-weight: bold\">]</span>=<span style=\"color: #008080; text-decoration-color: #008080; font-weight: bold\">57</span> param<span style=\"font-weight: bold\">[</span><span style=\"color: #008000; text-decoration-color: #008000\">'aexp'</span><span style=\"font-weight: bold\">]</span>=<span style=\"color: #008080; text-decoration-color: #008080; font-weight: bold\">0.7142857142857143</span> z = <span style=\"color: #008080; text-decoration-color: #008080; font-weight: bold\">0.3999999999999999</span>                                         \n",
       "</pre>\n"
      ],
      "text/plain": [
       "param\u001b[1m[\u001b[0m\u001b[32m'nsteps'\u001b[0m\u001b[1m]\u001b[0m=\u001b[1;36m57\u001b[0m param\u001b[1m[\u001b[0m\u001b[32m'aexp'\u001b[0m\u001b[1m]\u001b[0m=\u001b[1;36m0.7142857142857143\u001b[0m z = \u001b[1;36m0.3999999999999999\u001b[0m                                         \n"
      ]
     },
     "metadata": {},
     "output_type": "display_data"
    },
    {
     "name": "stdout",
     "output_type": "stream",
     "text": [
      "Full solver.\n",
      "Smoothing RHS EFT\n",
      "Smoothing RHS EFT\n",
      "Smoothing RHS EFT\n",
      "Smoothing RHS EFT\n",
      "Smoothing RHS EFT\n",
      "Smoothing RHS EFT\n",
      "Smoothing RHS EFT\n",
      "Smoothing RHS EFT\n",
      "Smoothing RHS EFT\n",
      "Smoothing RHS EFT\n",
      "Smoothing RHS EFT\n",
      "Smoothing RHS EFT\n",
      "Smoothing RHS EFT\n",
      "Smoothing RHS EFT\n",
      "Smoothing RHS EFT\n",
      "Smoothing RHS EFT\n",
      "Smoothing RHS EFT\n",
      "Smoothing RHS EFT\n",
      "Smoothing RHS EFT\n",
      "Smoothing RHS EFT\n",
      "Smoothing RHS EFT\n",
      "Smoothing RHS EFT\n",
      "Smoothing RHS EFT\n",
      "Smoothing RHS EFT\n",
      "Smoothing RHS EFT\n",
      "Smoothing RHS EFT\n",
      "reserr-FAS: 1.964021921157837\n"
     ]
    },
    {
     "data": {
      "text/html": [
       "<pre style=\"white-space:pre;overflow-x:auto;line-height:normal;font-family:Menlo,'DejaVu Sans Mono',consolas,'Courier New',monospace\">Snapshot written at <span style=\"color: #808000; text-decoration-color: #808000\">...</span><span style=\"color: #808000; text-decoration-color: #808000\">filename</span>=<span style=\"color: #008000; text-decoration-color: #008000\">'./smalln//output_00033/particles_eft_multigrid_ncoarse6.h5'</span>                       \n",
       "param<span style=\"font-weight: bold\">[</span><span style=\"color: #008000; text-decoration-color: #008000\">'aexp'</span><span style=\"font-weight: bold\">]</span>=<span style=\"color: #008080; text-decoration-color: #008080; font-weight: bold\">0.7407407407407407</span>                                                                                   \n",
       "</pre>\n"
      ],
      "text/plain": [
       "Snapshot written at \u001b[33m...\u001b[0m\u001b[33mfilename\u001b[0m=\u001b[32m'./smalln//output_00033/particles_eft_multigrid_ncoarse6.h5'\u001b[0m                       \n",
       "param\u001b[1m[\u001b[0m\u001b[32m'aexp'\u001b[0m\u001b[1m]\u001b[0m=\u001b[1;36m0.7407407407407407\u001b[0m                                                                                   \n"
      ]
     },
     "metadata": {},
     "output_type": "display_data"
    },
    {
     "data": {
      "text/html": [
       "<pre style=\"white-space:pre;overflow-x:auto;line-height:normal;font-family:Menlo,'DejaVu Sans Mono',consolas,'Courier New',monospace\">param<span style=\"font-weight: bold\">[</span><span style=\"color: #008000; text-decoration-color: #008000\">'nsteps'</span><span style=\"font-weight: bold\">]</span>=<span style=\"color: #008080; text-decoration-color: #008080; font-weight: bold\">58</span> param<span style=\"font-weight: bold\">[</span><span style=\"color: #008000; text-decoration-color: #008000\">'aexp'</span><span style=\"font-weight: bold\">]</span>=<span style=\"color: #008080; text-decoration-color: #008080; font-weight: bold\">0.7407407407407407</span> z = <span style=\"color: #008080; text-decoration-color: #008080; font-weight: bold\">0.3500000000000001</span>                                         \n",
       "</pre>\n"
      ],
      "text/plain": [
       "param\u001b[1m[\u001b[0m\u001b[32m'nsteps'\u001b[0m\u001b[1m]\u001b[0m=\u001b[1;36m58\u001b[0m param\u001b[1m[\u001b[0m\u001b[32m'aexp'\u001b[0m\u001b[1m]\u001b[0m=\u001b[1;36m0.7407407407407407\u001b[0m z = \u001b[1;36m0.3500000000000001\u001b[0m                                         \n"
      ]
     },
     "metadata": {},
     "output_type": "display_data"
    },
    {
     "name": "stdout",
     "output_type": "stream",
     "text": [
      "Full solver.\n",
      "Smoothing RHS EFT\n",
      "Smoothing RHS EFT\n",
      "Smoothing RHS EFT\n",
      "Smoothing RHS EFT\n",
      "Smoothing RHS EFT\n",
      "Smoothing RHS EFT\n",
      "Smoothing RHS EFT\n",
      "Smoothing RHS EFT\n",
      "Smoothing RHS EFT\n",
      "Smoothing RHS EFT\n",
      "Smoothing RHS EFT\n",
      "Smoothing RHS EFT\n",
      "Smoothing RHS EFT\n",
      "Smoothing RHS EFT\n",
      "Smoothing RHS EFT\n",
      "Smoothing RHS EFT\n",
      "Smoothing RHS EFT\n",
      "Smoothing RHS EFT\n",
      "Smoothing RHS EFT\n",
      "Smoothing RHS EFT\n",
      "Smoothing RHS EFT\n",
      "Smoothing RHS EFT\n",
      "Smoothing RHS EFT\n",
      "Smoothing RHS EFT\n",
      "Smoothing RHS EFT\n",
      "Smoothing RHS EFT\n",
      "reserr-FAS: 2.1484665870666504\n"
     ]
    },
    {
     "data": {
      "text/html": [
       "<pre style=\"white-space:pre;overflow-x:auto;line-height:normal;font-family:Menlo,'DejaVu Sans Mono',consolas,'Courier New',monospace\">Snapshot written at <span style=\"color: #808000; text-decoration-color: #808000\">...</span><span style=\"color: #808000; text-decoration-color: #808000\">filename</span>=<span style=\"color: #008000; text-decoration-color: #008000\">'./smalln//output_00034/particles_eft_multigrid_ncoarse6.h5'</span>                       \n",
       "param<span style=\"font-weight: bold\">[</span><span style=\"color: #008000; text-decoration-color: #008000\">'aexp'</span><span style=\"font-weight: bold\">]</span>=<span style=\"color: #008080; text-decoration-color: #008080; font-weight: bold\">0.7692307692307692</span>                                                                                   \n",
       "</pre>\n"
      ],
      "text/plain": [
       "Snapshot written at \u001b[33m...\u001b[0m\u001b[33mfilename\u001b[0m=\u001b[32m'./smalln//output_00034/particles_eft_multigrid_ncoarse6.h5'\u001b[0m                       \n",
       "param\u001b[1m[\u001b[0m\u001b[32m'aexp'\u001b[0m\u001b[1m]\u001b[0m=\u001b[1;36m0.7692307692307692\u001b[0m                                                                                   \n"
      ]
     },
     "metadata": {},
     "output_type": "display_data"
    },
    {
     "data": {
      "text/html": [
       "<pre style=\"white-space:pre;overflow-x:auto;line-height:normal;font-family:Menlo,'DejaVu Sans Mono',consolas,'Courier New',monospace\">param<span style=\"font-weight: bold\">[</span><span style=\"color: #008000; text-decoration-color: #008000\">'nsteps'</span><span style=\"font-weight: bold\">]</span>=<span style=\"color: #008080; text-decoration-color: #008080; font-weight: bold\">59</span> param<span style=\"font-weight: bold\">[</span><span style=\"color: #008000; text-decoration-color: #008000\">'aexp'</span><span style=\"font-weight: bold\">]</span>=<span style=\"color: #008080; text-decoration-color: #008080; font-weight: bold\">0.7692307692307692</span> z = <span style=\"color: #008080; text-decoration-color: #008080; font-weight: bold\">0.30000000000000004</span>                                        \n",
       "</pre>\n"
      ],
      "text/plain": [
       "param\u001b[1m[\u001b[0m\u001b[32m'nsteps'\u001b[0m\u001b[1m]\u001b[0m=\u001b[1;36m59\u001b[0m param\u001b[1m[\u001b[0m\u001b[32m'aexp'\u001b[0m\u001b[1m]\u001b[0m=\u001b[1;36m0.7692307692307692\u001b[0m z = \u001b[1;36m0.30000000000000004\u001b[0m                                        \n"
      ]
     },
     "metadata": {},
     "output_type": "display_data"
    },
    {
     "name": "stdout",
     "output_type": "stream",
     "text": [
      "Full solver.\n",
      "Smoothing RHS EFT\n",
      "Smoothing RHS EFT\n",
      "Smoothing RHS EFT\n",
      "Smoothing RHS EFT\n",
      "Smoothing RHS EFT\n",
      "Smoothing RHS EFT\n",
      "Smoothing RHS EFT\n",
      "Smoothing RHS EFT\n",
      "Smoothing RHS EFT\n",
      "Smoothing RHS EFT\n",
      "Smoothing RHS EFT\n",
      "Smoothing RHS EFT\n",
      "Smoothing RHS EFT\n",
      "Smoothing RHS EFT\n",
      "Smoothing RHS EFT\n",
      "Smoothing RHS EFT\n",
      "Smoothing RHS EFT\n",
      "Smoothing RHS EFT\n",
      "Smoothing RHS EFT\n",
      "Smoothing RHS EFT\n",
      "Smoothing RHS EFT\n",
      "Smoothing RHS EFT\n",
      "Smoothing RHS EFT\n",
      "Smoothing RHS EFT\n",
      "Smoothing RHS EFT\n",
      "Smoothing RHS EFT\n",
      "reserr-FAS: 2.3523223400115967\n"
     ]
    },
    {
     "data": {
      "text/html": [
       "<pre style=\"white-space:pre;overflow-x:auto;line-height:normal;font-family:Menlo,'DejaVu Sans Mono',consolas,'Courier New',monospace\">Snapshot written at <span style=\"color: #808000; text-decoration-color: #808000\">...</span><span style=\"color: #808000; text-decoration-color: #808000\">filename</span>=<span style=\"color: #008000; text-decoration-color: #008000\">'./smalln//output_00035/particles_eft_multigrid_ncoarse6.h5'</span> param<span style=\"font-weight: bold\">[</span><span style=\"color: #008000; text-decoration-color: #008000\">'aexp'</span><span style=\"font-weight: bold\">]</span>=<span style=\"color: #008080; text-decoration-color: #008080; font-weight: bold\">0.8</span>     \n",
       "</pre>\n"
      ],
      "text/plain": [
       "Snapshot written at \u001b[33m...\u001b[0m\u001b[33mfilename\u001b[0m=\u001b[32m'./smalln//output_00035/particles_eft_multigrid_ncoarse6.h5'\u001b[0m param\u001b[1m[\u001b[0m\u001b[32m'aexp'\u001b[0m\u001b[1m]\u001b[0m=\u001b[1;36m0.8\u001b[0m     \n"
      ]
     },
     "metadata": {},
     "output_type": "display_data"
    },
    {
     "data": {
      "text/html": [
       "<pre style=\"white-space:pre;overflow-x:auto;line-height:normal;font-family:Menlo,'DejaVu Sans Mono',consolas,'Courier New',monospace\">param<span style=\"font-weight: bold\">[</span><span style=\"color: #008000; text-decoration-color: #008000\">'nsteps'</span><span style=\"font-weight: bold\">]</span>=<span style=\"color: #008080; text-decoration-color: #008080; font-weight: bold\">60</span> param<span style=\"font-weight: bold\">[</span><span style=\"color: #008000; text-decoration-color: #008000\">'aexp'</span><span style=\"font-weight: bold\">]</span>=<span style=\"color: #008080; text-decoration-color: #008080; font-weight: bold\">0.8</span> z = <span style=\"color: #008080; text-decoration-color: #008080; font-weight: bold\">0.25</span>                                                                      \n",
       "</pre>\n"
      ],
      "text/plain": [
       "param\u001b[1m[\u001b[0m\u001b[32m'nsteps'\u001b[0m\u001b[1m]\u001b[0m=\u001b[1;36m60\u001b[0m param\u001b[1m[\u001b[0m\u001b[32m'aexp'\u001b[0m\u001b[1m]\u001b[0m=\u001b[1;36m0.8\u001b[0m z = \u001b[1;36m0.25\u001b[0m                                                                      \n"
      ]
     },
     "metadata": {},
     "output_type": "display_data"
    },
    {
     "name": "stdout",
     "output_type": "stream",
     "text": [
      "Full solver.\n",
      "Smoothing RHS EFT\n",
      "Smoothing RHS EFT\n",
      "Smoothing RHS EFT\n",
      "Smoothing RHS EFT\n",
      "Smoothing RHS EFT\n",
      "Smoothing RHS EFT\n",
      "Smoothing RHS EFT\n",
      "Smoothing RHS EFT\n",
      "Smoothing RHS EFT\n",
      "Smoothing RHS EFT\n",
      "Smoothing RHS EFT\n",
      "Smoothing RHS EFT\n",
      "Smoothing RHS EFT\n",
      "Smoothing RHS EFT\n",
      "Smoothing RHS EFT\n",
      "Smoothing RHS EFT\n",
      "Smoothing RHS EFT\n",
      "Smoothing RHS EFT\n",
      "Smoothing RHS EFT\n",
      "Smoothing RHS EFT\n",
      "Smoothing RHS EFT\n",
      "Smoothing RHS EFT\n",
      "Smoothing RHS EFT\n",
      "Smoothing RHS EFT\n",
      "Smoothing RHS EFT\n",
      "Smoothing RHS EFT\n",
      "reserr-FAS: 2.5773534774780273\n"
     ]
    },
    {
     "data": {
      "text/html": [
       "<pre style=\"white-space:pre;overflow-x:auto;line-height:normal;font-family:Menlo,'DejaVu Sans Mono',consolas,'Courier New',monospace\">Snapshot written at <span style=\"color: #808000; text-decoration-color: #808000\">...</span><span style=\"color: #808000; text-decoration-color: #808000\">filename</span>=<span style=\"color: #008000; text-decoration-color: #008000\">'./smalln//output_00036/particles_eft_multigrid_ncoarse6.h5'</span>                       \n",
       "param<span style=\"font-weight: bold\">[</span><span style=\"color: #008000; text-decoration-color: #008000\">'aexp'</span><span style=\"font-weight: bold\">]</span>=<span style=\"color: #008080; text-decoration-color: #008080; font-weight: bold\">0.8333333333333334</span>                                                                                   \n",
       "</pre>\n"
      ],
      "text/plain": [
       "Snapshot written at \u001b[33m...\u001b[0m\u001b[33mfilename\u001b[0m=\u001b[32m'./smalln//output_00036/particles_eft_multigrid_ncoarse6.h5'\u001b[0m                       \n",
       "param\u001b[1m[\u001b[0m\u001b[32m'aexp'\u001b[0m\u001b[1m]\u001b[0m=\u001b[1;36m0.8333333333333334\u001b[0m                                                                                   \n"
      ]
     },
     "metadata": {},
     "output_type": "display_data"
    },
    {
     "data": {
      "text/html": [
       "<pre style=\"white-space:pre;overflow-x:auto;line-height:normal;font-family:Menlo,'DejaVu Sans Mono',consolas,'Courier New',monospace\">param<span style=\"font-weight: bold\">[</span><span style=\"color: #008000; text-decoration-color: #008000\">'nsteps'</span><span style=\"font-weight: bold\">]</span>=<span style=\"color: #008080; text-decoration-color: #008080; font-weight: bold\">61</span> param<span style=\"font-weight: bold\">[</span><span style=\"color: #008000; text-decoration-color: #008000\">'aexp'</span><span style=\"font-weight: bold\">]</span>=<span style=\"color: #008080; text-decoration-color: #008080; font-weight: bold\">0.8333333333333334</span> z = <span style=\"color: #008080; text-decoration-color: #008080; font-weight: bold\">0.19999999999999996</span>                                        \n",
       "</pre>\n"
      ],
      "text/plain": [
       "param\u001b[1m[\u001b[0m\u001b[32m'nsteps'\u001b[0m\u001b[1m]\u001b[0m=\u001b[1;36m61\u001b[0m param\u001b[1m[\u001b[0m\u001b[32m'aexp'\u001b[0m\u001b[1m]\u001b[0m=\u001b[1;36m0.8333333333333334\u001b[0m z = \u001b[1;36m0.19999999999999996\u001b[0m                                        \n"
      ]
     },
     "metadata": {},
     "output_type": "display_data"
    },
    {
     "name": "stdout",
     "output_type": "stream",
     "text": [
      "Full solver.\n",
      "Smoothing RHS EFT\n",
      "Smoothing RHS EFT\n",
      "Smoothing RHS EFT\n",
      "Smoothing RHS EFT\n",
      "Smoothing RHS EFT\n",
      "Smoothing RHS EFT\n",
      "Smoothing RHS EFT\n",
      "Smoothing RHS EFT\n",
      "Smoothing RHS EFT\n",
      "Smoothing RHS EFT\n",
      "Smoothing RHS EFT\n",
      "Smoothing RHS EFT\n",
      "Smoothing RHS EFT\n",
      "Smoothing RHS EFT\n",
      "Smoothing RHS EFT\n",
      "Smoothing RHS EFT\n",
      "Smoothing RHS EFT\n",
      "Smoothing RHS EFT\n",
      "Smoothing RHS EFT\n",
      "Smoothing RHS EFT\n",
      "Smoothing RHS EFT\n",
      "Smoothing RHS EFT\n",
      "Smoothing RHS EFT\n",
      "Smoothing RHS EFT\n",
      "Smoothing RHS EFT\n",
      "Smoothing RHS EFT\n",
      "reserr-FAS: 2.820737600326538\n"
     ]
    },
    {
     "data": {
      "text/html": [
       "<pre style=\"white-space:pre;overflow-x:auto;line-height:normal;font-family:Menlo,'DejaVu Sans Mono',consolas,'Courier New',monospace\">param<span style=\"font-weight: bold\">[</span><span style=\"color: #008000; text-decoration-color: #008000\">'nsteps'</span><span style=\"font-weight: bold\">]</span>=<span style=\"color: #008080; text-decoration-color: #008080; font-weight: bold\">62</span> param<span style=\"font-weight: bold\">[</span><span style=\"color: #008000; text-decoration-color: #008000\">'aexp'</span><span style=\"font-weight: bold\">]</span>=<span style=\"color: #008080; text-decoration-color: #008080; font-weight: bold\">0.8684486539584604</span> z = <span style=\"color: #008080; text-decoration-color: #008080; font-weight: bold\">0.15147855367374663</span>                                        \n",
       "</pre>\n"
      ],
      "text/plain": [
       "param\u001b[1m[\u001b[0m\u001b[32m'nsteps'\u001b[0m\u001b[1m]\u001b[0m=\u001b[1;36m62\u001b[0m param\u001b[1m[\u001b[0m\u001b[32m'aexp'\u001b[0m\u001b[1m]\u001b[0m=\u001b[1;36m0.8684486539584604\u001b[0m z = \u001b[1;36m0.15147855367374663\u001b[0m                                        \n"
      ]
     },
     "metadata": {},
     "output_type": "display_data"
    },
    {
     "name": "stdout",
     "output_type": "stream",
     "text": [
      "Full solver.\n",
      "Smoothing RHS EFT\n",
      "Smoothing RHS EFT\n",
      "Smoothing RHS EFT\n",
      "Smoothing RHS EFT\n",
      "Smoothing RHS EFT\n",
      "Smoothing RHS EFT\n",
      "Smoothing RHS EFT\n",
      "Smoothing RHS EFT\n",
      "Smoothing RHS EFT\n",
      "Smoothing RHS EFT\n",
      "Smoothing RHS EFT\n",
      "Smoothing RHS EFT\n",
      "Smoothing RHS EFT\n",
      "Smoothing RHS EFT\n",
      "Smoothing RHS EFT\n",
      "Smoothing RHS EFT\n",
      "Smoothing RHS EFT\n",
      "Smoothing RHS EFT\n",
      "Smoothing RHS EFT\n",
      "Smoothing RHS EFT\n",
      "Smoothing RHS EFT\n",
      "Smoothing RHS EFT\n",
      "Smoothing RHS EFT\n",
      "Smoothing RHS EFT\n",
      "Smoothing RHS EFT\n",
      "Smoothing RHS EFT\n",
      "reserr-FAS: 2.8287034034729004\n"
     ]
    },
    {
     "data": {
      "text/html": [
       "<pre style=\"white-space:pre;overflow-x:auto;line-height:normal;font-family:Menlo,'DejaVu Sans Mono',consolas,'Courier New',monospace\">Snapshot written at <span style=\"color: #808000; text-decoration-color: #808000\">...</span><span style=\"color: #808000; text-decoration-color: #808000\">filename</span>=<span style=\"color: #008000; text-decoration-color: #008000\">'./smalln//output_00037/particles_eft_multigrid_ncoarse6.h5'</span>                       \n",
       "param<span style=\"font-weight: bold\">[</span><span style=\"color: #008000; text-decoration-color: #008000\">'aexp'</span><span style=\"font-weight: bold\">]</span>=<span style=\"color: #008080; text-decoration-color: #008080; font-weight: bold\">0.8695652173913044</span>                                                                                   \n",
       "</pre>\n"
      ],
      "text/plain": [
       "Snapshot written at \u001b[33m...\u001b[0m\u001b[33mfilename\u001b[0m=\u001b[32m'./smalln//output_00037/particles_eft_multigrid_ncoarse6.h5'\u001b[0m                       \n",
       "param\u001b[1m[\u001b[0m\u001b[32m'aexp'\u001b[0m\u001b[1m]\u001b[0m=\u001b[1;36m0.8695652173913044\u001b[0m                                                                                   \n"
      ]
     },
     "metadata": {},
     "output_type": "display_data"
    },
    {
     "data": {
      "text/html": [
       "<pre style=\"white-space:pre;overflow-x:auto;line-height:normal;font-family:Menlo,'DejaVu Sans Mono',consolas,'Courier New',monospace\">param<span style=\"font-weight: bold\">[</span><span style=\"color: #008000; text-decoration-color: #008000\">'nsteps'</span><span style=\"font-weight: bold\">]</span>=<span style=\"color: #008080; text-decoration-color: #008080; font-weight: bold\">63</span> param<span style=\"font-weight: bold\">[</span><span style=\"color: #008000; text-decoration-color: #008000\">'aexp'</span><span style=\"font-weight: bold\">]</span>=<span style=\"color: #008080; text-decoration-color: #008080; font-weight: bold\">0.8695652173913044</span> z = <span style=\"color: #008080; text-decoration-color: #008080; font-weight: bold\">0.1499999999999999</span>                                         \n",
       "</pre>\n"
      ],
      "text/plain": [
       "param\u001b[1m[\u001b[0m\u001b[32m'nsteps'\u001b[0m\u001b[1m]\u001b[0m=\u001b[1;36m63\u001b[0m param\u001b[1m[\u001b[0m\u001b[32m'aexp'\u001b[0m\u001b[1m]\u001b[0m=\u001b[1;36m0.8695652173913044\u001b[0m z = \u001b[1;36m0.1499999999999999\u001b[0m                                         \n"
      ]
     },
     "metadata": {},
     "output_type": "display_data"
    },
    {
     "name": "stdout",
     "output_type": "stream",
     "text": [
      "Full solver.\n",
      "Smoothing RHS EFT\n",
      "Smoothing RHS EFT\n",
      "Smoothing RHS EFT\n",
      "Smoothing RHS EFT\n",
      "Smoothing RHS EFT\n",
      "Smoothing RHS EFT\n",
      "Smoothing RHS EFT\n",
      "Smoothing RHS EFT\n",
      "Smoothing RHS EFT\n",
      "Smoothing RHS EFT\n",
      "Smoothing RHS EFT\n",
      "Smoothing RHS EFT\n",
      "Smoothing RHS EFT\n",
      "Smoothing RHS EFT\n",
      "Smoothing RHS EFT\n",
      "Smoothing RHS EFT\n",
      "Smoothing RHS EFT\n",
      "Smoothing RHS EFT\n",
      "Smoothing RHS EFT\n",
      "Smoothing RHS EFT\n",
      "Smoothing RHS EFT\n",
      "Smoothing RHS EFT\n",
      "Smoothing RHS EFT\n",
      "Smoothing RHS EFT\n",
      "Smoothing RHS EFT\n",
      "Smoothing RHS EFT\n",
      "reserr-FAS: 3.086071014404297\n"
     ]
    },
    {
     "data": {
      "text/html": [
       "<pre style=\"white-space:pre;overflow-x:auto;line-height:normal;font-family:Menlo,'DejaVu Sans Mono',consolas,'Courier New',monospace\">param<span style=\"font-weight: bold\">[</span><span style=\"color: #008000; text-decoration-color: #008000\">'nsteps'</span><span style=\"font-weight: bold\">]</span>=<span style=\"color: #008080; text-decoration-color: #008080; font-weight: bold\">64</span> param<span style=\"font-weight: bold\">[</span><span style=\"color: #008000; text-decoration-color: #008000\">'aexp'</span><span style=\"font-weight: bold\">]</span>=<span style=\"color: #008080; text-decoration-color: #008080; font-weight: bold\">0.9047812970453122</span> z = <span style=\"color: #008080; text-decoration-color: #008080; font-weight: bold\">0.10523946866014766</span>                                        \n",
       "</pre>\n"
      ],
      "text/plain": [
       "param\u001b[1m[\u001b[0m\u001b[32m'nsteps'\u001b[0m\u001b[1m]\u001b[0m=\u001b[1;36m64\u001b[0m param\u001b[1m[\u001b[0m\u001b[32m'aexp'\u001b[0m\u001b[1m]\u001b[0m=\u001b[1;36m0.9047812970453122\u001b[0m z = \u001b[1;36m0.10523946866014766\u001b[0m                                        \n"
      ]
     },
     "metadata": {},
     "output_type": "display_data"
    },
    {
     "name": "stdout",
     "output_type": "stream",
     "text": [
      "Full solver.\n",
      "Smoothing RHS EFT\n",
      "Smoothing RHS EFT\n",
      "Smoothing RHS EFT\n",
      "Smoothing RHS EFT\n",
      "Smoothing RHS EFT\n",
      "Smoothing RHS EFT\n",
      "Smoothing RHS EFT\n",
      "Smoothing RHS EFT\n",
      "Smoothing RHS EFT\n",
      "Smoothing RHS EFT\n",
      "Smoothing RHS EFT\n",
      "Smoothing RHS EFT\n",
      "Smoothing RHS EFT\n",
      "Smoothing RHS EFT\n",
      "Smoothing RHS EFT\n",
      "Smoothing RHS EFT\n",
      "Smoothing RHS EFT\n",
      "Smoothing RHS EFT\n",
      "Smoothing RHS EFT\n",
      "Smoothing RHS EFT\n",
      "Smoothing RHS EFT\n",
      "Smoothing RHS EFT\n",
      "Smoothing RHS EFT\n",
      "Smoothing RHS EFT\n",
      "Smoothing RHS EFT\n",
      "Smoothing RHS EFT\n",
      "reserr-FAS: 3.1190247535705566\n"
     ]
    },
    {
     "data": {
      "text/html": [
       "<pre style=\"white-space:pre;overflow-x:auto;line-height:normal;font-family:Menlo,'DejaVu Sans Mono',consolas,'Courier New',monospace\">Snapshot written at <span style=\"color: #808000; text-decoration-color: #808000\">...</span><span style=\"color: #808000; text-decoration-color: #808000\">filename</span>=<span style=\"color: #008000; text-decoration-color: #008000\">'./smalln//output_00038/particles_eft_multigrid_ncoarse6.h5'</span>                       \n",
       "param<span style=\"font-weight: bold\">[</span><span style=\"color: #008000; text-decoration-color: #008000\">'aexp'</span><span style=\"font-weight: bold\">]</span>=<span style=\"color: #008080; text-decoration-color: #008080; font-weight: bold\">0.9090909090909091</span>                                                                                   \n",
       "</pre>\n"
      ],
      "text/plain": [
       "Snapshot written at \u001b[33m...\u001b[0m\u001b[33mfilename\u001b[0m=\u001b[32m'./smalln//output_00038/particles_eft_multigrid_ncoarse6.h5'\u001b[0m                       \n",
       "param\u001b[1m[\u001b[0m\u001b[32m'aexp'\u001b[0m\u001b[1m]\u001b[0m=\u001b[1;36m0.9090909090909091\u001b[0m                                                                                   \n"
      ]
     },
     "metadata": {},
     "output_type": "display_data"
    },
    {
     "data": {
      "text/html": [
       "<pre style=\"white-space:pre;overflow-x:auto;line-height:normal;font-family:Menlo,'DejaVu Sans Mono',consolas,'Courier New',monospace\">param<span style=\"font-weight: bold\">[</span><span style=\"color: #008000; text-decoration-color: #008000\">'nsteps'</span><span style=\"font-weight: bold\">]</span>=<span style=\"color: #008080; text-decoration-color: #008080; font-weight: bold\">65</span> param<span style=\"font-weight: bold\">[</span><span style=\"color: #008000; text-decoration-color: #008000\">'aexp'</span><span style=\"font-weight: bold\">]</span>=<span style=\"color: #008080; text-decoration-color: #008080; font-weight: bold\">0.9090909090909091</span> z = <span style=\"color: #008080; text-decoration-color: #008080; font-weight: bold\">0.10000000000000009</span>                                        \n",
       "</pre>\n"
      ],
      "text/plain": [
       "param\u001b[1m[\u001b[0m\u001b[32m'nsteps'\u001b[0m\u001b[1m]\u001b[0m=\u001b[1;36m65\u001b[0m param\u001b[1m[\u001b[0m\u001b[32m'aexp'\u001b[0m\u001b[1m]\u001b[0m=\u001b[1;36m0.9090909090909091\u001b[0m z = \u001b[1;36m0.10000000000000009\u001b[0m                                        \n"
      ]
     },
     "metadata": {},
     "output_type": "display_data"
    },
    {
     "name": "stdout",
     "output_type": "stream",
     "text": [
      "Full solver.\n",
      "Smoothing RHS EFT\n",
      "Smoothing RHS EFT\n",
      "Smoothing RHS EFT\n",
      "Smoothing RHS EFT\n",
      "Smoothing RHS EFT\n",
      "Smoothing RHS EFT\n",
      "Smoothing RHS EFT\n",
      "Smoothing RHS EFT\n",
      "Smoothing RHS EFT\n",
      "Smoothing RHS EFT\n",
      "Smoothing RHS EFT\n",
      "Smoothing RHS EFT\n",
      "Smoothing RHS EFT\n",
      "Smoothing RHS EFT\n",
      "Smoothing RHS EFT\n",
      "Smoothing RHS EFT\n",
      "Smoothing RHS EFT\n",
      "Smoothing RHS EFT\n",
      "Smoothing RHS EFT\n",
      "Smoothing RHS EFT\n",
      "Smoothing RHS EFT\n",
      "Smoothing RHS EFT\n",
      "Smoothing RHS EFT\n",
      "Smoothing RHS EFT\n",
      "Smoothing RHS EFT\n",
      "Smoothing RHS EFT\n",
      "reserr-FAS: 3.4011659622192383\n"
     ]
    },
    {
     "data": {
      "text/html": [
       "<pre style=\"white-space:pre;overflow-x:auto;line-height:normal;font-family:Menlo,'DejaVu Sans Mono',consolas,'Courier New',monospace\">param<span style=\"font-weight: bold\">[</span><span style=\"color: #008000; text-decoration-color: #008000\">'nsteps'</span><span style=\"font-weight: bold\">]</span>=<span style=\"color: #008080; text-decoration-color: #008080; font-weight: bold\">66</span> param<span style=\"font-weight: bold\">[</span><span style=\"color: #008000; text-decoration-color: #008000\">'aexp'</span><span style=\"font-weight: bold\">]</span>=<span style=\"color: #008080; text-decoration-color: #008080; font-weight: bold\">0.944790643458744</span> z = <span style=\"color: #008080; text-decoration-color: #008080; font-weight: bold\">0.05843554540203999</span>                                         \n",
       "</pre>\n"
      ],
      "text/plain": [
       "param\u001b[1m[\u001b[0m\u001b[32m'nsteps'\u001b[0m\u001b[1m]\u001b[0m=\u001b[1;36m66\u001b[0m param\u001b[1m[\u001b[0m\u001b[32m'aexp'\u001b[0m\u001b[1m]\u001b[0m=\u001b[1;36m0.944790643458744\u001b[0m z = \u001b[1;36m0.05843554540203999\u001b[0m                                         \n"
      ]
     },
     "metadata": {},
     "output_type": "display_data"
    },
    {
     "name": "stdout",
     "output_type": "stream",
     "text": [
      "Full solver.\n",
      "Smoothing RHS EFT\n",
      "Smoothing RHS EFT\n",
      "Smoothing RHS EFT\n",
      "Smoothing RHS EFT\n",
      "Smoothing RHS EFT\n",
      "Smoothing RHS EFT\n",
      "Smoothing RHS EFT\n",
      "Smoothing RHS EFT\n",
      "Smoothing RHS EFT\n",
      "Smoothing RHS EFT\n",
      "Smoothing RHS EFT\n",
      "Smoothing RHS EFT\n",
      "Smoothing RHS EFT\n",
      "Smoothing RHS EFT\n",
      "Smoothing RHS EFT\n",
      "Smoothing RHS EFT\n",
      "Smoothing RHS EFT\n",
      "Smoothing RHS EFT\n",
      "Smoothing RHS EFT\n",
      "Smoothing RHS EFT\n",
      "Smoothing RHS EFT\n",
      "Smoothing RHS EFT\n",
      "Smoothing RHS EFT\n",
      "Smoothing RHS EFT\n",
      "Smoothing RHS EFT\n",
      "Smoothing RHS EFT\n",
      "reserr-FAS: 3.4642653465270996\n"
     ]
    },
    {
     "data": {
      "text/html": [
       "<pre style=\"white-space:pre;overflow-x:auto;line-height:normal;font-family:Menlo,'DejaVu Sans Mono',consolas,'Courier New',monospace\">Snapshot written at <span style=\"color: #808000; text-decoration-color: #808000\">...</span><span style=\"color: #808000; text-decoration-color: #808000\">filename</span>=<span style=\"color: #008000; text-decoration-color: #008000\">'./smalln//output_00039/particles_eft_multigrid_ncoarse6.h5'</span>                       \n",
       "param<span style=\"font-weight: bold\">[</span><span style=\"color: #008000; text-decoration-color: #008000\">'aexp'</span><span style=\"font-weight: bold\">]</span>=<span style=\"color: #008080; text-decoration-color: #008080; font-weight: bold\">0.9523809523809523</span>                                                                                   \n",
       "</pre>\n"
      ],
      "text/plain": [
       "Snapshot written at \u001b[33m...\u001b[0m\u001b[33mfilename\u001b[0m=\u001b[32m'./smalln//output_00039/particles_eft_multigrid_ncoarse6.h5'\u001b[0m                       \n",
       "param\u001b[1m[\u001b[0m\u001b[32m'aexp'\u001b[0m\u001b[1m]\u001b[0m=\u001b[1;36m0.9523809523809523\u001b[0m                                                                                   \n"
      ]
     },
     "metadata": {},
     "output_type": "display_data"
    },
    {
     "data": {
      "text/html": [
       "<pre style=\"white-space:pre;overflow-x:auto;line-height:normal;font-family:Menlo,'DejaVu Sans Mono',consolas,'Courier New',monospace\">param<span style=\"font-weight: bold\">[</span><span style=\"color: #008000; text-decoration-color: #008000\">'nsteps'</span><span style=\"font-weight: bold\">]</span>=<span style=\"color: #008080; text-decoration-color: #008080; font-weight: bold\">67</span> param<span style=\"font-weight: bold\">[</span><span style=\"color: #008000; text-decoration-color: #008000\">'aexp'</span><span style=\"font-weight: bold\">]</span>=<span style=\"color: #008080; text-decoration-color: #008080; font-weight: bold\">0.9523809523809523</span> z = <span style=\"color: #008080; text-decoration-color: #008080; font-weight: bold\">0.050000000000000044</span>                                       \n",
       "</pre>\n"
      ],
      "text/plain": [
       "param\u001b[1m[\u001b[0m\u001b[32m'nsteps'\u001b[0m\u001b[1m]\u001b[0m=\u001b[1;36m67\u001b[0m param\u001b[1m[\u001b[0m\u001b[32m'aexp'\u001b[0m\u001b[1m]\u001b[0m=\u001b[1;36m0.9523809523809523\u001b[0m z = \u001b[1;36m0.050000000000000044\u001b[0m                                       \n"
      ]
     },
     "metadata": {},
     "output_type": "display_data"
    },
    {
     "name": "stdout",
     "output_type": "stream",
     "text": [
      "Full solver.\n",
      "Smoothing RHS EFT\n",
      "Smoothing RHS EFT\n",
      "Smoothing RHS EFT\n",
      "Smoothing RHS EFT\n",
      "Smoothing RHS EFT\n",
      "Smoothing RHS EFT\n",
      "Smoothing RHS EFT\n",
      "Smoothing RHS EFT\n",
      "Smoothing RHS EFT\n",
      "Smoothing RHS EFT\n",
      "Smoothing RHS EFT\n",
      "Smoothing RHS EFT\n",
      "Smoothing RHS EFT\n",
      "Smoothing RHS EFT\n",
      "Smoothing RHS EFT\n",
      "Smoothing RHS EFT\n",
      "Smoothing RHS EFT\n",
      "Smoothing RHS EFT\n",
      "Smoothing RHS EFT\n",
      "Smoothing RHS EFT\n",
      "Smoothing RHS EFT\n",
      "Smoothing RHS EFT\n",
      "Smoothing RHS EFT\n",
      "Smoothing RHS EFT\n",
      "Smoothing RHS EFT\n",
      "Smoothing RHS EFT\n",
      "reserr-FAS: 3.7742128372192383\n"
     ]
    },
    {
     "data": {
      "text/html": [
       "<pre style=\"white-space:pre;overflow-x:auto;line-height:normal;font-family:Menlo,'DejaVu Sans Mono',consolas,'Courier New',monospace\">param<span style=\"font-weight: bold\">[</span><span style=\"color: #008000; text-decoration-color: #008000\">'nsteps'</span><span style=\"font-weight: bold\">]</span>=<span style=\"color: #008080; text-decoration-color: #008080; font-weight: bold\">68</span> param<span style=\"font-weight: bold\">[</span><span style=\"color: #008000; text-decoration-color: #008000\">'aexp'</span><span style=\"font-weight: bold\">]</span>=<span style=\"color: #008080; text-decoration-color: #008080; font-weight: bold\">0.9885125145678553</span> z = <span style=\"color: #008080; text-decoration-color: #008080; font-weight: bold\">0.011620981285367593</span>                                       \n",
       "</pre>\n"
      ],
      "text/plain": [
       "param\u001b[1m[\u001b[0m\u001b[32m'nsteps'\u001b[0m\u001b[1m]\u001b[0m=\u001b[1;36m68\u001b[0m param\u001b[1m[\u001b[0m\u001b[32m'aexp'\u001b[0m\u001b[1m]\u001b[0m=\u001b[1;36m0.9885125145678553\u001b[0m z = \u001b[1;36m0.011620981285367593\u001b[0m                                       \n"
      ]
     },
     "metadata": {},
     "output_type": "display_data"
    },
    {
     "name": "stdout",
     "output_type": "stream",
     "text": [
      "Full solver.\n",
      "Smoothing RHS EFT\n",
      "Smoothing RHS EFT\n",
      "Smoothing RHS EFT\n",
      "Smoothing RHS EFT\n",
      "Smoothing RHS EFT\n",
      "Smoothing RHS EFT\n",
      "Smoothing RHS EFT\n",
      "Smoothing RHS EFT\n",
      "Smoothing RHS EFT\n",
      "Smoothing RHS EFT\n",
      "Smoothing RHS EFT\n",
      "Smoothing RHS EFT\n",
      "Smoothing RHS EFT\n",
      "Smoothing RHS EFT\n",
      "Smoothing RHS EFT\n",
      "Smoothing RHS EFT\n",
      "Smoothing RHS EFT\n",
      "Smoothing RHS EFT\n",
      "Smoothing RHS EFT\n",
      "Smoothing RHS EFT\n",
      "Smoothing RHS EFT\n",
      "Smoothing RHS EFT\n",
      "Smoothing RHS EFT\n",
      "Smoothing RHS EFT\n",
      "Smoothing RHS EFT\n",
      "Smoothing RHS EFT\n",
      "reserr-FAS: 3.877175807952881\n"
     ]
    },
    {
     "data": {
      "text/html": [
       "<pre style=\"white-space:pre;overflow-x:auto;line-height:normal;font-family:Menlo,'DejaVu Sans Mono',consolas,'Courier New',monospace\">Snapshot written at <span style=\"color: #808000; text-decoration-color: #808000\">...</span><span style=\"color: #808000; text-decoration-color: #808000\">filename</span>=<span style=\"color: #008000; text-decoration-color: #008000\">'./smalln//output_00040/particles_eft_multigrid_ncoarse6.h5'</span> param<span style=\"font-weight: bold\">[</span><span style=\"color: #008000; text-decoration-color: #008000\">'aexp'</span><span style=\"font-weight: bold\">]</span>=<span style=\"color: #008080; text-decoration-color: #008080; font-weight: bold\">1.0</span>     \n",
       "</pre>\n"
      ],
      "text/plain": [
       "Snapshot written at \u001b[33m...\u001b[0m\u001b[33mfilename\u001b[0m=\u001b[32m'./smalln//output_00040/particles_eft_multigrid_ncoarse6.h5'\u001b[0m param\u001b[1m[\u001b[0m\u001b[32m'aexp'\u001b[0m\u001b[1m]\u001b[0m=\u001b[1;36m1.0\u001b[0m     \n"
      ]
     },
     "metadata": {},
     "output_type": "display_data"
    },
    {
     "data": {
      "text/html": [
       "<pre style=\"white-space:pre;overflow-x:auto;line-height:normal;font-family:Menlo,'DejaVu Sans Mono',consolas,'Courier New',monospace\">param<span style=\"font-weight: bold\">[</span><span style=\"color: #008000; text-decoration-color: #008000\">'nsteps'</span><span style=\"font-weight: bold\">]</span>=<span style=\"color: #008080; text-decoration-color: #008080; font-weight: bold\">69</span> param<span style=\"font-weight: bold\">[</span><span style=\"color: #008000; text-decoration-color: #008000\">'aexp'</span><span style=\"font-weight: bold\">]</span>=<span style=\"color: #008080; text-decoration-color: #008080; font-weight: bold\">1.0</span> z = <span style=\"color: #008080; text-decoration-color: #008080; font-weight: bold\">0.0</span>                                                                       \n",
       "</pre>\n"
      ],
      "text/plain": [
       "param\u001b[1m[\u001b[0m\u001b[32m'nsteps'\u001b[0m\u001b[1m]\u001b[0m=\u001b[1;36m69\u001b[0m param\u001b[1m[\u001b[0m\u001b[32m'aexp'\u001b[0m\u001b[1m]\u001b[0m=\u001b[1;36m1.0\u001b[0m z = \u001b[1;36m0.0\u001b[0m                                                                       \n"
      ]
     },
     "metadata": {},
     "output_type": "display_data"
    }
   ],
   "source": [
    "path = '.'\n",
    "\n",
    "param = pd.Series({\n",
    "    \"theory\": \"eft\",\n",
    "    \"alphaB0\": 0.1,\n",
    "    \"alphaM0\": 0.0,\n",
    "    \"extra\":'04_01',\n",
    "    \"nthreads\": 1,\n",
    "    \"H0\": 72,\n",
    "    \"Om_m\": 1.,\n",
    "    \"T_cmb\": 0.1,\n",
    "    \"N_eff\": 3.044,\n",
    "    \"w0\": -1.0,\n",
    "    \"wa\": 0.0,\n",
    "    \"boxlen\": 100,\n",
    "    \"ncoarse\": 6,\n",
    "    \"npart\": 64**3,\n",
    "    \"z_start\": 60,\n",
    "    \"seed\": 42,\n",
    "    \"position_ICS\": \"center\",\n",
    "    \"fixed_ICS\": False,\n",
    "    \"paired_ICS\": False,\n",
    "    \"dealiased_ICS\": False,\n",
    "    \"power_spectrum_file\": f\"{path}/pk_lcdmw7v2.dat\",\n",
    "    \"initial_conditions\": \"2LPT\",\n",
    "    \"base\": f\"{path}/smalln/\",\n",
    "    \"z_out\": \"[20,19,18,17,16,15,14,13,12,11,10,9,8,7,6,5,4,3,2,1,0.95,0.9,0.85,0.8,0.75,0.7,0.65,0.6,0.55,0.5,0.45,0.4,0.35,0.3,0.25,0.2,0.15,0.1,0.05,0]\",\n",
    "    \"output_snapshot_format\": \"HDF5\",\n",
    "    \"save_power_spectrum\": \"no\",\n",
    "    \"integrator\": \"leapfrog\",\n",
    "    \"n_reorder\": 50,\n",
    "    \"mass_scheme\": \"TSC\",\n",
    "    \"Courant_factor\": 1.0,\n",
    "    \"max_aexp_stepping\": 10,\n",
    "    \"linear_newton_solver\": \"multigrid\",\n",
    "    \"gradient_stencil_order\": 5,\n",
    "    \"Npre\": 2,\n",
    "    \"Npost\": 1,\n",
    "    \"domg\": True,\n",
    "    \"epsrel\": 1e-2,\n",
    "    \"verbose\": 1,\n",
    "    \"evolution_table\":'no',\n",
    "    \"Om_lambda\":0,\n",
    "    'newton': False\n",
    "    })\n",
    "\n",
    "main.run(param)"
   ]
  },
  {
   "cell_type": "code",
   "execution_count": null,
   "id": "745e13f5-a86b-4a56-b006-0e6a506f8f7b",
   "metadata": {},
   "outputs": [],
   "source": [
    "pwd"
   ]
  },
  {
   "cell_type": "code",
   "execution_count": null,
   "id": "12253e6e-2e12-4e89-a94b-c0ea49c2d8f8",
   "metadata": {},
   "outputs": [],
   "source": [
    "import numpy as np\n",
    "import matplotlib.pyplot as plt"
   ]
  },
  {
   "cell_type": "code",
   "execution_count": null,
   "id": "8f245db8-f29f-4115-974c-0ab46feafe97",
   "metadata": {},
   "outputs": [],
   "source": [
    "x = np.loadtxt('/Users/himanishganjoo/Dropbox/prograceray/pysco-eft/pysco/t5/power/pk_eft_multigrid_ncoarse6_00039.dat')\n",
    "plt.loglog(x[:,0],x[:,1],'.')\n",
    "\n",
    "x = np.loadtxt('/Users/himanishganjoo/Dropbox/prograceray/pysco-eft/pysco/t5/power/pk_newton_multigrid_ncoarse6_00039.dat')\n",
    "plt.loglog(x[:,0],x[:,1],'.')\n",
    "\n",
    "\n"
   ]
  },
  {
   "cell_type": "code",
   "execution_count": null,
   "id": "18c0644b-f819-404f-b213-67c3af37c818",
   "metadata": {},
   "outputs": [],
   "source": []
  }
 ],
 "metadata": {
  "kernelspec": {
   "display_name": "Python 3 (ipykernel)",
   "language": "python",
   "name": "python3"
  },
  "language_info": {
   "codemirror_mode": {
    "name": "ipython",
    "version": 3
   },
   "file_extension": ".py",
   "mimetype": "text/x-python",
   "name": "python",
   "nbconvert_exporter": "python",
   "pygments_lexer": "ipython3",
   "version": "3.12.7"
  }
 },
 "nbformat": 4,
 "nbformat_minor": 5
}
