{
 "cells": [
  {
   "cell_type": "code",
   "execution_count": 1,
   "id": "b849885c-861b-4f15-a951-6cf85cb9fcee",
   "metadata": {},
   "outputs": [],
   "source": [
    "import main\n",
    "import pandas as pd"
   ]
  },
  {
   "cell_type": "code",
   "execution_count": 2,
   "id": "5ef8bd61-eb79-4e13-8a29-daebb50df2ed",
   "metadata": {},
   "outputs": [
    {
     "data": {
      "text/html": [
       "<pre style=\"white-space:pre;overflow-x:auto;line-height:normal;font-family:Menlo,'DejaVu Sans Mono',consolas,'Courier New',monospace\">param<span style=\"font-weight: bold\">[</span><span style=\"color: #008000; text-decoration-color: #008000\">'nthreads'</span><span style=\"font-weight: bold\">]</span>=<span style=\"color: #008080; text-decoration-color: #008080; font-weight: bold\">1</span>                                                                                                \n",
       "</pre>\n"
      ],
      "text/plain": [
       "param\u001b[1m[\u001b[0m\u001b[32m'nthreads'\u001b[0m\u001b[1m]\u001b[0m=\u001b[1;36m1\u001b[0m                                                                                                \n"
      ]
     },
     "metadata": {},
     "output_type": "display_data"
    },
    {
     "data": {
      "text/html": [
       "<pre style=\"white-space:pre;overflow-x:auto;line-height:normal;font-family:Menlo,'DejaVu Sans Mono',consolas,'Courier New',monospace\">                                                                                                                   \n",
       "<span style=\"color: #008000; text-decoration-color: #008000; font-weight: bold\">FFT module: NumPy</span>                                                                                                  \n",
       "</pre>\n"
      ],
      "text/plain": [
       "                                                                                                                   \n",
       "\u001b[1;32mFFT module: NumPy\u001b[0m                                                                                                  \n"
      ]
     },
     "metadata": {},
     "output_type": "display_data"
    },
    {
     "data": {
      "text/html": [
       "<pre style=\"white-space:pre;overflow-x:auto;line-height:normal;font-family:Menlo,'DejaVu Sans Mono',consolas,'Courier New',monospace\">                                                                                                                   \n",
       "<span style=\"color: #000080; text-decoration-color: #000080; font-weight: bold\">----- Compute background cosmology -----</span>                                                                           \n",
       "                                                                                                                   \n",
       "</pre>\n"
      ],
      "text/plain": [
       "                                                                                                                   \n",
       "\u001b[1;34m----- Compute background cosmology -----\u001b[0m                                                                           \n",
       "                                                                                                                   \n"
      ]
     },
     "metadata": {},
     "output_type": "display_data"
    },
    {
     "data": {
      "text/html": [
       "<pre style=\"white-space:pre;overflow-x:auto;line-height:normal;font-family:Menlo,'DejaVu Sans Mono',consolas,'Courier New',monospace\">Write table in: .<span style=\"color: #800080; text-decoration-color: #800080\">/smalln//</span><span style=\"color: #ff00ff; text-decoration-color: #ff00ff\">evolution_table_pysco_eft_multigrid_ncoarse6.txt</span>                                         \n",
       "</pre>\n"
      ],
      "text/plain": [
       "Write table in: .\u001b[35m/smalln/\u001b[0m\u001b[35m/\u001b[0m\u001b[95mevolution_table_pysco_eft_multigrid_ncoarse6.txt\u001b[0m                                         \n"
      ]
     },
     "metadata": {},
     "output_type": "display_data"
    },
    {
     "data": {
      "text/html": [
       "<pre style=\"white-space:pre;overflow-x:auto;line-height:normal;font-family:Menlo,'DejaVu Sans Mono',consolas,'Courier New',monospace\">                                                                                                                   \n",
       "<span style=\"color: #000080; text-decoration-color: #000080; font-weight: bold\">----- Initial conditions -----</span>                                                                                     \n",
       "                                                                                                                   \n",
       "</pre>\n"
      ],
      "text/plain": [
       "                                                                                                                   \n",
       "\u001b[1;34m----- Initial conditions -----\u001b[0m                                                                                     \n",
       "                                                                                                                   \n"
      ]
     },
     "metadata": {},
     "output_type": "display_data"
    },
    {
     "data": {
      "text/html": [
       "<pre style=\"white-space:pre;overflow-x:auto;line-height:normal;font-family:Menlo,'DejaVu Sans Mono',consolas,'Courier New',monospace\">param<span style=\"font-weight: bold\">[</span><span style=\"color: #008000; text-decoration-color: #008000\">'z_start'</span><span style=\"font-weight: bold\">]</span>=<span style=\"color: #008080; text-decoration-color: #008080; font-weight: bold\">50</span>                                                                                                \n",
       "</pre>\n"
      ],
      "text/plain": [
       "param\u001b[1m[\u001b[0m\u001b[32m'z_start'\u001b[0m\u001b[1m]\u001b[0m=\u001b[1;36m50\u001b[0m                                                                                                \n"
      ]
     },
     "metadata": {},
     "output_type": "display_data"
    },
    {
     "data": {
      "text/html": [
       "<pre style=\"white-space:pre;overflow-x:auto;line-height:normal;font-family:Menlo,'DejaVu Sans Mono',consolas,'Courier New',monospace\">Compute 1LPT contribution                                                                                          \n",
       "</pre>\n"
      ],
      "text/plain": [
       "Compute 1LPT contribution                                                                                          \n"
      ]
     },
     "metadata": {},
     "output_type": "display_data"
    },
    {
     "data": {
      "text/html": [
       "<pre style=\"white-space:pre;overflow-x:auto;line-height:normal;font-family:Menlo,'DejaVu Sans Mono',consolas,'Courier New',monospace\">Compute 2LPT contribution                                                                                          \n",
       "</pre>\n"
      ],
      "text/plain": [
       "Compute 2LPT contribution                                                                                          \n"
      ]
     },
     "metadata": {},
     "output_type": "display_data"
    },
    {
     "data": {
      "text/html": [
       "<pre style=\"white-space:pre;overflow-x:auto;line-height:normal;font-family:Menlo,'DejaVu Sans Mono',consolas,'Courier New',monospace\">Write initial snapshot<span style=\"color: #808000; text-decoration-color: #808000\">...</span><span style=\"color: #808000; text-decoration-color: #808000\">snap_name</span>=<span style=\"color: #008000; text-decoration-color: #008000\">'./smalln//output_00000/particles_eft_multigrid_ncoarse6.h5'</span>                    \n",
       "</pre>\n"
      ],
      "text/plain": [
       "Write initial snapshot\u001b[33m...\u001b[0m\u001b[33msnap_name\u001b[0m=\u001b[32m'./smalln//output_00000/particles_eft_multigrid_ncoarse6.h5'\u001b[0m                    \n"
      ]
     },
     "metadata": {},
     "output_type": "display_data"
    },
    {
     "name": "stdout",
     "output_type": "stream",
     "text": [
      "ICs [0.00762959 0.00748253 0.00774562] [-2.5826224e-05 -4.6566678e-05 -9.2738574e-06]\n"
     ]
    },
    {
     "data": {
      "text/html": [
       "<pre style=\"white-space:pre;overflow-x:auto;line-height:normal;font-family:Menlo,'DejaVu Sans Mono',consolas,'Courier New',monospace\">param<span style=\"font-weight: bold\">[</span><span style=\"color: #008000; text-decoration-color: #008000\">'aexp'</span><span style=\"font-weight: bold\">]</span>=<span style=\"color: #008080; text-decoration-color: #008080; font-weight: bold\">0.0196078431372549</span> param<span style=\"font-weight: bold\">[</span><span style=\"color: #008000; text-decoration-color: #008000\">'t'</span><span style=\"font-weight: bold\">]</span>=<span style=\"color: #800080; text-decoration-color: #800080; font-weight: bold\">array</span><span style=\"font-weight: bold\">(</span><span style=\"color: #008080; text-decoration-color: #008080; font-weight: bold\">-12.28285684</span><span style=\"font-weight: bold\">)</span>                                                    \n",
       "</pre>\n"
      ],
      "text/plain": [
       "param\u001b[1m[\u001b[0m\u001b[32m'aexp'\u001b[0m\u001b[1m]\u001b[0m=\u001b[1;36m0.0196078431372549\u001b[0m param\u001b[1m[\u001b[0m\u001b[32m't'\u001b[0m\u001b[1m]\u001b[0m=\u001b[1;35marray\u001b[0m\u001b[1m(\u001b[0m\u001b[1;36m-12.28285684\u001b[0m\u001b[1m)\u001b[0m                                                    \n"
      ]
     },
     "metadata": {},
     "output_type": "display_data"
    },
    {
     "data": {
      "text/html": [
       "<pre style=\"white-space:pre;overflow-x:auto;line-height:normal;font-family:Menlo,'DejaVu Sans Mono',consolas,'Courier New',monospace\">                                                                                                                   \n",
       "<span style=\"color: #000080; text-decoration-color: #000080; font-weight: bold\">----- Run N-body -----</span>                                                                                             \n",
       "                                                                                                                   \n",
       "</pre>\n"
      ],
      "text/plain": [
       "                                                                                                                   \n",
       "\u001b[1;34m----- Run N-body -----\u001b[0m                                                                                             \n",
       "                                                                                                                   \n"
      ]
     },
     "metadata": {},
     "output_type": "display_data"
    },
    {
     "data": {
      "text/html": [
       "<pre style=\"white-space:pre;overflow-x:auto;line-height:normal;font-family:Menlo,'DejaVu Sans Mono',consolas,'Courier New',monospace\">Tables, <span style=\"color: #008080; text-decoration-color: #008080; font-weight: bold\">13</span>                                                                                                         \n",
       "</pre>\n"
      ],
      "text/plain": [
       "Tables, \u001b[1;36m13\u001b[0m                                                                                                         \n"
      ]
     },
     "metadata": {},
     "output_type": "display_data"
    },
    {
     "ename": "UnboundLocalError",
     "evalue": "cannot access local variable 'dens_term' where it is not associated with a value",
     "output_type": "error",
     "traceback": [
      "\u001b[0;31m---------------------------------------------------------------------------\u001b[0m",
      "\u001b[0;31mUnboundLocalError\u001b[0m                         Traceback (most recent call last)",
      "Cell \u001b[0;32mIn[2], line 47\u001b[0m\n\u001b[1;32m      1\u001b[0m path \u001b[38;5;241m=\u001b[39m \u001b[38;5;124m'\u001b[39m\u001b[38;5;124m.\u001b[39m\u001b[38;5;124m'\u001b[39m\n\u001b[1;32m      3\u001b[0m param \u001b[38;5;241m=\u001b[39m pd\u001b[38;5;241m.\u001b[39mSeries({\n\u001b[1;32m      4\u001b[0m     \u001b[38;5;124m\"\u001b[39m\u001b[38;5;124mtheory\u001b[39m\u001b[38;5;124m\"\u001b[39m: \u001b[38;5;124m\"\u001b[39m\u001b[38;5;124meft\u001b[39m\u001b[38;5;124m\"\u001b[39m,\n\u001b[1;32m      5\u001b[0m     \u001b[38;5;124m\"\u001b[39m\u001b[38;5;124malphaB0\u001b[39m\u001b[38;5;124m\"\u001b[39m: \u001b[38;5;241m0.1\u001b[39m,\n\u001b[0;32m   (...)\u001b[0m\n\u001b[1;32m     44\u001b[0m     \u001b[38;5;124m'\u001b[39m\u001b[38;5;124mnewton\u001b[39m\u001b[38;5;124m'\u001b[39m: \u001b[38;5;28;01mTrue\u001b[39;00m\n\u001b[1;32m     45\u001b[0m     })\n\u001b[0;32m---> 47\u001b[0m main\u001b[38;5;241m.\u001b[39mrun(param)\n",
      "File \u001b[0;32m~/Dropbox/prograceray/pysco-eft-testlin-modpoisson/pysco/main.py:120\u001b[0m, in \u001b[0;36mrun\u001b[0;34m(param)\u001b[0m\n\u001b[1;32m    118\u001b[0m logging\u001b[38;5;241m.\u001b[39mwarning(\u001b[38;5;124mf\u001b[39m\u001b[38;5;124m\"\u001b[39m\u001b[38;5;130;01m\\n\u001b[39;00m\u001b[38;5;124m[bold blue]----- Run N-body -----[/bold blue]\u001b[39m\u001b[38;5;130;01m\\n\u001b[39;00m\u001b[38;5;124m\"\u001b[39m)\n\u001b[1;32m    119\u001b[0m logging\u001b[38;5;241m.\u001b[39mwarning(\u001b[38;5;124m\"\u001b[39m\u001b[38;5;124mTables, \u001b[39m\u001b[38;5;132;01m{}\u001b[39;00m\u001b[38;5;124m\"\u001b[39m\u001b[38;5;241m.\u001b[39mformat(\u001b[38;5;28mlen\u001b[39m(tables)))\n\u001b[0;32m--> 120\u001b[0m acceleration, potential, additional_field \u001b[38;5;241m=\u001b[39m solver\u001b[38;5;241m.\u001b[39mpm(position, param, tables\u001b[38;5;241m=\u001b[39mtables)\n\u001b[1;32m    121\u001b[0m aexp_out \u001b[38;5;241m=\u001b[39m \u001b[38;5;241m1.0\u001b[39m \u001b[38;5;241m/\u001b[39m (np\u001b[38;5;241m.\u001b[39marray(z_out) \u001b[38;5;241m+\u001b[39m \u001b[38;5;241m1\u001b[39m)\n\u001b[1;32m    122\u001b[0m aexp_out\u001b[38;5;241m.\u001b[39msort()\n",
      "File \u001b[0;32m~/Dropbox/prograceray/pysco-eft-testlin-modpoisson/pysco/utils.py:51\u001b[0m, in \u001b[0;36mtime_me.<locals>.time_func\u001b[0;34m(*args, **kw)\u001b[0m\n\u001b[1;32m     43\u001b[0m \u001b[38;5;250m\u001b[39m\u001b[38;5;124;03m\"\"\"Wrapper\u001b[39;00m\n\u001b[1;32m     44\u001b[0m \n\u001b[1;32m     45\u001b[0m \u001b[38;5;124;03mReturns\u001b[39;00m\n\u001b[0;32m   (...)\u001b[0m\n\u001b[1;32m     48\u001b[0m \u001b[38;5;124;03m    Print time (in seconds)\u001b[39;00m\n\u001b[1;32m     49\u001b[0m \u001b[38;5;124;03m\"\"\"\u001b[39;00m\n\u001b[1;32m     50\u001b[0m t1 \u001b[38;5;241m=\u001b[39m perf_counter()\n\u001b[0;32m---> 51\u001b[0m result \u001b[38;5;241m=\u001b[39m func(\u001b[38;5;241m*\u001b[39margs, \u001b[38;5;241m*\u001b[39m\u001b[38;5;241m*\u001b[39mkw)\n\u001b[1;32m     52\u001b[0m logging\u001b[38;5;241m.\u001b[39minfo(\n\u001b[1;32m     53\u001b[0m     \u001b[38;5;124mf\u001b[39m\u001b[38;5;124m\"\u001b[39m\u001b[38;5;124mFunction \u001b[39m\u001b[38;5;132;01m{\u001b[39;00mfunc\u001b[38;5;241m.\u001b[39m\u001b[38;5;18m__name__\u001b[39m\u001b[38;5;132;01m:\u001b[39;00m\u001b[38;5;124m->40\u001b[39m\u001b[38;5;132;01m}\u001b[39;00m\u001b[38;5;124m took \u001b[39m\u001b[38;5;132;01m{\u001b[39;00mperf_counter()\u001b[38;5;250m \u001b[39m\u001b[38;5;241m-\u001b[39m\u001b[38;5;250m \u001b[39mt1\u001b[38;5;132;01m:\u001b[39;00m\u001b[38;5;124m.12f\u001b[39m\u001b[38;5;132;01m}\u001b[39;00m\u001b[38;5;124m seconds\u001b[39m\u001b[38;5;132;01m{\u001b[39;00m\u001b[38;5;124m'\u001b[39m\u001b[38;5;124m'\u001b[39m\u001b[38;5;132;01m:\u001b[39;00m\u001b[38;5;132;01m{\u001b[39;00m\u001b[38;5;124m'\u001b[39m\u001b[38;5;124m-\u001b[39m\u001b[38;5;124m'\u001b[39m\u001b[38;5;132;01m}\u001b[39;00m\u001b[38;5;124m<\u001b[39m\u001b[38;5;132;01m{\u001b[39;00m\u001b[38;5;241m10\u001b[39m\u001b[38;5;132;01m}\u001b[39;00m\u001b[38;5;132;01m}\u001b[39;00m\u001b[38;5;124m\"\u001b[39m\n\u001b[1;32m     54\u001b[0m )\n\u001b[1;32m     55\u001b[0m \u001b[38;5;28;01mreturn\u001b[39;00m result\n",
      "File \u001b[0;32m~/Dropbox/prograceray/pysco-eft-testlin-modpoisson/pysco/solver.py:142\u001b[0m, in \u001b[0;36mpm\u001b[0;34m(position, param, potential, additional_field, tables)\u001b[0m\n\u001b[1;32m    139\u001b[0m     iostream\u001b[38;5;241m.\u001b[39mwrite_power_spectrum_to_ascii_file(k, Pk, Nmodes, param)\n\u001b[1;32m    141\u001b[0m param[\u001b[38;5;124m\"\u001b[39m\u001b[38;5;124mcompute_additional_field\u001b[39m\u001b[38;5;124m\"\u001b[39m] \u001b[38;5;241m=\u001b[39m \u001b[38;5;28;01mTrue\u001b[39;00m\n\u001b[0;32m--> 142\u001b[0m additional_field \u001b[38;5;241m=\u001b[39m get_additional_field(additional_field, density, h, param, tables)\n\u001b[1;32m    148\u001b[0m \u001b[38;5;66;03m# TODO: Try to keep Phidot and initialise Phi_i = Phi_(i-1) + Phidot*dt\u001b[39;00m\n\u001b[1;32m    149\u001b[0m param[\u001b[38;5;124m\"\u001b[39m\u001b[38;5;124mcompute_additional_field\u001b[39m\u001b[38;5;124m\"\u001b[39m] \u001b[38;5;241m=\u001b[39m \u001b[38;5;28;01mFalse\u001b[39;00m\n",
      "File \u001b[0;32m~/Dropbox/prograceray/pysco-eft-testlin-modpoisson/pysco/solver.py:424\u001b[0m, in \u001b[0;36mget_additional_field\u001b[0;34m(additional_field, density, h, param, tables)\u001b[0m\n\u001b[1;32m    317\u001b[0m \u001b[38;5;250m\u001b[39m\u001b[38;5;124;03m\"\"\"Get additional field for MG theories\u001b[39;00m\n\u001b[1;32m    318\u001b[0m \n\u001b[1;32m    319\u001b[0m \u001b[38;5;124;03mReturns empty array for Newtonian mode\u001b[39;00m\n\u001b[0;32m   (...)\u001b[0m\n\u001b[1;32m    349\u001b[0m \u001b[38;5;124;03m>>> additional_field = get_additional_field(additional_field, density, h, param, tables)\u001b[39;00m\n\u001b[1;32m    350\u001b[0m \u001b[38;5;124;03m\"\"\"\u001b[39;00m\n\u001b[1;32m    351\u001b[0m THEORY \u001b[38;5;241m=\u001b[39m param[\u001b[38;5;124m\"\u001b[39m\u001b[38;5;124mtheory\u001b[39m\u001b[38;5;124m\"\u001b[39m]\u001b[38;5;241m.\u001b[39mcasefold()\n\u001b[1;32m    352\u001b[0m \u001b[38;5;28;01mmatch\u001b[39;00m THEORY:\n\u001b[1;32m    353\u001b[0m     \u001b[38;5;28;01mcase\u001b[39;00m \u001b[38;5;124m\"\u001b[39m\u001b[38;5;124mnewton\u001b[39m\u001b[38;5;124m\"\u001b[39m \u001b[38;5;241m|\u001b[39m \u001b[38;5;124m\"\u001b[39m\u001b[38;5;124mparametrized\u001b[39m\u001b[38;5;124m\"\u001b[39m:\n\u001b[1;32m    354\u001b[0m         \u001b[38;5;28;01mreturn\u001b[39;00m np\u001b[38;5;241m.\u001b[39mempty(\u001b[38;5;241m0\u001b[39m, dtype\u001b[38;5;241m=\u001b[39mnp\u001b[38;5;241m.\u001b[39mfloat32)\n\u001b[1;32m    355\u001b[0m     \u001b[38;5;28;01mcase\u001b[39;00m \u001b[38;5;124m\"\u001b[39m\u001b[38;5;124mfr\u001b[39m\u001b[38;5;124m\"\u001b[39m:\n\u001b[1;32m    356\u001b[0m         Rbar \u001b[38;5;241m=\u001b[39m \u001b[38;5;241m3\u001b[39m \u001b[38;5;241m*\u001b[39m param[\u001b[38;5;124m\"\u001b[39m\u001b[38;5;124mOm_m\u001b[39m\u001b[38;5;124m\"\u001b[39m] \u001b[38;5;241m*\u001b[39m param[\u001b[38;5;124m\"\u001b[39m\u001b[38;5;124maexp\u001b[39m\u001b[38;5;124m\"\u001b[39m] \u001b[38;5;241m*\u001b[39m\u001b[38;5;241m*\u001b[39m (\u001b[38;5;241m-\u001b[39m\u001b[38;5;241m3\u001b[39m) \u001b[38;5;241m+\u001b[39m \u001b[38;5;241m12\u001b[39m \u001b[38;5;241m*\u001b[39m param[\u001b[38;5;124m\"\u001b[39m\u001b[38;5;124mOm_lambda\u001b[39m\u001b[38;5;124m\"\u001b[39m]\n\u001b[1;32m    357\u001b[0m         Rbar0 \u001b[38;5;241m=\u001b[39m \u001b[38;5;241m3\u001b[39m \u001b[38;5;241m*\u001b[39m param[\u001b[38;5;124m\"\u001b[39m\u001b[38;5;124mOm_m\u001b[39m\u001b[38;5;124m\"\u001b[39m] \u001b[38;5;241m+\u001b[39m \u001b[38;5;241m12\u001b[39m \u001b[38;5;241m*\u001b[39m param[\u001b[38;5;124m\"\u001b[39m\u001b[38;5;124mOm_lambda\u001b[39m\u001b[38;5;124m\"\u001b[39m]\n\u001b[1;32m    358\u001b[0m         fR_a \u001b[38;5;241m=\u001b[39m (\n\u001b[1;32m    359\u001b[0m             \u001b[38;5;241m-\u001b[39mparam[\u001b[38;5;124m\"\u001b[39m\u001b[38;5;124maexp\u001b[39m\u001b[38;5;124m\"\u001b[39m] \u001b[38;5;241m*\u001b[39m\u001b[38;5;241m*\u001b[39m \u001b[38;5;241m2\u001b[39m\n\u001b[1;32m    360\u001b[0m             \u001b[38;5;241m*\u001b[39m ((Rbar0 \u001b[38;5;241m/\u001b[39m Rbar) \u001b[38;5;241m*\u001b[39m\u001b[38;5;241m*\u001b[39m (param[\u001b[38;5;124m\"\u001b[39m\u001b[38;5;124mfR_n\u001b[39m\u001b[38;5;124m\"\u001b[39m] \u001b[38;5;241m+\u001b[39m \u001b[38;5;241m1\u001b[39m))\n\u001b[1;32m    361\u001b[0m             \u001b[38;5;241m*\u001b[39m \u001b[38;5;241m10.0\u001b[39m \u001b[38;5;241m*\u001b[39m\u001b[38;5;241m*\u001b[39m (\u001b[38;5;241m-\u001b[39mparam[\u001b[38;5;124m\"\u001b[39m\u001b[38;5;124mfR_logfR0\u001b[39m\u001b[38;5;124m\"\u001b[39m])\n\u001b[1;32m    362\u001b[0m         )\n\u001b[1;32m    363\u001b[0m         c2 \u001b[38;5;241m=\u001b[39m (\n\u001b[1;32m    364\u001b[0m             c\u001b[38;5;241m.\u001b[39mvalue \u001b[38;5;241m*\u001b[39m \u001b[38;5;241m1e-3\u001b[39m \u001b[38;5;241m*\u001b[39m param[\u001b[38;5;124m\"\u001b[39m\u001b[38;5;124munit_t\u001b[39m\u001b[38;5;124m\"\u001b[39m] \u001b[38;5;241m/\u001b[39m (param[\u001b[38;5;124m\"\u001b[39m\u001b[38;5;124munit_l\u001b[39m\u001b[38;5;124m\"\u001b[39m] \u001b[38;5;241m*\u001b[39m param[\u001b[38;5;124m\"\u001b[39m\u001b[38;5;124maexp\u001b[39m\u001b[38;5;124m\"\u001b[39m])\n\u001b[1;32m    365\u001b[0m         ) \u001b[38;5;241m*\u001b[39m\u001b[38;5;241m*\u001b[39m \u001b[38;5;241m2\u001b[39m  \u001b[38;5;66;03m# m -> km -> BU\u001b[39;00m\n\u001b[1;32m    366\u001b[0m         f1 \u001b[38;5;241m=\u001b[39m np\u001b[38;5;241m.\u001b[39mfloat32(param[\u001b[38;5;124m\"\u001b[39m\u001b[38;5;124maexp\u001b[39m\u001b[38;5;124m\"\u001b[39m] \u001b[38;5;241m*\u001b[39m param[\u001b[38;5;124m\"\u001b[39m\u001b[38;5;124mOm_m\u001b[39m\u001b[38;5;124m\"\u001b[39m] \u001b[38;5;241m/\u001b[39m (c2 \u001b[38;5;241m*\u001b[39m \u001b[38;5;241m6\u001b[39m)) \u001b[38;5;241m/\u001b[39m (\u001b[38;5;241m-\u001b[39mfR_a)\n\u001b[1;32m    367\u001b[0m         f2 \u001b[38;5;241m=\u001b[39m (\n\u001b[1;32m    368\u001b[0m             np\u001b[38;5;241m.\u001b[39mfloat32(\n\u001b[1;32m    369\u001b[0m                 Rbar \u001b[38;5;241m/\u001b[39m \u001b[38;5;241m3\u001b[39m \u001b[38;5;241m*\u001b[39m param[\u001b[38;5;124m\"\u001b[39m\u001b[38;5;124maexp\u001b[39m\u001b[38;5;124m\"\u001b[39m] \u001b[38;5;241m*\u001b[39m\u001b[38;5;241m*\u001b[39m \u001b[38;5;241m4\u001b[39m \u001b[38;5;241m-\u001b[39m param[\u001b[38;5;124m\"\u001b[39m\u001b[38;5;124mOm_m\u001b[39m\u001b[38;5;124m\"\u001b[39m] \u001b[38;5;241m*\u001b[39m param[\u001b[38;5;124m\"\u001b[39m\u001b[38;5;124maexp\u001b[39m\u001b[38;5;124m\"\u001b[39m]\n\u001b[1;32m    370\u001b[0m             )\n\u001b[1;32m    371\u001b[0m             \u001b[38;5;241m/\u001b[39m (\u001b[38;5;241m6\u001b[39m \u001b[38;5;241m*\u001b[39m c2)\n\u001b[1;32m    372\u001b[0m             \u001b[38;5;241m/\u001b[39m (\u001b[38;5;241m-\u001b[39mfR_a)\n\u001b[1;32m    373\u001b[0m         )\n\u001b[1;32m    374\u001b[0m         dens_term \u001b[38;5;241m=\u001b[39m utils\u001b[38;5;241m.\u001b[39mlinear_operator(density, f1, f2)\n\u001b[1;32m    375\u001b[0m \n\u001b[1;32m    376\u001b[0m         q \u001b[38;5;241m=\u001b[39m np\u001b[38;5;241m.\u001b[39mfloat32(\u001b[38;5;241m-\u001b[39mparam[\u001b[38;5;124m\"\u001b[39m\u001b[38;5;124maexp\u001b[39m\u001b[38;5;124m\"\u001b[39m] \u001b[38;5;241m*\u001b[39m\u001b[38;5;241m*\u001b[39m \u001b[38;5;241m4\u001b[39m \u001b[38;5;241m*\u001b[39m Rbar \u001b[38;5;241m/\u001b[39m (\u001b[38;5;241m18\u001b[39m \u001b[38;5;241m*\u001b[39m c2)) \u001b[38;5;241m/\u001b[39m (\u001b[38;5;241m-\u001b[39mfR_a)\n\u001b[1;32m    377\u001b[0m         param[\u001b[38;5;124m\"\u001b[39m\u001b[38;5;124mfR_q\u001b[39m\u001b[38;5;124m\"\u001b[39m] \u001b[38;5;241m=\u001b[39m q\n\u001b[1;32m    378\u001b[0m         additional_field \u001b[38;5;241m=\u001b[39m initialise_potential(\n\u001b[1;32m    379\u001b[0m             additional_field, dens_term, h, param, tables\n\u001b[1;32m    380\u001b[0m         )\n\u001b[1;32m    381\u001b[0m         u_scalaron \u001b[38;5;241m=\u001b[39m additional_field\n\u001b[1;32m    382\u001b[0m         u_scalaron \u001b[38;5;241m=\u001b[39m multigrid\u001b[38;5;241m.\u001b[39mFAS(u_scalaron, dens_term, h, param)\n\u001b[1;32m    383\u001b[0m         \u001b[38;5;28;01mif\u001b[39;00m (param[\u001b[38;5;124m\"\u001b[39m\u001b[38;5;124mnsteps\u001b[39m\u001b[38;5;124m\"\u001b[39m]) \u001b[38;5;241m%\u001b[39m \u001b[38;5;241m10\u001b[39m \u001b[38;5;241m==\u001b[39m \u001b[38;5;241m0\u001b[39m:\n\u001b[1;32m    384\u001b[0m             logging\u001b[38;5;241m.\u001b[39minfo(\n\u001b[1;32m    385\u001b[0m                 \u001b[38;5;124mf\u001b[39m\u001b[38;5;124m\"\u001b[39m\u001b[38;5;132;01m{\u001b[39;00mnp\u001b[38;5;241m.\u001b[39mmean(u_scalaron)\u001b[38;5;132;01m=}\u001b[39;00m\u001b[38;5;124m, should be close to 1 (actually <1/u_sclaron> should be conserved)\u001b[39m\u001b[38;5;124m\"\u001b[39m\n\u001b[1;32m    386\u001b[0m             )\n\u001b[1;32m    387\u001b[0m         logging\u001b[38;5;241m.\u001b[39minfo(\u001b[38;5;124mf\u001b[39m\u001b[38;5;124m\"\u001b[39m\u001b[38;5;132;01m{\u001b[39;00mfR_a\u001b[38;5;132;01m=}\u001b[39;00m\u001b[38;5;124m\"\u001b[39m)\n\u001b[1;32m    388\u001b[0m         \u001b[38;5;28;01mreturn\u001b[39;00m u_scalaron\n\u001b[1;32m    389\u001b[0m     \u001b[38;5;28;01mcase\u001b[39;00m \u001b[38;5;124m\"\u001b[39m\u001b[38;5;124mmond\u001b[39m\u001b[38;5;124m\"\u001b[39m:\n\u001b[1;32m    390\u001b[0m         rhs_poisson(density, additional_field, param, h)\n\u001b[1;32m    391\u001b[0m         LINEAR_NEWTON_SOLVER \u001b[38;5;241m=\u001b[39m param[\u001b[38;5;124m\"\u001b[39m\u001b[38;5;124mlinear_newton_solver\u001b[39m\u001b[38;5;124m\"\u001b[39m]\u001b[38;5;241m.\u001b[39mcasefold()\n\u001b[1;32m    392\u001b[0m         \u001b[38;5;28;01mif\u001b[39;00m LINEAR_NEWTON_SOLVER \u001b[38;5;241m==\u001b[39m \u001b[38;5;124m\"\u001b[39m\u001b[38;5;124mmultigrid\u001b[39m\u001b[38;5;124m\"\u001b[39m:\n\u001b[1;32m    393\u001b[0m             additional_field \u001b[38;5;241m=\u001b[39m initialise_potential(\n\u001b[1;32m    394\u001b[0m                 additional_field, density, h, param, tables\n\u001b[1;32m    395\u001b[0m             )\n\u001b[1;32m    396\u001b[0m             additional_field \u001b[38;5;241m=\u001b[39m multigrid\u001b[38;5;241m.\u001b[39mlinear(additional_field, density, h, param)\n\u001b[1;32m    397\u001b[0m         \u001b[38;5;28;01melif\u001b[39;00m LINEAR_NEWTON_SOLVER \u001b[38;5;241m==\u001b[39m \u001b[38;5;124m\"\u001b[39m\u001b[38;5;124mfft_7pt\u001b[39m\u001b[38;5;124m\"\u001b[39m:\n\u001b[1;32m    398\u001b[0m             additional_field \u001b[38;5;241m=\u001b[39m fft(density, param)\n\u001b[1;32m    399\u001b[0m         \u001b[38;5;28;01melse\u001b[39;00m:\n\u001b[1;32m    400\u001b[0m             \u001b[38;5;28;01mraise\u001b[39;00m \u001b[38;5;167;01mValueError\u001b[39;00m(\n\u001b[1;32m    401\u001b[0m                 \u001b[38;5;124mf\u001b[39m\u001b[38;5;124m\"\u001b[39m\u001b[38;5;132;01m{\u001b[39;00mparam[\u001b[38;5;124m'\u001b[39m\u001b[38;5;124mlinear_newton_solver\u001b[39m\u001b[38;5;124m'\u001b[39m]\u001b[38;5;132;01m=}\u001b[39;00m\u001b[38;5;124m, should be \u001b[39m\u001b[38;5;124m'\u001b[39m\u001b[38;5;124mmultigrid\u001b[39m\u001b[38;5;124m'\u001b[39m\u001b[38;5;124m or \u001b[39m\u001b[38;5;124m'\u001b[39m\u001b[38;5;124mfft_7pt\u001b[39m\u001b[38;5;124m'\u001b[39m\u001b[38;5;124m\"\u001b[39m\n\u001b[1;32m    402\u001b[0m             )\n\u001b[1;32m    403\u001b[0m         \u001b[38;5;28;01mreturn\u001b[39;00m additional_field\n\u001b[1;32m    404\u001b[0m     \n\u001b[1;32m    405\u001b[0m     \u001b[38;5;28;01mcase\u001b[39;00m \u001b[38;5;124m\"\u001b[39m\u001b[38;5;124meft\u001b[39m\u001b[38;5;124m\"\u001b[39m:\n\u001b[1;32m    406\u001b[0m \n\u001b[1;32m    407\u001b[0m         eft_quantities \u001b[38;5;241m=\u001b[39m eftcalcs\u001b[38;5;241m.\u001b[39mgeteft(param,tables)\n\u001b[1;32m    408\u001b[0m         param[\u001b[38;5;124m\"\u001b[39m\u001b[38;5;124malphaB\u001b[39m\u001b[38;5;124m\"\u001b[39m] \u001b[38;5;241m=\u001b[39m eft_quantities[\u001b[38;5;241m0\u001b[39m]\n\u001b[1;32m    409\u001b[0m         param[\u001b[38;5;124m\"\u001b[39m\u001b[38;5;124malphaM\u001b[39m\u001b[38;5;124m\"\u001b[39m] \u001b[38;5;241m=\u001b[39m eft_quantities[\u001b[38;5;241m1\u001b[39m]\n\u001b[1;32m    410\u001b[0m         param[\u001b[38;5;124m\"\u001b[39m\u001b[38;5;124mC2\u001b[39m\u001b[38;5;124m\"\u001b[39m] \u001b[38;5;241m=\u001b[39m eft_quantities[\u001b[38;5;241m2\u001b[39m]\n\u001b[1;32m    411\u001b[0m         param[\u001b[38;5;124m\"\u001b[39m\u001b[38;5;124mC4\u001b[39m\u001b[38;5;124m\"\u001b[39m] \u001b[38;5;241m=\u001b[39m eft_quantities[\u001b[38;5;241m3\u001b[39m]\n\u001b[1;32m    412\u001b[0m         Eval \u001b[38;5;241m=\u001b[39m tables[\u001b[38;5;241m2\u001b[39m] \n\u001b[1;32m    413\u001b[0m         param[\u001b[38;5;124m\"\u001b[39m\u001b[38;5;124mH\u001b[39m\u001b[38;5;124m\"\u001b[39m] \u001b[38;5;241m=\u001b[39m Eval(np\u001b[38;5;241m.\u001b[39mlog(param[\u001b[38;5;124m\"\u001b[39m\u001b[38;5;124maexp\u001b[39m\u001b[38;5;124m\"\u001b[39m])) \u001b[38;5;241m/\u001b[39m param[\u001b[38;5;124m\"\u001b[39m\u001b[38;5;124mH0\u001b[39m\u001b[38;5;124m\"\u001b[39m]\n\u001b[1;32m    414\u001b[0m         \u001b[38;5;66;03m#print(eft_quantities,param['H'],param['parametrized_mu_z'])\u001b[39;00m\n\u001b[1;32m    415\u001b[0m         \u001b[38;5;66;03m#param['H'] = np.float32(1)\u001b[39;00m\n\u001b[1;32m    416\u001b[0m         \n\u001b[1;32m    417\u001b[0m \n\u001b[1;32m    418\u001b[0m         f1 \u001b[38;5;241m=\u001b[39m np\u001b[38;5;241m.\u001b[39mfloat32(\n\u001b[1;32m    419\u001b[0m         \u001b[38;5;241m1.5\u001b[39m \u001b[38;5;241m*\u001b[39m param[\u001b[38;5;124m\"\u001b[39m\u001b[38;5;124maexp\u001b[39m\u001b[38;5;124m\"\u001b[39m] \u001b[38;5;241m*\u001b[39m param[\u001b[38;5;124m\"\u001b[39m\u001b[38;5;124mOm_m\u001b[39m\u001b[38;5;124m\"\u001b[39m] \u001b[38;5;241m*\u001b[39m param[\u001b[38;5;124m\"\u001b[39m\u001b[38;5;124mparametrized_mu_z\u001b[39m\u001b[38;5;124m\"\u001b[39m]\n\u001b[1;32m    420\u001b[0m         )   \n\u001b[1;32m    421\u001b[0m         f2 \u001b[38;5;241m=\u001b[39m \u001b[38;5;241m-\u001b[39mf1\n\u001b[1;32m    422\u001b[0m \n\u001b[1;32m    423\u001b[0m         additional_field \u001b[38;5;241m=\u001b[39m initialise_potential(\n\u001b[0;32m--> 424\u001b[0m             additional_field, dens_term, h, param,tables\n\u001b[1;32m    425\u001b[0m         )\n\u001b[1;32m    426\u001b[0m \n\u001b[1;32m    427\u001b[0m         chi \u001b[38;5;241m=\u001b[39m additional_field\n\u001b[1;32m    428\u001b[0m \n\u001b[1;32m    429\u001b[0m          \u001b[38;5;66;03m# newtonian recasting\u001b[39;00m\n\u001b[1;32m    430\u001b[0m \n\u001b[1;32m    431\u001b[0m         \u001b[38;5;28;01mif\u001b[39;00m param[\u001b[38;5;124m'\u001b[39m\u001b[38;5;124mnewton\u001b[39m\u001b[38;5;124m'\u001b[39m]:\n\u001b[1;32m    432\u001b[0m \n\u001b[1;32m    433\u001b[0m             lapfac \u001b[38;5;241m=\u001b[39m (param[\u001b[38;5;124m\"\u001b[39m\u001b[38;5;124malphaB\u001b[39m\u001b[38;5;124m\"\u001b[39m] \u001b[38;5;241m-\u001b[39m param[\u001b[38;5;124m\"\u001b[39m\u001b[38;5;124malphaM\u001b[39m\u001b[38;5;124m\"\u001b[39m]) \u001b[38;5;241m/\u001b[39m (\u001b[38;5;241m2\u001b[39m\u001b[38;5;241m*\u001b[39mparam[\u001b[38;5;124m\"\u001b[39m\u001b[38;5;124malphaB\u001b[39m\u001b[38;5;124m\"\u001b[39m]\u001b[38;5;241m*\u001b[39mparam[\u001b[38;5;124m\"\u001b[39m\u001b[38;5;124malphaM\u001b[39m\u001b[38;5;124m\"\u001b[39m] \u001b[38;5;241m-\u001b[39m param[\u001b[38;5;124m\"\u001b[39m\u001b[38;5;124malphaB\u001b[39m\u001b[38;5;124m\"\u001b[39m]\u001b[38;5;241m*\u001b[39m\u001b[38;5;241m*\u001b[39m\u001b[38;5;241m2\u001b[39m \u001b[38;5;241m-\u001b[39m param[\u001b[38;5;124m\"\u001b[39m\u001b[38;5;124mC2\u001b[39m\u001b[38;5;124m\"\u001b[39m])\n\u001b[1;32m    434\u001b[0m             \u001b[38;5;28mprint\u001b[39m(\u001b[38;5;124m'\u001b[39m\u001b[38;5;124mChi:\u001b[39m\u001b[38;5;124m'\u001b[39m,lapfac)\n\u001b[1;32m    435\u001b[0m             dens_term \u001b[38;5;241m=\u001b[39m utils\u001b[38;5;241m.\u001b[39mlinear_operator(density,f1\u001b[38;5;241m*\u001b[39mlapfac,f2\u001b[38;5;241m*\u001b[39mlapfac)\n\u001b[1;32m    436\u001b[0m             chi \u001b[38;5;241m=\u001b[39m multigrid\u001b[38;5;241m.\u001b[39mlinear(chi,dens_term,h,param)\n\u001b[1;32m    437\u001b[0m         \n\u001b[1;32m    438\u001b[0m         \u001b[38;5;28;01melse\u001b[39;00m:\n\u001b[1;32m    439\u001b[0m \n\u001b[1;32m    440\u001b[0m             dens_term \u001b[38;5;241m=\u001b[39m utils\u001b[38;5;241m.\u001b[39mlinear_operator(density,f1,f2)\n\u001b[1;32m    441\u001b[0m             chi \u001b[38;5;241m=\u001b[39m multigrid\u001b[38;5;241m.\u001b[39mFAS(chi, dens_term, h, param)\n\u001b[1;32m    442\u001b[0m \n\u001b[1;32m    443\u001b[0m \n\u001b[1;32m    444\u001b[0m \n\u001b[1;32m    445\u001b[0m         \n\u001b[1;32m    446\u001b[0m         \u001b[38;5;66;03m#\u001b[39;00m\n\u001b[1;32m    447\u001b[0m         \n\u001b[1;32m    448\u001b[0m         \u001b[38;5;66;03m#quadratic.smoothing(chi,dens_term,h,param['C2'],param['C4'],param['alphaB'],param['alphaM'],param['H'],param['aexp'],6)\u001b[39;00m\n\u001b[1;32m    449\u001b[0m         \u001b[38;5;28;01mreturn\u001b[39;00m chi\n\u001b[1;32m    450\u001b[0m \n\u001b[1;32m    451\u001b[0m \n\u001b[1;32m    452\u001b[0m     \u001b[38;5;28;01mcase\u001b[39;00m\u001b[38;5;250m \u001b[39m\u001b[38;5;28;01m_\u001b[39;00m:\n\u001b[1;32m    453\u001b[0m         \u001b[38;5;28;01mraise\u001b[39;00m \u001b[38;5;167;01mValueError\u001b[39;00m(\n\u001b[1;32m    454\u001b[0m             \u001b[38;5;124mf\u001b[39m\u001b[38;5;124m\"\u001b[39m\u001b[38;5;132;01m{\u001b[39;00mparam[\u001b[38;5;124m'\u001b[39m\u001b[38;5;124mtheory\u001b[39m\u001b[38;5;124m'\u001b[39m]\u001b[38;5;132;01m=}\u001b[39;00m\u001b[38;5;124m, should be \u001b[39m\u001b[38;5;124m'\u001b[39m\u001b[38;5;124mnewton\u001b[39m\u001b[38;5;124m'\u001b[39m\u001b[38;5;124m, \u001b[39m\u001b[38;5;124m'\u001b[39m\u001b[38;5;124mfr\u001b[39m\u001b[38;5;124m'\u001b[39m\u001b[38;5;124m, \u001b[39m\u001b[38;5;124m'\u001b[39m\u001b[38;5;124meft\u001b[39m\u001b[38;5;124m'\u001b[39m\u001b[38;5;124m, \u001b[39m\u001b[38;5;124m'\u001b[39m\u001b[38;5;124mparametrized\u001b[39m\u001b[38;5;124m'\u001b[39m\u001b[38;5;124m or \u001b[39m\u001b[38;5;124m'\u001b[39m\u001b[38;5;124mmond\u001b[39m\u001b[38;5;124m'\u001b[39m\u001b[38;5;124m\"\u001b[39m\n\u001b[1;32m    455\u001b[0m         )\n",
      "\u001b[0;31mUnboundLocalError\u001b[0m: cannot access local variable 'dens_term' where it is not associated with a value"
     ]
    }
   ],
   "source": [
    "path = '.'\n",
    "\n",
    "param = pd.Series({\n",
    "    \"theory\": \"eft\",\n",
    "    \"alphaB0\": 0.1,\n",
    "    \"alphaM0\": 0.0,\n",
    "    \"extra\":'04_01',\n",
    "    \"nthreads\": 1,\n",
    "    \"H0\": 72,\n",
    "    \"Om_m\": 1.,\n",
    "    \"T_cmb\": 0.1,\n",
    "    \"N_eff\": 3.044,\n",
    "    \"w0\": -1.0,\n",
    "    \"wa\": 0.0,\n",
    "    \"boxlen\": 100,\n",
    "    \"ncoarse\": 6,\n",
    "    \"npart\": 64**3,\n",
    "    \"z_start\": 50,\n",
    "    \"seed\": 42,\n",
    "    \"position_ICS\": \"center\",\n",
    "    \"fixed_ICS\": False,\n",
    "    \"paired_ICS\": False,\n",
    "    \"dealiased_ICS\": False,\n",
    "    \"power_spectrum_file\": f\"{path}/pk_lcdmw7v2.dat\",\n",
    "    \"initial_conditions\": \"2LPT\",\n",
    "    \"base\": f\"{path}/smalln/\",\n",
    "    \"z_out\": \"[20,19,18,17,16,15,14,13,12,11,10,9,8,7,6,5,4,3,2,1,0.95,0.9,0.85,0.8,0.75,0.7,0.65,0.6,0.55,0.5,0.45,0.4,0.35,0.3,0.25,0.2,0.15,0.1,0.05,0]\",\n",
    "    \"output_snapshot_format\": \"HDF5\",\n",
    "    \"save_power_spectrum\": \"no\",\n",
    "    \"integrator\": \"leapfrog\",\n",
    "    \"n_reorder\": 50,\n",
    "    \"mass_scheme\": \"TSC\",\n",
    "    \"Courant_factor\": 1.0,\n",
    "    \"max_aexp_stepping\": 10,\n",
    "    \"linear_newton_solver\": \"multigrid\",\n",
    "    \"gradient_stencil_order\": 5,\n",
    "    \"Npre\": 3,\n",
    "    \"Npost\": 20,\n",
    "    \"domg\": True,\n",
    "    \"epsrel\": 1e-2,\n",
    "    \"verbose\": 1,\n",
    "    \"evolution_table\":'no',\n",
    "    \"Om_lambda\":0,\n",
    "    'newton': True\n",
    "    })\n",
    "\n",
    "main.run(param)"
   ]
  },
  {
   "cell_type": "code",
   "execution_count": null,
   "id": "745e13f5-a86b-4a56-b006-0e6a506f8f7b",
   "metadata": {},
   "outputs": [],
   "source": [
    "pwd"
   ]
  },
  {
   "cell_type": "code",
   "execution_count": null,
   "id": "12253e6e-2e12-4e89-a94b-c0ea49c2d8f8",
   "metadata": {},
   "outputs": [],
   "source": [
    "import numpy as np\n",
    "import matplotlib.pyplot as plt"
   ]
  },
  {
   "cell_type": "code",
   "execution_count": null,
   "id": "8f245db8-f29f-4115-974c-0ab46feafe97",
   "metadata": {},
   "outputs": [],
   "source": [
    "x = np.loadtxt('/Users/himanishganjoo/Dropbox/prograceray/pysco-eft/pysco/t5/power/pk_eft_multigrid_ncoarse6_00039.dat')\n",
    "plt.loglog(x[:,0],x[:,1],'.')\n",
    "\n",
    "x = np.loadtxt('/Users/himanishganjoo/Dropbox/prograceray/pysco-eft/pysco/t5/power/pk_newton_multigrid_ncoarse6_00039.dat')\n",
    "plt.loglog(x[:,0],x[:,1],'.')\n",
    "\n",
    "\n"
   ]
  },
  {
   "cell_type": "code",
   "execution_count": null,
   "id": "18c0644b-f819-404f-b213-67c3af37c818",
   "metadata": {},
   "outputs": [],
   "source": []
  }
 ],
 "metadata": {
  "kernelspec": {
   "display_name": "Python 3 (ipykernel)",
   "language": "python",
   "name": "python3"
  },
  "language_info": {
   "codemirror_mode": {
    "name": "ipython",
    "version": 3
   },
   "file_extension": ".py",
   "mimetype": "text/x-python",
   "name": "python",
   "nbconvert_exporter": "python",
   "pygments_lexer": "ipython3",
   "version": "3.12.7"
  }
 },
 "nbformat": 4,
 "nbformat_minor": 5
}
