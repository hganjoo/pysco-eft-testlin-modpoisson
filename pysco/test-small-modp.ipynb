{
 "cells": [
  {
   "cell_type": "code",
   "execution_count": 1,
   "id": "b849885c-861b-4f15-a951-6cf85cb9fcee",
   "metadata": {},
   "outputs": [],
   "source": [
    "import main\n",
    "import pandas as pd"
   ]
  },
  {
   "cell_type": "code",
   "execution_count": 2,
   "id": "5ef8bd61-eb79-4e13-8a29-daebb50df2ed",
   "metadata": {},
   "outputs": [
    {
     "data": {
      "text/html": [
       "<pre style=\"white-space:pre;overflow-x:auto;line-height:normal;font-family:Menlo,'DejaVu Sans Mono',consolas,'Courier New',monospace\">param<span style=\"font-weight: bold\">[</span><span style=\"color: #008000; text-decoration-color: #008000\">'nthreads'</span><span style=\"font-weight: bold\">]</span>=<span style=\"color: #008080; text-decoration-color: #008080; font-weight: bold\">1</span>                                                                                                \n",
       "</pre>\n"
      ],
      "text/plain": [
       "param\u001b[1m[\u001b[0m\u001b[32m'nthreads'\u001b[0m\u001b[1m]\u001b[0m=\u001b[1;36m1\u001b[0m                                                                                                \n"
      ]
     },
     "metadata": {},
     "output_type": "display_data"
    },
    {
     "data": {
      "text/html": [
       "<pre style=\"white-space:pre;overflow-x:auto;line-height:normal;font-family:Menlo,'DejaVu Sans Mono',consolas,'Courier New',monospace\">                                                                                                                   \n",
       "<span style=\"color: #008000; text-decoration-color: #008000; font-weight: bold\">FFT module: NumPy</span>                                                                                                  \n",
       "</pre>\n"
      ],
      "text/plain": [
       "                                                                                                                   \n",
       "\u001b[1;32mFFT module: NumPy\u001b[0m                                                                                                  \n"
      ]
     },
     "metadata": {},
     "output_type": "display_data"
    },
    {
     "data": {
      "text/html": [
       "<pre style=\"white-space:pre;overflow-x:auto;line-height:normal;font-family:Menlo,'DejaVu Sans Mono',consolas,'Courier New',monospace\">                                                                                                                   \n",
       "<span style=\"color: #000080; text-decoration-color: #000080; font-weight: bold\">----- Compute background cosmology -----</span>                                                                           \n",
       "                                                                                                                   \n",
       "</pre>\n"
      ],
      "text/plain": [
       "                                                                                                                   \n",
       "\u001b[1;34m----- Compute background cosmology -----\u001b[0m                                                                           \n",
       "                                                                                                                   \n"
      ]
     },
     "metadata": {},
     "output_type": "display_data"
    },
    {
     "data": {
      "text/html": [
       "<pre style=\"white-space:pre;overflow-x:auto;line-height:normal;font-family:Menlo,'DejaVu Sans Mono',consolas,'Courier New',monospace\">Write table in: .<span style=\"color: #800080; text-decoration-color: #800080\">/smalln//</span><span style=\"color: #ff00ff; text-decoration-color: #ff00ff\">evolution_table_pysco_eft_multigrid_ncoarse6.txt</span>                                         \n",
       "</pre>\n"
      ],
      "text/plain": [
       "Write table in: .\u001b[35m/smalln/\u001b[0m\u001b[35m/\u001b[0m\u001b[95mevolution_table_pysco_eft_multigrid_ncoarse6.txt\u001b[0m                                         \n"
      ]
     },
     "metadata": {},
     "output_type": "display_data"
    },
    {
     "data": {
      "text/html": [
       "<pre style=\"white-space:pre;overflow-x:auto;line-height:normal;font-family:Menlo,'DejaVu Sans Mono',consolas,'Courier New',monospace\">                                                                                                                   \n",
       "<span style=\"color: #000080; text-decoration-color: #000080; font-weight: bold\">----- Initial conditions -----</span>                                                                                     \n",
       "                                                                                                                   \n",
       "</pre>\n"
      ],
      "text/plain": [
       "                                                                                                                   \n",
       "\u001b[1;34m----- Initial conditions -----\u001b[0m                                                                                     \n",
       "                                                                                                                   \n"
      ]
     },
     "metadata": {},
     "output_type": "display_data"
    },
    {
     "data": {
      "text/html": [
       "<pre style=\"white-space:pre;overflow-x:auto;line-height:normal;font-family:Menlo,'DejaVu Sans Mono',consolas,'Courier New',monospace\">param<span style=\"font-weight: bold\">[</span><span style=\"color: #008000; text-decoration-color: #008000\">'z_start'</span><span style=\"font-weight: bold\">]</span>=<span style=\"color: #008080; text-decoration-color: #008080; font-weight: bold\">60</span>                                                                                                \n",
       "</pre>\n"
      ],
      "text/plain": [
       "param\u001b[1m[\u001b[0m\u001b[32m'z_start'\u001b[0m\u001b[1m]\u001b[0m=\u001b[1;36m60\u001b[0m                                                                                                \n"
      ]
     },
     "metadata": {},
     "output_type": "display_data"
    },
    {
     "data": {
      "text/html": [
       "<pre style=\"white-space:pre;overflow-x:auto;line-height:normal;font-family:Menlo,'DejaVu Sans Mono',consolas,'Courier New',monospace\">Compute 1LPT contribution                                                                                          \n",
       "</pre>\n"
      ],
      "text/plain": [
       "Compute 1LPT contribution                                                                                          \n"
      ]
     },
     "metadata": {},
     "output_type": "display_data"
    },
    {
     "data": {
      "text/html": [
       "<pre style=\"white-space:pre;overflow-x:auto;line-height:normal;font-family:Menlo,'DejaVu Sans Mono',consolas,'Courier New',monospace\">Compute 2LPT contribution                                                                                          \n",
       "</pre>\n"
      ],
      "text/plain": [
       "Compute 2LPT contribution                                                                                          \n"
      ]
     },
     "metadata": {},
     "output_type": "display_data"
    },
    {
     "data": {
      "text/html": [
       "<pre style=\"white-space:pre;overflow-x:auto;line-height:normal;font-family:Menlo,'DejaVu Sans Mono',consolas,'Courier New',monospace\">Write initial snapshot<span style=\"color: #808000; text-decoration-color: #808000\">...</span><span style=\"color: #808000; text-decoration-color: #808000\">snap_name</span>=<span style=\"color: #008000; text-decoration-color: #008000\">'./smalln//output_00000/particles_eft_multigrid_ncoarse6.h5'</span>                    \n",
       "</pre>\n"
      ],
      "text/plain": [
       "Write initial snapshot\u001b[33m...\u001b[0m\u001b[33msnap_name\u001b[0m=\u001b[32m'./smalln//output_00000/particles_eft_multigrid_ncoarse6.h5'\u001b[0m                    \n"
      ]
     },
     "metadata": {},
     "output_type": "display_data"
    },
    {
     "name": "stdout",
     "output_type": "stream",
     "text": [
      "ICs [0.00765978 0.00753698 0.00775649] [-1.9689942e-05 -3.5508259e-05 -7.1125546e-06]\n"
     ]
    },
    {
     "data": {
      "text/html": [
       "<pre style=\"white-space:pre;overflow-x:auto;line-height:normal;font-family:Menlo,'DejaVu Sans Mono',consolas,'Courier New',monospace\">param<span style=\"font-weight: bold\">[</span><span style=\"color: #008000; text-decoration-color: #008000\">'aexp'</span><span style=\"font-weight: bold\">]</span>=<span style=\"color: #008080; text-decoration-color: #008080; font-weight: bold\">0.01639344262295082</span> param<span style=\"font-weight: bold\">[</span><span style=\"color: #008000; text-decoration-color: #008000\">'t'</span><span style=\"font-weight: bold\">]</span>=<span style=\"color: #800080; text-decoration-color: #800080; font-weight: bold\">array</span><span style=\"font-weight: bold\">(</span><span style=\"color: #008080; text-decoration-color: #008080; font-weight: bold\">-13.62049933</span><span style=\"font-weight: bold\">)</span>                                                   \n",
       "</pre>\n"
      ],
      "text/plain": [
       "param\u001b[1m[\u001b[0m\u001b[32m'aexp'\u001b[0m\u001b[1m]\u001b[0m=\u001b[1;36m0.01639344262295082\u001b[0m param\u001b[1m[\u001b[0m\u001b[32m't'\u001b[0m\u001b[1m]\u001b[0m=\u001b[1;35marray\u001b[0m\u001b[1m(\u001b[0m\u001b[1;36m-13.62049933\u001b[0m\u001b[1m)\u001b[0m                                                   \n"
      ]
     },
     "metadata": {},
     "output_type": "display_data"
    },
    {
     "data": {
      "text/html": [
       "<pre style=\"white-space:pre;overflow-x:auto;line-height:normal;font-family:Menlo,'DejaVu Sans Mono',consolas,'Courier New',monospace\">                                                                                                                   \n",
       "<span style=\"color: #000080; text-decoration-color: #000080; font-weight: bold\">----- Run N-body -----</span>                                                                                             \n",
       "                                                                                                                   \n",
       "</pre>\n"
      ],
      "text/plain": [
       "                                                                                                                   \n",
       "\u001b[1;34m----- Run N-body -----\u001b[0m                                                                                             \n",
       "                                                                                                                   \n"
      ]
     },
     "metadata": {},
     "output_type": "display_data"
    },
    {
     "data": {
      "text/html": [
       "<pre style=\"white-space:pre;overflow-x:auto;line-height:normal;font-family:Menlo,'DejaVu Sans Mono',consolas,'Courier New',monospace\">Tables, <span style=\"color: #008080; text-decoration-color: #008080; font-weight: bold\">13</span>                                                                                                         \n",
       "</pre>\n"
      ],
      "text/plain": [
       "Tables, \u001b[1;36m13\u001b[0m                                                                                                         \n"
      ]
     },
     "metadata": {},
     "output_type": "display_data"
    },
    {
     "name": "stdout",
     "output_type": "stream",
     "text": [
      "Full solver.\n",
      "Smoothing RHS EFT\n",
      "Smoothing RHS EFT\n",
      "Smoothing RHS EFT\n",
      "Smoothing RHS EFT\n",
      "Smoothing RHS EFT\n",
      "Smoothing RHS EFT\n",
      "Smoothing RHS EFT\n",
      "Smoothing RHS EFT\n",
      "Smoothing RHS EFT\n",
      "Smoothing RHS EFT\n",
      "Smoothing RHS EFT\n",
      "Smoothing RHS EFT\n",
      "Smoothing RHS EFT\n",
      "Smoothing RHS EFT\n",
      "Smoothing RHS EFT\n",
      "Smoothing RHS EFT\n",
      "Smoothing RHS EFT\n",
      "Smoothing RHS EFT\n",
      "Smoothing RHS EFT\n",
      "Smoothing RHS EFT\n",
      "Smoothing RHS EFT\n",
      "Smoothing RHS EFT\n",
      "Smoothing RHS EFT\n",
      "Smoothing RHS EFT\n",
      "Smoothing RHS EFT\n",
      "Smoothing RHS EFT\n",
      "reserr-FAS: 771.2373657226562\n",
      "Full solver.\n",
      "Smoothing RHS EFT\n",
      "Smoothing RHS EFT\n",
      "Smoothing RHS EFT\n",
      "Smoothing RHS EFT\n",
      "Smoothing RHS EFT\n",
      "Smoothing RHS EFT\n",
      "Smoothing RHS EFT\n",
      "Smoothing RHS EFT\n",
      "Smoothing RHS EFT\n",
      "Smoothing RHS EFT\n",
      "Smoothing RHS EFT\n",
      "Smoothing RHS EFT\n",
      "Smoothing RHS EFT\n",
      "Smoothing RHS EFT\n",
      "Smoothing RHS EFT\n",
      "Smoothing RHS EFT\n",
      "Smoothing RHS EFT\n",
      "Smoothing RHS EFT\n",
      "Smoothing RHS EFT\n",
      "Smoothing RHS EFT\n",
      "Smoothing RHS EFT\n",
      "Smoothing RHS EFT\n",
      "Smoothing RHS EFT\n",
      "Smoothing RHS EFT\n",
      "Smoothing RHS EFT\n",
      "Smoothing RHS EFT\n",
      "reserr-FAS: 8152.54296875\n"
     ]
    },
    {
     "data": {
      "text/html": [
       "<pre style=\"white-space:pre;overflow-x:auto;line-height:normal;font-family:Menlo,'DejaVu Sans Mono',consolas,'Courier New',monospace\">param<span style=\"font-weight: bold\">[</span><span style=\"color: #008000; text-decoration-color: #008000\">'nsteps'</span><span style=\"font-weight: bold\">]</span>=<span style=\"color: #008080; text-decoration-color: #008080; font-weight: bold\">1</span> param<span style=\"font-weight: bold\">[</span><span style=\"color: #008000; text-decoration-color: #008000\">'aexp'</span><span style=\"font-weight: bold\">]</span>=<span style=\"color: #008080; text-decoration-color: #008080; font-weight: bold\">0.01667839794815007</span> z = <span style=\"color: #008080; text-decoration-color: #008080; font-weight: bold\">58.95779709231112</span>                                          \n",
       "</pre>\n"
      ],
      "text/plain": [
       "param\u001b[1m[\u001b[0m\u001b[32m'nsteps'\u001b[0m\u001b[1m]\u001b[0m=\u001b[1;36m1\u001b[0m param\u001b[1m[\u001b[0m\u001b[32m'aexp'\u001b[0m\u001b[1m]\u001b[0m=\u001b[1;36m0.01667839794815007\u001b[0m z = \u001b[1;36m58.95779709231112\u001b[0m                                          \n"
      ]
     },
     "metadata": {},
     "output_type": "display_data"
    },
    {
     "name": "stdout",
     "output_type": "stream",
     "text": [
      "Full solver.\n",
      "Smoothing RHS EFT\n",
      "Smoothing RHS EFT\n",
      "Smoothing RHS EFT\n",
      "Smoothing RHS EFT\n",
      "Smoothing RHS EFT\n",
      "Smoothing RHS EFT\n",
      "Smoothing RHS EFT\n",
      "Smoothing RHS EFT\n",
      "Smoothing RHS EFT\n",
      "Smoothing RHS EFT\n",
      "Smoothing RHS EFT\n",
      "Smoothing RHS EFT\n",
      "Smoothing RHS EFT\n",
      "Smoothing RHS EFT\n",
      "Smoothing RHS EFT\n",
      "Smoothing RHS EFT\n",
      "Smoothing RHS EFT\n",
      "Smoothing RHS EFT\n",
      "Smoothing RHS EFT\n",
      "Smoothing RHS EFT\n",
      "Smoothing RHS EFT\n",
      "Smoothing RHS EFT\n",
      "Smoothing RHS EFT\n",
      "Smoothing RHS EFT\n",
      "Smoothing RHS EFT\n",
      "Smoothing RHS EFT\n",
      "reserr-FAS: 33301.375\n"
     ]
    },
    {
     "data": {
      "text/html": [
       "<pre style=\"white-space:pre;overflow-x:auto;line-height:normal;font-family:Menlo,'DejaVu Sans Mono',consolas,'Courier New',monospace\">param<span style=\"font-weight: bold\">[</span><span style=\"color: #008000; text-decoration-color: #008000\">'nsteps'</span><span style=\"font-weight: bold\">]</span>=<span style=\"color: #008080; text-decoration-color: #008080; font-weight: bold\">2</span> param<span style=\"font-weight: bold\">[</span><span style=\"color: #008000; text-decoration-color: #008000\">'aexp'</span><span style=\"font-weight: bold\">]</span>=<span style=\"color: #008080; text-decoration-color: #008080; font-weight: bold\">0.016731191059811724</span> z = <span style=\"color: #008080; text-decoration-color: #008080; font-weight: bold\">58.76860801034048</span>                                         \n",
       "</pre>\n"
      ],
      "text/plain": [
       "param\u001b[1m[\u001b[0m\u001b[32m'nsteps'\u001b[0m\u001b[1m]\u001b[0m=\u001b[1;36m2\u001b[0m param\u001b[1m[\u001b[0m\u001b[32m'aexp'\u001b[0m\u001b[1m]\u001b[0m=\u001b[1;36m0.016731191059811724\u001b[0m z = \u001b[1;36m58.76860801034048\u001b[0m                                         \n"
      ]
     },
     "metadata": {},
     "output_type": "display_data"
    },
    {
     "name": "stdout",
     "output_type": "stream",
     "text": [
      "Full solver.\n",
      "Smoothing RHS EFT\n",
      "Smoothing RHS EFT\n",
      "Smoothing RHS EFT\n",
      "Smoothing RHS EFT\n",
      "Smoothing RHS EFT\n",
      "Smoothing RHS EFT\n",
      "Smoothing RHS EFT\n",
      "Smoothing RHS EFT\n",
      "Smoothing RHS EFT\n",
      "Smoothing RHS EFT\n",
      "Smoothing RHS EFT\n",
      "Smoothing RHS EFT\n",
      "Smoothing RHS EFT\n",
      "Smoothing RHS EFT\n",
      "Smoothing RHS EFT\n",
      "Smoothing RHS EFT\n",
      "Smoothing RHS EFT\n",
      "Smoothing RHS EFT\n",
      "Smoothing RHS EFT\n",
      "Smoothing RHS EFT\n",
      "Smoothing RHS EFT\n",
      "Smoothing RHS EFT\n",
      "Smoothing RHS EFT\n",
      "Smoothing RHS EFT\n",
      "Smoothing RHS EFT\n",
      "Smoothing RHS EFT\n",
      "reserr-FAS: 59157.4609375\n"
     ]
    },
    {
     "data": {
      "text/html": [
       "<pre style=\"white-space:pre;overflow-x:auto;line-height:normal;font-family:Menlo,'DejaVu Sans Mono',consolas,'Courier New',monospace\">param<span style=\"font-weight: bold\">[</span><span style=\"color: #008000; text-decoration-color: #008000\">'nsteps'</span><span style=\"font-weight: bold\">]</span>=<span style=\"color: #008080; text-decoration-color: #008080; font-weight: bold\">3</span> param<span style=\"font-weight: bold\">[</span><span style=\"color: #008000; text-decoration-color: #008000\">'aexp'</span><span style=\"font-weight: bold\">]</span>=<span style=\"color: #008080; text-decoration-color: #008080; font-weight: bold\">0.016759411884724677</span> z = <span style=\"color: #008080; text-decoration-color: #008080; font-weight: bold\">58.667964895083664</span>                                        \n",
       "</pre>\n"
      ],
      "text/plain": [
       "param\u001b[1m[\u001b[0m\u001b[32m'nsteps'\u001b[0m\u001b[1m]\u001b[0m=\u001b[1;36m3\u001b[0m param\u001b[1m[\u001b[0m\u001b[32m'aexp'\u001b[0m\u001b[1m]\u001b[0m=\u001b[1;36m0.016759411884724677\u001b[0m z = \u001b[1;36m58.667964895083664\u001b[0m                                        \n"
      ]
     },
     "metadata": {},
     "output_type": "display_data"
    },
    {
     "name": "stdout",
     "output_type": "stream",
     "text": [
      "Full solver.\n",
      "Smoothing RHS EFT\n",
      "Smoothing RHS EFT\n",
      "Smoothing RHS EFT\n",
      "Smoothing RHS EFT\n",
      "Smoothing RHS EFT\n",
      "Smoothing RHS EFT\n",
      "Smoothing RHS EFT\n",
      "Smoothing RHS EFT\n",
      "Smoothing RHS EFT\n",
      "Smoothing RHS EFT\n",
      "Smoothing RHS EFT\n",
      "Smoothing RHS EFT\n",
      "Smoothing RHS EFT\n",
      "Smoothing RHS EFT\n",
      "Smoothing RHS EFT\n",
      "Smoothing RHS EFT\n",
      "Smoothing RHS EFT\n",
      "Smoothing RHS EFT\n",
      "Smoothing RHS EFT\n",
      "Smoothing RHS EFT\n",
      "Smoothing RHS EFT\n",
      "Smoothing RHS EFT\n",
      "Smoothing RHS EFT\n",
      "Smoothing RHS EFT\n",
      "Smoothing RHS EFT\n",
      "Smoothing RHS EFT\n",
      "reserr-FAS: 83724.53125\n"
     ]
    },
    {
     "data": {
      "text/html": [
       "<pre style=\"white-space:pre;overflow-x:auto;line-height:normal;font-family:Menlo,'DejaVu Sans Mono',consolas,'Courier New',monospace\">param<span style=\"font-weight: bold\">[</span><span style=\"color: #008000; text-decoration-color: #008000\">'nsteps'</span><span style=\"font-weight: bold\">]</span>=<span style=\"color: #008080; text-decoration-color: #008080; font-weight: bold\">4</span> param<span style=\"font-weight: bold\">[</span><span style=\"color: #008000; text-decoration-color: #008000\">'aexp'</span><span style=\"font-weight: bold\">]</span>=<span style=\"color: #008080; text-decoration-color: #008080; font-weight: bold\">0.016777602517972334</span> z = <span style=\"color: #008080; text-decoration-color: #008080; font-weight: bold\">58.603271619338344</span>                                        \n",
       "</pre>\n"
      ],
      "text/plain": [
       "param\u001b[1m[\u001b[0m\u001b[32m'nsteps'\u001b[0m\u001b[1m]\u001b[0m=\u001b[1;36m4\u001b[0m param\u001b[1m[\u001b[0m\u001b[32m'aexp'\u001b[0m\u001b[1m]\u001b[0m=\u001b[1;36m0.016777602517972334\u001b[0m z = \u001b[1;36m58.603271619338344\u001b[0m                                        \n"
      ]
     },
     "metadata": {},
     "output_type": "display_data"
    },
    {
     "name": "stdout",
     "output_type": "stream",
     "text": [
      "Full solver.\n",
      "Smoothing RHS EFT\n",
      "Smoothing RHS EFT\n",
      "Smoothing RHS EFT\n",
      "Smoothing RHS EFT\n",
      "Smoothing RHS EFT\n",
      "Smoothing RHS EFT\n",
      "Smoothing RHS EFT\n",
      "Smoothing RHS EFT\n",
      "Smoothing RHS EFT\n",
      "Smoothing RHS EFT\n",
      "Smoothing RHS EFT\n",
      "Smoothing RHS EFT\n",
      "Smoothing RHS EFT\n",
      "Smoothing RHS EFT\n",
      "Smoothing RHS EFT\n",
      "Smoothing RHS EFT\n",
      "Smoothing RHS EFT\n",
      "Smoothing RHS EFT\n",
      "Smoothing RHS EFT\n",
      "Smoothing RHS EFT\n",
      "Smoothing RHS EFT\n",
      "Smoothing RHS EFT\n",
      "Smoothing RHS EFT\n",
      "Smoothing RHS EFT\n",
      "Smoothing RHS EFT\n",
      "Smoothing RHS EFT\n",
      "reserr-FAS: 107399.21875\n"
     ]
    },
    {
     "data": {
      "text/html": [
       "<pre style=\"white-space:pre;overflow-x:auto;line-height:normal;font-family:Menlo,'DejaVu Sans Mono',consolas,'Courier New',monospace\">param<span style=\"font-weight: bold\">[</span><span style=\"color: #008000; text-decoration-color: #008000\">'nsteps'</span><span style=\"font-weight: bold\">]</span>=<span style=\"color: #008080; text-decoration-color: #008080; font-weight: bold\">5</span> param<span style=\"font-weight: bold\">[</span><span style=\"color: #008000; text-decoration-color: #008000\">'aexp'</span><span style=\"font-weight: bold\">]</span>=<span style=\"color: #008080; text-decoration-color: #008080; font-weight: bold\">0.016791091217508113</span> z = <span style=\"color: #008080; text-decoration-color: #008080; font-weight: bold\">58.55539083471225</span>                                         \n",
       "</pre>\n"
      ],
      "text/plain": [
       "param\u001b[1m[\u001b[0m\u001b[32m'nsteps'\u001b[0m\u001b[1m]\u001b[0m=\u001b[1;36m5\u001b[0m param\u001b[1m[\u001b[0m\u001b[32m'aexp'\u001b[0m\u001b[1m]\u001b[0m=\u001b[1;36m0.016791091217508113\u001b[0m z = \u001b[1;36m58.55539083471225\u001b[0m                                         \n"
      ]
     },
     "metadata": {},
     "output_type": "display_data"
    },
    {
     "name": "stdout",
     "output_type": "stream",
     "text": [
      "Full solver.\n",
      "Smoothing RHS EFT\n",
      "Smoothing RHS EFT\n",
      "Smoothing RHS EFT\n",
      "Smoothing RHS EFT\n",
      "Smoothing RHS EFT\n",
      "Smoothing RHS EFT\n",
      "Smoothing RHS EFT\n",
      "Smoothing RHS EFT\n",
      "Smoothing RHS EFT\n",
      "Smoothing RHS EFT\n",
      "Smoothing RHS EFT\n",
      "Smoothing RHS EFT\n",
      "Smoothing RHS EFT\n",
      "Smoothing RHS EFT\n",
      "Smoothing RHS EFT\n",
      "Smoothing RHS EFT\n",
      "Smoothing RHS EFT\n",
      "Smoothing RHS EFT\n",
      "Smoothing RHS EFT\n",
      "Smoothing RHS EFT\n",
      "Smoothing RHS EFT\n",
      "Smoothing RHS EFT\n",
      "Smoothing RHS EFT\n",
      "Smoothing RHS EFT\n",
      "Smoothing RHS EFT\n",
      "Smoothing RHS EFT\n",
      "reserr-FAS: 130452.1640625\n"
     ]
    },
    {
     "data": {
      "text/html": [
       "<pre style=\"white-space:pre;overflow-x:auto;line-height:normal;font-family:Menlo,'DejaVu Sans Mono',consolas,'Courier New',monospace\">param<span style=\"font-weight: bold\">[</span><span style=\"color: #008000; text-decoration-color: #008000\">'nsteps'</span><span style=\"font-weight: bold\">]</span>=<span style=\"color: #008080; text-decoration-color: #008080; font-weight: bold\">6</span> param<span style=\"font-weight: bold\">[</span><span style=\"color: #008000; text-decoration-color: #008000\">'aexp'</span><span style=\"font-weight: bold\">]</span>=<span style=\"color: #008080; text-decoration-color: #008080; font-weight: bold\">0.016801891502871813</span> z = <span style=\"color: #008080; text-decoration-color: #008080; font-weight: bold\">58.517108524898994</span>                                        \n",
       "</pre>\n"
      ],
      "text/plain": [
       "param\u001b[1m[\u001b[0m\u001b[32m'nsteps'\u001b[0m\u001b[1m]\u001b[0m=\u001b[1;36m6\u001b[0m param\u001b[1m[\u001b[0m\u001b[32m'aexp'\u001b[0m\u001b[1m]\u001b[0m=\u001b[1;36m0.016801891502871813\u001b[0m z = \u001b[1;36m58.517108524898994\u001b[0m                                        \n"
      ]
     },
     "metadata": {},
     "output_type": "display_data"
    },
    {
     "name": "stdout",
     "output_type": "stream",
     "text": [
      "Full solver.\n",
      "Smoothing RHS EFT\n",
      "Smoothing RHS EFT\n",
      "Smoothing RHS EFT\n",
      "Smoothing RHS EFT\n",
      "Smoothing RHS EFT\n",
      "Smoothing RHS EFT\n",
      "Smoothing RHS EFT\n",
      "Smoothing RHS EFT\n",
      "Smoothing RHS EFT\n",
      "Smoothing RHS EFT\n",
      "Smoothing RHS EFT\n",
      "Smoothing RHS EFT\n",
      "Smoothing RHS EFT\n",
      "Smoothing RHS EFT\n",
      "Smoothing RHS EFT\n",
      "Smoothing RHS EFT\n",
      "Smoothing RHS EFT\n",
      "Smoothing RHS EFT\n",
      "Smoothing RHS EFT\n",
      "Smoothing RHS EFT\n",
      "Smoothing RHS EFT\n",
      "Smoothing RHS EFT\n",
      "Smoothing RHS EFT\n",
      "Smoothing RHS EFT\n",
      "Smoothing RHS EFT\n",
      "Smoothing RHS EFT\n",
      "reserr-FAS: 152917.65625\n"
     ]
    },
    {
     "data": {
      "text/html": [
       "<pre style=\"white-space:pre;overflow-x:auto;line-height:normal;font-family:Menlo,'DejaVu Sans Mono',consolas,'Courier New',monospace\">param<span style=\"font-weight: bold\">[</span><span style=\"color: #008000; text-decoration-color: #008000\">'nsteps'</span><span style=\"font-weight: bold\">]</span>=<span style=\"color: #008080; text-decoration-color: #008080; font-weight: bold\">7</span> param<span style=\"font-weight: bold\">[</span><span style=\"color: #008000; text-decoration-color: #008000\">'aexp'</span><span style=\"font-weight: bold\">]</span>=<span style=\"color: #008080; text-decoration-color: #008080; font-weight: bold\">0.016810918884470474</span> z = <span style=\"color: #008080; text-decoration-color: #008080; font-weight: bold\">58.485148127374295</span>                                        \n",
       "</pre>\n"
      ],
      "text/plain": [
       "param\u001b[1m[\u001b[0m\u001b[32m'nsteps'\u001b[0m\u001b[1m]\u001b[0m=\u001b[1;36m7\u001b[0m param\u001b[1m[\u001b[0m\u001b[32m'aexp'\u001b[0m\u001b[1m]\u001b[0m=\u001b[1;36m0.016810918884470474\u001b[0m z = \u001b[1;36m58.485148127374295\u001b[0m                                        \n"
      ]
     },
     "metadata": {},
     "output_type": "display_data"
    },
    {
     "name": "stdout",
     "output_type": "stream",
     "text": [
      "Full solver.\n",
      "Smoothing RHS EFT\n",
      "Smoothing RHS EFT\n",
      "Smoothing RHS EFT\n",
      "Smoothing RHS EFT\n",
      "Smoothing RHS EFT\n",
      "Smoothing RHS EFT\n",
      "Smoothing RHS EFT\n",
      "Smoothing RHS EFT\n",
      "Smoothing RHS EFT\n",
      "Smoothing RHS EFT\n",
      "Smoothing RHS EFT\n",
      "Smoothing RHS EFT\n",
      "Smoothing RHS EFT\n",
      "Smoothing RHS EFT\n",
      "Smoothing RHS EFT\n",
      "Smoothing RHS EFT\n",
      "Smoothing RHS EFT\n",
      "Smoothing RHS EFT\n",
      "Smoothing RHS EFT\n",
      "Smoothing RHS EFT\n",
      "Smoothing RHS EFT\n",
      "Smoothing RHS EFT\n",
      "Smoothing RHS EFT\n",
      "Smoothing RHS EFT\n",
      "Smoothing RHS EFT\n",
      "Smoothing RHS EFT\n",
      "reserr-FAS: 174860.046875\n"
     ]
    },
    {
     "data": {
      "text/html": [
       "<pre style=\"white-space:pre;overflow-x:auto;line-height:normal;font-family:Menlo,'DejaVu Sans Mono',consolas,'Courier New',monospace\">param<span style=\"font-weight: bold\">[</span><span style=\"color: #008000; text-decoration-color: #008000\">'nsteps'</span><span style=\"font-weight: bold\">]</span>=<span style=\"color: #008080; text-decoration-color: #008080; font-weight: bold\">8</span> param<span style=\"font-weight: bold\">[</span><span style=\"color: #008000; text-decoration-color: #008000\">'aexp'</span><span style=\"font-weight: bold\">]</span>=<span style=\"color: #008080; text-decoration-color: #008080; font-weight: bold\">0.016818711209966673</span> z = <span style=\"color: #008080; text-decoration-color: #008080; font-weight: bold\">58.4575878921927</span>                                          \n",
       "</pre>\n"
      ],
      "text/plain": [
       "param\u001b[1m[\u001b[0m\u001b[32m'nsteps'\u001b[0m\u001b[1m]\u001b[0m=\u001b[1;36m8\u001b[0m param\u001b[1m[\u001b[0m\u001b[32m'aexp'\u001b[0m\u001b[1m]\u001b[0m=\u001b[1;36m0.016818711209966673\u001b[0m z = \u001b[1;36m58.4575878921927\u001b[0m                                          \n"
      ]
     },
     "metadata": {},
     "output_type": "display_data"
    },
    {
     "name": "stdout",
     "output_type": "stream",
     "text": [
      "Full solver.\n",
      "Smoothing RHS EFT\n",
      "Smoothing RHS EFT\n",
      "Smoothing RHS EFT\n",
      "Smoothing RHS EFT\n",
      "Smoothing RHS EFT\n",
      "Smoothing RHS EFT\n",
      "Smoothing RHS EFT\n",
      "Smoothing RHS EFT\n",
      "Smoothing RHS EFT\n",
      "Smoothing RHS EFT\n",
      "Smoothing RHS EFT\n",
      "Smoothing RHS EFT\n",
      "Smoothing RHS EFT\n",
      "Smoothing RHS EFT\n",
      "Smoothing RHS EFT\n",
      "Smoothing RHS EFT\n",
      "Smoothing RHS EFT\n",
      "Smoothing RHS EFT\n",
      "Smoothing RHS EFT\n",
      "Smoothing RHS EFT\n",
      "Smoothing RHS EFT\n",
      "Smoothing RHS EFT\n",
      "Smoothing RHS EFT\n",
      "Smoothing RHS EFT\n",
      "Smoothing RHS EFT\n",
      "Smoothing RHS EFT\n",
      "reserr-FAS: 196293.890625\n"
     ]
    },
    {
     "data": {
      "text/html": [
       "<pre style=\"white-space:pre;overflow-x:auto;line-height:normal;font-family:Menlo,'DejaVu Sans Mono',consolas,'Courier New',monospace\">param<span style=\"font-weight: bold\">[</span><span style=\"color: #008000; text-decoration-color: #008000\">'nsteps'</span><span style=\"font-weight: bold\">]</span>=<span style=\"color: #008080; text-decoration-color: #008080; font-weight: bold\">9</span> param<span style=\"font-weight: bold\">[</span><span style=\"color: #008000; text-decoration-color: #008000\">'aexp'</span><span style=\"font-weight: bold\">]</span>=<span style=\"color: #008080; text-decoration-color: #008080; font-weight: bold\">0.016825594036948152</span> z = <span style=\"color: #008080; text-decoration-color: #008080; font-weight: bold\">58.43326564304658</span>                                         \n",
       "</pre>\n"
      ],
      "text/plain": [
       "param\u001b[1m[\u001b[0m\u001b[32m'nsteps'\u001b[0m\u001b[1m]\u001b[0m=\u001b[1;36m9\u001b[0m param\u001b[1m[\u001b[0m\u001b[32m'aexp'\u001b[0m\u001b[1m]\u001b[0m=\u001b[1;36m0.016825594036948152\u001b[0m z = \u001b[1;36m58.43326564304658\u001b[0m                                         \n"
      ]
     },
     "metadata": {},
     "output_type": "display_data"
    },
    {
     "name": "stdout",
     "output_type": "stream",
     "text": [
      "Full solver.\n",
      "Smoothing RHS EFT\n",
      "Smoothing RHS EFT\n",
      "Smoothing RHS EFT\n",
      "Smoothing RHS EFT\n",
      "Smoothing RHS EFT\n",
      "Smoothing RHS EFT\n",
      "Smoothing RHS EFT\n",
      "Smoothing RHS EFT\n",
      "Smoothing RHS EFT\n",
      "Smoothing RHS EFT\n",
      "Smoothing RHS EFT\n",
      "Smoothing RHS EFT\n",
      "Smoothing RHS EFT\n",
      "Smoothing RHS EFT\n",
      "Smoothing RHS EFT\n",
      "Smoothing RHS EFT\n",
      "Smoothing RHS EFT\n",
      "Smoothing RHS EFT\n",
      "Smoothing RHS EFT\n",
      "Smoothing RHS EFT\n",
      "Smoothing RHS EFT\n",
      "Smoothing RHS EFT\n",
      "Smoothing RHS EFT\n",
      "Smoothing RHS EFT\n",
      "Smoothing RHS EFT\n",
      "Smoothing RHS EFT\n",
      "reserr-FAS: 217180.59375\n"
     ]
    },
    {
     "data": {
      "text/html": [
       "<pre style=\"white-space:pre;overflow-x:auto;line-height:normal;font-family:Menlo,'DejaVu Sans Mono',consolas,'Courier New',monospace\">param<span style=\"font-weight: bold\">[</span><span style=\"color: #008000; text-decoration-color: #008000\">'nsteps'</span><span style=\"font-weight: bold\">]</span>=<span style=\"color: #008080; text-decoration-color: #008080; font-weight: bold\">10</span> param<span style=\"font-weight: bold\">[</span><span style=\"color: #008000; text-decoration-color: #008000\">'aexp'</span><span style=\"font-weight: bold\">]</span>=<span style=\"color: #008080; text-decoration-color: #008080; font-weight: bold\">0.01683176476640294</span> z = <span style=\"color: #008080; text-decoration-color: #008080; font-weight: bold\">58.411476685798924</span>                                        \n",
       "</pre>\n"
      ],
      "text/plain": [
       "param\u001b[1m[\u001b[0m\u001b[32m'nsteps'\u001b[0m\u001b[1m]\u001b[0m=\u001b[1;36m10\u001b[0m param\u001b[1m[\u001b[0m\u001b[32m'aexp'\u001b[0m\u001b[1m]\u001b[0m=\u001b[1;36m0.01683176476640294\u001b[0m z = \u001b[1;36m58.411476685798924\u001b[0m                                        \n"
      ]
     },
     "metadata": {},
     "output_type": "display_data"
    },
    {
     "name": "stdout",
     "output_type": "stream",
     "text": [
      "Full solver.\n",
      "Smoothing RHS EFT\n",
      "Smoothing RHS EFT\n",
      "Smoothing RHS EFT\n",
      "Smoothing RHS EFT\n",
      "Smoothing RHS EFT\n",
      "Smoothing RHS EFT\n",
      "Smoothing RHS EFT\n",
      "Smoothing RHS EFT\n",
      "Smoothing RHS EFT\n",
      "Smoothing RHS EFT\n",
      "Smoothing RHS EFT\n",
      "Smoothing RHS EFT\n",
      "Smoothing RHS EFT\n",
      "Smoothing RHS EFT\n",
      "Smoothing RHS EFT\n",
      "Smoothing RHS EFT\n",
      "Smoothing RHS EFT\n",
      "Smoothing RHS EFT\n",
      "Smoothing RHS EFT\n",
      "Smoothing RHS EFT\n",
      "Smoothing RHS EFT\n",
      "Smoothing RHS EFT\n",
      "Smoothing RHS EFT\n",
      "Smoothing RHS EFT\n",
      "Smoothing RHS EFT\n",
      "Smoothing RHS EFT\n",
      "reserr-FAS: 237543.5\n"
     ]
    },
    {
     "data": {
      "text/html": [
       "<pre style=\"white-space:pre;overflow-x:auto;line-height:normal;font-family:Menlo,'DejaVu Sans Mono',consolas,'Courier New',monospace\">param<span style=\"font-weight: bold\">[</span><span style=\"color: #008000; text-decoration-color: #008000\">'nsteps'</span><span style=\"font-weight: bold\">]</span>=<span style=\"color: #008080; text-decoration-color: #008080; font-weight: bold\">11</span> param<span style=\"font-weight: bold\">[</span><span style=\"color: #008000; text-decoration-color: #008000\">'aexp'</span><span style=\"font-weight: bold\">]</span>=<span style=\"color: #008080; text-decoration-color: #008080; font-weight: bold\">0.016837381968025176</span> z = <span style=\"color: #008080; text-decoration-color: #008080; font-weight: bold\">58.3916561315196</span>                                         \n",
       "</pre>\n"
      ],
      "text/plain": [
       "param\u001b[1m[\u001b[0m\u001b[32m'nsteps'\u001b[0m\u001b[1m]\u001b[0m=\u001b[1;36m11\u001b[0m param\u001b[1m[\u001b[0m\u001b[32m'aexp'\u001b[0m\u001b[1m]\u001b[0m=\u001b[1;36m0.016837381968025176\u001b[0m z = \u001b[1;36m58.3916561315196\u001b[0m                                         \n"
      ]
     },
     "metadata": {},
     "output_type": "display_data"
    },
    {
     "name": "stdout",
     "output_type": "stream",
     "text": [
      "Full solver.\n",
      "Smoothing RHS EFT\n",
      "Smoothing RHS EFT\n",
      "Smoothing RHS EFT\n",
      "Smoothing RHS EFT\n",
      "Smoothing RHS EFT\n",
      "Smoothing RHS EFT\n",
      "Smoothing RHS EFT\n",
      "Smoothing RHS EFT\n",
      "Smoothing RHS EFT\n",
      "Smoothing RHS EFT\n",
      "Smoothing RHS EFT\n",
      "Smoothing RHS EFT\n",
      "Smoothing RHS EFT\n",
      "Smoothing RHS EFT\n",
      "Smoothing RHS EFT\n",
      "Smoothing RHS EFT\n",
      "Smoothing RHS EFT\n",
      "Smoothing RHS EFT\n",
      "Smoothing RHS EFT\n",
      "Smoothing RHS EFT\n",
      "Smoothing RHS EFT\n",
      "Smoothing RHS EFT\n",
      "Smoothing RHS EFT\n",
      "Smoothing RHS EFT\n",
      "Smoothing RHS EFT\n",
      "Smoothing RHS EFT\n",
      "reserr-FAS: 257304.09375\n"
     ]
    },
    {
     "data": {
      "text/html": [
       "<pre style=\"white-space:pre;overflow-x:auto;line-height:normal;font-family:Menlo,'DejaVu Sans Mono',consolas,'Courier New',monospace\">param<span style=\"font-weight: bold\">[</span><span style=\"color: #008000; text-decoration-color: #008000\">'nsteps'</span><span style=\"font-weight: bold\">]</span>=<span style=\"color: #008080; text-decoration-color: #008080; font-weight: bold\">12</span> param<span style=\"font-weight: bold\">[</span><span style=\"color: #008000; text-decoration-color: #008000\">'aexp'</span><span style=\"font-weight: bold\">]</span>=<span style=\"color: #008080; text-decoration-color: #008080; font-weight: bold\">0.01684254510973415</span> z = <span style=\"color: #008080; text-decoration-color: #008080; font-weight: bold\">58.37344940949868</span>                                         \n",
       "</pre>\n"
      ],
      "text/plain": [
       "param\u001b[1m[\u001b[0m\u001b[32m'nsteps'\u001b[0m\u001b[1m]\u001b[0m=\u001b[1;36m12\u001b[0m param\u001b[1m[\u001b[0m\u001b[32m'aexp'\u001b[0m\u001b[1m]\u001b[0m=\u001b[1;36m0.01684254510973415\u001b[0m z = \u001b[1;36m58.37344940949868\u001b[0m                                         \n"
      ]
     },
     "metadata": {},
     "output_type": "display_data"
    },
    {
     "name": "stdout",
     "output_type": "stream",
     "text": [
      "Full solver.\n",
      "Smoothing RHS EFT\n",
      "Smoothing RHS EFT\n",
      "Smoothing RHS EFT\n",
      "Smoothing RHS EFT\n",
      "Smoothing RHS EFT\n",
      "Smoothing RHS EFT\n",
      "Smoothing RHS EFT\n",
      "Smoothing RHS EFT\n",
      "Smoothing RHS EFT\n",
      "Smoothing RHS EFT\n",
      "Smoothing RHS EFT\n",
      "Smoothing RHS EFT\n",
      "Smoothing RHS EFT\n",
      "Smoothing RHS EFT\n",
      "Smoothing RHS EFT\n",
      "Smoothing RHS EFT\n",
      "Smoothing RHS EFT\n",
      "Smoothing RHS EFT\n",
      "Smoothing RHS EFT\n",
      "Smoothing RHS EFT\n",
      "Smoothing RHS EFT\n",
      "Smoothing RHS EFT\n",
      "Smoothing RHS EFT\n",
      "Smoothing RHS EFT\n",
      "Smoothing RHS EFT\n",
      "Smoothing RHS EFT\n",
      "reserr-FAS: 276470.875\n"
     ]
    },
    {
     "data": {
      "text/html": [
       "<pre style=\"white-space:pre;overflow-x:auto;line-height:normal;font-family:Menlo,'DejaVu Sans Mono',consolas,'Courier New',monospace\">param<span style=\"font-weight: bold\">[</span><span style=\"color: #008000; text-decoration-color: #008000\">'nsteps'</span><span style=\"font-weight: bold\">]</span>=<span style=\"color: #008080; text-decoration-color: #008080; font-weight: bold\">13</span> param<span style=\"font-weight: bold\">[</span><span style=\"color: #008000; text-decoration-color: #008000\">'aexp'</span><span style=\"font-weight: bold\">]</span>=<span style=\"color: #008080; text-decoration-color: #008080; font-weight: bold\">0.01684733195513152</span> z = <span style=\"color: #008080; text-decoration-color: #008080; font-weight: bold\">58.3565795856127</span>                                          \n",
       "</pre>\n"
      ],
      "text/plain": [
       "param\u001b[1m[\u001b[0m\u001b[32m'nsteps'\u001b[0m\u001b[1m]\u001b[0m=\u001b[1;36m13\u001b[0m param\u001b[1m[\u001b[0m\u001b[32m'aexp'\u001b[0m\u001b[1m]\u001b[0m=\u001b[1;36m0.01684733195513152\u001b[0m z = \u001b[1;36m58.3565795856127\u001b[0m                                          \n"
      ]
     },
     "metadata": {},
     "output_type": "display_data"
    },
    {
     "name": "stdout",
     "output_type": "stream",
     "text": [
      "Full solver.\n",
      "Smoothing RHS EFT\n",
      "Smoothing RHS EFT\n",
      "Smoothing RHS EFT\n",
      "Smoothing RHS EFT\n",
      "Smoothing RHS EFT\n",
      "Smoothing RHS EFT\n",
      "Smoothing RHS EFT\n",
      "Smoothing RHS EFT\n",
      "Smoothing RHS EFT\n",
      "Smoothing RHS EFT\n",
      "Smoothing RHS EFT\n",
      "Smoothing RHS EFT\n",
      "Smoothing RHS EFT\n",
      "Smoothing RHS EFT\n",
      "Smoothing RHS EFT\n",
      "Smoothing RHS EFT\n",
      "Smoothing RHS EFT\n",
      "Smoothing RHS EFT\n",
      "Smoothing RHS EFT\n",
      "Smoothing RHS EFT\n",
      "Smoothing RHS EFT\n",
      "Smoothing RHS EFT\n",
      "Smoothing RHS EFT\n",
      "Smoothing RHS EFT\n",
      "Smoothing RHS EFT\n",
      "Smoothing RHS EFT\n",
      "reserr-FAS: 295017.59375\n"
     ]
    },
    {
     "data": {
      "text/html": [
       "<pre style=\"white-space:pre;overflow-x:auto;line-height:normal;font-family:Menlo,'DejaVu Sans Mono',consolas,'Courier New',monospace\">param<span style=\"font-weight: bold\">[</span><span style=\"color: #008000; text-decoration-color: #008000\">'nsteps'</span><span style=\"font-weight: bold\">]</span>=<span style=\"color: #008080; text-decoration-color: #008080; font-weight: bold\">14</span> param<span style=\"font-weight: bold\">[</span><span style=\"color: #008000; text-decoration-color: #008000\">'aexp'</span><span style=\"font-weight: bold\">]</span>=<span style=\"color: #008080; text-decoration-color: #008080; font-weight: bold\">0.016851811415324797</span> z = <span style=\"color: #008080; text-decoration-color: #008080; font-weight: bold\">58.34080173070382</span>                                        \n",
       "</pre>\n"
      ],
      "text/plain": [
       "param\u001b[1m[\u001b[0m\u001b[32m'nsteps'\u001b[0m\u001b[1m]\u001b[0m=\u001b[1;36m14\u001b[0m param\u001b[1m[\u001b[0m\u001b[32m'aexp'\u001b[0m\u001b[1m]\u001b[0m=\u001b[1;36m0.016851811415324797\u001b[0m z = \u001b[1;36m58.34080173070382\u001b[0m                                        \n"
      ]
     },
     "metadata": {},
     "output_type": "display_data"
    },
    {
     "name": "stdout",
     "output_type": "stream",
     "text": [
      "Full solver.\n",
      "Smoothing RHS EFT\n",
      "Smoothing RHS EFT\n",
      "Smoothing RHS EFT\n",
      "Smoothing RHS EFT\n",
      "Smoothing RHS EFT\n",
      "Smoothing RHS EFT\n",
      "Smoothing RHS EFT\n",
      "Smoothing RHS EFT\n",
      "Smoothing RHS EFT\n",
      "Smoothing RHS EFT\n",
      "Smoothing RHS EFT\n",
      "Smoothing RHS EFT\n",
      "Smoothing RHS EFT\n",
      "Smoothing RHS EFT\n",
      "Smoothing RHS EFT\n",
      "Smoothing RHS EFT\n",
      "Smoothing RHS EFT\n",
      "Smoothing RHS EFT\n",
      "Smoothing RHS EFT\n",
      "Smoothing RHS EFT\n",
      "Smoothing RHS EFT\n",
      "Smoothing RHS EFT\n",
      "Smoothing RHS EFT\n",
      "Smoothing RHS EFT\n",
      "Smoothing RHS EFT\n",
      "Smoothing RHS EFT\n",
      "reserr-FAS: 312879.40625\n"
     ]
    },
    {
     "data": {
      "text/html": [
       "<pre style=\"white-space:pre;overflow-x:auto;line-height:normal;font-family:Menlo,'DejaVu Sans Mono',consolas,'Courier New',monospace\">param<span style=\"font-weight: bold\">[</span><span style=\"color: #008000; text-decoration-color: #008000\">'nsteps'</span><span style=\"font-weight: bold\">]</span>=<span style=\"color: #008080; text-decoration-color: #008080; font-weight: bold\">15</span> param<span style=\"font-weight: bold\">[</span><span style=\"color: #008000; text-decoration-color: #008000\">'aexp'</span><span style=\"font-weight: bold\">]</span>=<span style=\"color: #008080; text-decoration-color: #008080; font-weight: bold\">0.016856019142405216</span> z = <span style=\"color: #008080; text-decoration-color: #008080; font-weight: bold\">58.3259886306292</span>                                         \n",
       "</pre>\n"
      ],
      "text/plain": [
       "param\u001b[1m[\u001b[0m\u001b[32m'nsteps'\u001b[0m\u001b[1m]\u001b[0m=\u001b[1;36m15\u001b[0m param\u001b[1m[\u001b[0m\u001b[32m'aexp'\u001b[0m\u001b[1m]\u001b[0m=\u001b[1;36m0.016856019142405216\u001b[0m z = \u001b[1;36m58.3259886306292\u001b[0m                                         \n"
      ]
     },
     "metadata": {},
     "output_type": "display_data"
    },
    {
     "name": "stdout",
     "output_type": "stream",
     "text": [
      "Full solver.\n",
      "Smoothing RHS EFT\n",
      "Smoothing RHS EFT\n",
      "Smoothing RHS EFT\n",
      "Smoothing RHS EFT\n",
      "Smoothing RHS EFT\n",
      "Smoothing RHS EFT\n",
      "Smoothing RHS EFT\n",
      "Smoothing RHS EFT\n",
      "Smoothing RHS EFT\n",
      "Smoothing RHS EFT\n",
      "Smoothing RHS EFT\n",
      "Smoothing RHS EFT\n",
      "Smoothing RHS EFT\n",
      "Smoothing RHS EFT\n",
      "Smoothing RHS EFT\n",
      "Smoothing RHS EFT\n",
      "Smoothing RHS EFT\n",
      "Smoothing RHS EFT\n",
      "Smoothing RHS EFT\n",
      "Smoothing RHS EFT\n",
      "Smoothing RHS EFT\n",
      "Smoothing RHS EFT\n",
      "Smoothing RHS EFT\n",
      "Smoothing RHS EFT\n",
      "Smoothing RHS EFT\n",
      "Smoothing RHS EFT\n",
      "reserr-FAS: 330028.46875\n"
     ]
    },
    {
     "data": {
      "text/html": [
       "<pre style=\"white-space:pre;overflow-x:auto;line-height:normal;font-family:Menlo,'DejaVu Sans Mono',consolas,'Courier New',monospace\">param<span style=\"font-weight: bold\">[</span><span style=\"color: #008000; text-decoration-color: #008000\">'nsteps'</span><span style=\"font-weight: bold\">]</span>=<span style=\"color: #008080; text-decoration-color: #008080; font-weight: bold\">16</span> param<span style=\"font-weight: bold\">[</span><span style=\"color: #008000; text-decoration-color: #008000\">'aexp'</span><span style=\"font-weight: bold\">]</span>=<span style=\"color: #008080; text-decoration-color: #008080; font-weight: bold\">0.016859994405548192</span> z = <span style=\"color: #008080; text-decoration-color: #008080; font-weight: bold\">58.31200070095667</span>                                        \n",
       "</pre>\n"
      ],
      "text/plain": [
       "param\u001b[1m[\u001b[0m\u001b[32m'nsteps'\u001b[0m\u001b[1m]\u001b[0m=\u001b[1;36m16\u001b[0m param\u001b[1m[\u001b[0m\u001b[32m'aexp'\u001b[0m\u001b[1m]\u001b[0m=\u001b[1;36m0.016859994405548192\u001b[0m z = \u001b[1;36m58.31200070095667\u001b[0m                                        \n"
      ]
     },
     "metadata": {},
     "output_type": "display_data"
    },
    {
     "name": "stdout",
     "output_type": "stream",
     "text": [
      "Full solver.\n",
      "Smoothing RHS EFT\n",
      "Smoothing RHS EFT\n",
      "Smoothing RHS EFT\n",
      "Smoothing RHS EFT\n",
      "Smoothing RHS EFT\n",
      "Smoothing RHS EFT\n",
      "Smoothing RHS EFT\n",
      "Smoothing RHS EFT\n",
      "Smoothing RHS EFT\n",
      "Smoothing RHS EFT\n",
      "Smoothing RHS EFT\n",
      "Smoothing RHS EFT\n",
      "Smoothing RHS EFT\n",
      "Smoothing RHS EFT\n",
      "Smoothing RHS EFT\n",
      "Smoothing RHS EFT\n",
      "Smoothing RHS EFT\n",
      "Smoothing RHS EFT\n",
      "Smoothing RHS EFT\n",
      "Smoothing RHS EFT\n",
      "Smoothing RHS EFT\n",
      "Smoothing RHS EFT\n",
      "Smoothing RHS EFT\n",
      "Smoothing RHS EFT\n",
      "Smoothing RHS EFT\n",
      "Smoothing RHS EFT\n",
      "reserr-FAS: 346471.875\n"
     ]
    },
    {
     "data": {
      "text/html": [
       "<pre style=\"white-space:pre;overflow-x:auto;line-height:normal;font-family:Menlo,'DejaVu Sans Mono',consolas,'Courier New',monospace\">param<span style=\"font-weight: bold\">[</span><span style=\"color: #008000; text-decoration-color: #008000\">'nsteps'</span><span style=\"font-weight: bold\">]</span>=<span style=\"color: #008080; text-decoration-color: #008080; font-weight: bold\">17</span> param<span style=\"font-weight: bold\">[</span><span style=\"color: #008000; text-decoration-color: #008000\">'aexp'</span><span style=\"font-weight: bold\">]</span>=<span style=\"color: #008080; text-decoration-color: #008080; font-weight: bold\">0.016863776324217133</span> z = <span style=\"color: #008080; text-decoration-color: #008080; font-weight: bold\">58.298699222187594</span>                                       \n",
       "</pre>\n"
      ],
      "text/plain": [
       "param\u001b[1m[\u001b[0m\u001b[32m'nsteps'\u001b[0m\u001b[1m]\u001b[0m=\u001b[1;36m17\u001b[0m param\u001b[1m[\u001b[0m\u001b[32m'aexp'\u001b[0m\u001b[1m]\u001b[0m=\u001b[1;36m0.016863776324217133\u001b[0m z = \u001b[1;36m58.298699222187594\u001b[0m                                       \n"
      ]
     },
     "metadata": {},
     "output_type": "display_data"
    },
    {
     "name": "stdout",
     "output_type": "stream",
     "text": [
      "Full solver.\n",
      "Smoothing RHS EFT\n",
      "Smoothing RHS EFT\n",
      "Smoothing RHS EFT\n",
      "Smoothing RHS EFT\n",
      "Smoothing RHS EFT\n",
      "Smoothing RHS EFT\n",
      "Smoothing RHS EFT\n",
      "Smoothing RHS EFT\n",
      "Smoothing RHS EFT\n",
      "Smoothing RHS EFT\n",
      "Smoothing RHS EFT\n",
      "Smoothing RHS EFT\n",
      "Smoothing RHS EFT\n",
      "Smoothing RHS EFT\n",
      "Smoothing RHS EFT\n",
      "Smoothing RHS EFT\n",
      "Smoothing RHS EFT\n",
      "Smoothing RHS EFT\n",
      "Smoothing RHS EFT\n",
      "Smoothing RHS EFT\n",
      "Smoothing RHS EFT\n",
      "Smoothing RHS EFT\n",
      "Smoothing RHS EFT\n",
      "Smoothing RHS EFT\n",
      "Smoothing RHS EFT\n",
      "Smoothing RHS EFT\n",
      "reserr-FAS: 362141.09375\n"
     ]
    },
    {
     "data": {
      "text/html": [
       "<pre style=\"white-space:pre;overflow-x:auto;line-height:normal;font-family:Menlo,'DejaVu Sans Mono',consolas,'Courier New',monospace\">param<span style=\"font-weight: bold\">[</span><span style=\"color: #008000; text-decoration-color: #008000\">'nsteps'</span><span style=\"font-weight: bold\">]</span>=<span style=\"color: #008080; text-decoration-color: #008080; font-weight: bold\">18</span> param<span style=\"font-weight: bold\">[</span><span style=\"color: #008000; text-decoration-color: #008000\">'aexp'</span><span style=\"font-weight: bold\">]</span>=<span style=\"color: #008080; text-decoration-color: #008080; font-weight: bold\">0.016867379662361483</span> z = <span style=\"color: #008080; text-decoration-color: #008080; font-weight: bold\">58.28603138230405</span>                                        \n",
       "</pre>\n"
      ],
      "text/plain": [
       "param\u001b[1m[\u001b[0m\u001b[32m'nsteps'\u001b[0m\u001b[1m]\u001b[0m=\u001b[1;36m18\u001b[0m param\u001b[1m[\u001b[0m\u001b[32m'aexp'\u001b[0m\u001b[1m]\u001b[0m=\u001b[1;36m0.016867379662361483\u001b[0m z = \u001b[1;36m58.28603138230405\u001b[0m                                        \n"
      ]
     },
     "metadata": {},
     "output_type": "display_data"
    },
    {
     "name": "stdout",
     "output_type": "stream",
     "text": [
      "Full solver.\n",
      "Smoothing RHS EFT\n",
      "Smoothing RHS EFT\n",
      "Smoothing RHS EFT\n",
      "Smoothing RHS EFT\n",
      "Smoothing RHS EFT\n",
      "Smoothing RHS EFT\n",
      "Smoothing RHS EFT\n",
      "Smoothing RHS EFT\n",
      "Smoothing RHS EFT\n",
      "Smoothing RHS EFT\n",
      "Smoothing RHS EFT\n",
      "Smoothing RHS EFT\n",
      "Smoothing RHS EFT\n",
      "Smoothing RHS EFT\n",
      "Smoothing RHS EFT\n",
      "Smoothing RHS EFT\n",
      "Smoothing RHS EFT\n",
      "Smoothing RHS EFT\n",
      "Smoothing RHS EFT\n",
      "Smoothing RHS EFT\n",
      "Smoothing RHS EFT\n",
      "Smoothing RHS EFT\n",
      "Smoothing RHS EFT\n",
      "Smoothing RHS EFT\n",
      "Smoothing RHS EFT\n",
      "Smoothing RHS EFT\n",
      "reserr-FAS: 377014.6875\n"
     ]
    },
    {
     "data": {
      "text/html": [
       "<pre style=\"white-space:pre;overflow-x:auto;line-height:normal;font-family:Menlo,'DejaVu Sans Mono',consolas,'Courier New',monospace\">param<span style=\"font-weight: bold\">[</span><span style=\"color: #008000; text-decoration-color: #008000\">'nsteps'</span><span style=\"font-weight: bold\">]</span>=<span style=\"color: #008080; text-decoration-color: #008080; font-weight: bold\">19</span> param<span style=\"font-weight: bold\">[</span><span style=\"color: #008000; text-decoration-color: #008000\">'aexp'</span><span style=\"font-weight: bold\">]</span>=<span style=\"color: #008080; text-decoration-color: #008080; font-weight: bold\">0.016870827174796044</span> z = <span style=\"color: #008080; text-decoration-color: #008080; font-weight: bold\">58.273916426216324</span>                                       \n",
       "</pre>\n"
      ],
      "text/plain": [
       "param\u001b[1m[\u001b[0m\u001b[32m'nsteps'\u001b[0m\u001b[1m]\u001b[0m=\u001b[1;36m19\u001b[0m param\u001b[1m[\u001b[0m\u001b[32m'aexp'\u001b[0m\u001b[1m]\u001b[0m=\u001b[1;36m0.016870827174796044\u001b[0m z = \u001b[1;36m58.273916426216324\u001b[0m                                       \n"
      ]
     },
     "metadata": {},
     "output_type": "display_data"
    },
    {
     "name": "stdout",
     "output_type": "stream",
     "text": [
      "Full solver.\n",
      "Smoothing RHS EFT\n",
      "Smoothing RHS EFT\n",
      "Smoothing RHS EFT\n",
      "Smoothing RHS EFT\n",
      "Smoothing RHS EFT\n",
      "Smoothing RHS EFT\n",
      "Smoothing RHS EFT\n",
      "Smoothing RHS EFT\n",
      "Smoothing RHS EFT\n",
      "Smoothing RHS EFT\n",
      "Smoothing RHS EFT\n",
      "Smoothing RHS EFT\n",
      "Smoothing RHS EFT\n",
      "Smoothing RHS EFT\n",
      "Smoothing RHS EFT\n",
      "Smoothing RHS EFT\n",
      "Smoothing RHS EFT\n",
      "Smoothing RHS EFT\n",
      "Smoothing RHS EFT\n",
      "Smoothing RHS EFT\n",
      "Smoothing RHS EFT\n",
      "Smoothing RHS EFT\n",
      "Smoothing RHS EFT\n",
      "Smoothing RHS EFT\n",
      "Smoothing RHS EFT\n",
      "Smoothing RHS EFT\n",
      "reserr-FAS: 391087.71875\n"
     ]
    },
    {
     "data": {
      "text/html": [
       "<pre style=\"white-space:pre;overflow-x:auto;line-height:normal;font-family:Menlo,'DejaVu Sans Mono',consolas,'Courier New',monospace\">param<span style=\"font-weight: bold\">[</span><span style=\"color: #008000; text-decoration-color: #008000\">'nsteps'</span><span style=\"font-weight: bold\">]</span>=<span style=\"color: #008080; text-decoration-color: #008080; font-weight: bold\">20</span> param<span style=\"font-weight: bold\">[</span><span style=\"color: #008000; text-decoration-color: #008000\">'aexp'</span><span style=\"font-weight: bold\">]</span>=<span style=\"color: #008080; text-decoration-color: #008080; font-weight: bold\">0.016874142301972837</span> z = <span style=\"color: #008080; text-decoration-color: #008080; font-weight: bold\">58.262271356043094</span>                                       \n",
       "</pre>\n"
      ],
      "text/plain": [
       "param\u001b[1m[\u001b[0m\u001b[32m'nsteps'\u001b[0m\u001b[1m]\u001b[0m=\u001b[1;36m20\u001b[0m param\u001b[1m[\u001b[0m\u001b[32m'aexp'\u001b[0m\u001b[1m]\u001b[0m=\u001b[1;36m0.016874142301972837\u001b[0m z = \u001b[1;36m58.262271356043094\u001b[0m                                       \n"
      ]
     },
     "metadata": {},
     "output_type": "display_data"
    },
    {
     "name": "stdout",
     "output_type": "stream",
     "text": [
      "Full solver.\n",
      "Smoothing RHS EFT\n",
      "Smoothing RHS EFT\n",
      "Smoothing RHS EFT\n",
      "Smoothing RHS EFT\n",
      "Smoothing RHS EFT\n",
      "Smoothing RHS EFT\n",
      "Smoothing RHS EFT\n",
      "Smoothing RHS EFT\n",
      "Smoothing RHS EFT\n",
      "Smoothing RHS EFT\n",
      "Smoothing RHS EFT\n",
      "Smoothing RHS EFT\n",
      "Smoothing RHS EFT\n",
      "Smoothing RHS EFT\n",
      "Smoothing RHS EFT\n",
      "Smoothing RHS EFT\n",
      "Smoothing RHS EFT\n",
      "Smoothing RHS EFT\n",
      "Smoothing RHS EFT\n",
      "Smoothing RHS EFT\n",
      "Smoothing RHS EFT\n",
      "Smoothing RHS EFT\n",
      "Smoothing RHS EFT\n",
      "Smoothing RHS EFT\n",
      "Smoothing RHS EFT\n",
      "Smoothing RHS EFT\n",
      "reserr-FAS: 404312.71875\n"
     ]
    },
    {
     "data": {
      "text/html": [
       "<pre style=\"white-space:pre;overflow-x:auto;line-height:normal;font-family:Menlo,'DejaVu Sans Mono',consolas,'Courier New',monospace\">param<span style=\"font-weight: bold\">[</span><span style=\"color: #008000; text-decoration-color: #008000\">'nsteps'</span><span style=\"font-weight: bold\">]</span>=<span style=\"color: #008080; text-decoration-color: #008080; font-weight: bold\">21</span> param<span style=\"font-weight: bold\">[</span><span style=\"color: #008000; text-decoration-color: #008000\">'aexp'</span><span style=\"font-weight: bold\">]</span>=<span style=\"color: #008080; text-decoration-color: #008080; font-weight: bold\">0.016877337637308094</span> z = <span style=\"color: #008080; text-decoration-color: #008080; font-weight: bold\">58.25105140928485</span>                                        \n",
       "</pre>\n"
      ],
      "text/plain": [
       "param\u001b[1m[\u001b[0m\u001b[32m'nsteps'\u001b[0m\u001b[1m]\u001b[0m=\u001b[1;36m21\u001b[0m param\u001b[1m[\u001b[0m\u001b[32m'aexp'\u001b[0m\u001b[1m]\u001b[0m=\u001b[1;36m0.016877337637308094\u001b[0m z = \u001b[1;36m58.25105140928485\u001b[0m                                        \n"
      ]
     },
     "metadata": {},
     "output_type": "display_data"
    },
    {
     "name": "stdout",
     "output_type": "stream",
     "text": [
      "Full solver.\n",
      "Smoothing RHS EFT\n",
      "Smoothing RHS EFT\n",
      "Smoothing RHS EFT\n",
      "Smoothing RHS EFT\n",
      "Smoothing RHS EFT\n",
      "Smoothing RHS EFT\n",
      "Smoothing RHS EFT\n",
      "Smoothing RHS EFT\n",
      "Smoothing RHS EFT\n",
      "Smoothing RHS EFT\n",
      "Smoothing RHS EFT\n",
      "Smoothing RHS EFT\n",
      "Smoothing RHS EFT\n",
      "Smoothing RHS EFT\n",
      "Smoothing RHS EFT\n",
      "Smoothing RHS EFT\n",
      "Smoothing RHS EFT\n",
      "Smoothing RHS EFT\n",
      "Smoothing RHS EFT\n",
      "Smoothing RHS EFT\n",
      "Smoothing RHS EFT\n",
      "Smoothing RHS EFT\n",
      "Smoothing RHS EFT\n",
      "Smoothing RHS EFT\n",
      "Smoothing RHS EFT\n",
      "Smoothing RHS EFT\n",
      "reserr-FAS: 416681.375\n"
     ]
    },
    {
     "data": {
      "text/html": [
       "<pre style=\"white-space:pre;overflow-x:auto;line-height:normal;font-family:Menlo,'DejaVu Sans Mono',consolas,'Courier New',monospace\">param<span style=\"font-weight: bold\">[</span><span style=\"color: #008000; text-decoration-color: #008000\">'nsteps'</span><span style=\"font-weight: bold\">]</span>=<span style=\"color: #008080; text-decoration-color: #008080; font-weight: bold\">22</span> param<span style=\"font-weight: bold\">[</span><span style=\"color: #008000; text-decoration-color: #008000\">'aexp'</span><span style=\"font-weight: bold\">]</span>=<span style=\"color: #008080; text-decoration-color: #008080; font-weight: bold\">0.016880417128368488</span> z = <span style=\"color: #008080; text-decoration-color: #008080; font-weight: bold\">58.24024225203795</span>                                        \n",
       "</pre>\n"
      ],
      "text/plain": [
       "param\u001b[1m[\u001b[0m\u001b[32m'nsteps'\u001b[0m\u001b[1m]\u001b[0m=\u001b[1;36m22\u001b[0m param\u001b[1m[\u001b[0m\u001b[32m'aexp'\u001b[0m\u001b[1m]\u001b[0m=\u001b[1;36m0.016880417128368488\u001b[0m z = \u001b[1;36m58.24024225203795\u001b[0m                                        \n"
      ]
     },
     "metadata": {},
     "output_type": "display_data"
    },
    {
     "name": "stdout",
     "output_type": "stream",
     "text": [
      "Full solver.\n",
      "Smoothing RHS EFT\n",
      "Smoothing RHS EFT\n",
      "Smoothing RHS EFT\n",
      "Smoothing RHS EFT\n",
      "Smoothing RHS EFT\n",
      "Smoothing RHS EFT\n",
      "Smoothing RHS EFT\n",
      "Smoothing RHS EFT\n",
      "Smoothing RHS EFT\n",
      "Smoothing RHS EFT\n",
      "Smoothing RHS EFT\n",
      "Smoothing RHS EFT\n",
      "Smoothing RHS EFT\n",
      "Smoothing RHS EFT\n",
      "Smoothing RHS EFT\n",
      "Smoothing RHS EFT\n",
      "Smoothing RHS EFT\n",
      "Smoothing RHS EFT\n",
      "Smoothing RHS EFT\n",
      "Smoothing RHS EFT\n",
      "Smoothing RHS EFT\n",
      "Smoothing RHS EFT\n",
      "Smoothing RHS EFT\n",
      "Smoothing RHS EFT\n",
      "Smoothing RHS EFT\n",
      "Smoothing RHS EFT\n",
      "reserr-FAS: 428151.46875\n"
     ]
    },
    {
     "data": {
      "text/html": [
       "<pre style=\"white-space:pre;overflow-x:auto;line-height:normal;font-family:Menlo,'DejaVu Sans Mono',consolas,'Courier New',monospace\">param<span style=\"font-weight: bold\">[</span><span style=\"color: #008000; text-decoration-color: #008000\">'nsteps'</span><span style=\"font-weight: bold\">]</span>=<span style=\"color: #008080; text-decoration-color: #008080; font-weight: bold\">23</span> param<span style=\"font-weight: bold\">[</span><span style=\"color: #008000; text-decoration-color: #008000\">'aexp'</span><span style=\"font-weight: bold\">]</span>=<span style=\"color: #008080; text-decoration-color: #008080; font-weight: bold\">0.01688340031624539</span> z = <span style=\"color: #008080; text-decoration-color: #008080; font-weight: bold\">58.22977488354577</span>                                         \n",
       "</pre>\n"
      ],
      "text/plain": [
       "param\u001b[1m[\u001b[0m\u001b[32m'nsteps'\u001b[0m\u001b[1m]\u001b[0m=\u001b[1;36m23\u001b[0m param\u001b[1m[\u001b[0m\u001b[32m'aexp'\u001b[0m\u001b[1m]\u001b[0m=\u001b[1;36m0.01688340031624539\u001b[0m z = \u001b[1;36m58.22977488354577\u001b[0m                                         \n"
      ]
     },
     "metadata": {},
     "output_type": "display_data"
    },
    {
     "name": "stdout",
     "output_type": "stream",
     "text": [
      "Full solver.\n",
      "Smoothing RHS EFT\n",
      "Smoothing RHS EFT\n",
      "Smoothing RHS EFT\n",
      "Smoothing RHS EFT\n",
      "Smoothing RHS EFT\n",
      "Smoothing RHS EFT\n",
      "Smoothing RHS EFT\n",
      "Smoothing RHS EFT\n",
      "Smoothing RHS EFT\n",
      "Smoothing RHS EFT\n",
      "Smoothing RHS EFT\n",
      "Smoothing RHS EFT\n",
      "Smoothing RHS EFT\n",
      "Smoothing RHS EFT\n",
      "Smoothing RHS EFT\n",
      "Smoothing RHS EFT\n",
      "Smoothing RHS EFT\n",
      "Smoothing RHS EFT\n",
      "Smoothing RHS EFT\n",
      "Smoothing RHS EFT\n",
      "Smoothing RHS EFT\n",
      "Smoothing RHS EFT\n",
      "Smoothing RHS EFT\n",
      "Smoothing RHS EFT\n",
      "Smoothing RHS EFT\n",
      "Smoothing RHS EFT\n",
      "reserr-FAS: 438715.125\n"
     ]
    },
    {
     "data": {
      "text/html": [
       "<pre style=\"white-space:pre;overflow-x:auto;line-height:normal;font-family:Menlo,'DejaVu Sans Mono',consolas,'Courier New',monospace\">param<span style=\"font-weight: bold\">[</span><span style=\"color: #008000; text-decoration-color: #008000\">'nsteps'</span><span style=\"font-weight: bold\">]</span>=<span style=\"color: #008080; text-decoration-color: #008080; font-weight: bold\">24</span> param<span style=\"font-weight: bold\">[</span><span style=\"color: #008000; text-decoration-color: #008000\">'aexp'</span><span style=\"font-weight: bold\">]</span>=<span style=\"color: #008080; text-decoration-color: #008080; font-weight: bold\">0.01688629823016734</span> z = <span style=\"color: #008080; text-decoration-color: #008080; font-weight: bold\">58.21961026446292</span>                                         \n",
       "</pre>\n"
      ],
      "text/plain": [
       "param\u001b[1m[\u001b[0m\u001b[32m'nsteps'\u001b[0m\u001b[1m]\u001b[0m=\u001b[1;36m24\u001b[0m param\u001b[1m[\u001b[0m\u001b[32m'aexp'\u001b[0m\u001b[1m]\u001b[0m=\u001b[1;36m0.01688629823016734\u001b[0m z = \u001b[1;36m58.21961026446292\u001b[0m                                         \n"
      ]
     },
     "metadata": {},
     "output_type": "display_data"
    },
    {
     "name": "stdout",
     "output_type": "stream",
     "text": [
      "Full solver.\n",
      "Smoothing RHS EFT\n",
      "Smoothing RHS EFT\n",
      "Smoothing RHS EFT\n",
      "Smoothing RHS EFT\n",
      "Smoothing RHS EFT\n",
      "Smoothing RHS EFT\n",
      "Smoothing RHS EFT\n",
      "Smoothing RHS EFT\n",
      "Smoothing RHS EFT\n",
      "Smoothing RHS EFT\n",
      "Smoothing RHS EFT\n",
      "Smoothing RHS EFT\n",
      "Smoothing RHS EFT\n",
      "Smoothing RHS EFT\n",
      "Smoothing RHS EFT\n",
      "Smoothing RHS EFT\n",
      "Smoothing RHS EFT\n",
      "Smoothing RHS EFT\n",
      "Smoothing RHS EFT\n",
      "Smoothing RHS EFT\n",
      "Smoothing RHS EFT\n",
      "Smoothing RHS EFT\n",
      "Smoothing RHS EFT\n",
      "Smoothing RHS EFT\n",
      "Smoothing RHS EFT\n",
      "Smoothing RHS EFT\n",
      "reserr-FAS: 448416.59375\n"
     ]
    },
    {
     "data": {
      "text/html": [
       "<pre style=\"white-space:pre;overflow-x:auto;line-height:normal;font-family:Menlo,'DejaVu Sans Mono',consolas,'Courier New',monospace\">param<span style=\"font-weight: bold\">[</span><span style=\"color: #008000; text-decoration-color: #008000\">'nsteps'</span><span style=\"font-weight: bold\">]</span>=<span style=\"color: #008080; text-decoration-color: #008080; font-weight: bold\">25</span> param<span style=\"font-weight: bold\">[</span><span style=\"color: #008000; text-decoration-color: #008000\">'aexp'</span><span style=\"font-weight: bold\">]</span>=<span style=\"color: #008080; text-decoration-color: #008080; font-weight: bold\">0.016889117146202656</span> z = <span style=\"color: #008080; text-decoration-color: #008080; font-weight: bold\">58.20972608238671</span>                                        \n",
       "</pre>\n"
      ],
      "text/plain": [
       "param\u001b[1m[\u001b[0m\u001b[32m'nsteps'\u001b[0m\u001b[1m]\u001b[0m=\u001b[1;36m25\u001b[0m param\u001b[1m[\u001b[0m\u001b[32m'aexp'\u001b[0m\u001b[1m]\u001b[0m=\u001b[1;36m0.016889117146202656\u001b[0m z = \u001b[1;36m58.20972608238671\u001b[0m                                        \n"
      ]
     },
     "metadata": {},
     "output_type": "display_data"
    },
    {
     "name": "stdout",
     "output_type": "stream",
     "text": [
      "Full solver.\n",
      "Smoothing RHS EFT\n",
      "Smoothing RHS EFT\n",
      "Smoothing RHS EFT\n",
      "Smoothing RHS EFT\n",
      "Smoothing RHS EFT\n",
      "Smoothing RHS EFT\n",
      "Smoothing RHS EFT\n",
      "Smoothing RHS EFT\n",
      "Smoothing RHS EFT\n",
      "Smoothing RHS EFT\n",
      "Smoothing RHS EFT\n",
      "Smoothing RHS EFT\n",
      "Smoothing RHS EFT\n",
      "Smoothing RHS EFT\n",
      "Smoothing RHS EFT\n",
      "Smoothing RHS EFT\n",
      "Smoothing RHS EFT\n",
      "Smoothing RHS EFT\n",
      "Smoothing RHS EFT\n",
      "Smoothing RHS EFT\n",
      "Smoothing RHS EFT\n",
      "Smoothing RHS EFT\n",
      "Smoothing RHS EFT\n",
      "Smoothing RHS EFT\n",
      "Smoothing RHS EFT\n",
      "Smoothing RHS EFT\n",
      "reserr-FAS: 457173.53125\n"
     ]
    },
    {
     "data": {
      "text/html": [
       "<pre style=\"white-space:pre;overflow-x:auto;line-height:normal;font-family:Menlo,'DejaVu Sans Mono',consolas,'Courier New',monospace\">param<span style=\"font-weight: bold\">[</span><span style=\"color: #008000; text-decoration-color: #008000\">'nsteps'</span><span style=\"font-weight: bold\">]</span>=<span style=\"color: #008080; text-decoration-color: #008080; font-weight: bold\">26</span> param<span style=\"font-weight: bold\">[</span><span style=\"color: #008000; text-decoration-color: #008000\">'aexp'</span><span style=\"font-weight: bold\">]</span>=<span style=\"color: #008080; text-decoration-color: #008080; font-weight: bold\">0.016891856212363776</span> z = <span style=\"color: #008080; text-decoration-color: #008080; font-weight: bold\">58.20012504416554</span>                                        \n",
       "</pre>\n"
      ],
      "text/plain": [
       "param\u001b[1m[\u001b[0m\u001b[32m'nsteps'\u001b[0m\u001b[1m]\u001b[0m=\u001b[1;36m26\u001b[0m param\u001b[1m[\u001b[0m\u001b[32m'aexp'\u001b[0m\u001b[1m]\u001b[0m=\u001b[1;36m0.016891856212363776\u001b[0m z = \u001b[1;36m58.20012504416554\u001b[0m                                        \n"
      ]
     },
     "metadata": {},
     "output_type": "display_data"
    },
    {
     "name": "stdout",
     "output_type": "stream",
     "text": [
      "Full solver.\n",
      "Smoothing RHS EFT\n",
      "Smoothing RHS EFT\n",
      "Smoothing RHS EFT\n",
      "Smoothing RHS EFT\n",
      "Smoothing RHS EFT\n",
      "Smoothing RHS EFT\n",
      "Smoothing RHS EFT\n",
      "Smoothing RHS EFT\n",
      "Smoothing RHS EFT\n",
      "Smoothing RHS EFT\n",
      "Smoothing RHS EFT\n",
      "Smoothing RHS EFT\n",
      "Smoothing RHS EFT\n",
      "Smoothing RHS EFT\n",
      "Smoothing RHS EFT\n",
      "Smoothing RHS EFT\n",
      "Smoothing RHS EFT\n",
      "Smoothing RHS EFT\n",
      "Smoothing RHS EFT\n",
      "Smoothing RHS EFT\n",
      "Smoothing RHS EFT\n",
      "Smoothing RHS EFT\n",
      "Smoothing RHS EFT\n",
      "Smoothing RHS EFT\n",
      "Smoothing RHS EFT\n",
      "Smoothing RHS EFT\n",
      "reserr-FAS: 465030.875\n"
     ]
    },
    {
     "data": {
      "text/html": [
       "<pre style=\"white-space:pre;overflow-x:auto;line-height:normal;font-family:Menlo,'DejaVu Sans Mono',consolas,'Courier New',monospace\">param<span style=\"font-weight: bold\">[</span><span style=\"color: #008000; text-decoration-color: #008000\">'nsteps'</span><span style=\"font-weight: bold\">]</span>=<span style=\"color: #008080; text-decoration-color: #008080; font-weight: bold\">27</span> param<span style=\"font-weight: bold\">[</span><span style=\"color: #008000; text-decoration-color: #008000\">'aexp'</span><span style=\"font-weight: bold\">]</span>=<span style=\"color: #008080; text-decoration-color: #008080; font-weight: bold\">0.016894527416913635</span> z = <span style=\"color: #008080; text-decoration-color: #008080; font-weight: bold\">58.190764874480536</span>                                       \n",
       "</pre>\n"
      ],
      "text/plain": [
       "param\u001b[1m[\u001b[0m\u001b[32m'nsteps'\u001b[0m\u001b[1m]\u001b[0m=\u001b[1;36m27\u001b[0m param\u001b[1m[\u001b[0m\u001b[32m'aexp'\u001b[0m\u001b[1m]\u001b[0m=\u001b[1;36m0.016894527416913635\u001b[0m z = \u001b[1;36m58.190764874480536\u001b[0m                                       \n"
      ]
     },
     "metadata": {},
     "output_type": "display_data"
    },
    {
     "name": "stdout",
     "output_type": "stream",
     "text": [
      "Full solver.\n",
      "Smoothing RHS EFT\n",
      "Smoothing RHS EFT\n",
      "Smoothing RHS EFT\n",
      "Smoothing RHS EFT\n",
      "Smoothing RHS EFT\n",
      "Smoothing RHS EFT\n",
      "Smoothing RHS EFT\n",
      "Smoothing RHS EFT\n",
      "Smoothing RHS EFT\n",
      "Smoothing RHS EFT\n",
      "Smoothing RHS EFT\n",
      "Smoothing RHS EFT\n",
      "Smoothing RHS EFT\n",
      "Smoothing RHS EFT\n",
      "Smoothing RHS EFT\n",
      "Smoothing RHS EFT\n",
      "Smoothing RHS EFT\n",
      "Smoothing RHS EFT\n",
      "Smoothing RHS EFT\n",
      "Smoothing RHS EFT\n",
      "Smoothing RHS EFT\n",
      "Smoothing RHS EFT\n",
      "Smoothing RHS EFT\n",
      "Smoothing RHS EFT\n",
      "Smoothing RHS EFT\n",
      "Smoothing RHS EFT\n",
      "reserr-FAS: 472025.9375\n"
     ]
    },
    {
     "data": {
      "text/html": [
       "<pre style=\"white-space:pre;overflow-x:auto;line-height:normal;font-family:Menlo,'DejaVu Sans Mono',consolas,'Courier New',monospace\">param<span style=\"font-weight: bold\">[</span><span style=\"color: #008000; text-decoration-color: #008000\">'nsteps'</span><span style=\"font-weight: bold\">]</span>=<span style=\"color: #008080; text-decoration-color: #008080; font-weight: bold\">28</span> param<span style=\"font-weight: bold\">[</span><span style=\"color: #008000; text-decoration-color: #008000\">'aexp'</span><span style=\"font-weight: bold\">]</span>=<span style=\"color: #008080; text-decoration-color: #008080; font-weight: bold\">0.016897142723159175</span> z = <span style=\"color: #008080; text-decoration-color: #008080; font-weight: bold\">58.181603445261956</span>                                       \n",
       "</pre>\n"
      ],
      "text/plain": [
       "param\u001b[1m[\u001b[0m\u001b[32m'nsteps'\u001b[0m\u001b[1m]\u001b[0m=\u001b[1;36m28\u001b[0m param\u001b[1m[\u001b[0m\u001b[32m'aexp'\u001b[0m\u001b[1m]\u001b[0m=\u001b[1;36m0.016897142723159175\u001b[0m z = \u001b[1;36m58.181603445261956\u001b[0m                                       \n"
      ]
     },
     "metadata": {},
     "output_type": "display_data"
    },
    {
     "name": "stdout",
     "output_type": "stream",
     "text": [
      "Full solver.\n",
      "Smoothing RHS EFT\n",
      "Smoothing RHS EFT\n",
      "Smoothing RHS EFT\n",
      "Smoothing RHS EFT\n",
      "Smoothing RHS EFT\n",
      "Smoothing RHS EFT\n",
      "Smoothing RHS EFT\n",
      "Smoothing RHS EFT\n",
      "Smoothing RHS EFT\n",
      "Smoothing RHS EFT\n",
      "Smoothing RHS EFT\n",
      "Smoothing RHS EFT\n",
      "Smoothing RHS EFT\n",
      "Smoothing RHS EFT\n",
      "Smoothing RHS EFT\n",
      "Smoothing RHS EFT\n",
      "Smoothing RHS EFT\n",
      "Smoothing RHS EFT\n",
      "Smoothing RHS EFT\n",
      "Smoothing RHS EFT\n",
      "Smoothing RHS EFT\n",
      "Smoothing RHS EFT\n",
      "Smoothing RHS EFT\n",
      "Smoothing RHS EFT\n",
      "Smoothing RHS EFT\n",
      "Smoothing RHS EFT\n",
      "reserr-FAS: 478161.0625\n"
     ]
    },
    {
     "data": {
      "text/html": [
       "<pre style=\"white-space:pre;overflow-x:auto;line-height:normal;font-family:Menlo,'DejaVu Sans Mono',consolas,'Courier New',monospace\">param<span style=\"font-weight: bold\">[</span><span style=\"color: #008000; text-decoration-color: #008000\">'nsteps'</span><span style=\"font-weight: bold\">]</span>=<span style=\"color: #008080; text-decoration-color: #008080; font-weight: bold\">29</span> param<span style=\"font-weight: bold\">[</span><span style=\"color: #008000; text-decoration-color: #008000\">'aexp'</span><span style=\"font-weight: bold\">]</span>=<span style=\"color: #008080; text-decoration-color: #008080; font-weight: bold\">0.016899706655694947</span> z = <span style=\"color: #008080; text-decoration-color: #008080; font-weight: bold\">58.17262473091597</span>                                        \n",
       "</pre>\n"
      ],
      "text/plain": [
       "param\u001b[1m[\u001b[0m\u001b[32m'nsteps'\u001b[0m\u001b[1m]\u001b[0m=\u001b[1;36m29\u001b[0m param\u001b[1m[\u001b[0m\u001b[32m'aexp'\u001b[0m\u001b[1m]\u001b[0m=\u001b[1;36m0.016899706655694947\u001b[0m z = \u001b[1;36m58.17262473091597\u001b[0m                                        \n"
      ]
     },
     "metadata": {},
     "output_type": "display_data"
    },
    {
     "name": "stdout",
     "output_type": "stream",
     "text": [
      "Full solver.\n",
      "Smoothing RHS EFT\n",
      "Smoothing RHS EFT\n",
      "Smoothing RHS EFT\n",
      "Smoothing RHS EFT\n",
      "Smoothing RHS EFT\n",
      "Smoothing RHS EFT\n",
      "Smoothing RHS EFT\n",
      "Smoothing RHS EFT\n",
      "Smoothing RHS EFT\n",
      "Smoothing RHS EFT\n",
      "Smoothing RHS EFT\n",
      "Smoothing RHS EFT\n",
      "Smoothing RHS EFT\n",
      "Smoothing RHS EFT\n",
      "Smoothing RHS EFT\n",
      "Smoothing RHS EFT\n",
      "Smoothing RHS EFT\n",
      "Smoothing RHS EFT\n",
      "Smoothing RHS EFT\n",
      "Smoothing RHS EFT\n",
      "Smoothing RHS EFT\n",
      "Smoothing RHS EFT\n",
      "Smoothing RHS EFT\n",
      "Smoothing RHS EFT\n",
      "Smoothing RHS EFT\n",
      "Smoothing RHS EFT\n",
      "reserr-FAS: 483499.875\n"
     ]
    },
    {
     "data": {
      "text/html": [
       "<pre style=\"white-space:pre;overflow-x:auto;line-height:normal;font-family:Menlo,'DejaVu Sans Mono',consolas,'Courier New',monospace\">param<span style=\"font-weight: bold\">[</span><span style=\"color: #008000; text-decoration-color: #008000\">'nsteps'</span><span style=\"font-weight: bold\">]</span>=<span style=\"color: #008080; text-decoration-color: #008080; font-weight: bold\">30</span> param<span style=\"font-weight: bold\">[</span><span style=\"color: #008000; text-decoration-color: #008000\">'aexp'</span><span style=\"font-weight: bold\">]</span>=<span style=\"color: #008080; text-decoration-color: #008080; font-weight: bold\">0.016902216291924697</span> z = <span style=\"color: #008080; text-decoration-color: #008080; font-weight: bold\">58.16383879655864</span>                                        \n",
       "</pre>\n"
      ],
      "text/plain": [
       "param\u001b[1m[\u001b[0m\u001b[32m'nsteps'\u001b[0m\u001b[1m]\u001b[0m=\u001b[1;36m30\u001b[0m param\u001b[1m[\u001b[0m\u001b[32m'aexp'\u001b[0m\u001b[1m]\u001b[0m=\u001b[1;36m0.016902216291924697\u001b[0m z = \u001b[1;36m58.16383879655864\u001b[0m                                        \n"
      ]
     },
     "metadata": {},
     "output_type": "display_data"
    },
    {
     "name": "stdout",
     "output_type": "stream",
     "text": [
      "Full solver.\n",
      "Smoothing RHS EFT\n",
      "Smoothing RHS EFT\n",
      "Smoothing RHS EFT\n",
      "Smoothing RHS EFT\n",
      "Smoothing RHS EFT\n",
      "Smoothing RHS EFT\n",
      "Smoothing RHS EFT\n",
      "Smoothing RHS EFT\n",
      "Smoothing RHS EFT\n",
      "Smoothing RHS EFT\n",
      "Smoothing RHS EFT\n",
      "Smoothing RHS EFT\n",
      "Smoothing RHS EFT\n",
      "Smoothing RHS EFT\n",
      "Smoothing RHS EFT\n",
      "Smoothing RHS EFT\n",
      "Smoothing RHS EFT\n",
      "Smoothing RHS EFT\n",
      "Smoothing RHS EFT\n",
      "Smoothing RHS EFT\n",
      "Smoothing RHS EFT\n",
      "Smoothing RHS EFT\n",
      "Smoothing RHS EFT\n",
      "Smoothing RHS EFT\n",
      "Smoothing RHS EFT\n",
      "Smoothing RHS EFT\n",
      "reserr-FAS: 488008.28125\n"
     ]
    },
    {
     "data": {
      "text/html": [
       "<pre style=\"white-space:pre;overflow-x:auto;line-height:normal;font-family:Menlo,'DejaVu Sans Mono',consolas,'Courier New',monospace\">param<span style=\"font-weight: bold\">[</span><span style=\"color: #008000; text-decoration-color: #008000\">'nsteps'</span><span style=\"font-weight: bold\">]</span>=<span style=\"color: #008080; text-decoration-color: #008080; font-weight: bold\">31</span> param<span style=\"font-weight: bold\">[</span><span style=\"color: #008000; text-decoration-color: #008000\">'aexp'</span><span style=\"font-weight: bold\">]</span>=<span style=\"color: #008080; text-decoration-color: #008080; font-weight: bold\">0.016904674856103034</span> z = <span style=\"color: #008080; text-decoration-color: #008080; font-weight: bold\">58.15523418890093</span>                                        \n",
       "</pre>\n"
      ],
      "text/plain": [
       "param\u001b[1m[\u001b[0m\u001b[32m'nsteps'\u001b[0m\u001b[1m]\u001b[0m=\u001b[1;36m31\u001b[0m param\u001b[1m[\u001b[0m\u001b[32m'aexp'\u001b[0m\u001b[1m]\u001b[0m=\u001b[1;36m0.016904674856103034\u001b[0m z = \u001b[1;36m58.15523418890093\u001b[0m                                        \n"
      ]
     },
     "metadata": {},
     "output_type": "display_data"
    },
    {
     "name": "stdout",
     "output_type": "stream",
     "text": [
      "Full solver.\n",
      "Smoothing RHS EFT\n",
      "Smoothing RHS EFT\n",
      "Smoothing RHS EFT\n",
      "Smoothing RHS EFT\n",
      "Smoothing RHS EFT\n",
      "Smoothing RHS EFT\n",
      "Smoothing RHS EFT\n",
      "Smoothing RHS EFT\n",
      "Smoothing RHS EFT\n",
      "Smoothing RHS EFT\n",
      "Smoothing RHS EFT\n",
      "Smoothing RHS EFT\n",
      "Smoothing RHS EFT\n",
      "Smoothing RHS EFT\n",
      "Smoothing RHS EFT\n",
      "Smoothing RHS EFT\n",
      "Smoothing RHS EFT\n",
      "Smoothing RHS EFT\n",
      "Smoothing RHS EFT\n",
      "Smoothing RHS EFT\n",
      "Smoothing RHS EFT\n",
      "Smoothing RHS EFT\n",
      "Smoothing RHS EFT\n",
      "Smoothing RHS EFT\n",
      "Smoothing RHS EFT\n",
      "Smoothing RHS EFT\n",
      "reserr-FAS: 491746.3125\n"
     ]
    },
    {
     "data": {
      "text/html": [
       "<pre style=\"white-space:pre;overflow-x:auto;line-height:normal;font-family:Menlo,'DejaVu Sans Mono',consolas,'Courier New',monospace\">param<span style=\"font-weight: bold\">[</span><span style=\"color: #008000; text-decoration-color: #008000\">'nsteps'</span><span style=\"font-weight: bold\">]</span>=<span style=\"color: #008080; text-decoration-color: #008080; font-weight: bold\">32</span> param<span style=\"font-weight: bold\">[</span><span style=\"color: #008000; text-decoration-color: #008000\">'aexp'</span><span style=\"font-weight: bold\">]</span>=<span style=\"color: #008080; text-decoration-color: #008080; font-weight: bold\">0.016907086635595207</span> z = <span style=\"color: #008080; text-decoration-color: #008080; font-weight: bold\">58.14679575218226</span>                                        \n",
       "</pre>\n"
      ],
      "text/plain": [
       "param\u001b[1m[\u001b[0m\u001b[32m'nsteps'\u001b[0m\u001b[1m]\u001b[0m=\u001b[1;36m32\u001b[0m param\u001b[1m[\u001b[0m\u001b[32m'aexp'\u001b[0m\u001b[1m]\u001b[0m=\u001b[1;36m0.016907086635595207\u001b[0m z = \u001b[1;36m58.14679575218226\u001b[0m                                        \n"
      ]
     },
     "metadata": {},
     "output_type": "display_data"
    },
    {
     "name": "stdout",
     "output_type": "stream",
     "text": [
      "Full solver.\n",
      "Smoothing RHS EFT\n",
      "Smoothing RHS EFT\n",
      "Smoothing RHS EFT\n",
      "Smoothing RHS EFT\n",
      "Smoothing RHS EFT\n",
      "Smoothing RHS EFT\n",
      "Smoothing RHS EFT\n",
      "Smoothing RHS EFT\n",
      "Smoothing RHS EFT\n",
      "Smoothing RHS EFT\n",
      "Smoothing RHS EFT\n",
      "Smoothing RHS EFT\n",
      "Smoothing RHS EFT\n",
      "Smoothing RHS EFT\n",
      "Smoothing RHS EFT\n",
      "Smoothing RHS EFT\n",
      "Smoothing RHS EFT\n",
      "Smoothing RHS EFT\n",
      "Smoothing RHS EFT\n",
      "Smoothing RHS EFT\n",
      "Smoothing RHS EFT\n",
      "Smoothing RHS EFT\n",
      "Smoothing RHS EFT\n",
      "Smoothing RHS EFT\n",
      "Smoothing RHS EFT\n",
      "Smoothing RHS EFT\n",
      "reserr-FAS: 494760.625\n"
     ]
    },
    {
     "data": {
      "text/html": [
       "<pre style=\"white-space:pre;overflow-x:auto;line-height:normal;font-family:Menlo,'DejaVu Sans Mono',consolas,'Courier New',monospace\">param<span style=\"font-weight: bold\">[</span><span style=\"color: #008000; text-decoration-color: #008000\">'nsteps'</span><span style=\"font-weight: bold\">]</span>=<span style=\"color: #008080; text-decoration-color: #008080; font-weight: bold\">33</span> param<span style=\"font-weight: bold\">[</span><span style=\"color: #008000; text-decoration-color: #008000\">'aexp'</span><span style=\"font-weight: bold\">]</span>=<span style=\"color: #008080; text-decoration-color: #008080; font-weight: bold\">0.016909459011324426</span> z = <span style=\"color: #008080; text-decoration-color: #008080; font-weight: bold\">58.13849753148758</span>                                        \n",
       "</pre>\n"
      ],
      "text/plain": [
       "param\u001b[1m[\u001b[0m\u001b[32m'nsteps'\u001b[0m\u001b[1m]\u001b[0m=\u001b[1;36m33\u001b[0m param\u001b[1m[\u001b[0m\u001b[32m'aexp'\u001b[0m\u001b[1m]\u001b[0m=\u001b[1;36m0.016909459011324426\u001b[0m z = \u001b[1;36m58.13849753148758\u001b[0m                                        \n"
      ]
     },
     "metadata": {},
     "output_type": "display_data"
    },
    {
     "name": "stdout",
     "output_type": "stream",
     "text": [
      "Full solver.\n",
      "Smoothing RHS EFT\n",
      "Smoothing RHS EFT\n",
      "Smoothing RHS EFT\n",
      "Smoothing RHS EFT\n",
      "Smoothing RHS EFT\n",
      "Smoothing RHS EFT\n",
      "Smoothing RHS EFT\n",
      "Smoothing RHS EFT\n",
      "Smoothing RHS EFT\n",
      "Smoothing RHS EFT\n",
      "Smoothing RHS EFT\n",
      "Smoothing RHS EFT\n",
      "Smoothing RHS EFT\n",
      "Smoothing RHS EFT\n",
      "Smoothing RHS EFT\n",
      "Smoothing RHS EFT\n",
      "Smoothing RHS EFT\n",
      "Smoothing RHS EFT\n",
      "Smoothing RHS EFT\n",
      "Smoothing RHS EFT\n",
      "Smoothing RHS EFT\n",
      "Smoothing RHS EFT\n",
      "Smoothing RHS EFT\n",
      "Smoothing RHS EFT\n",
      "Smoothing RHS EFT\n",
      "Smoothing RHS EFT\n",
      "reserr-FAS: 497099.1875\n"
     ]
    },
    {
     "data": {
      "text/html": [
       "<pre style=\"white-space:pre;overflow-x:auto;line-height:normal;font-family:Menlo,'DejaVu Sans Mono',consolas,'Courier New',monospace\">param<span style=\"font-weight: bold\">[</span><span style=\"color: #008000; text-decoration-color: #008000\">'nsteps'</span><span style=\"font-weight: bold\">]</span>=<span style=\"color: #008080; text-decoration-color: #008080; font-weight: bold\">34</span> param<span style=\"font-weight: bold\">[</span><span style=\"color: #008000; text-decoration-color: #008000\">'aexp'</span><span style=\"font-weight: bold\">]</span>=<span style=\"color: #008080; text-decoration-color: #008080; font-weight: bold\">0.01691179809979965</span> z = <span style=\"color: #008080; text-decoration-color: #008080; font-weight: bold\">58.130318024069055</span>                                        \n",
       "</pre>\n"
      ],
      "text/plain": [
       "param\u001b[1m[\u001b[0m\u001b[32m'nsteps'\u001b[0m\u001b[1m]\u001b[0m=\u001b[1;36m34\u001b[0m param\u001b[1m[\u001b[0m\u001b[32m'aexp'\u001b[0m\u001b[1m]\u001b[0m=\u001b[1;36m0.01691179809979965\u001b[0m z = \u001b[1;36m58.130318024069055\u001b[0m                                        \n"
      ]
     },
     "metadata": {},
     "output_type": "display_data"
    },
    {
     "name": "stdout",
     "output_type": "stream",
     "text": [
      "Full solver.\n",
      "Smoothing RHS EFT\n",
      "Smoothing RHS EFT\n",
      "Smoothing RHS EFT\n",
      "Smoothing RHS EFT\n",
      "Smoothing RHS EFT\n",
      "Smoothing RHS EFT\n",
      "Smoothing RHS EFT\n",
      "Smoothing RHS EFT\n",
      "Smoothing RHS EFT\n",
      "Smoothing RHS EFT\n",
      "Smoothing RHS EFT\n",
      "Smoothing RHS EFT\n",
      "Smoothing RHS EFT\n",
      "Smoothing RHS EFT\n",
      "Smoothing RHS EFT\n",
      "Smoothing RHS EFT\n",
      "Smoothing RHS EFT\n",
      "Smoothing RHS EFT\n",
      "Smoothing RHS EFT\n",
      "Smoothing RHS EFT\n",
      "Smoothing RHS EFT\n",
      "Smoothing RHS EFT\n",
      "Smoothing RHS EFT\n",
      "Smoothing RHS EFT\n",
      "Smoothing RHS EFT\n",
      "Smoothing RHS EFT\n",
      "reserr-FAS: 498786.5625\n"
     ]
    },
    {
     "data": {
      "text/html": [
       "<pre style=\"white-space:pre;overflow-x:auto;line-height:normal;font-family:Menlo,'DejaVu Sans Mono',consolas,'Courier New',monospace\">param<span style=\"font-weight: bold\">[</span><span style=\"color: #008000; text-decoration-color: #008000\">'nsteps'</span><span style=\"font-weight: bold\">]</span>=<span style=\"color: #008080; text-decoration-color: #008080; font-weight: bold\">35</span> param<span style=\"font-weight: bold\">[</span><span style=\"color: #008000; text-decoration-color: #008000\">'aexp'</span><span style=\"font-weight: bold\">]</span>=<span style=\"color: #008080; text-decoration-color: #008080; font-weight: bold\">0.016914109063757968</span> z = <span style=\"color: #008080; text-decoration-color: #008080; font-weight: bold\">58.1222390863442</span>                                         \n",
       "</pre>\n"
      ],
      "text/plain": [
       "param\u001b[1m[\u001b[0m\u001b[32m'nsteps'\u001b[0m\u001b[1m]\u001b[0m=\u001b[1;36m35\u001b[0m param\u001b[1m[\u001b[0m\u001b[32m'aexp'\u001b[0m\u001b[1m]\u001b[0m=\u001b[1;36m0.016914109063757968\u001b[0m z = \u001b[1;36m58.1222390863442\u001b[0m                                         \n"
      ]
     },
     "metadata": {},
     "output_type": "display_data"
    },
    {
     "name": "stdout",
     "output_type": "stream",
     "text": [
      "Full solver.\n",
      "Smoothing RHS EFT\n",
      "Smoothing RHS EFT\n",
      "Smoothing RHS EFT\n",
      "Smoothing RHS EFT\n",
      "Smoothing RHS EFT\n",
      "Smoothing RHS EFT\n",
      "Smoothing RHS EFT\n",
      "Smoothing RHS EFT\n",
      "Smoothing RHS EFT\n",
      "Smoothing RHS EFT\n",
      "Smoothing RHS EFT\n",
      "Smoothing RHS EFT\n",
      "Smoothing RHS EFT\n",
      "Smoothing RHS EFT\n",
      "Smoothing RHS EFT\n",
      "Smoothing RHS EFT\n",
      "Smoothing RHS EFT\n",
      "Smoothing RHS EFT\n",
      "Smoothing RHS EFT\n",
      "Smoothing RHS EFT\n",
      "Smoothing RHS EFT\n",
      "Smoothing RHS EFT\n",
      "Smoothing RHS EFT\n",
      "Smoothing RHS EFT\n",
      "Smoothing RHS EFT\n",
      "Smoothing RHS EFT\n",
      "reserr-FAS: 499926.3125\n"
     ]
    },
    {
     "data": {
      "text/html": [
       "<pre style=\"white-space:pre;overflow-x:auto;line-height:normal;font-family:Menlo,'DejaVu Sans Mono',consolas,'Courier New',monospace\">param<span style=\"font-weight: bold\">[</span><span style=\"color: #008000; text-decoration-color: #008000\">'nsteps'</span><span style=\"font-weight: bold\">]</span>=<span style=\"color: #008080; text-decoration-color: #008080; font-weight: bold\">36</span> param<span style=\"font-weight: bold\">[</span><span style=\"color: #008000; text-decoration-color: #008000\">'aexp'</span><span style=\"font-weight: bold\">]</span>=<span style=\"color: #008080; text-decoration-color: #008080; font-weight: bold\">0.01691639217073563</span> z = <span style=\"color: #008080; text-decoration-color: #008080; font-weight: bold\">58.11425970189681</span>                                         \n",
       "</pre>\n"
      ],
      "text/plain": [
       "param\u001b[1m[\u001b[0m\u001b[32m'nsteps'\u001b[0m\u001b[1m]\u001b[0m=\u001b[1;36m36\u001b[0m param\u001b[1m[\u001b[0m\u001b[32m'aexp'\u001b[0m\u001b[1m]\u001b[0m=\u001b[1;36m0.01691639217073563\u001b[0m z = \u001b[1;36m58.11425970189681\u001b[0m                                         \n"
      ]
     },
     "metadata": {},
     "output_type": "display_data"
    },
    {
     "name": "stdout",
     "output_type": "stream",
     "text": [
      "Full solver.\n",
      "Smoothing RHS EFT\n",
      "Smoothing RHS EFT\n",
      "Smoothing RHS EFT\n",
      "Smoothing RHS EFT\n",
      "Smoothing RHS EFT\n",
      "Smoothing RHS EFT\n",
      "Smoothing RHS EFT\n",
      "Smoothing RHS EFT\n",
      "Smoothing RHS EFT\n",
      "Smoothing RHS EFT\n",
      "Smoothing RHS EFT\n",
      "Smoothing RHS EFT\n",
      "Smoothing RHS EFT\n",
      "Smoothing RHS EFT\n",
      "Smoothing RHS EFT\n",
      "Smoothing RHS EFT\n",
      "Smoothing RHS EFT\n",
      "Smoothing RHS EFT\n",
      "Smoothing RHS EFT\n",
      "Smoothing RHS EFT\n",
      "Smoothing RHS EFT\n",
      "Smoothing RHS EFT\n",
      "Smoothing RHS EFT\n",
      "Smoothing RHS EFT\n",
      "Smoothing RHS EFT\n",
      "Smoothing RHS EFT\n",
      "reserr-FAS: 500466.375\n"
     ]
    },
    {
     "data": {
      "text/html": [
       "<pre style=\"white-space:pre;overflow-x:auto;line-height:normal;font-family:Menlo,'DejaVu Sans Mono',consolas,'Courier New',monospace\">param<span style=\"font-weight: bold\">[</span><span style=\"color: #008000; text-decoration-color: #008000\">'nsteps'</span><span style=\"font-weight: bold\">]</span>=<span style=\"color: #008080; text-decoration-color: #008080; font-weight: bold\">37</span> param<span style=\"font-weight: bold\">[</span><span style=\"color: #008000; text-decoration-color: #008000\">'aexp'</span><span style=\"font-weight: bold\">]</span>=<span style=\"color: #008080; text-decoration-color: #008080; font-weight: bold\">0.016918641071549948</span> z = <span style=\"color: #008080; text-decoration-color: #008080; font-weight: bold\">58.10640197229435</span>                                        \n",
       "</pre>\n"
      ],
      "text/plain": [
       "param\u001b[1m[\u001b[0m\u001b[32m'nsteps'\u001b[0m\u001b[1m]\u001b[0m=\u001b[1;36m37\u001b[0m param\u001b[1m[\u001b[0m\u001b[32m'aexp'\u001b[0m\u001b[1m]\u001b[0m=\u001b[1;36m0.016918641071549948\u001b[0m z = \u001b[1;36m58.10640197229435\u001b[0m                                        \n"
      ]
     },
     "metadata": {},
     "output_type": "display_data"
    },
    {
     "name": "stdout",
     "output_type": "stream",
     "text": [
      "Full solver.\n",
      "Smoothing RHS EFT\n",
      "Smoothing RHS EFT\n",
      "Smoothing RHS EFT\n",
      "Smoothing RHS EFT\n",
      "Smoothing RHS EFT\n",
      "Smoothing RHS EFT\n",
      "Smoothing RHS EFT\n",
      "Smoothing RHS EFT\n",
      "Smoothing RHS EFT\n",
      "Smoothing RHS EFT\n",
      "Smoothing RHS EFT\n",
      "Smoothing RHS EFT\n",
      "Smoothing RHS EFT\n",
      "Smoothing RHS EFT\n",
      "Smoothing RHS EFT\n",
      "Smoothing RHS EFT\n",
      "Smoothing RHS EFT\n",
      "Smoothing RHS EFT\n",
      "Smoothing RHS EFT\n",
      "Smoothing RHS EFT\n",
      "Smoothing RHS EFT\n",
      "Smoothing RHS EFT\n",
      "Smoothing RHS EFT\n",
      "Smoothing RHS EFT\n",
      "Smoothing RHS EFT\n",
      "Smoothing RHS EFT\n",
      "reserr-FAS: 500538.28125\n"
     ]
    },
    {
     "data": {
      "text/html": [
       "<pre style=\"white-space:pre;overflow-x:auto;line-height:normal;font-family:Menlo,'DejaVu Sans Mono',consolas,'Courier New',monospace\">param<span style=\"font-weight: bold\">[</span><span style=\"color: #008000; text-decoration-color: #008000\">'nsteps'</span><span style=\"font-weight: bold\">]</span>=<span style=\"color: #008080; text-decoration-color: #008080; font-weight: bold\">38</span> param<span style=\"font-weight: bold\">[</span><span style=\"color: #008000; text-decoration-color: #008000\">'aexp'</span><span style=\"font-weight: bold\">]</span>=<span style=\"color: #008080; text-decoration-color: #008080; font-weight: bold\">0.01692086138456092</span> z = <span style=\"color: #008080; text-decoration-color: #008080; font-weight: bold\">58.098646178404884</span>                                        \n",
       "</pre>\n"
      ],
      "text/plain": [
       "param\u001b[1m[\u001b[0m\u001b[32m'nsteps'\u001b[0m\u001b[1m]\u001b[0m=\u001b[1;36m38\u001b[0m param\u001b[1m[\u001b[0m\u001b[32m'aexp'\u001b[0m\u001b[1m]\u001b[0m=\u001b[1;36m0.01692086138456092\u001b[0m z = \u001b[1;36m58.098646178404884\u001b[0m                                        \n"
      ]
     },
     "metadata": {},
     "output_type": "display_data"
    },
    {
     "name": "stdout",
     "output_type": "stream",
     "text": [
      "Full solver.\n",
      "Smoothing RHS EFT\n",
      "Smoothing RHS EFT\n",
      "Smoothing RHS EFT\n",
      "Smoothing RHS EFT\n",
      "Smoothing RHS EFT\n",
      "Smoothing RHS EFT\n",
      "Smoothing RHS EFT\n",
      "Smoothing RHS EFT\n",
      "Smoothing RHS EFT\n",
      "Smoothing RHS EFT\n",
      "Smoothing RHS EFT\n",
      "Smoothing RHS EFT\n",
      "Smoothing RHS EFT\n",
      "Smoothing RHS EFT\n",
      "Smoothing RHS EFT\n",
      "Smoothing RHS EFT\n",
      "Smoothing RHS EFT\n",
      "Smoothing RHS EFT\n",
      "Smoothing RHS EFT\n",
      "Smoothing RHS EFT\n",
      "Smoothing RHS EFT\n",
      "Smoothing RHS EFT\n",
      "Smoothing RHS EFT\n",
      "Smoothing RHS EFT\n",
      "Smoothing RHS EFT\n",
      "Smoothing RHS EFT\n",
      "reserr-FAS: 500089.28125\n"
     ]
    },
    {
     "data": {
      "text/html": [
       "<pre style=\"white-space:pre;overflow-x:auto;line-height:normal;font-family:Menlo,'DejaVu Sans Mono',consolas,'Courier New',monospace\">param<span style=\"font-weight: bold\">[</span><span style=\"color: #008000; text-decoration-color: #008000\">'nsteps'</span><span style=\"font-weight: bold\">]</span>=<span style=\"color: #008080; text-decoration-color: #008080; font-weight: bold\">39</span> param<span style=\"font-weight: bold\">[</span><span style=\"color: #008000; text-decoration-color: #008000\">'aexp'</span><span style=\"font-weight: bold\">]</span>=<span style=\"color: #008080; text-decoration-color: #008080; font-weight: bold\">0.01692305753940632</span> z = <span style=\"color: #008080; text-decoration-color: #008080; font-weight: bold\">58.0909767736381</span>                                          \n",
       "</pre>\n"
      ],
      "text/plain": [
       "param\u001b[1m[\u001b[0m\u001b[32m'nsteps'\u001b[0m\u001b[1m]\u001b[0m=\u001b[1;36m39\u001b[0m param\u001b[1m[\u001b[0m\u001b[32m'aexp'\u001b[0m\u001b[1m]\u001b[0m=\u001b[1;36m0.01692305753940632\u001b[0m z = \u001b[1;36m58.0909767736381\u001b[0m                                          \n"
      ]
     },
     "metadata": {},
     "output_type": "display_data"
    },
    {
     "name": "stdout",
     "output_type": "stream",
     "text": [
      "Full solver.\n",
      "Smoothing RHS EFT\n",
      "Smoothing RHS EFT\n",
      "Smoothing RHS EFT\n",
      "Smoothing RHS EFT\n",
      "Smoothing RHS EFT\n",
      "Smoothing RHS EFT\n",
      "Smoothing RHS EFT\n",
      "Smoothing RHS EFT\n",
      "Smoothing RHS EFT\n",
      "Smoothing RHS EFT\n",
      "Smoothing RHS EFT\n",
      "Smoothing RHS EFT\n",
      "Smoothing RHS EFT\n",
      "Smoothing RHS EFT\n",
      "Smoothing RHS EFT\n",
      "Smoothing RHS EFT\n",
      "Smoothing RHS EFT\n",
      "Smoothing RHS EFT\n",
      "Smoothing RHS EFT\n",
      "Smoothing RHS EFT\n",
      "Smoothing RHS EFT\n",
      "Smoothing RHS EFT\n",
      "Smoothing RHS EFT\n",
      "Smoothing RHS EFT\n",
      "Smoothing RHS EFT\n",
      "Smoothing RHS EFT\n",
      "reserr-FAS: 499240.90625\n"
     ]
    },
    {
     "data": {
      "text/html": [
       "<pre style=\"white-space:pre;overflow-x:auto;line-height:normal;font-family:Menlo,'DejaVu Sans Mono',consolas,'Courier New',monospace\">param<span style=\"font-weight: bold\">[</span><span style=\"color: #008000; text-decoration-color: #008000\">'nsteps'</span><span style=\"font-weight: bold\">]</span>=<span style=\"color: #008080; text-decoration-color: #008080; font-weight: bold\">40</span> param<span style=\"font-weight: bold\">[</span><span style=\"color: #008000; text-decoration-color: #008000\">'aexp'</span><span style=\"font-weight: bold\">]</span>=<span style=\"color: #008080; text-decoration-color: #008080; font-weight: bold\">0.01692523308816329</span> z = <span style=\"color: #008080; text-decoration-color: #008080; font-weight: bold\">58.08338129176802</span>                                         \n",
       "</pre>\n"
      ],
      "text/plain": [
       "param\u001b[1m[\u001b[0m\u001b[32m'nsteps'\u001b[0m\u001b[1m]\u001b[0m=\u001b[1;36m40\u001b[0m param\u001b[1m[\u001b[0m\u001b[32m'aexp'\u001b[0m\u001b[1m]\u001b[0m=\u001b[1;36m0.01692523308816329\u001b[0m z = \u001b[1;36m58.08338129176802\u001b[0m                                         \n"
      ]
     },
     "metadata": {},
     "output_type": "display_data"
    },
    {
     "name": "stdout",
     "output_type": "stream",
     "text": [
      "Full solver.\n",
      "Smoothing RHS EFT\n",
      "Smoothing RHS EFT\n",
      "Smoothing RHS EFT\n",
      "Smoothing RHS EFT\n",
      "Smoothing RHS EFT\n",
      "Smoothing RHS EFT\n",
      "Smoothing RHS EFT\n",
      "Smoothing RHS EFT\n",
      "Smoothing RHS EFT\n",
      "Smoothing RHS EFT\n",
      "Smoothing RHS EFT\n",
      "Smoothing RHS EFT\n",
      "Smoothing RHS EFT\n",
      "Smoothing RHS EFT\n",
      "Smoothing RHS EFT\n",
      "Smoothing RHS EFT\n",
      "Smoothing RHS EFT\n",
      "Smoothing RHS EFT\n",
      "Smoothing RHS EFT\n",
      "Smoothing RHS EFT\n",
      "Smoothing RHS EFT\n",
      "Smoothing RHS EFT\n",
      "Smoothing RHS EFT\n",
      "Smoothing RHS EFT\n",
      "Smoothing RHS EFT\n",
      "Smoothing RHS EFT\n",
      "reserr-FAS: 497960.5\n"
     ]
    },
    {
     "data": {
      "text/html": [
       "<pre style=\"white-space:pre;overflow-x:auto;line-height:normal;font-family:Menlo,'DejaVu Sans Mono',consolas,'Courier New',monospace\">param<span style=\"font-weight: bold\">[</span><span style=\"color: #008000; text-decoration-color: #008000\">'nsteps'</span><span style=\"font-weight: bold\">]</span>=<span style=\"color: #008080; text-decoration-color: #008080; font-weight: bold\">41</span> param<span style=\"font-weight: bold\">[</span><span style=\"color: #008000; text-decoration-color: #008000\">'aexp'</span><span style=\"font-weight: bold\">]</span>=<span style=\"color: #008080; text-decoration-color: #008080; font-weight: bold\">0.0169273864396838</span> z = <span style=\"color: #008080; text-decoration-color: #008080; font-weight: bold\">58.07586522959299</span>                                          \n",
       "</pre>\n"
      ],
      "text/plain": [
       "param\u001b[1m[\u001b[0m\u001b[32m'nsteps'\u001b[0m\u001b[1m]\u001b[0m=\u001b[1;36m41\u001b[0m param\u001b[1m[\u001b[0m\u001b[32m'aexp'\u001b[0m\u001b[1m]\u001b[0m=\u001b[1;36m0.0169273864396838\u001b[0m z = \u001b[1;36m58.07586522959299\u001b[0m                                          \n"
      ]
     },
     "metadata": {},
     "output_type": "display_data"
    },
    {
     "name": "stdout",
     "output_type": "stream",
     "text": [
      "Full solver.\n",
      "Smoothing RHS EFT\n",
      "Smoothing RHS EFT\n",
      "Smoothing RHS EFT\n",
      "Smoothing RHS EFT\n",
      "Smoothing RHS EFT\n",
      "Smoothing RHS EFT\n",
      "Smoothing RHS EFT\n",
      "Smoothing RHS EFT\n",
      "Smoothing RHS EFT\n",
      "Smoothing RHS EFT\n",
      "Smoothing RHS EFT\n",
      "Smoothing RHS EFT\n",
      "Smoothing RHS EFT\n",
      "Smoothing RHS EFT\n",
      "Smoothing RHS EFT\n",
      "Smoothing RHS EFT\n",
      "Smoothing RHS EFT\n",
      "Smoothing RHS EFT\n",
      "Smoothing RHS EFT\n",
      "Smoothing RHS EFT\n",
      "Smoothing RHS EFT\n",
      "Smoothing RHS EFT\n",
      "Smoothing RHS EFT\n",
      "Smoothing RHS EFT\n",
      "Smoothing RHS EFT\n",
      "Smoothing RHS EFT\n",
      "reserr-FAS: 496302.8125\n"
     ]
    },
    {
     "data": {
      "text/html": [
       "<pre style=\"white-space:pre;overflow-x:auto;line-height:normal;font-family:Menlo,'DejaVu Sans Mono',consolas,'Courier New',monospace\">param<span style=\"font-weight: bold\">[</span><span style=\"color: #008000; text-decoration-color: #008000\">'nsteps'</span><span style=\"font-weight: bold\">]</span>=<span style=\"color: #008080; text-decoration-color: #008080; font-weight: bold\">42</span> param<span style=\"font-weight: bold\">[</span><span style=\"color: #008000; text-decoration-color: #008000\">'aexp'</span><span style=\"font-weight: bold\">]</span>=<span style=\"color: #008080; text-decoration-color: #008080; font-weight: bold\">0.016929520960751343</span> z = <span style=\"color: #008080; text-decoration-color: #008080; font-weight: bold\">58.06841678027134</span>                                        \n",
       "</pre>\n"
      ],
      "text/plain": [
       "param\u001b[1m[\u001b[0m\u001b[32m'nsteps'\u001b[0m\u001b[1m]\u001b[0m=\u001b[1;36m42\u001b[0m param\u001b[1m[\u001b[0m\u001b[32m'aexp'\u001b[0m\u001b[1m]\u001b[0m=\u001b[1;36m0.016929520960751343\u001b[0m z = \u001b[1;36m58.06841678027134\u001b[0m                                        \n"
      ]
     },
     "metadata": {},
     "output_type": "display_data"
    },
    {
     "name": "stdout",
     "output_type": "stream",
     "text": [
      "Full solver.\n",
      "Smoothing RHS EFT\n",
      "Smoothing RHS EFT\n",
      "Smoothing RHS EFT\n",
      "Smoothing RHS EFT\n",
      "Smoothing RHS EFT\n",
      "Smoothing RHS EFT\n",
      "Smoothing RHS EFT\n",
      "Smoothing RHS EFT\n",
      "Smoothing RHS EFT\n",
      "Smoothing RHS EFT\n",
      "Smoothing RHS EFT\n",
      "Smoothing RHS EFT\n",
      "Smoothing RHS EFT\n",
      "Smoothing RHS EFT\n",
      "Smoothing RHS EFT\n",
      "Smoothing RHS EFT\n",
      "Smoothing RHS EFT\n",
      "Smoothing RHS EFT\n",
      "Smoothing RHS EFT\n",
      "Smoothing RHS EFT\n",
      "Smoothing RHS EFT\n",
      "Smoothing RHS EFT\n",
      "Smoothing RHS EFT\n",
      "Smoothing RHS EFT\n",
      "Smoothing RHS EFT\n",
      "Smoothing RHS EFT\n",
      "reserr-FAS: 494294.8125\n"
     ]
    },
    {
     "data": {
      "text/html": [
       "<pre style=\"white-space:pre;overflow-x:auto;line-height:normal;font-family:Menlo,'DejaVu Sans Mono',consolas,'Courier New',monospace\">param<span style=\"font-weight: bold\">[</span><span style=\"color: #008000; text-decoration-color: #008000\">'nsteps'</span><span style=\"font-weight: bold\">]</span>=<span style=\"color: #008080; text-decoration-color: #008080; font-weight: bold\">43</span> param<span style=\"font-weight: bold\">[</span><span style=\"color: #008000; text-decoration-color: #008000\">'aexp'</span><span style=\"font-weight: bold\">]</span>=<span style=\"color: #008080; text-decoration-color: #008080; font-weight: bold\">0.016931639763801586</span> z = <span style=\"color: #008080; text-decoration-color: #008080; font-weight: bold\">58.06102503656589</span>                                        \n",
       "</pre>\n"
      ],
      "text/plain": [
       "param\u001b[1m[\u001b[0m\u001b[32m'nsteps'\u001b[0m\u001b[1m]\u001b[0m=\u001b[1;36m43\u001b[0m param\u001b[1m[\u001b[0m\u001b[32m'aexp'\u001b[0m\u001b[1m]\u001b[0m=\u001b[1;36m0.016931639763801586\u001b[0m z = \u001b[1;36m58.06102503656589\u001b[0m                                        \n"
      ]
     },
     "metadata": {},
     "output_type": "display_data"
    },
    {
     "name": "stdout",
     "output_type": "stream",
     "text": [
      "Full solver.\n",
      "Smoothing RHS EFT\n",
      "Smoothing RHS EFT\n",
      "Smoothing RHS EFT\n",
      "Smoothing RHS EFT\n",
      "Smoothing RHS EFT\n",
      "Smoothing RHS EFT\n",
      "Smoothing RHS EFT\n",
      "Smoothing RHS EFT\n",
      "Smoothing RHS EFT\n",
      "Smoothing RHS EFT\n",
      "Smoothing RHS EFT\n",
      "Smoothing RHS EFT\n",
      "Smoothing RHS EFT\n",
      "Smoothing RHS EFT\n",
      "Smoothing RHS EFT\n",
      "Smoothing RHS EFT\n",
      "Smoothing RHS EFT\n",
      "Smoothing RHS EFT\n",
      "Smoothing RHS EFT\n",
      "Smoothing RHS EFT\n",
      "Smoothing RHS EFT\n",
      "Smoothing RHS EFT\n",
      "Smoothing RHS EFT\n",
      "Smoothing RHS EFT\n",
      "Smoothing RHS EFT\n",
      "Smoothing RHS EFT\n",
      "reserr-FAS: 491964.3125\n"
     ]
    },
    {
     "data": {
      "text/html": [
       "<pre style=\"white-space:pre;overflow-x:auto;line-height:normal;font-family:Menlo,'DejaVu Sans Mono',consolas,'Courier New',monospace\">param<span style=\"font-weight: bold\">[</span><span style=\"color: #008000; text-decoration-color: #008000\">'nsteps'</span><span style=\"font-weight: bold\">]</span>=<span style=\"color: #008080; text-decoration-color: #008080; font-weight: bold\">44</span> param<span style=\"font-weight: bold\">[</span><span style=\"color: #008000; text-decoration-color: #008000\">'aexp'</span><span style=\"font-weight: bold\">]</span>=<span style=\"color: #008080; text-decoration-color: #008080; font-weight: bold\">0.016933745768199417</span> z = <span style=\"color: #008080; text-decoration-color: #008080; font-weight: bold\">58.053679775796645</span>                                       \n",
       "</pre>\n"
      ],
      "text/plain": [
       "param\u001b[1m[\u001b[0m\u001b[32m'nsteps'\u001b[0m\u001b[1m]\u001b[0m=\u001b[1;36m44\u001b[0m param\u001b[1m[\u001b[0m\u001b[32m'aexp'\u001b[0m\u001b[1m]\u001b[0m=\u001b[1;36m0.016933745768199417\u001b[0m z = \u001b[1;36m58.053679775796645\u001b[0m                                       \n"
      ]
     },
     "metadata": {},
     "output_type": "display_data"
    },
    {
     "name": "stdout",
     "output_type": "stream",
     "text": [
      "Full solver.\n",
      "Smoothing RHS EFT\n",
      "Smoothing RHS EFT\n",
      "Smoothing RHS EFT\n",
      "Smoothing RHS EFT\n",
      "Smoothing RHS EFT\n",
      "Smoothing RHS EFT\n",
      "Smoothing RHS EFT\n",
      "Smoothing RHS EFT\n",
      "Smoothing RHS EFT\n",
      "Smoothing RHS EFT\n",
      "Smoothing RHS EFT\n",
      "Smoothing RHS EFT\n",
      "Smoothing RHS EFT\n",
      "Smoothing RHS EFT\n",
      "Smoothing RHS EFT\n",
      "Smoothing RHS EFT\n",
      "Smoothing RHS EFT\n",
      "Smoothing RHS EFT\n",
      "Smoothing RHS EFT\n",
      "Smoothing RHS EFT\n",
      "Smoothing RHS EFT\n",
      "Smoothing RHS EFT\n",
      "Smoothing RHS EFT\n",
      "Smoothing RHS EFT\n",
      "Smoothing RHS EFT\n",
      "Smoothing RHS EFT\n",
      "reserr-FAS: 489331.96875\n"
     ]
    },
    {
     "data": {
      "text/html": [
       "<pre style=\"white-space:pre;overflow-x:auto;line-height:normal;font-family:Menlo,'DejaVu Sans Mono',consolas,'Courier New',monospace\">param<span style=\"font-weight: bold\">[</span><span style=\"color: #008000; text-decoration-color: #008000\">'nsteps'</span><span style=\"font-weight: bold\">]</span>=<span style=\"color: #008080; text-decoration-color: #008080; font-weight: bold\">45</span> param<span style=\"font-weight: bold\">[</span><span style=\"color: #008000; text-decoration-color: #008000\">'aexp'</span><span style=\"font-weight: bold\">]</span>=<span style=\"color: #008080; text-decoration-color: #008080; font-weight: bold\">0.016935841550285873</span> z = <span style=\"color: #008080; text-decoration-color: #008080; font-weight: bold\">58.04637198162262</span>                                        \n",
       "</pre>\n"
      ],
      "text/plain": [
       "param\u001b[1m[\u001b[0m\u001b[32m'nsteps'\u001b[0m\u001b[1m]\u001b[0m=\u001b[1;36m45\u001b[0m param\u001b[1m[\u001b[0m\u001b[32m'aexp'\u001b[0m\u001b[1m]\u001b[0m=\u001b[1;36m0.016935841550285873\u001b[0m z = \u001b[1;36m58.04637198162262\u001b[0m                                        \n"
      ]
     },
     "metadata": {},
     "output_type": "display_data"
    },
    {
     "name": "stdout",
     "output_type": "stream",
     "text": [
      "Full solver.\n",
      "Smoothing RHS EFT\n",
      "Smoothing RHS EFT\n",
      "Smoothing RHS EFT\n",
      "Smoothing RHS EFT\n",
      "Smoothing RHS EFT\n",
      "Smoothing RHS EFT\n",
      "Smoothing RHS EFT\n",
      "Smoothing RHS EFT\n",
      "Smoothing RHS EFT\n",
      "Smoothing RHS EFT\n",
      "Smoothing RHS EFT\n",
      "Smoothing RHS EFT\n",
      "Smoothing RHS EFT\n",
      "Smoothing RHS EFT\n",
      "Smoothing RHS EFT\n",
      "Smoothing RHS EFT\n",
      "Smoothing RHS EFT\n",
      "Smoothing RHS EFT\n",
      "Smoothing RHS EFT\n",
      "Smoothing RHS EFT\n",
      "Smoothing RHS EFT\n",
      "Smoothing RHS EFT\n",
      "Smoothing RHS EFT\n",
      "Smoothing RHS EFT\n",
      "Smoothing RHS EFT\n",
      "Smoothing RHS EFT\n",
      "reserr-FAS: 486421.65625\n"
     ]
    },
    {
     "data": {
      "text/html": [
       "<pre style=\"white-space:pre;overflow-x:auto;line-height:normal;font-family:Menlo,'DejaVu Sans Mono',consolas,'Courier New',monospace\">param<span style=\"font-weight: bold\">[</span><span style=\"color: #008000; text-decoration-color: #008000\">'nsteps'</span><span style=\"font-weight: bold\">]</span>=<span style=\"color: #008080; text-decoration-color: #008080; font-weight: bold\">46</span> param<span style=\"font-weight: bold\">[</span><span style=\"color: #008000; text-decoration-color: #008000\">'aexp'</span><span style=\"font-weight: bold\">]</span>=<span style=\"color: #008080; text-decoration-color: #008080; font-weight: bold\">0.016937926514846893</span> z = <span style=\"color: #008080; text-decoration-color: #008080; font-weight: bold\">58.03910370159256</span>                                        \n",
       "</pre>\n"
      ],
      "text/plain": [
       "param\u001b[1m[\u001b[0m\u001b[32m'nsteps'\u001b[0m\u001b[1m]\u001b[0m=\u001b[1;36m46\u001b[0m param\u001b[1m[\u001b[0m\u001b[32m'aexp'\u001b[0m\u001b[1m]\u001b[0m=\u001b[1;36m0.016937926514846893\u001b[0m z = \u001b[1;36m58.03910370159256\u001b[0m                                        \n"
      ]
     },
     "metadata": {},
     "output_type": "display_data"
    },
    {
     "name": "stdout",
     "output_type": "stream",
     "text": [
      "Full solver.\n",
      "Smoothing RHS EFT\n",
      "Smoothing RHS EFT\n",
      "Smoothing RHS EFT\n",
      "Smoothing RHS EFT\n",
      "Smoothing RHS EFT\n",
      "Smoothing RHS EFT\n",
      "Smoothing RHS EFT\n",
      "Smoothing RHS EFT\n",
      "Smoothing RHS EFT\n",
      "Smoothing RHS EFT\n",
      "Smoothing RHS EFT\n",
      "Smoothing RHS EFT\n",
      "Smoothing RHS EFT\n",
      "Smoothing RHS EFT\n",
      "Smoothing RHS EFT\n",
      "Smoothing RHS EFT\n",
      "Smoothing RHS EFT\n",
      "Smoothing RHS EFT\n",
      "Smoothing RHS EFT\n",
      "Smoothing RHS EFT\n",
      "Smoothing RHS EFT\n",
      "Smoothing RHS EFT\n",
      "Smoothing RHS EFT\n",
      "Smoothing RHS EFT\n",
      "Smoothing RHS EFT\n",
      "Smoothing RHS EFT\n",
      "reserr-FAS: 483272.59375\n"
     ]
    },
    {
     "data": {
      "text/html": [
       "<pre style=\"white-space:pre;overflow-x:auto;line-height:normal;font-family:Menlo,'DejaVu Sans Mono',consolas,'Courier New',monospace\">param<span style=\"font-weight: bold\">[</span><span style=\"color: #008000; text-decoration-color: #008000\">'nsteps'</span><span style=\"font-weight: bold\">]</span>=<span style=\"color: #008080; text-decoration-color: #008080; font-weight: bold\">47</span> param<span style=\"font-weight: bold\">[</span><span style=\"color: #008000; text-decoration-color: #008000\">'aexp'</span><span style=\"font-weight: bold\">]</span>=<span style=\"color: #008080; text-decoration-color: #008080; font-weight: bold\">0.01693999235357038</span> z = <span style=\"color: #008080; text-decoration-color: #008080; font-weight: bold\">58.031903859698836</span>                                        \n",
       "</pre>\n"
      ],
      "text/plain": [
       "param\u001b[1m[\u001b[0m\u001b[32m'nsteps'\u001b[0m\u001b[1m]\u001b[0m=\u001b[1;36m47\u001b[0m param\u001b[1m[\u001b[0m\u001b[32m'aexp'\u001b[0m\u001b[1m]\u001b[0m=\u001b[1;36m0.01693999235357038\u001b[0m z = \u001b[1;36m58.031903859698836\u001b[0m                                        \n"
      ]
     },
     "metadata": {},
     "output_type": "display_data"
    },
    {
     "name": "stdout",
     "output_type": "stream",
     "text": [
      "Full solver.\n",
      "Smoothing RHS EFT\n",
      "Smoothing RHS EFT\n",
      "Smoothing RHS EFT\n",
      "Smoothing RHS EFT\n",
      "Smoothing RHS EFT\n",
      "Smoothing RHS EFT\n",
      "Smoothing RHS EFT\n",
      "Smoothing RHS EFT\n",
      "Smoothing RHS EFT\n",
      "Smoothing RHS EFT\n",
      "Smoothing RHS EFT\n",
      "Smoothing RHS EFT\n",
      "Smoothing RHS EFT\n",
      "Smoothing RHS EFT\n",
      "Smoothing RHS EFT\n",
      "Smoothing RHS EFT\n",
      "Smoothing RHS EFT\n",
      "Smoothing RHS EFT\n",
      "Smoothing RHS EFT\n",
      "Smoothing RHS EFT\n",
      "Smoothing RHS EFT\n",
      "Smoothing RHS EFT\n",
      "Smoothing RHS EFT\n",
      "Smoothing RHS EFT\n",
      "Smoothing RHS EFT\n",
      "Smoothing RHS EFT\n",
      "reserr-FAS: 479908.1875\n"
     ]
    },
    {
     "data": {
      "text/html": [
       "<pre style=\"white-space:pre;overflow-x:auto;line-height:normal;font-family:Menlo,'DejaVu Sans Mono',consolas,'Courier New',monospace\">param<span style=\"font-weight: bold\">[</span><span style=\"color: #008000; text-decoration-color: #008000\">'nsteps'</span><span style=\"font-weight: bold\">]</span>=<span style=\"color: #008080; text-decoration-color: #008080; font-weight: bold\">48</span> param<span style=\"font-weight: bold\">[</span><span style=\"color: #008000; text-decoration-color: #008000\">'aexp'</span><span style=\"font-weight: bold\">]</span>=<span style=\"color: #008080; text-decoration-color: #008080; font-weight: bold\">0.016942040631455466</span> z = <span style=\"color: #008080; text-decoration-color: #008080; font-weight: bold\">58.02476695418546</span>                                        \n",
       "</pre>\n"
      ],
      "text/plain": [
       "param\u001b[1m[\u001b[0m\u001b[32m'nsteps'\u001b[0m\u001b[1m]\u001b[0m=\u001b[1;36m48\u001b[0m param\u001b[1m[\u001b[0m\u001b[32m'aexp'\u001b[0m\u001b[1m]\u001b[0m=\u001b[1;36m0.016942040631455466\u001b[0m z = \u001b[1;36m58.02476695418546\u001b[0m                                        \n"
      ]
     },
     "metadata": {},
     "output_type": "display_data"
    },
    {
     "name": "stdout",
     "output_type": "stream",
     "text": [
      "Full solver.\n",
      "Smoothing RHS EFT\n",
      "Smoothing RHS EFT\n",
      "Smoothing RHS EFT\n",
      "Smoothing RHS EFT\n",
      "Smoothing RHS EFT\n",
      "Smoothing RHS EFT\n",
      "Smoothing RHS EFT\n",
      "Smoothing RHS EFT\n",
      "Smoothing RHS EFT\n",
      "Smoothing RHS EFT\n",
      "Smoothing RHS EFT\n",
      "Smoothing RHS EFT\n",
      "Smoothing RHS EFT\n",
      "Smoothing RHS EFT\n",
      "Smoothing RHS EFT\n",
      "Smoothing RHS EFT\n",
      "Smoothing RHS EFT\n",
      "Smoothing RHS EFT\n",
      "Smoothing RHS EFT\n",
      "Smoothing RHS EFT\n",
      "Smoothing RHS EFT\n",
      "Smoothing RHS EFT\n",
      "Smoothing RHS EFT\n",
      "Smoothing RHS EFT\n",
      "Smoothing RHS EFT\n",
      "Smoothing RHS EFT\n",
      "reserr-FAS: 476348.15625\n"
     ]
    },
    {
     "data": {
      "text/html": [
       "<pre style=\"white-space:pre;overflow-x:auto;line-height:normal;font-family:Menlo,'DejaVu Sans Mono',consolas,'Courier New',monospace\">param<span style=\"font-weight: bold\">[</span><span style=\"color: #008000; text-decoration-color: #008000\">'nsteps'</span><span style=\"font-weight: bold\">]</span>=<span style=\"color: #008080; text-decoration-color: #008080; font-weight: bold\">49</span> param<span style=\"font-weight: bold\">[</span><span style=\"color: #008000; text-decoration-color: #008000\">'aexp'</span><span style=\"font-weight: bold\">]</span>=<span style=\"color: #008080; text-decoration-color: #008080; font-weight: bold\">0.01694407398764472</span> z = <span style=\"color: #008080; text-decoration-color: #008080; font-weight: bold\">58.01768374767367</span>                                         \n",
       "</pre>\n"
      ],
      "text/plain": [
       "param\u001b[1m[\u001b[0m\u001b[32m'nsteps'\u001b[0m\u001b[1m]\u001b[0m=\u001b[1;36m49\u001b[0m param\u001b[1m[\u001b[0m\u001b[32m'aexp'\u001b[0m\u001b[1m]\u001b[0m=\u001b[1;36m0.01694407398764472\u001b[0m z = \u001b[1;36m58.01768374767367\u001b[0m                                         \n"
      ]
     },
     "metadata": {},
     "output_type": "display_data"
    },
    {
     "name": "stdout",
     "output_type": "stream",
     "text": [
      "Full solver.\n",
      "Smoothing RHS EFT\n",
      "Smoothing RHS EFT\n",
      "Smoothing RHS EFT\n",
      "Smoothing RHS EFT\n",
      "Smoothing RHS EFT\n",
      "Smoothing RHS EFT\n",
      "Smoothing RHS EFT\n",
      "Smoothing RHS EFT\n",
      "Smoothing RHS EFT\n",
      "Smoothing RHS EFT\n",
      "Smoothing RHS EFT\n",
      "Smoothing RHS EFT\n",
      "Smoothing RHS EFT\n",
      "Smoothing RHS EFT\n",
      "Smoothing RHS EFT\n",
      "Smoothing RHS EFT\n",
      "Smoothing RHS EFT\n",
      "Smoothing RHS EFT\n",
      "Smoothing RHS EFT\n",
      "Smoothing RHS EFT\n",
      "Smoothing RHS EFT\n",
      "Smoothing RHS EFT\n",
      "Smoothing RHS EFT\n",
      "Smoothing RHS EFT\n",
      "Smoothing RHS EFT\n",
      "Smoothing RHS EFT\n",
      "reserr-FAS: 472620.21875\n"
     ]
    },
    {
     "data": {
      "text/html": [
       "<pre style=\"white-space:pre;overflow-x:auto;line-height:normal;font-family:Menlo,'DejaVu Sans Mono',consolas,'Courier New',monospace\">param<span style=\"font-weight: bold\">[</span><span style=\"color: #008000; text-decoration-color: #008000\">'nsteps'</span><span style=\"font-weight: bold\">]</span>=<span style=\"color: #008080; text-decoration-color: #008080; font-weight: bold\">50</span> param<span style=\"font-weight: bold\">[</span><span style=\"color: #008000; text-decoration-color: #008000\">'aexp'</span><span style=\"font-weight: bold\">]</span>=<span style=\"color: #008080; text-decoration-color: #008080; font-weight: bold\">0.016946096081270557</span> z = <span style=\"color: #008080; text-decoration-color: #008080; font-weight: bold\">58.010641460084514</span>                                       \n",
       "</pre>\n"
      ],
      "text/plain": [
       "param\u001b[1m[\u001b[0m\u001b[32m'nsteps'\u001b[0m\u001b[1m]\u001b[0m=\u001b[1;36m50\u001b[0m param\u001b[1m[\u001b[0m\u001b[32m'aexp'\u001b[0m\u001b[1m]\u001b[0m=\u001b[1;36m0.016946096081270557\u001b[0m z = \u001b[1;36m58.010641460084514\u001b[0m                                       \n"
      ]
     },
     "metadata": {},
     "output_type": "display_data"
    },
    {
     "name": "stdout",
     "output_type": "stream",
     "text": [
      "Full solver.\n",
      "Smoothing RHS EFT\n",
      "Smoothing RHS EFT\n",
      "Smoothing RHS EFT\n",
      "Smoothing RHS EFT\n",
      "Smoothing RHS EFT\n",
      "Smoothing RHS EFT\n",
      "Smoothing RHS EFT\n",
      "Smoothing RHS EFT\n",
      "Smoothing RHS EFT\n",
      "Smoothing RHS EFT\n",
      "Smoothing RHS EFT\n",
      "Smoothing RHS EFT\n",
      "Smoothing RHS EFT\n",
      "Smoothing RHS EFT\n",
      "Smoothing RHS EFT\n",
      "Smoothing RHS EFT\n",
      "Smoothing RHS EFT\n",
      "Smoothing RHS EFT\n",
      "Smoothing RHS EFT\n",
      "Smoothing RHS EFT\n",
      "Smoothing RHS EFT\n",
      "Smoothing RHS EFT\n",
      "Smoothing RHS EFT\n",
      "Smoothing RHS EFT\n",
      "Smoothing RHS EFT\n",
      "Smoothing RHS EFT\n",
      "reserr-FAS: 468765.6875\n"
     ]
    },
    {
     "data": {
      "text/html": [
       "<pre style=\"white-space:pre;overflow-x:auto;line-height:normal;font-family:Menlo,'DejaVu Sans Mono',consolas,'Courier New',monospace\">param<span style=\"font-weight: bold\">[</span><span style=\"color: #008000; text-decoration-color: #008000\">'nsteps'</span><span style=\"font-weight: bold\">]</span>=<span style=\"color: #008080; text-decoration-color: #008080; font-weight: bold\">51</span> param<span style=\"font-weight: bold\">[</span><span style=\"color: #008000; text-decoration-color: #008000\">'aexp'</span><span style=\"font-weight: bold\">]</span>=<span style=\"color: #008080; text-decoration-color: #008080; font-weight: bold\">0.016948101644521915</span> z = <span style=\"color: #008080; text-decoration-color: #008080; font-weight: bold\">58.00365840225103</span>                                        \n",
       "</pre>\n"
      ],
      "text/plain": [
       "param\u001b[1m[\u001b[0m\u001b[32m'nsteps'\u001b[0m\u001b[1m]\u001b[0m=\u001b[1;36m51\u001b[0m param\u001b[1m[\u001b[0m\u001b[32m'aexp'\u001b[0m\u001b[1m]\u001b[0m=\u001b[1;36m0.016948101644521915\u001b[0m z = \u001b[1;36m58.00365840225103\u001b[0m                                        \n"
      ]
     },
     "metadata": {},
     "output_type": "display_data"
    },
    {
     "name": "stdout",
     "output_type": "stream",
     "text": [
      "Full solver.\n",
      "Smoothing RHS EFT\n",
      "Smoothing RHS EFT\n",
      "Smoothing RHS EFT\n",
      "Smoothing RHS EFT\n",
      "Smoothing RHS EFT\n",
      "Smoothing RHS EFT\n",
      "Smoothing RHS EFT\n",
      "Smoothing RHS EFT\n",
      "Smoothing RHS EFT\n",
      "Smoothing RHS EFT\n",
      "Smoothing RHS EFT\n",
      "Smoothing RHS EFT\n",
      "Smoothing RHS EFT\n",
      "Smoothing RHS EFT\n",
      "Smoothing RHS EFT\n",
      "Smoothing RHS EFT\n",
      "Smoothing RHS EFT\n",
      "Smoothing RHS EFT\n",
      "Smoothing RHS EFT\n",
      "Smoothing RHS EFT\n",
      "Smoothing RHS EFT\n",
      "Smoothing RHS EFT\n",
      "Smoothing RHS EFT\n",
      "Smoothing RHS EFT\n",
      "Smoothing RHS EFT\n",
      "Smoothing RHS EFT\n",
      "reserr-FAS: 464791.59375\n"
     ]
    },
    {
     "data": {
      "text/html": [
       "<pre style=\"white-space:pre;overflow-x:auto;line-height:normal;font-family:Menlo,'DejaVu Sans Mono',consolas,'Courier New',monospace\">param<span style=\"font-weight: bold\">[</span><span style=\"color: #008000; text-decoration-color: #008000\">'nsteps'</span><span style=\"font-weight: bold\">]</span>=<span style=\"color: #008080; text-decoration-color: #008080; font-weight: bold\">52</span> param<span style=\"font-weight: bold\">[</span><span style=\"color: #008000; text-decoration-color: #008000\">'aexp'</span><span style=\"font-weight: bold\">]</span>=<span style=\"color: #008080; text-decoration-color: #008080; font-weight: bold\">0.01695009107684157</span> z = <span style=\"color: #008080; text-decoration-color: #008080; font-weight: bold\">57.99673314241195</span>                                         \n",
       "</pre>\n"
      ],
      "text/plain": [
       "param\u001b[1m[\u001b[0m\u001b[32m'nsteps'\u001b[0m\u001b[1m]\u001b[0m=\u001b[1;36m52\u001b[0m param\u001b[1m[\u001b[0m\u001b[32m'aexp'\u001b[0m\u001b[1m]\u001b[0m=\u001b[1;36m0.01695009107684157\u001b[0m z = \u001b[1;36m57.99673314241195\u001b[0m                                         \n"
      ]
     },
     "metadata": {},
     "output_type": "display_data"
    },
    {
     "name": "stdout",
     "output_type": "stream",
     "text": [
      "Full solver.\n",
      "Smoothing RHS EFT\n",
      "Smoothing RHS EFT\n",
      "Smoothing RHS EFT\n",
      "Smoothing RHS EFT\n",
      "Smoothing RHS EFT\n",
      "Smoothing RHS EFT\n",
      "Smoothing RHS EFT\n",
      "Smoothing RHS EFT\n",
      "Smoothing RHS EFT\n",
      "Smoothing RHS EFT\n",
      "Smoothing RHS EFT\n",
      "Smoothing RHS EFT\n",
      "Smoothing RHS EFT\n",
      "Smoothing RHS EFT\n",
      "Smoothing RHS EFT\n",
      "Smoothing RHS EFT\n",
      "Smoothing RHS EFT\n",
      "Smoothing RHS EFT\n",
      "Smoothing RHS EFT\n",
      "Smoothing RHS EFT\n",
      "Smoothing RHS EFT\n",
      "Smoothing RHS EFT\n",
      "Smoothing RHS EFT\n",
      "Smoothing RHS EFT\n",
      "Smoothing RHS EFT\n",
      "Smoothing RHS EFT\n",
      "reserr-FAS: 460781.53125\n"
     ]
    },
    {
     "data": {
      "text/html": [
       "<pre style=\"white-space:pre;overflow-x:auto;line-height:normal;font-family:Menlo,'DejaVu Sans Mono',consolas,'Courier New',monospace\">param<span style=\"font-weight: bold\">[</span><span style=\"color: #008000; text-decoration-color: #008000\">'nsteps'</span><span style=\"font-weight: bold\">]</span>=<span style=\"color: #008080; text-decoration-color: #008080; font-weight: bold\">53</span> param<span style=\"font-weight: bold\">[</span><span style=\"color: #008000; text-decoration-color: #008000\">'aexp'</span><span style=\"font-weight: bold\">]</span>=<span style=\"color: #008080; text-decoration-color: #008080; font-weight: bold\">0.016952068069361448</span> z = <span style=\"color: #008080; text-decoration-color: #008080; font-weight: bold\">57.98985279603517</span>                                        \n",
       "</pre>\n"
      ],
      "text/plain": [
       "param\u001b[1m[\u001b[0m\u001b[32m'nsteps'\u001b[0m\u001b[1m]\u001b[0m=\u001b[1;36m53\u001b[0m param\u001b[1m[\u001b[0m\u001b[32m'aexp'\u001b[0m\u001b[1m]\u001b[0m=\u001b[1;36m0.016952068069361448\u001b[0m z = \u001b[1;36m57.98985279603517\u001b[0m                                        \n"
      ]
     },
     "metadata": {},
     "output_type": "display_data"
    },
    {
     "name": "stdout",
     "output_type": "stream",
     "text": [
      "Full solver.\n",
      "Smoothing RHS EFT\n",
      "Smoothing RHS EFT\n",
      "Smoothing RHS EFT\n",
      "Smoothing RHS EFT\n",
      "Smoothing RHS EFT\n",
      "Smoothing RHS EFT\n",
      "Smoothing RHS EFT\n",
      "Smoothing RHS EFT\n",
      "Smoothing RHS EFT\n",
      "Smoothing RHS EFT\n",
      "Smoothing RHS EFT\n",
      "Smoothing RHS EFT\n",
      "Smoothing RHS EFT\n",
      "Smoothing RHS EFT\n",
      "Smoothing RHS EFT\n",
      "Smoothing RHS EFT\n",
      "Smoothing RHS EFT\n",
      "Smoothing RHS EFT\n",
      "Smoothing RHS EFT\n",
      "Smoothing RHS EFT\n",
      "Smoothing RHS EFT\n",
      "Smoothing RHS EFT\n",
      "Smoothing RHS EFT\n",
      "Smoothing RHS EFT\n",
      "Smoothing RHS EFT\n",
      "Smoothing RHS EFT\n",
      "reserr-FAS: 456699.0625\n"
     ]
    },
    {
     "data": {
      "text/html": [
       "<pre style=\"white-space:pre;overflow-x:auto;line-height:normal;font-family:Menlo,'DejaVu Sans Mono',consolas,'Courier New',monospace\">param<span style=\"font-weight: bold\">[</span><span style=\"color: #008000; text-decoration-color: #008000\">'nsteps'</span><span style=\"font-weight: bold\">]</span>=<span style=\"color: #008080; text-decoration-color: #008080; font-weight: bold\">54</span> param<span style=\"font-weight: bold\">[</span><span style=\"color: #008000; text-decoration-color: #008000\">'aexp'</span><span style=\"font-weight: bold\">]</span>=<span style=\"color: #008080; text-decoration-color: #008080; font-weight: bold\">0.016954036080244254</span> z = <span style=\"color: #008080; text-decoration-color: #008080; font-weight: bold\">57.98300530133077</span>                                        \n",
       "</pre>\n"
      ],
      "text/plain": [
       "param\u001b[1m[\u001b[0m\u001b[32m'nsteps'\u001b[0m\u001b[1m]\u001b[0m=\u001b[1;36m54\u001b[0m param\u001b[1m[\u001b[0m\u001b[32m'aexp'\u001b[0m\u001b[1m]\u001b[0m=\u001b[1;36m0.016954036080244254\u001b[0m z = \u001b[1;36m57.98300530133077\u001b[0m                                        \n"
      ]
     },
     "metadata": {},
     "output_type": "display_data"
    },
    {
     "name": "stdout",
     "output_type": "stream",
     "text": [
      "Full solver.\n",
      "Smoothing RHS EFT\n",
      "Smoothing RHS EFT\n",
      "Smoothing RHS EFT\n",
      "Smoothing RHS EFT\n",
      "Smoothing RHS EFT\n",
      "Smoothing RHS EFT\n",
      "Smoothing RHS EFT\n",
      "Smoothing RHS EFT\n",
      "Smoothing RHS EFT\n",
      "Smoothing RHS EFT\n",
      "Smoothing RHS EFT\n",
      "Smoothing RHS EFT\n",
      "Smoothing RHS EFT\n",
      "Smoothing RHS EFT\n",
      "Smoothing RHS EFT\n",
      "Smoothing RHS EFT\n",
      "Smoothing RHS EFT\n",
      "Smoothing RHS EFT\n",
      "Smoothing RHS EFT\n",
      "Smoothing RHS EFT\n",
      "Smoothing RHS EFT\n",
      "Smoothing RHS EFT\n",
      "Smoothing RHS EFT\n",
      "Smoothing RHS EFT\n",
      "Smoothing RHS EFT\n",
      "Smoothing RHS EFT\n",
      "reserr-FAS: 452587.5\n"
     ]
    },
    {
     "data": {
      "text/html": [
       "<pre style=\"white-space:pre;overflow-x:auto;line-height:normal;font-family:Menlo,'DejaVu Sans Mono',consolas,'Courier New',monospace\">param<span style=\"font-weight: bold\">[</span><span style=\"color: #008000; text-decoration-color: #008000\">'nsteps'</span><span style=\"font-weight: bold\">]</span>=<span style=\"color: #008080; text-decoration-color: #008080; font-weight: bold\">55</span> param<span style=\"font-weight: bold\">[</span><span style=\"color: #008000; text-decoration-color: #008000\">'aexp'</span><span style=\"font-weight: bold\">]</span>=<span style=\"color: #008080; text-decoration-color: #008080; font-weight: bold\">0.016955997433629855</span> z = <span style=\"color: #008080; text-decoration-color: #008080; font-weight: bold\">57.97618255217706</span>                                        \n",
       "</pre>\n"
      ],
      "text/plain": [
       "param\u001b[1m[\u001b[0m\u001b[32m'nsteps'\u001b[0m\u001b[1m]\u001b[0m=\u001b[1;36m55\u001b[0m param\u001b[1m[\u001b[0m\u001b[32m'aexp'\u001b[0m\u001b[1m]\u001b[0m=\u001b[1;36m0.016955997433629855\u001b[0m z = \u001b[1;36m57.97618255217706\u001b[0m                                        \n"
      ]
     },
     "metadata": {},
     "output_type": "display_data"
    },
    {
     "name": "stdout",
     "output_type": "stream",
     "text": [
      "Full solver.\n",
      "Smoothing RHS EFT\n",
      "Smoothing RHS EFT\n",
      "Smoothing RHS EFT\n",
      "Smoothing RHS EFT\n",
      "Smoothing RHS EFT\n",
      "Smoothing RHS EFT\n",
      "Smoothing RHS EFT\n",
      "Smoothing RHS EFT\n",
      "Smoothing RHS EFT\n",
      "Smoothing RHS EFT\n",
      "Smoothing RHS EFT\n",
      "Smoothing RHS EFT\n",
      "Smoothing RHS EFT\n",
      "Smoothing RHS EFT\n",
      "Smoothing RHS EFT\n",
      "Smoothing RHS EFT\n",
      "Smoothing RHS EFT\n",
      "Smoothing RHS EFT\n",
      "Smoothing RHS EFT\n",
      "Smoothing RHS EFT\n",
      "Smoothing RHS EFT\n",
      "Smoothing RHS EFT\n",
      "Smoothing RHS EFT\n",
      "Smoothing RHS EFT\n",
      "Smoothing RHS EFT\n",
      "Smoothing RHS EFT\n",
      "reserr-FAS: 448467.84375\n"
     ]
    },
    {
     "data": {
      "text/html": [
       "<pre style=\"white-space:pre;overflow-x:auto;line-height:normal;font-family:Menlo,'DejaVu Sans Mono',consolas,'Courier New',monospace\">param<span style=\"font-weight: bold\">[</span><span style=\"color: #008000; text-decoration-color: #008000\">'nsteps'</span><span style=\"font-weight: bold\">]</span>=<span style=\"color: #008080; text-decoration-color: #008080; font-weight: bold\">56</span> param<span style=\"font-weight: bold\">[</span><span style=\"color: #008000; text-decoration-color: #008000\">'aexp'</span><span style=\"font-weight: bold\">]</span>=<span style=\"color: #008080; text-decoration-color: #008080; font-weight: bold\">0.0169579545381949</span> z = <span style=\"color: #008080; text-decoration-color: #008080; font-weight: bold\">57.9693761560494</span>                                           \n",
       "</pre>\n"
      ],
      "text/plain": [
       "param\u001b[1m[\u001b[0m\u001b[32m'nsteps'\u001b[0m\u001b[1m]\u001b[0m=\u001b[1;36m56\u001b[0m param\u001b[1m[\u001b[0m\u001b[32m'aexp'\u001b[0m\u001b[1m]\u001b[0m=\u001b[1;36m0.0169579545381949\u001b[0m z = \u001b[1;36m57.9693761560494\u001b[0m                                           \n"
      ]
     },
     "metadata": {},
     "output_type": "display_data"
    },
    {
     "name": "stdout",
     "output_type": "stream",
     "text": [
      "Full solver.\n",
      "Smoothing RHS EFT\n",
      "Smoothing RHS EFT\n",
      "Smoothing RHS EFT\n",
      "Smoothing RHS EFT\n",
      "Smoothing RHS EFT\n",
      "Smoothing RHS EFT\n",
      "Smoothing RHS EFT\n",
      "Smoothing RHS EFT\n",
      "Smoothing RHS EFT\n",
      "Smoothing RHS EFT\n",
      "Smoothing RHS EFT\n",
      "Smoothing RHS EFT\n",
      "Smoothing RHS EFT\n",
      "Smoothing RHS EFT\n",
      "Smoothing RHS EFT\n",
      "Smoothing RHS EFT\n",
      "Smoothing RHS EFT\n",
      "Smoothing RHS EFT\n",
      "Smoothing RHS EFT\n",
      "Smoothing RHS EFT\n",
      "Smoothing RHS EFT\n",
      "Smoothing RHS EFT\n",
      "Smoothing RHS EFT\n",
      "Smoothing RHS EFT\n",
      "Smoothing RHS EFT\n",
      "Smoothing RHS EFT\n",
      "reserr-FAS: 444342.4375\n"
     ]
    },
    {
     "data": {
      "text/html": [
       "<pre style=\"white-space:pre;overflow-x:auto;line-height:normal;font-family:Menlo,'DejaVu Sans Mono',consolas,'Courier New',monospace\">param<span style=\"font-weight: bold\">[</span><span style=\"color: #008000; text-decoration-color: #008000\">'nsteps'</span><span style=\"font-weight: bold\">]</span>=<span style=\"color: #008080; text-decoration-color: #008080; font-weight: bold\">57</span> param<span style=\"font-weight: bold\">[</span><span style=\"color: #008000; text-decoration-color: #008000\">'aexp'</span><span style=\"font-weight: bold\">]</span>=<span style=\"color: #008080; text-decoration-color: #008080; font-weight: bold\">0.016959910075683836</span> z = <span style=\"color: #008080; text-decoration-color: #008080; font-weight: bold\">57.962576778855905</span>                                       \n",
       "</pre>\n"
      ],
      "text/plain": [
       "param\u001b[1m[\u001b[0m\u001b[32m'nsteps'\u001b[0m\u001b[1m]\u001b[0m=\u001b[1;36m57\u001b[0m param\u001b[1m[\u001b[0m\u001b[32m'aexp'\u001b[0m\u001b[1m]\u001b[0m=\u001b[1;36m0.016959910075683836\u001b[0m z = \u001b[1;36m57.962576778855905\u001b[0m                                       \n"
      ]
     },
     "metadata": {},
     "output_type": "display_data"
    },
    {
     "name": "stdout",
     "output_type": "stream",
     "text": [
      "Full solver.\n",
      "Smoothing RHS EFT\n",
      "Smoothing RHS EFT\n",
      "Smoothing RHS EFT\n",
      "Smoothing RHS EFT\n",
      "Smoothing RHS EFT\n",
      "Smoothing RHS EFT\n",
      "Smoothing RHS EFT\n",
      "Smoothing RHS EFT\n",
      "Smoothing RHS EFT\n",
      "Smoothing RHS EFT\n",
      "Smoothing RHS EFT\n",
      "Smoothing RHS EFT\n",
      "Smoothing RHS EFT\n",
      "Smoothing RHS EFT\n",
      "Smoothing RHS EFT\n",
      "Smoothing RHS EFT\n",
      "Smoothing RHS EFT\n",
      "Smoothing RHS EFT\n",
      "Smoothing RHS EFT\n",
      "Smoothing RHS EFT\n",
      "Smoothing RHS EFT\n",
      "Smoothing RHS EFT\n",
      "Smoothing RHS EFT\n",
      "Smoothing RHS EFT\n",
      "Smoothing RHS EFT\n",
      "Smoothing RHS EFT\n",
      "reserr-FAS: 440295.625\n"
     ]
    },
    {
     "data": {
      "text/html": [
       "<pre style=\"white-space:pre;overflow-x:auto;line-height:normal;font-family:Menlo,'DejaVu Sans Mono',consolas,'Courier New',monospace\">param<span style=\"font-weight: bold\">[</span><span style=\"color: #008000; text-decoration-color: #008000\">'nsteps'</span><span style=\"font-weight: bold\">]</span>=<span style=\"color: #008080; text-decoration-color: #008080; font-weight: bold\">58</span> param<span style=\"font-weight: bold\">[</span><span style=\"color: #008000; text-decoration-color: #008000\">'aexp'</span><span style=\"font-weight: bold\">]</span>=<span style=\"color: #008080; text-decoration-color: #008080; font-weight: bold\">0.016961866406615966</span> z = <span style=\"color: #008080; text-decoration-color: #008080; font-weight: bold\">57.95577621162908</span>                                        \n",
       "</pre>\n"
      ],
      "text/plain": [
       "param\u001b[1m[\u001b[0m\u001b[32m'nsteps'\u001b[0m\u001b[1m]\u001b[0m=\u001b[1;36m58\u001b[0m param\u001b[1m[\u001b[0m\u001b[32m'aexp'\u001b[0m\u001b[1m]\u001b[0m=\u001b[1;36m0.016961866406615966\u001b[0m z = \u001b[1;36m57.95577621162908\u001b[0m                                        \n"
      ]
     },
     "metadata": {},
     "output_type": "display_data"
    },
    {
     "name": "stdout",
     "output_type": "stream",
     "text": [
      "Full solver.\n",
      "Smoothing RHS EFT\n",
      "Smoothing RHS EFT\n",
      "Smoothing RHS EFT\n",
      "Smoothing RHS EFT\n",
      "Smoothing RHS EFT\n",
      "Smoothing RHS EFT\n",
      "Smoothing RHS EFT\n",
      "Smoothing RHS EFT\n",
      "Smoothing RHS EFT\n",
      "Smoothing RHS EFT\n",
      "Smoothing RHS EFT\n",
      "Smoothing RHS EFT\n",
      "Smoothing RHS EFT\n",
      "Smoothing RHS EFT\n",
      "Smoothing RHS EFT\n",
      "Smoothing RHS EFT\n",
      "Smoothing RHS EFT\n",
      "Smoothing RHS EFT\n",
      "Smoothing RHS EFT\n",
      "Smoothing RHS EFT\n",
      "Smoothing RHS EFT\n",
      "Smoothing RHS EFT\n",
      "Smoothing RHS EFT\n",
      "Smoothing RHS EFT\n",
      "Smoothing RHS EFT\n",
      "Smoothing RHS EFT\n",
      "reserr-FAS: 436295.90625\n"
     ]
    },
    {
     "data": {
      "text/html": [
       "<pre style=\"white-space:pre;overflow-x:auto;line-height:normal;font-family:Menlo,'DejaVu Sans Mono',consolas,'Courier New',monospace\">param<span style=\"font-weight: bold\">[</span><span style=\"color: #008000; text-decoration-color: #008000\">'nsteps'</span><span style=\"font-weight: bold\">]</span>=<span style=\"color: #008080; text-decoration-color: #008080; font-weight: bold\">59</span> param<span style=\"font-weight: bold\">[</span><span style=\"color: #008000; text-decoration-color: #008000\">'aexp'</span><span style=\"font-weight: bold\">]</span>=<span style=\"color: #008080; text-decoration-color: #008080; font-weight: bold\">0.01696382377034579</span> z = <span style=\"color: #008080; text-decoration-color: #008080; font-weight: bold\">57.94897362398242</span>                                         \n",
       "</pre>\n"
      ],
      "text/plain": [
       "param\u001b[1m[\u001b[0m\u001b[32m'nsteps'\u001b[0m\u001b[1m]\u001b[0m=\u001b[1;36m59\u001b[0m param\u001b[1m[\u001b[0m\u001b[32m'aexp'\u001b[0m\u001b[1m]\u001b[0m=\u001b[1;36m0.01696382377034579\u001b[0m z = \u001b[1;36m57.94897362398242\u001b[0m                                         \n"
      ]
     },
     "metadata": {},
     "output_type": "display_data"
    },
    {
     "name": "stdout",
     "output_type": "stream",
     "text": [
      "Full solver.\n",
      "Smoothing RHS EFT\n",
      "Smoothing RHS EFT\n",
      "Smoothing RHS EFT\n",
      "Smoothing RHS EFT\n",
      "Smoothing RHS EFT\n",
      "Smoothing RHS EFT\n",
      "Smoothing RHS EFT\n",
      "Smoothing RHS EFT\n",
      "Smoothing RHS EFT\n",
      "Smoothing RHS EFT\n",
      "Smoothing RHS EFT\n",
      "Smoothing RHS EFT\n",
      "Smoothing RHS EFT\n",
      "Smoothing RHS EFT\n",
      "Smoothing RHS EFT\n",
      "Smoothing RHS EFT\n",
      "Smoothing RHS EFT\n",
      "Smoothing RHS EFT\n",
      "Smoothing RHS EFT\n",
      "Smoothing RHS EFT\n",
      "Smoothing RHS EFT\n",
      "Smoothing RHS EFT\n",
      "Smoothing RHS EFT\n",
      "Smoothing RHS EFT\n",
      "Smoothing RHS EFT\n",
      "Smoothing RHS EFT\n",
      "reserr-FAS: 432413.3125\n"
     ]
    },
    {
     "data": {
      "text/html": [
       "<pre style=\"white-space:pre;overflow-x:auto;line-height:normal;font-family:Menlo,'DejaVu Sans Mono',consolas,'Courier New',monospace\">param<span style=\"font-weight: bold\">[</span><span style=\"color: #008000; text-decoration-color: #008000\">'nsteps'</span><span style=\"font-weight: bold\">]</span>=<span style=\"color: #008080; text-decoration-color: #008080; font-weight: bold\">60</span> param<span style=\"font-weight: bold\">[</span><span style=\"color: #008000; text-decoration-color: #008000\">'aexp'</span><span style=\"font-weight: bold\">]</span>=<span style=\"color: #008080; text-decoration-color: #008080; font-weight: bold\">0.016965770332183175</span> z = <span style=\"color: #008080; text-decoration-color: #008080; font-weight: bold\">57.942210133721574</span>                                       \n",
       "</pre>\n"
      ],
      "text/plain": [
       "param\u001b[1m[\u001b[0m\u001b[32m'nsteps'\u001b[0m\u001b[1m]\u001b[0m=\u001b[1;36m60\u001b[0m param\u001b[1m[\u001b[0m\u001b[32m'aexp'\u001b[0m\u001b[1m]\u001b[0m=\u001b[1;36m0.016965770332183175\u001b[0m z = \u001b[1;36m57.942210133721574\u001b[0m                                       \n"
      ]
     },
     "metadata": {},
     "output_type": "display_data"
    },
    {
     "name": "stdout",
     "output_type": "stream",
     "text": [
      "Full solver.\n",
      "Smoothing RHS EFT\n",
      "Smoothing RHS EFT\n",
      "Smoothing RHS EFT\n",
      "Smoothing RHS EFT\n",
      "Smoothing RHS EFT\n",
      "Smoothing RHS EFT\n",
      "Smoothing RHS EFT\n",
      "Smoothing RHS EFT\n",
      "Smoothing RHS EFT\n",
      "Smoothing RHS EFT\n",
      "Smoothing RHS EFT\n",
      "Smoothing RHS EFT\n",
      "Smoothing RHS EFT\n",
      "Smoothing RHS EFT\n",
      "Smoothing RHS EFT\n",
      "Smoothing RHS EFT\n",
      "Smoothing RHS EFT\n",
      "Smoothing RHS EFT\n",
      "Smoothing RHS EFT\n",
      "Smoothing RHS EFT\n",
      "Smoothing RHS EFT\n",
      "Smoothing RHS EFT\n",
      "Smoothing RHS EFT\n",
      "Smoothing RHS EFT\n",
      "Smoothing RHS EFT\n",
      "Smoothing RHS EFT\n",
      "reserr-FAS: 428672.03125\n"
     ]
    },
    {
     "data": {
      "text/html": [
       "<pre style=\"white-space:pre;overflow-x:auto;line-height:normal;font-family:Menlo,'DejaVu Sans Mono',consolas,'Courier New',monospace\">param<span style=\"font-weight: bold\">[</span><span style=\"color: #008000; text-decoration-color: #008000\">'nsteps'</span><span style=\"font-weight: bold\">]</span>=<span style=\"color: #008080; text-decoration-color: #008080; font-weight: bold\">61</span> param<span style=\"font-weight: bold\">[</span><span style=\"color: #008000; text-decoration-color: #008000\">'aexp'</span><span style=\"font-weight: bold\">]</span>=<span style=\"color: #008080; text-decoration-color: #008080; font-weight: bold\">0.016967708785781424</span> z = <span style=\"color: #008080; text-decoration-color: #008080; font-weight: bold\">57.93547635836245</span>                                        \n",
       "</pre>\n"
      ],
      "text/plain": [
       "param\u001b[1m[\u001b[0m\u001b[32m'nsteps'\u001b[0m\u001b[1m]\u001b[0m=\u001b[1;36m61\u001b[0m param\u001b[1m[\u001b[0m\u001b[32m'aexp'\u001b[0m\u001b[1m]\u001b[0m=\u001b[1;36m0.016967708785781424\u001b[0m z = \u001b[1;36m57.93547635836245\u001b[0m                                        \n"
      ]
     },
     "metadata": {},
     "output_type": "display_data"
    },
    {
     "name": "stdout",
     "output_type": "stream",
     "text": [
      "Full solver.\n",
      "Smoothing RHS EFT\n",
      "Smoothing RHS EFT\n",
      "Smoothing RHS EFT\n",
      "Smoothing RHS EFT\n",
      "Smoothing RHS EFT\n",
      "Smoothing RHS EFT\n",
      "Smoothing RHS EFT\n",
      "Smoothing RHS EFT\n",
      "Smoothing RHS EFT\n",
      "Smoothing RHS EFT\n",
      "Smoothing RHS EFT\n",
      "Smoothing RHS EFT\n",
      "Smoothing RHS EFT\n",
      "Smoothing RHS EFT\n",
      "Smoothing RHS EFT\n",
      "Smoothing RHS EFT\n",
      "Smoothing RHS EFT\n",
      "Smoothing RHS EFT\n",
      "Smoothing RHS EFT\n",
      "Smoothing RHS EFT\n",
      "Smoothing RHS EFT\n",
      "Smoothing RHS EFT\n",
      "Smoothing RHS EFT\n",
      "Smoothing RHS EFT\n",
      "Smoothing RHS EFT\n",
      "Smoothing RHS EFT\n",
      "reserr-FAS: 425090.96875\n"
     ]
    },
    {
     "data": {
      "text/html": [
       "<pre style=\"white-space:pre;overflow-x:auto;line-height:normal;font-family:Menlo,'DejaVu Sans Mono',consolas,'Courier New',monospace\">param<span style=\"font-weight: bold\">[</span><span style=\"color: #008000; text-decoration-color: #008000\">'nsteps'</span><span style=\"font-weight: bold\">]</span>=<span style=\"color: #008080; text-decoration-color: #008080; font-weight: bold\">62</span> param<span style=\"font-weight: bold\">[</span><span style=\"color: #008000; text-decoration-color: #008000\">'aexp'</span><span style=\"font-weight: bold\">]</span>=<span style=\"color: #008080; text-decoration-color: #008080; font-weight: bold\">0.016969641566345593</span> z = <span style=\"color: #008080; text-decoration-color: #008080; font-weight: bold\">57.92876382157727</span>                                        \n",
       "</pre>\n"
      ],
      "text/plain": [
       "param\u001b[1m[\u001b[0m\u001b[32m'nsteps'\u001b[0m\u001b[1m]\u001b[0m=\u001b[1;36m62\u001b[0m param\u001b[1m[\u001b[0m\u001b[32m'aexp'\u001b[0m\u001b[1m]\u001b[0m=\u001b[1;36m0.016969641566345593\u001b[0m z = \u001b[1;36m57.92876382157727\u001b[0m                                        \n"
      ]
     },
     "metadata": {},
     "output_type": "display_data"
    },
    {
     "name": "stdout",
     "output_type": "stream",
     "text": [
      "Full solver.\n",
      "Smoothing RHS EFT\n",
      "Smoothing RHS EFT\n",
      "Smoothing RHS EFT\n",
      "Smoothing RHS EFT\n",
      "Smoothing RHS EFT\n",
      "Smoothing RHS EFT\n",
      "Smoothing RHS EFT\n",
      "Smoothing RHS EFT\n",
      "Smoothing RHS EFT\n",
      "Smoothing RHS EFT\n",
      "Smoothing RHS EFT\n",
      "Smoothing RHS EFT\n",
      "Smoothing RHS EFT\n",
      "Smoothing RHS EFT\n",
      "Smoothing RHS EFT\n",
      "Smoothing RHS EFT\n",
      "Smoothing RHS EFT\n",
      "Smoothing RHS EFT\n",
      "Smoothing RHS EFT\n",
      "Smoothing RHS EFT\n",
      "Smoothing RHS EFT\n",
      "Smoothing RHS EFT\n",
      "Smoothing RHS EFT\n",
      "Smoothing RHS EFT\n",
      "Smoothing RHS EFT\n",
      "Smoothing RHS EFT\n",
      "reserr-FAS: 421670.03125\n"
     ]
    },
    {
     "data": {
      "text/html": [
       "<pre style=\"white-space:pre;overflow-x:auto;line-height:normal;font-family:Menlo,'DejaVu Sans Mono',consolas,'Courier New',monospace\">param<span style=\"font-weight: bold\">[</span><span style=\"color: #008000; text-decoration-color: #008000\">'nsteps'</span><span style=\"font-weight: bold\">]</span>=<span style=\"color: #008080; text-decoration-color: #008080; font-weight: bold\">63</span> param<span style=\"font-weight: bold\">[</span><span style=\"color: #008000; text-decoration-color: #008000\">'aexp'</span><span style=\"font-weight: bold\">]</span>=<span style=\"color: #008080; text-decoration-color: #008080; font-weight: bold\">0.01697157085678764</span> z = <span style=\"color: #008080; text-decoration-color: #008080; font-weight: bold\">57.92206493072256</span>                                         \n",
       "</pre>\n"
      ],
      "text/plain": [
       "param\u001b[1m[\u001b[0m\u001b[32m'nsteps'\u001b[0m\u001b[1m]\u001b[0m=\u001b[1;36m63\u001b[0m param\u001b[1m[\u001b[0m\u001b[32m'aexp'\u001b[0m\u001b[1m]\u001b[0m=\u001b[1;36m0.01697157085678764\u001b[0m z = \u001b[1;36m57.92206493072256\u001b[0m                                         \n"
      ]
     },
     "metadata": {},
     "output_type": "display_data"
    },
    {
     "name": "stdout",
     "output_type": "stream",
     "text": [
      "Full solver.\n",
      "Smoothing RHS EFT\n",
      "Smoothing RHS EFT\n",
      "Smoothing RHS EFT\n",
      "Smoothing RHS EFT\n",
      "Smoothing RHS EFT\n",
      "Smoothing RHS EFT\n",
      "Smoothing RHS EFT\n",
      "Smoothing RHS EFT\n",
      "Smoothing RHS EFT\n",
      "Smoothing RHS EFT\n",
      "Smoothing RHS EFT\n",
      "Smoothing RHS EFT\n",
      "Smoothing RHS EFT\n",
      "Smoothing RHS EFT\n",
      "Smoothing RHS EFT\n",
      "Smoothing RHS EFT\n",
      "Smoothing RHS EFT\n",
      "Smoothing RHS EFT\n",
      "Smoothing RHS EFT\n",
      "Smoothing RHS EFT\n",
      "Smoothing RHS EFT\n",
      "Smoothing RHS EFT\n",
      "Smoothing RHS EFT\n",
      "Smoothing RHS EFT\n",
      "Smoothing RHS EFT\n",
      "Smoothing RHS EFT\n",
      "reserr-FAS: 418478.9375\n"
     ]
    },
    {
     "data": {
      "text/html": [
       "<pre style=\"white-space:pre;overflow-x:auto;line-height:normal;font-family:Menlo,'DejaVu Sans Mono',consolas,'Courier New',monospace\">param<span style=\"font-weight: bold\">[</span><span style=\"color: #008000; text-decoration-color: #008000\">'nsteps'</span><span style=\"font-weight: bold\">]</span>=<span style=\"color: #008080; text-decoration-color: #008080; font-weight: bold\">64</span> param<span style=\"font-weight: bold\">[</span><span style=\"color: #008000; text-decoration-color: #008000\">'aexp'</span><span style=\"font-weight: bold\">]</span>=<span style=\"color: #008080; text-decoration-color: #008080; font-weight: bold\">0.016973498591850676</span> z = <span style=\"color: #008080; text-decoration-color: #008080; font-weight: bold\">57.91537296147775</span>                                        \n",
       "</pre>\n"
      ],
      "text/plain": [
       "param\u001b[1m[\u001b[0m\u001b[32m'nsteps'\u001b[0m\u001b[1m]\u001b[0m=\u001b[1;36m64\u001b[0m param\u001b[1m[\u001b[0m\u001b[32m'aexp'\u001b[0m\u001b[1m]\u001b[0m=\u001b[1;36m0.016973498591850676\u001b[0m z = \u001b[1;36m57.91537296147775\u001b[0m                                        \n"
      ]
     },
     "metadata": {},
     "output_type": "display_data"
    },
    {
     "name": "stdout",
     "output_type": "stream",
     "text": [
      "Full solver.\n",
      "Smoothing RHS EFT\n",
      "Smoothing RHS EFT\n",
      "Smoothing RHS EFT\n",
      "Smoothing RHS EFT\n",
      "Smoothing RHS EFT\n",
      "Smoothing RHS EFT\n",
      "Smoothing RHS EFT\n",
      "Smoothing RHS EFT\n",
      "Smoothing RHS EFT\n",
      "Smoothing RHS EFT\n",
      "Smoothing RHS EFT\n",
      "Smoothing RHS EFT\n",
      "Smoothing RHS EFT\n",
      "Smoothing RHS EFT\n",
      "Smoothing RHS EFT\n",
      "Smoothing RHS EFT\n",
      "Smoothing RHS EFT\n",
      "Smoothing RHS EFT\n",
      "Smoothing RHS EFT\n",
      "Smoothing RHS EFT\n",
      "Smoothing RHS EFT\n",
      "Smoothing RHS EFT\n",
      "Smoothing RHS EFT\n",
      "Smoothing RHS EFT\n",
      "Smoothing RHS EFT\n",
      "Smoothing RHS EFT\n",
      "reserr-FAS: 415478.15625\n"
     ]
    },
    {
     "data": {
      "text/html": [
       "<pre style=\"white-space:pre;overflow-x:auto;line-height:normal;font-family:Menlo,'DejaVu Sans Mono',consolas,'Courier New',monospace\">param<span style=\"font-weight: bold\">[</span><span style=\"color: #008000; text-decoration-color: #008000\">'nsteps'</span><span style=\"font-weight: bold\">]</span>=<span style=\"color: #008080; text-decoration-color: #008080; font-weight: bold\">65</span> param<span style=\"font-weight: bold\">[</span><span style=\"color: #008000; text-decoration-color: #008000\">'aexp'</span><span style=\"font-weight: bold\">]</span>=<span style=\"color: #008080; text-decoration-color: #008080; font-weight: bold\">0.016975426460525744</span> z = <span style=\"color: #008080; text-decoration-color: #008080; font-weight: bold\">57.90868204845259</span>                                        \n",
       "</pre>\n"
      ],
      "text/plain": [
       "param\u001b[1m[\u001b[0m\u001b[32m'nsteps'\u001b[0m\u001b[1m]\u001b[0m=\u001b[1;36m65\u001b[0m param\u001b[1m[\u001b[0m\u001b[32m'aexp'\u001b[0m\u001b[1m]\u001b[0m=\u001b[1;36m0.016975426460525744\u001b[0m z = \u001b[1;36m57.90868204845259\u001b[0m                                        \n"
      ]
     },
     "metadata": {},
     "output_type": "display_data"
    },
    {
     "name": "stdout",
     "output_type": "stream",
     "text": [
      "Full solver.\n",
      "Smoothing RHS EFT\n",
      "Smoothing RHS EFT\n",
      "Smoothing RHS EFT\n",
      "Smoothing RHS EFT\n",
      "Smoothing RHS EFT\n",
      "Smoothing RHS EFT\n",
      "Smoothing RHS EFT\n",
      "Smoothing RHS EFT\n",
      "Smoothing RHS EFT\n",
      "Smoothing RHS EFT\n",
      "Smoothing RHS EFT\n",
      "Smoothing RHS EFT\n",
      "Smoothing RHS EFT\n",
      "Smoothing RHS EFT\n",
      "Smoothing RHS EFT\n",
      "Smoothing RHS EFT\n",
      "Smoothing RHS EFT\n",
      "Smoothing RHS EFT\n",
      "Smoothing RHS EFT\n",
      "Smoothing RHS EFT\n",
      "Smoothing RHS EFT\n",
      "Smoothing RHS EFT\n",
      "Smoothing RHS EFT\n",
      "Smoothing RHS EFT\n",
      "Smoothing RHS EFT\n",
      "Smoothing RHS EFT\n",
      "reserr-FAS: 412701.4375\n"
     ]
    },
    {
     "data": {
      "text/html": [
       "<pre style=\"white-space:pre;overflow-x:auto;line-height:normal;font-family:Menlo,'DejaVu Sans Mono',consolas,'Courier New',monospace\">param<span style=\"font-weight: bold\">[</span><span style=\"color: #008000; text-decoration-color: #008000\">'nsteps'</span><span style=\"font-weight: bold\">]</span>=<span style=\"color: #008080; text-decoration-color: #008080; font-weight: bold\">66</span> param<span style=\"font-weight: bold\">[</span><span style=\"color: #008000; text-decoration-color: #008000\">'aexp'</span><span style=\"font-weight: bold\">]</span>=<span style=\"color: #008080; text-decoration-color: #008080; font-weight: bold\">0.01697735504079513</span> z = <span style=\"color: #008080; text-decoration-color: #008080; font-weight: bold\">57.90199018616773</span>                                         \n",
       "</pre>\n"
      ],
      "text/plain": [
       "param\u001b[1m[\u001b[0m\u001b[32m'nsteps'\u001b[0m\u001b[1m]\u001b[0m=\u001b[1;36m66\u001b[0m param\u001b[1m[\u001b[0m\u001b[32m'aexp'\u001b[0m\u001b[1m]\u001b[0m=\u001b[1;36m0.01697735504079513\u001b[0m z = \u001b[1;36m57.90199018616773\u001b[0m                                         \n"
      ]
     },
     "metadata": {},
     "output_type": "display_data"
    },
    {
     "name": "stdout",
     "output_type": "stream",
     "text": [
      "Full solver.\n",
      "Smoothing RHS EFT\n",
      "Smoothing RHS EFT\n",
      "Smoothing RHS EFT\n",
      "Smoothing RHS EFT\n",
      "Smoothing RHS EFT\n",
      "Smoothing RHS EFT\n",
      "Smoothing RHS EFT\n",
      "Smoothing RHS EFT\n",
      "Smoothing RHS EFT\n",
      "Smoothing RHS EFT\n",
      "Smoothing RHS EFT\n",
      "Smoothing RHS EFT\n",
      "Smoothing RHS EFT\n",
      "Smoothing RHS EFT\n",
      "Smoothing RHS EFT\n",
      "Smoothing RHS EFT\n",
      "Smoothing RHS EFT\n",
      "Smoothing RHS EFT\n",
      "Smoothing RHS EFT\n",
      "Smoothing RHS EFT\n",
      "Smoothing RHS EFT\n",
      "Smoothing RHS EFT\n",
      "Smoothing RHS EFT\n",
      "Smoothing RHS EFT\n",
      "Smoothing RHS EFT\n",
      "Smoothing RHS EFT\n",
      "reserr-FAS: 410161.59375\n"
     ]
    },
    {
     "data": {
      "text/html": [
       "<pre style=\"white-space:pre;overflow-x:auto;line-height:normal;font-family:Menlo,'DejaVu Sans Mono',consolas,'Courier New',monospace\">param<span style=\"font-weight: bold\">[</span><span style=\"color: #008000; text-decoration-color: #008000\">'nsteps'</span><span style=\"font-weight: bold\">]</span>=<span style=\"color: #008080; text-decoration-color: #008080; font-weight: bold\">67</span> param<span style=\"font-weight: bold\">[</span><span style=\"color: #008000; text-decoration-color: #008000\">'aexp'</span><span style=\"font-weight: bold\">]</span>=<span style=\"color: #008080; text-decoration-color: #008080; font-weight: bold\">0.016979284856577948</span> z = <span style=\"color: #008080; text-decoration-color: #008080; font-weight: bold\">57.89529555849284</span>                                        \n",
       "</pre>\n"
      ],
      "text/plain": [
       "param\u001b[1m[\u001b[0m\u001b[32m'nsteps'\u001b[0m\u001b[1m]\u001b[0m=\u001b[1;36m67\u001b[0m param\u001b[1m[\u001b[0m\u001b[32m'aexp'\u001b[0m\u001b[1m]\u001b[0m=\u001b[1;36m0.016979284856577948\u001b[0m z = \u001b[1;36m57.89529555849284\u001b[0m                                        \n"
      ]
     },
     "metadata": {},
     "output_type": "display_data"
    },
    {
     "name": "stdout",
     "output_type": "stream",
     "text": [
      "Full solver.\n",
      "Smoothing RHS EFT\n",
      "Smoothing RHS EFT\n",
      "Smoothing RHS EFT\n",
      "Smoothing RHS EFT\n",
      "Smoothing RHS EFT\n",
      "Smoothing RHS EFT\n",
      "Smoothing RHS EFT\n",
      "Smoothing RHS EFT\n",
      "Smoothing RHS EFT\n",
      "Smoothing RHS EFT\n",
      "Smoothing RHS EFT\n",
      "Smoothing RHS EFT\n",
      "Smoothing RHS EFT\n",
      "Smoothing RHS EFT\n",
      "Smoothing RHS EFT\n",
      "Smoothing RHS EFT\n",
      "Smoothing RHS EFT\n",
      "Smoothing RHS EFT\n",
      "Smoothing RHS EFT\n",
      "Smoothing RHS EFT\n",
      "Smoothing RHS EFT\n",
      "Smoothing RHS EFT\n",
      "Smoothing RHS EFT\n",
      "Smoothing RHS EFT\n",
      "Smoothing RHS EFT\n",
      "Smoothing RHS EFT\n",
      "reserr-FAS: 407868.8125\n"
     ]
    },
    {
     "data": {
      "text/html": [
       "<pre style=\"white-space:pre;overflow-x:auto;line-height:normal;font-family:Menlo,'DejaVu Sans Mono',consolas,'Courier New',monospace\">param<span style=\"font-weight: bold\">[</span><span style=\"color: #008000; text-decoration-color: #008000\">'nsteps'</span><span style=\"font-weight: bold\">]</span>=<span style=\"color: #008080; text-decoration-color: #008080; font-weight: bold\">68</span> param<span style=\"font-weight: bold\">[</span><span style=\"color: #008000; text-decoration-color: #008000\">'aexp'</span><span style=\"font-weight: bold\">]</span>=<span style=\"color: #008080; text-decoration-color: #008080; font-weight: bold\">0.01698121699163894</span> z = <span style=\"color: #008080; text-decoration-color: #008080; font-weight: bold\">57.88859440948025</span>                                         \n",
       "</pre>\n"
      ],
      "text/plain": [
       "param\u001b[1m[\u001b[0m\u001b[32m'nsteps'\u001b[0m\u001b[1m]\u001b[0m=\u001b[1;36m68\u001b[0m param\u001b[1m[\u001b[0m\u001b[32m'aexp'\u001b[0m\u001b[1m]\u001b[0m=\u001b[1;36m0.01698121699163894\u001b[0m z = \u001b[1;36m57.88859440948025\u001b[0m                                         \n"
      ]
     },
     "metadata": {},
     "output_type": "display_data"
    },
    {
     "name": "stdout",
     "output_type": "stream",
     "text": [
      "Full solver.\n",
      "Smoothing RHS EFT\n",
      "Smoothing RHS EFT\n",
      "Smoothing RHS EFT\n",
      "Smoothing RHS EFT\n",
      "Smoothing RHS EFT\n",
      "Smoothing RHS EFT\n",
      "Smoothing RHS EFT\n",
      "Smoothing RHS EFT\n",
      "Smoothing RHS EFT\n",
      "Smoothing RHS EFT\n",
      "Smoothing RHS EFT\n",
      "Smoothing RHS EFT\n",
      "Smoothing RHS EFT\n",
      "Smoothing RHS EFT\n",
      "Smoothing RHS EFT\n",
      "Smoothing RHS EFT\n",
      "Smoothing RHS EFT\n",
      "Smoothing RHS EFT\n",
      "Smoothing RHS EFT\n",
      "Smoothing RHS EFT\n",
      "Smoothing RHS EFT\n",
      "Smoothing RHS EFT\n",
      "Smoothing RHS EFT\n",
      "Smoothing RHS EFT\n",
      "Smoothing RHS EFT\n",
      "Smoothing RHS EFT\n",
      "reserr-FAS: 405829.875\n"
     ]
    },
    {
     "data": {
      "text/html": [
       "<pre style=\"white-space:pre;overflow-x:auto;line-height:normal;font-family:Menlo,'DejaVu Sans Mono',consolas,'Courier New',monospace\">param<span style=\"font-weight: bold\">[</span><span style=\"color: #008000; text-decoration-color: #008000\">'nsteps'</span><span style=\"font-weight: bold\">]</span>=<span style=\"color: #008080; text-decoration-color: #008080; font-weight: bold\">69</span> param<span style=\"font-weight: bold\">[</span><span style=\"color: #008000; text-decoration-color: #008000\">'aexp'</span><span style=\"font-weight: bold\">]</span>=<span style=\"color: #008080; text-decoration-color: #008080; font-weight: bold\">0.016983152369588746</span> z = <span style=\"color: #008080; text-decoration-color: #008080; font-weight: bold\">57.88188354187247</span>                                        \n",
       "</pre>\n"
      ],
      "text/plain": [
       "param\u001b[1m[\u001b[0m\u001b[32m'nsteps'\u001b[0m\u001b[1m]\u001b[0m=\u001b[1;36m69\u001b[0m param\u001b[1m[\u001b[0m\u001b[32m'aexp'\u001b[0m\u001b[1m]\u001b[0m=\u001b[1;36m0.016983152369588746\u001b[0m z = \u001b[1;36m57.88188354187247\u001b[0m                                        \n"
      ]
     },
     "metadata": {},
     "output_type": "display_data"
    },
    {
     "name": "stdout",
     "output_type": "stream",
     "text": [
      "Full solver.\n",
      "Smoothing RHS EFT\n",
      "Smoothing RHS EFT\n",
      "Smoothing RHS EFT\n",
      "Smoothing RHS EFT\n",
      "Smoothing RHS EFT\n",
      "Smoothing RHS EFT\n",
      "Smoothing RHS EFT\n",
      "Smoothing RHS EFT\n",
      "Smoothing RHS EFT\n",
      "Smoothing RHS EFT\n",
      "Smoothing RHS EFT\n",
      "Smoothing RHS EFT\n",
      "Smoothing RHS EFT\n",
      "Smoothing RHS EFT\n",
      "Smoothing RHS EFT\n",
      "Smoothing RHS EFT\n",
      "Smoothing RHS EFT\n",
      "Smoothing RHS EFT\n",
      "Smoothing RHS EFT\n",
      "Smoothing RHS EFT\n",
      "Smoothing RHS EFT\n",
      "Smoothing RHS EFT\n",
      "Smoothing RHS EFT\n",
      "Smoothing RHS EFT\n",
      "Smoothing RHS EFT\n",
      "Smoothing RHS EFT\n",
      "reserr-FAS: 404029.71875\n"
     ]
    },
    {
     "data": {
      "text/html": [
       "<pre style=\"white-space:pre;overflow-x:auto;line-height:normal;font-family:Menlo,'DejaVu Sans Mono',consolas,'Courier New',monospace\">param<span style=\"font-weight: bold\">[</span><span style=\"color: #008000; text-decoration-color: #008000\">'nsteps'</span><span style=\"font-weight: bold\">]</span>=<span style=\"color: #008080; text-decoration-color: #008080; font-weight: bold\">70</span> param<span style=\"font-weight: bold\">[</span><span style=\"color: #008000; text-decoration-color: #008000\">'aexp'</span><span style=\"font-weight: bold\">]</span>=<span style=\"color: #008080; text-decoration-color: #008080; font-weight: bold\">0.016985091773205133</span> z = <span style=\"color: #008080; text-decoration-color: #008080; font-weight: bold\">57.87516024950493</span>                                        \n",
       "</pre>\n"
      ],
      "text/plain": [
       "param\u001b[1m[\u001b[0m\u001b[32m'nsteps'\u001b[0m\u001b[1m]\u001b[0m=\u001b[1;36m70\u001b[0m param\u001b[1m[\u001b[0m\u001b[32m'aexp'\u001b[0m\u001b[1m]\u001b[0m=\u001b[1;36m0.016985091773205133\u001b[0m z = \u001b[1;36m57.87516024950493\u001b[0m                                        \n"
      ]
     },
     "metadata": {},
     "output_type": "display_data"
    },
    {
     "name": "stdout",
     "output_type": "stream",
     "text": [
      "Full solver.\n",
      "Smoothing RHS EFT\n",
      "Smoothing RHS EFT\n",
      "Smoothing RHS EFT\n",
      "Smoothing RHS EFT\n",
      "Smoothing RHS EFT\n",
      "Smoothing RHS EFT\n",
      "Smoothing RHS EFT\n",
      "Smoothing RHS EFT\n",
      "Smoothing RHS EFT\n",
      "Smoothing RHS EFT\n",
      "Smoothing RHS EFT\n",
      "Smoothing RHS EFT\n",
      "Smoothing RHS EFT\n",
      "Smoothing RHS EFT\n",
      "Smoothing RHS EFT\n",
      "Smoothing RHS EFT\n",
      "Smoothing RHS EFT\n",
      "Smoothing RHS EFT\n",
      "Smoothing RHS EFT\n",
      "Smoothing RHS EFT\n",
      "Smoothing RHS EFT\n",
      "Smoothing RHS EFT\n",
      "Smoothing RHS EFT\n",
      "Smoothing RHS EFT\n",
      "Smoothing RHS EFT\n",
      "Smoothing RHS EFT\n",
      "reserr-FAS: 402523.71875\n"
     ]
    },
    {
     "data": {
      "text/html": [
       "<pre style=\"white-space:pre;overflow-x:auto;line-height:normal;font-family:Menlo,'DejaVu Sans Mono',consolas,'Courier New',monospace\">param<span style=\"font-weight: bold\">[</span><span style=\"color: #008000; text-decoration-color: #008000\">'nsteps'</span><span style=\"font-weight: bold\">]</span>=<span style=\"color: #008080; text-decoration-color: #008080; font-weight: bold\">71</span> param<span style=\"font-weight: bold\">[</span><span style=\"color: #008000; text-decoration-color: #008000\">'aexp'</span><span style=\"font-weight: bold\">]</span>=<span style=\"color: #008080; text-decoration-color: #008080; font-weight: bold\">0.01698703576071337</span> z = <span style=\"color: #008080; text-decoration-color: #008080; font-weight: bold\">57.868422606888366</span>                                        \n",
       "</pre>\n"
      ],
      "text/plain": [
       "param\u001b[1m[\u001b[0m\u001b[32m'nsteps'\u001b[0m\u001b[1m]\u001b[0m=\u001b[1;36m71\u001b[0m param\u001b[1m[\u001b[0m\u001b[32m'aexp'\u001b[0m\u001b[1m]\u001b[0m=\u001b[1;36m0.01698703576071337\u001b[0m z = \u001b[1;36m57.868422606888366\u001b[0m                                        \n"
      ]
     },
     "metadata": {},
     "output_type": "display_data"
    },
    {
     "name": "stdout",
     "output_type": "stream",
     "text": [
      "Full solver.\n",
      "Smoothing RHS EFT\n",
      "Smoothing RHS EFT\n",
      "Smoothing RHS EFT\n",
      "Smoothing RHS EFT\n",
      "Smoothing RHS EFT\n",
      "Smoothing RHS EFT\n",
      "Smoothing RHS EFT\n",
      "Smoothing RHS EFT\n",
      "Smoothing RHS EFT\n",
      "Smoothing RHS EFT\n",
      "Smoothing RHS EFT\n",
      "Smoothing RHS EFT\n",
      "Smoothing RHS EFT\n",
      "Smoothing RHS EFT\n",
      "Smoothing RHS EFT\n",
      "Smoothing RHS EFT\n",
      "Smoothing RHS EFT\n",
      "Smoothing RHS EFT\n",
      "Smoothing RHS EFT\n",
      "Smoothing RHS EFT\n",
      "Smoothing RHS EFT\n",
      "Smoothing RHS EFT\n",
      "Smoothing RHS EFT\n",
      "Smoothing RHS EFT\n",
      "Smoothing RHS EFT\n",
      "Smoothing RHS EFT\n",
      "reserr-FAS: 401259.09375\n"
     ]
    },
    {
     "data": {
      "text/html": [
       "<pre style=\"white-space:pre;overflow-x:auto;line-height:normal;font-family:Menlo,'DejaVu Sans Mono',consolas,'Courier New',monospace\">param<span style=\"font-weight: bold\">[</span><span style=\"color: #008000; text-decoration-color: #008000\">'nsteps'</span><span style=\"font-weight: bold\">]</span>=<span style=\"color: #008080; text-decoration-color: #008080; font-weight: bold\">72</span> param<span style=\"font-weight: bold\">[</span><span style=\"color: #008000; text-decoration-color: #008000\">'aexp'</span><span style=\"font-weight: bold\">]</span>=<span style=\"color: #008080; text-decoration-color: #008080; font-weight: bold\">0.016988983772640156</span> z = <span style=\"color: #008080; text-decoration-color: #008080; font-weight: bold\">57.8616725628078</span>                                         \n",
       "</pre>\n"
      ],
      "text/plain": [
       "param\u001b[1m[\u001b[0m\u001b[32m'nsteps'\u001b[0m\u001b[1m]\u001b[0m=\u001b[1;36m72\u001b[0m param\u001b[1m[\u001b[0m\u001b[32m'aexp'\u001b[0m\u001b[1m]\u001b[0m=\u001b[1;36m0.016988983772640156\u001b[0m z = \u001b[1;36m57.8616725628078\u001b[0m                                         \n"
      ]
     },
     "metadata": {},
     "output_type": "display_data"
    },
    {
     "name": "stdout",
     "output_type": "stream",
     "text": [
      "Full solver.\n",
      "Smoothing RHS EFT\n",
      "Smoothing RHS EFT\n",
      "Smoothing RHS EFT\n",
      "Smoothing RHS EFT\n",
      "Smoothing RHS EFT\n",
      "Smoothing RHS EFT\n",
      "Smoothing RHS EFT\n",
      "Smoothing RHS EFT\n",
      "Smoothing RHS EFT\n",
      "Smoothing RHS EFT\n",
      "Smoothing RHS EFT\n",
      "Smoothing RHS EFT\n",
      "Smoothing RHS EFT\n",
      "Smoothing RHS EFT\n",
      "Smoothing RHS EFT\n",
      "Smoothing RHS EFT\n",
      "Smoothing RHS EFT\n",
      "Smoothing RHS EFT\n",
      "Smoothing RHS EFT\n",
      "Smoothing RHS EFT\n",
      "Smoothing RHS EFT\n",
      "Smoothing RHS EFT\n",
      "Smoothing RHS EFT\n",
      "Smoothing RHS EFT\n",
      "Smoothing RHS EFT\n",
      "Smoothing RHS EFT\n",
      "reserr-FAS: 400247.375\n"
     ]
    },
    {
     "data": {
      "text/html": [
       "<pre style=\"white-space:pre;overflow-x:auto;line-height:normal;font-family:Menlo,'DejaVu Sans Mono',consolas,'Courier New',monospace\">param<span style=\"font-weight: bold\">[</span><span style=\"color: #008000; text-decoration-color: #008000\">'nsteps'</span><span style=\"font-weight: bold\">]</span>=<span style=\"color: #008080; text-decoration-color: #008080; font-weight: bold\">73</span> param<span style=\"font-weight: bold\">[</span><span style=\"color: #008000; text-decoration-color: #008000\">'aexp'</span><span style=\"font-weight: bold\">]</span>=<span style=\"color: #008080; text-decoration-color: #008080; font-weight: bold\">0.016990936378457222</span> z = <span style=\"color: #008080; text-decoration-color: #008080; font-weight: bold\">57.854908153731785</span>                                       \n",
       "</pre>\n"
      ],
      "text/plain": [
       "param\u001b[1m[\u001b[0m\u001b[32m'nsteps'\u001b[0m\u001b[1m]\u001b[0m=\u001b[1;36m73\u001b[0m param\u001b[1m[\u001b[0m\u001b[32m'aexp'\u001b[0m\u001b[1m]\u001b[0m=\u001b[1;36m0.016990936378457222\u001b[0m z = \u001b[1;36m57.854908153731785\u001b[0m                                       \n"
      ]
     },
     "metadata": {},
     "output_type": "display_data"
    },
    {
     "name": "stdout",
     "output_type": "stream",
     "text": [
      "Full solver.\n",
      "Smoothing RHS EFT\n",
      "Smoothing RHS EFT\n",
      "Smoothing RHS EFT\n",
      "Smoothing RHS EFT\n",
      "Smoothing RHS EFT\n",
      "Smoothing RHS EFT\n",
      "Smoothing RHS EFT\n",
      "Smoothing RHS EFT\n",
      "Smoothing RHS EFT\n",
      "Smoothing RHS EFT\n",
      "Smoothing RHS EFT\n",
      "Smoothing RHS EFT\n",
      "Smoothing RHS EFT\n",
      "Smoothing RHS EFT\n",
      "Smoothing RHS EFT\n",
      "Smoothing RHS EFT\n",
      "Smoothing RHS EFT\n",
      "Smoothing RHS EFT\n",
      "Smoothing RHS EFT\n",
      "Smoothing RHS EFT\n",
      "Smoothing RHS EFT\n",
      "Smoothing RHS EFT\n",
      "Smoothing RHS EFT\n",
      "Smoothing RHS EFT\n",
      "Smoothing RHS EFT\n",
      "Smoothing RHS EFT\n",
      "reserr-FAS: 399479.59375\n"
     ]
    },
    {
     "data": {
      "text/html": [
       "<pre style=\"white-space:pre;overflow-x:auto;line-height:normal;font-family:Menlo,'DejaVu Sans Mono',consolas,'Courier New',monospace\">param<span style=\"font-weight: bold\">[</span><span style=\"color: #008000; text-decoration-color: #008000\">'nsteps'</span><span style=\"font-weight: bold\">]</span>=<span style=\"color: #008080; text-decoration-color: #008080; font-weight: bold\">74</span> param<span style=\"font-weight: bold\">[</span><span style=\"color: #008000; text-decoration-color: #008000\">'aexp'</span><span style=\"font-weight: bold\">]</span>=<span style=\"color: #008080; text-decoration-color: #008080; font-weight: bold\">0.016992894095558583</span> z = <span style=\"color: #008080; text-decoration-color: #008080; font-weight: bold\">57.84812759830999</span>                                        \n",
       "</pre>\n"
      ],
      "text/plain": [
       "param\u001b[1m[\u001b[0m\u001b[32m'nsteps'\u001b[0m\u001b[1m]\u001b[0m=\u001b[1;36m74\u001b[0m param\u001b[1m[\u001b[0m\u001b[32m'aexp'\u001b[0m\u001b[1m]\u001b[0m=\u001b[1;36m0.016992894095558583\u001b[0m z = \u001b[1;36m57.84812759830999\u001b[0m                                        \n"
      ]
     },
     "metadata": {},
     "output_type": "display_data"
    },
    {
     "name": "stdout",
     "output_type": "stream",
     "text": [
      "Full solver.\n",
      "Smoothing RHS EFT\n",
      "Smoothing RHS EFT\n",
      "Smoothing RHS EFT\n",
      "Smoothing RHS EFT\n",
      "Smoothing RHS EFT\n",
      "Smoothing RHS EFT\n",
      "Smoothing RHS EFT\n",
      "Smoothing RHS EFT\n",
      "Smoothing RHS EFT\n",
      "Smoothing RHS EFT\n",
      "Smoothing RHS EFT\n",
      "Smoothing RHS EFT\n",
      "Smoothing RHS EFT\n",
      "Smoothing RHS EFT\n",
      "Smoothing RHS EFT\n",
      "Smoothing RHS EFT\n",
      "Smoothing RHS EFT\n",
      "Smoothing RHS EFT\n",
      "Smoothing RHS EFT\n",
      "Smoothing RHS EFT\n",
      "Smoothing RHS EFT\n",
      "Smoothing RHS EFT\n",
      "Smoothing RHS EFT\n",
      "Smoothing RHS EFT\n",
      "Smoothing RHS EFT\n",
      "Smoothing RHS EFT\n",
      "reserr-FAS: 398943.21875\n"
     ]
    },
    {
     "data": {
      "text/html": [
       "<pre style=\"white-space:pre;overflow-x:auto;line-height:normal;font-family:Menlo,'DejaVu Sans Mono',consolas,'Courier New',monospace\">param<span style=\"font-weight: bold\">[</span><span style=\"color: #008000; text-decoration-color: #008000\">'nsteps'</span><span style=\"font-weight: bold\">]</span>=<span style=\"color: #008080; text-decoration-color: #008080; font-weight: bold\">75</span> param<span style=\"font-weight: bold\">[</span><span style=\"color: #008000; text-decoration-color: #008000\">'aexp'</span><span style=\"font-weight: bold\">]</span>=<span style=\"color: #008080; text-decoration-color: #008080; font-weight: bold\">0.01699485741025094</span> z = <span style=\"color: #008080; text-decoration-color: #008080; font-weight: bold\">57.84132922449947</span>                                         \n",
       "</pre>\n"
      ],
      "text/plain": [
       "param\u001b[1m[\u001b[0m\u001b[32m'nsteps'\u001b[0m\u001b[1m]\u001b[0m=\u001b[1;36m75\u001b[0m param\u001b[1m[\u001b[0m\u001b[32m'aexp'\u001b[0m\u001b[1m]\u001b[0m=\u001b[1;36m0.01699485741025094\u001b[0m z = \u001b[1;36m57.84132922449947\u001b[0m                                         \n"
      ]
     },
     "metadata": {},
     "output_type": "display_data"
    },
    {
     "name": "stdout",
     "output_type": "stream",
     "text": [
      "Full solver.\n",
      "Smoothing RHS EFT\n",
      "Smoothing RHS EFT\n",
      "Smoothing RHS EFT\n",
      "Smoothing RHS EFT\n",
      "Smoothing RHS EFT\n",
      "Smoothing RHS EFT\n",
      "Smoothing RHS EFT\n",
      "Smoothing RHS EFT\n",
      "Smoothing RHS EFT\n",
      "Smoothing RHS EFT\n",
      "Smoothing RHS EFT\n",
      "Smoothing RHS EFT\n",
      "Smoothing RHS EFT\n",
      "Smoothing RHS EFT\n",
      "Smoothing RHS EFT\n",
      "Smoothing RHS EFT\n",
      "Smoothing RHS EFT\n",
      "Smoothing RHS EFT\n",
      "Smoothing RHS EFT\n",
      "Smoothing RHS EFT\n",
      "Smoothing RHS EFT\n",
      "Smoothing RHS EFT\n",
      "Smoothing RHS EFT\n",
      "Smoothing RHS EFT\n",
      "Smoothing RHS EFT\n",
      "Smoothing RHS EFT\n",
      "reserr-FAS: 398607.1875\n"
     ]
    },
    {
     "data": {
      "text/html": [
       "<pre style=\"white-space:pre;overflow-x:auto;line-height:normal;font-family:Menlo,'DejaVu Sans Mono',consolas,'Courier New',monospace\">param<span style=\"font-weight: bold\">[</span><span style=\"color: #008000; text-decoration-color: #008000\">'nsteps'</span><span style=\"font-weight: bold\">]</span>=<span style=\"color: #008080; text-decoration-color: #008080; font-weight: bold\">76</span> param<span style=\"font-weight: bold\">[</span><span style=\"color: #008000; text-decoration-color: #008000\">'aexp'</span><span style=\"font-weight: bold\">]</span>=<span style=\"color: #008080; text-decoration-color: #008080; font-weight: bold\">0.016996826801802315</span> z = <span style=\"color: #008080; text-decoration-color: #008080; font-weight: bold\">57.834511386205435</span>                                       \n",
       "</pre>\n"
      ],
      "text/plain": [
       "param\u001b[1m[\u001b[0m\u001b[32m'nsteps'\u001b[0m\u001b[1m]\u001b[0m=\u001b[1;36m76\u001b[0m param\u001b[1m[\u001b[0m\u001b[32m'aexp'\u001b[0m\u001b[1m]\u001b[0m=\u001b[1;36m0.016996826801802315\u001b[0m z = \u001b[1;36m57.834511386205435\u001b[0m                                       \n"
      ]
     },
     "metadata": {},
     "output_type": "display_data"
    },
    {
     "name": "stdout",
     "output_type": "stream",
     "text": [
      "Full solver.\n",
      "Smoothing RHS EFT\n",
      "Smoothing RHS EFT\n",
      "Smoothing RHS EFT\n",
      "Smoothing RHS EFT\n",
      "Smoothing RHS EFT\n",
      "Smoothing RHS EFT\n",
      "Smoothing RHS EFT\n",
      "Smoothing RHS EFT\n",
      "Smoothing RHS EFT\n",
      "Smoothing RHS EFT\n",
      "Smoothing RHS EFT\n",
      "Smoothing RHS EFT\n",
      "Smoothing RHS EFT\n",
      "Smoothing RHS EFT\n",
      "Smoothing RHS EFT\n",
      "Smoothing RHS EFT\n",
      "Smoothing RHS EFT\n",
      "Smoothing RHS EFT\n",
      "Smoothing RHS EFT\n",
      "Smoothing RHS EFT\n",
      "Smoothing RHS EFT\n",
      "Smoothing RHS EFT\n",
      "Smoothing RHS EFT\n",
      "Smoothing RHS EFT\n",
      "Smoothing RHS EFT\n",
      "Smoothing RHS EFT\n",
      "reserr-FAS: 398508.09375\n"
     ]
    },
    {
     "data": {
      "text/html": [
       "<pre style=\"white-space:pre;overflow-x:auto;line-height:normal;font-family:Menlo,'DejaVu Sans Mono',consolas,'Courier New',monospace\">param<span style=\"font-weight: bold\">[</span><span style=\"color: #008000; text-decoration-color: #008000\">'nsteps'</span><span style=\"font-weight: bold\">]</span>=<span style=\"color: #008080; text-decoration-color: #008080; font-weight: bold\">77</span> param<span style=\"font-weight: bold\">[</span><span style=\"color: #008000; text-decoration-color: #008000\">'aexp'</span><span style=\"font-weight: bold\">]</span>=<span style=\"color: #008080; text-decoration-color: #008080; font-weight: bold\">0.016998802760905016</span> z = <span style=\"color: #008080; text-decoration-color: #008080; font-weight: bold\">57.82767239936844</span>                                        \n",
       "</pre>\n"
      ],
      "text/plain": [
       "param\u001b[1m[\u001b[0m\u001b[32m'nsteps'\u001b[0m\u001b[1m]\u001b[0m=\u001b[1;36m77\u001b[0m param\u001b[1m[\u001b[0m\u001b[32m'aexp'\u001b[0m\u001b[1m]\u001b[0m=\u001b[1;36m0.016998802760905016\u001b[0m z = \u001b[1;36m57.82767239936844\u001b[0m                                        \n"
      ]
     },
     "metadata": {},
     "output_type": "display_data"
    },
    {
     "name": "stdout",
     "output_type": "stream",
     "text": [
      "Full solver.\n",
      "Smoothing RHS EFT\n",
      "Smoothing RHS EFT\n",
      "Smoothing RHS EFT\n",
      "Smoothing RHS EFT\n",
      "Smoothing RHS EFT\n",
      "Smoothing RHS EFT\n",
      "Smoothing RHS EFT\n",
      "Smoothing RHS EFT\n",
      "Smoothing RHS EFT\n",
      "Smoothing RHS EFT\n",
      "Smoothing RHS EFT\n",
      "Smoothing RHS EFT\n",
      "Smoothing RHS EFT\n",
      "Smoothing RHS EFT\n",
      "Smoothing RHS EFT\n",
      "Smoothing RHS EFT\n",
      "Smoothing RHS EFT\n",
      "Smoothing RHS EFT\n",
      "Smoothing RHS EFT\n",
      "Smoothing RHS EFT\n",
      "Smoothing RHS EFT\n",
      "Smoothing RHS EFT\n",
      "Smoothing RHS EFT\n",
      "Smoothing RHS EFT\n",
      "Smoothing RHS EFT\n",
      "Smoothing RHS EFT\n",
      "reserr-FAS: 398574.25\n"
     ]
    },
    {
     "data": {
      "text/html": [
       "<pre style=\"white-space:pre;overflow-x:auto;line-height:normal;font-family:Menlo,'DejaVu Sans Mono',consolas,'Courier New',monospace\">param<span style=\"font-weight: bold\">[</span><span style=\"color: #008000; text-decoration-color: #008000\">'nsteps'</span><span style=\"font-weight: bold\">]</span>=<span style=\"color: #008080; text-decoration-color: #008080; font-weight: bold\">78</span> param<span style=\"font-weight: bold\">[</span><span style=\"color: #008000; text-decoration-color: #008000\">'aexp'</span><span style=\"font-weight: bold\">]</span>=<span style=\"color: #008080; text-decoration-color: #008080; font-weight: bold\">0.017000785779205448</span> z = <span style=\"color: #008080; text-decoration-color: #008080; font-weight: bold\">57.82081057824706</span>                                        \n",
       "</pre>\n"
      ],
      "text/plain": [
       "param\u001b[1m[\u001b[0m\u001b[32m'nsteps'\u001b[0m\u001b[1m]\u001b[0m=\u001b[1;36m78\u001b[0m param\u001b[1m[\u001b[0m\u001b[32m'aexp'\u001b[0m\u001b[1m]\u001b[0m=\u001b[1;36m0.017000785779205448\u001b[0m z = \u001b[1;36m57.82081057824706\u001b[0m                                        \n"
      ]
     },
     "metadata": {},
     "output_type": "display_data"
    },
    {
     "name": "stdout",
     "output_type": "stream",
     "text": [
      "Full solver.\n",
      "Smoothing RHS EFT\n",
      "Smoothing RHS EFT\n",
      "Smoothing RHS EFT\n",
      "Smoothing RHS EFT\n",
      "Smoothing RHS EFT\n",
      "Smoothing RHS EFT\n",
      "Smoothing RHS EFT\n",
      "Smoothing RHS EFT\n",
      "Smoothing RHS EFT\n",
      "Smoothing RHS EFT\n",
      "Smoothing RHS EFT\n",
      "Smoothing RHS EFT\n",
      "Smoothing RHS EFT\n",
      "Smoothing RHS EFT\n",
      "Smoothing RHS EFT\n",
      "Smoothing RHS EFT\n",
      "Smoothing RHS EFT\n",
      "Smoothing RHS EFT\n",
      "Smoothing RHS EFT\n",
      "Smoothing RHS EFT\n",
      "Smoothing RHS EFT\n",
      "Smoothing RHS EFT\n",
      "Smoothing RHS EFT\n",
      "Smoothing RHS EFT\n",
      "Smoothing RHS EFT\n",
      "Smoothing RHS EFT\n",
      "reserr-FAS: 398801.28125\n"
     ]
    },
    {
     "data": {
      "text/html": [
       "<pre style=\"white-space:pre;overflow-x:auto;line-height:normal;font-family:Menlo,'DejaVu Sans Mono',consolas,'Courier New',monospace\">param<span style=\"font-weight: bold\">[</span><span style=\"color: #008000; text-decoration-color: #008000\">'nsteps'</span><span style=\"font-weight: bold\">]</span>=<span style=\"color: #008080; text-decoration-color: #008080; font-weight: bold\">79</span> param<span style=\"font-weight: bold\">[</span><span style=\"color: #008000; text-decoration-color: #008000\">'aexp'</span><span style=\"font-weight: bold\">]</span>=<span style=\"color: #008080; text-decoration-color: #008080; font-weight: bold\">0.01700277589531136</span> z = <span style=\"color: #008080; text-decoration-color: #008080; font-weight: bold\">57.813925805830166</span>                                        \n",
       "</pre>\n"
      ],
      "text/plain": [
       "param\u001b[1m[\u001b[0m\u001b[32m'nsteps'\u001b[0m\u001b[1m]\u001b[0m=\u001b[1;36m79\u001b[0m param\u001b[1m[\u001b[0m\u001b[32m'aexp'\u001b[0m\u001b[1m]\u001b[0m=\u001b[1;36m0.01700277589531136\u001b[0m z = \u001b[1;36m57.813925805830166\u001b[0m                                        \n"
      ]
     },
     "metadata": {},
     "output_type": "display_data"
    },
    {
     "name": "stdout",
     "output_type": "stream",
     "text": [
      "Full solver.\n",
      "Smoothing RHS EFT\n",
      "Smoothing RHS EFT\n",
      "Smoothing RHS EFT\n",
      "Smoothing RHS EFT\n",
      "Smoothing RHS EFT\n",
      "Smoothing RHS EFT\n",
      "Smoothing RHS EFT\n",
      "Smoothing RHS EFT\n",
      "Smoothing RHS EFT\n",
      "Smoothing RHS EFT\n",
      "Smoothing RHS EFT\n",
      "Smoothing RHS EFT\n",
      "Smoothing RHS EFT\n",
      "Smoothing RHS EFT\n",
      "Smoothing RHS EFT\n",
      "Smoothing RHS EFT\n",
      "Smoothing RHS EFT\n",
      "Smoothing RHS EFT\n",
      "Smoothing RHS EFT\n",
      "Smoothing RHS EFT\n",
      "Smoothing RHS EFT\n",
      "Smoothing RHS EFT\n",
      "Smoothing RHS EFT\n",
      "Smoothing RHS EFT\n",
      "Smoothing RHS EFT\n",
      "Smoothing RHS EFT\n",
      "reserr-FAS: 399166.4375\n"
     ]
    },
    {
     "data": {
      "text/html": [
       "<pre style=\"white-space:pre;overflow-x:auto;line-height:normal;font-family:Menlo,'DejaVu Sans Mono',consolas,'Courier New',monospace\">param<span style=\"font-weight: bold\">[</span><span style=\"color: #008000; text-decoration-color: #008000\">'nsteps'</span><span style=\"font-weight: bold\">]</span>=<span style=\"color: #008080; text-decoration-color: #008080; font-weight: bold\">80</span> param<span style=\"font-weight: bold\">[</span><span style=\"color: #008000; text-decoration-color: #008000\">'aexp'</span><span style=\"font-weight: bold\">]</span>=<span style=\"color: #008080; text-decoration-color: #008080; font-weight: bold\">0.017004765012007147</span> z = <span style=\"color: #008080; text-decoration-color: #008080; font-weight: bold\">57.80704610113078</span>                                        \n",
       "</pre>\n"
      ],
      "text/plain": [
       "param\u001b[1m[\u001b[0m\u001b[32m'nsteps'\u001b[0m\u001b[1m]\u001b[0m=\u001b[1;36m80\u001b[0m param\u001b[1m[\u001b[0m\u001b[32m'aexp'\u001b[0m\u001b[1m]\u001b[0m=\u001b[1;36m0.017004765012007147\u001b[0m z = \u001b[1;36m57.80704610113078\u001b[0m                                        \n"
      ]
     },
     "metadata": {},
     "output_type": "display_data"
    },
    {
     "name": "stdout",
     "output_type": "stream",
     "text": [
      "Full solver.\n",
      "Smoothing RHS EFT\n",
      "Smoothing RHS EFT\n",
      "Smoothing RHS EFT\n",
      "Smoothing RHS EFT\n",
      "Smoothing RHS EFT\n",
      "Smoothing RHS EFT\n",
      "Smoothing RHS EFT\n",
      "Smoothing RHS EFT\n",
      "Smoothing RHS EFT\n",
      "Smoothing RHS EFT\n",
      "Smoothing RHS EFT\n",
      "Smoothing RHS EFT\n",
      "Smoothing RHS EFT\n",
      "Smoothing RHS EFT\n",
      "Smoothing RHS EFT\n",
      "Smoothing RHS EFT\n",
      "Smoothing RHS EFT\n",
      "Smoothing RHS EFT\n",
      "Smoothing RHS EFT\n",
      "Smoothing RHS EFT\n",
      "Smoothing RHS EFT\n",
      "Smoothing RHS EFT\n",
      "Smoothing RHS EFT\n",
      "Smoothing RHS EFT\n",
      "Smoothing RHS EFT\n",
      "Smoothing RHS EFT\n",
      "reserr-FAS: 399627.71875\n"
     ]
    },
    {
     "data": {
      "text/html": [
       "<pre style=\"white-space:pre;overflow-x:auto;line-height:normal;font-family:Menlo,'DejaVu Sans Mono',consolas,'Courier New',monospace\">param<span style=\"font-weight: bold\">[</span><span style=\"color: #008000; text-decoration-color: #008000\">'nsteps'</span><span style=\"font-weight: bold\">]</span>=<span style=\"color: #008080; text-decoration-color: #008080; font-weight: bold\">81</span> param<span style=\"font-weight: bold\">[</span><span style=\"color: #008000; text-decoration-color: #008000\">'aexp'</span><span style=\"font-weight: bold\">]</span>=<span style=\"color: #008080; text-decoration-color: #008080; font-weight: bold\">0.01700675195485283</span> z = <span style=\"color: #008080; text-decoration-color: #008080; font-weight: bold\">57.80017552173758</span>                                         \n",
       "</pre>\n"
      ],
      "text/plain": [
       "param\u001b[1m[\u001b[0m\u001b[32m'nsteps'\u001b[0m\u001b[1m]\u001b[0m=\u001b[1;36m81\u001b[0m param\u001b[1m[\u001b[0m\u001b[32m'aexp'\u001b[0m\u001b[1m]\u001b[0m=\u001b[1;36m0.01700675195485283\u001b[0m z = \u001b[1;36m57.80017552173758\u001b[0m                                         \n"
      ]
     },
     "metadata": {},
     "output_type": "display_data"
    },
    {
     "name": "stdout",
     "output_type": "stream",
     "text": [
      "Full solver.\n",
      "Smoothing RHS EFT\n",
      "Smoothing RHS EFT\n",
      "Smoothing RHS EFT\n",
      "Smoothing RHS EFT\n",
      "Smoothing RHS EFT\n",
      "Smoothing RHS EFT\n",
      "Smoothing RHS EFT\n",
      "Smoothing RHS EFT\n",
      "Smoothing RHS EFT\n",
      "Smoothing RHS EFT\n",
      "Smoothing RHS EFT\n",
      "Smoothing RHS EFT\n",
      "Smoothing RHS EFT\n",
      "Smoothing RHS EFT\n",
      "Smoothing RHS EFT\n",
      "Smoothing RHS EFT\n",
      "Smoothing RHS EFT\n",
      "Smoothing RHS EFT\n",
      "Smoothing RHS EFT\n",
      "Smoothing RHS EFT\n",
      "Smoothing RHS EFT\n",
      "Smoothing RHS EFT\n",
      "Smoothing RHS EFT\n",
      "Smoothing RHS EFT\n",
      "Smoothing RHS EFT\n",
      "Smoothing RHS EFT\n",
      "reserr-FAS: 400216.78125\n"
     ]
    },
    {
     "data": {
      "text/html": [
       "<pre style=\"white-space:pre;overflow-x:auto;line-height:normal;font-family:Menlo,'DejaVu Sans Mono',consolas,'Courier New',monospace\">param<span style=\"font-weight: bold\">[</span><span style=\"color: #008000; text-decoration-color: #008000\">'nsteps'</span><span style=\"font-weight: bold\">]</span>=<span style=\"color: #008080; text-decoration-color: #008080; font-weight: bold\">82</span> param<span style=\"font-weight: bold\">[</span><span style=\"color: #008000; text-decoration-color: #008000\">'aexp'</span><span style=\"font-weight: bold\">]</span>=<span style=\"color: #008080; text-decoration-color: #008080; font-weight: bold\">0.017008737257737907</span> z = <span style=\"color: #008080; text-decoration-color: #008080; font-weight: bold\">57.79331221634709</span>                                        \n",
       "</pre>\n"
      ],
      "text/plain": [
       "param\u001b[1m[\u001b[0m\u001b[32m'nsteps'\u001b[0m\u001b[1m]\u001b[0m=\u001b[1;36m82\u001b[0m param\u001b[1m[\u001b[0m\u001b[32m'aexp'\u001b[0m\u001b[1m]\u001b[0m=\u001b[1;36m0.017008737257737907\u001b[0m z = \u001b[1;36m57.79331221634709\u001b[0m                                        \n"
      ]
     },
     "metadata": {},
     "output_type": "display_data"
    },
    {
     "name": "stdout",
     "output_type": "stream",
     "text": [
      "Full solver.\n",
      "Smoothing RHS EFT\n",
      "Smoothing RHS EFT\n",
      "Smoothing RHS EFT\n",
      "Smoothing RHS EFT\n",
      "Smoothing RHS EFT\n",
      "Smoothing RHS EFT\n",
      "Smoothing RHS EFT\n",
      "Smoothing RHS EFT\n",
      "Smoothing RHS EFT\n",
      "Smoothing RHS EFT\n",
      "Smoothing RHS EFT\n",
      "Smoothing RHS EFT\n",
      "Smoothing RHS EFT\n",
      "Smoothing RHS EFT\n",
      "Smoothing RHS EFT\n",
      "Smoothing RHS EFT\n",
      "Smoothing RHS EFT\n",
      "Smoothing RHS EFT\n",
      "Smoothing RHS EFT\n",
      "Smoothing RHS EFT\n",
      "Smoothing RHS EFT\n",
      "Smoothing RHS EFT\n",
      "Smoothing RHS EFT\n",
      "Smoothing RHS EFT\n",
      "Smoothing RHS EFT\n",
      "Smoothing RHS EFT\n",
      "reserr-FAS: 400863.28125\n"
     ]
    },
    {
     "data": {
      "text/html": [
       "<pre style=\"white-space:pre;overflow-x:auto;line-height:normal;font-family:Menlo,'DejaVu Sans Mono',consolas,'Courier New',monospace\">param<span style=\"font-weight: bold\">[</span><span style=\"color: #008000; text-decoration-color: #008000\">'nsteps'</span><span style=\"font-weight: bold\">]</span>=<span style=\"color: #008080; text-decoration-color: #008080; font-weight: bold\">83</span> param<span style=\"font-weight: bold\">[</span><span style=\"color: #008000; text-decoration-color: #008000\">'aexp'</span><span style=\"font-weight: bold\">]</span>=<span style=\"color: #008080; text-decoration-color: #008080; font-weight: bold\">0.017010721427783877</span> z = <span style=\"color: #008080; text-decoration-color: #008080; font-weight: bold\">57.78645442789301</span>                                        \n",
       "</pre>\n"
      ],
      "text/plain": [
       "param\u001b[1m[\u001b[0m\u001b[32m'nsteps'\u001b[0m\u001b[1m]\u001b[0m=\u001b[1;36m83\u001b[0m param\u001b[1m[\u001b[0m\u001b[32m'aexp'\u001b[0m\u001b[1m]\u001b[0m=\u001b[1;36m0.017010721427783877\u001b[0m z = \u001b[1;36m57.78645442789301\u001b[0m                                        \n"
      ]
     },
     "metadata": {},
     "output_type": "display_data"
    },
    {
     "name": "stdout",
     "output_type": "stream",
     "text": [
      "Full solver.\n",
      "Smoothing RHS EFT\n",
      "Smoothing RHS EFT\n",
      "Smoothing RHS EFT\n",
      "Smoothing RHS EFT\n",
      "Smoothing RHS EFT\n",
      "Smoothing RHS EFT\n",
      "Smoothing RHS EFT\n",
      "Smoothing RHS EFT\n",
      "Smoothing RHS EFT\n",
      "Smoothing RHS EFT\n",
      "Smoothing RHS EFT\n",
      "Smoothing RHS EFT\n",
      "Smoothing RHS EFT\n",
      "Smoothing RHS EFT\n",
      "Smoothing RHS EFT\n",
      "Smoothing RHS EFT\n",
      "Smoothing RHS EFT\n",
      "Smoothing RHS EFT\n",
      "Smoothing RHS EFT\n",
      "Smoothing RHS EFT\n",
      "Smoothing RHS EFT\n",
      "Smoothing RHS EFT\n",
      "Smoothing RHS EFT\n",
      "Smoothing RHS EFT\n",
      "Smoothing RHS EFT\n",
      "Smoothing RHS EFT\n",
      "reserr-FAS: 401569.21875\n"
     ]
    },
    {
     "data": {
      "text/html": [
       "<pre style=\"white-space:pre;overflow-x:auto;line-height:normal;font-family:Menlo,'DejaVu Sans Mono',consolas,'Courier New',monospace\">param<span style=\"font-weight: bold\">[</span><span style=\"color: #008000; text-decoration-color: #008000\">'nsteps'</span><span style=\"font-weight: bold\">]</span>=<span style=\"color: #008080; text-decoration-color: #008080; font-weight: bold\">84</span> param<span style=\"font-weight: bold\">[</span><span style=\"color: #008000; text-decoration-color: #008000\">'aexp'</span><span style=\"font-weight: bold\">]</span>=<span style=\"color: #008080; text-decoration-color: #008080; font-weight: bold\">0.017012704982468266</span> z = <span style=\"color: #008080; text-decoration-color: #008080; font-weight: bold\">57.779600365168754</span>                                       \n",
       "</pre>\n"
      ],
      "text/plain": [
       "param\u001b[1m[\u001b[0m\u001b[32m'nsteps'\u001b[0m\u001b[1m]\u001b[0m=\u001b[1;36m84\u001b[0m param\u001b[1m[\u001b[0m\u001b[32m'aexp'\u001b[0m\u001b[1m]\u001b[0m=\u001b[1;36m0.017012704982468266\u001b[0m z = \u001b[1;36m57.779600365168754\u001b[0m                                       \n"
      ]
     },
     "metadata": {},
     "output_type": "display_data"
    },
    {
     "name": "stdout",
     "output_type": "stream",
     "text": [
      "Full solver.\n",
      "Smoothing RHS EFT\n",
      "Smoothing RHS EFT\n",
      "Smoothing RHS EFT\n",
      "Smoothing RHS EFT\n",
      "Smoothing RHS EFT\n",
      "Smoothing RHS EFT\n",
      "Smoothing RHS EFT\n",
      "Smoothing RHS EFT\n",
      "Smoothing RHS EFT\n",
      "Smoothing RHS EFT\n",
      "Smoothing RHS EFT\n",
      "Smoothing RHS EFT\n",
      "Smoothing RHS EFT\n",
      "Smoothing RHS EFT\n",
      "Smoothing RHS EFT\n",
      "Smoothing RHS EFT\n",
      "Smoothing RHS EFT\n",
      "Smoothing RHS EFT\n",
      "Smoothing RHS EFT\n",
      "Smoothing RHS EFT\n",
      "Smoothing RHS EFT\n",
      "Smoothing RHS EFT\n",
      "Smoothing RHS EFT\n",
      "Smoothing RHS EFT\n",
      "Smoothing RHS EFT\n",
      "Smoothing RHS EFT\n",
      "reserr-FAS: 402320.125\n"
     ]
    },
    {
     "data": {
      "text/html": [
       "<pre style=\"white-space:pre;overflow-x:auto;line-height:normal;font-family:Menlo,'DejaVu Sans Mono',consolas,'Courier New',monospace\">param<span style=\"font-weight: bold\">[</span><span style=\"color: #008000; text-decoration-color: #008000\">'nsteps'</span><span style=\"font-weight: bold\">]</span>=<span style=\"color: #008080; text-decoration-color: #008080; font-weight: bold\">85</span> param<span style=\"font-weight: bold\">[</span><span style=\"color: #008000; text-decoration-color: #008000\">'aexp'</span><span style=\"font-weight: bold\">]</span>=<span style=\"color: #008080; text-decoration-color: #008080; font-weight: bold\">0.017014688475773917</span> z = <span style=\"color: #008080; text-decoration-color: #008080; font-weight: bold\">57.77274811254014</span>                                        \n",
       "</pre>\n"
      ],
      "text/plain": [
       "param\u001b[1m[\u001b[0m\u001b[32m'nsteps'\u001b[0m\u001b[1m]\u001b[0m=\u001b[1;36m85\u001b[0m param\u001b[1m[\u001b[0m\u001b[32m'aexp'\u001b[0m\u001b[1m]\u001b[0m=\u001b[1;36m0.017014688475773917\u001b[0m z = \u001b[1;36m57.77274811254014\u001b[0m                                        \n"
      ]
     },
     "metadata": {},
     "output_type": "display_data"
    },
    {
     "name": "stdout",
     "output_type": "stream",
     "text": [
      "Full solver.\n",
      "Smoothing RHS EFT\n",
      "Smoothing RHS EFT\n",
      "Smoothing RHS EFT\n",
      "Smoothing RHS EFT\n",
      "Smoothing RHS EFT\n",
      "Smoothing RHS EFT\n",
      "Smoothing RHS EFT\n",
      "Smoothing RHS EFT\n",
      "Smoothing RHS EFT\n",
      "Smoothing RHS EFT\n",
      "Smoothing RHS EFT\n",
      "Smoothing RHS EFT\n",
      "Smoothing RHS EFT\n",
      "Smoothing RHS EFT\n",
      "Smoothing RHS EFT\n",
      "Smoothing RHS EFT\n",
      "Smoothing RHS EFT\n",
      "Smoothing RHS EFT\n",
      "Smoothing RHS EFT\n",
      "Smoothing RHS EFT\n",
      "Smoothing RHS EFT\n",
      "Smoothing RHS EFT\n",
      "Smoothing RHS EFT\n",
      "Smoothing RHS EFT\n",
      "Smoothing RHS EFT\n",
      "Smoothing RHS EFT\n",
      "reserr-FAS: 403081.34375\n"
     ]
    },
    {
     "data": {
      "text/html": [
       "<pre style=\"white-space:pre;overflow-x:auto;line-height:normal;font-family:Menlo,'DejaVu Sans Mono',consolas,'Courier New',monospace\">param<span style=\"font-weight: bold\">[</span><span style=\"color: #008000; text-decoration-color: #008000\">'nsteps'</span><span style=\"font-weight: bold\">]</span>=<span style=\"color: #008080; text-decoration-color: #008080; font-weight: bold\">86</span> param<span style=\"font-weight: bold\">[</span><span style=\"color: #008000; text-decoration-color: #008000\">'aexp'</span><span style=\"font-weight: bold\">]</span>=<span style=\"color: #008080; text-decoration-color: #008080; font-weight: bold\">0.01701667251728336</span> z = <span style=\"color: #008080; text-decoration-color: #008080; font-weight: bold\">57.7658955641491</span>                                          \n",
       "</pre>\n"
      ],
      "text/plain": [
       "param\u001b[1m[\u001b[0m\u001b[32m'nsteps'\u001b[0m\u001b[1m]\u001b[0m=\u001b[1;36m86\u001b[0m param\u001b[1m[\u001b[0m\u001b[32m'aexp'\u001b[0m\u001b[1m]\u001b[0m=\u001b[1;36m0.01701667251728336\u001b[0m z = \u001b[1;36m57.7658955641491\u001b[0m                                          \n"
      ]
     },
     "metadata": {},
     "output_type": "display_data"
    },
    {
     "name": "stdout",
     "output_type": "stream",
     "text": [
      "Full solver.\n",
      "Smoothing RHS EFT\n",
      "Smoothing RHS EFT\n",
      "Smoothing RHS EFT\n",
      "Smoothing RHS EFT\n",
      "Smoothing RHS EFT\n",
      "Smoothing RHS EFT\n",
      "Smoothing RHS EFT\n",
      "Smoothing RHS EFT\n",
      "Smoothing RHS EFT\n",
      "Smoothing RHS EFT\n",
      "Smoothing RHS EFT\n",
      "Smoothing RHS EFT\n",
      "Smoothing RHS EFT\n",
      "Smoothing RHS EFT\n",
      "Smoothing RHS EFT\n",
      "Smoothing RHS EFT\n",
      "Smoothing RHS EFT\n",
      "Smoothing RHS EFT\n",
      "Smoothing RHS EFT\n",
      "Smoothing RHS EFT\n",
      "Smoothing RHS EFT\n",
      "Smoothing RHS EFT\n",
      "Smoothing RHS EFT\n",
      "Smoothing RHS EFT\n",
      "Smoothing RHS EFT\n",
      "Smoothing RHS EFT\n",
      "reserr-FAS: 403891.84375\n"
     ]
    },
    {
     "data": {
      "text/html": [
       "<pre style=\"white-space:pre;overflow-x:auto;line-height:normal;font-family:Menlo,'DejaVu Sans Mono',consolas,'Courier New',monospace\">param<span style=\"font-weight: bold\">[</span><span style=\"color: #008000; text-decoration-color: #008000\">'nsteps'</span><span style=\"font-weight: bold\">]</span>=<span style=\"color: #008080; text-decoration-color: #008080; font-weight: bold\">87</span> param<span style=\"font-weight: bold\">[</span><span style=\"color: #008000; text-decoration-color: #008000\">'aexp'</span><span style=\"font-weight: bold\">]</span>=<span style=\"color: #008080; text-decoration-color: #008080; font-weight: bold\">0.017018657588284875</span> z = <span style=\"color: #008080; text-decoration-color: #008080; font-weight: bold\">57.7590410590533</span>                                         \n",
       "</pre>\n"
      ],
      "text/plain": [
       "param\u001b[1m[\u001b[0m\u001b[32m'nsteps'\u001b[0m\u001b[1m]\u001b[0m=\u001b[1;36m87\u001b[0m param\u001b[1m[\u001b[0m\u001b[32m'aexp'\u001b[0m\u001b[1m]\u001b[0m=\u001b[1;36m0.017018657588284875\u001b[0m z = \u001b[1;36m57.7590410590533\u001b[0m                                         \n"
      ]
     },
     "metadata": {},
     "output_type": "display_data"
    },
    {
     "name": "stdout",
     "output_type": "stream",
     "text": [
      "Full solver.\n",
      "Smoothing RHS EFT\n",
      "Smoothing RHS EFT\n",
      "Smoothing RHS EFT\n",
      "Smoothing RHS EFT\n",
      "Smoothing RHS EFT\n",
      "Smoothing RHS EFT\n",
      "Smoothing RHS EFT\n",
      "Smoothing RHS EFT\n",
      "Smoothing RHS EFT\n",
      "Smoothing RHS EFT\n",
      "Smoothing RHS EFT\n",
      "Smoothing RHS EFT\n",
      "Smoothing RHS EFT\n",
      "Smoothing RHS EFT\n",
      "Smoothing RHS EFT\n",
      "Smoothing RHS EFT\n",
      "Smoothing RHS EFT\n",
      "Smoothing RHS EFT\n",
      "Smoothing RHS EFT\n",
      "Smoothing RHS EFT\n",
      "Smoothing RHS EFT\n",
      "Smoothing RHS EFT\n",
      "Smoothing RHS EFT\n",
      "Smoothing RHS EFT\n",
      "Smoothing RHS EFT\n",
      "Smoothing RHS EFT\n",
      "reserr-FAS: 404682.0625\n"
     ]
    },
    {
     "data": {
      "text/html": [
       "<pre style=\"white-space:pre;overflow-x:auto;line-height:normal;font-family:Menlo,'DejaVu Sans Mono',consolas,'Courier New',monospace\">param<span style=\"font-weight: bold\">[</span><span style=\"color: #008000; text-decoration-color: #008000\">'nsteps'</span><span style=\"font-weight: bold\">]</span>=<span style=\"color: #008080; text-decoration-color: #008080; font-weight: bold\">88</span> param<span style=\"font-weight: bold\">[</span><span style=\"color: #008000; text-decoration-color: #008000\">'aexp'</span><span style=\"font-weight: bold\">]</span>=<span style=\"color: #008080; text-decoration-color: #008080; font-weight: bold\">0.0170206434949936</span> z = <span style=\"color: #008080; text-decoration-color: #008080; font-weight: bold\">57.75218526809147</span>                                          \n",
       "</pre>\n"
      ],
      "text/plain": [
       "param\u001b[1m[\u001b[0m\u001b[32m'nsteps'\u001b[0m\u001b[1m]\u001b[0m=\u001b[1;36m88\u001b[0m param\u001b[1m[\u001b[0m\u001b[32m'aexp'\u001b[0m\u001b[1m]\u001b[0m=\u001b[1;36m0.0170206434949936\u001b[0m z = \u001b[1;36m57.75218526809147\u001b[0m                                          \n"
      ]
     },
     "metadata": {},
     "output_type": "display_data"
    },
    {
     "name": "stdout",
     "output_type": "stream",
     "text": [
      "Full solver.\n",
      "Smoothing RHS EFT\n",
      "Smoothing RHS EFT\n",
      "Smoothing RHS EFT\n",
      "Smoothing RHS EFT\n",
      "Smoothing RHS EFT\n",
      "Smoothing RHS EFT\n",
      "Smoothing RHS EFT\n",
      "Smoothing RHS EFT\n",
      "Smoothing RHS EFT\n",
      "Smoothing RHS EFT\n",
      "Smoothing RHS EFT\n",
      "Smoothing RHS EFT\n",
      "Smoothing RHS EFT\n",
      "Smoothing RHS EFT\n",
      "Smoothing RHS EFT\n",
      "Smoothing RHS EFT\n",
      "Smoothing RHS EFT\n",
      "Smoothing RHS EFT\n",
      "Smoothing RHS EFT\n",
      "Smoothing RHS EFT\n",
      "Smoothing RHS EFT\n",
      "Smoothing RHS EFT\n",
      "Smoothing RHS EFT\n",
      "Smoothing RHS EFT\n",
      "Smoothing RHS EFT\n",
      "Smoothing RHS EFT\n",
      "reserr-FAS: 405452.78125\n"
     ]
    },
    {
     "data": {
      "text/html": [
       "<pre style=\"white-space:pre;overflow-x:auto;line-height:normal;font-family:Menlo,'DejaVu Sans Mono',consolas,'Courier New',monospace\">param<span style=\"font-weight: bold\">[</span><span style=\"color: #008000; text-decoration-color: #008000\">'nsteps'</span><span style=\"font-weight: bold\">]</span>=<span style=\"color: #008080; text-decoration-color: #008080; font-weight: bold\">89</span> param<span style=\"font-weight: bold\">[</span><span style=\"color: #008000; text-decoration-color: #008000\">'aexp'</span><span style=\"font-weight: bold\">]</span>=<span style=\"color: #008080; text-decoration-color: #008080; font-weight: bold\">0.017022630954719262</span> z = <span style=\"color: #008080; text-decoration-color: #008080; font-weight: bold\">57.74532571727788</span>                                        \n",
       "</pre>\n"
      ],
      "text/plain": [
       "param\u001b[1m[\u001b[0m\u001b[32m'nsteps'\u001b[0m\u001b[1m]\u001b[0m=\u001b[1;36m89\u001b[0m param\u001b[1m[\u001b[0m\u001b[32m'aexp'\u001b[0m\u001b[1m]\u001b[0m=\u001b[1;36m0.017022630954719262\u001b[0m z = \u001b[1;36m57.74532571727788\u001b[0m                                        \n"
      ]
     },
     "metadata": {},
     "output_type": "display_data"
    },
    {
     "name": "stdout",
     "output_type": "stream",
     "text": [
      "Full solver.\n",
      "Smoothing RHS EFT\n",
      "Smoothing RHS EFT\n",
      "Smoothing RHS EFT\n",
      "Smoothing RHS EFT\n",
      "Smoothing RHS EFT\n",
      "Smoothing RHS EFT\n",
      "Smoothing RHS EFT\n",
      "Smoothing RHS EFT\n",
      "Smoothing RHS EFT\n",
      "Smoothing RHS EFT\n",
      "Smoothing RHS EFT\n",
      "Smoothing RHS EFT\n",
      "Smoothing RHS EFT\n",
      "Smoothing RHS EFT\n",
      "Smoothing RHS EFT\n",
      "Smoothing RHS EFT\n",
      "Smoothing RHS EFT\n",
      "Smoothing RHS EFT\n",
      "Smoothing RHS EFT\n",
      "Smoothing RHS EFT\n",
      "Smoothing RHS EFT\n",
      "Smoothing RHS EFT\n",
      "Smoothing RHS EFT\n",
      "Smoothing RHS EFT\n",
      "Smoothing RHS EFT\n",
      "Smoothing RHS EFT\n",
      "reserr-FAS: 406195.0625\n"
     ]
    },
    {
     "data": {
      "text/html": [
       "<pre style=\"white-space:pre;overflow-x:auto;line-height:normal;font-family:Menlo,'DejaVu Sans Mono',consolas,'Courier New',monospace\">param<span style=\"font-weight: bold\">[</span><span style=\"color: #008000; text-decoration-color: #008000\">'nsteps'</span><span style=\"font-weight: bold\">]</span>=<span style=\"color: #008080; text-decoration-color: #008080; font-weight: bold\">90</span> param<span style=\"font-weight: bold\">[</span><span style=\"color: #008000; text-decoration-color: #008000\">'aexp'</span><span style=\"font-weight: bold\">]</span>=<span style=\"color: #008080; text-decoration-color: #008080; font-weight: bold\">0.017024620705716937</span> z = <span style=\"color: #008080; text-decoration-color: #008080; font-weight: bold\">57.73845986267382</span>                                        \n",
       "</pre>\n"
      ],
      "text/plain": [
       "param\u001b[1m[\u001b[0m\u001b[32m'nsteps'\u001b[0m\u001b[1m]\u001b[0m=\u001b[1;36m90\u001b[0m param\u001b[1m[\u001b[0m\u001b[32m'aexp'\u001b[0m\u001b[1m]\u001b[0m=\u001b[1;36m0.017024620705716937\u001b[0m z = \u001b[1;36m57.73845986267382\u001b[0m                                        \n"
      ]
     },
     "metadata": {},
     "output_type": "display_data"
    },
    {
     "name": "stdout",
     "output_type": "stream",
     "text": [
      "Full solver.\n",
      "Smoothing RHS EFT\n",
      "Smoothing RHS EFT\n",
      "Smoothing RHS EFT\n",
      "Smoothing RHS EFT\n",
      "Smoothing RHS EFT\n",
      "Smoothing RHS EFT\n",
      "Smoothing RHS EFT\n",
      "Smoothing RHS EFT\n",
      "Smoothing RHS EFT\n",
      "Smoothing RHS EFT\n",
      "Smoothing RHS EFT\n",
      "Smoothing RHS EFT\n",
      "Smoothing RHS EFT\n",
      "Smoothing RHS EFT\n",
      "Smoothing RHS EFT\n",
      "Smoothing RHS EFT\n",
      "Smoothing RHS EFT\n",
      "Smoothing RHS EFT\n",
      "Smoothing RHS EFT\n",
      "Smoothing RHS EFT\n",
      "Smoothing RHS EFT\n",
      "Smoothing RHS EFT\n",
      "Smoothing RHS EFT\n",
      "Smoothing RHS EFT\n",
      "Smoothing RHS EFT\n",
      "Smoothing RHS EFT\n",
      "reserr-FAS: 406884.28125\n"
     ]
    },
    {
     "data": {
      "text/html": [
       "<pre style=\"white-space:pre;overflow-x:auto;line-height:normal;font-family:Menlo,'DejaVu Sans Mono',consolas,'Courier New',monospace\">param<span style=\"font-weight: bold\">[</span><span style=\"color: #008000; text-decoration-color: #008000\">'nsteps'</span><span style=\"font-weight: bold\">]</span>=<span style=\"color: #008080; text-decoration-color: #008080; font-weight: bold\">91</span> param<span style=\"font-weight: bold\">[</span><span style=\"color: #008000; text-decoration-color: #008000\">'aexp'</span><span style=\"font-weight: bold\">]</span>=<span style=\"color: #008080; text-decoration-color: #008080; font-weight: bold\">0.017026613492505217</span> z = <span style=\"color: #008080; text-decoration-color: #008080; font-weight: bold\">57.731585141119254</span>                                       \n",
       "</pre>\n"
      ],
      "text/plain": [
       "param\u001b[1m[\u001b[0m\u001b[32m'nsteps'\u001b[0m\u001b[1m]\u001b[0m=\u001b[1;36m91\u001b[0m param\u001b[1m[\u001b[0m\u001b[32m'aexp'\u001b[0m\u001b[1m]\u001b[0m=\u001b[1;36m0.017026613492505217\u001b[0m z = \u001b[1;36m57.731585141119254\u001b[0m                                       \n"
      ]
     },
     "metadata": {},
     "output_type": "display_data"
    },
    {
     "name": "stdout",
     "output_type": "stream",
     "text": [
      "Full solver.\n",
      "Smoothing RHS EFT\n",
      "Smoothing RHS EFT\n",
      "Smoothing RHS EFT\n",
      "Smoothing RHS EFT\n",
      "Smoothing RHS EFT\n",
      "Smoothing RHS EFT\n",
      "Smoothing RHS EFT\n",
      "Smoothing RHS EFT\n",
      "Smoothing RHS EFT\n",
      "Smoothing RHS EFT\n",
      "Smoothing RHS EFT\n",
      "Smoothing RHS EFT\n",
      "Smoothing RHS EFT\n",
      "Smoothing RHS EFT\n",
      "Smoothing RHS EFT\n",
      "Smoothing RHS EFT\n",
      "Smoothing RHS EFT\n",
      "Smoothing RHS EFT\n",
      "Smoothing RHS EFT\n",
      "Smoothing RHS EFT\n",
      "Smoothing RHS EFT\n",
      "Smoothing RHS EFT\n",
      "Smoothing RHS EFT\n",
      "Smoothing RHS EFT\n",
      "Smoothing RHS EFT\n",
      "Smoothing RHS EFT\n",
      "reserr-FAS: 407573.53125\n"
     ]
    },
    {
     "data": {
      "text/html": [
       "<pre style=\"white-space:pre;overflow-x:auto;line-height:normal;font-family:Menlo,'DejaVu Sans Mono',consolas,'Courier New',monospace\">param<span style=\"font-weight: bold\">[</span><span style=\"color: #008000; text-decoration-color: #008000\">'nsteps'</span><span style=\"font-weight: bold\">]</span>=<span style=\"color: #008080; text-decoration-color: #008080; font-weight: bold\">92</span> param<span style=\"font-weight: bold\">[</span><span style=\"color: #008000; text-decoration-color: #008000\">'aexp'</span><span style=\"font-weight: bold\">]</span>=<span style=\"color: #008080; text-decoration-color: #008080; font-weight: bold\">0.017028610049782</span> z = <span style=\"color: #008080; text-decoration-color: #008080; font-weight: bold\">57.72469902573181</span>                                           \n",
       "</pre>\n"
      ],
      "text/plain": [
       "param\u001b[1m[\u001b[0m\u001b[32m'nsteps'\u001b[0m\u001b[1m]\u001b[0m=\u001b[1;36m92\u001b[0m param\u001b[1m[\u001b[0m\u001b[32m'aexp'\u001b[0m\u001b[1m]\u001b[0m=\u001b[1;36m0.017028610049782\u001b[0m z = \u001b[1;36m57.72469902573181\u001b[0m                                           \n"
      ]
     },
     "metadata": {},
     "output_type": "display_data"
    },
    {
     "name": "stdout",
     "output_type": "stream",
     "text": [
      "Full solver.\n",
      "Smoothing RHS EFT\n",
      "Smoothing RHS EFT\n",
      "Smoothing RHS EFT\n",
      "Smoothing RHS EFT\n",
      "Smoothing RHS EFT\n",
      "Smoothing RHS EFT\n",
      "Smoothing RHS EFT\n",
      "Smoothing RHS EFT\n",
      "Smoothing RHS EFT\n",
      "Smoothing RHS EFT\n",
      "Smoothing RHS EFT\n",
      "Smoothing RHS EFT\n",
      "Smoothing RHS EFT\n",
      "Smoothing RHS EFT\n",
      "Smoothing RHS EFT\n",
      "Smoothing RHS EFT\n",
      "Smoothing RHS EFT\n",
      "Smoothing RHS EFT\n",
      "Smoothing RHS EFT\n",
      "Smoothing RHS EFT\n",
      "Smoothing RHS EFT\n",
      "Smoothing RHS EFT\n",
      "Smoothing RHS EFT\n",
      "Smoothing RHS EFT\n",
      "Smoothing RHS EFT\n",
      "Smoothing RHS EFT\n",
      "reserr-FAS: 408209.0\n"
     ]
    },
    {
     "data": {
      "text/html": [
       "<pre style=\"white-space:pre;overflow-x:auto;line-height:normal;font-family:Menlo,'DejaVu Sans Mono',consolas,'Courier New',monospace\">param<span style=\"font-weight: bold\">[</span><span style=\"color: #008000; text-decoration-color: #008000\">'nsteps'</span><span style=\"font-weight: bold\">]</span>=<span style=\"color: #008080; text-decoration-color: #008080; font-weight: bold\">93</span> param<span style=\"font-weight: bold\">[</span><span style=\"color: #008000; text-decoration-color: #008000\">'aexp'</span><span style=\"font-weight: bold\">]</span>=<span style=\"color: #008080; text-decoration-color: #008080; font-weight: bold\">0.01703061108089607</span> z = <span style=\"color: #008080; text-decoration-color: #008080; font-weight: bold\">57.71779910010046</span>                                         \n",
       "</pre>\n"
      ],
      "text/plain": [
       "param\u001b[1m[\u001b[0m\u001b[32m'nsteps'\u001b[0m\u001b[1m]\u001b[0m=\u001b[1;36m93\u001b[0m param\u001b[1m[\u001b[0m\u001b[32m'aexp'\u001b[0m\u001b[1m]\u001b[0m=\u001b[1;36m0.01703061108089607\u001b[0m z = \u001b[1;36m57.71779910010046\u001b[0m                                         \n"
      ]
     },
     "metadata": {},
     "output_type": "display_data"
    },
    {
     "name": "stdout",
     "output_type": "stream",
     "text": [
      "Full solver.\n",
      "Smoothing RHS EFT\n",
      "Smoothing RHS EFT\n",
      "Smoothing RHS EFT\n",
      "Smoothing RHS EFT\n",
      "Smoothing RHS EFT\n",
      "Smoothing RHS EFT\n",
      "Smoothing RHS EFT\n",
      "Smoothing RHS EFT\n",
      "Smoothing RHS EFT\n",
      "Smoothing RHS EFT\n",
      "Smoothing RHS EFT\n",
      "Smoothing RHS EFT\n",
      "Smoothing RHS EFT\n",
      "Smoothing RHS EFT\n",
      "Smoothing RHS EFT\n",
      "Smoothing RHS EFT\n",
      "Smoothing RHS EFT\n",
      "Smoothing RHS EFT\n",
      "Smoothing RHS EFT\n",
      "Smoothing RHS EFT\n",
      "Smoothing RHS EFT\n",
      "Smoothing RHS EFT\n",
      "Smoothing RHS EFT\n",
      "Smoothing RHS EFT\n",
      "Smoothing RHS EFT\n",
      "Smoothing RHS EFT\n",
      "reserr-FAS: 408812.25\n"
     ]
    },
    {
     "data": {
      "text/html": [
       "<pre style=\"white-space:pre;overflow-x:auto;line-height:normal;font-family:Menlo,'DejaVu Sans Mono',consolas,'Courier New',monospace\">param<span style=\"font-weight: bold\">[</span><span style=\"color: #008000; text-decoration-color: #008000\">'nsteps'</span><span style=\"font-weight: bold\">]</span>=<span style=\"color: #008080; text-decoration-color: #008080; font-weight: bold\">94</span> param<span style=\"font-weight: bold\">[</span><span style=\"color: #008000; text-decoration-color: #008000\">'aexp'</span><span style=\"font-weight: bold\">]</span>=<span style=\"color: #008080; text-decoration-color: #008080; font-weight: bold\">0.017032617274691252</span> z = <span style=\"color: #008080; text-decoration-color: #008080; font-weight: bold\">57.71088300010703</span>                                        \n",
       "</pre>\n"
      ],
      "text/plain": [
       "param\u001b[1m[\u001b[0m\u001b[32m'nsteps'\u001b[0m\u001b[1m]\u001b[0m=\u001b[1;36m94\u001b[0m param\u001b[1m[\u001b[0m\u001b[32m'aexp'\u001b[0m\u001b[1m]\u001b[0m=\u001b[1;36m0.017032617274691252\u001b[0m z = \u001b[1;36m57.71088300010703\u001b[0m                                        \n"
      ]
     },
     "metadata": {},
     "output_type": "display_data"
    },
    {
     "name": "stdout",
     "output_type": "stream",
     "text": [
      "Full solver.\n",
      "Smoothing RHS EFT\n",
      "Smoothing RHS EFT\n",
      "Smoothing RHS EFT\n",
      "Smoothing RHS EFT\n",
      "Smoothing RHS EFT\n",
      "Smoothing RHS EFT\n",
      "Smoothing RHS EFT\n",
      "Smoothing RHS EFT\n",
      "Smoothing RHS EFT\n",
      "Smoothing RHS EFT\n",
      "Smoothing RHS EFT\n",
      "Smoothing RHS EFT\n",
      "Smoothing RHS EFT\n",
      "Smoothing RHS EFT\n",
      "Smoothing RHS EFT\n",
      "Smoothing RHS EFT\n",
      "Smoothing RHS EFT\n",
      "Smoothing RHS EFT\n",
      "Smoothing RHS EFT\n",
      "Smoothing RHS EFT\n",
      "Smoothing RHS EFT\n",
      "Smoothing RHS EFT\n",
      "Smoothing RHS EFT\n",
      "Smoothing RHS EFT\n",
      "Smoothing RHS EFT\n",
      "Smoothing RHS EFT\n",
      "reserr-FAS: 409370.75\n"
     ]
    },
    {
     "data": {
      "text/html": [
       "<pre style=\"white-space:pre;overflow-x:auto;line-height:normal;font-family:Menlo,'DejaVu Sans Mono',consolas,'Courier New',monospace\">param<span style=\"font-weight: bold\">[</span><span style=\"color: #008000; text-decoration-color: #008000\">'nsteps'</span><span style=\"font-weight: bold\">]</span>=<span style=\"color: #008080; text-decoration-color: #008080; font-weight: bold\">95</span> param<span style=\"font-weight: bold\">[</span><span style=\"color: #008000; text-decoration-color: #008000\">'aexp'</span><span style=\"font-weight: bold\">]</span>=<span style=\"color: #008080; text-decoration-color: #008080; font-weight: bold\">0.017034629304718038</span> z = <span style=\"color: #008080; text-decoration-color: #008080; font-weight: bold\">57.703948416595864</span>                                       \n",
       "</pre>\n"
      ],
      "text/plain": [
       "param\u001b[1m[\u001b[0m\u001b[32m'nsteps'\u001b[0m\u001b[1m]\u001b[0m=\u001b[1;36m95\u001b[0m param\u001b[1m[\u001b[0m\u001b[32m'aexp'\u001b[0m\u001b[1m]\u001b[0m=\u001b[1;36m0.017034629304718038\u001b[0m z = \u001b[1;36m57.703948416595864\u001b[0m                                       \n"
      ]
     },
     "metadata": {},
     "output_type": "display_data"
    },
    {
     "name": "stdout",
     "output_type": "stream",
     "text": [
      "Full solver.\n",
      "Smoothing RHS EFT\n",
      "Smoothing RHS EFT\n",
      "Smoothing RHS EFT\n",
      "Smoothing RHS EFT\n",
      "Smoothing RHS EFT\n",
      "Smoothing RHS EFT\n",
      "Smoothing RHS EFT\n",
      "Smoothing RHS EFT\n",
      "Smoothing RHS EFT\n",
      "Smoothing RHS EFT\n",
      "Smoothing RHS EFT\n",
      "Smoothing RHS EFT\n",
      "Smoothing RHS EFT\n",
      "Smoothing RHS EFT\n",
      "Smoothing RHS EFT\n",
      "Smoothing RHS EFT\n",
      "Smoothing RHS EFT\n",
      "Smoothing RHS EFT\n",
      "Smoothing RHS EFT\n",
      "Smoothing RHS EFT\n",
      "Smoothing RHS EFT\n",
      "Smoothing RHS EFT\n",
      "Smoothing RHS EFT\n",
      "Smoothing RHS EFT\n",
      "Smoothing RHS EFT\n",
      "Smoothing RHS EFT\n",
      "reserr-FAS: 409940.375\n"
     ]
    },
    {
     "data": {
      "text/html": [
       "<pre style=\"white-space:pre;overflow-x:auto;line-height:normal;font-family:Menlo,'DejaVu Sans Mono',consolas,'Courier New',monospace\">param<span style=\"font-weight: bold\">[</span><span style=\"color: #008000; text-decoration-color: #008000\">'nsteps'</span><span style=\"font-weight: bold\">]</span>=<span style=\"color: #008080; text-decoration-color: #008080; font-weight: bold\">96</span> param<span style=\"font-weight: bold\">[</span><span style=\"color: #008000; text-decoration-color: #008000\">'aexp'</span><span style=\"font-weight: bold\">]</span>=<span style=\"color: #008080; text-decoration-color: #008080; font-weight: bold\">0.017036647826338975</span> z = <span style=\"color: #008080; text-decoration-color: #008080; font-weight: bold\">57.69699310529747</span>                                        \n",
       "</pre>\n"
      ],
      "text/plain": [
       "param\u001b[1m[\u001b[0m\u001b[32m'nsteps'\u001b[0m\u001b[1m]\u001b[0m=\u001b[1;36m96\u001b[0m param\u001b[1m[\u001b[0m\u001b[32m'aexp'\u001b[0m\u001b[1m]\u001b[0m=\u001b[1;36m0.017036647826338975\u001b[0m z = \u001b[1;36m57.69699310529747\u001b[0m                                        \n"
      ]
     },
     "metadata": {},
     "output_type": "display_data"
    },
    {
     "name": "stdout",
     "output_type": "stream",
     "text": [
      "Full solver.\n",
      "Smoothing RHS EFT\n",
      "Smoothing RHS EFT\n",
      "Smoothing RHS EFT\n",
      "Smoothing RHS EFT\n",
      "Smoothing RHS EFT\n",
      "Smoothing RHS EFT\n",
      "Smoothing RHS EFT\n",
      "Smoothing RHS EFT\n",
      "Smoothing RHS EFT\n",
      "Smoothing RHS EFT\n",
      "Smoothing RHS EFT\n",
      "Smoothing RHS EFT\n",
      "Smoothing RHS EFT\n",
      "Smoothing RHS EFT\n",
      "Smoothing RHS EFT\n",
      "Smoothing RHS EFT\n",
      "Smoothing RHS EFT\n",
      "Smoothing RHS EFT\n",
      "Smoothing RHS EFT\n",
      "Smoothing RHS EFT\n",
      "Smoothing RHS EFT\n",
      "Smoothing RHS EFT\n",
      "Smoothing RHS EFT\n",
      "Smoothing RHS EFT\n",
      "Smoothing RHS EFT\n",
      "Smoothing RHS EFT\n",
      "reserr-FAS: 410467.25\n"
     ]
    },
    {
     "data": {
      "text/html": [
       "<pre style=\"white-space:pre;overflow-x:auto;line-height:normal;font-family:Menlo,'DejaVu Sans Mono',consolas,'Courier New',monospace\">param<span style=\"font-weight: bold\">[</span><span style=\"color: #008000; text-decoration-color: #008000\">'nsteps'</span><span style=\"font-weight: bold\">]</span>=<span style=\"color: #008080; text-decoration-color: #008080; font-weight: bold\">97</span> param<span style=\"font-weight: bold\">[</span><span style=\"color: #008000; text-decoration-color: #008000\">'aexp'</span><span style=\"font-weight: bold\">]</span>=<span style=\"color: #008080; text-decoration-color: #008080; font-weight: bold\">0.017038673453706986</span> z = <span style=\"color: #008080; text-decoration-color: #008080; font-weight: bold\">57.6900149660675</span>                                         \n",
       "</pre>\n"
      ],
      "text/plain": [
       "param\u001b[1m[\u001b[0m\u001b[32m'nsteps'\u001b[0m\u001b[1m]\u001b[0m=\u001b[1;36m97\u001b[0m param\u001b[1m[\u001b[0m\u001b[32m'aexp'\u001b[0m\u001b[1m]\u001b[0m=\u001b[1;36m0.017038673453706986\u001b[0m z = \u001b[1;36m57.6900149660675\u001b[0m                                         \n"
      ]
     },
     "metadata": {},
     "output_type": "display_data"
    },
    {
     "name": "stdout",
     "output_type": "stream",
     "text": [
      "Full solver.\n",
      "Smoothing RHS EFT\n",
      "Smoothing RHS EFT\n",
      "Smoothing RHS EFT\n",
      "Smoothing RHS EFT\n",
      "Smoothing RHS EFT\n",
      "Smoothing RHS EFT\n",
      "Smoothing RHS EFT\n",
      "Smoothing RHS EFT\n",
      "Smoothing RHS EFT\n",
      "Smoothing RHS EFT\n",
      "Smoothing RHS EFT\n",
      "Smoothing RHS EFT\n",
      "Smoothing RHS EFT\n",
      "Smoothing RHS EFT\n",
      "Smoothing RHS EFT\n",
      "Smoothing RHS EFT\n",
      "Smoothing RHS EFT\n",
      "Smoothing RHS EFT\n",
      "Smoothing RHS EFT\n",
      "Smoothing RHS EFT\n",
      "Smoothing RHS EFT\n",
      "Smoothing RHS EFT\n",
      "Smoothing RHS EFT\n",
      "Smoothing RHS EFT\n",
      "Smoothing RHS EFT\n",
      "Smoothing RHS EFT\n",
      "reserr-FAS: 410976.78125\n"
     ]
    },
    {
     "data": {
      "text/html": [
       "<pre style=\"white-space:pre;overflow-x:auto;line-height:normal;font-family:Menlo,'DejaVu Sans Mono',consolas,'Courier New',monospace\">param<span style=\"font-weight: bold\">[</span><span style=\"color: #008000; text-decoration-color: #008000\">'nsteps'</span><span style=\"font-weight: bold\">]</span>=<span style=\"color: #008080; text-decoration-color: #008080; font-weight: bold\">98</span> param<span style=\"font-weight: bold\">[</span><span style=\"color: #008000; text-decoration-color: #008000\">'aexp'</span><span style=\"font-weight: bold\">]</span>=<span style=\"color: #008080; text-decoration-color: #008080; font-weight: bold\">0.01704070675222578</span> z = <span style=\"color: #008080; text-decoration-color: #008080; font-weight: bold\">57.68301206869747</span>                                         \n",
       "</pre>\n"
      ],
      "text/plain": [
       "param\u001b[1m[\u001b[0m\u001b[32m'nsteps'\u001b[0m\u001b[1m]\u001b[0m=\u001b[1;36m98\u001b[0m param\u001b[1m[\u001b[0m\u001b[32m'aexp'\u001b[0m\u001b[1m]\u001b[0m=\u001b[1;36m0.01704070675222578\u001b[0m z = \u001b[1;36m57.68301206869747\u001b[0m                                         \n"
      ]
     },
     "metadata": {},
     "output_type": "display_data"
    },
    {
     "name": "stdout",
     "output_type": "stream",
     "text": [
      "Full solver.\n",
      "Smoothing RHS EFT\n",
      "Smoothing RHS EFT\n",
      "Smoothing RHS EFT\n",
      "Smoothing RHS EFT\n",
      "Smoothing RHS EFT\n",
      "Smoothing RHS EFT\n",
      "Smoothing RHS EFT\n",
      "Smoothing RHS EFT\n",
      "Smoothing RHS EFT\n",
      "Smoothing RHS EFT\n",
      "Smoothing RHS EFT\n",
      "Smoothing RHS EFT\n",
      "Smoothing RHS EFT\n",
      "Smoothing RHS EFT\n",
      "Smoothing RHS EFT\n",
      "Smoothing RHS EFT\n",
      "Smoothing RHS EFT\n",
      "Smoothing RHS EFT\n",
      "Smoothing RHS EFT\n",
      "Smoothing RHS EFT\n",
      "Smoothing RHS EFT\n",
      "Smoothing RHS EFT\n",
      "Smoothing RHS EFT\n",
      "Smoothing RHS EFT\n",
      "Smoothing RHS EFT\n",
      "Smoothing RHS EFT\n",
      "reserr-FAS: 411481.875\n"
     ]
    },
    {
     "data": {
      "text/html": [
       "<pre style=\"white-space:pre;overflow-x:auto;line-height:normal;font-family:Menlo,'DejaVu Sans Mono',consolas,'Courier New',monospace\">param<span style=\"font-weight: bold\">[</span><span style=\"color: #008000; text-decoration-color: #008000\">'nsteps'</span><span style=\"font-weight: bold\">]</span>=<span style=\"color: #008080; text-decoration-color: #008080; font-weight: bold\">99</span> param<span style=\"font-weight: bold\">[</span><span style=\"color: #008000; text-decoration-color: #008000\">'aexp'</span><span style=\"font-weight: bold\">]</span>=<span style=\"color: #008080; text-decoration-color: #008080; font-weight: bold\">0.01704274634071433</span> z = <span style=\"color: #008080; text-decoration-color: #008080; font-weight: bold\">57.67598918673374</span>                                         \n",
       "</pre>\n"
      ],
      "text/plain": [
       "param\u001b[1m[\u001b[0m\u001b[32m'nsteps'\u001b[0m\u001b[1m]\u001b[0m=\u001b[1;36m99\u001b[0m param\u001b[1m[\u001b[0m\u001b[32m'aexp'\u001b[0m\u001b[1m]\u001b[0m=\u001b[1;36m0.01704274634071433\u001b[0m z = \u001b[1;36m57.67598918673374\u001b[0m                                         \n"
      ]
     },
     "metadata": {},
     "output_type": "display_data"
    },
    {
     "name": "stdout",
     "output_type": "stream",
     "text": [
      "Full solver.\n",
      "Smoothing RHS EFT\n",
      "Smoothing RHS EFT\n",
      "Smoothing RHS EFT\n",
      "Smoothing RHS EFT\n",
      "Smoothing RHS EFT\n",
      "Smoothing RHS EFT\n",
      "Smoothing RHS EFT\n",
      "Smoothing RHS EFT\n",
      "Smoothing RHS EFT\n",
      "Smoothing RHS EFT\n",
      "Smoothing RHS EFT\n",
      "Smoothing RHS EFT\n",
      "Smoothing RHS EFT\n",
      "Smoothing RHS EFT\n",
      "Smoothing RHS EFT\n",
      "Smoothing RHS EFT\n",
      "Smoothing RHS EFT\n",
      "Smoothing RHS EFT\n",
      "Smoothing RHS EFT\n",
      "Smoothing RHS EFT\n",
      "Smoothing RHS EFT\n",
      "Smoothing RHS EFT\n",
      "Smoothing RHS EFT\n",
      "Smoothing RHS EFT\n",
      "Smoothing RHS EFT\n",
      "Smoothing RHS EFT\n",
      "reserr-FAS: 411996.625\n"
     ]
    },
    {
     "data": {
      "text/html": [
       "<pre style=\"white-space:pre;overflow-x:auto;line-height:normal;font-family:Menlo,'DejaVu Sans Mono',consolas,'Courier New',monospace\">param<span style=\"font-weight: bold\">[</span><span style=\"color: #008000; text-decoration-color: #008000\">'nsteps'</span><span style=\"font-weight: bold\">]</span>=<span style=\"color: #008080; text-decoration-color: #008080; font-weight: bold\">100</span> param<span style=\"font-weight: bold\">[</span><span style=\"color: #008000; text-decoration-color: #008000\">'aexp'</span><span style=\"font-weight: bold\">]</span>=<span style=\"color: #008080; text-decoration-color: #008080; font-weight: bold\">0.017044792580644542</span> z = <span style=\"color: #008080; text-decoration-color: #008080; font-weight: bold\">57.66894509092263</span>                                       \n",
       "</pre>\n"
      ],
      "text/plain": [
       "param\u001b[1m[\u001b[0m\u001b[32m'nsteps'\u001b[0m\u001b[1m]\u001b[0m=\u001b[1;36m100\u001b[0m param\u001b[1m[\u001b[0m\u001b[32m'aexp'\u001b[0m\u001b[1m]\u001b[0m=\u001b[1;36m0.017044792580644542\u001b[0m z = \u001b[1;36m57.66894509092263\u001b[0m                                       \n"
      ]
     },
     "metadata": {},
     "output_type": "display_data"
    },
    {
     "name": "stdout",
     "output_type": "stream",
     "text": [
      "Full solver.\n",
      "Smoothing RHS EFT\n",
      "Smoothing RHS EFT\n",
      "Smoothing RHS EFT\n",
      "Smoothing RHS EFT\n",
      "Smoothing RHS EFT\n",
      "Smoothing RHS EFT\n",
      "Smoothing RHS EFT\n",
      "Smoothing RHS EFT\n",
      "Smoothing RHS EFT\n",
      "Smoothing RHS EFT\n",
      "Smoothing RHS EFT\n",
      "Smoothing RHS EFT\n",
      "Smoothing RHS EFT\n",
      "Smoothing RHS EFT\n",
      "Smoothing RHS EFT\n",
      "Smoothing RHS EFT\n",
      "Smoothing RHS EFT\n",
      "Smoothing RHS EFT\n",
      "Smoothing RHS EFT\n",
      "Smoothing RHS EFT\n",
      "Smoothing RHS EFT\n",
      "Smoothing RHS EFT\n",
      "Smoothing RHS EFT\n",
      "Smoothing RHS EFT\n",
      "Smoothing RHS EFT\n",
      "Smoothing RHS EFT\n",
      "reserr-FAS: 412537.4375\n"
     ]
    },
    {
     "data": {
      "text/html": [
       "<pre style=\"white-space:pre;overflow-x:auto;line-height:normal;font-family:Menlo,'DejaVu Sans Mono',consolas,'Courier New',monospace\">param<span style=\"font-weight: bold\">[</span><span style=\"color: #008000; text-decoration-color: #008000\">'nsteps'</span><span style=\"font-weight: bold\">]</span>=<span style=\"color: #008080; text-decoration-color: #008080; font-weight: bold\">101</span> param<span style=\"font-weight: bold\">[</span><span style=\"color: #008000; text-decoration-color: #008000\">'aexp'</span><span style=\"font-weight: bold\">]</span>=<span style=\"color: #008080; text-decoration-color: #008080; font-weight: bold\">0.017046846043309333</span> z = <span style=\"color: #008080; text-decoration-color: #008080; font-weight: bold\">57.66187783120662</span>                                       \n",
       "</pre>\n"
      ],
      "text/plain": [
       "param\u001b[1m[\u001b[0m\u001b[32m'nsteps'\u001b[0m\u001b[1m]\u001b[0m=\u001b[1;36m101\u001b[0m param\u001b[1m[\u001b[0m\u001b[32m'aexp'\u001b[0m\u001b[1m]\u001b[0m=\u001b[1;36m0.017046846043309333\u001b[0m z = \u001b[1;36m57.66187783120662\u001b[0m                                       \n"
      ]
     },
     "metadata": {},
     "output_type": "display_data"
    },
    {
     "name": "stdout",
     "output_type": "stream",
     "text": [
      "Full solver.\n",
      "Smoothing RHS EFT\n",
      "Smoothing RHS EFT\n",
      "Smoothing RHS EFT\n",
      "Smoothing RHS EFT\n",
      "Smoothing RHS EFT\n",
      "Smoothing RHS EFT\n",
      "Smoothing RHS EFT\n",
      "Smoothing RHS EFT\n",
      "Smoothing RHS EFT\n",
      "Smoothing RHS EFT\n",
      "Smoothing RHS EFT\n",
      "Smoothing RHS EFT\n",
      "Smoothing RHS EFT\n",
      "Smoothing RHS EFT\n",
      "Smoothing RHS EFT\n",
      "Smoothing RHS EFT\n",
      "Smoothing RHS EFT\n",
      "Smoothing RHS EFT\n",
      "Smoothing RHS EFT\n",
      "Smoothing RHS EFT\n",
      "Smoothing RHS EFT\n",
      "Smoothing RHS EFT\n",
      "Smoothing RHS EFT\n",
      "Smoothing RHS EFT\n",
      "Smoothing RHS EFT\n",
      "Smoothing RHS EFT\n",
      "reserr-FAS: 413123.0625\n"
     ]
    },
    {
     "data": {
      "text/html": [
       "<pre style=\"white-space:pre;overflow-x:auto;line-height:normal;font-family:Menlo,'DejaVu Sans Mono',consolas,'Courier New',monospace\">param<span style=\"font-weight: bold\">[</span><span style=\"color: #008000; text-decoration-color: #008000\">'nsteps'</span><span style=\"font-weight: bold\">]</span>=<span style=\"color: #008080; text-decoration-color: #008080; font-weight: bold\">102</span> param<span style=\"font-weight: bold\">[</span><span style=\"color: #008000; text-decoration-color: #008000\">'aexp'</span><span style=\"font-weight: bold\">]</span>=<span style=\"color: #008080; text-decoration-color: #008080; font-weight: bold\">0.01704890729111905</span> z = <span style=\"color: #008080; text-decoration-color: #008080; font-weight: bold\">57.654785490030214</span>                                       \n",
       "</pre>\n"
      ],
      "text/plain": [
       "param\u001b[1m[\u001b[0m\u001b[32m'nsteps'\u001b[0m\u001b[1m]\u001b[0m=\u001b[1;36m102\u001b[0m param\u001b[1m[\u001b[0m\u001b[32m'aexp'\u001b[0m\u001b[1m]\u001b[0m=\u001b[1;36m0.01704890729111905\u001b[0m z = \u001b[1;36m57.654785490030214\u001b[0m                                       \n"
      ]
     },
     "metadata": {},
     "output_type": "display_data"
    },
    {
     "name": "stdout",
     "output_type": "stream",
     "text": [
      "Full solver.\n",
      "Smoothing RHS EFT\n",
      "Smoothing RHS EFT\n",
      "Smoothing RHS EFT\n",
      "Smoothing RHS EFT\n",
      "Smoothing RHS EFT\n",
      "Smoothing RHS EFT\n",
      "Smoothing RHS EFT\n",
      "Smoothing RHS EFT\n",
      "Smoothing RHS EFT\n",
      "Smoothing RHS EFT\n",
      "Smoothing RHS EFT\n",
      "Smoothing RHS EFT\n",
      "Smoothing RHS EFT\n",
      "Smoothing RHS EFT\n",
      "Smoothing RHS EFT\n",
      "Smoothing RHS EFT\n",
      "Smoothing RHS EFT\n",
      "Smoothing RHS EFT\n",
      "Smoothing RHS EFT\n",
      "Smoothing RHS EFT\n",
      "Smoothing RHS EFT\n",
      "Smoothing RHS EFT\n",
      "Smoothing RHS EFT\n",
      "Smoothing RHS EFT\n",
      "Smoothing RHS EFT\n",
      "Smoothing RHS EFT\n",
      "reserr-FAS: 413748.03125\n"
     ]
    },
    {
     "data": {
      "text/html": [
       "<pre style=\"white-space:pre;overflow-x:auto;line-height:normal;font-family:Menlo,'DejaVu Sans Mono',consolas,'Courier New',monospace\">param<span style=\"font-weight: bold\">[</span><span style=\"color: #008000; text-decoration-color: #008000\">'nsteps'</span><span style=\"font-weight: bold\">]</span>=<span style=\"color: #008080; text-decoration-color: #008080; font-weight: bold\">103</span> param<span style=\"font-weight: bold\">[</span><span style=\"color: #008000; text-decoration-color: #008000\">'aexp'</span><span style=\"font-weight: bold\">]</span>=<span style=\"color: #008080; text-decoration-color: #008080; font-weight: bold\">0.017050976895793782</span> z = <span style=\"color: #008080; text-decoration-color: #008080; font-weight: bold\">57.64766611974501</span>                                       \n",
       "</pre>\n"
      ],
      "text/plain": [
       "param\u001b[1m[\u001b[0m\u001b[32m'nsteps'\u001b[0m\u001b[1m]\u001b[0m=\u001b[1;36m103\u001b[0m param\u001b[1m[\u001b[0m\u001b[32m'aexp'\u001b[0m\u001b[1m]\u001b[0m=\u001b[1;36m0.017050976895793782\u001b[0m z = \u001b[1;36m57.64766611974501\u001b[0m                                       \n"
      ]
     },
     "metadata": {},
     "output_type": "display_data"
    },
    {
     "name": "stdout",
     "output_type": "stream",
     "text": [
      "Full solver.\n",
      "Smoothing RHS EFT\n",
      "Smoothing RHS EFT\n",
      "Smoothing RHS EFT\n",
      "Smoothing RHS EFT\n",
      "Smoothing RHS EFT\n",
      "Smoothing RHS EFT\n",
      "Smoothing RHS EFT\n",
      "Smoothing RHS EFT\n",
      "Smoothing RHS EFT\n",
      "Smoothing RHS EFT\n",
      "Smoothing RHS EFT\n",
      "Smoothing RHS EFT\n",
      "Smoothing RHS EFT\n",
      "Smoothing RHS EFT\n",
      "Smoothing RHS EFT\n",
      "Smoothing RHS EFT\n",
      "Smoothing RHS EFT\n",
      "Smoothing RHS EFT\n",
      "Smoothing RHS EFT\n",
      "Smoothing RHS EFT\n",
      "Smoothing RHS EFT\n",
      "Smoothing RHS EFT\n",
      "Smoothing RHS EFT\n",
      "Smoothing RHS EFT\n",
      "Smoothing RHS EFT\n",
      "Smoothing RHS EFT\n",
      "reserr-FAS: 414481.28125\n"
     ]
    },
    {
     "data": {
      "text/html": [
       "<pre style=\"white-space:pre;overflow-x:auto;line-height:normal;font-family:Menlo,'DejaVu Sans Mono',consolas,'Courier New',monospace\">param<span style=\"font-weight: bold\">[</span><span style=\"color: #008000; text-decoration-color: #008000\">'nsteps'</span><span style=\"font-weight: bold\">]</span>=<span style=\"color: #008080; text-decoration-color: #008080; font-weight: bold\">104</span> param<span style=\"font-weight: bold\">[</span><span style=\"color: #008000; text-decoration-color: #008000\">'aexp'</span><span style=\"font-weight: bold\">]</span>=<span style=\"color: #008080; text-decoration-color: #008080; font-weight: bold\">0.01705305550760913</span> z = <span style=\"color: #008080; text-decoration-color: #008080; font-weight: bold\">57.64051750454907</span>                                        \n",
       "</pre>\n"
      ],
      "text/plain": [
       "param\u001b[1m[\u001b[0m\u001b[32m'nsteps'\u001b[0m\u001b[1m]\u001b[0m=\u001b[1;36m104\u001b[0m param\u001b[1m[\u001b[0m\u001b[32m'aexp'\u001b[0m\u001b[1m]\u001b[0m=\u001b[1;36m0.01705305550760913\u001b[0m z = \u001b[1;36m57.64051750454907\u001b[0m                                        \n"
      ]
     },
     "metadata": {},
     "output_type": "display_data"
    },
    {
     "name": "stdout",
     "output_type": "stream",
     "text": [
      "Full solver.\n",
      "Smoothing RHS EFT\n",
      "Smoothing RHS EFT\n",
      "Smoothing RHS EFT\n",
      "Smoothing RHS EFT\n",
      "Smoothing RHS EFT\n",
      "Smoothing RHS EFT\n",
      "Smoothing RHS EFT\n",
      "Smoothing RHS EFT\n",
      "Smoothing RHS EFT\n",
      "Smoothing RHS EFT\n",
      "Smoothing RHS EFT\n",
      "Smoothing RHS EFT\n",
      "Smoothing RHS EFT\n",
      "Smoothing RHS EFT\n",
      "Smoothing RHS EFT\n",
      "Smoothing RHS EFT\n",
      "Smoothing RHS EFT\n",
      "Smoothing RHS EFT\n",
      "Smoothing RHS EFT\n",
      "Smoothing RHS EFT\n",
      "Smoothing RHS EFT\n",
      "Smoothing RHS EFT\n",
      "Smoothing RHS EFT\n",
      "Smoothing RHS EFT\n",
      "Smoothing RHS EFT\n",
      "Smoothing RHS EFT\n",
      "reserr-FAS: 415269.90625\n"
     ]
    },
    {
     "data": {
      "text/html": [
       "<pre style=\"white-space:pre;overflow-x:auto;line-height:normal;font-family:Menlo,'DejaVu Sans Mono',consolas,'Courier New',monospace\">param<span style=\"font-weight: bold\">[</span><span style=\"color: #008000; text-decoration-color: #008000\">'nsteps'</span><span style=\"font-weight: bold\">]</span>=<span style=\"color: #008080; text-decoration-color: #008080; font-weight: bold\">105</span> param<span style=\"font-weight: bold\">[</span><span style=\"color: #008000; text-decoration-color: #008000\">'aexp'</span><span style=\"font-weight: bold\">]</span>=<span style=\"color: #008080; text-decoration-color: #008080; font-weight: bold\">0.017055124735366706</span> z = <span style=\"color: #008080; text-decoration-color: #008080; font-weight: bold\">57.63340289305124</span>                                       \n",
       "</pre>\n"
      ],
      "text/plain": [
       "param\u001b[1m[\u001b[0m\u001b[32m'nsteps'\u001b[0m\u001b[1m]\u001b[0m=\u001b[1;36m105\u001b[0m param\u001b[1m[\u001b[0m\u001b[32m'aexp'\u001b[0m\u001b[1m]\u001b[0m=\u001b[1;36m0.017055124735366706\u001b[0m z = \u001b[1;36m57.63340289305124\u001b[0m                                       \n"
      ]
     },
     "metadata": {},
     "output_type": "display_data"
    },
    {
     "name": "stdout",
     "output_type": "stream",
     "text": [
      "Full solver.\n",
      "Smoothing RHS EFT\n",
      "Smoothing RHS EFT\n",
      "Smoothing RHS EFT\n",
      "Smoothing RHS EFT\n",
      "Smoothing RHS EFT\n",
      "Smoothing RHS EFT\n",
      "Smoothing RHS EFT\n",
      "Smoothing RHS EFT\n",
      "Smoothing RHS EFT\n",
      "Smoothing RHS EFT\n",
      "Smoothing RHS EFT\n",
      "Smoothing RHS EFT\n",
      "Smoothing RHS EFT\n",
      "Smoothing RHS EFT\n",
      "Smoothing RHS EFT\n",
      "Smoothing RHS EFT\n",
      "Smoothing RHS EFT\n",
      "Smoothing RHS EFT\n",
      "Smoothing RHS EFT\n",
      "Smoothing RHS EFT\n",
      "Smoothing RHS EFT\n",
      "Smoothing RHS EFT\n",
      "Smoothing RHS EFT\n",
      "Smoothing RHS EFT\n",
      "Smoothing RHS EFT\n",
      "Smoothing RHS EFT\n",
      "reserr-FAS: 416146.375\n"
     ]
    },
    {
     "data": {
      "text/html": [
       "<pre style=\"white-space:pre;overflow-x:auto;line-height:normal;font-family:Menlo,'DejaVu Sans Mono',consolas,'Courier New',monospace\">param<span style=\"font-weight: bold\">[</span><span style=\"color: #008000; text-decoration-color: #008000\">'nsteps'</span><span style=\"font-weight: bold\">]</span>=<span style=\"color: #008080; text-decoration-color: #008080; font-weight: bold\">106</span> param<span style=\"font-weight: bold\">[</span><span style=\"color: #008000; text-decoration-color: #008000\">'aexp'</span><span style=\"font-weight: bold\">]</span>=<span style=\"color: #008080; text-decoration-color: #008080; font-weight: bold\">0.017057184684256523</span> z = <span style=\"color: #008080; text-decoration-color: #008080; font-weight: bold\">57.62632189959121</span>                                       \n",
       "</pre>\n"
      ],
      "text/plain": [
       "param\u001b[1m[\u001b[0m\u001b[32m'nsteps'\u001b[0m\u001b[1m]\u001b[0m=\u001b[1;36m106\u001b[0m param\u001b[1m[\u001b[0m\u001b[32m'aexp'\u001b[0m\u001b[1m]\u001b[0m=\u001b[1;36m0.017057184684256523\u001b[0m z = \u001b[1;36m57.62632189959121\u001b[0m                                       \n"
      ]
     },
     "metadata": {},
     "output_type": "display_data"
    },
    {
     "name": "stdout",
     "output_type": "stream",
     "text": [
      "Full solver.\n",
      "Smoothing RHS EFT\n",
      "Smoothing RHS EFT\n",
      "Smoothing RHS EFT\n",
      "Smoothing RHS EFT\n",
      "Smoothing RHS EFT\n",
      "Smoothing RHS EFT\n",
      "Smoothing RHS EFT\n",
      "Smoothing RHS EFT\n",
      "Smoothing RHS EFT\n",
      "Smoothing RHS EFT\n",
      "Smoothing RHS EFT\n",
      "Smoothing RHS EFT\n",
      "Smoothing RHS EFT\n",
      "Smoothing RHS EFT\n",
      "Smoothing RHS EFT\n",
      "Smoothing RHS EFT\n",
      "Smoothing RHS EFT\n",
      "Smoothing RHS EFT\n",
      "Smoothing RHS EFT\n",
      "Smoothing RHS EFT\n",
      "Smoothing RHS EFT\n",
      "Smoothing RHS EFT\n",
      "Smoothing RHS EFT\n",
      "Smoothing RHS EFT\n",
      "Smoothing RHS EFT\n",
      "Smoothing RHS EFT\n",
      "reserr-FAS: 417131.9375\n"
     ]
    },
    {
     "data": {
      "text/html": [
       "<pre style=\"white-space:pre;overflow-x:auto;line-height:normal;font-family:Menlo,'DejaVu Sans Mono',consolas,'Courier New',monospace\">param<span style=\"font-weight: bold\">[</span><span style=\"color: #008000; text-decoration-color: #008000\">'nsteps'</span><span style=\"font-weight: bold\">]</span>=<span style=\"color: #008080; text-decoration-color: #008080; font-weight: bold\">107</span> param<span style=\"font-weight: bold\">[</span><span style=\"color: #008000; text-decoration-color: #008000\">'aexp'</span><span style=\"font-weight: bold\">]</span>=<span style=\"color: #008080; text-decoration-color: #008080; font-weight: bold\">0.017059237876149495</span> z = <span style=\"color: #008080; text-decoration-color: #008080; font-weight: bold\">57.61926583473574</span>                                       \n",
       "</pre>\n"
      ],
      "text/plain": [
       "param\u001b[1m[\u001b[0m\u001b[32m'nsteps'\u001b[0m\u001b[1m]\u001b[0m=\u001b[1;36m107\u001b[0m param\u001b[1m[\u001b[0m\u001b[32m'aexp'\u001b[0m\u001b[1m]\u001b[0m=\u001b[1;36m0.017059237876149495\u001b[0m z = \u001b[1;36m57.61926583473574\u001b[0m                                       \n"
      ]
     },
     "metadata": {},
     "output_type": "display_data"
    },
    {
     "name": "stdout",
     "output_type": "stream",
     "text": [
      "Full solver.\n",
      "Smoothing RHS EFT\n",
      "Smoothing RHS EFT\n",
      "Smoothing RHS EFT\n",
      "Smoothing RHS EFT\n",
      "Smoothing RHS EFT\n",
      "Smoothing RHS EFT\n",
      "Smoothing RHS EFT\n",
      "Smoothing RHS EFT\n",
      "Smoothing RHS EFT\n",
      "Smoothing RHS EFT\n",
      "Smoothing RHS EFT\n",
      "Smoothing RHS EFT\n",
      "Smoothing RHS EFT\n",
      "Smoothing RHS EFT\n",
      "Smoothing RHS EFT\n",
      "Smoothing RHS EFT\n",
      "Smoothing RHS EFT\n",
      "Smoothing RHS EFT\n",
      "Smoothing RHS EFT\n",
      "Smoothing RHS EFT\n",
      "Smoothing RHS EFT\n",
      "Smoothing RHS EFT\n",
      "Smoothing RHS EFT\n",
      "Smoothing RHS EFT\n",
      "Smoothing RHS EFT\n",
      "Smoothing RHS EFT\n",
      "reserr-FAS: 418255.71875\n"
     ]
    },
    {
     "data": {
      "text/html": [
       "<pre style=\"white-space:pre;overflow-x:auto;line-height:normal;font-family:Menlo,'DejaVu Sans Mono',consolas,'Courier New',monospace\">param<span style=\"font-weight: bold\">[</span><span style=\"color: #008000; text-decoration-color: #008000\">'nsteps'</span><span style=\"font-weight: bold\">]</span>=<span style=\"color: #008080; text-decoration-color: #008080; font-weight: bold\">108</span> param<span style=\"font-weight: bold\">[</span><span style=\"color: #008000; text-decoration-color: #008000\">'aexp'</span><span style=\"font-weight: bold\">]</span>=<span style=\"color: #008080; text-decoration-color: #008080; font-weight: bold\">0.017061285788382917</span> z = <span style=\"color: #008080; text-decoration-color: #008080; font-weight: bold\">57.61222960586611</span>                                       \n",
       "</pre>\n"
      ],
      "text/plain": [
       "param\u001b[1m[\u001b[0m\u001b[32m'nsteps'\u001b[0m\u001b[1m]\u001b[0m=\u001b[1;36m108\u001b[0m param\u001b[1m[\u001b[0m\u001b[32m'aexp'\u001b[0m\u001b[1m]\u001b[0m=\u001b[1;36m0.017061285788382917\u001b[0m z = \u001b[1;36m57.61222960586611\u001b[0m                                       \n"
      ]
     },
     "metadata": {},
     "output_type": "display_data"
    },
    {
     "name": "stdout",
     "output_type": "stream",
     "text": [
      "Full solver.\n",
      "Smoothing RHS EFT\n",
      "Smoothing RHS EFT\n",
      "Smoothing RHS EFT\n",
      "Smoothing RHS EFT\n",
      "Smoothing RHS EFT\n",
      "Smoothing RHS EFT\n",
      "Smoothing RHS EFT\n",
      "Smoothing RHS EFT\n",
      "Smoothing RHS EFT\n",
      "Smoothing RHS EFT\n",
      "Smoothing RHS EFT\n",
      "Smoothing RHS EFT\n",
      "Smoothing RHS EFT\n",
      "Smoothing RHS EFT\n",
      "Smoothing RHS EFT\n",
      "Smoothing RHS EFT\n",
      "Smoothing RHS EFT\n",
      "Smoothing RHS EFT\n",
      "Smoothing RHS EFT\n",
      "Smoothing RHS EFT\n",
      "Smoothing RHS EFT\n",
      "Smoothing RHS EFT\n",
      "Smoothing RHS EFT\n",
      "Smoothing RHS EFT\n",
      "Smoothing RHS EFT\n",
      "Smoothing RHS EFT\n",
      "reserr-FAS: 419549.46875\n"
     ]
    },
    {
     "data": {
      "text/html": [
       "<pre style=\"white-space:pre;overflow-x:auto;line-height:normal;font-family:Menlo,'DejaVu Sans Mono',consolas,'Courier New',monospace\">param<span style=\"font-weight: bold\">[</span><span style=\"color: #008000; text-decoration-color: #008000\">'nsteps'</span><span style=\"font-weight: bold\">]</span>=<span style=\"color: #008080; text-decoration-color: #008080; font-weight: bold\">109</span> param<span style=\"font-weight: bold\">[</span><span style=\"color: #008000; text-decoration-color: #008000\">'aexp'</span><span style=\"font-weight: bold\">]</span>=<span style=\"color: #008080; text-decoration-color: #008080; font-weight: bold\">0.017063329612929445</span> z = <span style=\"color: #008080; text-decoration-color: #008080; font-weight: bold\">57.60520910539448</span>                                       \n",
       "</pre>\n"
      ],
      "text/plain": [
       "param\u001b[1m[\u001b[0m\u001b[32m'nsteps'\u001b[0m\u001b[1m]\u001b[0m=\u001b[1;36m109\u001b[0m param\u001b[1m[\u001b[0m\u001b[32m'aexp'\u001b[0m\u001b[1m]\u001b[0m=\u001b[1;36m0.017063329612929445\u001b[0m z = \u001b[1;36m57.60520910539448\u001b[0m                                       \n"
      ]
     },
     "metadata": {},
     "output_type": "display_data"
    },
    {
     "name": "stdout",
     "output_type": "stream",
     "text": [
      "Full solver.\n",
      "Smoothing RHS EFT\n",
      "Smoothing RHS EFT\n",
      "Smoothing RHS EFT\n",
      "Smoothing RHS EFT\n",
      "Smoothing RHS EFT\n",
      "Smoothing RHS EFT\n",
      "Smoothing RHS EFT\n",
      "Smoothing RHS EFT\n",
      "Smoothing RHS EFT\n",
      "Smoothing RHS EFT\n",
      "Smoothing RHS EFT\n",
      "Smoothing RHS EFT\n",
      "Smoothing RHS EFT\n",
      "Smoothing RHS EFT\n",
      "Smoothing RHS EFT\n",
      "Smoothing RHS EFT\n",
      "Smoothing RHS EFT\n",
      "Smoothing RHS EFT\n",
      "Smoothing RHS EFT\n",
      "Smoothing RHS EFT\n",
      "Smoothing RHS EFT\n",
      "Smoothing RHS EFT\n",
      "Smoothing RHS EFT\n",
      "Smoothing RHS EFT\n",
      "Smoothing RHS EFT\n",
      "Smoothing RHS EFT\n",
      "reserr-FAS: 421025.375\n"
     ]
    },
    {
     "data": {
      "text/html": [
       "<pre style=\"white-space:pre;overflow-x:auto;line-height:normal;font-family:Menlo,'DejaVu Sans Mono',consolas,'Courier New',monospace\">param<span style=\"font-weight: bold\">[</span><span style=\"color: #008000; text-decoration-color: #008000\">'nsteps'</span><span style=\"font-weight: bold\">]</span>=<span style=\"color: #008080; text-decoration-color: #008080; font-weight: bold\">110</span> param<span style=\"font-weight: bold\">[</span><span style=\"color: #008000; text-decoration-color: #008000\">'aexp'</span><span style=\"font-weight: bold\">]</span>=<span style=\"color: #008080; text-decoration-color: #008080; font-weight: bold\">0.01706537027600826</span> z = <span style=\"color: #008080; text-decoration-color: #008080; font-weight: bold\">57.59820114222032</span>                                        \n",
       "</pre>\n"
      ],
      "text/plain": [
       "param\u001b[1m[\u001b[0m\u001b[32m'nsteps'\u001b[0m\u001b[1m]\u001b[0m=\u001b[1;36m110\u001b[0m param\u001b[1m[\u001b[0m\u001b[32m'aexp'\u001b[0m\u001b[1m]\u001b[0m=\u001b[1;36m0.01706537027600826\u001b[0m z = \u001b[1;36m57.59820114222032\u001b[0m                                        \n"
      ]
     },
     "metadata": {},
     "output_type": "display_data"
    },
    {
     "name": "stdout",
     "output_type": "stream",
     "text": [
      "Full solver.\n",
      "Smoothing RHS EFT\n",
      "Smoothing RHS EFT\n",
      "Smoothing RHS EFT\n",
      "Smoothing RHS EFT\n",
      "Smoothing RHS EFT\n",
      "Smoothing RHS EFT\n",
      "Smoothing RHS EFT\n",
      "Smoothing RHS EFT\n",
      "Smoothing RHS EFT\n",
      "Smoothing RHS EFT\n",
      "Smoothing RHS EFT\n",
      "Smoothing RHS EFT\n",
      "Smoothing RHS EFT\n",
      "Smoothing RHS EFT\n",
      "Smoothing RHS EFT\n",
      "Smoothing RHS EFT\n",
      "Smoothing RHS EFT\n",
      "Smoothing RHS EFT\n",
      "Smoothing RHS EFT\n",
      "Smoothing RHS EFT\n",
      "Smoothing RHS EFT\n",
      "Smoothing RHS EFT\n",
      "Smoothing RHS EFT\n",
      "Smoothing RHS EFT\n",
      "Smoothing RHS EFT\n",
      "Smoothing RHS EFT\n",
      "reserr-FAS: 422767.8125\n"
     ]
    },
    {
     "data": {
      "text/html": [
       "<pre style=\"white-space:pre;overflow-x:auto;line-height:normal;font-family:Menlo,'DejaVu Sans Mono',consolas,'Courier New',monospace\">param<span style=\"font-weight: bold\">[</span><span style=\"color: #008000; text-decoration-color: #008000\">'nsteps'</span><span style=\"font-weight: bold\">]</span>=<span style=\"color: #008080; text-decoration-color: #008080; font-weight: bold\">111</span> param<span style=\"font-weight: bold\">[</span><span style=\"color: #008000; text-decoration-color: #008000\">'aexp'</span><span style=\"font-weight: bold\">]</span>=<span style=\"color: #008080; text-decoration-color: #008080; font-weight: bold\">0.017067408819564613</span> z = <span style=\"color: #008080; text-decoration-color: #008080; font-weight: bold\">57.591202131027984</span>                                      \n",
       "</pre>\n"
      ],
      "text/plain": [
       "param\u001b[1m[\u001b[0m\u001b[32m'nsteps'\u001b[0m\u001b[1m]\u001b[0m=\u001b[1;36m111\u001b[0m param\u001b[1m[\u001b[0m\u001b[32m'aexp'\u001b[0m\u001b[1m]\u001b[0m=\u001b[1;36m0.017067408819564613\u001b[0m z = \u001b[1;36m57.591202131027984\u001b[0m                                      \n"
      ]
     },
     "metadata": {},
     "output_type": "display_data"
    },
    {
     "name": "stdout",
     "output_type": "stream",
     "text": [
      "Full solver.\n",
      "Smoothing RHS EFT\n",
      "Smoothing RHS EFT\n",
      "Smoothing RHS EFT\n",
      "Smoothing RHS EFT\n",
      "Smoothing RHS EFT\n",
      "Smoothing RHS EFT\n",
      "Smoothing RHS EFT\n",
      "Smoothing RHS EFT\n",
      "Smoothing RHS EFT\n",
      "Smoothing RHS EFT\n",
      "Smoothing RHS EFT\n",
      "Smoothing RHS EFT\n",
      "Smoothing RHS EFT\n",
      "Smoothing RHS EFT\n",
      "Smoothing RHS EFT\n",
      "Smoothing RHS EFT\n",
      "Smoothing RHS EFT\n",
      "Smoothing RHS EFT\n",
      "Smoothing RHS EFT\n",
      "Smoothing RHS EFT\n",
      "Smoothing RHS EFT\n",
      "Smoothing RHS EFT\n",
      "Smoothing RHS EFT\n",
      "Smoothing RHS EFT\n",
      "Smoothing RHS EFT\n",
      "Smoothing RHS EFT\n",
      "reserr-FAS: 424742.65625\n"
     ]
    },
    {
     "data": {
      "text/html": [
       "<pre style=\"white-space:pre;overflow-x:auto;line-height:normal;font-family:Menlo,'DejaVu Sans Mono',consolas,'Courier New',monospace\">param<span style=\"font-weight: bold\">[</span><span style=\"color: #008000; text-decoration-color: #008000\">'nsteps'</span><span style=\"font-weight: bold\">]</span>=<span style=\"color: #008080; text-decoration-color: #008080; font-weight: bold\">112</span> param<span style=\"font-weight: bold\">[</span><span style=\"color: #008000; text-decoration-color: #008000\">'aexp'</span><span style=\"font-weight: bold\">]</span>=<span style=\"color: #008080; text-decoration-color: #008080; font-weight: bold\">0.017069443470748093</span> z = <span style=\"color: #008080; text-decoration-color: #008080; font-weight: bold\">57.58421815062103</span>                                       \n",
       "</pre>\n"
      ],
      "text/plain": [
       "param\u001b[1m[\u001b[0m\u001b[32m'nsteps'\u001b[0m\u001b[1m]\u001b[0m=\u001b[1;36m112\u001b[0m param\u001b[1m[\u001b[0m\u001b[32m'aexp'\u001b[0m\u001b[1m]\u001b[0m=\u001b[1;36m0.017069443470748093\u001b[0m z = \u001b[1;36m57.58421815062103\u001b[0m                                       \n"
      ]
     },
     "metadata": {},
     "output_type": "display_data"
    },
    {
     "name": "stdout",
     "output_type": "stream",
     "text": [
      "Full solver.\n",
      "Smoothing RHS EFT\n",
      "Smoothing RHS EFT\n",
      "Smoothing RHS EFT\n",
      "Smoothing RHS EFT\n",
      "Smoothing RHS EFT\n",
      "Smoothing RHS EFT\n",
      "Smoothing RHS EFT\n",
      "Smoothing RHS EFT\n",
      "Smoothing RHS EFT\n",
      "Smoothing RHS EFT\n",
      "Smoothing RHS EFT\n",
      "Smoothing RHS EFT\n",
      "Smoothing RHS EFT\n",
      "Smoothing RHS EFT\n",
      "Smoothing RHS EFT\n",
      "Smoothing RHS EFT\n",
      "Smoothing RHS EFT\n",
      "Smoothing RHS EFT\n",
      "Smoothing RHS EFT\n",
      "Smoothing RHS EFT\n",
      "Smoothing RHS EFT\n",
      "Smoothing RHS EFT\n",
      "Smoothing RHS EFT\n",
      "Smoothing RHS EFT\n",
      "Smoothing RHS EFT\n",
      "Smoothing RHS EFT\n",
      "reserr-FAS: 426980.4375\n"
     ]
    },
    {
     "data": {
      "text/html": [
       "<pre style=\"white-space:pre;overflow-x:auto;line-height:normal;font-family:Menlo,'DejaVu Sans Mono',consolas,'Courier New',monospace\">param<span style=\"font-weight: bold\">[</span><span style=\"color: #008000; text-decoration-color: #008000\">'nsteps'</span><span style=\"font-weight: bold\">]</span>=<span style=\"color: #008080; text-decoration-color: #008080; font-weight: bold\">113</span> param<span style=\"font-weight: bold\">[</span><span style=\"color: #008000; text-decoration-color: #008000\">'aexp'</span><span style=\"font-weight: bold\">]</span>=<span style=\"color: #008080; text-decoration-color: #008080; font-weight: bold\">0.017071475859796355</span> z = <span style=\"color: #008080; text-decoration-color: #008080; font-weight: bold\">57.57724359702366</span>                                       \n",
       "</pre>\n"
      ],
      "text/plain": [
       "param\u001b[1m[\u001b[0m\u001b[32m'nsteps'\u001b[0m\u001b[1m]\u001b[0m=\u001b[1;36m113\u001b[0m param\u001b[1m[\u001b[0m\u001b[32m'aexp'\u001b[0m\u001b[1m]\u001b[0m=\u001b[1;36m0.017071475859796355\u001b[0m z = \u001b[1;36m57.57724359702366\u001b[0m                                       \n"
      ]
     },
     "metadata": {},
     "output_type": "display_data"
    },
    {
     "name": "stdout",
     "output_type": "stream",
     "text": [
      "Full solver.\n",
      "Smoothing RHS EFT\n",
      "Smoothing RHS EFT\n",
      "Smoothing RHS EFT\n",
      "Smoothing RHS EFT\n",
      "Smoothing RHS EFT\n",
      "Smoothing RHS EFT\n",
      "Smoothing RHS EFT\n",
      "Smoothing RHS EFT\n",
      "Smoothing RHS EFT\n",
      "Smoothing RHS EFT\n",
      "Smoothing RHS EFT\n",
      "Smoothing RHS EFT\n",
      "Smoothing RHS EFT\n",
      "Smoothing RHS EFT\n",
      "Smoothing RHS EFT\n",
      "Smoothing RHS EFT\n",
      "Smoothing RHS EFT\n",
      "Smoothing RHS EFT\n",
      "Smoothing RHS EFT\n",
      "Smoothing RHS EFT\n",
      "Smoothing RHS EFT\n",
      "Smoothing RHS EFT\n",
      "Smoothing RHS EFT\n",
      "Smoothing RHS EFT\n",
      "Smoothing RHS EFT\n",
      "Smoothing RHS EFT\n",
      "reserr-FAS: 429482.40625\n"
     ]
    },
    {
     "data": {
      "text/html": [
       "<pre style=\"white-space:pre;overflow-x:auto;line-height:normal;font-family:Menlo,'DejaVu Sans Mono',consolas,'Courier New',monospace\">param<span style=\"font-weight: bold\">[</span><span style=\"color: #008000; text-decoration-color: #008000\">'nsteps'</span><span style=\"font-weight: bold\">]</span>=<span style=\"color: #008080; text-decoration-color: #008080; font-weight: bold\">114</span> param<span style=\"font-weight: bold\">[</span><span style=\"color: #008000; text-decoration-color: #008000\">'aexp'</span><span style=\"font-weight: bold\">]</span>=<span style=\"color: #008080; text-decoration-color: #008080; font-weight: bold\">0.01707350687900966</span> z = <span style=\"color: #008080; text-decoration-color: #008080; font-weight: bold\">57.57027540308137</span>                                        \n",
       "</pre>\n"
      ],
      "text/plain": [
       "param\u001b[1m[\u001b[0m\u001b[32m'nsteps'\u001b[0m\u001b[1m]\u001b[0m=\u001b[1;36m114\u001b[0m param\u001b[1m[\u001b[0m\u001b[32m'aexp'\u001b[0m\u001b[1m]\u001b[0m=\u001b[1;36m0.01707350687900966\u001b[0m z = \u001b[1;36m57.57027540308137\u001b[0m                                        \n"
      ]
     },
     "metadata": {},
     "output_type": "display_data"
    },
    {
     "name": "stdout",
     "output_type": "stream",
     "text": [
      "Full solver.\n",
      "Smoothing RHS EFT\n",
      "Smoothing RHS EFT\n",
      "Smoothing RHS EFT\n",
      "Smoothing RHS EFT\n",
      "Smoothing RHS EFT\n",
      "Smoothing RHS EFT\n",
      "Smoothing RHS EFT\n",
      "Smoothing RHS EFT\n",
      "Smoothing RHS EFT\n",
      "Smoothing RHS EFT\n",
      "Smoothing RHS EFT\n",
      "Smoothing RHS EFT\n",
      "Smoothing RHS EFT\n",
      "Smoothing RHS EFT\n",
      "Smoothing RHS EFT\n",
      "Smoothing RHS EFT\n",
      "Smoothing RHS EFT\n",
      "Smoothing RHS EFT\n",
      "Smoothing RHS EFT\n",
      "Smoothing RHS EFT\n",
      "Smoothing RHS EFT\n",
      "Smoothing RHS EFT\n",
      "Smoothing RHS EFT\n",
      "Smoothing RHS EFT\n",
      "Smoothing RHS EFT\n",
      "Smoothing RHS EFT\n",
      "reserr-FAS: 432243.28125\n"
     ]
    },
    {
     "data": {
      "text/html": [
       "<pre style=\"white-space:pre;overflow-x:auto;line-height:normal;font-family:Menlo,'DejaVu Sans Mono',consolas,'Courier New',monospace\">param<span style=\"font-weight: bold\">[</span><span style=\"color: #008000; text-decoration-color: #008000\">'nsteps'</span><span style=\"font-weight: bold\">]</span>=<span style=\"color: #008080; text-decoration-color: #008080; font-weight: bold\">115</span> param<span style=\"font-weight: bold\">[</span><span style=\"color: #008000; text-decoration-color: #008000\">'aexp'</span><span style=\"font-weight: bold\">]</span>=<span style=\"color: #008080; text-decoration-color: #008080; font-weight: bold\">0.017075535408902436</span> z = <span style=\"color: #008080; text-decoration-color: #008080; font-weight: bold\">57.56331740430487</span>                                       \n",
       "</pre>\n"
      ],
      "text/plain": [
       "param\u001b[1m[\u001b[0m\u001b[32m'nsteps'\u001b[0m\u001b[1m]\u001b[0m=\u001b[1;36m115\u001b[0m param\u001b[1m[\u001b[0m\u001b[32m'aexp'\u001b[0m\u001b[1m]\u001b[0m=\u001b[1;36m0.017075535408902436\u001b[0m z = \u001b[1;36m57.56331740430487\u001b[0m                                       \n"
      ]
     },
     "metadata": {},
     "output_type": "display_data"
    },
    {
     "name": "stdout",
     "output_type": "stream",
     "text": [
      "Full solver.\n",
      "Smoothing RHS EFT\n",
      "Smoothing RHS EFT\n",
      "Smoothing RHS EFT\n",
      "Smoothing RHS EFT\n",
      "Smoothing RHS EFT\n",
      "Smoothing RHS EFT\n",
      "Smoothing RHS EFT\n",
      "Smoothing RHS EFT\n",
      "Smoothing RHS EFT\n",
      "Smoothing RHS EFT\n",
      "Smoothing RHS EFT\n",
      "Smoothing RHS EFT\n",
      "Smoothing RHS EFT\n",
      "Smoothing RHS EFT\n",
      "Smoothing RHS EFT\n",
      "Smoothing RHS EFT\n",
      "Smoothing RHS EFT\n",
      "Smoothing RHS EFT\n",
      "Smoothing RHS EFT\n",
      "Smoothing RHS EFT\n",
      "Smoothing RHS EFT\n",
      "Smoothing RHS EFT\n",
      "Smoothing RHS EFT\n",
      "Smoothing RHS EFT\n",
      "Smoothing RHS EFT\n",
      "Smoothing RHS EFT\n",
      "reserr-FAS: 435235.21875\n"
     ]
    },
    {
     "data": {
      "text/html": [
       "<pre style=\"white-space:pre;overflow-x:auto;line-height:normal;font-family:Menlo,'DejaVu Sans Mono',consolas,'Courier New',monospace\">param<span style=\"font-weight: bold\">[</span><span style=\"color: #008000; text-decoration-color: #008000\">'nsteps'</span><span style=\"font-weight: bold\">]</span>=<span style=\"color: #008080; text-decoration-color: #008080; font-weight: bold\">116</span> param<span style=\"font-weight: bold\">[</span><span style=\"color: #008000; text-decoration-color: #008000\">'aexp'</span><span style=\"font-weight: bold\">]</span>=<span style=\"color: #008080; text-decoration-color: #008080; font-weight: bold\">0.017077548713187368</span> z = <span style=\"color: #008080; text-decoration-color: #008080; font-weight: bold\">57.556413264849596</span>                                      \n",
       "</pre>\n"
      ],
      "text/plain": [
       "param\u001b[1m[\u001b[0m\u001b[32m'nsteps'\u001b[0m\u001b[1m]\u001b[0m=\u001b[1;36m116\u001b[0m param\u001b[1m[\u001b[0m\u001b[32m'aexp'\u001b[0m\u001b[1m]\u001b[0m=\u001b[1;36m0.017077548713187368\u001b[0m z = \u001b[1;36m57.556413264849596\u001b[0m                                      \n"
      ]
     },
     "metadata": {},
     "output_type": "display_data"
    },
    {
     "name": "stdout",
     "output_type": "stream",
     "text": [
      "Full solver.\n",
      "Smoothing RHS EFT\n",
      "Smoothing RHS EFT\n",
      "Smoothing RHS EFT\n",
      "Smoothing RHS EFT\n",
      "Smoothing RHS EFT\n",
      "Smoothing RHS EFT\n",
      "Smoothing RHS EFT\n",
      "Smoothing RHS EFT\n",
      "Smoothing RHS EFT\n",
      "Smoothing RHS EFT\n",
      "Smoothing RHS EFT\n",
      "Smoothing RHS EFT\n",
      "Smoothing RHS EFT\n",
      "Smoothing RHS EFT\n",
      "Smoothing RHS EFT\n",
      "Smoothing RHS EFT\n",
      "Smoothing RHS EFT\n",
      "Smoothing RHS EFT\n",
      "Smoothing RHS EFT\n",
      "Smoothing RHS EFT\n",
      "Smoothing RHS EFT\n",
      "Smoothing RHS EFT\n",
      "Smoothing RHS EFT\n",
      "Smoothing RHS EFT\n",
      "Smoothing RHS EFT\n",
      "Smoothing RHS EFT\n",
      "reserr-FAS: 438445.90625\n"
     ]
    },
    {
     "data": {
      "text/html": [
       "<pre style=\"white-space:pre;overflow-x:auto;line-height:normal;font-family:Menlo,'DejaVu Sans Mono',consolas,'Courier New',monospace\">param<span style=\"font-weight: bold\">[</span><span style=\"color: #008000; text-decoration-color: #008000\">'nsteps'</span><span style=\"font-weight: bold\">]</span>=<span style=\"color: #008080; text-decoration-color: #008080; font-weight: bold\">117</span> param<span style=\"font-weight: bold\">[</span><span style=\"color: #008000; text-decoration-color: #008000\">'aexp'</span><span style=\"font-weight: bold\">]</span>=<span style=\"color: #008080; text-decoration-color: #008080; font-weight: bold\">0.017079550117848345</span> z = <span style=\"color: #008080; text-decoration-color: #008080; font-weight: bold\">57.54955154556369</span>                                       \n",
       "</pre>\n"
      ],
      "text/plain": [
       "param\u001b[1m[\u001b[0m\u001b[32m'nsteps'\u001b[0m\u001b[1m]\u001b[0m=\u001b[1;36m117\u001b[0m param\u001b[1m[\u001b[0m\u001b[32m'aexp'\u001b[0m\u001b[1m]\u001b[0m=\u001b[1;36m0.017079550117848345\u001b[0m z = \u001b[1;36m57.54955154556369\u001b[0m                                       \n"
      ]
     },
     "metadata": {},
     "output_type": "display_data"
    },
    {
     "name": "stdout",
     "output_type": "stream",
     "text": [
      "Full solver.\n",
      "Smoothing RHS EFT\n",
      "Smoothing RHS EFT\n",
      "Smoothing RHS EFT\n",
      "Smoothing RHS EFT\n",
      "Smoothing RHS EFT\n",
      "Smoothing RHS EFT\n",
      "Smoothing RHS EFT\n",
      "Smoothing RHS EFT\n",
      "Smoothing RHS EFT\n",
      "Smoothing RHS EFT\n",
      "Smoothing RHS EFT\n",
      "Smoothing RHS EFT\n",
      "Smoothing RHS EFT\n",
      "Smoothing RHS EFT\n",
      "Smoothing RHS EFT\n",
      "Smoothing RHS EFT\n",
      "Smoothing RHS EFT\n",
      "Smoothing RHS EFT\n",
      "Smoothing RHS EFT\n",
      "Smoothing RHS EFT\n",
      "Smoothing RHS EFT\n",
      "Smoothing RHS EFT\n",
      "Smoothing RHS EFT\n",
      "Smoothing RHS EFT\n",
      "Smoothing RHS EFT\n",
      "Smoothing RHS EFT\n",
      "reserr-FAS: 441860.40625\n"
     ]
    },
    {
     "data": {
      "text/html": [
       "<pre style=\"white-space:pre;overflow-x:auto;line-height:normal;font-family:Menlo,'DejaVu Sans Mono',consolas,'Courier New',monospace\">param<span style=\"font-weight: bold\">[</span><span style=\"color: #008000; text-decoration-color: #008000\">'nsteps'</span><span style=\"font-weight: bold\">]</span>=<span style=\"color: #008080; text-decoration-color: #008080; font-weight: bold\">118</span> param<span style=\"font-weight: bold\">[</span><span style=\"color: #008000; text-decoration-color: #008000\">'aexp'</span><span style=\"font-weight: bold\">]</span>=<span style=\"color: #008080; text-decoration-color: #008080; font-weight: bold\">0.017081542810278415</span> z = <span style=\"color: #008080; text-decoration-color: #008080; font-weight: bold\">57.54272129320038</span>                                       \n",
       "</pre>\n"
      ],
      "text/plain": [
       "param\u001b[1m[\u001b[0m\u001b[32m'nsteps'\u001b[0m\u001b[1m]\u001b[0m=\u001b[1;36m118\u001b[0m param\u001b[1m[\u001b[0m\u001b[32m'aexp'\u001b[0m\u001b[1m]\u001b[0m=\u001b[1;36m0.017081542810278415\u001b[0m z = \u001b[1;36m57.54272129320038\u001b[0m                                       \n"
      ]
     },
     "metadata": {},
     "output_type": "display_data"
    },
    {
     "name": "stdout",
     "output_type": "stream",
     "text": [
      "Full solver.\n",
      "Smoothing RHS EFT\n",
      "Smoothing RHS EFT\n",
      "Smoothing RHS EFT\n",
      "Smoothing RHS EFT\n",
      "Smoothing RHS EFT\n",
      "Smoothing RHS EFT\n",
      "Smoothing RHS EFT\n",
      "Smoothing RHS EFT\n",
      "Smoothing RHS EFT\n",
      "Smoothing RHS EFT\n",
      "Smoothing RHS EFT\n",
      "Smoothing RHS EFT\n",
      "Smoothing RHS EFT\n",
      "Smoothing RHS EFT\n",
      "Smoothing RHS EFT\n",
      "Smoothing RHS EFT\n",
      "Smoothing RHS EFT\n",
      "Smoothing RHS EFT\n",
      "Smoothing RHS EFT\n",
      "Smoothing RHS EFT\n",
      "Smoothing RHS EFT\n",
      "Smoothing RHS EFT\n",
      "Smoothing RHS EFT\n",
      "Smoothing RHS EFT\n",
      "Smoothing RHS EFT\n",
      "Smoothing RHS EFT\n",
      "reserr-FAS: 445447.78125\n"
     ]
    },
    {
     "data": {
      "text/html": [
       "<pre style=\"white-space:pre;overflow-x:auto;line-height:normal;font-family:Menlo,'DejaVu Sans Mono',consolas,'Courier New',monospace\">param<span style=\"font-weight: bold\">[</span><span style=\"color: #008000; text-decoration-color: #008000\">'nsteps'</span><span style=\"font-weight: bold\">]</span>=<span style=\"color: #008080; text-decoration-color: #008080; font-weight: bold\">119</span> param<span style=\"font-weight: bold\">[</span><span style=\"color: #008000; text-decoration-color: #008000\">'aexp'</span><span style=\"font-weight: bold\">]</span>=<span style=\"color: #008080; text-decoration-color: #008080; font-weight: bold\">0.017083529851698562</span> z = <span style=\"color: #008080; text-decoration-color: #008080; font-weight: bold\">57.535911997166856</span>                                      \n",
       "</pre>\n"
      ],
      "text/plain": [
       "param\u001b[1m[\u001b[0m\u001b[32m'nsteps'\u001b[0m\u001b[1m]\u001b[0m=\u001b[1;36m119\u001b[0m param\u001b[1m[\u001b[0m\u001b[32m'aexp'\u001b[0m\u001b[1m]\u001b[0m=\u001b[1;36m0.017083529851698562\u001b[0m z = \u001b[1;36m57.535911997166856\u001b[0m                                      \n"
      ]
     },
     "metadata": {},
     "output_type": "display_data"
    },
    {
     "name": "stdout",
     "output_type": "stream",
     "text": [
      "Full solver.\n",
      "Smoothing RHS EFT\n",
      "Smoothing RHS EFT\n",
      "Smoothing RHS EFT\n",
      "Smoothing RHS EFT\n",
      "Smoothing RHS EFT\n",
      "Smoothing RHS EFT\n",
      "Smoothing RHS EFT\n",
      "Smoothing RHS EFT\n",
      "Smoothing RHS EFT\n",
      "Smoothing RHS EFT\n",
      "Smoothing RHS EFT\n",
      "Smoothing RHS EFT\n",
      "Smoothing RHS EFT\n",
      "Smoothing RHS EFT\n",
      "Smoothing RHS EFT\n",
      "Smoothing RHS EFT\n",
      "Smoothing RHS EFT\n",
      "Smoothing RHS EFT\n",
      "Smoothing RHS EFT\n",
      "Smoothing RHS EFT\n",
      "Smoothing RHS EFT\n",
      "Smoothing RHS EFT\n",
      "Smoothing RHS EFT\n",
      "Smoothing RHS EFT\n",
      "Smoothing RHS EFT\n",
      "Smoothing RHS EFT\n",
      "reserr-FAS: 449251.625\n"
     ]
    },
    {
     "data": {
      "text/html": [
       "<pre style=\"white-space:pre;overflow-x:auto;line-height:normal;font-family:Menlo,'DejaVu Sans Mono',consolas,'Courier New',monospace\">param<span style=\"font-weight: bold\">[</span><span style=\"color: #008000; text-decoration-color: #008000\">'nsteps'</span><span style=\"font-weight: bold\">]</span>=<span style=\"color: #008080; text-decoration-color: #008080; font-weight: bold\">120</span> param<span style=\"font-weight: bold\">[</span><span style=\"color: #008000; text-decoration-color: #008000\">'aexp'</span><span style=\"font-weight: bold\">]</span>=<span style=\"color: #008080; text-decoration-color: #008080; font-weight: bold\">0.017085514209542036</span> z = <span style=\"color: #008080; text-decoration-color: #008080; font-weight: bold\">57.52911347798435</span>                                       \n",
       "</pre>\n"
      ],
      "text/plain": [
       "param\u001b[1m[\u001b[0m\u001b[32m'nsteps'\u001b[0m\u001b[1m]\u001b[0m=\u001b[1;36m120\u001b[0m param\u001b[1m[\u001b[0m\u001b[32m'aexp'\u001b[0m\u001b[1m]\u001b[0m=\u001b[1;36m0.017085514209542036\u001b[0m z = \u001b[1;36m57.52911347798435\u001b[0m                                       \n"
      ]
     },
     "metadata": {},
     "output_type": "display_data"
    },
    {
     "name": "stdout",
     "output_type": "stream",
     "text": [
      "Full solver.\n",
      "Smoothing RHS EFT\n",
      "Smoothing RHS EFT\n",
      "Smoothing RHS EFT\n",
      "Smoothing RHS EFT\n",
      "Smoothing RHS EFT\n",
      "Smoothing RHS EFT\n",
      "Smoothing RHS EFT\n",
      "Smoothing RHS EFT\n",
      "Smoothing RHS EFT\n",
      "Smoothing RHS EFT\n",
      "Smoothing RHS EFT\n",
      "Smoothing RHS EFT\n",
      "Smoothing RHS EFT\n",
      "Smoothing RHS EFT\n",
      "Smoothing RHS EFT\n",
      "Smoothing RHS EFT\n",
      "Smoothing RHS EFT\n",
      "Smoothing RHS EFT\n",
      "Smoothing RHS EFT\n",
      "Smoothing RHS EFT\n",
      "Smoothing RHS EFT\n",
      "Smoothing RHS EFT\n",
      "Smoothing RHS EFT\n",
      "Smoothing RHS EFT\n",
      "Smoothing RHS EFT\n",
      "Smoothing RHS EFT\n",
      "reserr-FAS: 453196.03125\n"
     ]
    },
    {
     "data": {
      "text/html": [
       "<pre style=\"white-space:pre;overflow-x:auto;line-height:normal;font-family:Menlo,'DejaVu Sans Mono',consolas,'Courier New',monospace\">param<span style=\"font-weight: bold\">[</span><span style=\"color: #008000; text-decoration-color: #008000\">'nsteps'</span><span style=\"font-weight: bold\">]</span>=<span style=\"color: #008080; text-decoration-color: #008080; font-weight: bold\">121</span> param<span style=\"font-weight: bold\">[</span><span style=\"color: #008000; text-decoration-color: #008000\">'aexp'</span><span style=\"font-weight: bold\">]</span>=<span style=\"color: #008080; text-decoration-color: #008080; font-weight: bold\">0.017087498776990992</span> z = <span style=\"color: #008080; text-decoration-color: #008080; font-weight: bold\">57.52231581994554</span>                                       \n",
       "</pre>\n"
      ],
      "text/plain": [
       "param\u001b[1m[\u001b[0m\u001b[32m'nsteps'\u001b[0m\u001b[1m]\u001b[0m=\u001b[1;36m121\u001b[0m param\u001b[1m[\u001b[0m\u001b[32m'aexp'\u001b[0m\u001b[1m]\u001b[0m=\u001b[1;36m0.017087498776990992\u001b[0m z = \u001b[1;36m57.52231581994554\u001b[0m                                       \n"
      ]
     },
     "metadata": {},
     "output_type": "display_data"
    },
    {
     "name": "stdout",
     "output_type": "stream",
     "text": [
      "Full solver.\n",
      "Smoothing RHS EFT\n",
      "Smoothing RHS EFT\n",
      "Smoothing RHS EFT\n",
      "Smoothing RHS EFT\n",
      "Smoothing RHS EFT\n",
      "Smoothing RHS EFT\n",
      "Smoothing RHS EFT\n",
      "Smoothing RHS EFT\n",
      "Smoothing RHS EFT\n",
      "Smoothing RHS EFT\n",
      "Smoothing RHS EFT\n",
      "Smoothing RHS EFT\n",
      "Smoothing RHS EFT\n",
      "Smoothing RHS EFT\n",
      "Smoothing RHS EFT\n",
      "Smoothing RHS EFT\n",
      "Smoothing RHS EFT\n",
      "Smoothing RHS EFT\n",
      "Smoothing RHS EFT\n",
      "Smoothing RHS EFT\n",
      "Smoothing RHS EFT\n",
      "Smoothing RHS EFT\n",
      "Smoothing RHS EFT\n",
      "Smoothing RHS EFT\n",
      "Smoothing RHS EFT\n",
      "Smoothing RHS EFT\n",
      "reserr-FAS: 457261.84375\n"
     ]
    },
    {
     "data": {
      "text/html": [
       "<pre style=\"white-space:pre;overflow-x:auto;line-height:normal;font-family:Menlo,'DejaVu Sans Mono',consolas,'Courier New',monospace\">param<span style=\"font-weight: bold\">[</span><span style=\"color: #008000; text-decoration-color: #008000\">'nsteps'</span><span style=\"font-weight: bold\">]</span>=<span style=\"color: #008080; text-decoration-color: #008080; font-weight: bold\">122</span> param<span style=\"font-weight: bold\">[</span><span style=\"color: #008000; text-decoration-color: #008000\">'aexp'</span><span style=\"font-weight: bold\">]</span>=<span style=\"color: #008080; text-decoration-color: #008080; font-weight: bold\">0.017089475684709202</span> z = <span style=\"color: #008080; text-decoration-color: #008080; font-weight: bold\">57.51554596813929</span>                                       \n",
       "</pre>\n"
      ],
      "text/plain": [
       "param\u001b[1m[\u001b[0m\u001b[32m'nsteps'\u001b[0m\u001b[1m]\u001b[0m=\u001b[1;36m122\u001b[0m param\u001b[1m[\u001b[0m\u001b[32m'aexp'\u001b[0m\u001b[1m]\u001b[0m=\u001b[1;36m0.017089475684709202\u001b[0m z = \u001b[1;36m57.51554596813929\u001b[0m                                       \n"
      ]
     },
     "metadata": {},
     "output_type": "display_data"
    },
    {
     "name": "stdout",
     "output_type": "stream",
     "text": [
      "Full solver.\n",
      "Smoothing RHS EFT\n",
      "Smoothing RHS EFT\n",
      "Smoothing RHS EFT\n",
      "Smoothing RHS EFT\n",
      "Smoothing RHS EFT\n",
      "Smoothing RHS EFT\n",
      "Smoothing RHS EFT\n",
      "Smoothing RHS EFT\n",
      "Smoothing RHS EFT\n",
      "Smoothing RHS EFT\n",
      "Smoothing RHS EFT\n",
      "Smoothing RHS EFT\n",
      "Smoothing RHS EFT\n",
      "Smoothing RHS EFT\n",
      "Smoothing RHS EFT\n",
      "Smoothing RHS EFT\n",
      "Smoothing RHS EFT\n",
      "Smoothing RHS EFT\n",
      "Smoothing RHS EFT\n",
      "Smoothing RHS EFT\n",
      "Smoothing RHS EFT\n",
      "Smoothing RHS EFT\n",
      "Smoothing RHS EFT\n",
      "Smoothing RHS EFT\n",
      "Smoothing RHS EFT\n",
      "Smoothing RHS EFT\n",
      "reserr-FAS: 461424.25\n"
     ]
    },
    {
     "data": {
      "text/html": [
       "<pre style=\"white-space:pre;overflow-x:auto;line-height:normal;font-family:Menlo,'DejaVu Sans Mono',consolas,'Courier New',monospace\">param<span style=\"font-weight: bold\">[</span><span style=\"color: #008000; text-decoration-color: #008000\">'nsteps'</span><span style=\"font-weight: bold\">]</span>=<span style=\"color: #008080; text-decoration-color: #008080; font-weight: bold\">123</span> param<span style=\"font-weight: bold\">[</span><span style=\"color: #008000; text-decoration-color: #008000\">'aexp'</span><span style=\"font-weight: bold\">]</span>=<span style=\"color: #008080; text-decoration-color: #008080; font-weight: bold\">0.017091443619145927</span> z = <span style=\"color: #008080; text-decoration-color: #008080; font-weight: bold\">57.508808400467395</span>                                      \n",
       "</pre>\n"
      ],
      "text/plain": [
       "param\u001b[1m[\u001b[0m\u001b[32m'nsteps'\u001b[0m\u001b[1m]\u001b[0m=\u001b[1;36m123\u001b[0m param\u001b[1m[\u001b[0m\u001b[32m'aexp'\u001b[0m\u001b[1m]\u001b[0m=\u001b[1;36m0.017091443619145927\u001b[0m z = \u001b[1;36m57.508808400467395\u001b[0m                                      \n"
      ]
     },
     "metadata": {},
     "output_type": "display_data"
    },
    {
     "name": "stdout",
     "output_type": "stream",
     "text": [
      "Full solver.\n",
      "Smoothing RHS EFT\n",
      "Smoothing RHS EFT\n",
      "Smoothing RHS EFT\n",
      "Smoothing RHS EFT\n",
      "Smoothing RHS EFT\n",
      "Smoothing RHS EFT\n",
      "Smoothing RHS EFT\n",
      "Smoothing RHS EFT\n",
      "Smoothing RHS EFT\n",
      "Smoothing RHS EFT\n",
      "Smoothing RHS EFT\n",
      "Smoothing RHS EFT\n",
      "Smoothing RHS EFT\n",
      "Smoothing RHS EFT\n",
      "Smoothing RHS EFT\n",
      "Smoothing RHS EFT\n",
      "Smoothing RHS EFT\n",
      "Smoothing RHS EFT\n",
      "Smoothing RHS EFT\n",
      "Smoothing RHS EFT\n",
      "Smoothing RHS EFT\n",
      "Smoothing RHS EFT\n",
      "Smoothing RHS EFT\n",
      "Smoothing RHS EFT\n",
      "Smoothing RHS EFT\n",
      "Smoothing RHS EFT\n",
      "reserr-FAS: 465628.125\n"
     ]
    },
    {
     "data": {
      "text/html": [
       "<pre style=\"white-space:pre;overflow-x:auto;line-height:normal;font-family:Menlo,'DejaVu Sans Mono',consolas,'Courier New',monospace\">param<span style=\"font-weight: bold\">[</span><span style=\"color: #008000; text-decoration-color: #008000\">'nsteps'</span><span style=\"font-weight: bold\">]</span>=<span style=\"color: #008080; text-decoration-color: #008080; font-weight: bold\">124</span> param<span style=\"font-weight: bold\">[</span><span style=\"color: #008000; text-decoration-color: #008000\">'aexp'</span><span style=\"font-weight: bold\">]</span>=<span style=\"color: #008080; text-decoration-color: #008080; font-weight: bold\">0.017093387684228963</span> z = <span style=\"color: #008080; text-decoration-color: #008080; font-weight: bold\">57.50215407696156</span>                                       \n",
       "</pre>\n"
      ],
      "text/plain": [
       "param\u001b[1m[\u001b[0m\u001b[32m'nsteps'\u001b[0m\u001b[1m]\u001b[0m=\u001b[1;36m124\u001b[0m param\u001b[1m[\u001b[0m\u001b[32m'aexp'\u001b[0m\u001b[1m]\u001b[0m=\u001b[1;36m0.017093387684228963\u001b[0m z = \u001b[1;36m57.50215407696156\u001b[0m                                       \n"
      ]
     },
     "metadata": {},
     "output_type": "display_data"
    },
    {
     "name": "stdout",
     "output_type": "stream",
     "text": [
      "Full solver.\n",
      "Smoothing RHS EFT\n",
      "Smoothing RHS EFT\n",
      "Smoothing RHS EFT\n",
      "Smoothing RHS EFT\n",
      "Smoothing RHS EFT\n",
      "Smoothing RHS EFT\n",
      "Smoothing RHS EFT\n",
      "Smoothing RHS EFT\n",
      "Smoothing RHS EFT\n",
      "Smoothing RHS EFT\n",
      "Smoothing RHS EFT\n",
      "Smoothing RHS EFT\n",
      "Smoothing RHS EFT\n",
      "Smoothing RHS EFT\n",
      "Smoothing RHS EFT\n",
      "Smoothing RHS EFT\n",
      "Smoothing RHS EFT\n",
      "Smoothing RHS EFT\n",
      "Smoothing RHS EFT\n",
      "Smoothing RHS EFT\n",
      "Smoothing RHS EFT\n",
      "Smoothing RHS EFT\n",
      "Smoothing RHS EFT\n",
      "Smoothing RHS EFT\n",
      "Smoothing RHS EFT\n",
      "Smoothing RHS EFT\n",
      "reserr-FAS: 469829.46875\n"
     ]
    },
    {
     "data": {
      "text/html": [
       "<pre style=\"white-space:pre;overflow-x:auto;line-height:normal;font-family:Menlo,'DejaVu Sans Mono',consolas,'Courier New',monospace\">param<span style=\"font-weight: bold\">[</span><span style=\"color: #008000; text-decoration-color: #008000\">'nsteps'</span><span style=\"font-weight: bold\">]</span>=<span style=\"color: #008080; text-decoration-color: #008080; font-weight: bold\">125</span> param<span style=\"font-weight: bold\">[</span><span style=\"color: #008000; text-decoration-color: #008000\">'aexp'</span><span style=\"font-weight: bold\">]</span>=<span style=\"color: #008080; text-decoration-color: #008080; font-weight: bold\">0.017095308168515493</span> z = <span style=\"color: #008080; text-decoration-color: #008080; font-weight: bold\">57.495581953983404</span>                                      \n",
       "</pre>\n"
      ],
      "text/plain": [
       "param\u001b[1m[\u001b[0m\u001b[32m'nsteps'\u001b[0m\u001b[1m]\u001b[0m=\u001b[1;36m125\u001b[0m param\u001b[1m[\u001b[0m\u001b[32m'aexp'\u001b[0m\u001b[1m]\u001b[0m=\u001b[1;36m0.017095308168515493\u001b[0m z = \u001b[1;36m57.495581953983404\u001b[0m                                      \n"
      ]
     },
     "metadata": {},
     "output_type": "display_data"
    },
    {
     "name": "stdout",
     "output_type": "stream",
     "text": [
      "Full solver.\n",
      "Smoothing RHS EFT\n",
      "Smoothing RHS EFT\n",
      "Smoothing RHS EFT\n",
      "Smoothing RHS EFT\n",
      "Smoothing RHS EFT\n",
      "Smoothing RHS EFT\n",
      "Smoothing RHS EFT\n",
      "Smoothing RHS EFT\n",
      "Smoothing RHS EFT\n",
      "Smoothing RHS EFT\n",
      "Smoothing RHS EFT\n",
      "Smoothing RHS EFT\n",
      "Smoothing RHS EFT\n",
      "Smoothing RHS EFT\n",
      "Smoothing RHS EFT\n",
      "Smoothing RHS EFT\n",
      "Smoothing RHS EFT\n",
      "Smoothing RHS EFT\n",
      "Smoothing RHS EFT\n",
      "Smoothing RHS EFT\n",
      "Smoothing RHS EFT\n",
      "Smoothing RHS EFT\n",
      "Smoothing RHS EFT\n",
      "Smoothing RHS EFT\n",
      "Smoothing RHS EFT\n",
      "Smoothing RHS EFT\n",
      "reserr-FAS: 474050.09375\n"
     ]
    },
    {
     "data": {
      "text/html": [
       "<pre style=\"white-space:pre;overflow-x:auto;line-height:normal;font-family:Menlo,'DejaVu Sans Mono',consolas,'Courier New',monospace\">param<span style=\"font-weight: bold\">[</span><span style=\"color: #008000; text-decoration-color: #008000\">'nsteps'</span><span style=\"font-weight: bold\">]</span>=<span style=\"color: #008080; text-decoration-color: #008080; font-weight: bold\">126</span> param<span style=\"font-weight: bold\">[</span><span style=\"color: #008000; text-decoration-color: #008000\">'aexp'</span><span style=\"font-weight: bold\">]</span>=<span style=\"color: #008080; text-decoration-color: #008080; font-weight: bold\">0.017097207027867146</span> z = <span style=\"color: #008080; text-decoration-color: #008080; font-weight: bold\">57.48908528568884</span>                                       \n",
       "</pre>\n"
      ],
      "text/plain": [
       "param\u001b[1m[\u001b[0m\u001b[32m'nsteps'\u001b[0m\u001b[1m]\u001b[0m=\u001b[1;36m126\u001b[0m param\u001b[1m[\u001b[0m\u001b[32m'aexp'\u001b[0m\u001b[1m]\u001b[0m=\u001b[1;36m0.017097207027867146\u001b[0m z = \u001b[1;36m57.48908528568884\u001b[0m                                       \n"
      ]
     },
     "metadata": {},
     "output_type": "display_data"
    },
    {
     "name": "stdout",
     "output_type": "stream",
     "text": [
      "Full solver.\n",
      "Smoothing RHS EFT\n",
      "Smoothing RHS EFT\n",
      "Smoothing RHS EFT\n",
      "Smoothing RHS EFT\n",
      "Smoothing RHS EFT\n",
      "Smoothing RHS EFT\n",
      "Smoothing RHS EFT\n",
      "Smoothing RHS EFT\n",
      "Smoothing RHS EFT\n",
      "Smoothing RHS EFT\n",
      "Smoothing RHS EFT\n",
      "Smoothing RHS EFT\n",
      "Smoothing RHS EFT\n",
      "Smoothing RHS EFT\n",
      "Smoothing RHS EFT\n",
      "Smoothing RHS EFT\n",
      "Smoothing RHS EFT\n",
      "Smoothing RHS EFT\n",
      "Smoothing RHS EFT\n",
      "Smoothing RHS EFT\n",
      "Smoothing RHS EFT\n",
      "Smoothing RHS EFT\n",
      "Smoothing RHS EFT\n",
      "Smoothing RHS EFT\n",
      "Smoothing RHS EFT\n",
      "Smoothing RHS EFT\n",
      "reserr-FAS: 478254.96875\n"
     ]
    },
    {
     "data": {
      "text/html": [
       "<pre style=\"white-space:pre;overflow-x:auto;line-height:normal;font-family:Menlo,'DejaVu Sans Mono',consolas,'Courier New',monospace\">param<span style=\"font-weight: bold\">[</span><span style=\"color: #008000; text-decoration-color: #008000\">'nsteps'</span><span style=\"font-weight: bold\">]</span>=<span style=\"color: #008080; text-decoration-color: #008080; font-weight: bold\">127</span> param<span style=\"font-weight: bold\">[</span><span style=\"color: #008000; text-decoration-color: #008000\">'aexp'</span><span style=\"font-weight: bold\">]</span>=<span style=\"color: #008080; text-decoration-color: #008080; font-weight: bold\">0.017099086280706523</span> z = <span style=\"color: #008080; text-decoration-color: #008080; font-weight: bold\">57.48265711883879</span>                                       \n",
       "</pre>\n"
      ],
      "text/plain": [
       "param\u001b[1m[\u001b[0m\u001b[32m'nsteps'\u001b[0m\u001b[1m]\u001b[0m=\u001b[1;36m127\u001b[0m param\u001b[1m[\u001b[0m\u001b[32m'aexp'\u001b[0m\u001b[1m]\u001b[0m=\u001b[1;36m0.017099086280706523\u001b[0m z = \u001b[1;36m57.48265711883879\u001b[0m                                       \n"
      ]
     },
     "metadata": {},
     "output_type": "display_data"
    },
    {
     "name": "stdout",
     "output_type": "stream",
     "text": [
      "Full solver.\n",
      "Smoothing RHS EFT\n",
      "Smoothing RHS EFT\n",
      "Smoothing RHS EFT\n",
      "Smoothing RHS EFT\n",
      "Smoothing RHS EFT\n",
      "Smoothing RHS EFT\n",
      "Smoothing RHS EFT\n",
      "Smoothing RHS EFT\n",
      "Smoothing RHS EFT\n",
      "Smoothing RHS EFT\n",
      "Smoothing RHS EFT\n",
      "Smoothing RHS EFT\n",
      "Smoothing RHS EFT\n",
      "Smoothing RHS EFT\n",
      "Smoothing RHS EFT\n",
      "Smoothing RHS EFT\n",
      "Smoothing RHS EFT\n",
      "Smoothing RHS EFT\n",
      "Smoothing RHS EFT\n",
      "Smoothing RHS EFT\n",
      "Smoothing RHS EFT\n",
      "Smoothing RHS EFT\n",
      "Smoothing RHS EFT\n",
      "Smoothing RHS EFT\n",
      "Smoothing RHS EFT\n",
      "Smoothing RHS EFT\n",
      "reserr-FAS: 482451.03125\n"
     ]
    },
    {
     "data": {
      "text/html": [
       "<pre style=\"white-space:pre;overflow-x:auto;line-height:normal;font-family:Menlo,'DejaVu Sans Mono',consolas,'Courier New',monospace\">param<span style=\"font-weight: bold\">[</span><span style=\"color: #008000; text-decoration-color: #008000\">'nsteps'</span><span style=\"font-weight: bold\">]</span>=<span style=\"color: #008080; text-decoration-color: #008080; font-weight: bold\">128</span> param<span style=\"font-weight: bold\">[</span><span style=\"color: #008000; text-decoration-color: #008000\">'aexp'</span><span style=\"font-weight: bold\">]</span>=<span style=\"color: #008080; text-decoration-color: #008080; font-weight: bold\">0.017100948005024</span> z = <span style=\"color: #008080; text-decoration-color: #008080; font-weight: bold\">57.47629030309987</span>                                          \n",
       "</pre>\n"
      ],
      "text/plain": [
       "param\u001b[1m[\u001b[0m\u001b[32m'nsteps'\u001b[0m\u001b[1m]\u001b[0m=\u001b[1;36m128\u001b[0m param\u001b[1m[\u001b[0m\u001b[32m'aexp'\u001b[0m\u001b[1m]\u001b[0m=\u001b[1;36m0.017100948005024\u001b[0m z = \u001b[1;36m57.47629030309987\u001b[0m                                          \n"
      ]
     },
     "metadata": {},
     "output_type": "display_data"
    },
    {
     "name": "stdout",
     "output_type": "stream",
     "text": [
      "Full solver.\n",
      "Smoothing RHS EFT\n",
      "Smoothing RHS EFT\n",
      "Smoothing RHS EFT\n",
      "Smoothing RHS EFT\n",
      "Smoothing RHS EFT\n",
      "Smoothing RHS EFT\n",
      "Smoothing RHS EFT\n",
      "Smoothing RHS EFT\n",
      "Smoothing RHS EFT\n",
      "Smoothing RHS EFT\n",
      "Smoothing RHS EFT\n",
      "Smoothing RHS EFT\n",
      "Smoothing RHS EFT\n",
      "Smoothing RHS EFT\n",
      "Smoothing RHS EFT\n",
      "Smoothing RHS EFT\n",
      "Smoothing RHS EFT\n",
      "Smoothing RHS EFT\n",
      "Smoothing RHS EFT\n",
      "Smoothing RHS EFT\n",
      "Smoothing RHS EFT\n",
      "Smoothing RHS EFT\n",
      "Smoothing RHS EFT\n",
      "Smoothing RHS EFT\n",
      "Smoothing RHS EFT\n",
      "Smoothing RHS EFT\n",
      "reserr-FAS: 486581.71875\n"
     ]
    },
    {
     "data": {
      "text/html": [
       "<pre style=\"white-space:pre;overflow-x:auto;line-height:normal;font-family:Menlo,'DejaVu Sans Mono',consolas,'Courier New',monospace\">param<span style=\"font-weight: bold\">[</span><span style=\"color: #008000; text-decoration-color: #008000\">'nsteps'</span><span style=\"font-weight: bold\">]</span>=<span style=\"color: #008080; text-decoration-color: #008080; font-weight: bold\">129</span> param<span style=\"font-weight: bold\">[</span><span style=\"color: #008000; text-decoration-color: #008000\">'aexp'</span><span style=\"font-weight: bold\">]</span>=<span style=\"color: #008080; text-decoration-color: #008080; font-weight: bold\">0.017102794342219747</span> z = <span style=\"color: #008080; text-decoration-color: #008080; font-weight: bold\">57.46997747797343</span>                                       \n",
       "</pre>\n"
      ],
      "text/plain": [
       "param\u001b[1m[\u001b[0m\u001b[32m'nsteps'\u001b[0m\u001b[1m]\u001b[0m=\u001b[1;36m129\u001b[0m param\u001b[1m[\u001b[0m\u001b[32m'aexp'\u001b[0m\u001b[1m]\u001b[0m=\u001b[1;36m0.017102794342219747\u001b[0m z = \u001b[1;36m57.46997747797343\u001b[0m                                       \n"
      ]
     },
     "metadata": {},
     "output_type": "display_data"
    },
    {
     "name": "stdout",
     "output_type": "stream",
     "text": [
      "Full solver.\n",
      "Smoothing RHS EFT\n",
      "Smoothing RHS EFT\n",
      "Smoothing RHS EFT\n",
      "Smoothing RHS EFT\n",
      "Smoothing RHS EFT\n",
      "Smoothing RHS EFT\n",
      "Smoothing RHS EFT\n",
      "Smoothing RHS EFT\n",
      "Smoothing RHS EFT\n",
      "Smoothing RHS EFT\n",
      "Smoothing RHS EFT\n",
      "Smoothing RHS EFT\n",
      "Smoothing RHS EFT\n",
      "Smoothing RHS EFT\n",
      "Smoothing RHS EFT\n",
      "Smoothing RHS EFT\n",
      "Smoothing RHS EFT\n",
      "Smoothing RHS EFT\n",
      "Smoothing RHS EFT\n",
      "Smoothing RHS EFT\n",
      "Smoothing RHS EFT\n",
      "Smoothing RHS EFT\n",
      "Smoothing RHS EFT\n",
      "Smoothing RHS EFT\n",
      "Smoothing RHS EFT\n",
      "Smoothing RHS EFT\n",
      "reserr-FAS: 490657.4375\n"
     ]
    },
    {
     "data": {
      "text/html": [
       "<pre style=\"white-space:pre;overflow-x:auto;line-height:normal;font-family:Menlo,'DejaVu Sans Mono',consolas,'Courier New',monospace\">param<span style=\"font-weight: bold\">[</span><span style=\"color: #008000; text-decoration-color: #008000\">'nsteps'</span><span style=\"font-weight: bold\">]</span>=<span style=\"color: #008080; text-decoration-color: #008080; font-weight: bold\">130</span> param<span style=\"font-weight: bold\">[</span><span style=\"color: #008000; text-decoration-color: #008000\">'aexp'</span><span style=\"font-weight: bold\">]</span>=<span style=\"color: #008080; text-decoration-color: #008080; font-weight: bold\">0.017104627530326027</span> z = <span style=\"color: #008080; text-decoration-color: #008080; font-weight: bold\">57.46371095933121</span>                                       \n",
       "</pre>\n"
      ],
      "text/plain": [
       "param\u001b[1m[\u001b[0m\u001b[32m'nsteps'\u001b[0m\u001b[1m]\u001b[0m=\u001b[1;36m130\u001b[0m param\u001b[1m[\u001b[0m\u001b[32m'aexp'\u001b[0m\u001b[1m]\u001b[0m=\u001b[1;36m0.017104627530326027\u001b[0m z = \u001b[1;36m57.46371095933121\u001b[0m                                       \n"
      ]
     },
     "metadata": {},
     "output_type": "display_data"
    },
    {
     "name": "stdout",
     "output_type": "stream",
     "text": [
      "Full solver.\n",
      "Smoothing RHS EFT\n",
      "Smoothing RHS EFT\n",
      "Smoothing RHS EFT\n",
      "Smoothing RHS EFT\n",
      "Smoothing RHS EFT\n",
      "Smoothing RHS EFT\n",
      "Smoothing RHS EFT\n",
      "Smoothing RHS EFT\n",
      "Smoothing RHS EFT\n",
      "Smoothing RHS EFT\n",
      "Smoothing RHS EFT\n",
      "Smoothing RHS EFT\n",
      "Smoothing RHS EFT\n",
      "Smoothing RHS EFT\n",
      "Smoothing RHS EFT\n",
      "Smoothing RHS EFT\n",
      "Smoothing RHS EFT\n",
      "Smoothing RHS EFT\n",
      "Smoothing RHS EFT\n",
      "Smoothing RHS EFT\n",
      "Smoothing RHS EFT\n",
      "Smoothing RHS EFT\n",
      "Smoothing RHS EFT\n",
      "Smoothing RHS EFT\n",
      "Smoothing RHS EFT\n",
      "Smoothing RHS EFT\n",
      "reserr-FAS: 494671.625\n"
     ]
    },
    {
     "data": {
      "text/html": [
       "<pre style=\"white-space:pre;overflow-x:auto;line-height:normal;font-family:Menlo,'DejaVu Sans Mono',consolas,'Courier New',monospace\">param<span style=\"font-weight: bold\">[</span><span style=\"color: #008000; text-decoration-color: #008000\">'nsteps'</span><span style=\"font-weight: bold\">]</span>=<span style=\"color: #008080; text-decoration-color: #008080; font-weight: bold\">131</span> param<span style=\"font-weight: bold\">[</span><span style=\"color: #008000; text-decoration-color: #008000\">'aexp'</span><span style=\"font-weight: bold\">]</span>=<span style=\"color: #008080; text-decoration-color: #008080; font-weight: bold\">0.01710644993302106</span> z = <span style=\"color: #008080; text-decoration-color: #008080; font-weight: bold\">57.45748264049059</span>                                        \n",
       "</pre>\n"
      ],
      "text/plain": [
       "param\u001b[1m[\u001b[0m\u001b[32m'nsteps'\u001b[0m\u001b[1m]\u001b[0m=\u001b[1;36m131\u001b[0m param\u001b[1m[\u001b[0m\u001b[32m'aexp'\u001b[0m\u001b[1m]\u001b[0m=\u001b[1;36m0.01710644993302106\u001b[0m z = \u001b[1;36m57.45748264049059\u001b[0m                                        \n"
      ]
     },
     "metadata": {},
     "output_type": "display_data"
    },
    {
     "name": "stdout",
     "output_type": "stream",
     "text": [
      "Full solver.\n",
      "Smoothing RHS EFT\n",
      "Smoothing RHS EFT\n",
      "Smoothing RHS EFT\n",
      "Smoothing RHS EFT\n",
      "Smoothing RHS EFT\n",
      "Smoothing RHS EFT\n",
      "Smoothing RHS EFT\n",
      "Smoothing RHS EFT\n",
      "Smoothing RHS EFT\n",
      "Smoothing RHS EFT\n",
      "Smoothing RHS EFT\n",
      "Smoothing RHS EFT\n",
      "Smoothing RHS EFT\n",
      "Smoothing RHS EFT\n",
      "Smoothing RHS EFT\n",
      "Smoothing RHS EFT\n",
      "Smoothing RHS EFT\n",
      "Smoothing RHS EFT\n",
      "Smoothing RHS EFT\n",
      "Smoothing RHS EFT\n",
      "Smoothing RHS EFT\n",
      "Smoothing RHS EFT\n",
      "Smoothing RHS EFT\n",
      "Smoothing RHS EFT\n",
      "Smoothing RHS EFT\n",
      "Smoothing RHS EFT\n",
      "reserr-FAS: 498615.75\n"
     ]
    },
    {
     "data": {
      "text/html": [
       "<pre style=\"white-space:pre;overflow-x:auto;line-height:normal;font-family:Menlo,'DejaVu Sans Mono',consolas,'Courier New',monospace\">param<span style=\"font-weight: bold\">[</span><span style=\"color: #008000; text-decoration-color: #008000\">'nsteps'</span><span style=\"font-weight: bold\">]</span>=<span style=\"color: #008080; text-decoration-color: #008080; font-weight: bold\">132</span> param<span style=\"font-weight: bold\">[</span><span style=\"color: #008000; text-decoration-color: #008000\">'aexp'</span><span style=\"font-weight: bold\">]</span>=<span style=\"color: #008080; text-decoration-color: #008080; font-weight: bold\">0.017108264010590235</span> z = <span style=\"color: #008080; text-decoration-color: #008080; font-weight: bold\">57.45128409176917</span>                                       \n",
       "</pre>\n"
      ],
      "text/plain": [
       "param\u001b[1m[\u001b[0m\u001b[32m'nsteps'\u001b[0m\u001b[1m]\u001b[0m=\u001b[1;36m132\u001b[0m param\u001b[1m[\u001b[0m\u001b[32m'aexp'\u001b[0m\u001b[1m]\u001b[0m=\u001b[1;36m0.017108264010590235\u001b[0m z = \u001b[1;36m57.45128409176917\u001b[0m                                       \n"
      ]
     },
     "metadata": {},
     "output_type": "display_data"
    },
    {
     "name": "stdout",
     "output_type": "stream",
     "text": [
      "Full solver.\n",
      "Smoothing RHS EFT\n",
      "Smoothing RHS EFT\n",
      "Smoothing RHS EFT\n",
      "Smoothing RHS EFT\n",
      "Smoothing RHS EFT\n",
      "Smoothing RHS EFT\n",
      "Smoothing RHS EFT\n",
      "Smoothing RHS EFT\n",
      "Smoothing RHS EFT\n",
      "Smoothing RHS EFT\n",
      "Smoothing RHS EFT\n",
      "Smoothing RHS EFT\n",
      "Smoothing RHS EFT\n",
      "Smoothing RHS EFT\n",
      "Smoothing RHS EFT\n",
      "Smoothing RHS EFT\n",
      "Smoothing RHS EFT\n",
      "Smoothing RHS EFT\n",
      "Smoothing RHS EFT\n",
      "Smoothing RHS EFT\n",
      "Smoothing RHS EFT\n",
      "Smoothing RHS EFT\n",
      "Smoothing RHS EFT\n",
      "Smoothing RHS EFT\n",
      "Smoothing RHS EFT\n",
      "Smoothing RHS EFT\n",
      "reserr-FAS: 502475.96875\n"
     ]
    },
    {
     "data": {
      "text/html": [
       "<pre style=\"white-space:pre;overflow-x:auto;line-height:normal;font-family:Menlo,'DejaVu Sans Mono',consolas,'Courier New',monospace\">param<span style=\"font-weight: bold\">[</span><span style=\"color: #008000; text-decoration-color: #008000\">'nsteps'</span><span style=\"font-weight: bold\">]</span>=<span style=\"color: #008080; text-decoration-color: #008080; font-weight: bold\">133</span> param<span style=\"font-weight: bold\">[</span><span style=\"color: #008000; text-decoration-color: #008000\">'aexp'</span><span style=\"font-weight: bold\">]</span>=<span style=\"color: #008080; text-decoration-color: #008080; font-weight: bold\">0.01711007022404382</span> z = <span style=\"color: #008080; text-decoration-color: #008080; font-weight: bold\">57.445113719916606</span>                                       \n",
       "</pre>\n"
      ],
      "text/plain": [
       "param\u001b[1m[\u001b[0m\u001b[32m'nsteps'\u001b[0m\u001b[1m]\u001b[0m=\u001b[1;36m133\u001b[0m param\u001b[1m[\u001b[0m\u001b[32m'aexp'\u001b[0m\u001b[1m]\u001b[0m=\u001b[1;36m0.01711007022404382\u001b[0m z = \u001b[1;36m57.445113719916606\u001b[0m                                       \n"
      ]
     },
     "metadata": {},
     "output_type": "display_data"
    },
    {
     "name": "stdout",
     "output_type": "stream",
     "text": [
      "Full solver.\n",
      "Smoothing RHS EFT\n",
      "Smoothing RHS EFT\n",
      "Smoothing RHS EFT\n",
      "Smoothing RHS EFT\n",
      "Smoothing RHS EFT\n",
      "Smoothing RHS EFT\n",
      "Smoothing RHS EFT\n",
      "Smoothing RHS EFT\n",
      "Smoothing RHS EFT\n",
      "Smoothing RHS EFT\n",
      "Smoothing RHS EFT\n",
      "Smoothing RHS EFT\n",
      "Smoothing RHS EFT\n",
      "Smoothing RHS EFT\n",
      "Smoothing RHS EFT\n",
      "Smoothing RHS EFT\n",
      "Smoothing RHS EFT\n",
      "Smoothing RHS EFT\n",
      "Smoothing RHS EFT\n",
      "Smoothing RHS EFT\n",
      "Smoothing RHS EFT\n",
      "Smoothing RHS EFT\n",
      "Smoothing RHS EFT\n",
      "Smoothing RHS EFT\n",
      "Smoothing RHS EFT\n",
      "Smoothing RHS EFT\n",
      "reserr-FAS: 506238.78125\n"
     ]
    },
    {
     "data": {
      "text/html": [
       "<pre style=\"white-space:pre;overflow-x:auto;line-height:normal;font-family:Menlo,'DejaVu Sans Mono',consolas,'Courier New',monospace\">param<span style=\"font-weight: bold\">[</span><span style=\"color: #008000; text-decoration-color: #008000\">'nsteps'</span><span style=\"font-weight: bold\">]</span>=<span style=\"color: #008080; text-decoration-color: #008080; font-weight: bold\">134</span> param<span style=\"font-weight: bold\">[</span><span style=\"color: #008000; text-decoration-color: #008000\">'aexp'</span><span style=\"font-weight: bold\">]</span>=<span style=\"color: #008080; text-decoration-color: #008080; font-weight: bold\">0.01711186730421768</span> z = <span style=\"color: #008080; text-decoration-color: #008080; font-weight: bold\">57.43897584184299</span>                                        \n",
       "</pre>\n"
      ],
      "text/plain": [
       "param\u001b[1m[\u001b[0m\u001b[32m'nsteps'\u001b[0m\u001b[1m]\u001b[0m=\u001b[1;36m134\u001b[0m param\u001b[1m[\u001b[0m\u001b[32m'aexp'\u001b[0m\u001b[1m]\u001b[0m=\u001b[1;36m0.01711186730421768\u001b[0m z = \u001b[1;36m57.43897584184299\u001b[0m                                        \n"
      ]
     },
     "metadata": {},
     "output_type": "display_data"
    },
    {
     "name": "stdout",
     "output_type": "stream",
     "text": [
      "Full solver.\n",
      "Smoothing RHS EFT\n",
      "Smoothing RHS EFT\n",
      "Smoothing RHS EFT\n",
      "Smoothing RHS EFT\n",
      "Smoothing RHS EFT\n",
      "Smoothing RHS EFT\n",
      "Smoothing RHS EFT\n",
      "Smoothing RHS EFT\n",
      "Smoothing RHS EFT\n",
      "Smoothing RHS EFT\n",
      "Smoothing RHS EFT\n",
      "Smoothing RHS EFT\n",
      "Smoothing RHS EFT\n",
      "Smoothing RHS EFT\n",
      "Smoothing RHS EFT\n",
      "Smoothing RHS EFT\n",
      "Smoothing RHS EFT\n",
      "Smoothing RHS EFT\n",
      "Smoothing RHS EFT\n",
      "Smoothing RHS EFT\n",
      "Smoothing RHS EFT\n",
      "Smoothing RHS EFT\n",
      "Smoothing RHS EFT\n",
      "Smoothing RHS EFT\n",
      "Smoothing RHS EFT\n",
      "Smoothing RHS EFT\n",
      "reserr-FAS: 509896.90625\n"
     ]
    },
    {
     "data": {
      "text/html": [
       "<pre style=\"white-space:pre;overflow-x:auto;line-height:normal;font-family:Menlo,'DejaVu Sans Mono',consolas,'Courier New',monospace\">param<span style=\"font-weight: bold\">[</span><span style=\"color: #008000; text-decoration-color: #008000\">'nsteps'</span><span style=\"font-weight: bold\">]</span>=<span style=\"color: #008080; text-decoration-color: #008080; font-weight: bold\">135</span> param<span style=\"font-weight: bold\">[</span><span style=\"color: #008000; text-decoration-color: #008000\">'aexp'</span><span style=\"font-weight: bold\">]</span>=<span style=\"color: #008080; text-decoration-color: #008080; font-weight: bold\">0.01711365785685443</span> z = <span style=\"color: #008080; text-decoration-color: #008080; font-weight: bold\">57.432861540437784</span>                                       \n",
       "</pre>\n"
      ],
      "text/plain": [
       "param\u001b[1m[\u001b[0m\u001b[32m'nsteps'\u001b[0m\u001b[1m]\u001b[0m=\u001b[1;36m135\u001b[0m param\u001b[1m[\u001b[0m\u001b[32m'aexp'\u001b[0m\u001b[1m]\u001b[0m=\u001b[1;36m0.01711365785685443\u001b[0m z = \u001b[1;36m57.432861540437784\u001b[0m                                       \n"
      ]
     },
     "metadata": {},
     "output_type": "display_data"
    },
    {
     "name": "stdout",
     "output_type": "stream",
     "text": [
      "Full solver.\n",
      "Smoothing RHS EFT\n",
      "Smoothing RHS EFT\n",
      "Smoothing RHS EFT\n",
      "Smoothing RHS EFT\n",
      "Smoothing RHS EFT\n",
      "Smoothing RHS EFT\n",
      "Smoothing RHS EFT\n",
      "Smoothing RHS EFT\n",
      "Smoothing RHS EFT\n",
      "Smoothing RHS EFT\n",
      "Smoothing RHS EFT\n",
      "Smoothing RHS EFT\n",
      "Smoothing RHS EFT\n",
      "Smoothing RHS EFT\n",
      "Smoothing RHS EFT\n",
      "Smoothing RHS EFT\n",
      "Smoothing RHS EFT\n",
      "Smoothing RHS EFT\n",
      "Smoothing RHS EFT\n",
      "Smoothing RHS EFT\n",
      "Smoothing RHS EFT\n",
      "Smoothing RHS EFT\n",
      "Smoothing RHS EFT\n",
      "Smoothing RHS EFT\n",
      "Smoothing RHS EFT\n",
      "Smoothing RHS EFT\n",
      "reserr-FAS: 513441.375\n"
     ]
    },
    {
     "data": {
      "text/html": [
       "<pre style=\"white-space:pre;overflow-x:auto;line-height:normal;font-family:Menlo,'DejaVu Sans Mono',consolas,'Courier New',monospace\">param<span style=\"font-weight: bold\">[</span><span style=\"color: #008000; text-decoration-color: #008000\">'nsteps'</span><span style=\"font-weight: bold\">]</span>=<span style=\"color: #008080; text-decoration-color: #008080; font-weight: bold\">136</span> param<span style=\"font-weight: bold\">[</span><span style=\"color: #008000; text-decoration-color: #008000\">'aexp'</span><span style=\"font-weight: bold\">]</span>=<span style=\"color: #008080; text-decoration-color: #008080; font-weight: bold\">0.017115444524742476</span> z = <span style=\"color: #008080; text-decoration-color: #008080; font-weight: bold\">57.4267617796533</span>                                        \n",
       "</pre>\n"
      ],
      "text/plain": [
       "param\u001b[1m[\u001b[0m\u001b[32m'nsteps'\u001b[0m\u001b[1m]\u001b[0m=\u001b[1;36m136\u001b[0m param\u001b[1m[\u001b[0m\u001b[32m'aexp'\u001b[0m\u001b[1m]\u001b[0m=\u001b[1;36m0.017115444524742476\u001b[0m z = \u001b[1;36m57.4267617796533\u001b[0m                                        \n"
      ]
     },
     "metadata": {},
     "output_type": "display_data"
    },
    {
     "name": "stdout",
     "output_type": "stream",
     "text": [
      "Full solver.\n",
      "Smoothing RHS EFT\n",
      "Smoothing RHS EFT\n",
      "Smoothing RHS EFT\n",
      "Smoothing RHS EFT\n",
      "Smoothing RHS EFT\n",
      "Smoothing RHS EFT\n",
      "Smoothing RHS EFT\n",
      "Smoothing RHS EFT\n",
      "Smoothing RHS EFT\n",
      "Smoothing RHS EFT\n",
      "Smoothing RHS EFT\n",
      "Smoothing RHS EFT\n",
      "Smoothing RHS EFT\n",
      "Smoothing RHS EFT\n",
      "Smoothing RHS EFT\n",
      "Smoothing RHS EFT\n",
      "Smoothing RHS EFT\n",
      "Smoothing RHS EFT\n",
      "Smoothing RHS EFT\n",
      "Smoothing RHS EFT\n",
      "Smoothing RHS EFT\n",
      "Smoothing RHS EFT\n",
      "Smoothing RHS EFT\n",
      "Smoothing RHS EFT\n",
      "Smoothing RHS EFT\n",
      "Smoothing RHS EFT\n",
      "reserr-FAS: 516839.28125\n"
     ]
    },
    {
     "data": {
      "text/html": [
       "<pre style=\"white-space:pre;overflow-x:auto;line-height:normal;font-family:Menlo,'DejaVu Sans Mono',consolas,'Courier New',monospace\">param<span style=\"font-weight: bold\">[</span><span style=\"color: #008000; text-decoration-color: #008000\">'nsteps'</span><span style=\"font-weight: bold\">]</span>=<span style=\"color: #008080; text-decoration-color: #008080; font-weight: bold\">137</span> param<span style=\"font-weight: bold\">[</span><span style=\"color: #008000; text-decoration-color: #008000\">'aexp'</span><span style=\"font-weight: bold\">]</span>=<span style=\"color: #008080; text-decoration-color: #008080; font-weight: bold\">0.017117229992196486</span> z = <span style=\"color: #008080; text-decoration-color: #008080; font-weight: bold\">57.420667389284745</span>                                      \n",
       "</pre>\n"
      ],
      "text/plain": [
       "param\u001b[1m[\u001b[0m\u001b[32m'nsteps'\u001b[0m\u001b[1m]\u001b[0m=\u001b[1;36m137\u001b[0m param\u001b[1m[\u001b[0m\u001b[32m'aexp'\u001b[0m\u001b[1m]\u001b[0m=\u001b[1;36m0.017117229992196486\u001b[0m z = \u001b[1;36m57.420667389284745\u001b[0m                                      \n"
      ]
     },
     "metadata": {},
     "output_type": "display_data"
    },
    {
     "name": "stdout",
     "output_type": "stream",
     "text": [
      "Full solver.\n",
      "Smoothing RHS EFT\n",
      "Smoothing RHS EFT\n",
      "Smoothing RHS EFT\n",
      "Smoothing RHS EFT\n",
      "Smoothing RHS EFT\n",
      "Smoothing RHS EFT\n",
      "Smoothing RHS EFT\n",
      "Smoothing RHS EFT\n",
      "Smoothing RHS EFT\n",
      "Smoothing RHS EFT\n",
      "Smoothing RHS EFT\n",
      "Smoothing RHS EFT\n",
      "Smoothing RHS EFT\n",
      "Smoothing RHS EFT\n",
      "Smoothing RHS EFT\n",
      "Smoothing RHS EFT\n",
      "Smoothing RHS EFT\n",
      "Smoothing RHS EFT\n",
      "Smoothing RHS EFT\n",
      "Smoothing RHS EFT\n",
      "Smoothing RHS EFT\n",
      "Smoothing RHS EFT\n",
      "Smoothing RHS EFT\n",
      "Smoothing RHS EFT\n",
      "Smoothing RHS EFT\n",
      "Smoothing RHS EFT\n",
      "reserr-FAS: 520124.90625\n"
     ]
    },
    {
     "data": {
      "text/html": [
       "<pre style=\"white-space:pre;overflow-x:auto;line-height:normal;font-family:Menlo,'DejaVu Sans Mono',consolas,'Courier New',monospace\">param<span style=\"font-weight: bold\">[</span><span style=\"color: #008000; text-decoration-color: #008000\">'nsteps'</span><span style=\"font-weight: bold\">]</span>=<span style=\"color: #008080; text-decoration-color: #008080; font-weight: bold\">138</span> param<span style=\"font-weight: bold\">[</span><span style=\"color: #008000; text-decoration-color: #008000\">'aexp'</span><span style=\"font-weight: bold\">]</span>=<span style=\"color: #008080; text-decoration-color: #008080; font-weight: bold\">0.017119016999778285</span> z = <span style=\"color: #008080; text-decoration-color: #008080; font-weight: bold\">57.41456901485356</span>                                       \n",
       "</pre>\n"
      ],
      "text/plain": [
       "param\u001b[1m[\u001b[0m\u001b[32m'nsteps'\u001b[0m\u001b[1m]\u001b[0m=\u001b[1;36m138\u001b[0m param\u001b[1m[\u001b[0m\u001b[32m'aexp'\u001b[0m\u001b[1m]\u001b[0m=\u001b[1;36m0.017119016999778285\u001b[0m z = \u001b[1;36m57.41456901485356\u001b[0m                                       \n"
      ]
     },
     "metadata": {},
     "output_type": "display_data"
    },
    {
     "name": "stdout",
     "output_type": "stream",
     "text": [
      "Full solver.\n",
      "Smoothing RHS EFT\n",
      "Smoothing RHS EFT\n",
      "Smoothing RHS EFT\n",
      "Smoothing RHS EFT\n",
      "Smoothing RHS EFT\n",
      "Smoothing RHS EFT\n",
      "Smoothing RHS EFT\n",
      "Smoothing RHS EFT\n",
      "Smoothing RHS EFT\n",
      "Smoothing RHS EFT\n",
      "Smoothing RHS EFT\n",
      "Smoothing RHS EFT\n",
      "Smoothing RHS EFT\n",
      "Smoothing RHS EFT\n",
      "Smoothing RHS EFT\n",
      "Smoothing RHS EFT\n",
      "Smoothing RHS EFT\n",
      "Smoothing RHS EFT\n",
      "Smoothing RHS EFT\n",
      "Smoothing RHS EFT\n",
      "Smoothing RHS EFT\n",
      "Smoothing RHS EFT\n",
      "Smoothing RHS EFT\n",
      "Smoothing RHS EFT\n",
      "Smoothing RHS EFT\n",
      "Smoothing RHS EFT\n",
      "reserr-FAS: 523261.1875\n"
     ]
    },
    {
     "data": {
      "text/html": [
       "<pre style=\"white-space:pre;overflow-x:auto;line-height:normal;font-family:Menlo,'DejaVu Sans Mono',consolas,'Courier New',monospace\">param<span style=\"font-weight: bold\">[</span><span style=\"color: #008000; text-decoration-color: #008000\">'nsteps'</span><span style=\"font-weight: bold\">]</span>=<span style=\"color: #008080; text-decoration-color: #008080; font-weight: bold\">139</span> param<span style=\"font-weight: bold\">[</span><span style=\"color: #008000; text-decoration-color: #008000\">'aexp'</span><span style=\"font-weight: bold\">]</span>=<span style=\"color: #008080; text-decoration-color: #008080; font-weight: bold\">0.01712080836507221</span> z = <span style=\"color: #008080; text-decoration-color: #008080; font-weight: bold\">57.408457046927666</span>                                       \n",
       "</pre>\n"
      ],
      "text/plain": [
       "param\u001b[1m[\u001b[0m\u001b[32m'nsteps'\u001b[0m\u001b[1m]\u001b[0m=\u001b[1;36m139\u001b[0m param\u001b[1m[\u001b[0m\u001b[32m'aexp'\u001b[0m\u001b[1m]\u001b[0m=\u001b[1;36m0.01712080836507221\u001b[0m z = \u001b[1;36m57.408457046927666\u001b[0m                                       \n"
      ]
     },
     "metadata": {},
     "output_type": "display_data"
    },
    {
     "name": "stdout",
     "output_type": "stream",
     "text": [
      "Full solver.\n",
      "Smoothing RHS EFT\n",
      "Smoothing RHS EFT\n",
      "Smoothing RHS EFT\n",
      "Smoothing RHS EFT\n",
      "Smoothing RHS EFT\n",
      "Smoothing RHS EFT\n",
      "Smoothing RHS EFT\n",
      "Smoothing RHS EFT\n",
      "Smoothing RHS EFT\n",
      "Smoothing RHS EFT\n",
      "Smoothing RHS EFT\n",
      "Smoothing RHS EFT\n",
      "Smoothing RHS EFT\n",
      "Smoothing RHS EFT\n",
      "Smoothing RHS EFT\n",
      "Smoothing RHS EFT\n",
      "Smoothing RHS EFT\n",
      "Smoothing RHS EFT\n",
      "Smoothing RHS EFT\n",
      "Smoothing RHS EFT\n",
      "Smoothing RHS EFT\n",
      "Smoothing RHS EFT\n",
      "Smoothing RHS EFT\n",
      "Smoothing RHS EFT\n",
      "Smoothing RHS EFT\n",
      "Smoothing RHS EFT\n",
      "reserr-FAS: 526206.5\n"
     ]
    },
    {
     "data": {
      "text/html": [
       "<pre style=\"white-space:pre;overflow-x:auto;line-height:normal;font-family:Menlo,'DejaVu Sans Mono',consolas,'Courier New',monospace\">param<span style=\"font-weight: bold\">[</span><span style=\"color: #008000; text-decoration-color: #008000\">'nsteps'</span><span style=\"font-weight: bold\">]</span>=<span style=\"color: #008080; text-decoration-color: #008080; font-weight: bold\">140</span> param<span style=\"font-weight: bold\">[</span><span style=\"color: #008000; text-decoration-color: #008000\">'aexp'</span><span style=\"font-weight: bold\">]</span>=<span style=\"color: #008080; text-decoration-color: #008080; font-weight: bold\">0.017122590758152798</span> z = <span style=\"color: #008080; text-decoration-color: #008080; font-weight: bold\">57.40237696061604</span>                                       \n",
       "</pre>\n"
      ],
      "text/plain": [
       "param\u001b[1m[\u001b[0m\u001b[32m'nsteps'\u001b[0m\u001b[1m]\u001b[0m=\u001b[1;36m140\u001b[0m param\u001b[1m[\u001b[0m\u001b[32m'aexp'\u001b[0m\u001b[1m]\u001b[0m=\u001b[1;36m0.017122590758152798\u001b[0m z = \u001b[1;36m57.40237696061604\u001b[0m                                       \n"
      ]
     },
     "metadata": {},
     "output_type": "display_data"
    },
    {
     "name": "stdout",
     "output_type": "stream",
     "text": [
      "Full solver.\n",
      "Smoothing RHS EFT\n",
      "Smoothing RHS EFT\n",
      "Smoothing RHS EFT\n",
      "Smoothing RHS EFT\n",
      "Smoothing RHS EFT\n",
      "Smoothing RHS EFT\n",
      "Smoothing RHS EFT\n",
      "Smoothing RHS EFT\n",
      "Smoothing RHS EFT\n",
      "Smoothing RHS EFT\n",
      "Smoothing RHS EFT\n",
      "Smoothing RHS EFT\n",
      "Smoothing RHS EFT\n",
      "Smoothing RHS EFT\n",
      "Smoothing RHS EFT\n",
      "Smoothing RHS EFT\n",
      "Smoothing RHS EFT\n",
      "Smoothing RHS EFT\n",
      "Smoothing RHS EFT\n",
      "Smoothing RHS EFT\n",
      "Smoothing RHS EFT\n",
      "Smoothing RHS EFT\n",
      "Smoothing RHS EFT\n",
      "Smoothing RHS EFT\n",
      "Smoothing RHS EFT\n",
      "Smoothing RHS EFT\n",
      "reserr-FAS: 528932.8125\n"
     ]
    },
    {
     "data": {
      "text/html": [
       "<pre style=\"white-space:pre;overflow-x:auto;line-height:normal;font-family:Menlo,'DejaVu Sans Mono',consolas,'Courier New',monospace\">param<span style=\"font-weight: bold\">[</span><span style=\"color: #008000; text-decoration-color: #008000\">'nsteps'</span><span style=\"font-weight: bold\">]</span>=<span style=\"color: #008080; text-decoration-color: #008080; font-weight: bold\">141</span> param<span style=\"font-weight: bold\">[</span><span style=\"color: #008000; text-decoration-color: #008000\">'aexp'</span><span style=\"font-weight: bold\">]</span>=<span style=\"color: #008080; text-decoration-color: #008080; font-weight: bold\">0.017124357129278536</span> z = <span style=\"color: #008080; text-decoration-color: #008080; font-weight: bold\">57.396352776960036</span>                                      \n",
       "</pre>\n"
      ],
      "text/plain": [
       "param\u001b[1m[\u001b[0m\u001b[32m'nsteps'\u001b[0m\u001b[1m]\u001b[0m=\u001b[1;36m141\u001b[0m param\u001b[1m[\u001b[0m\u001b[32m'aexp'\u001b[0m\u001b[1m]\u001b[0m=\u001b[1;36m0.017124357129278536\u001b[0m z = \u001b[1;36m57.396352776960036\u001b[0m                                      \n"
      ]
     },
     "metadata": {},
     "output_type": "display_data"
    },
    {
     "name": "stdout",
     "output_type": "stream",
     "text": [
      "Full solver.\n",
      "Smoothing RHS EFT\n",
      "Smoothing RHS EFT\n",
      "Smoothing RHS EFT\n",
      "Smoothing RHS EFT\n",
      "Smoothing RHS EFT\n",
      "Smoothing RHS EFT\n",
      "Smoothing RHS EFT\n",
      "Smoothing RHS EFT\n",
      "Smoothing RHS EFT\n",
      "Smoothing RHS EFT\n",
      "Smoothing RHS EFT\n",
      "Smoothing RHS EFT\n",
      "Smoothing RHS EFT\n",
      "Smoothing RHS EFT\n",
      "Smoothing RHS EFT\n",
      "Smoothing RHS EFT\n",
      "Smoothing RHS EFT\n",
      "Smoothing RHS EFT\n",
      "Smoothing RHS EFT\n",
      "Smoothing RHS EFT\n",
      "Smoothing RHS EFT\n",
      "Smoothing RHS EFT\n",
      "Smoothing RHS EFT\n",
      "Smoothing RHS EFT\n",
      "Smoothing RHS EFT\n",
      "Smoothing RHS EFT\n",
      "reserr-FAS: 531433.25\n"
     ]
    },
    {
     "data": {
      "text/html": [
       "<pre style=\"white-space:pre;overflow-x:auto;line-height:normal;font-family:Menlo,'DejaVu Sans Mono',consolas,'Courier New',monospace\">param<span style=\"font-weight: bold\">[</span><span style=\"color: #008000; text-decoration-color: #008000\">'nsteps'</span><span style=\"font-weight: bold\">]</span>=<span style=\"color: #008080; text-decoration-color: #008080; font-weight: bold\">142</span> param<span style=\"font-weight: bold\">[</span><span style=\"color: #008000; text-decoration-color: #008000\">'aexp'</span><span style=\"font-weight: bold\">]</span>=<span style=\"color: #008080; text-decoration-color: #008080; font-weight: bold\">0.01712611096225528</span> z = <span style=\"color: #008080; text-decoration-color: #008080; font-weight: bold\">57.39037258394088</span>                                        \n",
       "</pre>\n"
      ],
      "text/plain": [
       "param\u001b[1m[\u001b[0m\u001b[32m'nsteps'\u001b[0m\u001b[1m]\u001b[0m=\u001b[1;36m142\u001b[0m param\u001b[1m[\u001b[0m\u001b[32m'aexp'\u001b[0m\u001b[1m]\u001b[0m=\u001b[1;36m0.01712611096225528\u001b[0m z = \u001b[1;36m57.39037258394088\u001b[0m                                        \n"
      ]
     },
     "metadata": {},
     "output_type": "display_data"
    },
    {
     "name": "stdout",
     "output_type": "stream",
     "text": [
      "Full solver.\n",
      "Smoothing RHS EFT\n",
      "Smoothing RHS EFT\n",
      "Smoothing RHS EFT\n",
      "Smoothing RHS EFT\n",
      "Smoothing RHS EFT\n",
      "Smoothing RHS EFT\n",
      "Smoothing RHS EFT\n",
      "Smoothing RHS EFT\n",
      "Smoothing RHS EFT\n",
      "Smoothing RHS EFT\n",
      "Smoothing RHS EFT\n",
      "Smoothing RHS EFT\n",
      "Smoothing RHS EFT\n",
      "Smoothing RHS EFT\n",
      "Smoothing RHS EFT\n",
      "Smoothing RHS EFT\n",
      "Smoothing RHS EFT\n",
      "Smoothing RHS EFT\n",
      "Smoothing RHS EFT\n",
      "Smoothing RHS EFT\n",
      "Smoothing RHS EFT\n",
      "Smoothing RHS EFT\n",
      "Smoothing RHS EFT\n",
      "Smoothing RHS EFT\n",
      "Smoothing RHS EFT\n",
      "Smoothing RHS EFT\n",
      "reserr-FAS: 533722.625\n"
     ]
    },
    {
     "data": {
      "text/html": [
       "<pre style=\"white-space:pre;overflow-x:auto;line-height:normal;font-family:Menlo,'DejaVu Sans Mono',consolas,'Courier New',monospace\">param<span style=\"font-weight: bold\">[</span><span style=\"color: #008000; text-decoration-color: #008000\">'nsteps'</span><span style=\"font-weight: bold\">]</span>=<span style=\"color: #008080; text-decoration-color: #008080; font-weight: bold\">143</span> param<span style=\"font-weight: bold\">[</span><span style=\"color: #008000; text-decoration-color: #008000\">'aexp'</span><span style=\"font-weight: bold\">]</span>=<span style=\"color: #008080; text-decoration-color: #008080; font-weight: bold\">0.01712785561534241</span> z = <span style=\"color: #008080; text-decoration-color: #008080; font-weight: bold\">57.384424907473075</span>                                       \n",
       "</pre>\n"
      ],
      "text/plain": [
       "param\u001b[1m[\u001b[0m\u001b[32m'nsteps'\u001b[0m\u001b[1m]\u001b[0m=\u001b[1;36m143\u001b[0m param\u001b[1m[\u001b[0m\u001b[32m'aexp'\u001b[0m\u001b[1m]\u001b[0m=\u001b[1;36m0.01712785561534241\u001b[0m z = \u001b[1;36m57.384424907473075\u001b[0m                                       \n"
      ]
     },
     "metadata": {},
     "output_type": "display_data"
    },
    {
     "name": "stdout",
     "output_type": "stream",
     "text": [
      "Full solver.\n",
      "Smoothing RHS EFT\n",
      "Smoothing RHS EFT\n",
      "Smoothing RHS EFT\n",
      "Smoothing RHS EFT\n",
      "Smoothing RHS EFT\n",
      "Smoothing RHS EFT\n",
      "Smoothing RHS EFT\n",
      "Smoothing RHS EFT\n",
      "Smoothing RHS EFT\n",
      "Smoothing RHS EFT\n",
      "Smoothing RHS EFT\n",
      "Smoothing RHS EFT\n",
      "Smoothing RHS EFT\n",
      "Smoothing RHS EFT\n",
      "Smoothing RHS EFT\n",
      "Smoothing RHS EFT\n",
      "Smoothing RHS EFT\n",
      "Smoothing RHS EFT\n",
      "Smoothing RHS EFT\n",
      "Smoothing RHS EFT\n",
      "Smoothing RHS EFT\n",
      "Smoothing RHS EFT\n",
      "Smoothing RHS EFT\n",
      "Smoothing RHS EFT\n",
      "Smoothing RHS EFT\n",
      "Smoothing RHS EFT\n",
      "reserr-FAS: 535747.4375\n"
     ]
    },
    {
     "data": {
      "text/html": [
       "<pre style=\"white-space:pre;overflow-x:auto;line-height:normal;font-family:Menlo,'DejaVu Sans Mono',consolas,'Courier New',monospace\">param<span style=\"font-weight: bold\">[</span><span style=\"color: #008000; text-decoration-color: #008000\">'nsteps'</span><span style=\"font-weight: bold\">]</span>=<span style=\"color: #008080; text-decoration-color: #008080; font-weight: bold\">144</span> param<span style=\"font-weight: bold\">[</span><span style=\"color: #008000; text-decoration-color: #008000\">'aexp'</span><span style=\"font-weight: bold\">]</span>=<span style=\"color: #008080; text-decoration-color: #008080; font-weight: bold\">0.017129594343965954</span> z = <span style=\"color: #008080; text-decoration-color: #008080; font-weight: bold\">57.37849863340509</span>                                       \n",
       "</pre>\n"
      ],
      "text/plain": [
       "param\u001b[1m[\u001b[0m\u001b[32m'nsteps'\u001b[0m\u001b[1m]\u001b[0m=\u001b[1;36m144\u001b[0m param\u001b[1m[\u001b[0m\u001b[32m'aexp'\u001b[0m\u001b[1m]\u001b[0m=\u001b[1;36m0.017129594343965954\u001b[0m z = \u001b[1;36m57.37849863340509\u001b[0m                                       \n"
      ]
     },
     "metadata": {},
     "output_type": "display_data"
    },
    {
     "name": "stdout",
     "output_type": "stream",
     "text": [
      "Full solver.\n",
      "Smoothing RHS EFT\n",
      "Smoothing RHS EFT\n",
      "Smoothing RHS EFT\n",
      "Smoothing RHS EFT\n",
      "Smoothing RHS EFT\n",
      "Smoothing RHS EFT\n",
      "Smoothing RHS EFT\n",
      "Smoothing RHS EFT\n",
      "Smoothing RHS EFT\n",
      "Smoothing RHS EFT\n",
      "Smoothing RHS EFT\n",
      "Smoothing RHS EFT\n",
      "Smoothing RHS EFT\n",
      "Smoothing RHS EFT\n",
      "Smoothing RHS EFT\n",
      "Smoothing RHS EFT\n",
      "Smoothing RHS EFT\n",
      "Smoothing RHS EFT\n",
      "Smoothing RHS EFT\n",
      "Smoothing RHS EFT\n",
      "Smoothing RHS EFT\n",
      "Smoothing RHS EFT\n",
      "Smoothing RHS EFT\n",
      "Smoothing RHS EFT\n",
      "Smoothing RHS EFT\n",
      "Smoothing RHS EFT\n",
      "reserr-FAS: 537516.4375\n"
     ]
    },
    {
     "data": {
      "text/html": [
       "<pre style=\"white-space:pre;overflow-x:auto;line-height:normal;font-family:Menlo,'DejaVu Sans Mono',consolas,'Courier New',monospace\">param<span style=\"font-weight: bold\">[</span><span style=\"color: #008000; text-decoration-color: #008000\">'nsteps'</span><span style=\"font-weight: bold\">]</span>=<span style=\"color: #008080; text-decoration-color: #008080; font-weight: bold\">145</span> param<span style=\"font-weight: bold\">[</span><span style=\"color: #008000; text-decoration-color: #008000\">'aexp'</span><span style=\"font-weight: bold\">]</span>=<span style=\"color: #008080; text-decoration-color: #008080; font-weight: bold\">0.017131324380535603</span> z = <span style=\"color: #008080; text-decoration-color: #008080; font-weight: bold\">57.37260317924909</span>                                       \n",
       "</pre>\n"
      ],
      "text/plain": [
       "param\u001b[1m[\u001b[0m\u001b[32m'nsteps'\u001b[0m\u001b[1m]\u001b[0m=\u001b[1;36m145\u001b[0m param\u001b[1m[\u001b[0m\u001b[32m'aexp'\u001b[0m\u001b[1m]\u001b[0m=\u001b[1;36m0.017131324380535603\u001b[0m z = \u001b[1;36m57.37260317924909\u001b[0m                                       \n"
      ]
     },
     "metadata": {},
     "output_type": "display_data"
    },
    {
     "name": "stdout",
     "output_type": "stream",
     "text": [
      "Full solver.\n",
      "Smoothing RHS EFT\n",
      "Smoothing RHS EFT\n",
      "Smoothing RHS EFT\n",
      "Smoothing RHS EFT\n",
      "Smoothing RHS EFT\n",
      "Smoothing RHS EFT\n",
      "Smoothing RHS EFT\n",
      "Smoothing RHS EFT\n",
      "Smoothing RHS EFT\n",
      "Smoothing RHS EFT\n",
      "Smoothing RHS EFT\n",
      "Smoothing RHS EFT\n",
      "Smoothing RHS EFT\n",
      "Smoothing RHS EFT\n",
      "Smoothing RHS EFT\n",
      "Smoothing RHS EFT\n",
      "Smoothing RHS EFT\n",
      "Smoothing RHS EFT\n",
      "Smoothing RHS EFT\n",
      "Smoothing RHS EFT\n",
      "Smoothing RHS EFT\n",
      "Smoothing RHS EFT\n",
      "Smoothing RHS EFT\n",
      "Smoothing RHS EFT\n",
      "Smoothing RHS EFT\n",
      "Smoothing RHS EFT\n",
      "reserr-FAS: 539014.875\n"
     ]
    },
    {
     "data": {
      "text/html": [
       "<pre style=\"white-space:pre;overflow-x:auto;line-height:normal;font-family:Menlo,'DejaVu Sans Mono',consolas,'Courier New',monospace\">param<span style=\"font-weight: bold\">[</span><span style=\"color: #008000; text-decoration-color: #008000\">'nsteps'</span><span style=\"font-weight: bold\">]</span>=<span style=\"color: #008080; text-decoration-color: #008080; font-weight: bold\">146</span> param<span style=\"font-weight: bold\">[</span><span style=\"color: #008000; text-decoration-color: #008000\">'aexp'</span><span style=\"font-weight: bold\">]</span>=<span style=\"color: #008080; text-decoration-color: #008080; font-weight: bold\">0.017133037699083715</span> z = <span style=\"color: #008080; text-decoration-color: #008080; font-weight: bold\">57.36676586858153</span>                                       \n",
       "</pre>\n"
      ],
      "text/plain": [
       "param\u001b[1m[\u001b[0m\u001b[32m'nsteps'\u001b[0m\u001b[1m]\u001b[0m=\u001b[1;36m146\u001b[0m param\u001b[1m[\u001b[0m\u001b[32m'aexp'\u001b[0m\u001b[1m]\u001b[0m=\u001b[1;36m0.017133037699083715\u001b[0m z = \u001b[1;36m57.36676586858153\u001b[0m                                       \n"
      ]
     },
     "metadata": {},
     "output_type": "display_data"
    },
    {
     "name": "stdout",
     "output_type": "stream",
     "text": [
      "Full solver.\n",
      "Smoothing RHS EFT\n",
      "Smoothing RHS EFT\n",
      "Smoothing RHS EFT\n",
      "Smoothing RHS EFT\n",
      "Smoothing RHS EFT\n",
      "Smoothing RHS EFT\n",
      "Smoothing RHS EFT\n",
      "Smoothing RHS EFT\n",
      "Smoothing RHS EFT\n",
      "Smoothing RHS EFT\n",
      "Smoothing RHS EFT\n",
      "Smoothing RHS EFT\n",
      "Smoothing RHS EFT\n",
      "Smoothing RHS EFT\n",
      "Smoothing RHS EFT\n",
      "Smoothing RHS EFT\n",
      "Smoothing RHS EFT\n",
      "Smoothing RHS EFT\n",
      "Smoothing RHS EFT\n",
      "Smoothing RHS EFT\n",
      "Smoothing RHS EFT\n",
      "Smoothing RHS EFT\n",
      "Smoothing RHS EFT\n",
      "Smoothing RHS EFT\n",
      "Smoothing RHS EFT\n",
      "Smoothing RHS EFT\n",
      "reserr-FAS: 540242.0625\n"
     ]
    },
    {
     "data": {
      "text/html": [
       "<pre style=\"white-space:pre;overflow-x:auto;line-height:normal;font-family:Menlo,'DejaVu Sans Mono',consolas,'Courier New',monospace\">param<span style=\"font-weight: bold\">[</span><span style=\"color: #008000; text-decoration-color: #008000\">'nsteps'</span><span style=\"font-weight: bold\">]</span>=<span style=\"color: #008080; text-decoration-color: #008080; font-weight: bold\">147</span> param<span style=\"font-weight: bold\">[</span><span style=\"color: #008000; text-decoration-color: #008000\">'aexp'</span><span style=\"font-weight: bold\">]</span>=<span style=\"color: #008080; text-decoration-color: #008080; font-weight: bold\">0.01713473710031827</span> z = <span style=\"color: #008080; text-decoration-color: #008080; font-weight: bold\">57.36097712765172</span>                                        \n",
       "</pre>\n"
      ],
      "text/plain": [
       "param\u001b[1m[\u001b[0m\u001b[32m'nsteps'\u001b[0m\u001b[1m]\u001b[0m=\u001b[1;36m147\u001b[0m param\u001b[1m[\u001b[0m\u001b[32m'aexp'\u001b[0m\u001b[1m]\u001b[0m=\u001b[1;36m0.01713473710031827\u001b[0m z = \u001b[1;36m57.36097712765172\u001b[0m                                        \n"
      ]
     },
     "metadata": {},
     "output_type": "display_data"
    },
    {
     "name": "stdout",
     "output_type": "stream",
     "text": [
      "Full solver.\n",
      "Smoothing RHS EFT\n",
      "Smoothing RHS EFT\n",
      "Smoothing RHS EFT\n",
      "Smoothing RHS EFT\n",
      "Smoothing RHS EFT\n",
      "Smoothing RHS EFT\n",
      "Smoothing RHS EFT\n",
      "Smoothing RHS EFT\n",
      "Smoothing RHS EFT\n",
      "Smoothing RHS EFT\n",
      "Smoothing RHS EFT\n",
      "Smoothing RHS EFT\n",
      "Smoothing RHS EFT\n",
      "Smoothing RHS EFT\n",
      "Smoothing RHS EFT\n",
      "Smoothing RHS EFT\n",
      "Smoothing RHS EFT\n",
      "Smoothing RHS EFT\n",
      "Smoothing RHS EFT\n",
      "Smoothing RHS EFT\n",
      "Smoothing RHS EFT\n",
      "Smoothing RHS EFT\n",
      "Smoothing RHS EFT\n",
      "Smoothing RHS EFT\n",
      "Smoothing RHS EFT\n",
      "Smoothing RHS EFT\n",
      "reserr-FAS: 541198.0625\n"
     ]
    },
    {
     "data": {
      "text/html": [
       "<pre style=\"white-space:pre;overflow-x:auto;line-height:normal;font-family:Menlo,'DejaVu Sans Mono',consolas,'Courier New',monospace\">param<span style=\"font-weight: bold\">[</span><span style=\"color: #008000; text-decoration-color: #008000\">'nsteps'</span><span style=\"font-weight: bold\">]</span>=<span style=\"color: #008080; text-decoration-color: #008080; font-weight: bold\">148</span> param<span style=\"font-weight: bold\">[</span><span style=\"color: #008000; text-decoration-color: #008000\">'aexp'</span><span style=\"font-weight: bold\">]</span>=<span style=\"color: #008080; text-decoration-color: #008080; font-weight: bold\">0.017136425244923335</span> z = <span style=\"color: #008080; text-decoration-color: #008080; font-weight: bold\">57.35522786739025</span>                                       \n",
       "</pre>\n"
      ],
      "text/plain": [
       "param\u001b[1m[\u001b[0m\u001b[32m'nsteps'\u001b[0m\u001b[1m]\u001b[0m=\u001b[1;36m148\u001b[0m param\u001b[1m[\u001b[0m\u001b[32m'aexp'\u001b[0m\u001b[1m]\u001b[0m=\u001b[1;36m0.017136425244923335\u001b[0m z = \u001b[1;36m57.35522786739025\u001b[0m                                       \n"
      ]
     },
     "metadata": {},
     "output_type": "display_data"
    },
    {
     "name": "stdout",
     "output_type": "stream",
     "text": [
      "Full solver.\n",
      "Smoothing RHS EFT\n",
      "Smoothing RHS EFT\n",
      "Smoothing RHS EFT\n",
      "Smoothing RHS EFT\n",
      "Smoothing RHS EFT\n",
      "Smoothing RHS EFT\n",
      "Smoothing RHS EFT\n",
      "Smoothing RHS EFT\n",
      "Smoothing RHS EFT\n",
      "Smoothing RHS EFT\n",
      "Smoothing RHS EFT\n",
      "Smoothing RHS EFT\n",
      "Smoothing RHS EFT\n",
      "Smoothing RHS EFT\n",
      "Smoothing RHS EFT\n",
      "Smoothing RHS EFT\n",
      "Smoothing RHS EFT\n",
      "Smoothing RHS EFT\n",
      "Smoothing RHS EFT\n",
      "Smoothing RHS EFT\n",
      "Smoothing RHS EFT\n",
      "Smoothing RHS EFT\n",
      "Smoothing RHS EFT\n",
      "Smoothing RHS EFT\n",
      "Smoothing RHS EFT\n",
      "Smoothing RHS EFT\n",
      "reserr-FAS: 541858.375\n"
     ]
    },
    {
     "data": {
      "text/html": [
       "<pre style=\"white-space:pre;overflow-x:auto;line-height:normal;font-family:Menlo,'DejaVu Sans Mono',consolas,'Courier New',monospace\">param<span style=\"font-weight: bold\">[</span><span style=\"color: #008000; text-decoration-color: #008000\">'nsteps'</span><span style=\"font-weight: bold\">]</span>=<span style=\"color: #008080; text-decoration-color: #008080; font-weight: bold\">149</span> param<span style=\"font-weight: bold\">[</span><span style=\"color: #008000; text-decoration-color: #008000\">'aexp'</span><span style=\"font-weight: bold\">]</span>=<span style=\"color: #008080; text-decoration-color: #008080; font-weight: bold\">0.017138104686658752</span> z = <span style=\"color: #008080; text-decoration-color: #008080; font-weight: bold\">57.34950937010294</span>                                       \n",
       "</pre>\n"
      ],
      "text/plain": [
       "param\u001b[1m[\u001b[0m\u001b[32m'nsteps'\u001b[0m\u001b[1m]\u001b[0m=\u001b[1;36m149\u001b[0m param\u001b[1m[\u001b[0m\u001b[32m'aexp'\u001b[0m\u001b[1m]\u001b[0m=\u001b[1;36m0.017138104686658752\u001b[0m z = \u001b[1;36m57.34950937010294\u001b[0m                                       \n"
      ]
     },
     "metadata": {},
     "output_type": "display_data"
    },
    {
     "name": "stdout",
     "output_type": "stream",
     "text": [
      "Full solver.\n",
      "Smoothing RHS EFT\n",
      "Smoothing RHS EFT\n",
      "Smoothing RHS EFT\n",
      "Smoothing RHS EFT\n",
      "Smoothing RHS EFT\n",
      "Smoothing RHS EFT\n",
      "Smoothing RHS EFT\n",
      "Smoothing RHS EFT\n",
      "Smoothing RHS EFT\n",
      "Smoothing RHS EFT\n",
      "Smoothing RHS EFT\n",
      "Smoothing RHS EFT\n",
      "Smoothing RHS EFT\n",
      "Smoothing RHS EFT\n",
      "Smoothing RHS EFT\n",
      "Smoothing RHS EFT\n",
      "Smoothing RHS EFT\n",
      "Smoothing RHS EFT\n",
      "Smoothing RHS EFT\n",
      "Smoothing RHS EFT\n",
      "Smoothing RHS EFT\n",
      "Smoothing RHS EFT\n",
      "Smoothing RHS EFT\n",
      "Smoothing RHS EFT\n",
      "Smoothing RHS EFT\n",
      "Smoothing RHS EFT\n",
      "reserr-FAS: 542267.75\n"
     ]
    },
    {
     "data": {
      "text/html": [
       "<pre style=\"white-space:pre;overflow-x:auto;line-height:normal;font-family:Menlo,'DejaVu Sans Mono',consolas,'Courier New',monospace\">param<span style=\"font-weight: bold\">[</span><span style=\"color: #008000; text-decoration-color: #008000\">'nsteps'</span><span style=\"font-weight: bold\">]</span>=<span style=\"color: #008080; text-decoration-color: #008080; font-weight: bold\">150</span> param<span style=\"font-weight: bold\">[</span><span style=\"color: #008000; text-decoration-color: #008000\">'aexp'</span><span style=\"font-weight: bold\">]</span>=<span style=\"color: #008080; text-decoration-color: #008080; font-weight: bold\">0.01713977792324036</span> z = <span style=\"color: #008080; text-decoration-color: #008080; font-weight: bold\">57.343813115808736</span>                                       \n",
       "</pre>\n"
      ],
      "text/plain": [
       "param\u001b[1m[\u001b[0m\u001b[32m'nsteps'\u001b[0m\u001b[1m]\u001b[0m=\u001b[1;36m150\u001b[0m param\u001b[1m[\u001b[0m\u001b[32m'aexp'\u001b[0m\u001b[1m]\u001b[0m=\u001b[1;36m0.01713977792324036\u001b[0m z = \u001b[1;36m57.343813115808736\u001b[0m                                       \n"
      ]
     },
     "metadata": {},
     "output_type": "display_data"
    },
    {
     "name": "stdout",
     "output_type": "stream",
     "text": [
      "Full solver.\n",
      "Smoothing RHS EFT\n",
      "Smoothing RHS EFT\n",
      "Smoothing RHS EFT\n",
      "Smoothing RHS EFT\n",
      "Smoothing RHS EFT\n",
      "Smoothing RHS EFT\n",
      "Smoothing RHS EFT\n",
      "Smoothing RHS EFT\n",
      "Smoothing RHS EFT\n",
      "Smoothing RHS EFT\n",
      "Smoothing RHS EFT\n",
      "Smoothing RHS EFT\n",
      "Smoothing RHS EFT\n",
      "Smoothing RHS EFT\n",
      "Smoothing RHS EFT\n",
      "Smoothing RHS EFT\n",
      "Smoothing RHS EFT\n",
      "Smoothing RHS EFT\n",
      "Smoothing RHS EFT\n",
      "Smoothing RHS EFT\n",
      "Smoothing RHS EFT\n",
      "Smoothing RHS EFT\n",
      "Smoothing RHS EFT\n",
      "Smoothing RHS EFT\n",
      "Smoothing RHS EFT\n",
      "Smoothing RHS EFT\n",
      "reserr-FAS: 542421.8125\n"
     ]
    },
    {
     "data": {
      "text/html": [
       "<pre style=\"white-space:pre;overflow-x:auto;line-height:normal;font-family:Menlo,'DejaVu Sans Mono',consolas,'Courier New',monospace\">param<span style=\"font-weight: bold\">[</span><span style=\"color: #008000; text-decoration-color: #008000\">'nsteps'</span><span style=\"font-weight: bold\">]</span>=<span style=\"color: #008080; text-decoration-color: #008080; font-weight: bold\">151</span> param<span style=\"font-weight: bold\">[</span><span style=\"color: #008000; text-decoration-color: #008000\">'aexp'</span><span style=\"font-weight: bold\">]</span>=<span style=\"color: #008080; text-decoration-color: #008080; font-weight: bold\">0.017141447424548057</span> z = <span style=\"color: #008080; text-decoration-color: #008080; font-weight: bold\">57.33813068597184</span>                                       \n",
       "</pre>\n"
      ],
      "text/plain": [
       "param\u001b[1m[\u001b[0m\u001b[32m'nsteps'\u001b[0m\u001b[1m]\u001b[0m=\u001b[1;36m151\u001b[0m param\u001b[1m[\u001b[0m\u001b[32m'aexp'\u001b[0m\u001b[1m]\u001b[0m=\u001b[1;36m0.017141447424548057\u001b[0m z = \u001b[1;36m57.33813068597184\u001b[0m                                       \n"
      ]
     },
     "metadata": {},
     "output_type": "display_data"
    },
    {
     "name": "stdout",
     "output_type": "stream",
     "text": [
      "Full solver.\n",
      "Smoothing RHS EFT\n",
      "Smoothing RHS EFT\n",
      "Smoothing RHS EFT\n",
      "Smoothing RHS EFT\n",
      "Smoothing RHS EFT\n",
      "Smoothing RHS EFT\n",
      "Smoothing RHS EFT\n",
      "Smoothing RHS EFT\n",
      "Smoothing RHS EFT\n",
      "Smoothing RHS EFT\n",
      "Smoothing RHS EFT\n",
      "Smoothing RHS EFT\n",
      "Smoothing RHS EFT\n",
      "Smoothing RHS EFT\n",
      "Smoothing RHS EFT\n",
      "Smoothing RHS EFT\n",
      "Smoothing RHS EFT\n",
      "Smoothing RHS EFT\n",
      "Smoothing RHS EFT\n",
      "Smoothing RHS EFT\n",
      "Smoothing RHS EFT\n",
      "Smoothing RHS EFT\n",
      "Smoothing RHS EFT\n",
      "Smoothing RHS EFT\n",
      "Smoothing RHS EFT\n",
      "Smoothing RHS EFT\n",
      "reserr-FAS: 542273.8125\n"
     ]
    },
    {
     "data": {
      "text/html": [
       "<pre style=\"white-space:pre;overflow-x:auto;line-height:normal;font-family:Menlo,'DejaVu Sans Mono',consolas,'Courier New',monospace\">param<span style=\"font-weight: bold\">[</span><span style=\"color: #008000; text-decoration-color: #008000\">'nsteps'</span><span style=\"font-weight: bold\">]</span>=<span style=\"color: #008080; text-decoration-color: #008080; font-weight: bold\">152</span> param<span style=\"font-weight: bold\">[</span><span style=\"color: #008000; text-decoration-color: #008000\">'aexp'</span><span style=\"font-weight: bold\">]</span>=<span style=\"color: #008080; text-decoration-color: #008080; font-weight: bold\">0.017143115625737743</span> z = <span style=\"color: #008080; text-decoration-color: #008080; font-weight: bold\">57.33245378679324</span>                                       \n",
       "</pre>\n"
      ],
      "text/plain": [
       "param\u001b[1m[\u001b[0m\u001b[32m'nsteps'\u001b[0m\u001b[1m]\u001b[0m=\u001b[1;36m152\u001b[0m param\u001b[1m[\u001b[0m\u001b[32m'aexp'\u001b[0m\u001b[1m]\u001b[0m=\u001b[1;36m0.017143115625737743\u001b[0m z = \u001b[1;36m57.33245378679324\u001b[0m                                       \n"
      ]
     },
     "metadata": {},
     "output_type": "display_data"
    },
    {
     "name": "stdout",
     "output_type": "stream",
     "text": [
      "Full solver.\n",
      "Smoothing RHS EFT\n",
      "Smoothing RHS EFT\n",
      "Smoothing RHS EFT\n",
      "Smoothing RHS EFT\n",
      "Smoothing RHS EFT\n",
      "Smoothing RHS EFT\n",
      "Smoothing RHS EFT\n",
      "Smoothing RHS EFT\n",
      "Smoothing RHS EFT\n",
      "Smoothing RHS EFT\n",
      "Smoothing RHS EFT\n",
      "Smoothing RHS EFT\n",
      "Smoothing RHS EFT\n",
      "Smoothing RHS EFT\n",
      "Smoothing RHS EFT\n",
      "Smoothing RHS EFT\n",
      "Smoothing RHS EFT\n",
      "Smoothing RHS EFT\n",
      "Smoothing RHS EFT\n",
      "Smoothing RHS EFT\n",
      "Smoothing RHS EFT\n",
      "Smoothing RHS EFT\n",
      "Smoothing RHS EFT\n",
      "Smoothing RHS EFT\n",
      "Smoothing RHS EFT\n",
      "Smoothing RHS EFT\n",
      "reserr-FAS: 541846.9375\n"
     ]
    },
    {
     "data": {
      "text/html": [
       "<pre style=\"white-space:pre;overflow-x:auto;line-height:normal;font-family:Menlo,'DejaVu Sans Mono',consolas,'Courier New',monospace\">param<span style=\"font-weight: bold\">[</span><span style=\"color: #008000; text-decoration-color: #008000\">'nsteps'</span><span style=\"font-weight: bold\">]</span>=<span style=\"color: #008080; text-decoration-color: #008080; font-weight: bold\">153</span> param<span style=\"font-weight: bold\">[</span><span style=\"color: #008000; text-decoration-color: #008000\">'aexp'</span><span style=\"font-weight: bold\">]</span>=<span style=\"color: #008080; text-decoration-color: #008080; font-weight: bold\">0.017144784924996444</span> z = <span style=\"color: #008080; text-decoration-color: #008080; font-weight: bold\">57.32677425670345</span>                                       \n",
       "</pre>\n"
      ],
      "text/plain": [
       "param\u001b[1m[\u001b[0m\u001b[32m'nsteps'\u001b[0m\u001b[1m]\u001b[0m=\u001b[1;36m153\u001b[0m param\u001b[1m[\u001b[0m\u001b[32m'aexp'\u001b[0m\u001b[1m]\u001b[0m=\u001b[1;36m0.017144784924996444\u001b[0m z = \u001b[1;36m57.32677425670345\u001b[0m                                       \n"
      ]
     },
     "metadata": {},
     "output_type": "display_data"
    },
    {
     "name": "stdout",
     "output_type": "stream",
     "text": [
      "Full solver.\n",
      "Smoothing RHS EFT\n",
      "Smoothing RHS EFT\n",
      "Smoothing RHS EFT\n",
      "Smoothing RHS EFT\n",
      "Smoothing RHS EFT\n",
      "Smoothing RHS EFT\n",
      "Smoothing RHS EFT\n",
      "Smoothing RHS EFT\n",
      "Smoothing RHS EFT\n",
      "Smoothing RHS EFT\n",
      "Smoothing RHS EFT\n",
      "Smoothing RHS EFT\n",
      "Smoothing RHS EFT\n",
      "Smoothing RHS EFT\n",
      "Smoothing RHS EFT\n",
      "Smoothing RHS EFT\n",
      "Smoothing RHS EFT\n",
      "Smoothing RHS EFT\n",
      "Smoothing RHS EFT\n",
      "Smoothing RHS EFT\n",
      "Smoothing RHS EFT\n",
      "Smoothing RHS EFT\n",
      "Smoothing RHS EFT\n",
      "Smoothing RHS EFT\n",
      "Smoothing RHS EFT\n",
      "Smoothing RHS EFT\n",
      "reserr-FAS: 541145.625\n"
     ]
    },
    {
     "data": {
      "text/html": [
       "<pre style=\"white-space:pre;overflow-x:auto;line-height:normal;font-family:Menlo,'DejaVu Sans Mono',consolas,'Courier New',monospace\">param<span style=\"font-weight: bold\">[</span><span style=\"color: #008000; text-decoration-color: #008000\">'nsteps'</span><span style=\"font-weight: bold\">]</span>=<span style=\"color: #008080; text-decoration-color: #008080; font-weight: bold\">154</span> param<span style=\"font-weight: bold\">[</span><span style=\"color: #008000; text-decoration-color: #008000\">'aexp'</span><span style=\"font-weight: bold\">]</span>=<span style=\"color: #008080; text-decoration-color: #008080; font-weight: bold\">0.017146457684611514</span> z = <span style=\"color: #008080; text-decoration-color: #008080; font-weight: bold\">57.321084062597556</span>                                      \n",
       "</pre>\n"
      ],
      "text/plain": [
       "param\u001b[1m[\u001b[0m\u001b[32m'nsteps'\u001b[0m\u001b[1m]\u001b[0m=\u001b[1;36m154\u001b[0m param\u001b[1m[\u001b[0m\u001b[32m'aexp'\u001b[0m\u001b[1m]\u001b[0m=\u001b[1;36m0.017146457684611514\u001b[0m z = \u001b[1;36m57.321084062597556\u001b[0m                                      \n"
      ]
     },
     "metadata": {},
     "output_type": "display_data"
    },
    {
     "name": "stdout",
     "output_type": "stream",
     "text": [
      "Full solver.\n",
      "Smoothing RHS EFT\n",
      "Smoothing RHS EFT\n",
      "Smoothing RHS EFT\n",
      "Smoothing RHS EFT\n",
      "Smoothing RHS EFT\n",
      "Smoothing RHS EFT\n",
      "Smoothing RHS EFT\n",
      "Smoothing RHS EFT\n",
      "Smoothing RHS EFT\n",
      "Smoothing RHS EFT\n",
      "Smoothing RHS EFT\n",
      "Smoothing RHS EFT\n",
      "Smoothing RHS EFT\n",
      "Smoothing RHS EFT\n",
      "Smoothing RHS EFT\n",
      "Smoothing RHS EFT\n",
      "Smoothing RHS EFT\n",
      "Smoothing RHS EFT\n",
      "Smoothing RHS EFT\n",
      "Smoothing RHS EFT\n",
      "Smoothing RHS EFT\n",
      "Smoothing RHS EFT\n",
      "Smoothing RHS EFT\n",
      "Smoothing RHS EFT\n",
      "Smoothing RHS EFT\n",
      "Smoothing RHS EFT\n",
      "reserr-FAS: 540173.75\n"
     ]
    },
    {
     "data": {
      "text/html": [
       "<pre style=\"white-space:pre;overflow-x:auto;line-height:normal;font-family:Menlo,'DejaVu Sans Mono',consolas,'Courier New',monospace\">param<span style=\"font-weight: bold\">[</span><span style=\"color: #008000; text-decoration-color: #008000\">'nsteps'</span><span style=\"font-weight: bold\">]</span>=<span style=\"color: #008080; text-decoration-color: #008080; font-weight: bold\">155</span> param<span style=\"font-weight: bold\">[</span><span style=\"color: #008000; text-decoration-color: #008000\">'aexp'</span><span style=\"font-weight: bold\">]</span>=<span style=\"color: #008080; text-decoration-color: #008080; font-weight: bold\">0.01714813624237219</span> z = <span style=\"color: #008080; text-decoration-color: #008080; font-weight: bold\">57.31537526095984</span>                                        \n",
       "</pre>\n"
      ],
      "text/plain": [
       "param\u001b[1m[\u001b[0m\u001b[32m'nsteps'\u001b[0m\u001b[1m]\u001b[0m=\u001b[1;36m155\u001b[0m param\u001b[1m[\u001b[0m\u001b[32m'aexp'\u001b[0m\u001b[1m]\u001b[0m=\u001b[1;36m0.01714813624237219\u001b[0m z = \u001b[1;36m57.31537526095984\u001b[0m                                        \n"
      ]
     },
     "metadata": {},
     "output_type": "display_data"
    },
    {
     "name": "stdout",
     "output_type": "stream",
     "text": [
      "Full solver.\n",
      "Smoothing RHS EFT\n",
      "Smoothing RHS EFT\n",
      "Smoothing RHS EFT\n",
      "Smoothing RHS EFT\n",
      "Smoothing RHS EFT\n",
      "Smoothing RHS EFT\n",
      "Smoothing RHS EFT\n",
      "Smoothing RHS EFT\n",
      "Smoothing RHS EFT\n",
      "Smoothing RHS EFT\n",
      "Smoothing RHS EFT\n",
      "Smoothing RHS EFT\n",
      "Smoothing RHS EFT\n",
      "Smoothing RHS EFT\n",
      "Smoothing RHS EFT\n",
      "Smoothing RHS EFT\n",
      "Smoothing RHS EFT\n",
      "Smoothing RHS EFT\n",
      "Smoothing RHS EFT\n",
      "Smoothing RHS EFT\n",
      "Smoothing RHS EFT\n",
      "Smoothing RHS EFT\n",
      "Smoothing RHS EFT\n",
      "Smoothing RHS EFT\n",
      "Smoothing RHS EFT\n",
      "Smoothing RHS EFT\n",
      "reserr-FAS: 538914.875\n"
     ]
    },
    {
     "data": {
      "text/html": [
       "<pre style=\"white-space:pre;overflow-x:auto;line-height:normal;font-family:Menlo,'DejaVu Sans Mono',consolas,'Courier New',monospace\">param<span style=\"font-weight: bold\">[</span><span style=\"color: #008000; text-decoration-color: #008000\">'nsteps'</span><span style=\"font-weight: bold\">]</span>=<span style=\"color: #008080; text-decoration-color: #008080; font-weight: bold\">156</span> param<span style=\"font-weight: bold\">[</span><span style=\"color: #008000; text-decoration-color: #008000\">'aexp'</span><span style=\"font-weight: bold\">]</span>=<span style=\"color: #008080; text-decoration-color: #008080; font-weight: bold\">0.01714982293430715</span> z = <span style=\"color: #008080; text-decoration-color: #008080; font-weight: bold\">57.30963992051267</span>                                        \n",
       "</pre>\n"
      ],
      "text/plain": [
       "param\u001b[1m[\u001b[0m\u001b[32m'nsteps'\u001b[0m\u001b[1m]\u001b[0m=\u001b[1;36m156\u001b[0m param\u001b[1m[\u001b[0m\u001b[32m'aexp'\u001b[0m\u001b[1m]\u001b[0m=\u001b[1;36m0.01714982293430715\u001b[0m z = \u001b[1;36m57.30963992051267\u001b[0m                                        \n"
      ]
     },
     "metadata": {},
     "output_type": "display_data"
    },
    {
     "name": "stdout",
     "output_type": "stream",
     "text": [
      "Full solver.\n",
      "Smoothing RHS EFT\n",
      "Smoothing RHS EFT\n",
      "Smoothing RHS EFT\n",
      "Smoothing RHS EFT\n",
      "Smoothing RHS EFT\n",
      "Smoothing RHS EFT\n",
      "Smoothing RHS EFT\n",
      "Smoothing RHS EFT\n",
      "Smoothing RHS EFT\n",
      "Smoothing RHS EFT\n",
      "Smoothing RHS EFT\n",
      "Smoothing RHS EFT\n",
      "Smoothing RHS EFT\n",
      "Smoothing RHS EFT\n",
      "Smoothing RHS EFT\n",
      "Smoothing RHS EFT\n",
      "Smoothing RHS EFT\n",
      "Smoothing RHS EFT\n",
      "Smoothing RHS EFT\n",
      "Smoothing RHS EFT\n",
      "Smoothing RHS EFT\n",
      "Smoothing RHS EFT\n",
      "Smoothing RHS EFT\n",
      "Smoothing RHS EFT\n",
      "Smoothing RHS EFT\n",
      "Smoothing RHS EFT\n",
      "reserr-FAS: 537439.25\n"
     ]
    },
    {
     "data": {
      "text/html": [
       "<pre style=\"white-space:pre;overflow-x:auto;line-height:normal;font-family:Menlo,'DejaVu Sans Mono',consolas,'Courier New',monospace\">param<span style=\"font-weight: bold\">[</span><span style=\"color: #008000; text-decoration-color: #008000\">'nsteps'</span><span style=\"font-weight: bold\">]</span>=<span style=\"color: #008080; text-decoration-color: #008080; font-weight: bold\">157</span> param<span style=\"font-weight: bold\">[</span><span style=\"color: #008000; text-decoration-color: #008000\">'aexp'</span><span style=\"font-weight: bold\">]</span>=<span style=\"color: #008080; text-decoration-color: #008080; font-weight: bold\">0.017151520114886933</span> z = <span style=\"color: #008080; text-decoration-color: #008080; font-weight: bold\">57.303870053595666</span>                                      \n",
       "</pre>\n"
      ],
      "text/plain": [
       "param\u001b[1m[\u001b[0m\u001b[32m'nsteps'\u001b[0m\u001b[1m]\u001b[0m=\u001b[1;36m157\u001b[0m param\u001b[1m[\u001b[0m\u001b[32m'aexp'\u001b[0m\u001b[1m]\u001b[0m=\u001b[1;36m0.017151520114886933\u001b[0m z = \u001b[1;36m57.303870053595666\u001b[0m                                      \n"
      ]
     },
     "metadata": {},
     "output_type": "display_data"
    },
    {
     "name": "stdout",
     "output_type": "stream",
     "text": [
      "Full solver.\n",
      "Smoothing RHS EFT\n",
      "Smoothing RHS EFT\n",
      "Smoothing RHS EFT\n",
      "Smoothing RHS EFT\n",
      "Smoothing RHS EFT\n",
      "Smoothing RHS EFT\n",
      "Smoothing RHS EFT\n",
      "Smoothing RHS EFT\n",
      "Smoothing RHS EFT\n",
      "Smoothing RHS EFT\n",
      "Smoothing RHS EFT\n",
      "Smoothing RHS EFT\n",
      "Smoothing RHS EFT\n",
      "Smoothing RHS EFT\n",
      "Smoothing RHS EFT\n",
      "Smoothing RHS EFT\n",
      "Smoothing RHS EFT\n",
      "Smoothing RHS EFT\n",
      "Smoothing RHS EFT\n",
      "Smoothing RHS EFT\n",
      "Smoothing RHS EFT\n",
      "Smoothing RHS EFT\n",
      "Smoothing RHS EFT\n",
      "Smoothing RHS EFT\n",
      "Smoothing RHS EFT\n",
      "Smoothing RHS EFT\n",
      "reserr-FAS: 535696.5\n"
     ]
    },
    {
     "data": {
      "text/html": [
       "<pre style=\"white-space:pre;overflow-x:auto;line-height:normal;font-family:Menlo,'DejaVu Sans Mono',consolas,'Courier New',monospace\">param<span style=\"font-weight: bold\">[</span><span style=\"color: #008000; text-decoration-color: #008000\">'nsteps'</span><span style=\"font-weight: bold\">]</span>=<span style=\"color: #008080; text-decoration-color: #008080; font-weight: bold\">158</span> param<span style=\"font-weight: bold\">[</span><span style=\"color: #008000; text-decoration-color: #008000\">'aexp'</span><span style=\"font-weight: bold\">]</span>=<span style=\"color: #008080; text-decoration-color: #008080; font-weight: bold\">0.01715321450662839</span> z = <span style=\"color: #008080; text-decoration-color: #008080; font-weight: bold\">57.29811080678653</span>                                        \n",
       "</pre>\n"
      ],
      "text/plain": [
       "param\u001b[1m[\u001b[0m\u001b[32m'nsteps'\u001b[0m\u001b[1m]\u001b[0m=\u001b[1;36m158\u001b[0m param\u001b[1m[\u001b[0m\u001b[32m'aexp'\u001b[0m\u001b[1m]\u001b[0m=\u001b[1;36m0.01715321450662839\u001b[0m z = \u001b[1;36m57.29811080678653\u001b[0m                                        \n"
      ]
     },
     "metadata": {},
     "output_type": "display_data"
    },
    {
     "name": "stdout",
     "output_type": "stream",
     "text": [
      "Full solver.\n",
      "Smoothing RHS EFT\n",
      "Smoothing RHS EFT\n",
      "Smoothing RHS EFT\n",
      "Smoothing RHS EFT\n",
      "Smoothing RHS EFT\n",
      "Smoothing RHS EFT\n",
      "Smoothing RHS EFT\n",
      "Smoothing RHS EFT\n",
      "Smoothing RHS EFT\n",
      "Smoothing RHS EFT\n",
      "Smoothing RHS EFT\n",
      "Smoothing RHS EFT\n",
      "Smoothing RHS EFT\n",
      "Smoothing RHS EFT\n",
      "Smoothing RHS EFT\n",
      "Smoothing RHS EFT\n",
      "Smoothing RHS EFT\n",
      "Smoothing RHS EFT\n",
      "Smoothing RHS EFT\n",
      "Smoothing RHS EFT\n",
      "Smoothing RHS EFT\n",
      "Smoothing RHS EFT\n",
      "Smoothing RHS EFT\n",
      "Smoothing RHS EFT\n",
      "Smoothing RHS EFT\n",
      "Smoothing RHS EFT\n",
      "reserr-FAS: 533730.6875\n"
     ]
    },
    {
     "data": {
      "text/html": [
       "<pre style=\"white-space:pre;overflow-x:auto;line-height:normal;font-family:Menlo,'DejaVu Sans Mono',consolas,'Courier New',monospace\">param<span style=\"font-weight: bold\">[</span><span style=\"color: #008000; text-decoration-color: #008000\">'nsteps'</span><span style=\"font-weight: bold\">]</span>=<span style=\"color: #008080; text-decoration-color: #008080; font-weight: bold\">159</span> param<span style=\"font-weight: bold\">[</span><span style=\"color: #008000; text-decoration-color: #008000\">'aexp'</span><span style=\"font-weight: bold\">]</span>=<span style=\"color: #008080; text-decoration-color: #008080; font-weight: bold\">0.017154896842281237</span> z = <span style=\"color: #008080; text-decoration-color: #008080; font-weight: bold\">57.29239366425833</span>                                       \n",
       "</pre>\n"
      ],
      "text/plain": [
       "param\u001b[1m[\u001b[0m\u001b[32m'nsteps'\u001b[0m\u001b[1m]\u001b[0m=\u001b[1;36m159\u001b[0m param\u001b[1m[\u001b[0m\u001b[32m'aexp'\u001b[0m\u001b[1m]\u001b[0m=\u001b[1;36m0.017154896842281237\u001b[0m z = \u001b[1;36m57.29239366425833\u001b[0m                                       \n"
      ]
     },
     "metadata": {},
     "output_type": "display_data"
    },
    {
     "name": "stdout",
     "output_type": "stream",
     "text": [
      "Full solver.\n",
      "Smoothing RHS EFT\n",
      "Smoothing RHS EFT\n",
      "Smoothing RHS EFT\n",
      "Smoothing RHS EFT\n",
      "Smoothing RHS EFT\n",
      "Smoothing RHS EFT\n",
      "Smoothing RHS EFT\n",
      "Smoothing RHS EFT\n",
      "Smoothing RHS EFT\n",
      "Smoothing RHS EFT\n",
      "Smoothing RHS EFT\n",
      "Smoothing RHS EFT\n",
      "Smoothing RHS EFT\n",
      "Smoothing RHS EFT\n",
      "Smoothing RHS EFT\n",
      "Smoothing RHS EFT\n",
      "Smoothing RHS EFT\n",
      "Smoothing RHS EFT\n",
      "Smoothing RHS EFT\n",
      "Smoothing RHS EFT\n",
      "Smoothing RHS EFT\n",
      "Smoothing RHS EFT\n",
      "Smoothing RHS EFT\n",
      "Smoothing RHS EFT\n",
      "Smoothing RHS EFT\n",
      "Smoothing RHS EFT\n",
      "reserr-FAS: 531552.875\n"
     ]
    },
    {
     "data": {
      "text/html": [
       "<pre style=\"white-space:pre;overflow-x:auto;line-height:normal;font-family:Menlo,'DejaVu Sans Mono',consolas,'Courier New',monospace\">param<span style=\"font-weight: bold\">[</span><span style=\"color: #008000; text-decoration-color: #008000\">'nsteps'</span><span style=\"font-weight: bold\">]</span>=<span style=\"color: #008080; text-decoration-color: #008080; font-weight: bold\">160</span> param<span style=\"font-weight: bold\">[</span><span style=\"color: #008000; text-decoration-color: #008000\">'aexp'</span><span style=\"font-weight: bold\">]</span>=<span style=\"color: #008080; text-decoration-color: #008080; font-weight: bold\">0.01715656950049681</span> z = <span style=\"color: #008080; text-decoration-color: #008080; font-weight: bold\">57.28671052048269</span>                                        \n",
       "</pre>\n"
      ],
      "text/plain": [
       "param\u001b[1m[\u001b[0m\u001b[32m'nsteps'\u001b[0m\u001b[1m]\u001b[0m=\u001b[1;36m160\u001b[0m param\u001b[1m[\u001b[0m\u001b[32m'aexp'\u001b[0m\u001b[1m]\u001b[0m=\u001b[1;36m0.01715656950049681\u001b[0m z = \u001b[1;36m57.28671052048269\u001b[0m                                        \n"
      ]
     },
     "metadata": {},
     "output_type": "display_data"
    },
    {
     "name": "stdout",
     "output_type": "stream",
     "text": [
      "Full solver.\n",
      "Smoothing RHS EFT\n",
      "Smoothing RHS EFT\n",
      "Smoothing RHS EFT\n",
      "Smoothing RHS EFT\n",
      "Smoothing RHS EFT\n",
      "Smoothing RHS EFT\n",
      "Smoothing RHS EFT\n",
      "Smoothing RHS EFT\n",
      "Smoothing RHS EFT\n",
      "Smoothing RHS EFT\n",
      "Smoothing RHS EFT\n",
      "Smoothing RHS EFT\n",
      "Smoothing RHS EFT\n",
      "Smoothing RHS EFT\n",
      "Smoothing RHS EFT\n",
      "Smoothing RHS EFT\n",
      "Smoothing RHS EFT\n",
      "Smoothing RHS EFT\n",
      "Smoothing RHS EFT\n",
      "Smoothing RHS EFT\n",
      "Smoothing RHS EFT\n",
      "Smoothing RHS EFT\n",
      "Smoothing RHS EFT\n",
      "Smoothing RHS EFT\n",
      "Smoothing RHS EFT\n",
      "Smoothing RHS EFT\n",
      "reserr-FAS: 529170.75\n"
     ]
    },
    {
     "data": {
      "text/html": [
       "<pre style=\"white-space:pre;overflow-x:auto;line-height:normal;font-family:Menlo,'DejaVu Sans Mono',consolas,'Courier New',monospace\">param<span style=\"font-weight: bold\">[</span><span style=\"color: #008000; text-decoration-color: #008000\">'nsteps'</span><span style=\"font-weight: bold\">]</span>=<span style=\"color: #008080; text-decoration-color: #008080; font-weight: bold\">161</span> param<span style=\"font-weight: bold\">[</span><span style=\"color: #008000; text-decoration-color: #008000\">'aexp'</span><span style=\"font-weight: bold\">]</span>=<span style=\"color: #008080; text-decoration-color: #008080; font-weight: bold\">0.017158234784294134</span> z = <span style=\"color: #008080; text-decoration-color: #008080; font-weight: bold\">57.28105353327805</span>                                       \n",
       "</pre>\n"
      ],
      "text/plain": [
       "param\u001b[1m[\u001b[0m\u001b[32m'nsteps'\u001b[0m\u001b[1m]\u001b[0m=\u001b[1;36m161\u001b[0m param\u001b[1m[\u001b[0m\u001b[32m'aexp'\u001b[0m\u001b[1m]\u001b[0m=\u001b[1;36m0.017158234784294134\u001b[0m z = \u001b[1;36m57.28105353327805\u001b[0m                                       \n"
      ]
     },
     "metadata": {},
     "output_type": "display_data"
    },
    {
     "name": "stdout",
     "output_type": "stream",
     "text": [
      "Full solver.\n",
      "Smoothing RHS EFT\n",
      "Smoothing RHS EFT\n",
      "Smoothing RHS EFT\n",
      "Smoothing RHS EFT\n",
      "Smoothing RHS EFT\n",
      "Smoothing RHS EFT\n",
      "Smoothing RHS EFT\n",
      "Smoothing RHS EFT\n",
      "Smoothing RHS EFT\n",
      "Smoothing RHS EFT\n",
      "Smoothing RHS EFT\n",
      "Smoothing RHS EFT\n",
      "Smoothing RHS EFT\n",
      "Smoothing RHS EFT\n",
      "Smoothing RHS EFT\n",
      "Smoothing RHS EFT\n",
      "Smoothing RHS EFT\n",
      "Smoothing RHS EFT\n",
      "Smoothing RHS EFT\n",
      "Smoothing RHS EFT\n",
      "Smoothing RHS EFT\n",
      "Smoothing RHS EFT\n",
      "Smoothing RHS EFT\n",
      "Smoothing RHS EFT\n",
      "Smoothing RHS EFT\n",
      "Smoothing RHS EFT\n",
      "reserr-FAS: 526572.125\n"
     ]
    },
    {
     "data": {
      "text/html": [
       "<pre style=\"white-space:pre;overflow-x:auto;line-height:normal;font-family:Menlo,'DejaVu Sans Mono',consolas,'Courier New',monospace\">param<span style=\"font-weight: bold\">[</span><span style=\"color: #008000; text-decoration-color: #008000\">'nsteps'</span><span style=\"font-weight: bold\">]</span>=<span style=\"color: #008080; text-decoration-color: #008080; font-weight: bold\">162</span> param<span style=\"font-weight: bold\">[</span><span style=\"color: #008000; text-decoration-color: #008000\">'aexp'</span><span style=\"font-weight: bold\">]</span>=<span style=\"color: #008080; text-decoration-color: #008080; font-weight: bold\">0.01715989491449336</span> z = <span style=\"color: #008080; text-decoration-color: #008080; font-weight: bold\">57.27541514577653</span>                                        \n",
       "</pre>\n"
      ],
      "text/plain": [
       "param\u001b[1m[\u001b[0m\u001b[32m'nsteps'\u001b[0m\u001b[1m]\u001b[0m=\u001b[1;36m162\u001b[0m param\u001b[1m[\u001b[0m\u001b[32m'aexp'\u001b[0m\u001b[1m]\u001b[0m=\u001b[1;36m0.01715989491449336\u001b[0m z = \u001b[1;36m57.27541514577653\u001b[0m                                        \n"
      ]
     },
     "metadata": {},
     "output_type": "display_data"
    },
    {
     "name": "stdout",
     "output_type": "stream",
     "text": [
      "Full solver.\n",
      "Smoothing RHS EFT\n",
      "Smoothing RHS EFT\n",
      "Smoothing RHS EFT\n",
      "Smoothing RHS EFT\n",
      "Smoothing RHS EFT\n",
      "Smoothing RHS EFT\n",
      "Smoothing RHS EFT\n",
      "Smoothing RHS EFT\n",
      "Smoothing RHS EFT\n",
      "Smoothing RHS EFT\n",
      "Smoothing RHS EFT\n",
      "Smoothing RHS EFT\n",
      "Smoothing RHS EFT\n",
      "Smoothing RHS EFT\n",
      "Smoothing RHS EFT\n",
      "Smoothing RHS EFT\n",
      "Smoothing RHS EFT\n",
      "Smoothing RHS EFT\n",
      "Smoothing RHS EFT\n",
      "Smoothing RHS EFT\n",
      "Smoothing RHS EFT\n",
      "Smoothing RHS EFT\n",
      "Smoothing RHS EFT\n",
      "Smoothing RHS EFT\n",
      "Smoothing RHS EFT\n",
      "Smoothing RHS EFT\n",
      "reserr-FAS: 523838.90625\n"
     ]
    },
    {
     "data": {
      "text/html": [
       "<pre style=\"white-space:pre;overflow-x:auto;line-height:normal;font-family:Menlo,'DejaVu Sans Mono',consolas,'Courier New',monospace\">param<span style=\"font-weight: bold\">[</span><span style=\"color: #008000; text-decoration-color: #008000\">'nsteps'</span><span style=\"font-weight: bold\">]</span>=<span style=\"color: #008080; text-decoration-color: #008080; font-weight: bold\">163</span> param<span style=\"font-weight: bold\">[</span><span style=\"color: #008000; text-decoration-color: #008000\">'aexp'</span><span style=\"font-weight: bold\">]</span>=<span style=\"color: #008080; text-decoration-color: #008080; font-weight: bold\">0.01716155201608212</span> z = <span style=\"color: #008080; text-decoration-color: #008080; font-weight: bold\">57.269788132384434</span>                                       \n",
       "</pre>\n"
      ],
      "text/plain": [
       "param\u001b[1m[\u001b[0m\u001b[32m'nsteps'\u001b[0m\u001b[1m]\u001b[0m=\u001b[1;36m163\u001b[0m param\u001b[1m[\u001b[0m\u001b[32m'aexp'\u001b[0m\u001b[1m]\u001b[0m=\u001b[1;36m0.01716155201608212\u001b[0m z = \u001b[1;36m57.269788132384434\u001b[0m                                       \n"
      ]
     },
     "metadata": {},
     "output_type": "display_data"
    },
    {
     "name": "stdout",
     "output_type": "stream",
     "text": [
      "Full solver.\n",
      "Smoothing RHS EFT\n",
      "Smoothing RHS EFT\n",
      "Smoothing RHS EFT\n",
      "Smoothing RHS EFT\n",
      "Smoothing RHS EFT\n",
      "Smoothing RHS EFT\n",
      "Smoothing RHS EFT\n",
      "Smoothing RHS EFT\n",
      "Smoothing RHS EFT\n",
      "Smoothing RHS EFT\n",
      "Smoothing RHS EFT\n",
      "Smoothing RHS EFT\n",
      "Smoothing RHS EFT\n",
      "Smoothing RHS EFT\n",
      "Smoothing RHS EFT\n",
      "Smoothing RHS EFT\n",
      "Smoothing RHS EFT\n",
      "Smoothing RHS EFT\n",
      "Smoothing RHS EFT\n",
      "Smoothing RHS EFT\n",
      "Smoothing RHS EFT\n",
      "Smoothing RHS EFT\n",
      "Smoothing RHS EFT\n",
      "Smoothing RHS EFT\n",
      "Smoothing RHS EFT\n",
      "Smoothing RHS EFT\n",
      "reserr-FAS: 520919.46875\n"
     ]
    },
    {
     "data": {
      "text/html": [
       "<pre style=\"white-space:pre;overflow-x:auto;line-height:normal;font-family:Menlo,'DejaVu Sans Mono',consolas,'Courier New',monospace\">param<span style=\"font-weight: bold\">[</span><span style=\"color: #008000; text-decoration-color: #008000\">'nsteps'</span><span style=\"font-weight: bold\">]</span>=<span style=\"color: #008080; text-decoration-color: #008080; font-weight: bold\">164</span> param<span style=\"font-weight: bold\">[</span><span style=\"color: #008000; text-decoration-color: #008000\">'aexp'</span><span style=\"font-weight: bold\">]</span>=<span style=\"color: #008080; text-decoration-color: #008080; font-weight: bold\">0.01716320810914241</span> z = <span style=\"color: #008080; text-decoration-color: #008080; font-weight: bold\">57.26416562922902</span>                                        \n",
       "</pre>\n"
      ],
      "text/plain": [
       "param\u001b[1m[\u001b[0m\u001b[32m'nsteps'\u001b[0m\u001b[1m]\u001b[0m=\u001b[1;36m164\u001b[0m param\u001b[1m[\u001b[0m\u001b[32m'aexp'\u001b[0m\u001b[1m]\u001b[0m=\u001b[1;36m0.01716320810914241\u001b[0m z = \u001b[1;36m57.26416562922902\u001b[0m                                        \n"
      ]
     },
     "metadata": {},
     "output_type": "display_data"
    },
    {
     "name": "stdout",
     "output_type": "stream",
     "text": [
      "Full solver.\n",
      "Smoothing RHS EFT\n",
      "Smoothing RHS EFT\n",
      "Smoothing RHS EFT\n",
      "Smoothing RHS EFT\n",
      "Smoothing RHS EFT\n",
      "Smoothing RHS EFT\n",
      "Smoothing RHS EFT\n",
      "Smoothing RHS EFT\n",
      "Smoothing RHS EFT\n",
      "Smoothing RHS EFT\n",
      "Smoothing RHS EFT\n",
      "Smoothing RHS EFT\n",
      "Smoothing RHS EFT\n",
      "Smoothing RHS EFT\n",
      "Smoothing RHS EFT\n",
      "Smoothing RHS EFT\n",
      "Smoothing RHS EFT\n",
      "Smoothing RHS EFT\n",
      "Smoothing RHS EFT\n",
      "Smoothing RHS EFT\n",
      "Smoothing RHS EFT\n",
      "Smoothing RHS EFT\n",
      "Smoothing RHS EFT\n",
      "Smoothing RHS EFT\n",
      "Smoothing RHS EFT\n",
      "Smoothing RHS EFT\n",
      "reserr-FAS: 517851.09375\n"
     ]
    },
    {
     "data": {
      "text/html": [
       "<pre style=\"white-space:pre;overflow-x:auto;line-height:normal;font-family:Menlo,'DejaVu Sans Mono',consolas,'Courier New',monospace\">param<span style=\"font-weight: bold\">[</span><span style=\"color: #008000; text-decoration-color: #008000\">'nsteps'</span><span style=\"font-weight: bold\">]</span>=<span style=\"color: #008080; text-decoration-color: #008080; font-weight: bold\">165</span> param<span style=\"font-weight: bold\">[</span><span style=\"color: #008000; text-decoration-color: #008000\">'aexp'</span><span style=\"font-weight: bold\">]</span>=<span style=\"color: #008080; text-decoration-color: #008080; font-weight: bold\">0.017164865121181882</span> z = <span style=\"color: #008080; text-decoration-color: #008080; font-weight: bold\">57.25854109194103</span>                                       \n",
       "</pre>\n"
      ],
      "text/plain": [
       "param\u001b[1m[\u001b[0m\u001b[32m'nsteps'\u001b[0m\u001b[1m]\u001b[0m=\u001b[1;36m165\u001b[0m param\u001b[1m[\u001b[0m\u001b[32m'aexp'\u001b[0m\u001b[1m]\u001b[0m=\u001b[1;36m0.017164865121181882\u001b[0m z = \u001b[1;36m57.25854109194103\u001b[0m                                       \n"
      ]
     },
     "metadata": {},
     "output_type": "display_data"
    },
    {
     "name": "stdout",
     "output_type": "stream",
     "text": [
      "Full solver.\n",
      "Smoothing RHS EFT\n",
      "Smoothing RHS EFT\n",
      "Smoothing RHS EFT\n",
      "Smoothing RHS EFT\n",
      "Smoothing RHS EFT\n",
      "Smoothing RHS EFT\n",
      "Smoothing RHS EFT\n",
      "Smoothing RHS EFT\n",
      "Smoothing RHS EFT\n",
      "Smoothing RHS EFT\n",
      "Smoothing RHS EFT\n",
      "Smoothing RHS EFT\n",
      "Smoothing RHS EFT\n",
      "Smoothing RHS EFT\n",
      "Smoothing RHS EFT\n",
      "Smoothing RHS EFT\n",
      "Smoothing RHS EFT\n",
      "Smoothing RHS EFT\n",
      "Smoothing RHS EFT\n",
      "Smoothing RHS EFT\n",
      "Smoothing RHS EFT\n",
      "Smoothing RHS EFT\n",
      "Smoothing RHS EFT\n",
      "Smoothing RHS EFT\n",
      "Smoothing RHS EFT\n",
      "Smoothing RHS EFT\n",
      "reserr-FAS: 514643.90625\n"
     ]
    },
    {
     "data": {
      "text/html": [
       "<pre style=\"white-space:pre;overflow-x:auto;line-height:normal;font-family:Menlo,'DejaVu Sans Mono',consolas,'Courier New',monospace\">param<span style=\"font-weight: bold\">[</span><span style=\"color: #008000; text-decoration-color: #008000\">'nsteps'</span><span style=\"font-weight: bold\">]</span>=<span style=\"color: #008080; text-decoration-color: #008080; font-weight: bold\">166</span> param<span style=\"font-weight: bold\">[</span><span style=\"color: #008000; text-decoration-color: #008000\">'aexp'</span><span style=\"font-weight: bold\">]</span>=<span style=\"color: #008080; text-decoration-color: #008080; font-weight: bold\">0.017166524897999847</span> z = <span style=\"color: #008080; text-decoration-color: #008080; font-weight: bold\">57.2529082584743</span>                                        \n",
       "</pre>\n"
      ],
      "text/plain": [
       "param\u001b[1m[\u001b[0m\u001b[32m'nsteps'\u001b[0m\u001b[1m]\u001b[0m=\u001b[1;36m166\u001b[0m param\u001b[1m[\u001b[0m\u001b[32m'aexp'\u001b[0m\u001b[1m]\u001b[0m=\u001b[1;36m0.017166524897999847\u001b[0m z = \u001b[1;36m57.2529082584743\u001b[0m                                        \n"
      ]
     },
     "metadata": {},
     "output_type": "display_data"
    },
    {
     "name": "stdout",
     "output_type": "stream",
     "text": [
      "Full solver.\n",
      "Smoothing RHS EFT\n",
      "Smoothing RHS EFT\n",
      "Smoothing RHS EFT\n",
      "Smoothing RHS EFT\n",
      "Smoothing RHS EFT\n",
      "Smoothing RHS EFT\n",
      "Smoothing RHS EFT\n",
      "Smoothing RHS EFT\n",
      "Smoothing RHS EFT\n",
      "Smoothing RHS EFT\n",
      "Smoothing RHS EFT\n",
      "Smoothing RHS EFT\n",
      "Smoothing RHS EFT\n",
      "Smoothing RHS EFT\n",
      "Smoothing RHS EFT\n",
      "Smoothing RHS EFT\n",
      "Smoothing RHS EFT\n",
      "Smoothing RHS EFT\n",
      "Smoothing RHS EFT\n",
      "Smoothing RHS EFT\n",
      "Smoothing RHS EFT\n",
      "Smoothing RHS EFT\n",
      "Smoothing RHS EFT\n",
      "Smoothing RHS EFT\n",
      "Smoothing RHS EFT\n",
      "Smoothing RHS EFT\n",
      "reserr-FAS: 511310.40625\n"
     ]
    },
    {
     "data": {
      "text/html": [
       "<pre style=\"white-space:pre;overflow-x:auto;line-height:normal;font-family:Menlo,'DejaVu Sans Mono',consolas,'Courier New',monospace\">param<span style=\"font-weight: bold\">[</span><span style=\"color: #008000; text-decoration-color: #008000\">'nsteps'</span><span style=\"font-weight: bold\">]</span>=<span style=\"color: #008080; text-decoration-color: #008080; font-weight: bold\">167</span> param<span style=\"font-weight: bold\">[</span><span style=\"color: #008000; text-decoration-color: #008000\">'aexp'</span><span style=\"font-weight: bold\">]</span>=<span style=\"color: #008080; text-decoration-color: #008080; font-weight: bold\">0.017168189211556068</span> z = <span style=\"color: #008080; text-decoration-color: #008080; font-weight: bold\">57.24726112215088</span>                                       \n",
       "</pre>\n"
      ],
      "text/plain": [
       "param\u001b[1m[\u001b[0m\u001b[32m'nsteps'\u001b[0m\u001b[1m]\u001b[0m=\u001b[1;36m167\u001b[0m param\u001b[1m[\u001b[0m\u001b[32m'aexp'\u001b[0m\u001b[1m]\u001b[0m=\u001b[1;36m0.017168189211556068\u001b[0m z = \u001b[1;36m57.24726112215088\u001b[0m                                       \n"
      ]
     },
     "metadata": {},
     "output_type": "display_data"
    },
    {
     "name": "stdout",
     "output_type": "stream",
     "text": [
      "Full solver.\n",
      "Smoothing RHS EFT\n",
      "Smoothing RHS EFT\n",
      "Smoothing RHS EFT\n",
      "Smoothing RHS EFT\n",
      "Smoothing RHS EFT\n",
      "Smoothing RHS EFT\n",
      "Smoothing RHS EFT\n",
      "Smoothing RHS EFT\n",
      "Smoothing RHS EFT\n",
      "Smoothing RHS EFT\n",
      "Smoothing RHS EFT\n",
      "Smoothing RHS EFT\n",
      "Smoothing RHS EFT\n",
      "Smoothing RHS EFT\n",
      "Smoothing RHS EFT\n",
      "Smoothing RHS EFT\n",
      "Smoothing RHS EFT\n",
      "Smoothing RHS EFT\n",
      "Smoothing RHS EFT\n",
      "Smoothing RHS EFT\n",
      "Smoothing RHS EFT\n",
      "Smoothing RHS EFT\n",
      "Smoothing RHS EFT\n",
      "Smoothing RHS EFT\n",
      "Smoothing RHS EFT\n",
      "Smoothing RHS EFT\n",
      "reserr-FAS: 507837.78125\n"
     ]
    },
    {
     "data": {
      "text/html": [
       "<pre style=\"white-space:pre;overflow-x:auto;line-height:normal;font-family:Menlo,'DejaVu Sans Mono',consolas,'Courier New',monospace\">param<span style=\"font-weight: bold\">[</span><span style=\"color: #008000; text-decoration-color: #008000\">'nsteps'</span><span style=\"font-weight: bold\">]</span>=<span style=\"color: #008080; text-decoration-color: #008080; font-weight: bold\">168</span> param<span style=\"font-weight: bold\">[</span><span style=\"color: #008000; text-decoration-color: #008000\">'aexp'</span><span style=\"font-weight: bold\">]</span>=<span style=\"color: #008080; text-decoration-color: #008080; font-weight: bold\">0.017169859769032226</span> z = <span style=\"color: #008080; text-decoration-color: #008080; font-weight: bold\">57.2415939007034</span>                                        \n",
       "</pre>\n"
      ],
      "text/plain": [
       "param\u001b[1m[\u001b[0m\u001b[32m'nsteps'\u001b[0m\u001b[1m]\u001b[0m=\u001b[1;36m168\u001b[0m param\u001b[1m[\u001b[0m\u001b[32m'aexp'\u001b[0m\u001b[1m]\u001b[0m=\u001b[1;36m0.017169859769032226\u001b[0m z = \u001b[1;36m57.2415939007034\u001b[0m                                        \n"
      ]
     },
     "metadata": {},
     "output_type": "display_data"
    },
    {
     "name": "stdout",
     "output_type": "stream",
     "text": [
      "Full solver.\n",
      "Smoothing RHS EFT\n",
      "Smoothing RHS EFT\n",
      "Smoothing RHS EFT\n",
      "Smoothing RHS EFT\n",
      "Smoothing RHS EFT\n",
      "Smoothing RHS EFT\n",
      "Smoothing RHS EFT\n",
      "Smoothing RHS EFT\n",
      "Smoothing RHS EFT\n",
      "Smoothing RHS EFT\n",
      "Smoothing RHS EFT\n",
      "Smoothing RHS EFT\n",
      "Smoothing RHS EFT\n",
      "Smoothing RHS EFT\n",
      "Smoothing RHS EFT\n",
      "Smoothing RHS EFT\n",
      "Smoothing RHS EFT\n",
      "Smoothing RHS EFT\n",
      "Smoothing RHS EFT\n",
      "Smoothing RHS EFT\n",
      "Smoothing RHS EFT\n",
      "Smoothing RHS EFT\n",
      "Smoothing RHS EFT\n",
      "Smoothing RHS EFT\n",
      "Smoothing RHS EFT\n",
      "Smoothing RHS EFT\n",
      "reserr-FAS: 504299.6875\n"
     ]
    },
    {
     "data": {
      "text/html": [
       "<pre style=\"white-space:pre;overflow-x:auto;line-height:normal;font-family:Menlo,'DejaVu Sans Mono',consolas,'Courier New',monospace\">param<span style=\"font-weight: bold\">[</span><span style=\"color: #008000; text-decoration-color: #008000\">'nsteps'</span><span style=\"font-weight: bold\">]</span>=<span style=\"color: #008080; text-decoration-color: #008080; font-weight: bold\">169</span> param<span style=\"font-weight: bold\">[</span><span style=\"color: #008000; text-decoration-color: #008000\">'aexp'</span><span style=\"font-weight: bold\">]</span>=<span style=\"color: #008080; text-decoration-color: #008080; font-weight: bold\">0.01717153821638952</span> z = <span style=\"color: #008080; text-decoration-color: #008080; font-weight: bold\">57.23590102402949</span>                                        \n",
       "</pre>\n"
      ],
      "text/plain": [
       "param\u001b[1m[\u001b[0m\u001b[32m'nsteps'\u001b[0m\u001b[1m]\u001b[0m=\u001b[1;36m169\u001b[0m param\u001b[1m[\u001b[0m\u001b[32m'aexp'\u001b[0m\u001b[1m]\u001b[0m=\u001b[1;36m0.01717153821638952\u001b[0m z = \u001b[1;36m57.23590102402949\u001b[0m                                        \n"
      ]
     },
     "metadata": {},
     "output_type": "display_data"
    },
    {
     "name": "stdout",
     "output_type": "stream",
     "text": [
      "Full solver.\n",
      "Smoothing RHS EFT\n",
      "Smoothing RHS EFT\n",
      "Smoothing RHS EFT\n",
      "Smoothing RHS EFT\n",
      "Smoothing RHS EFT\n",
      "Smoothing RHS EFT\n",
      "Smoothing RHS EFT\n",
      "Smoothing RHS EFT\n",
      "Smoothing RHS EFT\n",
      "Smoothing RHS EFT\n",
      "Smoothing RHS EFT\n",
      "Smoothing RHS EFT\n",
      "Smoothing RHS EFT\n",
      "Smoothing RHS EFT\n",
      "Smoothing RHS EFT\n",
      "Smoothing RHS EFT\n",
      "Smoothing RHS EFT\n",
      "Smoothing RHS EFT\n",
      "Smoothing RHS EFT\n",
      "Smoothing RHS EFT\n",
      "Smoothing RHS EFT\n",
      "Smoothing RHS EFT\n",
      "Smoothing RHS EFT\n",
      "Smoothing RHS EFT\n",
      "Smoothing RHS EFT\n",
      "Smoothing RHS EFT\n",
      "reserr-FAS: 500642.53125\n"
     ]
    },
    {
     "data": {
      "text/html": [
       "<pre style=\"white-space:pre;overflow-x:auto;line-height:normal;font-family:Menlo,'DejaVu Sans Mono',consolas,'Courier New',monospace\">param<span style=\"font-weight: bold\">[</span><span style=\"color: #008000; text-decoration-color: #008000\">'nsteps'</span><span style=\"font-weight: bold\">]</span>=<span style=\"color: #008080; text-decoration-color: #008080; font-weight: bold\">170</span> param<span style=\"font-weight: bold\">[</span><span style=\"color: #008000; text-decoration-color: #008000\">'aexp'</span><span style=\"font-weight: bold\">]</span>=<span style=\"color: #008080; text-decoration-color: #008080; font-weight: bold\">0.017173226101101075</span> z = <span style=\"color: #008080; text-decoration-color: #008080; font-weight: bold\">57.23017726039746</span>                                       \n",
       "</pre>\n"
      ],
      "text/plain": [
       "param\u001b[1m[\u001b[0m\u001b[32m'nsteps'\u001b[0m\u001b[1m]\u001b[0m=\u001b[1;36m170\u001b[0m param\u001b[1m[\u001b[0m\u001b[32m'aexp'\u001b[0m\u001b[1m]\u001b[0m=\u001b[1;36m0.017173226101101075\u001b[0m z = \u001b[1;36m57.23017726039746\u001b[0m                                       \n"
      ]
     },
     "metadata": {},
     "output_type": "display_data"
    },
    {
     "name": "stdout",
     "output_type": "stream",
     "text": [
      "Full solver.\n",
      "Smoothing RHS EFT\n",
      "Smoothing RHS EFT\n",
      "Smoothing RHS EFT\n",
      "Smoothing RHS EFT\n",
      "Smoothing RHS EFT\n",
      "Smoothing RHS EFT\n",
      "Smoothing RHS EFT\n",
      "Smoothing RHS EFT\n",
      "Smoothing RHS EFT\n",
      "Smoothing RHS EFT\n",
      "Smoothing RHS EFT\n",
      "Smoothing RHS EFT\n",
      "Smoothing RHS EFT\n",
      "Smoothing RHS EFT\n",
      "Smoothing RHS EFT\n",
      "Smoothing RHS EFT\n",
      "Smoothing RHS EFT\n",
      "Smoothing RHS EFT\n",
      "Smoothing RHS EFT\n",
      "Smoothing RHS EFT\n",
      "Smoothing RHS EFT\n",
      "Smoothing RHS EFT\n",
      "Smoothing RHS EFT\n",
      "Smoothing RHS EFT\n",
      "Smoothing RHS EFT\n",
      "Smoothing RHS EFT\n",
      "reserr-FAS: 496899.96875\n"
     ]
    },
    {
     "data": {
      "text/html": [
       "<pre style=\"white-space:pre;overflow-x:auto;line-height:normal;font-family:Menlo,'DejaVu Sans Mono',consolas,'Courier New',monospace\">param<span style=\"font-weight: bold\">[</span><span style=\"color: #008000; text-decoration-color: #008000\">'nsteps'</span><span style=\"font-weight: bold\">]</span>=<span style=\"color: #008080; text-decoration-color: #008080; font-weight: bold\">171</span> param<span style=\"font-weight: bold\">[</span><span style=\"color: #008000; text-decoration-color: #008000\">'aexp'</span><span style=\"font-weight: bold\">]</span>=<span style=\"color: #008080; text-decoration-color: #008080; font-weight: bold\">0.017174924861039303</span> z = <span style=\"color: #008080; text-decoration-color: #008080; font-weight: bold\">57.22441775384205</span>                                       \n",
       "</pre>\n"
      ],
      "text/plain": [
       "param\u001b[1m[\u001b[0m\u001b[32m'nsteps'\u001b[0m\u001b[1m]\u001b[0m=\u001b[1;36m171\u001b[0m param\u001b[1m[\u001b[0m\u001b[32m'aexp'\u001b[0m\u001b[1m]\u001b[0m=\u001b[1;36m0.017174924861039303\u001b[0m z = \u001b[1;36m57.22441775384205\u001b[0m                                       \n"
      ]
     },
     "metadata": {},
     "output_type": "display_data"
    },
    {
     "name": "stdout",
     "output_type": "stream",
     "text": [
      "Full solver.\n",
      "Smoothing RHS EFT\n",
      "Smoothing RHS EFT\n",
      "Smoothing RHS EFT\n",
      "Smoothing RHS EFT\n",
      "Smoothing RHS EFT\n",
      "Smoothing RHS EFT\n",
      "Smoothing RHS EFT\n",
      "Smoothing RHS EFT\n",
      "Smoothing RHS EFT\n",
      "Smoothing RHS EFT\n",
      "Smoothing RHS EFT\n",
      "Smoothing RHS EFT\n",
      "Smoothing RHS EFT\n",
      "Smoothing RHS EFT\n",
      "Smoothing RHS EFT\n",
      "Smoothing RHS EFT\n",
      "Smoothing RHS EFT\n",
      "Smoothing RHS EFT\n",
      "Smoothing RHS EFT\n",
      "Smoothing RHS EFT\n",
      "Smoothing RHS EFT\n",
      "Smoothing RHS EFT\n",
      "Smoothing RHS EFT\n",
      "Smoothing RHS EFT\n",
      "Smoothing RHS EFT\n",
      "Smoothing RHS EFT\n",
      "reserr-FAS: 493085.03125\n"
     ]
    },
    {
     "data": {
      "text/html": [
       "<pre style=\"white-space:pre;overflow-x:auto;line-height:normal;font-family:Menlo,'DejaVu Sans Mono',consolas,'Courier New',monospace\">param<span style=\"font-weight: bold\">[</span><span style=\"color: #008000; text-decoration-color: #008000\">'nsteps'</span><span style=\"font-weight: bold\">]</span>=<span style=\"color: #008080; text-decoration-color: #008080; font-weight: bold\">172</span> param<span style=\"font-weight: bold\">[</span><span style=\"color: #008000; text-decoration-color: #008000\">'aexp'</span><span style=\"font-weight: bold\">]</span>=<span style=\"color: #008080; text-decoration-color: #008080; font-weight: bold\">0.01717663585232072</span> z = <span style=\"color: #008080; text-decoration-color: #008080; font-weight: bold\">57.21861792947604</span>                                        \n",
       "</pre>\n"
      ],
      "text/plain": [
       "param\u001b[1m[\u001b[0m\u001b[32m'nsteps'\u001b[0m\u001b[1m]\u001b[0m=\u001b[1;36m172\u001b[0m param\u001b[1m[\u001b[0m\u001b[32m'aexp'\u001b[0m\u001b[1m]\u001b[0m=\u001b[1;36m0.01717663585232072\u001b[0m z = \u001b[1;36m57.21861792947604\u001b[0m                                        \n"
      ]
     },
     "metadata": {},
     "output_type": "display_data"
    },
    {
     "name": "stdout",
     "output_type": "stream",
     "text": [
      "Full solver.\n",
      "Smoothing RHS EFT\n",
      "Smoothing RHS EFT\n",
      "Smoothing RHS EFT\n",
      "Smoothing RHS EFT\n",
      "Smoothing RHS EFT\n",
      "Smoothing RHS EFT\n",
      "Smoothing RHS EFT\n",
      "Smoothing RHS EFT\n",
      "Smoothing RHS EFT\n",
      "Smoothing RHS EFT\n",
      "Smoothing RHS EFT\n",
      "Smoothing RHS EFT\n",
      "Smoothing RHS EFT\n",
      "Smoothing RHS EFT\n",
      "Smoothing RHS EFT\n",
      "Smoothing RHS EFT\n",
      "Smoothing RHS EFT\n",
      "Smoothing RHS EFT\n",
      "Smoothing RHS EFT\n",
      "Smoothing RHS EFT\n",
      "Smoothing RHS EFT\n",
      "Smoothing RHS EFT\n",
      "Smoothing RHS EFT\n",
      "Smoothing RHS EFT\n",
      "Smoothing RHS EFT\n",
      "Smoothing RHS EFT\n",
      "reserr-FAS: 489209.03125\n"
     ]
    },
    {
     "data": {
      "text/html": [
       "<pre style=\"white-space:pre;overflow-x:auto;line-height:normal;font-family:Menlo,'DejaVu Sans Mono',consolas,'Courier New',monospace\">param<span style=\"font-weight: bold\">[</span><span style=\"color: #008000; text-decoration-color: #008000\">'nsteps'</span><span style=\"font-weight: bold\">]</span>=<span style=\"color: #008080; text-decoration-color: #008080; font-weight: bold\">173</span> param<span style=\"font-weight: bold\">[</span><span style=\"color: #008000; text-decoration-color: #008000\">'aexp'</span><span style=\"font-weight: bold\">]</span>=<span style=\"color: #008080; text-decoration-color: #008080; font-weight: bold\">0.017178360332640343</span> z = <span style=\"color: #008080; text-decoration-color: #008080; font-weight: bold\">57.21277354974998</span>                                       \n",
       "</pre>\n"
      ],
      "text/plain": [
       "param\u001b[1m[\u001b[0m\u001b[32m'nsteps'\u001b[0m\u001b[1m]\u001b[0m=\u001b[1;36m173\u001b[0m param\u001b[1m[\u001b[0m\u001b[32m'aexp'\u001b[0m\u001b[1m]\u001b[0m=\u001b[1;36m0.017178360332640343\u001b[0m z = \u001b[1;36m57.21277354974998\u001b[0m                                       \n"
      ]
     },
     "metadata": {},
     "output_type": "display_data"
    },
    {
     "name": "stdout",
     "output_type": "stream",
     "text": [
      "Full solver.\n",
      "Smoothing RHS EFT\n",
      "Smoothing RHS EFT\n",
      "Smoothing RHS EFT\n",
      "Smoothing RHS EFT\n",
      "Smoothing RHS EFT\n",
      "Smoothing RHS EFT\n",
      "Smoothing RHS EFT\n",
      "Smoothing RHS EFT\n",
      "Smoothing RHS EFT\n",
      "Smoothing RHS EFT\n",
      "Smoothing RHS EFT\n",
      "Smoothing RHS EFT\n",
      "Smoothing RHS EFT\n",
      "Smoothing RHS EFT\n",
      "Smoothing RHS EFT\n",
      "Smoothing RHS EFT\n",
      "Smoothing RHS EFT\n",
      "Smoothing RHS EFT\n",
      "Smoothing RHS EFT\n",
      "Smoothing RHS EFT\n",
      "Smoothing RHS EFT\n",
      "Smoothing RHS EFT\n",
      "Smoothing RHS EFT\n",
      "Smoothing RHS EFT\n",
      "Smoothing RHS EFT\n",
      "Smoothing RHS EFT\n",
      "reserr-FAS: 485288.625\n"
     ]
    },
    {
     "data": {
      "text/html": [
       "<pre style=\"white-space:pre;overflow-x:auto;line-height:normal;font-family:Menlo,'DejaVu Sans Mono',consolas,'Courier New',monospace\">param<span style=\"font-weight: bold\">[</span><span style=\"color: #008000; text-decoration-color: #008000\">'nsteps'</span><span style=\"font-weight: bold\">]</span>=<span style=\"color: #008080; text-decoration-color: #008080; font-weight: bold\">174</span> param<span style=\"font-weight: bold\">[</span><span style=\"color: #008000; text-decoration-color: #008000\">'aexp'</span><span style=\"font-weight: bold\">]</span>=<span style=\"color: #008080; text-decoration-color: #008080; font-weight: bold\">0.017180099419117</span> z = <span style=\"color: #008080; text-decoration-color: #008080; font-weight: bold\">57.20688085700244</span>                                          \n",
       "</pre>\n"
      ],
      "text/plain": [
       "param\u001b[1m[\u001b[0m\u001b[32m'nsteps'\u001b[0m\u001b[1m]\u001b[0m=\u001b[1;36m174\u001b[0m param\u001b[1m[\u001b[0m\u001b[32m'aexp'\u001b[0m\u001b[1m]\u001b[0m=\u001b[1;36m0.017180099419117\u001b[0m z = \u001b[1;36m57.20688085700244\u001b[0m                                          \n"
      ]
     },
     "metadata": {},
     "output_type": "display_data"
    },
    {
     "name": "stdout",
     "output_type": "stream",
     "text": [
      "Full solver.\n",
      "Smoothing RHS EFT\n",
      "Smoothing RHS EFT\n",
      "Smoothing RHS EFT\n",
      "Smoothing RHS EFT\n",
      "Smoothing RHS EFT\n",
      "Smoothing RHS EFT\n",
      "Smoothing RHS EFT\n",
      "Smoothing RHS EFT\n",
      "Smoothing RHS EFT\n",
      "Smoothing RHS EFT\n",
      "Smoothing RHS EFT\n",
      "Smoothing RHS EFT\n",
      "Smoothing RHS EFT\n",
      "Smoothing RHS EFT\n",
      "Smoothing RHS EFT\n",
      "Smoothing RHS EFT\n",
      "Smoothing RHS EFT\n",
      "Smoothing RHS EFT\n",
      "Smoothing RHS EFT\n",
      "Smoothing RHS EFT\n",
      "Smoothing RHS EFT\n",
      "Smoothing RHS EFT\n",
      "Smoothing RHS EFT\n",
      "Smoothing RHS EFT\n",
      "Smoothing RHS EFT\n",
      "Smoothing RHS EFT\n",
      "reserr-FAS: 481336.75\n"
     ]
    },
    {
     "data": {
      "text/html": [
       "<pre style=\"white-space:pre;overflow-x:auto;line-height:normal;font-family:Menlo,'DejaVu Sans Mono',consolas,'Courier New',monospace\">param<span style=\"font-weight: bold\">[</span><span style=\"color: #008000; text-decoration-color: #008000\">'nsteps'</span><span style=\"font-weight: bold\">]</span>=<span style=\"color: #008080; text-decoration-color: #008080; font-weight: bold\">175</span> param<span style=\"font-weight: bold\">[</span><span style=\"color: #008000; text-decoration-color: #008000\">'aexp'</span><span style=\"font-weight: bold\">]</span>=<span style=\"color: #008080; text-decoration-color: #008080; font-weight: bold\">0.017181853984399066</span> z = <span style=\"color: #008080; text-decoration-color: #008080; font-weight: bold\">57.200936924966825</span>                                      \n",
       "</pre>\n"
      ],
      "text/plain": [
       "param\u001b[1m[\u001b[0m\u001b[32m'nsteps'\u001b[0m\u001b[1m]\u001b[0m=\u001b[1;36m175\u001b[0m param\u001b[1m[\u001b[0m\u001b[32m'aexp'\u001b[0m\u001b[1m]\u001b[0m=\u001b[1;36m0.017181853984399066\u001b[0m z = \u001b[1;36m57.200936924966825\u001b[0m                                      \n"
      ]
     },
     "metadata": {},
     "output_type": "display_data"
    },
    {
     "name": "stdout",
     "output_type": "stream",
     "text": [
      "Full solver.\n",
      "Smoothing RHS EFT\n",
      "Smoothing RHS EFT\n",
      "Smoothing RHS EFT\n",
      "Smoothing RHS EFT\n",
      "Smoothing RHS EFT\n",
      "Smoothing RHS EFT\n",
      "Smoothing RHS EFT\n",
      "Smoothing RHS EFT\n",
      "Smoothing RHS EFT\n",
      "Smoothing RHS EFT\n",
      "Smoothing RHS EFT\n",
      "Smoothing RHS EFT\n",
      "Smoothing RHS EFT\n",
      "Smoothing RHS EFT\n",
      "Smoothing RHS EFT\n",
      "Smoothing RHS EFT\n",
      "Smoothing RHS EFT\n",
      "Smoothing RHS EFT\n",
      "Smoothing RHS EFT\n",
      "Smoothing RHS EFT\n",
      "Smoothing RHS EFT\n",
      "Smoothing RHS EFT\n",
      "Smoothing RHS EFT\n",
      "Smoothing RHS EFT\n",
      "Smoothing RHS EFT\n",
      "Smoothing RHS EFT\n",
      "reserr-FAS: 477364.53125\n"
     ]
    },
    {
     "data": {
      "text/html": [
       "<pre style=\"white-space:pre;overflow-x:auto;line-height:normal;font-family:Menlo,'DejaVu Sans Mono',consolas,'Courier New',monospace\">param<span style=\"font-weight: bold\">[</span><span style=\"color: #008000; text-decoration-color: #008000\">'nsteps'</span><span style=\"font-weight: bold\">]</span>=<span style=\"color: #008080; text-decoration-color: #008080; font-weight: bold\">176</span> param<span style=\"font-weight: bold\">[</span><span style=\"color: #008000; text-decoration-color: #008000\">'aexp'</span><span style=\"font-weight: bold\">]</span>=<span style=\"color: #008080; text-decoration-color: #008080; font-weight: bold\">0.017183617435281063</span> z = <span style=\"color: #008080; text-decoration-color: #008080; font-weight: bold\">57.1949641142976</span>                                        \n",
       "</pre>\n"
      ],
      "text/plain": [
       "param\u001b[1m[\u001b[0m\u001b[32m'nsteps'\u001b[0m\u001b[1m]\u001b[0m=\u001b[1;36m176\u001b[0m param\u001b[1m[\u001b[0m\u001b[32m'aexp'\u001b[0m\u001b[1m]\u001b[0m=\u001b[1;36m0.017183617435281063\u001b[0m z = \u001b[1;36m57.1949641142976\u001b[0m                                        \n"
      ]
     },
     "metadata": {},
     "output_type": "display_data"
    },
    {
     "name": "stdout",
     "output_type": "stream",
     "text": [
      "Full solver.\n",
      "Smoothing RHS EFT\n",
      "Smoothing RHS EFT\n",
      "Smoothing RHS EFT\n",
      "Smoothing RHS EFT\n",
      "Smoothing RHS EFT\n",
      "Smoothing RHS EFT\n",
      "Smoothing RHS EFT\n",
      "Smoothing RHS EFT\n",
      "Smoothing RHS EFT\n",
      "Smoothing RHS EFT\n",
      "Smoothing RHS EFT\n",
      "Smoothing RHS EFT\n",
      "Smoothing RHS EFT\n",
      "Smoothing RHS EFT\n",
      "Smoothing RHS EFT\n",
      "Smoothing RHS EFT\n",
      "Smoothing RHS EFT\n",
      "Smoothing RHS EFT\n",
      "Smoothing RHS EFT\n",
      "Smoothing RHS EFT\n",
      "Smoothing RHS EFT\n",
      "Smoothing RHS EFT\n",
      "Smoothing RHS EFT\n",
      "Smoothing RHS EFT\n",
      "Smoothing RHS EFT\n",
      "Smoothing RHS EFT\n",
      "reserr-FAS: 473438.75\n"
     ]
    },
    {
     "data": {
      "text/html": [
       "<pre style=\"white-space:pre;overflow-x:auto;line-height:normal;font-family:Menlo,'DejaVu Sans Mono',consolas,'Courier New',monospace\">param<span style=\"font-weight: bold\">[</span><span style=\"color: #008000; text-decoration-color: #008000\">'nsteps'</span><span style=\"font-weight: bold\">]</span>=<span style=\"color: #008080; text-decoration-color: #008080; font-weight: bold\">177</span> param<span style=\"font-weight: bold\">[</span><span style=\"color: #008000; text-decoration-color: #008000\">'aexp'</span><span style=\"font-weight: bold\">]</span>=<span style=\"color: #008080; text-decoration-color: #008080; font-weight: bold\">0.017185383044802487</span> z = <span style=\"color: #008080; text-decoration-color: #008080; font-weight: bold\">57.1889852203462</span>                                        \n",
       "</pre>\n"
      ],
      "text/plain": [
       "param\u001b[1m[\u001b[0m\u001b[32m'nsteps'\u001b[0m\u001b[1m]\u001b[0m=\u001b[1;36m177\u001b[0m param\u001b[1m[\u001b[0m\u001b[32m'aexp'\u001b[0m\u001b[1m]\u001b[0m=\u001b[1;36m0.017185383044802487\u001b[0m z = \u001b[1;36m57.1889852203462\u001b[0m                                        \n"
      ]
     },
     "metadata": {},
     "output_type": "display_data"
    },
    {
     "name": "stdout",
     "output_type": "stream",
     "text": [
      "Full solver.\n",
      "Smoothing RHS EFT\n",
      "Smoothing RHS EFT\n",
      "Smoothing RHS EFT\n",
      "Smoothing RHS EFT\n",
      "Smoothing RHS EFT\n",
      "Smoothing RHS EFT\n",
      "Smoothing RHS EFT\n",
      "Smoothing RHS EFT\n",
      "Smoothing RHS EFT\n",
      "Smoothing RHS EFT\n",
      "Smoothing RHS EFT\n",
      "Smoothing RHS EFT\n",
      "Smoothing RHS EFT\n",
      "Smoothing RHS EFT\n",
      "Smoothing RHS EFT\n",
      "Smoothing RHS EFT\n",
      "Smoothing RHS EFT\n",
      "Smoothing RHS EFT\n",
      "Smoothing RHS EFT\n",
      "Smoothing RHS EFT\n",
      "Smoothing RHS EFT\n",
      "Smoothing RHS EFT\n",
      "Smoothing RHS EFT\n",
      "Smoothing RHS EFT\n",
      "Smoothing RHS EFT\n",
      "Smoothing RHS EFT\n",
      "reserr-FAS: 469562.3125\n"
     ]
    },
    {
     "data": {
      "text/html": [
       "<pre style=\"white-space:pre;overflow-x:auto;line-height:normal;font-family:Menlo,'DejaVu Sans Mono',consolas,'Courier New',monospace\">param<span style=\"font-weight: bold\">[</span><span style=\"color: #008000; text-decoration-color: #008000\">'nsteps'</span><span style=\"font-weight: bold\">]</span>=<span style=\"color: #008080; text-decoration-color: #008080; font-weight: bold\">178</span> param<span style=\"font-weight: bold\">[</span><span style=\"color: #008000; text-decoration-color: #008000\">'aexp'</span><span style=\"font-weight: bold\">]</span>=<span style=\"color: #008080; text-decoration-color: #008080; font-weight: bold\">0.017187144310546496</span> z = <span style=\"color: #008080; text-decoration-color: #008080; font-weight: bold\">57.18302225963001</span>                                       \n",
       "</pre>\n"
      ],
      "text/plain": [
       "param\u001b[1m[\u001b[0m\u001b[32m'nsteps'\u001b[0m\u001b[1m]\u001b[0m=\u001b[1;36m178\u001b[0m param\u001b[1m[\u001b[0m\u001b[32m'aexp'\u001b[0m\u001b[1m]\u001b[0m=\u001b[1;36m0.017187144310546496\u001b[0m z = \u001b[1;36m57.18302225963001\u001b[0m                                       \n"
      ]
     },
     "metadata": {},
     "output_type": "display_data"
    },
    {
     "name": "stdout",
     "output_type": "stream",
     "text": [
      "Full solver.\n",
      "Smoothing RHS EFT\n",
      "Smoothing RHS EFT\n",
      "Smoothing RHS EFT\n",
      "Smoothing RHS EFT\n",
      "Smoothing RHS EFT\n",
      "Smoothing RHS EFT\n",
      "Smoothing RHS EFT\n",
      "Smoothing RHS EFT\n",
      "Smoothing RHS EFT\n",
      "Smoothing RHS EFT\n",
      "Smoothing RHS EFT\n",
      "Smoothing RHS EFT\n",
      "Smoothing RHS EFT\n",
      "Smoothing RHS EFT\n",
      "Smoothing RHS EFT\n",
      "Smoothing RHS EFT\n",
      "Smoothing RHS EFT\n",
      "Smoothing RHS EFT\n",
      "Smoothing RHS EFT\n",
      "Smoothing RHS EFT\n",
      "Smoothing RHS EFT\n",
      "Smoothing RHS EFT\n",
      "Smoothing RHS EFT\n",
      "Smoothing RHS EFT\n",
      "Smoothing RHS EFT\n",
      "Smoothing RHS EFT\n",
      "reserr-FAS: 465734.65625\n"
     ]
    },
    {
     "data": {
      "text/html": [
       "<pre style=\"white-space:pre;overflow-x:auto;line-height:normal;font-family:Menlo,'DejaVu Sans Mono',consolas,'Courier New',monospace\">param<span style=\"font-weight: bold\">[</span><span style=\"color: #008000; text-decoration-color: #008000\">'nsteps'</span><span style=\"font-weight: bold\">]</span>=<span style=\"color: #008080; text-decoration-color: #008080; font-weight: bold\">179</span> param<span style=\"font-weight: bold\">[</span><span style=\"color: #008000; text-decoration-color: #008000\">'aexp'</span><span style=\"font-weight: bold\">]</span>=<span style=\"color: #008080; text-decoration-color: #008080; font-weight: bold\">0.017188904481187747</span> z = <span style=\"color: #008080; text-decoration-color: #008080; font-weight: bold\">57.17706422735909</span>                                       \n",
       "</pre>\n"
      ],
      "text/plain": [
       "param\u001b[1m[\u001b[0m\u001b[32m'nsteps'\u001b[0m\u001b[1m]\u001b[0m=\u001b[1;36m179\u001b[0m param\u001b[1m[\u001b[0m\u001b[32m'aexp'\u001b[0m\u001b[1m]\u001b[0m=\u001b[1;36m0.017188904481187747\u001b[0m z = \u001b[1;36m57.17706422735909\u001b[0m                                       \n"
      ]
     },
     "metadata": {},
     "output_type": "display_data"
    },
    {
     "name": "stdout",
     "output_type": "stream",
     "text": [
      "Full solver.\n",
      "Smoothing RHS EFT\n",
      "Smoothing RHS EFT\n",
      "Smoothing RHS EFT\n",
      "Smoothing RHS EFT\n",
      "Smoothing RHS EFT\n",
      "Smoothing RHS EFT\n",
      "Smoothing RHS EFT\n",
      "Smoothing RHS EFT\n",
      "Smoothing RHS EFT\n",
      "Smoothing RHS EFT\n",
      "Smoothing RHS EFT\n",
      "Smoothing RHS EFT\n",
      "Smoothing RHS EFT\n",
      "Smoothing RHS EFT\n",
      "Smoothing RHS EFT\n",
      "Smoothing RHS EFT\n",
      "Smoothing RHS EFT\n",
      "Smoothing RHS EFT\n",
      "Smoothing RHS EFT\n",
      "Smoothing RHS EFT\n",
      "Smoothing RHS EFT\n",
      "Smoothing RHS EFT\n",
      "Smoothing RHS EFT\n",
      "Smoothing RHS EFT\n",
      "Smoothing RHS EFT\n",
      "Smoothing RHS EFT\n",
      "reserr-FAS: 461972.1875\n"
     ]
    },
    {
     "data": {
      "text/html": [
       "<pre style=\"white-space:pre;overflow-x:auto;line-height:normal;font-family:Menlo,'DejaVu Sans Mono',consolas,'Courier New',monospace\">param<span style=\"font-weight: bold\">[</span><span style=\"color: #008000; text-decoration-color: #008000\">'nsteps'</span><span style=\"font-weight: bold\">]</span>=<span style=\"color: #008080; text-decoration-color: #008080; font-weight: bold\">180</span> param<span style=\"font-weight: bold\">[</span><span style=\"color: #008000; text-decoration-color: #008000\">'aexp'</span><span style=\"font-weight: bold\">]</span>=<span style=\"color: #008080; text-decoration-color: #008080; font-weight: bold\">0.017190666817075595</span> z = <span style=\"color: #008080; text-decoration-color: #008080; font-weight: bold\">57.171100088258</span>                                         \n",
       "</pre>\n"
      ],
      "text/plain": [
       "param\u001b[1m[\u001b[0m\u001b[32m'nsteps'\u001b[0m\u001b[1m]\u001b[0m=\u001b[1;36m180\u001b[0m param\u001b[1m[\u001b[0m\u001b[32m'aexp'\u001b[0m\u001b[1m]\u001b[0m=\u001b[1;36m0.017190666817075595\u001b[0m z = \u001b[1;36m57.171100088258\u001b[0m                                         \n"
      ]
     },
     "metadata": {},
     "output_type": "display_data"
    },
    {
     "name": "stdout",
     "output_type": "stream",
     "text": [
      "Full solver.\n",
      "Smoothing RHS EFT\n",
      "Smoothing RHS EFT\n",
      "Smoothing RHS EFT\n",
      "Smoothing RHS EFT\n",
      "Smoothing RHS EFT\n",
      "Smoothing RHS EFT\n",
      "Smoothing RHS EFT\n",
      "Smoothing RHS EFT\n",
      "Smoothing RHS EFT\n",
      "Smoothing RHS EFT\n",
      "Smoothing RHS EFT\n",
      "Smoothing RHS EFT\n",
      "Smoothing RHS EFT\n",
      "Smoothing RHS EFT\n",
      "Smoothing RHS EFT\n",
      "Smoothing RHS EFT\n",
      "Smoothing RHS EFT\n",
      "Smoothing RHS EFT\n",
      "Smoothing RHS EFT\n",
      "Smoothing RHS EFT\n",
      "Smoothing RHS EFT\n",
      "Smoothing RHS EFT\n",
      "Smoothing RHS EFT\n",
      "Smoothing RHS EFT\n",
      "Smoothing RHS EFT\n",
      "Smoothing RHS EFT\n",
      "reserr-FAS: 458234.9375\n"
     ]
    },
    {
     "data": {
      "text/html": [
       "<pre style=\"white-space:pre;overflow-x:auto;line-height:normal;font-family:Menlo,'DejaVu Sans Mono',consolas,'Courier New',monospace\">param<span style=\"font-weight: bold\">[</span><span style=\"color: #008000; text-decoration-color: #008000\">'nsteps'</span><span style=\"font-weight: bold\">]</span>=<span style=\"color: #008080; text-decoration-color: #008080; font-weight: bold\">181</span> param<span style=\"font-weight: bold\">[</span><span style=\"color: #008000; text-decoration-color: #008000\">'aexp'</span><span style=\"font-weight: bold\">]</span>=<span style=\"color: #008080; text-decoration-color: #008080; font-weight: bold\">0.017192434622070315</span> z = <span style=\"color: #008080; text-decoration-color: #008080; font-weight: bold\">57.16511866889856</span>                                       \n",
       "</pre>\n"
      ],
      "text/plain": [
       "param\u001b[1m[\u001b[0m\u001b[32m'nsteps'\u001b[0m\u001b[1m]\u001b[0m=\u001b[1;36m181\u001b[0m param\u001b[1m[\u001b[0m\u001b[32m'aexp'\u001b[0m\u001b[1m]\u001b[0m=\u001b[1;36m0.017192434622070315\u001b[0m z = \u001b[1;36m57.16511866889856\u001b[0m                                       \n"
      ]
     },
     "metadata": {},
     "output_type": "display_data"
    },
    {
     "name": "stdout",
     "output_type": "stream",
     "text": [
      "Full solver.\n",
      "Smoothing RHS EFT\n",
      "Smoothing RHS EFT\n",
      "Smoothing RHS EFT\n",
      "Smoothing RHS EFT\n",
      "Smoothing RHS EFT\n",
      "Smoothing RHS EFT\n",
      "Smoothing RHS EFT\n",
      "Smoothing RHS EFT\n",
      "Smoothing RHS EFT\n",
      "Smoothing RHS EFT\n",
      "Smoothing RHS EFT\n",
      "Smoothing RHS EFT\n",
      "Smoothing RHS EFT\n",
      "Smoothing RHS EFT\n",
      "Smoothing RHS EFT\n",
      "Smoothing RHS EFT\n",
      "Smoothing RHS EFT\n",
      "Smoothing RHS EFT\n",
      "Smoothing RHS EFT\n",
      "Smoothing RHS EFT\n",
      "Smoothing RHS EFT\n",
      "Smoothing RHS EFT\n",
      "Smoothing RHS EFT\n",
      "Smoothing RHS EFT\n",
      "Smoothing RHS EFT\n",
      "Smoothing RHS EFT\n",
      "reserr-FAS: 454556.59375\n"
     ]
    },
    {
     "data": {
      "text/html": [
       "<pre style=\"white-space:pre;overflow-x:auto;line-height:normal;font-family:Menlo,'DejaVu Sans Mono',consolas,'Courier New',monospace\">param<span style=\"font-weight: bold\">[</span><span style=\"color: #008000; text-decoration-color: #008000\">'nsteps'</span><span style=\"font-weight: bold\">]</span>=<span style=\"color: #008080; text-decoration-color: #008080; font-weight: bold\">182</span> param<span style=\"font-weight: bold\">[</span><span style=\"color: #008000; text-decoration-color: #008000\">'aexp'</span><span style=\"font-weight: bold\">]</span>=<span style=\"color: #008080; text-decoration-color: #008080; font-weight: bold\">0.017194203443634325</span> z = <span style=\"color: #008080; text-decoration-color: #008080; font-weight: bold\">57.15913504095603</span>                                       \n",
       "</pre>\n"
      ],
      "text/plain": [
       "param\u001b[1m[\u001b[0m\u001b[32m'nsteps'\u001b[0m\u001b[1m]\u001b[0m=\u001b[1;36m182\u001b[0m param\u001b[1m[\u001b[0m\u001b[32m'aexp'\u001b[0m\u001b[1m]\u001b[0m=\u001b[1;36m0.017194203443634325\u001b[0m z = \u001b[1;36m57.15913504095603\u001b[0m                                       \n"
      ]
     },
     "metadata": {},
     "output_type": "display_data"
    },
    {
     "name": "stdout",
     "output_type": "stream",
     "text": [
      "Full solver.\n",
      "Smoothing RHS EFT\n",
      "Smoothing RHS EFT\n",
      "Smoothing RHS EFT\n",
      "Smoothing RHS EFT\n",
      "Smoothing RHS EFT\n",
      "Smoothing RHS EFT\n",
      "Smoothing RHS EFT\n",
      "Smoothing RHS EFT\n",
      "Smoothing RHS EFT\n",
      "Smoothing RHS EFT\n",
      "Smoothing RHS EFT\n",
      "Smoothing RHS EFT\n",
      "Smoothing RHS EFT\n",
      "Smoothing RHS EFT\n",
      "Smoothing RHS EFT\n",
      "Smoothing RHS EFT\n",
      "Smoothing RHS EFT\n",
      "Smoothing RHS EFT\n",
      "Smoothing RHS EFT\n",
      "Smoothing RHS EFT\n",
      "Smoothing RHS EFT\n",
      "Smoothing RHS EFT\n",
      "Smoothing RHS EFT\n",
      "Smoothing RHS EFT\n",
      "Smoothing RHS EFT\n",
      "Smoothing RHS EFT\n",
      "reserr-FAS: 450953.75\n"
     ]
    },
    {
     "data": {
      "text/html": [
       "<pre style=\"white-space:pre;overflow-x:auto;line-height:normal;font-family:Menlo,'DejaVu Sans Mono',consolas,'Courier New',monospace\">param<span style=\"font-weight: bold\">[</span><span style=\"color: #008000; text-decoration-color: #008000\">'nsteps'</span><span style=\"font-weight: bold\">]</span>=<span style=\"color: #008080; text-decoration-color: #008080; font-weight: bold\">183</span> param<span style=\"font-weight: bold\">[</span><span style=\"color: #008000; text-decoration-color: #008000\">'aexp'</span><span style=\"font-weight: bold\">]</span>=<span style=\"color: #008080; text-decoration-color: #008080; font-weight: bold\">0.017195969245250974</span> z = <span style=\"color: #008080; text-decoration-color: #008080; font-weight: bold\">57.15316285682302</span>                                       \n",
       "</pre>\n"
      ],
      "text/plain": [
       "param\u001b[1m[\u001b[0m\u001b[32m'nsteps'\u001b[0m\u001b[1m]\u001b[0m=\u001b[1;36m183\u001b[0m param\u001b[1m[\u001b[0m\u001b[32m'aexp'\u001b[0m\u001b[1m]\u001b[0m=\u001b[1;36m0.017195969245250974\u001b[0m z = \u001b[1;36m57.15316285682302\u001b[0m                                       \n"
      ]
     },
     "metadata": {},
     "output_type": "display_data"
    },
    {
     "name": "stdout",
     "output_type": "stream",
     "text": [
      "Full solver.\n",
      "Smoothing RHS EFT\n",
      "Smoothing RHS EFT\n",
      "Smoothing RHS EFT\n",
      "Smoothing RHS EFT\n",
      "Smoothing RHS EFT\n",
      "Smoothing RHS EFT\n",
      "Smoothing RHS EFT\n",
      "Smoothing RHS EFT\n",
      "Smoothing RHS EFT\n",
      "Smoothing RHS EFT\n",
      "Smoothing RHS EFT\n",
      "Smoothing RHS EFT\n",
      "Smoothing RHS EFT\n",
      "Smoothing RHS EFT\n",
      "Smoothing RHS EFT\n",
      "Smoothing RHS EFT\n",
      "Smoothing RHS EFT\n",
      "Smoothing RHS EFT\n",
      "Smoothing RHS EFT\n",
      "Smoothing RHS EFT\n",
      "Smoothing RHS EFT\n",
      "Smoothing RHS EFT\n",
      "Smoothing RHS EFT\n",
      "Smoothing RHS EFT\n",
      "Smoothing RHS EFT\n",
      "Smoothing RHS EFT\n",
      "reserr-FAS: 447429.125\n"
     ]
    },
    {
     "data": {
      "text/html": [
       "<pre style=\"white-space:pre;overflow-x:auto;line-height:normal;font-family:Menlo,'DejaVu Sans Mono',consolas,'Courier New',monospace\">param<span style=\"font-weight: bold\">[</span><span style=\"color: #008000; text-decoration-color: #008000\">'nsteps'</span><span style=\"font-weight: bold\">]</span>=<span style=\"color: #008080; text-decoration-color: #008080; font-weight: bold\">184</span> param<span style=\"font-weight: bold\">[</span><span style=\"color: #008000; text-decoration-color: #008000\">'aexp'</span><span style=\"font-weight: bold\">]</span>=<span style=\"color: #008080; text-decoration-color: #008080; font-weight: bold\">0.017197732734707417</span> z = <span style=\"color: #008080; text-decoration-color: #008080; font-weight: bold\">57.147199716731315</span>                                      \n",
       "</pre>\n"
      ],
      "text/plain": [
       "param\u001b[1m[\u001b[0m\u001b[32m'nsteps'\u001b[0m\u001b[1m]\u001b[0m=\u001b[1;36m184\u001b[0m param\u001b[1m[\u001b[0m\u001b[32m'aexp'\u001b[0m\u001b[1m]\u001b[0m=\u001b[1;36m0.017197732734707417\u001b[0m z = \u001b[1;36m57.147199716731315\u001b[0m                                      \n"
      ]
     },
     "metadata": {},
     "output_type": "display_data"
    },
    {
     "name": "stdout",
     "output_type": "stream",
     "text": [
      "Full solver.\n",
      "Smoothing RHS EFT\n",
      "Smoothing RHS EFT\n",
      "Smoothing RHS EFT\n",
      "Smoothing RHS EFT\n",
      "Smoothing RHS EFT\n",
      "Smoothing RHS EFT\n",
      "Smoothing RHS EFT\n",
      "Smoothing RHS EFT\n",
      "Smoothing RHS EFT\n",
      "Smoothing RHS EFT\n",
      "Smoothing RHS EFT\n",
      "Smoothing RHS EFT\n",
      "Smoothing RHS EFT\n",
      "Smoothing RHS EFT\n",
      "Smoothing RHS EFT\n",
      "Smoothing RHS EFT\n",
      "Smoothing RHS EFT\n",
      "Smoothing RHS EFT\n",
      "Smoothing RHS EFT\n",
      "Smoothing RHS EFT\n",
      "Smoothing RHS EFT\n",
      "Smoothing RHS EFT\n",
      "Smoothing RHS EFT\n",
      "Smoothing RHS EFT\n",
      "Smoothing RHS EFT\n",
      "Smoothing RHS EFT\n",
      "reserr-FAS: 443983.53125\n"
     ]
    },
    {
     "data": {
      "text/html": [
       "<pre style=\"white-space:pre;overflow-x:auto;line-height:normal;font-family:Menlo,'DejaVu Sans Mono',consolas,'Courier New',monospace\">param<span style=\"font-weight: bold\">[</span><span style=\"color: #008000; text-decoration-color: #008000\">'nsteps'</span><span style=\"font-weight: bold\">]</span>=<span style=\"color: #008080; text-decoration-color: #008080; font-weight: bold\">185</span> param<span style=\"font-weight: bold\">[</span><span style=\"color: #008000; text-decoration-color: #008000\">'aexp'</span><span style=\"font-weight: bold\">]</span>=<span style=\"color: #008080; text-decoration-color: #008080; font-weight: bold\">0.01719949462128515</span> z = <span style=\"color: #008080; text-decoration-color: #008080; font-weight: bold\">57.14124321783588</span>                                        \n",
       "</pre>\n"
      ],
      "text/plain": [
       "param\u001b[1m[\u001b[0m\u001b[32m'nsteps'\u001b[0m\u001b[1m]\u001b[0m=\u001b[1;36m185\u001b[0m param\u001b[1m[\u001b[0m\u001b[32m'aexp'\u001b[0m\u001b[1m]\u001b[0m=\u001b[1;36m0.01719949462128515\u001b[0m z = \u001b[1;36m57.14124321783588\u001b[0m                                        \n"
      ]
     },
     "metadata": {},
     "output_type": "display_data"
    },
    {
     "name": "stdout",
     "output_type": "stream",
     "text": [
      "Full solver.\n",
      "Smoothing RHS EFT\n",
      "Smoothing RHS EFT\n",
      "Smoothing RHS EFT\n",
      "Smoothing RHS EFT\n",
      "Smoothing RHS EFT\n",
      "Smoothing RHS EFT\n",
      "Smoothing RHS EFT\n",
      "Smoothing RHS EFT\n",
      "Smoothing RHS EFT\n",
      "Smoothing RHS EFT\n",
      "Smoothing RHS EFT\n",
      "Smoothing RHS EFT\n",
      "Smoothing RHS EFT\n",
      "Smoothing RHS EFT\n",
      "Smoothing RHS EFT\n",
      "Smoothing RHS EFT\n",
      "Smoothing RHS EFT\n",
      "Smoothing RHS EFT\n",
      "Smoothing RHS EFT\n",
      "Smoothing RHS EFT\n",
      "Smoothing RHS EFT\n",
      "Smoothing RHS EFT\n",
      "Smoothing RHS EFT\n",
      "Smoothing RHS EFT\n",
      "Smoothing RHS EFT\n",
      "Smoothing RHS EFT\n",
      "reserr-FAS: 440617.25\n"
     ]
    },
    {
     "data": {
      "text/html": [
       "<pre style=\"white-space:pre;overflow-x:auto;line-height:normal;font-family:Menlo,'DejaVu Sans Mono',consolas,'Courier New',monospace\">param<span style=\"font-weight: bold\">[</span><span style=\"color: #008000; text-decoration-color: #008000\">'nsteps'</span><span style=\"font-weight: bold\">]</span>=<span style=\"color: #008080; text-decoration-color: #008080; font-weight: bold\">186</span> param<span style=\"font-weight: bold\">[</span><span style=\"color: #008000; text-decoration-color: #008000\">'aexp'</span><span style=\"font-weight: bold\">]</span>=<span style=\"color: #008080; text-decoration-color: #008080; font-weight: bold\">0.01720125563017337</span> z = <span style=\"color: #008080; text-decoration-color: #008080; font-weight: bold\">57.13529090550008</span>                                        \n",
       "</pre>\n"
      ],
      "text/plain": [
       "param\u001b[1m[\u001b[0m\u001b[32m'nsteps'\u001b[0m\u001b[1m]\u001b[0m=\u001b[1;36m186\u001b[0m param\u001b[1m[\u001b[0m\u001b[32m'aexp'\u001b[0m\u001b[1m]\u001b[0m=\u001b[1;36m0.01720125563017337\u001b[0m z = \u001b[1;36m57.13529090550008\u001b[0m                                        \n"
      ]
     },
     "metadata": {},
     "output_type": "display_data"
    },
    {
     "name": "stdout",
     "output_type": "stream",
     "text": [
      "Full solver.\n",
      "Smoothing RHS EFT\n",
      "Smoothing RHS EFT\n",
      "Smoothing RHS EFT\n",
      "Smoothing RHS EFT\n",
      "Smoothing RHS EFT\n",
      "Smoothing RHS EFT\n",
      "Smoothing RHS EFT\n",
      "Smoothing RHS EFT\n",
      "Smoothing RHS EFT\n",
      "Smoothing RHS EFT\n",
      "Smoothing RHS EFT\n",
      "Smoothing RHS EFT\n",
      "Smoothing RHS EFT\n",
      "Smoothing RHS EFT\n",
      "Smoothing RHS EFT\n",
      "Smoothing RHS EFT\n",
      "Smoothing RHS EFT\n",
      "Smoothing RHS EFT\n",
      "Smoothing RHS EFT\n",
      "Smoothing RHS EFT\n",
      "Smoothing RHS EFT\n",
      "Smoothing RHS EFT\n",
      "Smoothing RHS EFT\n",
      "Smoothing RHS EFT\n",
      "Smoothing RHS EFT\n",
      "Smoothing RHS EFT\n",
      "reserr-FAS: 437332.125\n"
     ]
    },
    {
     "data": {
      "text/html": [
       "<pre style=\"white-space:pre;overflow-x:auto;line-height:normal;font-family:Menlo,'DejaVu Sans Mono',consolas,'Courier New',monospace\">param<span style=\"font-weight: bold\">[</span><span style=\"color: #008000; text-decoration-color: #008000\">'nsteps'</span><span style=\"font-weight: bold\">]</span>=<span style=\"color: #008080; text-decoration-color: #008080; font-weight: bold\">187</span> param<span style=\"font-weight: bold\">[</span><span style=\"color: #008000; text-decoration-color: #008000\">'aexp'</span><span style=\"font-weight: bold\">]</span>=<span style=\"color: #008080; text-decoration-color: #008080; font-weight: bold\">0.017203016475624378</span> z = <span style=\"color: #008080; text-decoration-color: #008080; font-weight: bold\">57.12934036405411</span>                                       \n",
       "</pre>\n"
      ],
      "text/plain": [
       "param\u001b[1m[\u001b[0m\u001b[32m'nsteps'\u001b[0m\u001b[1m]\u001b[0m=\u001b[1;36m187\u001b[0m param\u001b[1m[\u001b[0m\u001b[32m'aexp'\u001b[0m\u001b[1m]\u001b[0m=\u001b[1;36m0.017203016475624378\u001b[0m z = \u001b[1;36m57.12934036405411\u001b[0m                                       \n"
      ]
     },
     "metadata": {},
     "output_type": "display_data"
    },
    {
     "name": "stdout",
     "output_type": "stream",
     "text": [
      "Full solver.\n",
      "Smoothing RHS EFT\n",
      "Smoothing RHS EFT\n",
      "Smoothing RHS EFT\n",
      "Smoothing RHS EFT\n",
      "Smoothing RHS EFT\n",
      "Smoothing RHS EFT\n",
      "Smoothing RHS EFT\n",
      "Smoothing RHS EFT\n",
      "Smoothing RHS EFT\n",
      "Smoothing RHS EFT\n",
      "Smoothing RHS EFT\n",
      "Smoothing RHS EFT\n",
      "Smoothing RHS EFT\n",
      "Smoothing RHS EFT\n",
      "Smoothing RHS EFT\n",
      "Smoothing RHS EFT\n",
      "Smoothing RHS EFT\n",
      "Smoothing RHS EFT\n",
      "Smoothing RHS EFT\n",
      "Smoothing RHS EFT\n",
      "Smoothing RHS EFT\n",
      "Smoothing RHS EFT\n",
      "Smoothing RHS EFT\n",
      "Smoothing RHS EFT\n",
      "Smoothing RHS EFT\n",
      "Smoothing RHS EFT\n",
      "reserr-FAS: 434129.1875\n"
     ]
    },
    {
     "data": {
      "text/html": [
       "<pre style=\"white-space:pre;overflow-x:auto;line-height:normal;font-family:Menlo,'DejaVu Sans Mono',consolas,'Courier New',monospace\">param<span style=\"font-weight: bold\">[</span><span style=\"color: #008000; text-decoration-color: #008000\">'nsteps'</span><span style=\"font-weight: bold\">]</span>=<span style=\"color: #008080; text-decoration-color: #008080; font-weight: bold\">188</span> param<span style=\"font-weight: bold\">[</span><span style=\"color: #008000; text-decoration-color: #008000\">'aexp'</span><span style=\"font-weight: bold\">]</span>=<span style=\"color: #008080; text-decoration-color: #008080; font-weight: bold\">0.017204777832674576</span> z = <span style=\"color: #008080; text-decoration-color: #008080; font-weight: bold\">57.12338931228992</span>                                       \n",
       "</pre>\n"
      ],
      "text/plain": [
       "param\u001b[1m[\u001b[0m\u001b[32m'nsteps'\u001b[0m\u001b[1m]\u001b[0m=\u001b[1;36m188\u001b[0m param\u001b[1m[\u001b[0m\u001b[32m'aexp'\u001b[0m\u001b[1m]\u001b[0m=\u001b[1;36m0.017204777832674576\u001b[0m z = \u001b[1;36m57.12338931228992\u001b[0m                                       \n"
      ]
     },
     "metadata": {},
     "output_type": "display_data"
    },
    {
     "name": "stdout",
     "output_type": "stream",
     "text": [
      "Full solver.\n",
      "Smoothing RHS EFT\n",
      "Smoothing RHS EFT\n",
      "Smoothing RHS EFT\n",
      "Smoothing RHS EFT\n",
      "Smoothing RHS EFT\n",
      "Smoothing RHS EFT\n",
      "Smoothing RHS EFT\n",
      "Smoothing RHS EFT\n",
      "Smoothing RHS EFT\n",
      "Smoothing RHS EFT\n",
      "Smoothing RHS EFT\n",
      "Smoothing RHS EFT\n",
      "Smoothing RHS EFT\n",
      "Smoothing RHS EFT\n",
      "Smoothing RHS EFT\n",
      "Smoothing RHS EFT\n",
      "Smoothing RHS EFT\n",
      "Smoothing RHS EFT\n",
      "Smoothing RHS EFT\n",
      "Smoothing RHS EFT\n",
      "Smoothing RHS EFT\n",
      "Smoothing RHS EFT\n",
      "Smoothing RHS EFT\n",
      "Smoothing RHS EFT\n",
      "Smoothing RHS EFT\n",
      "Smoothing RHS EFT\n",
      "reserr-FAS: 431024.125\n"
     ]
    },
    {
     "data": {
      "text/html": [
       "<pre style=\"white-space:pre;overflow-x:auto;line-height:normal;font-family:Menlo,'DejaVu Sans Mono',consolas,'Courier New',monospace\">param<span style=\"font-weight: bold\">[</span><span style=\"color: #008000; text-decoration-color: #008000\">'nsteps'</span><span style=\"font-weight: bold\">]</span>=<span style=\"color: #008080; text-decoration-color: #008080; font-weight: bold\">189</span> param<span style=\"font-weight: bold\">[</span><span style=\"color: #008000; text-decoration-color: #008000\">'aexp'</span><span style=\"font-weight: bold\">]</span>=<span style=\"color: #008080; text-decoration-color: #008080; font-weight: bold\">0.017206532146064685</span> z = <span style=\"color: #008080; text-decoration-color: #008080; font-weight: bold\">57.11746326982631</span>                                       \n",
       "</pre>\n"
      ],
      "text/plain": [
       "param\u001b[1m[\u001b[0m\u001b[32m'nsteps'\u001b[0m\u001b[1m]\u001b[0m=\u001b[1;36m189\u001b[0m param\u001b[1m[\u001b[0m\u001b[32m'aexp'\u001b[0m\u001b[1m]\u001b[0m=\u001b[1;36m0.017206532146064685\u001b[0m z = \u001b[1;36m57.11746326982631\u001b[0m                                       \n"
      ]
     },
     "metadata": {},
     "output_type": "display_data"
    },
    {
     "name": "stdout",
     "output_type": "stream",
     "text": [
      "Full solver.\n",
      "Smoothing RHS EFT\n",
      "Smoothing RHS EFT\n",
      "Smoothing RHS EFT\n",
      "Smoothing RHS EFT\n",
      "Smoothing RHS EFT\n",
      "Smoothing RHS EFT\n",
      "Smoothing RHS EFT\n",
      "Smoothing RHS EFT\n",
      "Smoothing RHS EFT\n",
      "Smoothing RHS EFT\n",
      "Smoothing RHS EFT\n",
      "Smoothing RHS EFT\n",
      "Smoothing RHS EFT\n",
      "Smoothing RHS EFT\n",
      "Smoothing RHS EFT\n",
      "Smoothing RHS EFT\n",
      "Smoothing RHS EFT\n",
      "Smoothing RHS EFT\n",
      "Smoothing RHS EFT\n",
      "Smoothing RHS EFT\n",
      "Smoothing RHS EFT\n",
      "Smoothing RHS EFT\n",
      "Smoothing RHS EFT\n",
      "Smoothing RHS EFT\n",
      "Smoothing RHS EFT\n",
      "Smoothing RHS EFT\n",
      "reserr-FAS: 428023.8125\n"
     ]
    },
    {
     "data": {
      "text/html": [
       "<pre style=\"white-space:pre;overflow-x:auto;line-height:normal;font-family:Menlo,'DejaVu Sans Mono',consolas,'Courier New',monospace\">param<span style=\"font-weight: bold\">[</span><span style=\"color: #008000; text-decoration-color: #008000\">'nsteps'</span><span style=\"font-weight: bold\">]</span>=<span style=\"color: #008080; text-decoration-color: #008080; font-weight: bold\">190</span> param<span style=\"font-weight: bold\">[</span><span style=\"color: #008000; text-decoration-color: #008000\">'aexp'</span><span style=\"font-weight: bold\">]</span>=<span style=\"color: #008080; text-decoration-color: #008080; font-weight: bold\">0.01720827613546551</span> z = <span style=\"color: #008080; text-decoration-color: #008080; font-weight: bold\">57.11157329925939</span>                                        \n",
       "</pre>\n"
      ],
      "text/plain": [
       "param\u001b[1m[\u001b[0m\u001b[32m'nsteps'\u001b[0m\u001b[1m]\u001b[0m=\u001b[1;36m190\u001b[0m param\u001b[1m[\u001b[0m\u001b[32m'aexp'\u001b[0m\u001b[1m]\u001b[0m=\u001b[1;36m0.01720827613546551\u001b[0m z = \u001b[1;36m57.11157329925939\u001b[0m                                        \n"
      ]
     },
     "metadata": {},
     "output_type": "display_data"
    },
    {
     "name": "stdout",
     "output_type": "stream",
     "text": [
      "Full solver.\n",
      "Smoothing RHS EFT\n",
      "Smoothing RHS EFT\n",
      "Smoothing RHS EFT\n",
      "Smoothing RHS EFT\n",
      "Smoothing RHS EFT\n",
      "Smoothing RHS EFT\n",
      "Smoothing RHS EFT\n",
      "Smoothing RHS EFT\n",
      "Smoothing RHS EFT\n",
      "Smoothing RHS EFT\n",
      "Smoothing RHS EFT\n",
      "Smoothing RHS EFT\n",
      "Smoothing RHS EFT\n",
      "Smoothing RHS EFT\n",
      "Smoothing RHS EFT\n",
      "Smoothing RHS EFT\n",
      "Smoothing RHS EFT\n",
      "Smoothing RHS EFT\n",
      "Smoothing RHS EFT\n",
      "Smoothing RHS EFT\n",
      "Smoothing RHS EFT\n",
      "Smoothing RHS EFT\n",
      "Smoothing RHS EFT\n",
      "Smoothing RHS EFT\n",
      "Smoothing RHS EFT\n",
      "Smoothing RHS EFT\n",
      "reserr-FAS: 425105.1875\n"
     ]
    },
    {
     "data": {
      "text/html": [
       "<pre style=\"white-space:pre;overflow-x:auto;line-height:normal;font-family:Menlo,'DejaVu Sans Mono',consolas,'Courier New',monospace\">param<span style=\"font-weight: bold\">[</span><span style=\"color: #008000; text-decoration-color: #008000\">'nsteps'</span><span style=\"font-weight: bold\">]</span>=<span style=\"color: #008080; text-decoration-color: #008080; font-weight: bold\">191</span> param<span style=\"font-weight: bold\">[</span><span style=\"color: #008000; text-decoration-color: #008000\">'aexp'</span><span style=\"font-weight: bold\">]</span>=<span style=\"color: #008080; text-decoration-color: #008080; font-weight: bold\">0.01721001248083115</span> z = <span style=\"color: #008080; text-decoration-color: #008080; font-weight: bold\">57.10571033076354</span>                                        \n",
       "</pre>\n"
      ],
      "text/plain": [
       "param\u001b[1m[\u001b[0m\u001b[32m'nsteps'\u001b[0m\u001b[1m]\u001b[0m=\u001b[1;36m191\u001b[0m param\u001b[1m[\u001b[0m\u001b[32m'aexp'\u001b[0m\u001b[1m]\u001b[0m=\u001b[1;36m0.01721001248083115\u001b[0m z = \u001b[1;36m57.10571033076354\u001b[0m                                        \n"
      ]
     },
     "metadata": {},
     "output_type": "display_data"
    },
    {
     "name": "stdout",
     "output_type": "stream",
     "text": [
      "Full solver.\n",
      "Smoothing RHS EFT\n",
      "Smoothing RHS EFT\n",
      "Smoothing RHS EFT\n",
      "Smoothing RHS EFT\n",
      "Smoothing RHS EFT\n",
      "Smoothing RHS EFT\n",
      "Smoothing RHS EFT\n",
      "Smoothing RHS EFT\n",
      "Smoothing RHS EFT\n",
      "Smoothing RHS EFT\n",
      "Smoothing RHS EFT\n",
      "Smoothing RHS EFT\n",
      "Smoothing RHS EFT\n",
      "Smoothing RHS EFT\n",
      "Smoothing RHS EFT\n",
      "Smoothing RHS EFT\n",
      "Smoothing RHS EFT\n",
      "Smoothing RHS EFT\n",
      "Smoothing RHS EFT\n",
      "Smoothing RHS EFT\n",
      "Smoothing RHS EFT\n",
      "Smoothing RHS EFT\n",
      "Smoothing RHS EFT\n",
      "Smoothing RHS EFT\n",
      "Smoothing RHS EFT\n",
      "Smoothing RHS EFT\n",
      "reserr-FAS: 422300.90625\n"
     ]
    },
    {
     "data": {
      "text/html": [
       "<pre style=\"white-space:pre;overflow-x:auto;line-height:normal;font-family:Menlo,'DejaVu Sans Mono',consolas,'Courier New',monospace\">param<span style=\"font-weight: bold\">[</span><span style=\"color: #008000; text-decoration-color: #008000\">'nsteps'</span><span style=\"font-weight: bold\">]</span>=<span style=\"color: #008080; text-decoration-color: #008080; font-weight: bold\">192</span> param<span style=\"font-weight: bold\">[</span><span style=\"color: #008000; text-decoration-color: #008000\">'aexp'</span><span style=\"font-weight: bold\">]</span>=<span style=\"color: #008080; text-decoration-color: #008080; font-weight: bold\">0.01721174376026904</span> z = <span style=\"color: #008080; text-decoration-color: #008080; font-weight: bold\">57.09986564570892</span>                                        \n",
       "</pre>\n"
      ],
      "text/plain": [
       "param\u001b[1m[\u001b[0m\u001b[32m'nsteps'\u001b[0m\u001b[1m]\u001b[0m=\u001b[1;36m192\u001b[0m param\u001b[1m[\u001b[0m\u001b[32m'aexp'\u001b[0m\u001b[1m]\u001b[0m=\u001b[1;36m0.01721174376026904\u001b[0m z = \u001b[1;36m57.09986564570892\u001b[0m                                        \n"
      ]
     },
     "metadata": {},
     "output_type": "display_data"
    },
    {
     "name": "stdout",
     "output_type": "stream",
     "text": [
      "Full solver.\n",
      "Smoothing RHS EFT\n",
      "Smoothing RHS EFT\n",
      "Smoothing RHS EFT\n",
      "Smoothing RHS EFT\n",
      "Smoothing RHS EFT\n",
      "Smoothing RHS EFT\n",
      "Smoothing RHS EFT\n",
      "Smoothing RHS EFT\n",
      "Smoothing RHS EFT\n",
      "Smoothing RHS EFT\n",
      "Smoothing RHS EFT\n",
      "Smoothing RHS EFT\n",
      "Smoothing RHS EFT\n",
      "Smoothing RHS EFT\n",
      "Smoothing RHS EFT\n",
      "Smoothing RHS EFT\n",
      "Smoothing RHS EFT\n",
      "Smoothing RHS EFT\n",
      "Smoothing RHS EFT\n",
      "Smoothing RHS EFT\n",
      "Smoothing RHS EFT\n",
      "Smoothing RHS EFT\n",
      "Smoothing RHS EFT\n",
      "Smoothing RHS EFT\n",
      "Smoothing RHS EFT\n",
      "Smoothing RHS EFT\n",
      "reserr-FAS: 419607.1875\n"
     ]
    },
    {
     "data": {
      "text/html": [
       "<pre style=\"white-space:pre;overflow-x:auto;line-height:normal;font-family:Menlo,'DejaVu Sans Mono',consolas,'Courier New',monospace\">param<span style=\"font-weight: bold\">[</span><span style=\"color: #008000; text-decoration-color: #008000\">'nsteps'</span><span style=\"font-weight: bold\">]</span>=<span style=\"color: #008080; text-decoration-color: #008080; font-weight: bold\">193</span> param<span style=\"font-weight: bold\">[</span><span style=\"color: #008000; text-decoration-color: #008000\">'aexp'</span><span style=\"font-weight: bold\">]</span>=<span style=\"color: #008080; text-decoration-color: #008080; font-weight: bold\">0.01721347249704459</span> z = <span style=\"color: #008080; text-decoration-color: #008080; font-weight: bold\">57.09403071760748</span>                                        \n",
       "</pre>\n"
      ],
      "text/plain": [
       "param\u001b[1m[\u001b[0m\u001b[32m'nsteps'\u001b[0m\u001b[1m]\u001b[0m=\u001b[1;36m193\u001b[0m param\u001b[1m[\u001b[0m\u001b[32m'aexp'\u001b[0m\u001b[1m]\u001b[0m=\u001b[1;36m0.01721347249704459\u001b[0m z = \u001b[1;36m57.09403071760748\u001b[0m                                        \n"
      ]
     },
     "metadata": {},
     "output_type": "display_data"
    },
    {
     "name": "stdout",
     "output_type": "stream",
     "text": [
      "Full solver.\n",
      "Smoothing RHS EFT\n",
      "Smoothing RHS EFT\n",
      "Smoothing RHS EFT\n",
      "Smoothing RHS EFT\n",
      "Smoothing RHS EFT\n",
      "Smoothing RHS EFT\n",
      "Smoothing RHS EFT\n",
      "Smoothing RHS EFT\n",
      "Smoothing RHS EFT\n",
      "Smoothing RHS EFT\n",
      "Smoothing RHS EFT\n",
      "Smoothing RHS EFT\n",
      "Smoothing RHS EFT\n",
      "Smoothing RHS EFT\n",
      "Smoothing RHS EFT\n",
      "Smoothing RHS EFT\n",
      "Smoothing RHS EFT\n",
      "Smoothing RHS EFT\n",
      "Smoothing RHS EFT\n",
      "Smoothing RHS EFT\n",
      "Smoothing RHS EFT\n",
      "Smoothing RHS EFT\n",
      "Smoothing RHS EFT\n",
      "Smoothing RHS EFT\n",
      "Smoothing RHS EFT\n",
      "Smoothing RHS EFT\n",
      "reserr-FAS: 416981.1875\n"
     ]
    },
    {
     "data": {
      "text/html": [
       "<pre style=\"white-space:pre;overflow-x:auto;line-height:normal;font-family:Menlo,'DejaVu Sans Mono',consolas,'Courier New',monospace\">param<span style=\"font-weight: bold\">[</span><span style=\"color: #008000; text-decoration-color: #008000\">'nsteps'</span><span style=\"font-weight: bold\">]</span>=<span style=\"color: #008080; text-decoration-color: #008080; font-weight: bold\">194</span> param<span style=\"font-weight: bold\">[</span><span style=\"color: #008000; text-decoration-color: #008000\">'aexp'</span><span style=\"font-weight: bold\">]</span>=<span style=\"color: #008080; text-decoration-color: #008080; font-weight: bold\">0.01721520117074434</span> z = <span style=\"color: #008080; text-decoration-color: #008080; font-weight: bold\">57.088197174216496</span>                                       \n",
       "</pre>\n"
      ],
      "text/plain": [
       "param\u001b[1m[\u001b[0m\u001b[32m'nsteps'\u001b[0m\u001b[1m]\u001b[0m=\u001b[1;36m194\u001b[0m param\u001b[1m[\u001b[0m\u001b[32m'aexp'\u001b[0m\u001b[1m]\u001b[0m=\u001b[1;36m0.01721520117074434\u001b[0m z = \u001b[1;36m57.088197174216496\u001b[0m                                       \n"
      ]
     },
     "metadata": {},
     "output_type": "display_data"
    },
    {
     "name": "stdout",
     "output_type": "stream",
     "text": [
      "Full solver.\n",
      "Smoothing RHS EFT\n",
      "Smoothing RHS EFT\n",
      "Smoothing RHS EFT\n",
      "Smoothing RHS EFT\n",
      "Smoothing RHS EFT\n",
      "Smoothing RHS EFT\n",
      "Smoothing RHS EFT\n",
      "Smoothing RHS EFT\n",
      "Smoothing RHS EFT\n",
      "Smoothing RHS EFT\n",
      "Smoothing RHS EFT\n",
      "Smoothing RHS EFT\n",
      "Smoothing RHS EFT\n",
      "Smoothing RHS EFT\n",
      "Smoothing RHS EFT\n",
      "Smoothing RHS EFT\n",
      "Smoothing RHS EFT\n",
      "Smoothing RHS EFT\n",
      "Smoothing RHS EFT\n",
      "Smoothing RHS EFT\n",
      "Smoothing RHS EFT\n",
      "Smoothing RHS EFT\n",
      "Smoothing RHS EFT\n",
      "Smoothing RHS EFT\n",
      "Smoothing RHS EFT\n",
      "Smoothing RHS EFT\n",
      "reserr-FAS: 414457.8125\n"
     ]
    },
    {
     "data": {
      "text/html": [
       "<pre style=\"white-space:pre;overflow-x:auto;line-height:normal;font-family:Menlo,'DejaVu Sans Mono',consolas,'Courier New',monospace\">param<span style=\"font-weight: bold\">[</span><span style=\"color: #008000; text-decoration-color: #008000\">'nsteps'</span><span style=\"font-weight: bold\">]</span>=<span style=\"color: #008080; text-decoration-color: #008080; font-weight: bold\">195</span> param<span style=\"font-weight: bold\">[</span><span style=\"color: #008000; text-decoration-color: #008000\">'aexp'</span><span style=\"font-weight: bold\">]</span>=<span style=\"color: #008080; text-decoration-color: #008080; font-weight: bold\">0.017216919568995192</span> z = <span style=\"color: #008080; text-decoration-color: #008080; font-weight: bold\">57.082399467140085</span>                                      \n",
       "</pre>\n"
      ],
      "text/plain": [
       "param\u001b[1m[\u001b[0m\u001b[32m'nsteps'\u001b[0m\u001b[1m]\u001b[0m=\u001b[1;36m195\u001b[0m param\u001b[1m[\u001b[0m\u001b[32m'aexp'\u001b[0m\u001b[1m]\u001b[0m=\u001b[1;36m0.017216919568995192\u001b[0m z = \u001b[1;36m57.082399467140085\u001b[0m                                      \n"
      ]
     },
     "metadata": {},
     "output_type": "display_data"
    },
    {
     "name": "stdout",
     "output_type": "stream",
     "text": [
      "Full solver.\n",
      "Smoothing RHS EFT\n",
      "Smoothing RHS EFT\n",
      "Smoothing RHS EFT\n",
      "Smoothing RHS EFT\n",
      "Smoothing RHS EFT\n",
      "Smoothing RHS EFT\n",
      "Smoothing RHS EFT\n",
      "Smoothing RHS EFT\n",
      "Smoothing RHS EFT\n",
      "Smoothing RHS EFT\n",
      "Smoothing RHS EFT\n",
      "Smoothing RHS EFT\n",
      "Smoothing RHS EFT\n",
      "Smoothing RHS EFT\n",
      "Smoothing RHS EFT\n",
      "Smoothing RHS EFT\n",
      "Smoothing RHS EFT\n",
      "Smoothing RHS EFT\n",
      "Smoothing RHS EFT\n",
      "Smoothing RHS EFT\n",
      "Smoothing RHS EFT\n",
      "Smoothing RHS EFT\n",
      "Smoothing RHS EFT\n",
      "Smoothing RHS EFT\n",
      "Smoothing RHS EFT\n",
      "Smoothing RHS EFT\n",
      "reserr-FAS: 412042.5\n"
     ]
    },
    {
     "data": {
      "text/html": [
       "<pre style=\"white-space:pre;overflow-x:auto;line-height:normal;font-family:Menlo,'DejaVu Sans Mono',consolas,'Courier New',monospace\">param<span style=\"font-weight: bold\">[</span><span style=\"color: #008000; text-decoration-color: #008000\">'nsteps'</span><span style=\"font-weight: bold\">]</span>=<span style=\"color: #008080; text-decoration-color: #008080; font-weight: bold\">196</span> param<span style=\"font-weight: bold\">[</span><span style=\"color: #008000; text-decoration-color: #008000\">'aexp'</span><span style=\"font-weight: bold\">]</span>=<span style=\"color: #008080; text-decoration-color: #008080; font-weight: bold\">0.01721862150919451</span> z = <span style=\"color: #008080; text-decoration-color: #008080; font-weight: bold\">57.07665842855153</span>                                        \n",
       "</pre>\n"
      ],
      "text/plain": [
       "param\u001b[1m[\u001b[0m\u001b[32m'nsteps'\u001b[0m\u001b[1m]\u001b[0m=\u001b[1;36m196\u001b[0m param\u001b[1m[\u001b[0m\u001b[32m'aexp'\u001b[0m\u001b[1m]\u001b[0m=\u001b[1;36m0.01721862150919451\u001b[0m z = \u001b[1;36m57.07665842855153\u001b[0m                                        \n"
      ]
     },
     "metadata": {},
     "output_type": "display_data"
    },
    {
     "name": "stdout",
     "output_type": "stream",
     "text": [
      "Full solver.\n",
      "Smoothing RHS EFT\n",
      "Smoothing RHS EFT\n",
      "Smoothing RHS EFT\n",
      "Smoothing RHS EFT\n",
      "Smoothing RHS EFT\n",
      "Smoothing RHS EFT\n",
      "Smoothing RHS EFT\n",
      "Smoothing RHS EFT\n",
      "Smoothing RHS EFT\n",
      "Smoothing RHS EFT\n",
      "Smoothing RHS EFT\n",
      "Smoothing RHS EFT\n",
      "Smoothing RHS EFT\n",
      "Smoothing RHS EFT\n",
      "Smoothing RHS EFT\n",
      "Smoothing RHS EFT\n",
      "Smoothing RHS EFT\n",
      "Smoothing RHS EFT\n",
      "Smoothing RHS EFT\n",
      "Smoothing RHS EFT\n",
      "Smoothing RHS EFT\n",
      "Smoothing RHS EFT\n",
      "Smoothing RHS EFT\n",
      "Smoothing RHS EFT\n",
      "Smoothing RHS EFT\n",
      "Smoothing RHS EFT\n",
      "reserr-FAS: 409727.65625\n"
     ]
    },
    {
     "data": {
      "text/html": [
       "<pre style=\"white-space:pre;overflow-x:auto;line-height:normal;font-family:Menlo,'DejaVu Sans Mono',consolas,'Courier New',monospace\">param<span style=\"font-weight: bold\">[</span><span style=\"color: #008000; text-decoration-color: #008000\">'nsteps'</span><span style=\"font-weight: bold\">]</span>=<span style=\"color: #008080; text-decoration-color: #008080; font-weight: bold\">197</span> param<span style=\"font-weight: bold\">[</span><span style=\"color: #008000; text-decoration-color: #008000\">'aexp'</span><span style=\"font-weight: bold\">]</span>=<span style=\"color: #008080; text-decoration-color: #008080; font-weight: bold\">0.01722031012137362</span> z = <span style=\"color: #008080; text-decoration-color: #008080; font-weight: bold\">57.07096346997917</span>                                        \n",
       "</pre>\n"
      ],
      "text/plain": [
       "param\u001b[1m[\u001b[0m\u001b[32m'nsteps'\u001b[0m\u001b[1m]\u001b[0m=\u001b[1;36m197\u001b[0m param\u001b[1m[\u001b[0m\u001b[32m'aexp'\u001b[0m\u001b[1m]\u001b[0m=\u001b[1;36m0.01722031012137362\u001b[0m z = \u001b[1;36m57.07096346997917\u001b[0m                                        \n"
      ]
     },
     "metadata": {},
     "output_type": "display_data"
    },
    {
     "name": "stdout",
     "output_type": "stream",
     "text": [
      "Full solver.\n",
      "Smoothing RHS EFT\n",
      "Smoothing RHS EFT\n",
      "Smoothing RHS EFT\n",
      "Smoothing RHS EFT\n",
      "Smoothing RHS EFT\n",
      "Smoothing RHS EFT\n",
      "Smoothing RHS EFT\n",
      "Smoothing RHS EFT\n",
      "Smoothing RHS EFT\n",
      "Smoothing RHS EFT\n",
      "Smoothing RHS EFT\n",
      "Smoothing RHS EFT\n",
      "Smoothing RHS EFT\n",
      "Smoothing RHS EFT\n",
      "Smoothing RHS EFT\n",
      "Smoothing RHS EFT\n",
      "Smoothing RHS EFT\n",
      "Smoothing RHS EFT\n",
      "Smoothing RHS EFT\n",
      "Smoothing RHS EFT\n",
      "Smoothing RHS EFT\n",
      "Smoothing RHS EFT\n",
      "Smoothing RHS EFT\n",
      "Smoothing RHS EFT\n",
      "Smoothing RHS EFT\n",
      "Smoothing RHS EFT\n",
      "reserr-FAS: 407510.09375\n"
     ]
    },
    {
     "data": {
      "text/html": [
       "<pre style=\"white-space:pre;overflow-x:auto;line-height:normal;font-family:Menlo,'DejaVu Sans Mono',consolas,'Courier New',monospace\">param<span style=\"font-weight: bold\">[</span><span style=\"color: #008000; text-decoration-color: #008000\">'nsteps'</span><span style=\"font-weight: bold\">]</span>=<span style=\"color: #008080; text-decoration-color: #008080; font-weight: bold\">198</span> param<span style=\"font-weight: bold\">[</span><span style=\"color: #008000; text-decoration-color: #008000\">'aexp'</span><span style=\"font-weight: bold\">]</span>=<span style=\"color: #008080; text-decoration-color: #008080; font-weight: bold\">0.01722198542031907</span> z = <span style=\"color: #008080; text-decoration-color: #008080; font-weight: bold\">57.06531451479263</span>                                        \n",
       "</pre>\n"
      ],
      "text/plain": [
       "param\u001b[1m[\u001b[0m\u001b[32m'nsteps'\u001b[0m\u001b[1m]\u001b[0m=\u001b[1;36m198\u001b[0m param\u001b[1m[\u001b[0m\u001b[32m'aexp'\u001b[0m\u001b[1m]\u001b[0m=\u001b[1;36m0.01722198542031907\u001b[0m z = \u001b[1;36m57.06531451479263\u001b[0m                                        \n"
      ]
     },
     "metadata": {},
     "output_type": "display_data"
    },
    {
     "name": "stdout",
     "output_type": "stream",
     "text": [
      "Full solver.\n",
      "Smoothing RHS EFT\n",
      "Smoothing RHS EFT\n",
      "Smoothing RHS EFT\n",
      "Smoothing RHS EFT\n",
      "Smoothing RHS EFT\n",
      "Smoothing RHS EFT\n",
      "Smoothing RHS EFT\n",
      "Smoothing RHS EFT\n",
      "Smoothing RHS EFT\n",
      "Smoothing RHS EFT\n",
      "Smoothing RHS EFT\n",
      "Smoothing RHS EFT\n",
      "Smoothing RHS EFT\n",
      "Smoothing RHS EFT\n",
      "Smoothing RHS EFT\n",
      "Smoothing RHS EFT\n",
      "Smoothing RHS EFT\n",
      "Smoothing RHS EFT\n",
      "Smoothing RHS EFT\n",
      "Smoothing RHS EFT\n",
      "Smoothing RHS EFT\n",
      "Smoothing RHS EFT\n",
      "Smoothing RHS EFT\n",
      "Smoothing RHS EFT\n",
      "Smoothing RHS EFT\n",
      "Smoothing RHS EFT\n",
      "reserr-FAS: 405366.625\n"
     ]
    },
    {
     "data": {
      "text/html": [
       "<pre style=\"white-space:pre;overflow-x:auto;line-height:normal;font-family:Menlo,'DejaVu Sans Mono',consolas,'Courier New',monospace\">param<span style=\"font-weight: bold\">[</span><span style=\"color: #008000; text-decoration-color: #008000\">'nsteps'</span><span style=\"font-weight: bold\">]</span>=<span style=\"color: #008080; text-decoration-color: #008080; font-weight: bold\">199</span> param<span style=\"font-weight: bold\">[</span><span style=\"color: #008000; text-decoration-color: #008000\">'aexp'</span><span style=\"font-weight: bold\">]</span>=<span style=\"color: #008080; text-decoration-color: #008080; font-weight: bold\">0.017223648389405714</span> z = <span style=\"color: #008080; text-decoration-color: #008080; font-weight: bold\">57.05970822158104</span>                                       \n",
       "</pre>\n"
      ],
      "text/plain": [
       "param\u001b[1m[\u001b[0m\u001b[32m'nsteps'\u001b[0m\u001b[1m]\u001b[0m=\u001b[1;36m199\u001b[0m param\u001b[1m[\u001b[0m\u001b[32m'aexp'\u001b[0m\u001b[1m]\u001b[0m=\u001b[1;36m0.017223648389405714\u001b[0m z = \u001b[1;36m57.05970822158104\u001b[0m                                       \n"
      ]
     },
     "metadata": {},
     "output_type": "display_data"
    },
    {
     "name": "stdout",
     "output_type": "stream",
     "text": [
      "Full solver.\n",
      "Smoothing RHS EFT\n",
      "Smoothing RHS EFT\n",
      "Smoothing RHS EFT\n",
      "Smoothing RHS EFT\n",
      "Smoothing RHS EFT\n",
      "Smoothing RHS EFT\n",
      "Smoothing RHS EFT\n",
      "Smoothing RHS EFT\n",
      "Smoothing RHS EFT\n",
      "Smoothing RHS EFT\n",
      "Smoothing RHS EFT\n",
      "Smoothing RHS EFT\n",
      "Smoothing RHS EFT\n",
      "Smoothing RHS EFT\n",
      "Smoothing RHS EFT\n",
      "Smoothing RHS EFT\n",
      "Smoothing RHS EFT\n",
      "Smoothing RHS EFT\n",
      "Smoothing RHS EFT\n",
      "Smoothing RHS EFT\n",
      "Smoothing RHS EFT\n",
      "Smoothing RHS EFT\n",
      "Smoothing RHS EFT\n",
      "Smoothing RHS EFT\n",
      "Smoothing RHS EFT\n",
      "Smoothing RHS EFT\n",
      "reserr-FAS: 403342.84375\n"
     ]
    },
    {
     "data": {
      "text/html": [
       "<pre style=\"white-space:pre;overflow-x:auto;line-height:normal;font-family:Menlo,'DejaVu Sans Mono',consolas,'Courier New',monospace\">param<span style=\"font-weight: bold\">[</span><span style=\"color: #008000; text-decoration-color: #008000\">'nsteps'</span><span style=\"font-weight: bold\">]</span>=<span style=\"color: #008080; text-decoration-color: #008080; font-weight: bold\">200</span> param<span style=\"font-weight: bold\">[</span><span style=\"color: #008000; text-decoration-color: #008000\">'aexp'</span><span style=\"font-weight: bold\">]</span>=<span style=\"color: #008080; text-decoration-color: #008080; font-weight: bold\">0.01722530221478644</span> z = <span style=\"color: #008080; text-decoration-color: #008080; font-weight: bold\">57.054133827712235</span>                                       \n",
       "</pre>\n"
      ],
      "text/plain": [
       "param\u001b[1m[\u001b[0m\u001b[32m'nsteps'\u001b[0m\u001b[1m]\u001b[0m=\u001b[1;36m200\u001b[0m param\u001b[1m[\u001b[0m\u001b[32m'aexp'\u001b[0m\u001b[1m]\u001b[0m=\u001b[1;36m0.01722530221478644\u001b[0m z = \u001b[1;36m57.054133827712235\u001b[0m                                       \n"
      ]
     },
     "metadata": {},
     "output_type": "display_data"
    },
    {
     "name": "stdout",
     "output_type": "stream",
     "text": [
      "Full solver.\n",
      "Smoothing RHS EFT\n",
      "Smoothing RHS EFT\n",
      "Smoothing RHS EFT\n",
      "Smoothing RHS EFT\n",
      "Smoothing RHS EFT\n",
      "Smoothing RHS EFT\n",
      "Smoothing RHS EFT\n",
      "Smoothing RHS EFT\n",
      "Smoothing RHS EFT\n",
      "Smoothing RHS EFT\n",
      "Smoothing RHS EFT\n",
      "Smoothing RHS EFT\n",
      "Smoothing RHS EFT\n",
      "Smoothing RHS EFT\n",
      "Smoothing RHS EFT\n",
      "Smoothing RHS EFT\n",
      "Smoothing RHS EFT\n",
      "Smoothing RHS EFT\n",
      "Smoothing RHS EFT\n",
      "Smoothing RHS EFT\n",
      "Smoothing RHS EFT\n",
      "Smoothing RHS EFT\n",
      "Smoothing RHS EFT\n",
      "Smoothing RHS EFT\n",
      "Smoothing RHS EFT\n",
      "Smoothing RHS EFT\n",
      "reserr-FAS: 401379.5625\n"
     ]
    },
    {
     "data": {
      "text/html": [
       "<pre style=\"white-space:pre;overflow-x:auto;line-height:normal;font-family:Menlo,'DejaVu Sans Mono',consolas,'Courier New',monospace\">param<span style=\"font-weight: bold\">[</span><span style=\"color: #008000; text-decoration-color: #008000\">'nsteps'</span><span style=\"font-weight: bold\">]</span>=<span style=\"color: #008080; text-decoration-color: #008080; font-weight: bold\">201</span> param<span style=\"font-weight: bold\">[</span><span style=\"color: #008000; text-decoration-color: #008000\">'aexp'</span><span style=\"font-weight: bold\">]</span>=<span style=\"color: #008080; text-decoration-color: #008080; font-weight: bold\">0.017226949916972826</span> z = <span style=\"color: #008080; text-decoration-color: #008080; font-weight: bold\">57.04858113709099</span>                                       \n",
       "</pre>\n"
      ],
      "text/plain": [
       "param\u001b[1m[\u001b[0m\u001b[32m'nsteps'\u001b[0m\u001b[1m]\u001b[0m=\u001b[1;36m201\u001b[0m param\u001b[1m[\u001b[0m\u001b[32m'aexp'\u001b[0m\u001b[1m]\u001b[0m=\u001b[1;36m0.017226949916972826\u001b[0m z = \u001b[1;36m57.04858113709099\u001b[0m                                       \n"
      ]
     },
     "metadata": {},
     "output_type": "display_data"
    },
    {
     "name": "stdout",
     "output_type": "stream",
     "text": [
      "Full solver.\n",
      "Smoothing RHS EFT\n",
      "Smoothing RHS EFT\n",
      "Smoothing RHS EFT\n",
      "Smoothing RHS EFT\n",
      "Smoothing RHS EFT\n",
      "Smoothing RHS EFT\n",
      "Smoothing RHS EFT\n",
      "Smoothing RHS EFT\n",
      "Smoothing RHS EFT\n",
      "Smoothing RHS EFT\n",
      "Smoothing RHS EFT\n",
      "Smoothing RHS EFT\n",
      "Smoothing RHS EFT\n",
      "Smoothing RHS EFT\n",
      "Smoothing RHS EFT\n",
      "Smoothing RHS EFT\n",
      "Smoothing RHS EFT\n",
      "Smoothing RHS EFT\n",
      "Smoothing RHS EFT\n",
      "Smoothing RHS EFT\n",
      "Smoothing RHS EFT\n",
      "Smoothing RHS EFT\n",
      "Smoothing RHS EFT\n",
      "Smoothing RHS EFT\n",
      "Smoothing RHS EFT\n",
      "Smoothing RHS EFT\n",
      "reserr-FAS: 399487.25\n"
     ]
    },
    {
     "data": {
      "text/html": [
       "<pre style=\"white-space:pre;overflow-x:auto;line-height:normal;font-family:Menlo,'DejaVu Sans Mono',consolas,'Courier New',monospace\">param<span style=\"font-weight: bold\">[</span><span style=\"color: #008000; text-decoration-color: #008000\">'nsteps'</span><span style=\"font-weight: bold\">]</span>=<span style=\"color: #008080; text-decoration-color: #008080; font-weight: bold\">202</span> param<span style=\"font-weight: bold\">[</span><span style=\"color: #008000; text-decoration-color: #008000\">'aexp'</span><span style=\"font-weight: bold\">]</span>=<span style=\"color: #008080; text-decoration-color: #008080; font-weight: bold\">0.0172285943657138</span> z = <span style=\"color: #008080; text-decoration-color: #008080; font-weight: bold\">57.043040469399834</span>                                        \n",
       "</pre>\n"
      ],
      "text/plain": [
       "param\u001b[1m[\u001b[0m\u001b[32m'nsteps'\u001b[0m\u001b[1m]\u001b[0m=\u001b[1;36m202\u001b[0m param\u001b[1m[\u001b[0m\u001b[32m'aexp'\u001b[0m\u001b[1m]\u001b[0m=\u001b[1;36m0.0172285943657138\u001b[0m z = \u001b[1;36m57.043040469399834\u001b[0m                                        \n"
      ]
     },
     "metadata": {},
     "output_type": "display_data"
    },
    {
     "name": "stdout",
     "output_type": "stream",
     "text": [
      "Full solver.\n",
      "Smoothing RHS EFT\n",
      "Smoothing RHS EFT\n",
      "Smoothing RHS EFT\n",
      "Smoothing RHS EFT\n",
      "Smoothing RHS EFT\n",
      "Smoothing RHS EFT\n",
      "Smoothing RHS EFT\n",
      "Smoothing RHS EFT\n",
      "Smoothing RHS EFT\n",
      "Smoothing RHS EFT\n",
      "Smoothing RHS EFT\n",
      "Smoothing RHS EFT\n",
      "Smoothing RHS EFT\n",
      "Smoothing RHS EFT\n",
      "Smoothing RHS EFT\n",
      "Smoothing RHS EFT\n",
      "Smoothing RHS EFT\n",
      "Smoothing RHS EFT\n",
      "Smoothing RHS EFT\n",
      "Smoothing RHS EFT\n",
      "Smoothing RHS EFT\n",
      "Smoothing RHS EFT\n",
      "Smoothing RHS EFT\n",
      "Smoothing RHS EFT\n",
      "Smoothing RHS EFT\n",
      "Smoothing RHS EFT\n",
      "reserr-FAS: 397659.40625\n"
     ]
    },
    {
     "data": {
      "text/html": [
       "<pre style=\"white-space:pre;overflow-x:auto;line-height:normal;font-family:Menlo,'DejaVu Sans Mono',consolas,'Courier New',monospace\">param<span style=\"font-weight: bold\">[</span><span style=\"color: #008000; text-decoration-color: #008000\">'nsteps'</span><span style=\"font-weight: bold\">]</span>=<span style=\"color: #008080; text-decoration-color: #008080; font-weight: bold\">203</span> param<span style=\"font-weight: bold\">[</span><span style=\"color: #008000; text-decoration-color: #008000\">'aexp'</span><span style=\"font-weight: bold\">]</span>=<span style=\"color: #008080; text-decoration-color: #008080; font-weight: bold\">0.017230238289145373</span> z = <span style=\"color: #008080; text-decoration-color: #008080; font-weight: bold\">57.03750262873471</span>                                       \n",
       "</pre>\n"
      ],
      "text/plain": [
       "param\u001b[1m[\u001b[0m\u001b[32m'nsteps'\u001b[0m\u001b[1m]\u001b[0m=\u001b[1;36m203\u001b[0m param\u001b[1m[\u001b[0m\u001b[32m'aexp'\u001b[0m\u001b[1m]\u001b[0m=\u001b[1;36m0.017230238289145373\u001b[0m z = \u001b[1;36m57.03750262873471\u001b[0m                                       \n"
      ]
     },
     "metadata": {},
     "output_type": "display_data"
    },
    {
     "name": "stdout",
     "output_type": "stream",
     "text": [
      "Full solver.\n",
      "Smoothing RHS EFT\n",
      "Smoothing RHS EFT\n",
      "Smoothing RHS EFT\n",
      "Smoothing RHS EFT\n",
      "Smoothing RHS EFT\n",
      "Smoothing RHS EFT\n",
      "Smoothing RHS EFT\n",
      "Smoothing RHS EFT\n",
      "Smoothing RHS EFT\n",
      "Smoothing RHS EFT\n",
      "Smoothing RHS EFT\n",
      "Smoothing RHS EFT\n",
      "Smoothing RHS EFT\n",
      "Smoothing RHS EFT\n",
      "Smoothing RHS EFT\n",
      "Smoothing RHS EFT\n",
      "Smoothing RHS EFT\n",
      "Smoothing RHS EFT\n",
      "Smoothing RHS EFT\n",
      "Smoothing RHS EFT\n",
      "Smoothing RHS EFT\n",
      "Smoothing RHS EFT\n",
      "Smoothing RHS EFT\n",
      "Smoothing RHS EFT\n",
      "Smoothing RHS EFT\n",
      "Smoothing RHS EFT\n",
      "reserr-FAS: 395873.09375\n"
     ]
    },
    {
     "data": {
      "text/html": [
       "<pre style=\"white-space:pre;overflow-x:auto;line-height:normal;font-family:Menlo,'DejaVu Sans Mono',consolas,'Courier New',monospace\">param<span style=\"font-weight: bold\">[</span><span style=\"color: #008000; text-decoration-color: #008000\">'nsteps'</span><span style=\"font-weight: bold\">]</span>=<span style=\"color: #008080; text-decoration-color: #008080; font-weight: bold\">204</span> param<span style=\"font-weight: bold\">[</span><span style=\"color: #008000; text-decoration-color: #008000\">'aexp'</span><span style=\"font-weight: bold\">]</span>=<span style=\"color: #008080; text-decoration-color: #008080; font-weight: bold\">0.017231884284975015</span> z = <span style=\"color: #008080; text-decoration-color: #008080; font-weight: bold\">57.031958865457874</span>                                      \n",
       "</pre>\n"
      ],
      "text/plain": [
       "param\u001b[1m[\u001b[0m\u001b[32m'nsteps'\u001b[0m\u001b[1m]\u001b[0m=\u001b[1;36m204\u001b[0m param\u001b[1m[\u001b[0m\u001b[32m'aexp'\u001b[0m\u001b[1m]\u001b[0m=\u001b[1;36m0.017231884284975015\u001b[0m z = \u001b[1;36m57.031958865457874\u001b[0m                                      \n"
      ]
     },
     "metadata": {},
     "output_type": "display_data"
    },
    {
     "name": "stdout",
     "output_type": "stream",
     "text": [
      "Full solver.\n",
      "Smoothing RHS EFT\n",
      "Smoothing RHS EFT\n",
      "Smoothing RHS EFT\n",
      "Smoothing RHS EFT\n",
      "Smoothing RHS EFT\n",
      "Smoothing RHS EFT\n",
      "Smoothing RHS EFT\n",
      "Smoothing RHS EFT\n",
      "Smoothing RHS EFT\n",
      "Smoothing RHS EFT\n",
      "Smoothing RHS EFT\n",
      "Smoothing RHS EFT\n",
      "Smoothing RHS EFT\n",
      "Smoothing RHS EFT\n",
      "Smoothing RHS EFT\n",
      "Smoothing RHS EFT\n",
      "Smoothing RHS EFT\n",
      "Smoothing RHS EFT\n",
      "Smoothing RHS EFT\n",
      "Smoothing RHS EFT\n",
      "Smoothing RHS EFT\n",
      "Smoothing RHS EFT\n",
      "Smoothing RHS EFT\n",
      "Smoothing RHS EFT\n",
      "Smoothing RHS EFT\n",
      "Smoothing RHS EFT\n",
      "reserr-FAS: 394175.625\n"
     ]
    },
    {
     "data": {
      "text/html": [
       "<pre style=\"white-space:pre;overflow-x:auto;line-height:normal;font-family:Menlo,'DejaVu Sans Mono',consolas,'Courier New',monospace\">param<span style=\"font-weight: bold\">[</span><span style=\"color: #008000; text-decoration-color: #008000\">'nsteps'</span><span style=\"font-weight: bold\">]</span>=<span style=\"color: #008080; text-decoration-color: #008080; font-weight: bold\">205</span> param<span style=\"font-weight: bold\">[</span><span style=\"color: #008000; text-decoration-color: #008000\">'aexp'</span><span style=\"font-weight: bold\">]</span>=<span style=\"color: #008080; text-decoration-color: #008080; font-weight: bold\">0.017233534829764415</span> z = <span style=\"color: #008080; text-decoration-color: #008080; font-weight: bold\">57.02640084452541</span>                                       \n",
       "</pre>\n"
      ],
      "text/plain": [
       "param\u001b[1m[\u001b[0m\u001b[32m'nsteps'\u001b[0m\u001b[1m]\u001b[0m=\u001b[1;36m205\u001b[0m param\u001b[1m[\u001b[0m\u001b[32m'aexp'\u001b[0m\u001b[1m]\u001b[0m=\u001b[1;36m0.017233534829764415\u001b[0m z = \u001b[1;36m57.02640084452541\u001b[0m                                       \n"
      ]
     },
     "metadata": {},
     "output_type": "display_data"
    },
    {
     "name": "stdout",
     "output_type": "stream",
     "text": [
      "Full solver.\n",
      "Smoothing RHS EFT\n",
      "Smoothing RHS EFT\n",
      "Smoothing RHS EFT\n",
      "Smoothing RHS EFT\n",
      "Smoothing RHS EFT\n",
      "Smoothing RHS EFT\n",
      "Smoothing RHS EFT\n",
      "Smoothing RHS EFT\n",
      "Smoothing RHS EFT\n",
      "Smoothing RHS EFT\n",
      "Smoothing RHS EFT\n",
      "Smoothing RHS EFT\n",
      "Smoothing RHS EFT\n",
      "Smoothing RHS EFT\n",
      "Smoothing RHS EFT\n",
      "Smoothing RHS EFT\n",
      "Smoothing RHS EFT\n",
      "Smoothing RHS EFT\n",
      "Smoothing RHS EFT\n",
      "Smoothing RHS EFT\n",
      "Smoothing RHS EFT\n",
      "Smoothing RHS EFT\n",
      "Smoothing RHS EFT\n",
      "Smoothing RHS EFT\n",
      "Smoothing RHS EFT\n",
      "Smoothing RHS EFT\n",
      "reserr-FAS: 392509.03125\n"
     ]
    },
    {
     "data": {
      "text/html": [
       "<pre style=\"white-space:pre;overflow-x:auto;line-height:normal;font-family:Menlo,'DejaVu Sans Mono',consolas,'Courier New',monospace\">param<span style=\"font-weight: bold\">[</span><span style=\"color: #008000; text-decoration-color: #008000\">'nsteps'</span><span style=\"font-weight: bold\">]</span>=<span style=\"color: #008080; text-decoration-color: #008080; font-weight: bold\">206</span> param<span style=\"font-weight: bold\">[</span><span style=\"color: #008000; text-decoration-color: #008000\">'aexp'</span><span style=\"font-weight: bold\">]</span>=<span style=\"color: #008080; text-decoration-color: #008080; font-weight: bold\">0.0172351922554104</span> z = <span style=\"color: #008080; text-decoration-color: #008080; font-weight: bold\">57.020820724299384</span>                                        \n",
       "</pre>\n"
      ],
      "text/plain": [
       "param\u001b[1m[\u001b[0m\u001b[32m'nsteps'\u001b[0m\u001b[1m]\u001b[0m=\u001b[1;36m206\u001b[0m param\u001b[1m[\u001b[0m\u001b[32m'aexp'\u001b[0m\u001b[1m]\u001b[0m=\u001b[1;36m0.0172351922554104\u001b[0m z = \u001b[1;36m57.020820724299384\u001b[0m                                        \n"
      ]
     },
     "metadata": {},
     "output_type": "display_data"
    },
    {
     "name": "stdout",
     "output_type": "stream",
     "text": [
      "Full solver.\n",
      "Smoothing RHS EFT\n",
      "Smoothing RHS EFT\n",
      "Smoothing RHS EFT\n",
      "Smoothing RHS EFT\n",
      "Smoothing RHS EFT\n",
      "Smoothing RHS EFT\n",
      "Smoothing RHS EFT\n",
      "Smoothing RHS EFT\n",
      "Smoothing RHS EFT\n",
      "Smoothing RHS EFT\n",
      "Smoothing RHS EFT\n",
      "Smoothing RHS EFT\n",
      "Smoothing RHS EFT\n",
      "Smoothing RHS EFT\n",
      "Smoothing RHS EFT\n",
      "Smoothing RHS EFT\n",
      "Smoothing RHS EFT\n",
      "Smoothing RHS EFT\n",
      "Smoothing RHS EFT\n",
      "Smoothing RHS EFT\n",
      "Smoothing RHS EFT\n",
      "Smoothing RHS EFT\n",
      "Smoothing RHS EFT\n",
      "Smoothing RHS EFT\n",
      "Smoothing RHS EFT\n",
      "Smoothing RHS EFT\n",
      "reserr-FAS: 390887.5\n"
     ]
    },
    {
     "data": {
      "text/html": [
       "<pre style=\"white-space:pre;overflow-x:auto;line-height:normal;font-family:Menlo,'DejaVu Sans Mono',consolas,'Courier New',monospace\">param<span style=\"font-weight: bold\">[</span><span style=\"color: #008000; text-decoration-color: #008000\">'nsteps'</span><span style=\"font-weight: bold\">]</span>=<span style=\"color: #008080; text-decoration-color: #008080; font-weight: bold\">207</span> param<span style=\"font-weight: bold\">[</span><span style=\"color: #008000; text-decoration-color: #008000\">'aexp'</span><span style=\"font-weight: bold\">]</span>=<span style=\"color: #008080; text-decoration-color: #008080; font-weight: bold\">0.017236858746027657</span> z = <span style=\"color: #008080; text-decoration-color: #008080; font-weight: bold\">57.01521116662027</span>                                       \n",
       "</pre>\n"
      ],
      "text/plain": [
       "param\u001b[1m[\u001b[0m\u001b[32m'nsteps'\u001b[0m\u001b[1m]\u001b[0m=\u001b[1;36m207\u001b[0m param\u001b[1m[\u001b[0m\u001b[32m'aexp'\u001b[0m\u001b[1m]\u001b[0m=\u001b[1;36m0.017236858746027657\u001b[0m z = \u001b[1;36m57.01521116662027\u001b[0m                                       \n"
      ]
     },
     "metadata": {},
     "output_type": "display_data"
    },
    {
     "name": "stdout",
     "output_type": "stream",
     "text": [
      "Full solver.\n",
      "Smoothing RHS EFT\n",
      "Smoothing RHS EFT\n",
      "Smoothing RHS EFT\n",
      "Smoothing RHS EFT\n",
      "Smoothing RHS EFT\n",
      "Smoothing RHS EFT\n",
      "Smoothing RHS EFT\n",
      "Smoothing RHS EFT\n",
      "Smoothing RHS EFT\n",
      "Smoothing RHS EFT\n",
      "Smoothing RHS EFT\n",
      "Smoothing RHS EFT\n",
      "Smoothing RHS EFT\n",
      "Smoothing RHS EFT\n",
      "Smoothing RHS EFT\n",
      "Smoothing RHS EFT\n",
      "Smoothing RHS EFT\n",
      "Smoothing RHS EFT\n",
      "Smoothing RHS EFT\n",
      "Smoothing RHS EFT\n",
      "Smoothing RHS EFT\n",
      "Smoothing RHS EFT\n",
      "Smoothing RHS EFT\n",
      "Smoothing RHS EFT\n",
      "Smoothing RHS EFT\n",
      "Smoothing RHS EFT\n",
      "reserr-FAS: 389307.0\n"
     ]
    },
    {
     "data": {
      "text/html": [
       "<pre style=\"white-space:pre;overflow-x:auto;line-height:normal;font-family:Menlo,'DejaVu Sans Mono',consolas,'Courier New',monospace\">param<span style=\"font-weight: bold\">[</span><span style=\"color: #008000; text-decoration-color: #008000\">'nsteps'</span><span style=\"font-weight: bold\">]</span>=<span style=\"color: #008080; text-decoration-color: #008080; font-weight: bold\">208</span> param<span style=\"font-weight: bold\">[</span><span style=\"color: #008000; text-decoration-color: #008000\">'aexp'</span><span style=\"font-weight: bold\">]</span>=<span style=\"color: #008080; text-decoration-color: #008080; font-weight: bold\">0.017238536349103793</span> z = <span style=\"color: #008080; text-decoration-color: #008080; font-weight: bold\">57.00956529885372</span>                                       \n",
       "</pre>\n"
      ],
      "text/plain": [
       "param\u001b[1m[\u001b[0m\u001b[32m'nsteps'\u001b[0m\u001b[1m]\u001b[0m=\u001b[1;36m208\u001b[0m param\u001b[1m[\u001b[0m\u001b[32m'aexp'\u001b[0m\u001b[1m]\u001b[0m=\u001b[1;36m0.017238536349103793\u001b[0m z = \u001b[1;36m57.00956529885372\u001b[0m                                       \n"
      ]
     },
     "metadata": {},
     "output_type": "display_data"
    },
    {
     "name": "stdout",
     "output_type": "stream",
     "text": [
      "Full solver.\n",
      "Smoothing RHS EFT\n",
      "Smoothing RHS EFT\n",
      "Smoothing RHS EFT\n",
      "Smoothing RHS EFT\n",
      "Smoothing RHS EFT\n",
      "Smoothing RHS EFT\n",
      "Smoothing RHS EFT\n",
      "Smoothing RHS EFT\n",
      "Smoothing RHS EFT\n",
      "Smoothing RHS EFT\n",
      "Smoothing RHS EFT\n",
      "Smoothing RHS EFT\n",
      "Smoothing RHS EFT\n",
      "Smoothing RHS EFT\n",
      "Smoothing RHS EFT\n",
      "Smoothing RHS EFT\n",
      "Smoothing RHS EFT\n",
      "Smoothing RHS EFT\n",
      "Smoothing RHS EFT\n",
      "Smoothing RHS EFT\n",
      "Smoothing RHS EFT\n",
      "Smoothing RHS EFT\n",
      "Smoothing RHS EFT\n",
      "Smoothing RHS EFT\n",
      "Smoothing RHS EFT\n",
      "Smoothing RHS EFT\n",
      "reserr-FAS: 387747.0\n"
     ]
    },
    {
     "data": {
      "text/html": [
       "<pre style=\"white-space:pre;overflow-x:auto;line-height:normal;font-family:Menlo,'DejaVu Sans Mono',consolas,'Courier New',monospace\">param<span style=\"font-weight: bold\">[</span><span style=\"color: #008000; text-decoration-color: #008000\">'nsteps'</span><span style=\"font-weight: bold\">]</span>=<span style=\"color: #008080; text-decoration-color: #008080; font-weight: bold\">209</span> param<span style=\"font-weight: bold\">[</span><span style=\"color: #008000; text-decoration-color: #008000\">'aexp'</span><span style=\"font-weight: bold\">]</span>=<span style=\"color: #008080; text-decoration-color: #008080; font-weight: bold\">0.01724022701321167</span> z = <span style=\"color: #008080; text-decoration-color: #008080; font-weight: bold\">57.00387658664076</span>                                        \n",
       "</pre>\n"
      ],
      "text/plain": [
       "param\u001b[1m[\u001b[0m\u001b[32m'nsteps'\u001b[0m\u001b[1m]\u001b[0m=\u001b[1;36m209\u001b[0m param\u001b[1m[\u001b[0m\u001b[32m'aexp'\u001b[0m\u001b[1m]\u001b[0m=\u001b[1;36m0.01724022701321167\u001b[0m z = \u001b[1;36m57.00387658664076\u001b[0m                                        \n"
      ]
     },
     "metadata": {},
     "output_type": "display_data"
    },
    {
     "name": "stdout",
     "output_type": "stream",
     "text": [
      "Full solver.\n",
      "Smoothing RHS EFT\n",
      "Smoothing RHS EFT\n",
      "Smoothing RHS EFT\n",
      "Smoothing RHS EFT\n",
      "Smoothing RHS EFT\n",
      "Smoothing RHS EFT\n",
      "Smoothing RHS EFT\n",
      "Smoothing RHS EFT\n",
      "Smoothing RHS EFT\n",
      "Smoothing RHS EFT\n",
      "Smoothing RHS EFT\n",
      "Smoothing RHS EFT\n",
      "Smoothing RHS EFT\n",
      "Smoothing RHS EFT\n",
      "Smoothing RHS EFT\n",
      "Smoothing RHS EFT\n",
      "Smoothing RHS EFT\n",
      "Smoothing RHS EFT\n",
      "Smoothing RHS EFT\n",
      "Smoothing RHS EFT\n",
      "Smoothing RHS EFT\n",
      "Smoothing RHS EFT\n",
      "Smoothing RHS EFT\n",
      "Smoothing RHS EFT\n",
      "Smoothing RHS EFT\n",
      "Smoothing RHS EFT\n",
      "reserr-FAS: 386236.6875\n"
     ]
    },
    {
     "data": {
      "text/html": [
       "<pre style=\"white-space:pre;overflow-x:auto;line-height:normal;font-family:Menlo,'DejaVu Sans Mono',consolas,'Courier New',monospace\">param<span style=\"font-weight: bold\">[</span><span style=\"color: #008000; text-decoration-color: #008000\">'nsteps'</span><span style=\"font-weight: bold\">]</span>=<span style=\"color: #008080; text-decoration-color: #008080; font-weight: bold\">210</span> param<span style=\"font-weight: bold\">[</span><span style=\"color: #008000; text-decoration-color: #008000\">'aexp'</span><span style=\"font-weight: bold\">]</span>=<span style=\"color: #008080; text-decoration-color: #008080; font-weight: bold\">0.017241932606685936</span> z = <span style=\"color: #008080; text-decoration-color: #008080; font-weight: bold\">56.99813877083757</span>                                       \n",
       "</pre>\n"
      ],
      "text/plain": [
       "param\u001b[1m[\u001b[0m\u001b[32m'nsteps'\u001b[0m\u001b[1m]\u001b[0m=\u001b[1;36m210\u001b[0m param\u001b[1m[\u001b[0m\u001b[32m'aexp'\u001b[0m\u001b[1m]\u001b[0m=\u001b[1;36m0.017241932606685936\u001b[0m z = \u001b[1;36m56.99813877083757\u001b[0m                                       \n"
      ]
     },
     "metadata": {},
     "output_type": "display_data"
    },
    {
     "name": "stdout",
     "output_type": "stream",
     "text": [
      "Full solver.\n",
      "Smoothing RHS EFT\n",
      "Smoothing RHS EFT\n",
      "Smoothing RHS EFT\n",
      "Smoothing RHS EFT\n",
      "Smoothing RHS EFT\n",
      "Smoothing RHS EFT\n",
      "Smoothing RHS EFT\n",
      "Smoothing RHS EFT\n",
      "Smoothing RHS EFT\n",
      "Smoothing RHS EFT\n",
      "Smoothing RHS EFT\n",
      "Smoothing RHS EFT\n",
      "Smoothing RHS EFT\n",
      "Smoothing RHS EFT\n",
      "Smoothing RHS EFT\n",
      "Smoothing RHS EFT\n",
      "Smoothing RHS EFT\n",
      "Smoothing RHS EFT\n",
      "Smoothing RHS EFT\n",
      "Smoothing RHS EFT\n",
      "Smoothing RHS EFT\n",
      "Smoothing RHS EFT\n",
      "Smoothing RHS EFT\n",
      "Smoothing RHS EFT\n",
      "Smoothing RHS EFT\n",
      "Smoothing RHS EFT\n",
      "reserr-FAS: 384772.6875\n"
     ]
    },
    {
     "data": {
      "text/html": [
       "<pre style=\"white-space:pre;overflow-x:auto;line-height:normal;font-family:Menlo,'DejaVu Sans Mono',consolas,'Courier New',monospace\">param<span style=\"font-weight: bold\">[</span><span style=\"color: #008000; text-decoration-color: #008000\">'nsteps'</span><span style=\"font-weight: bold\">]</span>=<span style=\"color: #008080; text-decoration-color: #008080; font-weight: bold\">211</span> param<span style=\"font-weight: bold\">[</span><span style=\"color: #008000; text-decoration-color: #008000\">'aexp'</span><span style=\"font-weight: bold\">]</span>=<span style=\"color: #008080; text-decoration-color: #008080; font-weight: bold\">0.017243654918425378</span> z = <span style=\"color: #008080; text-decoration-color: #008080; font-weight: bold\">56.99234586465014</span>                                       \n",
       "</pre>\n"
      ],
      "text/plain": [
       "param\u001b[1m[\u001b[0m\u001b[32m'nsteps'\u001b[0m\u001b[1m]\u001b[0m=\u001b[1;36m211\u001b[0m param\u001b[1m[\u001b[0m\u001b[32m'aexp'\u001b[0m\u001b[1m]\u001b[0m=\u001b[1;36m0.017243654918425378\u001b[0m z = \u001b[1;36m56.99234586465014\u001b[0m                                       \n"
      ]
     },
     "metadata": {},
     "output_type": "display_data"
    },
    {
     "name": "stdout",
     "output_type": "stream",
     "text": [
      "Full solver.\n",
      "Smoothing RHS EFT\n",
      "Smoothing RHS EFT\n",
      "Smoothing RHS EFT\n",
      "Smoothing RHS EFT\n",
      "Smoothing RHS EFT\n",
      "Smoothing RHS EFT\n",
      "Smoothing RHS EFT\n",
      "Smoothing RHS EFT\n",
      "Smoothing RHS EFT\n",
      "Smoothing RHS EFT\n",
      "Smoothing RHS EFT\n",
      "Smoothing RHS EFT\n",
      "Smoothing RHS EFT\n",
      "Smoothing RHS EFT\n",
      "Smoothing RHS EFT\n",
      "Smoothing RHS EFT\n",
      "Smoothing RHS EFT\n",
      "Smoothing RHS EFT\n",
      "Smoothing RHS EFT\n",
      "Smoothing RHS EFT\n",
      "Smoothing RHS EFT\n",
      "Smoothing RHS EFT\n",
      "Smoothing RHS EFT\n",
      "Smoothing RHS EFT\n",
      "Smoothing RHS EFT\n",
      "Smoothing RHS EFT\n",
      "reserr-FAS: 383321.15625\n"
     ]
    },
    {
     "data": {
      "text/html": [
       "<pre style=\"white-space:pre;overflow-x:auto;line-height:normal;font-family:Menlo,'DejaVu Sans Mono',consolas,'Courier New',monospace\">param<span style=\"font-weight: bold\">[</span><span style=\"color: #008000; text-decoration-color: #008000\">'nsteps'</span><span style=\"font-weight: bold\">]</span>=<span style=\"color: #008080; text-decoration-color: #008080; font-weight: bold\">212</span> param<span style=\"font-weight: bold\">[</span><span style=\"color: #008000; text-decoration-color: #008000\">'aexp'</span><span style=\"font-weight: bold\">]</span>=<span style=\"color: #008080; text-decoration-color: #008080; font-weight: bold\">0.017245391560044225</span> z = <span style=\"color: #008080; text-decoration-color: #008080; font-weight: bold\">56.98650593222225</span>                                       \n",
       "</pre>\n"
      ],
      "text/plain": [
       "param\u001b[1m[\u001b[0m\u001b[32m'nsteps'\u001b[0m\u001b[1m]\u001b[0m=\u001b[1;36m212\u001b[0m param\u001b[1m[\u001b[0m\u001b[32m'aexp'\u001b[0m\u001b[1m]\u001b[0m=\u001b[1;36m0.017245391560044225\u001b[0m z = \u001b[1;36m56.98650593222225\u001b[0m                                       \n"
      ]
     },
     "metadata": {},
     "output_type": "display_data"
    },
    {
     "name": "stdout",
     "output_type": "stream",
     "text": [
      "Full solver.\n",
      "Smoothing RHS EFT\n",
      "Smoothing RHS EFT\n",
      "Smoothing RHS EFT\n",
      "Smoothing RHS EFT\n",
      "Smoothing RHS EFT\n",
      "Smoothing RHS EFT\n",
      "Smoothing RHS EFT\n",
      "Smoothing RHS EFT\n",
      "Smoothing RHS EFT\n",
      "Smoothing RHS EFT\n",
      "Smoothing RHS EFT\n",
      "Smoothing RHS EFT\n",
      "Smoothing RHS EFT\n",
      "Smoothing RHS EFT\n",
      "Smoothing RHS EFT\n",
      "Smoothing RHS EFT\n",
      "Smoothing RHS EFT\n",
      "Smoothing RHS EFT\n",
      "Smoothing RHS EFT\n",
      "Smoothing RHS EFT\n",
      "Smoothing RHS EFT\n",
      "Smoothing RHS EFT\n",
      "Smoothing RHS EFT\n",
      "Smoothing RHS EFT\n",
      "Smoothing RHS EFT\n",
      "Smoothing RHS EFT\n",
      "reserr-FAS: 381903.4375\n"
     ]
    },
    {
     "data": {
      "text/html": [
       "<pre style=\"white-space:pre;overflow-x:auto;line-height:normal;font-family:Menlo,'DejaVu Sans Mono',consolas,'Courier New',monospace\">param<span style=\"font-weight: bold\">[</span><span style=\"color: #008000; text-decoration-color: #008000\">'nsteps'</span><span style=\"font-weight: bold\">]</span>=<span style=\"color: #008080; text-decoration-color: #008080; font-weight: bold\">213</span> param<span style=\"font-weight: bold\">[</span><span style=\"color: #008000; text-decoration-color: #008000\">'aexp'</span><span style=\"font-weight: bold\">]</span>=<span style=\"color: #008080; text-decoration-color: #008080; font-weight: bold\">0.017247132731883802</span> z = <span style=\"color: #008080; text-decoration-color: #008080; font-weight: bold\">56.980651946358385</span>                                      \n",
       "</pre>\n"
      ],
      "text/plain": [
       "param\u001b[1m[\u001b[0m\u001b[32m'nsteps'\u001b[0m\u001b[1m]\u001b[0m=\u001b[1;36m213\u001b[0m param\u001b[1m[\u001b[0m\u001b[32m'aexp'\u001b[0m\u001b[1m]\u001b[0m=\u001b[1;36m0.017247132731883802\u001b[0m z = \u001b[1;36m56.980651946358385\u001b[0m                                      \n"
      ]
     },
     "metadata": {},
     "output_type": "display_data"
    },
    {
     "name": "stdout",
     "output_type": "stream",
     "text": [
      "Full solver.\n",
      "Smoothing RHS EFT\n",
      "Smoothing RHS EFT\n",
      "Smoothing RHS EFT\n",
      "Smoothing RHS EFT\n",
      "Smoothing RHS EFT\n",
      "Smoothing RHS EFT\n",
      "Smoothing RHS EFT\n",
      "Smoothing RHS EFT\n",
      "Smoothing RHS EFT\n",
      "Smoothing RHS EFT\n",
      "Smoothing RHS EFT\n",
      "Smoothing RHS EFT\n",
      "Smoothing RHS EFT\n",
      "Smoothing RHS EFT\n",
      "Smoothing RHS EFT\n",
      "Smoothing RHS EFT\n",
      "Smoothing RHS EFT\n",
      "Smoothing RHS EFT\n",
      "Smoothing RHS EFT\n",
      "Smoothing RHS EFT\n",
      "Smoothing RHS EFT\n",
      "Smoothing RHS EFT\n",
      "Smoothing RHS EFT\n",
      "Smoothing RHS EFT\n",
      "Smoothing RHS EFT\n",
      "Smoothing RHS EFT\n",
      "reserr-FAS: 380516.0\n"
     ]
    },
    {
     "data": {
      "text/html": [
       "<pre style=\"white-space:pre;overflow-x:auto;line-height:normal;font-family:Menlo,'DejaVu Sans Mono',consolas,'Courier New',monospace\">param<span style=\"font-weight: bold\">[</span><span style=\"color: #008000; text-decoration-color: #008000\">'nsteps'</span><span style=\"font-weight: bold\">]</span>=<span style=\"color: #008080; text-decoration-color: #008080; font-weight: bold\">214</span> param<span style=\"font-weight: bold\">[</span><span style=\"color: #008000; text-decoration-color: #008000\">'aexp'</span><span style=\"font-weight: bold\">]</span>=<span style=\"color: #008080; text-decoration-color: #008080; font-weight: bold\">0.017248880883600416</span> z = <span style=\"color: #008080; text-decoration-color: #008080; font-weight: bold\">56.974775682448026</span>                                      \n",
       "</pre>\n"
      ],
      "text/plain": [
       "param\u001b[1m[\u001b[0m\u001b[32m'nsteps'\u001b[0m\u001b[1m]\u001b[0m=\u001b[1;36m214\u001b[0m param\u001b[1m[\u001b[0m\u001b[32m'aexp'\u001b[0m\u001b[1m]\u001b[0m=\u001b[1;36m0.017248880883600416\u001b[0m z = \u001b[1;36m56.974775682448026\u001b[0m                                      \n"
      ]
     },
     "metadata": {},
     "output_type": "display_data"
    },
    {
     "name": "stdout",
     "output_type": "stream",
     "text": [
      "Full solver.\n",
      "Smoothing RHS EFT\n",
      "Smoothing RHS EFT\n",
      "Smoothing RHS EFT\n",
      "Smoothing RHS EFT\n",
      "Smoothing RHS EFT\n",
      "Smoothing RHS EFT\n",
      "Smoothing RHS EFT\n",
      "Smoothing RHS EFT\n",
      "Smoothing RHS EFT\n",
      "Smoothing RHS EFT\n",
      "Smoothing RHS EFT\n",
      "Smoothing RHS EFT\n",
      "Smoothing RHS EFT\n",
      "Smoothing RHS EFT\n",
      "Smoothing RHS EFT\n",
      "Smoothing RHS EFT\n",
      "Smoothing RHS EFT\n",
      "Smoothing RHS EFT\n",
      "Smoothing RHS EFT\n",
      "Smoothing RHS EFT\n",
      "Smoothing RHS EFT\n",
      "Smoothing RHS EFT\n",
      "Smoothing RHS EFT\n",
      "Smoothing RHS EFT\n",
      "Smoothing RHS EFT\n",
      "Smoothing RHS EFT\n",
      "reserr-FAS: 379155.125\n"
     ]
    },
    {
     "data": {
      "text/html": [
       "<pre style=\"white-space:pre;overflow-x:auto;line-height:normal;font-family:Menlo,'DejaVu Sans Mono',consolas,'Courier New',monospace\">param<span style=\"font-weight: bold\">[</span><span style=\"color: #008000; text-decoration-color: #008000\">'nsteps'</span><span style=\"font-weight: bold\">]</span>=<span style=\"color: #008080; text-decoration-color: #008080; font-weight: bold\">215</span> param<span style=\"font-weight: bold\">[</span><span style=\"color: #008000; text-decoration-color: #008000\">'aexp'</span><span style=\"font-weight: bold\">]</span>=<span style=\"color: #008080; text-decoration-color: #008080; font-weight: bold\">0.017250638359709896</span> z = <span style=\"color: #008080; text-decoration-color: #008080; font-weight: bold\">56.96886927590876</span>                                       \n",
       "</pre>\n"
      ],
      "text/plain": [
       "param\u001b[1m[\u001b[0m\u001b[32m'nsteps'\u001b[0m\u001b[1m]\u001b[0m=\u001b[1;36m215\u001b[0m param\u001b[1m[\u001b[0m\u001b[32m'aexp'\u001b[0m\u001b[1m]\u001b[0m=\u001b[1;36m0.017250638359709896\u001b[0m z = \u001b[1;36m56.96886927590876\u001b[0m                                       \n"
      ]
     },
     "metadata": {},
     "output_type": "display_data"
    },
    {
     "name": "stdout",
     "output_type": "stream",
     "text": [
      "Full solver.\n",
      "Smoothing RHS EFT\n",
      "Smoothing RHS EFT\n",
      "Smoothing RHS EFT\n",
      "Smoothing RHS EFT\n",
      "Smoothing RHS EFT\n",
      "Smoothing RHS EFT\n",
      "Smoothing RHS EFT\n",
      "Smoothing RHS EFT\n",
      "Smoothing RHS EFT\n",
      "Smoothing RHS EFT\n",
      "Smoothing RHS EFT\n",
      "Smoothing RHS EFT\n",
      "Smoothing RHS EFT\n",
      "Smoothing RHS EFT\n",
      "Smoothing RHS EFT\n",
      "Smoothing RHS EFT\n",
      "Smoothing RHS EFT\n",
      "Smoothing RHS EFT\n",
      "Smoothing RHS EFT\n",
      "Smoothing RHS EFT\n",
      "Smoothing RHS EFT\n",
      "Smoothing RHS EFT\n",
      "Smoothing RHS EFT\n",
      "Smoothing RHS EFT\n",
      "Smoothing RHS EFT\n",
      "Smoothing RHS EFT\n",
      "reserr-FAS: 377817.5625\n"
     ]
    },
    {
     "data": {
      "text/html": [
       "<pre style=\"white-space:pre;overflow-x:auto;line-height:normal;font-family:Menlo,'DejaVu Sans Mono',consolas,'Courier New',monospace\">param<span style=\"font-weight: bold\">[</span><span style=\"color: #008000; text-decoration-color: #008000\">'nsteps'</span><span style=\"font-weight: bold\">]</span>=<span style=\"color: #008080; text-decoration-color: #008080; font-weight: bold\">216</span> param<span style=\"font-weight: bold\">[</span><span style=\"color: #008000; text-decoration-color: #008000\">'aexp'</span><span style=\"font-weight: bold\">]</span>=<span style=\"color: #008080; text-decoration-color: #008080; font-weight: bold\">0.01725240743061961</span> z = <span style=\"color: #008080; text-decoration-color: #008080; font-weight: bold\">56.96292511763882</span>                                        \n",
       "</pre>\n"
      ],
      "text/plain": [
       "param\u001b[1m[\u001b[0m\u001b[32m'nsteps'\u001b[0m\u001b[1m]\u001b[0m=\u001b[1;36m216\u001b[0m param\u001b[1m[\u001b[0m\u001b[32m'aexp'\u001b[0m\u001b[1m]\u001b[0m=\u001b[1;36m0.01725240743061961\u001b[0m z = \u001b[1;36m56.96292511763882\u001b[0m                                        \n"
      ]
     },
     "metadata": {},
     "output_type": "display_data"
    },
    {
     "name": "stdout",
     "output_type": "stream",
     "text": [
      "Full solver.\n",
      "Smoothing RHS EFT\n",
      "Smoothing RHS EFT\n",
      "Smoothing RHS EFT\n",
      "Smoothing RHS EFT\n",
      "Smoothing RHS EFT\n",
      "Smoothing RHS EFT\n",
      "Smoothing RHS EFT\n",
      "Smoothing RHS EFT\n",
      "Smoothing RHS EFT\n",
      "Smoothing RHS EFT\n",
      "Smoothing RHS EFT\n",
      "Smoothing RHS EFT\n",
      "Smoothing RHS EFT\n",
      "Smoothing RHS EFT\n",
      "Smoothing RHS EFT\n",
      "Smoothing RHS EFT\n",
      "Smoothing RHS EFT\n",
      "Smoothing RHS EFT\n",
      "Smoothing RHS EFT\n",
      "Smoothing RHS EFT\n",
      "Smoothing RHS EFT\n",
      "Smoothing RHS EFT\n",
      "Smoothing RHS EFT\n",
      "Smoothing RHS EFT\n",
      "Smoothing RHS EFT\n",
      "Smoothing RHS EFT\n",
      "reserr-FAS: 376497.125\n"
     ]
    },
    {
     "data": {
      "text/html": [
       "<pre style=\"white-space:pre;overflow-x:auto;line-height:normal;font-family:Menlo,'DejaVu Sans Mono',consolas,'Courier New',monospace\">param<span style=\"font-weight: bold\">[</span><span style=\"color: #008000; text-decoration-color: #008000\">'nsteps'</span><span style=\"font-weight: bold\">]</span>=<span style=\"color: #008080; text-decoration-color: #008080; font-weight: bold\">217</span> param<span style=\"font-weight: bold\">[</span><span style=\"color: #008000; text-decoration-color: #008000\">'aexp'</span><span style=\"font-weight: bold\">]</span>=<span style=\"color: #008080; text-decoration-color: #008080; font-weight: bold\">0.017254190312447244</span> z = <span style=\"color: #008080; text-decoration-color: #008080; font-weight: bold\">56.956935787279214</span>                                      \n",
       "</pre>\n"
      ],
      "text/plain": [
       "param\u001b[1m[\u001b[0m\u001b[32m'nsteps'\u001b[0m\u001b[1m]\u001b[0m=\u001b[1;36m217\u001b[0m param\u001b[1m[\u001b[0m\u001b[32m'aexp'\u001b[0m\u001b[1m]\u001b[0m=\u001b[1;36m0.017254190312447244\u001b[0m z = \u001b[1;36m56.956935787279214\u001b[0m                                      \n"
      ]
     },
     "metadata": {},
     "output_type": "display_data"
    },
    {
     "name": "stdout",
     "output_type": "stream",
     "text": [
      "Full solver.\n",
      "Smoothing RHS EFT\n",
      "Smoothing RHS EFT\n",
      "Smoothing RHS EFT\n",
      "Smoothing RHS EFT\n",
      "Smoothing RHS EFT\n",
      "Smoothing RHS EFT\n",
      "Smoothing RHS EFT\n",
      "Smoothing RHS EFT\n",
      "Smoothing RHS EFT\n",
      "Smoothing RHS EFT\n",
      "Smoothing RHS EFT\n",
      "Smoothing RHS EFT\n",
      "Smoothing RHS EFT\n",
      "Smoothing RHS EFT\n",
      "Smoothing RHS EFT\n",
      "Smoothing RHS EFT\n",
      "Smoothing RHS EFT\n",
      "Smoothing RHS EFT\n",
      "Smoothing RHS EFT\n",
      "Smoothing RHS EFT\n",
      "Smoothing RHS EFT\n",
      "Smoothing RHS EFT\n",
      "Smoothing RHS EFT\n",
      "Smoothing RHS EFT\n",
      "Smoothing RHS EFT\n",
      "Smoothing RHS EFT\n",
      "reserr-FAS: 375191.34375\n"
     ]
    },
    {
     "data": {
      "text/html": [
       "<pre style=\"white-space:pre;overflow-x:auto;line-height:normal;font-family:Menlo,'DejaVu Sans Mono',consolas,'Courier New',monospace\">param<span style=\"font-weight: bold\">[</span><span style=\"color: #008000; text-decoration-color: #008000\">'nsteps'</span><span style=\"font-weight: bold\">]</span>=<span style=\"color: #008080; text-decoration-color: #008080; font-weight: bold\">218</span> param<span style=\"font-weight: bold\">[</span><span style=\"color: #008000; text-decoration-color: #008000\">'aexp'</span><span style=\"font-weight: bold\">]</span>=<span style=\"color: #008080; text-decoration-color: #008080; font-weight: bold\">0.01725598916664419</span> z = <span style=\"color: #008080; text-decoration-color: #008080; font-weight: bold\">56.950894054395846</span>                                       \n",
       "</pre>\n"
      ],
      "text/plain": [
       "param\u001b[1m[\u001b[0m\u001b[32m'nsteps'\u001b[0m\u001b[1m]\u001b[0m=\u001b[1;36m218\u001b[0m param\u001b[1m[\u001b[0m\u001b[32m'aexp'\u001b[0m\u001b[1m]\u001b[0m=\u001b[1;36m0.01725598916664419\u001b[0m z = \u001b[1;36m56.950894054395846\u001b[0m                                       \n"
      ]
     },
     "metadata": {},
     "output_type": "display_data"
    },
    {
     "name": "stdout",
     "output_type": "stream",
     "text": [
      "Full solver.\n",
      "Smoothing RHS EFT\n",
      "Smoothing RHS EFT\n",
      "Smoothing RHS EFT\n",
      "Smoothing RHS EFT\n",
      "Smoothing RHS EFT\n",
      "Smoothing RHS EFT\n",
      "Smoothing RHS EFT\n",
      "Smoothing RHS EFT\n",
      "Smoothing RHS EFT\n",
      "Smoothing RHS EFT\n",
      "Smoothing RHS EFT\n",
      "Smoothing RHS EFT\n",
      "Smoothing RHS EFT\n",
      "Smoothing RHS EFT\n",
      "Smoothing RHS EFT\n",
      "Smoothing RHS EFT\n",
      "Smoothing RHS EFT\n",
      "Smoothing RHS EFT\n",
      "Smoothing RHS EFT\n",
      "Smoothing RHS EFT\n",
      "Smoothing RHS EFT\n",
      "Smoothing RHS EFT\n",
      "Smoothing RHS EFT\n",
      "Smoothing RHS EFT\n",
      "Smoothing RHS EFT\n",
      "Smoothing RHS EFT\n",
      "reserr-FAS: 373896.9375\n"
     ]
    },
    {
     "data": {
      "text/html": [
       "<pre style=\"white-space:pre;overflow-x:auto;line-height:normal;font-family:Menlo,'DejaVu Sans Mono',consolas,'Courier New',monospace\">param<span style=\"font-weight: bold\">[</span><span style=\"color: #008000; text-decoration-color: #008000\">'nsteps'</span><span style=\"font-weight: bold\">]</span>=<span style=\"color: #008080; text-decoration-color: #008080; font-weight: bold\">219</span> param<span style=\"font-weight: bold\">[</span><span style=\"color: #008000; text-decoration-color: #008000\">'aexp'</span><span style=\"font-weight: bold\">]</span>=<span style=\"color: #008080; text-decoration-color: #008080; font-weight: bold\">0.017257806102727712</span> z = <span style=\"color: #008080; text-decoration-color: #008080; font-weight: bold\">56.94479286923633</span>                                       \n",
       "</pre>\n"
      ],
      "text/plain": [
       "param\u001b[1m[\u001b[0m\u001b[32m'nsteps'\u001b[0m\u001b[1m]\u001b[0m=\u001b[1;36m219\u001b[0m param\u001b[1m[\u001b[0m\u001b[32m'aexp'\u001b[0m\u001b[1m]\u001b[0m=\u001b[1;36m0.017257806102727712\u001b[0m z = \u001b[1;36m56.94479286923633\u001b[0m                                       \n"
      ]
     },
     "metadata": {},
     "output_type": "display_data"
    },
    {
     "name": "stdout",
     "output_type": "stream",
     "text": [
      "Full solver.\n",
      "Smoothing RHS EFT\n",
      "Smoothing RHS EFT\n",
      "Smoothing RHS EFT\n",
      "Smoothing RHS EFT\n",
      "Smoothing RHS EFT\n",
      "Smoothing RHS EFT\n",
      "Smoothing RHS EFT\n",
      "Smoothing RHS EFT\n",
      "Smoothing RHS EFT\n",
      "Smoothing RHS EFT\n",
      "Smoothing RHS EFT\n",
      "Smoothing RHS EFT\n",
      "Smoothing RHS EFT\n",
      "Smoothing RHS EFT\n",
      "Smoothing RHS EFT\n",
      "Smoothing RHS EFT\n",
      "Smoothing RHS EFT\n",
      "Smoothing RHS EFT\n",
      "Smoothing RHS EFT\n",
      "Smoothing RHS EFT\n",
      "Smoothing RHS EFT\n",
      "Smoothing RHS EFT\n",
      "Smoothing RHS EFT\n",
      "Smoothing RHS EFT\n",
      "Smoothing RHS EFT\n",
      "Smoothing RHS EFT\n",
      "reserr-FAS: 372611.25\n"
     ]
    },
    {
     "data": {
      "text/html": [
       "<pre style=\"white-space:pre;overflow-x:auto;line-height:normal;font-family:Menlo,'DejaVu Sans Mono',consolas,'Courier New',monospace\">param<span style=\"font-weight: bold\">[</span><span style=\"color: #008000; text-decoration-color: #008000\">'nsteps'</span><span style=\"font-weight: bold\">]</span>=<span style=\"color: #008080; text-decoration-color: #008080; font-weight: bold\">220</span> param<span style=\"font-weight: bold\">[</span><span style=\"color: #008000; text-decoration-color: #008000\">'aexp'</span><span style=\"font-weight: bold\">]</span>=<span style=\"color: #008080; text-decoration-color: #008080; font-weight: bold\">0.01725964319008831</span> z = <span style=\"color: #008080; text-decoration-color: #008080; font-weight: bold\">56.93862532304663</span>                                        \n",
       "</pre>\n"
      ],
      "text/plain": [
       "param\u001b[1m[\u001b[0m\u001b[32m'nsteps'\u001b[0m\u001b[1m]\u001b[0m=\u001b[1;36m220\u001b[0m param\u001b[1m[\u001b[0m\u001b[32m'aexp'\u001b[0m\u001b[1m]\u001b[0m=\u001b[1;36m0.01725964319008831\u001b[0m z = \u001b[1;36m56.93862532304663\u001b[0m                                        \n"
      ]
     },
     "metadata": {},
     "output_type": "display_data"
    },
    {
     "name": "stdout",
     "output_type": "stream",
     "text": [
      "Full solver.\n",
      "Smoothing RHS EFT\n",
      "Smoothing RHS EFT\n",
      "Smoothing RHS EFT\n",
      "Smoothing RHS EFT\n",
      "Smoothing RHS EFT\n",
      "Smoothing RHS EFT\n",
      "Smoothing RHS EFT\n",
      "Smoothing RHS EFT\n",
      "Smoothing RHS EFT\n",
      "Smoothing RHS EFT\n",
      "Smoothing RHS EFT\n",
      "Smoothing RHS EFT\n",
      "Smoothing RHS EFT\n",
      "Smoothing RHS EFT\n",
      "Smoothing RHS EFT\n",
      "Smoothing RHS EFT\n",
      "Smoothing RHS EFT\n",
      "Smoothing RHS EFT\n",
      "Smoothing RHS EFT\n",
      "Smoothing RHS EFT\n",
      "Smoothing RHS EFT\n",
      "Smoothing RHS EFT\n",
      "Smoothing RHS EFT\n",
      "Smoothing RHS EFT\n",
      "Smoothing RHS EFT\n",
      "Smoothing RHS EFT\n",
      "reserr-FAS: 371338.34375\n"
     ]
    },
    {
     "data": {
      "text/html": [
       "<pre style=\"white-space:pre;overflow-x:auto;line-height:normal;font-family:Menlo,'DejaVu Sans Mono',consolas,'Courier New',monospace\">param<span style=\"font-weight: bold\">[</span><span style=\"color: #008000; text-decoration-color: #008000\">'nsteps'</span><span style=\"font-weight: bold\">]</span>=<span style=\"color: #008080; text-decoration-color: #008080; font-weight: bold\">221</span> param<span style=\"font-weight: bold\">[</span><span style=\"color: #008000; text-decoration-color: #008000\">'aexp'</span><span style=\"font-weight: bold\">]</span>=<span style=\"color: #008080; text-decoration-color: #008080; font-weight: bold\">0.01726149276283089</span> z = <span style=\"color: #008080; text-decoration-color: #008080; font-weight: bold\">56.932417186611836</span>                                       \n",
       "</pre>\n"
      ],
      "text/plain": [
       "param\u001b[1m[\u001b[0m\u001b[32m'nsteps'\u001b[0m\u001b[1m]\u001b[0m=\u001b[1;36m221\u001b[0m param\u001b[1m[\u001b[0m\u001b[32m'aexp'\u001b[0m\u001b[1m]\u001b[0m=\u001b[1;36m0.01726149276283089\u001b[0m z = \u001b[1;36m56.932417186611836\u001b[0m                                       \n"
      ]
     },
     "metadata": {},
     "output_type": "display_data"
    },
    {
     "name": "stdout",
     "output_type": "stream",
     "text": [
      "Full solver.\n",
      "Smoothing RHS EFT\n",
      "Smoothing RHS EFT\n",
      "Smoothing RHS EFT\n",
      "Smoothing RHS EFT\n",
      "Smoothing RHS EFT\n",
      "Smoothing RHS EFT\n",
      "Smoothing RHS EFT\n",
      "Smoothing RHS EFT\n",
      "Smoothing RHS EFT\n",
      "Smoothing RHS EFT\n",
      "Smoothing RHS EFT\n",
      "Smoothing RHS EFT\n",
      "Smoothing RHS EFT\n",
      "Smoothing RHS EFT\n",
      "Smoothing RHS EFT\n",
      "Smoothing RHS EFT\n",
      "Smoothing RHS EFT\n",
      "Smoothing RHS EFT\n",
      "Smoothing RHS EFT\n",
      "Smoothing RHS EFT\n",
      "Smoothing RHS EFT\n",
      "Smoothing RHS EFT\n",
      "Smoothing RHS EFT\n",
      "Smoothing RHS EFT\n",
      "Smoothing RHS EFT\n",
      "Smoothing RHS EFT\n",
      "reserr-FAS: 370082.8125\n"
     ]
    },
    {
     "data": {
      "text/html": [
       "<pre style=\"white-space:pre;overflow-x:auto;line-height:normal;font-family:Menlo,'DejaVu Sans Mono',consolas,'Courier New',monospace\">param<span style=\"font-weight: bold\">[</span><span style=\"color: #008000; text-decoration-color: #008000\">'nsteps'</span><span style=\"font-weight: bold\">]</span>=<span style=\"color: #008080; text-decoration-color: #008080; font-weight: bold\">222</span> param<span style=\"font-weight: bold\">[</span><span style=\"color: #008000; text-decoration-color: #008000\">'aexp'</span><span style=\"font-weight: bold\">]</span>=<span style=\"color: #008080; text-decoration-color: #008080; font-weight: bold\">0.017263344726409526</span> z = <span style=\"color: #008080; text-decoration-color: #008080; font-weight: bold\">56.926202358121046</span>                                      \n",
       "</pre>\n"
      ],
      "text/plain": [
       "param\u001b[1m[\u001b[0m\u001b[32m'nsteps'\u001b[0m\u001b[1m]\u001b[0m=\u001b[1;36m222\u001b[0m param\u001b[1m[\u001b[0m\u001b[32m'aexp'\u001b[0m\u001b[1m]\u001b[0m=\u001b[1;36m0.017263344726409526\u001b[0m z = \u001b[1;36m56.926202358121046\u001b[0m                                      \n"
      ]
     },
     "metadata": {},
     "output_type": "display_data"
    },
    {
     "name": "stdout",
     "output_type": "stream",
     "text": [
      "Full solver.\n",
      "Smoothing RHS EFT\n",
      "Smoothing RHS EFT\n",
      "Smoothing RHS EFT\n",
      "Smoothing RHS EFT\n",
      "Smoothing RHS EFT\n",
      "Smoothing RHS EFT\n",
      "Smoothing RHS EFT\n",
      "Smoothing RHS EFT\n",
      "Smoothing RHS EFT\n",
      "Smoothing RHS EFT\n",
      "Smoothing RHS EFT\n",
      "Smoothing RHS EFT\n",
      "Smoothing RHS EFT\n",
      "Smoothing RHS EFT\n",
      "Smoothing RHS EFT\n",
      "Smoothing RHS EFT\n",
      "Smoothing RHS EFT\n",
      "Smoothing RHS EFT\n",
      "Smoothing RHS EFT\n",
      "Smoothing RHS EFT\n",
      "Smoothing RHS EFT\n",
      "Smoothing RHS EFT\n",
      "Smoothing RHS EFT\n",
      "Smoothing RHS EFT\n",
      "Smoothing RHS EFT\n",
      "Smoothing RHS EFT\n",
      "reserr-FAS: 368843.59375\n"
     ]
    },
    {
     "data": {
      "text/html": [
       "<pre style=\"white-space:pre;overflow-x:auto;line-height:normal;font-family:Menlo,'DejaVu Sans Mono',consolas,'Courier New',monospace\">param<span style=\"font-weight: bold\">[</span><span style=\"color: #008000; text-decoration-color: #008000\">'nsteps'</span><span style=\"font-weight: bold\">]</span>=<span style=\"color: #008080; text-decoration-color: #008080; font-weight: bold\">223</span> param<span style=\"font-weight: bold\">[</span><span style=\"color: #008000; text-decoration-color: #008000\">'aexp'</span><span style=\"font-weight: bold\">]</span>=<span style=\"color: #008080; text-decoration-color: #008080; font-weight: bold\">0.017265201510383722</span> z = <span style=\"color: #008080; text-decoration-color: #008080; font-weight: bold\">56.91997269180873</span>                                       \n",
       "</pre>\n"
      ],
      "text/plain": [
       "param\u001b[1m[\u001b[0m\u001b[32m'nsteps'\u001b[0m\u001b[1m]\u001b[0m=\u001b[1;36m223\u001b[0m param\u001b[1m[\u001b[0m\u001b[32m'aexp'\u001b[0m\u001b[1m]\u001b[0m=\u001b[1;36m0.017265201510383722\u001b[0m z = \u001b[1;36m56.91997269180873\u001b[0m                                       \n"
      ]
     },
     "metadata": {},
     "output_type": "display_data"
    },
    {
     "name": "stdout",
     "output_type": "stream",
     "text": [
      "Full solver.\n",
      "Smoothing RHS EFT\n",
      "Smoothing RHS EFT\n",
      "Smoothing RHS EFT\n",
      "Smoothing RHS EFT\n",
      "Smoothing RHS EFT\n",
      "Smoothing RHS EFT\n",
      "Smoothing RHS EFT\n",
      "Smoothing RHS EFT\n",
      "Smoothing RHS EFT\n",
      "Smoothing RHS EFT\n",
      "Smoothing RHS EFT\n",
      "Smoothing RHS EFT\n",
      "Smoothing RHS EFT\n",
      "Smoothing RHS EFT\n",
      "Smoothing RHS EFT\n",
      "Smoothing RHS EFT\n",
      "Smoothing RHS EFT\n",
      "Smoothing RHS EFT\n",
      "Smoothing RHS EFT\n",
      "Smoothing RHS EFT\n",
      "Smoothing RHS EFT\n",
      "Smoothing RHS EFT\n",
      "Smoothing RHS EFT\n",
      "Smoothing RHS EFT\n",
      "Smoothing RHS EFT\n",
      "Smoothing RHS EFT\n",
      "reserr-FAS: 367619.59375\n"
     ]
    },
    {
     "data": {
      "text/html": [
       "<pre style=\"white-space:pre;overflow-x:auto;line-height:normal;font-family:Menlo,'DejaVu Sans Mono',consolas,'Courier New',monospace\">param<span style=\"font-weight: bold\">[</span><span style=\"color: #008000; text-decoration-color: #008000\">'nsteps'</span><span style=\"font-weight: bold\">]</span>=<span style=\"color: #008080; text-decoration-color: #008080; font-weight: bold\">224</span> param<span style=\"font-weight: bold\">[</span><span style=\"color: #008000; text-decoration-color: #008000\">'aexp'</span><span style=\"font-weight: bold\">]</span>=<span style=\"color: #008080; text-decoration-color: #008080; font-weight: bold\">0.017267061798914327</span> z = <span style=\"color: #008080; text-decoration-color: #008080; font-weight: bold\">56.913732611003645</span>                                      \n",
       "</pre>\n"
      ],
      "text/plain": [
       "param\u001b[1m[\u001b[0m\u001b[32m'nsteps'\u001b[0m\u001b[1m]\u001b[0m=\u001b[1;36m224\u001b[0m param\u001b[1m[\u001b[0m\u001b[32m'aexp'\u001b[0m\u001b[1m]\u001b[0m=\u001b[1;36m0.017267061798914327\u001b[0m z = \u001b[1;36m56.913732611003645\u001b[0m                                      \n"
      ]
     },
     "metadata": {},
     "output_type": "display_data"
    },
    {
     "name": "stdout",
     "output_type": "stream",
     "text": [
      "Full solver.\n",
      "Smoothing RHS EFT\n",
      "Smoothing RHS EFT\n",
      "Smoothing RHS EFT\n",
      "Smoothing RHS EFT\n",
      "Smoothing RHS EFT\n",
      "Smoothing RHS EFT\n",
      "Smoothing RHS EFT\n",
      "Smoothing RHS EFT\n",
      "Smoothing RHS EFT\n",
      "Smoothing RHS EFT\n",
      "Smoothing RHS EFT\n",
      "Smoothing RHS EFT\n",
      "Smoothing RHS EFT\n",
      "Smoothing RHS EFT\n",
      "Smoothing RHS EFT\n",
      "Smoothing RHS EFT\n",
      "Smoothing RHS EFT\n",
      "Smoothing RHS EFT\n",
      "Smoothing RHS EFT\n",
      "Smoothing RHS EFT\n",
      "Smoothing RHS EFT\n",
      "Smoothing RHS EFT\n",
      "Smoothing RHS EFT\n",
      "Smoothing RHS EFT\n",
      "Smoothing RHS EFT\n",
      "Smoothing RHS EFT\n",
      "reserr-FAS: 366417.90625\n"
     ]
    },
    {
     "data": {
      "text/html": [
       "<pre style=\"white-space:pre;overflow-x:auto;line-height:normal;font-family:Menlo,'DejaVu Sans Mono',consolas,'Courier New',monospace\">param<span style=\"font-weight: bold\">[</span><span style=\"color: #008000; text-decoration-color: #008000\">'nsteps'</span><span style=\"font-weight: bold\">]</span>=<span style=\"color: #008080; text-decoration-color: #008080; font-weight: bold\">225</span> param<span style=\"font-weight: bold\">[</span><span style=\"color: #008000; text-decoration-color: #008000\">'aexp'</span><span style=\"font-weight: bold\">]</span>=<span style=\"color: #008080; text-decoration-color: #008080; font-weight: bold\">0.017268915379027947</span> z = <span style=\"color: #008080; text-decoration-color: #008080; font-weight: bold\">56.907516369814374</span>                                      \n",
       "</pre>\n"
      ],
      "text/plain": [
       "param\u001b[1m[\u001b[0m\u001b[32m'nsteps'\u001b[0m\u001b[1m]\u001b[0m=\u001b[1;36m225\u001b[0m param\u001b[1m[\u001b[0m\u001b[32m'aexp'\u001b[0m\u001b[1m]\u001b[0m=\u001b[1;36m0.017268915379027947\u001b[0m z = \u001b[1;36m56.907516369814374\u001b[0m                                      \n"
      ]
     },
     "metadata": {},
     "output_type": "display_data"
    },
    {
     "name": "stdout",
     "output_type": "stream",
     "text": [
      "Full solver.\n",
      "Smoothing RHS EFT\n",
      "Smoothing RHS EFT\n",
      "Smoothing RHS EFT\n",
      "Smoothing RHS EFT\n",
      "Smoothing RHS EFT\n",
      "Smoothing RHS EFT\n",
      "Smoothing RHS EFT\n",
      "Smoothing RHS EFT\n",
      "Smoothing RHS EFT\n",
      "Smoothing RHS EFT\n",
      "Smoothing RHS EFT\n",
      "Smoothing RHS EFT\n",
      "Smoothing RHS EFT\n",
      "Smoothing RHS EFT\n",
      "Smoothing RHS EFT\n",
      "Smoothing RHS EFT\n",
      "Smoothing RHS EFT\n",
      "Smoothing RHS EFT\n",
      "Smoothing RHS EFT\n",
      "Smoothing RHS EFT\n",
      "Smoothing RHS EFT\n",
      "Smoothing RHS EFT\n",
      "Smoothing RHS EFT\n",
      "Smoothing RHS EFT\n",
      "Smoothing RHS EFT\n",
      "Smoothing RHS EFT\n",
      "reserr-FAS: 365238.25\n"
     ]
    },
    {
     "data": {
      "text/html": [
       "<pre style=\"white-space:pre;overflow-x:auto;line-height:normal;font-family:Menlo,'DejaVu Sans Mono',consolas,'Courier New',monospace\">param<span style=\"font-weight: bold\">[</span><span style=\"color: #008000; text-decoration-color: #008000\">'nsteps'</span><span style=\"font-weight: bold\">]</span>=<span style=\"color: #008080; text-decoration-color: #008080; font-weight: bold\">226</span> param<span style=\"font-weight: bold\">[</span><span style=\"color: #008000; text-decoration-color: #008000\">'aexp'</span><span style=\"font-weight: bold\">]</span>=<span style=\"color: #008080; text-decoration-color: #008080; font-weight: bold\">0.0172707640905959</span> z = <span style=\"color: #008080; text-decoration-color: #008080; font-weight: bold\">56.90131778503707</span>                                         \n",
       "</pre>\n"
      ],
      "text/plain": [
       "param\u001b[1m[\u001b[0m\u001b[32m'nsteps'\u001b[0m\u001b[1m]\u001b[0m=\u001b[1;36m226\u001b[0m param\u001b[1m[\u001b[0m\u001b[32m'aexp'\u001b[0m\u001b[1m]\u001b[0m=\u001b[1;36m0.0172707640905959\u001b[0m z = \u001b[1;36m56.90131778503707\u001b[0m                                         \n"
      ]
     },
     "metadata": {},
     "output_type": "display_data"
    },
    {
     "name": "stdout",
     "output_type": "stream",
     "text": [
      "Full solver.\n",
      "Smoothing RHS EFT\n",
      "Smoothing RHS EFT\n",
      "Smoothing RHS EFT\n",
      "Smoothing RHS EFT\n",
      "Smoothing RHS EFT\n",
      "Smoothing RHS EFT\n",
      "Smoothing RHS EFT\n",
      "Smoothing RHS EFT\n",
      "Smoothing RHS EFT\n",
      "Smoothing RHS EFT\n",
      "Smoothing RHS EFT\n",
      "Smoothing RHS EFT\n",
      "Smoothing RHS EFT\n",
      "Smoothing RHS EFT\n",
      "Smoothing RHS EFT\n",
      "Smoothing RHS EFT\n",
      "Smoothing RHS EFT\n",
      "Smoothing RHS EFT\n",
      "Smoothing RHS EFT\n",
      "Smoothing RHS EFT\n",
      "Smoothing RHS EFT\n",
      "Smoothing RHS EFT\n",
      "Smoothing RHS EFT\n",
      "Smoothing RHS EFT\n",
      "Smoothing RHS EFT\n",
      "Smoothing RHS EFT\n",
      "reserr-FAS: 364078.4375\n"
     ]
    },
    {
     "data": {
      "text/html": [
       "<pre style=\"white-space:pre;overflow-x:auto;line-height:normal;font-family:Menlo,'DejaVu Sans Mono',consolas,'Courier New',monospace\">param<span style=\"font-weight: bold\">[</span><span style=\"color: #008000; text-decoration-color: #008000\">'nsteps'</span><span style=\"font-weight: bold\">]</span>=<span style=\"color: #008080; text-decoration-color: #008080; font-weight: bold\">227</span> param<span style=\"font-weight: bold\">[</span><span style=\"color: #008000; text-decoration-color: #008000\">'aexp'</span><span style=\"font-weight: bold\">]</span>=<span style=\"color: #008080; text-decoration-color: #008080; font-weight: bold\">0.01727260973494421</span> z = <span style=\"color: #008080; text-decoration-color: #008080; font-weight: bold\">56.895130807992516</span>                                       \n",
       "</pre>\n"
      ],
      "text/plain": [
       "param\u001b[1m[\u001b[0m\u001b[32m'nsteps'\u001b[0m\u001b[1m]\u001b[0m=\u001b[1;36m227\u001b[0m param\u001b[1m[\u001b[0m\u001b[32m'aexp'\u001b[0m\u001b[1m]\u001b[0m=\u001b[1;36m0.01727260973494421\u001b[0m z = \u001b[1;36m56.895130807992516\u001b[0m                                       \n"
      ]
     },
     "metadata": {},
     "output_type": "display_data"
    },
    {
     "name": "stdout",
     "output_type": "stream",
     "text": [
      "Full solver.\n",
      "Smoothing RHS EFT\n",
      "Smoothing RHS EFT\n",
      "Smoothing RHS EFT\n",
      "Smoothing RHS EFT\n",
      "Smoothing RHS EFT\n",
      "Smoothing RHS EFT\n",
      "Smoothing RHS EFT\n",
      "Smoothing RHS EFT\n",
      "Smoothing RHS EFT\n",
      "Smoothing RHS EFT\n",
      "Smoothing RHS EFT\n",
      "Smoothing RHS EFT\n",
      "Smoothing RHS EFT\n",
      "Smoothing RHS EFT\n",
      "Smoothing RHS EFT\n",
      "Smoothing RHS EFT\n",
      "Smoothing RHS EFT\n",
      "Smoothing RHS EFT\n",
      "Smoothing RHS EFT\n",
      "Smoothing RHS EFT\n",
      "Smoothing RHS EFT\n",
      "Smoothing RHS EFT\n",
      "Smoothing RHS EFT\n",
      "Smoothing RHS EFT\n",
      "Smoothing RHS EFT\n",
      "Smoothing RHS EFT\n",
      "reserr-FAS: 362936.625\n"
     ]
    },
    {
     "data": {
      "text/html": [
       "<pre style=\"white-space:pre;overflow-x:auto;line-height:normal;font-family:Menlo,'DejaVu Sans Mono',consolas,'Courier New',monospace\">param<span style=\"font-weight: bold\">[</span><span style=\"color: #008000; text-decoration-color: #008000\">'nsteps'</span><span style=\"font-weight: bold\">]</span>=<span style=\"color: #008080; text-decoration-color: #008080; font-weight: bold\">228</span> param<span style=\"font-weight: bold\">[</span><span style=\"color: #008000; text-decoration-color: #008000\">'aexp'</span><span style=\"font-weight: bold\">]</span>=<span style=\"color: #008080; text-decoration-color: #008080; font-weight: bold\">0.017274454079643748</span> z = <span style=\"color: #008080; text-decoration-color: #008080; font-weight: bold\">56.88894950830325</span>                                       \n",
       "</pre>\n"
      ],
      "text/plain": [
       "param\u001b[1m[\u001b[0m\u001b[32m'nsteps'\u001b[0m\u001b[1m]\u001b[0m=\u001b[1;36m228\u001b[0m param\u001b[1m[\u001b[0m\u001b[32m'aexp'\u001b[0m\u001b[1m]\u001b[0m=\u001b[1;36m0.017274454079643748\u001b[0m z = \u001b[1;36m56.88894950830325\u001b[0m                                       \n"
      ]
     },
     "metadata": {},
     "output_type": "display_data"
    },
    {
     "name": "stdout",
     "output_type": "stream",
     "text": [
      "Full solver.\n",
      "Smoothing RHS EFT\n",
      "Smoothing RHS EFT\n",
      "Smoothing RHS EFT\n",
      "Smoothing RHS EFT\n",
      "Smoothing RHS EFT\n",
      "Smoothing RHS EFT\n",
      "Smoothing RHS EFT\n",
      "Smoothing RHS EFT\n",
      "Smoothing RHS EFT\n",
      "Smoothing RHS EFT\n",
      "Smoothing RHS EFT\n",
      "Smoothing RHS EFT\n",
      "Smoothing RHS EFT\n",
      "Smoothing RHS EFT\n",
      "Smoothing RHS EFT\n",
      "Smoothing RHS EFT\n",
      "Smoothing RHS EFT\n",
      "Smoothing RHS EFT\n",
      "Smoothing RHS EFT\n",
      "Smoothing RHS EFT\n",
      "Smoothing RHS EFT\n",
      "Smoothing RHS EFT\n",
      "Smoothing RHS EFT\n",
      "Smoothing RHS EFT\n",
      "Smoothing RHS EFT\n",
      "Smoothing RHS EFT\n",
      "reserr-FAS: 361809.8125\n"
     ]
    },
    {
     "data": {
      "text/html": [
       "<pre style=\"white-space:pre;overflow-x:auto;line-height:normal;font-family:Menlo,'DejaVu Sans Mono',consolas,'Courier New',monospace\">param<span style=\"font-weight: bold\">[</span><span style=\"color: #008000; text-decoration-color: #008000\">'nsteps'</span><span style=\"font-weight: bold\">]</span>=<span style=\"color: #008080; text-decoration-color: #008080; font-weight: bold\">229</span> param<span style=\"font-weight: bold\">[</span><span style=\"color: #008000; text-decoration-color: #008000\">'aexp'</span><span style=\"font-weight: bold\">]</span>=<span style=\"color: #008080; text-decoration-color: #008080; font-weight: bold\">0.01727629886320145</span> z = <span style=\"color: #008080; text-decoration-color: #008080; font-weight: bold\">56.882768058035964</span>                                       \n",
       "</pre>\n"
      ],
      "text/plain": [
       "param\u001b[1m[\u001b[0m\u001b[32m'nsteps'\u001b[0m\u001b[1m]\u001b[0m=\u001b[1;36m229\u001b[0m param\u001b[1m[\u001b[0m\u001b[32m'aexp'\u001b[0m\u001b[1m]\u001b[0m=\u001b[1;36m0.01727629886320145\u001b[0m z = \u001b[1;36m56.882768058035964\u001b[0m                                       \n"
      ]
     },
     "metadata": {},
     "output_type": "display_data"
    },
    {
     "name": "stdout",
     "output_type": "stream",
     "text": [
      "Full solver.\n",
      "Smoothing RHS EFT\n",
      "Smoothing RHS EFT\n",
      "Smoothing RHS EFT\n",
      "Smoothing RHS EFT\n",
      "Smoothing RHS EFT\n",
      "Smoothing RHS EFT\n",
      "Smoothing RHS EFT\n",
      "Smoothing RHS EFT\n",
      "Smoothing RHS EFT\n",
      "Smoothing RHS EFT\n",
      "Smoothing RHS EFT\n",
      "Smoothing RHS EFT\n",
      "Smoothing RHS EFT\n",
      "Smoothing RHS EFT\n",
      "Smoothing RHS EFT\n",
      "Smoothing RHS EFT\n",
      "Smoothing RHS EFT\n",
      "Smoothing RHS EFT\n",
      "Smoothing RHS EFT\n",
      "Smoothing RHS EFT\n",
      "Smoothing RHS EFT\n",
      "Smoothing RHS EFT\n",
      "Smoothing RHS EFT\n",
      "Smoothing RHS EFT\n",
      "Smoothing RHS EFT\n",
      "Smoothing RHS EFT\n",
      "reserr-FAS: 360697.90625\n"
     ]
    },
    {
     "data": {
      "text/html": [
       "<pre style=\"white-space:pre;overflow-x:auto;line-height:normal;font-family:Menlo,'DejaVu Sans Mono',consolas,'Courier New',monospace\">param<span style=\"font-weight: bold\">[</span><span style=\"color: #008000; text-decoration-color: #008000\">'nsteps'</span><span style=\"font-weight: bold\">]</span>=<span style=\"color: #008080; text-decoration-color: #008080; font-weight: bold\">230</span> param<span style=\"font-weight: bold\">[</span><span style=\"color: #008000; text-decoration-color: #008000\">'aexp'</span><span style=\"font-weight: bold\">]</span>=<span style=\"color: #008080; text-decoration-color: #008080; font-weight: bold\">0.01727814578093799</span> z = <span style=\"color: #008080; text-decoration-color: #008080; font-weight: bold\">56.87658077889608</span>                                        \n",
       "</pre>\n"
      ],
      "text/plain": [
       "param\u001b[1m[\u001b[0m\u001b[32m'nsteps'\u001b[0m\u001b[1m]\u001b[0m=\u001b[1;36m230\u001b[0m param\u001b[1m[\u001b[0m\u001b[32m'aexp'\u001b[0m\u001b[1m]\u001b[0m=\u001b[1;36m0.01727814578093799\u001b[0m z = \u001b[1;36m56.87658077889608\u001b[0m                                        \n"
      ]
     },
     "metadata": {},
     "output_type": "display_data"
    },
    {
     "name": "stdout",
     "output_type": "stream",
     "text": [
      "Full solver.\n",
      "Smoothing RHS EFT\n",
      "Smoothing RHS EFT\n",
      "Smoothing RHS EFT\n",
      "Smoothing RHS EFT\n",
      "Smoothing RHS EFT\n",
      "Smoothing RHS EFT\n",
      "Smoothing RHS EFT\n",
      "Smoothing RHS EFT\n",
      "Smoothing RHS EFT\n",
      "Smoothing RHS EFT\n",
      "Smoothing RHS EFT\n",
      "Smoothing RHS EFT\n",
      "Smoothing RHS EFT\n",
      "Smoothing RHS EFT\n",
      "Smoothing RHS EFT\n",
      "Smoothing RHS EFT\n",
      "Smoothing RHS EFT\n",
      "Smoothing RHS EFT\n",
      "Smoothing RHS EFT\n",
      "Smoothing RHS EFT\n",
      "Smoothing RHS EFT\n",
      "Smoothing RHS EFT\n",
      "Smoothing RHS EFT\n",
      "Smoothing RHS EFT\n",
      "Smoothing RHS EFT\n",
      "Smoothing RHS EFT\n",
      "reserr-FAS: 359599.78125\n"
     ]
    },
    {
     "data": {
      "text/html": [
       "<pre style=\"white-space:pre;overflow-x:auto;line-height:normal;font-family:Menlo,'DejaVu Sans Mono',consolas,'Courier New',monospace\">param<span style=\"font-weight: bold\">[</span><span style=\"color: #008000; text-decoration-color: #008000\">'nsteps'</span><span style=\"font-weight: bold\">]</span>=<span style=\"color: #008080; text-decoration-color: #008080; font-weight: bold\">231</span> param<span style=\"font-weight: bold\">[</span><span style=\"color: #008000; text-decoration-color: #008000\">'aexp'</span><span style=\"font-weight: bold\">]</span>=<span style=\"color: #008080; text-decoration-color: #008080; font-weight: bold\">0.017279996460989634</span> z = <span style=\"color: #008080; text-decoration-color: #008080; font-weight: bold\">56.870382222446906</span>                                      \n",
       "</pre>\n"
      ],
      "text/plain": [
       "param\u001b[1m[\u001b[0m\u001b[32m'nsteps'\u001b[0m\u001b[1m]\u001b[0m=\u001b[1;36m231\u001b[0m param\u001b[1m[\u001b[0m\u001b[32m'aexp'\u001b[0m\u001b[1m]\u001b[0m=\u001b[1;36m0.017279996460989634\u001b[0m z = \u001b[1;36m56.870382222446906\u001b[0m                                      \n"
      ]
     },
     "metadata": {},
     "output_type": "display_data"
    },
    {
     "name": "stdout",
     "output_type": "stream",
     "text": [
      "Full solver.\n",
      "Smoothing RHS EFT\n",
      "Smoothing RHS EFT\n",
      "Smoothing RHS EFT\n",
      "Smoothing RHS EFT\n",
      "Smoothing RHS EFT\n",
      "Smoothing RHS EFT\n",
      "Smoothing RHS EFT\n",
      "Smoothing RHS EFT\n",
      "Smoothing RHS EFT\n",
      "Smoothing RHS EFT\n",
      "Smoothing RHS EFT\n",
      "Smoothing RHS EFT\n",
      "Smoothing RHS EFT\n",
      "Smoothing RHS EFT\n",
      "Smoothing RHS EFT\n",
      "Smoothing RHS EFT\n",
      "Smoothing RHS EFT\n",
      "Smoothing RHS EFT\n",
      "Smoothing RHS EFT\n",
      "Smoothing RHS EFT\n",
      "Smoothing RHS EFT\n",
      "Smoothing RHS EFT\n",
      "Smoothing RHS EFT\n",
      "Smoothing RHS EFT\n",
      "Smoothing RHS EFT\n",
      "Smoothing RHS EFT\n",
      "reserr-FAS: 358516.21875\n"
     ]
    },
    {
     "data": {
      "text/html": [
       "<pre style=\"white-space:pre;overflow-x:auto;line-height:normal;font-family:Menlo,'DejaVu Sans Mono',consolas,'Courier New',monospace\">param<span style=\"font-weight: bold\">[</span><span style=\"color: #008000; text-decoration-color: #008000\">'nsteps'</span><span style=\"font-weight: bold\">]</span>=<span style=\"color: #008080; text-decoration-color: #008080; font-weight: bold\">232</span> param<span style=\"font-weight: bold\">[</span><span style=\"color: #008000; text-decoration-color: #008000\">'aexp'</span><span style=\"font-weight: bold\">]</span>=<span style=\"color: #008080; text-decoration-color: #008080; font-weight: bold\">0.01728185243850803</span> z = <span style=\"color: #008080; text-decoration-color: #008080; font-weight: bold\">56.864167256269646</span>                                       \n",
       "</pre>\n"
      ],
      "text/plain": [
       "param\u001b[1m[\u001b[0m\u001b[32m'nsteps'\u001b[0m\u001b[1m]\u001b[0m=\u001b[1;36m232\u001b[0m param\u001b[1m[\u001b[0m\u001b[32m'aexp'\u001b[0m\u001b[1m]\u001b[0m=\u001b[1;36m0.01728185243850803\u001b[0m z = \u001b[1;36m56.864167256269646\u001b[0m                                       \n"
      ]
     },
     "metadata": {},
     "output_type": "display_data"
    },
    {
     "name": "stdout",
     "output_type": "stream",
     "text": [
      "Full solver.\n",
      "Smoothing RHS EFT\n",
      "Smoothing RHS EFT\n",
      "Smoothing RHS EFT\n",
      "Smoothing RHS EFT\n",
      "Smoothing RHS EFT\n",
      "Smoothing RHS EFT\n",
      "Smoothing RHS EFT\n",
      "Smoothing RHS EFT\n",
      "Smoothing RHS EFT\n",
      "Smoothing RHS EFT\n",
      "Smoothing RHS EFT\n",
      "Smoothing RHS EFT\n",
      "Smoothing RHS EFT\n",
      "Smoothing RHS EFT\n",
      "Smoothing RHS EFT\n",
      "Smoothing RHS EFT\n",
      "Smoothing RHS EFT\n",
      "Smoothing RHS EFT\n",
      "Smoothing RHS EFT\n",
      "Smoothing RHS EFT\n",
      "Smoothing RHS EFT\n",
      "Smoothing RHS EFT\n",
      "Smoothing RHS EFT\n",
      "Smoothing RHS EFT\n",
      "Smoothing RHS EFT\n",
      "Smoothing RHS EFT\n",
      "reserr-FAS: 357447.03125\n"
     ]
    },
    {
     "data": {
      "text/html": [
       "<pre style=\"white-space:pre;overflow-x:auto;line-height:normal;font-family:Menlo,'DejaVu Sans Mono',consolas,'Courier New',monospace\">param<span style=\"font-weight: bold\">[</span><span style=\"color: #008000; text-decoration-color: #008000\">'nsteps'</span><span style=\"font-weight: bold\">]</span>=<span style=\"color: #008080; text-decoration-color: #008080; font-weight: bold\">233</span> param<span style=\"font-weight: bold\">[</span><span style=\"color: #008000; text-decoration-color: #008000\">'aexp'</span><span style=\"font-weight: bold\">]</span>=<span style=\"color: #008080; text-decoration-color: #008080; font-weight: bold\">0.017283715147480953</span> z = <span style=\"color: #008080; text-decoration-color: #008080; font-weight: bold\">56.857931091033215</span>                                      \n",
       "</pre>\n"
      ],
      "text/plain": [
       "param\u001b[1m[\u001b[0m\u001b[32m'nsteps'\u001b[0m\u001b[1m]\u001b[0m=\u001b[1;36m233\u001b[0m param\u001b[1m[\u001b[0m\u001b[32m'aexp'\u001b[0m\u001b[1m]\u001b[0m=\u001b[1;36m0.017283715147480953\u001b[0m z = \u001b[1;36m56.857931091033215\u001b[0m                                      \n"
      ]
     },
     "metadata": {},
     "output_type": "display_data"
    },
    {
     "name": "stdout",
     "output_type": "stream",
     "text": [
      "Full solver.\n",
      "Smoothing RHS EFT\n",
      "Smoothing RHS EFT\n",
      "Smoothing RHS EFT\n",
      "Smoothing RHS EFT\n",
      "Smoothing RHS EFT\n",
      "Smoothing RHS EFT\n",
      "Smoothing RHS EFT\n",
      "Smoothing RHS EFT\n",
      "Smoothing RHS EFT\n",
      "Smoothing RHS EFT\n",
      "Smoothing RHS EFT\n",
      "Smoothing RHS EFT\n",
      "Smoothing RHS EFT\n",
      "Smoothing RHS EFT\n",
      "Smoothing RHS EFT\n",
      "Smoothing RHS EFT\n",
      "Smoothing RHS EFT\n",
      "Smoothing RHS EFT\n",
      "Smoothing RHS EFT\n",
      "Smoothing RHS EFT\n",
      "Smoothing RHS EFT\n",
      "Smoothing RHS EFT\n",
      "Smoothing RHS EFT\n",
      "Smoothing RHS EFT\n",
      "Smoothing RHS EFT\n",
      "Smoothing RHS EFT\n",
      "reserr-FAS: 356393.09375\n"
     ]
    },
    {
     "data": {
      "text/html": [
       "<pre style=\"white-space:pre;overflow-x:auto;line-height:normal;font-family:Menlo,'DejaVu Sans Mono',consolas,'Courier New',monospace\">param<span style=\"font-weight: bold\">[</span><span style=\"color: #008000; text-decoration-color: #008000\">'nsteps'</span><span style=\"font-weight: bold\">]</span>=<span style=\"color: #008080; text-decoration-color: #008080; font-weight: bold\">234</span> param<span style=\"font-weight: bold\">[</span><span style=\"color: #008000; text-decoration-color: #008000\">'aexp'</span><span style=\"font-weight: bold\">]</span>=<span style=\"color: #008080; text-decoration-color: #008080; font-weight: bold\">0.01728558597680377</span> z = <span style=\"color: #008080; text-decoration-color: #008080; font-weight: bold\">56.85166909249942</span>                                        \n",
       "</pre>\n"
      ],
      "text/plain": [
       "param\u001b[1m[\u001b[0m\u001b[32m'nsteps'\u001b[0m\u001b[1m]\u001b[0m=\u001b[1;36m234\u001b[0m param\u001b[1m[\u001b[0m\u001b[32m'aexp'\u001b[0m\u001b[1m]\u001b[0m=\u001b[1;36m0.01728558597680377\u001b[0m z = \u001b[1;36m56.85166909249942\u001b[0m                                        \n"
      ]
     },
     "metadata": {},
     "output_type": "display_data"
    },
    {
     "name": "stdout",
     "output_type": "stream",
     "text": [
      "Full solver.\n",
      "Smoothing RHS EFT\n",
      "Smoothing RHS EFT\n",
      "Smoothing RHS EFT\n",
      "Smoothing RHS EFT\n",
      "Smoothing RHS EFT\n",
      "Smoothing RHS EFT\n",
      "Smoothing RHS EFT\n",
      "Smoothing RHS EFT\n",
      "Smoothing RHS EFT\n",
      "Smoothing RHS EFT\n",
      "Smoothing RHS EFT\n",
      "Smoothing RHS EFT\n",
      "Smoothing RHS EFT\n",
      "Smoothing RHS EFT\n",
      "Smoothing RHS EFT\n",
      "Smoothing RHS EFT\n",
      "Smoothing RHS EFT\n",
      "Smoothing RHS EFT\n",
      "Smoothing RHS EFT\n",
      "Smoothing RHS EFT\n",
      "Smoothing RHS EFT\n",
      "Smoothing RHS EFT\n",
      "Smoothing RHS EFT\n",
      "Smoothing RHS EFT\n",
      "Smoothing RHS EFT\n",
      "Smoothing RHS EFT\n",
      "reserr-FAS: 355354.1875\n"
     ]
    },
    {
     "data": {
      "text/html": [
       "<pre style=\"white-space:pre;overflow-x:auto;line-height:normal;font-family:Menlo,'DejaVu Sans Mono',consolas,'Courier New',monospace\">param<span style=\"font-weight: bold\">[</span><span style=\"color: #008000; text-decoration-color: #008000\">'nsteps'</span><span style=\"font-weight: bold\">]</span>=<span style=\"color: #008080; text-decoration-color: #008080; font-weight: bold\">235</span> param<span style=\"font-weight: bold\">[</span><span style=\"color: #008000; text-decoration-color: #008000\">'aexp'</span><span style=\"font-weight: bold\">]</span>=<span style=\"color: #008080; text-decoration-color: #008080; font-weight: bold\">0.017287466328502563</span> z = <span style=\"color: #008080; text-decoration-color: #008080; font-weight: bold\">56.845376586576975</span>                                      \n",
       "</pre>\n"
      ],
      "text/plain": [
       "param\u001b[1m[\u001b[0m\u001b[32m'nsteps'\u001b[0m\u001b[1m]\u001b[0m=\u001b[1;36m235\u001b[0m param\u001b[1m[\u001b[0m\u001b[32m'aexp'\u001b[0m\u001b[1m]\u001b[0m=\u001b[1;36m0.017287466328502563\u001b[0m z = \u001b[1;36m56.845376586576975\u001b[0m                                      \n"
      ]
     },
     "metadata": {},
     "output_type": "display_data"
    },
    {
     "name": "stdout",
     "output_type": "stream",
     "text": [
      "Full solver.\n",
      "Smoothing RHS EFT\n",
      "Smoothing RHS EFT\n",
      "Smoothing RHS EFT\n",
      "Smoothing RHS EFT\n",
      "Smoothing RHS EFT\n",
      "Smoothing RHS EFT\n",
      "Smoothing RHS EFT\n",
      "Smoothing RHS EFT\n",
      "Smoothing RHS EFT\n",
      "Smoothing RHS EFT\n",
      "Smoothing RHS EFT\n",
      "Smoothing RHS EFT\n",
      "Smoothing RHS EFT\n",
      "Smoothing RHS EFT\n",
      "Smoothing RHS EFT\n",
      "Smoothing RHS EFT\n",
      "Smoothing RHS EFT\n",
      "Smoothing RHS EFT\n",
      "Smoothing RHS EFT\n",
      "Smoothing RHS EFT\n",
      "Smoothing RHS EFT\n",
      "Smoothing RHS EFT\n",
      "Smoothing RHS EFT\n",
      "Smoothing RHS EFT\n",
      "Smoothing RHS EFT\n",
      "Smoothing RHS EFT\n",
      "reserr-FAS: 354334.03125\n"
     ]
    },
    {
     "data": {
      "text/html": [
       "<pre style=\"white-space:pre;overflow-x:auto;line-height:normal;font-family:Menlo,'DejaVu Sans Mono',consolas,'Courier New',monospace\">param<span style=\"font-weight: bold\">[</span><span style=\"color: #008000; text-decoration-color: #008000\">'nsteps'</span><span style=\"font-weight: bold\">]</span>=<span style=\"color: #008080; text-decoration-color: #008080; font-weight: bold\">236</span> param<span style=\"font-weight: bold\">[</span><span style=\"color: #008000; text-decoration-color: #008000\">'aexp'</span><span style=\"font-weight: bold\">]</span>=<span style=\"color: #008080; text-decoration-color: #008080; font-weight: bold\">0.017289348030356852</span> z = <span style=\"color: #008080; text-decoration-color: #008080; font-weight: bold\">56.83908093261745</span>                                       \n",
       "</pre>\n"
      ],
      "text/plain": [
       "param\u001b[1m[\u001b[0m\u001b[32m'nsteps'\u001b[0m\u001b[1m]\u001b[0m=\u001b[1;36m236\u001b[0m param\u001b[1m[\u001b[0m\u001b[32m'aexp'\u001b[0m\u001b[1m]\u001b[0m=\u001b[1;36m0.017289348030356852\u001b[0m z = \u001b[1;36m56.83908093261745\u001b[0m                                       \n"
      ]
     },
     "metadata": {},
     "output_type": "display_data"
    },
    {
     "name": "stdout",
     "output_type": "stream",
     "text": [
      "Full solver.\n",
      "Smoothing RHS EFT\n",
      "Smoothing RHS EFT\n",
      "Smoothing RHS EFT\n",
      "Smoothing RHS EFT\n",
      "Smoothing RHS EFT\n",
      "Smoothing RHS EFT\n",
      "Smoothing RHS EFT\n",
      "Smoothing RHS EFT\n",
      "Smoothing RHS EFT\n",
      "Smoothing RHS EFT\n",
      "Smoothing RHS EFT\n",
      "Smoothing RHS EFT\n",
      "Smoothing RHS EFT\n",
      "Smoothing RHS EFT\n",
      "Smoothing RHS EFT\n",
      "Smoothing RHS EFT\n",
      "Smoothing RHS EFT\n",
      "Smoothing RHS EFT\n",
      "Smoothing RHS EFT\n",
      "Smoothing RHS EFT\n",
      "Smoothing RHS EFT\n",
      "Smoothing RHS EFT\n",
      "Smoothing RHS EFT\n",
      "Smoothing RHS EFT\n",
      "Smoothing RHS EFT\n",
      "Smoothing RHS EFT\n",
      "reserr-FAS: 353337.28125\n"
     ]
    },
    {
     "data": {
      "text/html": [
       "<pre style=\"white-space:pre;overflow-x:auto;line-height:normal;font-family:Menlo,'DejaVu Sans Mono',consolas,'Courier New',monospace\">param<span style=\"font-weight: bold\">[</span><span style=\"color: #008000; text-decoration-color: #008000\">'nsteps'</span><span style=\"font-weight: bold\">]</span>=<span style=\"color: #008080; text-decoration-color: #008080; font-weight: bold\">237</span> param<span style=\"font-weight: bold\">[</span><span style=\"color: #008000; text-decoration-color: #008000\">'aexp'</span><span style=\"font-weight: bold\">]</span>=<span style=\"color: #008080; text-decoration-color: #008080; font-weight: bold\">0.017291225052607006</span> z = <span style=\"color: #008080; text-decoration-color: #008080; font-weight: bold\">56.83280230044947</span>                                       \n",
       "</pre>\n"
      ],
      "text/plain": [
       "param\u001b[1m[\u001b[0m\u001b[32m'nsteps'\u001b[0m\u001b[1m]\u001b[0m=\u001b[1;36m237\u001b[0m param\u001b[1m[\u001b[0m\u001b[32m'aexp'\u001b[0m\u001b[1m]\u001b[0m=\u001b[1;36m0.017291225052607006\u001b[0m z = \u001b[1;36m56.83280230044947\u001b[0m                                       \n"
      ]
     },
     "metadata": {},
     "output_type": "display_data"
    },
    {
     "name": "stdout",
     "output_type": "stream",
     "text": [
      "Full solver.\n",
      "Smoothing RHS EFT\n",
      "Smoothing RHS EFT\n",
      "Smoothing RHS EFT\n",
      "Smoothing RHS EFT\n",
      "Smoothing RHS EFT\n",
      "Smoothing RHS EFT\n",
      "Smoothing RHS EFT\n",
      "Smoothing RHS EFT\n",
      "Smoothing RHS EFT\n",
      "Smoothing RHS EFT\n",
      "Smoothing RHS EFT\n",
      "Smoothing RHS EFT\n",
      "Smoothing RHS EFT\n",
      "Smoothing RHS EFT\n",
      "Smoothing RHS EFT\n",
      "Smoothing RHS EFT\n",
      "Smoothing RHS EFT\n",
      "Smoothing RHS EFT\n",
      "Smoothing RHS EFT\n",
      "Smoothing RHS EFT\n",
      "Smoothing RHS EFT\n",
      "Smoothing RHS EFT\n",
      "Smoothing RHS EFT\n",
      "Smoothing RHS EFT\n",
      "Smoothing RHS EFT\n",
      "Smoothing RHS EFT\n",
      "reserr-FAS: 352361.96875\n"
     ]
    },
    {
     "data": {
      "text/html": [
       "<pre style=\"white-space:pre;overflow-x:auto;line-height:normal;font-family:Menlo,'DejaVu Sans Mono',consolas,'Courier New',monospace\">param<span style=\"font-weight: bold\">[</span><span style=\"color: #008000; text-decoration-color: #008000\">'nsteps'</span><span style=\"font-weight: bold\">]</span>=<span style=\"color: #008080; text-decoration-color: #008080; font-weight: bold\">238</span> param<span style=\"font-weight: bold\">[</span><span style=\"color: #008000; text-decoration-color: #008000\">'aexp'</span><span style=\"font-weight: bold\">]</span>=<span style=\"color: #008080; text-decoration-color: #008080; font-weight: bold\">0.017293099503400935</span> z = <span style=\"color: #008080; text-decoration-color: #008080; font-weight: bold\">56.826533629979735</span>                                      \n",
       "</pre>\n"
      ],
      "text/plain": [
       "param\u001b[1m[\u001b[0m\u001b[32m'nsteps'\u001b[0m\u001b[1m]\u001b[0m=\u001b[1;36m238\u001b[0m param\u001b[1m[\u001b[0m\u001b[32m'aexp'\u001b[0m\u001b[1m]\u001b[0m=\u001b[1;36m0.017293099503400935\u001b[0m z = \u001b[1;36m56.826533629979735\u001b[0m                                      \n"
      ]
     },
     "metadata": {},
     "output_type": "display_data"
    },
    {
     "name": "stdout",
     "output_type": "stream",
     "text": [
      "Full solver.\n",
      "Smoothing RHS EFT\n",
      "Smoothing RHS EFT\n",
      "Smoothing RHS EFT\n",
      "Smoothing RHS EFT\n",
      "Smoothing RHS EFT\n",
      "Smoothing RHS EFT\n",
      "Smoothing RHS EFT\n",
      "Smoothing RHS EFT\n",
      "Smoothing RHS EFT\n",
      "Smoothing RHS EFT\n",
      "Smoothing RHS EFT\n",
      "Smoothing RHS EFT\n",
      "Smoothing RHS EFT\n",
      "Smoothing RHS EFT\n",
      "Smoothing RHS EFT\n",
      "Smoothing RHS EFT\n",
      "Smoothing RHS EFT\n",
      "Smoothing RHS EFT\n",
      "Smoothing RHS EFT\n",
      "Smoothing RHS EFT\n",
      "Smoothing RHS EFT\n",
      "Smoothing RHS EFT\n",
      "Smoothing RHS EFT\n",
      "Smoothing RHS EFT\n",
      "Smoothing RHS EFT\n",
      "Smoothing RHS EFT\n",
      "reserr-FAS: 351391.34375\n"
     ]
    },
    {
     "data": {
      "text/html": [
       "<pre style=\"white-space:pre;overflow-x:auto;line-height:normal;font-family:Menlo,'DejaVu Sans Mono',consolas,'Courier New',monospace\">param<span style=\"font-weight: bold\">[</span><span style=\"color: #008000; text-decoration-color: #008000\">'nsteps'</span><span style=\"font-weight: bold\">]</span>=<span style=\"color: #008080; text-decoration-color: #008080; font-weight: bold\">239</span> param<span style=\"font-weight: bold\">[</span><span style=\"color: #008000; text-decoration-color: #008000\">'aexp'</span><span style=\"font-weight: bold\">]</span>=<span style=\"color: #008080; text-decoration-color: #008080; font-weight: bold\">0.017294973531950277</span> z = <span style=\"color: #008080; text-decoration-color: #008080; font-weight: bold\">56.820267729963646</span>                                      \n",
       "</pre>\n"
      ],
      "text/plain": [
       "param\u001b[1m[\u001b[0m\u001b[32m'nsteps'\u001b[0m\u001b[1m]\u001b[0m=\u001b[1;36m239\u001b[0m param\u001b[1m[\u001b[0m\u001b[32m'aexp'\u001b[0m\u001b[1m]\u001b[0m=\u001b[1;36m0.017294973531950277\u001b[0m z = \u001b[1;36m56.820267729963646\u001b[0m                                      \n"
      ]
     },
     "metadata": {},
     "output_type": "display_data"
    },
    {
     "name": "stdout",
     "output_type": "stream",
     "text": [
      "Full solver.\n",
      "Smoothing RHS EFT\n",
      "Smoothing RHS EFT\n",
      "Smoothing RHS EFT\n",
      "Smoothing RHS EFT\n",
      "Smoothing RHS EFT\n",
      "Smoothing RHS EFT\n",
      "Smoothing RHS EFT\n",
      "Smoothing RHS EFT\n",
      "Smoothing RHS EFT\n",
      "Smoothing RHS EFT\n",
      "Smoothing RHS EFT\n",
      "Smoothing RHS EFT\n",
      "Smoothing RHS EFT\n",
      "Smoothing RHS EFT\n",
      "Smoothing RHS EFT\n",
      "Smoothing RHS EFT\n",
      "Smoothing RHS EFT\n",
      "Smoothing RHS EFT\n",
      "Smoothing RHS EFT\n",
      "Smoothing RHS EFT\n",
      "Smoothing RHS EFT\n",
      "Smoothing RHS EFT\n",
      "Smoothing RHS EFT\n",
      "Smoothing RHS EFT\n",
      "Smoothing RHS EFT\n",
      "Smoothing RHS EFT\n",
      "reserr-FAS: 350455.75\n"
     ]
    },
    {
     "data": {
      "text/html": [
       "<pre style=\"white-space:pre;overflow-x:auto;line-height:normal;font-family:Menlo,'DejaVu Sans Mono',consolas,'Courier New',monospace\">param<span style=\"font-weight: bold\">[</span><span style=\"color: #008000; text-decoration-color: #008000\">'nsteps'</span><span style=\"font-weight: bold\">]</span>=<span style=\"color: #008080; text-decoration-color: #008080; font-weight: bold\">240</span> param<span style=\"font-weight: bold\">[</span><span style=\"color: #008000; text-decoration-color: #008000\">'aexp'</span><span style=\"font-weight: bold\">]</span>=<span style=\"color: #008080; text-decoration-color: #008080; font-weight: bold\">0.01729684935296882</span> z = <span style=\"color: #008080; text-decoration-color: #008080; font-weight: bold\">56.81399719645246</span>                                        \n",
       "</pre>\n"
      ],
      "text/plain": [
       "param\u001b[1m[\u001b[0m\u001b[32m'nsteps'\u001b[0m\u001b[1m]\u001b[0m=\u001b[1;36m240\u001b[0m param\u001b[1m[\u001b[0m\u001b[32m'aexp'\u001b[0m\u001b[1m]\u001b[0m=\u001b[1;36m0.01729684935296882\u001b[0m z = \u001b[1;36m56.81399719645246\u001b[0m                                        \n"
      ]
     },
     "metadata": {},
     "output_type": "display_data"
    },
    {
     "name": "stdout",
     "output_type": "stream",
     "text": [
      "Full solver.\n",
      "Smoothing RHS EFT\n",
      "Smoothing RHS EFT\n",
      "Smoothing RHS EFT\n",
      "Smoothing RHS EFT\n",
      "Smoothing RHS EFT\n",
      "Smoothing RHS EFT\n",
      "Smoothing RHS EFT\n",
      "Smoothing RHS EFT\n",
      "Smoothing RHS EFT\n",
      "Smoothing RHS EFT\n",
      "Smoothing RHS EFT\n",
      "Smoothing RHS EFT\n",
      "Smoothing RHS EFT\n",
      "Smoothing RHS EFT\n",
      "Smoothing RHS EFT\n",
      "Smoothing RHS EFT\n",
      "Smoothing RHS EFT\n",
      "Smoothing RHS EFT\n",
      "Smoothing RHS EFT\n",
      "Smoothing RHS EFT\n",
      "Smoothing RHS EFT\n",
      "Smoothing RHS EFT\n",
      "Smoothing RHS EFT\n",
      "Smoothing RHS EFT\n",
      "Smoothing RHS EFT\n",
      "Smoothing RHS EFT\n",
      "reserr-FAS: 349546.90625\n"
     ]
    },
    {
     "data": {
      "text/html": [
       "<pre style=\"white-space:pre;overflow-x:auto;line-height:normal;font-family:Menlo,'DejaVu Sans Mono',consolas,'Courier New',monospace\">param<span style=\"font-weight: bold\">[</span><span style=\"color: #008000; text-decoration-color: #008000\">'nsteps'</span><span style=\"font-weight: bold\">]</span>=<span style=\"color: #008080; text-decoration-color: #008080; font-weight: bold\">241</span> param<span style=\"font-weight: bold\">[</span><span style=\"color: #008000; text-decoration-color: #008000\">'aexp'</span><span style=\"font-weight: bold\">]</span>=<span style=\"color: #008080; text-decoration-color: #008080; font-weight: bold\">0.017298714768054453</span> z = <span style=\"color: #008080; text-decoration-color: #008080; font-weight: bold\">56.80776279673104</span>                                       \n",
       "</pre>\n"
      ],
      "text/plain": [
       "param\u001b[1m[\u001b[0m\u001b[32m'nsteps'\u001b[0m\u001b[1m]\u001b[0m=\u001b[1;36m241\u001b[0m param\u001b[1m[\u001b[0m\u001b[32m'aexp'\u001b[0m\u001b[1m]\u001b[0m=\u001b[1;36m0.017298714768054453\u001b[0m z = \u001b[1;36m56.80776279673104\u001b[0m                                       \n"
      ]
     },
     "metadata": {},
     "output_type": "display_data"
    },
    {
     "name": "stdout",
     "output_type": "stream",
     "text": [
      "Full solver.\n",
      "Smoothing RHS EFT\n",
      "Smoothing RHS EFT\n",
      "Smoothing RHS EFT\n",
      "Smoothing RHS EFT\n",
      "Smoothing RHS EFT\n",
      "Smoothing RHS EFT\n",
      "Smoothing RHS EFT\n",
      "Smoothing RHS EFT\n",
      "Smoothing RHS EFT\n",
      "Smoothing RHS EFT\n",
      "Smoothing RHS EFT\n",
      "Smoothing RHS EFT\n",
      "Smoothing RHS EFT\n",
      "Smoothing RHS EFT\n",
      "Smoothing RHS EFT\n",
      "Smoothing RHS EFT\n",
      "Smoothing RHS EFT\n",
      "Smoothing RHS EFT\n",
      "Smoothing RHS EFT\n",
      "Smoothing RHS EFT\n",
      "Smoothing RHS EFT\n",
      "Smoothing RHS EFT\n",
      "Smoothing RHS EFT\n",
      "Smoothing RHS EFT\n",
      "Smoothing RHS EFT\n",
      "Smoothing RHS EFT\n",
      "reserr-FAS: 348662.34375\n"
     ]
    },
    {
     "data": {
      "text/html": [
       "<pre style=\"white-space:pre;overflow-x:auto;line-height:normal;font-family:Menlo,'DejaVu Sans Mono',consolas,'Courier New',monospace\">param<span style=\"font-weight: bold\">[</span><span style=\"color: #008000; text-decoration-color: #008000\">'nsteps'</span><span style=\"font-weight: bold\">]</span>=<span style=\"color: #008080; text-decoration-color: #008080; font-weight: bold\">242</span> param<span style=\"font-weight: bold\">[</span><span style=\"color: #008000; text-decoration-color: #008000\">'aexp'</span><span style=\"font-weight: bold\">]</span>=<span style=\"color: #008080; text-decoration-color: #008080; font-weight: bold\">0.01730057115255418</span> z = <span style=\"color: #008080; text-decoration-color: #008080; font-weight: bold\">56.801559912798865</span>                                       \n",
       "</pre>\n"
      ],
      "text/plain": [
       "param\u001b[1m[\u001b[0m\u001b[32m'nsteps'\u001b[0m\u001b[1m]\u001b[0m=\u001b[1;36m242\u001b[0m param\u001b[1m[\u001b[0m\u001b[32m'aexp'\u001b[0m\u001b[1m]\u001b[0m=\u001b[1;36m0.01730057115255418\u001b[0m z = \u001b[1;36m56.801559912798865\u001b[0m                                       \n"
      ]
     },
     "metadata": {},
     "output_type": "display_data"
    },
    {
     "name": "stdout",
     "output_type": "stream",
     "text": [
      "Full solver.\n",
      "Smoothing RHS EFT\n",
      "Smoothing RHS EFT\n",
      "Smoothing RHS EFT\n",
      "Smoothing RHS EFT\n",
      "Smoothing RHS EFT\n",
      "Smoothing RHS EFT\n",
      "Smoothing RHS EFT\n",
      "Smoothing RHS EFT\n",
      "Smoothing RHS EFT\n",
      "Smoothing RHS EFT\n",
      "Smoothing RHS EFT\n",
      "Smoothing RHS EFT\n",
      "Smoothing RHS EFT\n",
      "Smoothing RHS EFT\n",
      "Smoothing RHS EFT\n",
      "Smoothing RHS EFT\n",
      "Smoothing RHS EFT\n",
      "Smoothing RHS EFT\n",
      "Smoothing RHS EFT\n",
      "Smoothing RHS EFT\n",
      "Smoothing RHS EFT\n",
      "Smoothing RHS EFT\n",
      "Smoothing RHS EFT\n",
      "Smoothing RHS EFT\n",
      "Smoothing RHS EFT\n",
      "Smoothing RHS EFT\n",
      "reserr-FAS: 347800.6875\n"
     ]
    },
    {
     "data": {
      "text/html": [
       "<pre style=\"white-space:pre;overflow-x:auto;line-height:normal;font-family:Menlo,'DejaVu Sans Mono',consolas,'Courier New',monospace\">param<span style=\"font-weight: bold\">[</span><span style=\"color: #008000; text-decoration-color: #008000\">'nsteps'</span><span style=\"font-weight: bold\">]</span>=<span style=\"color: #008080; text-decoration-color: #008080; font-weight: bold\">243</span> param<span style=\"font-weight: bold\">[</span><span style=\"color: #008000; text-decoration-color: #008000\">'aexp'</span><span style=\"font-weight: bold\">]</span>=<span style=\"color: #008080; text-decoration-color: #008080; font-weight: bold\">0.0173024206270443</span> z = <span style=\"color: #008080; text-decoration-color: #008080; font-weight: bold\">56.795381441424695</span>                                        \n",
       "</pre>\n"
      ],
      "text/plain": [
       "param\u001b[1m[\u001b[0m\u001b[32m'nsteps'\u001b[0m\u001b[1m]\u001b[0m=\u001b[1;36m243\u001b[0m param\u001b[1m[\u001b[0m\u001b[32m'aexp'\u001b[0m\u001b[1m]\u001b[0m=\u001b[1;36m0.0173024206270443\u001b[0m z = \u001b[1;36m56.795381441424695\u001b[0m                                        \n"
      ]
     },
     "metadata": {},
     "output_type": "display_data"
    },
    {
     "name": "stdout",
     "output_type": "stream",
     "text": [
      "Full solver.\n",
      "Smoothing RHS EFT\n",
      "Smoothing RHS EFT\n",
      "Smoothing RHS EFT\n",
      "Smoothing RHS EFT\n",
      "Smoothing RHS EFT\n",
      "Smoothing RHS EFT\n",
      "Smoothing RHS EFT\n",
      "Smoothing RHS EFT\n",
      "Smoothing RHS EFT\n",
      "Smoothing RHS EFT\n",
      "Smoothing RHS EFT\n",
      "Smoothing RHS EFT\n",
      "Smoothing RHS EFT\n",
      "Smoothing RHS EFT\n",
      "Smoothing RHS EFT\n",
      "Smoothing RHS EFT\n",
      "Smoothing RHS EFT\n",
      "Smoothing RHS EFT\n",
      "Smoothing RHS EFT\n",
      "Smoothing RHS EFT\n",
      "Smoothing RHS EFT\n",
      "Smoothing RHS EFT\n",
      "Smoothing RHS EFT\n",
      "Smoothing RHS EFT\n",
      "Smoothing RHS EFT\n",
      "Smoothing RHS EFT\n",
      "reserr-FAS: 346959.46875\n"
     ]
    },
    {
     "data": {
      "text/html": [
       "<pre style=\"white-space:pre;overflow-x:auto;line-height:normal;font-family:Menlo,'DejaVu Sans Mono',consolas,'Courier New',monospace\">param<span style=\"font-weight: bold\">[</span><span style=\"color: #008000; text-decoration-color: #008000\">'nsteps'</span><span style=\"font-weight: bold\">]</span>=<span style=\"color: #008080; text-decoration-color: #008080; font-weight: bold\">244</span> param<span style=\"font-weight: bold\">[</span><span style=\"color: #008000; text-decoration-color: #008000\">'aexp'</span><span style=\"font-weight: bold\">]</span>=<span style=\"color: #008080; text-decoration-color: #008080; font-weight: bold\">0.017304265346889076</span> z = <span style=\"color: #008080; text-decoration-color: #008080; font-weight: bold\">56.789220169336915</span>                                      \n",
       "</pre>\n"
      ],
      "text/plain": [
       "param\u001b[1m[\u001b[0m\u001b[32m'nsteps'\u001b[0m\u001b[1m]\u001b[0m=\u001b[1;36m244\u001b[0m param\u001b[1m[\u001b[0m\u001b[32m'aexp'\u001b[0m\u001b[1m]\u001b[0m=\u001b[1;36m0.017304265346889076\u001b[0m z = \u001b[1;36m56.789220169336915\u001b[0m                                      \n"
      ]
     },
     "metadata": {},
     "output_type": "display_data"
    },
    {
     "name": "stdout",
     "output_type": "stream",
     "text": [
      "Full solver.\n",
      "Smoothing RHS EFT\n",
      "Smoothing RHS EFT\n",
      "Smoothing RHS EFT\n",
      "Smoothing RHS EFT\n",
      "Smoothing RHS EFT\n",
      "Smoothing RHS EFT\n",
      "Smoothing RHS EFT\n",
      "Smoothing RHS EFT\n",
      "Smoothing RHS EFT\n",
      "Smoothing RHS EFT\n",
      "Smoothing RHS EFT\n",
      "Smoothing RHS EFT\n",
      "Smoothing RHS EFT\n",
      "Smoothing RHS EFT\n",
      "Smoothing RHS EFT\n",
      "Smoothing RHS EFT\n",
      "Smoothing RHS EFT\n",
      "Smoothing RHS EFT\n",
      "Smoothing RHS EFT\n",
      "Smoothing RHS EFT\n",
      "Smoothing RHS EFT\n",
      "Smoothing RHS EFT\n",
      "Smoothing RHS EFT\n",
      "Smoothing RHS EFT\n",
      "Smoothing RHS EFT\n",
      "Smoothing RHS EFT\n",
      "reserr-FAS: 346137.71875\n"
     ]
    },
    {
     "data": {
      "text/html": [
       "<pre style=\"white-space:pre;overflow-x:auto;line-height:normal;font-family:Menlo,'DejaVu Sans Mono',consolas,'Courier New',monospace\">param<span style=\"font-weight: bold\">[</span><span style=\"color: #008000; text-decoration-color: #008000\">'nsteps'</span><span style=\"font-weight: bold\">]</span>=<span style=\"color: #008080; text-decoration-color: #008080; font-weight: bold\">245</span> param<span style=\"font-weight: bold\">[</span><span style=\"color: #008000; text-decoration-color: #008000\">'aexp'</span><span style=\"font-weight: bold\">]</span>=<span style=\"color: #008080; text-decoration-color: #008080; font-weight: bold\">0.01730610748632023</span> z = <span style=\"color: #008080; text-decoration-color: #008080; font-weight: bold\">56.783068826450965</span>                                       \n",
       "</pre>\n"
      ],
      "text/plain": [
       "param\u001b[1m[\u001b[0m\u001b[32m'nsteps'\u001b[0m\u001b[1m]\u001b[0m=\u001b[1;36m245\u001b[0m param\u001b[1m[\u001b[0m\u001b[32m'aexp'\u001b[0m\u001b[1m]\u001b[0m=\u001b[1;36m0.01730610748632023\u001b[0m z = \u001b[1;36m56.783068826450965\u001b[0m                                       \n"
      ]
     },
     "metadata": {},
     "output_type": "display_data"
    },
    {
     "name": "stdout",
     "output_type": "stream",
     "text": [
      "Full solver.\n",
      "Smoothing RHS EFT\n",
      "Smoothing RHS EFT\n",
      "Smoothing RHS EFT\n",
      "Smoothing RHS EFT\n",
      "Smoothing RHS EFT\n",
      "Smoothing RHS EFT\n",
      "Smoothing RHS EFT\n",
      "Smoothing RHS EFT\n",
      "Smoothing RHS EFT\n",
      "Smoothing RHS EFT\n",
      "Smoothing RHS EFT\n",
      "Smoothing RHS EFT\n",
      "Smoothing RHS EFT\n",
      "Smoothing RHS EFT\n",
      "Smoothing RHS EFT\n",
      "Smoothing RHS EFT\n",
      "Smoothing RHS EFT\n",
      "Smoothing RHS EFT\n",
      "Smoothing RHS EFT\n",
      "Smoothing RHS EFT\n",
      "Smoothing RHS EFT\n",
      "Smoothing RHS EFT\n",
      "Smoothing RHS EFT\n",
      "Smoothing RHS EFT\n",
      "Smoothing RHS EFT\n",
      "Smoothing RHS EFT\n",
      "reserr-FAS: 345334.625\n"
     ]
    },
    {
     "data": {
      "text/html": [
       "<pre style=\"white-space:pre;overflow-x:auto;line-height:normal;font-family:Menlo,'DejaVu Sans Mono',consolas,'Courier New',monospace\">param<span style=\"font-weight: bold\">[</span><span style=\"color: #008000; text-decoration-color: #008000\">'nsteps'</span><span style=\"font-weight: bold\">]</span>=<span style=\"color: #008080; text-decoration-color: #008080; font-weight: bold\">246</span> param<span style=\"font-weight: bold\">[</span><span style=\"color: #008000; text-decoration-color: #008000\">'aexp'</span><span style=\"font-weight: bold\">]</span>=<span style=\"color: #008080; text-decoration-color: #008080; font-weight: bold\">0.017307949234178856</span> z = <span style=\"color: #008080; text-decoration-color: #008080; font-weight: bold\">56.77692010011509</span>                                       \n",
       "</pre>\n"
      ],
      "text/plain": [
       "param\u001b[1m[\u001b[0m\u001b[32m'nsteps'\u001b[0m\u001b[1m]\u001b[0m=\u001b[1;36m246\u001b[0m param\u001b[1m[\u001b[0m\u001b[32m'aexp'\u001b[0m\u001b[1m]\u001b[0m=\u001b[1;36m0.017307949234178856\u001b[0m z = \u001b[1;36m56.77692010011509\u001b[0m                                       \n"
      ]
     },
     "metadata": {},
     "output_type": "display_data"
    },
    {
     "name": "stdout",
     "output_type": "stream",
     "text": [
      "Full solver.\n",
      "Smoothing RHS EFT\n",
      "Smoothing RHS EFT\n",
      "Smoothing RHS EFT\n",
      "Smoothing RHS EFT\n",
      "Smoothing RHS EFT\n",
      "Smoothing RHS EFT\n",
      "Smoothing RHS EFT\n",
      "Smoothing RHS EFT\n",
      "Smoothing RHS EFT\n",
      "Smoothing RHS EFT\n",
      "Smoothing RHS EFT\n",
      "Smoothing RHS EFT\n",
      "Smoothing RHS EFT\n",
      "Smoothing RHS EFT\n",
      "Smoothing RHS EFT\n",
      "Smoothing RHS EFT\n",
      "Smoothing RHS EFT\n",
      "Smoothing RHS EFT\n",
      "Smoothing RHS EFT\n",
      "Smoothing RHS EFT\n",
      "Smoothing RHS EFT\n",
      "Smoothing RHS EFT\n",
      "Smoothing RHS EFT\n",
      "Smoothing RHS EFT\n",
      "Smoothing RHS EFT\n",
      "Smoothing RHS EFT\n",
      "reserr-FAS: 344551.875\n"
     ]
    },
    {
     "data": {
      "text/html": [
       "<pre style=\"white-space:pre;overflow-x:auto;line-height:normal;font-family:Menlo,'DejaVu Sans Mono',consolas,'Courier New',monospace\">param<span style=\"font-weight: bold\">[</span><span style=\"color: #008000; text-decoration-color: #008000\">'nsteps'</span><span style=\"font-weight: bold\">]</span>=<span style=\"color: #008080; text-decoration-color: #008080; font-weight: bold\">247</span> param<span style=\"font-weight: bold\">[</span><span style=\"color: #008000; text-decoration-color: #008000\">'aexp'</span><span style=\"font-weight: bold\">]</span>=<span style=\"color: #008080; text-decoration-color: #008080; font-weight: bold\">0.017309792785653026</span> z = <span style=\"color: #008080; text-decoration-color: #008080; font-weight: bold\">56.77076666272029</span>                                       \n",
       "</pre>\n"
      ],
      "text/plain": [
       "param\u001b[1m[\u001b[0m\u001b[32m'nsteps'\u001b[0m\u001b[1m]\u001b[0m=\u001b[1;36m247\u001b[0m param\u001b[1m[\u001b[0m\u001b[32m'aexp'\u001b[0m\u001b[1m]\u001b[0m=\u001b[1;36m0.017309792785653026\u001b[0m z = \u001b[1;36m56.77076666272029\u001b[0m                                       \n"
      ]
     },
     "metadata": {},
     "output_type": "display_data"
    },
    {
     "name": "stdout",
     "output_type": "stream",
     "text": [
      "Full solver.\n",
      "Smoothing RHS EFT\n",
      "Smoothing RHS EFT\n",
      "Smoothing RHS EFT\n",
      "Smoothing RHS EFT\n",
      "Smoothing RHS EFT\n",
      "Smoothing RHS EFT\n",
      "Smoothing RHS EFT\n",
      "Smoothing RHS EFT\n",
      "Smoothing RHS EFT\n",
      "Smoothing RHS EFT\n",
      "Smoothing RHS EFT\n",
      "Smoothing RHS EFT\n",
      "Smoothing RHS EFT\n",
      "Smoothing RHS EFT\n",
      "Smoothing RHS EFT\n",
      "Smoothing RHS EFT\n",
      "Smoothing RHS EFT\n",
      "Smoothing RHS EFT\n",
      "Smoothing RHS EFT\n",
      "Smoothing RHS EFT\n",
      "Smoothing RHS EFT\n",
      "Smoothing RHS EFT\n",
      "Smoothing RHS EFT\n",
      "Smoothing RHS EFT\n",
      "Smoothing RHS EFT\n",
      "Smoothing RHS EFT\n",
      "reserr-FAS: 343788.59375\n"
     ]
    },
    {
     "data": {
      "text/html": [
       "<pre style=\"white-space:pre;overflow-x:auto;line-height:normal;font-family:Menlo,'DejaVu Sans Mono',consolas,'Courier New',monospace\">param<span style=\"font-weight: bold\">[</span><span style=\"color: #008000; text-decoration-color: #008000\">'nsteps'</span><span style=\"font-weight: bold\">]</span>=<span style=\"color: #008080; text-decoration-color: #008080; font-weight: bold\">248</span> param<span style=\"font-weight: bold\">[</span><span style=\"color: #008000; text-decoration-color: #008000\">'aexp'</span><span style=\"font-weight: bold\">]</span>=<span style=\"color: #008080; text-decoration-color: #008080; font-weight: bold\">0.017311640332415584</span> z = <span style=\"color: #008080; text-decoration-color: #008080; font-weight: bold\">56.76460120463147</span>                                       \n",
       "</pre>\n"
      ],
      "text/plain": [
       "param\u001b[1m[\u001b[0m\u001b[32m'nsteps'\u001b[0m\u001b[1m]\u001b[0m=\u001b[1;36m248\u001b[0m param\u001b[1m[\u001b[0m\u001b[32m'aexp'\u001b[0m\u001b[1m]\u001b[0m=\u001b[1;36m0.017311640332415584\u001b[0m z = \u001b[1;36m56.76460120463147\u001b[0m                                       \n"
      ]
     },
     "metadata": {},
     "output_type": "display_data"
    },
    {
     "name": "stdout",
     "output_type": "stream",
     "text": [
      "Full solver.\n",
      "Smoothing RHS EFT\n",
      "Smoothing RHS EFT\n",
      "Smoothing RHS EFT\n",
      "Smoothing RHS EFT\n",
      "Smoothing RHS EFT\n",
      "Smoothing RHS EFT\n",
      "Smoothing RHS EFT\n",
      "Smoothing RHS EFT\n",
      "Smoothing RHS EFT\n",
      "Smoothing RHS EFT\n",
      "Smoothing RHS EFT\n",
      "Smoothing RHS EFT\n",
      "Smoothing RHS EFT\n",
      "Smoothing RHS EFT\n",
      "Smoothing RHS EFT\n",
      "Smoothing RHS EFT\n",
      "Smoothing RHS EFT\n",
      "Smoothing RHS EFT\n",
      "Smoothing RHS EFT\n",
      "Smoothing RHS EFT\n",
      "Smoothing RHS EFT\n",
      "Smoothing RHS EFT\n",
      "Smoothing RHS EFT\n",
      "Smoothing RHS EFT\n",
      "Smoothing RHS EFT\n",
      "Smoothing RHS EFT\n",
      "reserr-FAS: 343045.6875\n"
     ]
    },
    {
     "data": {
      "text/html": [
       "<pre style=\"white-space:pre;overflow-x:auto;line-height:normal;font-family:Menlo,'DejaVu Sans Mono',consolas,'Courier New',monospace\">param<span style=\"font-weight: bold\">[</span><span style=\"color: #008000; text-decoration-color: #008000\">'nsteps'</span><span style=\"font-weight: bold\">]</span>=<span style=\"color: #008080; text-decoration-color: #008080; font-weight: bold\">249</span> param<span style=\"font-weight: bold\">[</span><span style=\"color: #008000; text-decoration-color: #008000\">'aexp'</span><span style=\"font-weight: bold\">]</span>=<span style=\"color: #008080; text-decoration-color: #008080; font-weight: bold\">0.017313494045734932</span> z = <span style=\"color: #008080; text-decoration-color: #008080; font-weight: bold\">56.75841649053754</span>                                       \n",
       "</pre>\n"
      ],
      "text/plain": [
       "param\u001b[1m[\u001b[0m\u001b[32m'nsteps'\u001b[0m\u001b[1m]\u001b[0m=\u001b[1;36m249\u001b[0m param\u001b[1m[\u001b[0m\u001b[32m'aexp'\u001b[0m\u001b[1m]\u001b[0m=\u001b[1;36m0.017313494045734932\u001b[0m z = \u001b[1;36m56.75841649053754\u001b[0m                                       \n"
      ]
     },
     "metadata": {},
     "output_type": "display_data"
    },
    {
     "name": "stdout",
     "output_type": "stream",
     "text": [
      "Full solver.\n",
      "Smoothing RHS EFT\n",
      "Smoothing RHS EFT\n",
      "Smoothing RHS EFT\n",
      "Smoothing RHS EFT\n",
      "Smoothing RHS EFT\n",
      "Smoothing RHS EFT\n",
      "Smoothing RHS EFT\n",
      "Smoothing RHS EFT\n",
      "Smoothing RHS EFT\n",
      "Smoothing RHS EFT\n",
      "Smoothing RHS EFT\n",
      "Smoothing RHS EFT\n",
      "Smoothing RHS EFT\n",
      "Smoothing RHS EFT\n",
      "Smoothing RHS EFT\n",
      "Smoothing RHS EFT\n",
      "Smoothing RHS EFT\n",
      "Smoothing RHS EFT\n",
      "Smoothing RHS EFT\n",
      "Smoothing RHS EFT\n",
      "Smoothing RHS EFT\n",
      "Smoothing RHS EFT\n",
      "Smoothing RHS EFT\n",
      "Smoothing RHS EFT\n",
      "Smoothing RHS EFT\n",
      "Smoothing RHS EFT\n",
      "reserr-FAS: 342324.46875\n"
     ]
    },
    {
     "data": {
      "text/html": [
       "<pre style=\"white-space:pre;overflow-x:auto;line-height:normal;font-family:Menlo,'DejaVu Sans Mono',consolas,'Courier New',monospace\">param<span style=\"font-weight: bold\">[</span><span style=\"color: #008000; text-decoration-color: #008000\">'nsteps'</span><span style=\"font-weight: bold\">]</span>=<span style=\"color: #008080; text-decoration-color: #008080; font-weight: bold\">250</span> param<span style=\"font-weight: bold\">[</span><span style=\"color: #008000; text-decoration-color: #008000\">'aexp'</span><span style=\"font-weight: bold\">]</span>=<span style=\"color: #008080; text-decoration-color: #008080; font-weight: bold\">0.01731535605992462</span> z = <span style=\"color: #008080; text-decoration-color: #008080; font-weight: bold\">56.752205414617</span>                                          \n",
       "</pre>\n"
      ],
      "text/plain": [
       "param\u001b[1m[\u001b[0m\u001b[32m'nsteps'\u001b[0m\u001b[1m]\u001b[0m=\u001b[1;36m250\u001b[0m param\u001b[1m[\u001b[0m\u001b[32m'aexp'\u001b[0m\u001b[1m]\u001b[0m=\u001b[1;36m0.01731535605992462\u001b[0m z = \u001b[1;36m56.752205414617\u001b[0m                                          \n"
      ]
     },
     "metadata": {},
     "output_type": "display_data"
    },
    {
     "name": "stdout",
     "output_type": "stream",
     "text": [
      "Full solver.\n"
     ]
    },
    {
     "ename": "KeyboardInterrupt",
     "evalue": "",
     "output_type": "error",
     "traceback": [
      "\u001b[0;31m---------------------------------------------------------------------------\u001b[0m",
      "\u001b[0;31mKeyboardInterrupt\u001b[0m                         Traceback (most recent call last)",
      "Cell \u001b[0;32mIn[2], line 47\u001b[0m\n\u001b[1;32m      1\u001b[0m path \u001b[38;5;241m=\u001b[39m \u001b[38;5;124m'\u001b[39m\u001b[38;5;124m.\u001b[39m\u001b[38;5;124m'\u001b[39m\n\u001b[1;32m      3\u001b[0m param \u001b[38;5;241m=\u001b[39m pd\u001b[38;5;241m.\u001b[39mSeries({\n\u001b[1;32m      4\u001b[0m     \u001b[38;5;124m\"\u001b[39m\u001b[38;5;124mtheory\u001b[39m\u001b[38;5;124m\"\u001b[39m: \u001b[38;5;124m\"\u001b[39m\u001b[38;5;124meft\u001b[39m\u001b[38;5;124m\"\u001b[39m,\n\u001b[1;32m      5\u001b[0m     \u001b[38;5;124m\"\u001b[39m\u001b[38;5;124malphaB0\u001b[39m\u001b[38;5;124m\"\u001b[39m: \u001b[38;5;241m0.1\u001b[39m,\n\u001b[0;32m   (...)\u001b[0m\n\u001b[1;32m     44\u001b[0m     \u001b[38;5;124m'\u001b[39m\u001b[38;5;124mnewton\u001b[39m\u001b[38;5;124m'\u001b[39m: \u001b[38;5;28;01mFalse\u001b[39;00m\n\u001b[1;32m     45\u001b[0m     })\n\u001b[0;32m---> 47\u001b[0m main\u001b[38;5;241m.\u001b[39mrun(param)\n",
      "File \u001b[0;32m~/Dropbox/prograceray/pysco-eft-testlin-modpoisson/pysco/main.py:139\u001b[0m, in \u001b[0;36mrun\u001b[0;34m(param)\u001b[0m\n\u001b[1;32m    131\u001b[0m \u001b[38;5;28;01mwhile\u001b[39;00m param[\u001b[38;5;124m\"\u001b[39m\u001b[38;5;124maexp\u001b[39m\u001b[38;5;124m\"\u001b[39m] \u001b[38;5;241m<\u001b[39m aexp_out[\u001b[38;5;241m-\u001b[39m\u001b[38;5;241m1\u001b[39m]:\n\u001b[1;32m    132\u001b[0m     param[\u001b[38;5;124m\"\u001b[39m\u001b[38;5;124mnsteps\u001b[39m\u001b[38;5;124m\"\u001b[39m] \u001b[38;5;241m+\u001b[39m\u001b[38;5;241m=\u001b[39m \u001b[38;5;241m1\u001b[39m\n\u001b[1;32m    133\u001b[0m     (\n\u001b[1;32m    134\u001b[0m         position,\n\u001b[1;32m    135\u001b[0m         velocity,\n\u001b[1;32m    136\u001b[0m         acceleration,\n\u001b[1;32m    137\u001b[0m         potential,\n\u001b[1;32m    138\u001b[0m         additional_field,\n\u001b[0;32m--> 139\u001b[0m     ) \u001b[38;5;241m=\u001b[39m integration\u001b[38;5;241m.\u001b[39mintegrate(\n\u001b[1;32m    140\u001b[0m         position,\n\u001b[1;32m    141\u001b[0m         velocity,\n\u001b[1;32m    142\u001b[0m         acceleration,\n\u001b[1;32m    143\u001b[0m         potential,\n\u001b[1;32m    144\u001b[0m         additional_field,\n\u001b[1;32m    145\u001b[0m         tables,\n\u001b[1;32m    146\u001b[0m         param,\n\u001b[1;32m    147\u001b[0m         t_out[param[\u001b[38;5;124m\"\u001b[39m\u001b[38;5;124mi_snap\u001b[39m\u001b[38;5;124m\"\u001b[39m] \u001b[38;5;241m-\u001b[39m \u001b[38;5;241m1\u001b[39m],\n\u001b[1;32m    148\u001b[0m     )  \n\u001b[1;32m    149\u001b[0m     h \u001b[38;5;241m=\u001b[39m \u001b[38;5;241m2\u001b[39m\u001b[38;5;241m*\u001b[39m\u001b[38;5;241m*\u001b[39m(\u001b[38;5;241m-\u001b[39m\u001b[38;5;241m1\u001b[39m\u001b[38;5;241m*\u001b[39mparam[\u001b[38;5;124m'\u001b[39m\u001b[38;5;124mncoarse\u001b[39m\u001b[38;5;124m'\u001b[39m])\n\u001b[1;32m    150\u001b[0m     \u001b[38;5;66;03m#print('Step:',param['nsteps'],position[0],velocity[0],laplacian.operator(additional_field,h)[0])# Put None instead of potential if you do not want to use previous step\u001b[39;00m\n",
      "File \u001b[0;32m~/Dropbox/prograceray/pysco-eft-testlin-modpoisson/pysco/utils.py:51\u001b[0m, in \u001b[0;36mtime_me.<locals>.time_func\u001b[0;34m(*args, **kw)\u001b[0m\n\u001b[1;32m     43\u001b[0m \u001b[38;5;250m\u001b[39m\u001b[38;5;124;03m\"\"\"Wrapper\u001b[39;00m\n\u001b[1;32m     44\u001b[0m \n\u001b[1;32m     45\u001b[0m \u001b[38;5;124;03mReturns\u001b[39;00m\n\u001b[0;32m   (...)\u001b[0m\n\u001b[1;32m     48\u001b[0m \u001b[38;5;124;03m    Print time (in seconds)\u001b[39;00m\n\u001b[1;32m     49\u001b[0m \u001b[38;5;124;03m\"\"\"\u001b[39;00m\n\u001b[1;32m     50\u001b[0m t1 \u001b[38;5;241m=\u001b[39m perf_counter()\n\u001b[0;32m---> 51\u001b[0m result \u001b[38;5;241m=\u001b[39m func(\u001b[38;5;241m*\u001b[39margs, \u001b[38;5;241m*\u001b[39m\u001b[38;5;241m*\u001b[39mkw)\n\u001b[1;32m     52\u001b[0m logging\u001b[38;5;241m.\u001b[39minfo(\n\u001b[1;32m     53\u001b[0m     \u001b[38;5;124mf\u001b[39m\u001b[38;5;124m\"\u001b[39m\u001b[38;5;124mFunction \u001b[39m\u001b[38;5;132;01m{\u001b[39;00mfunc\u001b[38;5;241m.\u001b[39m\u001b[38;5;18m__name__\u001b[39m\u001b[38;5;132;01m:\u001b[39;00m\u001b[38;5;124m->40\u001b[39m\u001b[38;5;132;01m}\u001b[39;00m\u001b[38;5;124m took \u001b[39m\u001b[38;5;132;01m{\u001b[39;00mperf_counter()\u001b[38;5;250m \u001b[39m\u001b[38;5;241m-\u001b[39m\u001b[38;5;250m \u001b[39mt1\u001b[38;5;132;01m:\u001b[39;00m\u001b[38;5;124m.12f\u001b[39m\u001b[38;5;132;01m}\u001b[39;00m\u001b[38;5;124m seconds\u001b[39m\u001b[38;5;132;01m{\u001b[39;00m\u001b[38;5;124m'\u001b[39m\u001b[38;5;124m'\u001b[39m\u001b[38;5;132;01m:\u001b[39;00m\u001b[38;5;132;01m{\u001b[39;00m\u001b[38;5;124m'\u001b[39m\u001b[38;5;124m-\u001b[39m\u001b[38;5;124m'\u001b[39m\u001b[38;5;132;01m}\u001b[39;00m\u001b[38;5;124m<\u001b[39m\u001b[38;5;132;01m{\u001b[39;00m\u001b[38;5;241m10\u001b[39m\u001b[38;5;132;01m}\u001b[39;00m\u001b[38;5;132;01m}\u001b[39;00m\u001b[38;5;124m\"\u001b[39m\n\u001b[1;32m     54\u001b[0m )\n\u001b[1;32m     55\u001b[0m \u001b[38;5;28;01mreturn\u001b[39;00m result\n",
      "File \u001b[0;32m~/Dropbox/prograceray/pysco-eft-testlin-modpoisson/pysco/integration.py:96\u001b[0m, in \u001b[0;36mintegrate\u001b[0;34m(position, velocity, acceleration, potential, additional_field, tables, param, t_snap_next)\u001b[0m\n\u001b[1;32m     90\u001b[0m logging\u001b[38;5;241m.\u001b[39minfo(\n\u001b[1;32m     91\u001b[0m     \u001b[38;5;124mf\u001b[39m\u001b[38;5;124m\"\u001b[39m\u001b[38;5;124mConditions: velocity \u001b[39m\u001b[38;5;132;01m{\u001b[39;00mdt1\u001b[38;5;132;01m=}\u001b[39;00m\u001b[38;5;124m, acceleration \u001b[39m\u001b[38;5;132;01m{\u001b[39;00mdt2\u001b[38;5;132;01m=}\u001b[39;00m\u001b[38;5;124m, scale factor \u001b[39m\u001b[38;5;132;01m{\u001b[39;00mdt3\u001b[38;5;132;01m=}\u001b[39;00m\u001b[38;5;124m\"\u001b[39m\n\u001b[1;32m     92\u001b[0m )\n\u001b[1;32m     93\u001b[0m INTEGRATOR \u001b[38;5;241m=\u001b[39m param[\u001b[38;5;124m\"\u001b[39m\u001b[38;5;124mintegrator\u001b[39m\u001b[38;5;124m\"\u001b[39m]\u001b[38;5;241m.\u001b[39mcasefold()\n\u001b[1;32m     94\u001b[0m \u001b[38;5;28;01mmatch\u001b[39;00m INTEGRATOR:\n\u001b[1;32m     95\u001b[0m     \u001b[38;5;28;01mcase\u001b[39;00m \u001b[38;5;124m\"\u001b[39m\u001b[38;5;124mleapfrog\u001b[39m\u001b[38;5;124m\"\u001b[39m:\n\u001b[0;32m---> 96\u001b[0m         \u001b[38;5;28;01mreturn\u001b[39;00m leapfrog(\n\u001b[1;32m     97\u001b[0m             position,\n\u001b[1;32m     98\u001b[0m             velocity,\n\u001b[1;32m     99\u001b[0m             acceleration,\n\u001b[1;32m    100\u001b[0m             potential,\n\u001b[1;32m    101\u001b[0m             additional_field,\n\u001b[1;32m    102\u001b[0m             dt,\n\u001b[1;32m    103\u001b[0m             tables,\n\u001b[1;32m    104\u001b[0m             param,\n\u001b[1;32m    105\u001b[0m         )\n\u001b[1;32m    106\u001b[0m     \u001b[38;5;28;01mcase\u001b[39;00m \u001b[38;5;124m\"\u001b[39m\u001b[38;5;124meuler\u001b[39m\u001b[38;5;124m\"\u001b[39m:\n\u001b[1;32m    107\u001b[0m         \u001b[38;5;28;01mreturn\u001b[39;00m euler(\n\u001b[1;32m    108\u001b[0m             position,\n\u001b[1;32m    109\u001b[0m             velocity,\n\u001b[1;32m    110\u001b[0m             acceleration,\n\u001b[1;32m    111\u001b[0m             potential,\n\u001b[1;32m    112\u001b[0m             additional_field,\n\u001b[1;32m    113\u001b[0m             dt,\n\u001b[1;32m    114\u001b[0m             tables,\n\u001b[1;32m    115\u001b[0m             param,\n\u001b[1;32m    116\u001b[0m         )\n\u001b[1;32m    117\u001b[0m     \u001b[38;5;28;01mcase\u001b[39;00m\u001b[38;5;250m \u001b[39m\u001b[38;5;28;01m_\u001b[39;00m:\n\u001b[1;32m    118\u001b[0m         \u001b[38;5;28;01mraise\u001b[39;00m \u001b[38;5;167;01mValueError\u001b[39;00m(\u001b[38;5;124m\"\u001b[39m\u001b[38;5;124mERROR: Integrator must be \u001b[39m\u001b[38;5;124m'\u001b[39m\u001b[38;5;124mleapfrog\u001b[39m\u001b[38;5;124m'\u001b[39m\u001b[38;5;124m or \u001b[39m\u001b[38;5;124m'\u001b[39m\u001b[38;5;124meuler\u001b[39m\u001b[38;5;124m'\u001b[39m\u001b[38;5;124m\"\u001b[39m)\n",
      "File \u001b[0;32m~/Dropbox/prograceray/pysco-eft-testlin-modpoisson/pysco/integration.py:259\u001b[0m, in \u001b[0;36mleapfrog\u001b[0;34m(position, velocity, acceleration, potential, additional_field, dt, tables, param)\u001b[0m\n\u001b[1;32m    257\u001b[0m utils\u001b[38;5;241m.\u001b[39mset_units(param)\n\u001b[1;32m    258\u001b[0m utils\u001b[38;5;241m.\u001b[39mperiodic_wrap(position)\n\u001b[0;32m--> 259\u001b[0m acceleration, potential, additional_field \u001b[38;5;241m=\u001b[39m solver\u001b[38;5;241m.\u001b[39mpm(\n\u001b[1;32m    260\u001b[0m     position, param, potential, additional_field, tables\n\u001b[1;32m    261\u001b[0m )\n\u001b[1;32m    262\u001b[0m utils\u001b[38;5;241m.\u001b[39madd_vector_scalar_inplace(velocity, acceleration, \u001b[38;5;241m-\u001b[39mhalf_dt)\n\u001b[1;32m    264\u001b[0m \u001b[38;5;28;01mreturn\u001b[39;00m position, velocity, acceleration, potential, additional_field\n",
      "File \u001b[0;32m~/Dropbox/prograceray/pysco-eft-testlin-modpoisson/pysco/utils.py:51\u001b[0m, in \u001b[0;36mtime_me.<locals>.time_func\u001b[0;34m(*args, **kw)\u001b[0m\n\u001b[1;32m     43\u001b[0m \u001b[38;5;250m\u001b[39m\u001b[38;5;124;03m\"\"\"Wrapper\u001b[39;00m\n\u001b[1;32m     44\u001b[0m \n\u001b[1;32m     45\u001b[0m \u001b[38;5;124;03mReturns\u001b[39;00m\n\u001b[0;32m   (...)\u001b[0m\n\u001b[1;32m     48\u001b[0m \u001b[38;5;124;03m    Print time (in seconds)\u001b[39;00m\n\u001b[1;32m     49\u001b[0m \u001b[38;5;124;03m\"\"\"\u001b[39;00m\n\u001b[1;32m     50\u001b[0m t1 \u001b[38;5;241m=\u001b[39m perf_counter()\n\u001b[0;32m---> 51\u001b[0m result \u001b[38;5;241m=\u001b[39m func(\u001b[38;5;241m*\u001b[39margs, \u001b[38;5;241m*\u001b[39m\u001b[38;5;241m*\u001b[39mkw)\n\u001b[1;32m     52\u001b[0m logging\u001b[38;5;241m.\u001b[39minfo(\n\u001b[1;32m     53\u001b[0m     \u001b[38;5;124mf\u001b[39m\u001b[38;5;124m\"\u001b[39m\u001b[38;5;124mFunction \u001b[39m\u001b[38;5;132;01m{\u001b[39;00mfunc\u001b[38;5;241m.\u001b[39m\u001b[38;5;18m__name__\u001b[39m\u001b[38;5;132;01m:\u001b[39;00m\u001b[38;5;124m->40\u001b[39m\u001b[38;5;132;01m}\u001b[39;00m\u001b[38;5;124m took \u001b[39m\u001b[38;5;132;01m{\u001b[39;00mperf_counter()\u001b[38;5;250m \u001b[39m\u001b[38;5;241m-\u001b[39m\u001b[38;5;250m \u001b[39mt1\u001b[38;5;132;01m:\u001b[39;00m\u001b[38;5;124m.12f\u001b[39m\u001b[38;5;132;01m}\u001b[39;00m\u001b[38;5;124m seconds\u001b[39m\u001b[38;5;132;01m{\u001b[39;00m\u001b[38;5;124m'\u001b[39m\u001b[38;5;124m'\u001b[39m\u001b[38;5;132;01m:\u001b[39;00m\u001b[38;5;132;01m{\u001b[39;00m\u001b[38;5;124m'\u001b[39m\u001b[38;5;124m-\u001b[39m\u001b[38;5;124m'\u001b[39m\u001b[38;5;132;01m}\u001b[39;00m\u001b[38;5;124m<\u001b[39m\u001b[38;5;132;01m{\u001b[39;00m\u001b[38;5;241m10\u001b[39m\u001b[38;5;132;01m}\u001b[39;00m\u001b[38;5;132;01m}\u001b[39;00m\u001b[38;5;124m\"\u001b[39m\n\u001b[1;32m     54\u001b[0m )\n\u001b[1;32m     55\u001b[0m \u001b[38;5;28;01mreturn\u001b[39;00m result\n",
      "File \u001b[0;32m~/Dropbox/prograceray/pysco-eft-testlin-modpoisson/pysco/solver.py:142\u001b[0m, in \u001b[0;36mpm\u001b[0;34m(position, param, potential, additional_field, tables)\u001b[0m\n\u001b[1;32m    139\u001b[0m     iostream\u001b[38;5;241m.\u001b[39mwrite_power_spectrum_to_ascii_file(k, Pk, Nmodes, param)\n\u001b[1;32m    141\u001b[0m param[\u001b[38;5;124m\"\u001b[39m\u001b[38;5;124mcompute_additional_field\u001b[39m\u001b[38;5;124m\"\u001b[39m] \u001b[38;5;241m=\u001b[39m \u001b[38;5;28;01mTrue\u001b[39;00m\n\u001b[0;32m--> 142\u001b[0m additional_field \u001b[38;5;241m=\u001b[39m get_additional_field(additional_field, density, h, param, tables)\n\u001b[1;32m    148\u001b[0m \u001b[38;5;66;03m# TODO: Try to keep Phidot and initialise Phi_i = Phi_(i-1) + Phidot*dt\u001b[39;00m\n\u001b[1;32m    149\u001b[0m param[\u001b[38;5;124m\"\u001b[39m\u001b[38;5;124mcompute_additional_field\u001b[39m\u001b[38;5;124m\"\u001b[39m] \u001b[38;5;241m=\u001b[39m \u001b[38;5;28;01mFalse\u001b[39;00m\n",
      "File \u001b[0;32m~/Dropbox/prograceray/pysco-eft-testlin-modpoisson/pysco/solver.py:450\u001b[0m, in \u001b[0;36mget_additional_field\u001b[0;34m(additional_field, density, h, param, tables)\u001b[0m\n\u001b[1;32m    317\u001b[0m \u001b[38;5;250m\u001b[39m\u001b[38;5;124;03m\"\"\"Get additional field for MG theories\u001b[39;00m\n\u001b[1;32m    318\u001b[0m \n\u001b[1;32m    319\u001b[0m \u001b[38;5;124;03mReturns empty array for Newtonian mode\u001b[39;00m\n\u001b[0;32m   (...)\u001b[0m\n\u001b[1;32m    349\u001b[0m \u001b[38;5;124;03m>>> additional_field = get_additional_field(additional_field, density, h, param, tables)\u001b[39;00m\n\u001b[1;32m    350\u001b[0m \u001b[38;5;124;03m\"\"\"\u001b[39;00m\n\u001b[1;32m    351\u001b[0m THEORY \u001b[38;5;241m=\u001b[39m param[\u001b[38;5;124m\"\u001b[39m\u001b[38;5;124mtheory\u001b[39m\u001b[38;5;124m\"\u001b[39m]\u001b[38;5;241m.\u001b[39mcasefold()\n\u001b[1;32m    352\u001b[0m \u001b[38;5;28;01mmatch\u001b[39;00m THEORY:\n\u001b[1;32m    353\u001b[0m     \u001b[38;5;28;01mcase\u001b[39;00m \u001b[38;5;124m\"\u001b[39m\u001b[38;5;124mnewton\u001b[39m\u001b[38;5;124m\"\u001b[39m \u001b[38;5;241m|\u001b[39m \u001b[38;5;124m\"\u001b[39m\u001b[38;5;124mparametrized\u001b[39m\u001b[38;5;124m\"\u001b[39m:\n\u001b[1;32m    354\u001b[0m         \u001b[38;5;28;01mreturn\u001b[39;00m np\u001b[38;5;241m.\u001b[39mempty(\u001b[38;5;241m0\u001b[39m, dtype\u001b[38;5;241m=\u001b[39mnp\u001b[38;5;241m.\u001b[39mfloat32)\n\u001b[1;32m    355\u001b[0m     \u001b[38;5;28;01mcase\u001b[39;00m \u001b[38;5;124m\"\u001b[39m\u001b[38;5;124mfr\u001b[39m\u001b[38;5;124m\"\u001b[39m:\n\u001b[1;32m    356\u001b[0m         Rbar \u001b[38;5;241m=\u001b[39m \u001b[38;5;241m3\u001b[39m \u001b[38;5;241m*\u001b[39m param[\u001b[38;5;124m\"\u001b[39m\u001b[38;5;124mOm_m\u001b[39m\u001b[38;5;124m\"\u001b[39m] \u001b[38;5;241m*\u001b[39m param[\u001b[38;5;124m\"\u001b[39m\u001b[38;5;124maexp\u001b[39m\u001b[38;5;124m\"\u001b[39m] \u001b[38;5;241m*\u001b[39m\u001b[38;5;241m*\u001b[39m (\u001b[38;5;241m-\u001b[39m\u001b[38;5;241m3\u001b[39m) \u001b[38;5;241m+\u001b[39m \u001b[38;5;241m12\u001b[39m \u001b[38;5;241m*\u001b[39m param[\u001b[38;5;124m\"\u001b[39m\u001b[38;5;124mOm_lambda\u001b[39m\u001b[38;5;124m\"\u001b[39m]\n\u001b[1;32m    357\u001b[0m         Rbar0 \u001b[38;5;241m=\u001b[39m \u001b[38;5;241m3\u001b[39m \u001b[38;5;241m*\u001b[39m param[\u001b[38;5;124m\"\u001b[39m\u001b[38;5;124mOm_m\u001b[39m\u001b[38;5;124m\"\u001b[39m] \u001b[38;5;241m+\u001b[39m \u001b[38;5;241m12\u001b[39m \u001b[38;5;241m*\u001b[39m param[\u001b[38;5;124m\"\u001b[39m\u001b[38;5;124mOm_lambda\u001b[39m\u001b[38;5;124m\"\u001b[39m]\n\u001b[1;32m    358\u001b[0m         fR_a \u001b[38;5;241m=\u001b[39m (\n\u001b[1;32m    359\u001b[0m             \u001b[38;5;241m-\u001b[39mparam[\u001b[38;5;124m\"\u001b[39m\u001b[38;5;124maexp\u001b[39m\u001b[38;5;124m\"\u001b[39m] \u001b[38;5;241m*\u001b[39m\u001b[38;5;241m*\u001b[39m \u001b[38;5;241m2\u001b[39m\n\u001b[1;32m    360\u001b[0m             \u001b[38;5;241m*\u001b[39m ((Rbar0 \u001b[38;5;241m/\u001b[39m Rbar) \u001b[38;5;241m*\u001b[39m\u001b[38;5;241m*\u001b[39m (param[\u001b[38;5;124m\"\u001b[39m\u001b[38;5;124mfR_n\u001b[39m\u001b[38;5;124m\"\u001b[39m] \u001b[38;5;241m+\u001b[39m \u001b[38;5;241m1\u001b[39m))\n\u001b[1;32m    361\u001b[0m             \u001b[38;5;241m*\u001b[39m \u001b[38;5;241m10.0\u001b[39m \u001b[38;5;241m*\u001b[39m\u001b[38;5;241m*\u001b[39m (\u001b[38;5;241m-\u001b[39mparam[\u001b[38;5;124m\"\u001b[39m\u001b[38;5;124mfR_logfR0\u001b[39m\u001b[38;5;124m\"\u001b[39m])\n\u001b[1;32m    362\u001b[0m         )\n\u001b[1;32m    363\u001b[0m         c2 \u001b[38;5;241m=\u001b[39m (\n\u001b[1;32m    364\u001b[0m             c\u001b[38;5;241m.\u001b[39mvalue \u001b[38;5;241m*\u001b[39m \u001b[38;5;241m1e-3\u001b[39m \u001b[38;5;241m*\u001b[39m param[\u001b[38;5;124m\"\u001b[39m\u001b[38;5;124munit_t\u001b[39m\u001b[38;5;124m\"\u001b[39m] \u001b[38;5;241m/\u001b[39m (param[\u001b[38;5;124m\"\u001b[39m\u001b[38;5;124munit_l\u001b[39m\u001b[38;5;124m\"\u001b[39m] \u001b[38;5;241m*\u001b[39m param[\u001b[38;5;124m\"\u001b[39m\u001b[38;5;124maexp\u001b[39m\u001b[38;5;124m\"\u001b[39m])\n\u001b[1;32m    365\u001b[0m         ) \u001b[38;5;241m*\u001b[39m\u001b[38;5;241m*\u001b[39m \u001b[38;5;241m2\u001b[39m  \u001b[38;5;66;03m# m -> km -> BU\u001b[39;00m\n\u001b[1;32m    366\u001b[0m         f1 \u001b[38;5;241m=\u001b[39m np\u001b[38;5;241m.\u001b[39mfloat32(param[\u001b[38;5;124m\"\u001b[39m\u001b[38;5;124maexp\u001b[39m\u001b[38;5;124m\"\u001b[39m] \u001b[38;5;241m*\u001b[39m param[\u001b[38;5;124m\"\u001b[39m\u001b[38;5;124mOm_m\u001b[39m\u001b[38;5;124m\"\u001b[39m] \u001b[38;5;241m/\u001b[39m (c2 \u001b[38;5;241m*\u001b[39m \u001b[38;5;241m6\u001b[39m)) \u001b[38;5;241m/\u001b[39m (\u001b[38;5;241m-\u001b[39mfR_a)\n\u001b[1;32m    367\u001b[0m         f2 \u001b[38;5;241m=\u001b[39m (\n\u001b[1;32m    368\u001b[0m             np\u001b[38;5;241m.\u001b[39mfloat32(\n\u001b[1;32m    369\u001b[0m                 Rbar \u001b[38;5;241m/\u001b[39m \u001b[38;5;241m3\u001b[39m \u001b[38;5;241m*\u001b[39m param[\u001b[38;5;124m\"\u001b[39m\u001b[38;5;124maexp\u001b[39m\u001b[38;5;124m\"\u001b[39m] \u001b[38;5;241m*\u001b[39m\u001b[38;5;241m*\u001b[39m \u001b[38;5;241m4\u001b[39m \u001b[38;5;241m-\u001b[39m param[\u001b[38;5;124m\"\u001b[39m\u001b[38;5;124mOm_m\u001b[39m\u001b[38;5;124m\"\u001b[39m] \u001b[38;5;241m*\u001b[39m param[\u001b[38;5;124m\"\u001b[39m\u001b[38;5;124maexp\u001b[39m\u001b[38;5;124m\"\u001b[39m]\n\u001b[1;32m    370\u001b[0m             )\n\u001b[1;32m    371\u001b[0m             \u001b[38;5;241m/\u001b[39m (\u001b[38;5;241m6\u001b[39m \u001b[38;5;241m*\u001b[39m c2)\n\u001b[1;32m    372\u001b[0m             \u001b[38;5;241m/\u001b[39m (\u001b[38;5;241m-\u001b[39mfR_a)\n\u001b[1;32m    373\u001b[0m         )\n\u001b[1;32m    374\u001b[0m         dens_term \u001b[38;5;241m=\u001b[39m utils\u001b[38;5;241m.\u001b[39mlinear_operator(density, f1, f2)\n\u001b[1;32m    375\u001b[0m \n\u001b[1;32m    376\u001b[0m         q \u001b[38;5;241m=\u001b[39m np\u001b[38;5;241m.\u001b[39mfloat32(\u001b[38;5;241m-\u001b[39mparam[\u001b[38;5;124m\"\u001b[39m\u001b[38;5;124maexp\u001b[39m\u001b[38;5;124m\"\u001b[39m] \u001b[38;5;241m*\u001b[39m\u001b[38;5;241m*\u001b[39m \u001b[38;5;241m4\u001b[39m \u001b[38;5;241m*\u001b[39m Rbar \u001b[38;5;241m/\u001b[39m (\u001b[38;5;241m18\u001b[39m \u001b[38;5;241m*\u001b[39m c2)) \u001b[38;5;241m/\u001b[39m (\u001b[38;5;241m-\u001b[39mfR_a)\n\u001b[1;32m    377\u001b[0m         param[\u001b[38;5;124m\"\u001b[39m\u001b[38;5;124mfR_q\u001b[39m\u001b[38;5;124m\"\u001b[39m] \u001b[38;5;241m=\u001b[39m q\n\u001b[1;32m    378\u001b[0m         additional_field \u001b[38;5;241m=\u001b[39m initialise_potential(\n\u001b[1;32m    379\u001b[0m             additional_field, dens_term, h, param, tables\n\u001b[1;32m    380\u001b[0m         )\n\u001b[1;32m    381\u001b[0m         u_scalaron \u001b[38;5;241m=\u001b[39m additional_field\n\u001b[1;32m    382\u001b[0m         u_scalaron \u001b[38;5;241m=\u001b[39m multigrid\u001b[38;5;241m.\u001b[39mFAS(u_scalaron, dens_term, h, param)\n\u001b[1;32m    383\u001b[0m         \u001b[38;5;28;01mif\u001b[39;00m (param[\u001b[38;5;124m\"\u001b[39m\u001b[38;5;124mnsteps\u001b[39m\u001b[38;5;124m\"\u001b[39m]) \u001b[38;5;241m%\u001b[39m \u001b[38;5;241m10\u001b[39m \u001b[38;5;241m==\u001b[39m \u001b[38;5;241m0\u001b[39m:\n\u001b[1;32m    384\u001b[0m             logging\u001b[38;5;241m.\u001b[39minfo(\n\u001b[1;32m    385\u001b[0m                 \u001b[38;5;124mf\u001b[39m\u001b[38;5;124m\"\u001b[39m\u001b[38;5;132;01m{\u001b[39;00mnp\u001b[38;5;241m.\u001b[39mmean(u_scalaron)\u001b[38;5;132;01m=}\u001b[39;00m\u001b[38;5;124m, should be close to 1 (actually <1/u_sclaron> should be conserved)\u001b[39m\u001b[38;5;124m\"\u001b[39m\n\u001b[1;32m    386\u001b[0m             )\n\u001b[1;32m    387\u001b[0m         logging\u001b[38;5;241m.\u001b[39minfo(\u001b[38;5;124mf\u001b[39m\u001b[38;5;124m\"\u001b[39m\u001b[38;5;132;01m{\u001b[39;00mfR_a\u001b[38;5;132;01m=}\u001b[39;00m\u001b[38;5;124m\"\u001b[39m)\n\u001b[1;32m    388\u001b[0m         \u001b[38;5;28;01mreturn\u001b[39;00m u_scalaron\n\u001b[1;32m    389\u001b[0m     \u001b[38;5;28;01mcase\u001b[39;00m \u001b[38;5;124m\"\u001b[39m\u001b[38;5;124mmond\u001b[39m\u001b[38;5;124m\"\u001b[39m:\n\u001b[1;32m    390\u001b[0m         rhs_poisson(density, additional_field, param, h)\n\u001b[1;32m    391\u001b[0m         LINEAR_NEWTON_SOLVER \u001b[38;5;241m=\u001b[39m param[\u001b[38;5;124m\"\u001b[39m\u001b[38;5;124mlinear_newton_solver\u001b[39m\u001b[38;5;124m\"\u001b[39m]\u001b[38;5;241m.\u001b[39mcasefold()\n\u001b[1;32m    392\u001b[0m         \u001b[38;5;28;01mif\u001b[39;00m LINEAR_NEWTON_SOLVER \u001b[38;5;241m==\u001b[39m \u001b[38;5;124m\"\u001b[39m\u001b[38;5;124mmultigrid\u001b[39m\u001b[38;5;124m\"\u001b[39m:\n\u001b[1;32m    393\u001b[0m             additional_field \u001b[38;5;241m=\u001b[39m initialise_potential(\n\u001b[1;32m    394\u001b[0m                 additional_field, density, h, param, tables\n\u001b[1;32m    395\u001b[0m             )\n\u001b[1;32m    396\u001b[0m             additional_field \u001b[38;5;241m=\u001b[39m multigrid\u001b[38;5;241m.\u001b[39mlinear(additional_field, density, h, param)\n\u001b[1;32m    397\u001b[0m         \u001b[38;5;28;01melif\u001b[39;00m LINEAR_NEWTON_SOLVER \u001b[38;5;241m==\u001b[39m \u001b[38;5;124m\"\u001b[39m\u001b[38;5;124mfft_7pt\u001b[39m\u001b[38;5;124m\"\u001b[39m:\n\u001b[1;32m    398\u001b[0m             additional_field \u001b[38;5;241m=\u001b[39m fft(density, param)\n\u001b[1;32m    399\u001b[0m         \u001b[38;5;28;01melse\u001b[39;00m:\n\u001b[1;32m    400\u001b[0m             \u001b[38;5;28;01mraise\u001b[39;00m \u001b[38;5;167;01mValueError\u001b[39;00m(\n\u001b[1;32m    401\u001b[0m                 \u001b[38;5;124mf\u001b[39m\u001b[38;5;124m\"\u001b[39m\u001b[38;5;132;01m{\u001b[39;00mparam[\u001b[38;5;124m'\u001b[39m\u001b[38;5;124mlinear_newton_solver\u001b[39m\u001b[38;5;124m'\u001b[39m]\u001b[38;5;132;01m=}\u001b[39;00m\u001b[38;5;124m, should be \u001b[39m\u001b[38;5;124m'\u001b[39m\u001b[38;5;124mmultigrid\u001b[39m\u001b[38;5;124m'\u001b[39m\u001b[38;5;124m or \u001b[39m\u001b[38;5;124m'\u001b[39m\u001b[38;5;124mfft_7pt\u001b[39m\u001b[38;5;124m'\u001b[39m\u001b[38;5;124m\"\u001b[39m\n\u001b[1;32m    402\u001b[0m             )\n\u001b[1;32m    403\u001b[0m         \u001b[38;5;28;01mreturn\u001b[39;00m additional_field\n\u001b[1;32m    404\u001b[0m     \n\u001b[1;32m    405\u001b[0m     \u001b[38;5;28;01mcase\u001b[39;00m \u001b[38;5;124m\"\u001b[39m\u001b[38;5;124meft\u001b[39m\u001b[38;5;124m\"\u001b[39m:\n\u001b[1;32m    406\u001b[0m \n\u001b[1;32m    407\u001b[0m         eft_quantities \u001b[38;5;241m=\u001b[39m eftcalcs\u001b[38;5;241m.\u001b[39mgeteft(param,tables)\n\u001b[1;32m    408\u001b[0m         param[\u001b[38;5;124m\"\u001b[39m\u001b[38;5;124malphaB\u001b[39m\u001b[38;5;124m\"\u001b[39m] \u001b[38;5;241m=\u001b[39m eft_quantities[\u001b[38;5;241m0\u001b[39m]\n\u001b[1;32m    409\u001b[0m         param[\u001b[38;5;124m\"\u001b[39m\u001b[38;5;124malphaM\u001b[39m\u001b[38;5;124m\"\u001b[39m] \u001b[38;5;241m=\u001b[39m eft_quantities[\u001b[38;5;241m1\u001b[39m]\n\u001b[1;32m    410\u001b[0m         param[\u001b[38;5;124m\"\u001b[39m\u001b[38;5;124mC2\u001b[39m\u001b[38;5;124m\"\u001b[39m] \u001b[38;5;241m=\u001b[39m eft_quantities[\u001b[38;5;241m2\u001b[39m]\n\u001b[1;32m    411\u001b[0m         param[\u001b[38;5;124m\"\u001b[39m\u001b[38;5;124mC4\u001b[39m\u001b[38;5;124m\"\u001b[39m] \u001b[38;5;241m=\u001b[39m eft_quantities[\u001b[38;5;241m3\u001b[39m]\n\u001b[1;32m    412\u001b[0m         Eval \u001b[38;5;241m=\u001b[39m tables[\u001b[38;5;241m2\u001b[39m] \n\u001b[1;32m    413\u001b[0m         param[\u001b[38;5;124m\"\u001b[39m\u001b[38;5;124mH\u001b[39m\u001b[38;5;124m\"\u001b[39m] \u001b[38;5;241m=\u001b[39m Eval(np\u001b[38;5;241m.\u001b[39mlog(param[\u001b[38;5;124m\"\u001b[39m\u001b[38;5;124maexp\u001b[39m\u001b[38;5;124m\"\u001b[39m])) \u001b[38;5;241m/\u001b[39m param[\u001b[38;5;124m\"\u001b[39m\u001b[38;5;124mH0\u001b[39m\u001b[38;5;124m\"\u001b[39m]\n\u001b[1;32m    414\u001b[0m         \u001b[38;5;66;03m#print(eft_quantities,param['H'],param['parametrized_mu_z'])\u001b[39;00m\n\u001b[1;32m    415\u001b[0m         \u001b[38;5;66;03m#param['H'] = np.float32(1)\u001b[39;00m\n\u001b[1;32m    416\u001b[0m         \n\u001b[1;32m    417\u001b[0m \n\u001b[1;32m    418\u001b[0m         f1 \u001b[38;5;241m=\u001b[39m np\u001b[38;5;241m.\u001b[39mfloat32(\n\u001b[1;32m    419\u001b[0m         \u001b[38;5;241m1.5\u001b[39m \u001b[38;5;241m*\u001b[39m param[\u001b[38;5;124m\"\u001b[39m\u001b[38;5;124maexp\u001b[39m\u001b[38;5;124m\"\u001b[39m] \u001b[38;5;241m*\u001b[39m param[\u001b[38;5;124m\"\u001b[39m\u001b[38;5;124mOm_m\u001b[39m\u001b[38;5;124m\"\u001b[39m] \u001b[38;5;241m*\u001b[39m param[\u001b[38;5;124m\"\u001b[39m\u001b[38;5;124mparametrized_mu_z\u001b[39m\u001b[38;5;124m\"\u001b[39m]\n\u001b[1;32m    420\u001b[0m         )   \n\u001b[1;32m    421\u001b[0m         f2 \u001b[38;5;241m=\u001b[39m \u001b[38;5;241m-\u001b[39mf1\n\u001b[1;32m    422\u001b[0m \n\u001b[1;32m    423\u001b[0m         \n\u001b[1;32m    424\u001b[0m \n\u001b[1;32m    425\u001b[0m         chi \u001b[38;5;241m=\u001b[39m additional_field\n\u001b[1;32m    426\u001b[0m \n\u001b[1;32m    427\u001b[0m          \u001b[38;5;66;03m# newtonian recasting\u001b[39;00m\n\u001b[1;32m    428\u001b[0m \n\u001b[1;32m    429\u001b[0m         \u001b[38;5;28;01mif\u001b[39;00m param[\u001b[38;5;124m'\u001b[39m\u001b[38;5;124mnewton\u001b[39m\u001b[38;5;124m'\u001b[39m]:\n\u001b[1;32m    430\u001b[0m \n\u001b[1;32m    431\u001b[0m             lapfac \u001b[38;5;241m=\u001b[39m (param[\u001b[38;5;124m\"\u001b[39m\u001b[38;5;124malphaB\u001b[39m\u001b[38;5;124m\"\u001b[39m] \u001b[38;5;241m-\u001b[39m param[\u001b[38;5;124m\"\u001b[39m\u001b[38;5;124malphaM\u001b[39m\u001b[38;5;124m\"\u001b[39m]) \u001b[38;5;241m/\u001b[39m (\u001b[38;5;241m2\u001b[39m\u001b[38;5;241m*\u001b[39mparam[\u001b[38;5;124m\"\u001b[39m\u001b[38;5;124malphaB\u001b[39m\u001b[38;5;124m\"\u001b[39m]\u001b[38;5;241m*\u001b[39mparam[\u001b[38;5;124m\"\u001b[39m\u001b[38;5;124malphaM\u001b[39m\u001b[38;5;124m\"\u001b[39m] \u001b[38;5;241m-\u001b[39m param[\u001b[38;5;124m\"\u001b[39m\u001b[38;5;124malphaB\u001b[39m\u001b[38;5;124m\"\u001b[39m]\u001b[38;5;241m*\u001b[39m\u001b[38;5;241m*\u001b[39m\u001b[38;5;241m2\u001b[39m \u001b[38;5;241m-\u001b[39m param[\u001b[38;5;124m\"\u001b[39m\u001b[38;5;124mC2\u001b[39m\u001b[38;5;124m\"\u001b[39m])\n\u001b[1;32m    432\u001b[0m             \u001b[38;5;28mprint\u001b[39m(\u001b[38;5;124m'\u001b[39m\u001b[38;5;124mChi Laplacian Factor:\u001b[39m\u001b[38;5;124m'\u001b[39m,lapfac)\n\u001b[1;32m    433\u001b[0m             dens_term \u001b[38;5;241m=\u001b[39m utils\u001b[38;5;241m.\u001b[39mlinear_operator(density,f1,f2)\n\u001b[1;32m    434\u001b[0m             additional_field \u001b[38;5;241m=\u001b[39m initialise_potential(\n\u001b[1;32m    435\u001b[0m             additional_field, lapfac\u001b[38;5;241m*\u001b[39mdens_term, h, param,tables\n\u001b[1;32m    436\u001b[0m         )\n\u001b[1;32m    437\u001b[0m             chi \u001b[38;5;241m=\u001b[39m additional_field\n\u001b[1;32m    438\u001b[0m             \u001b[38;5;28mprint\u001b[39m(\u001b[38;5;124m'\u001b[39m\u001b[38;5;124mChi MG:\u001b[39m\u001b[38;5;124m'\u001b[39m)\n\u001b[1;32m    439\u001b[0m             chi \u001b[38;5;241m=\u001b[39m multigrid\u001b[38;5;241m.\u001b[39mlinear(chi,lapfac\u001b[38;5;241m*\u001b[39mdens_term,h,param)\n\u001b[1;32m    440\u001b[0m         \n\u001b[1;32m    441\u001b[0m         \u001b[38;5;28;01melse\u001b[39;00m:\n\u001b[1;32m    442\u001b[0m \n\u001b[1;32m    443\u001b[0m             \u001b[38;5;28mprint\u001b[39m(\u001b[38;5;124m'\u001b[39m\u001b[38;5;124mFull solver.\u001b[39m\u001b[38;5;124m'\u001b[39m)\n\u001b[1;32m    444\u001b[0m \n\u001b[1;32m    445\u001b[0m             dens_term \u001b[38;5;241m=\u001b[39m utils\u001b[38;5;241m.\u001b[39mlinear_operator(density,f1,f2)\n\u001b[1;32m    446\u001b[0m             additional_field \u001b[38;5;241m=\u001b[39m initialise_potential(\n\u001b[1;32m    447\u001b[0m             additional_field, dens_term, h, param,tables\n\u001b[1;32m    448\u001b[0m         )\n\u001b[1;32m    449\u001b[0m             chi \u001b[38;5;241m=\u001b[39m additional_field\n\u001b[0;32m--> 450\u001b[0m             chi \u001b[38;5;241m=\u001b[39m multigrid\u001b[38;5;241m.\u001b[39mFAS(chi, dens_term, h, param)\n\u001b[1;32m    451\u001b[0m \n\u001b[1;32m    452\u001b[0m \n\u001b[1;32m    453\u001b[0m \n\u001b[1;32m    454\u001b[0m         \n\u001b[1;32m    455\u001b[0m         \u001b[38;5;66;03m#\u001b[39;00m\n\u001b[1;32m    456\u001b[0m         \n\u001b[1;32m    457\u001b[0m         \u001b[38;5;66;03m#quadratic.smoothing(chi,dens_term,h,param['C2'],param['C4'],param['alphaB'],param['alphaM'],param['H'],param['aexp'],6)\u001b[39;00m\n\u001b[1;32m    458\u001b[0m         \u001b[38;5;28;01mreturn\u001b[39;00m chi\n\u001b[1;32m    459\u001b[0m \n\u001b[1;32m    460\u001b[0m \n\u001b[1;32m    461\u001b[0m     \u001b[38;5;28;01mcase\u001b[39;00m\u001b[38;5;250m \u001b[39m\u001b[38;5;28;01m_\u001b[39;00m:\n\u001b[1;32m    462\u001b[0m         \u001b[38;5;28;01mraise\u001b[39;00m \u001b[38;5;167;01mValueError\u001b[39;00m(\n\u001b[1;32m    463\u001b[0m             \u001b[38;5;124mf\u001b[39m\u001b[38;5;124m\"\u001b[39m\u001b[38;5;132;01m{\u001b[39;00mparam[\u001b[38;5;124m'\u001b[39m\u001b[38;5;124mtheory\u001b[39m\u001b[38;5;124m'\u001b[39m]\u001b[38;5;132;01m=}\u001b[39;00m\u001b[38;5;124m, should be \u001b[39m\u001b[38;5;124m'\u001b[39m\u001b[38;5;124mnewton\u001b[39m\u001b[38;5;124m'\u001b[39m\u001b[38;5;124m, \u001b[39m\u001b[38;5;124m'\u001b[39m\u001b[38;5;124mfr\u001b[39m\u001b[38;5;124m'\u001b[39m\u001b[38;5;124m, \u001b[39m\u001b[38;5;124m'\u001b[39m\u001b[38;5;124meft\u001b[39m\u001b[38;5;124m'\u001b[39m\u001b[38;5;124m, \u001b[39m\u001b[38;5;124m'\u001b[39m\u001b[38;5;124mparametrized\u001b[39m\u001b[38;5;124m'\u001b[39m\u001b[38;5;124m or \u001b[39m\u001b[38;5;124m'\u001b[39m\u001b[38;5;124mmond\u001b[39m\u001b[38;5;124m'\u001b[39m\u001b[38;5;124m\"\u001b[39m\n\u001b[1;32m    464\u001b[0m         )\n",
      "File \u001b[0;32m~/Dropbox/prograceray/pysco-eft-testlin-modpoisson/pysco/utils.py:51\u001b[0m, in \u001b[0;36mtime_me.<locals>.time_func\u001b[0;34m(*args, **kw)\u001b[0m\n\u001b[1;32m     43\u001b[0m \u001b[38;5;250m\u001b[39m\u001b[38;5;124;03m\"\"\"Wrapper\u001b[39;00m\n\u001b[1;32m     44\u001b[0m \n\u001b[1;32m     45\u001b[0m \u001b[38;5;124;03mReturns\u001b[39;00m\n\u001b[0;32m   (...)\u001b[0m\n\u001b[1;32m     48\u001b[0m \u001b[38;5;124;03m    Print time (in seconds)\u001b[39;00m\n\u001b[1;32m     49\u001b[0m \u001b[38;5;124;03m\"\"\"\u001b[39;00m\n\u001b[1;32m     50\u001b[0m t1 \u001b[38;5;241m=\u001b[39m perf_counter()\n\u001b[0;32m---> 51\u001b[0m result \u001b[38;5;241m=\u001b[39m func(\u001b[38;5;241m*\u001b[39margs, \u001b[38;5;241m*\u001b[39m\u001b[38;5;241m*\u001b[39mkw)\n\u001b[1;32m     52\u001b[0m logging\u001b[38;5;241m.\u001b[39minfo(\n\u001b[1;32m     53\u001b[0m     \u001b[38;5;124mf\u001b[39m\u001b[38;5;124m\"\u001b[39m\u001b[38;5;124mFunction \u001b[39m\u001b[38;5;132;01m{\u001b[39;00mfunc\u001b[38;5;241m.\u001b[39m\u001b[38;5;18m__name__\u001b[39m\u001b[38;5;132;01m:\u001b[39;00m\u001b[38;5;124m->40\u001b[39m\u001b[38;5;132;01m}\u001b[39;00m\u001b[38;5;124m took \u001b[39m\u001b[38;5;132;01m{\u001b[39;00mperf_counter()\u001b[38;5;250m \u001b[39m\u001b[38;5;241m-\u001b[39m\u001b[38;5;250m \u001b[39mt1\u001b[38;5;132;01m:\u001b[39;00m\u001b[38;5;124m.12f\u001b[39m\u001b[38;5;132;01m}\u001b[39;00m\u001b[38;5;124m seconds\u001b[39m\u001b[38;5;132;01m{\u001b[39;00m\u001b[38;5;124m'\u001b[39m\u001b[38;5;124m'\u001b[39m\u001b[38;5;132;01m:\u001b[39;00m\u001b[38;5;132;01m{\u001b[39;00m\u001b[38;5;124m'\u001b[39m\u001b[38;5;124m-\u001b[39m\u001b[38;5;124m'\u001b[39m\u001b[38;5;132;01m}\u001b[39;00m\u001b[38;5;124m<\u001b[39m\u001b[38;5;132;01m{\u001b[39;00m\u001b[38;5;241m10\u001b[39m\u001b[38;5;132;01m}\u001b[39;00m\u001b[38;5;132;01m}\u001b[39;00m\u001b[38;5;124m\"\u001b[39m\n\u001b[1;32m     54\u001b[0m )\n\u001b[1;32m     55\u001b[0m \u001b[38;5;28;01mreturn\u001b[39;00m result\n",
      "File \u001b[0;32m~/Dropbox/prograceray/pysco-eft-testlin-modpoisson/pysco/multigrid.py:148\u001b[0m, in \u001b[0;36mFAS\u001b[0;34m(x, b, h, param)\u001b[0m\n\u001b[1;32m    145\u001b[0m logging\u001b[38;5;241m.\u001b[39minfo(\u001b[38;5;124m\"\u001b[39m\u001b[38;5;124mStart Full-Approximation Storage Multigrid\u001b[39m\u001b[38;5;124m\"\u001b[39m)\n\u001b[1;32m    147\u001b[0m \u001b[38;5;28;01mfor\u001b[39;00m _ \u001b[38;5;129;01min\u001b[39;00m \u001b[38;5;28mrange\u001b[39m(\u001b[38;5;241m1\u001b[39m):\n\u001b[0;32m--> 148\u001b[0m     F_cycle_FAS(x, b, param)\n\u001b[1;32m    149\u001b[0m     \u001b[38;5;66;03m#print('xval:',x[0,0,0])\u001b[39;00m\n\u001b[1;32m    150\u001b[0m     residual_error_tmp \u001b[38;5;241m=\u001b[39m residual_error(x, b, h, param)\n",
      "File \u001b[0;32m~/Dropbox/prograceray/pysco-eft-testlin-modpoisson/pysco/utils.py:51\u001b[0m, in \u001b[0;36mtime_me.<locals>.time_func\u001b[0;34m(*args, **kw)\u001b[0m\n\u001b[1;32m     43\u001b[0m \u001b[38;5;250m\u001b[39m\u001b[38;5;124;03m\"\"\"Wrapper\u001b[39;00m\n\u001b[1;32m     44\u001b[0m \n\u001b[1;32m     45\u001b[0m \u001b[38;5;124;03mReturns\u001b[39;00m\n\u001b[0;32m   (...)\u001b[0m\n\u001b[1;32m     48\u001b[0m \u001b[38;5;124;03m    Print time (in seconds)\u001b[39;00m\n\u001b[1;32m     49\u001b[0m \u001b[38;5;124;03m\"\"\"\u001b[39;00m\n\u001b[1;32m     50\u001b[0m t1 \u001b[38;5;241m=\u001b[39m perf_counter()\n\u001b[0;32m---> 51\u001b[0m result \u001b[38;5;241m=\u001b[39m func(\u001b[38;5;241m*\u001b[39margs, \u001b[38;5;241m*\u001b[39m\u001b[38;5;241m*\u001b[39mkw)\n\u001b[1;32m     52\u001b[0m logging\u001b[38;5;241m.\u001b[39minfo(\n\u001b[1;32m     53\u001b[0m     \u001b[38;5;124mf\u001b[39m\u001b[38;5;124m\"\u001b[39m\u001b[38;5;124mFunction \u001b[39m\u001b[38;5;132;01m{\u001b[39;00mfunc\u001b[38;5;241m.\u001b[39m\u001b[38;5;18m__name__\u001b[39m\u001b[38;5;132;01m:\u001b[39;00m\u001b[38;5;124m->40\u001b[39m\u001b[38;5;132;01m}\u001b[39;00m\u001b[38;5;124m took \u001b[39m\u001b[38;5;132;01m{\u001b[39;00mperf_counter()\u001b[38;5;250m \u001b[39m\u001b[38;5;241m-\u001b[39m\u001b[38;5;250m \u001b[39mt1\u001b[38;5;132;01m:\u001b[39;00m\u001b[38;5;124m.12f\u001b[39m\u001b[38;5;132;01m}\u001b[39;00m\u001b[38;5;124m seconds\u001b[39m\u001b[38;5;132;01m{\u001b[39;00m\u001b[38;5;124m'\u001b[39m\u001b[38;5;124m'\u001b[39m\u001b[38;5;132;01m:\u001b[39;00m\u001b[38;5;132;01m{\u001b[39;00m\u001b[38;5;124m'\u001b[39m\u001b[38;5;124m-\u001b[39m\u001b[38;5;124m'\u001b[39m\u001b[38;5;132;01m}\u001b[39;00m\u001b[38;5;124m<\u001b[39m\u001b[38;5;132;01m{\u001b[39;00m\u001b[38;5;241m10\u001b[39m\u001b[38;5;132;01m}\u001b[39;00m\u001b[38;5;132;01m}\u001b[39;00m\u001b[38;5;124m\"\u001b[39m\n\u001b[1;32m     54\u001b[0m )\n\u001b[1;32m     55\u001b[0m \u001b[38;5;28;01mreturn\u001b[39;00m result\n",
      "File \u001b[0;32m~/Dropbox/prograceray/pysco-eft-testlin-modpoisson/pysco/multigrid.py:754\u001b[0m, in \u001b[0;36mF_cycle_FAS\u001b[0;34m(x, b, param, nlevel, rhs)\u001b[0m\n\u001b[1;32m    752\u001b[0m two \u001b[38;5;241m=\u001b[39m np\u001b[38;5;241m.\u001b[39mfloat32(\u001b[38;5;241m2\u001b[39m)\n\u001b[1;32m    753\u001b[0m \u001b[38;5;66;03m#print('Before sm1:',residual_error(x, b, h, param)) # debug\u001b[39;00m\n\u001b[0;32m--> 754\u001b[0m smoothing(x, b, h, param[\u001b[38;5;124m\"\u001b[39m\u001b[38;5;124mNpre\u001b[39m\u001b[38;5;124m\"\u001b[39m], param, rhs)\n\u001b[1;32m    755\u001b[0m \u001b[38;5;66;03m#print('After sm1:',residual_error(x, b, h, param)) # debug\u001b[39;00m\n\u001b[1;32m    756\u001b[0m \u001b[38;5;28;01mif\u001b[39;00m param[\u001b[38;5;124m'\u001b[39m\u001b[38;5;124mdomg\u001b[39m\u001b[38;5;124m'\u001b[39m]:\n",
      "File \u001b[0;32m~/Dropbox/prograceray/pysco-eft-testlin-modpoisson/pysco/multigrid.py:435\u001b[0m, in \u001b[0;36msmoothing\u001b[0;34m(x, b, h, n_smoothing, param, rhs)\u001b[0m\n\u001b[1;32m    432\u001b[0m \u001b[38;5;28;01melif\u001b[39;00m param[\u001b[38;5;124m\"\u001b[39m\u001b[38;5;124mcompute_additional_field\u001b[39m\u001b[38;5;124m\"\u001b[39m] \u001b[38;5;129;01mand\u001b[39;00m \u001b[38;5;124m\"\u001b[39m\u001b[38;5;124meft\u001b[39m\u001b[38;5;124m\"\u001b[39m \u001b[38;5;241m==\u001b[39m param[\u001b[38;5;124m\"\u001b[39m\u001b[38;5;124mtheory\u001b[39m\u001b[38;5;124m\"\u001b[39m]\u001b[38;5;241m.\u001b[39mcasefold() \u001b[38;5;129;01mand\u001b[39;00m (\u001b[38;5;129;01mnot\u001b[39;00m param[\u001b[38;5;124m\"\u001b[39m\u001b[38;5;124mnewton\u001b[39m\u001b[38;5;124m\"\u001b[39m]): \u001b[38;5;66;03m#change here\u001b[39;00m\n\u001b[1;32m    433\u001b[0m     \u001b[38;5;28;01mif\u001b[39;00m \u001b[38;5;28mlen\u001b[39m(rhs) \u001b[38;5;241m==\u001b[39m \u001b[38;5;241m0\u001b[39m:\n\u001b[1;32m    434\u001b[0m         \u001b[38;5;66;03m#print('eft nonrhs')\u001b[39;00m\n\u001b[0;32m--> 435\u001b[0m         quadratic\u001b[38;5;241m.\u001b[39msmoothing(x, b, h, \n\u001b[1;32m    436\u001b[0m                             param[\u001b[38;5;124m\"\u001b[39m\u001b[38;5;124mC2\u001b[39m\u001b[38;5;124m\"\u001b[39m], param[\u001b[38;5;124m\"\u001b[39m\u001b[38;5;124mC4\u001b[39m\u001b[38;5;124m\"\u001b[39m],\n\u001b[1;32m    437\u001b[0m                             param[\u001b[38;5;124m\"\u001b[39m\u001b[38;5;124malphaB\u001b[39m\u001b[38;5;124m\"\u001b[39m],param[\u001b[38;5;124m\"\u001b[39m\u001b[38;5;124malphaM\u001b[39m\u001b[38;5;124m\"\u001b[39m],\n\u001b[1;32m    438\u001b[0m                             param[\u001b[38;5;124m\"\u001b[39m\u001b[38;5;124mH\u001b[39m\u001b[38;5;124m\"\u001b[39m],\n\u001b[1;32m    439\u001b[0m                             param[\u001b[38;5;124m\"\u001b[39m\u001b[38;5;124maexp\u001b[39m\u001b[38;5;124m\"\u001b[39m],\n\u001b[1;32m    440\u001b[0m                             n_smoothing)\n\u001b[1;32m    441\u001b[0m     \u001b[38;5;28;01melse\u001b[39;00m:\n\u001b[1;32m    442\u001b[0m         \u001b[38;5;28mprint\u001b[39m(\u001b[38;5;124m'\u001b[39m\u001b[38;5;124mSmoothing RHS EFT\u001b[39m\u001b[38;5;124m'\u001b[39m)\n",
      "File \u001b[0;32m~/Dropbox/prograceray/pysco-eft-testlin-modpoisson/pysco/quadratic.py:589\u001b[0m, in \u001b[0;36msmoothing\u001b[0;34m(pi, b, h, C2, C4, alphaB, alphaM, H, a, n_smoothing)\u001b[0m\n\u001b[1;32m    569\u001b[0m \u001b[38;5;250m\u001b[39m\u001b[38;5;124;03m\"\"\"Smooth Chi field with several Jacobi iterations\u001b[39;00m\n\u001b[1;32m    570\u001b[0m \n\u001b[1;32m    571\u001b[0m \u001b[38;5;124;03mpi : npt.NDArray[np.float32]\u001b[39;00m\n\u001b[0;32m   (...)\u001b[0m\n\u001b[1;32m    585\u001b[0m \n\u001b[1;32m    586\u001b[0m \u001b[38;5;124;03m\"\"\"\u001b[39;00m\n\u001b[1;32m    588\u001b[0m \u001b[38;5;28;01mfor\u001b[39;00m _ \u001b[38;5;129;01min\u001b[39;00m \u001b[38;5;28mrange\u001b[39m(n_smoothing):\n\u001b[0;32m--> 589\u001b[0m     jacobi(pi, b, h, C2, C4, alphaB, alphaM, H, a)\n",
      "\u001b[0;31mKeyboardInterrupt\u001b[0m: "
     ]
    }
   ],
   "source": [
    "path = '.'\n",
    "\n",
    "param = pd.Series({\n",
    "    \"theory\": \"eft\",\n",
    "    \"alphaB0\": 0.1,\n",
    "    \"alphaM0\": 0.0,\n",
    "    \"extra\":'04_01',\n",
    "    \"nthreads\": 1,\n",
    "    \"H0\": 72,\n",
    "    \"Om_m\": 1.,\n",
    "    \"T_cmb\": 0.1,\n",
    "    \"N_eff\": 3.044,\n",
    "    \"w0\": -1.0,\n",
    "    \"wa\": 0.0,\n",
    "    \"boxlen\": 100,\n",
    "    \"ncoarse\": 6,\n",
    "    \"npart\": 64**3,\n",
    "    \"z_start\": 60,\n",
    "    \"seed\": 42,\n",
    "    \"position_ICS\": \"center\",\n",
    "    \"fixed_ICS\": False,\n",
    "    \"paired_ICS\": False,\n",
    "    \"dealiased_ICS\": False,\n",
    "    \"power_spectrum_file\": f\"{path}/pk_lcdmw7v2.dat\",\n",
    "    \"initial_conditions\": \"2LPT\",\n",
    "    \"base\": f\"{path}/smalln/\",\n",
    "    \"z_out\": \"[20,19,18,17,16,15,14,13,12,11,10,9,8,7,6,5,4,3,2,1,0.95,0.9,0.85,0.8,0.75,0.7,0.65,0.6,0.55,0.5,0.45,0.4,0.35,0.3,0.25,0.2,0.15,0.1,0.05,0]\",\n",
    "    \"output_snapshot_format\": \"HDF5\",\n",
    "    \"save_power_spectrum\": \"no\",\n",
    "    \"integrator\": \"leapfrog\",\n",
    "    \"n_reorder\": 50,\n",
    "    \"mass_scheme\": \"TSC\",\n",
    "    \"Courant_factor\": 1.0,\n",
    "    \"max_aexp_stepping\": 10,\n",
    "    \"linear_newton_solver\": \"multigrid\",\n",
    "    \"gradient_stencil_order\": 5,\n",
    "    \"Npre\": 2,\n",
    "    \"Npost\": 1,\n",
    "    \"domg\": True,\n",
    "    \"epsrel\": 1e-2,\n",
    "    \"verbose\": 1,\n",
    "    \"evolution_table\":'no',\n",
    "    \"Om_lambda\":0,\n",
    "    'newton': False\n",
    "    })\n",
    "\n",
    "main.run(param)"
   ]
  },
  {
   "cell_type": "code",
   "execution_count": null,
   "id": "745e13f5-a86b-4a56-b006-0e6a506f8f7b",
   "metadata": {},
   "outputs": [],
   "source": [
    "pwd"
   ]
  },
  {
   "cell_type": "code",
   "execution_count": null,
   "id": "12253e6e-2e12-4e89-a94b-c0ea49c2d8f8",
   "metadata": {},
   "outputs": [],
   "source": [
    "import numpy as np\n",
    "import matplotlib.pyplot as plt"
   ]
  },
  {
   "cell_type": "code",
   "execution_count": null,
   "id": "8f245db8-f29f-4115-974c-0ab46feafe97",
   "metadata": {},
   "outputs": [],
   "source": [
    "x = np.loadtxt('/Users/himanishganjoo/Dropbox/prograceray/pysco-eft/pysco/t5/power/pk_eft_multigrid_ncoarse6_00039.dat')\n",
    "plt.loglog(x[:,0],x[:,1],'.')\n",
    "\n",
    "x = np.loadtxt('/Users/himanishganjoo/Dropbox/prograceray/pysco-eft/pysco/t5/power/pk_newton_multigrid_ncoarse6_00039.dat')\n",
    "plt.loglog(x[:,0],x[:,1],'.')\n",
    "\n",
    "\n"
   ]
  },
  {
   "cell_type": "code",
   "execution_count": null,
   "id": "18c0644b-f819-404f-b213-67c3af37c818",
   "metadata": {},
   "outputs": [],
   "source": []
  }
 ],
 "metadata": {
  "kernelspec": {
   "display_name": "Python 3 (ipykernel)",
   "language": "python",
   "name": "python3"
  },
  "language_info": {
   "codemirror_mode": {
    "name": "ipython",
    "version": 3
   },
   "file_extension": ".py",
   "mimetype": "text/x-python",
   "name": "python",
   "nbconvert_exporter": "python",
   "pygments_lexer": "ipython3",
   "version": "3.12.7"
  }
 },
 "nbformat": 4,
 "nbformat_minor": 5
}
